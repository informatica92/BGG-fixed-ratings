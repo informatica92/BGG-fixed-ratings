{
 "cells": [
  {
   "cell_type": "code",
   "execution_count": 1,
   "metadata": {},
   "outputs": [],
   "source": [
    "# ## BGG API\n",
    "# https://www.boardgamegeek.com/xmlapi2/thing?id=161599&comments=1\n",
    "# https://www.boardgamegeek.com/xmlapi2/hot?type=boardgame\n",
    "# ## NLP WITH TF\n",
    "# https://www.tensorflow.org/hub/tutorials/tf2_text_classification"
   ]
  },
  {
   "cell_type": "code",
   "execution_count": 2,
   "metadata": {},
   "outputs": [
    {
     "name": "stdout",
     "output_type": "stream",
     "text": [
      "Version:      2.5.0\n",
      "Eager mode:   True\n",
      "Hub version:  0.12.0\n",
      "GPU:          available\n"
     ]
    }
   ],
   "source": [
    "import tensorflow as tf\n",
    "import tensorflow_hub as hub\n",
    "import tensorflow_datasets as tfds\n",
    "from tensorflow.keras.wrappers.scikit_learn import KerasRegressor, KerasClassifier\n",
    "from sklearn.model_selection import cross_val_score, cross_validate, GridSearchCV\n",
    "from sklearn.model_selection import KFold\n",
    "\n",
    "import xml.etree.ElementTree as Xet\n",
    "import matplotlib.pyplot as plt\n",
    "import pandas as pd\n",
    "import numpy as np\n",
    "import requests\n",
    "from IPython.display import Image, HTML\n",
    "from datetime import datetime\n",
    "from langdetect import detect\n",
    "import re\n",
    "import copy\n",
    "\n",
    "from utilities import get_hot_data, get_comments, remove_short_comments, build_model, print_my_examples\n",
    "\n",
    "print(\"Version:     \", tf.__version__)\n",
    "print(\"Eager mode:  \", tf.executing_eagerly())\n",
    "print(\"Hub version: \", hub.__version__)\n",
    "print(\"GPU:         \", \"available\" if tf.config.list_physical_devices('GPU') else \"NOT available\")\n",
    "\n",
    "tf.get_logger().setLevel('ERROR')"
   ]
  },
  {
   "cell_type": "code",
   "execution_count": 3,
   "metadata": {},
   "outputs": [],
   "source": [
    "# tf.debugging.set_log_device_placement(True)"
   ]
  },
  {
   "cell_type": "code",
   "execution_count": 4,
   "metadata": {},
   "outputs": [],
   "source": [
    "GOOD_REVIEW_THRESHOLD = 7"
   ]
  },
  {
   "cell_type": "code",
   "execution_count": 5,
   "metadata": {},
   "outputs": [],
   "source": [
    "VAL_FRACTION = 0.25"
   ]
  },
  {
   "cell_type": "code",
   "execution_count": 6,
   "metadata": {},
   "outputs": [],
   "source": [
    "MIN_COMMENT_LEN = 25"
   ]
  },
  {
   "cell_type": "code",
   "execution_count": 7,
   "metadata": {},
   "outputs": [],
   "source": [
    "TOP_N = 5"
   ]
  },
  {
   "cell_type": "code",
   "execution_count": 8,
   "metadata": {},
   "outputs": [],
   "source": [
    "# \"https://tfhub.dev/google/tf2-preview/nnlm-en-dim128/1\"\n",
    "# \"https://tfhub.dev/google/tf2-preview/nnlm-en-dim50/1\"\n",
    "# \"https://tfhub.dev/google/tf2-preview/nnlm-en-dim50-with-normalization/1\"\n",
    "# \"https://tfhub.dev/google/tf2-preview/nnlm-en-dim128-with-normalization/1\"\n",
    "MODEL_NAME = \"https://tfhub.dev/google/tf2-preview/nnlm-en-dim50/1\""
   ]
  },
  {
   "cell_type": "markdown",
   "metadata": {},
   "source": [
    "## GET DATA"
   ]
  },
  {
   "cell_type": "code",
   "execution_count": 11,
   "metadata": {},
   "outputs": [
    {
     "data": {
      "text/plain": [
       "[{'id': '331106',\n",
       "  'rank': '1',\n",
       "  'thumbnail': 'https://cf.geekdo-images.com/tQVVSXcmYLvAoI28cp-2Tg__thumb/img/ahKWaUSws5zja4feB4VexkNV3Mc=/fit-in/200x150/filters:strip_icc()/pic5974859.jpg',\n",
       "  'name': 'The Witcher: Old World',\n",
       "  'yearpublished': '2022'},\n",
       " {'id': '285192',\n",
       "  'rank': '2',\n",
       "  'thumbnail': 'https://cf.geekdo-images.com/oaD1ZQ3yGj6lacLdtqgdnQ__thumb/img/1mCz7HPEFMeqaqJHsDZwEUc9ftw=/fit-in/200x150/filters:strip_icc()/pic5558118.png',\n",
       "  'name': 'Destinies',\n",
       "  'yearpublished': '2021'}]"
      ]
     },
     "execution_count": 11,
     "metadata": {},
     "output_type": "execute_result"
    }
   ],
   "source": [
    "hot_array = get_hot_data()\n",
    "hot_array[:2]"
   ]
  },
  {
   "cell_type": "code",
   "execution_count": 12,
   "metadata": {},
   "outputs": [
    {
     "name": "stdout",
     "output_type": "stream",
     "text": [
      "reading dataframe from csv file...\n"
     ]
    },
    {
     "data": {
      "text/html": [
       "<div>\n",
       "<style scoped>\n",
       "    .dataframe tbody tr th:only-of-type {\n",
       "        vertical-align: middle;\n",
       "    }\n",
       "\n",
       "    .dataframe tbody tr th {\n",
       "        vertical-align: top;\n",
       "    }\n",
       "\n",
       "    .dataframe thead th {\n",
       "        text-align: right;\n",
       "    }\n",
       "</style>\n",
       "<table border=\"1\" class=\"dataframe\">\n",
       "  <thead>\n",
       "    <tr style=\"text-align: right;\">\n",
       "      <th></th>\n",
       "      <th>id</th>\n",
       "      <th>username</th>\n",
       "      <th>rating</th>\n",
       "      <th>value</th>\n",
       "    </tr>\n",
       "  </thead>\n",
       "  <tbody>\n",
       "    <tr>\n",
       "      <th>0</th>\n",
       "      <td>331106</td>\n",
       "      <td>Allethar</td>\n",
       "      <td>N/A</td>\n",
       "      <td>I played twice during testing phase - the vani...</td>\n",
       "    </tr>\n",
       "    <tr>\n",
       "      <th>1</th>\n",
       "      <td>331106</td>\n",
       "      <td>arnaud4matagot</td>\n",
       "      <td>9.0</td>\n",
       "      <td>tested online</td>\n",
       "    </tr>\n",
       "    <tr>\n",
       "      <th>2</th>\n",
       "      <td>331106</td>\n",
       "      <td>arsaghar</td>\n",
       "      <td>3.0</td>\n",
       "      <td>The game, apart from really nice figures and g...</td>\n",
       "    </tr>\n",
       "    <tr>\n",
       "      <th>3</th>\n",
       "      <td>331106</td>\n",
       "      <td>Baartoszz</td>\n",
       "      <td>8.0</td>\n",
       "      <td>Played near final prototype. Great combination...</td>\n",
       "    </tr>\n",
       "    <tr>\n",
       "      <th>4</th>\n",
       "      <td>331106</td>\n",
       "      <td>Bart1991</td>\n",
       "      <td>N/A</td>\n",
       "      <td>Backed on Kickstarter, hasn't arrived yet</td>\n",
       "    </tr>\n",
       "    <tr>\n",
       "      <th>...</th>\n",
       "      <td>...</td>\n",
       "      <td>...</td>\n",
       "      <td>...</td>\n",
       "      <td>...</td>\n",
       "    </tr>\n",
       "    <tr>\n",
       "      <th>93052</th>\n",
       "      <td>167791</td>\n",
       "      <td>z_zadar</td>\n",
       "      <td>9.0</td>\n",
       "      <td>Some games are so much fun. Others can be a li...</td>\n",
       "    </tr>\n",
       "    <tr>\n",
       "      <th>93053</th>\n",
       "      <td>167791</td>\n",
       "      <td>_Czid_</td>\n",
       "      <td>8.0</td>\n",
       "      <td>Have played with Elysium and Prelude expansion...</td>\n",
       "    </tr>\n",
       "    <tr>\n",
       "      <th>93054</th>\n",
       "      <td>167791</td>\n",
       "      <td>_Marty_</td>\n",
       "      <td>9.5</td>\n",
       "      <td>Fantastic game. With so many cards that can ch...</td>\n",
       "    </tr>\n",
       "    <tr>\n",
       "      <th>93055</th>\n",
       "      <td>167791</td>\n",
       "      <td>_mun_</td>\n",
       "      <td>10.0</td>\n",
       "      <td>Nagyon izgalmas játék, jó a mechanizmusa. A sz...</td>\n",
       "    </tr>\n",
       "    <tr>\n",
       "      <th>93056</th>\n",
       "      <td>167791</td>\n",
       "      <td>_The_Inquiry_</td>\n",
       "      <td>5.0</td>\n",
       "      <td>Prior to 2020: 2 plays  TM is one of those gam...</td>\n",
       "    </tr>\n",
       "  </tbody>\n",
       "</table>\n",
       "<p>93057 rows × 4 columns</p>\n",
       "</div>"
      ],
      "text/plain": [
       "           id        username rating  \\\n",
       "0      331106        Allethar    N/A   \n",
       "1      331106  arnaud4matagot    9.0   \n",
       "2      331106        arsaghar    3.0   \n",
       "3      331106       Baartoszz    8.0   \n",
       "4      331106        Bart1991    N/A   \n",
       "...       ...             ...    ...   \n",
       "93052  167791         z_zadar    9.0   \n",
       "93053  167791          _Czid_    8.0   \n",
       "93054  167791         _Marty_    9.5   \n",
       "93055  167791           _mun_   10.0   \n",
       "93056  167791   _The_Inquiry_    5.0   \n",
       "\n",
       "                                                   value  \n",
       "0      I played twice during testing phase - the vani...  \n",
       "1                                          tested online  \n",
       "2      The game, apart from really nice figures and g...  \n",
       "3      Played near final prototype. Great combination...  \n",
       "4              Backed on Kickstarter, hasn't arrived yet  \n",
       "...                                                  ...  \n",
       "93052  Some games are so much fun. Others can be a li...  \n",
       "93053  Have played with Elysium and Prelude expansion...  \n",
       "93054  Fantastic game. With so many cards that can ch...  \n",
       "93055  Nagyon izgalmas játék, jó a mechanizmusa. A sz...  \n",
       "93056  Prior to 2020: 2 plays  TM is one of those gam...  \n",
       "\n",
       "[93057 rows x 4 columns]"
      ]
     },
     "execution_count": 12,
     "metadata": {},
     "output_type": "execute_result"
    }
   ],
   "source": [
    "try:\n",
    "    comments_df = pd.read_csv(f\"comments_{datetime.now().strftime('%Y%m%d')}.csv\")\n",
    "    comments_df['rating'] = comments_df.rating.fillna('N/A')\n",
    "    print(\"reading dataframe from csv file...\")\n",
    "except:\n",
    "    print(\"missing csv file, getting new data using API...\")\n",
    "    comments_df = get_comments(hot_array, verbose=10)\n",
    "    comments_df.to_csv(f\"comments_{datetime.now().strftime('%Y%m%d')}.csv\", index=False)\n",
    "comments_df"
   ]
  },
  {
   "cell_type": "markdown",
   "metadata": {},
   "source": [
    "## DATA CLEANING"
   ]
  },
  {
   "cell_type": "code",
   "execution_count": 13,
   "metadata": {},
   "outputs": [],
   "source": [
    "# probably we should keep all the ratings (no matters the len) and remove only the simple comments under a certain len  "
   ]
  },
  {
   "cell_type": "code",
   "execution_count": 14,
   "metadata": {},
   "outputs": [],
   "source": [
    "comments_df[\"value\"] = comments_df[\"value\"].astype(str)"
   ]
  },
  {
   "cell_type": "code",
   "execution_count": 15,
   "metadata": {},
   "outputs": [],
   "source": [
    "# REMOVE URLs FROM COMMENTS"
   ]
  },
  {
   "cell_type": "code",
   "execution_count": 16,
   "metadata": {},
   "outputs": [],
   "source": [
    "comments_df['value'] = [re.sub(r\"http\\S+\", \"\", v) for v in comments_df.value.values]"
   ]
  },
  {
   "cell_type": "code",
   "execution_count": 18,
   "metadata": {},
   "outputs": [
    {
     "name": "stdout",
     "output_type": "stream",
     "text": [
      "removed 15415 for 'remove_short_comments' - min len: 25 - method: unrated\n"
     ]
    }
   ],
   "source": [
    "comments_df = remove_short_comments(comments_df, MIN_COMMENT_LEN)"
   ]
  },
  {
   "cell_type": "code",
   "execution_count": 19,
   "metadata": {},
   "outputs": [],
   "source": [
    "# REMOVE NON ENGLISH COMMENTS"
   ]
  },
  {
   "cell_type": "code",
   "execution_count": 20,
   "metadata": {},
   "outputs": [],
   "source": [
    "# !conda install -c conda-forge langdetect"
   ]
  },
  {
   "cell_type": "code",
   "execution_count": 21,
   "metadata": {},
   "outputs": [],
   "source": [
    "# def add_comments_lang(df: pd.DataFrame):\n",
    "#     df_local = df.copy()\n",
    "#     df_local['lang'] = df['value'].apply(detect)\n",
    "#     return df_local.reset_index(drop=True)"
   ]
  },
  {
   "cell_type": "code",
   "execution_count": 22,
   "metadata": {},
   "outputs": [],
   "source": [
    "# comments_df = add_comments_lang(comments_df)"
   ]
  },
  {
   "cell_type": "code",
   "execution_count": 23,
   "metadata": {},
   "outputs": [],
   "source": [
    "# comments_df = comments_df.query('lang == \"en\"')"
   ]
  },
  {
   "cell_type": "markdown",
   "metadata": {},
   "source": [
    "## SPLIT RATED AND NON-RATED COMMENTS"
   ]
  },
  {
   "cell_type": "code",
   "execution_count": 24,
   "metadata": {},
   "outputs": [
    {
     "data": {
      "text/plain": [
       "10.0       15004\n",
       "9.0        14397\n",
       "8.0        12237\n",
       "7.0         6891\n",
       "N/A         6516\n",
       "           ...  \n",
       "8.988          1\n",
       "3.75           1\n",
       "8.99621        1\n",
       "3.92           1\n",
       "8.5462         1\n",
       "Name: rating, Length: 514, dtype: int64"
      ]
     },
     "execution_count": 24,
     "metadata": {},
     "output_type": "execute_result"
    }
   ],
   "source": [
    "# count number of comments per rating (N/A included)\n",
    "comments_df.rating.value_counts()"
   ]
  },
  {
   "cell_type": "code",
   "execution_count": 25,
   "metadata": {},
   "outputs": [
    {
     "data": {
      "text/plain": [
       "(71126, 5)"
      ]
     },
     "execution_count": 25,
     "metadata": {},
     "output_type": "execute_result"
    }
   ],
   "source": [
    "# get rated comments only\n",
    "rated_comments = comments_df.query('rating != \"N/A\"')\n",
    "rated_comments.shape"
   ]
  },
  {
   "cell_type": "code",
   "execution_count": 26,
   "metadata": {},
   "outputs": [
    {
     "data": {
      "text/plain": [
       "(6516, 5)"
      ]
     },
     "execution_count": 26,
     "metadata": {},
     "output_type": "execute_result"
    }
   ],
   "source": [
    "# get non rated comments only\n",
    "not_rated_comments = comments_df.query('rating == \"N/A\"').reset_index(drop=True)\n",
    "not_rated_comments.shape"
   ]
  },
  {
   "cell_type": "markdown",
   "metadata": {},
   "source": [
    "## CREATE TRAINING AND VALIDATION DATA"
   ]
  },
  {
   "cell_type": "code",
   "execution_count": 27,
   "metadata": {},
   "outputs": [],
   "source": [
    "# use rated comments (reviews) to train the model"
   ]
  },
  {
   "cell_type": "code",
   "execution_count": 28,
   "metadata": {},
   "outputs": [],
   "source": [
    "rated_comments = rated_comments.sample(frac=1)"
   ]
  },
  {
   "cell_type": "code",
   "execution_count": 29,
   "metadata": {},
   "outputs": [],
   "source": [
    "# create training X and y\n",
    "train_examples = list(rated_comments.value)\n",
    "train_labels = list((rated_comments.rating.astype(float)>=GOOD_REVIEW_THRESHOLD).astype(int))"
   ]
  },
  {
   "cell_type": "code",
   "execution_count": 30,
   "metadata": {},
   "outputs": [
    {
     "name": "stdout",
     "output_type": "stream",
     "text": [
      "example of positive rating:\n"
     ]
    },
    {
     "data": {
      "text/plain": [
       "'After a single play, I love this. Aesthetically pleasing. Easy to learn. Tons of depth. Just overall, really nice. Even the theme feels right (somehow...). Well done, kudos to everyone involved.'"
      ]
     },
     "execution_count": 30,
     "metadata": {},
     "output_type": "execute_result"
    }
   ],
   "source": [
    "print(\"example of positive rating:\")\n",
    "train_examples[train_labels.index(1)]"
   ]
  },
  {
   "cell_type": "code",
   "execution_count": 31,
   "metadata": {},
   "outputs": [
    {
     "name": "stdout",
     "output_type": "stream",
     "text": [
      "example of negative rating:\n"
     ]
    },
    {
     "data": {
      "text/plain": [
       "'The components are great, but the gameplay is definitely not mine.'"
      ]
     },
     "execution_count": 31,
     "metadata": {},
     "output_type": "execute_result"
    }
   ],
   "source": [
    "print(\"example of negative rating:\")\n",
    "train_examples[train_labels.index(0)]"
   ]
  },
  {
   "cell_type": "markdown",
   "metadata": {},
   "source": [
    "## COMPOSE MODEL"
   ]
  },
  {
   "cell_type": "code",
   "execution_count": 32,
   "metadata": {},
   "outputs": [],
   "source": [
    "hub_layer = hub.KerasLayer(MODEL_NAME, input_shape=[], dtype=tf.string, trainable=True)"
   ]
  },
  {
   "cell_type": "markdown",
   "metadata": {},
   "source": [
    "## CLASSIFIER"
   ]
  },
  {
   "cell_type": "code",
   "execution_count": 34,
   "metadata": {},
   "outputs": [
    {
     "name": "stdout",
     "output_type": "stream",
     "text": [
      "Epoch 1/100\n",
      "70/70 - 5s - loss: 0.5739 - accuracy: 0.7232 - val_loss: 0.4628 - val_accuracy: 0.8456\n",
      "Epoch 2/100\n",
      "70/70 - 3s - loss: 0.4044 - accuracy: 0.8521 - val_loss: 0.3727 - val_accuracy: 0.8564\n",
      "Epoch 3/100\n",
      "70/70 - 3s - loss: 0.3228 - accuracy: 0.8748 - val_loss: 0.3319 - val_accuracy: 0.8691\n",
      "Epoch 4/100\n",
      "70/70 - 4s - loss: 0.2733 - accuracy: 0.8947 - val_loss: 0.3188 - val_accuracy: 0.8730\n",
      "Epoch 5/100\n",
      "70/70 - 3s - loss: 0.2367 - accuracy: 0.9093 - val_loss: 0.3206 - val_accuracy: 0.8733\n",
      "Epoch 6/100\n",
      "70/70 - 3s - loss: 0.2073 - accuracy: 0.9228 - val_loss: 0.3289 - val_accuracy: 0.8708\n",
      "Epoch 7/100\n",
      "70/70 - 3s - loss: 0.1834 - accuracy: 0.9334 - val_loss: 0.3456 - val_accuracy: 0.8675\n",
      "Epoch 8/100\n",
      "70/70 - 3s - loss: 0.1631 - accuracy: 0.9426 - val_loss: 0.3674 - val_accuracy: 0.8639\n",
      "Epoch 9/100\n",
      "70/70 - 3s - loss: 0.1463 - accuracy: 0.9492 - val_loss: 0.3928 - val_accuracy: 0.8587\n",
      "47/47 - 0s - loss: 0.3916 - accuracy: 0.8579\n",
      "Epoch 1/100\n",
      "70/70 - 4s - loss: 0.5139 - accuracy: 0.8284 - val_loss: 0.4307 - val_accuracy: 0.8500\n",
      "Epoch 2/100\n",
      "70/70 - 3s - loss: 0.3718 - accuracy: 0.8527 - val_loss: 0.3511 - val_accuracy: 0.8580\n",
      "Epoch 3/100\n",
      "70/70 - 3s - loss: 0.3009 - accuracy: 0.8768 - val_loss: 0.3236 - val_accuracy: 0.8703\n",
      "Epoch 4/100\n",
      "70/70 - 3s - loss: 0.2568 - accuracy: 0.8974 - val_loss: 0.3157 - val_accuracy: 0.8736\n",
      "Epoch 5/100\n",
      "70/70 - 3s - loss: 0.2220 - accuracy: 0.9118 - val_loss: 0.3236 - val_accuracy: 0.8749\n",
      "Epoch 6/100\n",
      "70/70 - 4s - loss: 0.1933 - accuracy: 0.9249 - val_loss: 0.3377 - val_accuracy: 0.8712\n",
      "Epoch 7/100\n",
      "70/70 - 3s - loss: 0.1707 - accuracy: 0.9363 - val_loss: 0.3580 - val_accuracy: 0.8665\n",
      "Epoch 8/100\n",
      "70/70 - 3s - loss: 0.1517 - accuracy: 0.9446 - val_loss: 0.3827 - val_accuracy: 0.8628\n",
      "Epoch 9/100\n",
      "70/70 - 4s - loss: 0.1364 - accuracy: 0.9518 - val_loss: 0.4113 - val_accuracy: 0.8604\n",
      "Epoch 10/100\n",
      "70/70 - 3s - loss: 0.1231 - accuracy: 0.9574 - val_loss: 0.4351 - val_accuracy: 0.8529\n",
      "47/47 - 0s - loss: 0.4319 - accuracy: 0.8531\n",
      "Epoch 1/100\n",
      "70/70 - 4s - loss: 0.5452 - accuracy: 0.8050 - val_loss: 0.4553 - val_accuracy: 0.8491\n",
      "Epoch 2/100\n",
      "70/70 - 4s - loss: 0.3924 - accuracy: 0.8523 - val_loss: 0.3572 - val_accuracy: 0.8583\n",
      "Epoch 3/100\n",
      "70/70 - 4s - loss: 0.3086 - accuracy: 0.8762 - val_loss: 0.3270 - val_accuracy: 0.8687\n",
      "Epoch 4/100\n",
      "70/70 - 4s - loss: 0.2605 - accuracy: 0.8972 - val_loss: 0.3208 - val_accuracy: 0.8709\n",
      "Epoch 5/100\n",
      "70/70 - 4s - loss: 0.2264 - accuracy: 0.9128 - val_loss: 0.3244 - val_accuracy: 0.8700\n",
      "Epoch 6/100\n",
      "70/70 - 4s - loss: 0.1977 - accuracy: 0.9252 - val_loss: 0.3362 - val_accuracy: 0.8655\n",
      "Epoch 7/100\n",
      "70/70 - 3s - loss: 0.1748 - accuracy: 0.9351 - val_loss: 0.3545 - val_accuracy: 0.8635\n",
      "Epoch 8/100\n",
      "70/70 - 3s - loss: 0.1554 - accuracy: 0.9429 - val_loss: 0.3772 - val_accuracy: 0.8571\n",
      "Epoch 9/100\n",
      "70/70 - 3s - loss: 0.1393 - accuracy: 0.9489 - val_loss: 0.4039 - val_accuracy: 0.8551\n",
      "47/47 - 0s - loss: 0.4061 - accuracy: 0.8587\n",
      "Epoch 1/100\n",
      "105/105 - 6s - loss: 0.4861 - accuracy: 0.8318 - val_loss: 0.3845 - val_accuracy: 0.8543\n",
      "Epoch 2/100\n",
      "105/105 - 5s - loss: 0.3347 - accuracy: 0.8677 - val_loss: 0.3234 - val_accuracy: 0.8740\n",
      "Epoch 3/100\n",
      "105/105 - 5s - loss: 0.2760 - accuracy: 0.8903 - val_loss: 0.3102 - val_accuracy: 0.8776\n",
      "Epoch 4/100\n",
      "105/105 - 5s - loss: 0.2397 - accuracy: 0.9060 - val_loss: 0.3150 - val_accuracy: 0.8761\n",
      "Epoch 5/100\n",
      "105/105 - 5s - loss: 0.2137 - accuracy: 0.9165 - val_loss: 0.3249 - val_accuracy: 0.8726\n",
      "Epoch 6/100\n",
      "105/105 - 5s - loss: 0.1926 - accuracy: 0.9262 - val_loss: 0.3414 - val_accuracy: 0.8691\n",
      "Epoch 7/100\n",
      "105/105 - 5s - loss: 0.1749 - accuracy: 0.9336 - val_loss: 0.3601 - val_accuracy: 0.8660\n",
      "Epoch 8/100\n",
      "105/105 - 5s - loss: 0.1616 - accuracy: 0.9397 - val_loss: 0.3809 - val_accuracy: 0.8619\n"
     ]
    },
    {
     "data": {
      "text/plain": [
       "GridSearchCV(cv=3,\n",
       "             estimator=<tensorflow.python.keras.wrappers.scikit_learn.KerasClassifier object at 0x0000021690DE2F40>,\n",
       "             param_grid={})"
      ]
     },
     "execution_count": 34,
     "metadata": {},
     "output_type": "execute_result"
    }
   ],
   "source": [
    "def build_classifier():\n",
    "    return build_model(hub_layer=None, pre_trained_model_name=MODEL_NAME, model_type='classifier', verbose=0)\n",
    "\n",
    "\n",
    "estimator = KerasClassifier(build_fn=build_classifier, epochs=100, batch_size=512, verbose=2, validation_split=VAL_FRACTION)\n",
    "x_train_clf = np.array(list(rated_comments.value))\n",
    "y_train_clf = np.array(list((rated_comments.rating.astype(float)>=GOOD_REVIEW_THRESHOLD).astype(int)))\n",
    "\n",
    "clf = GridSearchCV(\n",
    "    estimator, \n",
    "    cv=3, \n",
    "    param_grid={}\n",
    ")\n",
    "clf.fit(x_train_clf, y_train_clf, callbacks=[tf.keras.callbacks.EarlyStopping(monitor='val_accuracy', patience=5, min_delta=0.001)])"
   ]
  },
  {
   "cell_type": "code",
   "execution_count": 35,
   "metadata": {},
   "outputs": [],
   "source": [
    "classifier = clf.best_estimator_\n",
    "classifier_history_dict = classifier.model.history.history"
   ]
  },
  {
   "cell_type": "code",
   "execution_count": 36,
   "metadata": {},
   "outputs": [
    {
     "data": {
      "text/plain": [
       "dict_keys(['loss', 'accuracy', 'val_loss', 'val_accuracy'])"
      ]
     },
     "execution_count": 36,
     "metadata": {},
     "output_type": "execute_result"
    }
   ],
   "source": [
    "classifier_history_dict.keys()"
   ]
  },
  {
   "cell_type": "code",
   "execution_count": 37,
   "metadata": {},
   "outputs": [],
   "source": [
    "acc = classifier_history_dict['accuracy']\n",
    "val_acc = classifier_history_dict['val_accuracy']\n",
    "loss = classifier_history_dict['loss']\n",
    "val_loss = classifier_history_dict['val_loss']"
   ]
  },
  {
   "cell_type": "code",
   "execution_count": 38,
   "metadata": {},
   "outputs": [],
   "source": [
    "epochs = range(1, len(acc) + 1) "
   ]
  },
  {
   "cell_type": "code",
   "execution_count": 39,
   "metadata": {},
   "outputs": [
    {
     "data": {
      "image/png": "[encoded data removed]",
      "text/plain": [
       "<Figure size 648x360 with 1 Axes>"
      ]
     },
     "metadata": {
      "needs_background": "light"
     },
     "output_type": "display_data"
    }
   ],
   "source": [
    "# \"bo\" is for \"blue dot\"\n",
    "plt.figure(figsize=(9, 5))\n",
    "plt.plot(epochs, loss, 'bo', label='Training loss')\n",
    "# b is for \"solid blue line\"\n",
    "plt.plot(epochs, val_loss, 'b', label='Validation loss')\n",
    "plt.title('Training and validation loss')\n",
    "plt.xlabel('Epochs')\n",
    "plt.ylabel('Loss')\n",
    "plt.grid(True)\n",
    "plt.legend()\n",
    "\n",
    "plt.show()"
   ]
  },
  {
   "cell_type": "code",
   "execution_count": 40,
   "metadata": {},
   "outputs": [
    {
     "data": {
      "image/png": "[encoded data removed]",
      "text/plain": [
       "<Figure size 648x360 with 1 Axes>"
      ]
     },
     "metadata": {
      "needs_background": "light"
     },
     "output_type": "display_data"
    }
   ],
   "source": [
    "plt.figure(figsize=(9, 5))\n",
    "plt.plot(epochs, acc, 'bo', label='Training acc')\n",
    "plt.plot(epochs, val_acc, 'b', label='Validation acc')\n",
    "plt.title('Training and validation accuracy')\n",
    "plt.xlabel('Epochs')\n",
    "plt.ylabel('Accuracy')\n",
    "plt.grid(True)\n",
    "plt.legend()\n",
    "\n",
    "plt.show()"
   ]
  },
  {
   "cell_type": "code",
   "execution_count": 42,
   "metadata": {},
   "outputs": [
    {
     "name": "stdout",
     "output_type": "stream",
     "text": [
      "input:\n",
      "\"After a single play, I love this. Aesthetically pleasing. Easy to learn. Tons of depth. Just overall, really nice. Even the theme feels right (somehow...). Well done, kudos to everyone involved.\"\n",
      "score: 1.000000\n",
      "actual value:1\n",
      "\n",
      "input:\n",
      "\"Only one play in, but great gaming experience! It does take some time depending if you include the extra project cards. The player mats get a bit crowded and can easily be bumped. I highly recommend doing the card draft (in the rules), it can really help you get useful cards. Rulebook a bit disjointed, you have to flip back and forth to find the rule you need. Also don't bother with the beginner corporations, the theme of the different corporation cards will help determine your game strategy ... go for planting forests or microbe research or nuclear bombs.  Edit: Played 2 player without the Corporate Era project cards which, while making the game a little less complex, sped up the game quite a bit. The draft still worked, but it gets less important as you have less players. My brother in law won by beating me to the Milestones.\"\n",
      "score: 1.000000\n",
      "actual value:1\n",
      "\n",
      "input:\n",
      "\"I think it is the best game I ever played, I always want more and more\"\n",
      "score: 1.000000\n",
      "actual value:1\n",
      "\n",
      "input:\n",
      "\"The components are great, but the gameplay is definitely not mine.\"\n",
      "score: 1.000000\n",
      "actual value:0\n",
      "\n",
      "input:\n",
      "\"Super fun, really light game with absolutely stunning graphics. I love the multiple ways to play (try and play birds in all areas, focus on one area). Really impressed with this game!\"\n",
      "score: 1.000000\n",
      "actual value:1\n",
      "\n",
      "input:\n",
      "\"Wow this game looks amazing despite being so simple. MUST HAVE!\"\n",
      "score: 1.000000\n",
      "actual value:1\n",
      "\n",
      "input:\n",
      "\"El juego tiene un punto divertido pero es una locura en la que subes y bajas sin planificación posible, a no ser que no luches y te lo tomes como un euro.\"\n",
      "score: 0.000000\n",
      "actual value:0\n",
      "\n",
      "input:\n",
      "\"For a coop? Not bad. A euro game without alpha gamer problem.\"\n",
      "score: 1.000000\n",
      "actual value:1\n",
      "\n",
      "input:\n",
      "\"Really enjoyable with a lot of replay.  Each game requires you to develop a strategy based on what you are dealt.\"\n",
      "score: 1.000000\n",
      "actual value:1\n",
      "\n",
      "input:\n",
      "\"Have to play it again\"\n",
      "score: 1.000000\n",
      "actual value:1\n"
     ]
    },
    {
     "name": "stderr",
     "output_type": "stream",
     "text": [
      "C:\\Users\\dev999\\.conda\\envs\\tensorflow2\\lib\\site-packages\\tensorflow\\python\\keras\\engine\\sequential.py:455: UserWarning: `model.predict_classes()` is deprecated and will be removed after 2021-01-01. Please use instead:* `np.argmax(model.predict(x), axis=-1)`,   if your model does multi-class classification   (e.g. if it uses a `softmax` last-layer activation).* `(model.predict(x) > 0.5).astype(\"int32\")`,   if your model does binary classification   (e.g. if it uses a `sigmoid` last-layer activation).\n",
      "  warnings.warn('`model.predict_classes()` is deprecated and '\n"
     ]
    }
   ],
   "source": [
    "inputs = x_train_clf[:10]\n",
    "outputs = y_train_clf[:10]\n",
    "results = classifier.predict(tf.constant(inputs), verbose=0)\n",
    "print_my_examples(inputs, results, outputs)"
   ]
  },
  {
   "cell_type": "code",
   "execution_count": 43,
   "metadata": {},
   "outputs": [],
   "source": [
    "## APPLY MODEL ON NON-RATED COMMENTS"
   ]
  },
  {
   "cell_type": "code",
   "execution_count": 44,
   "metadata": {},
   "outputs": [
    {
     "name": "stdout",
     "output_type": "stream",
     "text": [
      "13/13 - 0s\n",
      "input:\n",
      "\"P: 1-5, T: 90-120 min Work of Art; super high production value, artwork, minis, components (especially with collector's edition). Asymmetrical player mats (a.la Terra Mystica, which draws a fair comparison on paper) Engine building, area control. Low luck elements, player decisions have high impact. -Heavy Euro game, plays longer than advertised. A 4X game that doesn't do all of it all that well; not a fan of the random/bidding combat (nor tactics rewarding piling on the weakest player). Theme is fairly weak apart from the artwork. Despite the individual player powers a criticism suggests a railroaded race of efficiency with replayability concerns. Price/availability concerns?\"\n",
      "score: 1.000000\n",
      "\n",
      "input:\n",
      "\"Essen 2013. Boîte plastifiée. Protections cartes : MG Euro. Règles VF OK.\"\n",
      "score: 1.000000\n",
      "\n",
      "input:\n",
      "\"Sleeves: Rebel Standard USA Premium (56/87 mm)\"\n",
      "score: 1.000000\n",
      "\n",
      "input:\n",
      "\"Kickstarter  Voraussichtl. Lieferung August 2017\"\n",
      "score: 1.000000\n",
      "\n",
      "input:\n",
      "\"The trailer for this game is gorgeous! I really wanna try this game!\"\n",
      "score: 1.000000\n",
      "\n",
      "input:\n",
      "\"highly recommended 2+ player game on reddit. pretty art. good replayability.\"\n",
      "score: 1.000000\n",
      "\n",
      "input:\n",
      "\"3.1 avg wt, 1-4, best with 2-4, 60-120 minutes  Fantasy  Co-operative Play Grid Movement Hand Management Modular Board Simultaneous Action Selection Variable Player Powers\"\n",
      "score: 1.000000\n",
      "\n",
      "input:\n",
      "\"I AM BUNNY AND I NEED THIS GAME. thank you \"\n",
      "score: 1.000000\n",
      "\n",
      "input:\n",
      "\"Collector's Edition.  Played one time.\"\n",
      "score: 1.000000\n",
      "\n",
      "input:\n",
      "\"1-4 Players (w/ Tides of Ruin Expansion)\"\n",
      "score: 1.000000\n"
     ]
    }
   ],
   "source": [
    "not_rated_comments = not_rated_comments.sample(frac=1)\n",
    "results = classifier.predict(tf.constant(list(not_rated_comments.value.astype(str))))\n",
    "print_my_examples(list(not_rated_comments.value), results, limit=10)"
   ]
  },
  {
   "cell_type": "markdown",
   "metadata": {},
   "source": [
    "## REGRESSOR"
   ]
  },
  {
   "cell_type": "code",
   "execution_count": 45,
   "metadata": {},
   "outputs": [
    {
     "data": {
      "text/plain": [
       "GridSearchCV(cv=3,\n",
       "             estimator=<tensorflow.python.keras.wrappers.scikit_learn.KerasRegressor object at 0x0000021AAF9B80A0>,\n",
       "             param_grid={})"
      ]
     },
     "execution_count": 45,
     "metadata": {},
     "output_type": "execute_result"
    }
   ],
   "source": [
    "def build_regressor():\n",
    "    return build_model(hub_layer, pre_trained_model_name=MODEL_NAME, model_type='regressor', verbose=0)\n",
    "\n",
    "\n",
    "estimator = KerasRegressor(build_fn=build_regressor, epochs=100, batch_size=512, verbose=0, validation_split=VAL_FRACTION)\n",
    "x_train_reg = np.array(list(rated_comments.value))\n",
    "y_train_reg = np.array(list(rated_comments.rating.astype(float)))\n",
    "\n",
    "clf = GridSearchCV(\n",
    "    estimator, \n",
    "    cv=3, \n",
    "    param_grid={}\n",
    ")\n",
    "clf.fit(x_train_reg, y_train_reg, callbacks=[tf.keras.callbacks.EarlyStopping(monitor='val_mean_squared_error', patience=5, min_delta=0.001)])"
   ]
  },
  {
   "cell_type": "code",
   "execution_count": 46,
   "metadata": {},
   "outputs": [],
   "source": [
    "regressor = clf.best_estimator_\n",
    "regressor_history_dict = regressor.model.history.history"
   ]
  },
  {
   "cell_type": "code",
   "execution_count": 47,
   "metadata": {},
   "outputs": [
    {
     "data": {
      "text/plain": [
       "dict_keys(['loss', 'mean_squared_error', 'val_loss', 'val_mean_squared_error'])"
      ]
     },
     "execution_count": 47,
     "metadata": {},
     "output_type": "execute_result"
    }
   ],
   "source": [
    "regressor_history_dict.keys()"
   ]
  },
  {
   "cell_type": "code",
   "execution_count": 48,
   "metadata": {},
   "outputs": [],
   "source": [
    "mean_squared_error = regressor_history_dict['mean_squared_error']\n",
    "val_mean_squared_error = regressor_history_dict['val_mean_squared_error']\n",
    "loss = regressor_history_dict['loss']\n",
    "val_loss = regressor_history_dict['val_loss']"
   ]
  },
  {
   "cell_type": "code",
   "execution_count": 49,
   "metadata": {},
   "outputs": [],
   "source": [
    "epochs = range(1, len(mean_squared_error) + 1) "
   ]
  },
  {
   "cell_type": "code",
   "execution_count": 50,
   "metadata": {},
   "outputs": [
    {
     "name": "stdout",
     "output_type": "stream",
     "text": [
      "MEAN SQUARED ERROR (VALIDATION SET): 2.59\n"
     ]
    }
   ],
   "source": [
    "print(f\"MEAN SQUARED ERROR (VALIDATION SET): {val_mean_squared_error[-1]:.2f}\")"
   ]
  },
  {
   "cell_type": "code",
   "execution_count": 51,
   "metadata": {},
   "outputs": [
    {
     "name": "stdout",
     "output_type": "stream",
     "text": [
      "MEAN SQUARED ERROR (TRAINING SET): 1.02\n"
     ]
    }
   ],
   "source": [
    "print(f\"MEAN SQUARED ERROR (TRAINING SET): {mean_squared_error[-1]:.2f}\")"
   ]
  },
  {
   "cell_type": "code",
   "execution_count": 52,
   "metadata": {},
   "outputs": [
    {
     "data": {
      "image/png": "[encoded data removed]",
      "text/plain": [
       "<Figure size 648x360 with 1 Axes>"
      ]
     },
     "metadata": {
      "needs_background": "light"
     },
     "output_type": "display_data"
    }
   ],
   "source": [
    "# \"bo\" is for \"blue dot\"\n",
    "plt.figure(figsize=(9, 5))\n",
    "plt.plot(epochs, loss, 'bo', label='Training loss')\n",
    "# b is for \"solid blue line\"\n",
    "plt.plot(epochs, val_loss, 'b', label='Validation loss')\n",
    "plt.title('Training and validation loss')\n",
    "plt.xlabel('Epochs')\n",
    "plt.ylabel('Loss')\n",
    "plt.grid(True)\n",
    "plt.legend()\n",
    "\n",
    "plt.show()"
   ]
  },
  {
   "cell_type": "code",
   "execution_count": 53,
   "metadata": {},
   "outputs": [
    {
     "data": {
      "image/png": "[encoded data removed]",
      "text/plain": [
       "<Figure size 648x360 with 1 Axes>"
      ]
     },
     "metadata": {
      "needs_background": "light"
     },
     "output_type": "display_data"
    }
   ],
   "source": [
    "plt.figure(figsize=(9, 5))\n",
    "plt.plot(epochs, mean_squared_error, 'bo', label='Training mean squared error')\n",
    "plt.plot(epochs, val_mean_squared_error, 'b', label='Validation mean squared error')\n",
    "plt.title('Training and validation accuracy')\n",
    "plt.xlabel('Epochs')\n",
    "plt.ylabel('Mean squared error')\n",
    "plt.grid(True)\n",
    "plt.legend()\n",
    "\n",
    "plt.show()"
   ]
  },
  {
   "cell_type": "code",
   "execution_count": 54,
   "metadata": {},
   "outputs": [
    {
     "name": "stdout",
     "output_type": "stream",
     "text": [
      "input: \n",
      "\"After a single play, I love this. Aesthetically pleasing. Easy to learn. Tons of depth. Just overall, really nice. Even the theme feels right (somehow...). Well done, kudos to everyone involved.\"\n",
      "score: 9.02\n",
      "actual: 9.20 \n",
      "\n",
      "input: \n",
      "\"Only one play in, but great gaming experience! It does take some time depending if you include the extra project cards. The player mats get a bit crowded and can easily be bumped. I highly recommend doing the card draft (in the rules), it can really help you get useful cards. Rulebook a bit disjointed, you have to flip back and forth to find the rule you need. Also don't bother with the beginner corporations, the theme of the different corporation cards will help determine your game strategy ... go for planting forests or microbe research or nuclear bombs.  Edit: Played 2 player without the Corporate Era project cards which, while making the game a little less complex, sped up the game quite a bit. The draft still worked, but it gets less important as you have less players. My brother in law won by beating me to the Milestones.\"\n",
      "score: 9.06\n",
      "actual: 9.00 \n",
      "\n",
      "input: \n",
      "\"I think it is the best game I ever played, I always want more and more\"\n",
      "score: 9.27\n",
      "actual: 10.00 \n",
      "\n",
      "input: \n",
      "\"The components are great, but the gameplay is definitely not mine.\"\n",
      "score: 7.55\n",
      "actual: 6.00 \n",
      "\n",
      "input: \n",
      "\"Super fun, really light game with absolutely stunning graphics. I love the multiple ways to play (try and play birds in all areas, focus on one area). Really impressed with this game!\"\n",
      "score: 9.84\n",
      "actual: 9.50 \n",
      "\n",
      "input: \n",
      "\"Wow this game looks amazing despite being so simple. MUST HAVE!\"\n",
      "score: 9.94\n",
      "actual: 8.00 \n",
      "\n",
      "input: \n",
      "\"El juego tiene un punto divertido pero es una locura en la que subes y bajas sin planificación posible, a no ser que no luches y te lo tomes como un euro.\"\n",
      "score: 5.02\n",
      "actual: 5.00 \n",
      "\n",
      "input: \n",
      "\"For a coop? Not bad. A euro game without alpha gamer problem.\"\n",
      "score: 7.20\n",
      "actual: 7.00 \n",
      "\n",
      "input: \n",
      "\"Really enjoyable with a lot of replay.  Each game requires you to develop a strategy based on what you are dealt.\"\n",
      "score: 8.74\n",
      "actual: 10.00 \n",
      "\n",
      "input: \n",
      "\"Have to play it again\"\n",
      "score: 7.63\n",
      "actual: 8.00 \n",
      "\n"
     ]
    }
   ],
   "source": [
    "inputs = x_train_reg[:10]\n",
    "outputs = y_train_reg[:10]\n",
    "results = clf.best_estimator_.predict(tf.constant(inputs), verbose=0)\n",
    "for i in range(len(inputs)):\n",
    "    print(f\"input: \\n\\\"{inputs[i]}\\\"\\nscore: {results[i]:.2f}\\nactual: {outputs[i]:.2f} \\n\")"
   ]
  },
  {
   "cell_type": "markdown",
   "metadata": {},
   "source": [
    "## COMPARE CLASSIFIER VS REGRESSOR"
   ]
  },
  {
   "cell_type": "code",
   "execution_count": 55,
   "metadata": {},
   "outputs": [
    {
     "name": "stdout",
     "output_type": "stream",
     "text": [
      "\"1 year waiting... I hope it will be worth it! :)\"\n",
      "    reg score: 9.31\n",
      "    clf score: 1\n",
      "\n",
      "\"Seems to be a good game, looks good, components are good and so on. There is an idea in the game and I'm looking forward for more plays. The game needs fast players to stay enjoyable, I think.  The players are families on the Mediterranean area, building cities, producing goods, trading them and so on. In the end everything is converted to the points.\"\n",
      "    reg score: 8.02\n",
      "    clf score: 1\n",
      "\n",
      "\"Played this 3 times in Summer 2019. A bit \"dark\"/nightmare-inducing but only minimally. Fun story. Not a ton of replayability in my opinion but Eric may disagree. Research told me it was more highly rated than the original Arkham Horror/less setup, and that seems to be true.\"\n",
      "    reg score: 7.14\n",
      "    clf score: 1\n",
      "\n",
      "\"Crazy popular, but I'm not convinced by the theme, apparently has AWESOME automa for solo play\"\n",
      "    reg score: 7.80\n",
      "    clf score: 1\n",
      "\n",
      "\"Folded Space Insert Mayday Green P Sleeves\"\n",
      "    reg score: 8.51\n",
      "    clf score: 1\n",
      "\n",
      "\"too expensive price in south korea.\"\n",
      "    reg score: 2.90\n",
      "    clf score: 0\n",
      "\n",
      "\"local trades only at this time, sorry!\"\n",
      "    reg score: 2.66\n",
      "    clf score: 0\n",
      "\n",
      "\"Playing Time: 1.5 hours Best with 2-5 players (max 5)\"\n",
      "    reg score: 9.22\n",
      "    clf score: 1\n",
      "\n",
      "\"Bought a copy from APEK spring sale 2021-05-05.\"\n",
      "    reg score: 7.26\n",
      "    clf score: 1\n",
      "\n",
      "\"2 - 4 players (best 3 - 4), 90 min, Age: 12+  Paris is a typical medium-weight Kramer and Kiesling Eurostyle-game with straightforward gameplay, short player turns, and an ingenious point salad mechanism. You mainly score points by obtaining the right buildings and collecting the right bonus cards\"\n",
      "    reg score: 8.44\n",
      "    clf score: 1\n",
      "\n"
     ]
    },
    {
     "name": "stderr",
     "output_type": "stream",
     "text": [
      "C:\\Users\\dev999\\.conda\\envs\\tensorflow2\\lib\\site-packages\\tensorflow\\python\\keras\\engine\\sequential.py:455: UserWarning: `model.predict_classes()` is deprecated and will be removed after 2021-01-01. Please use instead:* `np.argmax(model.predict(x), axis=-1)`,   if your model does multi-class classification   (e.g. if it uses a `softmax` last-layer activation).* `(model.predict(x) > 0.5).astype(\"int32\")`,   if your model does binary classification   (e.g. if it uses a `sigmoid` last-layer activation).\n",
      "  warnings.warn('`model.predict_classes()` is deprecated and '\n"
     ]
    }
   ],
   "source": [
    "not_rated_comments = not_rated_comments.sample(frac=1)\n",
    "inputs = list(not_rated_comments.value.astype(str))[:10]\n",
    "\n",
    "clf_results = classifier.predict(inputs, verbose=0)\n",
    "reg_results = regressor.predict(inputs, verbose=0)\n",
    "for i in range(len(inputs)):\n",
    "    print(f\"\"\"\\\"{inputs[i]}\\\"\n",
    "    reg score: {reg_results[i]:.2f}\n",
    "    clf score: {clf_results[i][0]}\n",
    "\"\"\")"
   ]
  },
  {
   "cell_type": "markdown",
   "metadata": {},
   "source": [
    "### RESULTS\n",
    "It seems that the regressor is much more accurate compared to the binary classifier => **let's use the regressors results to fix the BGG rating**"
   ]
  },
  {
   "cell_type": "markdown",
   "metadata": {},
   "source": [
    "## COMBINE RATED COMMENTS AND NOT-RATED COMMENTS WITH PREDICTED RATING"
   ]
  },
  {
   "cell_type": "code",
   "execution_count": 56,
   "metadata": {},
   "outputs": [
    {
     "name": "stdout",
     "output_type": "stream",
     "text": [
      "rated_comments_grouped: \n",
      "|        id |   rating_mean |   rating_count |\n",
      "|-----------|---------------|----------------|\n",
      "|  54998.00 |          7.55 |        2687.00 |\n",
      "| 124361.00 |          8.19 |        3847.00 |\n",
      "| 128671.00 |          7.57 |        1073.00 |\n",
      "| 162886.00 |          8.36 |        3522.00 |\n",
      "| 167355.00 |          8.42 |        1812.00 |\n"
     ]
    }
   ],
   "source": [
    "rated_comments['rating'] = rated_comments.rating.astype(float)\n",
    "rated_comments_grouped = rated_comments.groupby('id').agg({'rating': ['mean', 'count']})\n",
    "rated_comments_grouped.columns = list(rated_comments_grouped.columns.map('_'.join))\n",
    "rated_comments_grouped = rated_comments_grouped.reset_index()\n",
    "print(\"rated_comments_grouped: \")\n",
    "print(rated_comments_grouped.head().to_markdown(index=False, floatfmt='.2f', tablefmt='github'))"
   ]
  },
  {
   "cell_type": "code",
   "execution_count": 57,
   "metadata": {},
   "outputs": [],
   "source": [
    "not_rated_comments['rating'] = regressor.predict(list(not_rated_comments.value.astype(str)))"
   ]
  },
  {
   "cell_type": "code",
   "execution_count": 58,
   "metadata": {},
   "outputs": [
    {
     "name": "stdout",
     "output_type": "stream",
     "text": [
      "not_rated_comments_grouped: \n",
      "|        id |   rating_mean |   rating_count |\n",
      "|-----------|---------------|----------------|\n",
      "|  54998.00 |          7.63 |         197.00 |\n",
      "| 124361.00 |          8.04 |         256.00 |\n",
      "| 128671.00 |          7.66 |          97.00 |\n",
      "| 162886.00 |          8.16 |         314.00 |\n",
      "| 167355.00 |          8.13 |         215.00 |\n"
     ]
    }
   ],
   "source": [
    "not_rated_comments['rating'] = not_rated_comments.rating.astype(float)\n",
    "not_rated_comments['rating'] = not_rated_comments['rating'].clip(0, 10)\n",
    "not_rated_comments_grouped = not_rated_comments.groupby('id').agg({'rating': ['mean', 'count']})\n",
    "not_rated_comments_grouped.columns = list(not_rated_comments_grouped.columns.map('_'.join))\n",
    "not_rated_comments_grouped = not_rated_comments_grouped.reset_index()\n",
    "print(\"not_rated_comments_grouped: \")\n",
    "print(not_rated_comments_grouped.head().to_markdown(index=False, floatfmt='.2f', tablefmt='github'))"
   ]
  },
  {
   "cell_type": "code",
   "execution_count": 59,
   "metadata": {},
   "outputs": [],
   "source": [
    "grouped = rated_comments_grouped.merge(not_rated_comments_grouped, on='id', suffixes=('_review', '_comments'), how='outer')\n",
    "grouped['id'] = grouped.id.astype(str)\n",
    "grouped = grouped.merge(pd.DataFrame(hot_array), on='id', how='right')\n",
    "grouped['rank'] = grouped['rank'].astype(int)\n",
    "grouped['url'] = grouped['id'].apply(lambda x: f\"https://boardgamegeek.com/boardgame/{x}\")\n",
    "grouped['fixed_rating'] = (grouped['rating_mean_review']*grouped['rating_count_review']+grouped['rating_mean_comments']*grouped['rating_count_comments']) /\\\n",
    "                            (grouped['rating_count_review']+grouped['rating_count_comments'])\n",
    "grouped['thumbnail'] = grouped['thumbnail'].apply(lambda x: f'<img src=\"{x}\" width=\"124\" />')\n",
    "grouped['name'] = grouped.apply(lambda x: f'<a href=\"{x[\"url\"]}\">{x[\"name\"]}</a>', axis=1)\n",
    "\n",
    "grouped = grouped[['thumbnail', 'name', 'rating_mean_review', 'rating_mean_comments', 'fixed_rating', 'rank', 'yearpublished']]"
   ]
  },
  {
   "cell_type": "code",
   "execution_count": 60,
   "metadata": {},
   "outputs": [
    {
     "data": {
      "text/html": [
       "<div>\n",
       "<style scoped>\n",
       "    .dataframe tbody tr th:only-of-type {\n",
       "        vertical-align: middle;\n",
       "    }\n",
       "\n",
       "    .dataframe tbody tr th {\n",
       "        vertical-align: top;\n",
       "    }\n",
       "\n",
       "    .dataframe thead th {\n",
       "        text-align: right;\n",
       "    }\n",
       "</style>\n",
       "<table border=\"1\" class=\"dataframe\">\n",
       "  <thead>\n",
       "    <tr style=\"text-align: right;\">\n",
       "      <th></th>\n",
       "      <th>thumbnail</th>\n",
       "      <th>name</th>\n",
       "      <th>rating_mean_review</th>\n",
       "      <th>rating_mean_comments</th>\n",
       "      <th>fixed_rating</th>\n",
       "      <th>rank</th>\n",
       "      <th>yearpublished</th>\n",
       "    </tr>\n",
       "  </thead>\n",
       "  <tbody>\n",
       "    <tr>\n",
       "      <th>0</th>\n",
       "      <td>&lt;img src=\"https://cf.geekdo-images.com/tQVVSXc...</td>\n",
       "      <td>&lt;a href=\"https://boardgamegeek.com/boardgame/3...</td>\n",
       "      <td>7.078947</td>\n",
       "      <td>8.326513</td>\n",
       "      <td>7.702730</td>\n",
       "      <td>1</td>\n",
       "      <td>2022</td>\n",
       "    </tr>\n",
       "    <tr>\n",
       "      <th>1</th>\n",
       "      <td>&lt;img src=\"https://cf.geekdo-images.com/oaD1ZQ3...</td>\n",
       "      <td>&lt;a href=\"https://boardgamegeek.com/boardgame/2...</td>\n",
       "      <td>8.310714</td>\n",
       "      <td>7.201284</td>\n",
       "      <td>8.024173</td>\n",
       "      <td>2</td>\n",
       "      <td>2021</td>\n",
       "    </tr>\n",
       "    <tr>\n",
       "      <th>2</th>\n",
       "      <td>&lt;img src=\"https://cf.geekdo-images.com/6GqH14T...</td>\n",
       "      <td>&lt;a href=\"https://boardgamegeek.com/boardgame/3...</td>\n",
       "      <td>7.840447</td>\n",
       "      <td>7.773983</td>\n",
       "      <td>7.834563</td>\n",
       "      <td>3</td>\n",
       "      <td>2020</td>\n",
       "    </tr>\n",
       "    <tr>\n",
       "      <th>3</th>\n",
       "      <td>&lt;img src=\"https://cf.geekdo-images.com/KTKXgGG...</td>\n",
       "      <td>&lt;a href=\"https://boardgamegeek.com/boardgame/3...</td>\n",
       "      <td>10.000000</td>\n",
       "      <td>6.279705</td>\n",
       "      <td>8.139853</td>\n",
       "      <td>4</td>\n",
       "      <td>2021</td>\n",
       "    </tr>\n",
       "    <tr>\n",
       "      <th>4</th>\n",
       "      <td>&lt;img src=\"https://cf.geekdo-images.com/gTxav_K...</td>\n",
       "      <td>&lt;a href=\"https://boardgamegeek.com/boardgame/2...</td>\n",
       "      <td>7.841832</td>\n",
       "      <td>7.758829</td>\n",
       "      <td>7.812926</td>\n",
       "      <td>5</td>\n",
       "      <td>2021</td>\n",
       "    </tr>\n",
       "  </tbody>\n",
       "</table>\n",
       "</div>"
      ],
      "text/plain": [
       "                                           thumbnail  \\\n",
       "0  <img src=\"https://cf.geekdo-images.com/tQVVSXc...   \n",
       "1  <img src=\"https://cf.geekdo-images.com/oaD1ZQ3...   \n",
       "2  <img src=\"https://cf.geekdo-images.com/6GqH14T...   \n",
       "3  <img src=\"https://cf.geekdo-images.com/KTKXgGG...   \n",
       "4  <img src=\"https://cf.geekdo-images.com/gTxav_K...   \n",
       "\n",
       "                                                name  rating_mean_review  \\\n",
       "0  <a href=\"https://boardgamegeek.com/boardgame/3...            7.078947   \n",
       "1  <a href=\"https://boardgamegeek.com/boardgame/2...            8.310714   \n",
       "2  <a href=\"https://boardgamegeek.com/boardgame/3...            7.840447   \n",
       "3  <a href=\"https://boardgamegeek.com/boardgame/3...           10.000000   \n",
       "4  <a href=\"https://boardgamegeek.com/boardgame/2...            7.841832   \n",
       "\n",
       "   rating_mean_comments  fixed_rating  rank yearpublished  \n",
       "0              8.326513      7.702730     1          2022  \n",
       "1              7.201284      8.024173     2          2021  \n",
       "2              7.773983      7.834563     3          2020  \n",
       "3              6.279705      8.139853     4          2021  \n",
       "4              7.758829      7.812926     5          2021  "
      ]
     },
     "execution_count": 60,
     "metadata": {},
     "output_type": "execute_result"
    }
   ],
   "source": [
    "grouped.head()"
   ]
  },
  {
   "cell_type": "code",
   "execution_count": 61,
   "metadata": {},
   "outputs": [],
   "source": [
    "def display_topn(by, n=5, ascending=True):\n",
    "    temp_df = grouped.sort_values(by, ascending=ascending).head(n)\n",
    "    temp_df.index=list(range(1, n+1))\n",
    "    return HTML(temp_df.to_html(escape=False, classes='table table-striped'))"
   ]
  },
  {
   "cell_type": "code",
   "execution_count": 62,
   "metadata": {},
   "outputs": [
    {
     "data": {
      "text/html": [
       "<table border=\"1\" class=\"dataframe table table-striped\">\n",
       "  <thead>\n",
       "    <tr style=\"text-align: right;\">\n",
       "      <th></th>\n",
       "      <th>thumbnail</th>\n",
       "      <th>name</th>\n",
       "      <th>rating_mean_review</th>\n",
       "      <th>rating_mean_comments</th>\n",
       "      <th>fixed_rating</th>\n",
       "      <th>rank</th>\n",
       "      <th>yearpublished</th>\n",
       "    </tr>\n",
       "  </thead>\n",
       "  <tbody>\n",
       "    <tr>\n",
       "      <th>1</th>\n",
       "      <td><img src=\"https://cf.geekdo-images.com/tQVVSXcmYLvAoI28cp-2Tg__thumb/img/ahKWaUSws5zja4feB4VexkNV3Mc=/fit-in/200x150/filters:strip_icc()/pic5974859.jpg\" width=\"124\" /></td>\n",
       "      <td><a href=\"https://boardgamegeek.com/boardgame/331106\">The Witcher: Old World</a></td>\n",
       "      <td>7.078947</td>\n",
       "      <td>8.326513</td>\n",
       "      <td>7.702730</td>\n",
       "      <td>1</td>\n",
       "      <td>2022</td>\n",
       "    </tr>\n",
       "    <tr>\n",
       "      <th>2</th>\n",
       "      <td><img src=\"https://cf.geekdo-images.com/oaD1ZQ3yGj6lacLdtqgdnQ__thumb/img/1mCz7HPEFMeqaqJHsDZwEUc9ftw=/fit-in/200x150/filters:strip_icc()/pic5558118.png\" width=\"124\" /></td>\n",
       "      <td><a href=\"https://boardgamegeek.com/boardgame/285192\">Destinies</a></td>\n",
       "      <td>8.310714</td>\n",
       "      <td>7.201284</td>\n",
       "      <td>8.024173</td>\n",
       "      <td>2</td>\n",
       "      <td>2021</td>\n",
       "    </tr>\n",
       "    <tr>\n",
       "      <th>3</th>\n",
       "      <td><img src=\"https://cf.geekdo-images.com/6GqH14TJJhza86BX5HCLEQ__thumb/img/J8SVmGOJXZGxNjkT3xYNQU7Haxg=/fit-in/200x150/filters:strip_icc()/pic5674958.jpg\" width=\"124\" /></td>\n",
       "      <td><a href=\"https://boardgamegeek.com/boardgame/312484\">Lost Ruins of Arnak</a></td>\n",
       "      <td>7.840447</td>\n",
       "      <td>7.773983</td>\n",
       "      <td>7.834563</td>\n",
       "      <td>3</td>\n",
       "      <td>2020</td>\n",
       "    </tr>\n",
       "    <tr>\n",
       "      <th>4</th>\n",
       "      <td><img src=\"https://cf.geekdo-images.com/KTKXgGGyL4KkSQRphCWROw__thumb/img/kfO6wC4uNWeLXlFQvjDYcL-0DrI=/fit-in/200x150/filters:strip_icc()/pic6181696.png\" width=\"124\" /></td>\n",
       "      <td><a href=\"https://boardgamegeek.com/boardgame/339031\">The Goonies: Never Say Die</a></td>\n",
       "      <td>10.000000</td>\n",
       "      <td>6.279705</td>\n",
       "      <td>8.139853</td>\n",
       "      <td>4</td>\n",
       "      <td>2021</td>\n",
       "    </tr>\n",
       "    <tr>\n",
       "      <th>5</th>\n",
       "      <td><img src=\"https://cf.geekdo-images.com/gTxav_KKQK1rDg-XuCjCSA__thumb/img/tFTOAKG5aDXxYfNRmJNmfyxH83M=/fit-in/200x150/filters:strip_icc()/pic5164812.jpg\" width=\"124\" /></td>\n",
       "      <td><a href=\"https://boardgamegeek.com/boardgame/291572\">Oath: Chronicles of Empire and Exile</a></td>\n",
       "      <td>7.841832</td>\n",
       "      <td>7.758829</td>\n",
       "      <td>7.812926</td>\n",
       "      <td>5</td>\n",
       "      <td>2021</td>\n",
       "    </tr>\n",
       "  </tbody>\n",
       "</table>"
      ],
      "text/plain": [
       "<IPython.core.display.HTML object>"
      ]
     },
     "execution_count": 62,
     "metadata": {},
     "output_type": "execute_result"
    }
   ],
   "source": [
    "# TOP N RANK\n",
    "display_topn(by='rank', n=TOP_N)"
   ]
  },
  {
   "cell_type": "code",
   "execution_count": 63,
   "metadata": {},
   "outputs": [
    {
     "data": {
      "text/html": [
       "<table border=\"1\" class=\"dataframe table table-striped\">\n",
       "  <thead>\n",
       "    <tr style=\"text-align: right;\">\n",
       "      <th></th>\n",
       "      <th>thumbnail</th>\n",
       "      <th>name</th>\n",
       "      <th>rating_mean_review</th>\n",
       "      <th>rating_mean_comments</th>\n",
       "      <th>fixed_rating</th>\n",
       "      <th>rank</th>\n",
       "      <th>yearpublished</th>\n",
       "    </tr>\n",
       "  </thead>\n",
       "  <tbody>\n",
       "    <tr>\n",
       "      <th>1</th>\n",
       "      <td><img src=\"https://cf.geekdo-images.com/KTKXgGGyL4KkSQRphCWROw__thumb/img/kfO6wC4uNWeLXlFQvjDYcL-0DrI=/fit-in/200x150/filters:strip_icc()/pic6181696.png\" width=\"124\" /></td>\n",
       "      <td><a href=\"https://boardgamegeek.com/boardgame/339031\">The Goonies: Never Say Die</a></td>\n",
       "      <td>10.000000</td>\n",
       "      <td>6.279705</td>\n",
       "      <td>8.139853</td>\n",
       "      <td>4</td>\n",
       "      <td>2021</td>\n",
       "    </tr>\n",
       "    <tr>\n",
       "      <th>2</th>\n",
       "      <td><img src=\"https://cf.geekdo-images.com/z4QtTBaabg2OCJfGNQ1x6g__thumb/img/pCv-Ojnr07dqZRdst7KtZDiOkGU=/fit-in/200x150/filters:strip_icc()/pic6177915.png\" width=\"124\" /></td>\n",
       "      <td><a href=\"https://boardgamegeek.com/boardgame/338841\">Lost Ruins of Arnak: The Search for Professor Kutil</a></td>\n",
       "      <td>9.100000</td>\n",
       "      <td>8.592831</td>\n",
       "      <td>9.015472</td>\n",
       "      <td>6</td>\n",
       "      <td>2021</td>\n",
       "    </tr>\n",
       "    <tr>\n",
       "      <th>3</th>\n",
       "      <td><img src=\"https://cf.geekdo-images.com/Oh3kHw6lweg6ru71Q16h2Q__thumb/img/e9XZdQe1ZcPpaq4Gy31OoWBB_V0=/fit-in/200x150/filters:strip_icc()/pic5235277.jpg\" width=\"124\" /></td>\n",
       "      <td><a href=\"https://boardgamegeek.com/boardgame/246900\">Eclipse: Second Dawn for the Galaxy</a></td>\n",
       "      <td>8.737235</td>\n",
       "      <td>8.392140</td>\n",
       "      <td>8.683640</td>\n",
       "      <td>49</td>\n",
       "      <td>2020</td>\n",
       "    </tr>\n",
       "    <tr>\n",
       "      <th>4</th>\n",
       "      <td><img src=\"https://cf.geekdo-images.com/x3zxjr-Vw5iU4yDPg70Jgw__thumb/img/o18rjEemoWaVru9Y2TyPwuIaRfE=/fit-in/200x150/filters:strip_icc()/pic3490053.jpg\" width=\"124\" /></td>\n",
       "      <td><a href=\"https://boardgamegeek.com/boardgame/224517\">Brass: Birmingham</a></td>\n",
       "      <td>8.682181</td>\n",
       "      <td>8.027668</td>\n",
       "      <td>8.622820</td>\n",
       "      <td>24</td>\n",
       "      <td>2018</td>\n",
       "    </tr>\n",
       "    <tr>\n",
       "      <th>5</th>\n",
       "      <td><img src=\"https://cf.geekdo-images.com/hRuD1y5BxdNpssgBqamS0A__thumb/img/fpUu1t2YLjJ4EvEzBGTKtZasNv4=/fit-in/200x150/filters:strip_icc()/pic4595897.jpg\" width=\"124\" /></td>\n",
       "      <td><a href=\"https://boardgamegeek.com/boardgame/169427\">Middara: Unintentional Malum – Act 1</a></td>\n",
       "      <td>8.636377</td>\n",
       "      <td>8.130491</td>\n",
       "      <td>8.516650</td>\n",
       "      <td>28</td>\n",
       "      <td>2019</td>\n",
       "    </tr>\n",
       "  </tbody>\n",
       "</table>"
      ],
      "text/plain": [
       "<IPython.core.display.HTML object>"
      ]
     },
     "execution_count": 63,
     "metadata": {},
     "output_type": "execute_result"
    }
   ],
   "source": [
    "# TOP N REVIEW RANK\n",
    "display_topn(by='rating_mean_review', n=TOP_N, ascending=False)"
   ]
  },
  {
   "cell_type": "code",
   "execution_count": 64,
   "metadata": {},
   "outputs": [
    {
     "data": {
      "text/html": [
       "<table border=\"1\" class=\"dataframe table table-striped\">\n",
       "  <thead>\n",
       "    <tr style=\"text-align: right;\">\n",
       "      <th></th>\n",
       "      <th>thumbnail</th>\n",
       "      <th>name</th>\n",
       "      <th>rating_mean_review</th>\n",
       "      <th>rating_mean_comments</th>\n",
       "      <th>fixed_rating</th>\n",
       "      <th>rank</th>\n",
       "      <th>yearpublished</th>\n",
       "    </tr>\n",
       "  </thead>\n",
       "  <tbody>\n",
       "    <tr>\n",
       "      <th>1</th>\n",
       "      <td><img src=\"https://cf.geekdo-images.com/z4QtTBaabg2OCJfGNQ1x6g__thumb/img/pCv-Ojnr07dqZRdst7KtZDiOkGU=/fit-in/200x150/filters:strip_icc()/pic6177915.png\" width=\"124\" /></td>\n",
       "      <td><a href=\"https://boardgamegeek.com/boardgame/338841\">Lost Ruins of Arnak: The Search for Professor Kutil</a></td>\n",
       "      <td>9.100000</td>\n",
       "      <td>8.592831</td>\n",
       "      <td>9.015472</td>\n",
       "      <td>6</td>\n",
       "      <td>2021</td>\n",
       "    </tr>\n",
       "    <tr>\n",
       "      <th>2</th>\n",
       "      <td><img src=\"https://cf.geekdo-images.com/Oh3kHw6lweg6ru71Q16h2Q__thumb/img/e9XZdQe1ZcPpaq4Gy31OoWBB_V0=/fit-in/200x150/filters:strip_icc()/pic5235277.jpg\" width=\"124\" /></td>\n",
       "      <td><a href=\"https://boardgamegeek.com/boardgame/246900\">Eclipse: Second Dawn for the Galaxy</a></td>\n",
       "      <td>8.737235</td>\n",
       "      <td>8.392140</td>\n",
       "      <td>8.683640</td>\n",
       "      <td>49</td>\n",
       "      <td>2020</td>\n",
       "    </tr>\n",
       "    <tr>\n",
       "      <th>3</th>\n",
       "      <td><img src=\"https://cf.geekdo-images.com/x3zxjr-Vw5iU4yDPg70Jgw__thumb/img/o18rjEemoWaVru9Y2TyPwuIaRfE=/fit-in/200x150/filters:strip_icc()/pic3490053.jpg\" width=\"124\" /></td>\n",
       "      <td><a href=\"https://boardgamegeek.com/boardgame/224517\">Brass: Birmingham</a></td>\n",
       "      <td>8.682181</td>\n",
       "      <td>8.027668</td>\n",
       "      <td>8.622820</td>\n",
       "      <td>24</td>\n",
       "      <td>2018</td>\n",
       "    </tr>\n",
       "    <tr>\n",
       "      <th>4</th>\n",
       "      <td><img src=\"https://cf.geekdo-images.com/_HhIdavYW-hid20Iq3hhmg__thumb/img/OMkN_E5eyWrkID_cHCnQEbIixGM=/fit-in/200x150/filters:strip_icc()/pic5055631.jpg\" width=\"124\" /></td>\n",
       "      <td><a href=\"https://boardgamegeek.com/boardgame/291457\">Gloomhaven: Jaws of the Lion</a></td>\n",
       "      <td>8.600844</td>\n",
       "      <td>8.014546</td>\n",
       "      <td>8.543423</td>\n",
       "      <td>22</td>\n",
       "      <td>2020</td>\n",
       "    </tr>\n",
       "    <tr>\n",
       "      <th>5</th>\n",
       "      <td><img src=\"https://cf.geekdo-images.com/hRuD1y5BxdNpssgBqamS0A__thumb/img/fpUu1t2YLjJ4EvEzBGTKtZasNv4=/fit-in/200x150/filters:strip_icc()/pic4595897.jpg\" width=\"124\" /></td>\n",
       "      <td><a href=\"https://boardgamegeek.com/boardgame/169427\">Middara: Unintentional Malum – Act 1</a></td>\n",
       "      <td>8.636377</td>\n",
       "      <td>8.130491</td>\n",
       "      <td>8.516650</td>\n",
       "      <td>28</td>\n",
       "      <td>2019</td>\n",
       "    </tr>\n",
       "  </tbody>\n",
       "</table>"
      ],
      "text/plain": [
       "<IPython.core.display.HTML object>"
      ]
     },
     "execution_count": 64,
     "metadata": {},
     "output_type": "execute_result"
    }
   ],
   "source": [
    "# TOP N FIXED RANK\n",
    "display_topn(by='fixed_rating', n=TOP_N, ascending=False)"
   ]
  },
  {
   "cell_type": "code",
   "execution_count": 65,
   "metadata": {},
   "outputs": [],
   "source": [
    "# model.save('saved_model\\my_model')"
   ]
  },
  {
   "cell_type": "code",
   "execution_count": 66,
   "metadata": {},
   "outputs": [],
   "source": [
    "# saved_model = tf.keras.models.load_model('saved_model\\my_model')"
   ]
  },
  {
   "cell_type": "code",
   "execution_count": 67,
   "metadata": {},
   "outputs": [],
   "source": [
    "# some examples on \"long\" comments vs short comments"
   ]
  },
  {
   "cell_type": "code",
   "execution_count": 68,
   "metadata": {},
   "outputs": [],
   "source": [
    "not_rated_comments['comment_len'] = not_rated_comments['value'].str.len()\n",
    "some_long_comments = not_rated_comments.query(\"comment_len>100 and comment_len<300\").sample(frac=1).head(25).sort_values('rating')"
   ]
  },
  {
   "cell_type": "code",
   "execution_count": 69,
   "metadata": {},
   "outputs": [
    {
     "name": "stdout",
     "output_type": "stream",
     "text": [
      "\"Seems to just be facts about birds and not any kind of simulation of the lives of birds. Like, this bird weighs X kilos, and not what how birds interact with their ecosystem. More stamp collecting than physics.\"\n",
      "score: 4.57\n",
      "\n",
      "\"Managed to acquire 2 base boxes and dunwich for cheap and in new condition. Just need to play it all together now.\"\n",
      "score: 5.67\n",
      "\n",
      "\"Bought it on sale but haven't had the confidence to start playing yet because I'm still overwhelmed by the sheer volume.\"\n",
      "score: 5.86\n",
      "\n",
      "\"People keep telling me I need to play this game, so I watched a play-through and yeah, it looks like fun.\"\n",
      "score: 6.34\n",
      "\n",
      "\"Includes $50 coins  Encounter and Factory cards: Fantasy Flight Games Tarot Card Sleeves with the excess length trimmed off of them  From Meeple Source:  Scythe, tokens (19)  Scythe, Lg action tokens (7)  Scythe stickers \"\n",
      "score: 6.45\n",
      "\n",
      "\"Italian translation of the game is a big fact for italian potential buyers, since not all friends we play with talk or can read English.\"\n",
      "score: 6.87\n",
      "\n",
      "\"Due to moderate in game text I only would like the english or dutch version.  Dutch preferred over english so my wife can also play it.\"\n",
      "score: 6.98\n",
      "\n",
      "\"Updated with player boards and 4th edition rules from the Kickstarter Update Kit.  Includes resin clearing markers, Exiles & Partisans deck and Vagabond pack from the Underworld Kickstarter campaign.\"\n",
      "score: 7.24\n",
      "\n",
      "\"While living in Honduras, found a guy on Craiglist selling his Kickstarter Collector's Edition in my home town. My friend Dave went and picked it up for me. \"\n",
      "score: 7.30\n",
      "\n",
      "\"Type: Stategy  Mechanic: Card Drafting, Hand Management, Tile Placement, Variable Player Powers  Players: 1 - 5  Average Game Length: 90 -120 minutes\"\n",
      "score: 7.36\n",
      "\n",
      "\"I liked my first play of this game with 5 players. I thought it was a bit slow and wonder if it may be better with 3 or 4 players.\"\n",
      "score: 7.63\n",
      "\n",
      "\"Don't get, tree gets in the way so only good for 2 people, max 3. Cards are beautiful but hard to see symbols (Zeke Garcia). Worker placement similar to other games. A nice cute game, beautiful art for 2-4 players (really only 2 without obstructed view), up to 80 minutes.\"\n",
      "score: 7.86\n",
      "\n",
      "\"Got in on the 2nd KS, so far only played the first two scenarios and a couple random setups. One of these days...\"\n",
      "score: 7.87\n",
      "\n",
      "\"Received for Keyflower (with Emporium and Monument mini expansion) as part of \"U.S. Only\" Math Trade - 8/6/18.\"\n",
      "score: 8.07\n",
      "\n",
      "\"Viel Verwaltung zwischen der Geschichte. Einige Entscheidung zu glücksbasiert. Unter Umstaänden muss man ein Szenario wiederholen, weil man erst nach dem 1. Mal weiß wo die notwendigen Informationen zu finden sind.\"\n",
      "score: 8.45\n",
      "\n",
      "\"+Both Broken Token Organizer, Box, Metal Coins, Realistic Resources, Invaders from mAfar, Rise of the Fenris, and the Wind Gambit\"\n",
      "score: 8.55\n",
      "\n",
      "\"Owned Expansions: [geekurl=/boardgameexpansion/290448/wingspan-european-expansion]Wingspan: European Expansion[/geekurl]\"\n",
      "score: 8.78\n",
      "\n",
      "\"I'll have to get and try the Gloomhaven 1st before I try this game because I want to experience the 1st Gloomhaven.\"\n",
      "score: 8.80\n",
      "\n",
      "\"Beautiful board and cards.  The beginning of the rail era seems to drag as you have to set up a network to coal to build many things.  Also quite long if you play with players who like to think.\"\n",
      "score: 9.37\n",
      "\n",
      "\"Heavily asymmetric \"dudes on a map\" with gorgeous artwork. What's not to like? Rules explanation takes time, since each faction is so unique. It's hard to keep track of what everyone is doing, but each faction is very interesting. Love the compact box, perfectly sized!\"\n",
      "score: 9.41\n",
      "\n",
      "\"I think I like this at '3' players best. Lots of interesting decisions. Lots of space for highly interactive play. LOTS of asymmetry between player powers.\"\n",
      "score: 9.59\n",
      "\n",
      "\"Amazing game but just so Massive in scale and Table Space that I could not keep it in my small London Apartment, am super looking forward to the Steam Version coming out next year for PC so I can play this awesome game again without having to worry about set up time or space again! ;)\"\n",
      "score: 9.92\n",
      "\n",
      "\"+Salsa and Venus expansions +Britannia & Germania, Gallia & Corsica and Aegyptus & Creta map expansions\"\n",
      "score: 9.94\n",
      "\n",
      "\"Complex co-operative player where players are spirits and try to scare off the humans. See also mage knight.\"\n",
      "score: 10.00\n",
      "\n",
      "\"przygodowa, kooperacja nacisk na fabułę trudność: ?/10 kombinowanie: ?/10 czas gry: 3h na scenariusz czas nauki: ?min 2-4graczy\"\n",
      "score: 10.00\n",
      "\n"
     ]
    }
   ],
   "source": [
    "some_long_comments.apply(lambda c: print(f\"\\\"{c['value']}\\\"\\nscore: {c['rating']:.2f}\\n\"), axis=1);"
   ]
  },
  {
   "cell_type": "code",
   "execution_count": null,
   "metadata": {},
   "outputs": [],
   "source": []
  }
 ],
 "metadata": {
  "kernelspec": {
   "display_name": "tensorflow2",
   "language": "python",
   "name": "tensorflow2"
  },
  "language_info": {
   "codemirror_mode": {
    "name": "ipython",
    "version": 3
   },
   "file_extension": ".py",
   "mimetype": "text/x-python",
   "name": "python",
   "nbconvert_exporter": "python",
   "pygments_lexer": "ipython3",
   "version": "3.8.8"
  }
 },
 "nbformat": 4,
 "nbformat_minor": 4
}
