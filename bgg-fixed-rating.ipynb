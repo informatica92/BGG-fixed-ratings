{
 "cells": [
  {
   "cell_type": "code",
   "execution_count": 1,
   "metadata": {},
   "outputs": [],
   "source": [
    "# ## BGG API\n",
    "# https://www.boardgamegeek.com/xmlapi2/thing?id=161599&comments=1\n",
    "# https://www.boardgamegeek.com/xmlapi2/hot?type=boardgame\n",
    "# ## NLP WITH TF\n",
    "# https://www.tensorflow.org/hub/tutorials/tf2_text_classification"
   ]
  },
  {
   "cell_type": "code",
   "execution_count": 2,
   "metadata": {},
   "outputs": [
    {
     "name": "stdout",
     "output_type": "stream",
     "text": [
      "Version:      2.5.0\n",
      "Eager mode:   True\n",
      "Hub version:  0.12.0\n",
      "GPU:          available\n"
     ]
    }
   ],
   "source": [
    "import tensorflow as tf\n",
    "import tensorflow_hub as hub\n",
    "from tensorflow.keras.wrappers.scikit_learn import KerasRegressor, KerasClassifier\n",
    "from sklearn.model_selection import GridSearchCV\n",
    "\n",
    "from IPython.display import HTML\n",
    "from datetime import datetime\n",
    "import matplotlib.pyplot as plt\n",
    "import pandas as pd\n",
    "import numpy as np\n",
    "import re\n",
    "\n",
    "from utilities import get_hot_data, get_comments, remove_short_comments, build_model, print_my_examples\n",
    "\n",
    "print(\"Version:     \", tf.__version__)\n",
    "print(\"Eager mode:  \", tf.executing_eagerly())\n",
    "print(\"Hub version: \", hub.__version__)\n",
    "print(\"GPU:         \", \"available\" if tf.config.list_physical_devices('GPU') else \"NOT available\")\n",
    "\n",
    "tf.get_logger().setLevel('ERROR')"
   ]
  },
  {
   "cell_type": "code",
   "execution_count": 3,
   "metadata": {},
   "outputs": [],
   "source": [
    "# tf.debugging.set_log_device_placement(True)"
   ]
  },
  {
   "cell_type": "code",
   "execution_count": 4,
   "metadata": {},
   "outputs": [],
   "source": [
    "GOOD_REVIEW_THRESHOLD = 7\n",
    "VAL_FRACTION = 0.25\n",
    "MIN_COMMENT_LEN = 25\n",
    "TOP_N = 5\n",
    "MODEL_NAME = \"https://tfhub.dev/google/tf2-preview/nnlm-en-dim50/1\"\n",
    "# MORE ABOUT MODEL NAMES: \n",
    "# \"https://tfhub.dev/google/tf2-preview/nnlm-en-dim128/1\"\n",
    "# \"https://tfhub.dev/google/tf2-preview/nnlm-en-dim128-with-normalization/1\"\n",
    "# we also tested these solutions with dimension equals to 128 but accuracy \n",
    "# is a bit lower (0.85 for 128 vs 0.86 for 50) and training sometimes stops \n",
    "# unexpectedly for memory limit\n",
    "#\n",
    "# \"https://tfhub.dev/google/tf2-preview/nnlm-en-dim50/1\"\n",
    "# \"https://tfhub.dev/google/tf2-preview/nnlm-en-dim50-with-normalization/1\"\n",
    "# there is no difference between normalization and not so we use the one \n",
    "# without normalization"
   ]
  },
  {
   "cell_type": "markdown",
   "metadata": {},
   "source": [
    "## GET DATA"
   ]
  },
  {
   "cell_type": "code",
   "execution_count": 5,
   "metadata": {},
   "outputs": [
    {
     "data": {
      "text/plain": [
       "[{'id': '307002',\n",
       "  'rank': '1',\n",
       "  'thumbnail': 'https://cf.geekdo-images.com/C9U2E51tkzLljewFEGQ74g__thumb/img/4KV3wj3NiJDgGTh3zmW0_8Ph3Zc=/fit-in/200x150/filters:strip_icc()/pic5837347.jpg',\n",
       "  'name': 'Regicide',\n",
       "  'yearpublished': '2020'},\n",
       " {'id': '337627',\n",
       "  'rank': '2',\n",
       "  'thumbnail': 'https://cf.geekdo-images.com/hItZjdDTNuaCZ7fEztwcUQ__thumb/img/Ov6eWR87PZ2O1XYQtXMO6KvfzOg=/fit-in/200x150/filters:strip_icc()/pic6153324.jpg',\n",
       "  'name': 'Voidfall',\n",
       "  'yearpublished': '2022'}]"
      ]
     },
     "execution_count": 5,
     "metadata": {},
     "output_type": "execute_result"
    }
   ],
   "source": [
    "hot_array = get_hot_data()\n",
    "hot_array[:2]"
   ]
  },
  {
   "cell_type": "code",
   "execution_count": 6,
   "metadata": {},
   "outputs": [],
   "source": [
    "def get_game_by_id(game_id, field='name'):\n",
    "    for a in hot_array:\n",
    "        if a['id'] == str(game_id):\n",
    "            return a[field]"
   ]
  },
  {
   "cell_type": "code",
   "execution_count": 7,
   "metadata": {},
   "outputs": [
    {
     "name": "stdout",
     "output_type": "stream",
     "text": [
      "missing csv file, getting new data using API...\n",
      "page number = 10 (max: 100, len: 30)\n",
      "page number = 20 (max: 100, len: 24)\n",
      "page number = 30 (max: 100, len: 19)\n",
      "page number = 40 (max: 100, len: 13)\n",
      "page number = 50 (max: 100, len: 10)\n",
      "page number = 60 (max: 100, len: 6)\n",
      "page number = 70 (max: 100, len: 6)\n",
      "page number = 80 (max: 100, len: 4)\n",
      "page number = 90 (max: 100, len: 3)\n",
      "page number = 100 (max: 100, len: 1)\n",
      "comments_df shape: (131759, 4)\n"
     ]
    },
    {
     "data": {
      "text/html": [
       "<div>\n",
       "<style scoped>\n",
       "    .dataframe tbody tr th:only-of-type {\n",
       "        vertical-align: middle;\n",
       "    }\n",
       "\n",
       "    .dataframe tbody tr th {\n",
       "        vertical-align: top;\n",
       "    }\n",
       "\n",
       "    .dataframe thead th {\n",
       "        text-align: right;\n",
       "    }\n",
       "</style>\n",
       "<table border=\"1\" class=\"dataframe\">\n",
       "  <thead>\n",
       "    <tr style=\"text-align: right;\">\n",
       "      <th></th>\n",
       "      <th>id</th>\n",
       "      <th>username</th>\n",
       "      <th>rating</th>\n",
       "      <th>value</th>\n",
       "    </tr>\n",
       "  </thead>\n",
       "  <tbody>\n",
       "    <tr>\n",
       "      <th>0</th>\n",
       "      <td>307002</td>\n",
       "      <td>AgentMeat</td>\n",
       "      <td>2</td>\n",
       "      <td>only solo, played with normal deck of cards, s...</td>\n",
       "    </tr>\n",
       "    <tr>\n",
       "      <th>1</th>\n",
       "      <td>307002</td>\n",
       "      <td>Akuden</td>\n",
       "      <td>8</td>\n",
       "      <td>Kickstarted. Tried out the game solo and at 2 ...</td>\n",
       "    </tr>\n",
       "    <tr>\n",
       "      <th>2</th>\n",
       "      <td>307002</td>\n",
       "      <td>amqueue</td>\n",
       "      <td>N/A</td>\n",
       "      <td>kickstarter</td>\n",
       "    </tr>\n",
       "    <tr>\n",
       "      <th>3</th>\n",
       "      <td>307002</td>\n",
       "      <td>andrewkapish</td>\n",
       "      <td>N/A</td>\n",
       "      <td>Unplayed</td>\n",
       "    </tr>\n",
       "    <tr>\n",
       "      <th>4</th>\n",
       "      <td>307002</td>\n",
       "      <td>Angelo the Magician</td>\n",
       "      <td>9</td>\n",
       "      <td>I  only play the solo version and that one is ...</td>\n",
       "    </tr>\n",
       "    <tr>\n",
       "      <th>...</th>\n",
       "      <td>...</td>\n",
       "      <td>...</td>\n",
       "      <td>...</td>\n",
       "      <td>...</td>\n",
       "    </tr>\n",
       "    <tr>\n",
       "      <th>131754</th>\n",
       "      <td>167791</td>\n",
       "      <td>z_zadar</td>\n",
       "      <td>9</td>\n",
       "      <td>Some games are so much fun. Others can be a li...</td>\n",
       "    </tr>\n",
       "    <tr>\n",
       "      <th>131755</th>\n",
       "      <td>167791</td>\n",
       "      <td>_Czid_</td>\n",
       "      <td>8</td>\n",
       "      <td>Have played with Elysium and Prelude expansion...</td>\n",
       "    </tr>\n",
       "    <tr>\n",
       "      <th>131756</th>\n",
       "      <td>167791</td>\n",
       "      <td>_Marty_</td>\n",
       "      <td>9.5</td>\n",
       "      <td>Fantastic game. With so many cards that can ch...</td>\n",
       "    </tr>\n",
       "    <tr>\n",
       "      <th>131757</th>\n",
       "      <td>167791</td>\n",
       "      <td>_mun_</td>\n",
       "      <td>10</td>\n",
       "      <td>Nagyon izgalmas játék, jó a mechanizmusa. A sz...</td>\n",
       "    </tr>\n",
       "    <tr>\n",
       "      <th>131758</th>\n",
       "      <td>167791</td>\n",
       "      <td>_The_Inquiry_</td>\n",
       "      <td>5</td>\n",
       "      <td>Prior to 2020: 2 plays  TM is one of those gam...</td>\n",
       "    </tr>\n",
       "  </tbody>\n",
       "</table>\n",
       "<p>131759 rows × 4 columns</p>\n",
       "</div>"
      ],
      "text/plain": [
       "            id             username rating  \\\n",
       "0       307002            AgentMeat      2   \n",
       "1       307002               Akuden      8   \n",
       "2       307002              amqueue    N/A   \n",
       "3       307002         andrewkapish    N/A   \n",
       "4       307002  Angelo the Magician      9   \n",
       "...        ...                  ...    ...   \n",
       "131754  167791              z_zadar      9   \n",
       "131755  167791               _Czid_      8   \n",
       "131756  167791              _Marty_    9.5   \n",
       "131757  167791                _mun_     10   \n",
       "131758  167791        _The_Inquiry_      5   \n",
       "\n",
       "                                                    value  \n",
       "0       only solo, played with normal deck of cards, s...  \n",
       "1       Kickstarted. Tried out the game solo and at 2 ...  \n",
       "2                                             kickstarter  \n",
       "3                                                Unplayed  \n",
       "4       I  only play the solo version and that one is ...  \n",
       "...                                                   ...  \n",
       "131754  Some games are so much fun. Others can be a li...  \n",
       "131755  Have played with Elysium and Prelude expansion...  \n",
       "131756  Fantastic game. With so many cards that can ch...  \n",
       "131757  Nagyon izgalmas játék, jó a mechanizmusa. A sz...  \n",
       "131758  Prior to 2020: 2 plays  TM is one of those gam...  \n",
       "\n",
       "[131759 rows x 4 columns]"
      ]
     },
     "execution_count": 7,
     "metadata": {},
     "output_type": "execute_result"
    }
   ],
   "source": [
    "try:\n",
    "    comments_df = pd.read_csv(f\"comments_{datetime.now().strftime('%Y%m%d')}.csv\")\n",
    "    comments_df['rating'] = comments_df.rating.fillna('N/A')\n",
    "    print(\"reading dataframe from csv file...\")\n",
    "except:\n",
    "    print(\"missing csv file, getting new data using API...\")\n",
    "    comments_df = get_comments(hot_array, verbose=10)\n",
    "    comments_df.to_csv(f\"comments_{datetime.now().strftime('%Y%m%d')}.csv\", index=False)\n",
    "comments_df"
   ]
  },
  {
   "cell_type": "markdown",
   "metadata": {},
   "source": [
    "## DATA CLEANING"
   ]
  },
  {
   "cell_type": "code",
   "execution_count": 8,
   "metadata": {},
   "outputs": [],
   "source": [
    "# probably we should keep all the ratings (no matters the len) and remove only the simple comments under a certain len  \n",
    "comments_df[\"value\"] = comments_df[\"value\"].astype(str)"
   ]
  },
  {
   "cell_type": "code",
   "execution_count": 9,
   "metadata": {},
   "outputs": [
    {
     "name": "stdout",
     "output_type": "stream",
     "text": [
      "removed 20651 for 'remove_short_comments' - min len: 25 - method: unrated\n"
     ]
    }
   ],
   "source": [
    "# REMOVE URLs FROM COMMENTS\n",
    "comments_df['value'] = [re.sub(r\"http\\S+\", \"\", v) for v in comments_df.value.values]\n",
    "comments_df = remove_short_comments(comments_df, MIN_COMMENT_LEN)"
   ]
  },
  {
   "cell_type": "code",
   "execution_count": 10,
   "metadata": {},
   "outputs": [],
   "source": [
    "# REMOVE NON ENGLISH COMMENTS\n",
    "# !conda install -c conda-forge langdetect\n",
    "# def add_comments_lang(df: pd.DataFrame):\n",
    "#     df_local = df.copy()\n",
    "#     df_local['lang'] = df['value'].apply(detect)\n",
    "#     return df_local.reset_index(drop=True)\n",
    "# comments_df = add_comments_lang(comments_df)\n",
    "# comments_df = comments_df.query('lang == \"en\"')"
   ]
  },
  {
   "cell_type": "markdown",
   "metadata": {},
   "source": [
    "## SPLIT RATED AND NON-RATED COMMENTS"
   ]
  },
  {
   "cell_type": "code",
   "execution_count": 11,
   "metadata": {},
   "outputs": [
    {
     "data": {
      "text/plain": [
       "9          20915\n",
       "10         19618\n",
       "8          19452\n",
       "7          10375\n",
       "N/A         8394\n",
       "           ...  \n",
       "8.09           1\n",
       "9.312          1\n",
       "8.73333        1\n",
       "6.53           1\n",
       "9.098          1\n",
       "Name: rating, Length: 631, dtype: int64"
      ]
     },
     "execution_count": 11,
     "metadata": {},
     "output_type": "execute_result"
    }
   ],
   "source": [
    "# count number of comments per rating (N/A included)\n",
    "comments_df.rating.value_counts()"
   ]
  },
  {
   "cell_type": "code",
   "execution_count": 12,
   "metadata": {},
   "outputs": [
    {
     "data": {
      "text/plain": [
       "(102714, 5)"
      ]
     },
     "execution_count": 12,
     "metadata": {},
     "output_type": "execute_result"
    }
   ],
   "source": [
    "# get rated comments only\n",
    "rated_comments = comments_df.query('rating != \"N/A\"')\n",
    "rated_comments.shape"
   ]
  },
  {
   "cell_type": "code",
   "execution_count": 13,
   "metadata": {},
   "outputs": [
    {
     "data": {
      "text/plain": [
       "(8394, 5)"
      ]
     },
     "execution_count": 13,
     "metadata": {},
     "output_type": "execute_result"
    }
   ],
   "source": [
    "# get non rated comments only\n",
    "not_rated_comments = comments_df.query('rating == \"N/A\"').reset_index(drop=True)\n",
    "not_rated_comments.shape"
   ]
  },
  {
   "cell_type": "markdown",
   "metadata": {},
   "source": [
    "## CREATE TRAINING AND VALIDATION DATA"
   ]
  },
  {
   "cell_type": "code",
   "execution_count": 14,
   "metadata": {},
   "outputs": [],
   "source": [
    "# use rated comments (reviews) to train the model"
   ]
  },
  {
   "cell_type": "code",
   "execution_count": 15,
   "metadata": {},
   "outputs": [],
   "source": [
    "rated_comments = rated_comments.sample(frac=1)"
   ]
  },
  {
   "cell_type": "code",
   "execution_count": 16,
   "metadata": {},
   "outputs": [],
   "source": [
    "# create training X and y\n",
    "train_examples = list(rated_comments.value)\n",
    "train_labels = list((rated_comments.rating.astype(float)>=GOOD_REVIEW_THRESHOLD).astype(int))"
   ]
  },
  {
   "cell_type": "code",
   "execution_count": 17,
   "metadata": {},
   "outputs": [
    {
     "name": "stdout",
     "output_type": "stream",
     "text": [
      "example of positive rating:\n"
     ]
    },
    {
     "data": {
      "text/plain": [
       "\"Excellent, this is the first dungeon crawler/campaign game I introduced to my wife and she didn't want to stop playing, we put bout 50 plus hours in just a few weeks off playing and the asymmetry between each of the characters and enemies is just brilliant.\""
      ]
     },
     "execution_count": 17,
     "metadata": {},
     "output_type": "execute_result"
    }
   ],
   "source": [
    "print(\"example of positive rating:\")\n",
    "train_examples[train_labels.index(1)]"
   ]
  },
  {
   "cell_type": "code",
   "execution_count": 18,
   "metadata": {},
   "outputs": [
    {
     "name": "stdout",
     "output_type": "stream",
     "text": [
      "example of negative rating:\n"
     ]
    },
    {
     "data": {
      "text/plain": [
       "'Spiele gerne mit wenn ich gefragt werde, würde es aber nicht vorschlagen.'"
      ]
     },
     "execution_count": 18,
     "metadata": {},
     "output_type": "execute_result"
    }
   ],
   "source": [
    "print(\"example of negative rating:\")\n",
    "train_examples[train_labels.index(0)]"
   ]
  },
  {
   "cell_type": "markdown",
   "metadata": {},
   "source": [
    "## COMPOSE MODEL"
   ]
  },
  {
   "cell_type": "code",
   "execution_count": 19,
   "metadata": {},
   "outputs": [],
   "source": [
    "hub_layer = hub.KerasLayer(MODEL_NAME, input_shape=[], dtype=tf.string, trainable=True)"
   ]
  },
  {
   "cell_type": "markdown",
   "metadata": {},
   "source": [
    "## CLASSIFIER"
   ]
  },
  {
   "cell_type": "code",
   "execution_count": 20,
   "metadata": {},
   "outputs": [
    {
     "name": "stdout",
     "output_type": "stream",
     "text": [
      "Epoch 1/100\n",
      "51/51 - 5s - loss: 0.5693 - accuracy: 0.7985 - val_loss: 0.4847 - val_accuracy: 0.8598\n",
      "Epoch 2/100\n",
      "51/51 - 3s - loss: 0.4351 - accuracy: 0.8577 - val_loss: 0.3839 - val_accuracy: 0.8616\n",
      "Epoch 3/100\n",
      "51/51 - 3s - loss: 0.3446 - accuracy: 0.8631 - val_loss: 0.3276 - val_accuracy: 0.8722\n",
      "Epoch 4/100\n",
      "51/51 - 3s - loss: 0.2918 - accuracy: 0.8857 - val_loss: 0.3051 - val_accuracy: 0.8832\n",
      "Epoch 5/100\n",
      "51/51 - 3s - loss: 0.2578 - accuracy: 0.8998 - val_loss: 0.2979 - val_accuracy: 0.8859\n",
      "Epoch 6/100\n",
      "51/51 - 3s - loss: 0.2322 - accuracy: 0.9103 - val_loss: 0.2986 - val_accuracy: 0.8854\n",
      "Epoch 7/100\n",
      "51/51 - 3s - loss: 0.2117 - accuracy: 0.9182 - val_loss: 0.3047 - val_accuracy: 0.8826\n",
      "Epoch 8/100\n",
      "51/51 - 3s - loss: 0.1941 - accuracy: 0.9267 - val_loss: 0.3133 - val_accuracy: 0.8785\n",
      "Epoch 9/100\n",
      "51/51 - 3s - loss: 0.1796 - accuracy: 0.9328 - val_loss: 0.3265 - val_accuracy: 0.8751\n",
      "Epoch 10/100\n",
      "51/51 - 3s - loss: 0.1669 - accuracy: 0.9382 - val_loss: 0.3394 - val_accuracy: 0.8732\n",
      "34/34 - 0s - loss: 0.3510 - accuracy: 0.8683\n",
      "Epoch 1/100\n",
      "51/51 - 3s - loss: 0.5264 - accuracy: 0.8351 - val_loss: 0.4463 - val_accuracy: 0.8611\n",
      "Epoch 2/100\n",
      "51/51 - 3s - loss: 0.3894 - accuracy: 0.8601 - val_loss: 0.3489 - val_accuracy: 0.8694\n",
      "Epoch 3/100\n",
      "51/51 - 3s - loss: 0.3121 - accuracy: 0.8785 - val_loss: 0.3133 - val_accuracy: 0.8814\n",
      "Epoch 4/100\n",
      "51/51 - 3s - loss: 0.2705 - accuracy: 0.8951 - val_loss: 0.3027 - val_accuracy: 0.8836\n",
      "Epoch 5/100\n",
      "51/51 - 3s - loss: 0.2410 - accuracy: 0.9058 - val_loss: 0.2993 - val_accuracy: 0.8846\n",
      "Epoch 6/100\n",
      "51/51 - 3s - loss: 0.2176 - accuracy: 0.9161 - val_loss: 0.3019 - val_accuracy: 0.8842\n",
      "Epoch 7/100\n",
      "51/51 - 3s - loss: 0.1984 - accuracy: 0.9242 - val_loss: 0.3114 - val_accuracy: 0.8825\n",
      "Epoch 8/100\n",
      "51/51 - 3s - loss: 0.1820 - accuracy: 0.9315 - val_loss: 0.3210 - val_accuracy: 0.8784\n",
      "Epoch 9/100\n",
      "51/51 - 3s - loss: 0.1683 - accuracy: 0.9373 - val_loss: 0.3384 - val_accuracy: 0.8769\n",
      "Epoch 10/100\n",
      "51/51 - 3s - loss: 0.1564 - accuracy: 0.9428 - val_loss: 0.3505 - val_accuracy: 0.8720\n",
      "34/34 - 0s - loss: 0.3578 - accuracy: 0.8709\n",
      "Epoch 1/100\n",
      "51/51 - 4s - loss: 0.5294 - accuracy: 0.8413 - val_loss: 0.4625 - val_accuracy: 0.8576\n",
      "Epoch 2/100\n",
      "51/51 - 3s - loss: 0.4066 - accuracy: 0.8583 - val_loss: 0.3606 - val_accuracy: 0.8648\n",
      "Epoch 3/100\n",
      "51/51 - 3s - loss: 0.3251 - accuracy: 0.8759 - val_loss: 0.3152 - val_accuracy: 0.8784\n",
      "Epoch 4/100\n",
      "51/51 - 3s - loss: 0.2806 - accuracy: 0.8921 - val_loss: 0.2990 - val_accuracy: 0.8850\n",
      "Epoch 5/100\n",
      "51/51 - 3s - loss: 0.2501 - accuracy: 0.9039 - val_loss: 0.2944 - val_accuracy: 0.8869\n",
      "Epoch 6/100\n",
      "51/51 - 3s - loss: 0.2261 - accuracy: 0.9147 - val_loss: 0.2966 - val_accuracy: 0.8853\n",
      "Epoch 7/100\n",
      "51/51 - 3s - loss: 0.2060 - accuracy: 0.9233 - val_loss: 0.3041 - val_accuracy: 0.8824\n",
      "Epoch 8/100\n",
      "51/51 - 3s - loss: 0.1892 - accuracy: 0.9303 - val_loss: 0.3143 - val_accuracy: 0.8776\n",
      "Epoch 9/100\n",
      "51/51 - 3s - loss: 0.1747 - accuracy: 0.9367 - val_loss: 0.3270 - val_accuracy: 0.8739\n",
      "Epoch 10/100\n",
      "51/51 - 3s - loss: 0.1625 - accuracy: 0.9414 - val_loss: 0.3406 - val_accuracy: 0.8721\n",
      "34/34 - 0s - loss: 0.3499 - accuracy: 0.8714\n",
      "Epoch 1/100\n",
      "76/76 - 5s - loss: 0.5472 - accuracy: 0.7999 - val_loss: 0.4453 - val_accuracy: 0.8602\n",
      "Epoch 2/100\n",
      "76/76 - 4s - loss: 0.3803 - accuracy: 0.8616 - val_loss: 0.3352 - val_accuracy: 0.8739\n",
      "Epoch 3/100\n",
      "76/76 - 4s - loss: 0.3002 - accuracy: 0.8847 - val_loss: 0.3035 - val_accuracy: 0.8833\n",
      "Epoch 4/100\n",
      "76/76 - 4s - loss: 0.2624 - accuracy: 0.8990 - val_loss: 0.2962 - val_accuracy: 0.8843\n",
      "Epoch 5/100\n",
      "76/76 - 4s - loss: 0.2384 - accuracy: 0.9086 - val_loss: 0.2974 - val_accuracy: 0.8854\n",
      "Epoch 6/100\n",
      "76/76 - 4s - loss: 0.2197 - accuracy: 0.9160 - val_loss: 0.3037 - val_accuracy: 0.8835\n",
      "Epoch 7/100\n",
      "76/76 - 4s - loss: 0.2051 - accuracy: 0.9220 - val_loss: 0.3119 - val_accuracy: 0.8811\n",
      "Epoch 8/100\n",
      "76/76 - 4s - loss: 0.1922 - accuracy: 0.9281 - val_loss: 0.3240 - val_accuracy: 0.8803\n",
      "Epoch 9/100\n",
      "76/76 - 4s - loss: 0.1813 - accuracy: 0.9325 - val_loss: 0.3322 - val_accuracy: 0.8760\n",
      "Epoch 10/100\n",
      "76/76 - 4s - loss: 0.1717 - accuracy: 0.9372 - val_loss: 0.3455 - val_accuracy: 0.8704\n"
     ]
    },
    {
     "data": {
      "text/plain": [
       "GridSearchCV(cv=3,\n",
       "             estimator=<tensorflow.python.keras.wrappers.scikit_learn.KerasClassifier object at 0x000001AC8EE31640>,\n",
       "             param_grid={})"
      ]
     },
     "execution_count": 20,
     "metadata": {},
     "output_type": "execute_result"
    }
   ],
   "source": [
    "def build_classifier():\n",
    "    return build_model(hub_layer=None, pre_trained_model_name=MODEL_NAME, model_type='classifier', verbose=0)\n",
    "\n",
    "\n",
    "estimator = KerasClassifier(build_fn=build_classifier, epochs=100, batch_size=1024, verbose=2, validation_split=VAL_FRACTION)\n",
    "x_train_clf = np.array(list(rated_comments.value))\n",
    "y_train_clf = np.array(list((rated_comments.rating.astype(float)>=GOOD_REVIEW_THRESHOLD).astype(int)))\n",
    "\n",
    "clf = GridSearchCV(\n",
    "    estimator, \n",
    "    cv=3, \n",
    "    param_grid={}\n",
    ")\n",
    "clf.fit(x_train_clf, y_train_clf, callbacks=[tf.keras.callbacks.EarlyStopping(monitor='val_accuracy', patience=5, min_delta=0.001)])"
   ]
  },
  {
   "cell_type": "code",
   "execution_count": 21,
   "metadata": {},
   "outputs": [],
   "source": [
    "classifier = clf.best_estimator_\n",
    "classifier_history_dict = classifier.model.history.history"
   ]
  },
  {
   "cell_type": "code",
   "execution_count": 22,
   "metadata": {},
   "outputs": [
    {
     "data": {
      "text/plain": [
       "dict_keys(['loss', 'accuracy', 'val_loss', 'val_accuracy'])"
      ]
     },
     "execution_count": 22,
     "metadata": {},
     "output_type": "execute_result"
    }
   ],
   "source": [
    "classifier_history_dict.keys()"
   ]
  },
  {
   "cell_type": "code",
   "execution_count": 23,
   "metadata": {},
   "outputs": [],
   "source": [
    "acc = classifier_history_dict['accuracy']\n",
    "val_acc = classifier_history_dict['val_accuracy']\n",
    "loss = classifier_history_dict['loss']\n",
    "val_loss = classifier_history_dict['val_loss']"
   ]
  },
  {
   "cell_type": "code",
   "execution_count": 24,
   "metadata": {},
   "outputs": [],
   "source": [
    "epochs = range(1, len(acc) + 1) "
   ]
  },
  {
   "cell_type": "code",
   "execution_count": 25,
   "metadata": {},
   "outputs": [
    {
     "data": {
      "image/png": "[encoded data removed]",
      "text/plain": [
       "<Figure size 648x360 with 1 Axes>"
      ]
     },
     "metadata": {
      "needs_background": "light"
     },
     "output_type": "display_data"
    }
   ],
   "source": [
    "# \"bo\" is for \"blue dot\"\n",
    "plt.figure(figsize=(9, 5))\n",
    "plt.plot(epochs, loss, 'bo', label='Training loss')\n",
    "# b is for \"solid blue line\"\n",
    "plt.plot(epochs, val_loss, 'b', label='Validation loss')\n",
    "plt.title('Training and validation loss')\n",
    "plt.xlabel('Epochs')\n",
    "plt.ylabel('Loss')\n",
    "plt.grid(True)\n",
    "plt.legend()\n",
    "\n",
    "plt.show()"
   ]
  },
  {
   "cell_type": "code",
   "execution_count": 26,
   "metadata": {},
   "outputs": [
    {
     "data": {
      "image/png": "[encoded data removed]",
      "text/plain": [
       "<Figure size 648x360 with 1 Axes>"
      ]
     },
     "metadata": {
      "needs_background": "light"
     },
     "output_type": "display_data"
    }
   ],
   "source": [
    "plt.figure(figsize=(9, 5))\n",
    "plt.plot(epochs, acc, 'bo', label='Training acc')\n",
    "plt.plot(epochs, val_acc, 'b', label='Validation acc')\n",
    "plt.title('Training and validation accuracy')\n",
    "plt.xlabel('Epochs')\n",
    "plt.ylabel('Accuracy')\n",
    "plt.grid(True)\n",
    "plt.legend()\n",
    "\n",
    "plt.show()"
   ]
  },
  {
   "cell_type": "code",
   "execution_count": 27,
   "metadata": {},
   "outputs": [
    {
     "name": "stdout",
     "output_type": "stream",
     "text": [
      "input:\n",
      "\"Spiele gerne mit wenn ich gefragt werde, würde es aber nicht vorschlagen.\"\n",
      "score: 0.000000\n",
      "actual: 0\n",
      "\n",
      "input:\n",
      "\"Excellent, this is the first dungeon crawler/campaign game I introduced to my wife and she didn't want to stop playing, we put bout 50 plus hours in just a few weeks off playing and the asymmetry between each of the characters and enemies is just brilliant.\"\n",
      "score: 1.000000\n",
      "actual: 1\n",
      "\n",
      "input:\n",
      "\"Its #1 for a reason.\"\n",
      "score: 1.000000\n",
      "actual: 1\n",
      "\n",
      "input:\n",
      "\"Always fun, always crying about how imba the game is but always a twist in the end when it comes down to the victory points.\"\n",
      "score: 1.000000\n",
      "actual: 1\n",
      "\n",
      "input:\n",
      "\"Selmina igra.\"\n",
      "score: 1.000000\n",
      "actual: 1\n",
      "\n",
      "input:\n",
      "\"1 Play.  Like Viticulture - I appreciate it without thinking it was particularly fun.  Definitely interested in more plays though.\"\n",
      "score: 1.000000\n",
      "actual: 1\n",
      "\n",
      "input:\n",
      "\"best game for 2\"\n",
      "score: 1.000000\n",
      "actual: 1\n",
      "\n",
      "input:\n",
      "\"My favorite space game of all time. Never a bad time, win or lose.  2nd edition production quality is the roof and streamlines a few things to really make the game as close to perfection as possible. \"\n",
      "score: 1.000000\n",
      "actual: 1\n",
      "\n",
      "input:\n",
      "\"Overall impressions from my first game is that this is a solid tableau-builder and a very pleasant Sunday-afternoon euro experience. It has a nice amount of potential for interaction that little grudges could build in a humorous way (such as my brother dropping an asteroid on a friend's shrubbery, only to seven generations later be revenged upon by that same player's ants sneaking off with his bacteria), and definitely could open up to more competitive engagement - as it was, there was a lot of jostling for the last awards/achievements. Rulebook is below average, with just not enough photos of the gamestate and some typos. Art/production is very cheap, but overall, the gameplay is solid and makes for interesting choices.\"\n",
      "score: 1.000000\n",
      "actual: 1\n",
      "\n",
      "input:\n",
      "\"I'm looking to trade this for a Blood Rage Kickstarter package.\"\n",
      "score: 1.000000\n",
      "actual: 0\n"
     ]
    },
    {
     "name": "stderr",
     "output_type": "stream",
     "text": [
      "C:\\Users\\dev999\\.conda\\envs\\tensorflow2\\lib\\site-packages\\tensorflow\\python\\keras\\engine\\sequential.py:455: UserWarning: `model.predict_classes()` is deprecated and will be removed after 2021-01-01. Please use instead:* `np.argmax(model.predict(x), axis=-1)`,   if your model does multi-class classification   (e.g. if it uses a `softmax` last-layer activation).* `(model.predict(x) > 0.5).astype(\"int32\")`,   if your model does binary classification   (e.g. if it uses a `sigmoid` last-layer activation).\n",
      "  warnings.warn('`model.predict_classes()` is deprecated and '\n"
     ]
    }
   ],
   "source": [
    "inputs = x_train_clf[:10]\n",
    "outputs = y_train_clf[:10]\n",
    "results = classifier.predict(tf.constant(inputs), verbose=0)\n",
    "print_my_examples(inputs, results, outputs)"
   ]
  },
  {
   "cell_type": "code",
   "execution_count": 28,
   "metadata": {},
   "outputs": [],
   "source": [
    "## APPLY MODEL ON NON-RATED COMMENTS"
   ]
  },
  {
   "cell_type": "code",
   "execution_count": 29,
   "metadata": {},
   "outputs": [
    {
     "name": "stdout",
     "output_type": "stream",
     "text": [
      "9/9 - 0s\n",
      "input:\n",
      "\"Terra Mystica in space. I like this theming better.\"\n",
      "score: 1.000000\n",
      "\n",
      "input:\n",
      "\"WTP 1/4 [AREA CONTROL] 3-4 players; 60-90 minutes; The love child of Midgard and Chaos in the Old World (who was unfortunately born with the defect of card drafting)\"\n",
      "score: 1.000000\n",
      "\n",
      "input:\n",
      "\"Sam says very thematic but very MofM feel, but not sure. More reviews of meh gameplay.\"\n",
      "score: 0.000000\n",
      "\n",
      "input:\n",
      "\"It does look like one of the better LCG's out there & I love the theme, but I refuse to get sucked into these any longer. I hate the collectivity aspect, as it’s a wallet succubus. When I purchase a game, I like to have the game.\"\n",
      "score: 1.000000\n",
      "\n",
      "input:\n",
      "\"I hear good things so I want to try\"\n",
      "score: 1.000000\n",
      "\n",
      "input:\n",
      "\"I sucked at this game. Then I played it a bunch with Shelby and now I'm pretty good at it. By the third round, at the latest, what you're leaving becomes as or more important than what you are taking. I find that sort of layered choice thrilling.\"\n",
      "score: 1.000000\n",
      "\n",
      "input:\n",
      "\"We liked the game, but also felt it was too random and sometimes too much take that.\"\n",
      "score: 0.000000\n",
      "\n",
      "input:\n",
      "\"Cool game but too complex for my tastes. \"\n",
      "score: 0.000000\n",
      "\n",
      "input:\n",
      "\"In War of the Ring, one player takes control of the Free Peoples (FP), the other player controls Shadow Armies (SA). Initially, the Free People Nations are reluctant to take arms against Sauron, so they must be attacked by Sauron or persuaded by Gandalf or other Companions, before they start to fight properly: this is represented by the Political Track, which shows if a Nation is ready to fight in the War of the Ring or not.\"\n",
      "score: 1.000000\n",
      "\n",
      "input:\n",
      "\"Looks very interesting, high rating from dice tower, 2 hours they say which sounds very long\"\n",
      "score: 0.000000\n"
     ]
    }
   ],
   "source": [
    "not_rated_comments = not_rated_comments.sample(frac=1)\n",
    "results = classifier.predict(tf.constant(list(not_rated_comments.value.astype(str))))\n",
    "print_my_examples(list(not_rated_comments.value), results, limit=10)"
   ]
  },
  {
   "cell_type": "markdown",
   "metadata": {},
   "source": [
    "## REGRESSOR"
   ]
  },
  {
   "cell_type": "code",
   "execution_count": 30,
   "metadata": {},
   "outputs": [
    {
     "data": {
      "text/plain": [
       "GridSearchCV(cv=3,\n",
       "             estimator=<tensorflow.python.keras.wrappers.scikit_learn.KerasRegressor object at 0x000001B00006DF70>,\n",
       "             param_grid={})"
      ]
     },
     "execution_count": 30,
     "metadata": {},
     "output_type": "execute_result"
    }
   ],
   "source": [
    "def build_regressor():\n",
    "    return build_model(hub_layer, pre_trained_model_name=MODEL_NAME, model_type='regressor', verbose=0)\n",
    "\n",
    "\n",
    "estimator = KerasRegressor(build_fn=build_regressor, epochs=100, batch_size=512, verbose=0, validation_split=VAL_FRACTION)\n",
    "x_train_reg = np.array(list(rated_comments.value))\n",
    "y_train_reg = np.array(list(rated_comments.rating.astype(float)))\n",
    "\n",
    "clf = GridSearchCV(\n",
    "    estimator, \n",
    "    cv=3, \n",
    "    param_grid={}\n",
    ")\n",
    "clf.fit(x_train_reg, y_train_reg, callbacks=[tf.keras.callbacks.EarlyStopping(monitor='val_mean_squared_error', patience=5, min_delta=0.001)])"
   ]
  },
  {
   "cell_type": "code",
   "execution_count": 31,
   "metadata": {},
   "outputs": [],
   "source": [
    "regressor = clf.best_estimator_\n",
    "regressor_history_dict = regressor.model.history.history"
   ]
  },
  {
   "cell_type": "code",
   "execution_count": 32,
   "metadata": {},
   "outputs": [
    {
     "data": {
      "text/plain": [
       "dict_keys(['loss', 'mean_squared_error', 'val_loss', 'val_mean_squared_error'])"
      ]
     },
     "execution_count": 32,
     "metadata": {},
     "output_type": "execute_result"
    }
   ],
   "source": [
    "regressor_history_dict.keys()"
   ]
  },
  {
   "cell_type": "code",
   "execution_count": 33,
   "metadata": {},
   "outputs": [],
   "source": [
    "mean_squared_error = regressor_history_dict['mean_squared_error']\n",
    "val_mean_squared_error = regressor_history_dict['val_mean_squared_error']\n",
    "loss = regressor_history_dict['loss']\n",
    "val_loss = regressor_history_dict['val_loss']"
   ]
  },
  {
   "cell_type": "code",
   "execution_count": 34,
   "metadata": {},
   "outputs": [],
   "source": [
    "epochs = range(1, len(mean_squared_error) + 1) "
   ]
  },
  {
   "cell_type": "code",
   "execution_count": 35,
   "metadata": {},
   "outputs": [
    {
     "name": "stdout",
     "output_type": "stream",
     "text": [
      "MEAN SQUARED ERROR (VALIDATION SET): 2.14\n"
     ]
    }
   ],
   "source": [
    "print(f\"MEAN SQUARED ERROR (VALIDATION SET): {val_mean_squared_error[-1]:.2f}\")"
   ]
  },
  {
   "cell_type": "code",
   "execution_count": 36,
   "metadata": {},
   "outputs": [
    {
     "name": "stdout",
     "output_type": "stream",
     "text": [
      "MEAN SQUARED ERROR (TRAINING SET): 1.13\n"
     ]
    }
   ],
   "source": [
    "print(f\"MEAN SQUARED ERROR (TRAINING SET): {mean_squared_error[-1]:.2f}\")"
   ]
  },
  {
   "cell_type": "code",
   "execution_count": 37,
   "metadata": {},
   "outputs": [
    {
     "data": {
      "image/png": "[encoded data removed]",
      "text/plain": [
       "<Figure size 648x360 with 1 Axes>"
      ]
     },
     "metadata": {
      "needs_background": "light"
     },
     "output_type": "display_data"
    }
   ],
   "source": [
    "# \"bo\" is for \"blue dot\"\n",
    "plt.figure(figsize=(9, 5))\n",
    "plt.plot(epochs, loss, 'bo', label='Training loss')\n",
    "# b is for \"solid blue line\"\n",
    "plt.plot(epochs, val_loss, 'b', label='Validation loss')\n",
    "plt.title('Training and validation loss')\n",
    "plt.xlabel('Epochs')\n",
    "plt.ylabel('Loss')\n",
    "plt.grid(True)\n",
    "plt.legend()\n",
    "\n",
    "plt.show()"
   ]
  },
  {
   "cell_type": "code",
   "execution_count": 38,
   "metadata": {},
   "outputs": [
    {
     "data": {
      "image/png": "[encoded data removed]",
      "text/plain": [
       "<Figure size 648x360 with 1 Axes>"
      ]
     },
     "metadata": {
      "needs_background": "light"
     },
     "output_type": "display_data"
    }
   ],
   "source": [
    "plt.figure(figsize=(9, 5))\n",
    "plt.plot(epochs, mean_squared_error, 'bo', label='Training mean squared error')\n",
    "plt.plot(epochs, val_mean_squared_error, 'b', label='Validation mean squared error')\n",
    "plt.title('Training and validation accuracy')\n",
    "plt.xlabel('Epochs')\n",
    "plt.ylabel('Mean squared error')\n",
    "plt.grid(True)\n",
    "plt.legend()\n",
    "\n",
    "plt.show()"
   ]
  },
  {
   "cell_type": "code",
   "execution_count": 39,
   "metadata": {},
   "outputs": [
    {
     "name": "stdout",
     "output_type": "stream",
     "text": [
      "input: \n",
      "\"Spiele gerne mit wenn ich gefragt werde, würde es aber nicht vorschlagen.\"\n",
      "score: 7.09\n",
      "actual: 6.00 \n",
      "\n",
      "input: \n",
      "\"Excellent, this is the first dungeon crawler/campaign game I introduced to my wife and she didn't want to stop playing, we put bout 50 plus hours in just a few weeks off playing and the asymmetry between each of the characters and enemies is just brilliant.\"\n",
      "score: 8.62\n",
      "actual: 9.00 \n",
      "\n",
      "input: \n",
      "\"Its #1 for a reason.\"\n",
      "score: 8.62\n",
      "actual: 10.00 \n",
      "\n",
      "input: \n",
      "\"Always fun, always crying about how imba the game is but always a twist in the end when it comes down to the victory points.\"\n",
      "score: 9.57\n",
      "actual: 9.00 \n",
      "\n",
      "input: \n",
      "\"Selmina igra.\"\n",
      "score: 8.72\n",
      "actual: 8.00 \n",
      "\n",
      "input: \n",
      "\"1 Play.  Like Viticulture - I appreciate it without thinking it was particularly fun.  Definitely interested in more plays though.\"\n",
      "score: 7.49\n",
      "actual: 7.50 \n",
      "\n",
      "input: \n",
      "\"best game for 2\"\n",
      "score: 9.07\n",
      "actual: 9.00 \n",
      "\n",
      "input: \n",
      "\"My favorite space game of all time. Never a bad time, win or lose.  2nd edition production quality is the roof and streamlines a few things to really make the game as close to perfection as possible. \"\n",
      "score: 9.20\n",
      "actual: 9.00 \n",
      "\n",
      "input: \n",
      "\"Overall impressions from my first game is that this is a solid tableau-builder and a very pleasant Sunday-afternoon euro experience. It has a nice amount of potential for interaction that little grudges could build in a humorous way (such as my brother dropping an asteroid on a friend's shrubbery, only to seven generations later be revenged upon by that same player's ants sneaking off with his bacteria), and definitely could open up to more competitive engagement - as it was, there was a lot of jostling for the last awards/achievements. Rulebook is below average, with just not enough photos of the gamestate and some typos. Art/production is very cheap, but overall, the gameplay is solid and makes for interesting choices.\"\n",
      "score: 7.71\n",
      "actual: 8.00 \n",
      "\n",
      "input: \n",
      "\"I'm looking to trade this for a Blood Rage Kickstarter package.\"\n",
      "score: 8.58\n",
      "actual: 6.00 \n",
      "\n"
     ]
    }
   ],
   "source": [
    "inputs = x_train_reg[:10]\n",
    "outputs = y_train_reg[:10]\n",
    "results = clf.best_estimator_.predict(tf.constant(inputs), verbose=0)\n",
    "for i in range(len(inputs)):\n",
    "    print(f\"input: \\n\\\"{inputs[i]}\\\"\\nscore: {results[i]:.2f}\\nactual: {outputs[i]:.2f} \\n\")"
   ]
  },
  {
   "cell_type": "markdown",
   "metadata": {},
   "source": [
    "## COMPARE CLASSIFIER VS REGRESSOR"
   ]
  },
  {
   "cell_type": "code",
   "execution_count": 40,
   "metadata": {},
   "outputs": [
    {
     "name": "stdout",
     "output_type": "stream",
     "text": [
      "\"Purchased from Boardgame Guru in autumn 2016\"\n",
      "    reg score: 5.08\n",
      "    clf score: 1\n",
      "\n",
      "\"initial impression: much heavier dose of polyomino tile laying than expected, numerous pathways to explore and score points, never felt tight until maybe the last round (with 4p)\"\n",
      "    reg score: 7.20\n",
      "    clf score: 1\n",
      "\n",
      "\"I'm really into diverse characters/factions that radically change the nature of the game.  I don't know if I'd like the wargame heart of Root, and I don't know if I'd ever actually play it much.\"\n",
      "    reg score: 7.62\n",
      "    clf score: 1\n",
      "\n",
      "\"Trevligt spel, men kanske inte favoriten än så länge.\"\n",
      "    reg score: 8.39\n",
      "    clf score: 1\n",
      "\n",
      "\"Sold to Roger O., who I owe a beverage at Origins '17. \"\n",
      "    reg score: 6.22\n",
      "    clf score: 0\n",
      "\n",
      "\"Acquired @ Strategicon, Feb 2017. Never opened it.  Never played it.  Purged it.\"\n",
      "    reg score: 6.98\n",
      "    clf score: 1\n",
      "\n",
      "\"Traded.  While it certainly is a fun game, it took too long to play.\"\n",
      "    reg score: 6.76\n",
      "    clf score: 0\n",
      "\n",
      "\"KS Edition with Constructs and Undead minis  Crono Expansion Hidden Thorns Inferno  Armageddon Promo Card (PnP) Black Lymph Promo Card Supreme Invocation Promo  Familiar Cerberus Familiar Draco Familiar Griffin Familiar Hydrae  Sator Box  PREORDERED Nova Aetas: Renaissance - Hyperion Draco Mini \"\n",
      "    reg score: 6.33\n",
      "    clf score: 1\n",
      "\n",
      "\"Kickstarted: August 2021 Estimated Delivery Date: December 2022\"\n",
      "    reg score: 10.44\n",
      "    clf score: 1\n",
      "\n",
      "\"Jon won by 94 to 88. Jon built lots of forests end of turn.\"\n",
      "    reg score: 5.59\n",
      "    clf score: 1\n",
      "\n"
     ]
    },
    {
     "name": "stderr",
     "output_type": "stream",
     "text": [
      "C:\\Users\\dev999\\.conda\\envs\\tensorflow2\\lib\\site-packages\\tensorflow\\python\\keras\\engine\\sequential.py:455: UserWarning: `model.predict_classes()` is deprecated and will be removed after 2021-01-01. Please use instead:* `np.argmax(model.predict(x), axis=-1)`,   if your model does multi-class classification   (e.g. if it uses a `softmax` last-layer activation).* `(model.predict(x) > 0.5).astype(\"int32\")`,   if your model does binary classification   (e.g. if it uses a `sigmoid` last-layer activation).\n",
      "  warnings.warn('`model.predict_classes()` is deprecated and '\n"
     ]
    }
   ],
   "source": [
    "not_rated_comments = not_rated_comments.sample(frac=1)\n",
    "inputs = list(not_rated_comments.value.astype(str))[:10]\n",
    "\n",
    "clf_results = classifier.predict(inputs, verbose=0)\n",
    "reg_results = regressor.predict(inputs, verbose=0)\n",
    "for i in range(len(inputs)):\n",
    "    print(f\"\"\"\\\"{inputs[i]}\\\"\n",
    "    reg score: {reg_results[i]:.2f}\n",
    "    clf score: {clf_results[i][0]}\n",
    "\"\"\")"
   ]
  },
  {
   "cell_type": "markdown",
   "metadata": {},
   "source": [
    "### RESULTS\n",
    "It seems that the regressor is much more accurate compared to the binary classifier => **let's use the regressors results to fix the BGG rating**"
   ]
  },
  {
   "cell_type": "markdown",
   "metadata": {},
   "source": [
    "## COMBINE RATED COMMENTS AND NOT-RATED COMMENTS WITH PREDICTED RATING"
   ]
  },
  {
   "cell_type": "code",
   "execution_count": 41,
   "metadata": {},
   "outputs": [
    {
     "name": "stdout",
     "output_type": "stream",
     "text": [
      "rated_comments_grouped: \n",
      "|     id |   rating_mean |   rating_count |\n",
      "|--------|---------------|----------------|\n",
      "| 115746 |          8.73 |           1949 |\n",
      "| 124361 |          8.19 |           3970 |\n",
      "| 162886 |          8.37 |           3721 |\n",
      "| 167355 |          8.42 |           2021 |\n",
      "| 167791 |          8.20 |           8538 |\n"
     ]
    }
   ],
   "source": [
    "rated_comments['rating'] = rated_comments.rating.astype(float)\n",
    "rated_comments_grouped = rated_comments.groupby('id').agg({'rating': ['mean', 'count']})\n",
    "rated_comments_grouped.columns = list(rated_comments_grouped.columns.map('_'.join))\n",
    "rated_comments_grouped = rated_comments_grouped.reset_index()\n",
    "print(\"rated_comments_grouped: \")\n",
    "print(rated_comments_grouped.head().to_markdown(index=False, floatfmt='.2f', tablefmt='github'))"
   ]
  },
  {
   "cell_type": "code",
   "execution_count": 42,
   "metadata": {},
   "outputs": [],
   "source": [
    "not_rated_comments['rating'] = regressor.predict(list(not_rated_comments.value.astype(str)))"
   ]
  },
  {
   "cell_type": "code",
   "execution_count": 43,
   "metadata": {},
   "outputs": [
    {
     "name": "stdout",
     "output_type": "stream",
     "text": [
      "not_rated_comments_grouped: \n",
      "|     id |   rating_mean |   rating_count |\n",
      "|--------|---------------|----------------|\n",
      "| 115746 |          8.31 |            266 |\n",
      "| 124361 |          8.00 |            258 |\n",
      "| 162886 |          8.06 |            327 |\n",
      "| 167355 |          8.34 |            215 |\n",
      "| 167791 |          8.20 |            454 |\n"
     ]
    }
   ],
   "source": [
    "not_rated_comments['rating'] = not_rated_comments.rating.astype(float)\n",
    "not_rated_comments['rating'] = not_rated_comments['rating'].clip(0, 10)\n",
    "not_rated_comments_grouped = not_rated_comments.groupby('id').agg({'rating': ['mean', 'count']})\n",
    "not_rated_comments_grouped.columns = list(not_rated_comments_grouped.columns.map('_'.join))\n",
    "not_rated_comments_grouped = not_rated_comments_grouped.reset_index()\n",
    "print(\"not_rated_comments_grouped: \")\n",
    "print(not_rated_comments_grouped.head().to_markdown(index=False, floatfmt='.2f', tablefmt='github'))"
   ]
  },
  {
   "cell_type": "code",
   "execution_count": 44,
   "metadata": {},
   "outputs": [],
   "source": [
    "grouped = rated_comments_grouped.merge(not_rated_comments_grouped, on='id', suffixes=('_review', '_comments'), how='outer')\n",
    "grouped['id'] = grouped.id.astype(str)\n",
    "grouped = grouped.merge(pd.DataFrame(hot_array), on='id', how='right')\n",
    "grouped['rank'] = grouped['rank'].astype(int)\n",
    "grouped['url'] = grouped['id'].apply(lambda x: f\"https://boardgamegeek.com/boardgame/{x}\")\n",
    "grouped['fixed_rating'] = (grouped['rating_mean_review']*grouped['rating_count_review']+grouped['rating_mean_comments']*grouped['rating_count_comments']) /\\\n",
    "                            (grouped['rating_count_review']+grouped['rating_count_comments'])\n",
    "grouped['thumbnail'] = grouped['thumbnail'].apply(lambda x: f'<img src=\"{x}\" width=\"124\" />')\n",
    "grouped['name'] = grouped.apply(lambda x: f'<a href=\"{x[\"url\"]}\">{x[\"name\"]}</a>', axis=1)\n",
    "\n",
    "grouped = grouped[['thumbnail', 'name', 'rating_mean_review', 'rating_mean_comments', 'fixed_rating', 'rank', 'yearpublished']]"
   ]
  },
  {
   "cell_type": "code",
   "execution_count": 45,
   "metadata": {},
   "outputs": [
    {
     "data": {
      "text/html": [
       "<div>\n",
       "<style scoped>\n",
       "    .dataframe tbody tr th:only-of-type {\n",
       "        vertical-align: middle;\n",
       "    }\n",
       "\n",
       "    .dataframe tbody tr th {\n",
       "        vertical-align: top;\n",
       "    }\n",
       "\n",
       "    .dataframe thead th {\n",
       "        text-align: right;\n",
       "    }\n",
       "</style>\n",
       "<table border=\"1\" class=\"dataframe\">\n",
       "  <thead>\n",
       "    <tr style=\"text-align: right;\">\n",
       "      <th></th>\n",
       "      <th>thumbnail</th>\n",
       "      <th>name</th>\n",
       "      <th>rating_mean_review</th>\n",
       "      <th>rating_mean_comments</th>\n",
       "      <th>fixed_rating</th>\n",
       "      <th>rank</th>\n",
       "      <th>yearpublished</th>\n",
       "    </tr>\n",
       "  </thead>\n",
       "  <tbody>\n",
       "    <tr>\n",
       "      <th>0</th>\n",
       "      <td>&lt;img src=\"https://cf.geekdo-images.com/C9U2E51...</td>\n",
       "      <td>&lt;a href=\"https://boardgamegeek.com/boardgame/3...</td>\n",
       "      <td>7.978351</td>\n",
       "      <td>8.048379</td>\n",
       "      <td>7.985183</td>\n",
       "      <td>1</td>\n",
       "      <td>2020</td>\n",
       "    </tr>\n",
       "    <tr>\n",
       "      <th>1</th>\n",
       "      <td>&lt;img src=\"https://cf.geekdo-images.com/hItZjdD...</td>\n",
       "      <td>&lt;a href=\"https://boardgamegeek.com/boardgame/3...</td>\n",
       "      <td>10.000000</td>\n",
       "      <td>8.188942</td>\n",
       "      <td>8.490785</td>\n",
       "      <td>2</td>\n",
       "      <td>2022</td>\n",
       "    </tr>\n",
       "    <tr>\n",
       "      <th>2</th>\n",
       "      <td>&lt;img src=\"https://cf.geekdo-images.com/_al0scM...</td>\n",
       "      <td>&lt;a href=\"https://boardgamegeek.com/boardgame/2...</td>\n",
       "      <td>7.517381</td>\n",
       "      <td>8.096305</td>\n",
       "      <td>7.665191</td>\n",
       "      <td>3</td>\n",
       "      <td>2021</td>\n",
       "    </tr>\n",
       "    <tr>\n",
       "      <th>3</th>\n",
       "      <td>&lt;img src=\"https://cf.geekdo-images.com/Q96PxRV...</td>\n",
       "      <td>&lt;a href=\"https://boardgamegeek.com/boardgame/3...</td>\n",
       "      <td>7.155260</td>\n",
       "      <td>7.311945</td>\n",
       "      <td>7.163435</td>\n",
       "      <td>4</td>\n",
       "      <td>2021</td>\n",
       "    </tr>\n",
       "    <tr>\n",
       "      <th>4</th>\n",
       "      <td>&lt;img src=\"https://cf.geekdo-images.com/PhjygpW...</td>\n",
       "      <td>&lt;a href=\"https://boardgamegeek.com/boardgame/3...</td>\n",
       "      <td>8.041972</td>\n",
       "      <td>7.885986</td>\n",
       "      <td>8.031388</td>\n",
       "      <td>5</td>\n",
       "      <td>2020</td>\n",
       "    </tr>\n",
       "  </tbody>\n",
       "</table>\n",
       "</div>"
      ],
      "text/plain": [
       "                                           thumbnail  \\\n",
       "0  <img src=\"https://cf.geekdo-images.com/C9U2E51...   \n",
       "1  <img src=\"https://cf.geekdo-images.com/hItZjdD...   \n",
       "2  <img src=\"https://cf.geekdo-images.com/_al0scM...   \n",
       "3  <img src=\"https://cf.geekdo-images.com/Q96PxRV...   \n",
       "4  <img src=\"https://cf.geekdo-images.com/PhjygpW...   \n",
       "\n",
       "                                                name  rating_mean_review  \\\n",
       "0  <a href=\"https://boardgamegeek.com/boardgame/3...            7.978351   \n",
       "1  <a href=\"https://boardgamegeek.com/boardgame/3...           10.000000   \n",
       "2  <a href=\"https://boardgamegeek.com/boardgame/2...            7.517381   \n",
       "3  <a href=\"https://boardgamegeek.com/boardgame/3...            7.155260   \n",
       "4  <a href=\"https://boardgamegeek.com/boardgame/3...            8.041972   \n",
       "\n",
       "   rating_mean_comments  fixed_rating  rank yearpublished  \n",
       "0              8.048379      7.985183     1          2020  \n",
       "1              8.188942      8.490785     2          2022  \n",
       "2              8.096305      7.665191     3          2021  \n",
       "3              7.311945      7.163435     4          2021  \n",
       "4              7.885986      8.031388     5          2020  "
      ]
     },
     "execution_count": 45,
     "metadata": {},
     "output_type": "execute_result"
    }
   ],
   "source": [
    "grouped.head()"
   ]
  },
  {
   "cell_type": "code",
   "execution_count": 46,
   "metadata": {},
   "outputs": [],
   "source": [
    "def display_topn(by, n=5, ascending=True):\n",
    "    temp_df = grouped.sort_values(by, ascending=ascending).head(n)\n",
    "    temp_df.index=list(range(1, n+1))\n",
    "    return HTML(temp_df.to_html(escape=False, classes='table table-striped'))"
   ]
  },
  {
   "cell_type": "code",
   "execution_count": 47,
   "metadata": {},
   "outputs": [
    {
     "data": {
      "text/html": [
       "<table border=\"1\" class=\"dataframe table table-striped\">\n",
       "  <thead>\n",
       "    <tr style=\"text-align: right;\">\n",
       "      <th></th>\n",
       "      <th>thumbnail</th>\n",
       "      <th>name</th>\n",
       "      <th>rating_mean_review</th>\n",
       "      <th>rating_mean_comments</th>\n",
       "      <th>fixed_rating</th>\n",
       "      <th>rank</th>\n",
       "      <th>yearpublished</th>\n",
       "    </tr>\n",
       "  </thead>\n",
       "  <tbody>\n",
       "    <tr>\n",
       "      <th>1</th>\n",
       "      <td><img src=\"https://cf.geekdo-images.com/C9U2E51tkzLljewFEGQ74g__thumb/img/4KV3wj3NiJDgGTh3zmW0_8Ph3Zc=/fit-in/200x150/filters:strip_icc()/pic5837347.jpg\" width=\"124\" /></td>\n",
       "      <td><a href=\"https://boardgamegeek.com/boardgame/307002\">Regicide</a></td>\n",
       "      <td>7.978351</td>\n",
       "      <td>8.048379</td>\n",
       "      <td>7.985183</td>\n",
       "      <td>1</td>\n",
       "      <td>2020</td>\n",
       "    </tr>\n",
       "    <tr>\n",
       "      <th>2</th>\n",
       "      <td><img src=\"https://cf.geekdo-images.com/hItZjdDTNuaCZ7fEztwcUQ__thumb/img/Ov6eWR87PZ2O1XYQtXMO6KvfzOg=/fit-in/200x150/filters:strip_icc()/pic6153324.jpg\" width=\"124\" /></td>\n",
       "      <td><a href=\"https://boardgamegeek.com/boardgame/337627\">Voidfall</a></td>\n",
       "      <td>10.000000</td>\n",
       "      <td>8.188942</td>\n",
       "      <td>8.490785</td>\n",
       "      <td>2</td>\n",
       "      <td>2022</td>\n",
       "    </tr>\n",
       "    <tr>\n",
       "      <th>3</th>\n",
       "      <td><img src=\"https://cf.geekdo-images.com/_al0scMG_pQfGVM31Scf1Q__thumb/img/OMVAMJX95HNO-vSRdk-kGjAzzBY=/fit-in/200x150/filters:strip_icc()/pic6107853.jpg\" width=\"124\" /></td>\n",
       "      <td><a href=\"https://boardgamegeek.com/boardgame/285967\">Ankh: Gods of Egypt</a></td>\n",
       "      <td>7.517381</td>\n",
       "      <td>8.096305</td>\n",
       "      <td>7.665191</td>\n",
       "      <td>3</td>\n",
       "      <td>2021</td>\n",
       "    </tr>\n",
       "    <tr>\n",
       "      <th>4</th>\n",
       "      <td><img src=\"https://cf.geekdo-images.com/Q96PxRVbrDxS9_4ZPTJtHQ__thumb/img/hXnjkvD7KiLk2fon8tbvsXNtT_k=/fit-in/200x150/filters:strip_icc()/pic5941333.png\" width=\"124\" /></td>\n",
       "      <td><a href=\"https://boardgamegeek.com/boardgame/322708\">Descent: Legends of the Dark</a></td>\n",
       "      <td>7.155260</td>\n",
       "      <td>7.311945</td>\n",
       "      <td>7.163435</td>\n",
       "      <td>4</td>\n",
       "      <td>2021</td>\n",
       "    </tr>\n",
       "    <tr>\n",
       "      <th>5</th>\n",
       "      <td><img src=\"https://cf.geekdo-images.com/PhjygpWSo-0labGrPBMyyg__thumb/img/JGgY-nBmkyB8WRp8vcoBLlNMQ5U=/fit-in/200x150/filters:strip_icc()/pic5666597.jpg\" width=\"124\" /></td>\n",
       "      <td><a href=\"https://boardgamegeek.com/boardgame/316554\">Dune: Imperium</a></td>\n",
       "      <td>8.041972</td>\n",
       "      <td>7.885986</td>\n",
       "      <td>8.031388</td>\n",
       "      <td>5</td>\n",
       "      <td>2020</td>\n",
       "    </tr>\n",
       "  </tbody>\n",
       "</table>"
      ],
      "text/plain": [
       "<IPython.core.display.HTML object>"
      ]
     },
     "execution_count": 47,
     "metadata": {},
     "output_type": "execute_result"
    }
   ],
   "source": [
    "# TOP N RANK\n",
    "display_topn(by='rank', n=TOP_N)"
   ]
  },
  {
   "cell_type": "code",
   "execution_count": 48,
   "metadata": {},
   "outputs": [
    {
     "data": {
      "text/html": [
       "<table border=\"1\" class=\"dataframe table table-striped\">\n",
       "  <thead>\n",
       "    <tr style=\"text-align: right;\">\n",
       "      <th></th>\n",
       "      <th>thumbnail</th>\n",
       "      <th>name</th>\n",
       "      <th>rating_mean_review</th>\n",
       "      <th>rating_mean_comments</th>\n",
       "      <th>fixed_rating</th>\n",
       "      <th>rank</th>\n",
       "      <th>yearpublished</th>\n",
       "    </tr>\n",
       "  </thead>\n",
       "  <tbody>\n",
       "    <tr>\n",
       "      <th>1</th>\n",
       "      <td><img src=\"https://cf.geekdo-images.com/hItZjdDTNuaCZ7fEztwcUQ__thumb/img/Ov6eWR87PZ2O1XYQtXMO6KvfzOg=/fit-in/200x150/filters:strip_icc()/pic6153324.jpg\" width=\"124\" /></td>\n",
       "      <td><a href=\"https://boardgamegeek.com/boardgame/337627\">Voidfall</a></td>\n",
       "      <td>10.000000</td>\n",
       "      <td>8.188942</td>\n",
       "      <td>8.490785</td>\n",
       "      <td>2</td>\n",
       "      <td>2022</td>\n",
       "    </tr>\n",
       "    <tr>\n",
       "      <th>2</th>\n",
       "      <td><img src=\"https://cf.geekdo-images.com/Oh3kHw6lweg6ru71Q16h2Q__thumb/img/e9XZdQe1ZcPpaq4Gy31OoWBB_V0=/fit-in/200x150/filters:strip_icc()/pic5235277.jpg\" width=\"124\" /></td>\n",
       "      <td><a href=\"https://boardgamegeek.com/boardgame/246900\">Eclipse: Second Dawn for the Galaxy</a></td>\n",
       "      <td>8.738676</td>\n",
       "      <td>8.003076</td>\n",
       "      <td>8.628773</td>\n",
       "      <td>49</td>\n",
       "      <td>2020</td>\n",
       "    </tr>\n",
       "    <tr>\n",
       "      <th>3</th>\n",
       "      <td><img src=\"https://cf.geekdo-images.com/ImPgGag98W6gpV1KV812aA__thumb/img/X-lBBdG4uO6LT0y1vXxCN4jdR4M=/fit-in/200x150/filters:strip_icc()/pic1215633.jpg\" width=\"124\" /></td>\n",
       "      <td><a href=\"https://boardgamegeek.com/boardgame/115746\">War of the Ring: Second Edition</a></td>\n",
       "      <td>8.731068</td>\n",
       "      <td>8.310544</td>\n",
       "      <td>8.680567</td>\n",
       "      <td>47</td>\n",
       "      <td>2012</td>\n",
       "    </tr>\n",
       "    <tr>\n",
       "      <th>4</th>\n",
       "      <td><img src=\"https://cf.geekdo-images.com/x3zxjr-Vw5iU4yDPg70Jgw__thumb/img/o18rjEemoWaVru9Y2TyPwuIaRfE=/fit-in/200x150/filters:strip_icc()/pic3490053.jpg\" width=\"124\" /></td>\n",
       "      <td><a href=\"https://boardgamegeek.com/boardgame/224517\">Brass: Birmingham</a></td>\n",
       "      <td>8.678120</td>\n",
       "      <td>8.209862</td>\n",
       "      <td>8.637144</td>\n",
       "      <td>23</td>\n",
       "      <td>2018</td>\n",
       "    </tr>\n",
       "    <tr>\n",
       "      <th>5</th>\n",
       "      <td><img src=\"https://cf.geekdo-images.com/_HhIdavYW-hid20Iq3hhmg__thumb/img/OMkN_E5eyWrkID_cHCnQEbIixGM=/fit-in/200x150/filters:strip_icc()/pic5055631.jpg\" width=\"124\" /></td>\n",
       "      <td><a href=\"https://boardgamegeek.com/boardgame/291457\">Gloomhaven: Jaws of the Lion</a></td>\n",
       "      <td>8.543655</td>\n",
       "      <td>8.011601</td>\n",
       "      <td>8.495678</td>\n",
       "      <td>25</td>\n",
       "      <td>2020</td>\n",
       "    </tr>\n",
       "  </tbody>\n",
       "</table>"
      ],
      "text/plain": [
       "<IPython.core.display.HTML object>"
      ]
     },
     "execution_count": 48,
     "metadata": {},
     "output_type": "execute_result"
    }
   ],
   "source": [
    "# TOP N REVIEW RANK\n",
    "display_topn(by='rating_mean_review', n=TOP_N, ascending=False)"
   ]
  },
  {
   "cell_type": "code",
   "execution_count": 49,
   "metadata": {},
   "outputs": [
    {
     "data": {
      "text/html": [
       "<table border=\"1\" class=\"dataframe table table-striped\">\n",
       "  <thead>\n",
       "    <tr style=\"text-align: right;\">\n",
       "      <th></th>\n",
       "      <th>thumbnail</th>\n",
       "      <th>name</th>\n",
       "      <th>rating_mean_review</th>\n",
       "      <th>rating_mean_comments</th>\n",
       "      <th>fixed_rating</th>\n",
       "      <th>rank</th>\n",
       "      <th>yearpublished</th>\n",
       "    </tr>\n",
       "  </thead>\n",
       "  <tbody>\n",
       "    <tr>\n",
       "      <th>1</th>\n",
       "      <td><img src=\"https://cf.geekdo-images.com/ImPgGag98W6gpV1KV812aA__thumb/img/X-lBBdG4uO6LT0y1vXxCN4jdR4M=/fit-in/200x150/filters:strip_icc()/pic1215633.jpg\" width=\"124\" /></td>\n",
       "      <td><a href=\"https://boardgamegeek.com/boardgame/115746\">War of the Ring: Second Edition</a></td>\n",
       "      <td>8.731068</td>\n",
       "      <td>8.310544</td>\n",
       "      <td>8.680567</td>\n",
       "      <td>47</td>\n",
       "      <td>2012</td>\n",
       "    </tr>\n",
       "    <tr>\n",
       "      <th>2</th>\n",
       "      <td><img src=\"https://cf.geekdo-images.com/x3zxjr-Vw5iU4yDPg70Jgw__thumb/img/o18rjEemoWaVru9Y2TyPwuIaRfE=/fit-in/200x150/filters:strip_icc()/pic3490053.jpg\" width=\"124\" /></td>\n",
       "      <td><a href=\"https://boardgamegeek.com/boardgame/224517\">Brass: Birmingham</a></td>\n",
       "      <td>8.678120</td>\n",
       "      <td>8.209862</td>\n",
       "      <td>8.637144</td>\n",
       "      <td>23</td>\n",
       "      <td>2018</td>\n",
       "    </tr>\n",
       "    <tr>\n",
       "      <th>3</th>\n",
       "      <td><img src=\"https://cf.geekdo-images.com/Oh3kHw6lweg6ru71Q16h2Q__thumb/img/e9XZdQe1ZcPpaq4Gy31OoWBB_V0=/fit-in/200x150/filters:strip_icc()/pic5235277.jpg\" width=\"124\" /></td>\n",
       "      <td><a href=\"https://boardgamegeek.com/boardgame/246900\">Eclipse: Second Dawn for the Galaxy</a></td>\n",
       "      <td>8.738676</td>\n",
       "      <td>8.003076</td>\n",
       "      <td>8.628773</td>\n",
       "      <td>49</td>\n",
       "      <td>2020</td>\n",
       "    </tr>\n",
       "    <tr>\n",
       "      <th>4</th>\n",
       "      <td><img src=\"https://cf.geekdo-images.com/_HhIdavYW-hid20Iq3hhmg__thumb/img/OMkN_E5eyWrkID_cHCnQEbIixGM=/fit-in/200x150/filters:strip_icc()/pic5055631.jpg\" width=\"124\" /></td>\n",
       "      <td><a href=\"https://boardgamegeek.com/boardgame/291457\">Gloomhaven: Jaws of the Lion</a></td>\n",
       "      <td>8.543655</td>\n",
       "      <td>8.011601</td>\n",
       "      <td>8.495678</td>\n",
       "      <td>25</td>\n",
       "      <td>2020</td>\n",
       "    </tr>\n",
       "    <tr>\n",
       "      <th>5</th>\n",
       "      <td><img src=\"https://cf.geekdo-images.com/hItZjdDTNuaCZ7fEztwcUQ__thumb/img/Ov6eWR87PZ2O1XYQtXMO6KvfzOg=/fit-in/200x150/filters:strip_icc()/pic6153324.jpg\" width=\"124\" /></td>\n",
       "      <td><a href=\"https://boardgamegeek.com/boardgame/337627\">Voidfall</a></td>\n",
       "      <td>10.000000</td>\n",
       "      <td>8.188942</td>\n",
       "      <td>8.490785</td>\n",
       "      <td>2</td>\n",
       "      <td>2022</td>\n",
       "    </tr>\n",
       "  </tbody>\n",
       "</table>"
      ],
      "text/plain": [
       "<IPython.core.display.HTML object>"
      ]
     },
     "execution_count": 49,
     "metadata": {},
     "output_type": "execute_result"
    }
   ],
   "source": [
    "# TOP N FIXED RANK\n",
    "display_topn(by='fixed_rating', n=TOP_N, ascending=False)"
   ]
  },
  {
   "cell_type": "code",
   "execution_count": 50,
   "metadata": {},
   "outputs": [],
   "source": [
    "# model.save('saved_model\\my_model')"
   ]
  },
  {
   "cell_type": "code",
   "execution_count": 51,
   "metadata": {},
   "outputs": [],
   "source": [
    "# saved_model = tf.keras.models.load_model('saved_model\\my_model')"
   ]
  },
  {
   "cell_type": "code",
   "execution_count": 52,
   "metadata": {},
   "outputs": [],
   "source": [
    "# some examples on \"long\" comments vs short comments"
   ]
  },
  {
   "cell_type": "code",
   "execution_count": 53,
   "metadata": {},
   "outputs": [],
   "source": [
    "not_rated_comments['comment_len'] = not_rated_comments['value'].str.len()\n",
    "some_long_comments = not_rated_comments.query(\"comment_len>100 and comment_len<300\").sample(frac=1).head(25).sort_values('rating')"
   ]
  },
  {
   "cell_type": "code",
   "execution_count": 54,
   "metadata": {},
   "outputs": [
    {
     "name": "stdout",
     "output_type": "stream",
     "text": [
      "\"It's a little dense and themeless for me. Certainly a solid game, but feels too much like crunching numbers and not enough like playing.\" (Brass: Birmingham) \n",
      "score: 3.79\n",
      "\n",
      "\"[b]Accessories:[/b] [url= Flight [color=#7540A6](Standard European)[/color][/url][url=  Maracaibo: Metal Coins[/url] \" (Maracaibo) \n",
      "score: 5.53\n",
      "\n",
      "\"everybody thinks they play da game. But is the game that play you. No chance, No choose. Bad game and too expensive\" (Root) \n",
      "score: 5.60\n",
      "\n",
      "\"Played once in a two player game, and found it lacking for 2 players. I think this one needs to have 4 players to be fully enjoyed. I like flexibility in my games, so that they can be enjoyed with all numbers of players that it lists. I felt too constricted to have 4 players to really enjoy it. \" (Root) \n",
      "score: 6.48\n",
      "\n",
      "\"Status: Organizing Kickstarter: EB Magister Pledge  Own: Complete Collection  +Upgrade Kit +Promos(Update) Sleeves: Organization: Miniatures: Notes: 1. RDPL\" (Black Rose Wars) \n",
      "score: 6.73\n",
      "\n",
      "\"Much, much more cut-throat than it at first appears, yet very idealistic, applying technologies being developed now or developable in the near future to a speculative game about becoming a pioneer in making a colony on Mars.\" (Terraforming Mars) \n",
      "score: 6.87\n",
      "\n",
      "\"Keep missing the sales for this.  It's always been a toss up to get this or War of the Ring.  But when my son said he would rather play this,  that was the tie breaker. \" (Star Wars: Rebellion) \n",
      "score: 6.99\n",
      "\n",
      "\"plan is to find company to play this with.   Start from Jaws of the Lion.  then Gloomhaven, continued into Forgotten Circles.  And frost Haven would have already have arrived by time we finish All Gloomhaven... \" (Gloomhaven) \n",
      "score: 7.02\n",
      "\n",
      "\"I like the MCU, but was never a comics fan, so I can't decide how i am going to feel about the theme.\" (Marvel Champions: The Card Game) \n",
      "score: 7.18\n",
      "\n",
      "\"Frikista porque tiene personajes. Modo un jugador atractivo. Cooperativo. Extravagante, pero con mil críticas positivas. Aún no ha salido en español.\" (Spirit Island) \n",
      "score: 7.31\n",
      "\n",
      "\"Action Queue Action Retrieval Area Majority / Influence Area Movement Dice Rolling Hand Management Point to Point Movement Race Variable Player Powers\" (Root) \n",
      "score: 7.38\n",
      "\n",
      "\"i promised myself i wouldn't even consider buying Terraforming Mars unless and until they fixed the issue with the non-recessed player boards. And then lo and behold: they launched a Kickstarter in early 2019 with recessed boards. So i went all-in.  How to Play!  \" (Terraforming Mars) \n",
      "score: 7.67\n",
      "\n",
      "\"2-player version of 7 Wonders. It is all about set collection and card drafting.  + Clever layout of cards each age + Artwork + Components + Smooth gameplay + Replayability + Different science powers each game + Quick playing time - Cut-throat interaction / take that\" (7 Wonders Duel) \n",
      "score: 7.69\n",
      "\n",
      "\"1 to 5 players Economic - Environmental - Industry/Manufacturing - Science Fiction - Territory Building Card Drafting - Hand Management - Tile Placement - Variable Player Powers\" (Terraforming Mars) \n",
      "score: 7.71\n",
      "\n",
      "\"Fell in love with the theme at first sight, my first even-a-bit heavier game. Have yet to try Turmoil...\" (Terraforming Mars) \n",
      "score: 7.78\n",
      "\n",
      "\"CX  you can retreat into friendly territory that is not yet at war, it's the only exception for moving into territory not at war. the +1 on icon on aragorn and gandalf the white is not added to the army strength, it shows that the character provides a extra action die.\" (War of the Ring: Second Edition) \n",
      "score: 7.84\n",
      "\n",
      "\"Quick easy game to teach/learn, quick to pick up and play. SU&SD summed it up well: the game teeters between the binary emotions of \"NOOOO!\" and \"YES, MORE!!\", which keeps the game exciting and everyone pushing for the next round.\" (The Quacks of Quedlinburg) \n",
      "score: 7.93\n",
      "\n",
      "\"Wargame Ligero. Parece muy interesante. Debería salir en Abril 2018 editado por Two Tomatoes. Buscalo!\" (Root) \n",
      "score: 7.96\n",
      "\n",
      "\"Players: 3-4 (4) Time: 60-90 Min Category: Animals Fantasy Wargame  Mechanisms: Action / Movement Programming Area Control / Area Influence Dice Rolling Hand Management Point to Point Movement Variable Player Powers\" (Root) \n",
      "score: 8.01\n",
      "\n",
      "\"Really good game, with a great variety of options and actions. It manages to capture the Dune atmosphere elegantly, with modern gameplay mechanics. Cards, locations, etc really draws you into the Dune universe \" (Dune: Imperium) \n",
      "score: 8.19\n",
      "\n",
      "\"#21 1-(3)-5p.  30-120m. best all time. Puzzle game strategy resource management. 64 action spaces make it a little overwhelming at first but a lot of replayabliity. Heavy euro.\" (A Feast for Odin) \n",
      "score: 8.22\n",
      "\n",
      "\"Kickstarter Project  -Backed: 04/14/2020 -Funded: 05/04/2020 -Pledge Level: Pledge $1 or more: \"\" -Payment: $1 -Projected Delivery: 05/2021 -Survey:  -Shipped:   Status: SUCCESSFULLY FUNDED\" (Ankh: Gods of Egypt) \n",
      "score: 8.26\n",
      "\n",
      "\"2021 - gift from Capstone for helping out at Camp Capstone in 2020. I also received the metal coins for Maracaibo.\" (Maracaibo) \n",
      "score: 8.33\n",
      "\n",
      "\"Please feel free to contact me if you have a copy in excellent conditions for the Oz market :) Cheers Mates!!!\" (Star Wars: Rebellion) \n",
      "score: 10.00\n",
      "\n",
      "\"-Collectors edition with every expansion -Invaders power dials and metal coins -Encounter fire tokens -Modular Map -3D Printed money holder -BGG Faction Bags\" (Scythe) \n",
      "score: 10.00\n",
      "\n"
     ]
    }
   ],
   "source": [
    "some_long_comments.apply(lambda c: print(f\"\\\"{c['value']}\\\" ({get_game_by_id(c['id'])}) \\nscore: {c['rating']:.2f}\\n\"), axis=1);"
   ]
  },
  {
   "cell_type": "markdown",
   "metadata": {},
   "source": [
    "## RANDOM FOREST - TEST"
   ]
  },
  {
   "cell_type": "code",
   "execution_count": 55,
   "metadata": {},
   "outputs": [],
   "source": [
    "# no support for Windows at the moment - waiting for it to test"
   ]
  },
  {
   "cell_type": "code",
   "execution_count": null,
   "metadata": {},
   "outputs": [],
   "source": []
  }
 ],
 "metadata": {
  "kernelspec": {
   "display_name": "tensorflow2",
   "language": "python",
   "name": "tensorflow2"
  },
  "language_info": {
   "codemirror_mode": {
    "name": "ipython",
    "version": 3
   },
   "file_extension": ".py",
   "mimetype": "text/x-python",
   "name": "python",
   "nbconvert_exporter": "python",
   "pygments_lexer": "ipython3",
   "version": "3.8.8"
  }
 },
 "nbformat": 4,
 "nbformat_minor": 4
}
