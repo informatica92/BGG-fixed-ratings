{
 "cells": [
  {
   "cell_type": "code",
   "execution_count": 1,
   "metadata": {},
   "outputs": [],
   "source": [
    "# ## BGG API\n",
    "# https://www.boardgamegeek.com/xmlapi2/thing?id=161599&comments=1\n",
    "# https://www.boardgamegeek.com/xmlapi2/hot?type=boardgame\n",
    "# ## NLP WITH TF\n",
    "# https://www.tensorflow.org/hub/tutorials/tf2_text_classification"
   ]
  },
  {
   "cell_type": "code",
   "execution_count": 2,
   "metadata": {},
   "outputs": [
    {
     "name": "stdout",
     "output_type": "stream",
     "text": [
      "Version:      2.5.0\n",
      "Eager mode:   True\n",
      "Hub version:  0.12.0\n",
      "GPU:          available\n"
     ]
    }
   ],
   "source": [
    "import tensorflow as tf\n",
    "import tensorflow_hub as hub\n",
    "from tensorflow.keras.wrappers.scikit_learn import KerasRegressor, KerasClassifier\n",
    "from sklearn.model_selection import GridSearchCV\n",
    "\n",
    "from IPython.display import HTML\n",
    "from datetime import datetime\n",
    "import matplotlib.pyplot as plt\n",
    "import pandas as pd\n",
    "import numpy as np\n",
    "import re\n",
    "\n",
    "from utilities import get_hot_data, get_comments, remove_short_comments, build_model, print_my_examples\n",
    "\n",
    "print(\"Version:     \", tf.__version__)\n",
    "print(\"Eager mode:  \", tf.executing_eagerly())\n",
    "print(\"Hub version: \", hub.__version__)\n",
    "print(\"GPU:         \", \"available\" if tf.config.list_physical_devices('GPU') else \"NOT available\")\n",
    "\n",
    "tf.get_logger().setLevel('ERROR')"
   ]
  },
  {
   "cell_type": "code",
   "execution_count": 3,
   "metadata": {},
   "outputs": [],
   "source": [
    "# tf.debugging.set_log_device_placement(True)"
   ]
  },
  {
   "cell_type": "code",
   "execution_count": 4,
   "metadata": {},
   "outputs": [],
   "source": [
    "GOOD_REVIEW_THRESHOLD = 7\n",
    "VAL_FRACTION = 0.25\n",
    "MIN_COMMENT_LEN = 25\n",
    "TOP_N = 5\n",
    "MODEL_NAME = \"https://tfhub.dev/google/tf2-preview/nnlm-en-dim50/1\"\n",
    "# MORE ABOUT MODEL NAMES: \n",
    "# \"https://tfhub.dev/google/tf2-preview/nnlm-en-dim128/1\"\n",
    "# \"https://tfhub.dev/google/tf2-preview/nnlm-en-dim128-with-normalization/1\"\n",
    "# we also tested these solutions with dimension equals to 128 but accuracy \n",
    "# is a bit lower (0.85 for 128 vs 0.86 for 50) and training sometimes stops \n",
    "# unexpectedly for memory limit\n",
    "#\n",
    "# \"https://tfhub.dev/google/tf2-preview/nnlm-en-dim50/1\"\n",
    "# \"https://tfhub.dev/google/tf2-preview/nnlm-en-dim50-with-normalization/1\"\n",
    "# there is no difference between normalization and not so we use the one \n",
    "# without normalization"
   ]
  },
  {
   "cell_type": "markdown",
   "metadata": {},
   "source": [
    "## GET DATA"
   ]
  },
  {
   "cell_type": "code",
   "execution_count": 5,
   "metadata": {},
   "outputs": [
    {
     "data": {
      "text/plain": [
       "[{'id': '344277',\n",
       "  'rank': '1',\n",
       "  'thumbnail': 'https://cf.geekdo-images.com/utvlrrmevsn9Cb_Fs6kqlg__thumb/img/CjNBS17ZhTbUnnc2F7grdDBk4Us=/fit-in/200x150/filters:strip_icc()/pic6329299.jpg',\n",
       "  'name': 'Corrosion',\n",
       "  'yearpublished': '2021'},\n",
       " {'id': '237179',\n",
       "  'rank': '2',\n",
       "  'thumbnail': 'https://cf.geekdo-images.com/E8qBDKe39KEFMo-LhTNDQQ__thumb/img/jFQaWbcjoUzxS7p76LsGzg4piQk=/fit-in/200x150/filters:strip_icc()/pic6333980.jpg',\n",
       "  'name': 'Weather Machine',\n",
       "  'yearpublished': '2022'}]"
      ]
     },
     "execution_count": 5,
     "metadata": {},
     "output_type": "execute_result"
    }
   ],
   "source": [
    "hot_array = get_hot_data()\n",
    "hot_array[:2]"
   ]
  },
  {
   "cell_type": "code",
   "execution_count": 6,
   "metadata": {},
   "outputs": [
    {
     "name": "stdout",
     "output_type": "stream",
     "text": [
      "missing csv file, getting new data using API...\n",
      "page number = 10 (max: 100, len: 24)\n",
      "page number = 20 (max: 100, len: 19)\n",
      "page number = 30 (max: 100, len: 13)\n",
      "page number = 40 (max: 100, len: 10)\n",
      "page number = 50 (max: 100, len: 6)\n",
      "page number = 60 (max: 100, len: 4)\n",
      "page number = 70 (max: 100, len: 4)\n",
      "page number = 80 (max: 100, len: 3)\n",
      "page number = 90 (max: 100, len: 2)\n",
      "page number = 100 (max: 100, len: 1)\n",
      "comments_df shape: (100301, 4)\n"
     ]
    },
    {
     "data": {
      "text/html": [
       "<div>\n",
       "<style scoped>\n",
       "    .dataframe tbody tr th:only-of-type {\n",
       "        vertical-align: middle;\n",
       "    }\n",
       "\n",
       "    .dataframe tbody tr th {\n",
       "        vertical-align: top;\n",
       "    }\n",
       "\n",
       "    .dataframe thead th {\n",
       "        text-align: right;\n",
       "    }\n",
       "</style>\n",
       "<table border=\"1\" class=\"dataframe\">\n",
       "  <thead>\n",
       "    <tr style=\"text-align: right;\">\n",
       "      <th></th>\n",
       "      <th>id</th>\n",
       "      <th>username</th>\n",
       "      <th>rating</th>\n",
       "      <th>value</th>\n",
       "    </tr>\n",
       "  </thead>\n",
       "  <tbody>\n",
       "    <tr>\n",
       "      <th>0</th>\n",
       "      <td>344277</td>\n",
       "      <td>androgeus</td>\n",
       "      <td>N/A</td>\n",
       "      <td>soll im Oktober 21 bei Pegasus in Deutsch ersc...</td>\n",
       "    </tr>\n",
       "    <tr>\n",
       "      <th>1</th>\n",
       "      <td>344277</td>\n",
       "      <td>feldfan2014</td>\n",
       "      <td>N/A</td>\n",
       "      <td>[url=capstone-games.com]Capstone[/url] Deluxe ...</td>\n",
       "    </tr>\n",
       "    <tr>\n",
       "      <th>2</th>\n",
       "      <td>344277</td>\n",
       "      <td>icred</td>\n",
       "      <td>N/A</td>\n",
       "      <td>Pre-ordered from Capstone August 2021</td>\n",
       "    </tr>\n",
       "    <tr>\n",
       "      <th>3</th>\n",
       "      <td>344277</td>\n",
       "      <td>marstiller</td>\n",
       "      <td>N/A</td>\n",
       "      <td>December 21</td>\n",
       "    </tr>\n",
       "    <tr>\n",
       "      <th>4</th>\n",
       "      <td>344277</td>\n",
       "      <td>RufusMcDogg</td>\n",
       "      <td>N/A</td>\n",
       "      <td>Capstone</td>\n",
       "    </tr>\n",
       "    <tr>\n",
       "      <th>...</th>\n",
       "      <td>...</td>\n",
       "      <td>...</td>\n",
       "      <td>...</td>\n",
       "      <td>...</td>\n",
       "    </tr>\n",
       "    <tr>\n",
       "      <th>100296</th>\n",
       "      <td>167791</td>\n",
       "      <td>z_zadar</td>\n",
       "      <td>9</td>\n",
       "      <td>Some games are so much fun. Others can be a li...</td>\n",
       "    </tr>\n",
       "    <tr>\n",
       "      <th>100297</th>\n",
       "      <td>167791</td>\n",
       "      <td>_Czid_</td>\n",
       "      <td>8</td>\n",
       "      <td>Have played with Elysium and Prelude expansion...</td>\n",
       "    </tr>\n",
       "    <tr>\n",
       "      <th>100298</th>\n",
       "      <td>167791</td>\n",
       "      <td>_Marty_</td>\n",
       "      <td>9.5</td>\n",
       "      <td>Fantastic game. With so many cards that can ch...</td>\n",
       "    </tr>\n",
       "    <tr>\n",
       "      <th>100299</th>\n",
       "      <td>167791</td>\n",
       "      <td>_mun_</td>\n",
       "      <td>10</td>\n",
       "      <td>Nagyon izgalmas játék, jó a mechanizmusa. A sz...</td>\n",
       "    </tr>\n",
       "    <tr>\n",
       "      <th>100300</th>\n",
       "      <td>167791</td>\n",
       "      <td>_The_Inquiry_</td>\n",
       "      <td>5</td>\n",
       "      <td>Prior to 2020: 2 plays  TM is one of those gam...</td>\n",
       "    </tr>\n",
       "  </tbody>\n",
       "</table>\n",
       "<p>100301 rows × 4 columns</p>\n",
       "</div>"
      ],
      "text/plain": [
       "            id       username rating  \\\n",
       "0       344277      androgeus    N/A   \n",
       "1       344277    feldfan2014    N/A   \n",
       "2       344277          icred    N/A   \n",
       "3       344277     marstiller    N/A   \n",
       "4       344277    RufusMcDogg    N/A   \n",
       "...        ...            ...    ...   \n",
       "100296  167791        z_zadar      9   \n",
       "100297  167791         _Czid_      8   \n",
       "100298  167791        _Marty_    9.5   \n",
       "100299  167791          _mun_     10   \n",
       "100300  167791  _The_Inquiry_      5   \n",
       "\n",
       "                                                    value  \n",
       "0       soll im Oktober 21 bei Pegasus in Deutsch ersc...  \n",
       "1       [url=capstone-games.com]Capstone[/url] Deluxe ...  \n",
       "2                   Pre-ordered from Capstone August 2021  \n",
       "3                                             December 21  \n",
       "4                                               Capstone   \n",
       "...                                                   ...  \n",
       "100296  Some games are so much fun. Others can be a li...  \n",
       "100297  Have played with Elysium and Prelude expansion...  \n",
       "100298  Fantastic game. With so many cards that can ch...  \n",
       "100299  Nagyon izgalmas játék, jó a mechanizmusa. A sz...  \n",
       "100300  Prior to 2020: 2 plays  TM is one of those gam...  \n",
       "\n",
       "[100301 rows x 4 columns]"
      ]
     },
     "execution_count": 6,
     "metadata": {},
     "output_type": "execute_result"
    }
   ],
   "source": [
    "try:\n",
    "    comments_df = pd.read_csv(f\"comments_{datetime.now().strftime('%Y%m%d')}.csv\")\n",
    "    comments_df['rating'] = comments_df.rating.fillna('N/A')\n",
    "    print(\"reading dataframe from csv file...\")\n",
    "except:\n",
    "    print(\"missing csv file, getting new data using API...\")\n",
    "    comments_df = get_comments(hot_array, verbose=10)\n",
    "    comments_df.to_csv(f\"comments_{datetime.now().strftime('%Y%m%d')}.csv\", index=False)\n",
    "comments_df"
   ]
  },
  {
   "cell_type": "markdown",
   "metadata": {},
   "source": [
    "## DATA CLEANING"
   ]
  },
  {
   "cell_type": "code",
   "execution_count": 7,
   "metadata": {},
   "outputs": [],
   "source": [
    "# probably we should keep all the ratings (no matters the len) and remove only the simple comments under a certain len  \n",
    "comments_df[\"value\"] = comments_df[\"value\"].astype(str)"
   ]
  },
  {
   "cell_type": "code",
   "execution_count": 8,
   "metadata": {},
   "outputs": [
    {
     "name": "stdout",
     "output_type": "stream",
     "text": [
      "removed 16240 for 'remove_short_comments' - min len: 25 - method: unrated\n"
     ]
    }
   ],
   "source": [
    "# REMOVE URLs FROM COMMENTS\n",
    "comments_df['value'] = [re.sub(r\"http\\S+\", \"\", v) for v in comments_df.value.values]\n",
    "comments_df = remove_short_comments(comments_df, MIN_COMMENT_LEN)"
   ]
  },
  {
   "cell_type": "code",
   "execution_count": 9,
   "metadata": {},
   "outputs": [],
   "source": [
    "# REMOVE NON ENGLISH COMMENTS\n",
    "# !conda install -c conda-forge langdetect\n",
    "# def add_comments_lang(df: pd.DataFrame):\n",
    "#     df_local = df.copy()\n",
    "#     df_local['lang'] = df['value'].apply(detect)\n",
    "#     return df_local.reset_index(drop=True)\n",
    "# comments_df = add_comments_lang(comments_df)\n",
    "# comments_df = comments_df.query('lang == \"en\"')"
   ]
  },
  {
   "cell_type": "markdown",
   "metadata": {},
   "source": [
    "## SPLIT RATED AND NON-RATED COMMENTS"
   ]
  },
  {
   "cell_type": "code",
   "execution_count": 10,
   "metadata": {},
   "outputs": [
    {
     "data": {
      "text/plain": [
       "10         16003\n",
       "9          15636\n",
       "8          13481\n",
       "7           7483\n",
       "N/A         6720\n",
       "           ...  \n",
       "6.6625         1\n",
       "8.43312        1\n",
       "6.34           1\n",
       "5.67           1\n",
       "7.022          1\n",
       "Name: rating, Length: 541, dtype: int64"
      ]
     },
     "execution_count": 10,
     "metadata": {},
     "output_type": "execute_result"
    }
   ],
   "source": [
    "# count number of comments per rating (N/A included)\n",
    "comments_df.rating.value_counts()"
   ]
  },
  {
   "cell_type": "code",
   "execution_count": 11,
   "metadata": {},
   "outputs": [
    {
     "data": {
      "text/plain": [
       "(77341, 5)"
      ]
     },
     "execution_count": 11,
     "metadata": {},
     "output_type": "execute_result"
    }
   ],
   "source": [
    "# get rated comments only\n",
    "rated_comments = comments_df.query('rating != \"N/A\"')\n",
    "rated_comments.shape"
   ]
  },
  {
   "cell_type": "code",
   "execution_count": 12,
   "metadata": {},
   "outputs": [
    {
     "data": {
      "text/plain": [
       "(6720, 5)"
      ]
     },
     "execution_count": 12,
     "metadata": {},
     "output_type": "execute_result"
    }
   ],
   "source": [
    "# get non rated comments only\n",
    "not_rated_comments = comments_df.query('rating == \"N/A\"').reset_index(drop=True)\n",
    "not_rated_comments.shape"
   ]
  },
  {
   "cell_type": "markdown",
   "metadata": {},
   "source": [
    "## CREATE TRAINING AND VALIDATION DATA"
   ]
  },
  {
   "cell_type": "code",
   "execution_count": 13,
   "metadata": {},
   "outputs": [],
   "source": [
    "# use rated comments (reviews) to train the model"
   ]
  },
  {
   "cell_type": "code",
   "execution_count": 14,
   "metadata": {},
   "outputs": [],
   "source": [
    "rated_comments = rated_comments.sample(frac=1)"
   ]
  },
  {
   "cell_type": "code",
   "execution_count": 15,
   "metadata": {},
   "outputs": [],
   "source": [
    "# create training X and y\n",
    "train_examples = list(rated_comments.value)\n",
    "train_labels = list((rated_comments.rating.astype(float)>=GOOD_REVIEW_THRESHOLD).astype(int))"
   ]
  },
  {
   "cell_type": "code",
   "execution_count": 16,
   "metadata": {},
   "outputs": [
    {
     "name": "stdout",
     "output_type": "stream",
     "text": [
      "example of positive rating:\n"
     ]
    },
    {
     "data": {
      "text/plain": [
       "'well balanced, want to play everyday.'"
      ]
     },
     "execution_count": 16,
     "metadata": {},
     "output_type": "execute_result"
    }
   ],
   "source": [
    "print(\"example of positive rating:\")\n",
    "train_examples[train_labels.index(1)]"
   ]
  },
  {
   "cell_type": "code",
   "execution_count": 17,
   "metadata": {},
   "outputs": [
    {
     "name": "stdout",
     "output_type": "stream",
     "text": [
      "example of negative rating:\n"
     ]
    },
    {
     "data": {
      "text/plain": [
       "\"A lot of actions available (too many?), and a useless conversion game to place tetris pieces. I won't play it again. There are much better worker placement games. (played a couple times and with the Norwegian expansion)\""
      ]
     },
     "execution_count": 17,
     "metadata": {},
     "output_type": "execute_result"
    }
   ],
   "source": [
    "print(\"example of negative rating:\")\n",
    "train_examples[train_labels.index(0)]"
   ]
  },
  {
   "cell_type": "markdown",
   "metadata": {},
   "source": [
    "## COMPOSE MODEL"
   ]
  },
  {
   "cell_type": "code",
   "execution_count": 18,
   "metadata": {},
   "outputs": [],
   "source": [
    "hub_layer = hub.KerasLayer(MODEL_NAME, input_shape=[], dtype=tf.string, trainable=True)"
   ]
  },
  {
   "cell_type": "markdown",
   "metadata": {},
   "source": [
    "## CLASSIFIER"
   ]
  },
  {
   "cell_type": "code",
   "execution_count": 19,
   "metadata": {},
   "outputs": [
    {
     "name": "stdout",
     "output_type": "stream",
     "text": [
      "Epoch 1/100\n",
      "38/38 - 4s - loss: 0.5863 - accuracy: 0.7592 - val_loss: 0.5220 - val_accuracy: 0.8404\n",
      "Epoch 2/100\n",
      "38/38 - 2s - loss: 0.4836 - accuracy: 0.8422 - val_loss: 0.4420 - val_accuracy: 0.8493\n",
      "Epoch 3/100\n",
      "38/38 - 2s - loss: 0.3983 - accuracy: 0.8545 - val_loss: 0.3770 - val_accuracy: 0.8607\n",
      "Epoch 4/100\n",
      "38/38 - 2s - loss: 0.3343 - accuracy: 0.8728 - val_loss: 0.3433 - val_accuracy: 0.8677\n",
      "Epoch 5/100\n",
      "38/38 - 2s - loss: 0.2909 - accuracy: 0.8882 - val_loss: 0.3285 - val_accuracy: 0.8736\n",
      "Epoch 6/100\n",
      "38/38 - 2s - loss: 0.2583 - accuracy: 0.9006 - val_loss: 0.3241 - val_accuracy: 0.8738\n",
      "Epoch 7/100\n",
      "38/38 - 2s - loss: 0.2320 - accuracy: 0.9117 - val_loss: 0.3261 - val_accuracy: 0.8726\n",
      "Epoch 8/100\n",
      "38/38 - 2s - loss: 0.2096 - accuracy: 0.9207 - val_loss: 0.3336 - val_accuracy: 0.8706\n",
      "Epoch 9/100\n",
      "38/38 - 2s - loss: 0.1903 - accuracy: 0.9295 - val_loss: 0.3452 - val_accuracy: 0.8669\n",
      "Epoch 10/100\n",
      "38/38 - 2s - loss: 0.1731 - accuracy: 0.9362 - val_loss: 0.3589 - val_accuracy: 0.8668\n",
      "26/26 - 0s - loss: 0.3445 - accuracy: 0.8698\n",
      "Epoch 1/100\n",
      "38/38 - 3s - loss: 0.5689 - accuracy: 0.8066 - val_loss: 0.5092 - val_accuracy: 0.8473\n",
      "Epoch 2/100\n",
      "38/38 - 2s - loss: 0.4559 - accuracy: 0.8479 - val_loss: 0.4131 - val_accuracy: 0.8509\n",
      "Epoch 3/100\n",
      "38/38 - 2s - loss: 0.3624 - accuracy: 0.8590 - val_loss: 0.3521 - val_accuracy: 0.8640\n",
      "Epoch 4/100\n",
      "38/38 - 2s - loss: 0.3035 - accuracy: 0.8806 - val_loss: 0.3308 - val_accuracy: 0.8715\n",
      "Epoch 5/100\n",
      "38/38 - 2s - loss: 0.2663 - accuracy: 0.8957 - val_loss: 0.3239 - val_accuracy: 0.8719\n",
      "Epoch 6/100\n",
      "38/38 - 2s - loss: 0.2381 - accuracy: 0.9079 - val_loss: 0.3248 - val_accuracy: 0.8693\n",
      "Epoch 7/100\n",
      "38/38 - 2s - loss: 0.2148 - accuracy: 0.9180 - val_loss: 0.3318 - val_accuracy: 0.8702\n",
      "Epoch 8/100\n",
      "38/38 - 2s - loss: 0.1952 - accuracy: 0.9259 - val_loss: 0.3439 - val_accuracy: 0.8683\n",
      "Epoch 9/100\n",
      "38/38 - 2s - loss: 0.1784 - accuracy: 0.9330 - val_loss: 0.3559 - val_accuracy: 0.8638\n",
      "26/26 - 0s - loss: 0.3453 - accuracy: 0.8691\n",
      "Epoch 1/100\n",
      "38/38 - 3s - loss: 0.5774 - accuracy: 0.7970 - val_loss: 0.5144 - val_accuracy: 0.8438\n",
      "Epoch 2/100\n",
      "38/38 - 2s - loss: 0.4626 - accuracy: 0.8471 - val_loss: 0.4285 - val_accuracy: 0.8452\n",
      "Epoch 3/100\n",
      "38/38 - 2s - loss: 0.3779 - accuracy: 0.8483 - val_loss: 0.3687 - val_accuracy: 0.8461\n",
      "Epoch 4/100\n",
      "38/38 - 2s - loss: 0.3217 - accuracy: 0.8538 - val_loss: 0.3414 - val_accuracy: 0.8568\n",
      "Epoch 5/100\n",
      "38/38 - 2s - loss: 0.2824 - accuracy: 0.8815 - val_loss: 0.3247 - val_accuracy: 0.8716\n",
      "Epoch 6/100\n",
      "38/38 - 2s - loss: 0.2501 - accuracy: 0.9011 - val_loss: 0.3216 - val_accuracy: 0.8725\n",
      "Epoch 7/100\n",
      "38/38 - 2s - loss: 0.2244 - accuracy: 0.9121 - val_loss: 0.3242 - val_accuracy: 0.8734\n",
      "Epoch 8/100\n",
      "38/38 - 2s - loss: 0.2032 - accuracy: 0.9219 - val_loss: 0.3306 - val_accuracy: 0.8707\n",
      "Epoch 9/100\n",
      "38/38 - 2s - loss: 0.1843 - accuracy: 0.9312 - val_loss: 0.3419 - val_accuracy: 0.8681\n",
      "Epoch 10/100\n",
      "38/38 - 2s - loss: 0.1682 - accuracy: 0.9389 - val_loss: 0.3565 - val_accuracy: 0.8673\n",
      "Epoch 11/100\n",
      "38/38 - 2s - loss: 0.1538 - accuracy: 0.9449 - val_loss: 0.3715 - val_accuracy: 0.8630\n",
      "Epoch 12/100\n",
      "38/38 - 2s - loss: 0.1415 - accuracy: 0.9496 - val_loss: 0.3905 - val_accuracy: 0.8617\n",
      "26/26 - 0s - loss: 0.3971 - accuracy: 0.8580\n",
      "Epoch 1/100\n",
      "57/57 - 4s - loss: 0.5418 - accuracy: 0.7916 - val_loss: 0.4558 - val_accuracy: 0.8459\n",
      "Epoch 2/100\n",
      "57/57 - 3s - loss: 0.3984 - accuracy: 0.8515 - val_loss: 0.3646 - val_accuracy: 0.8576\n",
      "Epoch 3/100\n",
      "57/57 - 3s - loss: 0.3237 - accuracy: 0.8721 - val_loss: 0.3307 - val_accuracy: 0.8693\n",
      "Epoch 4/100\n",
      "57/57 - 3s - loss: 0.2828 - accuracy: 0.8884 - val_loss: 0.3182 - val_accuracy: 0.8741\n",
      "Epoch 5/100\n",
      "57/57 - 3s - loss: 0.2535 - accuracy: 0.9006 - val_loss: 0.3174 - val_accuracy: 0.8730\n",
      "Epoch 6/100\n",
      "57/57 - 3s - loss: 0.2303 - accuracy: 0.9095 - val_loss: 0.3222 - val_accuracy: 0.8721\n",
      "Epoch 7/100\n",
      "57/57 - 3s - loss: 0.2111 - accuracy: 0.9176 - val_loss: 0.3309 - val_accuracy: 0.8698\n",
      "Epoch 8/100\n",
      "57/57 - 3s - loss: 0.1949 - accuracy: 0.9254 - val_loss: 0.3422 - val_accuracy: 0.8675\n",
      "Epoch 9/100\n",
      "57/57 - 3s - loss: 0.1810 - accuracy: 0.9315 - val_loss: 0.3564 - val_accuracy: 0.8632\n"
     ]
    },
    {
     "data": {
      "text/plain": [
       "GridSearchCV(cv=3,\n",
       "             estimator=<tensorflow.python.keras.wrappers.scikit_learn.KerasClassifier object at 0x00000199077C2D30>,\n",
       "             param_grid={})"
      ]
     },
     "execution_count": 19,
     "metadata": {},
     "output_type": "execute_result"
    }
   ],
   "source": [
    "def build_classifier():\n",
    "    return build_model(hub_layer=None, pre_trained_model_name=MODEL_NAME, model_type='classifier', verbose=0)\n",
    "\n",
    "\n",
    "estimator = KerasClassifier(build_fn=build_classifier, epochs=100, batch_size=1024, verbose=2, validation_split=VAL_FRACTION)\n",
    "x_train_clf = np.array(list(rated_comments.value))\n",
    "y_train_clf = np.array(list((rated_comments.rating.astype(float)>=GOOD_REVIEW_THRESHOLD).astype(int)))\n",
    "\n",
    "clf = GridSearchCV(\n",
    "    estimator, \n",
    "    cv=3, \n",
    "    param_grid={}\n",
    ")\n",
    "clf.fit(x_train_clf, y_train_clf, callbacks=[tf.keras.callbacks.EarlyStopping(monitor='val_accuracy', patience=5, min_delta=0.001)])"
   ]
  },
  {
   "cell_type": "code",
   "execution_count": 20,
   "metadata": {},
   "outputs": [],
   "source": [
    "classifier = clf.best_estimator_\n",
    "classifier_history_dict = classifier.model.history.history"
   ]
  },
  {
   "cell_type": "code",
   "execution_count": 21,
   "metadata": {},
   "outputs": [
    {
     "data": {
      "text/plain": [
       "dict_keys(['loss', 'accuracy', 'val_loss', 'val_accuracy'])"
      ]
     },
     "execution_count": 21,
     "metadata": {},
     "output_type": "execute_result"
    }
   ],
   "source": [
    "classifier_history_dict.keys()"
   ]
  },
  {
   "cell_type": "code",
   "execution_count": 22,
   "metadata": {},
   "outputs": [],
   "source": [
    "acc = classifier_history_dict['accuracy']\n",
    "val_acc = classifier_history_dict['val_accuracy']\n",
    "loss = classifier_history_dict['loss']\n",
    "val_loss = classifier_history_dict['val_loss']"
   ]
  },
  {
   "cell_type": "code",
   "execution_count": 23,
   "metadata": {},
   "outputs": [],
   "source": [
    "epochs = range(1, len(acc) + 1) "
   ]
  },
  {
   "cell_type": "code",
   "execution_count": 24,
   "metadata": {},
   "outputs": [
    {
     "data": {
      "image/png": "[encoded data removed]",
      "text/plain": [
       "<Figure size 648x360 with 1 Axes>"
      ]
     },
     "metadata": {
      "needs_background": "light"
     },
     "output_type": "display_data"
    }
   ],
   "source": [
    "# \"bo\" is for \"blue dot\"\n",
    "plt.figure(figsize=(9, 5))\n",
    "plt.plot(epochs, loss, 'bo', label='Training loss')\n",
    "# b is for \"solid blue line\"\n",
    "plt.plot(epochs, val_loss, 'b', label='Validation loss')\n",
    "plt.title('Training and validation loss')\n",
    "plt.xlabel('Epochs')\n",
    "plt.ylabel('Loss')\n",
    "plt.grid(True)\n",
    "plt.legend()\n",
    "\n",
    "plt.show()"
   ]
  },
  {
   "cell_type": "code",
   "execution_count": 25,
   "metadata": {},
   "outputs": [
    {
     "data": {
      "image/png": "[encoded data removed]",
      "text/plain": [
       "<Figure size 648x360 with 1 Axes>"
      ]
     },
     "metadata": {
      "needs_background": "light"
     },
     "output_type": "display_data"
    }
   ],
   "source": [
    "plt.figure(figsize=(9, 5))\n",
    "plt.plot(epochs, acc, 'bo', label='Training acc')\n",
    "plt.plot(epochs, val_acc, 'b', label='Validation acc')\n",
    "plt.title('Training and validation accuracy')\n",
    "plt.xlabel('Epochs')\n",
    "plt.ylabel('Accuracy')\n",
    "plt.grid(True)\n",
    "plt.legend()\n",
    "\n",
    "plt.show()"
   ]
  },
  {
   "cell_type": "code",
   "execution_count": 26,
   "metadata": {},
   "outputs": [
    {
     "name": "stdout",
     "output_type": "stream",
     "text": [
      "input:\n",
      "\"well balanced, want to play everyday.\"\n",
      "score: 1.000000\n",
      "actual: 1\n",
      "\n",
      "input:\n",
      "\"edit: Feb 2020 - The longer I have this and the more I compare it with other area control games the more I enjoy and admire it's simplicity, focus and sharp design. Plays quickly, and is an easy teach with great depth.\"\n",
      "score: 1.000000\n",
      "actual: 1\n",
      "\n",
      "input:\n",
      "\"I bought this game after one single try. Awesome under every aspect. The mechanics are many, but the scheme is quite easy to master. The cubes system to count the different resources are so ingenious you end up saying \"how didn'tI think about this before???\". The game itself is challenging, but meanwhile offers continuously different ways to make points and be somehow able to win in almost any condition. Finally, the flavour is THE BEST EVER. There is not one single card that doesn't feel right. The guys here know what's up. Everybody buy it now.\"\n",
      "score: 1.000000\n",
      "actual: 1\n",
      "\n",
      "input:\n",
      "\"A lot of actions available (too many?), and a useless conversion game to place tetris pieces. I won't play it again. There are much better worker placement games. (played a couple times and with the Norwegian expansion)\"\n",
      "score: 0.000000\n",
      "actual: 0\n",
      "\n",
      "input:\n",
      "\"Only have solod it but it is a super streamlined and compact version of Gloomhaven. Looking to play it more often.\"\n",
      "score: 1.000000\n",
      "actual: 1\n",
      "\n",
      "input:\n",
      "\"The gang enjoyed the Night of the Zealot campaign enough to sign up for the Dunwich Horror cycle.  I enjoy the way each investigator can bring his or her specialties to bear on the problem at hand, and the use of sets of encounter card decks is clever.  Deck construction isn't my cup of tea these days (as opposed to deck-building ala Dominion), but with the help of the excellent arkhamdb.com, this chore is of minimal hassle. Further, deck upgrades consist of manageable chunks of decision-making, with four investigators' worth of decks taking less than a half-hour to upgrade.  Looking forward to the next cycle!\"\n",
      "score: 1.000000\n",
      "actual: 1\n",
      "\n",
      "input:\n",
      "\"Obviously not a popular opinion here, but this game didn't impress me.  First, even though it gives the impression that you're playing a \"dudes on a map\" game, the interaction between players was severely limited. The games I played the winner barely interacted with other players, if at all. Second, the game feels like it's just picking up steam when it ends.  A lot of games are like that, but with this one it's particularly bad.  Every game I've played once it ends, I've always said - \"woah... that's it?\"\"\n",
      "score: 0.000000\n",
      "actual: 0\n",
      "\n",
      "input:\n",
      "\"Biggest complaint is that you can't do a whole lot of deck building until you have a couple expansions.\"\n",
      "score: 1.000000\n",
      "actual: 1\n",
      "\n",
      "input:\n",
      "\"Amazing design. Amazing fun. \"Eurotrash\" that combines best of ameritrash (cool theme, figures and such) and takes best of euro games (tough decisions, short-enuf etc). \"\n",
      "score: 1.000000\n",
      "actual: 1\n",
      "\n",
      "input:\n",
      "\"Times fly when playing this game.\"\n",
      "score: 1.000000\n",
      "actual: 1\n"
     ]
    },
    {
     "name": "stderr",
     "output_type": "stream",
     "text": [
      "C:\\Users\\dev999\\.conda\\envs\\tensorflow2\\lib\\site-packages\\tensorflow\\python\\keras\\engine\\sequential.py:455: UserWarning: `model.predict_classes()` is deprecated and will be removed after 2021-01-01. Please use instead:* `np.argmax(model.predict(x), axis=-1)`,   if your model does multi-class classification   (e.g. if it uses a `softmax` last-layer activation).* `(model.predict(x) > 0.5).astype(\"int32\")`,   if your model does binary classification   (e.g. if it uses a `sigmoid` last-layer activation).\n",
      "  warnings.warn('`model.predict_classes()` is deprecated and '\n"
     ]
    }
   ],
   "source": [
    "inputs = x_train_clf[:10]\n",
    "outputs = y_train_clf[:10]\n",
    "results = classifier.predict(tf.constant(inputs), verbose=0)\n",
    "print_my_examples(inputs, results, outputs)"
   ]
  },
  {
   "cell_type": "code",
   "execution_count": 27,
   "metadata": {},
   "outputs": [],
   "source": [
    "## APPLY MODEL ON NON-RATED COMMENTS"
   ]
  },
  {
   "cell_type": "code",
   "execution_count": 28,
   "metadata": {},
   "outputs": [
    {
     "name": "stdout",
     "output_type": "stream",
     "text": [
      "7/7 - 0s\n",
      "input:\n",
      "\"Sleeved + I have upgraded my game with:   The Broken Token's Game Organiser  Fan made Image that goes in between the player trays to add that additional flavour and colour. Acrylic Resource cubes: science, floaters, microbes, animals etc Metal copper, silver and gold goblets to replace the stock plastic component money\"\n",
      "score: 1.000000\n",
      "\n",
      "input:\n",
      "\"I'm really interested in Spirit Island for being an anticolonialist, cooperative game with variable player powers.\"\n",
      "score: 1.000000\n",
      "\n",
      "input:\n",
      "\"Hesitantly curious.  I don't want to enter into a heavyweight legacy game lightly, but I do like the prospect of developing a fictional history together over the course of several plays\"\n",
      "score: 1.000000\n",
      "\n",
      "input:\n",
      "\"*Blinged Out with Metal Coins, Realistic Resources, Campfire Encounter Tokens, and MeepleSource upgrades\"\n",
      "score: 0.000000\n",
      "\n",
      "input:\n",
      "\"Early impression: umm yeah, not bad. Why is it this popular though? Am I not getting it?\"\n",
      "score: 0.000000\n",
      "\n",
      "input:\n",
      "\"Olen kuulnud, et vähevõitu kordusmängitavust\"\n",
      "score: 1.000000\n",
      "\n",
      "input:\n",
      "\"I like this, as it's a Pax game of the Porfiriana mold, but it seems to have shaved off the craziness compared to Pax Ren and Pax Porf.  It's probably the tightest of the Pax games so far, but the least fun.  I need to play this 10-15 more times before rating it. \"\n",
      "score: 1.000000\n",
      "\n",
      "input:\n",
      "\"I hate the Inn so much I can't play this game. I know, I don't have to build it. It just bothers me that anyone would think that's a good card to include in this game. I have enough other games that I don't need to play one that annoys me.\"\n",
      "score: 0.000000\n",
      "\n",
      "input:\n",
      "\"After Viticulture & Euphoria, supporting this is going to be a no-brainer.\"\n",
      "score: 1.000000\n",
      "\n",
      "input:\n",
      "\"w/ Folded Space Insert and Metal Lira Coins\"\n",
      "score: 1.000000\n"
     ]
    }
   ],
   "source": [
    "not_rated_comments = not_rated_comments.sample(frac=1)\n",
    "results = classifier.predict(tf.constant(list(not_rated_comments.value.astype(str))))\n",
    "print_my_examples(list(not_rated_comments.value), results, limit=10)"
   ]
  },
  {
   "cell_type": "markdown",
   "metadata": {},
   "source": [
    "## REGRESSOR"
   ]
  },
  {
   "cell_type": "code",
   "execution_count": 29,
   "metadata": {},
   "outputs": [
    {
     "data": {
      "text/plain": [
       "GridSearchCV(cv=3,\n",
       "             estimator=<tensorflow.python.keras.wrappers.scikit_learn.KerasRegressor object at 0x0000019BEB349AC0>,\n",
       "             param_grid={})"
      ]
     },
     "execution_count": 29,
     "metadata": {},
     "output_type": "execute_result"
    }
   ],
   "source": [
    "def build_regressor():\n",
    "    return build_model(hub_layer, pre_trained_model_name=MODEL_NAME, model_type='regressor', verbose=0)\n",
    "\n",
    "\n",
    "estimator = KerasRegressor(build_fn=build_regressor, epochs=100, batch_size=512, verbose=0, validation_split=VAL_FRACTION)\n",
    "x_train_reg = np.array(list(rated_comments.value))\n",
    "y_train_reg = np.array(list(rated_comments.rating.astype(float)))\n",
    "\n",
    "clf = GridSearchCV(\n",
    "    estimator, \n",
    "    cv=3, \n",
    "    param_grid={}\n",
    ")\n",
    "clf.fit(x_train_reg, y_train_reg, callbacks=[tf.keras.callbacks.EarlyStopping(monitor='val_mean_squared_error', patience=5, min_delta=0.001)])"
   ]
  },
  {
   "cell_type": "code",
   "execution_count": 30,
   "metadata": {},
   "outputs": [],
   "source": [
    "regressor = clf.best_estimator_\n",
    "regressor_history_dict = regressor.model.history.history"
   ]
  },
  {
   "cell_type": "code",
   "execution_count": 31,
   "metadata": {},
   "outputs": [
    {
     "data": {
      "text/plain": [
       "dict_keys(['loss', 'mean_squared_error', 'val_loss', 'val_mean_squared_error'])"
      ]
     },
     "execution_count": 31,
     "metadata": {},
     "output_type": "execute_result"
    }
   ],
   "source": [
    "regressor_history_dict.keys()"
   ]
  },
  {
   "cell_type": "code",
   "execution_count": 32,
   "metadata": {},
   "outputs": [],
   "source": [
    "mean_squared_error = regressor_history_dict['mean_squared_error']\n",
    "val_mean_squared_error = regressor_history_dict['val_mean_squared_error']\n",
    "loss = regressor_history_dict['loss']\n",
    "val_loss = regressor_history_dict['val_loss']"
   ]
  },
  {
   "cell_type": "code",
   "execution_count": 33,
   "metadata": {},
   "outputs": [],
   "source": [
    "epochs = range(1, len(mean_squared_error) + 1) "
   ]
  },
  {
   "cell_type": "code",
   "execution_count": 34,
   "metadata": {},
   "outputs": [
    {
     "name": "stdout",
     "output_type": "stream",
     "text": [
      "MEAN SQUARED ERROR (VALIDATION SET): 2.54\n"
     ]
    }
   ],
   "source": [
    "print(f\"MEAN SQUARED ERROR (VALIDATION SET): {val_mean_squared_error[-1]:.2f}\")"
   ]
  },
  {
   "cell_type": "code",
   "execution_count": 35,
   "metadata": {},
   "outputs": [
    {
     "name": "stdout",
     "output_type": "stream",
     "text": [
      "MEAN SQUARED ERROR (TRAINING SET): 1.04\n"
     ]
    }
   ],
   "source": [
    "print(f\"MEAN SQUARED ERROR (TRAINING SET): {mean_squared_error[-1]:.2f}\")"
   ]
  },
  {
   "cell_type": "code",
   "execution_count": 36,
   "metadata": {},
   "outputs": [
    {
     "data": {
      "image/png": "[encoded data removed]",
      "text/plain": [
       "<Figure size 648x360 with 1 Axes>"
      ]
     },
     "metadata": {
      "needs_background": "light"
     },
     "output_type": "display_data"
    }
   ],
   "source": [
    "# \"bo\" is for \"blue dot\"\n",
    "plt.figure(figsize=(9, 5))\n",
    "plt.plot(epochs, loss, 'bo', label='Training loss')\n",
    "# b is for \"solid blue line\"\n",
    "plt.plot(epochs, val_loss, 'b', label='Validation loss')\n",
    "plt.title('Training and validation loss')\n",
    "plt.xlabel('Epochs')\n",
    "plt.ylabel('Loss')\n",
    "plt.grid(True)\n",
    "plt.legend()\n",
    "\n",
    "plt.show()"
   ]
  },
  {
   "cell_type": "code",
   "execution_count": 37,
   "metadata": {},
   "outputs": [
    {
     "data": {
      "image/png": "[encoded data removed]",
      "text/plain": [
       "<Figure size 648x360 with 1 Axes>"
      ]
     },
     "metadata": {
      "needs_background": "light"
     },
     "output_type": "display_data"
    }
   ],
   "source": [
    "plt.figure(figsize=(9, 5))\n",
    "plt.plot(epochs, mean_squared_error, 'bo', label='Training mean squared error')\n",
    "plt.plot(epochs, val_mean_squared_error, 'b', label='Validation mean squared error')\n",
    "plt.title('Training and validation accuracy')\n",
    "plt.xlabel('Epochs')\n",
    "plt.ylabel('Mean squared error')\n",
    "plt.grid(True)\n",
    "plt.legend()\n",
    "\n",
    "plt.show()"
   ]
  },
  {
   "cell_type": "code",
   "execution_count": 38,
   "metadata": {},
   "outputs": [
    {
     "name": "stdout",
     "output_type": "stream",
     "text": [
      "input: \n",
      "\"well balanced, want to play everyday.\"\n",
      "score: 8.66\n",
      "actual: 10.00 \n",
      "\n",
      "input: \n",
      "\"edit: Feb 2020 - The longer I have this and the more I compare it with other area control games the more I enjoy and admire it's simplicity, focus and sharp design. Plays quickly, and is an easy teach with great depth.\"\n",
      "score: 8.22\n",
      "actual: 8.00 \n",
      "\n",
      "input: \n",
      "\"I bought this game after one single try. Awesome under every aspect. The mechanics are many, but the scheme is quite easy to master. The cubes system to count the different resources are so ingenious you end up saying \"how didn'tI think about this before???\". The game itself is challenging, but meanwhile offers continuously different ways to make points and be somehow able to win in almost any condition. Finally, the flavour is THE BEST EVER. There is not one single card that doesn't feel right. The guys here know what's up. Everybody buy it now.\"\n",
      "score: 9.63\n",
      "actual: 10.00 \n",
      "\n",
      "input: \n",
      "\"A lot of actions available (too many?), and a useless conversion game to place tetris pieces. I won't play it again. There are much better worker placement games. (played a couple times and with the Norwegian expansion)\"\n",
      "score: 5.20\n",
      "actual: 2.00 \n",
      "\n",
      "input: \n",
      "\"Only have solod it but it is a super streamlined and compact version of Gloomhaven. Looking to play it more often.\"\n",
      "score: 8.92\n",
      "actual: 9.00 \n",
      "\n",
      "input: \n",
      "\"The gang enjoyed the Night of the Zealot campaign enough to sign up for the Dunwich Horror cycle.  I enjoy the way each investigator can bring his or her specialties to bear on the problem at hand, and the use of sets of encounter card decks is clever.  Deck construction isn't my cup of tea these days (as opposed to deck-building ala Dominion), but with the help of the excellent arkhamdb.com, this chore is of minimal hassle. Further, deck upgrades consist of manageable chunks of decision-making, with four investigators' worth of decks taking less than a half-hour to upgrade.  Looking forward to the next cycle!\"\n",
      "score: 8.45\n",
      "actual: 9.00 \n",
      "\n",
      "input: \n",
      "\"Obviously not a popular opinion here, but this game didn't impress me.  First, even though it gives the impression that you're playing a \"dudes on a map\" game, the interaction between players was severely limited. The games I played the winner barely interacted with other players, if at all. Second, the game feels like it's just picking up steam when it ends.  A lot of games are like that, but with this one it's particularly bad.  Every game I've played once it ends, I've always said - \"woah... that's it?\"\"\n",
      "score: 4.91\n",
      "actual: 5.00 \n",
      "\n",
      "input: \n",
      "\"Biggest complaint is that you can't do a whole lot of deck building until you have a couple expansions.\"\n",
      "score: 8.51\n",
      "actual: 8.00 \n",
      "\n",
      "input: \n",
      "\"Amazing design. Amazing fun. \"Eurotrash\" that combines best of ameritrash (cool theme, figures and such) and takes best of euro games (tough decisions, short-enuf etc). \"\n",
      "score: 10.24\n",
      "actual: 9.00 \n",
      "\n",
      "input: \n",
      "\"Times fly when playing this game.\"\n",
      "score: 9.67\n",
      "actual: 9.00 \n",
      "\n"
     ]
    }
   ],
   "source": [
    "inputs = x_train_reg[:10]\n",
    "outputs = y_train_reg[:10]\n",
    "results = clf.best_estimator_.predict(tf.constant(inputs), verbose=0)\n",
    "for i in range(len(inputs)):\n",
    "    print(f\"input: \\n\\\"{inputs[i]}\\\"\\nscore: {results[i]:.2f}\\nactual: {outputs[i]:.2f} \\n\")"
   ]
  },
  {
   "cell_type": "markdown",
   "metadata": {},
   "source": [
    "## COMPARE CLASSIFIER VS REGRESSOR"
   ]
  },
  {
   "cell_type": "code",
   "execution_count": 39,
   "metadata": {},
   "outputs": [
    {
     "name": "stdout",
     "output_type": "stream",
     "text": [
      "\"+KS Upgrade Kit +Resin Clearing Markers +The Exiles and Partisans Deck +The Vagabond Pack\"\n",
      "    reg score: 8.22\n",
      "    clf score: 1\n",
      "\n",
      "\"February 21, 2020 at 09:51am Order #209001 Board Game Bliss\"\n",
      "    reg score: 8.29\n",
      "    clf score: 1\n",
      "\n",
      "\"Includes: Thor, Captain America, Ms. Marvel, Green Goblin scenario and Wrecking Crew scenario.\"\n",
      "    reg score: 8.73\n",
      "    clf score: 1\n",
      "\n",
      "\"I like the unique dark fantasy setting, leveling aspect, and the card combat. After 7 plays, I still have interest to continue but I'm hoping for some more variety or surprises.  I'm glad I started with this version because I think I'll definitely have had my fill after 20+ scenarios.\"\n",
      "    reg score: 8.64\n",
      "    clf score: 1\n",
      "\n",
      "\"includes Captain America, Ms. Marvel, and Green Goblin sets.\"\n",
      "    reg score: 8.08\n",
      "    clf score: 1\n",
      "\n",
      "\"Kickstarted deluxe edition.  Delivery in spring of 2022.\"\n",
      "    reg score: 8.34\n",
      "    clf score: 1\n",
      "\n",
      "\"2 - 5 players (best 3), 45 - 75 min, Age: 14+  Mariposas is a game of movement and set collection that lets players be part of this amazing journey.  Mariposas is played in three seasons. In general, your butterflies try to head north in spring, spread out in summer, and return south in fall. The end of each season brings a scoring round, and at the end of fall, the player with the most successful family of butterflies — i.e., the most victory points — wins the game.\"\n",
      "    reg score: 7.88\n",
      "    clf score: 1\n",
      "\n",
      "\"If \"It is a time of farming and war\" doesn't get you stoked to play...then possibly you have good taste. It simply should not be possible for fighting with mechs to be boring...and yet this game exists.\"\n",
      "    reg score: 7.88\n",
      "    clf score: 1\n",
      "\n",
      "\"Deluxe Kickstarter Edition with Metal Coins, Sculpted Resources, Battle Mat and Metal Ship.\"\n",
      "    reg score: 9.29\n",
      "    clf score: 1\n",
      "\n",
      "\"Included in the game are: Hera, Pegasus, and Wheel of Fortune promo cards.\"\n",
      "    reg score: 5.19\n",
      "    clf score: 1\n",
      "\n"
     ]
    },
    {
     "name": "stderr",
     "output_type": "stream",
     "text": [
      "C:\\Users\\dev999\\.conda\\envs\\tensorflow2\\lib\\site-packages\\tensorflow\\python\\keras\\engine\\sequential.py:455: UserWarning: `model.predict_classes()` is deprecated and will be removed after 2021-01-01. Please use instead:* `np.argmax(model.predict(x), axis=-1)`,   if your model does multi-class classification   (e.g. if it uses a `softmax` last-layer activation).* `(model.predict(x) > 0.5).astype(\"int32\")`,   if your model does binary classification   (e.g. if it uses a `sigmoid` last-layer activation).\n",
      "  warnings.warn('`model.predict_classes()` is deprecated and '\n"
     ]
    }
   ],
   "source": [
    "not_rated_comments = not_rated_comments.sample(frac=1)\n",
    "inputs = list(not_rated_comments.value.astype(str))[:10]\n",
    "\n",
    "clf_results = classifier.predict(inputs, verbose=0)\n",
    "reg_results = regressor.predict(inputs, verbose=0)\n",
    "for i in range(len(inputs)):\n",
    "    print(f\"\"\"\\\"{inputs[i]}\\\"\n",
    "    reg score: {reg_results[i]:.2f}\n",
    "    clf score: {clf_results[i][0]}\n",
    "\"\"\")"
   ]
  },
  {
   "cell_type": "markdown",
   "metadata": {},
   "source": [
    "### RESULTS\n",
    "It seems that the regressor is much more accurate compared to the binary classifier => **let's use the regressors results to fix the BGG rating**"
   ]
  },
  {
   "cell_type": "markdown",
   "metadata": {},
   "source": [
    "## COMBINE RATED COMMENTS AND NOT-RATED COMMENTS WITH PREDICTED RATING"
   ]
  },
  {
   "cell_type": "code",
   "execution_count": 40,
   "metadata": {},
   "outputs": [
    {
     "name": "stdout",
     "output_type": "stream",
     "text": [
      "rated_comments_grouped: \n",
      "|     id |   rating_mean |   rating_count |\n",
      "|--------|---------------|----------------|\n",
      "| 162886 |          8.37 |           3699 |\n",
      "| 167355 |          8.41 |           1999 |\n",
      "| 167791 |          8.20 |           8516 |\n",
      "| 169786 |          8.09 |           7519 |\n",
      "| 170216 |          7.97 |           4365 |\n"
     ]
    }
   ],
   "source": [
    "rated_comments['rating'] = rated_comments.rating.astype(float)\n",
    "rated_comments_grouped = rated_comments.groupby('id').agg({'rating': ['mean', 'count']})\n",
    "rated_comments_grouped.columns = list(rated_comments_grouped.columns.map('_'.join))\n",
    "rated_comments_grouped = rated_comments_grouped.reset_index()\n",
    "print(\"rated_comments_grouped: \")\n",
    "print(rated_comments_grouped.head().to_markdown(index=False, floatfmt='.2f', tablefmt='github'))"
   ]
  },
  {
   "cell_type": "code",
   "execution_count": 41,
   "metadata": {},
   "outputs": [],
   "source": [
    "not_rated_comments['rating'] = regressor.predict(list(not_rated_comments.value.astype(str)))"
   ]
  },
  {
   "cell_type": "code",
   "execution_count": 42,
   "metadata": {},
   "outputs": [
    {
     "name": "stdout",
     "output_type": "stream",
     "text": [
      "not_rated_comments_grouped: \n",
      "|     id |   rating_mean |   rating_count |\n",
      "|--------|---------------|----------------|\n",
      "| 162886 |          8.06 |            325 |\n",
      "| 167355 |          8.10 |            213 |\n",
      "| 167791 |          8.19 |            453 |\n",
      "| 169786 |          8.05 |            610 |\n",
      "| 170216 |          8.05 |            329 |\n"
     ]
    }
   ],
   "source": [
    "not_rated_comments['rating'] = not_rated_comments.rating.astype(float)\n",
    "not_rated_comments['rating'] = not_rated_comments['rating'].clip(0, 10)\n",
    "not_rated_comments_grouped = not_rated_comments.groupby('id').agg({'rating': ['mean', 'count']})\n",
    "not_rated_comments_grouped.columns = list(not_rated_comments_grouped.columns.map('_'.join))\n",
    "not_rated_comments_grouped = not_rated_comments_grouped.reset_index()\n",
    "print(\"not_rated_comments_grouped: \")\n",
    "print(not_rated_comments_grouped.head().to_markdown(index=False, floatfmt='.2f', tablefmt='github'))"
   ]
  },
  {
   "cell_type": "code",
   "execution_count": 43,
   "metadata": {},
   "outputs": [],
   "source": [
    "grouped = rated_comments_grouped.merge(not_rated_comments_grouped, on='id', suffixes=('_review', '_comments'), how='outer')\n",
    "grouped['id'] = grouped.id.astype(str)\n",
    "grouped = grouped.merge(pd.DataFrame(hot_array), on='id', how='right')\n",
    "grouped['rank'] = grouped['rank'].astype(int)\n",
    "grouped['url'] = grouped['id'].apply(lambda x: f\"https://boardgamegeek.com/boardgame/{x}\")\n",
    "grouped['fixed_rating'] = (grouped['rating_mean_review']*grouped['rating_count_review']+grouped['rating_mean_comments']*grouped['rating_count_comments']) /\\\n",
    "                            (grouped['rating_count_review']+grouped['rating_count_comments'])\n",
    "grouped['thumbnail'] = grouped['thumbnail'].apply(lambda x: f'<img src=\"{x}\" width=\"124\" />')\n",
    "grouped['name'] = grouped.apply(lambda x: f'<a href=\"{x[\"url\"]}\">{x[\"name\"]}</a>', axis=1)\n",
    "\n",
    "grouped = grouped[['thumbnail', 'name', 'rating_mean_review', 'rating_mean_comments', 'fixed_rating', 'rank', 'yearpublished']]"
   ]
  },
  {
   "cell_type": "code",
   "execution_count": 44,
   "metadata": {},
   "outputs": [
    {
     "data": {
      "text/html": [
       "<div>\n",
       "<style scoped>\n",
       "    .dataframe tbody tr th:only-of-type {\n",
       "        vertical-align: middle;\n",
       "    }\n",
       "\n",
       "    .dataframe tbody tr th {\n",
       "        vertical-align: top;\n",
       "    }\n",
       "\n",
       "    .dataframe thead th {\n",
       "        text-align: right;\n",
       "    }\n",
       "</style>\n",
       "<table border=\"1\" class=\"dataframe\">\n",
       "  <thead>\n",
       "    <tr style=\"text-align: right;\">\n",
       "      <th></th>\n",
       "      <th>thumbnail</th>\n",
       "      <th>name</th>\n",
       "      <th>rating_mean_review</th>\n",
       "      <th>rating_mean_comments</th>\n",
       "      <th>fixed_rating</th>\n",
       "      <th>rank</th>\n",
       "      <th>yearpublished</th>\n",
       "    </tr>\n",
       "  </thead>\n",
       "  <tbody>\n",
       "    <tr>\n",
       "      <th>0</th>\n",
       "      <td>&lt;img src=\"https://cf.geekdo-images.com/utvlrrm...</td>\n",
       "      <td>&lt;a href=\"https://boardgamegeek.com/boardgame/3...</td>\n",
       "      <td>NaN</td>\n",
       "      <td>8.490673</td>\n",
       "      <td>NaN</td>\n",
       "      <td>1</td>\n",
       "      <td>2021</td>\n",
       "    </tr>\n",
       "    <tr>\n",
       "      <th>1</th>\n",
       "      <td>&lt;img src=\"https://cf.geekdo-images.com/E8qBDKe...</td>\n",
       "      <td>&lt;a href=\"https://boardgamegeek.com/boardgame/2...</td>\n",
       "      <td>8.000000</td>\n",
       "      <td>8.865582</td>\n",
       "      <td>8.692466</td>\n",
       "      <td>2</td>\n",
       "      <td>2022</td>\n",
       "    </tr>\n",
       "    <tr>\n",
       "      <th>2</th>\n",
       "      <td>&lt;img src=\"https://cf.geekdo-images.com/9Upl9mD...</td>\n",
       "      <td>&lt;a href=\"https://boardgamegeek.com/boardgame/2...</td>\n",
       "      <td>9.028571</td>\n",
       "      <td>8.209939</td>\n",
       "      <td>8.591967</td>\n",
       "      <td>3</td>\n",
       "      <td>2021</td>\n",
       "    </tr>\n",
       "    <tr>\n",
       "      <th>3</th>\n",
       "      <td>&lt;img src=\"https://cf.geekdo-images.com/ClU6JMO...</td>\n",
       "      <td>&lt;a href=\"https://boardgamegeek.com/boardgame/3...</td>\n",
       "      <td>8.142857</td>\n",
       "      <td>8.147830</td>\n",
       "      <td>8.146248</td>\n",
       "      <td>4</td>\n",
       "      <td>2022</td>\n",
       "    </tr>\n",
       "    <tr>\n",
       "      <th>4</th>\n",
       "      <td>&lt;img src=\"https://cf.geekdo-images.com/Q96PxRV...</td>\n",
       "      <td>&lt;a href=\"https://boardgamegeek.com/boardgame/3...</td>\n",
       "      <td>6.983763</td>\n",
       "      <td>6.382170</td>\n",
       "      <td>6.960944</td>\n",
       "      <td>5</td>\n",
       "      <td>2021</td>\n",
       "    </tr>\n",
       "  </tbody>\n",
       "</table>\n",
       "</div>"
      ],
      "text/plain": [
       "                                           thumbnail  \\\n",
       "0  <img src=\"https://cf.geekdo-images.com/utvlrrm...   \n",
       "1  <img src=\"https://cf.geekdo-images.com/E8qBDKe...   \n",
       "2  <img src=\"https://cf.geekdo-images.com/9Upl9mD...   \n",
       "3  <img src=\"https://cf.geekdo-images.com/ClU6JMO...   \n",
       "4  <img src=\"https://cf.geekdo-images.com/Q96PxRV...   \n",
       "\n",
       "                                                name  rating_mean_review  \\\n",
       "0  <a href=\"https://boardgamegeek.com/boardgame/3...                 NaN   \n",
       "1  <a href=\"https://boardgamegeek.com/boardgame/2...            8.000000   \n",
       "2  <a href=\"https://boardgamegeek.com/boardgame/2...            9.028571   \n",
       "3  <a href=\"https://boardgamegeek.com/boardgame/3...            8.142857   \n",
       "4  <a href=\"https://boardgamegeek.com/boardgame/3...            6.983763   \n",
       "\n",
       "   rating_mean_comments  fixed_rating  rank yearpublished  \n",
       "0              8.490673           NaN     1          2021  \n",
       "1              8.865582      8.692466     2          2022  \n",
       "2              8.209939      8.591967     3          2021  \n",
       "3              8.147830      8.146248     4          2022  \n",
       "4              6.382170      6.960944     5          2021  "
      ]
     },
     "execution_count": 44,
     "metadata": {},
     "output_type": "execute_result"
    }
   ],
   "source": [
    "grouped.head()"
   ]
  },
  {
   "cell_type": "code",
   "execution_count": 45,
   "metadata": {},
   "outputs": [],
   "source": [
    "def display_topn(by, n=5, ascending=True):\n",
    "    temp_df = grouped.sort_values(by, ascending=ascending).head(n)\n",
    "    temp_df.index=list(range(1, n+1))\n",
    "    return HTML(temp_df.to_html(escape=False, classes='table table-striped'))"
   ]
  },
  {
   "cell_type": "code",
   "execution_count": 46,
   "metadata": {},
   "outputs": [
    {
     "data": {
      "text/html": [
       "<table border=\"1\" class=\"dataframe table table-striped\">\n",
       "  <thead>\n",
       "    <tr style=\"text-align: right;\">\n",
       "      <th></th>\n",
       "      <th>thumbnail</th>\n",
       "      <th>name</th>\n",
       "      <th>rating_mean_review</th>\n",
       "      <th>rating_mean_comments</th>\n",
       "      <th>fixed_rating</th>\n",
       "      <th>rank</th>\n",
       "      <th>yearpublished</th>\n",
       "    </tr>\n",
       "  </thead>\n",
       "  <tbody>\n",
       "    <tr>\n",
       "      <th>1</th>\n",
       "      <td><img src=\"https://cf.geekdo-images.com/utvlrrmevsn9Cb_Fs6kqlg__thumb/img/CjNBS17ZhTbUnnc2F7grdDBk4Us=/fit-in/200x150/filters:strip_icc()/pic6329299.jpg\" width=\"124\" /></td>\n",
       "      <td><a href=\"https://boardgamegeek.com/boardgame/344277\">Corrosion</a></td>\n",
       "      <td>NaN</td>\n",
       "      <td>8.490673</td>\n",
       "      <td>NaN</td>\n",
       "      <td>1</td>\n",
       "      <td>2021</td>\n",
       "    </tr>\n",
       "    <tr>\n",
       "      <th>2</th>\n",
       "      <td><img src=\"https://cf.geekdo-images.com/E8qBDKe39KEFMo-LhTNDQQ__thumb/img/jFQaWbcjoUzxS7p76LsGzg4piQk=/fit-in/200x150/filters:strip_icc()/pic6333980.jpg\" width=\"124\" /></td>\n",
       "      <td><a href=\"https://boardgamegeek.com/boardgame/237179\">Weather Machine</a></td>\n",
       "      <td>8.000000</td>\n",
       "      <td>8.865582</td>\n",
       "      <td>8.692466</td>\n",
       "      <td>2</td>\n",
       "      <td>2022</td>\n",
       "    </tr>\n",
       "    <tr>\n",
       "      <th>3</th>\n",
       "      <td><img src=\"https://cf.geekdo-images.com/9Upl9mDSHnO7d3xhJio6RQ__thumb/img/JmuR2GLHVSLrpfF_3skkngpQ3Vc=/fit-in/200x150/filters:strip_icc()/pic4936106.jpg\" width=\"124\" /></td>\n",
       "      <td><a href=\"https://boardgamegeek.com/boardgame/288080\">Dice Realms</a></td>\n",
       "      <td>9.028571</td>\n",
       "      <td>8.209939</td>\n",
       "      <td>8.591967</td>\n",
       "      <td>3</td>\n",
       "      <td>2021</td>\n",
       "    </tr>\n",
       "    <tr>\n",
       "      <th>4</th>\n",
       "      <td><img src=\"https://cf.geekdo-images.com/ClU6JMOgtfrCQHVNrnNfcg__thumb/img/JHNXIq6BnKSLhsEcU83scVJT_Hw=/fit-in/200x150/filters:strip_icc()/pic6128089.jpg\" width=\"124\" /></td>\n",
       "      <td><a href=\"https://boardgamegeek.com/boardgame/336986\">Flamecraft</a></td>\n",
       "      <td>8.142857</td>\n",
       "      <td>8.147830</td>\n",
       "      <td>8.146248</td>\n",
       "      <td>4</td>\n",
       "      <td>2022</td>\n",
       "    </tr>\n",
       "    <tr>\n",
       "      <th>5</th>\n",
       "      <td><img src=\"https://cf.geekdo-images.com/Q96PxRVbrDxS9_4ZPTJtHQ__thumb/img/hXnjkvD7KiLk2fon8tbvsXNtT_k=/fit-in/200x150/filters:strip_icc()/pic5941333.png\" width=\"124\" /></td>\n",
       "      <td><a href=\"https://boardgamegeek.com/boardgame/322708\">Descent: Legends of the Dark</a></td>\n",
       "      <td>6.983763</td>\n",
       "      <td>6.382170</td>\n",
       "      <td>6.960944</td>\n",
       "      <td>5</td>\n",
       "      <td>2021</td>\n",
       "    </tr>\n",
       "  </tbody>\n",
       "</table>"
      ],
      "text/plain": [
       "<IPython.core.display.HTML object>"
      ]
     },
     "execution_count": 46,
     "metadata": {},
     "output_type": "execute_result"
    }
   ],
   "source": [
    "# TOP N RANK\n",
    "display_topn(by='rank', n=TOP_N)"
   ]
  },
  {
   "cell_type": "code",
   "execution_count": 47,
   "metadata": {},
   "outputs": [
    {
     "data": {
      "text/html": [
       "<table border=\"1\" class=\"dataframe table table-striped\">\n",
       "  <thead>\n",
       "    <tr style=\"text-align: right;\">\n",
       "      <th></th>\n",
       "      <th>thumbnail</th>\n",
       "      <th>name</th>\n",
       "      <th>rating_mean_review</th>\n",
       "      <th>rating_mean_comments</th>\n",
       "      <th>fixed_rating</th>\n",
       "      <th>rank</th>\n",
       "      <th>yearpublished</th>\n",
       "    </tr>\n",
       "  </thead>\n",
       "  <tbody>\n",
       "    <tr>\n",
       "      <th>1</th>\n",
       "      <td><img src=\"https://cf.geekdo-images.com/twL1CWdSMejfYGMkzCKNSg__thumb/img/BePuJFryNGLGjrRUu-nz5UWRJ6Q=/fit-in/200x150/filters:strip_icc()/pic6326744.png\" width=\"124\" /></td>\n",
       "      <td><a href=\"https://boardgamegeek.com/boardgame/344332\">Total War: ROME – The Board Game</a></td>\n",
       "      <td>10.000000</td>\n",
       "      <td>2.732408</td>\n",
       "      <td>6.366204</td>\n",
       "      <td>44</td>\n",
       "      <td>2022</td>\n",
       "    </tr>\n",
       "    <tr>\n",
       "      <th>2</th>\n",
       "      <td><img src=\"https://cf.geekdo-images.com/9Upl9mDSHnO7d3xhJio6RQ__thumb/img/JmuR2GLHVSLrpfF_3skkngpQ3Vc=/fit-in/200x150/filters:strip_icc()/pic4936106.jpg\" width=\"124\" /></td>\n",
       "      <td><a href=\"https://boardgamegeek.com/boardgame/288080\">Dice Realms</a></td>\n",
       "      <td>9.028571</td>\n",
       "      <td>8.209939</td>\n",
       "      <td>8.591967</td>\n",
       "      <td>3</td>\n",
       "      <td>2021</td>\n",
       "    </tr>\n",
       "    <tr>\n",
       "      <th>3</th>\n",
       "      <td><img src=\"https://cf.geekdo-images.com/94ZDoKvczbrBCAWMHvPfNQ__thumb/img/7k6ZGxDz4Y_IkhxjaLlMMl_RQEQ=/fit-in/200x150/filters:strip_icc()/pic6337894.png\" width=\"124\" /></td>\n",
       "      <td><a href=\"https://boardgamegeek.com/boardgame/344759\">The Rocketeer: Fate of the Future</a></td>\n",
       "      <td>9.000000</td>\n",
       "      <td>8.370764</td>\n",
       "      <td>8.685382</td>\n",
       "      <td>48</td>\n",
       "      <td>2021</td>\n",
       "    </tr>\n",
       "    <tr>\n",
       "      <th>4</th>\n",
       "      <td><img src=\"https://cf.geekdo-images.com/Oh3kHw6lweg6ru71Q16h2Q__thumb/img/e9XZdQe1ZcPpaq4Gy31OoWBB_V0=/fit-in/200x150/filters:strip_icc()/pic5235277.jpg\" width=\"124\" /></td>\n",
       "      <td><a href=\"https://boardgamegeek.com/boardgame/246900\">Eclipse: Second Dawn for the Galaxy</a></td>\n",
       "      <td>8.706544</td>\n",
       "      <td>8.049994</td>\n",
       "      <td>8.607550</td>\n",
       "      <td>41</td>\n",
       "      <td>2020</td>\n",
       "    </tr>\n",
       "    <tr>\n",
       "      <th>5</th>\n",
       "      <td><img src=\"https://cf.geekdo-images.com/x3zxjr-Vw5iU4yDPg70Jgw__thumb/img/o18rjEemoWaVru9Y2TyPwuIaRfE=/fit-in/200x150/filters:strip_icc()/pic3490053.jpg\" width=\"124\" /></td>\n",
       "      <td><a href=\"https://boardgamegeek.com/boardgame/224517\">Brass: Birmingham</a></td>\n",
       "      <td>8.674796</td>\n",
       "      <td>8.218477</td>\n",
       "      <td>8.634636</td>\n",
       "      <td>25</td>\n",
       "      <td>2018</td>\n",
       "    </tr>\n",
       "  </tbody>\n",
       "</table>"
      ],
      "text/plain": [
       "<IPython.core.display.HTML object>"
      ]
     },
     "execution_count": 47,
     "metadata": {},
     "output_type": "execute_result"
    }
   ],
   "source": [
    "# TOP N REVIEW RANK\n",
    "display_topn(by='rating_mean_review', n=TOP_N, ascending=False)"
   ]
  },
  {
   "cell_type": "code",
   "execution_count": 48,
   "metadata": {},
   "outputs": [
    {
     "data": {
      "text/html": [
       "<table border=\"1\" class=\"dataframe table table-striped\">\n",
       "  <thead>\n",
       "    <tr style=\"text-align: right;\">\n",
       "      <th></th>\n",
       "      <th>thumbnail</th>\n",
       "      <th>name</th>\n",
       "      <th>rating_mean_review</th>\n",
       "      <th>rating_mean_comments</th>\n",
       "      <th>fixed_rating</th>\n",
       "      <th>rank</th>\n",
       "      <th>yearpublished</th>\n",
       "    </tr>\n",
       "  </thead>\n",
       "  <tbody>\n",
       "    <tr>\n",
       "      <th>1</th>\n",
       "      <td><img src=\"https://cf.geekdo-images.com/E8qBDKe39KEFMo-LhTNDQQ__thumb/img/jFQaWbcjoUzxS7p76LsGzg4piQk=/fit-in/200x150/filters:strip_icc()/pic6333980.jpg\" width=\"124\" /></td>\n",
       "      <td><a href=\"https://boardgamegeek.com/boardgame/237179\">Weather Machine</a></td>\n",
       "      <td>8.000000</td>\n",
       "      <td>8.865582</td>\n",
       "      <td>8.692466</td>\n",
       "      <td>2</td>\n",
       "      <td>2022</td>\n",
       "    </tr>\n",
       "    <tr>\n",
       "      <th>2</th>\n",
       "      <td><img src=\"https://cf.geekdo-images.com/94ZDoKvczbrBCAWMHvPfNQ__thumb/img/7k6ZGxDz4Y_IkhxjaLlMMl_RQEQ=/fit-in/200x150/filters:strip_icc()/pic6337894.png\" width=\"124\" /></td>\n",
       "      <td><a href=\"https://boardgamegeek.com/boardgame/344759\">The Rocketeer: Fate of the Future</a></td>\n",
       "      <td>9.000000</td>\n",
       "      <td>8.370764</td>\n",
       "      <td>8.685382</td>\n",
       "      <td>48</td>\n",
       "      <td>2021</td>\n",
       "    </tr>\n",
       "    <tr>\n",
       "      <th>3</th>\n",
       "      <td><img src=\"https://cf.geekdo-images.com/x3zxjr-Vw5iU4yDPg70Jgw__thumb/img/o18rjEemoWaVru9Y2TyPwuIaRfE=/fit-in/200x150/filters:strip_icc()/pic3490053.jpg\" width=\"124\" /></td>\n",
       "      <td><a href=\"https://boardgamegeek.com/boardgame/224517\">Brass: Birmingham</a></td>\n",
       "      <td>8.674796</td>\n",
       "      <td>8.218477</td>\n",
       "      <td>8.634636</td>\n",
       "      <td>25</td>\n",
       "      <td>2018</td>\n",
       "    </tr>\n",
       "    <tr>\n",
       "      <th>4</th>\n",
       "      <td><img src=\"https://cf.geekdo-images.com/Oh3kHw6lweg6ru71Q16h2Q__thumb/img/e9XZdQe1ZcPpaq4Gy31OoWBB_V0=/fit-in/200x150/filters:strip_icc()/pic5235277.jpg\" width=\"124\" /></td>\n",
       "      <td><a href=\"https://boardgamegeek.com/boardgame/246900\">Eclipse: Second Dawn for the Galaxy</a></td>\n",
       "      <td>8.706544</td>\n",
       "      <td>8.049994</td>\n",
       "      <td>8.607550</td>\n",
       "      <td>41</td>\n",
       "      <td>2020</td>\n",
       "    </tr>\n",
       "    <tr>\n",
       "      <th>5</th>\n",
       "      <td><img src=\"https://cf.geekdo-images.com/9Upl9mDSHnO7d3xhJio6RQ__thumb/img/JmuR2GLHVSLrpfF_3skkngpQ3Vc=/fit-in/200x150/filters:strip_icc()/pic4936106.jpg\" width=\"124\" /></td>\n",
       "      <td><a href=\"https://boardgamegeek.com/boardgame/288080\">Dice Realms</a></td>\n",
       "      <td>9.028571</td>\n",
       "      <td>8.209939</td>\n",
       "      <td>8.591967</td>\n",
       "      <td>3</td>\n",
       "      <td>2021</td>\n",
       "    </tr>\n",
       "  </tbody>\n",
       "</table>"
      ],
      "text/plain": [
       "<IPython.core.display.HTML object>"
      ]
     },
     "execution_count": 48,
     "metadata": {},
     "output_type": "execute_result"
    }
   ],
   "source": [
    "# TOP N FIXED RANK\n",
    "display_topn(by='fixed_rating', n=TOP_N, ascending=False)"
   ]
  },
  {
   "cell_type": "code",
   "execution_count": 49,
   "metadata": {},
   "outputs": [],
   "source": [
    "# model.save('saved_model\\my_model')"
   ]
  },
  {
   "cell_type": "code",
   "execution_count": 50,
   "metadata": {},
   "outputs": [],
   "source": [
    "# saved_model = tf.keras.models.load_model('saved_model\\my_model')"
   ]
  },
  {
   "cell_type": "code",
   "execution_count": 51,
   "metadata": {},
   "outputs": [],
   "source": [
    "# some examples on \"long\" comments vs short comments"
   ]
  },
  {
   "cell_type": "code",
   "execution_count": 52,
   "metadata": {},
   "outputs": [],
   "source": [
    "not_rated_comments['comment_len'] = not_rated_comments['value'].str.len()\n",
    "some_long_comments = not_rated_comments.query(\"comment_len>100 and comment_len<300\").sample(frac=1).head(25).sort_values('rating')"
   ]
  },
  {
   "cell_type": "code",
   "execution_count": 57,
   "metadata": {},
   "outputs": [
    {
     "name": "stdout",
     "output_type": "stream",
     "text": [
      "\"I love \"stop rating pre-production marketing materials\" as a comment by somebody that has a rating in on pre-production marketing materials.\"\n",
      "score: 1.99\n",
      "\n",
      "\"Includes: + [thing=295619][/thing] + [thing=295618][/thing] + [thing=297874][/thing] + [thing=295690][/thing]\"\n",
      "score: 5.79\n",
      "\n",
      "\"I enjoy seeing new themes for games, even if they're as boring as this one. I'd play it again, but it's not one I'd ever own.\"\n",
      "score: 6.31\n",
      "\n",
      "\"Probado con Automa, es un juego de combos entretenido y ni mucho menos tan sencillo como parece. No me gusta el tema, ni la iconografía, ni los cubitos. Veremos a más jugadores...\"\n",
      "score: 6.53\n",
      "\n",
      "\"Have the clay chips. kS edition with original shipping box.   Played 1.5 times. Like will want to play it once more to be sure before trading, Maybe it just didn’t click yet? Gorgeous game. \"\n",
      "score: 6.59\n",
      "\n",
      "\"Surprise gift for hubby. Received an extra Summoner in place of the Scoundrel, though, and hubby insists on waiting for the replacement mini to arrive, since that's the one I want to be playing.\"\n",
      "score: 6.70\n",
      "\n",
      "\"Picked it up in Targets buy 2 get 1 free. Used a $25 gift card and Quacks of Quedlinburg and purple villainous expansion packs with this.\"\n",
      "score: 6.81\n",
      "\n",
      "\"Backed this as a Kickstarter.  Still  haven't played! (Directions seem daunting) I need to  find a decent  video to  watch.\"\n",
      "score: 6.90\n",
      "\n",
      "\"Tabletop Simulator DLC Game is damn complicated.  Haven't figured out the rules yet.  What I've seen so far seems a little dull.\"\n",
      "score: 7.02\n",
      "\n",
      "\"I wish Ankh was not color-blind friendly with the Ankh tokens.  I had to label them before I could play the game.\"\n",
      "score: 7.26\n",
      "\n",
      "\"The Lord of the Rings: Journeys in Middle-Earth is a co-op game with tiny cards and fonts (/thread/2191679, /thread/2487055).\"\n",
      "score: 7.42\n",
      "\n",
      "\"Fleshed out solo or co-op mode would make it a must have (don't think Heather will be a fan otherwise)\"\n",
      "score: 7.71\n",
      "\n",
      "\"Sleeved with Arcane Tinmen non-glare (small cards), and big cards with dragon shield gloss/clear, and dragon shield matte non-glare (depending on if double-sided).\"\n",
      "score: 7.73\n",
      "\n",
      "\"Backed on Kickstarter at the Art Connoisseur's Level - includes cotton bags for each faction (BGG Promo)\"\n",
      "score: 7.83\n",
      "\n",
      "\"highly-rated, difficult, pretty, co-op game. theme is protecting against european invaders using elemental powers. sounds amazing. $55-60\"\n",
      "score: 7.89\n",
      "\n",
      "\"Worker placement and tableau builder. So pretty. Love the theme. Good game with a lot of cards for variability. May take a game to figure out. Good at all player counts.\"\n",
      "score: 8.06\n",
      "\n",
      "\"Another coop with tons of variability with some great moments. Will gladly play this more. Fiancée doesn’t care to try. Have played it about two or three times and always a blast.\"\n",
      "score: 8.22\n",
      "\n",
      "\"1-5(3-4) players, 90-120 mins, 3.27 weight  Card Drafting Hand Management Tile Placement Variable Player Powers\"\n",
      "score: 8.45\n",
      "\n",
      "\"5490 1-4 RANK: OVERALL 21STRATEGY 17  Влад: ТОП-100 лучших игр 2020 Народ: место 59 (3.5) Крутая евроигра Свобода выбора, высокая кризисность, особенно с допами Реиграбельность высокая  Designer: Uwe Rosenberg  Топ-15 Crimzon Серп куда прикольнее. В Одине шило на мыло меняешь :)\"\n",
      "score: 8.53\n",
      "\n",
      "\"Sleeved.  63.5x88, 44X67). [thing=256377]Aftermath & Void Seeders (2019)[/thing] [thing=274532]Dice Tower 2019 Promo Cards (2019)[/thing] \"\n",
      "score: 8.85\n",
      "\n",
      "\"My dream game! The story, the strategy, mechanics, the art work, the huge amount of pieces. Got a good group of friends that would really enjoy it too! \"\n",
      "score: 9.18\n",
      "\n",
      "\"Expansions... + Carnomorphs (2019) + Aftermath & Void Seeders (2019)  Promos... + Medic Character Expansion (2019) + Untold Stories #1 (2019) /- Dice Tower 2019 Promo Cards (2019)  Additional Sculpts... + Space Cats Collection (2019)\"\n",
      "score: 9.71\n",
      "\n",
      "\"Scythe: Promo Pack #1 (2016) Scythe: Promo Pack #2 (2016) Scythe: Promo Pack #3 (2016) Scythe: Promo Pack #4 (2016)\"\n",
      "score: 9.88\n",
      "\n",
      "\"Scores are tights. Every game is different. AND it's the favorite game of my wife for 2 years.  She can't refuse a game ;)\"\n",
      "score: 10.00\n",
      "\n",
      "\"With Hellas & Elysium expansion (2017). With Venus Next expansion (2017). With Prelude expansion (2018). With Colonies expansion (2018). With Turmoil expansion (2019). With Small Asteroid Promo Card (2016).\"\n",
      "score: 10.00\n",
      "\n"
     ]
    }
   ],
   "source": [
    "some_long_comments.apply(lambda c: print(f\"\\\"{c['value']}\\\"\\nscore: {c['rating']:.2f}\\n\"), axis=1);"
   ]
  },
  {
   "cell_type": "markdown",
   "metadata": {},
   "source": [
    "## RANDOM FOREST - TEST"
   ]
  },
  {
   "cell_type": "code",
   "execution_count": 54,
   "metadata": {},
   "outputs": [],
   "source": [
    "# no support for Windows at the moment - waiting for it to test"
   ]
  },
  {
   "cell_type": "code",
   "execution_count": null,
   "metadata": {},
   "outputs": [],
   "source": []
  }
 ],
 "metadata": {
  "kernelspec": {
   "display_name": "tensorflow2",
   "language": "python",
   "name": "tensorflow2"
  },
  "language_info": {
   "codemirror_mode": {
    "name": "ipython",
    "version": 3
   },
   "file_extension": ".py",
   "mimetype": "text/x-python",
   "name": "python",
   "nbconvert_exporter": "python",
   "pygments_lexer": "ipython3",
   "version": "3.8.8"
  }
 },
 "nbformat": 4,
 "nbformat_minor": 4
}
