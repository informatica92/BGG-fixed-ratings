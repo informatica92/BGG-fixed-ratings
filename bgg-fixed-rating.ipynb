{
 "cells": [
  {
   "cell_type": "code",
   "execution_count": null,
   "metadata": {},
   "outputs": [],
   "source": [
    "# ## BGG API\n",
    "# https://www.boardgamegeek.com/xmlapi2/thing?id=161599&comments=1\n",
    "# https://www.boardgamegeek.com/xmlapi2/hot?type=boardgame\n",
    "# ## NLP WITH TF\n",
    "# https://www.tensorflow.org/hub/tutorials/tf2_text_classification"
   ]
  },
  {
   "cell_type": "code",
   "execution_count": 2,
   "metadata": {},
   "outputs": [
    {
     "name": "stdout",
     "output_type": "stream",
     "text": [
      "Version:      2.5.0\n",
      "Eager mode:   True\n",
      "Hub version:  0.12.0\n",
      "GPU:          available\n"
     ]
    }
   ],
   "source": [
    "import tensorflow as tf\n",
    "import tensorflow_hub as hub\n",
    "from tensorflow.keras.wrappers.scikit_learn import KerasRegressor, KerasClassifier\n",
    "from sklearn.model_selection import GridSearchCV\n",
    "\n",
    "from IPython.display import HTML\n",
    "from datetime import datetime\n",
    "import matplotlib.pyplot as plt\n",
    "import pandas as pd\n",
    "import numpy as np\n",
    "import re\n",
    "\n",
    "from utilities import get_hot_data, get_comments, remove_short_comments, build_model, print_my_examples\n",
    "\n",
    "print(\"Version:     \", tf.__version__)\n",
    "print(\"Eager mode:  \", tf.executing_eagerly())\n",
    "print(\"Hub version: \", hub.__version__)\n",
    "print(\"GPU:         \", \"available\" if tf.config.list_physical_devices('GPU') else \"NOT available\")\n",
    "\n",
    "tf.get_logger().setLevel('ERROR')"
   ]
  },
  {
   "cell_type": "code",
   "execution_count": 3,
   "metadata": {},
   "outputs": [],
   "source": [
    "# tf.debugging.set_log_device_placement(True)"
   ]
  },
  {
   "cell_type": "code",
   "execution_count": 4,
   "metadata": {},
   "outputs": [],
   "source": [
    "GOOD_REVIEW_THRESHOLD = 7\n",
    "VAL_FRACTION = 0.25\n",
    "MIN_COMMENT_LEN = 25\n",
    "TOP_N = 5\n",
    "MODEL_NAME = \"https://tfhub.dev/google/tf2-preview/nnlm-en-dim50/1\"\n",
    "# MORE ABOUT MODEL NAMES: \n",
    "# \"https://tfhub.dev/google/tf2-preview/nnlm-en-dim128/1\"\n",
    "# \"https://tfhub.dev/google/tf2-preview/nnlm-en-dim128-with-normalization/1\"\n",
    "# we also tested these solutions with dimension equals to 128 but accuracy \n",
    "# is a bit lower (0.85 for 128 vs 0.86 for 50) and training sometimes stops \n",
    "# unexpectedly for memory limit\n",
    "#\n",
    "# \"https://tfhub.dev/google/tf2-preview/nnlm-en-dim50/1\"\n",
    "# \"https://tfhub.dev/google/tf2-preview/nnlm-en-dim50-with-normalization/1\"\n",
    "# there is no difference between normalization and not so we use the one \n",
    "# without normalization"
   ]
  },
  {
   "cell_type": "markdown",
   "metadata": {},
   "source": [
    "## GET DATA"
   ]
  },
  {
   "cell_type": "code",
   "execution_count": 5,
   "metadata": {},
   "outputs": [
    {
     "data": {
      "text/plain": [
       "[{'id': '338697',\n",
       "  'rank': '1',\n",
       "  'thumbnail': 'https://cf.geekdo-images.com/4Kr0RereFqdS29qe-mNYkQ__thumb/img/HCQGvP8maKFhqx0cFvkJ18AYTx8=/fit-in/200x150/filters:strip_icc()/pic6192204.png',\n",
       "  'name': 'CATAN: 3D Edition',\n",
       "  'yearpublished': '2021'},\n",
       " {'id': '318184',\n",
       "  'rank': '2',\n",
       "  'thumbnail': 'https://cf.geekdo-images.com/MN0OvKejfrfwD6bupQHp4g__thumb/img/MVh7xtQ4l17hprI4mFIk9Kswk6s=/fit-in/200x150/filters:strip_icc()/pic5623566.jpg',\n",
       "  'name': 'Imperium: Classics',\n",
       "  'yearpublished': '2021'}]"
      ]
     },
     "execution_count": 5,
     "metadata": {},
     "output_type": "execute_result"
    }
   ],
   "source": [
    "hot_array = get_hot_data()\n",
    "hot_array[:2]"
   ]
  },
  {
   "cell_type": "code",
   "execution_count": 6,
   "metadata": {},
   "outputs": [
    {
     "name": "stdout",
     "output_type": "stream",
     "text": [
      "missing csv file, getting new data using API...\n",
      "page number = 10 (max: 100, len: 24)\n",
      "page number = 20 (max: 100, len: 16)\n",
      "page number = 30 (max: 100, len: 11)\n",
      "page number = 40 (max: 100, len: 8)\n",
      "page number = 50 (max: 100, len: 4)\n",
      "page number = 60 (max: 100, len: 4)\n",
      "page number = 70 (max: 100, len: 3)\n",
      "page number = 80 (max: 100, len: 3)\n",
      "page number = 90 (max: 100, len: 2)\n",
      "page number = 100 (max: 44, len: 1)\n",
      "comments_df shape: (90653, 4)\n"
     ]
    },
    {
     "data": {
      "text/html": [
       "<div>\n",
       "<style scoped>\n",
       "    .dataframe tbody tr th:only-of-type {\n",
       "        vertical-align: middle;\n",
       "    }\n",
       "\n",
       "    .dataframe tbody tr th {\n",
       "        vertical-align: top;\n",
       "    }\n",
       "\n",
       "    .dataframe thead th {\n",
       "        text-align: right;\n",
       "    }\n",
       "</style>\n",
       "<table border=\"1\" class=\"dataframe\">\n",
       "  <thead>\n",
       "    <tr style=\"text-align: right;\">\n",
       "      <th></th>\n",
       "      <th>id</th>\n",
       "      <th>username</th>\n",
       "      <th>rating</th>\n",
       "      <th>value</th>\n",
       "    </tr>\n",
       "  </thead>\n",
       "  <tbody>\n",
       "    <tr>\n",
       "      <th>0</th>\n",
       "      <td>338697</td>\n",
       "      <td>Fuzzel</td>\n",
       "      <td>3</td>\n",
       "      <td>Hässlicher 3D Plastik Murks. Inhaltlich nichts...</td>\n",
       "    </tr>\n",
       "    <tr>\n",
       "      <th>1</th>\n",
       "      <td>338697</td>\n",
       "      <td>Johnathan Ray</td>\n",
       "      <td>8</td>\n",
       "      <td>Catan got me into the hobby a dime ago. The re...</td>\n",
       "    </tr>\n",
       "    <tr>\n",
       "      <th>2</th>\n",
       "      <td>338697</td>\n",
       "      <td>visard</td>\n",
       "      <td>7</td>\n",
       "      <td>See [gameid=13].</td>\n",
       "    </tr>\n",
       "    <tr>\n",
       "      <th>3</th>\n",
       "      <td>338697</td>\n",
       "      <td>wouter7048</td>\n",
       "      <td>N/A</td>\n",
       "      <td>Only the base 3-4p game...</td>\n",
       "    </tr>\n",
       "    <tr>\n",
       "      <th>4</th>\n",
       "      <td>318184</td>\n",
       "      <td>Across the Rhine</td>\n",
       "      <td>N/A</td>\n",
       "      <td>Via Book Depository</td>\n",
       "    </tr>\n",
       "    <tr>\n",
       "      <th>...</th>\n",
       "      <td>...</td>\n",
       "      <td>...</td>\n",
       "      <td>...</td>\n",
       "      <td>...</td>\n",
       "    </tr>\n",
       "    <tr>\n",
       "      <th>90648</th>\n",
       "      <td>167791</td>\n",
       "      <td>z_zadar</td>\n",
       "      <td>9</td>\n",
       "      <td>Some games are so much fun. Others can be a li...</td>\n",
       "    </tr>\n",
       "    <tr>\n",
       "      <th>90649</th>\n",
       "      <td>167791</td>\n",
       "      <td>_Czid_</td>\n",
       "      <td>8</td>\n",
       "      <td>Have played with Elysium and Prelude expansion...</td>\n",
       "    </tr>\n",
       "    <tr>\n",
       "      <th>90650</th>\n",
       "      <td>167791</td>\n",
       "      <td>_Marty_</td>\n",
       "      <td>9.5</td>\n",
       "      <td>Fantastic game. With so many cards that can ch...</td>\n",
       "    </tr>\n",
       "    <tr>\n",
       "      <th>90651</th>\n",
       "      <td>167791</td>\n",
       "      <td>_mun_</td>\n",
       "      <td>10</td>\n",
       "      <td>Nagyon izgalmas játék, jó a mechanizmusa. A sz...</td>\n",
       "    </tr>\n",
       "    <tr>\n",
       "      <th>90652</th>\n",
       "      <td>167791</td>\n",
       "      <td>_The_Inquiry_</td>\n",
       "      <td>5</td>\n",
       "      <td>Prior to 2020: 2 plays  TM is one of those gam...</td>\n",
       "    </tr>\n",
       "  </tbody>\n",
       "</table>\n",
       "<p>90653 rows × 4 columns</p>\n",
       "</div>"
      ],
      "text/plain": [
       "           id          username rating  \\\n",
       "0      338697            Fuzzel      3   \n",
       "1      338697     Johnathan Ray      8   \n",
       "2      338697            visard      7   \n",
       "3      338697        wouter7048    N/A   \n",
       "4      318184  Across the Rhine    N/A   \n",
       "...       ...               ...    ...   \n",
       "90648  167791           z_zadar      9   \n",
       "90649  167791            _Czid_      8   \n",
       "90650  167791           _Marty_    9.5   \n",
       "90651  167791             _mun_     10   \n",
       "90652  167791     _The_Inquiry_      5   \n",
       "\n",
       "                                                   value  \n",
       "0      Hässlicher 3D Plastik Murks. Inhaltlich nichts...  \n",
       "1      Catan got me into the hobby a dime ago. The re...  \n",
       "2                                       See [gameid=13].  \n",
       "3                             Only the base 3-4p game...  \n",
       "4                                    Via Book Depository  \n",
       "...                                                  ...  \n",
       "90648  Some games are so much fun. Others can be a li...  \n",
       "90649  Have played with Elysium and Prelude expansion...  \n",
       "90650  Fantastic game. With so many cards that can ch...  \n",
       "90651  Nagyon izgalmas játék, jó a mechanizmusa. A sz...  \n",
       "90652  Prior to 2020: 2 plays  TM is one of those gam...  \n",
       "\n",
       "[90653 rows x 4 columns]"
      ]
     },
     "execution_count": 6,
     "metadata": {},
     "output_type": "execute_result"
    }
   ],
   "source": [
    "try:\n",
    "    comments_df = pd.read_csv(f\"comments_{datetime.now().strftime('%Y%m%d')}.csv\")\n",
    "    comments_df['rating'] = comments_df.rating.fillna('N/A')\n",
    "    print(\"reading dataframe from csv file...\")\n",
    "except:\n",
    "    print(\"missing csv file, getting new data using API...\")\n",
    "    comments_df = get_comments(hot_array, verbose=10)\n",
    "    comments_df.to_csv(f\"comments_{datetime.now().strftime('%Y%m%d')}.csv\", index=False)\n",
    "comments_df"
   ]
  },
  {
   "cell_type": "markdown",
   "metadata": {},
   "source": [
    "## DATA CLEANING"
   ]
  },
  {
   "cell_type": "code",
   "execution_count": 7,
   "metadata": {},
   "outputs": [],
   "source": [
    "# probably we should keep all the ratings (no matters the len) and remove only the simple comments under a certain len  \n",
    "comments_df[\"value\"] = comments_df[\"value\"].astype(str)"
   ]
  },
  {
   "cell_type": "code",
   "execution_count": 8,
   "metadata": {},
   "outputs": [
    {
     "name": "stdout",
     "output_type": "stream",
     "text": [
      "removed 15347 for 'remove_short_comments' - min len: 25 - method: unrated\n"
     ]
    }
   ],
   "source": [
    "# REMOVE URLs FROM COMMENTS\n",
    "comments_df['value'] = [re.sub(r\"http\\S+\", \"\", v) for v in comments_df.value.values]\n",
    "comments_df = remove_short_comments(comments_df, MIN_COMMENT_LEN)"
   ]
  },
  {
   "cell_type": "code",
   "execution_count": 9,
   "metadata": {},
   "outputs": [],
   "source": [
    "# REMOVE NON ENGLISH COMMENTS\n",
    "# !conda install -c conda-forge langdetect\n",
    "# def add_comments_lang(df: pd.DataFrame):\n",
    "#     df_local = df.copy()\n",
    "#     df_local['lang'] = df['value'].apply(detect)\n",
    "#     return df_local.reset_index(drop=True)\n",
    "# comments_df = add_comments_lang(comments_df)\n",
    "# comments_df = comments_df.query('lang == \"en\"')"
   ]
  },
  {
   "cell_type": "markdown",
   "metadata": {},
   "source": [
    "## SPLIT RATED AND NON-RATED COMMENTS"
   ]
  },
  {
   "cell_type": "code",
   "execution_count": 10,
   "metadata": {},
   "outputs": [
    {
     "data": {
      "text/plain": [
       "10         15105\n",
       "9          14117\n",
       "8          11747\n",
       "N/A         6453\n",
       "7           6394\n",
       "           ...  \n",
       "8.0974         1\n",
       "7.835          1\n",
       "4.6            1\n",
       "9.77           1\n",
       "9.50667        1\n",
       "Name: rating, Length: 509, dtype: int64"
      ]
     },
     "execution_count": 10,
     "metadata": {},
     "output_type": "execute_result"
    }
   ],
   "source": [
    "# count number of comments per rating (N/A included)\n",
    "comments_df.rating.value_counts()"
   ]
  },
  {
   "cell_type": "code",
   "execution_count": 11,
   "metadata": {},
   "outputs": [
    {
     "data": {
      "text/plain": [
       "(68853, 5)"
      ]
     },
     "execution_count": 11,
     "metadata": {},
     "output_type": "execute_result"
    }
   ],
   "source": [
    "# get rated comments only\n",
    "rated_comments = comments_df.query('rating != \"N/A\"')\n",
    "rated_comments.shape"
   ]
  },
  {
   "cell_type": "code",
   "execution_count": 12,
   "metadata": {},
   "outputs": [
    {
     "data": {
      "text/plain": [
       "(6453, 5)"
      ]
     },
     "execution_count": 12,
     "metadata": {},
     "output_type": "execute_result"
    }
   ],
   "source": [
    "# get non rated comments only\n",
    "not_rated_comments = comments_df.query('rating == \"N/A\"').reset_index(drop=True)\n",
    "not_rated_comments.shape"
   ]
  },
  {
   "cell_type": "markdown",
   "metadata": {},
   "source": [
    "## CREATE TRAINING AND VALIDATION DATA"
   ]
  },
  {
   "cell_type": "code",
   "execution_count": 13,
   "metadata": {},
   "outputs": [],
   "source": [
    "# use rated comments (reviews) to train the model"
   ]
  },
  {
   "cell_type": "code",
   "execution_count": 14,
   "metadata": {},
   "outputs": [],
   "source": [
    "rated_comments = rated_comments.sample(frac=1)"
   ]
  },
  {
   "cell_type": "code",
   "execution_count": 15,
   "metadata": {},
   "outputs": [],
   "source": [
    "# create training X and y\n",
    "train_examples = list(rated_comments.value)\n",
    "train_labels = list((rated_comments.rating.astype(float)>=GOOD_REVIEW_THRESHOLD).astype(int))"
   ]
  },
  {
   "cell_type": "code",
   "execution_count": 16,
   "metadata": {},
   "outputs": [
    {
     "name": "stdout",
     "output_type": "stream",
     "text": [
      "example of positive rating:\n"
     ]
    },
    {
     "data": {
      "text/plain": [
       "'weight!upto4.5; unlocking! continuously fantastical combining theatrical poolbuilding spreading convincing helpful risky expandable tactile; favoured over Root?, Legends of Andor, Mechs vs Minions?, Dawn of Peacemakers?'"
      ]
     },
     "execution_count": 16,
     "metadata": {},
     "output_type": "execute_result"
    }
   ],
   "source": [
    "print(\"example of positive rating:\")\n",
    "train_examples[train_labels.index(1)]"
   ]
  },
  {
   "cell_type": "code",
   "execution_count": 17,
   "metadata": {},
   "outputs": [
    {
     "name": "stdout",
     "output_type": "stream",
     "text": [
      "example of negative rating:\n"
     ]
    },
    {
     "data": {
      "text/plain": [
       "\"0 balance, I still can't understand how it could be rated that high.. I had 5 games and the balance was off in all of them manage to win it with 100 points difference more than once...\""
      ]
     },
     "execution_count": 17,
     "metadata": {},
     "output_type": "execute_result"
    }
   ],
   "source": [
    "print(\"example of negative rating:\")\n",
    "train_examples[train_labels.index(0)]"
   ]
  },
  {
   "cell_type": "markdown",
   "metadata": {},
   "source": [
    "## COMPOSE MODEL"
   ]
  },
  {
   "cell_type": "code",
   "execution_count": 18,
   "metadata": {},
   "outputs": [],
   "source": [
    "hub_layer = hub.KerasLayer(MODEL_NAME, input_shape=[], dtype=tf.string, trainable=True)"
   ]
  },
  {
   "cell_type": "markdown",
   "metadata": {},
   "source": [
    "## CLASSIFIER"
   ]
  },
  {
   "cell_type": "code",
   "execution_count": 19,
   "metadata": {},
   "outputs": [
    {
     "name": "stdout",
     "output_type": "stream",
     "text": [
      "Epoch 1/100\n",
      "34/34 - 4s - loss: 0.6533 - accuracy: 0.6504 - val_loss: 0.5143 - val_accuracy: 0.8497\n",
      "Epoch 2/100\n",
      "34/34 - 2s - loss: 0.4753 - accuracy: 0.8504 - val_loss: 0.4389 - val_accuracy: 0.8516\n",
      "Epoch 3/100\n",
      "34/34 - 2s - loss: 0.4038 - accuracy: 0.8517 - val_loss: 0.3826 - val_accuracy: 0.8525\n",
      "Epoch 4/100\n",
      "34/34 - 2s - loss: 0.3472 - accuracy: 0.8525 - val_loss: 0.3481 - val_accuracy: 0.8529\n",
      "Epoch 5/100\n",
      "34/34 - 2s - loss: 0.3072 - accuracy: 0.8545 - val_loss: 0.3302 - val_accuracy: 0.8538\n",
      "Epoch 6/100\n",
      "34/34 - 2s - loss: 0.2787 - accuracy: 0.8588 - val_loss: 0.3217 - val_accuracy: 0.8577\n",
      "Epoch 7/100\n",
      "34/34 - 2s - loss: 0.2560 - accuracy: 0.8790 - val_loss: 0.3180 - val_accuracy: 0.8735\n",
      "Epoch 8/100\n",
      "34/34 - 2s - loss: 0.2335 - accuracy: 0.9053 - val_loss: 0.3147 - val_accuracy: 0.8741\n",
      "Epoch 9/100\n",
      "34/34 - 2s - loss: 0.2061 - accuracy: 0.9207 - val_loss: 0.3211 - val_accuracy: 0.8744\n",
      "Epoch 10/100\n",
      "34/34 - 2s - loss: 0.1842 - accuracy: 0.9309 - val_loss: 0.3317 - val_accuracy: 0.8742\n",
      "Epoch 11/100\n",
      "34/34 - 2s - loss: 0.1671 - accuracy: 0.9383 - val_loss: 0.3429 - val_accuracy: 0.8685\n",
      "Epoch 12/100\n",
      "34/34 - 2s - loss: 0.1516 - accuracy: 0.9465 - val_loss: 0.3580 - val_accuracy: 0.8662\n",
      "23/23 - 0s - loss: 0.3467 - accuracy: 0.8689\n",
      "Epoch 1/100\n",
      "34/34 - 3s - loss: 0.6540 - accuracy: 0.6062 - val_loss: 0.5630 - val_accuracy: 0.8112\n",
      "Epoch 2/100\n",
      "34/34 - 2s - loss: 0.5234 - accuracy: 0.8404 - val_loss: 0.4953 - val_accuracy: 0.8486\n",
      "Epoch 3/100\n",
      "34/34 - 2s - loss: 0.4558 - accuracy: 0.8523 - val_loss: 0.4312 - val_accuracy: 0.8515\n",
      "Epoch 4/100\n",
      "34/34 - 2s - loss: 0.3863 - accuracy: 0.8556 - val_loss: 0.3743 - val_accuracy: 0.8540\n",
      "Epoch 5/100\n",
      "34/34 - 2s - loss: 0.3280 - accuracy: 0.8668 - val_loss: 0.3401 - val_accuracy: 0.8650\n",
      "Epoch 6/100\n",
      "34/34 - 2s - loss: 0.2850 - accuracy: 0.8878 - val_loss: 0.3236 - val_accuracy: 0.8709\n",
      "Epoch 7/100\n",
      "34/34 - 2s - loss: 0.2527 - accuracy: 0.9015 - val_loss: 0.3164 - val_accuracy: 0.8737\n",
      "Epoch 8/100\n",
      "34/34 - 2s - loss: 0.2271 - accuracy: 0.9125 - val_loss: 0.3158 - val_accuracy: 0.8752\n",
      "Epoch 9/100\n",
      "34/34 - 2s - loss: 0.2053 - accuracy: 0.9230 - val_loss: 0.3213 - val_accuracy: 0.8756\n",
      "Epoch 10/100\n",
      "34/34 - 2s - loss: 0.1863 - accuracy: 0.9321 - val_loss: 0.3287 - val_accuracy: 0.8709\n",
      "Epoch 11/100\n",
      "34/34 - 2s - loss: 0.1700 - accuracy: 0.9394 - val_loss: 0.3405 - val_accuracy: 0.8677\n",
      "Epoch 12/100\n",
      "34/34 - 2s - loss: 0.1550 - accuracy: 0.9459 - val_loss: 0.3547 - val_accuracy: 0.8655\n",
      "Epoch 13/100\n",
      "34/34 - 2s - loss: 0.1422 - accuracy: 0.9512 - val_loss: 0.3715 - val_accuracy: 0.8631\n",
      "23/23 - 0s - loss: 0.3591 - accuracy: 0.8635\n",
      "Epoch 1/100\n",
      "34/34 - 3s - loss: 0.5947 - accuracy: 0.7439 - val_loss: 0.5157 - val_accuracy: 0.8446\n",
      "Epoch 2/100\n",
      "34/34 - 2s - loss: 0.4666 - accuracy: 0.8476 - val_loss: 0.4262 - val_accuracy: 0.8526\n",
      "Epoch 3/100\n",
      "34/34 - 2s - loss: 0.3786 - accuracy: 0.8584 - val_loss: 0.3622 - val_accuracy: 0.8621\n",
      "Epoch 4/100\n",
      "34/34 - 2s - loss: 0.3171 - accuracy: 0.8777 - val_loss: 0.3310 - val_accuracy: 0.8715\n",
      "Epoch 5/100\n",
      "34/34 - 2s - loss: 0.2766 - accuracy: 0.8933 - val_loss: 0.3164 - val_accuracy: 0.8752\n",
      "Epoch 6/100\n",
      "34/34 - 2s - loss: 0.2463 - accuracy: 0.9046 - val_loss: 0.3125 - val_accuracy: 0.8768\n",
      "Epoch 7/100\n",
      "34/34 - 2s - loss: 0.2213 - accuracy: 0.9156 - val_loss: 0.3121 - val_accuracy: 0.8756\n",
      "Epoch 8/100\n",
      "34/34 - 2s - loss: 0.1999 - accuracy: 0.9256 - val_loss: 0.3167 - val_accuracy: 0.8752\n",
      "Epoch 9/100\n",
      "34/34 - 2s - loss: 0.1813 - accuracy: 0.9335 - val_loss: 0.3256 - val_accuracy: 0.8719\n",
      "Epoch 10/100\n",
      "34/34 - 2s - loss: 0.1654 - accuracy: 0.9398 - val_loss: 0.3362 - val_accuracy: 0.8682\n",
      "Epoch 11/100\n",
      "34/34 - 2s - loss: 0.1512 - accuracy: 0.9462 - val_loss: 0.3499 - val_accuracy: 0.8651\n",
      "23/23 - 0s - loss: 0.3471 - accuracy: 0.8691\n",
      "Epoch 1/100\n",
      "51/51 - 4s - loss: 0.5154 - accuracy: 0.8329 - val_loss: 0.4341 - val_accuracy: 0.8533\n",
      "Epoch 2/100\n",
      "51/51 - 3s - loss: 0.3733 - accuracy: 0.8602 - val_loss: 0.3426 - val_accuracy: 0.8682\n",
      "Epoch 3/100\n",
      "51/51 - 3s - loss: 0.3006 - accuracy: 0.8824 - val_loss: 0.3124 - val_accuracy: 0.8779\n",
      "Epoch 4/100\n",
      "51/51 - 3s - loss: 0.2607 - accuracy: 0.8980 - val_loss: 0.3029 - val_accuracy: 0.8818\n",
      "Epoch 5/100\n",
      "51/51 - 3s - loss: 0.2325 - accuracy: 0.9095 - val_loss: 0.3031 - val_accuracy: 0.8821\n",
      "Epoch 6/100\n",
      "51/51 - 3s - loss: 0.2100 - accuracy: 0.9184 - val_loss: 0.3110 - val_accuracy: 0.8803\n",
      "Epoch 7/100\n",
      "51/51 - 3s - loss: 0.1916 - accuracy: 0.9273 - val_loss: 0.3217 - val_accuracy: 0.8755\n",
      "Epoch 8/100\n",
      "51/51 - 3s - loss: 0.1762 - accuracy: 0.9335 - val_loss: 0.3346 - val_accuracy: 0.8717\n",
      "Epoch 9/100\n",
      "51/51 - 3s - loss: 0.1630 - accuracy: 0.9392 - val_loss: 0.3503 - val_accuracy: 0.8679\n"
     ]
    },
    {
     "data": {
      "text/plain": [
       "GridSearchCV(cv=3,\n",
       "             estimator=<tensorflow.python.keras.wrappers.scikit_learn.KerasClassifier object at 0x000001F88ED20C70>,\n",
       "             param_grid={})"
      ]
     },
     "execution_count": 19,
     "metadata": {},
     "output_type": "execute_result"
    }
   ],
   "source": [
    "def build_classifier():\n",
    "    return build_model(hub_layer=None, pre_trained_model_name=MODEL_NAME, model_type='classifier', verbose=0)\n",
    "\n",
    "\n",
    "estimator = KerasClassifier(build_fn=build_classifier, epochs=100, batch_size=1024, verbose=2, validation_split=VAL_FRACTION)\n",
    "x_train_clf = np.array(list(rated_comments.value))\n",
    "y_train_clf = np.array(list((rated_comments.rating.astype(float)>=GOOD_REVIEW_THRESHOLD).astype(int)))\n",
    "\n",
    "clf = GridSearchCV(\n",
    "    estimator, \n",
    "    cv=3, \n",
    "    param_grid={}\n",
    ")\n",
    "clf.fit(x_train_clf, y_train_clf, callbacks=[tf.keras.callbacks.EarlyStopping(monitor='val_accuracy', patience=5, min_delta=0.001)])"
   ]
  },
  {
   "cell_type": "code",
   "execution_count": 20,
   "metadata": {},
   "outputs": [],
   "source": [
    "classifier = clf.best_estimator_\n",
    "classifier_history_dict = classifier.model.history.history"
   ]
  },
  {
   "cell_type": "code",
   "execution_count": 21,
   "metadata": {},
   "outputs": [
    {
     "data": {
      "text/plain": [
       "dict_keys(['loss', 'accuracy', 'val_loss', 'val_accuracy'])"
      ]
     },
     "execution_count": 21,
     "metadata": {},
     "output_type": "execute_result"
    }
   ],
   "source": [
    "classifier_history_dict.keys()"
   ]
  },
  {
   "cell_type": "code",
   "execution_count": 22,
   "metadata": {},
   "outputs": [],
   "source": [
    "acc = classifier_history_dict['accuracy']\n",
    "val_acc = classifier_history_dict['val_accuracy']\n",
    "loss = classifier_history_dict['loss']\n",
    "val_loss = classifier_history_dict['val_loss']"
   ]
  },
  {
   "cell_type": "code",
   "execution_count": 23,
   "metadata": {},
   "outputs": [],
   "source": [
    "epochs = range(1, len(acc) + 1) "
   ]
  },
  {
   "cell_type": "code",
   "execution_count": 24,
   "metadata": {},
   "outputs": [
    {
     "data": {
      "image/png": "[encoded data removed]",
      "text/plain": [
       "<Figure size 648x360 with 1 Axes>"
      ]
     },
     "metadata": {
      "needs_background": "light"
     },
     "output_type": "display_data"
    }
   ],
   "source": [
    "# \"bo\" is for \"blue dot\"\n",
    "plt.figure(figsize=(9, 5))\n",
    "plt.plot(epochs, loss, 'bo', label='Training loss')\n",
    "# b is for \"solid blue line\"\n",
    "plt.plot(epochs, val_loss, 'b', label='Validation loss')\n",
    "plt.title('Training and validation loss')\n",
    "plt.xlabel('Epochs')\n",
    "plt.ylabel('Loss')\n",
    "plt.grid(True)\n",
    "plt.legend()\n",
    "\n",
    "plt.show()"
   ]
  },
  {
   "cell_type": "code",
   "execution_count": 25,
   "metadata": {},
   "outputs": [
    {
     "data": {
      "image/png": "[encoded data removed]",
      "text/plain": [
       "<Figure size 648x360 with 1 Axes>"
      ]
     },
     "metadata": {
      "needs_background": "light"
     },
     "output_type": "display_data"
    }
   ],
   "source": [
    "plt.figure(figsize=(9, 5))\n",
    "plt.plot(epochs, acc, 'bo', label='Training acc')\n",
    "plt.plot(epochs, val_acc, 'b', label='Validation acc')\n",
    "plt.title('Training and validation accuracy')\n",
    "plt.xlabel('Epochs')\n",
    "plt.ylabel('Accuracy')\n",
    "plt.grid(True)\n",
    "plt.legend()\n",
    "\n",
    "plt.show()"
   ]
  },
  {
   "cell_type": "code",
   "execution_count": 26,
   "metadata": {},
   "outputs": [
    {
     "name": "stdout",
     "output_type": "stream",
     "text": [
      "input:\n",
      "\"weight!upto4.5; unlocking! continuously fantastical combining theatrical poolbuilding spreading convincing helpful risky expandable tactile; favoured over Root?, Legends of Andor, Mechs vs Minions?, Dawn of Peacemakers?\"\n",
      "score: 1.000000\n",
      "actual: 1\n",
      "\n",
      "input:\n",
      "\"Everdell is amazing. The artwork is adorable - but don’t let the cute theme deceive you - the card play is surprisingly more deep and interesting than I anticipated. Even after all of the plays, I’m still discovering new combos and trying to figure out the best strategy\"\n",
      "score: 1.000000\n",
      "actual: 1\n",
      "\n",
      "input:\n",
      "\"1. Long complex game - Resource management\"\n",
      "score: 1.000000\n",
      "actual: 1\n",
      "\n",
      "input:\n",
      "\"I think the more I play this the higher it will go. I played two-handed, but I can't stop thinking about it...\"\n",
      "score: 1.000000\n",
      "actual: 1\n",
      "\n",
      "input:\n",
      "\"Only one play, but I enjoyed it.  It took a while to learn, but once you do go through everything the turns are really straightforward.  It's weird how all the boards are different and get mixed/matched with each game, so it makes it sort of puzzly in what you get and what you can do each game.  Not sure if it makes a huge difference in the end or not.  I wasn't blown away, but the game was pleasant enough though it was slightly long, maybe that speeds up with more play.  I'm interested in exploring this further.\"\n",
      "score: 1.000000\n",
      "actual: 1\n",
      "\n",
      "input:\n",
      "\"JS 4P CAMP\"\n",
      "score: 1.000000\n",
      "actual: 1\n",
      "\n",
      "input:\n",
      "\"My husband and I love traveling to the national parks. The game is beautifully constructed. The theme is cohesive and creatively represented in gameplay. We love that a percentage of proceeds goes to NPS.\"\n",
      "score: 1.000000\n",
      "actual: 1\n",
      "\n",
      "input:\n",
      "\"A very good engine building game. I am not fun of the theme although I do not dislike it. The components are excellent and perfectly support the theme. What I like most in this game is its mechanics and the different strategies you can employ for winning. I think it has the perfect weight for a family game (although it might be a little bit more complex than the usual family games).\"\n",
      "score: 1.000000\n",
      "actual: 1\n",
      "\n",
      "input:\n",
      "\"0 balance, I still can't understand how it could be rated that high.. I had 5 games and the balance was off in all of them manage to win it with 100 points difference more than once...\"\n",
      "score: 0.000000\n",
      "actual: 0\n",
      "\n",
      "input:\n",
      "\"Solo multiplayer\"\n",
      "score: 0.000000\n",
      "actual: 1\n"
     ]
    },
    {
     "name": "stderr",
     "output_type": "stream",
     "text": [
      "C:\\Users\\dev999\\.conda\\envs\\tensorflow2\\lib\\site-packages\\tensorflow\\python\\keras\\engine\\sequential.py:455: UserWarning: `model.predict_classes()` is deprecated and will be removed after 2021-01-01. Please use instead:* `np.argmax(model.predict(x), axis=-1)`,   if your model does multi-class classification   (e.g. if it uses a `softmax` last-layer activation).* `(model.predict(x) > 0.5).astype(\"int32\")`,   if your model does binary classification   (e.g. if it uses a `sigmoid` last-layer activation).\n",
      "  warnings.warn('`model.predict_classes()` is deprecated and '\n"
     ]
    }
   ],
   "source": [
    "inputs = x_train_clf[:10]\n",
    "outputs = y_train_clf[:10]\n",
    "results = classifier.predict(tf.constant(inputs), verbose=0)\n",
    "print_my_examples(inputs, results, outputs)"
   ]
  },
  {
   "cell_type": "code",
   "execution_count": 27,
   "metadata": {},
   "outputs": [],
   "source": [
    "## APPLY MODEL ON NON-RATED COMMENTS"
   ]
  },
  {
   "cell_type": "code",
   "execution_count": 28,
   "metadata": {},
   "outputs": [
    {
     "name": "stdout",
     "output_type": "stream",
     "text": [
      "7/7 - 0s\n",
      "input:\n",
      "\"Just backed the Kickstarter for the 2nd printing and totally excited to get it!\"\n",
      "score: 1.000000\n",
      "\n",
      "input:\n",
      "\"Kickstarter project. Beware of biased reviews and ratings from backers.\"\n",
      "score: 0.000000\n",
      "\n",
      "input:\n",
      "\"KS edition with Book of the Dead, Great Old Ones, all addons/stretch goals\"\n",
      "score: 1.000000\n",
      "\n",
      "input:\n",
      "\"Very curious how the legacy aspect reflects roleplaying experiences I've had before.\"\n",
      "score: 1.000000\n",
      "\n",
      "input:\n",
      "\"christmas 2020 gift from long and tram\"\n",
      "score: 1.000000\n",
      "\n",
      "input:\n",
      "\"it is currently being shipped to me as a gift, but I played it already with a friend. this is the coop I like because there is a need for everyone to take part in decisions and acting, while I experienced various times that in coop there is one leader and everyone does what they says. I love how each spirit has a different design space\"\n",
      "score: 1.000000\n",
      "\n",
      "input:\n",
      "\"(1) Available to Play, (Yellow) (2) Available to Play, (Red)\"\n",
      "score: 1.000000\n",
      "\n",
      "input:\n",
      "\"Own the [boardgame=218127]Hellas & Elysium[/boardgame], [boardgame=231965]Venus Next[/boardgame], [boardgame=247030]Prelude[/boardgame], [boardgame=255681]Colonies[/boardgame] and [boardgame=273473]Turmoil[/boardgame] expansions, and the [boardgame=202825]Small Asteroid[/boardgame], [boardgame=230123]Self-Replicating Robots[/boardgame], [boardgame=230241]Penguins[/boardgame], [boardgame=226297]Snow Algae[/boardgame], [boardgame=322281]Asteroid Rights[/boardgame] and [boardgame=241497]BGG-User Created Corporation pack[/boardgame] promo cards.\"\n",
      "score: 1.000000\n",
      "\n",
      "input:\n",
      "\"Card Drafting End Game Bonuses Hand Management Income Solo / Solitaire Game Variable Setup Worker Placement\"\n",
      "score: 1.000000\n",
      "\n",
      "input:\n",
      "\"Got Scythe for Christmas (2020). It's a good game--beautiful production with top-notch components, art and player boards. The game play is just not for me.\"\n",
      "score: 1.000000\n"
     ]
    }
   ],
   "source": [
    "not_rated_comments = not_rated_comments.sample(frac=1)\n",
    "results = classifier.predict(tf.constant(list(not_rated_comments.value.astype(str))))\n",
    "print_my_examples(list(not_rated_comments.value), results, limit=10)"
   ]
  },
  {
   "cell_type": "markdown",
   "metadata": {},
   "source": [
    "## REGRESSOR"
   ]
  },
  {
   "cell_type": "code",
   "execution_count": 29,
   "metadata": {},
   "outputs": [
    {
     "data": {
      "text/plain": [
       "GridSearchCV(cv=3,\n",
       "             estimator=<tensorflow.python.keras.wrappers.scikit_learn.KerasRegressor object at 0x000001FB430DE580>,\n",
       "             param_grid={})"
      ]
     },
     "execution_count": 29,
     "metadata": {},
     "output_type": "execute_result"
    }
   ],
   "source": [
    "def build_regressor():\n",
    "    return build_model(hub_layer, pre_trained_model_name=MODEL_NAME, model_type='regressor', verbose=0)\n",
    "\n",
    "\n",
    "estimator = KerasRegressor(build_fn=build_regressor, epochs=100, batch_size=512, verbose=0, validation_split=VAL_FRACTION)\n",
    "x_train_reg = np.array(list(rated_comments.value))\n",
    "y_train_reg = np.array(list(rated_comments.rating.astype(float)))\n",
    "\n",
    "clf = GridSearchCV(\n",
    "    estimator, \n",
    "    cv=3, \n",
    "    param_grid={}\n",
    ")\n",
    "clf.fit(x_train_reg, y_train_reg, callbacks=[tf.keras.callbacks.EarlyStopping(monitor='val_mean_squared_error', patience=5, min_delta=0.001)])"
   ]
  },
  {
   "cell_type": "code",
   "execution_count": 30,
   "metadata": {},
   "outputs": [],
   "source": [
    "regressor = clf.best_estimator_\n",
    "regressor_history_dict = regressor.model.history.history"
   ]
  },
  {
   "cell_type": "code",
   "execution_count": 31,
   "metadata": {},
   "outputs": [
    {
     "data": {
      "text/plain": [
       "dict_keys(['loss', 'mean_squared_error', 'val_loss', 'val_mean_squared_error'])"
      ]
     },
     "execution_count": 31,
     "metadata": {},
     "output_type": "execute_result"
    }
   ],
   "source": [
    "regressor_history_dict.keys()"
   ]
  },
  {
   "cell_type": "code",
   "execution_count": 32,
   "metadata": {},
   "outputs": [],
   "source": [
    "mean_squared_error = regressor_history_dict['mean_squared_error']\n",
    "val_mean_squared_error = regressor_history_dict['val_mean_squared_error']\n",
    "loss = regressor_history_dict['loss']\n",
    "val_loss = regressor_history_dict['val_loss']"
   ]
  },
  {
   "cell_type": "code",
   "execution_count": 33,
   "metadata": {},
   "outputs": [],
   "source": [
    "epochs = range(1, len(mean_squared_error) + 1) "
   ]
  },
  {
   "cell_type": "code",
   "execution_count": 34,
   "metadata": {},
   "outputs": [
    {
     "name": "stdout",
     "output_type": "stream",
     "text": [
      "MEAN SQUARED ERROR (VALIDATION SET): 2.62\n"
     ]
    }
   ],
   "source": [
    "print(f\"MEAN SQUARED ERROR (VALIDATION SET): {val_mean_squared_error[-1]:.2f}\")"
   ]
  },
  {
   "cell_type": "code",
   "execution_count": 35,
   "metadata": {},
   "outputs": [
    {
     "name": "stdout",
     "output_type": "stream",
     "text": [
      "MEAN SQUARED ERROR (TRAINING SET): 0.98\n"
     ]
    }
   ],
   "source": [
    "print(f\"MEAN SQUARED ERROR (TRAINING SET): {mean_squared_error[-1]:.2f}\")"
   ]
  },
  {
   "cell_type": "code",
   "execution_count": 36,
   "metadata": {},
   "outputs": [
    {
     "data": {
      "image/png": "[encoded data removed]",
      "text/plain": [
       "<Figure size 648x360 with 1 Axes>"
      ]
     },
     "metadata": {
      "needs_background": "light"
     },
     "output_type": "display_data"
    }
   ],
   "source": [
    "# \"bo\" is for \"blue dot\"\n",
    "plt.figure(figsize=(9, 5))\n",
    "plt.plot(epochs, loss, 'bo', label='Training loss')\n",
    "# b is for \"solid blue line\"\n",
    "plt.plot(epochs, val_loss, 'b', label='Validation loss')\n",
    "plt.title('Training and validation loss')\n",
    "plt.xlabel('Epochs')\n",
    "plt.ylabel('Loss')\n",
    "plt.grid(True)\n",
    "plt.legend()\n",
    "\n",
    "plt.show()"
   ]
  },
  {
   "cell_type": "code",
   "execution_count": 37,
   "metadata": {},
   "outputs": [
    {
     "data": {
      "image/png": "[encoded data removed]",
      "text/plain": [
       "<Figure size 648x360 with 1 Axes>"
      ]
     },
     "metadata": {
      "needs_background": "light"
     },
     "output_type": "display_data"
    }
   ],
   "source": [
    "plt.figure(figsize=(9, 5))\n",
    "plt.plot(epochs, mean_squared_error, 'bo', label='Training mean squared error')\n",
    "plt.plot(epochs, val_mean_squared_error, 'b', label='Validation mean squared error')\n",
    "plt.title('Training and validation accuracy')\n",
    "plt.xlabel('Epochs')\n",
    "plt.ylabel('Mean squared error')\n",
    "plt.grid(True)\n",
    "plt.legend()\n",
    "\n",
    "plt.show()"
   ]
  },
  {
   "cell_type": "code",
   "execution_count": 38,
   "metadata": {},
   "outputs": [
    {
     "name": "stdout",
     "output_type": "stream",
     "text": [
      "input: \n",
      "\"weight!upto4.5; unlocking! continuously fantastical combining theatrical poolbuilding spreading convincing helpful risky expandable tactile; favoured over Root?, Legends of Andor, Mechs vs Minions?, Dawn of Peacemakers?\"\n",
      "score: 9.63\n",
      "actual: 9.85 \n",
      "\n",
      "input: \n",
      "\"Everdell is amazing. The artwork is adorable - but don’t let the cute theme deceive you - the card play is surprisingly more deep and interesting than I anticipated. Even after all of the plays, I’m still discovering new combos and trying to figure out the best strategy\"\n",
      "score: 9.01\n",
      "actual: 9.00 \n",
      "\n",
      "input: \n",
      "\"1. Long complex game - Resource management\"\n",
      "score: 7.61\n",
      "actual: 9.00 \n",
      "\n",
      "input: \n",
      "\"I think the more I play this the higher it will go. I played two-handed, but I can't stop thinking about it...\"\n",
      "score: 8.43\n",
      "actual: 7.00 \n",
      "\n",
      "input: \n",
      "\"Only one play, but I enjoyed it.  It took a while to learn, but once you do go through everything the turns are really straightforward.  It's weird how all the boards are different and get mixed/matched with each game, so it makes it sort of puzzly in what you get and what you can do each game.  Not sure if it makes a huge difference in the end or not.  I wasn't blown away, but the game was pleasant enough though it was slightly long, maybe that speeds up with more play.  I'm interested in exploring this further.\"\n",
      "score: 7.48\n",
      "actual: 7.00 \n",
      "\n",
      "input: \n",
      "\"JS 4P CAMP\"\n",
      "score: 9.24\n",
      "actual: 9.00 \n",
      "\n",
      "input: \n",
      "\"My husband and I love traveling to the national parks. The game is beautifully constructed. The theme is cohesive and creatively represented in gameplay. We love that a percentage of proceeds goes to NPS.\"\n",
      "score: 10.15\n",
      "actual: 10.00 \n",
      "\n",
      "input: \n",
      "\"A very good engine building game. I am not fun of the theme although I do not dislike it. The components are excellent and perfectly support the theme. What I like most in this game is its mechanics and the different strategies you can employ for winning. I think it has the perfect weight for a family game (although it might be a little bit more complex than the usual family games).\"\n",
      "score: 7.83\n",
      "actual: 7.80 \n",
      "\n",
      "input: \n",
      "\"0 balance, I still can't understand how it could be rated that high.. I had 5 games and the balance was off in all of them manage to win it with 100 points difference more than once...\"\n",
      "score: 5.69\n",
      "actual: 3.00 \n",
      "\n",
      "input: \n",
      "\"Solo multiplayer\"\n",
      "score: 6.99\n",
      "actual: 7.00 \n",
      "\n"
     ]
    }
   ],
   "source": [
    "inputs = x_train_reg[:10]\n",
    "outputs = y_train_reg[:10]\n",
    "results = clf.best_estimator_.predict(tf.constant(inputs), verbose=0)\n",
    "for i in range(len(inputs)):\n",
    "    print(f\"input: \\n\\\"{inputs[i]}\\\"\\nscore: {results[i]:.2f}\\nactual: {outputs[i]:.2f} \\n\")"
   ]
  },
  {
   "cell_type": "markdown",
   "metadata": {},
   "source": [
    "## COMPARE CLASSIFIER VS REGRESSOR"
   ]
  },
  {
   "cell_type": "code",
   "execution_count": 39,
   "metadata": {},
   "outputs": [
    {
     "name": "stdout",
     "output_type": "stream",
     "text": [
      "\"+ The Exiles and Partisans Deck & The Vagabond Pack\"\n",
      "    reg score: 8.73\n",
      "    clf score: 1\n",
      "\n",
      "\"+ La Armada + Flying Dutchman + Oportunista\"\n",
      "    reg score: 6.89\n",
      "    clf score: 1\n",
      "\n",
      "\"Propiedad EL Club Dante; Propiedad Socio 0035\"\n",
      "    reg score: 9.00\n",
      "    clf score: 1\n",
      "\n",
      "\"Backed Middara on Kickstarter.  All 3 acts\"\n",
      "    reg score: 8.91\n",
      "    clf score: 1\n",
      "\n",
      "\"preordered for my by a wonderful friend!!\"\n",
      "    reg score: 6.37\n",
      "    clf score: 0\n",
      "\n",
      "\"Asmodee, Frühjahr 2021 - April 2021; inkl. Captain America, Ms. Marvel & Black Widow\"\n",
      "    reg score: 7.06\n",
      "    clf score: 1\n",
      "\n",
      "\"w/ Broken Token Insert, Legendary box, metal coins\"\n",
      "    reg score: 8.85\n",
      "    clf score: 1\n",
      "\n",
      "\"I am looking to buy for a very cheap price for (likely a used copy)\"\n",
      "    reg score: 8.28\n",
      "    clf score: 1\n",
      "\n",
      "\"ENTREGA A LOS BACKERS EN AGOSTO 2021\"\n",
      "    reg score: 7.57\n",
      "    clf score: 1\n",
      "\n",
      "\"Have only played demo but a solid update to one of my favorite games: keeps what works and changes what didn't.  I don't like the new art cause cartoons ruin my evocative narrative.\"\n",
      "    reg score: 8.72\n",
      "    clf score: 1\n",
      "\n"
     ]
    },
    {
     "name": "stderr",
     "output_type": "stream",
     "text": [
      "C:\\Users\\dev999\\.conda\\envs\\tensorflow2\\lib\\site-packages\\tensorflow\\python\\keras\\engine\\sequential.py:455: UserWarning: `model.predict_classes()` is deprecated and will be removed after 2021-01-01. Please use instead:* `np.argmax(model.predict(x), axis=-1)`,   if your model does multi-class classification   (e.g. if it uses a `softmax` last-layer activation).* `(model.predict(x) > 0.5).astype(\"int32\")`,   if your model does binary classification   (e.g. if it uses a `sigmoid` last-layer activation).\n",
      "  warnings.warn('`model.predict_classes()` is deprecated and '\n"
     ]
    }
   ],
   "source": [
    "not_rated_comments = not_rated_comments.sample(frac=1)\n",
    "inputs = list(not_rated_comments.value.astype(str))[:10]\n",
    "\n",
    "clf_results = classifier.predict(inputs, verbose=0)\n",
    "reg_results = regressor.predict(inputs, verbose=0)\n",
    "for i in range(len(inputs)):\n",
    "    print(f\"\"\"\\\"{inputs[i]}\\\"\n",
    "    reg score: {reg_results[i]:.2f}\n",
    "    clf score: {clf_results[i][0]}\n",
    "\"\"\")"
   ]
  },
  {
   "cell_type": "markdown",
   "metadata": {},
   "source": [
    "### RESULTS\n",
    "It seems that the regressor is much more accurate compared to the binary classifier => **let's use the regressors results to fix the BGG rating**"
   ]
  },
  {
   "cell_type": "markdown",
   "metadata": {},
   "source": [
    "## COMBINE RATED COMMENTS AND NOT-RATED COMMENTS WITH PREDICTED RATING"
   ]
  },
  {
   "cell_type": "code",
   "execution_count": 40,
   "metadata": {},
   "outputs": [
    {
     "name": "stdout",
     "output_type": "stream",
     "text": [
      "rated_comments_grouped: \n",
      "|     id |   rating_mean |   rating_count |\n",
      "|--------|---------------|----------------|\n",
      "| 162886 |          8.35 |           3549 |\n",
      "| 167355 |          8.42 |           1847 |\n",
      "| 167791 |          8.21 |           8307 |\n",
      "| 169427 |          8.66 |            244 |\n",
      "| 169786 |          8.10 |           7363 |\n"
     ]
    }
   ],
   "source": [
    "rated_comments['rating'] = rated_comments.rating.astype(float)\n",
    "rated_comments_grouped = rated_comments.groupby('id').agg({'rating': ['mean', 'count']})\n",
    "rated_comments_grouped.columns = list(rated_comments_grouped.columns.map('_'.join))\n",
    "rated_comments_grouped = rated_comments_grouped.reset_index()\n",
    "print(\"rated_comments_grouped: \")\n",
    "print(rated_comments_grouped.head().to_markdown(index=False, floatfmt='.2f', tablefmt='github'))"
   ]
  },
  {
   "cell_type": "code",
   "execution_count": 41,
   "metadata": {},
   "outputs": [],
   "source": [
    "not_rated_comments['rating'] = regressor.predict(list(not_rated_comments.value.astype(str)))"
   ]
  },
  {
   "cell_type": "code",
   "execution_count": 42,
   "metadata": {},
   "outputs": [
    {
     "name": "stdout",
     "output_type": "stream",
     "text": [
      "not_rated_comments_grouped: \n",
      "|     id |   rating_mean |   rating_count |\n",
      "|--------|---------------|----------------|\n",
      "| 162886 |          8.11 |            319 |\n",
      "| 167355 |          8.17 |            215 |\n",
      "| 167791 |          8.17 |            440 |\n",
      "| 169427 |          8.37 |             74 |\n",
      "| 169786 |          8.08 |            593 |\n"
     ]
    }
   ],
   "source": [
    "not_rated_comments['rating'] = not_rated_comments.rating.astype(float)\n",
    "not_rated_comments['rating'] = not_rated_comments['rating'].clip(0, 10)\n",
    "not_rated_comments_grouped = not_rated_comments.groupby('id').agg({'rating': ['mean', 'count']})\n",
    "not_rated_comments_grouped.columns = list(not_rated_comments_grouped.columns.map('_'.join))\n",
    "not_rated_comments_grouped = not_rated_comments_grouped.reset_index()\n",
    "print(\"not_rated_comments_grouped: \")\n",
    "print(not_rated_comments_grouped.head().to_markdown(index=False, floatfmt='.2f', tablefmt='github'))"
   ]
  },
  {
   "cell_type": "code",
   "execution_count": 43,
   "metadata": {},
   "outputs": [],
   "source": [
    "grouped = rated_comments_grouped.merge(not_rated_comments_grouped, on='id', suffixes=('_review', '_comments'), how='outer')\n",
    "grouped['id'] = grouped.id.astype(str)\n",
    "grouped = grouped.merge(pd.DataFrame(hot_array), on='id', how='right')\n",
    "grouped['rank'] = grouped['rank'].astype(int)\n",
    "grouped['url'] = grouped['id'].apply(lambda x: f\"https://boardgamegeek.com/boardgame/{x}\")\n",
    "grouped['fixed_rating'] = (grouped['rating_mean_review']*grouped['rating_count_review']+grouped['rating_mean_comments']*grouped['rating_count_comments']) /\\\n",
    "                            (grouped['rating_count_review']+grouped['rating_count_comments'])\n",
    "grouped['thumbnail'] = grouped['thumbnail'].apply(lambda x: f'<img src=\"{x}\" width=\"124\" />')\n",
    "grouped['name'] = grouped.apply(lambda x: f'<a href=\"{x[\"url\"]}\">{x[\"name\"]}</a>', axis=1)\n",
    "\n",
    "grouped = grouped[['thumbnail', 'name', 'rating_mean_review', 'rating_mean_comments', 'fixed_rating', 'rank', 'yearpublished']]"
   ]
  },
  {
   "cell_type": "code",
   "execution_count": 44,
   "metadata": {},
   "outputs": [
    {
     "data": {
      "text/html": [
       "<div>\n",
       "<style scoped>\n",
       "    .dataframe tbody tr th:only-of-type {\n",
       "        vertical-align: middle;\n",
       "    }\n",
       "\n",
       "    .dataframe tbody tr th {\n",
       "        vertical-align: top;\n",
       "    }\n",
       "\n",
       "    .dataframe thead th {\n",
       "        text-align: right;\n",
       "    }\n",
       "</style>\n",
       "<table border=\"1\" class=\"dataframe\">\n",
       "  <thead>\n",
       "    <tr style=\"text-align: right;\">\n",
       "      <th></th>\n",
       "      <th>thumbnail</th>\n",
       "      <th>name</th>\n",
       "      <th>rating_mean_review</th>\n",
       "      <th>rating_mean_comments</th>\n",
       "      <th>fixed_rating</th>\n",
       "      <th>rank</th>\n",
       "      <th>yearpublished</th>\n",
       "    </tr>\n",
       "  </thead>\n",
       "  <tbody>\n",
       "    <tr>\n",
       "      <th>0</th>\n",
       "      <td>&lt;img src=\"https://cf.geekdo-images.com/4Kr0Rer...</td>\n",
       "      <td>&lt;a href=\"https://boardgamegeek.com/boardgame/3...</td>\n",
       "      <td>6.00000</td>\n",
       "      <td>NaN</td>\n",
       "      <td>NaN</td>\n",
       "      <td>1</td>\n",
       "      <td>2021</td>\n",
       "    </tr>\n",
       "    <tr>\n",
       "      <th>1</th>\n",
       "      <td>&lt;img src=\"https://cf.geekdo-images.com/MN0OvKe...</td>\n",
       "      <td>&lt;a href=\"https://boardgamegeek.com/boardgame/3...</td>\n",
       "      <td>7.62500</td>\n",
       "      <td>7.743136</td>\n",
       "      <td>7.640409</td>\n",
       "      <td>2</td>\n",
       "      <td>2021</td>\n",
       "    </tr>\n",
       "    <tr>\n",
       "      <th>2</th>\n",
       "      <td>&lt;img src=\"https://cf.geekdo-images.com/gTxav_K...</td>\n",
       "      <td>&lt;a href=\"https://boardgamegeek.com/boardgame/2...</td>\n",
       "      <td>7.86142</td>\n",
       "      <td>8.200111</td>\n",
       "      <td>7.969310</td>\n",
       "      <td>3</td>\n",
       "      <td>2021</td>\n",
       "    </tr>\n",
       "    <tr>\n",
       "      <th>3</th>\n",
       "      <td>&lt;img src=\"https://cf.geekdo-images.com/GGXq2lR...</td>\n",
       "      <td>&lt;a href=\"https://boardgamegeek.com/boardgame/2...</td>\n",
       "      <td>6.20000</td>\n",
       "      <td>7.129473</td>\n",
       "      <td>6.839013</td>\n",
       "      <td>4</td>\n",
       "      <td>NaN</td>\n",
       "    </tr>\n",
       "    <tr>\n",
       "      <th>4</th>\n",
       "      <td>&lt;img src=\"https://cf.geekdo-images.com/NPWdxDD...</td>\n",
       "      <td>&lt;a href=\"https://boardgamegeek.com/boardgame/3...</td>\n",
       "      <td>7.93200</td>\n",
       "      <td>8.168390</td>\n",
       "      <td>8.007215</td>\n",
       "      <td>5</td>\n",
       "      <td>2020</td>\n",
       "    </tr>\n",
       "  </tbody>\n",
       "</table>\n",
       "</div>"
      ],
      "text/plain": [
       "                                           thumbnail  \\\n",
       "0  <img src=\"https://cf.geekdo-images.com/4Kr0Rer...   \n",
       "1  <img src=\"https://cf.geekdo-images.com/MN0OvKe...   \n",
       "2  <img src=\"https://cf.geekdo-images.com/gTxav_K...   \n",
       "3  <img src=\"https://cf.geekdo-images.com/GGXq2lR...   \n",
       "4  <img src=\"https://cf.geekdo-images.com/NPWdxDD...   \n",
       "\n",
       "                                                name  rating_mean_review  \\\n",
       "0  <a href=\"https://boardgamegeek.com/boardgame/3...             6.00000   \n",
       "1  <a href=\"https://boardgamegeek.com/boardgame/3...             7.62500   \n",
       "2  <a href=\"https://boardgamegeek.com/boardgame/2...             7.86142   \n",
       "3  <a href=\"https://boardgamegeek.com/boardgame/2...             6.20000   \n",
       "4  <a href=\"https://boardgamegeek.com/boardgame/3...             7.93200   \n",
       "\n",
       "   rating_mean_comments  fixed_rating  rank yearpublished  \n",
       "0                   NaN           NaN     1          2021  \n",
       "1              7.743136      7.640409     2          2021  \n",
       "2              8.200111      7.969310     3          2021  \n",
       "3              7.129473      6.839013     4           NaN  \n",
       "4              8.168390      8.007215     5          2020  "
      ]
     },
     "execution_count": 44,
     "metadata": {},
     "output_type": "execute_result"
    }
   ],
   "source": [
    "grouped.head()"
   ]
  },
  {
   "cell_type": "code",
   "execution_count": 45,
   "metadata": {},
   "outputs": [],
   "source": [
    "def display_topn(by, n=5, ascending=True):\n",
    "    temp_df = grouped.sort_values(by, ascending=ascending).head(n)\n",
    "    temp_df.index=list(range(1, n+1))\n",
    "    return HTML(temp_df.to_html(escape=False, classes='table table-striped'))"
   ]
  },
  {
   "cell_type": "code",
   "execution_count": 46,
   "metadata": {},
   "outputs": [
    {
     "data": {
      "text/html": [
       "<table border=\"1\" class=\"dataframe table table-striped\">\n",
       "  <thead>\n",
       "    <tr style=\"text-align: right;\">\n",
       "      <th></th>\n",
       "      <th>thumbnail</th>\n",
       "      <th>name</th>\n",
       "      <th>rating_mean_review</th>\n",
       "      <th>rating_mean_comments</th>\n",
       "      <th>fixed_rating</th>\n",
       "      <th>rank</th>\n",
       "      <th>yearpublished</th>\n",
       "    </tr>\n",
       "  </thead>\n",
       "  <tbody>\n",
       "    <tr>\n",
       "      <th>1</th>\n",
       "      <td><img src=\"https://cf.geekdo-images.com/4Kr0RereFqdS29qe-mNYkQ__thumb/img/HCQGvP8maKFhqx0cFvkJ18AYTx8=/fit-in/200x150/filters:strip_icc()/pic6192204.png\" width=\"124\" /></td>\n",
       "      <td><a href=\"https://boardgamegeek.com/boardgame/338697\">CATAN: 3D Edition</a></td>\n",
       "      <td>6.00000</td>\n",
       "      <td>NaN</td>\n",
       "      <td>NaN</td>\n",
       "      <td>1</td>\n",
       "      <td>2021</td>\n",
       "    </tr>\n",
       "    <tr>\n",
       "      <th>2</th>\n",
       "      <td><img src=\"https://cf.geekdo-images.com/MN0OvKejfrfwD6bupQHp4g__thumb/img/MVh7xtQ4l17hprI4mFIk9Kswk6s=/fit-in/200x150/filters:strip_icc()/pic5623566.jpg\" width=\"124\" /></td>\n",
       "      <td><a href=\"https://boardgamegeek.com/boardgame/318184\">Imperium: Classics</a></td>\n",
       "      <td>7.62500</td>\n",
       "      <td>7.743136</td>\n",
       "      <td>7.640409</td>\n",
       "      <td>2</td>\n",
       "      <td>2021</td>\n",
       "    </tr>\n",
       "    <tr>\n",
       "      <th>3</th>\n",
       "      <td><img src=\"https://cf.geekdo-images.com/gTxav_KKQK1rDg-XuCjCSA__thumb/img/tFTOAKG5aDXxYfNRmJNmfyxH83M=/fit-in/200x150/filters:strip_icc()/pic5164812.jpg\" width=\"124\" /></td>\n",
       "      <td><a href=\"https://boardgamegeek.com/boardgame/291572\">Oath: Chronicles of Empire and Exile</a></td>\n",
       "      <td>7.86142</td>\n",
       "      <td>8.200111</td>\n",
       "      <td>7.969310</td>\n",
       "      <td>3</td>\n",
       "      <td>2021</td>\n",
       "    </tr>\n",
       "    <tr>\n",
       "      <th>4</th>\n",
       "      <td><img src=\"https://cf.geekdo-images.com/GGXq2lRAJCtS1yPPPmdVKw__thumb/img/-ERrbcuFZtzZSLfl8grcDi_pCgY=/fit-in/200x150/filters:strip_icc()/pic6205610.png\" width=\"124\" /></td>\n",
       "      <td><a href=\"https://boardgamegeek.com/boardgame/219650\">Arydia: The Paths We Dare Tread</a></td>\n",
       "      <td>6.20000</td>\n",
       "      <td>7.129473</td>\n",
       "      <td>6.839013</td>\n",
       "      <td>4</td>\n",
       "      <td>NaN</td>\n",
       "    </tr>\n",
       "    <tr>\n",
       "      <th>5</th>\n",
       "      <td><img src=\"https://cf.geekdo-images.com/NPWdxDD5uLOBLBDdVgdLvA__thumb/img/7464PJPFWWPzsOUMvf8t860zct0=/fit-in/200x150/filters:strip_icc()/pic6034093.png\" width=\"124\" /></td>\n",
       "      <td><a href=\"https://boardgamegeek.com/boardgame/316412\">The LOOP</a></td>\n",
       "      <td>7.93200</td>\n",
       "      <td>8.168390</td>\n",
       "      <td>8.007215</td>\n",
       "      <td>5</td>\n",
       "      <td>2020</td>\n",
       "    </tr>\n",
       "  </tbody>\n",
       "</table>"
      ],
      "text/plain": [
       "<IPython.core.display.HTML object>"
      ]
     },
     "execution_count": 46,
     "metadata": {},
     "output_type": "execute_result"
    }
   ],
   "source": [
    "# TOP N RANK\n",
    "display_topn(by='rank', n=TOP_N)"
   ]
  },
  {
   "cell_type": "code",
   "execution_count": 47,
   "metadata": {},
   "outputs": [
    {
     "data": {
      "text/html": [
       "<table border=\"1\" class=\"dataframe table table-striped\">\n",
       "  <thead>\n",
       "    <tr style=\"text-align: right;\">\n",
       "      <th></th>\n",
       "      <th>thumbnail</th>\n",
       "      <th>name</th>\n",
       "      <th>rating_mean_review</th>\n",
       "      <th>rating_mean_comments</th>\n",
       "      <th>fixed_rating</th>\n",
       "      <th>rank</th>\n",
       "      <th>yearpublished</th>\n",
       "    </tr>\n",
       "  </thead>\n",
       "  <tbody>\n",
       "    <tr>\n",
       "      <th>1</th>\n",
       "      <td><img src=\"https://cf.geekdo-images.com/By59lVylKiQh_ICJUgK5Tg__thumb/img/a-AYlm8qtSbpqeqydP09w1Aorfw=/fit-in/200x150/filters:strip_icc()/pic6209785.jpg\" width=\"124\" /></td>\n",
       "      <td><a href=\"https://boardgamegeek.com/boardgame/314745\">Now or Never</a></td>\n",
       "      <td>10.000000</td>\n",
       "      <td>7.696962</td>\n",
       "      <td>8.080802</td>\n",
       "      <td>15</td>\n",
       "      <td>2021</td>\n",
       "    </tr>\n",
       "    <tr>\n",
       "      <th>2</th>\n",
       "      <td><img src=\"https://cf.geekdo-images.com/ELxnlSjxcglPHIowrQPsPQ__thumb/img/sOZ7gE6nCoDdQ1EThPDThvdT498=/fit-in/200x150/filters:strip_icc()/pic6180357.png\" width=\"124\" /></td>\n",
       "      <td><a href=\"https://boardgamegeek.com/boardgame/273814\">Deliverance</a></td>\n",
       "      <td>9.689474</td>\n",
       "      <td>9.030303</td>\n",
       "      <td>9.641242</td>\n",
       "      <td>48</td>\n",
       "      <td>2021</td>\n",
       "    </tr>\n",
       "    <tr>\n",
       "      <th>3</th>\n",
       "      <td><img src=\"https://cf.geekdo-images.com/-6AnQ0BuCM8u1lqAwTe8Rw__thumb/img/da5eYCvhYSmPb03hEhNwxR8-s6g=/fit-in/200x150/filters:strip_icc()/pic5623567.jpg\" width=\"124\" /></td>\n",
       "      <td><a href=\"https://boardgamegeek.com/boardgame/318182\">Imperium: Legends</a></td>\n",
       "      <td>9.428571</td>\n",
       "      <td>7.412682</td>\n",
       "      <td>8.980596</td>\n",
       "      <td>9</td>\n",
       "      <td>2021</td>\n",
       "    </tr>\n",
       "    <tr>\n",
       "      <th>4</th>\n",
       "      <td><img src=\"https://cf.geekdo-images.com/Oh3kHw6lweg6ru71Q16h2Q__thumb/img/e9XZdQe1ZcPpaq4Gy31OoWBB_V0=/fit-in/200x150/filters:strip_icc()/pic5235277.jpg\" width=\"124\" /></td>\n",
       "      <td><a href=\"https://boardgamegeek.com/boardgame/246900\">Eclipse: Second Dawn for the Galaxy</a></td>\n",
       "      <td>8.726006</td>\n",
       "      <td>7.840591</td>\n",
       "      <td>8.590551</td>\n",
       "      <td>42</td>\n",
       "      <td>2020</td>\n",
       "    </tr>\n",
       "    <tr>\n",
       "      <th>5</th>\n",
       "      <td><img src=\"https://cf.geekdo-images.com/x3zxjr-Vw5iU4yDPg70Jgw__thumb/img/o18rjEemoWaVru9Y2TyPwuIaRfE=/fit-in/200x150/filters:strip_icc()/pic3490053.jpg\" width=\"124\" /></td>\n",
       "      <td><a href=\"https://boardgamegeek.com/boardgame/224517\">Brass: Birmingham</a></td>\n",
       "      <td>8.678443</td>\n",
       "      <td>8.085606</td>\n",
       "      <td>8.625700</td>\n",
       "      <td>28</td>\n",
       "      <td>2018</td>\n",
       "    </tr>\n",
       "  </tbody>\n",
       "</table>"
      ],
      "text/plain": [
       "<IPython.core.display.HTML object>"
      ]
     },
     "execution_count": 47,
     "metadata": {},
     "output_type": "execute_result"
    }
   ],
   "source": [
    "# TOP N REVIEW RANK\n",
    "display_topn(by='rating_mean_review', n=TOP_N, ascending=False)"
   ]
  },
  {
   "cell_type": "code",
   "execution_count": 48,
   "metadata": {},
   "outputs": [
    {
     "data": {
      "text/html": [
       "<table border=\"1\" class=\"dataframe table table-striped\">\n",
       "  <thead>\n",
       "    <tr style=\"text-align: right;\">\n",
       "      <th></th>\n",
       "      <th>thumbnail</th>\n",
       "      <th>name</th>\n",
       "      <th>rating_mean_review</th>\n",
       "      <th>rating_mean_comments</th>\n",
       "      <th>fixed_rating</th>\n",
       "      <th>rank</th>\n",
       "      <th>yearpublished</th>\n",
       "    </tr>\n",
       "  </thead>\n",
       "  <tbody>\n",
       "    <tr>\n",
       "      <th>1</th>\n",
       "      <td><img src=\"https://cf.geekdo-images.com/ELxnlSjxcglPHIowrQPsPQ__thumb/img/sOZ7gE6nCoDdQ1EThPDThvdT498=/fit-in/200x150/filters:strip_icc()/pic6180357.png\" width=\"124\" /></td>\n",
       "      <td><a href=\"https://boardgamegeek.com/boardgame/273814\">Deliverance</a></td>\n",
       "      <td>9.689474</td>\n",
       "      <td>9.030303</td>\n",
       "      <td>9.641242</td>\n",
       "      <td>48</td>\n",
       "      <td>2021</td>\n",
       "    </tr>\n",
       "    <tr>\n",
       "      <th>2</th>\n",
       "      <td><img src=\"https://cf.geekdo-images.com/-6AnQ0BuCM8u1lqAwTe8Rw__thumb/img/da5eYCvhYSmPb03hEhNwxR8-s6g=/fit-in/200x150/filters:strip_icc()/pic5623567.jpg\" width=\"124\" /></td>\n",
       "      <td><a href=\"https://boardgamegeek.com/boardgame/318182\">Imperium: Legends</a></td>\n",
       "      <td>9.428571</td>\n",
       "      <td>7.412682</td>\n",
       "      <td>8.980596</td>\n",
       "      <td>9</td>\n",
       "      <td>2021</td>\n",
       "    </tr>\n",
       "    <tr>\n",
       "      <th>3</th>\n",
       "      <td><img src=\"https://cf.geekdo-images.com/x3zxjr-Vw5iU4yDPg70Jgw__thumb/img/o18rjEemoWaVru9Y2TyPwuIaRfE=/fit-in/200x150/filters:strip_icc()/pic3490053.jpg\" width=\"124\" /></td>\n",
       "      <td><a href=\"https://boardgamegeek.com/boardgame/224517\">Brass: Birmingham</a></td>\n",
       "      <td>8.678443</td>\n",
       "      <td>8.085606</td>\n",
       "      <td>8.625700</td>\n",
       "      <td>28</td>\n",
       "      <td>2018</td>\n",
       "    </tr>\n",
       "    <tr>\n",
       "      <th>4</th>\n",
       "      <td><img src=\"https://cf.geekdo-images.com/hRuD1y5BxdNpssgBqamS0A__thumb/img/fpUu1t2YLjJ4EvEzBGTKtZasNv4=/fit-in/200x150/filters:strip_icc()/pic4595897.jpg\" width=\"124\" /></td>\n",
       "      <td><a href=\"https://boardgamegeek.com/boardgame/169427\">Middara: Unintentional Malum – Act 1</a></td>\n",
       "      <td>8.660370</td>\n",
       "      <td>8.373304</td>\n",
       "      <td>8.593568</td>\n",
       "      <td>36</td>\n",
       "      <td>2019</td>\n",
       "    </tr>\n",
       "    <tr>\n",
       "      <th>5</th>\n",
       "      <td><img src=\"https://cf.geekdo-images.com/Oh3kHw6lweg6ru71Q16h2Q__thumb/img/e9XZdQe1ZcPpaq4Gy31OoWBB_V0=/fit-in/200x150/filters:strip_icc()/pic5235277.jpg\" width=\"124\" /></td>\n",
       "      <td><a href=\"https://boardgamegeek.com/boardgame/246900\">Eclipse: Second Dawn for the Galaxy</a></td>\n",
       "      <td>8.726006</td>\n",
       "      <td>7.840591</td>\n",
       "      <td>8.590551</td>\n",
       "      <td>42</td>\n",
       "      <td>2020</td>\n",
       "    </tr>\n",
       "  </tbody>\n",
       "</table>"
      ],
      "text/plain": [
       "<IPython.core.display.HTML object>"
      ]
     },
     "execution_count": 48,
     "metadata": {},
     "output_type": "execute_result"
    }
   ],
   "source": [
    "# TOP N FIXED RANK\n",
    "display_topn(by='fixed_rating', n=TOP_N, ascending=False)"
   ]
  },
  {
   "cell_type": "code",
   "execution_count": 49,
   "metadata": {},
   "outputs": [],
   "source": [
    "# model.save('saved_model\\my_model')"
   ]
  },
  {
   "cell_type": "code",
   "execution_count": 50,
   "metadata": {},
   "outputs": [],
   "source": [
    "# saved_model = tf.keras.models.load_model('saved_model\\my_model')"
   ]
  },
  {
   "cell_type": "code",
   "execution_count": 51,
   "metadata": {},
   "outputs": [],
   "source": [
    "# some examples on \"long\" comments vs short comments"
   ]
  },
  {
   "cell_type": "code",
   "execution_count": 52,
   "metadata": {},
   "outputs": [],
   "source": [
    "not_rated_comments['comment_len'] = not_rated_comments['value'].str.len()\n",
    "some_long_comments = not_rated_comments.query(\"comment_len>100 and comment_len<300\").sample(frac=1).head(25).sort_values('rating')"
   ]
  },
  {
   "cell_type": "code",
   "execution_count": 53,
   "metadata": {},
   "outputs": [
    {
     "name": "stdout",
     "output_type": "stream",
     "text": [
      "\"Seems to be very popular but does not appeal to me at all. I guess that mainly I am not that keen on cooperative games.\"\n",
      "score: 4.93\n",
      "\n",
      "\"Opinió després de veure un How to Play: No m'acaba d'agradar. Típic hibrid de KS poc cohesionat i amb components impressionants, però el joc es veu poc polit.\"\n",
      "score: 5.91\n",
      "\n",
      "\"Definitely pretty. Very boring though. Lacked something to grab hold me and my various play groups. 0/6 enjoyed this. (Played x5)\"\n",
      "score: 6.03\n",
      "\n",
      "\"bag-engine-building, push-your luck with some variability in different color powers start with mostly white chips. draw too many white chips and you will bust. busting means you can only complete 1 of your 2 actions so not completely bust.\"\n",
      "score: 6.06\n",
      "\n",
      "\"Jury is still out on if I like this. Still confusing! I've never felt like I've played and entire scenario correctly. Going to do Dunwich and make the call after that. \"\n",
      "score: 6.72\n",
      "\n",
      "\"Successor to Brass, and supposedly better than the original. VERY interested to try this one and eager to add it to the collection.\"\n",
      "score: 6.89\n",
      "\n",
      "\"Pro: - Miniature  Con: - Not yet released, and probably will not be released in 2020  Want to play priority: - 2 out of 5\"\n",
      "score: 7.00\n",
      "\n",
      "\"LC: Grałem raz, było trochę dziwnie, to są w gruncie rzeczy proste mechaniki (proste decyzje) ale ich mnogość sprawia że gra jest złożona.\"\n",
      "score: 7.06\n",
      "\n",
      "\"I played it solo only (16 plays). The REALLY long setup time is deterrent to me.  Maybe it is better playing multiplayer  Sold it, sorry!\"\n",
      "score: 7.10\n",
      "\n",
      "\"If only because [geekurl=/boardgame/226320/my-little-scythe]My Little Scythe[/geekurl] looks so good :-)\"\n",
      "score: 7.12\n",
      "\n",
      "\"Plus: \"Dunwich Legacy\", \"Miskatonic Museum\", \"Essex County Express\",\"Blood on the Alter\", \"Undimensioned and Unseen\", \"Where Doom Awaits\", and \"Path to Carcosa\" expansions/mythos packs. \"\n",
      "score: 7.21\n",
      "\n",
      "\"Bored of it. Bored bored bored. Played it a lot on release so probably due to burn out but there isn't really a lot to this game as would initially appear. And say what you want about Red, Yellow faction is so busted can win easily without leaving the peninsula until last minute.\"\n",
      "score: 7.32\n",
      "\n",
      "\":d6-1: Did a small supportpledge for this during their kickstarter but wasn´t really pleased with some of the choices for components. Would love to try it and see what became of it though.\"\n",
      "score: 7.39\n",
      "\n",
      "\"A co-op game. JonGetsGames said it can be anticlimactic and too long (youtube.com/watch?v=qn_hIBOZtE8&t=1467s). GameNight's session (/video/203858) is almost 3 hours long.\"\n",
      "score: 7.59\n",
      "\n",
      "\"Wargame Ligero. Parece muy interesante. Debería salir en Abril 2018 editado por Two Tomatoes. Buscalo!\"\n",
      "score: 7.76\n",
      "\n",
      "\"This iteration seems to have resolved a number of issues I had with the 3rd edition. I'd love to try it but finding a game will be tricky.\"\n",
      "score: 8.36\n",
      "\n",
      "\"Köpt från fb grupp - nytt inplastad. 2000kr. Inkl ks1 promo pack, 2 set extra tärningar, 4st player mats\"\n",
      "score: 8.69\n",
      "\n",
      "\"Owned Expansions: [geekurl=/boardgameexpansion/290448/wingspan-european-expansion]Wingspan: European Expansion[/geekurl]\"\n",
      "score: 8.74\n",
      "\n",
      "\"Collector's Edition  Pearlbrook Spirecrest Bellfaire Newleaf Mistwood Big Ol Box of Storage Deluxe Resource Vessels Wooden Ever Tree\"\n",
      "score: 8.82\n",
      "\n",
      "\"Players: 1 to 4 Competitive Game: One player wins alone  Theme: Tropical Exploration  Microbadges: [microbadge=51020]  Designed by Elwen and Mín\"\n",
      "score: 9.16\n",
      "\n",
      "\"Players: 1-5 (4) Time: 90–115 Min Category: Economic Fighting Science Fiction Territory Building  Mechanisms: Area Control / Area Influence Grid Movement Variable Player Powers  Sleeved\"\n",
      "score: 9.45\n",
      "\n",
      "\"Ich habe: - Basisspiel. - Deluxe Upgrade-Pack (Addon) (VORBESTELLT bei Direwolf!)  - Jessica von Arrakis (Promokarte).\"\n",
      "score: 9.47\n",
      "\n",
      "\"Watched Both Rahdo and Slickerdrips review of the game and knew that I had Found a game that my 72 yr. old father will want to learn and play instead of always cribbage!\"\n",
      "score: 9.69\n",
      "\n",
      "\"With Hellas & Elysium expansion (2017). With Venus Next expansion (2017). With Prelude expansion (2018). With Colonies expansion (2018). With Turmoil expansion (2019). With Small Asteroid Promo Card (2016).\"\n",
      "score: 10.00\n",
      "\n",
      "\"Probably best game 2019. English edition in print, only available in German (Jan 2020). Coop trick-taking card game. Dan King 10.\"\n",
      "score: 10.00\n",
      "\n"
     ]
    }
   ],
   "source": [
    "some_long_comments.apply(lambda c: print(f\"\\\"{c['value']}\\\"\\nscore: {c['rating']:.2f}\\n\"), axis=1);"
   ]
  },
  {
   "cell_type": "markdown",
   "metadata": {},
   "source": [
    "## RANDOM FOREST - TEST"
   ]
  },
  {
   "cell_type": "code",
   "execution_count": 54,
   "metadata": {},
   "outputs": [],
   "source": [
    "# no support for Windows at the moment - waiting for it to test"
   ]
  },
  {
   "cell_type": "code",
   "execution_count": null,
   "metadata": {},
   "outputs": [],
   "source": []
  }
 ],
 "metadata": {
  "kernelspec": {
   "display_name": "tensorflow2",
   "language": "python",
   "name": "tensorflow2"
  },
  "language_info": {
   "codemirror_mode": {
    "name": "ipython",
    "version": 3
   },
   "file_extension": ".py",
   "mimetype": "text/x-python",
   "name": "python",
   "nbconvert_exporter": "python",
   "pygments_lexer": "ipython3",
   "version": "3.8.8"
  }
 },
 "nbformat": 4,
 "nbformat_minor": 4
}
