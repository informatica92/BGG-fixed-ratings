{
 "cells": [
  {
   "cell_type": "code",
   "execution_count": 1,
   "metadata": {},
   "outputs": [],
   "source": [
    "# ## BGG API\n",
    "# https://www.boardgamegeek.com/xmlapi2/thing?id=161599&comments=1\n",
    "# https://www.boardgamegeek.com/xmlapi2/hot?type=boardgame\n",
    "# ## NLP WITH TF\n",
    "# https://www.tensorflow.org/hub/tutorials/tf2_text_classification"
   ]
  },
  {
   "cell_type": "code",
   "execution_count": 2,
   "metadata": {},
   "outputs": [
    {
     "name": "stdout",
     "output_type": "stream",
     "text": [
      "Version:      2.5.0\n",
      "Eager mode:   True\n",
      "Hub version:  0.12.0\n",
      "GPU:          available\n"
     ]
    }
   ],
   "source": [
    "import tensorflow as tf\n",
    "import tensorflow_hub as hub\n",
    "from tensorflow.keras.wrappers.scikit_learn import KerasRegressor, KerasClassifier\n",
    "from sklearn.model_selection import GridSearchCV\n",
    "\n",
    "from IPython.display import HTML\n",
    "from datetime import datetime\n",
    "import matplotlib.pyplot as plt\n",
    "import pandas as pd\n",
    "import numpy as np\n",
    "import re\n",
    "\n",
    "from utilities import get_hot_data, get_comments, remove_short_comments, build_model, print_my_examples\n",
    "\n",
    "print(\"Version:     \", tf.__version__)\n",
    "print(\"Eager mode:  \", tf.executing_eagerly())\n",
    "print(\"Hub version: \", hub.__version__)\n",
    "print(\"GPU:         \", \"available\" if tf.config.list_physical_devices('GPU') else \"NOT available\")\n",
    "\n",
    "tf.get_logger().setLevel('ERROR')"
   ]
  },
  {
   "cell_type": "code",
   "execution_count": 3,
   "metadata": {},
   "outputs": [],
   "source": [
    "# tf.debugging.set_log_device_placement(True)"
   ]
  },
  {
   "cell_type": "code",
   "execution_count": 4,
   "metadata": {},
   "outputs": [],
   "source": [
    "GOOD_REVIEW_THRESHOLD = 7\n",
    "VAL_FRACTION = 0.25\n",
    "MIN_COMMENT_LEN = 25\n",
    "TOP_N = 5\n",
    "MODEL_NAME = \"https://tfhub.dev/google/tf2-preview/nnlm-en-dim50/1\"\n",
    "# MORE ABOUT MODEL NAMES: \n",
    "# \"https://tfhub.dev/google/tf2-preview/nnlm-en-dim128/1\"\n",
    "# \"https://tfhub.dev/google/tf2-preview/nnlm-en-dim128-with-normalization/1\"\n",
    "# we also tested these solutions with dimension equals to 128 but accuracy \n",
    "# is a bit lower (0.85 for 128 vs 0.86 for 50) and training sometimes stops \n",
    "# unexpectedly for memory limit\n",
    "#\n",
    "# \"https://tfhub.dev/google/tf2-preview/nnlm-en-dim50/1\"\n",
    "# \"https://tfhub.dev/google/tf2-preview/nnlm-en-dim50-with-normalization/1\"\n",
    "# there is no difference between normalization and not so we use the one \n",
    "# without normalization"
   ]
  },
  {
   "cell_type": "markdown",
   "metadata": {},
   "source": [
    "## GET DATA"
   ]
  },
  {
   "cell_type": "code",
   "execution_count": 5,
   "metadata": {},
   "outputs": [
    {
     "data": {
      "text/plain": [
       "[{'id': '219650',\n",
       "  'rank': '1',\n",
       "  'thumbnail': 'https://cf.geekdo-images.com/GGXq2lRAJCtS1yPPPmdVKw__thumb/img/-ERrbcuFZtzZSLfl8grcDi_pCgY=/fit-in/200x150/filters:strip_icc()/pic6205610.png',\n",
       "  'name': 'Arydia: The Paths We Dare Tread'},\n",
       " {'id': '291572',\n",
       "  'rank': '2',\n",
       "  'thumbnail': 'https://cf.geekdo-images.com/gTxav_KKQK1rDg-XuCjCSA__thumb/img/tFTOAKG5aDXxYfNRmJNmfyxH83M=/fit-in/200x150/filters:strip_icc()/pic5164812.jpg',\n",
       "  'name': 'Oath: Chronicles of Empire and Exile',\n",
       "  'yearpublished': '2021'}]"
      ]
     },
     "execution_count": 5,
     "metadata": {},
     "output_type": "execute_result"
    }
   ],
   "source": [
    "hot_array = get_hot_data()\n",
    "hot_array[:2]"
   ]
  },
  {
   "cell_type": "code",
   "execution_count": 6,
   "metadata": {},
   "outputs": [
    {
     "name": "stdout",
     "output_type": "stream",
     "text": [
      "missing csv file, getting new data using API...\n",
      "page number = 10 (max: 100, len: 27)\n",
      "page number = 20 (max: 100, len: 19)\n",
      "page number = 30 (max: 100, len: 14)\n",
      "page number = 40 (max: 100, len: 11)\n",
      "page number = 50 (max: 100, len: 6)\n",
      "page number = 60 (max: 100, len: 6)\n",
      "page number = 70 (max: 100, len: 5)\n",
      "page number = 80 (max: 100, len: 4)\n",
      "page number = 90 (max: 100, len: 2)\n",
      "page number = 100 (max: 34, len: 1)\n",
      "comments_df shape: (110337, 4)\n"
     ]
    },
    {
     "data": {
      "text/html": [
       "<div>\n",
       "<style scoped>\n",
       "    .dataframe tbody tr th:only-of-type {\n",
       "        vertical-align: middle;\n",
       "    }\n",
       "\n",
       "    .dataframe tbody tr th {\n",
       "        vertical-align: top;\n",
       "    }\n",
       "\n",
       "    .dataframe thead th {\n",
       "        text-align: right;\n",
       "    }\n",
       "</style>\n",
       "<table border=\"1\" class=\"dataframe\">\n",
       "  <thead>\n",
       "    <tr style=\"text-align: right;\">\n",
       "      <th></th>\n",
       "      <th>id</th>\n",
       "      <th>username</th>\n",
       "      <th>rating</th>\n",
       "      <th>value</th>\n",
       "    </tr>\n",
       "  </thead>\n",
       "  <tbody>\n",
       "    <tr>\n",
       "      <th>0</th>\n",
       "      <td>219650</td>\n",
       "      <td>Abaddon1991</td>\n",
       "      <td>N/A</td>\n",
       "      <td>Kickstarter in 2018? \"Green legacy\"</td>\n",
       "    </tr>\n",
       "    <tr>\n",
       "      <th>1</th>\n",
       "      <td>219650</td>\n",
       "      <td>BGG_is_racist57</td>\n",
       "      <td>10</td>\n",
       "      <td>BGG is racist, deletes uncomfortable opinions,...</td>\n",
       "    </tr>\n",
       "    <tr>\n",
       "      <th>2</th>\n",
       "      <td>219650</td>\n",
       "      <td>BlueFoxMoon</td>\n",
       "      <td>N/A</td>\n",
       "      <td>Pre-release - KS</td>\n",
       "    </tr>\n",
       "    <tr>\n",
       "      <th>3</th>\n",
       "      <td>219650</td>\n",
       "      <td>Brehm77</td>\n",
       "      <td>9</td>\n",
       "      <td>I'm very much looking forward to this. I don't...</td>\n",
       "    </tr>\n",
       "    <tr>\n",
       "      <th>4</th>\n",
       "      <td>219650</td>\n",
       "      <td>Brighten35</td>\n",
       "      <td>N/A</td>\n",
       "      <td>Yes please.</td>\n",
       "    </tr>\n",
       "    <tr>\n",
       "      <th>...</th>\n",
       "      <td>...</td>\n",
       "      <td>...</td>\n",
       "      <td>...</td>\n",
       "      <td>...</td>\n",
       "    </tr>\n",
       "    <tr>\n",
       "      <th>110332</th>\n",
       "      <td>167791</td>\n",
       "      <td>z_zadar</td>\n",
       "      <td>9</td>\n",
       "      <td>Some games are so much fun. Others can be a li...</td>\n",
       "    </tr>\n",
       "    <tr>\n",
       "      <th>110333</th>\n",
       "      <td>167791</td>\n",
       "      <td>_Czid_</td>\n",
       "      <td>8</td>\n",
       "      <td>Have played with Elysium and Prelude expansion...</td>\n",
       "    </tr>\n",
       "    <tr>\n",
       "      <th>110334</th>\n",
       "      <td>167791</td>\n",
       "      <td>_Marty_</td>\n",
       "      <td>9.5</td>\n",
       "      <td>Fantastic game. With so many cards that can ch...</td>\n",
       "    </tr>\n",
       "    <tr>\n",
       "      <th>110335</th>\n",
       "      <td>167791</td>\n",
       "      <td>_mun_</td>\n",
       "      <td>10</td>\n",
       "      <td>Nagyon izgalmas játék, jó a mechanizmusa. A sz...</td>\n",
       "    </tr>\n",
       "    <tr>\n",
       "      <th>110336</th>\n",
       "      <td>167791</td>\n",
       "      <td>_The_Inquiry_</td>\n",
       "      <td>5</td>\n",
       "      <td>Prior to 2020: 2 plays  TM is one of those gam...</td>\n",
       "    </tr>\n",
       "  </tbody>\n",
       "</table>\n",
       "<p>110337 rows × 4 columns</p>\n",
       "</div>"
      ],
      "text/plain": [
       "            id         username rating  \\\n",
       "0       219650      Abaddon1991    N/A   \n",
       "1       219650  BGG_is_racist57     10   \n",
       "2       219650      BlueFoxMoon    N/A   \n",
       "3       219650          Brehm77      9   \n",
       "4       219650       Brighten35    N/A   \n",
       "...        ...              ...    ...   \n",
       "110332  167791          z_zadar      9   \n",
       "110333  167791           _Czid_      8   \n",
       "110334  167791          _Marty_    9.5   \n",
       "110335  167791            _mun_     10   \n",
       "110336  167791    _The_Inquiry_      5   \n",
       "\n",
       "                                                    value  \n",
       "0                     Kickstarter in 2018? \"Green legacy\"  \n",
       "1       BGG is racist, deletes uncomfortable opinions,...  \n",
       "2                                        Pre-release - KS  \n",
       "3       I'm very much looking forward to this. I don't...  \n",
       "4                                            Yes please.   \n",
       "...                                                   ...  \n",
       "110332  Some games are so much fun. Others can be a li...  \n",
       "110333  Have played with Elysium and Prelude expansion...  \n",
       "110334  Fantastic game. With so many cards that can ch...  \n",
       "110335  Nagyon izgalmas játék, jó a mechanizmusa. A sz...  \n",
       "110336  Prior to 2020: 2 plays  TM is one of those gam...  \n",
       "\n",
       "[110337 rows x 4 columns]"
      ]
     },
     "execution_count": 6,
     "metadata": {},
     "output_type": "execute_result"
    }
   ],
   "source": [
    "try:\n",
    "    comments_df = pd.read_csv(f\"comments_{datetime.now().strftime('%Y%m%d')}.csv\")\n",
    "    comments_df['rating'] = comments_df.rating.fillna('N/A')\n",
    "    print(\"reading dataframe from csv file...\")\n",
    "except:\n",
    "    print(\"missing csv file, getting new data using API...\")\n",
    "    comments_df = get_comments(hot_array, verbose=10)\n",
    "    comments_df.to_csv(f\"comments_{datetime.now().strftime('%Y%m%d')}.csv\", index=False)\n",
    "comments_df"
   ]
  },
  {
   "cell_type": "markdown",
   "metadata": {},
   "source": [
    "## DATA CLEANING"
   ]
  },
  {
   "cell_type": "code",
   "execution_count": 7,
   "metadata": {},
   "outputs": [],
   "source": [
    "# probably we should keep all the ratings (no matters the len) and remove only the simple comments under a certain len  \n",
    "comments_df[\"value\"] = comments_df[\"value\"].astype(str)"
   ]
  },
  {
   "cell_type": "code",
   "execution_count": 8,
   "metadata": {},
   "outputs": [
    {
     "name": "stdout",
     "output_type": "stream",
     "text": [
      "removed 17800 for 'remove_short_comments' - min len: 25 - method: unrated\n"
     ]
    }
   ],
   "source": [
    "# REMOVE URLs FROM COMMENTS\n",
    "comments_df['value'] = [re.sub(r\"http\\S+\", \"\", v) for v in comments_df.value.values]\n",
    "comments_df = remove_short_comments(comments_df, MIN_COMMENT_LEN)"
   ]
  },
  {
   "cell_type": "code",
   "execution_count": 9,
   "metadata": {},
   "outputs": [],
   "source": [
    "# REMOVE NON ENGLISH COMMENTS\n",
    "# !conda install -c conda-forge langdetect\n",
    "# def add_comments_lang(df: pd.DataFrame):\n",
    "#     df_local = df.copy()\n",
    "#     df_local['lang'] = df['value'].apply(detect)\n",
    "#     return df_local.reset_index(drop=True)\n",
    "# comments_df = add_comments_lang(comments_df)\n",
    "# comments_df = comments_df.query('lang == \"en\"')"
   ]
  },
  {
   "cell_type": "markdown",
   "metadata": {},
   "source": [
    "## SPLIT RATED AND NON-RATED COMMENTS"
   ]
  },
  {
   "cell_type": "code",
   "execution_count": 10,
   "metadata": {},
   "outputs": [
    {
     "data": {
      "text/plain": [
       "9          17206\n",
       "10         16606\n",
       "8          15857\n",
       "7           8648\n",
       "N/A         7302\n",
       "           ...  \n",
       "9.981          1\n",
       "7.73           1\n",
       "7.54           1\n",
       "8.0974         1\n",
       "8.73823        1\n",
       "Name: rating, Length: 587, dtype: int64"
      ]
     },
     "execution_count": 10,
     "metadata": {},
     "output_type": "execute_result"
    }
   ],
   "source": [
    "# count number of comments per rating (N/A included)\n",
    "comments_df.rating.value_counts()"
   ]
  },
  {
   "cell_type": "code",
   "execution_count": 11,
   "metadata": {},
   "outputs": [
    {
     "data": {
      "text/plain": [
       "(85235, 5)"
      ]
     },
     "execution_count": 11,
     "metadata": {},
     "output_type": "execute_result"
    }
   ],
   "source": [
    "# get rated comments only\n",
    "rated_comments = comments_df.query('rating != \"N/A\"')\n",
    "rated_comments.shape"
   ]
  },
  {
   "cell_type": "code",
   "execution_count": 12,
   "metadata": {},
   "outputs": [
    {
     "data": {
      "text/plain": [
       "(7302, 5)"
      ]
     },
     "execution_count": 12,
     "metadata": {},
     "output_type": "execute_result"
    }
   ],
   "source": [
    "# get non rated comments only\n",
    "not_rated_comments = comments_df.query('rating == \"N/A\"').reset_index(drop=True)\n",
    "not_rated_comments.shape"
   ]
  },
  {
   "cell_type": "markdown",
   "metadata": {},
   "source": [
    "## CREATE TRAINING AND VALIDATION DATA"
   ]
  },
  {
   "cell_type": "code",
   "execution_count": 13,
   "metadata": {},
   "outputs": [],
   "source": [
    "# use rated comments (reviews) to train the model"
   ]
  },
  {
   "cell_type": "code",
   "execution_count": 14,
   "metadata": {},
   "outputs": [],
   "source": [
    "rated_comments = rated_comments.sample(frac=1)"
   ]
  },
  {
   "cell_type": "code",
   "execution_count": 15,
   "metadata": {},
   "outputs": [],
   "source": [
    "# create training X and y\n",
    "train_examples = list(rated_comments.value)\n",
    "train_labels = list((rated_comments.rating.astype(float)>=GOOD_REVIEW_THRESHOLD).astype(int))"
   ]
  },
  {
   "cell_type": "code",
   "execution_count": 16,
   "metadata": {},
   "outputs": [
    {
     "name": "stdout",
     "output_type": "stream",
     "text": [
      "example of positive rating:\n"
     ]
    },
    {
     "data": {
      "text/plain": [
       "'Played at Gencon 2017  - don’t think I want to own this one.'"
      ]
     },
     "execution_count": 16,
     "metadata": {},
     "output_type": "execute_result"
    }
   ],
   "source": [
    "print(\"example of positive rating:\")\n",
    "train_examples[train_labels.index(1)]"
   ]
  },
  {
   "cell_type": "code",
   "execution_count": 17,
   "metadata": {},
   "outputs": [
    {
     "name": "stdout",
     "output_type": "stream",
     "text": [
      "example of negative rating:\n"
     ]
    },
    {
     "data": {
      "text/plain": [
       "'Yet to be played (Jan 2020.  It does have that feel of Kickstarter excess and the need for a bit more refinement, but I enjoyed it (Rating 6.442, March 2021)'"
      ]
     },
     "execution_count": 17,
     "metadata": {},
     "output_type": "execute_result"
    }
   ],
   "source": [
    "print(\"example of negative rating:\")\n",
    "train_examples[train_labels.index(0)]"
   ]
  },
  {
   "cell_type": "markdown",
   "metadata": {},
   "source": [
    "## COMPOSE MODEL"
   ]
  },
  {
   "cell_type": "code",
   "execution_count": 18,
   "metadata": {},
   "outputs": [],
   "source": [
    "hub_layer = hub.KerasLayer(MODEL_NAME, input_shape=[], dtype=tf.string, trainable=True)"
   ]
  },
  {
   "cell_type": "markdown",
   "metadata": {},
   "source": [
    "## CLASSIFIER"
   ]
  },
  {
   "cell_type": "code",
   "execution_count": 19,
   "metadata": {},
   "outputs": [
    {
     "name": "stdout",
     "output_type": "stream",
     "text": [
      "Epoch 1/100\n",
      "42/42 - 4s - loss: 0.5798 - accuracy: 0.7503 - val_loss: 0.4965 - val_accuracy: 0.8533\n",
      "Epoch 2/100\n",
      "42/42 - 2s - loss: 0.4519 - accuracy: 0.8574 - val_loss: 0.4091 - val_accuracy: 0.8571\n",
      "Epoch 3/100\n",
      "42/42 - 2s - loss: 0.3692 - accuracy: 0.8604 - val_loss: 0.3496 - val_accuracy: 0.8623\n",
      "Epoch 4/100\n",
      "42/42 - 2s - loss: 0.3123 - accuracy: 0.8756 - val_loss: 0.3207 - val_accuracy: 0.8734\n",
      "Epoch 5/100\n",
      "42/42 - 2s - loss: 0.2734 - accuracy: 0.8926 - val_loss: 0.3073 - val_accuracy: 0.8823\n",
      "Epoch 6/100\n",
      "42/42 - 2s - loss: 0.2430 - accuracy: 0.9048 - val_loss: 0.3048 - val_accuracy: 0.8848\n",
      "Epoch 7/100\n",
      "42/42 - 2s - loss: 0.2184 - accuracy: 0.9155 - val_loss: 0.3088 - val_accuracy: 0.8825\n",
      "Epoch 8/100\n",
      "42/42 - 2s - loss: 0.1974 - accuracy: 0.9251 - val_loss: 0.3168 - val_accuracy: 0.8801\n",
      "Epoch 9/100\n",
      "42/42 - 2s - loss: 0.1798 - accuracy: 0.9327 - val_loss: 0.3295 - val_accuracy: 0.8782\n",
      "Epoch 10/100\n",
      "42/42 - 2s - loss: 0.1644 - accuracy: 0.9392 - val_loss: 0.3428 - val_accuracy: 0.8734\n",
      "Epoch 11/100\n",
      "42/42 - 2s - loss: 0.1511 - accuracy: 0.9461 - val_loss: 0.3603 - val_accuracy: 0.8695\n",
      "28/28 - 0s - loss: 0.3562 - accuracy: 0.8689\n",
      "Epoch 1/100\n",
      "42/42 - 3s - loss: 0.5758 - accuracy: 0.7624 - val_loss: 0.4927 - val_accuracy: 0.8544\n",
      "Epoch 2/100\n",
      "42/42 - 2s - loss: 0.4403 - accuracy: 0.8595 - val_loss: 0.3981 - val_accuracy: 0.8583\n",
      "Epoch 3/100\n",
      "42/42 - 2s - loss: 0.3517 - accuracy: 0.8689 - val_loss: 0.3393 - val_accuracy: 0.8701\n",
      "Epoch 4/100\n",
      "42/42 - 2s - loss: 0.2947 - accuracy: 0.8864 - val_loss: 0.3153 - val_accuracy: 0.8775\n",
      "Epoch 5/100\n",
      "42/42 - 2s - loss: 0.2578 - accuracy: 0.9010 - val_loss: 0.3060 - val_accuracy: 0.8833\n",
      "Epoch 6/100\n",
      "42/42 - 2s - loss: 0.2295 - accuracy: 0.9117 - val_loss: 0.3049 - val_accuracy: 0.8820\n",
      "Epoch 7/100\n",
      "42/42 - 2s - loss: 0.2067 - accuracy: 0.9226 - val_loss: 0.3093 - val_accuracy: 0.8803\n",
      "Epoch 8/100\n",
      "42/42 - 2s - loss: 0.1867 - accuracy: 0.9300 - val_loss: 0.3180 - val_accuracy: 0.8786\n",
      "Epoch 9/100\n",
      "42/42 - 2s - loss: 0.1701 - accuracy: 0.9374 - val_loss: 0.3305 - val_accuracy: 0.8751\n",
      "Epoch 10/100\n",
      "42/42 - 2s - loss: 0.1559 - accuracy: 0.9434 - val_loss: 0.3471 - val_accuracy: 0.8729\n",
      "28/28 - 0s - loss: 0.3556 - accuracy: 0.8704\n",
      "Epoch 1/100\n",
      "42/42 - 3s - loss: 0.5522 - accuracy: 0.8256 - val_loss: 0.4918 - val_accuracy: 0.8555\n",
      "Epoch 2/100\n",
      "42/42 - 2s - loss: 0.4458 - accuracy: 0.8579 - val_loss: 0.4023 - val_accuracy: 0.8586\n",
      "Epoch 3/100\n",
      "42/42 - 2s - loss: 0.3504 - accuracy: 0.8695 - val_loss: 0.3400 - val_accuracy: 0.8703\n",
      "Epoch 4/100\n",
      "42/42 - 2s - loss: 0.2923 - accuracy: 0.8872 - val_loss: 0.3183 - val_accuracy: 0.8741\n",
      "Epoch 5/100\n",
      "42/42 - 2s - loss: 0.2573 - accuracy: 0.9001 - val_loss: 0.3110 - val_accuracy: 0.8786\n",
      "Epoch 6/100\n",
      "42/42 - 2s - loss: 0.2319 - accuracy: 0.9106 - val_loss: 0.3120 - val_accuracy: 0.8770\n",
      "Epoch 7/100\n",
      "42/42 - 2s - loss: 0.2107 - accuracy: 0.9202 - val_loss: 0.3167 - val_accuracy: 0.8777\n",
      "Epoch 8/100\n",
      "42/42 - 2s - loss: 0.1925 - accuracy: 0.9278 - val_loss: 0.3254 - val_accuracy: 0.8729\n",
      "Epoch 9/100\n",
      "42/42 - 2s - loss: 0.1770 - accuracy: 0.9337 - val_loss: 0.3367 - val_accuracy: 0.8721\n",
      "Epoch 10/100\n",
      "42/42 - 2s - loss: 0.1633 - accuracy: 0.9404 - val_loss: 0.3516 - val_accuracy: 0.8697\n",
      "28/28 - 0s - loss: 0.3493 - accuracy: 0.8721\n",
      "Epoch 1/100\n",
      "63/63 - 4s - loss: 0.5092 - accuracy: 0.8548 - val_loss: 0.4287 - val_accuracy: 0.8571\n",
      "Epoch 2/100\n",
      "63/63 - 3s - loss: 0.3739 - accuracy: 0.8591 - val_loss: 0.3418 - val_accuracy: 0.8612\n",
      "Epoch 3/100\n",
      "63/63 - 3s - loss: 0.3018 - accuracy: 0.8788 - val_loss: 0.3100 - val_accuracy: 0.8809\n",
      "Epoch 4/100\n",
      "63/63 - 3s - loss: 0.2627 - accuracy: 0.8960 - val_loss: 0.3014 - val_accuracy: 0.8868\n",
      "Epoch 5/100\n",
      "63/63 - 3s - loss: 0.2361 - accuracy: 0.9068 - val_loss: 0.3016 - val_accuracy: 0.8873\n",
      "Epoch 6/100\n",
      "63/63 - 3s - loss: 0.2150 - accuracy: 0.9165 - val_loss: 0.3085 - val_accuracy: 0.8841\n",
      "Epoch 7/100\n",
      "63/63 - 3s - loss: 0.1979 - accuracy: 0.9245 - val_loss: 0.3188 - val_accuracy: 0.8808\n",
      "Epoch 8/100\n",
      "63/63 - 3s - loss: 0.1837 - accuracy: 0.9301 - val_loss: 0.3313 - val_accuracy: 0.8761\n",
      "Epoch 9/100\n",
      "63/63 - 3s - loss: 0.1710 - accuracy: 0.9354 - val_loss: 0.3477 - val_accuracy: 0.8740\n"
     ]
    },
    {
     "data": {
      "text/plain": [
       "GridSearchCV(cv=3,\n",
       "             estimator=<tensorflow.python.keras.wrappers.scikit_learn.KerasClassifier object at 0x000001D687851E80>,\n",
       "             param_grid={})"
      ]
     },
     "execution_count": 19,
     "metadata": {},
     "output_type": "execute_result"
    }
   ],
   "source": [
    "def build_classifier():\n",
    "    return build_model(hub_layer=None, pre_trained_model_name=MODEL_NAME, model_type='classifier', verbose=0)\n",
    "\n",
    "\n",
    "estimator = KerasClassifier(build_fn=build_classifier, epochs=100, batch_size=1024, verbose=2, validation_split=VAL_FRACTION)\n",
    "x_train_clf = np.array(list(rated_comments.value))\n",
    "y_train_clf = np.array(list((rated_comments.rating.astype(float)>=GOOD_REVIEW_THRESHOLD).astype(int)))\n",
    "\n",
    "clf = GridSearchCV(\n",
    "    estimator, \n",
    "    cv=3, \n",
    "    param_grid={}\n",
    ")\n",
    "clf.fit(x_train_clf, y_train_clf, callbacks=[tf.keras.callbacks.EarlyStopping(monitor='val_accuracy', patience=5, min_delta=0.001)])"
   ]
  },
  {
   "cell_type": "code",
   "execution_count": 20,
   "metadata": {},
   "outputs": [],
   "source": [
    "classifier = clf.best_estimator_\n",
    "classifier_history_dict = classifier.model.history.history"
   ]
  },
  {
   "cell_type": "code",
   "execution_count": 21,
   "metadata": {},
   "outputs": [
    {
     "data": {
      "text/plain": [
       "dict_keys(['loss', 'accuracy', 'val_loss', 'val_accuracy'])"
      ]
     },
     "execution_count": 21,
     "metadata": {},
     "output_type": "execute_result"
    }
   ],
   "source": [
    "classifier_history_dict.keys()"
   ]
  },
  {
   "cell_type": "code",
   "execution_count": 22,
   "metadata": {},
   "outputs": [],
   "source": [
    "acc = classifier_history_dict['accuracy']\n",
    "val_acc = classifier_history_dict['val_accuracy']\n",
    "loss = classifier_history_dict['loss']\n",
    "val_loss = classifier_history_dict['val_loss']"
   ]
  },
  {
   "cell_type": "code",
   "execution_count": 23,
   "metadata": {},
   "outputs": [],
   "source": [
    "epochs = range(1, len(acc) + 1) "
   ]
  },
  {
   "cell_type": "code",
   "execution_count": 24,
   "metadata": {},
   "outputs": [
    {
     "data": {
      "image/png": "[encoded data removed]",
      "text/plain": [
       "<Figure size 648x360 with 1 Axes>"
      ]
     },
     "metadata": {
      "needs_background": "light"
     },
     "output_type": "display_data"
    }
   ],
   "source": [
    "# \"bo\" is for \"blue dot\"\n",
    "plt.figure(figsize=(9, 5))\n",
    "plt.plot(epochs, loss, 'bo', label='Training loss')\n",
    "# b is for \"solid blue line\"\n",
    "plt.plot(epochs, val_loss, 'b', label='Validation loss')\n",
    "plt.title('Training and validation loss')\n",
    "plt.xlabel('Epochs')\n",
    "plt.ylabel('Loss')\n",
    "plt.grid(True)\n",
    "plt.legend()\n",
    "\n",
    "plt.show()"
   ]
  },
  {
   "cell_type": "code",
   "execution_count": 25,
   "metadata": {},
   "outputs": [
    {
     "data": {
      "image/png": "[encoded data removed]",
      "text/plain": [
       "<Figure size 648x360 with 1 Axes>"
      ]
     },
     "metadata": {
      "needs_background": "light"
     },
     "output_type": "display_data"
    }
   ],
   "source": [
    "plt.figure(figsize=(9, 5))\n",
    "plt.plot(epochs, acc, 'bo', label='Training acc')\n",
    "plt.plot(epochs, val_acc, 'b', label='Validation acc')\n",
    "plt.title('Training and validation accuracy')\n",
    "plt.xlabel('Epochs')\n",
    "plt.ylabel('Accuracy')\n",
    "plt.grid(True)\n",
    "plt.legend()\n",
    "\n",
    "plt.show()"
   ]
  },
  {
   "cell_type": "code",
   "execution_count": 26,
   "metadata": {},
   "outputs": [
    {
     "name": "stdout",
     "output_type": "stream",
     "text": [
      "input:\n",
      "\"Played at Gencon 2017  - don’t think I want to own this one.\"\n",
      "score: 1.000000\n",
      "actual: 1\n",
      "\n",
      "input:\n",
      "\"Entry was a bit hard, best with somebody who can explain the rules. The first rounds then was very good!\"\n",
      "score: 1.000000\n",
      "actual: 1\n",
      "\n",
      "input:\n",
      "\"after 10 plays still having a blast, a lighter worker placement which looks great and is easier to teach and play than most euro games.\"\n",
      "score: 1.000000\n",
      "actual: 1\n",
      "\n",
      "input:\n",
      "\"Okay. In my opinion, this game is just perfect. Why?  - Choose your own battle everytime: choose a villain to fight, choose your hero, build your deck (or pick a premade one), and give it a swing. It's tons of fun to figure out the strengths and weaknesses of both villains and heroes, and adapt to that. The four different aspects work very well with this. - Puzzly gameplay, with tons of (crucial) decisions to make every game.  - Thematically very strong, combined with beautiful, high-quality art.  - Every hero feels unique and playstyle matches very well with the heroes.  - The best solo-gaming experience I have had to date. This actually makes me want to play solo, and not even a bit. If only I would've had more time.. :'). 2- player co-op is just as awesome too. - Games take anywhere between 30 and 60 mins for solo, 90 to 120 mins for 2 player co-op. Not too short, not too long.   - It's a living card game; this game will be flooded with new content. Tight budget or not enough time? Just add in the heroes/villains you're interested in. Story boxes will be coming out as well.  Downside is price though.    I've never had so much fun with any solo board game before. 9/10.  Buy it folks!\"\n",
      "score: 1.000000\n",
      "actual: 1\n",
      "\n",
      "input:\n",
      "\"Yet to be played (Jan 2020.  It does have that feel of Kickstarter excess and the need for a bit more refinement, but I enjoyed it (Rating 6.442, March 2021)\"\n",
      "score: 1.000000\n",
      "actual: 0\n",
      "\n",
      "input:\n",
      "\"Smart game with easy rules, but it could be more thematic. Point scoring is too abstract, new players just don't understand it in their first game session. Still, I like Concordia very much.\"\n",
      "score: 1.000000\n",
      "actual: 1\n",
      "\n",
      "input:\n",
      "\"N+Y, J+K\"\n",
      "score: 1.000000\n",
      "actual: 1\n",
      "\n",
      "input:\n",
      "\"Love the style and theme! -1 very random -1 not much interaction with other players\"\n",
      "score: 1.000000\n",
      "actual: 1\n",
      "\n",
      "input:\n",
      "\"Probably the most tolerable Feld game. The dice drafting and placement is interesting and the game feels a little more cohesive than many of his other designs (Trajan, ugh). The feeling of creating combos and completing a template  add to the enjoyment.\"\n",
      "score: 0.000000\n",
      "actual: 0\n",
      "\n",
      "input:\n",
      "\"Love the storytelling, differing mechanisms from scenario to scenario, and theme.  Difficulty can be a little frustrating at times, but I've only used the base deck builds.  Looking forward to building some of my own decks and exploring more stories.\"\n",
      "score: 1.000000\n",
      "actual: 1\n"
     ]
    },
    {
     "name": "stderr",
     "output_type": "stream",
     "text": [
      "C:\\Users\\dev999\\.conda\\envs\\tensorflow2\\lib\\site-packages\\tensorflow\\python\\keras\\engine\\sequential.py:455: UserWarning: `model.predict_classes()` is deprecated and will be removed after 2021-01-01. Please use instead:* `np.argmax(model.predict(x), axis=-1)`,   if your model does multi-class classification   (e.g. if it uses a `softmax` last-layer activation).* `(model.predict(x) > 0.5).astype(\"int32\")`,   if your model does binary classification   (e.g. if it uses a `sigmoid` last-layer activation).\n",
      "  warnings.warn('`model.predict_classes()` is deprecated and '\n"
     ]
    }
   ],
   "source": [
    "inputs = x_train_clf[:10]\n",
    "outputs = y_train_clf[:10]\n",
    "results = classifier.predict(tf.constant(inputs), verbose=0)\n",
    "print_my_examples(inputs, results, outputs)"
   ]
  },
  {
   "cell_type": "code",
   "execution_count": 27,
   "metadata": {},
   "outputs": [],
   "source": [
    "## APPLY MODEL ON NON-RATED COMMENTS"
   ]
  },
  {
   "cell_type": "code",
   "execution_count": 28,
   "metadata": {},
   "outputs": [
    {
     "name": "stdout",
     "output_type": "stream",
     "text": [
      "8/8 - 0s\n",
      "input:\n",
      "\"X-Tides of Ruin + Mac’s Journal + 3D Resources\"\n",
      "score: 1.000000\n",
      "\n",
      "input:\n",
      "\"only played once, jury's still out \"\n",
      "score: 1.000000\n",
      "\n",
      "input:\n",
      "\"I've never actually played this, but I'd like to in a year or so. \"\n",
      "score: 0.000000\n",
      "\n",
      "input:\n",
      "\"2/16/20 Pre-ordered (2) on GN for $35 each. Will be released on 3/19/20 4/28/20 Sold (1) on K for $40. Keeping the other (1)\"\n",
      "score: 1.000000\n",
      "\n",
      "input:\n",
      "\"Loc: Display Shelf  James: \"A long but rewarding game of corporations vying for prestige while greening the red planet. Worth it for any serious gamer. Intermediate.\"\"\n",
      "score: 1.000000\n",
      "\n",
      "input:\n",
      "\"- Kickstarter. Art Connossieur. Edición Limitada y   numerada.  Extras: -Pack actualización de idioma completo al castellano. -Monedas 2$ x15 -Monedas 50$ x7 -Todos los diales de poder para el Básico e Invasores de   Tierras Lejanas. -Promo Cartas de Encuentro: 29-42 -Promo Cartas Factoría: 13-18 -Promo Cartas Objetivo: 24-27  Expansiones: -Scyhte: Invasores de Tierras Lejanas. -Scythe: Vientos de Guerra y Paz. -Scythe: El Auge de Fenris.\"\n",
      "score: 1.000000\n",
      "\n",
      "input:\n",
      "\"Action Drafting Area Majority / Influence Area-Impulse Dice Rolling Follow Grid Movement Hexagon Grid Modular Board Trading Variable Phase Order Variable Player Powers Voting\"\n",
      "score: 1.000000\n",
      "\n",
      "input:\n",
      "\"A little to convoluted for my tastes. I will play this if everyone else want to get it to the table. Wonderful presentation though.\"\n",
      "score: 0.000000\n",
      "\n",
      "input:\n",
      "\"9/9/19 - picked up from TRG at a super price\"\n",
      "score: 1.000000\n",
      "\n",
      "input:\n",
      "\"Nemesis je sci-fi hra na přežití pro 1 až 5 hráčů. Probudíte se z hibernace jako posádka vesmírné lodi. Nouzový protokol hlásí, že došlo ke kritickému chybě, která způsobila selhání celého systému a loď nemůže pokračovat v cestě. Cílem posádky je najít a odstranit tuto chybu, abyste se mohli bezpečně vrátit na Zemi. Problém je ale v tom, že jeden člen posádky je mrtev. Někdo rozmlátil jeho kryokomoru a vytáhl jeho tělo ven. Navíc, když se pozorně zaposloucháte, občas zaslechnete podivné zvuky. Nové, děsivé, takové, které jste nikdy dosud neslyšeli.\"\n",
      "score: 1.000000\n"
     ]
    }
   ],
   "source": [
    "not_rated_comments = not_rated_comments.sample(frac=1)\n",
    "results = classifier.predict(tf.constant(list(not_rated_comments.value.astype(str))))\n",
    "print_my_examples(list(not_rated_comments.value), results, limit=10)"
   ]
  },
  {
   "cell_type": "markdown",
   "metadata": {},
   "source": [
    "## REGRESSOR"
   ]
  },
  {
   "cell_type": "code",
   "execution_count": 29,
   "metadata": {},
   "outputs": [
    {
     "data": {
      "text/plain": [
       "GridSearchCV(cv=3,\n",
       "             estimator=<tensorflow.python.keras.wrappers.scikit_learn.KerasRegressor object at 0x000001D9942AE700>,\n",
       "             param_grid={})"
      ]
     },
     "execution_count": 29,
     "metadata": {},
     "output_type": "execute_result"
    }
   ],
   "source": [
    "def build_regressor():\n",
    "    return build_model(hub_layer, pre_trained_model_name=MODEL_NAME, model_type='regressor', verbose=0)\n",
    "\n",
    "\n",
    "estimator = KerasRegressor(build_fn=build_regressor, epochs=100, batch_size=512, verbose=0, validation_split=VAL_FRACTION)\n",
    "x_train_reg = np.array(list(rated_comments.value))\n",
    "y_train_reg = np.array(list(rated_comments.rating.astype(float)))\n",
    "\n",
    "clf = GridSearchCV(\n",
    "    estimator, \n",
    "    cv=3, \n",
    "    param_grid={}\n",
    ")\n",
    "clf.fit(x_train_reg, y_train_reg, callbacks=[tf.keras.callbacks.EarlyStopping(monitor='val_mean_squared_error', patience=5, min_delta=0.001)])"
   ]
  },
  {
   "cell_type": "code",
   "execution_count": 30,
   "metadata": {},
   "outputs": [],
   "source": [
    "regressor = clf.best_estimator_\n",
    "regressor_history_dict = regressor.model.history.history"
   ]
  },
  {
   "cell_type": "code",
   "execution_count": 31,
   "metadata": {},
   "outputs": [
    {
     "data": {
      "text/plain": [
       "dict_keys(['loss', 'mean_squared_error', 'val_loss', 'val_mean_squared_error'])"
      ]
     },
     "execution_count": 31,
     "metadata": {},
     "output_type": "execute_result"
    }
   ],
   "source": [
    "regressor_history_dict.keys()"
   ]
  },
  {
   "cell_type": "code",
   "execution_count": 32,
   "metadata": {},
   "outputs": [],
   "source": [
    "mean_squared_error = regressor_history_dict['mean_squared_error']\n",
    "val_mean_squared_error = regressor_history_dict['val_mean_squared_error']\n",
    "loss = regressor_history_dict['loss']\n",
    "val_loss = regressor_history_dict['val_loss']"
   ]
  },
  {
   "cell_type": "code",
   "execution_count": 33,
   "metadata": {},
   "outputs": [],
   "source": [
    "epochs = range(1, len(mean_squared_error) + 1) "
   ]
  },
  {
   "cell_type": "code",
   "execution_count": 34,
   "metadata": {},
   "outputs": [
    {
     "name": "stdout",
     "output_type": "stream",
     "text": [
      "MEAN SQUARED ERROR (VALIDATION SET): 2.36\n"
     ]
    }
   ],
   "source": [
    "print(f\"MEAN SQUARED ERROR (VALIDATION SET): {val_mean_squared_error[-1]:.2f}\")"
   ]
  },
  {
   "cell_type": "code",
   "execution_count": 35,
   "metadata": {},
   "outputs": [
    {
     "name": "stdout",
     "output_type": "stream",
     "text": [
      "MEAN SQUARED ERROR (TRAINING SET): 1.02\n"
     ]
    }
   ],
   "source": [
    "print(f\"MEAN SQUARED ERROR (TRAINING SET): {mean_squared_error[-1]:.2f}\")"
   ]
  },
  {
   "cell_type": "code",
   "execution_count": 36,
   "metadata": {},
   "outputs": [
    {
     "data": {
      "image/png": "[encoded data removed]",
      "text/plain": [
       "<Figure size 648x360 with 1 Axes>"
      ]
     },
     "metadata": {
      "needs_background": "light"
     },
     "output_type": "display_data"
    }
   ],
   "source": [
    "# \"bo\" is for \"blue dot\"\n",
    "plt.figure(figsize=(9, 5))\n",
    "plt.plot(epochs, loss, 'bo', label='Training loss')\n",
    "# b is for \"solid blue line\"\n",
    "plt.plot(epochs, val_loss, 'b', label='Validation loss')\n",
    "plt.title('Training and validation loss')\n",
    "plt.xlabel('Epochs')\n",
    "plt.ylabel('Loss')\n",
    "plt.grid(True)\n",
    "plt.legend()\n",
    "\n",
    "plt.show()"
   ]
  },
  {
   "cell_type": "code",
   "execution_count": 37,
   "metadata": {},
   "outputs": [
    {
     "data": {
      "image/png": "[encoded data removed]",
      "text/plain": [
       "<Figure size 648x360 with 1 Axes>"
      ]
     },
     "metadata": {
      "needs_background": "light"
     },
     "output_type": "display_data"
    }
   ],
   "source": [
    "plt.figure(figsize=(9, 5))\n",
    "plt.plot(epochs, mean_squared_error, 'bo', label='Training mean squared error')\n",
    "plt.plot(epochs, val_mean_squared_error, 'b', label='Validation mean squared error')\n",
    "plt.title('Training and validation accuracy')\n",
    "plt.xlabel('Epochs')\n",
    "plt.ylabel('Mean squared error')\n",
    "plt.grid(True)\n",
    "plt.legend()\n",
    "\n",
    "plt.show()"
   ]
  },
  {
   "cell_type": "code",
   "execution_count": 38,
   "metadata": {},
   "outputs": [
    {
     "name": "stdout",
     "output_type": "stream",
     "text": [
      "input: \n",
      "\"Played at Gencon 2017  - don’t think I want to own this one.\"\n",
      "score: 7.86\n",
      "actual: 8.00 \n",
      "\n",
      "input: \n",
      "\"Entry was a bit hard, best with somebody who can explain the rules. The first rounds then was very good!\"\n",
      "score: 10.36\n",
      "actual: 9.00 \n",
      "\n",
      "input: \n",
      "\"after 10 plays still having a blast, a lighter worker placement which looks great and is easier to teach and play than most euro games.\"\n",
      "score: 8.95\n",
      "actual: 9.00 \n",
      "\n",
      "input: \n",
      "\"Okay. In my opinion, this game is just perfect. Why?  - Choose your own battle everytime: choose a villain to fight, choose your hero, build your deck (or pick a premade one), and give it a swing. It's tons of fun to figure out the strengths and weaknesses of both villains and heroes, and adapt to that. The four different aspects work very well with this. - Puzzly gameplay, with tons of (crucial) decisions to make every game.  - Thematically very strong, combined with beautiful, high-quality art.  - Every hero feels unique and playstyle matches very well with the heroes.  - The best solo-gaming experience I have had to date. This actually makes me want to play solo, and not even a bit. If only I would've had more time.. :'). 2- player co-op is just as awesome too. - Games take anywhere between 30 and 60 mins for solo, 90 to 120 mins for 2 player co-op. Not too short, not too long.   - It's a living card game; this game will be flooded with new content. Tight budget or not enough time? Just add in the heroes/villains you're interested in. Story boxes will be coming out as well.  Downside is price though.    I've never had so much fun with any solo board game before. 9/10.  Buy it folks!\"\n",
      "score: 8.51\n",
      "actual: 9.00 \n",
      "\n",
      "input: \n",
      "\"Yet to be played (Jan 2020.  It does have that feel of Kickstarter excess and the need for a bit more refinement, but I enjoyed it (Rating 6.442, March 2021)\"\n",
      "score: 7.30\n",
      "actual: 6.44 \n",
      "\n",
      "input: \n",
      "\"Smart game with easy rules, but it could be more thematic. Point scoring is too abstract, new players just don't understand it in their first game session. Still, I like Concordia very much.\"\n",
      "score: 7.70\n",
      "actual: 8.00 \n",
      "\n",
      "input: \n",
      "\"N+Y, J+K\"\n",
      "score: 8.10\n",
      "actual: 9.00 \n",
      "\n",
      "input: \n",
      "\"Love the style and theme! -1 very random -1 not much interaction with other players\"\n",
      "score: 7.45\n",
      "actual: 8.00 \n",
      "\n",
      "input: \n",
      "\"Probably the most tolerable Feld game. The dice drafting and placement is interesting and the game feels a little more cohesive than many of his other designs (Trajan, ugh). The feeling of creating combos and completing a template  add to the enjoyment.\"\n",
      "score: 6.77\n",
      "actual: 6.00 \n",
      "\n",
      "input: \n",
      "\"Love the storytelling, differing mechanisms from scenario to scenario, and theme.  Difficulty can be a little frustrating at times, but I've only used the base deck builds.  Looking forward to building some of my own decks and exploring more stories.\"\n",
      "score: 8.15\n",
      "actual: 9.00 \n",
      "\n"
     ]
    }
   ],
   "source": [
    "inputs = x_train_reg[:10]\n",
    "outputs = y_train_reg[:10]\n",
    "results = clf.best_estimator_.predict(tf.constant(inputs), verbose=0)\n",
    "for i in range(len(inputs)):\n",
    "    print(f\"input: \\n\\\"{inputs[i]}\\\"\\nscore: {results[i]:.2f}\\nactual: {outputs[i]:.2f} \\n\")"
   ]
  },
  {
   "cell_type": "markdown",
   "metadata": {},
   "source": [
    "## COMPARE CLASSIFIER VS REGRESSOR"
   ]
  },
  {
   "cell_type": "code",
   "execution_count": 55,
   "metadata": {},
   "outputs": [
    {
     "name": "stderr",
     "output_type": "stream",
     "text": [
      "C:\\Users\\dev999\\.conda\\envs\\tensorflow2\\lib\\site-packages\\tensorflow\\python\\keras\\engine\\sequential.py:455: UserWarning: `model.predict_classes()` is deprecated and will be removed after 2021-01-01. Please use instead:* `np.argmax(model.predict(x), axis=-1)`,   if your model does multi-class classification   (e.g. if it uses a `softmax` last-layer activation).* `(model.predict(x) > 0.5).astype(\"int32\")`,   if your model does binary classification   (e.g. if it uses a `sigmoid` last-layer activation).\n",
      "  warnings.warn('`model.predict_classes()` is deprecated and '\n"
     ]
    },
    {
     "name": "stdout",
     "output_type": "stream",
     "text": [
      "\"Hellas & Elysium Kolonien Konzerne Mini-Erweiterung Nächster Halt: Venus Präludium\"\n",
      "    reg score: 9.06\n",
      "    clf score: 1\n",
      "\n",
      "\"Premium Health Chips Leather Dice Trays Liberation Logbook Adventure Map\"\n",
      "    reg score: 6.42\n",
      "    clf score: 1\n",
      "\n",
      "\"The theme is too scary for kids (and us prude adults)\"\n",
      "    reg score: 7.91\n",
      "    clf score: 1\n",
      "\n",
      "\"Kickstarter - Thematic 1. Voidseekers & Aftermath 2. Terrain Expansion 3. Carnomorphs\"\n",
      "    reg score: 8.54\n",
      "    clf score: 1\n",
      "\n",
      "\"(2nd Edition) Kickstarter - shipping Aug 2017.\"\n",
      "    reg score: 8.00\n",
      "    clf score: 1\n",
      "\n",
      "\"Matthew is getting this for Christmas\"\n",
      "    reg score: 9.26\n",
      "    clf score: 1\n",
      "\n",
      "\"\"In Oath, there are no fancy production tricks, app-assisted mechanisms or production gimmicks.\"  is exactly what I like to hear from a [b]board game[/b] designer.\"\n",
      "    reg score: 8.41\n",
      "    clf score: 0\n",
      "\n",
      "\"$91 for the base game and Riverfolk expansion. 2019 expansions not yet available.\"\n",
      "    reg score: 8.00\n",
      "    clf score: 1\n",
      "\n",
      "\"fun for two people. Beautiful design. Non-sci-fi theme good for spouse\"\n",
      "    reg score: 8.22\n",
      "    clf score: 1\n",
      "\n",
      "\"Manufacturer Players: 1-5 Community Players: 1-4 Best Players: 3-4 Play Time: 120 Age: 12 Weight: 3.25 \"\n",
      "    reg score: 8.09\n",
      "    clf score: 1\n",
      "\n"
     ]
    }
   ],
   "source": [
    "not_rated_comments = not_rated_comments.sample(frac=1)\n",
    "inputs = list(not_rated_comments.value.astype(str))[:10]\n",
    "\n",
    "clf_results = classifier.predict(inputs, verbose=0)\n",
    "reg_results = regressor.predict(inputs, verbose=0)\n",
    "for i in range(len(inputs)):\n",
    "    print(f\"\"\"\\\"{inputs[i]}\\\"\n",
    "    reg score: {reg_results[i]:.2f}\n",
    "    clf score: {clf_results[i][0]}\n",
    "\"\"\")"
   ]
  },
  {
   "cell_type": "markdown",
   "metadata": {},
   "source": [
    "### RESULTS\n",
    "It seems that the regressor is much more accurate compared to the binary classifier => **let's use the regressors results to fix the BGG rating**"
   ]
  },
  {
   "cell_type": "markdown",
   "metadata": {},
   "source": [
    "## COMBINE RATED COMMENTS AND NOT-RATED COMMENTS WITH PREDICTED RATING"
   ]
  },
  {
   "cell_type": "code",
   "execution_count": 40,
   "metadata": {},
   "outputs": [
    {
     "name": "stdout",
     "output_type": "stream",
     "text": [
      "rated_comments_grouped: \n",
      "|     id |   rating_mean |   rating_count |\n",
      "|--------|---------------|----------------|\n",
      "| 124361 |          8.18 |           3862 |\n",
      "| 162886 |          8.36 |           3543 |\n",
      "| 167355 |          8.42 |           1841 |\n",
      "| 167791 |          8.21 |           8297 |\n",
      "| 169427 |          8.65 |            240 |\n"
     ]
    }
   ],
   "source": [
    "rated_comments['rating'] = rated_comments.rating.astype(float)\n",
    "rated_comments_grouped = rated_comments.groupby('id').agg({'rating': ['mean', 'count']})\n",
    "rated_comments_grouped.columns = list(rated_comments_grouped.columns.map('_'.join))\n",
    "rated_comments_grouped = rated_comments_grouped.reset_index()\n",
    "print(\"rated_comments_grouped: \")\n",
    "print(rated_comments_grouped.head().to_markdown(index=False, floatfmt='.2f', tablefmt='github'))"
   ]
  },
  {
   "cell_type": "code",
   "execution_count": 41,
   "metadata": {},
   "outputs": [],
   "source": [
    "not_rated_comments['rating'] = regressor.predict(list(not_rated_comments.value.astype(str)))"
   ]
  },
  {
   "cell_type": "code",
   "execution_count": 42,
   "metadata": {},
   "outputs": [
    {
     "name": "stdout",
     "output_type": "stream",
     "text": [
      "not_rated_comments_grouped: \n",
      "|     id |   rating_mean |   rating_count |\n",
      "|--------|---------------|----------------|\n",
      "| 124361 |          8.04 |            255 |\n",
      "| 162886 |          8.10 |            319 |\n",
      "| 167355 |          8.23 |            216 |\n",
      "| 167791 |          8.19 |            440 |\n",
      "| 169427 |          8.23 |             74 |\n"
     ]
    }
   ],
   "source": [
    "not_rated_comments['rating'] = not_rated_comments.rating.astype(float)\n",
    "not_rated_comments['rating'] = not_rated_comments['rating'].clip(0, 10)\n",
    "not_rated_comments_grouped = not_rated_comments.groupby('id').agg({'rating': ['mean', 'count']})\n",
    "not_rated_comments_grouped.columns = list(not_rated_comments_grouped.columns.map('_'.join))\n",
    "not_rated_comments_grouped = not_rated_comments_grouped.reset_index()\n",
    "print(\"not_rated_comments_grouped: \")\n",
    "print(not_rated_comments_grouped.head().to_markdown(index=False, floatfmt='.2f', tablefmt='github'))"
   ]
  },
  {
   "cell_type": "code",
   "execution_count": 43,
   "metadata": {},
   "outputs": [],
   "source": [
    "grouped = rated_comments_grouped.merge(not_rated_comments_grouped, on='id', suffixes=('_review', '_comments'), how='outer')\n",
    "grouped['id'] = grouped.id.astype(str)\n",
    "grouped = grouped.merge(pd.DataFrame(hot_array), on='id', how='right')\n",
    "grouped['rank'] = grouped['rank'].astype(int)\n",
    "grouped['url'] = grouped['id'].apply(lambda x: f\"https://boardgamegeek.com/boardgame/{x}\")\n",
    "grouped['fixed_rating'] = (grouped['rating_mean_review']*grouped['rating_count_review']+grouped['rating_mean_comments']*grouped['rating_count_comments']) /\\\n",
    "                            (grouped['rating_count_review']+grouped['rating_count_comments'])\n",
    "grouped['thumbnail'] = grouped['thumbnail'].apply(lambda x: f'<img src=\"{x}\" width=\"124\" />')\n",
    "grouped['name'] = grouped.apply(lambda x: f'<a href=\"{x[\"url\"]}\">{x[\"name\"]}</a>', axis=1)\n",
    "\n",
    "grouped = grouped[['thumbnail', 'name', 'rating_mean_review', 'rating_mean_comments', 'fixed_rating', 'rank', 'yearpublished']]"
   ]
  },
  {
   "cell_type": "code",
   "execution_count": 44,
   "metadata": {},
   "outputs": [
    {
     "data": {
      "text/html": [
       "<div>\n",
       "<style scoped>\n",
       "    .dataframe tbody tr th:only-of-type {\n",
       "        vertical-align: middle;\n",
       "    }\n",
       "\n",
       "    .dataframe tbody tr th {\n",
       "        vertical-align: top;\n",
       "    }\n",
       "\n",
       "    .dataframe thead th {\n",
       "        text-align: right;\n",
       "    }\n",
       "</style>\n",
       "<table border=\"1\" class=\"dataframe\">\n",
       "  <thead>\n",
       "    <tr style=\"text-align: right;\">\n",
       "      <th></th>\n",
       "      <th>thumbnail</th>\n",
       "      <th>name</th>\n",
       "      <th>rating_mean_review</th>\n",
       "      <th>rating_mean_comments</th>\n",
       "      <th>fixed_rating</th>\n",
       "      <th>rank</th>\n",
       "      <th>yearpublished</th>\n",
       "    </tr>\n",
       "  </thead>\n",
       "  <tbody>\n",
       "    <tr>\n",
       "      <th>0</th>\n",
       "      <td>&lt;img src=\"https://cf.geekdo-images.com/GGXq2lR...</td>\n",
       "      <td>&lt;a href=\"https://boardgamegeek.com/boardgame/2...</td>\n",
       "      <td>6.200000</td>\n",
       "      <td>7.217156</td>\n",
       "      <td>6.899295</td>\n",
       "      <td>1</td>\n",
       "      <td>NaN</td>\n",
       "    </tr>\n",
       "    <tr>\n",
       "      <th>1</th>\n",
       "      <td>&lt;img src=\"https://cf.geekdo-images.com/gTxav_K...</td>\n",
       "      <td>&lt;a href=\"https://boardgamegeek.com/boardgame/2...</td>\n",
       "      <td>7.796790</td>\n",
       "      <td>8.036068</td>\n",
       "      <td>7.874555</td>\n",
       "      <td>2</td>\n",
       "      <td>2021</td>\n",
       "    </tr>\n",
       "    <tr>\n",
       "      <th>2</th>\n",
       "      <td>&lt;img src=\"https://cf.geekdo-images.com/4Kr0Rer...</td>\n",
       "      <td>&lt;a href=\"https://boardgamegeek.com/boardgame/3...</td>\n",
       "      <td>7.500000</td>\n",
       "      <td>NaN</td>\n",
       "      <td>NaN</td>\n",
       "      <td>3</td>\n",
       "      <td>2021</td>\n",
       "    </tr>\n",
       "    <tr>\n",
       "      <th>3</th>\n",
       "      <td>&lt;img src=\"https://cf.geekdo-images.com/6GqH14T...</td>\n",
       "      <td>&lt;a href=\"https://boardgamegeek.com/boardgame/3...</td>\n",
       "      <td>7.804898</td>\n",
       "      <td>7.978825</td>\n",
       "      <td>7.819092</td>\n",
       "      <td>4</td>\n",
       "      <td>2020</td>\n",
       "    </tr>\n",
       "    <tr>\n",
       "      <th>4</th>\n",
       "      <td>&lt;img src=\"https://cf.geekdo-images.com/NPWdxDD...</td>\n",
       "      <td>&lt;a href=\"https://boardgamegeek.com/boardgame/3...</td>\n",
       "      <td>7.927143</td>\n",
       "      <td>7.393061</td>\n",
       "      <td>7.766918</td>\n",
       "      <td>5</td>\n",
       "      <td>2020</td>\n",
       "    </tr>\n",
       "  </tbody>\n",
       "</table>\n",
       "</div>"
      ],
      "text/plain": [
       "                                           thumbnail  \\\n",
       "0  <img src=\"https://cf.geekdo-images.com/GGXq2lR...   \n",
       "1  <img src=\"https://cf.geekdo-images.com/gTxav_K...   \n",
       "2  <img src=\"https://cf.geekdo-images.com/4Kr0Rer...   \n",
       "3  <img src=\"https://cf.geekdo-images.com/6GqH14T...   \n",
       "4  <img src=\"https://cf.geekdo-images.com/NPWdxDD...   \n",
       "\n",
       "                                                name  rating_mean_review  \\\n",
       "0  <a href=\"https://boardgamegeek.com/boardgame/2...            6.200000   \n",
       "1  <a href=\"https://boardgamegeek.com/boardgame/2...            7.796790   \n",
       "2  <a href=\"https://boardgamegeek.com/boardgame/3...            7.500000   \n",
       "3  <a href=\"https://boardgamegeek.com/boardgame/3...            7.804898   \n",
       "4  <a href=\"https://boardgamegeek.com/boardgame/3...            7.927143   \n",
       "\n",
       "   rating_mean_comments  fixed_rating  rank yearpublished  \n",
       "0              7.217156      6.899295     1           NaN  \n",
       "1              8.036068      7.874555     2          2021  \n",
       "2                   NaN           NaN     3          2021  \n",
       "3              7.978825      7.819092     4          2020  \n",
       "4              7.393061      7.766918     5          2020  "
      ]
     },
     "execution_count": 44,
     "metadata": {},
     "output_type": "execute_result"
    }
   ],
   "source": [
    "grouped.head()"
   ]
  },
  {
   "cell_type": "code",
   "execution_count": 45,
   "metadata": {},
   "outputs": [],
   "source": [
    "def display_topn(by, n=5, ascending=True):\n",
    "    temp_df = grouped.sort_values(by, ascending=ascending).head(n)\n",
    "    temp_df.index=list(range(1, n+1))\n",
    "    return HTML(temp_df.to_html(escape=False, classes='table table-striped'))"
   ]
  },
  {
   "cell_type": "code",
   "execution_count": 46,
   "metadata": {},
   "outputs": [
    {
     "data": {
      "text/html": [
       "<table border=\"1\" class=\"dataframe table table-striped\">\n",
       "  <thead>\n",
       "    <tr style=\"text-align: right;\">\n",
       "      <th></th>\n",
       "      <th>thumbnail</th>\n",
       "      <th>name</th>\n",
       "      <th>rating_mean_review</th>\n",
       "      <th>rating_mean_comments</th>\n",
       "      <th>fixed_rating</th>\n",
       "      <th>rank</th>\n",
       "      <th>yearpublished</th>\n",
       "    </tr>\n",
       "  </thead>\n",
       "  <tbody>\n",
       "    <tr>\n",
       "      <th>1</th>\n",
       "      <td><img src=\"https://cf.geekdo-images.com/GGXq2lRAJCtS1yPPPmdVKw__thumb/img/-ERrbcuFZtzZSLfl8grcDi_pCgY=/fit-in/200x150/filters:strip_icc()/pic6205610.png\" width=\"124\" /></td>\n",
       "      <td><a href=\"https://boardgamegeek.com/boardgame/219650\">Arydia: The Paths We Dare Tread</a></td>\n",
       "      <td>6.200000</td>\n",
       "      <td>7.217156</td>\n",
       "      <td>6.899295</td>\n",
       "      <td>1</td>\n",
       "      <td>NaN</td>\n",
       "    </tr>\n",
       "    <tr>\n",
       "      <th>2</th>\n",
       "      <td><img src=\"https://cf.geekdo-images.com/gTxav_KKQK1rDg-XuCjCSA__thumb/img/tFTOAKG5aDXxYfNRmJNmfyxH83M=/fit-in/200x150/filters:strip_icc()/pic5164812.jpg\" width=\"124\" /></td>\n",
       "      <td><a href=\"https://boardgamegeek.com/boardgame/291572\">Oath: Chronicles of Empire and Exile</a></td>\n",
       "      <td>7.796790</td>\n",
       "      <td>8.036068</td>\n",
       "      <td>7.874555</td>\n",
       "      <td>2</td>\n",
       "      <td>2021</td>\n",
       "    </tr>\n",
       "    <tr>\n",
       "      <th>3</th>\n",
       "      <td><img src=\"https://cf.geekdo-images.com/4Kr0RereFqdS29qe-mNYkQ__thumb/img/HCQGvP8maKFhqx0cFvkJ18AYTx8=/fit-in/200x150/filters:strip_icc()/pic6192204.png\" width=\"124\" /></td>\n",
       "      <td><a href=\"https://boardgamegeek.com/boardgame/338697\">CATAN: 3D Edition</a></td>\n",
       "      <td>7.500000</td>\n",
       "      <td>NaN</td>\n",
       "      <td>NaN</td>\n",
       "      <td>3</td>\n",
       "      <td>2021</td>\n",
       "    </tr>\n",
       "    <tr>\n",
       "      <th>4</th>\n",
       "      <td><img src=\"https://cf.geekdo-images.com/6GqH14TJJhza86BX5HCLEQ__thumb/img/J8SVmGOJXZGxNjkT3xYNQU7Haxg=/fit-in/200x150/filters:strip_icc()/pic5674958.jpg\" width=\"124\" /></td>\n",
       "      <td><a href=\"https://boardgamegeek.com/boardgame/312484\">Lost Ruins of Arnak</a></td>\n",
       "      <td>7.804898</td>\n",
       "      <td>7.978825</td>\n",
       "      <td>7.819092</td>\n",
       "      <td>4</td>\n",
       "      <td>2020</td>\n",
       "    </tr>\n",
       "    <tr>\n",
       "      <th>5</th>\n",
       "      <td><img src=\"https://cf.geekdo-images.com/NPWdxDD5uLOBLBDdVgdLvA__thumb/img/7464PJPFWWPzsOUMvf8t860zct0=/fit-in/200x150/filters:strip_icc()/pic6034093.png\" width=\"124\" /></td>\n",
       "      <td><a href=\"https://boardgamegeek.com/boardgame/316412\">The LOOP</a></td>\n",
       "      <td>7.927143</td>\n",
       "      <td>7.393061</td>\n",
       "      <td>7.766918</td>\n",
       "      <td>5</td>\n",
       "      <td>2020</td>\n",
       "    </tr>\n",
       "  </tbody>\n",
       "</table>"
      ],
      "text/plain": [
       "<IPython.core.display.HTML object>"
      ]
     },
     "execution_count": 46,
     "metadata": {},
     "output_type": "execute_result"
    }
   ],
   "source": [
    "# TOP N RANK\n",
    "display_topn(by='rank', n=TOP_N)"
   ]
  },
  {
   "cell_type": "code",
   "execution_count": 47,
   "metadata": {},
   "outputs": [
    {
     "data": {
      "text/html": [
       "<table border=\"1\" class=\"dataframe table table-striped\">\n",
       "  <thead>\n",
       "    <tr style=\"text-align: right;\">\n",
       "      <th></th>\n",
       "      <th>thumbnail</th>\n",
       "      <th>name</th>\n",
       "      <th>rating_mean_review</th>\n",
       "      <th>rating_mean_comments</th>\n",
       "      <th>fixed_rating</th>\n",
       "      <th>rank</th>\n",
       "      <th>yearpublished</th>\n",
       "    </tr>\n",
       "  </thead>\n",
       "  <tbody>\n",
       "    <tr>\n",
       "      <th>1</th>\n",
       "      <td><img src=\"https://cf.geekdo-images.com/By59lVylKiQh_ICJUgK5Tg__thumb/img/a-AYlm8qtSbpqeqydP09w1Aorfw=/fit-in/200x150/filters:strip_icc()/pic6209785.jpg\" width=\"124\" /></td>\n",
       "      <td><a href=\"https://boardgamegeek.com/boardgame/314745\">Now or Never</a></td>\n",
       "      <td>10.000000</td>\n",
       "      <td>7.904535</td>\n",
       "      <td>8.603023</td>\n",
       "      <td>25</td>\n",
       "      <td>2021</td>\n",
       "    </tr>\n",
       "    <tr>\n",
       "      <th>2</th>\n",
       "      <td><img src=\"https://cf.geekdo-images.com/nhWSmNJSTBAye6bxLa9x-Q__thumb/img/B4r1iyRl2Z2CcMrtBRQOKYwwngw=/fit-in/200x150/filters:strip_icc()/pic4779069.jpg\" width=\"124\" /></td>\n",
       "      <td><a href=\"https://boardgamegeek.com/boardgame/268012\">Chronicles of Drunagor: Age of Darkness</a></td>\n",
       "      <td>9.183659</td>\n",
       "      <td>8.447287</td>\n",
       "      <td>9.118203</td>\n",
       "      <td>48</td>\n",
       "      <td>2021</td>\n",
       "    </tr>\n",
       "    <tr>\n",
       "      <th>3</th>\n",
       "      <td><img src=\"https://cf.geekdo-images.com/u4UwCa7BqtP1fTuTGXs6qQ__thumb/img/6PFTL9lMdEU7Xk4s9lDRBIIfK18=/fit-in/200x150/filters:strip_icc()/pic5873747.jpg\" width=\"124\" /></td>\n",
       "      <td><a href=\"https://boardgamegeek.com/boardgame/325490\">Concordia Solitaria</a></td>\n",
       "      <td>9.000000</td>\n",
       "      <td>7.817911</td>\n",
       "      <td>8.605970</td>\n",
       "      <td>45</td>\n",
       "      <td>2021</td>\n",
       "    </tr>\n",
       "    <tr>\n",
       "      <th>4</th>\n",
       "      <td><img src=\"https://cf.geekdo-images.com/Oh3kHw6lweg6ru71Q16h2Q__thumb/img/e9XZdQe1ZcPpaq4Gy31OoWBB_V0=/fit-in/200x150/filters:strip_icc()/pic5235277.jpg\" width=\"124\" /></td>\n",
       "      <td><a href=\"https://boardgamegeek.com/boardgame/246900\">Eclipse: Second Dawn for the Galaxy</a></td>\n",
       "      <td>8.720986</td>\n",
       "      <td>7.971991</td>\n",
       "      <td>8.606187</td>\n",
       "      <td>41</td>\n",
       "      <td>2020</td>\n",
       "    </tr>\n",
       "    <tr>\n",
       "      <th>5</th>\n",
       "      <td><img src=\"https://cf.geekdo-images.com/x3zxjr-Vw5iU4yDPg70Jgw__thumb/img/o18rjEemoWaVru9Y2TyPwuIaRfE=/fit-in/200x150/filters:strip_icc()/pic3490053.jpg\" width=\"124\" /></td>\n",
       "      <td><a href=\"https://boardgamegeek.com/boardgame/224517\">Brass: Birmingham</a></td>\n",
       "      <td>8.676880</td>\n",
       "      <td>8.099759</td>\n",
       "      <td>8.625436</td>\n",
       "      <td>21</td>\n",
       "      <td>2018</td>\n",
       "    </tr>\n",
       "  </tbody>\n",
       "</table>"
      ],
      "text/plain": [
       "<IPython.core.display.HTML object>"
      ]
     },
     "execution_count": 47,
     "metadata": {},
     "output_type": "execute_result"
    }
   ],
   "source": [
    "# TOP N REVIEW RANK\n",
    "display_topn(by='rating_mean_review', n=TOP_N, ascending=False)"
   ]
  },
  {
   "cell_type": "code",
   "execution_count": 48,
   "metadata": {},
   "outputs": [
    {
     "data": {
      "text/html": [
       "<table border=\"1\" class=\"dataframe table table-striped\">\n",
       "  <thead>\n",
       "    <tr style=\"text-align: right;\">\n",
       "      <th></th>\n",
       "      <th>thumbnail</th>\n",
       "      <th>name</th>\n",
       "      <th>rating_mean_review</th>\n",
       "      <th>rating_mean_comments</th>\n",
       "      <th>fixed_rating</th>\n",
       "      <th>rank</th>\n",
       "      <th>yearpublished</th>\n",
       "    </tr>\n",
       "  </thead>\n",
       "  <tbody>\n",
       "    <tr>\n",
       "      <th>1</th>\n",
       "      <td><img src=\"https://cf.geekdo-images.com/nhWSmNJSTBAye6bxLa9x-Q__thumb/img/B4r1iyRl2Z2CcMrtBRQOKYwwngw=/fit-in/200x150/filters:strip_icc()/pic4779069.jpg\" width=\"124\" /></td>\n",
       "      <td><a href=\"https://boardgamegeek.com/boardgame/268012\">Chronicles of Drunagor: Age of Darkness</a></td>\n",
       "      <td>9.183659</td>\n",
       "      <td>8.447287</td>\n",
       "      <td>9.118203</td>\n",
       "      <td>48</td>\n",
       "      <td>2021</td>\n",
       "    </tr>\n",
       "    <tr>\n",
       "      <th>2</th>\n",
       "      <td><img src=\"https://cf.geekdo-images.com/x3zxjr-Vw5iU4yDPg70Jgw__thumb/img/o18rjEemoWaVru9Y2TyPwuIaRfE=/fit-in/200x150/filters:strip_icc()/pic3490053.jpg\" width=\"124\" /></td>\n",
       "      <td><a href=\"https://boardgamegeek.com/boardgame/224517\">Brass: Birmingham</a></td>\n",
       "      <td>8.676880</td>\n",
       "      <td>8.099759</td>\n",
       "      <td>8.625436</td>\n",
       "      <td>21</td>\n",
       "      <td>2018</td>\n",
       "    </tr>\n",
       "    <tr>\n",
       "      <th>3</th>\n",
       "      <td><img src=\"https://cf.geekdo-images.com/Oh3kHw6lweg6ru71Q16h2Q__thumb/img/e9XZdQe1ZcPpaq4Gy31OoWBB_V0=/fit-in/200x150/filters:strip_icc()/pic5235277.jpg\" width=\"124\" /></td>\n",
       "      <td><a href=\"https://boardgamegeek.com/boardgame/246900\">Eclipse: Second Dawn for the Galaxy</a></td>\n",
       "      <td>8.720986</td>\n",
       "      <td>7.971991</td>\n",
       "      <td>8.606187</td>\n",
       "      <td>41</td>\n",
       "      <td>2020</td>\n",
       "    </tr>\n",
       "    <tr>\n",
       "      <th>4</th>\n",
       "      <td><img src=\"https://cf.geekdo-images.com/u4UwCa7BqtP1fTuTGXs6qQ__thumb/img/6PFTL9lMdEU7Xk4s9lDRBIIfK18=/fit-in/200x150/filters:strip_icc()/pic5873747.jpg\" width=\"124\" /></td>\n",
       "      <td><a href=\"https://boardgamegeek.com/boardgame/325490\">Concordia Solitaria</a></td>\n",
       "      <td>9.000000</td>\n",
       "      <td>7.817911</td>\n",
       "      <td>8.605970</td>\n",
       "      <td>45</td>\n",
       "      <td>2021</td>\n",
       "    </tr>\n",
       "    <tr>\n",
       "      <th>5</th>\n",
       "      <td><img src=\"https://cf.geekdo-images.com/By59lVylKiQh_ICJUgK5Tg__thumb/img/a-AYlm8qtSbpqeqydP09w1Aorfw=/fit-in/200x150/filters:strip_icc()/pic6209785.jpg\" width=\"124\" /></td>\n",
       "      <td><a href=\"https://boardgamegeek.com/boardgame/314745\">Now or Never</a></td>\n",
       "      <td>10.000000</td>\n",
       "      <td>7.904535</td>\n",
       "      <td>8.603023</td>\n",
       "      <td>25</td>\n",
       "      <td>2021</td>\n",
       "    </tr>\n",
       "  </tbody>\n",
       "</table>"
      ],
      "text/plain": [
       "<IPython.core.display.HTML object>"
      ]
     },
     "execution_count": 48,
     "metadata": {},
     "output_type": "execute_result"
    }
   ],
   "source": [
    "# TOP N FIXED RANK\n",
    "display_topn(by='fixed_rating', n=TOP_N, ascending=False)"
   ]
  },
  {
   "cell_type": "code",
   "execution_count": 49,
   "metadata": {},
   "outputs": [],
   "source": [
    "# model.save('saved_model\\my_model')"
   ]
  },
  {
   "cell_type": "code",
   "execution_count": 50,
   "metadata": {},
   "outputs": [],
   "source": [
    "# saved_model = tf.keras.models.load_model('saved_model\\my_model')"
   ]
  },
  {
   "cell_type": "code",
   "execution_count": 51,
   "metadata": {},
   "outputs": [],
   "source": [
    "# some examples on \"long\" comments vs short comments"
   ]
  },
  {
   "cell_type": "code",
   "execution_count": 52,
   "metadata": {},
   "outputs": [],
   "source": [
    "not_rated_comments['comment_len'] = not_rated_comments['value'].str.len()\n",
    "some_long_comments = not_rated_comments.query(\"comment_len>100 and comment_len<300\").sample(frac=1).head(25).sort_values('rating')"
   ]
  },
  {
   "cell_type": "code",
   "execution_count": 53,
   "metadata": {},
   "outputs": [
    {
     "name": "stdout",
     "output_type": "stream",
     "text": [
      "\"Awesome.  As described by 3-minute Boardgames - it's the Millennium Falcon, it \"may not look like much, but she's got it where it counts\".  Interesting and sometimes excruciating decisions.  \"\n",
      "score: 6.07\n",
      "\n",
      "\"[b]Expansions:[/b] [thing=199727][/thing] [thing=211731][/thing] [thing=205121][/thing] [thing=211732][/thing] [thing=211733][/thing] [thing=276229][/thing] [thing=262151][/thing]  [b]Extras:[/b] [thing=268239][/thing] [thing=211947][/thing] [thing=257270][/thing]\"\n",
      "score: 6.19\n",
      "\n",
      "\"cute looking strategy/war game where each animal faction plays totally different Looks very interesting, especially the different factions. Might lack longterm motivation though\"\n",
      "score: 6.26\n",
      "\n",
      "\"Really liked this game. It was pretty simple and straightforward to play, rules-wise, but it took me a while to understand what the strategy of the game was. Ended up scoring poorly my first time, but it was really fun. I would like to play again.\"\n",
      "score: 6.30\n",
      "\n",
      "\"Ok, this is not a fair rating. But this is just a board game loot-em-up disguised in tons of beutiful cards.\"\n",
      "score: 6.46\n",
      "\n",
      "\"interesting game from designer of Root about the creation of history. What you do changes the story. Feels like a cold war with the other players. King making is very prevelent. Dont play for balance but for experience.\"\n",
      "score: 6.82\n",
      "\n",
      "\"Looks like a fun game and entry into the Gloomhaven series, but apparently, the actual story is terrible.\"\n",
      "score: 7.38\n",
      "\n",
      "\"Only have played it a few times, not enough for a recommendation yet but I love the avian card dynasty concept.\"\n",
      "score: 7.57\n",
      "\n",
      "\"1-5, best 3 Strategy, economic, card drafting, end game bonuses, hand management, hexagon grid, income, set collection, take that, tile placement, variable player powers Fiddly, computational, accessible\"\n",
      "score: 7.58\n",
      "\n",
      "\"First play as Eyrie was great. I kind of ended up with some half-crummy card draws that didn't let me exploit my leader at all, but somehow was able to leverage these half-crummy cards into an engine that far outlived all expectations. So that was pretty great.\"\n",
      "score: 7.59\n",
      "\n",
      "\"Includes Hellas & Elysium, Venus Next, Colonies, Turmoil and Prelude expansions and Snow Algae, Small Asteroid, Penguins and Self-Replicating Robots and BGG User Created corporations promo cards, Turmoil Promo Cards\"\n",
      "score: 8.01\n",
      "\n",
      "\"I am sick to death of graphic designers who do things like put red and green translucent cubes in the game where you have to tell them apart. There are colorblind players in the world, and there is no excuse for this casual dismissing of them. And thus I casually dismiss you back with this comment.\"\n",
      "score: 8.17\n",
      "\n",
      "\"Loved the third edition, so bought the fourth.  But this game goes onto the table perhaps once per year because of the time it takes to finish a game.\"\n",
      "score: 8.22\n",
      "\n",
      "\"Well designed, deep, and challenging, this cooperative dungeon puzzler is a fun experience that you’ll want to come back to again and again.\"\n",
      "score: 8.32\n",
      "\n",
      "\"Number of cards: 120 @ 56 x 87mm Docsmagic sleeve size: 56x87 Small Standard American - Light Blue: Standard (DMS21, 100/pack) or Premium (DMS11, 50/pack) - (58 x 89mm) \"\n",
      "score: 8.50\n",
      "\n",
      "\"2018 Kennerspiel des Jahres Winner 2018 Kennerspiel des Jahres Nominee 2018 Golden Geek Board Game of the Year Nominee 2018 Golden Geek Best Family Board Game Nominee\"\n",
      "score: 8.63\n",
      "\n",
      "\"Custom insert, custom terrain (fimo clay) with travel case and painted miniatures (only 6 starting characters, others still need paint)\"\n",
      "score: 8.73\n",
      "\n",
      "\"I have the 'all in' KS pledge for this, so also have the various min-expansions, play mat, extra dice and alternative space ship models.\"\n",
      "score: 8.73\n",
      "\n",
      "\"Shelf 7 D - Includes Prelude Hellas & Elysium, Venus Next, Colonies and Turmoil Expansions in a separate box.\"\n",
      "score: 8.82\n",
      "\n",
      "\"K: 4. 2018 Kennerspiel des Jahres Winner. Includes the GeekUp bits, which are really nice for this game!\"\n",
      "score: 8.90\n",
      "\n",
      "\"Own full collection (minus some promos) complete in the Treasure Trove.  Would only be willing to trade as a package. \"\n",
      "score: 8.93\n",
      "\n",
      "\"Also: Scythe: Promo Pack #4 – Factory Cards 13-18 (2016) Scythe: Promo Pack #3 – Objective Cards 24-27 (2016) Scythe: Promo Pack #1 – Encounter Cards 29-32 (2016) Scythe: Promo Pack #2 – Encounter Cards 33-36 (2016) Scythe: Invaders from Afar (2016), Scythe: The Wind Gambit (2017)\"\n",
      "score: 9.20\n",
      "\n",
      "\"Amazing production quality and art. Worker placement and tableau/engine building, two of my favourite mechanics.\"\n",
      "score: 9.52\n",
      "\n",
      "\"take every eurogame mechanic you can think of, vomit them out onto a board and slap on a cowboy theme  thats great western trail\"\n",
      "score: 10.00\n",
      "\n",
      "\"2–4 Players  Community: 2–4 — Best: 2 30–90 Min Playing Time Age: 12+  Community: 12+ Weight: 3.03 / 5  'Complexity' Rating    27,99€ Amazon  31x22x7\"\n",
      "score: 10.00\n",
      "\n"
     ]
    }
   ],
   "source": [
    "some_long_comments.apply(lambda c: print(f\"\\\"{c['value']}\\\"\\nscore: {c['rating']:.2f}\\n\"), axis=1);"
   ]
  },
  {
   "cell_type": "markdown",
   "metadata": {},
   "source": [
    "## RANDOM FOREST - TEST"
   ]
  },
  {
   "cell_type": "code",
   "execution_count": 54,
   "metadata": {},
   "outputs": [],
   "source": [
    "# no support for Windows at the moment - waiting for it to test"
   ]
  },
  {
   "cell_type": "code",
   "execution_count": null,
   "metadata": {},
   "outputs": [],
   "source": []
  }
 ],
 "metadata": {
  "kernelspec": {
   "display_name": "tensorflow2",
   "language": "python",
   "name": "tensorflow2"
  },
  "language_info": {
   "codemirror_mode": {
    "name": "ipython",
    "version": 3
   },
   "file_extension": ".py",
   "mimetype": "text/x-python",
   "name": "python",
   "nbconvert_exporter": "python",
   "pygments_lexer": "ipython3",
   "version": "3.8.8"
  }
 },
 "nbformat": 4,
 "nbformat_minor": 4
}
