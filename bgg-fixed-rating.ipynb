{
 "cells": [
  {
   "cell_type": "code",
   "execution_count": null,
   "metadata": {},
   "outputs": [],
   "source": [
    "# ## BGG API\n",
    "# https://www.boardgamegeek.com/xmlapi2/thing?id=161599&comments=1\n",
    "# https://www.boardgamegeek.com/xmlapi2/hot?type=boardgame\n",
    "# ## NLP WITH TF\n",
    "# https://www.tensorflow.org/hub/tutorials/tf2_text_classification"
   ]
  },
  {
   "cell_type": "code",
   "execution_count": 2,
   "metadata": {},
   "outputs": [
    {
     "name": "stdout",
     "output_type": "stream",
     "text": [
      "Version:      2.5.0\n",
      "Eager mode:   True\n",
      "Hub version:  0.12.0\n",
      "GPU:          available\n"
     ]
    }
   ],
   "source": [
    "import tensorflow as tf\n",
    "import tensorflow_hub as hub\n",
    "import tensorflow_datasets as tfds\n",
    "from tensorflow.keras.wrappers.scikit_learn import KerasRegressor, KerasClassifier\n",
    "from sklearn.model_selection import cross_val_score, cross_validate, GridSearchCV\n",
    "from sklearn.model_selection import KFold\n",
    "\n",
    "import xml.etree.ElementTree as Xet\n",
    "import matplotlib.pyplot as plt\n",
    "import pandas as pd\n",
    "import numpy as np\n",
    "import requests\n",
    "from IPython.display import Image, HTML\n",
    "from datetime import datetime\n",
    "from langdetect import detect\n",
    "import re\n",
    "import copy\n",
    "\n",
    "print(\"Version:     \", tf.__version__)\n",
    "print(\"Eager mode:  \", tf.executing_eagerly())\n",
    "print(\"Hub version: \", hub.__version__)\n",
    "print(\"GPU:         \", \"available\" if tf.config.list_physical_devices('GPU') else \"NOT available\")\n",
    "\n",
    "tf.get_logger().setLevel('ERROR')"
   ]
  },
  {
   "cell_type": "code",
   "execution_count": 3,
   "metadata": {},
   "outputs": [],
   "source": [
    "# tf.debugging.set_log_device_placement(True)"
   ]
  },
  {
   "cell_type": "code",
   "execution_count": 4,
   "metadata": {},
   "outputs": [],
   "source": [
    "GOOD_REVIEW_THRESHOLD = 7"
   ]
  },
  {
   "cell_type": "code",
   "execution_count": 5,
   "metadata": {},
   "outputs": [],
   "source": [
    "VAL_FRACTION = 0.25"
   ]
  },
  {
   "cell_type": "code",
   "execution_count": 6,
   "metadata": {},
   "outputs": [],
   "source": [
    "MIN_COMMENT_LEN = 25"
   ]
  },
  {
   "cell_type": "code",
   "execution_count": 7,
   "metadata": {},
   "outputs": [],
   "source": [
    "TOP_N = 5"
   ]
  },
  {
   "cell_type": "code",
   "execution_count": 8,
   "metadata": {},
   "outputs": [],
   "source": [
    "MODEL_NAME = \"https://tfhub.dev/google/nnlm-en-dim50/2\""
   ]
  },
  {
   "cell_type": "markdown",
   "metadata": {},
   "source": [
    "## GET DATA"
   ]
  },
  {
   "cell_type": "code",
   "execution_count": 9,
   "metadata": {},
   "outputs": [],
   "source": [
    "def get_hot_data():\n",
    "    hot = requests.get(\"https://www.boardgamegeek.com/xmlapi2/hot?type=boardgame\").content.decode()\n",
    "  \n",
    "    # Parsing the XML file\n",
    "    xmlparse = Xet.fromstring(hot)\n",
    "\n",
    "    hot_array = []\n",
    "    for item in xmlparse:\n",
    "        dict_element = {\n",
    "            \"id\": item.get(\"id\"),\n",
    "            \"rank\": item.get(\"rank\")\n",
    "        }\n",
    "        for option in item:\n",
    "            dict_element[option.tag] = option.get(\"value\")\n",
    "        hot_array.append(dict_element)\n",
    "    return hot_array"
   ]
  },
  {
   "cell_type": "code",
   "execution_count": 10,
   "metadata": {},
   "outputs": [],
   "source": [
    "def get_comments(id_array, verbose=1):\n",
    "    max_comments_per_page = 1\n",
    "    array_ids = [h['id'] for h in id_array]\n",
    "    ids = ','.join(array_ids)\n",
    "    page_size = 100\n",
    "    page_number = 0\n",
    "    comments_array = []\n",
    "\n",
    "    while max_comments_per_page > 0 and len(array_ids) > 0:\n",
    "        page_number += 1\n",
    "        if verbose>0 and page_number%verbose==0:\n",
    "            print(f\"page number = {page_number}\", end=\" \")\n",
    "        comments = requests.get(f\"https://www.boardgamegeek.com/xmlapi2/thing?id={ids}&comments=1&pagesize={page_size}&page={page_number}\").content.decode()\n",
    "\n",
    "        # Parsing the XML file\n",
    "        xmlparse = Xet.fromstring(comments)\n",
    "        comments_per_item = []\n",
    "        for item in xmlparse:        \n",
    "            for option in item:\n",
    "                if option.tag == 'comments':\n",
    "                    comments_per_page = 0\n",
    "                    for comment in option:\n",
    "                        comments_per_page += 1\n",
    "                        dict_element = {\n",
    "                            \"id\": item.get(\"id\"),\n",
    "                            \"username\": comment.get(\"username\"),\n",
    "                            \"rating\": comment.get(\"rating\"),\n",
    "                            \"value\": comment.get(\"value\")\n",
    "                        }\n",
    "                        comments_array.append(dict_element)\n",
    "                    if comments_per_page==0:\n",
    "                        array_ids.remove(item.get(\"id\"))\n",
    "                        ids = ','.join(array_ids)\n",
    "                    comments_per_item.append(comments_per_page)\n",
    "        max_comments_per_page = max(comments_per_item)\n",
    "        if verbose>0 and page_number%verbose==0:\n",
    "            print(f\"(max: {max(comments_per_item)}, len: {len(comments_per_item)})\")\n",
    "    comments_df = pd.DataFrame(comments_array)\n",
    "    print(f\"comments_df shape: {comments_df.shape}\")\n",
    "    return comments_df"
   ]
  },
  {
   "cell_type": "code",
   "execution_count": 11,
   "metadata": {},
   "outputs": [
    {
     "data": {
      "text/plain": [
       "[{'id': '285192',\n",
       "  'rank': '1',\n",
       "  'thumbnail': 'https://cf.geekdo-images.com/oaD1ZQ3yGj6lacLdtqgdnQ__thumb/img/1mCz7HPEFMeqaqJHsDZwEUc9ftw=/fit-in/200x150/filters:strip_icc()/pic5558118.png',\n",
       "  'name': 'Destinies',\n",
       "  'yearpublished': '2021'},\n",
       " {'id': '331106',\n",
       "  'rank': '2',\n",
       "  'thumbnail': 'https://cf.geekdo-images.com/tQVVSXcmYLvAoI28cp-2Tg__thumb/img/ahKWaUSws5zja4feB4VexkNV3Mc=/fit-in/200x150/filters:strip_icc()/pic5974859.jpg',\n",
       "  'name': 'The Witcher: Old World',\n",
       "  'yearpublished': '2022'}]"
      ]
     },
     "execution_count": 11,
     "metadata": {},
     "output_type": "execute_result"
    }
   ],
   "source": [
    "hot_array = get_hot_data()\n",
    "hot_array[:2]"
   ]
  },
  {
   "cell_type": "code",
   "execution_count": 12,
   "metadata": {},
   "outputs": [
    {
     "name": "stdout",
     "output_type": "stream",
     "text": [
      "missing csv file, getting new data using API...\n",
      "page number = 10 (max: 100, len: 26)\n",
      "page number = 20 (max: 100, len: 18)\n",
      "page number = 30 (max: 100, len: 14)\n",
      "page number = 40 (max: 100, len: 11)\n",
      "page number = 50 (max: 100, len: 6)\n",
      "page number = 60 (max: 100, len: 5)\n",
      "page number = 70 (max: 100, len: 4)\n",
      "page number = 80 (max: 100, len: 4)\n",
      "page number = 90 (max: 100, len: 2)\n",
      "page number = 100 (max: 0, len: 1)\n",
      "comments_df shape: (107725, 4)\n"
     ]
    },
    {
     "data": {
      "text/html": [
       "<div>\n",
       "<style scoped>\n",
       "    .dataframe tbody tr th:only-of-type {\n",
       "        vertical-align: middle;\n",
       "    }\n",
       "\n",
       "    .dataframe tbody tr th {\n",
       "        vertical-align: top;\n",
       "    }\n",
       "\n",
       "    .dataframe thead th {\n",
       "        text-align: right;\n",
       "    }\n",
       "</style>\n",
       "<table border=\"1\" class=\"dataframe\">\n",
       "  <thead>\n",
       "    <tr style=\"text-align: right;\">\n",
       "      <th></th>\n",
       "      <th>id</th>\n",
       "      <th>username</th>\n",
       "      <th>rating</th>\n",
       "      <th>value</th>\n",
       "    </tr>\n",
       "  </thead>\n",
       "  <tbody>\n",
       "    <tr>\n",
       "      <th>0</th>\n",
       "      <td>285192</td>\n",
       "      <td>Alarka</td>\n",
       "      <td>8.5</td>\n",
       "      <td>Players: 1-3 (1-2) Time: 90-150 Min Category: ...</td>\n",
       "    </tr>\n",
       "    <tr>\n",
       "      <th>1</th>\n",
       "      <td>285192</td>\n",
       "      <td>almi</td>\n",
       "      <td>N/A</td>\n",
       "      <td>2021-05</td>\n",
       "    </tr>\n",
       "    <tr>\n",
       "      <th>2</th>\n",
       "      <td>285192</td>\n",
       "      <td>androgeus</td>\n",
       "      <td>N/A</td>\n",
       "      <td>soll Ende Mai 21 lieferbar sein</td>\n",
       "    </tr>\n",
       "    <tr>\n",
       "      <th>3</th>\n",
       "      <td>285192</td>\n",
       "      <td>AnneWit</td>\n",
       "      <td>9</td>\n",
       "      <td>On first play, this is another outstanding gam...</td>\n",
       "    </tr>\n",
       "    <tr>\n",
       "      <th>4</th>\n",
       "      <td>285192</td>\n",
       "      <td>ArmyLee</td>\n",
       "      <td>N/A</td>\n",
       "      <td>KS Ed. - Sea of Sand - Myth &amp; Folklore crossover</td>\n",
       "    </tr>\n",
       "    <tr>\n",
       "      <th>...</th>\n",
       "      <td>...</td>\n",
       "      <td>...</td>\n",
       "      <td>...</td>\n",
       "      <td>...</td>\n",
       "    </tr>\n",
       "    <tr>\n",
       "      <th>107720</th>\n",
       "      <td>167791</td>\n",
       "      <td>z_zadar</td>\n",
       "      <td>9</td>\n",
       "      <td>Some games are so much fun. Others can be a li...</td>\n",
       "    </tr>\n",
       "    <tr>\n",
       "      <th>107721</th>\n",
       "      <td>167791</td>\n",
       "      <td>_Czid_</td>\n",
       "      <td>8</td>\n",
       "      <td>Have played with Elysium and Prelude expansion...</td>\n",
       "    </tr>\n",
       "    <tr>\n",
       "      <th>107722</th>\n",
       "      <td>167791</td>\n",
       "      <td>_Marty_</td>\n",
       "      <td>9.5</td>\n",
       "      <td>Fantastic game. With so many cards that can ch...</td>\n",
       "    </tr>\n",
       "    <tr>\n",
       "      <th>107723</th>\n",
       "      <td>167791</td>\n",
       "      <td>_mun_</td>\n",
       "      <td>10</td>\n",
       "      <td>Nagyon izgalmas játék, jó a mechanizmusa. A sz...</td>\n",
       "    </tr>\n",
       "    <tr>\n",
       "      <th>107724</th>\n",
       "      <td>167791</td>\n",
       "      <td>_The_Inquiry_</td>\n",
       "      <td>5</td>\n",
       "      <td>Prior to 2020: 2 plays  TM is one of those gam...</td>\n",
       "    </tr>\n",
       "  </tbody>\n",
       "</table>\n",
       "<p>107725 rows × 4 columns</p>\n",
       "</div>"
      ],
      "text/plain": [
       "            id       username rating  \\\n",
       "0       285192         Alarka    8.5   \n",
       "1       285192           almi    N/A   \n",
       "2       285192      androgeus    N/A   \n",
       "3       285192        AnneWit      9   \n",
       "4       285192        ArmyLee    N/A   \n",
       "...        ...            ...    ...   \n",
       "107720  167791        z_zadar      9   \n",
       "107721  167791         _Czid_      8   \n",
       "107722  167791        _Marty_    9.5   \n",
       "107723  167791          _mun_     10   \n",
       "107724  167791  _The_Inquiry_      5   \n",
       "\n",
       "                                                    value  \n",
       "0       Players: 1-3 (1-2) Time: 90-150 Min Category: ...  \n",
       "1                                                 2021-05  \n",
       "2                         soll Ende Mai 21 lieferbar sein  \n",
       "3       On first play, this is another outstanding gam...  \n",
       "4        KS Ed. - Sea of Sand - Myth & Folklore crossover  \n",
       "...                                                   ...  \n",
       "107720  Some games are so much fun. Others can be a li...  \n",
       "107721  Have played with Elysium and Prelude expansion...  \n",
       "107722  Fantastic game. With so many cards that can ch...  \n",
       "107723  Nagyon izgalmas játék, jó a mechanizmusa. A sz...  \n",
       "107724  Prior to 2020: 2 plays  TM is one of those gam...  \n",
       "\n",
       "[107725 rows x 4 columns]"
      ]
     },
     "execution_count": 12,
     "metadata": {},
     "output_type": "execute_result"
    }
   ],
   "source": [
    "try:\n",
    "    comments_df = pd.read_csv(f\"comments_{datetime.now().strftime('%Y%m%d')}.csv\")\n",
    "    comments_df['rating'] = comments_df.rating.fillna('N/A')\n",
    "    print(\"reading dataframe from csv file...\")\n",
    "except:\n",
    "    print(\"missing csv file, getting new data using API...\")\n",
    "    comments_df = get_comments(hot_array, verbose=10)\n",
    "    comments_df.to_csv(f\"comments_{datetime.now().strftime('%Y%m%d')}.csv\", index=False)\n",
    "comments_df"
   ]
  },
  {
   "cell_type": "markdown",
   "metadata": {},
   "source": [
    "## DATA CLEANING"
   ]
  },
  {
   "cell_type": "code",
   "execution_count": 13,
   "metadata": {},
   "outputs": [],
   "source": [
    "# probably we should keep all the ratings (no matters the len) and remove only the simple comments under a certain len  "
   ]
  },
  {
   "cell_type": "code",
   "execution_count": 14,
   "metadata": {},
   "outputs": [],
   "source": [
    "comments_df[\"value\"] = comments_df[\"value\"].astype(str)"
   ]
  },
  {
   "cell_type": "code",
   "execution_count": 15,
   "metadata": {},
   "outputs": [],
   "source": [
    "# REMOVE URLs FROM COMMENTS"
   ]
  },
  {
   "cell_type": "code",
   "execution_count": 16,
   "metadata": {},
   "outputs": [],
   "source": [
    "comments_df['value'] = [re.sub(r\"http\\S+\", \"\", v) for v in comments_df.value.values]"
   ]
  },
  {
   "cell_type": "code",
   "execution_count": 17,
   "metadata": {},
   "outputs": [],
   "source": [
    "# REMOVE SHORT COMMENTS\n",
    "def remove_short_comments(df: pd.DataFrame, min_len=25, method='unrated'):\n",
    "    if method not in ['unrated', 'rated', 'both']:\n",
    "        raise AttributeError(f\"method {method} not allowed\")\n",
    "    df_local = df.copy()    \n",
    "    df_local['comment_len'] = [len(re.findall(\"[A-Za-z]\", v)) for v in df_local['value'].values]\n",
    "    if method == 'rated':\n",
    "        df_local = df_local.query('(comment_len>@min_len and rating != \"N/A\") or rating == \"N/A\"')\n",
    "    elif method == 'unrated':\n",
    "        df_local = df_local.query('(comment_len>@min_len and rating == \"N/A\") or rating != \"N/A\"')\n",
    "    else:\n",
    "        df_local = df_local.query('comment_len>@min_len')\n",
    "    print(f\"removed {len(df)-len(df_local)} for 'remove_short_comments' - min len: {min_len} - method: {method}\")\n",
    "    return df_local.reset_index(drop=True)"
   ]
  },
  {
   "cell_type": "code",
   "execution_count": 18,
   "metadata": {},
   "outputs": [
    {
     "name": "stdout",
     "output_type": "stream",
     "text": [
      "removed 17503 for 'remove_short_comments' - min len: 25 - method: unrated\n"
     ]
    }
   ],
   "source": [
    "comments_df = remove_short_comments(comments_df, MIN_COMMENT_LEN)"
   ]
  },
  {
   "cell_type": "code",
   "execution_count": 19,
   "metadata": {},
   "outputs": [],
   "source": [
    "# REMOVE NON ENGLISH COMMENTS"
   ]
  },
  {
   "cell_type": "code",
   "execution_count": 20,
   "metadata": {},
   "outputs": [],
   "source": [
    "# !conda install -c conda-forge langdetect"
   ]
  },
  {
   "cell_type": "code",
   "execution_count": 21,
   "metadata": {},
   "outputs": [],
   "source": [
    "# def add_comments_lang(df: pd.DataFrame):\n",
    "#     df_local = df.copy()\n",
    "#     df_local['lang'] = df['value'].apply(detect)\n",
    "#     return df_local.reset_index(drop=True)"
   ]
  },
  {
   "cell_type": "code",
   "execution_count": 22,
   "metadata": {},
   "outputs": [],
   "source": [
    "# comments_df = add_comments_lang(comments_df)"
   ]
  },
  {
   "cell_type": "code",
   "execution_count": 23,
   "metadata": {},
   "outputs": [],
   "source": [
    "# comments_df = comments_df.query('lang == \"en\"')"
   ]
  },
  {
   "cell_type": "markdown",
   "metadata": {},
   "source": [
    "## SPLIT RATED AND NON-RATED COMMENTS"
   ]
  },
  {
   "cell_type": "code",
   "execution_count": 24,
   "metadata": {},
   "outputs": [
    {
     "data": {
      "text/plain": [
       "9        16904\n",
       "10       16242\n",
       "8        15135\n",
       "7         8280\n",
       "N/A       7346\n",
       "         ...  \n",
       "9.964        1\n",
       "9.954        1\n",
       "4.66         1\n",
       "6.446        1\n",
       "9.94         1\n",
       "Name: rating, Length: 574, dtype: int64"
      ]
     },
     "execution_count": 24,
     "metadata": {},
     "output_type": "execute_result"
    }
   ],
   "source": [
    "# count number of comments per rating (N/A included)\n",
    "comments_df.rating.value_counts()"
   ]
  },
  {
   "cell_type": "code",
   "execution_count": 25,
   "metadata": {},
   "outputs": [
    {
     "data": {
      "text/plain": [
       "(82876, 5)"
      ]
     },
     "execution_count": 25,
     "metadata": {},
     "output_type": "execute_result"
    }
   ],
   "source": [
    "# get rated comments only\n",
    "rated_comments = comments_df.query('rating != \"N/A\"')\n",
    "rated_comments.shape"
   ]
  },
  {
   "cell_type": "code",
   "execution_count": 26,
   "metadata": {},
   "outputs": [
    {
     "data": {
      "text/plain": [
       "(7346, 5)"
      ]
     },
     "execution_count": 26,
     "metadata": {},
     "output_type": "execute_result"
    }
   ],
   "source": [
    "# get non rated comments only\n",
    "not_rated_comments = comments_df.query('rating == \"N/A\"').reset_index(drop=True)\n",
    "not_rated_comments.shape"
   ]
  },
  {
   "cell_type": "markdown",
   "metadata": {},
   "source": [
    "## CREATE TRAINING AND VALIDATION DATA"
   ]
  },
  {
   "cell_type": "code",
   "execution_count": 27,
   "metadata": {},
   "outputs": [],
   "source": [
    "# use rated comments (reviews) to train the model"
   ]
  },
  {
   "cell_type": "code",
   "execution_count": 28,
   "metadata": {},
   "outputs": [],
   "source": [
    "rated_comments = rated_comments.sample(frac=1)"
   ]
  },
  {
   "cell_type": "code",
   "execution_count": 29,
   "metadata": {},
   "outputs": [],
   "source": [
    "# create training X and y\n",
    "train_examples = list(rated_comments.value)\n",
    "train_labels = list((rated_comments.rating.astype(float)>=GOOD_REVIEW_THRESHOLD).astype(int))"
   ]
  },
  {
   "cell_type": "code",
   "execution_count": 30,
   "metadata": {},
   "outputs": [
    {
     "name": "stdout",
     "output_type": "stream",
     "text": [
      "example of positive rating:\n"
     ]
    },
    {
     "data": {
      "text/plain": [
       "\"Absolutely incredible.  Played several games over the release weekend and woke up on Monday wanting to play more.  That's the sign of a game that will be an exciting part of my collection for a long time.\""
      ]
     },
     "execution_count": 30,
     "metadata": {},
     "output_type": "execute_result"
    }
   ],
   "source": [
    "print(\"example of positive rating:\")\n",
    "train_examples[train_labels.index(1)]"
   ]
  },
  {
   "cell_type": "code",
   "execution_count": 31,
   "metadata": {},
   "outputs": [
    {
     "name": "stdout",
     "output_type": "stream",
     "text": [
      "example of negative rating:\n"
     ]
    },
    {
     "data": {
      "text/plain": [
       "\"Played a 2-player game at Origins 2018.  I liked the mechanics but for 2 people there wasn't enough forced overlap to really make it fun.  I would guess at 4 players this could be really good.\""
      ]
     },
     "execution_count": 31,
     "metadata": {},
     "output_type": "execute_result"
    }
   ],
   "source": [
    "print(\"example of negative rating:\")\n",
    "train_examples[train_labels.index(0)]"
   ]
  },
  {
   "cell_type": "markdown",
   "metadata": {},
   "source": [
    "## COMPOSE MODEL"
   ]
  },
  {
   "cell_type": "code",
   "execution_count": 32,
   "metadata": {},
   "outputs": [],
   "source": [
    "hub_layer = hub.KerasLayer(MODEL_NAME, input_shape=[], dtype=tf.string, trainable=True)"
   ]
  },
  {
   "cell_type": "code",
   "execution_count": 33,
   "metadata": {},
   "outputs": [],
   "source": [
    "def build_model(hub_layer=None, model_type='classifier', lstm=False, verbose=1):    \n",
    "    if hub_layer is None:\n",
    "        hub_layer = hub.KerasLayer(MODEL_NAME, input_shape=[], dtype=tf.string, trainable=True)\n",
    "        \n",
    "    if model_type not in ('classifier', 'regressor'):\n",
    "        raise AttributeError(\"model type can only be 'classifier' or 'regressor'\")\n",
    "\n",
    "    if verbose:\n",
    "        print(\"example of layers processing:\")\n",
    "        print(hub_layer(train_examples[:2]))\n",
    "        print(\"\")\n",
    "\n",
    "    if model_type == 'classifier':\n",
    "        model = tf.keras.Sequential()\n",
    "        model.add(copy.copy(hub_layer))\n",
    "        if lstm:\n",
    "            raise NotImplementedError(\"lstm = True is not implemented\")\n",
    "        else:\n",
    "            model.add(tf.keras.layers.Dense(16, activation='relu'))\n",
    "        model.add(tf.keras.layers.Dense(1))\n",
    "        \n",
    "        if verbose:\n",
    "            print(\"model summary:\")\n",
    "            print(model.summary())\n",
    "        \n",
    "        model.compile(\n",
    "            optimizer='adam',\n",
    "            loss=tf.losses.BinaryCrossentropy(from_logits=True),\n",
    "            metrics=[tf.metrics.BinaryAccuracy(threshold=0.0, name='accuracy')]\n",
    "        )\n",
    "    else:\n",
    "        model = tf.keras.Sequential()\n",
    "        model.add(copy.copy(hub_layer))\n",
    "        if lstm:\n",
    "            raise NotImplementedError(\"lstm = True is not implemented\")\n",
    "        else:\n",
    "            model.add(tf.keras.layers.Dense(16, activation='relu', kernel_initializer='normal'))\n",
    "        model.add(tf.keras.layers.Dense(1, kernel_initializer='normal'))\n",
    "        \n",
    "        if verbose:\n",
    "            print(\"model summary:\")\n",
    "            print(model.summary())\n",
    "            \n",
    "        model.compile(\n",
    "            loss='mean_squared_error', \n",
    "            optimizer='adam',\n",
    "            metrics=[\"mean_squared_error\"]\n",
    "        )\n",
    "    \n",
    "    return model"
   ]
  },
  {
   "cell_type": "markdown",
   "metadata": {},
   "source": [
    "## CLASSIFIER"
   ]
  },
  {
   "cell_type": "code",
   "execution_count": 34,
   "metadata": {},
   "outputs": [
    {
     "name": "stdout",
     "output_type": "stream",
     "text": [
      "Epoch 1/100\n",
      "81/81 - 6s - loss: 0.4973 - accuracy: 0.8427 - val_loss: 0.4178 - val_accuracy: 0.8517\n",
      "Epoch 2/100\n",
      "81/81 - 4s - loss: 0.3540 - accuracy: 0.8678 - val_loss: 0.3354 - val_accuracy: 0.8688\n",
      "Epoch 3/100\n",
      "81/81 - 4s - loss: 0.2836 - accuracy: 0.8891 - val_loss: 0.3135 - val_accuracy: 0.8754\n",
      "Epoch 4/100\n",
      "81/81 - 4s - loss: 0.2417 - accuracy: 0.9046 - val_loss: 0.3117 - val_accuracy: 0.8777\n",
      "Epoch 5/100\n",
      "81/81 - 4s - loss: 0.2104 - accuracy: 0.9185 - val_loss: 0.3201 - val_accuracy: 0.8762\n",
      "Epoch 6/100\n",
      "81/81 - 4s - loss: 0.1851 - accuracy: 0.9296 - val_loss: 0.3343 - val_accuracy: 0.8711\n",
      "Epoch 7/100\n",
      "81/81 - 4s - loss: 0.1647 - accuracy: 0.9386 - val_loss: 0.3547 - val_accuracy: 0.8676\n",
      "Epoch 8/100\n",
      "81/81 - 4s - loss: 0.1472 - accuracy: 0.9456 - val_loss: 0.3775 - val_accuracy: 0.8641\n",
      "Epoch 9/100\n",
      "81/81 - 4s - loss: 0.1332 - accuracy: 0.9529 - val_loss: 0.4046 - val_accuracy: 0.8584\n",
      "54/54 - 0s - loss: 0.4170 - accuracy: 0.8573\n",
      "Epoch 1/100\n",
      "81/81 - 5s - loss: 0.4620 - accuracy: 0.8516 - val_loss: 0.3777 - val_accuracy: 0.8527\n",
      "Epoch 2/100\n",
      "81/81 - 4s - loss: 0.3278 - accuracy: 0.8696 - val_loss: 0.3207 - val_accuracy: 0.8708\n",
      "Epoch 3/100\n",
      "81/81 - 4s - loss: 0.2714 - accuracy: 0.8935 - val_loss: 0.3089 - val_accuracy: 0.8784\n",
      "Epoch 4/100\n",
      "81/81 - 4s - loss: 0.2341 - accuracy: 0.9085 - val_loss: 0.3104 - val_accuracy: 0.8807\n",
      "Epoch 5/100\n",
      "81/81 - 4s - loss: 0.2052 - accuracy: 0.9205 - val_loss: 0.3233 - val_accuracy: 0.8759\n",
      "Epoch 6/100\n",
      "81/81 - 4s - loss: 0.1816 - accuracy: 0.9330 - val_loss: 0.3459 - val_accuracy: 0.8711\n",
      "Epoch 7/100\n",
      "81/81 - 4s - loss: 0.1622 - accuracy: 0.9407 - val_loss: 0.3670 - val_accuracy: 0.8669\n",
      "Epoch 8/100\n",
      "81/81 - 4s - loss: 0.1460 - accuracy: 0.9474 - val_loss: 0.3917 - val_accuracy: 0.8596\n",
      "Epoch 9/100\n",
      "81/81 - 4s - loss: 0.1325 - accuracy: 0.9531 - val_loss: 0.4229 - val_accuracy: 0.8588\n",
      "54/54 - 0s - loss: 0.4156 - accuracy: 0.8592\n",
      "Epoch 1/100\n",
      "81/81 - 5s - loss: 0.5211 - accuracy: 0.8109 - val_loss: 0.4100 - val_accuracy: 0.8579\n",
      "Epoch 2/100\n",
      "81/81 - 4s - loss: 0.3537 - accuracy: 0.8665 - val_loss: 0.3208 - val_accuracy: 0.8749\n",
      "Epoch 3/100\n",
      "81/81 - 4s - loss: 0.2865 - accuracy: 0.8898 - val_loss: 0.3007 - val_accuracy: 0.8811\n",
      "Epoch 4/100\n",
      "81/81 - 4s - loss: 0.2478 - accuracy: 0.9042 - val_loss: 0.2974 - val_accuracy: 0.8803\n",
      "Epoch 5/100\n",
      "81/81 - 4s - loss: 0.2179 - accuracy: 0.9174 - val_loss: 0.3044 - val_accuracy: 0.8769\n",
      "Epoch 6/100\n",
      "81/81 - 4s - loss: 0.1932 - accuracy: 0.9274 - val_loss: 0.3195 - val_accuracy: 0.8761\n",
      "Epoch 7/100\n",
      "81/81 - 4s - loss: 0.1730 - accuracy: 0.9364 - val_loss: 0.3368 - val_accuracy: 0.8698\n",
      "Epoch 8/100\n",
      "81/81 - 4s - loss: 0.1563 - accuracy: 0.9439 - val_loss: 0.3654 - val_accuracy: 0.8677\n",
      "54/54 - 0s - loss: 0.3827 - accuracy: 0.8688\n",
      "Epoch 1/100\n",
      "122/122 - 7s - loss: 0.4892 - accuracy: 0.8188 - val_loss: 0.3800 - val_accuracy: 0.8540\n",
      "Epoch 2/100\n",
      "122/122 - 6s - loss: 0.3234 - accuracy: 0.8743 - val_loss: 0.3143 - val_accuracy: 0.8776\n",
      "Epoch 3/100\n",
      "122/122 - 6s - loss: 0.2681 - accuracy: 0.8948 - val_loss: 0.3050 - val_accuracy: 0.8823\n",
      "Epoch 4/100\n",
      "122/122 - 6s - loss: 0.2364 - accuracy: 0.9082 - val_loss: 0.3086 - val_accuracy: 0.8809\n",
      "Epoch 5/100\n",
      "122/122 - 6s - loss: 0.2129 - accuracy: 0.9181 - val_loss: 0.3177 - val_accuracy: 0.8772\n",
      "Epoch 6/100\n",
      "122/122 - 6s - loss: 0.1936 - accuracy: 0.9273 - val_loss: 0.3323 - val_accuracy: 0.8747\n",
      "Epoch 7/100\n",
      "122/122 - 6s - loss: 0.1779 - accuracy: 0.9340 - val_loss: 0.3474 - val_accuracy: 0.8704\n",
      "Epoch 8/100\n",
      "122/122 - 6s - loss: 0.1649 - accuracy: 0.9392 - val_loss: 0.3667 - val_accuracy: 0.8685\n"
     ]
    },
    {
     "data": {
      "text/plain": [
       "GridSearchCV(cv=3,\n",
       "             estimator=<tensorflow.python.keras.wrappers.scikit_learn.KerasClassifier object at 0x0000020110D25A30>,\n",
       "             param_grid={})"
      ]
     },
     "execution_count": 34,
     "metadata": {},
     "output_type": "execute_result"
    }
   ],
   "source": [
    "def build_classifier():\n",
    "    return build_model(hub_layer=None, model_type='classifier', verbose=0)\n",
    "\n",
    "\n",
    "estimator = KerasClassifier(build_fn=build_classifier, epochs=100, batch_size=512, verbose=2, validation_split=VAL_FRACTION)\n",
    "x_train_clf = np.array(list(rated_comments.value))\n",
    "y_train_clf = np.array(list((rated_comments.rating.astype(float)>=GOOD_REVIEW_THRESHOLD).astype(int)))\n",
    "\n",
    "clf = GridSearchCV(\n",
    "    estimator, \n",
    "    cv=3, \n",
    "    param_grid={}\n",
    ")\n",
    "clf.fit(x_train_clf, y_train_clf, callbacks=[tf.keras.callbacks.EarlyStopping(monitor='val_accuracy', patience=5, min_delta=0.001)])"
   ]
  },
  {
   "cell_type": "code",
   "execution_count": 35,
   "metadata": {},
   "outputs": [],
   "source": [
    "classifier = clf.best_estimator_\n",
    "classifier_history_dict = classifier.model.history.history"
   ]
  },
  {
   "cell_type": "code",
   "execution_count": 36,
   "metadata": {},
   "outputs": [
    {
     "data": {
      "text/plain": [
       "dict_keys(['loss', 'accuracy', 'val_loss', 'val_accuracy'])"
      ]
     },
     "execution_count": 36,
     "metadata": {},
     "output_type": "execute_result"
    }
   ],
   "source": [
    "classifier_history_dict.keys()"
   ]
  },
  {
   "cell_type": "code",
   "execution_count": 37,
   "metadata": {},
   "outputs": [],
   "source": [
    "acc = classifier_history_dict['accuracy']\n",
    "val_acc = classifier_history_dict['val_accuracy']\n",
    "loss = classifier_history_dict['loss']\n",
    "val_loss = classifier_history_dict['val_loss']"
   ]
  },
  {
   "cell_type": "code",
   "execution_count": 38,
   "metadata": {},
   "outputs": [],
   "source": [
    "epochs = range(1, len(acc) + 1) "
   ]
  },
  {
   "cell_type": "code",
   "execution_count": 39,
   "metadata": {},
   "outputs": [
    {
     "data": {
      "image/png": "[encoded data removed]",
      "text/plain": [
       "<Figure size 648x360 with 1 Axes>"
      ]
     },
     "metadata": {
      "needs_background": "light"
     },
     "output_type": "display_data"
    }
   ],
   "source": [
    "# \"bo\" is for \"blue dot\"\n",
    "plt.figure(figsize=(9, 5))\n",
    "plt.plot(epochs, loss, 'bo', label='Training loss')\n",
    "# b is for \"solid blue line\"\n",
    "plt.plot(epochs, val_loss, 'b', label='Validation loss')\n",
    "plt.title('Training and validation loss')\n",
    "plt.xlabel('Epochs')\n",
    "plt.ylabel('Loss')\n",
    "plt.grid(True)\n",
    "plt.legend()\n",
    "\n",
    "plt.show()"
   ]
  },
  {
   "cell_type": "code",
   "execution_count": 40,
   "metadata": {},
   "outputs": [
    {
     "data": {
      "image/png": "[encoded data removed]",
      "text/plain": [
       "<Figure size 648x360 with 1 Axes>"
      ]
     },
     "metadata": {
      "needs_background": "light"
     },
     "output_type": "display_data"
    }
   ],
   "source": [
    "plt.figure(figsize=(9, 5))\n",
    "plt.plot(epochs, acc, 'bo', label='Training acc')\n",
    "plt.plot(epochs, val_acc, 'b', label='Validation acc')\n",
    "plt.title('Training and validation accuracy')\n",
    "plt.xlabel('Epochs')\n",
    "plt.ylabel('Accuracy')\n",
    "plt.grid(True)\n",
    "plt.legend()\n",
    "\n",
    "plt.show()"
   ]
  },
  {
   "cell_type": "code",
   "execution_count": 41,
   "metadata": {},
   "outputs": [],
   "source": [
    "def print_my_examples(inputs, results, actual_values=None, limit=None):\n",
    "    if actual_values is None:\n",
    "        result_for_printing = [f'input:\\n\"{inputs[i]}\"\\nscore: {results[i][0]:.6f}' for i in range(len(inputs))]\n",
    "    else:\n",
    "        result_for_printing = [f'input:\\n\"{inputs[i]}\"\\nscore: {results[i][0]:.6f}\\nactual value:{actual_values[i]}' for i in range(len(inputs))]\n",
    "    if limit:\n",
    "        result_for_printing = result_for_printing[:limit]\n",
    "    print(*result_for_printing, sep='\\n\\n')"
   ]
  },
  {
   "cell_type": "code",
   "execution_count": 42,
   "metadata": {},
   "outputs": [
    {
     "name": "stdout",
     "output_type": "stream",
     "text": [
      "input:\n",
      "\"Absolutely incredible.  Played several games over the release weekend and woke up on Monday wanting to play more.  That's the sign of a game that will be an exciting part of my collection for a long time.\"\n",
      "score: 1.000000\n",
      "actual value:1\n",
      "\n",
      "input:\n",
      "\"My only criticism is that it drags with 4 players.\"\n",
      "score: 1.000000\n",
      "actual value:1\n",
      "\n",
      "input:\n",
      "\"Have Tabletopia and Table Top Simulator version and First Edition Print.  Rating after 3 x Tabletopia games & 3 person to person 3&5 player games.\"\n",
      "score: 1.000000\n",
      "actual value:1\n",
      "\n",
      "input:\n",
      "\"Difficult to master, but very enjoyable when in a not so competitive mood\"\n",
      "score: 1.000000\n",
      "actual value:1\n",
      "\n",
      "input:\n",
      "\"Completely lived up to the hype for me. I have only gotten to play it a handful of times so far, mainly because I work a lot, but I had a blast. The game hits all the buttons that I love about games; it looks great, the system is nicely done with a level of skill required to play, there is a lot or replay value, there is character progression and uniqueness to it, and there is a ton of strategy involved. The one down side is the amount of time the game takes to play. This may be improved once everyone gets the hang of the game and can make their moves at a faster pace. I will say that one of my friends does not like; he doesn't get how to play it properly and feels like he is at a disadvantage versus the rest of us because we are more experienced. I think he might have a point, but it also seems like he doesn't pay attention enough to learn proper tactics to be good at the game. All in all I will always be up for a game.  \"\n",
      "score: 1.000000\n",
      "actual value:1\n",
      "\n",
      "input:\n",
      "\"Amazing mechanics and an epic adventure!\"\n",
      "score: 1.000000\n",
      "actual value:1\n",
      "\n",
      "input:\n",
      "\"There were some clunky and slightly tiresome aspects to this game that took away some of the tension, but on the whole I found it to be mostly a dynamic and engaging Euro featuring very nice use of cards and resource balancing.\"\n",
      "score: 1.000000\n",
      "actual value:1\n",
      "\n",
      "input:\n",
      "\"One of my first games in my collection and wow, what a great one! It opend my eyes that boardgames are these days more complex than ever. BEST MEDITATION :)  One of my favorite ones! Great and epic GAME! LOVE IT!  EDIT: SOLD IT because the setup time was killing me!\"\n",
      "score: 1.000000\n",
      "actual value:1\n",
      "\n",
      "input:\n",
      "\"I’ve never played the original, but Brass Birmingham is super good.  Very thinky, can provoke some AP but it burns so good :)\"\n",
      "score: 1.000000\n",
      "actual value:1\n",
      "\n",
      "input:\n",
      "\"Played a 2-player game at Origins 2018.  I liked the mechanics but for 2 people there wasn't enough forced overlap to really make it fun.  I would guess at 4 players this could be really good.\"\n",
      "score: 0.000000\n",
      "actual value:0\n"
     ]
    },
    {
     "name": "stderr",
     "output_type": "stream",
     "text": [
      "C:\\Users\\dev999\\.conda\\envs\\tensorflow2\\lib\\site-packages\\tensorflow\\python\\keras\\engine\\sequential.py:455: UserWarning: `model.predict_classes()` is deprecated and will be removed after 2021-01-01. Please use instead:* `np.argmax(model.predict(x), axis=-1)`,   if your model does multi-class classification   (e.g. if it uses a `softmax` last-layer activation).* `(model.predict(x) > 0.5).astype(\"int32\")`,   if your model does binary classification   (e.g. if it uses a `sigmoid` last-layer activation).\n",
      "  warnings.warn('`model.predict_classes()` is deprecated and '\n"
     ]
    }
   ],
   "source": [
    "inputs = x_train_clf[:10]\n",
    "outputs = y_train_clf[:10]\n",
    "results = classifier.predict(tf.constant(inputs), verbose=0)\n",
    "print_my_examples(inputs, results, outputs)"
   ]
  },
  {
   "cell_type": "code",
   "execution_count": 43,
   "metadata": {},
   "outputs": [],
   "source": [
    "## APPLY MODEL ON NON-RATED COMMENTS"
   ]
  },
  {
   "cell_type": "code",
   "execution_count": 44,
   "metadata": {},
   "outputs": [
    {
     "name": "stdout",
     "output_type": "stream",
     "text": [
      "15/15 - 0s\n",
      "input:\n",
      "\"Brand new and Sleeved.  Love this little game.\"\n",
      "score: 1.000000\n",
      "\n",
      "input:\n",
      "\"Premium rebel 63.5x89 (odrobinę za dlugie) ,sloyca premium 44x68\"\n",
      "score: 1.000000\n",
      "\n",
      "input:\n",
      "\"Need to learn the rules Sleeved, Arcane Tinmen\"\n",
      "score: 1.000000\n",
      "\n",
      "input:\n",
      "\"[b]Negative points[/b]: • Insert is cheap and brittle.  ----  [b]Initial Impression[/b] (3p): Neutral  To be fair it's probably because of how overwhelming the game can be and not being able to understand how everything connects until almost the very end. (We won but it didn't feel as satisfying - maybe it was too easy?) Box insert seems to be made of cheap plastic and arrived partially shattered. Feels like Pandemic on steroids which is a good thing. Rulebook could have been structured a bit better. Felt weird playing this on the eve of Australia Day.\"\n",
      "score: 1.000000\n",
      "\n",
      "input:\n",
      "\"This may just be the most gorgeous game I have ever seen\"\n",
      "score: 1.000000\n",
      "\n",
      "input:\n",
      "\"Need to play more, but I made some super awesome Tikis out of polymer clay to represent the spirits. Brings the gameplay to another level.\"\n",
      "score: 1.000000\n",
      "\n",
      "input:\n",
      "\"A retheme of Terra Mystica that might possibly be improved with 2 players.\"\n",
      "score: 1.000000\n",
      "\n",
      "input:\n",
      "\"Never had enough time to commit- Sold for TI4 & Azul.\"\n",
      "score: 1.000000\n",
      "\n",
      "input:\n",
      "\"Expansions = Krang character card, The Lost Legion\"\n",
      "score: 1.000000\n",
      "\n",
      "input:\n",
      "\"2-4 Player Best 3 Player 40-70min Engine Building Bird Game\"\n",
      "score: 1.000000\n"
     ]
    }
   ],
   "source": [
    "not_rated_comments = not_rated_comments.sample(frac=1)\n",
    "results = classifier.predict(tf.constant(list(not_rated_comments.value.astype(str))))\n",
    "print_my_examples(list(not_rated_comments.value), results, limit=10)"
   ]
  },
  {
   "cell_type": "markdown",
   "metadata": {},
   "source": [
    "## REGRESSOR"
   ]
  },
  {
   "cell_type": "code",
   "execution_count": 45,
   "metadata": {},
   "outputs": [
    {
     "data": {
      "text/plain": [
       "GridSearchCV(cv=3,\n",
       "             estimator=<tensorflow.python.keras.wrappers.scikit_learn.KerasRegressor object at 0x00000203D9FED490>,\n",
       "             param_grid={})"
      ]
     },
     "execution_count": 45,
     "metadata": {},
     "output_type": "execute_result"
    }
   ],
   "source": [
    "def build_regressor():\n",
    "    return build_model(hub_layer, model_type='regressor', verbose=0)\n",
    "\n",
    "\n",
    "estimator = KerasRegressor(build_fn=build_regressor, epochs=100, batch_size=512, verbose=0, validation_split=VAL_FRACTION)\n",
    "x_train_reg = np.array(list(rated_comments.value))\n",
    "y_train_reg = np.array(list(rated_comments.rating.astype(float)))\n",
    "\n",
    "clf = GridSearchCV(\n",
    "    estimator, \n",
    "    cv=3, \n",
    "    param_grid={}\n",
    ")\n",
    "clf.fit(x_train_reg, y_train_reg, callbacks=[tf.keras.callbacks.EarlyStopping(monitor='val_mean_squared_error', patience=5, min_delta=0.001)])"
   ]
  },
  {
   "cell_type": "code",
   "execution_count": 46,
   "metadata": {},
   "outputs": [],
   "source": [
    "regressor = clf.best_estimator_\n",
    "regressor_history_dict = regressor.model.history.history"
   ]
  },
  {
   "cell_type": "code",
   "execution_count": 47,
   "metadata": {},
   "outputs": [
    {
     "data": {
      "text/plain": [
       "dict_keys(['loss', 'mean_squared_error', 'val_loss', 'val_mean_squared_error'])"
      ]
     },
     "execution_count": 47,
     "metadata": {},
     "output_type": "execute_result"
    }
   ],
   "source": [
    "regressor_history_dict.keys()"
   ]
  },
  {
   "cell_type": "code",
   "execution_count": 48,
   "metadata": {},
   "outputs": [],
   "source": [
    "mean_squared_error = regressor_history_dict['mean_squared_error']\n",
    "val_mean_squared_error = regressor_history_dict['val_mean_squared_error']\n",
    "loss = regressor_history_dict['loss']\n",
    "val_loss = regressor_history_dict['val_loss']"
   ]
  },
  {
   "cell_type": "code",
   "execution_count": 49,
   "metadata": {},
   "outputs": [],
   "source": [
    "epochs = range(1, len(mean_squared_error) + 1) "
   ]
  },
  {
   "cell_type": "code",
   "execution_count": 50,
   "metadata": {},
   "outputs": [
    {
     "data": {
      "image/png": "[encoded data removed]",
      "text/plain": [
       "<Figure size 648x360 with 1 Axes>"
      ]
     },
     "metadata": {
      "needs_background": "light"
     },
     "output_type": "display_data"
    }
   ],
   "source": [
    "# \"bo\" is for \"blue dot\"\n",
    "plt.figure(figsize=(9, 5))\n",
    "plt.plot(epochs, loss, 'bo', label='Training loss')\n",
    "# b is for \"solid blue line\"\n",
    "plt.plot(epochs, val_loss, 'b', label='Validation loss')\n",
    "plt.title('Training and validation loss')\n",
    "plt.xlabel('Epochs')\n",
    "plt.ylabel('Loss')\n",
    "plt.grid(True)\n",
    "plt.legend()\n",
    "\n",
    "plt.show()"
   ]
  },
  {
   "cell_type": "code",
   "execution_count": 51,
   "metadata": {},
   "outputs": [
    {
     "data": {
      "image/png": "[encoded data removed]",
      "text/plain": [
       "<Figure size 648x360 with 1 Axes>"
      ]
     },
     "metadata": {
      "needs_background": "light"
     },
     "output_type": "display_data"
    }
   ],
   "source": [
    "plt.figure(figsize=(9, 5))\n",
    "plt.plot(epochs, mean_squared_error, 'bo', label='Training mean squared error')\n",
    "plt.plot(epochs, val_mean_squared_error, 'b', label='Validation mean squared error')\n",
    "plt.title('Training and validation accuracy')\n",
    "plt.xlabel('Epochs')\n",
    "plt.ylabel('Mean squared error')\n",
    "plt.grid(True)\n",
    "plt.legend()\n",
    "\n",
    "plt.show()"
   ]
  },
  {
   "cell_type": "code",
   "execution_count": 52,
   "metadata": {},
   "outputs": [
    {
     "name": "stdout",
     "output_type": "stream",
     "text": [
      "input: \n",
      "\"Absolutely incredible.  Played several games over the release weekend and woke up on Monday wanting to play more.  That's the sign of a game that will be an exciting part of my collection for a long time.\"\n",
      "score: 9.25\n",
      "actual: 10.00 \n",
      "\n",
      "input: \n",
      "\"My only criticism is that it drags with 4 players.\"\n",
      "score: 8.40\n",
      "actual: 8.00 \n",
      "\n",
      "input: \n",
      "\"Have Tabletopia and Table Top Simulator version and First Edition Print.  Rating after 3 x Tabletopia games & 3 person to person 3&5 player games.\"\n",
      "score: 8.19\n",
      "actual: 8.50 \n",
      "\n",
      "input: \n",
      "\"Difficult to master, but very enjoyable when in a not so competitive mood\"\n",
      "score: 7.31\n",
      "actual: 9.00 \n",
      "\n",
      "input: \n",
      "\"Completely lived up to the hype for me. I have only gotten to play it a handful of times so far, mainly because I work a lot, but I had a blast. The game hits all the buttons that I love about games; it looks great, the system is nicely done with a level of skill required to play, there is a lot or replay value, there is character progression and uniqueness to it, and there is a ton of strategy involved. The one down side is the amount of time the game takes to play. This may be improved once everyone gets the hang of the game and can make their moves at a faster pace. I will say that one of my friends does not like; he doesn't get how to play it properly and feels like he is at a disadvantage versus the rest of us because we are more experienced. I think he might have a point, but it also seems like he doesn't pay attention enough to learn proper tactics to be good at the game. All in all I will always be up for a game.  \"\n",
      "score: 9.41\n",
      "actual: 9.00 \n",
      "\n",
      "input: \n",
      "\"Amazing mechanics and an epic adventure!\"\n",
      "score: 9.90\n",
      "actual: 10.00 \n",
      "\n",
      "input: \n",
      "\"There were some clunky and slightly tiresome aspects to this game that took away some of the tension, but on the whole I found it to be mostly a dynamic and engaging Euro featuring very nice use of cards and resource balancing.\"\n",
      "score: 7.46\n",
      "actual: 8.00 \n",
      "\n",
      "input: \n",
      "\"One of my first games in my collection and wow, what a great one! It opend my eyes that boardgames are these days more complex than ever. BEST MEDITATION :)  One of my favorite ones! Great and epic GAME! LOVE IT!  EDIT: SOLD IT because the setup time was killing me!\"\n",
      "score: 8.01\n",
      "actual: 8.00 \n",
      "\n",
      "input: \n",
      "\"I’ve never played the original, but Brass Birmingham is super good.  Very thinky, can provoke some AP but it burns so good :)\"\n",
      "score: 9.09\n",
      "actual: 9.00 \n",
      "\n",
      "input: \n",
      "\"Played a 2-player game at Origins 2018.  I liked the mechanics but for 2 people there wasn't enough forced overlap to really make it fun.  I would guess at 4 players this could be really good.\"\n",
      "score: 7.48\n",
      "actual: 6.00 \n",
      "\n"
     ]
    }
   ],
   "source": [
    "inputs = x_train_reg[:10]\n",
    "outputs = y_train_reg[:10]\n",
    "results = clf.best_estimator_.predict(tf.constant(inputs), verbose=0)\n",
    "for i in range(len(inputs)):\n",
    "    print(f\"input: \\n\\\"{inputs[i]}\\\"\\nscore: {results[i]:.2f}\\nactual: {outputs[i]:.2f} \\n\")"
   ]
  },
  {
   "cell_type": "markdown",
   "metadata": {},
   "source": [
    "## COMPARE CLASSIFIER VS REGRESSOR"
   ]
  },
  {
   "cell_type": "code",
   "execution_count": 53,
   "metadata": {},
   "outputs": [
    {
     "name": "stdout",
     "output_type": "stream",
     "text": [
      "\"1-6 Players // Best 3 // 40-80 min // All Expansions\"\n",
      "    reg score: 8.36\n",
      "    clf score: 1\n",
      "\n",
      "\"Nice components and mechanisms resource management, upgrades, variability, but at the end of the game not fun for me and I don't enjoy playing it.\"\n",
      "    reg score: 6.92\n",
      "    clf score: 0\n",
      "\n",
      "\"Gekauft bei spieletastisch ca.30,95 €\"\n",
      "    reg score: 2.81\n",
      "    clf score: 0\n",
      "\n",
      "\"Christmas present to self December 2020\"\n",
      "    reg score: 7.37\n",
      "    clf score: 1\n",
      "\n",
      "\"Kickstarter exclusive?  Best with 4 players, a lot to manage solitaire (solo)\"\n",
      "    reg score: 8.67\n",
      "    clf score: 1\n",
      "\n",
      "\"Pantheon and all promo wonders\"\n",
      "    reg score: 8.20\n",
      "    clf score: 1\n",
      "\n",
      "\"pre-ordered  on recent Kickstarter campaign\"\n",
      "    reg score: 9.92\n",
      "    clf score: 1\n",
      "\n",
      "\"Card Sleeves: Standard - Ultra Pro 81126 (Penny Sleeves)\"\n",
      "    reg score: 9.47\n",
      "    clf score: 1\n",
      "\n",
      "\"Unboxing:   Tutorial:   Aquí una partida:   Aquí una partida: \"\n",
      "    reg score: 7.35\n",
      "    clf score: 1\n",
      "\n",
      "\"Forschungs Wettlauf zu den Sternen. Deutsche Version von Strohmann Games geplant. Ohne Datum.\"\n",
      "    reg score: 8.99\n",
      "    clf score: 1\n",
      "\n"
     ]
    },
    {
     "name": "stderr",
     "output_type": "stream",
     "text": [
      "C:\\Users\\dev999\\.conda\\envs\\tensorflow2\\lib\\site-packages\\tensorflow\\python\\keras\\engine\\sequential.py:455: UserWarning: `model.predict_classes()` is deprecated and will be removed after 2021-01-01. Please use instead:* `np.argmax(model.predict(x), axis=-1)`,   if your model does multi-class classification   (e.g. if it uses a `softmax` last-layer activation).* `(model.predict(x) > 0.5).astype(\"int32\")`,   if your model does binary classification   (e.g. if it uses a `sigmoid` last-layer activation).\n",
      "  warnings.warn('`model.predict_classes()` is deprecated and '\n"
     ]
    }
   ],
   "source": [
    "not_rated_comments = not_rated_comments.sample(frac=1)\n",
    "inputs = list(not_rated_comments.value.astype(str))[:10]\n",
    "\n",
    "clf_results = classifier.predict(inputs, verbose=0)\n",
    "reg_results = regressor.predict(inputs, verbose=0)\n",
    "for i in range(len(inputs)):\n",
    "    print(f\"\"\"\\\"{inputs[i]}\\\"\n",
    "    reg score: {reg_results[i]:.2f}\n",
    "    clf score: {clf_results[i][0]}\n",
    "\"\"\")"
   ]
  },
  {
   "cell_type": "markdown",
   "metadata": {},
   "source": [
    "### RESULTS\n",
    "It seems that the regressor is much more accurate compared to the binary classifier => **let's use the regressors results to fix the BGG rating**"
   ]
  },
  {
   "cell_type": "markdown",
   "metadata": {},
   "source": [
    "## COMBINE RATED COMMENTS AND NOT-RATED COMMENTS WITH PREDICTED RATING"
   ]
  },
  {
   "cell_type": "code",
   "execution_count": 54,
   "metadata": {},
   "outputs": [
    {
     "name": "stdout",
     "output_type": "stream",
     "text": [
      "rated_comments_grouped: \n",
      "|     id |   rating_mean |   rating_count |\n",
      "|--------|---------------|----------------|\n",
      "| 124361 |          8.18 |           3845 |\n",
      "| 128721 |          7.62 |            249 |\n",
      "| 162886 |          8.35 |           3519 |\n",
      "| 167355 |          8.42 |           1812 |\n",
      "| 167791 |          8.21 |           8244 |\n"
     ]
    }
   ],
   "source": [
    "rated_comments['rating'] = rated_comments.rating.astype(float)\n",
    "rated_comments_grouped = rated_comments.groupby('id').agg({'rating': ['mean', 'count']})\n",
    "rated_comments_grouped.columns = list(rated_comments_grouped.columns.map('_'.join))\n",
    "rated_comments_grouped = rated_comments_grouped.reset_index()\n",
    "print(\"rated_comments_grouped: \")\n",
    "print(rated_comments_grouped.head().to_markdown(index=False, floatfmt='.2f', tablefmt='github'))"
   ]
  },
  {
   "cell_type": "code",
   "execution_count": 69,
   "metadata": {},
   "outputs": [],
   "source": [
    "not_rated_comments['rating'] = regressor.predict(list(not_rated_comments.value.astype(str)))"
   ]
  },
  {
   "cell_type": "code",
   "execution_count": 70,
   "metadata": {},
   "outputs": [
    {
     "name": "stdout",
     "output_type": "stream",
     "text": [
      "not_rated_comments_grouped: \n",
      "|     id |   rating_mean |   rating_count |\n",
      "|--------|---------------|----------------|\n",
      "| 124361 |          7.97 |            256 |\n",
      "| 128721 |          8.27 |             50 |\n",
      "| 162886 |          8.10 |            312 |\n",
      "| 167355 |          8.28 |            214 |\n",
      "| 167791 |          8.14 |            440 |\n"
     ]
    }
   ],
   "source": [
    "not_rated_comments['rating'] = not_rated_comments.rating.astype(float)\n",
    "not_rated_comments['rating'] = not_rated_comments['rating'].clip(0, 10)\n",
    "not_rated_comments_grouped = not_rated_comments.groupby('id').agg({'rating': ['mean', 'count']})\n",
    "not_rated_comments_grouped.columns = list(not_rated_comments_grouped.columns.map('_'.join))\n",
    "not_rated_comments_grouped = not_rated_comments_grouped.reset_index()\n",
    "print(\"not_rated_comments_grouped: \")\n",
    "print(not_rated_comments_grouped.head().to_markdown(index=False, floatfmt='.2f', tablefmt='github'))"
   ]
  },
  {
   "cell_type": "code",
   "execution_count": 71,
   "metadata": {},
   "outputs": [],
   "source": [
    "grouped = rated_comments_grouped.merge(not_rated_comments_grouped, on='id', suffixes=('_review', '_comments'), how='outer')\n",
    "grouped['id'] = grouped.id.astype(str)\n",
    "grouped = grouped.merge(pd.DataFrame(hot_array), on='id', how='right')\n",
    "grouped['rank'] = grouped['rank'].astype(int)\n",
    "grouped['url'] = grouped['id'].apply(lambda x: f\"https://boardgamegeek.com/boardgame/{x}\")\n",
    "grouped['fixed_rating'] = (grouped['rating_mean_review']*grouped['rating_count_review']+grouped['rating_mean_comments']*grouped['rating_count_comments']) /\\\n",
    "                            (grouped['rating_count_review']+grouped['rating_count_comments'])\n",
    "grouped['thumbnail'] = grouped['thumbnail'].apply(lambda x: f'<img src=\"{x}\" width=\"124\" />')\n",
    "grouped['name'] = grouped.apply(lambda x: f'<a href=\"{x[\"url\"]}\">{x[\"name\"]}</a>', axis=1)\n",
    "\n",
    "grouped = grouped[['thumbnail', 'name', 'rating_mean_review', 'rating_mean_comments', 'fixed_rating', 'rank', 'yearpublished']]"
   ]
  },
  {
   "cell_type": "code",
   "execution_count": 72,
   "metadata": {},
   "outputs": [
    {
     "data": {
      "text/html": [
       "<div>\n",
       "<style scoped>\n",
       "    .dataframe tbody tr th:only-of-type {\n",
       "        vertical-align: middle;\n",
       "    }\n",
       "\n",
       "    .dataframe tbody tr th {\n",
       "        vertical-align: top;\n",
       "    }\n",
       "\n",
       "    .dataframe thead th {\n",
       "        text-align: right;\n",
       "    }\n",
       "</style>\n",
       "<table border=\"1\" class=\"dataframe\">\n",
       "  <thead>\n",
       "    <tr style=\"text-align: right;\">\n",
       "      <th></th>\n",
       "      <th>thumbnail</th>\n",
       "      <th>name</th>\n",
       "      <th>rating_mean_review</th>\n",
       "      <th>rating_mean_comments</th>\n",
       "      <th>fixed_rating</th>\n",
       "      <th>rank</th>\n",
       "      <th>yearpublished</th>\n",
       "    </tr>\n",
       "  </thead>\n",
       "  <tbody>\n",
       "    <tr>\n",
       "      <th>0</th>\n",
       "      <td>&lt;img src=\"https://cf.geekdo-images.com/oaD1ZQ3...</td>\n",
       "      <td>&lt;a href=\"https://boardgamegeek.com/boardgame/2...</td>\n",
       "      <td>8.307619</td>\n",
       "      <td>7.979925</td>\n",
       "      <td>8.227464</td>\n",
       "      <td>1</td>\n",
       "      <td>2021</td>\n",
       "    </tr>\n",
       "    <tr>\n",
       "      <th>1</th>\n",
       "      <td>&lt;img src=\"https://cf.geekdo-images.com/tQVVSXc...</td>\n",
       "      <td>&lt;a href=\"https://boardgamegeek.com/boardgame/3...</td>\n",
       "      <td>7.531250</td>\n",
       "      <td>8.468117</td>\n",
       "      <td>7.868522</td>\n",
       "      <td>2</td>\n",
       "      <td>2022</td>\n",
       "    </tr>\n",
       "    <tr>\n",
       "      <th>2</th>\n",
       "      <td>&lt;img src=\"https://cf.geekdo-images.com/KTKXgGG...</td>\n",
       "      <td>&lt;a href=\"https://boardgamegeek.com/boardgame/3...</td>\n",
       "      <td>10.000000</td>\n",
       "      <td>5.841890</td>\n",
       "      <td>7.920945</td>\n",
       "      <td>3</td>\n",
       "      <td>2021</td>\n",
       "    </tr>\n",
       "    <tr>\n",
       "      <th>3</th>\n",
       "      <td>&lt;img src=\"https://cf.geekdo-images.com/6GqH14T...</td>\n",
       "      <td>&lt;a href=\"https://boardgamegeek.com/boardgame/3...</td>\n",
       "      <td>7.857066</td>\n",
       "      <td>7.838713</td>\n",
       "      <td>7.855444</td>\n",
       "      <td>4</td>\n",
       "      <td>2020</td>\n",
       "    </tr>\n",
       "    <tr>\n",
       "      <th>4</th>\n",
       "      <td>&lt;img src=\"https://cf.geekdo-images.com/A7IOpPt...</td>\n",
       "      <td>&lt;a href=\"https://boardgamegeek.com/boardgame/2...</td>\n",
       "      <td>7.357140</td>\n",
       "      <td>7.892917</td>\n",
       "      <td>7.398420</td>\n",
       "      <td>5</td>\n",
       "      <td>2017</td>\n",
       "    </tr>\n",
       "  </tbody>\n",
       "</table>\n",
       "</div>"
      ],
      "text/plain": [
       "                                           thumbnail  \\\n",
       "0  <img src=\"https://cf.geekdo-images.com/oaD1ZQ3...   \n",
       "1  <img src=\"https://cf.geekdo-images.com/tQVVSXc...   \n",
       "2  <img src=\"https://cf.geekdo-images.com/KTKXgGG...   \n",
       "3  <img src=\"https://cf.geekdo-images.com/6GqH14T...   \n",
       "4  <img src=\"https://cf.geekdo-images.com/A7IOpPt...   \n",
       "\n",
       "                                                name  rating_mean_review  \\\n",
       "0  <a href=\"https://boardgamegeek.com/boardgame/2...            8.307619   \n",
       "1  <a href=\"https://boardgamegeek.com/boardgame/3...            7.531250   \n",
       "2  <a href=\"https://boardgamegeek.com/boardgame/3...           10.000000   \n",
       "3  <a href=\"https://boardgamegeek.com/boardgame/3...            7.857066   \n",
       "4  <a href=\"https://boardgamegeek.com/boardgame/2...            7.357140   \n",
       "\n",
       "   rating_mean_comments  fixed_rating  rank yearpublished  \n",
       "0              7.979925      8.227464     1          2021  \n",
       "1              8.468117      7.868522     2          2022  \n",
       "2              5.841890      7.920945     3          2021  \n",
       "3              7.838713      7.855444     4          2020  \n",
       "4              7.892917      7.398420     5          2017  "
      ]
     },
     "execution_count": 72,
     "metadata": {},
     "output_type": "execute_result"
    }
   ],
   "source": [
    "grouped.head()"
   ]
  },
  {
   "cell_type": "code",
   "execution_count": 73,
   "metadata": {},
   "outputs": [],
   "source": [
    "def display_topn(by, n=5, ascending=True):\n",
    "    temp_df = grouped.sort_values(by, ascending=ascending).head(n)\n",
    "    temp_df.index=list(range(1, n+1))\n",
    "    return HTML(temp_df.to_html(escape=False, classes='table table-striped'))"
   ]
  },
  {
   "cell_type": "code",
   "execution_count": 74,
   "metadata": {},
   "outputs": [
    {
     "data": {
      "text/html": [
       "<table border=\"1\" class=\"dataframe table table-striped\">\n",
       "  <thead>\n",
       "    <tr style=\"text-align: right;\">\n",
       "      <th></th>\n",
       "      <th>thumbnail</th>\n",
       "      <th>name</th>\n",
       "      <th>rating_mean_review</th>\n",
       "      <th>rating_mean_comments</th>\n",
       "      <th>fixed_rating</th>\n",
       "      <th>rank</th>\n",
       "      <th>yearpublished</th>\n",
       "    </tr>\n",
       "  </thead>\n",
       "  <tbody>\n",
       "    <tr>\n",
       "      <th>1</th>\n",
       "      <td><img src=\"https://cf.geekdo-images.com/oaD1ZQ3yGj6lacLdtqgdnQ__thumb/img/1mCz7HPEFMeqaqJHsDZwEUc9ftw=/fit-in/200x150/filters:strip_icc()/pic5558118.png\" width=\"124\" /></td>\n",
       "      <td><a href=\"https://boardgamegeek.com/boardgame/285192\">Destinies</a></td>\n",
       "      <td>8.307619</td>\n",
       "      <td>7.979925</td>\n",
       "      <td>8.227464</td>\n",
       "      <td>1</td>\n",
       "      <td>2021</td>\n",
       "    </tr>\n",
       "    <tr>\n",
       "      <th>2</th>\n",
       "      <td><img src=\"https://cf.geekdo-images.com/tQVVSXcmYLvAoI28cp-2Tg__thumb/img/ahKWaUSws5zja4feB4VexkNV3Mc=/fit-in/200x150/filters:strip_icc()/pic5974859.jpg\" width=\"124\" /></td>\n",
       "      <td><a href=\"https://boardgamegeek.com/boardgame/331106\">The Witcher: Old World</a></td>\n",
       "      <td>7.531250</td>\n",
       "      <td>8.468117</td>\n",
       "      <td>7.868522</td>\n",
       "      <td>2</td>\n",
       "      <td>2022</td>\n",
       "    </tr>\n",
       "    <tr>\n",
       "      <th>3</th>\n",
       "      <td><img src=\"https://cf.geekdo-images.com/KTKXgGGyL4KkSQRphCWROw__thumb/img/kfO6wC4uNWeLXlFQvjDYcL-0DrI=/fit-in/200x150/filters:strip_icc()/pic6181696.png\" width=\"124\" /></td>\n",
       "      <td><a href=\"https://boardgamegeek.com/boardgame/339031\">The Goonies: Never Say Die</a></td>\n",
       "      <td>10.000000</td>\n",
       "      <td>5.841890</td>\n",
       "      <td>7.920945</td>\n",
       "      <td>3</td>\n",
       "      <td>2021</td>\n",
       "    </tr>\n",
       "    <tr>\n",
       "      <th>4</th>\n",
       "      <td><img src=\"https://cf.geekdo-images.com/6GqH14TJJhza86BX5HCLEQ__thumb/img/J8SVmGOJXZGxNjkT3xYNQU7Haxg=/fit-in/200x150/filters:strip_icc()/pic5674958.jpg\" width=\"124\" /></td>\n",
       "      <td><a href=\"https://boardgamegeek.com/boardgame/312484\">Lost Ruins of Arnak</a></td>\n",
       "      <td>7.857066</td>\n",
       "      <td>7.838713</td>\n",
       "      <td>7.855444</td>\n",
       "      <td>4</td>\n",
       "      <td>2020</td>\n",
       "    </tr>\n",
       "    <tr>\n",
       "      <th>5</th>\n",
       "      <td><img src=\"https://cf.geekdo-images.com/A7IOpPt-lHrMYsbRmxXWdQ__thumb/img/XoD3fXgApfY7-dfYyFeE6FVkbfY=/fit-in/200x150/filters:strip_icc()/pic6177962.jpg\" width=\"124\" /></td>\n",
       "      <td><a href=\"https://boardgamegeek.com/boardgame/223040\">Fantasy Realms</a></td>\n",
       "      <td>7.357140</td>\n",
       "      <td>7.892917</td>\n",
       "      <td>7.398420</td>\n",
       "      <td>5</td>\n",
       "      <td>2017</td>\n",
       "    </tr>\n",
       "  </tbody>\n",
       "</table>"
      ],
      "text/plain": [
       "<IPython.core.display.HTML object>"
      ]
     },
     "execution_count": 74,
     "metadata": {},
     "output_type": "execute_result"
    }
   ],
   "source": [
    "# TOP N RANK\n",
    "display_topn(by='rank', n=TOP_N)"
   ]
  },
  {
   "cell_type": "code",
   "execution_count": 75,
   "metadata": {},
   "outputs": [
    {
     "data": {
      "text/html": [
       "<table border=\"1\" class=\"dataframe table table-striped\">\n",
       "  <thead>\n",
       "    <tr style=\"text-align: right;\">\n",
       "      <th></th>\n",
       "      <th>thumbnail</th>\n",
       "      <th>name</th>\n",
       "      <th>rating_mean_review</th>\n",
       "      <th>rating_mean_comments</th>\n",
       "      <th>fixed_rating</th>\n",
       "      <th>rank</th>\n",
       "      <th>yearpublished</th>\n",
       "    </tr>\n",
       "  </thead>\n",
       "  <tbody>\n",
       "    <tr>\n",
       "      <th>1</th>\n",
       "      <td><img src=\"https://cf.geekdo-images.com/KTKXgGGyL4KkSQRphCWROw__thumb/img/kfO6wC4uNWeLXlFQvjDYcL-0DrI=/fit-in/200x150/filters:strip_icc()/pic6181696.png\" width=\"124\" /></td>\n",
       "      <td><a href=\"https://boardgamegeek.com/boardgame/339031\">The Goonies: Never Say Die</a></td>\n",
       "      <td>10.000000</td>\n",
       "      <td>5.841890</td>\n",
       "      <td>7.920945</td>\n",
       "      <td>3</td>\n",
       "      <td>2021</td>\n",
       "    </tr>\n",
       "    <tr>\n",
       "      <th>2</th>\n",
       "      <td><img src=\"https://cf.geekdo-images.com/nhWSmNJSTBAye6bxLa9x-Q__thumb/img/B4r1iyRl2Z2CcMrtBRQOKYwwngw=/fit-in/200x150/filters:strip_icc()/pic4779069.jpg\" width=\"124\" /></td>\n",
       "      <td><a href=\"https://boardgamegeek.com/boardgame/268012\">Chronicles of Drunagor: Age of Darkness</a></td>\n",
       "      <td>9.309524</td>\n",
       "      <td>8.841975</td>\n",
       "      <td>9.256842</td>\n",
       "      <td>43</td>\n",
       "      <td>2021</td>\n",
       "    </tr>\n",
       "    <tr>\n",
       "      <th>3</th>\n",
       "      <td><img src=\"https://cf.geekdo-images.com/Oh3kHw6lweg6ru71Q16h2Q__thumb/img/e9XZdQe1ZcPpaq4Gy31OoWBB_V0=/fit-in/200x150/filters:strip_icc()/pic5235277.jpg\" width=\"124\" /></td>\n",
       "      <td><a href=\"https://boardgamegeek.com/boardgame/246900\">Eclipse: Second Dawn for the Galaxy</a></td>\n",
       "      <td>8.742227</td>\n",
       "      <td>7.888690</td>\n",
       "      <td>8.608913</td>\n",
       "      <td>49</td>\n",
       "      <td>2020</td>\n",
       "    </tr>\n",
       "    <tr>\n",
       "      <th>4</th>\n",
       "      <td><img src=\"https://cf.geekdo-images.com/x3zxjr-Vw5iU4yDPg70Jgw__thumb/img/o18rjEemoWaVru9Y2TyPwuIaRfE=/fit-in/200x150/filters:strip_icc()/pic3490053.jpg\" width=\"124\" /></td>\n",
       "      <td><a href=\"https://boardgamegeek.com/boardgame/224517\">Brass: Birmingham</a></td>\n",
       "      <td>8.682122</td>\n",
       "      <td>8.112962</td>\n",
       "      <td>8.630462</td>\n",
       "      <td>23</td>\n",
       "      <td>2018</td>\n",
       "    </tr>\n",
       "    <tr>\n",
       "      <th>5</th>\n",
       "      <td><img src=\"https://cf.geekdo-images.com/hRuD1y5BxdNpssgBqamS0A__thumb/img/fpUu1t2YLjJ4EvEzBGTKtZasNv4=/fit-in/200x150/filters:strip_icc()/pic4595897.jpg\" width=\"124\" /></td>\n",
       "      <td><a href=\"https://boardgamegeek.com/boardgame/169427\">Middara: Unintentional Malum – Act 1</a></td>\n",
       "      <td>8.612134</td>\n",
       "      <td>8.246915</td>\n",
       "      <td>8.523596</td>\n",
       "      <td>45</td>\n",
       "      <td>2019</td>\n",
       "    </tr>\n",
       "  </tbody>\n",
       "</table>"
      ],
      "text/plain": [
       "<IPython.core.display.HTML object>"
      ]
     },
     "execution_count": 75,
     "metadata": {},
     "output_type": "execute_result"
    }
   ],
   "source": [
    "# TOP N REVIEW RANK\n",
    "display_topn(by='rating_mean_review', n=TOP_N, ascending=False)"
   ]
  },
  {
   "cell_type": "code",
   "execution_count": 76,
   "metadata": {},
   "outputs": [
    {
     "data": {
      "text/html": [
       "<table border=\"1\" class=\"dataframe table table-striped\">\n",
       "  <thead>\n",
       "    <tr style=\"text-align: right;\">\n",
       "      <th></th>\n",
       "      <th>thumbnail</th>\n",
       "      <th>name</th>\n",
       "      <th>rating_mean_review</th>\n",
       "      <th>rating_mean_comments</th>\n",
       "      <th>fixed_rating</th>\n",
       "      <th>rank</th>\n",
       "      <th>yearpublished</th>\n",
       "    </tr>\n",
       "  </thead>\n",
       "  <tbody>\n",
       "    <tr>\n",
       "      <th>1</th>\n",
       "      <td><img src=\"https://cf.geekdo-images.com/nhWSmNJSTBAye6bxLa9x-Q__thumb/img/B4r1iyRl2Z2CcMrtBRQOKYwwngw=/fit-in/200x150/filters:strip_icc()/pic4779069.jpg\" width=\"124\" /></td>\n",
       "      <td><a href=\"https://boardgamegeek.com/boardgame/268012\">Chronicles of Drunagor: Age of Darkness</a></td>\n",
       "      <td>9.309524</td>\n",
       "      <td>8.841975</td>\n",
       "      <td>9.256842</td>\n",
       "      <td>43</td>\n",
       "      <td>2021</td>\n",
       "    </tr>\n",
       "    <tr>\n",
       "      <th>2</th>\n",
       "      <td><img src=\"https://cf.geekdo-images.com/zpB7-Ft9oeFQrKp3qId1yQ__thumb/img/4rubgto8kprNooLH0wYjwjxUEKg=/fit-in/200x150/filters:strip_icc()/pic6170884.png\" width=\"124\" /></td>\n",
       "      <td><a href=\"https://boardgamegeek.com/boardgame/338468\">Paperback Adventures</a></td>\n",
       "      <td>8.400000</td>\n",
       "      <td>9.370757</td>\n",
       "      <td>8.764034</td>\n",
       "      <td>12</td>\n",
       "      <td>2021</td>\n",
       "    </tr>\n",
       "    <tr>\n",
       "      <th>3</th>\n",
       "      <td><img src=\"https://cf.geekdo-images.com/z4QtTBaabg2OCJfGNQ1x6g__thumb/img/pCv-Ojnr07dqZRdst7KtZDiOkGU=/fit-in/200x150/filters:strip_icc()/pic6177915.png\" width=\"124\" /></td>\n",
       "      <td><a href=\"https://boardgamegeek.com/boardgame/338841\">Lost Ruins of Arnak: The Search for Professor Kutil</a></td>\n",
       "      <td>8.500000</td>\n",
       "      <td>9.088474</td>\n",
       "      <td>8.696158</td>\n",
       "      <td>11</td>\n",
       "      <td>2021</td>\n",
       "    </tr>\n",
       "    <tr>\n",
       "      <th>4</th>\n",
       "      <td><img src=\"https://cf.geekdo-images.com/x3zxjr-Vw5iU4yDPg70Jgw__thumb/img/o18rjEemoWaVru9Y2TyPwuIaRfE=/fit-in/200x150/filters:strip_icc()/pic3490053.jpg\" width=\"124\" /></td>\n",
       "      <td><a href=\"https://boardgamegeek.com/boardgame/224517\">Brass: Birmingham</a></td>\n",
       "      <td>8.682122</td>\n",
       "      <td>8.112962</td>\n",
       "      <td>8.630462</td>\n",
       "      <td>23</td>\n",
       "      <td>2018</td>\n",
       "    </tr>\n",
       "    <tr>\n",
       "      <th>5</th>\n",
       "      <td><img src=\"https://cf.geekdo-images.com/Oh3kHw6lweg6ru71Q16h2Q__thumb/img/e9XZdQe1ZcPpaq4Gy31OoWBB_V0=/fit-in/200x150/filters:strip_icc()/pic5235277.jpg\" width=\"124\" /></td>\n",
       "      <td><a href=\"https://boardgamegeek.com/boardgame/246900\">Eclipse: Second Dawn for the Galaxy</a></td>\n",
       "      <td>8.742227</td>\n",
       "      <td>7.888690</td>\n",
       "      <td>8.608913</td>\n",
       "      <td>49</td>\n",
       "      <td>2020</td>\n",
       "    </tr>\n",
       "  </tbody>\n",
       "</table>"
      ],
      "text/plain": [
       "<IPython.core.display.HTML object>"
      ]
     },
     "execution_count": 76,
     "metadata": {},
     "output_type": "execute_result"
    }
   ],
   "source": [
    "# TOP N FIXED RANK\n",
    "display_topn(by='fixed_rating', n=TOP_N, ascending=False)"
   ]
  },
  {
   "cell_type": "code",
   "execution_count": 77,
   "metadata": {},
   "outputs": [],
   "source": [
    "# model.save('saved_model\\my_model')"
   ]
  },
  {
   "cell_type": "code",
   "execution_count": 78,
   "metadata": {},
   "outputs": [],
   "source": [
    "# saved_model = tf.keras.models.load_model('saved_model\\my_model')"
   ]
  },
  {
   "cell_type": "code",
   "execution_count": 79,
   "metadata": {},
   "outputs": [],
   "source": [
    "# some examples on \"long\" comments vs short comments"
   ]
  },
  {
   "cell_type": "code",
   "execution_count": 80,
   "metadata": {},
   "outputs": [],
   "source": [
    "not_rated_comments['comment_len'] = not_rated_comments['value'].str.len()\n",
    "some_long_comments = not_rated_comments.query(\"comment_len>100 and comment_len<300\").sample(frac=1).head(25).sort_values('rating')"
   ]
  },
  {
   "cell_type": "code",
   "execution_count": 81,
   "metadata": {},
   "outputs": [
    {
     "name": "stdout",
     "output_type": "stream",
     "text": [
      "\"Would take in trade if complete, that is, no legacy aspects have been done, rendering it otherwise useless... unsure about this title though. \"\n",
      "score: 2.70\n",
      "\n",
      "\"2. Grundspiel, um: - Alle Karten oft genug zu haben, damit sie beliebig verwendet werden können (also jede nicht-Szenario-Deckbau-Karte jeweils mindestens 2x). - Das Spiel zu 4 Spielern zu ermöglichen.\"\n",
      "score: 4.40\n",
      "\n",
      "\"Really good trick taking game.  Unfortunately, I discovered very shortly afterwards that the rest of the family doesn’t do trick taking games!\"\n",
      "score: 4.99\n",
      "\n",
      "\"Wingspan is a decent game, nice mechanics, interesting theme and it looks good (I will never forget those colored eggs or the dice tower).  But for me it was just another euro that I played for a couple of times and then it sat on my shelf.  So I have ended up selling it.\"\n",
      "score: 5.98\n",
      "\n",
      "\"Definitely not the game for me. Played 19 scenarios and all but 5th and 6th scenarios played were agonizingly unenjoyable. It was repetitive, had dumb monster AI, rolling modifier?, takes the worst part of a board game and an RPG and combines them.\"\n",
      "score: 6.37\n",
      "\n",
      "\"2 person, strategy Card game/city building/civilization Card drafting, set collection, sudden death ending, tug of war\"\n",
      "score: 7.01\n",
      "\n",
      "\"Own everything card wise up to Carcosa Phantom of Truth, Alt art cards of Jenny Barnes, Norman Withers, and Daisy Walker. Also have Marie Lambau from the Investigators of Arkham Horror Book.\"\n",
      "score: 7.36\n",
      "\n",
      "\"Includes 'Lost Legion' expansion; Both contained in main box, w/no plastic insert. For calculating postage, packaged weight is 5#-2 oz.; Mailed from NY zip 13760.\"\n",
      "score: 7.40\n",
      "\n",
      "\"Je vais devoir fini Jaws of the Lion avant de jouer Gloomhaven qui devrait rendu là prendre la place de Jaws of the Lion dans mon top 10.  Il reste un jeu exceptionnel que j'ai hate d'attaquer avec un groupe recurrent.\"\n",
      "score: 7.42\n",
      "\n",
      "\"I really like the idea of this gaming experience.  The only reason I didn't back it is I'm not sure how often I can get a consistent group together to play\"\n",
      "score: 7.52\n",
      "\n",
      "\"Played a friend's copy and really enjoyed it. It's difficult and has a large learning curve but we felt we got close enough that we might win next time.\"\n",
      "score: 7.53\n",
      "\n",
      "\"Haven’t played the big brother enough to compare, but the person who taught me has, and said she preferred the full game best. I really enjoyed Duel, but one game …that’s just a learning game.\"\n",
      "score: 7.62\n",
      "\n",
      "\"The new lovercraft game, arkham + solitaire + no possibility of release in brazil. great choice for a gift\"\n",
      "score: 7.76\n",
      "\n",
      "\"Online Steam, very good solo mode too. Early on multi-player had a lot of problems which have been fixed. There's no Undo button, only core game.\"\n",
      "score: 7.82\n",
      "\n",
      "\"2.92   Base Set  Cycle Expansions: The Dunwich Legacy (Complete Cycle)  Print-To-Play: Curse of the Rugarou Carnivale Of Horrors\"\n",
      "score: 7.84\n",
      "\n",
      "\"Distilled version of 7 Wonders in a 2-player package.  I like this quite a bit.  I think this checks the boxes I care about for a \"quick\" two player strategic experience.\"\n",
      "score: 7.94\n",
      "\n",
      "\"Rahdo says Lehmann best, but take that. Vasel loves. Joel dislikes, no tension, late game predictable. Preorders @$32, wait for $20?\"\n",
      "score: 7.99\n",
      "\n",
      "\"7 Wonders: Duel --   I've only played a couple times, but I found it to be a great two-player implementation of the 7 Wonders game engine.  *** Looking forward to the Agora expansion *** (Mentioned in \"\n",
      "score: 8.11\n",
      "\n",
      "\"Good 2p game with a mixture of luck & planning with planning able to mitigate most of the luck elements.   Recommend setting up all 3 ages before play if you've got the table space. Tho if you don't, it is nice to catch up and talk with your SO while you set up the next ages too :)\"\n",
      "score: 8.30\n",
      "\n",
      "\"Heavy euro coop game. Fantastic!  Demanding, hard to master, need planning and strategic thinking.  Everything we're looking for in board games is inside this game. WOW! true gem.  ------------------------- english version sold, waiting for polish edition -------------------------\"\n",
      "score: 8.32\n",
      "\n",
      "\"Looks very interesting. Can I get the rewarding gameplay of Gloomhaven without the massive box? If so then this might replace the original. Then again, if they ever implemented the map system used in this game as part of the original, that might help me get it to the table a lot more often.\"\n",
      "score: 8.55\n",
      "\n",
      "\"Played a single game XD  It's good, yes. But I haven't the dedicated players that would wish to play the same thing each week.\"\n",
      "score: 8.62\n",
      "\n",
      "\"Immersive experience with a lot of tough decisions, a sandbox-y feel, and multiple ways to win - things that make it exceptionally tough as a beginner, but probably make it really shine in the long-term.\"\n",
      "score: 9.55\n",
      "\n",
      "\"Kickstarted 2015.  2016 acquisition.  Box survived minimal packaging provided by the shipping game company.  Legendary box acquired 2018.\"\n",
      "score: 9.85\n",
      "\n",
      "\"Signed copy - Sleeved with Sleeve King, organized with Meeple Realty insert. Updated w/ current balance changes\"\n",
      "score: 10.00\n",
      "\n"
     ]
    }
   ],
   "source": [
    "some_long_comments.apply(lambda c: print(f\"\\\"{c['value']}\\\"\\nscore: {c['rating']:.2f}\\n\"), axis=1);"
   ]
  },
  {
   "cell_type": "code",
   "execution_count": null,
   "metadata": {},
   "outputs": [],
   "source": []
  }
 ],
 "metadata": {
  "kernelspec": {
   "display_name": "tensorflow2",
   "language": "python",
   "name": "tensorflow2"
  },
  "language_info": {
   "codemirror_mode": {
    "name": "ipython",
    "version": 3
   },
   "file_extension": ".py",
   "mimetype": "text/x-python",
   "name": "python",
   "nbconvert_exporter": "python",
   "pygments_lexer": "ipython3",
   "version": "3.8.8"
  }
 },
 "nbformat": 4,
 "nbformat_minor": 4
}
