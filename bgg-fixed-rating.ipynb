{
 "cells": [
  {
   "cell_type": "code",
   "execution_count": 1,
   "metadata": {},
   "outputs": [],
   "source": [
    "# ## BGG API\n",
    "# https://www.boardgamegeek.com/xmlapi2/thing?id=161599&comments=1\n",
    "# https://www.boardgamegeek.com/xmlapi2/hot?type=boardgame\n",
    "# ## NLP WITH TF\n",
    "# https://www.tensorflow.org/hub/tutorials/tf2_text_classification"
   ]
  },
  {
   "cell_type": "code",
   "execution_count": 2,
   "metadata": {},
   "outputs": [
    {
     "name": "stdout",
     "output_type": "stream",
     "text": [
      "Version:  2.1.0\n",
      "Eager mode:  True\n",
      "Hub version:  0.12.0\n",
      "GPU is NOT AVAILABLE\n"
     ]
    }
   ],
   "source": [
    "import tensorflow as tf\n",
    "import tensorflow_hub as hub\n",
    "import tensorflow_datasets as tfds\n",
    "\n",
    "import xml.etree.ElementTree as Xet\n",
    "import matplotlib.pyplot as plt\n",
    "import pandas as pd\n",
    "import numpy as np\n",
    "import requests\n",
    "from IPython.display import Image, HTML\n",
    "\n",
    "from langdetect import detect\n",
    "import re\n",
    "\n",
    "print(\"Version: \", tf.__version__)\n",
    "print(\"Eager mode: \", tf.executing_eagerly())\n",
    "print(\"Hub version: \", hub.__version__)\n",
    "print(\"GPU is\", \"available\" if tf.config.list_physical_devices('GPU') else \"NOT AVAILABLE\")"
   ]
  },
  {
   "cell_type": "code",
   "execution_count": 3,
   "metadata": {},
   "outputs": [],
   "source": [
    "GOOD_REVIEW_THRESHOLD = 7"
   ]
  },
  {
   "cell_type": "code",
   "execution_count": 4,
   "metadata": {},
   "outputs": [],
   "source": [
    "VAL_FRACTION = 0.25"
   ]
  },
  {
   "cell_type": "code",
   "execution_count": 5,
   "metadata": {},
   "outputs": [],
   "source": [
    "MIN_COMMENT_LEN = 25"
   ]
  },
  {
   "cell_type": "code",
   "execution_count": 6,
   "metadata": {},
   "outputs": [],
   "source": [
    "TOP_N = 5"
   ]
  },
  {
   "cell_type": "markdown",
   "metadata": {},
   "source": [
    "## GET DATA"
   ]
  },
  {
   "cell_type": "code",
   "execution_count": 7,
   "metadata": {},
   "outputs": [],
   "source": [
    "def get_hot_data():\n",
    "    hot = requests.get(\"https://www.boardgamegeek.com/xmlapi2/hot?type=boardgame\").content.decode()\n",
    "  \n",
    "    # Parsing the XML file\n",
    "    xmlparse = Xet.fromstring(hot)\n",
    "\n",
    "    hot_array = []\n",
    "    for item in xmlparse:\n",
    "        dict_element = {\n",
    "            \"id\": item.get(\"id\"),\n",
    "            \"rank\": item.get(\"rank\")\n",
    "        }\n",
    "        for option in item:\n",
    "            dict_element[option.tag] = option.get(\"value\")\n",
    "        hot_array.append(dict_element)\n",
    "    return hot_array"
   ]
  },
  {
   "cell_type": "code",
   "execution_count": 8,
   "metadata": {},
   "outputs": [],
   "source": [
    "def get_comments(id_array, verbose=1):\n",
    "    max_comments_per_page = 1\n",
    "    array_ids = [h['id'] for h in id_array]\n",
    "    ids = ','.join(array_ids)\n",
    "    page_size = 100\n",
    "    page_number = 0\n",
    "    comments_array = []\n",
    "\n",
    "    while max_comments_per_page > 0 and len(array_ids) > 0:\n",
    "        page_number += 1\n",
    "        if verbose>0 and page_number%verbose==0:\n",
    "            print(f\"page number = {page_number}\", end=\" \")\n",
    "        comments = requests.get(f\"https://www.boardgamegeek.com/xmlapi2/thing?id={ids}&comments=1&pagesize={page_size}&page={page_number}\").content.decode()\n",
    "\n",
    "        # Parsing the XML file\n",
    "        xmlparse = Xet.fromstring(comments)\n",
    "        comments_per_item = []\n",
    "        for item in xmlparse:        \n",
    "            for option in item:\n",
    "                if option.tag == 'comments':\n",
    "                    comments_per_page = 0\n",
    "                    for comment in option:\n",
    "                        comments_per_page += 1\n",
    "                        dict_element = {\n",
    "                            \"id\": item.get(\"id\"),\n",
    "                            \"username\": comment.get(\"username\"),\n",
    "                            \"rating\": comment.get(\"rating\"),\n",
    "                            \"value\": comment.get(\"value\")\n",
    "                        }\n",
    "                        comments_array.append(dict_element)\n",
    "                    if comments_per_page==0:\n",
    "                        array_ids.remove(item.get(\"id\"))\n",
    "                        ids = ','.join(array_ids)\n",
    "                    comments_per_item.append(comments_per_page)\n",
    "        max_comments_per_page = max(comments_per_item)\n",
    "        if verbose>0 and page_number%verbose==0:\n",
    "            print(f\"(max: {max(comments_per_item)}, len: {len(comments_per_item)})\")\n",
    "    comments_df = pd.DataFrame(comments_array)\n",
    "    print(f\"comments_df shape: {comments_df.shape}\")\n",
    "    return comments_df"
   ]
  },
  {
   "cell_type": "code",
   "execution_count": 9,
   "metadata": {},
   "outputs": [
    {
     "data": {
      "text/plain": [
       "[{'id': '316624',\n",
       "  'rank': '1',\n",
       "  'thumbnail': 'https://cf.geekdo-images.com/eUiju5SqZbkNt8gnEofrTw__thumb/img/zNkmLNyeXJGOY24FeAAf4U67ejU=/fit-in/200x150/filters:strip_icc()/pic6035127.png',\n",
       "  'name': 'Stationfall',\n",
       "  'yearpublished': '2021'},\n",
       " {'id': '312484',\n",
       "  'rank': '2',\n",
       "  'thumbnail': 'https://cf.geekdo-images.com/6GqH14TJJhza86BX5HCLEQ__thumb/img/J8SVmGOJXZGxNjkT3xYNQU7Haxg=/fit-in/200x150/filters:strip_icc()/pic5674958.jpg',\n",
       "  'name': 'Lost Ruins of Arnak',\n",
       "  'yearpublished': '2020'}]"
      ]
     },
     "execution_count": 9,
     "metadata": {},
     "output_type": "execute_result"
    }
   ],
   "source": [
    "hot_array = get_hot_data()\n",
    "hot_array[:2]"
   ]
  },
  {
   "cell_type": "code",
   "execution_count": 72,
   "metadata": {},
   "outputs": [
    {
     "name": "stdout",
     "output_type": "stream",
     "text": [
      "reading dataframe from csv file...\n"
     ]
    },
    {
     "data": {
      "text/html": [
       "<div>\n",
       "<style scoped>\n",
       "    .dataframe tbody tr th:only-of-type {\n",
       "        vertical-align: middle;\n",
       "    }\n",
       "\n",
       "    .dataframe tbody tr th {\n",
       "        vertical-align: top;\n",
       "    }\n",
       "\n",
       "    .dataframe thead th {\n",
       "        text-align: right;\n",
       "    }\n",
       "</style>\n",
       "<table border=\"1\" class=\"dataframe\">\n",
       "  <thead>\n",
       "    <tr style=\"text-align: right;\">\n",
       "      <th></th>\n",
       "      <th>id</th>\n",
       "      <th>username</th>\n",
       "      <th>rating</th>\n",
       "      <th>value</th>\n",
       "    </tr>\n",
       "  </thead>\n",
       "  <tbody>\n",
       "    <tr>\n",
       "      <th>0</th>\n",
       "      <td>316624</td>\n",
       "      <td>abubrooklyn</td>\n",
       "      <td>10</td>\n",
       "      <td>Do yourself a favor and play this game.</td>\n",
       "    </tr>\n",
       "    <tr>\n",
       "      <th>1</th>\n",
       "      <td>316624</td>\n",
       "      <td>ajewo</td>\n",
       "      <td>N/A</td>\n",
       "      <td>Stationsfall seems to be similar to Nemesis.  ...</td>\n",
       "    </tr>\n",
       "    <tr>\n",
       "      <th>2</th>\n",
       "      <td>316624</td>\n",
       "      <td>Andy Mesa</td>\n",
       "      <td>10</td>\n",
       "      <td>This game tells the best stories of any game I...</td>\n",
       "    </tr>\n",
       "    <tr>\n",
       "      <th>3</th>\n",
       "      <td>316624</td>\n",
       "      <td>BGG_is_racist55</td>\n",
       "      <td>10</td>\n",
       "      <td>BGG is racist, deletes uncomfortable opinions,...</td>\n",
       "    </tr>\n",
       "    <tr>\n",
       "      <th>4</th>\n",
       "      <td>316624</td>\n",
       "      <td>bigduff</td>\n",
       "      <td>N/A</td>\n",
       "      <td>Backed on KS (Crowdfinder)</td>\n",
       "    </tr>\n",
       "    <tr>\n",
       "      <th>...</th>\n",
       "      <td>...</td>\n",
       "      <td>...</td>\n",
       "      <td>...</td>\n",
       "      <td>...</td>\n",
       "    </tr>\n",
       "    <tr>\n",
       "      <th>89550</th>\n",
       "      <td>167791</td>\n",
       "      <td>z_zadar</td>\n",
       "      <td>9</td>\n",
       "      <td>Some games are so much fun. Others can be a li...</td>\n",
       "    </tr>\n",
       "    <tr>\n",
       "      <th>89551</th>\n",
       "      <td>167791</td>\n",
       "      <td>_Czid_</td>\n",
       "      <td>8</td>\n",
       "      <td>Have played with Elysium and Prelude expansion...</td>\n",
       "    </tr>\n",
       "    <tr>\n",
       "      <th>89552</th>\n",
       "      <td>167791</td>\n",
       "      <td>_Marty_</td>\n",
       "      <td>9.5</td>\n",
       "      <td>Fantastic game. With so many cards that can ch...</td>\n",
       "    </tr>\n",
       "    <tr>\n",
       "      <th>89553</th>\n",
       "      <td>167791</td>\n",
       "      <td>_mun_</td>\n",
       "      <td>10</td>\n",
       "      <td>Nagyon izgalmas játék, jó a mechanizmusa. A sz...</td>\n",
       "    </tr>\n",
       "    <tr>\n",
       "      <th>89554</th>\n",
       "      <td>167791</td>\n",
       "      <td>_The_Inquiry_</td>\n",
       "      <td>5</td>\n",
       "      <td>Prior to 2020: 2 plays  TM is one of those gam...</td>\n",
       "    </tr>\n",
       "  </tbody>\n",
       "</table>\n",
       "<p>89555 rows × 4 columns</p>\n",
       "</div>"
      ],
      "text/plain": [
       "           id         username rating  \\\n",
       "0      316624      abubrooklyn     10   \n",
       "1      316624            ajewo    N/A   \n",
       "2      316624        Andy Mesa     10   \n",
       "3      316624  BGG_is_racist55     10   \n",
       "4      316624          bigduff    N/A   \n",
       "...       ...              ...    ...   \n",
       "89550  167791          z_zadar      9   \n",
       "89551  167791           _Czid_      8   \n",
       "89552  167791          _Marty_    9.5   \n",
       "89553  167791            _mun_     10   \n",
       "89554  167791    _The_Inquiry_      5   \n",
       "\n",
       "                                                   value  \n",
       "0                Do yourself a favor and play this game.  \n",
       "1      Stationsfall seems to be similar to Nemesis.  ...  \n",
       "2      This game tells the best stories of any game I...  \n",
       "3      BGG is racist, deletes uncomfortable opinions,...  \n",
       "4                             Backed on KS (Crowdfinder)  \n",
       "...                                                  ...  \n",
       "89550  Some games are so much fun. Others can be a li...  \n",
       "89551  Have played with Elysium and Prelude expansion...  \n",
       "89552  Fantastic game. With so many cards that can ch...  \n",
       "89553  Nagyon izgalmas játék, jó a mechanizmusa. A sz...  \n",
       "89554  Prior to 2020: 2 plays  TM is one of those gam...  \n",
       "\n",
       "[89555 rows x 4 columns]"
      ]
     },
     "execution_count": 72,
     "metadata": {},
     "output_type": "execute_result"
    }
   ],
   "source": [
    "try:\n",
    "    comments_df = pd.read_csv(f\"comments_{pd.datetime.now().strftime('%Y%m%d')}.csv\")\n",
    "    comments_df['rating'] = comments_df.rating.fillna('N/A')\n",
    "    print(\"reading dataframe from csv file...\")\n",
    "except:\n",
    "    print(\"missing csv file, getting new data using API...\")\n",
    "    comments_df = get_comments(hot_array, verbose=10)\n",
    "    comments_df.to_csv(f\"comments_{pd.datetime.now().strftime('%Y%m%d')}.csv\", index=False)\n",
    "comments_df"
   ]
  },
  {
   "cell_type": "markdown",
   "metadata": {},
   "source": [
    "## DATA CLEANING"
   ]
  },
  {
   "cell_type": "code",
   "execution_count": 73,
   "metadata": {},
   "outputs": [],
   "source": [
    "# probably we should keep all the ratings (no matters the len) and remove only the simple comments under a certain len  "
   ]
  },
  {
   "cell_type": "code",
   "execution_count": 74,
   "metadata": {},
   "outputs": [],
   "source": [
    "comments_df[\"value\"] = comments_df[\"value\"].astype(str)"
   ]
  },
  {
   "cell_type": "code",
   "execution_count": 75,
   "metadata": {},
   "outputs": [],
   "source": [
    "# REMOVE URLs FROM COMMENTS"
   ]
  },
  {
   "cell_type": "code",
   "execution_count": 76,
   "metadata": {},
   "outputs": [],
   "source": [
    "comments_df['value'] = [re.sub(r\"http\\S+\", \"\", v) for v in comments_df.value.values]"
   ]
  },
  {
   "cell_type": "code",
   "execution_count": 81,
   "metadata": {},
   "outputs": [],
   "source": [
    "# REMOVE SHORT COMMENTS\n",
    "def remove_short_comments(df: pd.DataFrame, min_len=25, method='unrated'):\n",
    "    df_local = df.copy()\n",
    "    if method not in ['unrated', 'rated', 'both']:\n",
    "        raise AttributeError(f\"method {method} not allowed\")\n",
    "    df_local['comment_len'] = [len(re.findall(\"[A-Za-z]\", v)) for v in df_local['value'].values]\n",
    "    if method == 'rated':\n",
    "        df_local = df_local.query('(comment_len>@min_len and rating != \"N/A\") or rating == \"N/A\"')\n",
    "    elif method == 'unrated':\n",
    "        df_local = df_local.query('(comment_len>@min_len and rating == \"N/A\") or rating != \"N/A\"')\n",
    "    else:\n",
    "        df_local = df_local.query('comment_len>@min_len')\n",
    "    print(f\"removed {len(df)-len(df_local)} for 'remove_short_comments' - min len: {min_len} - method: {method}\")\n",
    "    return df_local.reset_index(drop=True)"
   ]
  },
  {
   "cell_type": "code",
   "execution_count": 85,
   "metadata": {},
   "outputs": [
    {
     "name": "stdout",
     "output_type": "stream",
     "text": [
      "removed 15196 for 'remove_short_comments' - min len: 25 - method: unrated\n"
     ]
    }
   ],
   "source": [
    "comments_df = remove_short_comments(comments_df, MIN_COMMENT_LEN)"
   ]
  },
  {
   "cell_type": "code",
   "execution_count": 86,
   "metadata": {},
   "outputs": [],
   "source": [
    "# REMOVE NON ENGLISH COMMENTS"
   ]
  },
  {
   "cell_type": "code",
   "execution_count": 87,
   "metadata": {},
   "outputs": [],
   "source": [
    "# !conda install -c conda-forge langdetect"
   ]
  },
  {
   "cell_type": "code",
   "execution_count": 88,
   "metadata": {},
   "outputs": [],
   "source": [
    "# def add_comments_lang(df: pd.DataFrame):\n",
    "#     df_local = df.copy()\n",
    "#     df_local['lang'] = df['value'].apply(detect)\n",
    "#     return df_local.reset_index(drop=True)"
   ]
  },
  {
   "cell_type": "code",
   "execution_count": 89,
   "metadata": {},
   "outputs": [],
   "source": [
    "# comments_df = add_comments_lang(comments_df)"
   ]
  },
  {
   "cell_type": "code",
   "execution_count": 90,
   "metadata": {},
   "outputs": [],
   "source": [
    "# comments_df = comments_df.query('lang == \"en\"')"
   ]
  },
  {
   "cell_type": "markdown",
   "metadata": {},
   "source": [
    "## SPLIT RATED AND NON-RATED COMMENTS"
   ]
  },
  {
   "cell_type": "code",
   "execution_count": 91,
   "metadata": {},
   "outputs": [
    {
     "data": {
      "text/plain": [
       "10.0                 14730\n",
       "9.0                  14177\n",
       "8.0                  11874\n",
       "7.0                   6354\n",
       "N/A                   6177\n",
       "                     ...  \n",
       "9.982000000000001        1\n",
       "8.971                    1\n",
       "8.522219999999999        1\n",
       "9.53333                  1\n",
       "8.677999999999999        1\n",
       "Name: rating, Length: 511, dtype: int64"
      ]
     },
     "execution_count": 91,
     "metadata": {},
     "output_type": "execute_result"
    }
   ],
   "source": [
    "# count number of comments per rating (N/A included)\n",
    "comments_df.rating.value_counts()"
   ]
  },
  {
   "cell_type": "code",
   "execution_count": 92,
   "metadata": {},
   "outputs": [
    {
     "data": {
      "text/plain": [
       "(68182, 5)"
      ]
     },
     "execution_count": 92,
     "metadata": {},
     "output_type": "execute_result"
    }
   ],
   "source": [
    "# get rated comments only\n",
    "rated_comments = comments_df.query('rating != \"N/A\"')\n",
    "rated_comments.shape"
   ]
  },
  {
   "cell_type": "code",
   "execution_count": 93,
   "metadata": {},
   "outputs": [
    {
     "data": {
      "text/plain": [
       "(6177, 5)"
      ]
     },
     "execution_count": 93,
     "metadata": {},
     "output_type": "execute_result"
    }
   ],
   "source": [
    "# get non rated comments only\n",
    "not_rated_comments = comments_df.query('rating == \"N/A\"').reset_index(drop=True)\n",
    "not_rated_comments.shape"
   ]
  },
  {
   "cell_type": "markdown",
   "metadata": {},
   "source": [
    "## CREATE TRAINING AND VALIDATION DATA"
   ]
  },
  {
   "cell_type": "code",
   "execution_count": 94,
   "metadata": {},
   "outputs": [],
   "source": [
    "# use rated comments (reviews) to train the model"
   ]
  },
  {
   "cell_type": "code",
   "execution_count": 95,
   "metadata": {},
   "outputs": [],
   "source": [
    "rated_comments = rated_comments.sample(frac=1)"
   ]
  },
  {
   "cell_type": "code",
   "execution_count": 96,
   "metadata": {},
   "outputs": [],
   "source": [
    "# create training X and y\n",
    "train_examples = list(rated_comments.value)\n",
    "train_labels = list((rated_comments.rating.astype(float)>=GOOD_REVIEW_THRESHOLD).astype(int))"
   ]
  },
  {
   "cell_type": "code",
   "execution_count": 97,
   "metadata": {},
   "outputs": [
    {
     "name": "stdout",
     "output_type": "stream",
     "text": [
      "example of positive rating:\n"
     ]
    },
    {
     "data": {
      "text/plain": [
       "'1 Play.  Good game.'"
      ]
     },
     "execution_count": 97,
     "metadata": {},
     "output_type": "execute_result"
    }
   ],
   "source": [
    "print(\"example of positive rating:\")\n",
    "train_examples[train_labels.index(1)]"
   ]
  },
  {
   "cell_type": "code",
   "execution_count": 98,
   "metadata": {},
   "outputs": [
    {
     "name": "stdout",
     "output_type": "stream",
     "text": [
      "example of negative rating:\n"
     ]
    },
    {
     "data": {
      "text/plain": [
       "'I can’t bring myself to enjoy Scythe after several plays. I’m not a fan of how many turns feel like optimization puzzles where your move is dictated by the board game. Taking the initiative to do something different means making a losing move. In many cases, the board will completely restrict you from doing what you want unless you make a series of suboptimal moves over multiple rounds to get resources.'"
      ]
     },
     "execution_count": 98,
     "metadata": {},
     "output_type": "execute_result"
    }
   ],
   "source": [
    "print(\"example of negative rating:\")\n",
    "train_examples[train_labels.index(0)]"
   ]
  },
  {
   "cell_type": "code",
   "execution_count": 99,
   "metadata": {},
   "outputs": [],
   "source": [
    "# create validation dataset from training\n",
    "validation_len = int(len(train_examples)*VAL_FRACTION)\n",
    "validation_len\n",
    "\n",
    "x_val = train_examples[:validation_len]\n",
    "x_train = train_examples[validation_len:]\n",
    "\n",
    "y_val = train_labels[:validation_len]\n",
    "y_train = train_labels[validation_len:]"
   ]
  },
  {
   "cell_type": "markdown",
   "metadata": {},
   "source": [
    "## COMPOSE MODEL"
   ]
  },
  {
   "cell_type": "code",
   "execution_count": 100,
   "metadata": {},
   "outputs": [
    {
     "data": {
      "text/plain": [
       "<tf.Tensor: shape=(2, 50), dtype=float32, numpy=\n",
       "array([[ 0.19236672, -0.13765024,  0.08825514,  0.11757579,  0.10254589,\n",
       "        -0.2013054 , -0.1684449 ,  0.15349093, -0.14583522,  0.01703295,\n",
       "         0.16671634,  0.11791452,  0.15511073,  0.00932512,  0.21257403,\n",
       "         0.08852971,  0.39651132,  0.10162947,  0.04218949, -0.19841024,\n",
       "         0.06608517, -0.16845424,  0.02857848,  0.21522808, -0.18306321,\n",
       "        -0.12576166, -0.16180296, -0.09230065, -0.08688274, -0.04802217,\n",
       "         0.18422134,  0.02087962, -0.20942453, -0.05498395,  0.08335619,\n",
       "         0.09036979,  0.07633591, -0.17406985,  0.10116608, -0.2244031 ,\n",
       "         0.1553969 , -0.08052192, -0.08636334, -0.16995242,  0.02367644,\n",
       "         0.00781853, -0.0187955 , -0.03384756,  0.08075846,  0.08742364],\n",
       "       [ 0.64265734, -0.02005985,  0.0315392 ,  0.5728946 , -0.17068051,\n",
       "        -0.22647579,  0.41508216,  0.12395759, -0.63278735,  0.0310485 ,\n",
       "         0.05918314,  0.26601928, -0.02865938, -0.05895287, -0.15333247,\n",
       "        -0.29778802, -0.36299604,  0.04665244,  0.2934871 , -0.5329186 ,\n",
       "         0.00613583, -0.28625673,  0.13366435,  0.1746791 , -0.28808716,\n",
       "         0.2368277 , -0.9055791 ,  0.0992662 , -0.01146432, -0.45486033,\n",
       "        -0.47613844,  0.07225518,  0.26664945, -0.3034815 , -0.13837184,\n",
       "         0.22321196,  0.28442404, -0.26944488,  0.27748618, -0.45310038,\n",
       "        -0.00363863,  0.03168505, -0.2102709 ,  0.34768492, -0.08614764,\n",
       "         0.25575498, -0.46905407, -0.3045659 ,  0.22353676,  0.3311439 ]],\n",
       "      dtype=float32)>"
      ]
     },
     "execution_count": 100,
     "metadata": {},
     "output_type": "execute_result"
    }
   ],
   "source": [
    "model = \"https://tfhub.dev/google/nnlm-en-dim50/2\"\n",
    "hub_layer = hub.KerasLayer(model, input_shape=[], dtype=tf.string, trainable=True)\n",
    "hub_layer(train_examples[:2])"
   ]
  },
  {
   "cell_type": "code",
   "execution_count": 101,
   "metadata": {},
   "outputs": [
    {
     "name": "stdout",
     "output_type": "stream",
     "text": [
      "Model: \"sequential_1\"\n",
      "_________________________________________________________________\n",
      "Layer (type)                 Output Shape              Param #   \n",
      "=================================================================\n",
      "keras_layer_1 (KerasLayer)   (None, 50)                48190600  \n",
      "_________________________________________________________________\n",
      "dense_2 (Dense)              (None, 16)                816       \n",
      "_________________________________________________________________\n",
      "dense_3 (Dense)              (None, 1)                 17        \n",
      "=================================================================\n",
      "Total params: 48,191,433\n",
      "Trainable params: 48,191,433\n",
      "Non-trainable params: 0\n",
      "_________________________________________________________________\n"
     ]
    }
   ],
   "source": [
    "model = tf.keras.Sequential()\n",
    "model.add(hub_layer)\n",
    "model.add(tf.keras.layers.Dense(16, activation='relu'))\n",
    "model.add(tf.keras.layers.Dense(1))\n",
    "\n",
    "model.summary()"
   ]
  },
  {
   "cell_type": "code",
   "execution_count": 102,
   "metadata": {},
   "outputs": [],
   "source": [
    "model.compile(\n",
    "    optimizer='adam',\n",
    "    loss=tf.losses.BinaryCrossentropy(from_logits=True),\n",
    "    metrics=[tf.metrics.BinaryAccuracy(threshold=0.0, name='accuracy')]\n",
    ")"
   ]
  },
  {
   "cell_type": "markdown",
   "metadata": {},
   "source": [
    "## TRAINING MODEL "
   ]
  },
  {
   "cell_type": "code",
   "execution_count": 103,
   "metadata": {},
   "outputs": [
    {
     "name": "stdout",
     "output_type": "stream",
     "text": [
      "Train on 51137 samples, validate on 17045 samples\n",
      "Epoch 1/40\n",
      "51137/51137 - 30s - loss: 0.5199 - accuracy: 0.8088 - val_loss: 0.3976 - val_accuracy: 0.8582\n",
      "Epoch 2/40\n",
      "51137/51137 - 30s - loss: 0.3388 - accuracy: 0.8588 - val_loss: 0.3175 - val_accuracy: 0.8659\n",
      "Epoch 3/40\n",
      "51137/51137 - 30s - loss: 0.2757 - accuracy: 0.8878 - val_loss: 0.2958 - val_accuracy: 0.8838\n",
      "Epoch 4/40\n",
      "51137/51137 - 30s - loss: 0.2362 - accuracy: 0.9069 - val_loss: 0.2934 - val_accuracy: 0.8852\n",
      "Epoch 5/40\n",
      "51137/51137 - 30s - loss: 0.2068 - accuracy: 0.9198 - val_loss: 0.3034 - val_accuracy: 0.8844\n",
      "Epoch 6/40\n",
      "51137/51137 - 30s - loss: 0.1842 - accuracy: 0.9300 - val_loss: 0.3185 - val_accuracy: 0.8798\n",
      "Epoch 7/40\n",
      "51137/51137 - 30s - loss: 0.1652 - accuracy: 0.9388 - val_loss: 0.3410 - val_accuracy: 0.8759\n",
      "Epoch 8/40\n",
      "51137/51137 - 30s - loss: 0.1500 - accuracy: 0.9455 - val_loss: 0.3643 - val_accuracy: 0.8713\n",
      "Epoch 9/40\n",
      "51137/51137 - 30s - loss: 0.1372 - accuracy: 0.9516 - val_loss: 0.3904 - val_accuracy: 0.8699\n"
     ]
    }
   ],
   "source": [
    "history = model.fit(\n",
    "    x_train,\n",
    "    y_train,\n",
    "    epochs=40,\n",
    "    batch_size=512,\n",
    "    validation_data=(x_val, y_val),\n",
    "    verbose=2,\n",
    "    callbacks=[\n",
    "        tf.keras.callbacks.EarlyStopping(monitor='val_accuracy', patience=5, min_delta=0.001)\n",
    "    ]\n",
    ")"
   ]
  },
  {
   "cell_type": "code",
   "execution_count": 104,
   "metadata": {},
   "outputs": [
    {
     "data": {
      "text/plain": [
       "dict_keys(['loss', 'accuracy', 'val_loss', 'val_accuracy'])"
      ]
     },
     "execution_count": 104,
     "metadata": {},
     "output_type": "execute_result"
    }
   ],
   "source": [
    "history_dict = history.history\n",
    "history_dict.keys()"
   ]
  },
  {
   "cell_type": "code",
   "execution_count": 105,
   "metadata": {},
   "outputs": [],
   "source": [
    "acc = history_dict['accuracy']\n",
    "val_acc = history_dict['val_accuracy']\n",
    "loss = history_dict['loss']\n",
    "val_loss = history_dict['val_loss']"
   ]
  },
  {
   "cell_type": "code",
   "execution_count": 106,
   "metadata": {},
   "outputs": [],
   "source": [
    "epochs = range(1, len(acc) + 1) "
   ]
  },
  {
   "cell_type": "code",
   "execution_count": 107,
   "metadata": {},
   "outputs": [
    {
     "data": {
      "image/png": "[encoded data removed]",
      "text/plain": [
       "<Figure size 648x360 with 1 Axes>"
      ]
     },
     "metadata": {
      "needs_background": "light"
     },
     "output_type": "display_data"
    }
   ],
   "source": [
    "# \"bo\" is for \"blue dot\"\n",
    "plt.figure(figsize=(9, 5))\n",
    "plt.plot(epochs, loss, 'bo', label='Training loss')\n",
    "# b is for \"solid blue line\"\n",
    "plt.plot(epochs, val_loss, 'b', label='Validation loss')\n",
    "plt.title('Training and validation loss')\n",
    "plt.xlabel('Epochs')\n",
    "plt.ylabel('Loss')\n",
    "plt.grid(True)\n",
    "plt.legend()\n",
    "\n",
    "plt.show()"
   ]
  },
  {
   "cell_type": "code",
   "execution_count": 108,
   "metadata": {},
   "outputs": [
    {
     "data": {
      "image/png": "[encoded data removed]",
      "text/plain": [
       "<Figure size 648x360 with 1 Axes>"
      ]
     },
     "metadata": {
      "needs_background": "light"
     },
     "output_type": "display_data"
    }
   ],
   "source": [
    "plt.figure(figsize=(9, 5))\n",
    "plt.plot(epochs, acc, 'bo', label='Training acc')\n",
    "plt.plot(epochs, val_acc, 'b', label='Validation acc')\n",
    "plt.title('Training and validation accuracy')\n",
    "plt.xlabel('Epochs')\n",
    "plt.ylabel('Accuracy')\n",
    "plt.grid(True)\n",
    "plt.legend()\n",
    "\n",
    "plt.show()"
   ]
  },
  {
   "cell_type": "code",
   "execution_count": 109,
   "metadata": {},
   "outputs": [],
   "source": [
    "def print_my_examples(inputs, results, actual_values=None, limit=None):\n",
    "    if actual_values is None:\n",
    "        result_for_printing = [f'input:\\n\"{inputs[i]}\"\\nscore: {results[i][0]:.6f}' for i in range(len(inputs))]\n",
    "    else:\n",
    "        result_for_printing = [f'input:\\n\"{inputs[i]}\"\\nscore: {results[i][0]:.6f}\\nactual value:{actual_values[i]}' for i in range(len(inputs))]\n",
    "    if limit:\n",
    "        result_for_printing = result_for_printing[:limit]\n",
    "    print(*result_for_printing, sep='\\n\\n')"
   ]
  },
  {
   "cell_type": "code",
   "execution_count": 110,
   "metadata": {},
   "outputs": [
    {
     "name": "stdout",
     "output_type": "stream",
     "text": [
      "input:\n",
      "\"A game with a theme and feeling as smooth as the gameplay itself. Scythe is a beautiful experience that captures the unique feeling of life in contested territory, the threat of war, and the repercussions of conflict. It is one of few board games that are not only REALLY fun, but artistic in nature. \"\n",
      "score: 0.961389\n",
      "actual value:1\n",
      "\n",
      "input:\n",
      "\"Giant beast of a campaign dungeon crawler.  Very well designed, lots of interesting decisions round-to-round, with a wide variety of character archetypes to play.\"\n",
      "score: 0.999426\n",
      "actual value:1\n",
      "\n",
      "input:\n",
      "\"You don’t really win at Arkham Horror. You barely scrape through, if you manage to survive at all. If you have an issue with loss aversion, this is not the game for you.\"\n",
      "score: 0.964781\n",
      "actual value:1\n",
      "\n",
      "input:\n",
      "\"Interesting trick-taking cooperative game with a campaign (of sorts) with several games of increasing difficulty. If you like trick-taking games you ought to at least try this one. The single games are very short but they lend themselves to be played several times in a row.\"\n",
      "score: 0.938773\n",
      "actual value:1\n",
      "\n",
      "input:\n",
      "\"Great game\"\n",
      "score: 0.997546\n",
      "actual value:1\n",
      "\n",
      "input:\n",
      "\"i very good family game with resource management and a little deck-building\"\n",
      "score: 0.979978\n",
      "actual value:1\n",
      "\n",
      "input:\n",
      "\"It plays like a no hand deck builder ,but the bag aesthetic just add to the themes execution too nicely to go that route. \"\n",
      "score: 0.829876\n",
      "actual value:1\n",
      "\n",
      "input:\n",
      "\"Enjoy this a lot, I like the level of planning required. Difficult to teach new people. Ending can be unsatisfactory.\"\n",
      "score: 0.999659\n",
      "actual value:1\n",
      "\n",
      "input:\n",
      "\"Can't stop playing this one. Super simple, good presentation, fun. Maybe a tiny bit long at the higher player counts, but nothing too bad.\"\n",
      "score: 0.981410\n",
      "actual value:1\n",
      "\n",
      "input:\n",
      "\"Quite likely my favorite Pfister. Has everything I love and then some. Need to play the expansion more.\"\n",
      "score: 0.999085\n",
      "actual value:1\n"
     ]
    }
   ],
   "source": [
    "inputs = x_train[:10]\n",
    "outputs = y_train[:10]\n",
    "results = tf.sigmoid(model.predict(tf.constant(inputs)))\n",
    "print_my_examples(inputs, results, outputs)"
   ]
  },
  {
   "cell_type": "code",
   "execution_count": 111,
   "metadata": {},
   "outputs": [],
   "source": [
    "## APPLY MODEL ON NON-RATED COMMENTS"
   ]
  },
  {
   "cell_type": "code",
   "execution_count": 112,
   "metadata": {},
   "outputs": [
    {
     "name": "stdout",
     "output_type": "stream",
     "text": [
      "input:\n",
      "\"DnD like RPG for loooooong dedicated play\"\n",
      "score: 0.990743\n",
      "\n",
      "input:\n",
      "\"Played solo first, then BJP (unfinished), BJ, then at game evening 5-player. \"\n",
      "score: 0.991482\n",
      "\n",
      "input:\n",
      "\"With: Jessica of Arrakis promo card\"\n",
      "score: 0.997296\n",
      "\n",
      "input:\n",
      "\"2 Core Sets. 1 second print run + 1 First Print Run w/ Errata Stickers\"\n",
      "score: 0.999860\n",
      "\n",
      "input:\n",
      "\"Think i want this in a luxury edition with nicer pions but definitely want to own. \"\n",
      "score: 0.996556\n",
      "\n",
      "input:\n",
      "\"Interest: 8/10  Probably best for a 2-player game with spouse\"\n",
      "score: 0.999822\n",
      "\n",
      "input:\n",
      "\"It fails the prettiness requirement, so I cannot buy it.\"\n",
      "score: 0.696425\n",
      "\n",
      "input:\n",
      "\"I'd prefer the deluxe English edition of this game.\"\n",
      "score: 0.737997\n",
      "\n",
      "input:\n",
      "\"Great game, though would have like some more copies of cards in the core game.\"\n",
      "score: 0.966116\n",
      "\n",
      "input:\n",
      "\"Preordered on Miniatures Market\"\n",
      "score: 0.978815\n",
      "\n",
      "input:\n",
      "\"Unplayed, but looks like received in trade inside game box. Definitely been opened. \"\n",
      "score: 0.997254\n",
      "\n",
      "input:\n",
      "\"Don’t want to trade this. Im just seeing if I can find my top wanted game, which is Xia.  Will only trade locally. I will not pay to ship this. \"\n",
      "score: 0.108944\n",
      "\n",
      "input:\n",
      "\"Excellent game, great replay value, lots of upgrades available. Great game on it's own without the upgrades.\"\n",
      "score: 0.999762\n",
      "\n",
      "input:\n",
      "\"Calculating efficiency - not for me. But so many people like it!\"\n",
      "score: 0.181560\n",
      "\n",
      "input:\n",
      "\"For some reason the building rules are difficult to remember. Need to play more to see where this will settle.\"\n",
      "score: 0.967563\n",
      "\n",
      "input:\n",
      "\"plan is to find company to play this with.   Start from Jaws of the Lion.  then Gloomhaven, continued into Forgotten Circles.  And frost Haven would have already have arrived by time we finish All Gloomhaven... \"\n",
      "score: 0.959161\n",
      "\n",
      "input:\n",
      "\"Love this game even if I am not fond of the space theme.  Really like hand management and building up an engine.  Honored to have met the designer today and get my copy signed.\"\n",
      "score: 0.996262\n",
      "\n",
      "input:\n",
      "\"--Jan2021-- Attempted a partial game on TTS.  Interesting ideas: wonder how it'd hold up to more play.\"\n",
      "score: 0.986561\n",
      "\n",
      "input:\n",
      "\"Sleeved: SwanPanasia Premium 65x90mm  [240]  Printing March 2019\"\n",
      "score: 0.997525\n",
      "\n",
      "input:\n",
      "\"Never Played - But I REALLY want to!\"\n",
      "score: 0.287836\n",
      "\n",
      "input:\n",
      "\"Weight 2.67 Players 1-2 60++ Min $80 Exploration\"\n",
      "score: 0.998765\n",
      "\n",
      "input:\n",
      "\"Would like, but not at scalpers prices\"\n",
      "score: 0.984552\n",
      "\n",
      "input:\n",
      "\"not played once. But game is known  one of best games i know of. Takes whole day to play a single match but it is worth it...\"\n",
      "score: 0.589640\n",
      "\n",
      "input:\n",
      "\"5 player mats 5 double-sided player mats Geekup bit set\"\n",
      "score: 0.999068\n",
      "\n",
      "input:\n",
      "\"Sounds awesome, but quite pricey, when will it go down in price?\"\n",
      "score: 0.856767\n"
     ]
    }
   ],
   "source": [
    "not_rated_comments = not_rated_comments.sample(frac=1)\n",
    "results = tf.sigmoid(model.predict(tf.constant(list(not_rated_comments.value.astype(str)))))\n",
    "print_my_examples(list(not_rated_comments.value), results, limit=25)"
   ]
  },
  {
   "cell_type": "markdown",
   "metadata": {},
   "source": [
    "## COMBINE RATED COMMENTS AND NOT-RATED COMMENTS WITH PREDICTED RATING"
   ]
  },
  {
   "cell_type": "code",
   "execution_count": 113,
   "metadata": {},
   "outputs": [
    {
     "data": {
      "text/html": [
       "<div>\n",
       "<style scoped>\n",
       "    .dataframe tbody tr th:only-of-type {\n",
       "        vertical-align: middle;\n",
       "    }\n",
       "\n",
       "    .dataframe tbody tr th {\n",
       "        vertical-align: top;\n",
       "    }\n",
       "\n",
       "    .dataframe thead th {\n",
       "        text-align: right;\n",
       "    }\n",
       "</style>\n",
       "<table border=\"1\" class=\"dataframe\">\n",
       "  <thead>\n",
       "    <tr style=\"text-align: right;\">\n",
       "      <th></th>\n",
       "      <th>id</th>\n",
       "      <th>username</th>\n",
       "      <th>rating</th>\n",
       "      <th>value</th>\n",
       "      <th>comment_len</th>\n",
       "    </tr>\n",
       "  </thead>\n",
       "  <tbody>\n",
       "    <tr>\n",
       "      <th>26868</th>\n",
       "      <td>281259</td>\n",
       "      <td>skraem</td>\n",
       "      <td>8</td>\n",
       "      <td>1 Play.  Good game.</td>\n",
       "      <td>12</td>\n",
       "    </tr>\n",
       "    <tr>\n",
       "      <th>60827</th>\n",
       "      <td>266192</td>\n",
       "      <td>pineapplebun</td>\n",
       "      <td>8</td>\n",
       "      <td>It's an excellent bird engine game that can be...</td>\n",
       "      <td>355</td>\n",
       "    </tr>\n",
       "    <tr>\n",
       "      <th>25022</th>\n",
       "      <td>169786</td>\n",
       "      <td>bponnaluri</td>\n",
       "      <td>3</td>\n",
       "      <td>I can’t bring myself to enjoy Scythe after sev...</td>\n",
       "      <td>329</td>\n",
       "    </tr>\n",
       "    <tr>\n",
       "      <th>37207</th>\n",
       "      <td>233078</td>\n",
       "      <td>Spinners71</td>\n",
       "      <td>10</td>\n",
       "      <td>#1 game of all time! It is everything I could ...</td>\n",
       "      <td>173</td>\n",
       "    </tr>\n",
       "    <tr>\n",
       "      <th>68280</th>\n",
       "      <td>169786</td>\n",
       "      <td>quarry</td>\n",
       "      <td>8</td>\n",
       "      <td>kickstarter</td>\n",
       "      <td>11</td>\n",
       "    </tr>\n",
       "  </tbody>\n",
       "</table>\n",
       "</div>"
      ],
      "text/plain": [
       "           id      username rating  \\\n",
       "26868  281259        skraem      8   \n",
       "60827  266192  pineapplebun      8   \n",
       "25022  169786    bponnaluri      3   \n",
       "37207  233078    Spinners71     10   \n",
       "68280  169786        quarry      8   \n",
       "\n",
       "                                                   value  comment_len  \n",
       "26868                                1 Play.  Good game.           12  \n",
       "60827  It's an excellent bird engine game that can be...          355  \n",
       "25022  I can’t bring myself to enjoy Scythe after sev...          329  \n",
       "37207  #1 game of all time! It is everything I could ...          173  \n",
       "68280                                        kickstarter           11  "
      ]
     },
     "execution_count": 113,
     "metadata": {},
     "output_type": "execute_result"
    }
   ],
   "source": [
    "rated_comments.head()"
   ]
  },
  {
   "cell_type": "code",
   "execution_count": 114,
   "metadata": {},
   "outputs": [
    {
     "data": {
      "text/html": [
       "<div>\n",
       "<style scoped>\n",
       "    .dataframe tbody tr th:only-of-type {\n",
       "        vertical-align: middle;\n",
       "    }\n",
       "\n",
       "    .dataframe tbody tr th {\n",
       "        vertical-align: top;\n",
       "    }\n",
       "\n",
       "    .dataframe thead th {\n",
       "        text-align: right;\n",
       "    }\n",
       "</style>\n",
       "<table border=\"1\" class=\"dataframe\">\n",
       "  <thead>\n",
       "    <tr style=\"text-align: right;\">\n",
       "      <th></th>\n",
       "      <th>id</th>\n",
       "      <th>rating_mean</th>\n",
       "      <th>rating_count</th>\n",
       "    </tr>\n",
       "  </thead>\n",
       "  <tbody>\n",
       "    <tr>\n",
       "      <th>0</th>\n",
       "      <td>162886</td>\n",
       "      <td>8.350014</td>\n",
       "      <td>3480</td>\n",
       "    </tr>\n",
       "    <tr>\n",
       "      <th>1</th>\n",
       "      <td>167355</td>\n",
       "      <td>8.418874</td>\n",
       "      <td>1774</td>\n",
       "    </tr>\n",
       "    <tr>\n",
       "      <th>2</th>\n",
       "      <td>167791</td>\n",
       "      <td>8.210945</td>\n",
       "      <td>8204</td>\n",
       "    </tr>\n",
       "    <tr>\n",
       "      <th>3</th>\n",
       "      <td>169786</td>\n",
       "      <td>8.100929</td>\n",
       "      <td>7304</td>\n",
       "    </tr>\n",
       "    <tr>\n",
       "      <th>4</th>\n",
       "      <td>174430</td>\n",
       "      <td>8.550632</td>\n",
       "      <td>6300</td>\n",
       "    </tr>\n",
       "  </tbody>\n",
       "</table>\n",
       "</div>"
      ],
      "text/plain": [
       "       id  rating_mean  rating_count\n",
       "0  162886     8.350014          3480\n",
       "1  167355     8.418874          1774\n",
       "2  167791     8.210945          8204\n",
       "3  169786     8.100929          7304\n",
       "4  174430     8.550632          6300"
      ]
     },
     "execution_count": 114,
     "metadata": {},
     "output_type": "execute_result"
    }
   ],
   "source": [
    "rated_comments['rating'] = rated_comments.rating.astype(float)\n",
    "rated_comments_grouped = rated_comments.groupby('id').agg({'rating': ['mean', 'count']})\n",
    "rated_comments_grouped.columns = list(rated_comments_grouped.columns.map('_'.join))\n",
    "rated_comments_grouped = rated_comments_grouped.reset_index()\n",
    "rated_comments_grouped.head()"
   ]
  },
  {
   "cell_type": "code",
   "execution_count": 115,
   "metadata": {},
   "outputs": [
    {
     "data": {
      "text/html": [
       "<div>\n",
       "<style scoped>\n",
       "    .dataframe tbody tr th:only-of-type {\n",
       "        vertical-align: middle;\n",
       "    }\n",
       "\n",
       "    .dataframe tbody tr th {\n",
       "        vertical-align: top;\n",
       "    }\n",
       "\n",
       "    .dataframe thead th {\n",
       "        text-align: right;\n",
       "    }\n",
       "</style>\n",
       "<table border=\"1\" class=\"dataframe\">\n",
       "  <thead>\n",
       "    <tr style=\"text-align: right;\">\n",
       "      <th></th>\n",
       "      <th>id</th>\n",
       "      <th>username</th>\n",
       "      <th>rating</th>\n",
       "      <th>value</th>\n",
       "      <th>comment_len</th>\n",
       "    </tr>\n",
       "  </thead>\n",
       "  <tbody>\n",
       "    <tr>\n",
       "      <th>304</th>\n",
       "      <td>328866</td>\n",
       "      <td>FatherIgnatius</td>\n",
       "      <td>1.0</td>\n",
       "      <td>Overpriced, and yeah - to hell with board game...</td>\n",
       "      <td>58</td>\n",
       "    </tr>\n",
       "    <tr>\n",
       "      <th>307</th>\n",
       "      <td>328866</td>\n",
       "      <td>girman39</td>\n",
       "      <td>9.5</td>\n",
       "      <td>Played at UnPub 2018.  Absolutely love this th...</td>\n",
       "      <td>462</td>\n",
       "    </tr>\n",
       "    <tr>\n",
       "      <th>322</th>\n",
       "      <td>328866</td>\n",
       "      <td>Werbaer</td>\n",
       "      <td>1.0</td>\n",
       "      <td>Not a boardgame. App required.</td>\n",
       "      <td>24</td>\n",
       "    </tr>\n",
       "    <tr>\n",
       "      <th>309</th>\n",
       "      <td>328866</td>\n",
       "      <td>Jack Squat</td>\n",
       "      <td>10.0</td>\n",
       "      <td>It gets a 10 for having an app!</td>\n",
       "      <td>21</td>\n",
       "    </tr>\n",
       "    <tr>\n",
       "      <th>299</th>\n",
       "      <td>328866</td>\n",
       "      <td>BGG_is_racist55</td>\n",
       "      <td>10.0</td>\n",
       "      <td>BGG is racist, deletes uncomfortable opinions,...</td>\n",
       "      <td>535</td>\n",
       "    </tr>\n",
       "    <tr>\n",
       "      <th>316</th>\n",
       "      <td>328866</td>\n",
       "      <td>mqstout</td>\n",
       "      <td>1.0</td>\n",
       "      <td>Not a board game. APP REQUIRED TO PLAY. The ga...</td>\n",
       "      <td>121</td>\n",
       "    </tr>\n",
       "    <tr>\n",
       "      <th>320</th>\n",
       "      <td>328866</td>\n",
       "      <td>The Chaz</td>\n",
       "      <td>10.0</td>\n",
       "      <td>A masterpiece, long in the making</td>\n",
       "      <td>27</td>\n",
       "    </tr>\n",
       "    <tr>\n",
       "      <th>300</th>\n",
       "      <td>328866</td>\n",
       "      <td>bno70_1</td>\n",
       "      <td>9.0</td>\n",
       "      <td>This game is a true innovation</td>\n",
       "      <td>25</td>\n",
       "    </tr>\n",
       "    <tr>\n",
       "      <th>308</th>\n",
       "      <td>328866</td>\n",
       "      <td>ironbend</td>\n",
       "      <td>7.5</td>\n",
       "      <td>atmospheric mipl placement with interesting kn...</td>\n",
       "      <td>52</td>\n",
       "    </tr>\n",
       "  </tbody>\n",
       "</table>\n",
       "</div>"
      ],
      "text/plain": [
       "         id         username  rating  \\\n",
       "304  328866   FatherIgnatius     1.0   \n",
       "307  328866         girman39     9.5   \n",
       "322  328866          Werbaer     1.0   \n",
       "309  328866       Jack Squat    10.0   \n",
       "299  328866  BGG_is_racist55    10.0   \n",
       "316  328866          mqstout     1.0   \n",
       "320  328866         The Chaz    10.0   \n",
       "300  328866          bno70_1     9.0   \n",
       "308  328866         ironbend     7.5   \n",
       "\n",
       "                                                 value  comment_len  \n",
       "304  Overpriced, and yeah - to hell with board game...           58  \n",
       "307  Played at UnPub 2018.  Absolutely love this th...          462  \n",
       "322                     Not a boardgame. App required.           24  \n",
       "309                    It gets a 10 for having an app!           21  \n",
       "299  BGG is racist, deletes uncomfortable opinions,...          535  \n",
       "316  Not a board game. APP REQUIRED TO PLAY. The ga...          121  \n",
       "320                  A masterpiece, long in the making           27  \n",
       "300                     This game is a true innovation           25  \n",
       "308  atmospheric mipl placement with interesting kn...           52  "
      ]
     },
     "execution_count": 115,
     "metadata": {},
     "output_type": "execute_result"
    }
   ],
   "source": [
    "rated_comments.query(\"id==328866\")"
   ]
  },
  {
   "cell_type": "code",
   "execution_count": 116,
   "metadata": {},
   "outputs": [],
   "source": [
    "not_rated_comments['rating'] = [round(float(r[0])*10, 1) for r in results]"
   ]
  },
  {
   "cell_type": "code",
   "execution_count": 117,
   "metadata": {},
   "outputs": [
    {
     "data": {
      "text/html": [
       "<div>\n",
       "<style scoped>\n",
       "    .dataframe tbody tr th:only-of-type {\n",
       "        vertical-align: middle;\n",
       "    }\n",
       "\n",
       "    .dataframe tbody tr th {\n",
       "        vertical-align: top;\n",
       "    }\n",
       "\n",
       "    .dataframe thead th {\n",
       "        text-align: right;\n",
       "    }\n",
       "</style>\n",
       "<table border=\"1\" class=\"dataframe\">\n",
       "  <thead>\n",
       "    <tr style=\"text-align: right;\">\n",
       "      <th></th>\n",
       "      <th>id</th>\n",
       "      <th>rating_mean</th>\n",
       "      <th>rating_count</th>\n",
       "    </tr>\n",
       "  </thead>\n",
       "  <tbody>\n",
       "    <tr>\n",
       "      <th>0</th>\n",
       "      <td>162886</td>\n",
       "      <td>8.881699</td>\n",
       "      <td>306</td>\n",
       "    </tr>\n",
       "    <tr>\n",
       "      <th>1</th>\n",
       "      <td>167355</td>\n",
       "      <td>9.002347</td>\n",
       "      <td>213</td>\n",
       "    </tr>\n",
       "    <tr>\n",
       "      <th>2</th>\n",
       "      <td>167791</td>\n",
       "      <td>8.934247</td>\n",
       "      <td>438</td>\n",
       "    </tr>\n",
       "    <tr>\n",
       "      <th>3</th>\n",
       "      <td>169786</td>\n",
       "      <td>8.805442</td>\n",
       "      <td>588</td>\n",
       "    </tr>\n",
       "    <tr>\n",
       "      <th>4</th>\n",
       "      <td>174430</td>\n",
       "      <td>8.719894</td>\n",
       "      <td>568</td>\n",
       "    </tr>\n",
       "  </tbody>\n",
       "</table>\n",
       "</div>"
      ],
      "text/plain": [
       "       id  rating_mean  rating_count\n",
       "0  162886     8.881699           306\n",
       "1  167355     9.002347           213\n",
       "2  167791     8.934247           438\n",
       "3  169786     8.805442           588\n",
       "4  174430     8.719894           568"
      ]
     },
     "execution_count": 117,
     "metadata": {},
     "output_type": "execute_result"
    }
   ],
   "source": [
    "not_rated_comments['rating'] = not_rated_comments.rating.astype(float)\n",
    "not_rated_comments_grouped = not_rated_comments.groupby('id').agg({'rating': ['mean', 'count']})\n",
    "not_rated_comments_grouped.columns = list(not_rated_comments_grouped.columns.map('_'.join))\n",
    "not_rated_comments_grouped = not_rated_comments_grouped.reset_index()\n",
    "not_rated_comments_grouped.head()"
   ]
  },
  {
   "cell_type": "code",
   "execution_count": 118,
   "metadata": {},
   "outputs": [],
   "source": [
    "grouped = rated_comments_grouped.merge(not_rated_comments_grouped, on='id', suffixes=('_review', '_comments'))\n",
    "grouped['id'] = grouped.id.astype(str)\n",
    "grouped = grouped.merge(pd.DataFrame(hot_array), on='id')\n",
    "grouped['rank'] = grouped['rank'].astype(int)\n",
    "grouped['url'] = grouped['id'].apply(lambda x: f\"https://boardgamegeek.com/boardgame/{x}\")"
   ]
  },
  {
   "cell_type": "code",
   "execution_count": 119,
   "metadata": {},
   "outputs": [
    {
     "data": {
      "text/html": [
       "<div>\n",
       "<style scoped>\n",
       "    .dataframe tbody tr th:only-of-type {\n",
       "        vertical-align: middle;\n",
       "    }\n",
       "\n",
       "    .dataframe tbody tr th {\n",
       "        vertical-align: top;\n",
       "    }\n",
       "\n",
       "    .dataframe thead th {\n",
       "        text-align: right;\n",
       "    }\n",
       "</style>\n",
       "<table border=\"1\" class=\"dataframe\">\n",
       "  <thead>\n",
       "    <tr style=\"text-align: right;\">\n",
       "      <th></th>\n",
       "      <th>id</th>\n",
       "      <th>rating_mean_review</th>\n",
       "      <th>rating_count_review</th>\n",
       "      <th>rating_mean_comments</th>\n",
       "      <th>rating_count_comments</th>\n",
       "      <th>rank</th>\n",
       "      <th>thumbnail</th>\n",
       "      <th>name</th>\n",
       "      <th>yearpublished</th>\n",
       "      <th>url</th>\n",
       "    </tr>\n",
       "  </thead>\n",
       "  <tbody>\n",
       "    <tr>\n",
       "      <th>0</th>\n",
       "      <td>162886</td>\n",
       "      <td>8.350014</td>\n",
       "      <td>3480</td>\n",
       "      <td>8.881699</td>\n",
       "      <td>306</td>\n",
       "      <td>20</td>\n",
       "      <td>https://cf.geekdo-images.com/a13ieMPP2s0KEaKNY...</td>\n",
       "      <td>Spirit Island</td>\n",
       "      <td>2017</td>\n",
       "      <td>https://boardgamegeek.com/boardgame/162886</td>\n",
       "    </tr>\n",
       "    <tr>\n",
       "      <th>1</th>\n",
       "      <td>167355</td>\n",
       "      <td>8.418874</td>\n",
       "      <td>1774</td>\n",
       "      <td>9.002347</td>\n",
       "      <td>213</td>\n",
       "      <td>35</td>\n",
       "      <td>https://cf.geekdo-images.com/tAqLpWxQ0Oo3GaPP3...</td>\n",
       "      <td>Nemesis</td>\n",
       "      <td>2018</td>\n",
       "      <td>https://boardgamegeek.com/boardgame/167355</td>\n",
       "    </tr>\n",
       "    <tr>\n",
       "      <th>2</th>\n",
       "      <td>167791</td>\n",
       "      <td>8.210945</td>\n",
       "      <td>8204</td>\n",
       "      <td>8.934247</td>\n",
       "      <td>438</td>\n",
       "      <td>16</td>\n",
       "      <td>https://cf.geekdo-images.com/wg9oOLcsKvDesSUdZ...</td>\n",
       "      <td>Terraforming Mars</td>\n",
       "      <td>2016</td>\n",
       "      <td>https://boardgamegeek.com/boardgame/167791</td>\n",
       "    </tr>\n",
       "    <tr>\n",
       "      <th>3</th>\n",
       "      <td>169786</td>\n",
       "      <td>8.100929</td>\n",
       "      <td>7304</td>\n",
       "      <td>8.805442</td>\n",
       "      <td>588</td>\n",
       "      <td>36</td>\n",
       "      <td>https://cf.geekdo-images.com/7k_nOxpO9OGIjhLq2...</td>\n",
       "      <td>Scythe</td>\n",
       "      <td>2016</td>\n",
       "      <td>https://boardgamegeek.com/boardgame/169786</td>\n",
       "    </tr>\n",
       "    <tr>\n",
       "      <th>4</th>\n",
       "      <td>174430</td>\n",
       "      <td>8.550632</td>\n",
       "      <td>6300</td>\n",
       "      <td>8.719894</td>\n",
       "      <td>568</td>\n",
       "      <td>21</td>\n",
       "      <td>https://cf.geekdo-images.com/sZYp_3BTDGjh2unaZ...</td>\n",
       "      <td>Gloomhaven</td>\n",
       "      <td>2017</td>\n",
       "      <td>https://boardgamegeek.com/boardgame/174430</td>\n",
       "    </tr>\n",
       "  </tbody>\n",
       "</table>\n",
       "</div>"
      ],
      "text/plain": [
       "       id  rating_mean_review  rating_count_review  rating_mean_comments  \\\n",
       "0  162886            8.350014                 3480              8.881699   \n",
       "1  167355            8.418874                 1774              9.002347   \n",
       "2  167791            8.210945                 8204              8.934247   \n",
       "3  169786            8.100929                 7304              8.805442   \n",
       "4  174430            8.550632                 6300              8.719894   \n",
       "\n",
       "   rating_count_comments  rank  \\\n",
       "0                    306    20   \n",
       "1                    213    35   \n",
       "2                    438    16   \n",
       "3                    588    36   \n",
       "4                    568    21   \n",
       "\n",
       "                                           thumbnail               name  \\\n",
       "0  https://cf.geekdo-images.com/a13ieMPP2s0KEaKNY...      Spirit Island   \n",
       "1  https://cf.geekdo-images.com/tAqLpWxQ0Oo3GaPP3...            Nemesis   \n",
       "2  https://cf.geekdo-images.com/wg9oOLcsKvDesSUdZ...  Terraforming Mars   \n",
       "3  https://cf.geekdo-images.com/7k_nOxpO9OGIjhLq2...             Scythe   \n",
       "4  https://cf.geekdo-images.com/sZYp_3BTDGjh2unaZ...         Gloomhaven   \n",
       "\n",
       "  yearpublished                                         url  \n",
       "0          2017  https://boardgamegeek.com/boardgame/162886  \n",
       "1          2018  https://boardgamegeek.com/boardgame/167355  \n",
       "2          2016  https://boardgamegeek.com/boardgame/167791  \n",
       "3          2016  https://boardgamegeek.com/boardgame/169786  \n",
       "4          2017  https://boardgamegeek.com/boardgame/174430  "
      ]
     },
     "execution_count": 119,
     "metadata": {},
     "output_type": "execute_result"
    }
   ],
   "source": [
    "grouped.head()"
   ]
  },
  {
   "cell_type": "code",
   "execution_count": 120,
   "metadata": {},
   "outputs": [],
   "source": [
    "grouped['fixed_rating'] = (grouped['rating_mean_review']*grouped['rating_count_review']+grouped['rating_mean_comments']*grouped['rating_count_comments']) / (grouped['rating_count_review']+grouped['rating_count_comments'])"
   ]
  },
  {
   "cell_type": "code",
   "execution_count": 121,
   "metadata": {},
   "outputs": [
    {
     "data": {
      "text/html": [
       "<div>\n",
       "<style scoped>\n",
       "    .dataframe tbody tr th:only-of-type {\n",
       "        vertical-align: middle;\n",
       "    }\n",
       "\n",
       "    .dataframe tbody tr th {\n",
       "        vertical-align: top;\n",
       "    }\n",
       "\n",
       "    .dataframe thead th {\n",
       "        text-align: right;\n",
       "    }\n",
       "</style>\n",
       "<table border=\"1\" class=\"dataframe\">\n",
       "  <thead>\n",
       "    <tr style=\"text-align: right;\">\n",
       "      <th></th>\n",
       "      <th>id</th>\n",
       "      <th>rating_mean_review</th>\n",
       "      <th>rating_count_review</th>\n",
       "      <th>rating_mean_comments</th>\n",
       "      <th>rating_count_comments</th>\n",
       "      <th>rank</th>\n",
       "      <th>thumbnail</th>\n",
       "      <th>name</th>\n",
       "      <th>yearpublished</th>\n",
       "      <th>url</th>\n",
       "      <th>fixed_rating</th>\n",
       "    </tr>\n",
       "  </thead>\n",
       "  <tbody>\n",
       "    <tr>\n",
       "      <th>0</th>\n",
       "      <td>162886</td>\n",
       "      <td>8.350014</td>\n",
       "      <td>3480</td>\n",
       "      <td>8.881699</td>\n",
       "      <td>306</td>\n",
       "      <td>20</td>\n",
       "      <td>https://cf.geekdo-images.com/a13ieMPP2s0KEaKNY...</td>\n",
       "      <td>Spirit Island</td>\n",
       "      <td>2017</td>\n",
       "      <td>https://boardgamegeek.com/boardgame/162886</td>\n",
       "      <td>8.392987</td>\n",
       "    </tr>\n",
       "    <tr>\n",
       "      <th>1</th>\n",
       "      <td>167355</td>\n",
       "      <td>8.418874</td>\n",
       "      <td>1774</td>\n",
       "      <td>9.002347</td>\n",
       "      <td>213</td>\n",
       "      <td>35</td>\n",
       "      <td>https://cf.geekdo-images.com/tAqLpWxQ0Oo3GaPP3...</td>\n",
       "      <td>Nemesis</td>\n",
       "      <td>2018</td>\n",
       "      <td>https://boardgamegeek.com/boardgame/167355</td>\n",
       "      <td>8.481420</td>\n",
       "    </tr>\n",
       "    <tr>\n",
       "      <th>2</th>\n",
       "      <td>167791</td>\n",
       "      <td>8.210945</td>\n",
       "      <td>8204</td>\n",
       "      <td>8.934247</td>\n",
       "      <td>438</td>\n",
       "      <td>16</td>\n",
       "      <td>https://cf.geekdo-images.com/wg9oOLcsKvDesSUdZ...</td>\n",
       "      <td>Terraforming Mars</td>\n",
       "      <td>2016</td>\n",
       "      <td>https://boardgamegeek.com/boardgame/167791</td>\n",
       "      <td>8.247604</td>\n",
       "    </tr>\n",
       "    <tr>\n",
       "      <th>3</th>\n",
       "      <td>169786</td>\n",
       "      <td>8.100929</td>\n",
       "      <td>7304</td>\n",
       "      <td>8.805442</td>\n",
       "      <td>588</td>\n",
       "      <td>36</td>\n",
       "      <td>https://cf.geekdo-images.com/7k_nOxpO9OGIjhLq2...</td>\n",
       "      <td>Scythe</td>\n",
       "      <td>2016</td>\n",
       "      <td>https://boardgamegeek.com/boardgame/169786</td>\n",
       "      <td>8.153420</td>\n",
       "    </tr>\n",
       "    <tr>\n",
       "      <th>4</th>\n",
       "      <td>174430</td>\n",
       "      <td>8.550632</td>\n",
       "      <td>6300</td>\n",
       "      <td>8.719894</td>\n",
       "      <td>568</td>\n",
       "      <td>21</td>\n",
       "      <td>https://cf.geekdo-images.com/sZYp_3BTDGjh2unaZ...</td>\n",
       "      <td>Gloomhaven</td>\n",
       "      <td>2017</td>\n",
       "      <td>https://boardgamegeek.com/boardgame/174430</td>\n",
       "      <td>8.564630</td>\n",
       "    </tr>\n",
       "  </tbody>\n",
       "</table>\n",
       "</div>"
      ],
      "text/plain": [
       "       id  rating_mean_review  rating_count_review  rating_mean_comments  \\\n",
       "0  162886            8.350014                 3480              8.881699   \n",
       "1  167355            8.418874                 1774              9.002347   \n",
       "2  167791            8.210945                 8204              8.934247   \n",
       "3  169786            8.100929                 7304              8.805442   \n",
       "4  174430            8.550632                 6300              8.719894   \n",
       "\n",
       "   rating_count_comments  rank  \\\n",
       "0                    306    20   \n",
       "1                    213    35   \n",
       "2                    438    16   \n",
       "3                    588    36   \n",
       "4                    568    21   \n",
       "\n",
       "                                           thumbnail               name  \\\n",
       "0  https://cf.geekdo-images.com/a13ieMPP2s0KEaKNY...      Spirit Island   \n",
       "1  https://cf.geekdo-images.com/tAqLpWxQ0Oo3GaPP3...            Nemesis   \n",
       "2  https://cf.geekdo-images.com/wg9oOLcsKvDesSUdZ...  Terraforming Mars   \n",
       "3  https://cf.geekdo-images.com/7k_nOxpO9OGIjhLq2...             Scythe   \n",
       "4  https://cf.geekdo-images.com/sZYp_3BTDGjh2unaZ...         Gloomhaven   \n",
       "\n",
       "  yearpublished                                         url  fixed_rating  \n",
       "0          2017  https://boardgamegeek.com/boardgame/162886      8.392987  \n",
       "1          2018  https://boardgamegeek.com/boardgame/167355      8.481420  \n",
       "2          2016  https://boardgamegeek.com/boardgame/167791      8.247604  \n",
       "3          2016  https://boardgamegeek.com/boardgame/169786      8.153420  \n",
       "4          2017  https://boardgamegeek.com/boardgame/174430      8.564630  "
      ]
     },
     "execution_count": 121,
     "metadata": {},
     "output_type": "execute_result"
    }
   ],
   "source": [
    "grouped.head()"
   ]
  },
  {
   "cell_type": "code",
   "execution_count": 122,
   "metadata": {},
   "outputs": [],
   "source": [
    "grouped['thumbnail'] = grouped['thumbnail'].apply(lambda x: f'<img src=\"{x}\" width=\"124\" />')"
   ]
  },
  {
   "cell_type": "code",
   "execution_count": 123,
   "metadata": {},
   "outputs": [],
   "source": [
    "grouped['name'] = grouped.apply(lambda x: f'<a href=\"{x[\"url\"]}\">{x[\"name\"]}</a>', axis=1)"
   ]
  },
  {
   "cell_type": "code",
   "execution_count": 124,
   "metadata": {},
   "outputs": [],
   "source": [
    "grouped = grouped[['thumbnail', 'name', 'rating_mean_review', 'rating_mean_comments', 'fixed_rating', 'rank', 'yearpublished']]"
   ]
  },
  {
   "cell_type": "code",
   "execution_count": 125,
   "metadata": {},
   "outputs": [],
   "source": [
    "def display_topn(by, n=5, ascending=True):\n",
    "    temp_df = grouped.sort_values(by, ascending=ascending).head(n)\n",
    "    temp_df.index=list(range(1, n+1))\n",
    "    return HTML(temp_df.to_html(escape=False, classes='table table-striped'))"
   ]
  },
  {
   "cell_type": "code",
   "execution_count": 126,
   "metadata": {},
   "outputs": [
    {
     "data": {
      "text/html": [
       "<table border=\"1\" class=\"dataframe table table-striped\">\n",
       "  <thead>\n",
       "    <tr style=\"text-align: right;\">\n",
       "      <th></th>\n",
       "      <th>thumbnail</th>\n",
       "      <th>name</th>\n",
       "      <th>rating_mean_review</th>\n",
       "      <th>rating_mean_comments</th>\n",
       "      <th>fixed_rating</th>\n",
       "      <th>rank</th>\n",
       "      <th>yearpublished</th>\n",
       "    </tr>\n",
       "  </thead>\n",
       "  <tbody>\n",
       "    <tr>\n",
       "      <th>1</th>\n",
       "      <td><img src=\"https://cf.geekdo-images.com/eUiju5SqZbkNt8gnEofrTw__thumb/img/zNkmLNyeXJGOY24FeAAf4U67ejU=/fit-in/200x150/filters:strip_icc()/pic6035127.png\" width=\"124\" /></td>\n",
       "      <td><a href=\"https://boardgamegeek.com/boardgame/316624\">Stationfall</a></td>\n",
       "      <td>9.545455</td>\n",
       "      <td>9.520000</td>\n",
       "      <td>9.537500</td>\n",
       "      <td>1</td>\n",
       "      <td>2021</td>\n",
       "    </tr>\n",
       "    <tr>\n",
       "      <th>2</th>\n",
       "      <td><img src=\"https://cf.geekdo-images.com/6GqH14TJJhza86BX5HCLEQ__thumb/img/J8SVmGOJXZGxNjkT3xYNQU7Haxg=/fit-in/200x150/filters:strip_icc()/pic5674958.jpg\" width=\"124\" /></td>\n",
       "      <td><a href=\"https://boardgamegeek.com/boardgame/312484\">Lost Ruins of Arnak</a></td>\n",
       "      <td>7.931164</td>\n",
       "      <td>8.483607</td>\n",
       "      <td>7.980216</td>\n",
       "      <td>2</td>\n",
       "      <td>2020</td>\n",
       "    </tr>\n",
       "    <tr>\n",
       "      <th>3</th>\n",
       "      <td><img src=\"https://cf.geekdo-images.com/-JD8JLncWYMes9Q6YIgorg__thumb/img/Ce6a64m5DxVae_ZXnAsrgdEnqBQ=/fit-in/200x150/filters:strip_icc()/pic6136538.jpg\" width=\"124\" /></td>\n",
       "      <td><a href=\"https://boardgamegeek.com/boardgame/277700\">Merchants Cove</a></td>\n",
       "      <td>8.480556</td>\n",
       "      <td>9.253659</td>\n",
       "      <td>8.892208</td>\n",
       "      <td>3</td>\n",
       "      <td>2021</td>\n",
       "    </tr>\n",
       "    <tr>\n",
       "      <th>4</th>\n",
       "      <td><img src=\"https://cf.geekdo-images.com/1M-1d6fr3U9t670MCVOTeg__thumb/img/aR9LNVhRr_hnIIoYwxFUTb8rPMk=/fit-in/200x150/filters:strip_icc()/pic5896816.jpg\" width=\"124\" /></td>\n",
       "      <td><a href=\"https://boardgamegeek.com/boardgame/318977\">MicroMacro: Crime City</a></td>\n",
       "      <td>7.930735</td>\n",
       "      <td>9.106667</td>\n",
       "      <td>8.011279</td>\n",
       "      <td>4</td>\n",
       "      <td>2020</td>\n",
       "    </tr>\n",
       "    <tr>\n",
       "      <th>5</th>\n",
       "      <td><img src=\"https://cf.geekdo-images.com/PhjygpWSo-0labGrPBMyyg__thumb/img/JGgY-nBmkyB8WRp8vcoBLlNMQ5U=/fit-in/200x150/filters:strip_icc()/pic5666597.jpg\" width=\"124\" /></td>\n",
       "      <td><a href=\"https://boardgamegeek.com/boardgame/316554\">Dune: Imperium</a></td>\n",
       "      <td>8.120877</td>\n",
       "      <td>8.945833</td>\n",
       "      <td>8.205851</td>\n",
       "      <td>5</td>\n",
       "      <td>2020</td>\n",
       "    </tr>\n",
       "  </tbody>\n",
       "</table>"
      ],
      "text/plain": [
       "<IPython.core.display.HTML object>"
      ]
     },
     "execution_count": 126,
     "metadata": {},
     "output_type": "execute_result"
    }
   ],
   "source": [
    "# TOP N RANK\n",
    "display_topn(by='rank', n=TOP_N)"
   ]
  },
  {
   "cell_type": "code",
   "execution_count": 127,
   "metadata": {},
   "outputs": [
    {
     "data": {
      "text/html": [
       "<table border=\"1\" class=\"dataframe table table-striped\">\n",
       "  <thead>\n",
       "    <tr style=\"text-align: right;\">\n",
       "      <th></th>\n",
       "      <th>thumbnail</th>\n",
       "      <th>name</th>\n",
       "      <th>rating_mean_review</th>\n",
       "      <th>rating_mean_comments</th>\n",
       "      <th>fixed_rating</th>\n",
       "      <th>rank</th>\n",
       "      <th>yearpublished</th>\n",
       "    </tr>\n",
       "  </thead>\n",
       "  <tbody>\n",
       "    <tr>\n",
       "      <th>1</th>\n",
       "      <td><img src=\"https://cf.geekdo-images.com/1gQABuftAVgk1qshkMyDEw__thumb/img/Ovni6sWuvyfj9LWn-hnHzpCELF8=/fit-in/200x150/filters:strip_icc()/pic6125184.jpg\" width=\"124\" /></td>\n",
       "      <td><a href=\"https://boardgamegeek.com/boardgame/336794\">Galaxy Trucker</a></td>\n",
       "      <td>10.000000</td>\n",
       "      <td>9.400000</td>\n",
       "      <td>9.500000</td>\n",
       "      <td>40</td>\n",
       "      <td>2021</td>\n",
       "    </tr>\n",
       "    <tr>\n",
       "      <th>2</th>\n",
       "      <td><img src=\"https://cf.geekdo-images.com/4MGFzcFA267b_Hv2zTZsxQ__thumb/img/Wte_inyQRVkb6xm6R1xYTu3GlYY=/fit-in/200x150/filters:strip_icc()/pic5331800.jpg\" width=\"124\" /></td>\n",
       "      <td><a href=\"https://boardgamegeek.com/boardgame/306482\">ICE</a></td>\n",
       "      <td>9.750000</td>\n",
       "      <td>9.100000</td>\n",
       "      <td>9.620000</td>\n",
       "      <td>42</td>\n",
       "      <td>2022</td>\n",
       "    </tr>\n",
       "    <tr>\n",
       "      <th>3</th>\n",
       "      <td><img src=\"https://cf.geekdo-images.com/eUiju5SqZbkNt8gnEofrTw__thumb/img/zNkmLNyeXJGOY24FeAAf4U67ejU=/fit-in/200x150/filters:strip_icc()/pic6035127.png\" width=\"124\" /></td>\n",
       "      <td><a href=\"https://boardgamegeek.com/boardgame/316624\">Stationfall</a></td>\n",
       "      <td>9.545455</td>\n",
       "      <td>9.520000</td>\n",
       "      <td>9.537500</td>\n",
       "      <td>1</td>\n",
       "      <td>2021</td>\n",
       "    </tr>\n",
       "    <tr>\n",
       "      <th>4</th>\n",
       "      <td><img src=\"https://cf.geekdo-images.com/Oh3kHw6lweg6ru71Q16h2Q__thumb/img/e9XZdQe1ZcPpaq4Gy31OoWBB_V0=/fit-in/200x150/filters:strip_icc()/pic5235277.jpg\" width=\"124\" /></td>\n",
       "      <td><a href=\"https://boardgamegeek.com/boardgame/246900\">Eclipse: Second Dawn for the Galaxy</a></td>\n",
       "      <td>8.731950</td>\n",
       "      <td>8.709524</td>\n",
       "      <td>8.728278</td>\n",
       "      <td>41</td>\n",
       "      <td>2020</td>\n",
       "    </tr>\n",
       "    <tr>\n",
       "      <th>5</th>\n",
       "      <td><img src=\"https://cf.geekdo-images.com/dNXxWWcLHd67zOCz1_DV5g__thumb/img/LKLbu76Lt9XTRsSv1TC66uaSN40=/fit-in/200x150/filters:strip_icc()/pic5415822.png\" width=\"124\" /></td>\n",
       "      <td><a href=\"https://boardgamegeek.com/boardgame/297562\">Kemet: Blood and Sand</a></td>\n",
       "      <td>8.700000</td>\n",
       "      <td>8.889091</td>\n",
       "      <td>8.830000</td>\n",
       "      <td>47</td>\n",
       "      <td>2021</td>\n",
       "    </tr>\n",
       "  </tbody>\n",
       "</table>"
      ],
      "text/plain": [
       "<IPython.core.display.HTML object>"
      ]
     },
     "execution_count": 127,
     "metadata": {},
     "output_type": "execute_result"
    }
   ],
   "source": [
    "# TOP N REVIEW RANK\n",
    "display_topn(by='rating_mean_review', n=TOP_N, ascending=False)"
   ]
  },
  {
   "cell_type": "code",
   "execution_count": 128,
   "metadata": {},
   "outputs": [
    {
     "data": {
      "text/html": [
       "<table border=\"1\" class=\"dataframe table table-striped\">\n",
       "  <thead>\n",
       "    <tr style=\"text-align: right;\">\n",
       "      <th></th>\n",
       "      <th>thumbnail</th>\n",
       "      <th>name</th>\n",
       "      <th>rating_mean_review</th>\n",
       "      <th>rating_mean_comments</th>\n",
       "      <th>fixed_rating</th>\n",
       "      <th>rank</th>\n",
       "      <th>yearpublished</th>\n",
       "    </tr>\n",
       "  </thead>\n",
       "  <tbody>\n",
       "    <tr>\n",
       "      <th>1</th>\n",
       "      <td><img src=\"https://cf.geekdo-images.com/4MGFzcFA267b_Hv2zTZsxQ__thumb/img/Wte_inyQRVkb6xm6R1xYTu3GlYY=/fit-in/200x150/filters:strip_icc()/pic5331800.jpg\" width=\"124\" /></td>\n",
       "      <td><a href=\"https://boardgamegeek.com/boardgame/306482\">ICE</a></td>\n",
       "      <td>9.750000</td>\n",
       "      <td>9.100000</td>\n",
       "      <td>9.620000</td>\n",
       "      <td>42</td>\n",
       "      <td>2022</td>\n",
       "    </tr>\n",
       "    <tr>\n",
       "      <th>2</th>\n",
       "      <td><img src=\"https://cf.geekdo-images.com/eUiju5SqZbkNt8gnEofrTw__thumb/img/zNkmLNyeXJGOY24FeAAf4U67ejU=/fit-in/200x150/filters:strip_icc()/pic6035127.png\" width=\"124\" /></td>\n",
       "      <td><a href=\"https://boardgamegeek.com/boardgame/316624\">Stationfall</a></td>\n",
       "      <td>9.545455</td>\n",
       "      <td>9.520000</td>\n",
       "      <td>9.537500</td>\n",
       "      <td>1</td>\n",
       "      <td>2021</td>\n",
       "    </tr>\n",
       "    <tr>\n",
       "      <th>3</th>\n",
       "      <td><img src=\"https://cf.geekdo-images.com/1gQABuftAVgk1qshkMyDEw__thumb/img/Ovni6sWuvyfj9LWn-hnHzpCELF8=/fit-in/200x150/filters:strip_icc()/pic6125184.jpg\" width=\"124\" /></td>\n",
       "      <td><a href=\"https://boardgamegeek.com/boardgame/336794\">Galaxy Trucker</a></td>\n",
       "      <td>10.000000</td>\n",
       "      <td>9.400000</td>\n",
       "      <td>9.500000</td>\n",
       "      <td>40</td>\n",
       "      <td>2021</td>\n",
       "    </tr>\n",
       "    <tr>\n",
       "      <th>4</th>\n",
       "      <td><img src=\"https://cf.geekdo-images.com/a4QfK2JilOgK5BtDgMqpfg__thumb/img/gMUzGCxA6pae7rkt9bZ1tg7s4vw=/fit-in/200x150/filters:strip_icc()/pic6112538.jpg\" width=\"124\" /></td>\n",
       "      <td><a href=\"https://boardgamegeek.com/boardgame/336382\">Marvel United: X-Men</a></td>\n",
       "      <td>8.000000</td>\n",
       "      <td>9.487500</td>\n",
       "      <td>9.322222</td>\n",
       "      <td>19</td>\n",
       "      <td>2022</td>\n",
       "    </tr>\n",
       "    <tr>\n",
       "      <th>5</th>\n",
       "      <td><img src=\"https://cf.geekdo-images.com/-JD8JLncWYMes9Q6YIgorg__thumb/img/Ce6a64m5DxVae_ZXnAsrgdEnqBQ=/fit-in/200x150/filters:strip_icc()/pic6136538.jpg\" width=\"124\" /></td>\n",
       "      <td><a href=\"https://boardgamegeek.com/boardgame/277700\">Merchants Cove</a></td>\n",
       "      <td>8.480556</td>\n",
       "      <td>9.253659</td>\n",
       "      <td>8.892208</td>\n",
       "      <td>3</td>\n",
       "      <td>2021</td>\n",
       "    </tr>\n",
       "  </tbody>\n",
       "</table>"
      ],
      "text/plain": [
       "<IPython.core.display.HTML object>"
      ]
     },
     "execution_count": 128,
     "metadata": {},
     "output_type": "execute_result"
    }
   ],
   "source": [
    "# TOP N FIXED RANK\n",
    "display_topn(by='fixed_rating', n=TOP_N, ascending=False)"
   ]
  },
  {
   "cell_type": "code",
   "execution_count": 129,
   "metadata": {},
   "outputs": [],
   "source": [
    "# model.save('saved_model\\my_model')"
   ]
  },
  {
   "cell_type": "code",
   "execution_count": 130,
   "metadata": {},
   "outputs": [],
   "source": [
    "# saved_model = tf.keras.models.load_model('saved_model\\my_model')"
   ]
  },
  {
   "cell_type": "code",
   "execution_count": 131,
   "metadata": {},
   "outputs": [],
   "source": [
    "# some examples on \"long\" comments vs short comments"
   ]
  },
  {
   "cell_type": "code",
   "execution_count": 132,
   "metadata": {},
   "outputs": [],
   "source": [
    "not_rated_comments['comment_len'] = not_rated_comments['value'].str.len()"
   ]
  },
  {
   "cell_type": "code",
   "execution_count": 133,
   "metadata": {},
   "outputs": [
    {
     "name": "stdout",
     "output_type": "stream",
     "text": [
      "input:\n",
      "\"Got in on the 2nd KS, so far only played the first two scenarios and a couple random setups. One of these days...\"\n",
      "score: 0.995516\n",
      "\n",
      "input:\n",
      "\"Alien SemiKooperativ Spieler können sterben, spielen dann den bösen Hunter und Cron Platz 3 Geekinge Spiele 2020\"\n",
      "score: 0.918219\n",
      "\n",
      "input:\n",
      "\"Very good theme and storytelling. The card mechancis are very varied and diffrent missions can be very diffrent from each other. Feels like beeing and Arkham investigator.\"\n",
      "score: 0.999927\n",
      "\n",
      "input:\n",
      "\"I purchased two copies of the Arkham Horror core set to accommodate four players and allow for more diverse deck building.\"\n",
      "score: 0.973079\n",
      "\n",
      "input:\n",
      "\"I think I'd love the puzzle aspect combined with the publishing mechanic, but I don't want a board game that requires an app.\"\n",
      "score: 0.987921\n",
      "\n",
      "input:\n",
      "\"Amazing production quality and art. Worker placement and tableau/engine building, two of my favourite mechanics.\"\n",
      "score: 0.999943\n",
      "\n",
      "input:\n",
      "\"Might not buy (at least not anytime soon), want really intrigued by the idea and Pax Pamir like gameplay system with this whimsical artwork and theme.\"\n",
      "score: 0.432272\n",
      "\n",
      "input:\n",
      "\"Includes: Gloomhaven  go7gaming insert removeable sticker set (i've used about 5 of these stickers, but they can all come off easily)  I'm also willing to sell for pick up only. (Prior Lake, MN)\"\n",
      "score: 0.998575\n",
      "\n",
      "input:\n",
      "\"Expansions Owned: Branch and Claw, Jagged Earth, Promo Pack 1 (home-made PnP) and one of the spirits from JE and PP 2\"\n",
      "score: 0.992320\n",
      "\n",
      "input:\n",
      "\"Nemesis Core Box Nemesis: Lockdown Nemesis: Lockdown SG box Aftermath expansion Voidseeders expansion Carnomorphs expansion Untold stories #1 Untold stories #2 Medic character\"\n",
      "score: 0.999983\n",
      "\n",
      "input:\n",
      "\"Need to play with experienced opponents after playing multiple times with other newbies being taught by incompetent teacher.   Can't help but be concerned by number of aspects of game, and the stock photo card art doesn't reassure me.\"\n",
      "score: 0.095008\n",
      "\n",
      "input:\n",
      "\"MARS-KOLONIST (German Edition)  On Mars (KS Edition) - German Version ALL applicable unlocked Stretch Goals\"\n",
      "score: 0.986530\n",
      "\n",
      "input:\n",
      "\"I gave myself this for Christmas. Not sure when I will get a chance to play it as its designed for 3-6 players, and not for two. Mostly likely will test it with some two player variants.\"\n",
      "score: 0.675018\n",
      "\n",
      "input:\n",
      "\"45 euro - Kemet is out of print, nieuwe versie komt in 2021. Een van de betere area control- no more friends at the table. \"\n",
      "score: 0.942306\n",
      "\n",
      "input:\n",
      "\"P: 2-4, T: 45 min, KenSdJ-W Press your luck bag builder. Variable setup and events. It compares, but seems a bit lighter, to Orleans; while it won the KennerSpiel, I think it's more a family game plus (+). A little bit of a catch up mechanism in play. North Star Games to produce the English version\"\n",
      "score: 0.994447\n",
      "\n",
      "input:\n",
      "\"Don’t want to trade this. Im just seeing if I can find my top wanted game, which is Xia.  Will only trade locally. I will not pay to ship this. \"\n",
      "score: 0.108944\n",
      "\n",
      "input:\n",
      "\"One play with four.  Worker placement with overwhelming number of options: CHECK At least four currencies: CHECK Complicated personal tableau with different bonus on every card: CHECK All about lucking into card combos: CHECK  Not even one new idea: CHECK  Yep, it's a Kickstarter game from 2018.\"\n",
      "score: 0.944191\n",
      "\n",
      "input:\n",
      "\"+Aftermath +Voidseekers +Carnomorphs +Medic +Playmat +Untold Stories 1/2 +e-Raptor organizer +All sundrop\"\n",
      "score: 0.750006\n",
      "\n",
      "input:\n",
      "\"2 - 4 players (best 3 - 4), 60 - 120 min, Age: 14+, 60 eur  Brass: Birmingham is an economic strategy game sequel to Martin Wallace' 2007 masterpiece, Brass. Birmingham tells the story of competing entrepreneurs in Birmingham during the industrial revolution, between the years of 1770-1870.\"\n",
      "score: 0.999954\n",
      "\n",
      "input:\n",
      "\"LD. Area control game with a twist that all 4 factions are played completely different. Looks very intriguing. +++\"\n",
      "score: 0.955618\n",
      "\n",
      "input:\n",
      "\"more digestible size and length, with similar mechanics. less depth and less effort. more approachable.\"\n",
      "score: 0.919531\n",
      "\n",
      "input:\n",
      "\"Only played solo so far to learn the rules and see the flow. But it's a political game. Nothing can really be said about the quality of the gameplay until there are 4+ people at the table.\"\n",
      "score: 0.888919\n",
      "\n",
      "input:\n",
      "\"The Cardboard Reality podcast really likes this game. It's a tableau building game, but it has a nifty tree made out of cardboard, and it has good table presence. I want to check it out.\"\n",
      "score: 0.999705\n",
      "\n",
      "input:\n",
      "\"Played twice in person and loved it, I want to play again sometime. This game would probably be a 10/10 for me though. \"\n",
      "score: 0.859096\n",
      "\n",
      "input:\n",
      "\"Couple of stickers applied to the board, nothing destroyed.  Also have extra main board with no stickers applied.\"\n",
      "score: 0.068277\n"
     ]
    }
   ],
   "source": [
    "# some long comments\n",
    "some_long_comments = not_rated_comments.query(\"comment_len>100 and comment_len<300\").sample(frac=1)\n",
    "results = tf.sigmoid(model.predict(tf.constant(list(some_long_comments.value))))\n",
    "print_my_examples(list(some_long_comments.value), results, limit=25)"
   ]
  },
  {
   "cell_type": "code",
   "execution_count": null,
   "metadata": {},
   "outputs": [],
   "source": []
  }
 ],
 "metadata": {
  "kernelspec": {
   "display_name": "tensorflow",
   "language": "python",
   "name": "tensorflow"
  },
  "language_info": {
   "codemirror_mode": {
    "name": "ipython",
    "version": 3
   },
   "file_extension": ".py",
   "mimetype": "text/x-python",
   "name": "python",
   "nbconvert_exporter": "python",
   "pygments_lexer": "ipython3",
   "version": "3.7.3"
  }
 },
 "nbformat": 4,
 "nbformat_minor": 4
}
