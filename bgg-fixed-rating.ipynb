{
 "cells": [
  {
   "cell_type": "code",
   "execution_count": 1,
   "metadata": {},
   "outputs": [],
   "source": [
    "# ## BGG API\n",
    "# https://www.boardgamegeek.com/xmlapi2/thing?id=161599&comments=1\n",
    "# https://www.boardgamegeek.com/xmlapi2/hot?type=boardgame\n",
    "# ## NLP WITH TF\n",
    "# https://www.tensorflow.org/hub/tutorials/tf2_text_classification"
   ]
  },
  {
   "cell_type": "code",
   "execution_count": 2,
   "metadata": {},
   "outputs": [
    {
     "name": "stdout",
     "output_type": "stream",
     "text": [
      "Version:      2.6.0\n",
      "Eager mode:   True\n",
      "Hub version:  0.12.0\n",
      "GPU:          available\n"
     ]
    }
   ],
   "source": [
    "import tensorflow as tf\n",
    "import tensorflow_hub as hub\n",
    "from tensorflow.keras.wrappers.scikit_learn import KerasRegressor, KerasClassifier\n",
    "from sklearn.model_selection import GridSearchCV\n",
    "\n",
    "from IPython.display import HTML\n",
    "from datetime import datetime\n",
    "import matplotlib.pyplot as plt\n",
    "import pandas as pd\n",
    "import numpy as np\n",
    "import re\n",
    "\n",
    "from utilities import get_hot_data, get_comments, remove_short_comments, build_model, print_my_examples\n",
    "\n",
    "print(\"Version:     \", tf.__version__)\n",
    "print(\"Eager mode:  \", tf.executing_eagerly())\n",
    "print(\"Hub version: \", hub.__version__)\n",
    "print(\"GPU:         \", \"available\" if tf.config.list_physical_devices('GPU') else \"NOT available\")\n",
    "\n",
    "tf.get_logger().setLevel('ERROR')"
   ]
  },
  {
   "cell_type": "code",
   "execution_count": 3,
   "metadata": {},
   "outputs": [],
   "source": [
    "# tf.debugging.set_log_device_placement(True)"
   ]
  },
  {
   "cell_type": "code",
   "execution_count": 4,
   "metadata": {},
   "outputs": [],
   "source": [
    "GOOD_REVIEW_THRESHOLD = 7\n",
    "VAL_FRACTION = 0.25\n",
    "MIN_COMMENT_LEN = 25\n",
    "TOP_N = 5\n",
    "MODEL_NAME = \"https://tfhub.dev/google/tf2-preview/nnlm-en-dim50/1\"\n",
    "# MORE ABOUT MODEL NAMES: \n",
    "# \"https://tfhub.dev/google/tf2-preview/nnlm-en-dim128/1\"\n",
    "# \"https://tfhub.dev/google/tf2-preview/nnlm-en-dim128-with-normalization/1\"\n",
    "# we also tested these solutions with dimension equals to 128 but accuracy \n",
    "# is a bit lower (0.85 for 128 vs 0.86 for 50) and training sometimes stops \n",
    "# unexpectedly for memory limit\n",
    "#\n",
    "# \"https://tfhub.dev/google/tf2-preview/nnlm-en-dim50/1\"\n",
    "# \"https://tfhub.dev/google/tf2-preview/nnlm-en-dim50-with-normalization/1\"\n",
    "# there is no difference between normalization and not so we use the one \n",
    "# without normalization"
   ]
  },
  {
   "cell_type": "markdown",
   "metadata": {},
   "source": [
    "## GET DATA"
   ]
  },
  {
   "cell_type": "code",
   "execution_count": 5,
   "metadata": {},
   "outputs": [
    {
     "data": {
      "text/plain": [
       "[{'id': '307002',\n",
       "  'rank': '1',\n",
       "  'thumbnail': 'https://cf.geekdo-images.com/C9U2E51tkzLljewFEGQ74g__thumb/img/4KV3wj3NiJDgGTh3zmW0_8Ph3Zc=/fit-in/200x150/filters:strip_icc()/pic5837347.jpg',\n",
       "  'name': 'Regicide',\n",
       "  'yearpublished': '2020'},\n",
       " {'id': '22245',\n",
       "  'rank': '2',\n",
       "  'thumbnail': 'https://cf.geekdo-images.com/x4s694EfCpt7MtxAwzRDuQ__thumb/img/YeqqzGqiMeAWOGNZlWUv607i9ZY=/fit-in/200x150/filters:strip_icc()/pic5854330.jpg',\n",
       "  'name': 'Royal Visit',\n",
       "  'yearpublished': '2006'}]"
      ]
     },
     "execution_count": 5,
     "metadata": {},
     "output_type": "execute_result"
    }
   ],
   "source": [
    "hot_array = get_hot_data()\n",
    "hot_array[:2]"
   ]
  },
  {
   "cell_type": "code",
   "execution_count": 6,
   "metadata": {},
   "outputs": [],
   "source": [
    "def get_game_by_id(game_id, field='name'):\n",
    "    for a in hot_array:\n",
    "        if a['id'] == str(game_id):\n",
    "            return a[field]"
   ]
  },
  {
   "cell_type": "code",
   "execution_count": 7,
   "metadata": {},
   "outputs": [
    {
     "name": "stdout",
     "output_type": "stream",
     "text": [
      "missing csv file, getting new data using API...\n",
      "page number = 10 (max: 100, len: 29)\n",
      "page number = 20 (max: 100, len: 24)\n",
      "page number = 30 (max: 100, len: 18)\n",
      "page number = 40 (max: 100, len: 13)\n",
      "page number = 50 (max: 100, len: 10)\n",
      "page number = 60 (max: 100, len: 7)\n",
      "page number = 70 (max: 100, len: 6)\n",
      "page number = 80 (max: 100, len: 5)\n",
      "page number = 90 (max: 100, len: 3)\n",
      "page number = 100 (max: 100, len: 1)\n",
      "comments_df shape: (130878, 4)\n"
     ]
    },
    {
     "data": {
      "text/html": [
       "<div>\n",
       "<style scoped>\n",
       "    .dataframe tbody tr th:only-of-type {\n",
       "        vertical-align: middle;\n",
       "    }\n",
       "\n",
       "    .dataframe tbody tr th {\n",
       "        vertical-align: top;\n",
       "    }\n",
       "\n",
       "    .dataframe thead th {\n",
       "        text-align: right;\n",
       "    }\n",
       "</style>\n",
       "<table border=\"1\" class=\"dataframe\">\n",
       "  <thead>\n",
       "    <tr style=\"text-align: right;\">\n",
       "      <th></th>\n",
       "      <th>id</th>\n",
       "      <th>username</th>\n",
       "      <th>rating</th>\n",
       "      <th>value</th>\n",
       "    </tr>\n",
       "  </thead>\n",
       "  <tbody>\n",
       "    <tr>\n",
       "      <th>0</th>\n",
       "      <td>307002</td>\n",
       "      <td>AgentMeat</td>\n",
       "      <td>2</td>\n",
       "      <td>only solo, played with normal deck of cards, s...</td>\n",
       "    </tr>\n",
       "    <tr>\n",
       "      <th>1</th>\n",
       "      <td>307002</td>\n",
       "      <td>Akuden</td>\n",
       "      <td>8</td>\n",
       "      <td>Kickstarted. Tried out the game solo and at 2 ...</td>\n",
       "    </tr>\n",
       "    <tr>\n",
       "      <th>2</th>\n",
       "      <td>307002</td>\n",
       "      <td>amqueue</td>\n",
       "      <td>N/A</td>\n",
       "      <td>kickstarter</td>\n",
       "    </tr>\n",
       "    <tr>\n",
       "      <th>3</th>\n",
       "      <td>307002</td>\n",
       "      <td>andrewkapish</td>\n",
       "      <td>N/A</td>\n",
       "      <td>Unplayed</td>\n",
       "    </tr>\n",
       "    <tr>\n",
       "      <th>4</th>\n",
       "      <td>307002</td>\n",
       "      <td>Angelo the Magician</td>\n",
       "      <td>9</td>\n",
       "      <td>I  only play the solo version and that one is ...</td>\n",
       "    </tr>\n",
       "    <tr>\n",
       "      <th>...</th>\n",
       "      <td>...</td>\n",
       "      <td>...</td>\n",
       "      <td>...</td>\n",
       "      <td>...</td>\n",
       "    </tr>\n",
       "    <tr>\n",
       "      <th>130873</th>\n",
       "      <td>167791</td>\n",
       "      <td>z_zadar</td>\n",
       "      <td>9</td>\n",
       "      <td>Some games are so much fun. Others can be a li...</td>\n",
       "    </tr>\n",
       "    <tr>\n",
       "      <th>130874</th>\n",
       "      <td>167791</td>\n",
       "      <td>_Czid_</td>\n",
       "      <td>8</td>\n",
       "      <td>Have played with Elysium and Prelude expansion...</td>\n",
       "    </tr>\n",
       "    <tr>\n",
       "      <th>130875</th>\n",
       "      <td>167791</td>\n",
       "      <td>_Marty_</td>\n",
       "      <td>9.5</td>\n",
       "      <td>Fantastic game. With so many cards that can ch...</td>\n",
       "    </tr>\n",
       "    <tr>\n",
       "      <th>130876</th>\n",
       "      <td>167791</td>\n",
       "      <td>_mun_</td>\n",
       "      <td>10</td>\n",
       "      <td>Nagyon izgalmas játék, jó a mechanizmusa. A sz...</td>\n",
       "    </tr>\n",
       "    <tr>\n",
       "      <th>130877</th>\n",
       "      <td>167791</td>\n",
       "      <td>_The_Inquiry_</td>\n",
       "      <td>5</td>\n",
       "      <td>Prior to 2020: 2 plays  TM is one of those gam...</td>\n",
       "    </tr>\n",
       "  </tbody>\n",
       "</table>\n",
       "<p>130878 rows × 4 columns</p>\n",
       "</div>"
      ],
      "text/plain": [
       "            id             username rating  \\\n",
       "0       307002            AgentMeat      2   \n",
       "1       307002               Akuden      8   \n",
       "2       307002              amqueue    N/A   \n",
       "3       307002         andrewkapish    N/A   \n",
       "4       307002  Angelo the Magician      9   \n",
       "...        ...                  ...    ...   \n",
       "130873  167791              z_zadar      9   \n",
       "130874  167791               _Czid_      8   \n",
       "130875  167791              _Marty_    9.5   \n",
       "130876  167791                _mun_     10   \n",
       "130877  167791        _The_Inquiry_      5   \n",
       "\n",
       "                                                    value  \n",
       "0       only solo, played with normal deck of cards, s...  \n",
       "1       Kickstarted. Tried out the game solo and at 2 ...  \n",
       "2                                             kickstarter  \n",
       "3                                                Unplayed  \n",
       "4       I  only play the solo version and that one is ...  \n",
       "...                                                   ...  \n",
       "130873  Some games are so much fun. Others can be a li...  \n",
       "130874  Have played with Elysium and Prelude expansion...  \n",
       "130875  Fantastic game. With so many cards that can ch...  \n",
       "130876  Nagyon izgalmas játék, jó a mechanizmusa. A sz...  \n",
       "130877  Prior to 2020: 2 plays  TM is one of those gam...  \n",
       "\n",
       "[130878 rows x 4 columns]"
      ]
     },
     "execution_count": 7,
     "metadata": {},
     "output_type": "execute_result"
    }
   ],
   "source": [
    "try:\n",
    "    comments_df = pd.read_csv(f\"comments_{datetime.now().strftime('%Y%m%d')}.csv\")\n",
    "    comments_df['rating'] = comments_df.rating.fillna('N/A')\n",
    "    print(\"reading dataframe from csv file...\")\n",
    "except:\n",
    "    print(\"missing csv file, getting new data using API...\")\n",
    "    comments_df = get_comments(hot_array, verbose=10)\n",
    "    comments_df.to_csv(f\"comments_{datetime.now().strftime('%Y%m%d')}.csv\", index=False)\n",
    "comments_df"
   ]
  },
  {
   "cell_type": "markdown",
   "metadata": {},
   "source": [
    "## DATA CLEANING"
   ]
  },
  {
   "cell_type": "code",
   "execution_count": 8,
   "metadata": {},
   "outputs": [],
   "source": [
    "# probably we should keep all the ratings (no matters the len) and remove only the simple comments under a certain len  \n",
    "comments_df[\"value\"] = comments_df[\"value\"].astype(str)"
   ]
  },
  {
   "cell_type": "code",
   "execution_count": 9,
   "metadata": {},
   "outputs": [
    {
     "name": "stdout",
     "output_type": "stream",
     "text": [
      "removed 20630 for 'remove_short_comments' - min len: 25 - method: unrated\n"
     ]
    }
   ],
   "source": [
    "# REMOVE URLs FROM COMMENTS\n",
    "comments_df['value'] = [re.sub(r\"http\\S+\", \"\", v) for v in comments_df.value.values]\n",
    "comments_df = remove_short_comments(comments_df, MIN_COMMENT_LEN)"
   ]
  },
  {
   "cell_type": "code",
   "execution_count": 10,
   "metadata": {},
   "outputs": [],
   "source": [
    "# REMOVE NON ENGLISH COMMENTS\n",
    "# !conda install -c conda-forge langdetect\n",
    "# def add_comments_lang(df: pd.DataFrame):\n",
    "#     df_local = df.copy()\n",
    "#     df_local['lang'] = df['value'].apply(detect)\n",
    "#     return df_local.reset_index(drop=True)\n",
    "# comments_df = add_comments_lang(comments_df)\n",
    "# comments_df = comments_df.query('lang == \"en\"')"
   ]
  },
  {
   "cell_type": "markdown",
   "metadata": {},
   "source": [
    "## SPLIT RATED AND NON-RATED COMMENTS"
   ]
  },
  {
   "cell_type": "code",
   "execution_count": 11,
   "metadata": {},
   "outputs": [
    {
     "data": {
      "text/plain": [
       "9          20420\n",
       "8          19128\n",
       "10         18727\n",
       "7          10536\n",
       "N/A         8295\n",
       "           ...  \n",
       "2.02           1\n",
       "8.24           1\n",
       "3.03333        1\n",
       "6.34           1\n",
       "9.125          1\n",
       "Name: rating, Length: 627, dtype: int64"
      ]
     },
     "execution_count": 11,
     "metadata": {},
     "output_type": "execute_result"
    }
   ],
   "source": [
    "# count number of comments per rating (N/A included)\n",
    "comments_df.rating.value_counts()"
   ]
  },
  {
   "cell_type": "code",
   "execution_count": 12,
   "metadata": {},
   "outputs": [
    {
     "data": {
      "text/plain": [
       "(101953, 5)"
      ]
     },
     "execution_count": 12,
     "metadata": {},
     "output_type": "execute_result"
    }
   ],
   "source": [
    "# get rated comments only\n",
    "rated_comments = comments_df.query('rating != \"N/A\"')\n",
    "rated_comments.shape"
   ]
  },
  {
   "cell_type": "code",
   "execution_count": 13,
   "metadata": {},
   "outputs": [
    {
     "data": {
      "text/plain": [
       "(8295, 5)"
      ]
     },
     "execution_count": 13,
     "metadata": {},
     "output_type": "execute_result"
    }
   ],
   "source": [
    "# get non rated comments only\n",
    "not_rated_comments = comments_df.query('rating == \"N/A\"').reset_index(drop=True)\n",
    "not_rated_comments.shape"
   ]
  },
  {
   "cell_type": "markdown",
   "metadata": {},
   "source": [
    "## CREATE TRAINING AND VALIDATION DATA"
   ]
  },
  {
   "cell_type": "code",
   "execution_count": 14,
   "metadata": {},
   "outputs": [],
   "source": [
    "# use rated comments (reviews) to train the model"
   ]
  },
  {
   "cell_type": "code",
   "execution_count": 15,
   "metadata": {},
   "outputs": [],
   "source": [
    "rated_comments = rated_comments.sample(frac=1)"
   ]
  },
  {
   "cell_type": "code",
   "execution_count": 16,
   "metadata": {},
   "outputs": [],
   "source": [
    "# create training X and y\n",
    "train_examples = list(rated_comments.value)\n",
    "train_labels = list((rated_comments.rating.astype(float)>=GOOD_REVIEW_THRESHOLD).astype(int))"
   ]
  },
  {
   "cell_type": "code",
   "execution_count": 17,
   "metadata": {},
   "outputs": [
    {
     "name": "stdout",
     "output_type": "stream",
     "text": [
      "example of positive rating:\n"
     ]
    },
    {
     "data": {
      "text/plain": [
       "'amazing game both cooperative as well as solo'"
      ]
     },
     "execution_count": 17,
     "metadata": {},
     "output_type": "execute_result"
    }
   ],
   "source": [
    "print(\"example of positive rating:\")\n",
    "train_examples[train_labels.index(1)]"
   ]
  },
  {
   "cell_type": "code",
   "execution_count": 18,
   "metadata": {},
   "outputs": [
    {
     "name": "stdout",
     "output_type": "stream",
     "text": [
      "example of negative rating:\n"
     ]
    },
    {
     "data": {
      "text/plain": [
       "\"I have only played this solo as I cannot convince anyone to play with me. I love the components, the art is great. I WANT to like it, I just haven't enjoyed it as a solo.\""
      ]
     },
     "execution_count": 18,
     "metadata": {},
     "output_type": "execute_result"
    }
   ],
   "source": [
    "print(\"example of negative rating:\")\n",
    "train_examples[train_labels.index(0)]"
   ]
  },
  {
   "cell_type": "markdown",
   "metadata": {},
   "source": [
    "## COMPOSE MODEL"
   ]
  },
  {
   "cell_type": "code",
   "execution_count": 19,
   "metadata": {},
   "outputs": [],
   "source": [
    "hub_layer = hub.KerasLayer(MODEL_NAME, input_shape=[], dtype=tf.string, trainable=True)"
   ]
  },
  {
   "cell_type": "markdown",
   "metadata": {},
   "source": [
    "## CLASSIFIER"
   ]
  },
  {
   "cell_type": "code",
   "execution_count": 20,
   "metadata": {},
   "outputs": [
    {
     "name": "stdout",
     "output_type": "stream",
     "text": [
      "Epoch 1/100\n",
      "50/50 - 5s - loss: 0.6080 - accuracy: 0.7153 - val_loss: 0.5309 - val_accuracy: 0.8343\n",
      "Epoch 2/100\n",
      "50/50 - 3s - loss: 0.4874 - accuracy: 0.8463 - val_loss: 0.4521 - val_accuracy: 0.8505\n",
      "Epoch 3/100\n",
      "50/50 - 3s - loss: 0.4017 - accuracy: 0.8521 - val_loss: 0.3804 - val_accuracy: 0.8530\n",
      "Epoch 4/100\n",
      "50/50 - 3s - loss: 0.3367 - accuracy: 0.8645 - val_loss: 0.3437 - val_accuracy: 0.8678\n",
      "Epoch 5/100\n",
      "50/50 - 3s - loss: 0.2942 - accuracy: 0.8865 - val_loss: 0.3252 - val_accuracy: 0.8729\n",
      "Epoch 6/100\n",
      "50/50 - 3s - loss: 0.2631 - accuracy: 0.8987 - val_loss: 0.3192 - val_accuracy: 0.8717\n",
      "Epoch 7/100\n",
      "50/50 - 3s - loss: 0.2390 - accuracy: 0.9090 - val_loss: 0.3219 - val_accuracy: 0.8727\n",
      "Epoch 8/100\n",
      "50/50 - 3s - loss: 0.2184 - accuracy: 0.9179 - val_loss: 0.3282 - val_accuracy: 0.8699\n",
      "Epoch 9/100\n",
      "50/50 - 3s - loss: 0.2013 - accuracy: 0.9252 - val_loss: 0.3381 - val_accuracy: 0.8655\n",
      "Epoch 10/100\n",
      "50/50 - 3s - loss: 0.1865 - accuracy: 0.9309 - val_loss: 0.3518 - val_accuracy: 0.8642\n",
      "34/34 - 0s - loss: 0.3508 - accuracy: 0.8668\n",
      "Epoch 1/100\n",
      "50/50 - 4s - loss: 0.5383 - accuracy: 0.8191 - val_loss: 0.4672 - val_accuracy: 0.8511\n",
      "Epoch 2/100\n",
      "50/50 - 3s - loss: 0.4111 - accuracy: 0.8523 - val_loss: 0.3783 - val_accuracy: 0.8542\n",
      "Epoch 3/100\n",
      "50/50 - 3s - loss: 0.3361 - accuracy: 0.8676 - val_loss: 0.3366 - val_accuracy: 0.8672\n",
      "Epoch 4/100\n",
      "50/50 - 3s - loss: 0.2922 - accuracy: 0.8849 - val_loss: 0.3201 - val_accuracy: 0.8747\n",
      "Epoch 5/100\n",
      "50/50 - 3s - loss: 0.2613 - accuracy: 0.8969 - val_loss: 0.3149 - val_accuracy: 0.8756\n",
      "Epoch 6/100\n",
      "50/50 - 3s - loss: 0.2365 - accuracy: 0.9078 - val_loss: 0.3175 - val_accuracy: 0.8746\n",
      "Epoch 7/100\n",
      "50/50 - 3s - loss: 0.2150 - accuracy: 0.9165 - val_loss: 0.3256 - val_accuracy: 0.8721\n",
      "Epoch 8/100\n",
      "50/50 - 3s - loss: 0.1971 - accuracy: 0.9242 - val_loss: 0.3392 - val_accuracy: 0.8704\n",
      "Epoch 9/100\n",
      "50/50 - 3s - loss: 0.1822 - accuracy: 0.9310 - val_loss: 0.3503 - val_accuracy: 0.8654\n",
      "34/34 - 0s - loss: 0.3536 - accuracy: 0.8647\n",
      "Epoch 1/100\n",
      "50/50 - 4s - loss: 0.6313 - accuracy: 0.6852 - val_loss: 0.5355 - val_accuracy: 0.8437\n",
      "Epoch 2/100\n",
      "50/50 - 3s - loss: 0.4931 - accuracy: 0.8486 - val_loss: 0.4566 - val_accuracy: 0.8504\n",
      "Epoch 3/100\n",
      "50/50 - 3s - loss: 0.4107 - accuracy: 0.8541 - val_loss: 0.3779 - val_accuracy: 0.8583\n",
      "Epoch 4/100\n",
      "50/50 - 3s - loss: 0.3362 - accuracy: 0.8727 - val_loss: 0.3366 - val_accuracy: 0.8729\n",
      "Epoch 5/100\n",
      "50/50 - 3s - loss: 0.2913 - accuracy: 0.8879 - val_loss: 0.3204 - val_accuracy: 0.8763\n",
      "Epoch 6/100\n",
      "50/50 - 3s - loss: 0.2604 - accuracy: 0.8993 - val_loss: 0.3165 - val_accuracy: 0.8768\n",
      "Epoch 7/100\n",
      "50/50 - 3s - loss: 0.2369 - accuracy: 0.9086 - val_loss: 0.3195 - val_accuracy: 0.8731\n",
      "Epoch 8/100\n",
      "50/50 - 3s - loss: 0.2171 - accuracy: 0.9172 - val_loss: 0.3265 - val_accuracy: 0.8704\n",
      "Epoch 9/100\n",
      "50/50 - 3s - loss: 0.2004 - accuracy: 0.9245 - val_loss: 0.3373 - val_accuracy: 0.8683\n",
      "Epoch 10/100\n",
      "50/50 - 3s - loss: 0.1861 - accuracy: 0.9308 - val_loss: 0.3504 - val_accuracy: 0.8625\n",
      "34/34 - 0s - loss: 0.3518 - accuracy: 0.8629\n",
      "Epoch 1/100\n",
      "75/75 - 5s - loss: 0.5990 - accuracy: 0.6968 - val_loss: 0.4827 - val_accuracy: 0.8503\n",
      "Epoch 2/100\n",
      "75/75 - 4s - loss: 0.4174 - accuracy: 0.8530 - val_loss: 0.3659 - val_accuracy: 0.8606\n",
      "Epoch 3/100\n",
      "75/75 - 4s - loss: 0.3249 - accuracy: 0.8749 - val_loss: 0.3215 - val_accuracy: 0.8744\n",
      "Epoch 4/100\n",
      "75/75 - 4s - loss: 0.2818 - accuracy: 0.8904 - val_loss: 0.3097 - val_accuracy: 0.8775\n",
      "Epoch 5/100\n",
      "75/75 - 4s - loss: 0.2547 - accuracy: 0.9000 - val_loss: 0.3089 - val_accuracy: 0.8785\n",
      "Epoch 6/100\n",
      "75/75 - 4s - loss: 0.2343 - accuracy: 0.9083 - val_loss: 0.3150 - val_accuracy: 0.8767\n",
      "Epoch 7/100\n",
      "75/75 - 4s - loss: 0.2179 - accuracy: 0.9148 - val_loss: 0.3220 - val_accuracy: 0.8727\n",
      "Epoch 8/100\n",
      "75/75 - 4s - loss: 0.2040 - accuracy: 0.9209 - val_loss: 0.3323 - val_accuracy: 0.8705\n",
      "Epoch 9/100\n",
      "75/75 - 4s - loss: 0.1925 - accuracy: 0.9265 - val_loss: 0.3441 - val_accuracy: 0.8679\n"
     ]
    },
    {
     "data": {
      "text/plain": [
       "GridSearchCV(cv=3,\n",
       "             estimator=<keras.wrappers.scikit_learn.KerasClassifier object at 0x00000159878E2EE0>,\n",
       "             param_grid={})"
      ]
     },
     "execution_count": 20,
     "metadata": {},
     "output_type": "execute_result"
    }
   ],
   "source": [
    "def build_classifier():\n",
    "    return build_model(hub_layer=None, pre_trained_model_name=MODEL_NAME, model_type='classifier', verbose=0)\n",
    "\n",
    "\n",
    "estimator = KerasClassifier(build_fn=build_classifier, epochs=100, batch_size=1024, verbose=2, validation_split=VAL_FRACTION)\n",
    "x_train_clf = np.array(list(rated_comments.value))\n",
    "y_train_clf = np.array(list((rated_comments.rating.astype(float)>=GOOD_REVIEW_THRESHOLD).astype(int)))\n",
    "\n",
    "clf = GridSearchCV(\n",
    "    estimator, \n",
    "    cv=3, \n",
    "    param_grid={}\n",
    ")\n",
    "clf.fit(x_train_clf, y_train_clf, callbacks=[tf.keras.callbacks.EarlyStopping(monitor='val_accuracy', patience=5, min_delta=0.001)])"
   ]
  },
  {
   "cell_type": "code",
   "execution_count": 21,
   "metadata": {},
   "outputs": [],
   "source": [
    "classifier = clf.best_estimator_\n",
    "classifier_history_dict = classifier.model.history.history"
   ]
  },
  {
   "cell_type": "code",
   "execution_count": 22,
   "metadata": {},
   "outputs": [
    {
     "data": {
      "text/plain": [
       "dict_keys(['loss', 'accuracy', 'val_loss', 'val_accuracy'])"
      ]
     },
     "execution_count": 22,
     "metadata": {},
     "output_type": "execute_result"
    }
   ],
   "source": [
    "classifier_history_dict.keys()"
   ]
  },
  {
   "cell_type": "code",
   "execution_count": 23,
   "metadata": {},
   "outputs": [],
   "source": [
    "acc = classifier_history_dict['accuracy']\n",
    "val_acc = classifier_history_dict['val_accuracy']\n",
    "loss = classifier_history_dict['loss']\n",
    "val_loss = classifier_history_dict['val_loss']"
   ]
  },
  {
   "cell_type": "code",
   "execution_count": 24,
   "metadata": {},
   "outputs": [],
   "source": [
    "epochs = range(1, len(acc) + 1) "
   ]
  },
  {
   "cell_type": "code",
   "execution_count": 25,
   "metadata": {},
   "outputs": [
    {
     "data": {
      "image/png": "[encoded data removed]",
      "text/plain": [
       "<Figure size 648x360 with 1 Axes>"
      ]
     },
     "metadata": {
      "needs_background": "light"
     },
     "output_type": "display_data"
    }
   ],
   "source": [
    "# \"bo\" is for \"blue dot\"\n",
    "plt.figure(figsize=(9, 5))\n",
    "plt.plot(epochs, loss, 'bo', label='Training loss')\n",
    "# b is for \"solid blue line\"\n",
    "plt.plot(epochs, val_loss, 'b', label='Validation loss')\n",
    "plt.title('Training and validation loss')\n",
    "plt.xlabel('Epochs')\n",
    "plt.ylabel('Loss')\n",
    "plt.grid(True)\n",
    "plt.legend()\n",
    "\n",
    "plt.show()"
   ]
  },
  {
   "cell_type": "code",
   "execution_count": 26,
   "metadata": {},
   "outputs": [
    {
     "data": {
      "image/png": "[encoded data removed]",
      "text/plain": [
       "<Figure size 648x360 with 1 Axes>"
      ]
     },
     "metadata": {
      "needs_background": "light"
     },
     "output_type": "display_data"
    }
   ],
   "source": [
    "plt.figure(figsize=(9, 5))\n",
    "plt.plot(epochs, acc, 'bo', label='Training acc')\n",
    "plt.plot(epochs, val_acc, 'b', label='Validation acc')\n",
    "plt.title('Training and validation accuracy')\n",
    "plt.xlabel('Epochs')\n",
    "plt.ylabel('Accuracy')\n",
    "plt.grid(True)\n",
    "plt.legend()\n",
    "\n",
    "plt.show()"
   ]
  },
  {
   "cell_type": "code",
   "execution_count": 27,
   "metadata": {},
   "outputs": [
    {
     "name": "stdout",
     "output_type": "stream",
     "text": [
      "input:\n",
      "\"amazing game both cooperative as well as solo\"\n",
      "score: 1.000000\n",
      "actual: 1\n",
      "\n",
      "input:\n",
      "\"I have only played this solo as I cannot convince anyone to play with me. I love the components, the art is great. I WANT to like it, I just haven't enjoyed it as a solo.\"\n",
      "score: 1.000000\n",
      "actual: 0\n",
      "\n",
      "input:\n",
      "\"A magnum opus of a game. Looks mighty impressive when set up. Looks like I haven't logged any plays but I've played at least 4 times. A bit of a bear to set up which means this is a special occasion type of game. Amazing. \"\n",
      "score: 1.000000\n",
      "actual: 1\n",
      "\n",
      "input:\n",
      "\"Combos de cartas rapidísimo. La app para calcular la puntuación va de lujo.\"\n",
      "score: 1.000000\n",
      "actual: 1\n",
      "\n",
      "input:\n",
      "\"Juego cooperativo en el que tienes que planificar muy bien las acciones para conseguir sobrevivir, la sensación de agobio es continua durante toda la partida.  El juego consigue mantenerte en la cuerda floja entre el éxito y el fracaso permanentemente.\"\n",
      "score: 1.000000\n",
      "actual: 1\n",
      "\n",
      "input:\n",
      "\"Nice engine builder with cool critical mass!\"\n",
      "score: 1.000000\n",
      "actual: 1\n",
      "\n",
      "input:\n",
      "\"3 4 5, 2 w The Herb Witches\"\n",
      "score: 1.000000\n",
      "actual: 1\n",
      "\n",
      "input:\n",
      "\"Riverfolk Expansion\"\n",
      "score: 1.000000\n",
      "actual: 1\n",
      "\n",
      "input:\n",
      "\"Pretty good game.  This one might go up with future plays.  Since I didn't really know what was going on when we started the game, it was hard for me to tell if the randomness in the card play is a plus or a minus.  But, overall, fun and thematic.  Played again with the draft variant.  Adds a little time, but I think it makes the game better.\"\n",
      "score: 1.000000\n",
      "actual: 1\n",
      "\n",
      "input:\n",
      "\"I don't know what it is about Jamey's games, but I have fallen out of love recently. Scythe is a well-polished game but it lacks ... soul.  + Coins + Board extension\"\n",
      "score: 0.000000\n",
      "actual: 0\n"
     ]
    }
   ],
   "source": [
    "inputs = x_train_clf[:10]\n",
    "outputs = y_train_clf[:10]\n",
    "results = classifier.predict(tf.constant(inputs), verbose=0)\n",
    "print_my_examples(inputs, results, outputs)"
   ]
  },
  {
   "cell_type": "code",
   "execution_count": 28,
   "metadata": {},
   "outputs": [],
   "source": [
    "## APPLY MODEL ON NON-RATED COMMENTS"
   ]
  },
  {
   "cell_type": "code",
   "execution_count": 29,
   "metadata": {},
   "outputs": [
    {
     "name": "stdout",
     "output_type": "stream",
     "text": [
      "input:\n",
      "\"No gaming group for this monster - so got to sold it =((\"\n",
      "score: 0.000000\n",
      "\n",
      "input:\n",
      "\"Birthday present. Karsten og Marianne + Jan og Julie\"\n",
      "score: 1.000000\n",
      "\n",
      "input:\n",
      "\"Kickstarter Collector's  édition French version\"\n",
      "score: 1.000000\n",
      "\n",
      "input:\n",
      "\"Better liked by my household than by me.\"\n",
      "score: 0.000000\n",
      "\n",
      "input:\n",
      "\"+ Lords of Middle-earth + Warriors of Middle-Earth\"\n",
      "score: 1.000000\n",
      "\n",
      "input:\n",
      "\"This looks like a fascinating game but not one I’d ever play. \"\n",
      "score: 1.000000\n",
      "\n",
      "input:\n",
      "\"Sundropped, fully painted heroes\"\n",
      "score: 1.000000\n",
      "\n",
      "input:\n",
      "\"Concordia is good because it is fairly easy and at the same time with a lot of depht. However there are also downsides. There is no round-limit meaning that the game can potentially drag out. The theme is not as thorough as it could be. Spreading power and Roman culture through commerce makes sense but considering that military power was also a significant tool for ancient Rome, I can't help something is severely lacking in this game. Player interaction is also very limited and it feels more like a commercial race than anything else. I miss the option of buying and selling with other players and above all to engange in conflict with them.\"\n",
      "score: 1.000000\n",
      "\n",
      "input:\n",
      "\"[b]Expansions:[/b] [boardgameexpansion=242277][/boardgameexpansion]\"\n",
      "score: 1.000000\n",
      "\n",
      "input:\n",
      "\"Small fun game of Mr. Knizia. A simple card game with some amount of luck involved. I like the pace of it though. It plays very fast.  Stupid ending rules IMO  (T)\"\n",
      "score: 1.000000\n"
     ]
    }
   ],
   "source": [
    "not_rated_comments = not_rated_comments.sample(frac=1)\n",
    "results = classifier.predict(tf.constant(list(not_rated_comments.value.astype(str))))\n",
    "print_my_examples(list(not_rated_comments.value), results, limit=10)"
   ]
  },
  {
   "cell_type": "markdown",
   "metadata": {},
   "source": [
    "## REGRESSOR"
   ]
  },
  {
   "cell_type": "code",
   "execution_count": 30,
   "metadata": {},
   "outputs": [
    {
     "data": {
      "text/plain": [
       "GridSearchCV(cv=3,\n",
       "             estimator=<keras.wrappers.scikit_learn.KerasRegressor object at 0x0000015D04951370>,\n",
       "             param_grid={})"
      ]
     },
     "execution_count": 30,
     "metadata": {},
     "output_type": "execute_result"
    }
   ],
   "source": [
    "def build_regressor():\n",
    "    return build_model(hub_layer, pre_trained_model_name=MODEL_NAME, model_type='regressor', verbose=0)\n",
    "\n",
    "\n",
    "estimator = KerasRegressor(build_fn=build_regressor, epochs=100, batch_size=512, verbose=0, validation_split=VAL_FRACTION)\n",
    "x_train_reg = np.array(list(rated_comments.value))\n",
    "y_train_reg = np.array(list(rated_comments.rating.astype(float)))\n",
    "\n",
    "clf = GridSearchCV(\n",
    "    estimator, \n",
    "    cv=3, \n",
    "    param_grid={}\n",
    ")\n",
    "clf.fit(x_train_reg, y_train_reg, callbacks=[tf.keras.callbacks.EarlyStopping(monitor='val_mean_squared_error', patience=5, min_delta=0.001)])"
   ]
  },
  {
   "cell_type": "code",
   "execution_count": 31,
   "metadata": {},
   "outputs": [],
   "source": [
    "regressor = clf.best_estimator_\n",
    "regressor_history_dict = regressor.model.history.history"
   ]
  },
  {
   "cell_type": "code",
   "execution_count": 32,
   "metadata": {},
   "outputs": [
    {
     "data": {
      "text/plain": [
       "dict_keys(['loss', 'mean_squared_error', 'val_loss', 'val_mean_squared_error'])"
      ]
     },
     "execution_count": 32,
     "metadata": {},
     "output_type": "execute_result"
    }
   ],
   "source": [
    "regressor_history_dict.keys()"
   ]
  },
  {
   "cell_type": "code",
   "execution_count": 33,
   "metadata": {},
   "outputs": [],
   "source": [
    "mean_squared_error = regressor_history_dict['mean_squared_error']\n",
    "val_mean_squared_error = regressor_history_dict['val_mean_squared_error']\n",
    "loss = regressor_history_dict['loss']\n",
    "val_loss = regressor_history_dict['val_loss']"
   ]
  },
  {
   "cell_type": "code",
   "execution_count": 34,
   "metadata": {},
   "outputs": [],
   "source": [
    "epochs = range(1, len(mean_squared_error) + 1) "
   ]
  },
  {
   "cell_type": "code",
   "execution_count": 35,
   "metadata": {},
   "outputs": [
    {
     "name": "stdout",
     "output_type": "stream",
     "text": [
      "MEAN SQUARED ERROR (VALIDATION SET): 2.22\n"
     ]
    }
   ],
   "source": [
    "print(f\"MEAN SQUARED ERROR (VALIDATION SET): {val_mean_squared_error[-1]:.2f}\")"
   ]
  },
  {
   "cell_type": "code",
   "execution_count": 36,
   "metadata": {},
   "outputs": [
    {
     "name": "stdout",
     "output_type": "stream",
     "text": [
      "MEAN SQUARED ERROR (TRAINING SET): 1.00\n"
     ]
    }
   ],
   "source": [
    "print(f\"MEAN SQUARED ERROR (TRAINING SET): {mean_squared_error[-1]:.2f}\")"
   ]
  },
  {
   "cell_type": "code",
   "execution_count": 37,
   "metadata": {},
   "outputs": [
    {
     "data": {
      "image/png": "[encoded data removed]",
      "text/plain": [
       "<Figure size 648x360 with 1 Axes>"
      ]
     },
     "metadata": {
      "needs_background": "light"
     },
     "output_type": "display_data"
    }
   ],
   "source": [
    "# \"bo\" is for \"blue dot\"\n",
    "plt.figure(figsize=(9, 5))\n",
    "plt.plot(epochs, loss, 'bo', label='Training loss')\n",
    "# b is for \"solid blue line\"\n",
    "plt.plot(epochs, val_loss, 'b', label='Validation loss')\n",
    "plt.title('Training and validation loss')\n",
    "plt.xlabel('Epochs')\n",
    "plt.ylabel('Loss')\n",
    "plt.grid(True)\n",
    "plt.legend()\n",
    "\n",
    "plt.show()"
   ]
  },
  {
   "cell_type": "code",
   "execution_count": 38,
   "metadata": {},
   "outputs": [
    {
     "data": {
      "image/png": "[encoded data removed]",
      "text/plain": [
       "<Figure size 648x360 with 1 Axes>"
      ]
     },
     "metadata": {
      "needs_background": "light"
     },
     "output_type": "display_data"
    }
   ],
   "source": [
    "plt.figure(figsize=(9, 5))\n",
    "plt.plot(epochs, mean_squared_error, 'bo', label='Training mean squared error')\n",
    "plt.plot(epochs, val_mean_squared_error, 'b', label='Validation mean squared error')\n",
    "plt.title('Training and validation accuracy')\n",
    "plt.xlabel('Epochs')\n",
    "plt.ylabel('Mean squared error')\n",
    "plt.grid(True)\n",
    "plt.legend()\n",
    "\n",
    "plt.show()"
   ]
  },
  {
   "cell_type": "code",
   "execution_count": 39,
   "metadata": {},
   "outputs": [
    {
     "name": "stdout",
     "output_type": "stream",
     "text": [
      "input: \n",
      "\"amazing game both cooperative as well as solo\"\n",
      "score: 9.38\n",
      "actual: 8.00 \n",
      "\n",
      "input: \n",
      "\"I have only played this solo as I cannot convince anyone to play with me. I love the components, the art is great. I WANT to like it, I just haven't enjoyed it as a solo.\"\n",
      "score: 7.66\n",
      "actual: 6.50 \n",
      "\n",
      "input: \n",
      "\"A magnum opus of a game. Looks mighty impressive when set up. Looks like I haven't logged any plays but I've played at least 4 times. A bit of a bear to set up which means this is a special occasion type of game. Amazing. \"\n",
      "score: 8.02\n",
      "actual: 9.10 \n",
      "\n",
      "input: \n",
      "\"Combos de cartas rapidísimo. La app para calcular la puntuación va de lujo.\"\n",
      "score: 7.81\n",
      "actual: 7.00 \n",
      "\n",
      "input: \n",
      "\"Juego cooperativo en el que tienes que planificar muy bien las acciones para conseguir sobrevivir, la sensación de agobio es continua durante toda la partida.  El juego consigue mantenerte en la cuerda floja entre el éxito y el fracaso permanentemente.\"\n",
      "score: 8.70\n",
      "actual: 9.00 \n",
      "\n",
      "input: \n",
      "\"Nice engine builder with cool critical mass!\"\n",
      "score: 8.31\n",
      "actual: 9.00 \n",
      "\n",
      "input: \n",
      "\"3 4 5, 2 w The Herb Witches\"\n",
      "score: 8.20\n",
      "actual: 9.10 \n",
      "\n",
      "input: \n",
      "\"Riverfolk Expansion\"\n",
      "score: 8.63\n",
      "actual: 9.00 \n",
      "\n",
      "input: \n",
      "\"Pretty good game.  This one might go up with future plays.  Since I didn't really know what was going on when we started the game, it was hard for me to tell if the randomness in the card play is a plus or a minus.  But, overall, fun and thematic.  Played again with the draft variant.  Adds a little time, but I think it makes the game better.\"\n",
      "score: 6.71\n",
      "actual: 8.00 \n",
      "\n",
      "input: \n",
      "\"I don't know what it is about Jamey's games, but I have fallen out of love recently. Scythe is a well-polished game but it lacks ... soul.  + Coins + Board extension\"\n",
      "score: 7.05\n",
      "actual: 6.00 \n",
      "\n"
     ]
    }
   ],
   "source": [
    "inputs = x_train_reg[:10]\n",
    "outputs = y_train_reg[:10]\n",
    "results = clf.best_estimator_.predict(tf.constant(inputs), verbose=0)\n",
    "for i in range(len(inputs)):\n",
    "    print(f\"input: \\n\\\"{inputs[i]}\\\"\\nscore: {results[i]:.2f}\\nactual: {outputs[i]:.2f} \\n\")"
   ]
  },
  {
   "cell_type": "markdown",
   "metadata": {},
   "source": [
    "## COMPARE CLASSIFIER VS REGRESSOR"
   ]
  },
  {
   "cell_type": "code",
   "execution_count": 40,
   "metadata": {},
   "outputs": [
    {
     "name": "stdout",
     "output_type": "stream",
     "text": [
      "\"Includes folded space insert and realistic resources \"\n",
      "    reg score: 8.70\n",
      "    clf score: 1\n",
      "\n",
      "\"Finally a game that sees colonization as a blight or crime rather than noble venture. Unfortunately this is a busy/complicated combat game.  The release is delayed until March 2017.\"\n",
      "    reg score: 5.84\n",
      "    clf score: 0\n",
      "\n",
      "\"Includes Invaders from Afar and wooden insert\"\n",
      "    reg score: 8.77\n",
      "    clf score: 1\n",
      "\n",
      "\"I actually have the 2019 edition of this game with the extra expansions. I have not played it enough to rate it yet.\"\n",
      "    reg score: 8.63\n",
      "    clf score: 1\n",
      "\n",
      "\"Punched counters. Never played.  Smoke free home.  All of my games are treated very well.\"\n",
      "    reg score: 9.25\n",
      "    clf score: 1\n",
      "\n",
      "\"Anniversary Release  all figures hand-painted  larger game boards  counters and cards same as 2nd Edition A numbered certificate of authenticity included\"\n",
      "    reg score: 6.52\n",
      "    clf score: 1\n",
      "\n",
      "\"Kickstarter Edition. Got in trade for King's Dilemma and Planet X\"\n",
      "    reg score: 7.96\n",
      "    clf score: 1\n",
      "\n",
      "\"Recommended by Brian K!  \"It's the love child of Agricola & Patchwork.\" There's a good version on Tabletop Simulator.\"\n",
      "    reg score: 9.79\n",
      "    clf score: 1\n",
      "\n",
      "\"2-4, best 4 \"Mario kart,\" catch the leader, deck/bag/pool building, dice rolling, push your luck\"\n",
      "    reg score: 7.94\n",
      "    clf score: 1\n",
      "\n",
      "\"Set of figures  See my rated comments\"\n",
      "    reg score: 6.16\n",
      "    clf score: 0\n",
      "\n"
     ]
    }
   ],
   "source": [
    "not_rated_comments = not_rated_comments.sample(frac=1)\n",
    "inputs = list(not_rated_comments.value.astype(str))[:10]\n",
    "\n",
    "clf_results = classifier.predict(inputs, verbose=0)\n",
    "reg_results = regressor.predict(inputs, verbose=0)\n",
    "for i in range(len(inputs)):\n",
    "    print(f\"\"\"\\\"{inputs[i]}\\\"\n",
    "    reg score: {reg_results[i]:.2f}\n",
    "    clf score: {clf_results[i][0]}\n",
    "\"\"\")"
   ]
  },
  {
   "cell_type": "markdown",
   "metadata": {},
   "source": [
    "### RESULTS\n",
    "It seems that the regressor is much more accurate compared to the binary classifier => **let's use the regressors results to fix the BGG rating**"
   ]
  },
  {
   "cell_type": "markdown",
   "metadata": {},
   "source": [
    "## COMBINE RATED COMMENTS AND NOT-RATED COMMENTS WITH PREDICTED RATING"
   ]
  },
  {
   "cell_type": "code",
   "execution_count": 41,
   "metadata": {},
   "outputs": [
    {
     "name": "stdout",
     "output_type": "stream",
     "text": [
      "rated_comments_grouped: \n",
      "|     id |   rating_mean |   rating_count |\n",
      "|--------|---------------|----------------|\n",
      "| 115746 |          8.73 |           1949 |\n",
      "| 121921 |          7.74 |           4527 |\n",
      "| 124361 |          8.18 |           3980 |\n",
      "| 162886 |          8.37 |           3731 |\n",
      "| 167355 |          8.41 |           2034 |\n"
     ]
    }
   ],
   "source": [
    "rated_comments['rating'] = rated_comments.rating.astype(float)\n",
    "rated_comments_grouped = rated_comments.groupby('id').agg({'rating': ['mean', 'count']})\n",
    "rated_comments_grouped.columns = list(rated_comments_grouped.columns.map('_'.join))\n",
    "rated_comments_grouped = rated_comments_grouped.reset_index()\n",
    "print(\"rated_comments_grouped: \")\n",
    "print(rated_comments_grouped.head().to_markdown(index=False, floatfmt='.2f', tablefmt='github'))"
   ]
  },
  {
   "cell_type": "code",
   "execution_count": 42,
   "metadata": {},
   "outputs": [],
   "source": [
    "not_rated_comments['rating'] = regressor.predict(list(not_rated_comments.value.astype(str)))"
   ]
  },
  {
   "cell_type": "code",
   "execution_count": 43,
   "metadata": {},
   "outputs": [
    {
     "name": "stdout",
     "output_type": "stream",
     "text": [
      "not_rated_comments_grouped: \n",
      "|     id |   rating_mean |   rating_count |\n",
      "|--------|---------------|----------------|\n",
      "| 115746 |          8.27 |            267 |\n",
      "| 121921 |          8.04 |            464 |\n",
      "| 124361 |          8.12 |            259 |\n",
      "| 162886 |          8.09 |            329 |\n",
      "| 167355 |          8.29 |            213 |\n"
     ]
    }
   ],
   "source": [
    "not_rated_comments['rating'] = not_rated_comments.rating.astype(float)\n",
    "not_rated_comments['rating'] = not_rated_comments['rating'].clip(0, 10)\n",
    "not_rated_comments_grouped = not_rated_comments.groupby('id').agg({'rating': ['mean', 'count']})\n",
    "not_rated_comments_grouped.columns = list(not_rated_comments_grouped.columns.map('_'.join))\n",
    "not_rated_comments_grouped = not_rated_comments_grouped.reset_index()\n",
    "print(\"not_rated_comments_grouped: \")\n",
    "print(not_rated_comments_grouped.head().to_markdown(index=False, floatfmt='.2f', tablefmt='github'))"
   ]
  },
  {
   "cell_type": "code",
   "execution_count": 44,
   "metadata": {},
   "outputs": [],
   "source": [
    "grouped = rated_comments_grouped.merge(not_rated_comments_grouped, on='id', suffixes=('_review', '_comments'), how='outer')\n",
    "grouped['id'] = grouped.id.astype(str)\n",
    "grouped = grouped.merge(pd.DataFrame(hot_array), on='id', how='right')\n",
    "grouped['rank'] = grouped['rank'].astype(int)\n",
    "grouped['url'] = grouped['id'].apply(lambda x: f\"https://boardgamegeek.com/boardgame/{x}\")\n",
    "grouped['fixed_rating'] = (grouped['rating_mean_review']*grouped['rating_count_review']+grouped['rating_mean_comments']*grouped['rating_count_comments']) /\\\n",
    "                            (grouped['rating_count_review']+grouped['rating_count_comments'])\n",
    "grouped['thumbnail'] = grouped['thumbnail'].apply(lambda x: f'<img src=\"{x}\" width=\"124\" />')\n",
    "grouped['name'] = grouped.apply(lambda x: f'<a href=\"{x[\"url\"]}\">{x[\"name\"]}</a>', axis=1)\n",
    "\n",
    "grouped = grouped[['thumbnail', 'name', 'rating_mean_review', 'rating_mean_comments', 'fixed_rating', 'rank', 'yearpublished']]"
   ]
  },
  {
   "cell_type": "code",
   "execution_count": 45,
   "metadata": {},
   "outputs": [
    {
     "data": {
      "text/html": [
       "<div>\n",
       "<style scoped>\n",
       "    .dataframe tbody tr th:only-of-type {\n",
       "        vertical-align: middle;\n",
       "    }\n",
       "\n",
       "    .dataframe tbody tr th {\n",
       "        vertical-align: top;\n",
       "    }\n",
       "\n",
       "    .dataframe thead th {\n",
       "        text-align: right;\n",
       "    }\n",
       "</style>\n",
       "<table border=\"1\" class=\"dataframe\">\n",
       "  <thead>\n",
       "    <tr style=\"text-align: right;\">\n",
       "      <th></th>\n",
       "      <th>thumbnail</th>\n",
       "      <th>name</th>\n",
       "      <th>rating_mean_review</th>\n",
       "      <th>rating_mean_comments</th>\n",
       "      <th>fixed_rating</th>\n",
       "      <th>rank</th>\n",
       "      <th>yearpublished</th>\n",
       "    </tr>\n",
       "  </thead>\n",
       "  <tbody>\n",
       "    <tr>\n",
       "      <th>0</th>\n",
       "      <td>&lt;img src=\"https://cf.geekdo-images.com/C9U2E51...</td>\n",
       "      <td>&lt;a href=\"https://boardgamegeek.com/boardgame/3...</td>\n",
       "      <td>7.876958</td>\n",
       "      <td>8.081381</td>\n",
       "      <td>7.892683</td>\n",
       "      <td>1</td>\n",
       "      <td>2020</td>\n",
       "    </tr>\n",
       "    <tr>\n",
       "      <th>1</th>\n",
       "      <td>&lt;img src=\"https://cf.geekdo-images.com/x4s694E...</td>\n",
       "      <td>&lt;a href=\"https://boardgamegeek.com/boardgame/2...</td>\n",
       "      <td>6.480789</td>\n",
       "      <td>6.553968</td>\n",
       "      <td>6.486430</td>\n",
       "      <td>2</td>\n",
       "      <td>2006</td>\n",
       "    </tr>\n",
       "    <tr>\n",
       "      <th>2</th>\n",
       "      <td>&lt;img src=\"https://cf.geekdo-images.com/_al0scM...</td>\n",
       "      <td>&lt;a href=\"https://boardgamegeek.com/boardgame/2...</td>\n",
       "      <td>7.538033</td>\n",
       "      <td>8.057503</td>\n",
       "      <td>7.660165</td>\n",
       "      <td>3</td>\n",
       "      <td>2021</td>\n",
       "    </tr>\n",
       "    <tr>\n",
       "      <th>3</th>\n",
       "      <td>&lt;img src=\"https://cf.geekdo-images.com/Bo-JkTT...</td>\n",
       "      <td>&lt;a href=\"https://boardgamegeek.com/boardgame/2...</td>\n",
       "      <td>8.000000</td>\n",
       "      <td>6.815590</td>\n",
       "      <td>7.506496</td>\n",
       "      <td>4</td>\n",
       "      <td>2021</td>\n",
       "    </tr>\n",
       "    <tr>\n",
       "      <th>4</th>\n",
       "      <td>&lt;img src=\"https://cf.geekdo-images.com/Q96PxRV...</td>\n",
       "      <td>&lt;a href=\"https://boardgamegeek.com/boardgame/3...</td>\n",
       "      <td>7.198911</td>\n",
       "      <td>7.201793</td>\n",
       "      <td>7.199075</td>\n",
       "      <td>5</td>\n",
       "      <td>2021</td>\n",
       "    </tr>\n",
       "  </tbody>\n",
       "</table>\n",
       "</div>"
      ],
      "text/plain": [
       "                                           thumbnail  \\\n",
       "0  <img src=\"https://cf.geekdo-images.com/C9U2E51...   \n",
       "1  <img src=\"https://cf.geekdo-images.com/x4s694E...   \n",
       "2  <img src=\"https://cf.geekdo-images.com/_al0scM...   \n",
       "3  <img src=\"https://cf.geekdo-images.com/Bo-JkTT...   \n",
       "4  <img src=\"https://cf.geekdo-images.com/Q96PxRV...   \n",
       "\n",
       "                                                name  rating_mean_review  \\\n",
       "0  <a href=\"https://boardgamegeek.com/boardgame/3...            7.876958   \n",
       "1  <a href=\"https://boardgamegeek.com/boardgame/2...            6.480789   \n",
       "2  <a href=\"https://boardgamegeek.com/boardgame/2...            7.538033   \n",
       "3  <a href=\"https://boardgamegeek.com/boardgame/2...            8.000000   \n",
       "4  <a href=\"https://boardgamegeek.com/boardgame/3...            7.198911   \n",
       "\n",
       "   rating_mean_comments  fixed_rating  rank yearpublished  \n",
       "0              8.081381      7.892683     1          2020  \n",
       "1              6.553968      6.486430     2          2006  \n",
       "2              8.057503      7.660165     3          2021  \n",
       "3              6.815590      7.506496     4          2021  \n",
       "4              7.201793      7.199075     5          2021  "
      ]
     },
     "execution_count": 45,
     "metadata": {},
     "output_type": "execute_result"
    }
   ],
   "source": [
    "grouped.head()"
   ]
  },
  {
   "cell_type": "code",
   "execution_count": 46,
   "metadata": {},
   "outputs": [],
   "source": [
    "def display_topn(by, n=5, ascending=True):\n",
    "    temp_df = grouped.sort_values(by, ascending=ascending).head(n)\n",
    "    temp_df.index=list(range(1, n+1))\n",
    "    return HTML(temp_df.to_html(escape=False, classes='table table-striped'))"
   ]
  },
  {
   "cell_type": "code",
   "execution_count": 47,
   "metadata": {},
   "outputs": [
    {
     "data": {
      "text/html": [
       "<table border=\"1\" class=\"dataframe table table-striped\">\n",
       "  <thead>\n",
       "    <tr style=\"text-align: right;\">\n",
       "      <th></th>\n",
       "      <th>thumbnail</th>\n",
       "      <th>name</th>\n",
       "      <th>rating_mean_review</th>\n",
       "      <th>rating_mean_comments</th>\n",
       "      <th>fixed_rating</th>\n",
       "      <th>rank</th>\n",
       "      <th>yearpublished</th>\n",
       "    </tr>\n",
       "  </thead>\n",
       "  <tbody>\n",
       "    <tr>\n",
       "      <th>1</th>\n",
       "      <td><img src=\"https://cf.geekdo-images.com/C9U2E51tkzLljewFEGQ74g__thumb/img/4KV3wj3NiJDgGTh3zmW0_8Ph3Zc=/fit-in/200x150/filters:strip_icc()/pic5837347.jpg\" width=\"124\" /></td>\n",
       "      <td><a href=\"https://boardgamegeek.com/boardgame/307002\">Regicide</a></td>\n",
       "      <td>7.876958</td>\n",
       "      <td>8.081381</td>\n",
       "      <td>7.892683</td>\n",
       "      <td>1</td>\n",
       "      <td>2020</td>\n",
       "    </tr>\n",
       "    <tr>\n",
       "      <th>2</th>\n",
       "      <td><img src=\"https://cf.geekdo-images.com/x4s694EfCpt7MtxAwzRDuQ__thumb/img/YeqqzGqiMeAWOGNZlWUv607i9ZY=/fit-in/200x150/filters:strip_icc()/pic5854330.jpg\" width=\"124\" /></td>\n",
       "      <td><a href=\"https://boardgamegeek.com/boardgame/22245\">Royal Visit</a></td>\n",
       "      <td>6.480789</td>\n",
       "      <td>6.553968</td>\n",
       "      <td>6.486430</td>\n",
       "      <td>2</td>\n",
       "      <td>2006</td>\n",
       "    </tr>\n",
       "    <tr>\n",
       "      <th>3</th>\n",
       "      <td><img src=\"https://cf.geekdo-images.com/_al0scMG_pQfGVM31Scf1Q__thumb/img/OMVAMJX95HNO-vSRdk-kGjAzzBY=/fit-in/200x150/filters:strip_icc()/pic6107853.jpg\" width=\"124\" /></td>\n",
       "      <td><a href=\"https://boardgamegeek.com/boardgame/285967\">Ankh: Gods of Egypt</a></td>\n",
       "      <td>7.538033</td>\n",
       "      <td>8.057503</td>\n",
       "      <td>7.660165</td>\n",
       "      <td>3</td>\n",
       "      <td>2021</td>\n",
       "    </tr>\n",
       "    <tr>\n",
       "      <th>4</th>\n",
       "      <td><img src=\"https://cf.geekdo-images.com/Bo-JkTTZmznNwVPg9AMb5w__thumb/img/2v5fHaKMLng-tFw7cMl0WugkPJE=/fit-in/200x150/filters:strip_icc()/pic6078973.jpg\" width=\"124\" /></td>\n",
       "      <td><a href=\"https://boardgamegeek.com/boardgame/299684\">Khôra: Rise of an Empire</a></td>\n",
       "      <td>8.000000</td>\n",
       "      <td>6.815590</td>\n",
       "      <td>7.506496</td>\n",
       "      <td>4</td>\n",
       "      <td>2021</td>\n",
       "    </tr>\n",
       "    <tr>\n",
       "      <th>5</th>\n",
       "      <td><img src=\"https://cf.geekdo-images.com/Q96PxRVbrDxS9_4ZPTJtHQ__thumb/img/hXnjkvD7KiLk2fon8tbvsXNtT_k=/fit-in/200x150/filters:strip_icc()/pic5941333.png\" width=\"124\" /></td>\n",
       "      <td><a href=\"https://boardgamegeek.com/boardgame/322708\">Descent: Legends of the Dark</a></td>\n",
       "      <td>7.198911</td>\n",
       "      <td>7.201793</td>\n",
       "      <td>7.199075</td>\n",
       "      <td>5</td>\n",
       "      <td>2021</td>\n",
       "    </tr>\n",
       "  </tbody>\n",
       "</table>"
      ],
      "text/plain": [
       "<IPython.core.display.HTML object>"
      ]
     },
     "execution_count": 47,
     "metadata": {},
     "output_type": "execute_result"
    }
   ],
   "source": [
    "# TOP N RANK\n",
    "display_topn(by='rank', n=TOP_N)"
   ]
  },
  {
   "cell_type": "code",
   "execution_count": 48,
   "metadata": {},
   "outputs": [
    {
     "data": {
      "text/html": [
       "<table border=\"1\" class=\"dataframe table table-striped\">\n",
       "  <thead>\n",
       "    <tr style=\"text-align: right;\">\n",
       "      <th></th>\n",
       "      <th>thumbnail</th>\n",
       "      <th>name</th>\n",
       "      <th>rating_mean_review</th>\n",
       "      <th>rating_mean_comments</th>\n",
       "      <th>fixed_rating</th>\n",
       "      <th>rank</th>\n",
       "      <th>yearpublished</th>\n",
       "    </tr>\n",
       "  </thead>\n",
       "  <tbody>\n",
       "    <tr>\n",
       "      <th>1</th>\n",
       "      <td><img src=\"https://cf.geekdo-images.com/hItZjdDTNuaCZ7fEztwcUQ__thumb/img/Ov6eWR87PZ2O1XYQtXMO6KvfzOg=/fit-in/200x150/filters:strip_icc()/pic6153324.jpg\" width=\"124\" /></td>\n",
       "      <td><a href=\"https://boardgamegeek.com/boardgame/337627\">Voidfall</a></td>\n",
       "      <td>10.000000</td>\n",
       "      <td>7.703174</td>\n",
       "      <td>8.056532</td>\n",
       "      <td>12</td>\n",
       "      <td>2022</td>\n",
       "    </tr>\n",
       "    <tr>\n",
       "      <th>2</th>\n",
       "      <td><img src=\"https://cf.geekdo-images.com/2Z57h5MVaQafo6hUi4TyyQ__thumb/img/Xmny7rIsxQgGpCNZ7vjWJJks3kU=/fit-in/200x150/filters:strip_icc()/pic5699842.jpg\" width=\"124\" /></td>\n",
       "      <td><a href=\"https://boardgamegeek.com/boardgame/270871\">Agemonia</a></td>\n",
       "      <td>9.400000</td>\n",
       "      <td>7.715696</td>\n",
       "      <td>9.107078</td>\n",
       "      <td>9</td>\n",
       "      <td>2022</td>\n",
       "    </tr>\n",
       "    <tr>\n",
       "      <th>3</th>\n",
       "      <td><img src=\"https://cf.geekdo-images.com/cwQZOU3cNOTta6nuT77byg__thumb/img/ktq00DLZxfyjPhrAvHe-V48i-Kg=/fit-in/200x150/filters:strip_icc()/pic6279361.png\" width=\"124\" /></td>\n",
       "      <td><a href=\"https://boardgamegeek.com/boardgame/342444\">Black Rose Wars: Rebirth</a></td>\n",
       "      <td>8.833333</td>\n",
       "      <td>9.173317</td>\n",
       "      <td>8.987871</td>\n",
       "      <td>38</td>\n",
       "      <td>2022</td>\n",
       "    </tr>\n",
       "    <tr>\n",
       "      <th>4</th>\n",
       "      <td><img src=\"https://cf.geekdo-images.com/Oh3kHw6lweg6ru71Q16h2Q__thumb/img/e9XZdQe1ZcPpaq4Gy31OoWBB_V0=/fit-in/200x150/filters:strip_icc()/pic5235277.jpg\" width=\"124\" /></td>\n",
       "      <td><a href=\"https://boardgamegeek.com/boardgame/246900\">Eclipse: Second Dawn for the Galaxy</a></td>\n",
       "      <td>8.734049</td>\n",
       "      <td>8.034946</td>\n",
       "      <td>8.630825</td>\n",
       "      <td>36</td>\n",
       "      <td>2020</td>\n",
       "    </tr>\n",
       "    <tr>\n",
       "      <th>5</th>\n",
       "      <td><img src=\"https://cf.geekdo-images.com/ImPgGag98W6gpV1KV812aA__thumb/img/X-lBBdG4uO6LT0y1vXxCN4jdR4M=/fit-in/200x150/filters:strip_icc()/pic1215633.jpg\" width=\"124\" /></td>\n",
       "      <td><a href=\"https://boardgamegeek.com/boardgame/115746\">War of the Ring: Second Edition</a></td>\n",
       "      <td>8.730555</td>\n",
       "      <td>8.274619</td>\n",
       "      <td>8.675620</td>\n",
       "      <td>43</td>\n",
       "      <td>2012</td>\n",
       "    </tr>\n",
       "  </tbody>\n",
       "</table>"
      ],
      "text/plain": [
       "<IPython.core.display.HTML object>"
      ]
     },
     "execution_count": 48,
     "metadata": {},
     "output_type": "execute_result"
    }
   ],
   "source": [
    "# TOP N REVIEW RANK\n",
    "display_topn(by='rating_mean_review', n=TOP_N, ascending=False)"
   ]
  },
  {
   "cell_type": "code",
   "execution_count": 49,
   "metadata": {},
   "outputs": [
    {
     "data": {
      "text/html": [
       "<table border=\"1\" class=\"dataframe table table-striped\">\n",
       "  <thead>\n",
       "    <tr style=\"text-align: right;\">\n",
       "      <th></th>\n",
       "      <th>thumbnail</th>\n",
       "      <th>name</th>\n",
       "      <th>rating_mean_review</th>\n",
       "      <th>rating_mean_comments</th>\n",
       "      <th>fixed_rating</th>\n",
       "      <th>rank</th>\n",
       "      <th>yearpublished</th>\n",
       "    </tr>\n",
       "  </thead>\n",
       "  <tbody>\n",
       "    <tr>\n",
       "      <th>1</th>\n",
       "      <td><img src=\"https://cf.geekdo-images.com/2Z57h5MVaQafo6hUi4TyyQ__thumb/img/Xmny7rIsxQgGpCNZ7vjWJJks3kU=/fit-in/200x150/filters:strip_icc()/pic5699842.jpg\" width=\"124\" /></td>\n",
       "      <td><a href=\"https://boardgamegeek.com/boardgame/270871\">Agemonia</a></td>\n",
       "      <td>9.400000</td>\n",
       "      <td>7.715696</td>\n",
       "      <td>9.107078</td>\n",
       "      <td>9</td>\n",
       "      <td>2022</td>\n",
       "    </tr>\n",
       "    <tr>\n",
       "      <th>2</th>\n",
       "      <td><img src=\"https://cf.geekdo-images.com/cwQZOU3cNOTta6nuT77byg__thumb/img/ktq00DLZxfyjPhrAvHe-V48i-Kg=/fit-in/200x150/filters:strip_icc()/pic6279361.png\" width=\"124\" /></td>\n",
       "      <td><a href=\"https://boardgamegeek.com/boardgame/342444\">Black Rose Wars: Rebirth</a></td>\n",
       "      <td>8.833333</td>\n",
       "      <td>9.173317</td>\n",
       "      <td>8.987871</td>\n",
       "      <td>38</td>\n",
       "      <td>2022</td>\n",
       "    </tr>\n",
       "    <tr>\n",
       "      <th>3</th>\n",
       "      <td><img src=\"https://cf.geekdo-images.com/ImPgGag98W6gpV1KV812aA__thumb/img/X-lBBdG4uO6LT0y1vXxCN4jdR4M=/fit-in/200x150/filters:strip_icc()/pic1215633.jpg\" width=\"124\" /></td>\n",
       "      <td><a href=\"https://boardgamegeek.com/boardgame/115746\">War of the Ring: Second Edition</a></td>\n",
       "      <td>8.730555</td>\n",
       "      <td>8.274619</td>\n",
       "      <td>8.675620</td>\n",
       "      <td>43</td>\n",
       "      <td>2012</td>\n",
       "    </tr>\n",
       "    <tr>\n",
       "      <th>4</th>\n",
       "      <td><img src=\"https://cf.geekdo-images.com/x3zxjr-Vw5iU4yDPg70Jgw__thumb/img/o18rjEemoWaVru9Y2TyPwuIaRfE=/fit-in/200x150/filters:strip_icc()/pic3490053.jpg\" width=\"124\" /></td>\n",
       "      <td><a href=\"https://boardgamegeek.com/boardgame/224517\">Brass: Birmingham</a></td>\n",
       "      <td>8.675656</td>\n",
       "      <td>8.168922</td>\n",
       "      <td>8.631036</td>\n",
       "      <td>21</td>\n",
       "      <td>2018</td>\n",
       "    </tr>\n",
       "    <tr>\n",
       "      <th>5</th>\n",
       "      <td><img src=\"https://cf.geekdo-images.com/Oh3kHw6lweg6ru71Q16h2Q__thumb/img/e9XZdQe1ZcPpaq4Gy31OoWBB_V0=/fit-in/200x150/filters:strip_icc()/pic5235277.jpg\" width=\"124\" /></td>\n",
       "      <td><a href=\"https://boardgamegeek.com/boardgame/246900\">Eclipse: Second Dawn for the Galaxy</a></td>\n",
       "      <td>8.734049</td>\n",
       "      <td>8.034946</td>\n",
       "      <td>8.630825</td>\n",
       "      <td>36</td>\n",
       "      <td>2020</td>\n",
       "    </tr>\n",
       "  </tbody>\n",
       "</table>"
      ],
      "text/plain": [
       "<IPython.core.display.HTML object>"
      ]
     },
     "execution_count": 49,
     "metadata": {},
     "output_type": "execute_result"
    }
   ],
   "source": [
    "# TOP N FIXED RANK\n",
    "display_topn(by='fixed_rating', n=TOP_N, ascending=False)"
   ]
  },
  {
   "cell_type": "code",
   "execution_count": 50,
   "metadata": {},
   "outputs": [],
   "source": [
    "# model.save('saved_model\\my_model')"
   ]
  },
  {
   "cell_type": "code",
   "execution_count": 51,
   "metadata": {},
   "outputs": [],
   "source": [
    "# saved_model = tf.keras.models.load_model('saved_model\\my_model')"
   ]
  },
  {
   "cell_type": "code",
   "execution_count": 52,
   "metadata": {},
   "outputs": [],
   "source": [
    "# some examples on \"long\" comments vs short comments"
   ]
  },
  {
   "cell_type": "code",
   "execution_count": 53,
   "metadata": {},
   "outputs": [],
   "source": [
    "not_rated_comments['comment_len'] = not_rated_comments['value'].str.len()\n",
    "some_long_comments = not_rated_comments.query(\"comment_len>100 and comment_len<300\").sample(frac=1).head(25).sort_values('rating')"
   ]
  },
  {
   "cell_type": "code",
   "execution_count": 54,
   "metadata": {},
   "outputs": [
    {
     "name": "stdout",
     "output_type": "stream",
     "text": [
      "\"I see why people like it. The event system is clever and it does make for interesting stories. But, it just didn't click with me. I just don't like the dice'\" (Robinson Crusoe: Adventures on the Cursed Island) \n",
      "score: 5.25\n",
      "\n",
      "\"Holding off on rating this as I've only played an outdated development kit version of this. That one play did excite me though! Where Root was an approachable version of a COIN game, this seems to do the same for Pax games.\" (Oath: Chronicles of Empire and Exile) \n",
      "score: 5.56\n",
      "\n",
      "\"Kinda meh actually. It's really good looking, but I find the game pretty bland, as if it's too simple and friendly. I've felt the same about Stegmaier's other games.\" (Scythe) \n",
      "score: 6.43\n",
      "\n",
      "\"Played once, didn't want to play again. As far as I could tell (and maybe I'm missing out on something!) you play the best card you have, and hope for the best. Over. And. Over. And. Over. This lead to a very dull back-and-forth play experience.\" (Royal Visit) \n",
      "score: 6.48\n",
      "\n",
      "\"Varied, multiple endings for scenarios, definitely that Call of Cthulhu \"everybody's about to get eaten\" feeling.  On the negative side it has the usual issues of the co-op CCG against AI model: Slow trickle of new player cards, long waits before new scenarios are available.\" (Arkham Horror: The Card Game) \n",
      "score: 7.08\n",
      "\n",
      "\"Not played yet, although we did set it up once.. I think we might enjoy this, but right now lighter games more in favour, learning the setup/cards/routes to victory will require too much initial time investment.\" (7 Wonders Duel) \n",
      "score: 7.23\n",
      "\n",
      "\"^S (needs more mini euros and lost cities card sleeves)  Missing 1x $1 metal coin (metal coins stored separately)         1x metal realistic resource  Collector's Edition 11210/11320 Includes Promo Packs #1 to #5 Box dented, 1x combat card blemished\" (Scythe) \n",
      "score: 7.27\n",
      "\n",
      "\"This is a big game. Only played it once so far, but I do enjoy it. Tough to get out and play for us though so not sure how much we'll really play it.\" (A Feast for Odin) \n",
      "score: 7.42\n",
      "\n",
      "\"Possibly too tedious for regular solo play, currently have many other large solo games that need more attention (gloomhaven, AH LCG) and many that are outright unplayed (AH 3rd, MoM2, eldritch horror, elder sign, Mage Knight, Gaia project).\" (Scythe) \n",
      "score: 7.51\n",
      "\n",
      "\"It moved into my house and lives on a shelf.  It won't get a job, and doesn't ever clean or cook.  It just sits there, taking up space.  Cool Euro, though, yep.\" (Scythe) \n",
      "score: 7.82\n",
      "\n",
      "\"I'm really interested in Spirit Island for being an anticolonialist, cooperative game with variable player powers.\" (Spirit Island) \n",
      "score: 8.09\n",
      "\n",
      "\"LD. Simple yet elegant push your luck game. Neat looking design. Theme is completely pasted on like in euro games, but still feels entertaining.\" (The Quacks of Quedlinburg) \n",
      "score: 8.22\n",
      "\n",
      "\"Juego asimétrico de mayorías y colocación de trabajadores basado en un mundo fantástico en el que llevas animallillos y que está teniendo mucho hype. Una partida jugada y me ha dejado un poco frío, habrá que volverlo a probar, las ilustraciones están chulas. \" (Root) \n",
      "score: 8.23\n",
      "\n",
      "\"Would love to play this, at least the online version. Just need to dedicate a proper amount of time for it I guess...\" (War of the Ring: Second Edition) \n",
      "score: 8.31\n",
      "\n",
      "\"It's the perfect puzzle thinking game that amazes me every time I play. The Branch and Claw expansion adds the right amount of unpredictability and variety to the game. And the theme is all there! Sold, as it was pretty predictable and didn't have anyone to play with. \" (Spirit Island) \n",
      "score: 8.31\n",
      "\n",
      "\"101 Players:1-4 Playing Time:30-120' Age:+12 Complexity:3,83/5 Type:Strategic Mechanics:Area Control, Dice Rolling, Tile Placement, Worker Placement, Press Your Luck\" (A Feast for Odin) \n",
      "score: 8.36\n",
      "\n",
      "\"Need to play more, but I made some super awesome Tikis out of polymer clay to represent the spirits. Brings the gameplay to another level.\" (Spirit Island) \n",
      "score: 8.44\n",
      "\n",
      "\"Lots of neat mechanics combine to make a game that's still all about hex combat. Lots of flavor, great setting.\" (Gloomhaven: Jaws of the Lion) \n",
      "score: 8.75\n",
      "\n",
      "\"Backed on Kickstarter Expected Delivery February 2021 12/2020 -> Delayed until Mar/Apr 2021 3/2021 -> Expected May 2021\" (Nemesis) \n",
      "score: 8.78\n",
      "\n",
      "\"Opened, played a couple of \"practice sessions\" to learn the rules. No permanent changes (stickers) made.\" (Gloomhaven) \n",
      "score: 8.84\n",
      "\n",
      "\"1-4P (best 3) - 90/180mn  KS collector edition with deluxe resources and playmat  Adventure/Coop/worker placement/tile placement/dice  FR\" (Robinson Crusoe: Adventures on the Cursed Island) \n",
      "score: 9.19\n",
      "\n",
      "\"$65 with expansions  All Cards in Premium Sleeves. Scenario and Character sheets are laminated.  Laminated BGG printed Player aid and King Kong Island Scenario sheet also included.  Also includes Voyage of the Beagle expansion and Beast Cards promo.\" (Robinson Crusoe: Adventures on the Cursed Island) \n",
      "score: 9.21\n",
      "\n",
      "\"Original BETA Tester! Great Game! Gift. FFG. Fantasy Wargame.  Designed by  Roberto Di Meglio, Marco Maggi, & Francesco Nepitello. Contributing Playtester: Douglas Silfen.\" (War of the Ring: Second Edition) \n",
      "score: 9.53\n",
      "\n",
      "\"The infinite beyond expedition Gas giants promo scenario 4 player mats with markers Standees Removable sticker set\" (Gloomhaven) \n",
      "score: 10.00\n",
      "\n",
      "\"Amazing game, my wife let me back it on Kickstarter thinking she wouldn't like it and yet she fell in love on the first play through!\" (Scythe) \n",
      "score: 10.00\n",
      "\n"
     ]
    }
   ],
   "source": [
    "some_long_comments.apply(lambda c: print(f\"\\\"{c['value']}\\\" ({get_game_by_id(c['id'])}) \\nscore: {c['rating']:.2f}\\n\"), axis=1);"
   ]
  },
  {
   "cell_type": "markdown",
   "metadata": {},
   "source": [
    "## RANDOM FOREST - TEST"
   ]
  },
  {
   "cell_type": "code",
   "execution_count": 55,
   "metadata": {},
   "outputs": [],
   "source": [
    "# no support for Windows at the moment - waiting for it to test"
   ]
  },
  {
   "cell_type": "code",
   "execution_count": null,
   "metadata": {},
   "outputs": [],
   "source": []
  }
 ],
 "metadata": {
  "kernelspec": {
   "display_name": "tensorflow2",
   "language": "python",
   "name": "tensorflow2"
  },
  "language_info": {
   "codemirror_mode": {
    "name": "ipython",
    "version": 3
   },
   "file_extension": ".py",
   "mimetype": "text/x-python",
   "name": "python",
   "nbconvert_exporter": "python",
   "pygments_lexer": "ipython3",
   "version": "3.8.8"
  }
 },
 "nbformat": 4,
 "nbformat_minor": 4
}
