{
 "cells": [
  {
   "cell_type": "code",
   "execution_count": 1,
   "metadata": {},
   "outputs": [],
   "source": [
    "# ## BGG API\n",
    "# https://www.boardgamegeek.com/xmlapi2/thing?id=161599&comments=1\n",
    "# https://www.boardgamegeek.com/xmlapi2/hot?type=boardgame\n",
    "# ## NLP WITH TF\n",
    "# https://www.tensorflow.org/hub/tutorials/tf2_text_classification"
   ]
  },
  {
   "cell_type": "code",
   "execution_count": 2,
   "metadata": {},
   "outputs": [
    {
     "name": "stdout",
     "output_type": "stream",
     "text": [
      "Version:      2.5.0\n",
      "Eager mode:   True\n",
      "Hub version:  0.12.0\n",
      "GPU:          available\n"
     ]
    }
   ],
   "source": [
    "import tensorflow as tf\n",
    "import tensorflow_hub as hub\n",
    "from tensorflow.keras.wrappers.scikit_learn import KerasRegressor, KerasClassifier\n",
    "from sklearn.model_selection import GridSearchCV\n",
    "\n",
    "from IPython.display import HTML\n",
    "from datetime import datetime\n",
    "import matplotlib.pyplot as plt\n",
    "import pandas as pd\n",
    "import numpy as np\n",
    "import re\n",
    "\n",
    "from utilities import get_hot_data, get_comments, remove_short_comments, build_model, print_my_examples\n",
    "\n",
    "print(\"Version:     \", tf.__version__)\n",
    "print(\"Eager mode:  \", tf.executing_eagerly())\n",
    "print(\"Hub version: \", hub.__version__)\n",
    "print(\"GPU:         \", \"available\" if tf.config.list_physical_devices('GPU') else \"NOT available\")\n",
    "\n",
    "tf.get_logger().setLevel('ERROR')"
   ]
  },
  {
   "cell_type": "code",
   "execution_count": 3,
   "metadata": {},
   "outputs": [],
   "source": [
    "# tf.debugging.set_log_device_placement(True)"
   ]
  },
  {
   "cell_type": "code",
   "execution_count": 4,
   "metadata": {},
   "outputs": [],
   "source": [
    "GOOD_REVIEW_THRESHOLD = 7\n",
    "VAL_FRACTION = 0.25\n",
    "MIN_COMMENT_LEN = 25\n",
    "TOP_N = 5\n",
    "MODEL_NAME = \"https://tfhub.dev/google/tf2-preview/nnlm-en-dim50/1\"\n",
    "# MORE ABOUT MODEL NAMES: \n",
    "# \"https://tfhub.dev/google/tf2-preview/nnlm-en-dim128/1\"\n",
    "# \"https://tfhub.dev/google/tf2-preview/nnlm-en-dim128-with-normalization/1\"\n",
    "# we also tested these solutions with dimension equals to 128 but accuracy \n",
    "# is a bit lower (0.85 for 128 vs 0.86 for 50) and training sometimes stops \n",
    "# unexpectedly for memory limit\n",
    "#\n",
    "# \"https://tfhub.dev/google/tf2-preview/nnlm-en-dim50/1\"\n",
    "# \"https://tfhub.dev/google/tf2-preview/nnlm-en-dim50-with-normalization/1\"\n",
    "# there is no difference between normalization and not so we use the one \n",
    "# without normalization"
   ]
  },
  {
   "cell_type": "markdown",
   "metadata": {},
   "source": [
    "## GET DATA"
   ]
  },
  {
   "cell_type": "code",
   "execution_count": 5,
   "metadata": {},
   "outputs": [
    {
     "data": {
      "text/plain": [
       "[{'id': '307002',\n",
       "  'rank': '1',\n",
       "  'thumbnail': 'https://cf.geekdo-images.com/C9U2E51tkzLljewFEGQ74g__thumb/img/4KV3wj3NiJDgGTh3zmW0_8Ph3Zc=/fit-in/200x150/filters:strip_icc()/pic5837347.jpg',\n",
       "  'name': 'Regicide',\n",
       "  'yearpublished': '2020'},\n",
       " {'id': '342444',\n",
       "  'rank': '2',\n",
       "  'thumbnail': 'https://cf.geekdo-images.com/cwQZOU3cNOTta6nuT77byg__thumb/img/ktq00DLZxfyjPhrAvHe-V48i-Kg=/fit-in/200x150/filters:strip_icc()/pic6279361.png',\n",
       "  'name': 'Black Rose Wars: Rebirth',\n",
       "  'yearpublished': '2022'}]"
      ]
     },
     "execution_count": 5,
     "metadata": {},
     "output_type": "execute_result"
    }
   ],
   "source": [
    "hot_array = get_hot_data()\n",
    "hot_array[:2]"
   ]
  },
  {
   "cell_type": "code",
   "execution_count": 6,
   "metadata": {},
   "outputs": [],
   "source": [
    "def get_game_by_id(game_id, field='name'):\n",
    "    for a in hot_array:\n",
    "        if a['id'] == str(game_id):\n",
    "            return a[field]"
   ]
  },
  {
   "cell_type": "code",
   "execution_count": 7,
   "metadata": {},
   "outputs": [
    {
     "name": "stdout",
     "output_type": "stream",
     "text": [
      "reading dataframe from csv file...\n"
     ]
    },
    {
     "data": {
      "text/html": [
       "<div>\n",
       "<style scoped>\n",
       "    .dataframe tbody tr th:only-of-type {\n",
       "        vertical-align: middle;\n",
       "    }\n",
       "\n",
       "    .dataframe tbody tr th {\n",
       "        vertical-align: top;\n",
       "    }\n",
       "\n",
       "    .dataframe thead th {\n",
       "        text-align: right;\n",
       "    }\n",
       "</style>\n",
       "<table border=\"1\" class=\"dataframe\">\n",
       "  <thead>\n",
       "    <tr style=\"text-align: right;\">\n",
       "      <th></th>\n",
       "      <th>id</th>\n",
       "      <th>username</th>\n",
       "      <th>rating</th>\n",
       "      <th>value</th>\n",
       "    </tr>\n",
       "  </thead>\n",
       "  <tbody>\n",
       "    <tr>\n",
       "      <th>0</th>\n",
       "      <td>307002</td>\n",
       "      <td>AgentMeat</td>\n",
       "      <td>2.0</td>\n",
       "      <td>only solo, played with normal deck of cards, s...</td>\n",
       "    </tr>\n",
       "    <tr>\n",
       "      <th>1</th>\n",
       "      <td>307002</td>\n",
       "      <td>Akuden</td>\n",
       "      <td>8.0</td>\n",
       "      <td>Kickstarted. Tried out the game solo and at 2 ...</td>\n",
       "    </tr>\n",
       "    <tr>\n",
       "      <th>2</th>\n",
       "      <td>307002</td>\n",
       "      <td>amqueue</td>\n",
       "      <td>N/A</td>\n",
       "      <td>kickstarter</td>\n",
       "    </tr>\n",
       "    <tr>\n",
       "      <th>3</th>\n",
       "      <td>307002</td>\n",
       "      <td>andrewkapish</td>\n",
       "      <td>N/A</td>\n",
       "      <td>Unplayed</td>\n",
       "    </tr>\n",
       "    <tr>\n",
       "      <th>4</th>\n",
       "      <td>307002</td>\n",
       "      <td>Angelo the Magician</td>\n",
       "      <td>9.0</td>\n",
       "      <td>I  only play the solo version and that one is ...</td>\n",
       "    </tr>\n",
       "    <tr>\n",
       "      <th>...</th>\n",
       "      <td>...</td>\n",
       "      <td>...</td>\n",
       "      <td>...</td>\n",
       "      <td>...</td>\n",
       "    </tr>\n",
       "    <tr>\n",
       "      <th>119035</th>\n",
       "      <td>167791</td>\n",
       "      <td>z_zadar</td>\n",
       "      <td>9.0</td>\n",
       "      <td>Some games are so much fun. Others can be a li...</td>\n",
       "    </tr>\n",
       "    <tr>\n",
       "      <th>119036</th>\n",
       "      <td>167791</td>\n",
       "      <td>_Czid_</td>\n",
       "      <td>8.0</td>\n",
       "      <td>Have played with Elysium and Prelude expansion...</td>\n",
       "    </tr>\n",
       "    <tr>\n",
       "      <th>119037</th>\n",
       "      <td>167791</td>\n",
       "      <td>_Marty_</td>\n",
       "      <td>9.5</td>\n",
       "      <td>Fantastic game. With so many cards that can ch...</td>\n",
       "    </tr>\n",
       "    <tr>\n",
       "      <th>119038</th>\n",
       "      <td>167791</td>\n",
       "      <td>_mun_</td>\n",
       "      <td>10.0</td>\n",
       "      <td>Nagyon izgalmas játék, jó a mechanizmusa. A sz...</td>\n",
       "    </tr>\n",
       "    <tr>\n",
       "      <th>119039</th>\n",
       "      <td>167791</td>\n",
       "      <td>_The_Inquiry_</td>\n",
       "      <td>5.0</td>\n",
       "      <td>Prior to 2020: 2 plays  TM is one of those gam...</td>\n",
       "    </tr>\n",
       "  </tbody>\n",
       "</table>\n",
       "<p>119040 rows × 4 columns</p>\n",
       "</div>"
      ],
      "text/plain": [
       "            id             username rating  \\\n",
       "0       307002            AgentMeat    2.0   \n",
       "1       307002               Akuden    8.0   \n",
       "2       307002              amqueue    N/A   \n",
       "3       307002         andrewkapish    N/A   \n",
       "4       307002  Angelo the Magician    9.0   \n",
       "...        ...                  ...    ...   \n",
       "119035  167791              z_zadar    9.0   \n",
       "119036  167791               _Czid_    8.0   \n",
       "119037  167791              _Marty_    9.5   \n",
       "119038  167791                _mun_   10.0   \n",
       "119039  167791        _The_Inquiry_    5.0   \n",
       "\n",
       "                                                    value  \n",
       "0       only solo, played with normal deck of cards, s...  \n",
       "1       Kickstarted. Tried out the game solo and at 2 ...  \n",
       "2                                             kickstarter  \n",
       "3                                                Unplayed  \n",
       "4       I  only play the solo version and that one is ...  \n",
       "...                                                   ...  \n",
       "119035  Some games are so much fun. Others can be a li...  \n",
       "119036  Have played with Elysium and Prelude expansion...  \n",
       "119037  Fantastic game. With so many cards that can ch...  \n",
       "119038  Nagyon izgalmas játék, jó a mechanizmusa. A sz...  \n",
       "119039  Prior to 2020: 2 plays  TM is one of those gam...  \n",
       "\n",
       "[119040 rows x 4 columns]"
      ]
     },
     "execution_count": 7,
     "metadata": {},
     "output_type": "execute_result"
    }
   ],
   "source": [
    "try:\n",
    "    comments_df = pd.read_csv(f\"comments_{datetime.now().strftime('%Y%m%d')}.csv\")\n",
    "    comments_df['rating'] = comments_df.rating.fillna('N/A')\n",
    "    print(\"reading dataframe from csv file...\")\n",
    "except:\n",
    "    print(\"missing csv file, getting new data using API...\")\n",
    "    comments_df = get_comments(hot_array, verbose=10)\n",
    "    comments_df.to_csv(f\"comments_{datetime.now().strftime('%Y%m%d')}.csv\", index=False)\n",
    "comments_df"
   ]
  },
  {
   "cell_type": "markdown",
   "metadata": {},
   "source": [
    "## DATA CLEANING"
   ]
  },
  {
   "cell_type": "code",
   "execution_count": 8,
   "metadata": {},
   "outputs": [],
   "source": [
    "# probably we should keep all the ratings (no matters the len) and remove only the simple comments under a certain len  \n",
    "comments_df[\"value\"] = comments_df[\"value\"].astype(str)"
   ]
  },
  {
   "cell_type": "code",
   "execution_count": 9,
   "metadata": {},
   "outputs": [
    {
     "name": "stdout",
     "output_type": "stream",
     "text": [
      "removed 19146 for 'remove_short_comments' - min len: 25 - method: unrated\n"
     ]
    }
   ],
   "source": [
    "# REMOVE URLs FROM COMMENTS\n",
    "comments_df['value'] = [re.sub(r\"http\\S+\", \"\", v) for v in comments_df.value.values]\n",
    "comments_df = remove_short_comments(comments_df, MIN_COMMENT_LEN)"
   ]
  },
  {
   "cell_type": "code",
   "execution_count": 10,
   "metadata": {},
   "outputs": [],
   "source": [
    "# REMOVE NON ENGLISH COMMENTS\n",
    "# !conda install -c conda-forge langdetect\n",
    "# def add_comments_lang(df: pd.DataFrame):\n",
    "#     df_local = df.copy()\n",
    "#     df_local['lang'] = df['value'].apply(detect)\n",
    "#     return df_local.reset_index(drop=True)\n",
    "# comments_df = add_comments_lang(comments_df)\n",
    "# comments_df = comments_df.query('lang == \"en\"')"
   ]
  },
  {
   "cell_type": "markdown",
   "metadata": {},
   "source": [
    "## SPLIT RATED AND NON-RATED COMMENTS"
   ]
  },
  {
   "cell_type": "code",
   "execution_count": 11,
   "metadata": {},
   "outputs": [
    {
     "data": {
      "text/plain": [
       "9.0        18666\n",
       "10.0       18294\n",
       "8.0        16497\n",
       "7.0         8842\n",
       "N/A         8025\n",
       "           ...  \n",
       "9.245          1\n",
       "2.4            1\n",
       "8.43312        1\n",
       "9.337          1\n",
       "8.26667        1\n",
       "Name: rating, Length: 605, dtype: int64"
      ]
     },
     "execution_count": 11,
     "metadata": {},
     "output_type": "execute_result"
    }
   ],
   "source": [
    "# count number of comments per rating (N/A included)\n",
    "comments_df.rating.value_counts()"
   ]
  },
  {
   "cell_type": "code",
   "execution_count": 12,
   "metadata": {},
   "outputs": [
    {
     "data": {
      "text/plain": [
       "(91869, 5)"
      ]
     },
     "execution_count": 12,
     "metadata": {},
     "output_type": "execute_result"
    }
   ],
   "source": [
    "# get rated comments only\n",
    "rated_comments = comments_df.query('rating != \"N/A\"')\n",
    "rated_comments.shape"
   ]
  },
  {
   "cell_type": "code",
   "execution_count": 13,
   "metadata": {},
   "outputs": [
    {
     "data": {
      "text/plain": [
       "(8025, 5)"
      ]
     },
     "execution_count": 13,
     "metadata": {},
     "output_type": "execute_result"
    }
   ],
   "source": [
    "# get non rated comments only\n",
    "not_rated_comments = comments_df.query('rating == \"N/A\"').reset_index(drop=True)\n",
    "not_rated_comments.shape"
   ]
  },
  {
   "cell_type": "markdown",
   "metadata": {},
   "source": [
    "## CREATE TRAINING AND VALIDATION DATA"
   ]
  },
  {
   "cell_type": "code",
   "execution_count": 14,
   "metadata": {},
   "outputs": [],
   "source": [
    "# use rated comments (reviews) to train the model"
   ]
  },
  {
   "cell_type": "code",
   "execution_count": 15,
   "metadata": {},
   "outputs": [],
   "source": [
    "rated_comments = rated_comments.sample(frac=1)"
   ]
  },
  {
   "cell_type": "code",
   "execution_count": 16,
   "metadata": {},
   "outputs": [],
   "source": [
    "# create training X and y\n",
    "train_examples = list(rated_comments.value)\n",
    "train_labels = list((rated_comments.rating.astype(float)>=GOOD_REVIEW_THRESHOLD).astype(int))"
   ]
  },
  {
   "cell_type": "code",
   "execution_count": 17,
   "metadata": {},
   "outputs": [
    {
     "name": "stdout",
     "output_type": "stream",
     "text": [
      "example of positive rating:\n"
     ]
    },
    {
     "data": {
      "text/plain": [
       "'This is the poster child for not complex, but deep gameplay. Very strategic, very engaging an very much fun. Rules explanation is done in a breeze. Gameplay flows around the table: play a card, do the actions.  Artwork and implementation of theme are subpar, but in the end irrelevant with such a perfect game.'"
      ]
     },
     "execution_count": 17,
     "metadata": {},
     "output_type": "execute_result"
    }
   ],
   "source": [
    "print(\"example of positive rating:\")\n",
    "train_examples[train_labels.index(1)]"
   ]
  },
  {
   "cell_type": "code",
   "execution_count": 18,
   "metadata": {},
   "outputs": [
    {
     "name": "stdout",
     "output_type": "stream",
     "text": [
      "example of negative rating:\n"
     ]
    },
    {
     "data": {
      "text/plain": [
       "'Meh ... '"
      ]
     },
     "execution_count": 18,
     "metadata": {},
     "output_type": "execute_result"
    }
   ],
   "source": [
    "print(\"example of negative rating:\")\n",
    "train_examples[train_labels.index(0)]"
   ]
  },
  {
   "cell_type": "markdown",
   "metadata": {},
   "source": [
    "## COMPOSE MODEL"
   ]
  },
  {
   "cell_type": "code",
   "execution_count": 19,
   "metadata": {},
   "outputs": [],
   "source": [
    "hub_layer = hub.KerasLayer(MODEL_NAME, input_shape=[], dtype=tf.string, trainable=True)"
   ]
  },
  {
   "cell_type": "markdown",
   "metadata": {},
   "source": [
    "## CLASSIFIER"
   ]
  },
  {
   "cell_type": "code",
   "execution_count": 20,
   "metadata": {},
   "outputs": [
    {
     "name": "stdout",
     "output_type": "stream",
     "text": [
      "Epoch 1/100\n",
      "45/45 - 5s - loss: 0.5537 - accuracy: 0.7890 - val_loss: 0.4848 - val_accuracy: 0.8438\n",
      "Epoch 2/100\n",
      "45/45 - 2s - loss: 0.4207 - accuracy: 0.8510 - val_loss: 0.3894 - val_accuracy: 0.8499\n",
      "Epoch 3/100\n",
      "45/45 - 2s - loss: 0.3366 - accuracy: 0.8667 - val_loss: 0.3471 - val_accuracy: 0.8610\n",
      "Epoch 4/100\n",
      "45/45 - 2s - loss: 0.2906 - accuracy: 0.8870 - val_loss: 0.3301 - val_accuracy: 0.8681\n",
      "Epoch 5/100\n",
      "45/45 - 2s - loss: 0.2584 - accuracy: 0.8994 - val_loss: 0.3260 - val_accuracy: 0.8698\n",
      "Epoch 6/100\n",
      "45/45 - 2s - loss: 0.2330 - accuracy: 0.9103 - val_loss: 0.3285 - val_accuracy: 0.8701\n",
      "Epoch 7/100\n",
      "45/45 - 2s - loss: 0.2116 - accuracy: 0.9192 - val_loss: 0.3356 - val_accuracy: 0.8687\n",
      "Epoch 8/100\n",
      "45/45 - 2s - loss: 0.1931 - accuracy: 0.9279 - val_loss: 0.3453 - val_accuracy: 0.8655\n",
      "Epoch 9/100\n",
      "45/45 - 2s - loss: 0.1774 - accuracy: 0.9347 - val_loss: 0.3555 - val_accuracy: 0.8629\n",
      "Epoch 10/100\n",
      "45/45 - 2s - loss: 0.1637 - accuracy: 0.9397 - val_loss: 0.3716 - val_accuracy: 0.8614\n",
      "30/30 - 0s - loss: 0.3527 - accuracy: 0.8664\n",
      "Epoch 1/100\n",
      "45/45 - 3s - loss: 0.6505 - accuracy: 0.6309 - val_loss: 0.5454 - val_accuracy: 0.8350\n",
      "Epoch 2/100\n",
      "45/45 - 2s - loss: 0.4981 - accuracy: 0.8492 - val_loss: 0.4778 - val_accuracy: 0.8449\n",
      "Epoch 3/100\n",
      "45/45 - 2s - loss: 0.4302 - accuracy: 0.8540 - val_loss: 0.4144 - val_accuracy: 0.8469\n",
      "Epoch 4/100\n",
      "45/45 - 2s - loss: 0.3633 - accuracy: 0.8592 - val_loss: 0.3659 - val_accuracy: 0.8547\n",
      "Epoch 5/100\n",
      "45/45 - 2s - loss: 0.3112 - accuracy: 0.8801 - val_loss: 0.3383 - val_accuracy: 0.8639\n",
      "Epoch 6/100\n",
      "45/45 - 2s - loss: 0.2735 - accuracy: 0.8958 - val_loss: 0.3282 - val_accuracy: 0.8687\n",
      "Epoch 7/100\n",
      "45/45 - 2s - loss: 0.2457 - accuracy: 0.9070 - val_loss: 0.3262 - val_accuracy: 0.8710\n",
      "Epoch 8/100\n",
      "45/45 - 2s - loss: 0.2238 - accuracy: 0.9163 - val_loss: 0.3297 - val_accuracy: 0.8686\n",
      "Epoch 9/100\n",
      "45/45 - 2s - loss: 0.2051 - accuracy: 0.9243 - val_loss: 0.3383 - val_accuracy: 0.8678\n",
      "Epoch 10/100\n",
      "45/45 - 2s - loss: 0.1892 - accuracy: 0.9310 - val_loss: 0.3470 - val_accuracy: 0.8644\n",
      "Epoch 11/100\n",
      "45/45 - 3s - loss: 0.1758 - accuracy: 0.9372 - val_loss: 0.3589 - val_accuracy: 0.8630\n",
      "Epoch 12/100\n",
      "45/45 - 3s - loss: 0.1629 - accuracy: 0.9426 - val_loss: 0.3714 - val_accuracy: 0.8604\n",
      "30/30 - 0s - loss: 0.3598 - accuracy: 0.8619\n",
      "Epoch 1/100\n",
      "45/45 - 3s - loss: 0.5821 - accuracy: 0.7560 - val_loss: 0.4987 - val_accuracy: 0.8426\n",
      "Epoch 2/100\n",
      "45/45 - 2s - loss: 0.4479 - accuracy: 0.8508 - val_loss: 0.4171 - val_accuracy: 0.8493\n",
      "Epoch 3/100\n",
      "45/45 - 2s - loss: 0.3695 - accuracy: 0.8577 - val_loss: 0.3570 - val_accuracy: 0.8589\n",
      "Epoch 4/100\n",
      "45/45 - 2s - loss: 0.3133 - accuracy: 0.8775 - val_loss: 0.3288 - val_accuracy: 0.8683\n",
      "Epoch 5/100\n",
      "45/45 - 2s - loss: 0.2753 - accuracy: 0.8923 - val_loss: 0.3174 - val_accuracy: 0.8731\n",
      "Epoch 6/100\n",
      "45/45 - 2s - loss: 0.2461 - accuracy: 0.9050 - val_loss: 0.3157 - val_accuracy: 0.8724\n",
      "Epoch 7/100\n",
      "45/45 - 2s - loss: 0.2225 - accuracy: 0.9150 - val_loss: 0.3206 - val_accuracy: 0.8704\n",
      "Epoch 8/100\n",
      "45/45 - 2s - loss: 0.2028 - accuracy: 0.9231 - val_loss: 0.3289 - val_accuracy: 0.8679\n",
      "Epoch 9/100\n",
      "45/45 - 2s - loss: 0.1863 - accuracy: 0.9306 - val_loss: 0.3415 - val_accuracy: 0.8649\n",
      "Epoch 10/100\n",
      "45/45 - 2s - loss: 0.1716 - accuracy: 0.9361 - val_loss: 0.3548 - val_accuracy: 0.8609\n",
      "30/30 - 0s - loss: 0.3583 - accuracy: 0.8654\n",
      "Epoch 1/100\n",
      "68/68 - 5s - loss: 0.5418 - accuracy: 0.8053 - val_loss: 0.4577 - val_accuracy: 0.8492\n",
      "Epoch 2/100\n",
      "68/68 - 4s - loss: 0.3782 - accuracy: 0.8631 - val_loss: 0.3426 - val_accuracy: 0.8678\n",
      "Epoch 3/100\n",
      "68/68 - 4s - loss: 0.2960 - accuracy: 0.8857 - val_loss: 0.3151 - val_accuracy: 0.8783\n",
      "Epoch 4/100\n",
      "68/68 - 4s - loss: 0.2581 - accuracy: 0.8995 - val_loss: 0.3105 - val_accuracy: 0.8810\n",
      "Epoch 5/100\n",
      "68/68 - 4s - loss: 0.2336 - accuracy: 0.9094 - val_loss: 0.3143 - val_accuracy: 0.8788\n",
      "Epoch 6/100\n",
      "68/68 - 4s - loss: 0.2143 - accuracy: 0.9176 - val_loss: 0.3224 - val_accuracy: 0.8771\n",
      "Epoch 7/100\n",
      "68/68 - 4s - loss: 0.1987 - accuracy: 0.9240 - val_loss: 0.3336 - val_accuracy: 0.8732\n",
      "Epoch 8/100\n",
      "68/68 - 4s - loss: 0.1853 - accuracy: 0.9301 - val_loss: 0.3463 - val_accuracy: 0.8693\n",
      "Epoch 9/100\n",
      "68/68 - 4s - loss: 0.1739 - accuracy: 0.9350 - val_loss: 0.3623 - val_accuracy: 0.8681\n"
     ]
    },
    {
     "data": {
      "text/plain": [
       "GridSearchCV(cv=3,\n",
       "             estimator=<tensorflow.python.keras.wrappers.scikit_learn.KerasClassifier object at 0x000002408EF677C0>,\n",
       "             param_grid={})"
      ]
     },
     "execution_count": 20,
     "metadata": {},
     "output_type": "execute_result"
    }
   ],
   "source": [
    "def build_classifier():\n",
    "    return build_model(hub_layer=None, pre_trained_model_name=MODEL_NAME, model_type='classifier', verbose=0)\n",
    "\n",
    "\n",
    "estimator = KerasClassifier(build_fn=build_classifier, epochs=100, batch_size=1024, verbose=2, validation_split=VAL_FRACTION)\n",
    "x_train_clf = np.array(list(rated_comments.value))\n",
    "y_train_clf = np.array(list((rated_comments.rating.astype(float)>=GOOD_REVIEW_THRESHOLD).astype(int)))\n",
    "\n",
    "clf = GridSearchCV(\n",
    "    estimator, \n",
    "    cv=3, \n",
    "    param_grid={}\n",
    ")\n",
    "clf.fit(x_train_clf, y_train_clf, callbacks=[tf.keras.callbacks.EarlyStopping(monitor='val_accuracy', patience=5, min_delta=0.001)])"
   ]
  },
  {
   "cell_type": "code",
   "execution_count": 21,
   "metadata": {},
   "outputs": [],
   "source": [
    "classifier = clf.best_estimator_\n",
    "classifier_history_dict = classifier.model.history.history"
   ]
  },
  {
   "cell_type": "code",
   "execution_count": 22,
   "metadata": {},
   "outputs": [
    {
     "data": {
      "text/plain": [
       "dict_keys(['loss', 'accuracy', 'val_loss', 'val_accuracy'])"
      ]
     },
     "execution_count": 22,
     "metadata": {},
     "output_type": "execute_result"
    }
   ],
   "source": [
    "classifier_history_dict.keys()"
   ]
  },
  {
   "cell_type": "code",
   "execution_count": 23,
   "metadata": {},
   "outputs": [],
   "source": [
    "acc = classifier_history_dict['accuracy']\n",
    "val_acc = classifier_history_dict['val_accuracy']\n",
    "loss = classifier_history_dict['loss']\n",
    "val_loss = classifier_history_dict['val_loss']"
   ]
  },
  {
   "cell_type": "code",
   "execution_count": 24,
   "metadata": {},
   "outputs": [],
   "source": [
    "epochs = range(1, len(acc) + 1) "
   ]
  },
  {
   "cell_type": "code",
   "execution_count": 25,
   "metadata": {},
   "outputs": [
    {
     "data": {
      "image/png": "[encoded data removed]",
      "text/plain": [
       "<Figure size 648x360 with 1 Axes>"
      ]
     },
     "metadata": {
      "needs_background": "light"
     },
     "output_type": "display_data"
    }
   ],
   "source": [
    "# \"bo\" is for \"blue dot\"\n",
    "plt.figure(figsize=(9, 5))\n",
    "plt.plot(epochs, loss, 'bo', label='Training loss')\n",
    "# b is for \"solid blue line\"\n",
    "plt.plot(epochs, val_loss, 'b', label='Validation loss')\n",
    "plt.title('Training and validation loss')\n",
    "plt.xlabel('Epochs')\n",
    "plt.ylabel('Loss')\n",
    "plt.grid(True)\n",
    "plt.legend()\n",
    "\n",
    "plt.show()"
   ]
  },
  {
   "cell_type": "code",
   "execution_count": 26,
   "metadata": {},
   "outputs": [
    {
     "data": {
      "image/png": "[encoded data removed]",
      "text/plain": [
       "<Figure size 648x360 with 1 Axes>"
      ]
     },
     "metadata": {
      "needs_background": "light"
     },
     "output_type": "display_data"
    }
   ],
   "source": [
    "plt.figure(figsize=(9, 5))\n",
    "plt.plot(epochs, acc, 'bo', label='Training acc')\n",
    "plt.plot(epochs, val_acc, 'b', label='Validation acc')\n",
    "plt.title('Training and validation accuracy')\n",
    "plt.xlabel('Epochs')\n",
    "plt.ylabel('Accuracy')\n",
    "plt.grid(True)\n",
    "plt.legend()\n",
    "\n",
    "plt.show()"
   ]
  },
  {
   "cell_type": "code",
   "execution_count": 27,
   "metadata": {},
   "outputs": [
    {
     "name": "stdout",
     "output_type": "stream",
     "text": [
      "input:\n",
      "\"This is the poster child for not complex, but deep gameplay. Very strategic, very engaging an very much fun. Rules explanation is done in a breeze. Gameplay flows around the table: play a card, do the actions.  Artwork and implementation of theme are subpar, but in the end irrelevant with such a perfect game.\"\n",
      "score: 1.000000\n",
      "actual: 1\n",
      "\n",
      "input:\n",
      "\"Meh ... \"\n",
      "score: 0.000000\n",
      "actual: 0\n",
      "\n",
      "input:\n",
      "\"Still have to play it more. Reading about the grinding aspect lost my interest a bit, so just dropped from a 9 to an 8.\"\n",
      "score: 1.000000\n",
      "actual: 1\n",
      "\n",
      "input:\n",
      "\"Alternative to splendor, easy to teach. I would play Quacks at 4 players since it scales really well with more players. Upgraded bits from BGG is nice. \"\n",
      "score: 1.000000\n",
      "actual: 1\n",
      "\n",
      "input:\n",
      "\"Too long and too much downtime which made me feel so bored. The game would be good if its flow is better.\"\n",
      "score: 0.000000\n",
      "actual: 0\n",
      "\n",
      "input:\n",
      "\"We mostly like this one. The story aspects are interesting and it's mechanically fun (which is more than I can say for its cousin Mansions of Madness).  However, deck building / meta-optimizing isn't fun (to me), reminds me of squad-building in X-wing (shudder). Will probably keep playing until a point where either the $15 per mission gets too much or the deck-building meta-gaming part gets too cumbersome. \"\n",
      "score: 0.000000\n",
      "actual: 1\n",
      "\n",
      "input:\n",
      "\"Crunchy, like some reviewers would say.  There's plenty to do, and it is a race of sorts, not a quick one, but a race nonetheless.  The concept of building your hand and cycling through your deck so you can be ready when you reach the end of the trail with the best possible hand, well, that's ingenious.  It's funny that it is a rondel-like game without an actual rondel. \"\n",
      "score: 1.000000\n",
      "actual: 1\n",
      "\n",
      "input:\n",
      "\"It’s a beautiful game—art, components, etc.—and a harder game than it lets on. I have enjoyed every play, both when my engine is running smoothly and I’m struggling to work with the birds I’m dealt. I’m very happy with it.\"\n",
      "score: 1.000000\n",
      "actual: 1\n",
      "\n",
      "input:\n",
      "\"Overall Score 88/100   1 - Very Bad 2 - Below Average 3 - Average 4 - Above Average 5 - Great  Fun Factor (Weight x5): 25 Player Interaction (x3): 12 Smooth/Interesting Mechanics (x3): 12 Replay-ability (x2): 10 Thinkiness (x2): 8 Setup time (x2): 6 Player Count Range: 5 Components/Art: 5 Theme: 5\"\n",
      "score: 1.000000\n",
      "actual: 1\n",
      "\n",
      "input:\n",
      "\"Febrero 2022\"\n",
      "score: 1.000000\n",
      "actual: 1\n"
     ]
    },
    {
     "name": "stderr",
     "output_type": "stream",
     "text": [
      "C:\\Users\\dev999\\.conda\\envs\\tensorflow2\\lib\\site-packages\\tensorflow\\python\\keras\\engine\\sequential.py:455: UserWarning: `model.predict_classes()` is deprecated and will be removed after 2021-01-01. Please use instead:* `np.argmax(model.predict(x), axis=-1)`,   if your model does multi-class classification   (e.g. if it uses a `softmax` last-layer activation).* `(model.predict(x) > 0.5).astype(\"int32\")`,   if your model does binary classification   (e.g. if it uses a `sigmoid` last-layer activation).\n",
      "  warnings.warn('`model.predict_classes()` is deprecated and '\n"
     ]
    }
   ],
   "source": [
    "inputs = x_train_clf[:10]\n",
    "outputs = y_train_clf[:10]\n",
    "results = classifier.predict(tf.constant(inputs), verbose=0)\n",
    "print_my_examples(inputs, results, outputs)"
   ]
  },
  {
   "cell_type": "code",
   "execution_count": 28,
   "metadata": {},
   "outputs": [],
   "source": [
    "## APPLY MODEL ON NON-RATED COMMENTS"
   ]
  },
  {
   "cell_type": "code",
   "execution_count": 29,
   "metadata": {},
   "outputs": [
    {
     "name": "stdout",
     "output_type": "stream",
     "text": [
      "8/8 - 0s\n",
      "input:\n",
      "\"Probably too long/heavy to own but want to play based on JGG review.\"\n",
      "score: 1.000000\n",
      "\n",
      "input:\n",
      "\"Agata Freindorf & Mateusz Szczepaniak\"\n",
      "score: 1.000000\n",
      "\n",
      "input:\n",
      "\"Otro juego del que debía haberme informado más antes de comprarlo. Ya odiaba el Terra Mystica antes de saber de éste. ¿Cómo no lo vi venir? Sería el hype, porque lo tenía marcado en la lista de deseos como «no comprar».  Seguro que mecánicamente es la pera, no lo dudo, por eso no lo voy a puntuar aún, hasta que lo pruebe, pero vamos... un juego del espacio, donde tienes 14 razas diferentes (una cosa que no me gusta mucho de por sí, salvo que tenga un trasfondo medio lógico/currado, que según he leído no lo hay) y en el que hay una expansión pacífica... ¡venga ya! ¿Qué es? ¿un 3x? Exploración, explotación y expansión. ¿Qué pasa con la exterminación? Si es ahí donde está lo bueno de los juegos del espacio en las tortas por todas partes. Puedo soportar los multisolitarios si el tema acompaña, pero en estas circunstancias se me hace muy duro. Se me puede hacer mortalmente soporífero. Ahora tengo claro que no es para mí, aunque no rechazaré probar sus virtudes.\"\n",
      "score: 0.000000\n",
      "\n",
      "input:\n",
      "\"Solo / Two / More Tom Vasel Collection\"\n",
      "score: 1.000000\n",
      "\n",
      "input:\n",
      "\"I want this game so bad it hurts.  Must acquire!\"\n",
      "score: 1.000000\n",
      "\n",
      "input:\n",
      "\"Bakelite-Feedmarker, Plastic-Bird-Boxes\"\n",
      "score: 1.000000\n",
      "\n",
      "input:\n",
      "\"A co-op game. JonGetsGames said it can be anticlimactic and too long (youtube.com/watch?v=qn_hIBOZtE8&t=1467s). GameNight's session (/video/203858) is almost 3 hours long.\"\n",
      "score: 1.000000\n",
      "\n",
      "input:\n",
      "\"Super, moja ulubiona gra ostatnio (mamy komplet dodatków), Kasia też bardzo lubi \"\n",
      "score: 1.000000\n",
      "\n",
      "input:\n",
      "\"Nice pure euro game. Really want to get some more similiar games.\"\n",
      "score: 1.000000\n",
      "\n",
      "input:\n",
      "\"i really wanted this to scratch all my itches, but it doesn't quite do so. I also thought I would be able to look past the lore contradictions, but I can't. This will likely be the last time I purchase a Tolkien-themed game, as they aren't something Tolkien himself would likely approve of.\"\n",
      "score: 0.000000\n"
     ]
    }
   ],
   "source": [
    "not_rated_comments = not_rated_comments.sample(frac=1)\n",
    "results = classifier.predict(tf.constant(list(not_rated_comments.value.astype(str))))\n",
    "print_my_examples(list(not_rated_comments.value), results, limit=10)"
   ]
  },
  {
   "cell_type": "markdown",
   "metadata": {},
   "source": [
    "## REGRESSOR"
   ]
  },
  {
   "cell_type": "code",
   "execution_count": 30,
   "metadata": {},
   "outputs": [
    {
     "data": {
      "text/plain": [
       "GridSearchCV(cv=3,\n",
       "             estimator=<tensorflow.python.keras.wrappers.scikit_learn.KerasRegressor object at 0x00000240B0FA1730>,\n",
       "             param_grid={})"
      ]
     },
     "execution_count": 30,
     "metadata": {},
     "output_type": "execute_result"
    }
   ],
   "source": [
    "def build_regressor():\n",
    "    return build_model(hub_layer, pre_trained_model_name=MODEL_NAME, model_type='regressor', verbose=0)\n",
    "\n",
    "\n",
    "estimator = KerasRegressor(build_fn=build_regressor, epochs=100, batch_size=512, verbose=0, validation_split=VAL_FRACTION)\n",
    "x_train_reg = np.array(list(rated_comments.value))\n",
    "y_train_reg = np.array(list(rated_comments.rating.astype(float)))\n",
    "\n",
    "clf = GridSearchCV(\n",
    "    estimator, \n",
    "    cv=3, \n",
    "    param_grid={}\n",
    ")\n",
    "clf.fit(x_train_reg, y_train_reg, callbacks=[tf.keras.callbacks.EarlyStopping(monitor='val_mean_squared_error', patience=5, min_delta=0.001)])"
   ]
  },
  {
   "cell_type": "code",
   "execution_count": 31,
   "metadata": {},
   "outputs": [],
   "source": [
    "regressor = clf.best_estimator_\n",
    "regressor_history_dict = regressor.model.history.history"
   ]
  },
  {
   "cell_type": "code",
   "execution_count": 32,
   "metadata": {},
   "outputs": [
    {
     "data": {
      "text/plain": [
       "dict_keys(['loss', 'mean_squared_error', 'val_loss', 'val_mean_squared_error'])"
      ]
     },
     "execution_count": 32,
     "metadata": {},
     "output_type": "execute_result"
    }
   ],
   "source": [
    "regressor_history_dict.keys()"
   ]
  },
  {
   "cell_type": "code",
   "execution_count": 33,
   "metadata": {},
   "outputs": [],
   "source": [
    "mean_squared_error = regressor_history_dict['mean_squared_error']\n",
    "val_mean_squared_error = regressor_history_dict['val_mean_squared_error']\n",
    "loss = regressor_history_dict['loss']\n",
    "val_loss = regressor_history_dict['val_loss']"
   ]
  },
  {
   "cell_type": "code",
   "execution_count": 34,
   "metadata": {},
   "outputs": [],
   "source": [
    "epochs = range(1, len(mean_squared_error) + 1) "
   ]
  },
  {
   "cell_type": "code",
   "execution_count": 35,
   "metadata": {},
   "outputs": [
    {
     "name": "stdout",
     "output_type": "stream",
     "text": [
      "MEAN SQUARED ERROR (VALIDATION SET): 2.41\n"
     ]
    }
   ],
   "source": [
    "print(f\"MEAN SQUARED ERROR (VALIDATION SET): {val_mean_squared_error[-1]:.2f}\")"
   ]
  },
  {
   "cell_type": "code",
   "execution_count": 36,
   "metadata": {},
   "outputs": [
    {
     "name": "stdout",
     "output_type": "stream",
     "text": [
      "MEAN SQUARED ERROR (TRAINING SET): 0.93\n"
     ]
    }
   ],
   "source": [
    "print(f\"MEAN SQUARED ERROR (TRAINING SET): {mean_squared_error[-1]:.2f}\")"
   ]
  },
  {
   "cell_type": "code",
   "execution_count": 37,
   "metadata": {},
   "outputs": [
    {
     "data": {
      "image/png": "[encoded data removed]",
      "text/plain": [
       "<Figure size 648x360 with 1 Axes>"
      ]
     },
     "metadata": {
      "needs_background": "light"
     },
     "output_type": "display_data"
    }
   ],
   "source": [
    "# \"bo\" is for \"blue dot\"\n",
    "plt.figure(figsize=(9, 5))\n",
    "plt.plot(epochs, loss, 'bo', label='Training loss')\n",
    "# b is for \"solid blue line\"\n",
    "plt.plot(epochs, val_loss, 'b', label='Validation loss')\n",
    "plt.title('Training and validation loss')\n",
    "plt.xlabel('Epochs')\n",
    "plt.ylabel('Loss')\n",
    "plt.grid(True)\n",
    "plt.legend()\n",
    "\n",
    "plt.show()"
   ]
  },
  {
   "cell_type": "code",
   "execution_count": 38,
   "metadata": {},
   "outputs": [
    {
     "data": {
      "image/png": "[encoded data removed]",
      "text/plain": [
       "<Figure size 648x360 with 1 Axes>"
      ]
     },
     "metadata": {
      "needs_background": "light"
     },
     "output_type": "display_data"
    }
   ],
   "source": [
    "plt.figure(figsize=(9, 5))\n",
    "plt.plot(epochs, mean_squared_error, 'bo', label='Training mean squared error')\n",
    "plt.plot(epochs, val_mean_squared_error, 'b', label='Validation mean squared error')\n",
    "plt.title('Training and validation accuracy')\n",
    "plt.xlabel('Epochs')\n",
    "plt.ylabel('Mean squared error')\n",
    "plt.grid(True)\n",
    "plt.legend()\n",
    "\n",
    "plt.show()"
   ]
  },
  {
   "cell_type": "code",
   "execution_count": 39,
   "metadata": {},
   "outputs": [
    {
     "name": "stdout",
     "output_type": "stream",
     "text": [
      "input: \n",
      "\"This is the poster child for not complex, but deep gameplay. Very strategic, very engaging an very much fun. Rules explanation is done in a breeze. Gameplay flows around the table: play a card, do the actions.  Artwork and implementation of theme are subpar, but in the end irrelevant with such a perfect game.\"\n",
      "score: 8.32\n",
      "actual: 9.00 \n",
      "\n",
      "input: \n",
      "\"Meh ... \"\n",
      "score: 6.05\n",
      "actual: 6.50 \n",
      "\n",
      "input: \n",
      "\"Still have to play it more. Reading about the grinding aspect lost my interest a bit, so just dropped from a 9 to an 8.\"\n",
      "score: 6.28\n",
      "actual: 8.00 \n",
      "\n",
      "input: \n",
      "\"Alternative to splendor, easy to teach. I would play Quacks at 4 players since it scales really well with more players. Upgraded bits from BGG is nice. \"\n",
      "score: 7.10\n",
      "actual: 7.00 \n",
      "\n",
      "input: \n",
      "\"Too long and too much downtime which made me feel so bored. The game would be good if its flow is better.\"\n",
      "score: 6.83\n",
      "actual: 6.00 \n",
      "\n",
      "input: \n",
      "\"We mostly like this one. The story aspects are interesting and it's mechanically fun (which is more than I can say for its cousin Mansions of Madness).  However, deck building / meta-optimizing isn't fun (to me), reminds me of squad-building in X-wing (shudder). Will probably keep playing until a point where either the $15 per mission gets too much or the deck-building meta-gaming part gets too cumbersome. \"\n",
      "score: 6.80\n",
      "actual: 7.50 \n",
      "\n",
      "input: \n",
      "\"Crunchy, like some reviewers would say.  There's plenty to do, and it is a race of sorts, not a quick one, but a race nonetheless.  The concept of building your hand and cycling through your deck so you can be ready when you reach the end of the trail with the best possible hand, well, that's ingenious.  It's funny that it is a rondel-like game without an actual rondel. \"\n",
      "score: 8.71\n",
      "actual: 9.00 \n",
      "\n",
      "input: \n",
      "\"It’s a beautiful game—art, components, etc.—and a harder game than it lets on. I have enjoyed every play, both when my engine is running smoothly and I’m struggling to work with the birds I’m dealt. I’m very happy with it.\"\n",
      "score: 8.55\n",
      "actual: 9.00 \n",
      "\n",
      "input: \n",
      "\"Overall Score 88/100   1 - Very Bad 2 - Below Average 3 - Average 4 - Above Average 5 - Great  Fun Factor (Weight x5): 25 Player Interaction (x3): 12 Smooth/Interesting Mechanics (x3): 12 Replay-ability (x2): 10 Thinkiness (x2): 8 Setup time (x2): 6 Player Count Range: 5 Components/Art: 5 Theme: 5\"\n",
      "score: 8.63\n",
      "actual: 8.80 \n",
      "\n",
      "input: \n",
      "\"Febrero 2022\"\n",
      "score: 9.47\n",
      "actual: 8.00 \n",
      "\n"
     ]
    }
   ],
   "source": [
    "inputs = x_train_reg[:10]\n",
    "outputs = y_train_reg[:10]\n",
    "results = clf.best_estimator_.predict(tf.constant(inputs), verbose=0)\n",
    "for i in range(len(inputs)):\n",
    "    print(f\"input: \\n\\\"{inputs[i]}\\\"\\nscore: {results[i]:.2f}\\nactual: {outputs[i]:.2f} \\n\")"
   ]
  },
  {
   "cell_type": "markdown",
   "metadata": {},
   "source": [
    "## COMPARE CLASSIFIER VS REGRESSOR"
   ]
  },
  {
   "cell_type": "code",
   "execution_count": 40,
   "metadata": {},
   "outputs": [
    {
     "name": "stdout",
     "output_type": "stream",
     "text": [
      "\"Similar to Caylus in regard to expanding board which can be used by all players\"\n",
      "    reg score: 9.79\n",
      "    clf score: 1\n",
      "\n",
      "\"All content available thus far through Undimensioned and Unseen\"\n",
      "    reg score: 6.81\n",
      "    clf score: 1\n",
      "\n",
      "\"2nd edition Kickstarter supporter. Won't ship for some time.\"\n",
      "    reg score: 8.35\n",
      "    clf score: 1\n",
      "\n",
      "\"Picked up this past weekend looking at starting next week.\"\n",
      "    reg score: 9.18\n",
      "    clf score: 1\n",
      "\n",
      "\"Gekk up bits 3d printed organizer\"\n",
      "    reg score: 8.92\n",
      "    clf score: 1\n",
      "\n",
      "\"Gestion de ressources. Version solo disponible :)\"\n",
      "    reg score: 11.10\n",
      "    clf score: 1\n",
      "\n",
      "\"This is one of the best LOTR games on the market today, even after its release 10 years ago it in my mind stands as a true masterpiece.  Just doesn't get to the table often enough, but when it does it plays like a highlight real from the books / films. \"\n",
      "    reg score: 10.07\n",
      "    clf score: 1\n",
      "\n",
      "\"Probably the heaviest game I own. We set it up with a friend and watched a couple How to Play videos, then played some turns but it got very late. A lot of manual check needed, which is not the best manual ever. I really want to spend more time with it, as the design is really amazing!\"\n",
      "    reg score: 8.84\n",
      "    clf score: 1\n",
      "\n",
      "\"Poor quality cardboard tokens: inadequate cuts, weak lamination, cheap feel.\"\n",
      "    reg score: 8.10\n",
      "    clf score: 0\n",
      "\n",
      "\"Baggies but plastic coin cases\"\n",
      "    reg score: 8.28\n",
      "    clf score: 0\n",
      "\n"
     ]
    },
    {
     "name": "stderr",
     "output_type": "stream",
     "text": [
      "C:\\Users\\dev999\\.conda\\envs\\tensorflow2\\lib\\site-packages\\tensorflow\\python\\keras\\engine\\sequential.py:455: UserWarning: `model.predict_classes()` is deprecated and will be removed after 2021-01-01. Please use instead:* `np.argmax(model.predict(x), axis=-1)`,   if your model does multi-class classification   (e.g. if it uses a `softmax` last-layer activation).* `(model.predict(x) > 0.5).astype(\"int32\")`,   if your model does binary classification   (e.g. if it uses a `sigmoid` last-layer activation).\n",
      "  warnings.warn('`model.predict_classes()` is deprecated and '\n"
     ]
    }
   ],
   "source": [
    "not_rated_comments = not_rated_comments.sample(frac=1)\n",
    "inputs = list(not_rated_comments.value.astype(str))[:10]\n",
    "\n",
    "clf_results = classifier.predict(inputs, verbose=0)\n",
    "reg_results = regressor.predict(inputs, verbose=0)\n",
    "for i in range(len(inputs)):\n",
    "    print(f\"\"\"\\\"{inputs[i]}\\\"\n",
    "    reg score: {reg_results[i]:.2f}\n",
    "    clf score: {clf_results[i][0]}\n",
    "\"\"\")"
   ]
  },
  {
   "cell_type": "markdown",
   "metadata": {},
   "source": [
    "### RESULTS\n",
    "It seems that the regressor is much more accurate compared to the binary classifier => **let's use the regressors results to fix the BGG rating**"
   ]
  },
  {
   "cell_type": "markdown",
   "metadata": {},
   "source": [
    "## COMBINE RATED COMMENTS AND NOT-RATED COMMENTS WITH PREDICTED RATING"
   ]
  },
  {
   "cell_type": "code",
   "execution_count": 41,
   "metadata": {},
   "outputs": [
    {
     "name": "stdout",
     "output_type": "stream",
     "text": [
      "rated_comments_grouped: \n",
      "|        id |   rating_mean |   rating_count |\n",
      "|-----------|---------------|----------------|\n",
      "| 115746.00 |          8.74 |        1948.00 |\n",
      "| 121921.00 |          7.74 |        4525.00 |\n",
      "| 124361.00 |          8.19 |        3971.00 |\n",
      "| 162886.00 |          8.37 |        3723.00 |\n",
      "| 167355.00 |          8.41 |        2026.00 |\n"
     ]
    }
   ],
   "source": [
    "rated_comments['rating'] = rated_comments.rating.astype(float)\n",
    "rated_comments_grouped = rated_comments.groupby('id').agg({'rating': ['mean', 'count']})\n",
    "rated_comments_grouped.columns = list(rated_comments_grouped.columns.map('_'.join))\n",
    "rated_comments_grouped = rated_comments_grouped.reset_index()\n",
    "print(\"rated_comments_grouped: \")\n",
    "print(rated_comments_grouped.head().to_markdown(index=False, floatfmt='.2f', tablefmt='github'))"
   ]
  },
  {
   "cell_type": "code",
   "execution_count": 42,
   "metadata": {},
   "outputs": [],
   "source": [
    "not_rated_comments['rating'] = regressor.predict(list(not_rated_comments.value.astype(str)))"
   ]
  },
  {
   "cell_type": "code",
   "execution_count": 43,
   "metadata": {},
   "outputs": [
    {
     "name": "stdout",
     "output_type": "stream",
     "text": [
      "not_rated_comments_grouped: \n",
      "|        id |   rating_mean |   rating_count |\n",
      "|-----------|---------------|----------------|\n",
      "| 115746.00 |          8.34 |         266.00 |\n",
      "| 121921.00 |          8.08 |         462.00 |\n",
      "| 124361.00 |          8.14 |         259.00 |\n",
      "| 162886.00 |          8.08 |         328.00 |\n",
      "| 167355.00 |          8.42 |         215.00 |\n"
     ]
    }
   ],
   "source": [
    "not_rated_comments['rating'] = not_rated_comments.rating.astype(float)\n",
    "not_rated_comments['rating'] = not_rated_comments['rating'].clip(0, 10)\n",
    "not_rated_comments_grouped = not_rated_comments.groupby('id').agg({'rating': ['mean', 'count']})\n",
    "not_rated_comments_grouped.columns = list(not_rated_comments_grouped.columns.map('_'.join))\n",
    "not_rated_comments_grouped = not_rated_comments_grouped.reset_index()\n",
    "print(\"not_rated_comments_grouped: \")\n",
    "print(not_rated_comments_grouped.head().to_markdown(index=False, floatfmt='.2f', tablefmt='github'))"
   ]
  },
  {
   "cell_type": "code",
   "execution_count": 44,
   "metadata": {},
   "outputs": [],
   "source": [
    "grouped = rated_comments_grouped.merge(not_rated_comments_grouped, on='id', suffixes=('_review', '_comments'), how='outer')\n",
    "grouped['id'] = grouped.id.astype(str)\n",
    "grouped = grouped.merge(pd.DataFrame(hot_array), on='id', how='right')\n",
    "grouped['rank'] = grouped['rank'].astype(int)\n",
    "grouped['url'] = grouped['id'].apply(lambda x: f\"https://boardgamegeek.com/boardgame/{x}\")\n",
    "grouped['fixed_rating'] = (grouped['rating_mean_review']*grouped['rating_count_review']+grouped['rating_mean_comments']*grouped['rating_count_comments']) /\\\n",
    "                            (grouped['rating_count_review']+grouped['rating_count_comments'])\n",
    "grouped['thumbnail'] = grouped['thumbnail'].apply(lambda x: f'<img src=\"{x}\" width=\"124\" />')\n",
    "grouped['name'] = grouped.apply(lambda x: f'<a href=\"{x[\"url\"]}\">{x[\"name\"]}</a>', axis=1)\n",
    "\n",
    "grouped = grouped[['thumbnail', 'name', 'rating_mean_review', 'rating_mean_comments', 'fixed_rating', 'rank', 'yearpublished']]"
   ]
  },
  {
   "cell_type": "code",
   "execution_count": 45,
   "metadata": {},
   "outputs": [
    {
     "data": {
      "text/html": [
       "<div>\n",
       "<style scoped>\n",
       "    .dataframe tbody tr th:only-of-type {\n",
       "        vertical-align: middle;\n",
       "    }\n",
       "\n",
       "    .dataframe tbody tr th {\n",
       "        vertical-align: top;\n",
       "    }\n",
       "\n",
       "    .dataframe thead th {\n",
       "        text-align: right;\n",
       "    }\n",
       "</style>\n",
       "<table border=\"1\" class=\"dataframe\">\n",
       "  <thead>\n",
       "    <tr style=\"text-align: right;\">\n",
       "      <th></th>\n",
       "      <th>thumbnail</th>\n",
       "      <th>name</th>\n",
       "      <th>rating_mean_review</th>\n",
       "      <th>rating_mean_comments</th>\n",
       "      <th>fixed_rating</th>\n",
       "      <th>rank</th>\n",
       "      <th>yearpublished</th>\n",
       "    </tr>\n",
       "  </thead>\n",
       "  <tbody>\n",
       "    <tr>\n",
       "      <th>0</th>\n",
       "      <td>&lt;img src=\"https://cf.geekdo-images.com/C9U2E51...</td>\n",
       "      <td>&lt;a href=\"https://boardgamegeek.com/boardgame/3...</td>\n",
       "      <td>8.005169</td>\n",
       "      <td>8.263270</td>\n",
       "      <td>8.026677</td>\n",
       "      <td>1</td>\n",
       "      <td>2020</td>\n",
       "    </tr>\n",
       "    <tr>\n",
       "      <th>1</th>\n",
       "      <td>&lt;img src=\"https://cf.geekdo-images.com/cwQZOU3...</td>\n",
       "      <td>&lt;a href=\"https://boardgamegeek.com/boardgame/3...</td>\n",
       "      <td>9.600000</td>\n",
       "      <td>9.048062</td>\n",
       "      <td>9.354694</td>\n",
       "      <td>2</td>\n",
       "      <td>2022</td>\n",
       "    </tr>\n",
       "    <tr>\n",
       "      <th>2</th>\n",
       "      <td>&lt;img src=\"https://cf.geekdo-images.com/hItZjdD...</td>\n",
       "      <td>&lt;a href=\"https://boardgamegeek.com/boardgame/3...</td>\n",
       "      <td>10.000000</td>\n",
       "      <td>8.362697</td>\n",
       "      <td>8.635581</td>\n",
       "      <td>3</td>\n",
       "      <td>2022</td>\n",
       "    </tr>\n",
       "    <tr>\n",
       "      <th>3</th>\n",
       "      <td>&lt;img src=\"https://cf.geekdo-images.com/_al0scM...</td>\n",
       "      <td>&lt;a href=\"https://boardgamegeek.com/boardgame/2...</td>\n",
       "      <td>7.499910</td>\n",
       "      <td>8.377569</td>\n",
       "      <td>7.716360</td>\n",
       "      <td>4</td>\n",
       "      <td>2021</td>\n",
       "    </tr>\n",
       "    <tr>\n",
       "      <th>4</th>\n",
       "      <td>&lt;img src=\"https://cf.geekdo-images.com/Q96PxRV...</td>\n",
       "      <td>&lt;a href=\"https://boardgamegeek.com/boardgame/3...</td>\n",
       "      <td>7.168810</td>\n",
       "      <td>6.681438</td>\n",
       "      <td>7.145338</td>\n",
       "      <td>5</td>\n",
       "      <td>2021</td>\n",
       "    </tr>\n",
       "  </tbody>\n",
       "</table>\n",
       "</div>"
      ],
      "text/plain": [
       "                                           thumbnail  \\\n",
       "0  <img src=\"https://cf.geekdo-images.com/C9U2E51...   \n",
       "1  <img src=\"https://cf.geekdo-images.com/cwQZOU3...   \n",
       "2  <img src=\"https://cf.geekdo-images.com/hItZjdD...   \n",
       "3  <img src=\"https://cf.geekdo-images.com/_al0scM...   \n",
       "4  <img src=\"https://cf.geekdo-images.com/Q96PxRV...   \n",
       "\n",
       "                                                name  rating_mean_review  \\\n",
       "0  <a href=\"https://boardgamegeek.com/boardgame/3...            8.005169   \n",
       "1  <a href=\"https://boardgamegeek.com/boardgame/3...            9.600000   \n",
       "2  <a href=\"https://boardgamegeek.com/boardgame/3...           10.000000   \n",
       "3  <a href=\"https://boardgamegeek.com/boardgame/2...            7.499910   \n",
       "4  <a href=\"https://boardgamegeek.com/boardgame/3...            7.168810   \n",
       "\n",
       "   rating_mean_comments  fixed_rating  rank yearpublished  \n",
       "0              8.263270      8.026677     1          2020  \n",
       "1              9.048062      9.354694     2          2022  \n",
       "2              8.362697      8.635581     3          2022  \n",
       "3              8.377569      7.716360     4          2021  \n",
       "4              6.681438      7.145338     5          2021  "
      ]
     },
     "execution_count": 45,
     "metadata": {},
     "output_type": "execute_result"
    }
   ],
   "source": [
    "grouped.head()"
   ]
  },
  {
   "cell_type": "code",
   "execution_count": 46,
   "metadata": {},
   "outputs": [],
   "source": [
    "def display_topn(by, n=5, ascending=True):\n",
    "    temp_df = grouped.sort_values(by, ascending=ascending).head(n)\n",
    "    temp_df.index=list(range(1, n+1))\n",
    "    return HTML(temp_df.to_html(escape=False, classes='table table-striped'))"
   ]
  },
  {
   "cell_type": "code",
   "execution_count": 47,
   "metadata": {},
   "outputs": [
    {
     "data": {
      "text/html": [
       "<table border=\"1\" class=\"dataframe table table-striped\">\n",
       "  <thead>\n",
       "    <tr style=\"text-align: right;\">\n",
       "      <th></th>\n",
       "      <th>thumbnail</th>\n",
       "      <th>name</th>\n",
       "      <th>rating_mean_review</th>\n",
       "      <th>rating_mean_comments</th>\n",
       "      <th>fixed_rating</th>\n",
       "      <th>rank</th>\n",
       "      <th>yearpublished</th>\n",
       "    </tr>\n",
       "  </thead>\n",
       "  <tbody>\n",
       "    <tr>\n",
       "      <th>1</th>\n",
       "      <td><img src=\"https://cf.geekdo-images.com/C9U2E51tkzLljewFEGQ74g__thumb/img/4KV3wj3NiJDgGTh3zmW0_8Ph3Zc=/fit-in/200x150/filters:strip_icc()/pic5837347.jpg\" width=\"124\" /></td>\n",
       "      <td><a href=\"https://boardgamegeek.com/boardgame/307002\">Regicide</a></td>\n",
       "      <td>8.005169</td>\n",
       "      <td>8.263270</td>\n",
       "      <td>8.026677</td>\n",
       "      <td>1</td>\n",
       "      <td>2020</td>\n",
       "    </tr>\n",
       "    <tr>\n",
       "      <th>2</th>\n",
       "      <td><img src=\"https://cf.geekdo-images.com/cwQZOU3cNOTta6nuT77byg__thumb/img/ktq00DLZxfyjPhrAvHe-V48i-Kg=/fit-in/200x150/filters:strip_icc()/pic6279361.png\" width=\"124\" /></td>\n",
       "      <td><a href=\"https://boardgamegeek.com/boardgame/342444\">Black Rose Wars: Rebirth</a></td>\n",
       "      <td>9.600000</td>\n",
       "      <td>9.048062</td>\n",
       "      <td>9.354694</td>\n",
       "      <td>2</td>\n",
       "      <td>2022</td>\n",
       "    </tr>\n",
       "    <tr>\n",
       "      <th>3</th>\n",
       "      <td><img src=\"https://cf.geekdo-images.com/hItZjdDTNuaCZ7fEztwcUQ__thumb/img/Ov6eWR87PZ2O1XYQtXMO6KvfzOg=/fit-in/200x150/filters:strip_icc()/pic6153324.jpg\" width=\"124\" /></td>\n",
       "      <td><a href=\"https://boardgamegeek.com/boardgame/337627\">Voidfall</a></td>\n",
       "      <td>10.000000</td>\n",
       "      <td>8.362697</td>\n",
       "      <td>8.635581</td>\n",
       "      <td>3</td>\n",
       "      <td>2022</td>\n",
       "    </tr>\n",
       "    <tr>\n",
       "      <th>4</th>\n",
       "      <td><img src=\"https://cf.geekdo-images.com/_al0scMG_pQfGVM31Scf1Q__thumb/img/OMVAMJX95HNO-vSRdk-kGjAzzBY=/fit-in/200x150/filters:strip_icc()/pic6107853.jpg\" width=\"124\" /></td>\n",
       "      <td><a href=\"https://boardgamegeek.com/boardgame/285967\">Ankh: Gods of Egypt</a></td>\n",
       "      <td>7.499910</td>\n",
       "      <td>8.377569</td>\n",
       "      <td>7.716360</td>\n",
       "      <td>4</td>\n",
       "      <td>2021</td>\n",
       "    </tr>\n",
       "    <tr>\n",
       "      <th>5</th>\n",
       "      <td><img src=\"https://cf.geekdo-images.com/Q96PxRVbrDxS9_4ZPTJtHQ__thumb/img/hXnjkvD7KiLk2fon8tbvsXNtT_k=/fit-in/200x150/filters:strip_icc()/pic5941333.png\" width=\"124\" /></td>\n",
       "      <td><a href=\"https://boardgamegeek.com/boardgame/322708\">Descent: Legends of the Dark</a></td>\n",
       "      <td>7.168810</td>\n",
       "      <td>6.681438</td>\n",
       "      <td>7.145338</td>\n",
       "      <td>5</td>\n",
       "      <td>2021</td>\n",
       "    </tr>\n",
       "  </tbody>\n",
       "</table>"
      ],
      "text/plain": [
       "<IPython.core.display.HTML object>"
      ]
     },
     "execution_count": 47,
     "metadata": {},
     "output_type": "execute_result"
    }
   ],
   "source": [
    "# TOP N RANK\n",
    "display_topn(by='rank', n=TOP_N)"
   ]
  },
  {
   "cell_type": "code",
   "execution_count": 48,
   "metadata": {},
   "outputs": [
    {
     "data": {
      "text/html": [
       "<table border=\"1\" class=\"dataframe table table-striped\">\n",
       "  <thead>\n",
       "    <tr style=\"text-align: right;\">\n",
       "      <th></th>\n",
       "      <th>thumbnail</th>\n",
       "      <th>name</th>\n",
       "      <th>rating_mean_review</th>\n",
       "      <th>rating_mean_comments</th>\n",
       "      <th>fixed_rating</th>\n",
       "      <th>rank</th>\n",
       "      <th>yearpublished</th>\n",
       "    </tr>\n",
       "  </thead>\n",
       "  <tbody>\n",
       "    <tr>\n",
       "      <th>1</th>\n",
       "      <td><img src=\"https://cf.geekdo-images.com/hItZjdDTNuaCZ7fEztwcUQ__thumb/img/Ov6eWR87PZ2O1XYQtXMO6KvfzOg=/fit-in/200x150/filters:strip_icc()/pic6153324.jpg\" width=\"124\" /></td>\n",
       "      <td><a href=\"https://boardgamegeek.com/boardgame/337627\">Voidfall</a></td>\n",
       "      <td>10.000000</td>\n",
       "      <td>8.362697</td>\n",
       "      <td>8.635581</td>\n",
       "      <td>3</td>\n",
       "      <td>2022</td>\n",
       "    </tr>\n",
       "    <tr>\n",
       "      <th>2</th>\n",
       "      <td><img src=\"https://cf.geekdo-images.com/B1h4rA9VVLB6-3NxDucMLw__thumb/img/mP1VC2vQ6H9x-8dRGJtB7a_OGlQ=/fit-in/200x150/filters:strip_icc()/pic6294970.png\" width=\"124\" /></td>\n",
       "      <td><a href=\"https://boardgamegeek.com/boardgame/342894\">Mythic Mischief</a></td>\n",
       "      <td>9.600000</td>\n",
       "      <td>7.457655</td>\n",
       "      <td>8.647847</td>\n",
       "      <td>17</td>\n",
       "      <td>2022</td>\n",
       "    </tr>\n",
       "    <tr>\n",
       "      <th>3</th>\n",
       "      <td><img src=\"https://cf.geekdo-images.com/cwQZOU3cNOTta6nuT77byg__thumb/img/ktq00DLZxfyjPhrAvHe-V48i-Kg=/fit-in/200x150/filters:strip_icc()/pic6279361.png\" width=\"124\" /></td>\n",
       "      <td><a href=\"https://boardgamegeek.com/boardgame/342444\">Black Rose Wars: Rebirth</a></td>\n",
       "      <td>9.600000</td>\n",
       "      <td>9.048062</td>\n",
       "      <td>9.354694</td>\n",
       "      <td>2</td>\n",
       "      <td>2022</td>\n",
       "    </tr>\n",
       "    <tr>\n",
       "      <th>4</th>\n",
       "      <td><img src=\"https://cf.geekdo-images.com/Oh3kHw6lweg6ru71Q16h2Q__thumb/img/e9XZdQe1ZcPpaq4Gy31OoWBB_V0=/fit-in/200x150/filters:strip_icc()/pic5235277.jpg\" width=\"124\" /></td>\n",
       "      <td><a href=\"https://boardgamegeek.com/boardgame/246900\">Eclipse: Second Dawn for the Galaxy</a></td>\n",
       "      <td>8.740709</td>\n",
       "      <td>8.124405</td>\n",
       "      <td>8.648941</td>\n",
       "      <td>42</td>\n",
       "      <td>2020</td>\n",
       "    </tr>\n",
       "    <tr>\n",
       "      <th>5</th>\n",
       "      <td><img src=\"https://cf.geekdo-images.com/ImPgGag98W6gpV1KV812aA__thumb/img/X-lBBdG4uO6LT0y1vXxCN4jdR4M=/fit-in/200x150/filters:strip_icc()/pic1215633.jpg\" width=\"124\" /></td>\n",
       "      <td><a href=\"https://boardgamegeek.com/boardgame/115746\">War of the Ring: Second Edition</a></td>\n",
       "      <td>8.735036</td>\n",
       "      <td>8.336409</td>\n",
       "      <td>8.687144</td>\n",
       "      <td>43</td>\n",
       "      <td>2012</td>\n",
       "    </tr>\n",
       "  </tbody>\n",
       "</table>"
      ],
      "text/plain": [
       "<IPython.core.display.HTML object>"
      ]
     },
     "execution_count": 48,
     "metadata": {},
     "output_type": "execute_result"
    }
   ],
   "source": [
    "# TOP N REVIEW RANK\n",
    "display_topn(by='rating_mean_review', n=TOP_N, ascending=False)"
   ]
  },
  {
   "cell_type": "code",
   "execution_count": 49,
   "metadata": {},
   "outputs": [
    {
     "data": {
      "text/html": [
       "<table border=\"1\" class=\"dataframe table table-striped\">\n",
       "  <thead>\n",
       "    <tr style=\"text-align: right;\">\n",
       "      <th></th>\n",
       "      <th>thumbnail</th>\n",
       "      <th>name</th>\n",
       "      <th>rating_mean_review</th>\n",
       "      <th>rating_mean_comments</th>\n",
       "      <th>fixed_rating</th>\n",
       "      <th>rank</th>\n",
       "      <th>yearpublished</th>\n",
       "    </tr>\n",
       "  </thead>\n",
       "  <tbody>\n",
       "    <tr>\n",
       "      <th>1</th>\n",
       "      <td><img src=\"https://cf.geekdo-images.com/cwQZOU3cNOTta6nuT77byg__thumb/img/ktq00DLZxfyjPhrAvHe-V48i-Kg=/fit-in/200x150/filters:strip_icc()/pic6279361.png\" width=\"124\" /></td>\n",
       "      <td><a href=\"https://boardgamegeek.com/boardgame/342444\">Black Rose Wars: Rebirth</a></td>\n",
       "      <td>9.600000</td>\n",
       "      <td>9.048062</td>\n",
       "      <td>9.354694</td>\n",
       "      <td>2</td>\n",
       "      <td>2022</td>\n",
       "    </tr>\n",
       "    <tr>\n",
       "      <th>2</th>\n",
       "      <td><img src=\"https://cf.geekdo-images.com/ImPgGag98W6gpV1KV812aA__thumb/img/X-lBBdG4uO6LT0y1vXxCN4jdR4M=/fit-in/200x150/filters:strip_icc()/pic1215633.jpg\" width=\"124\" /></td>\n",
       "      <td><a href=\"https://boardgamegeek.com/boardgame/115746\">War of the Ring: Second Edition</a></td>\n",
       "      <td>8.735036</td>\n",
       "      <td>8.336409</td>\n",
       "      <td>8.687144</td>\n",
       "      <td>43</td>\n",
       "      <td>2012</td>\n",
       "    </tr>\n",
       "    <tr>\n",
       "      <th>3</th>\n",
       "      <td><img src=\"https://cf.geekdo-images.com/Oh3kHw6lweg6ru71Q16h2Q__thumb/img/e9XZdQe1ZcPpaq4Gy31OoWBB_V0=/fit-in/200x150/filters:strip_icc()/pic5235277.jpg\" width=\"124\" /></td>\n",
       "      <td><a href=\"https://boardgamegeek.com/boardgame/246900\">Eclipse: Second Dawn for the Galaxy</a></td>\n",
       "      <td>8.740709</td>\n",
       "      <td>8.124405</td>\n",
       "      <td>8.648941</td>\n",
       "      <td>42</td>\n",
       "      <td>2020</td>\n",
       "    </tr>\n",
       "    <tr>\n",
       "      <th>4</th>\n",
       "      <td><img src=\"https://cf.geekdo-images.com/B1h4rA9VVLB6-3NxDucMLw__thumb/img/mP1VC2vQ6H9x-8dRGJtB7a_OGlQ=/fit-in/200x150/filters:strip_icc()/pic6294970.png\" width=\"124\" /></td>\n",
       "      <td><a href=\"https://boardgamegeek.com/boardgame/342894\">Mythic Mischief</a></td>\n",
       "      <td>9.600000</td>\n",
       "      <td>7.457655</td>\n",
       "      <td>8.647847</td>\n",
       "      <td>17</td>\n",
       "      <td>2022</td>\n",
       "    </tr>\n",
       "    <tr>\n",
       "      <th>5</th>\n",
       "      <td><img src=\"https://cf.geekdo-images.com/x3zxjr-Vw5iU4yDPg70Jgw__thumb/img/o18rjEemoWaVru9Y2TyPwuIaRfE=/fit-in/200x150/filters:strip_icc()/pic3490053.jpg\" width=\"124\" /></td>\n",
       "      <td><a href=\"https://boardgamegeek.com/boardgame/224517\">Brass: Birmingham</a></td>\n",
       "      <td>8.678102</td>\n",
       "      <td>8.197351</td>\n",
       "      <td>8.636093</td>\n",
       "      <td>24</td>\n",
       "      <td>2018</td>\n",
       "    </tr>\n",
       "  </tbody>\n",
       "</table>"
      ],
      "text/plain": [
       "<IPython.core.display.HTML object>"
      ]
     },
     "execution_count": 49,
     "metadata": {},
     "output_type": "execute_result"
    }
   ],
   "source": [
    "# TOP N FIXED RANK\n",
    "display_topn(by='fixed_rating', n=TOP_N, ascending=False)"
   ]
  },
  {
   "cell_type": "code",
   "execution_count": 50,
   "metadata": {},
   "outputs": [],
   "source": [
    "# model.save('saved_model\\my_model')"
   ]
  },
  {
   "cell_type": "code",
   "execution_count": 51,
   "metadata": {},
   "outputs": [],
   "source": [
    "# saved_model = tf.keras.models.load_model('saved_model\\my_model')"
   ]
  },
  {
   "cell_type": "code",
   "execution_count": 52,
   "metadata": {},
   "outputs": [],
   "source": [
    "# some examples on \"long\" comments vs short comments"
   ]
  },
  {
   "cell_type": "code",
   "execution_count": 53,
   "metadata": {},
   "outputs": [],
   "source": [
    "not_rated_comments['comment_len'] = not_rated_comments['value'].str.len()\n",
    "some_long_comments = not_rated_comments.query(\"comment_len>100 and comment_len<300\").sample(frac=1).head(25).sort_values('rating')"
   ]
  },
  {
   "cell_type": "code",
   "execution_count": 54,
   "metadata": {},
   "outputs": [
    {
     "name": "stdout",
     "output_type": "stream",
     "text": [
      "\"has a little bit of everything, can be played solo or up to 4 players. push your luck, worker placement. good ratings. game weighs 10 lbs probably\" (A Feast for Odin) \n",
      "score: 6.47\n",
      "\n",
      "\"Got my quasi-kickstarter game today! (December 9, 2015). Can't wait to play!  Another one that I seem to like more than my group. Will have to try this with more players (can be a bit brutal with two, it seems).  Update 03-2018: Vinhos just straight up fired this game.\" (Viticulture Essential Edition) \n",
      "score: 7.11\n",
      "\n",
      "\"Appealing as Euros go, plenty of options, fun theme, good level of complexity.  Engine building sometimes gives a similar vibe to Race for the Galaxy.  Reuben has.  I'd probably rate 7.5.  Ugly art.  Get on IOS when it comes out.\" (Terraforming Mars) \n",
      "score: 7.13\n",
      "\n",
      "\"Dice Tower, Sam Healey's Top 100 Games of All Time 2017, #2;  3 Minutes Board Game, Top 100 Games of All Time, #55;  GameTrollTV, Najlepsza 50 Gier 2017, #18;\" (Twilight Imperium: Fourth Edition) \n",
      "score: 7.25\n",
      "\n",
      "\"Its cleverness is shocking when it hits you, but it requires both an affinity for trick-taking and the capacity for high pressure trying to not be the one who screws up the mission\" (The Crew: The Quest for Planet Nine) \n",
      "score: 7.53\n",
      "\n",
      "\"A fantastic game with absolutely terrible quality components. For the price, at least put in a cardboard box insert.\" (Terraforming Mars) \n",
      "score: 7.76\n",
      "\n",
      "\"22/2/20 ordered (MM), ~130 sgd incl shipping (94 usd) completely refunded (lost 12 sgd in transactions)  7/1/21, new in shrink / deluxe with iron clays (carousell), ~100 sgd \" (Brass: Birmingham) \n",
      "score: 7.91\n",
      "\n",
      "\"1-4 players  Best with 3 players Playing Time_30-120 Min  Type_Strategy  Category_Economic, Industry / Manufacturing, Medieval, Puzzle  Aivja kolekcijā\" (A Feast for Odin) \n",
      "score: 8.08\n",
      "\n",
      "\"[b]Expansions:[/b] [thing=157040][/thing] [thing=162959][/thing] [thing=210429][/thing] [thing=168588][/thing] [thing=156823][/thing] [thing=220964][/thing] [thing=149350][/thing]  [b]Edition:[/b] Fourth Edition\" (Robinson Crusoe: Adventures on the Cursed Island) \n",
      "score: 8.14\n",
      "\n",
      "\"Everything is sleeved in Fantasy Flight Greys, stored in 1 core box w/ Broken Token insert. Still have boxes for 2nd core set and Dunwich Legacy if you care to have them.\" (Arkham Horror: The Card Game) \n",
      "score: 8.18\n",
      "\n",
      "\"On aime y jouer à 2, à plus il devient long. Beau matériel et illustrations, ce qui participe au plaisir du jeu. Un jeu paisible, presque sans interaction, ou chacun collectionne des oiseaux et déclenche leurs actions. Bonne sensation de jeu qui devient de plus en plus puissant avec les manches.\" (Wingspan) \n",
      "score: 8.26\n",
      "\n",
      "\"Area Majority / Influence Drafting Engine Building Hand Management Set Collection Solo Tile Placement\" (Terraforming Mars) \n",
      "score: 8.26\n",
      "\n",
      "\"Also own the [thing=174388]second exclusives box[/thing].  Sleeved - Arcane Tinmen Mini 41x63mm for the small cards, Arcane Tinmen Tarot 70x120mm for the gods.\" (Blood Rage) \n",
      "score: 8.39\n",
      "\n",
      "\"Premium health chips + heads/tails chip + alt art Gearloc chips [Boomer- fireworks, Picket- Freddie, Patches- Jason, Tantrum- Flower]\" (Too Many Bones) \n",
      "score: 8.41\n",
      "\n",
      "\"2nd Edition Rulebook, counters, PACs, box and board. 2nd Edition Cards from upgrade pack. Dice & miniatures from 1st edition. \" (War of the Ring: Second Edition) \n",
      "score: 8.42\n",
      "\n",
      "\"[Next painting project - size/quality should make this pretty fun. Dunno what to do about painting all the clans yet though...]\" (Blood Rage) \n",
      "score: 8.44\n",
      "\n",
      "\"Damn its a lot to think about, its not necesarily difficult, but its just a lot to take in, played 2 games so far. I personally loved it, buddy of mine did as well. Another friend was overwhelmed though.\" (Scythe) \n",
      "score: 8.48\n",
      "\n",
      "\"naujos kartos Carkasonas, 8.2 Carkasonas  tik gilesnis ir grazesnis, statai zemes ir gyvunus , misijos setus surinkti\" (Cascadia) \n",
      "score: 8.64\n",
      "\n",
      "\"+ Branch and Claw + Promos  Finally have played this enough that it’s reached the point of enjoyment versus ‘work’ to play.\" (Spirit Island) \n",
      "score: 8.66\n",
      "\n",
      "\"The original version is perfectly awesome and maybe can be gotten for cheap(er) now, but the new version looks more awesomer.  g2 g3 b4 g5 b6\" (Eclipse: Second Dawn for the Galaxy) \n",
      "score: 8.90\n",
      "\n",
      "\"1-4P (best 2) - 90/120mn  Coop/variable player powers/simultaneous action selection/area influence/modular board/programming/set collection/hand management  EN \" (Spirit Island) \n",
      "score: 8.96\n",
      "\n",
      "\"Need: God of Asgard Exclusive Garm Monster Exclusive Mountain Giantess Monster Exclusive Wolfwoman Monster Exclusive Seer Troll Monster Exclusive Stag Clan, including Mystics 4 Exclusive Sculpted Stag Clan Tokens\" (Blood Rage) \n",
      "score: 8.96\n",
      "\n",
      "\"Includes Venus Next, Hellas & Elysium, Prelude, Colonies, BGG User-Created Corporation Pack, Turmoil, Turmoil promos, dual layer player boards, and 4 promo cards - Small Asteroid, Snow Algae, Self Replicating Robots, Penguins - all stored in base game box with Folded Space v2 insert.\" (Terraforming Mars) \n",
      "score: 8.99\n",
      "\n",
      "\"+ Gods of Asgard + Mystics of Midgard + 5th Player Expansion + 5th Player KS Extras + Hili Promo + Wildboar KS Expansion + Wolfman KS Exclusive + Mystic Troll KS Exclusive + Fenrir KS Exclusive + Mountain Giant KS Exclusive\" (Blood Rage) \n",
      "score: 9.68\n",
      "\n",
      "\"Variable player powers, Engine building interesting bidding mechanic, resource conversion....45min sounds fun! Updated Projected Release of Late August to mid Sept 2021. \" (Furnace) \n",
      "score: 9.88\n",
      "\n"
     ]
    }
   ],
   "source": [
    "some_long_comments.apply(lambda c: print(f\"\\\"{c['value']}\\\" ({get_game_by_id(c['id'])}) \\nscore: {c['rating']:.2f}\\n\"), axis=1);"
   ]
  },
  {
   "cell_type": "markdown",
   "metadata": {},
   "source": [
    "## RANDOM FOREST - TEST"
   ]
  },
  {
   "cell_type": "code",
   "execution_count": 55,
   "metadata": {},
   "outputs": [],
   "source": [
    "# no support for Windows at the moment - waiting for it to test"
   ]
  },
  {
   "cell_type": "code",
   "execution_count": null,
   "metadata": {},
   "outputs": [],
   "source": []
  }
 ],
 "metadata": {
  "kernelspec": {
   "display_name": "tensorflow2",
   "language": "python",
   "name": "tensorflow2"
  },
  "language_info": {
   "codemirror_mode": {
    "name": "ipython",
    "version": 3
   },
   "file_extension": ".py",
   "mimetype": "text/x-python",
   "name": "python",
   "nbconvert_exporter": "python",
   "pygments_lexer": "ipython3",
   "version": "3.8.8"
  }
 },
 "nbformat": 4,
 "nbformat_minor": 4
}
