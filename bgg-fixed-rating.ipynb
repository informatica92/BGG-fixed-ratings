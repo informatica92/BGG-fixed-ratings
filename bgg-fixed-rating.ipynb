{
 "cells": [
  {
   "cell_type": "code",
   "execution_count": 1,
   "metadata": {},
   "outputs": [],
   "source": [
    "# ## BGG API\n",
    "# https://www.boardgamegeek.com/xmlapi2/thing?id=161599&comments=1\n",
    "# https://www.boardgamegeek.com/xmlapi2/hot?type=boardgame\n",
    "# ## NLP WITH TF\n",
    "# https://www.tensorflow.org/hub/tutorials/tf2_text_classification"
   ]
  },
  {
   "cell_type": "code",
   "execution_count": 2,
   "metadata": {},
   "outputs": [
    {
     "name": "stdout",
     "output_type": "stream",
     "text": [
      "Version:      2.5.0\n",
      "Eager mode:   True\n",
      "Hub version:  0.12.0\n",
      "GPU:          available\n"
     ]
    }
   ],
   "source": [
    "import tensorflow as tf\n",
    "import tensorflow_hub as hub\n",
    "from tensorflow.keras.wrappers.scikit_learn import KerasRegressor, KerasClassifier\n",
    "from sklearn.model_selection import GridSearchCV\n",
    "\n",
    "from IPython.display import HTML\n",
    "from datetime import datetime\n",
    "import matplotlib.pyplot as plt\n",
    "import pandas as pd\n",
    "import numpy as np\n",
    "import re\n",
    "\n",
    "from utilities import get_hot_data, get_comments, remove_short_comments, build_model, print_my_examples\n",
    "\n",
    "print(\"Version:     \", tf.__version__)\n",
    "print(\"Eager mode:  \", tf.executing_eagerly())\n",
    "print(\"Hub version: \", hub.__version__)\n",
    "print(\"GPU:         \", \"available\" if tf.config.list_physical_devices('GPU') else \"NOT available\")\n",
    "\n",
    "tf.get_logger().setLevel('ERROR')"
   ]
  },
  {
   "cell_type": "code",
   "execution_count": 3,
   "metadata": {},
   "outputs": [],
   "source": [
    "# tf.debugging.set_log_device_placement(True)"
   ]
  },
  {
   "cell_type": "code",
   "execution_count": 4,
   "metadata": {},
   "outputs": [],
   "source": [
    "GOOD_REVIEW_THRESHOLD = 7\n",
    "VAL_FRACTION = 0.25\n",
    "MIN_COMMENT_LEN = 25\n",
    "TOP_N = 5\n",
    "MODEL_NAME = \"https://tfhub.dev/google/tf2-preview/nnlm-en-dim50/1\"\n",
    "# MORE ABOUT MODEL NAMES: \n",
    "# \"https://tfhub.dev/google/tf2-preview/nnlm-en-dim128/1\"\n",
    "# \"https://tfhub.dev/google/tf2-preview/nnlm-en-dim128-with-normalization/1\"\n",
    "# we also tested these solutions with dimension equals to 128 but accuracy \n",
    "# is a bit lower (0.85 for 128 vs 0.86 for 50) and training sometimes stops \n",
    "# unexpectedly for memory limit\n",
    "#\n",
    "# \"https://tfhub.dev/google/tf2-preview/nnlm-en-dim50/1\"\n",
    "# \"https://tfhub.dev/google/tf2-preview/nnlm-en-dim50-with-normalization/1\"\n",
    "# there is no difference between normalization and not so we use the one \n",
    "# without normalization"
   ]
  },
  {
   "cell_type": "markdown",
   "metadata": {},
   "source": [
    "## GET DATA"
   ]
  },
  {
   "cell_type": "code",
   "execution_count": 5,
   "metadata": {},
   "outputs": [
    {
     "data": {
      "text/plain": [
       "[{'id': '237179',\n",
       "  'rank': '1',\n",
       "  'thumbnail': 'https://cf.geekdo-images.com/E8qBDKe39KEFMo-LhTNDQQ__thumb/img/jFQaWbcjoUzxS7p76LsGzg4piQk=/fit-in/200x150/filters:strip_icc()/pic6333980.jpg',\n",
       "  'name': 'Weather Machine',\n",
       "  'yearpublished': '2022'},\n",
       " {'id': '322708',\n",
       "  'rank': '2',\n",
       "  'thumbnail': 'https://cf.geekdo-images.com/Q96PxRVbrDxS9_4ZPTJtHQ__thumb/img/hXnjkvD7KiLk2fon8tbvsXNtT_k=/fit-in/200x150/filters:strip_icc()/pic5941333.png',\n",
       "  'name': 'Descent: Legends of the Dark',\n",
       "  'yearpublished': '2021'}]"
      ]
     },
     "execution_count": 5,
     "metadata": {},
     "output_type": "execute_result"
    }
   ],
   "source": [
    "hot_array = get_hot_data()\n",
    "hot_array[:2]"
   ]
  },
  {
   "cell_type": "code",
   "execution_count": 6,
   "metadata": {},
   "outputs": [
    {
     "name": "stdout",
     "output_type": "stream",
     "text": [
      "reading dataframe from csv file...\n"
     ]
    },
    {
     "data": {
      "text/html": [
       "<div>\n",
       "<style scoped>\n",
       "    .dataframe tbody tr th:only-of-type {\n",
       "        vertical-align: middle;\n",
       "    }\n",
       "\n",
       "    .dataframe tbody tr th {\n",
       "        vertical-align: top;\n",
       "    }\n",
       "\n",
       "    .dataframe thead th {\n",
       "        text-align: right;\n",
       "    }\n",
       "</style>\n",
       "<table border=\"1\" class=\"dataframe\">\n",
       "  <thead>\n",
       "    <tr style=\"text-align: right;\">\n",
       "      <th></th>\n",
       "      <th>id</th>\n",
       "      <th>username</th>\n",
       "      <th>rating</th>\n",
       "      <th>value</th>\n",
       "    </tr>\n",
       "  </thead>\n",
       "  <tbody>\n",
       "    <tr>\n",
       "      <th>0</th>\n",
       "      <td>237179</td>\n",
       "      <td>astronaut70</td>\n",
       "      <td>8.0</td>\n",
       "      <td>Rating based on expectation - will adjust when...</td>\n",
       "    </tr>\n",
       "    <tr>\n",
       "      <th>1</th>\n",
       "      <td>237179</td>\n",
       "      <td>atcblake</td>\n",
       "      <td>N/A</td>\n",
       "      <td>Solo, engine builder?</td>\n",
       "    </tr>\n",
       "    <tr>\n",
       "      <th>2</th>\n",
       "      <td>237179</td>\n",
       "      <td>Beer4Dad</td>\n",
       "      <td>8.0</td>\n",
       "      <td>*Rating based on multiple advanced stage proto...</td>\n",
       "    </tr>\n",
       "    <tr>\n",
       "      <th>3</th>\n",
       "      <td>237179</td>\n",
       "      <td>BlueFoxMoon</td>\n",
       "      <td>N/A</td>\n",
       "      <td>Pre-release - KS Vital Lacerda</td>\n",
       "    </tr>\n",
       "    <tr>\n",
       "      <th>4</th>\n",
       "      <td>237179</td>\n",
       "      <td>Carter_Burke</td>\n",
       "      <td>N/A</td>\n",
       "      <td>Lacerda Game. Must-buy but Start saving... :-)</td>\n",
       "    </tr>\n",
       "    <tr>\n",
       "      <th>...</th>\n",
       "      <td>...</td>\n",
       "      <td>...</td>\n",
       "      <td>...</td>\n",
       "      <td>...</td>\n",
       "    </tr>\n",
       "    <tr>\n",
       "      <th>110787</th>\n",
       "      <td>167791</td>\n",
       "      <td>z_zadar</td>\n",
       "      <td>9.0</td>\n",
       "      <td>Some games are so much fun. Others can be a li...</td>\n",
       "    </tr>\n",
       "    <tr>\n",
       "      <th>110788</th>\n",
       "      <td>167791</td>\n",
       "      <td>_Czid_</td>\n",
       "      <td>8.0</td>\n",
       "      <td>Have played with Elysium and Prelude expansion...</td>\n",
       "    </tr>\n",
       "    <tr>\n",
       "      <th>110789</th>\n",
       "      <td>167791</td>\n",
       "      <td>_Marty_</td>\n",
       "      <td>9.5</td>\n",
       "      <td>Fantastic game. With so many cards that can ch...</td>\n",
       "    </tr>\n",
       "    <tr>\n",
       "      <th>110790</th>\n",
       "      <td>167791</td>\n",
       "      <td>_mun_</td>\n",
       "      <td>10.0</td>\n",
       "      <td>Nagyon izgalmas játék, jó a mechanizmusa. A sz...</td>\n",
       "    </tr>\n",
       "    <tr>\n",
       "      <th>110791</th>\n",
       "      <td>167791</td>\n",
       "      <td>_The_Inquiry_</td>\n",
       "      <td>5.0</td>\n",
       "      <td>Prior to 2020: 2 plays  TM is one of those gam...</td>\n",
       "    </tr>\n",
       "  </tbody>\n",
       "</table>\n",
       "<p>110792 rows × 4 columns</p>\n",
       "</div>"
      ],
      "text/plain": [
       "            id       username rating  \\\n",
       "0       237179    astronaut70    8.0   \n",
       "1       237179       atcblake    N/A   \n",
       "2       237179       Beer4Dad    8.0   \n",
       "3       237179    BlueFoxMoon    N/A   \n",
       "4       237179   Carter_Burke    N/A   \n",
       "...        ...            ...    ...   \n",
       "110787  167791        z_zadar    9.0   \n",
       "110788  167791         _Czid_    8.0   \n",
       "110789  167791        _Marty_    9.5   \n",
       "110790  167791          _mun_   10.0   \n",
       "110791  167791  _The_Inquiry_    5.0   \n",
       "\n",
       "                                                    value  \n",
       "0       Rating based on expectation - will adjust when...  \n",
       "1                                   Solo, engine builder?  \n",
       "2       *Rating based on multiple advanced stage proto...  \n",
       "3                          Pre-release - KS Vital Lacerda  \n",
       "4          Lacerda Game. Must-buy but Start saving... :-)  \n",
       "...                                                   ...  \n",
       "110787  Some games are so much fun. Others can be a li...  \n",
       "110788  Have played with Elysium and Prelude expansion...  \n",
       "110789  Fantastic game. With so many cards that can ch...  \n",
       "110790  Nagyon izgalmas játék, jó a mechanizmusa. A sz...  \n",
       "110791  Prior to 2020: 2 plays  TM is one of those gam...  \n",
       "\n",
       "[110792 rows x 4 columns]"
      ]
     },
     "execution_count": 6,
     "metadata": {},
     "output_type": "execute_result"
    }
   ],
   "source": [
    "try:\n",
    "    comments_df = pd.read_csv(f\"comments_{datetime.now().strftime('%Y%m%d')}.csv\")\n",
    "    comments_df['rating'] = comments_df.rating.fillna('N/A')\n",
    "    print(\"reading dataframe from csv file...\")\n",
    "except:\n",
    "    print(\"missing csv file, getting new data using API...\")\n",
    "    comments_df = get_comments(hot_array, verbose=10)\n",
    "    comments_df.to_csv(f\"comments_{datetime.now().strftime('%Y%m%d')}.csv\", index=False)\n",
    "comments_df"
   ]
  },
  {
   "cell_type": "markdown",
   "metadata": {},
   "source": [
    "## DATA CLEANING"
   ]
  },
  {
   "cell_type": "code",
   "execution_count": 7,
   "metadata": {},
   "outputs": [],
   "source": [
    "# probably we should keep all the ratings (no matters the len) and remove only the simple comments under a certain len  \n",
    "comments_df[\"value\"] = comments_df[\"value\"].astype(str)"
   ]
  },
  {
   "cell_type": "code",
   "execution_count": 8,
   "metadata": {},
   "outputs": [
    {
     "name": "stdout",
     "output_type": "stream",
     "text": [
      "removed 18020 for 'remove_short_comments' - min len: 25 - method: unrated\n"
     ]
    }
   ],
   "source": [
    "# REMOVE URLs FROM COMMENTS\n",
    "comments_df['value'] = [re.sub(r\"http\\S+\", \"\", v) for v in comments_df.value.values]\n",
    "comments_df = remove_short_comments(comments_df, MIN_COMMENT_LEN)"
   ]
  },
  {
   "cell_type": "code",
   "execution_count": 9,
   "metadata": {},
   "outputs": [],
   "source": [
    "# REMOVE NON ENGLISH COMMENTS\n",
    "# !conda install -c conda-forge langdetect\n",
    "# def add_comments_lang(df: pd.DataFrame):\n",
    "#     df_local = df.copy()\n",
    "#     df_local['lang'] = df['value'].apply(detect)\n",
    "#     return df_local.reset_index(drop=True)\n",
    "# comments_df = add_comments_lang(comments_df)\n",
    "# comments_df = comments_df.query('lang == \"en\"')"
   ]
  },
  {
   "cell_type": "markdown",
   "metadata": {},
   "source": [
    "## SPLIT RATED AND NON-RATED COMMENTS"
   ]
  },
  {
   "cell_type": "code",
   "execution_count": 10,
   "metadata": {},
   "outputs": [
    {
     "data": {
      "text/plain": [
       "9.0        17365\n",
       "10.0       16997\n",
       "8.0        15427\n",
       "7.0         8229\n",
       "N/A         7434\n",
       "           ...  \n",
       "2.73           1\n",
       "9.245          1\n",
       "2.4            1\n",
       "8.43312        1\n",
       "8.26667        1\n",
       "Name: rating, Length: 591, dtype: int64"
      ]
     },
     "execution_count": 10,
     "metadata": {},
     "output_type": "execute_result"
    }
   ],
   "source": [
    "# count number of comments per rating (N/A included)\n",
    "comments_df.rating.value_counts()"
   ]
  },
  {
   "cell_type": "code",
   "execution_count": 11,
   "metadata": {},
   "outputs": [
    {
     "data": {
      "text/plain": [
       "(85338, 5)"
      ]
     },
     "execution_count": 11,
     "metadata": {},
     "output_type": "execute_result"
    }
   ],
   "source": [
    "# get rated comments only\n",
    "rated_comments = comments_df.query('rating != \"N/A\"')\n",
    "rated_comments.shape"
   ]
  },
  {
   "cell_type": "code",
   "execution_count": 12,
   "metadata": {},
   "outputs": [
    {
     "data": {
      "text/plain": [
       "(7434, 5)"
      ]
     },
     "execution_count": 12,
     "metadata": {},
     "output_type": "execute_result"
    }
   ],
   "source": [
    "# get non rated comments only\n",
    "not_rated_comments = comments_df.query('rating == \"N/A\"').reset_index(drop=True)\n",
    "not_rated_comments.shape"
   ]
  },
  {
   "cell_type": "markdown",
   "metadata": {},
   "source": [
    "## CREATE TRAINING AND VALIDATION DATA"
   ]
  },
  {
   "cell_type": "code",
   "execution_count": 13,
   "metadata": {},
   "outputs": [],
   "source": [
    "# use rated comments (reviews) to train the model"
   ]
  },
  {
   "cell_type": "code",
   "execution_count": 14,
   "metadata": {},
   "outputs": [],
   "source": [
    "rated_comments = rated_comments.sample(frac=1)"
   ]
  },
  {
   "cell_type": "code",
   "execution_count": 15,
   "metadata": {},
   "outputs": [],
   "source": [
    "# create training X and y\n",
    "train_examples = list(rated_comments.value)\n",
    "train_labels = list((rated_comments.rating.astype(float)>=GOOD_REVIEW_THRESHOLD).astype(int))"
   ]
  },
  {
   "cell_type": "code",
   "execution_count": 16,
   "metadata": {},
   "outputs": [
    {
     "name": "stdout",
     "output_type": "stream",
     "text": [
      "example of positive rating:\n"
     ]
    },
    {
     "data": {
      "text/plain": [
       "'Excellent game where you gather resources in order to play bird cards in your \"aviary.\"  Those birds give you points and usually have helpful powers that make your turns better in the future.  Once you get past the unusual theme, it\\'s a game that appeals to a wide audience.'"
      ]
     },
     "execution_count": 16,
     "metadata": {},
     "output_type": "execute_result"
    }
   ],
   "source": [
    "print(\"example of positive rating:\")\n",
    "train_examples[train_labels.index(1)]"
   ]
  },
  {
   "cell_type": "code",
   "execution_count": 17,
   "metadata": {},
   "outputs": [
    {
     "name": "stdout",
     "output_type": "stream",
     "text": [
      "example of negative rating:\n"
     ]
    },
    {
     "data": {
      "text/plain": [
       "'average of over 9 - irreasonable ratings of fans here which make the entire rating system ridiculous. What if there were 5 more versions of Gloomhaven? will this become gloomhavengeek.com? Therefore only 1 star cause of this hilarious hype.'"
      ]
     },
     "execution_count": 17,
     "metadata": {},
     "output_type": "execute_result"
    }
   ],
   "source": [
    "print(\"example of negative rating:\")\n",
    "train_examples[train_labels.index(0)]"
   ]
  },
  {
   "cell_type": "markdown",
   "metadata": {},
   "source": [
    "## COMPOSE MODEL"
   ]
  },
  {
   "cell_type": "code",
   "execution_count": 18,
   "metadata": {},
   "outputs": [],
   "source": [
    "hub_layer = hub.KerasLayer(MODEL_NAME, input_shape=[], dtype=tf.string, trainable=True)"
   ]
  },
  {
   "cell_type": "markdown",
   "metadata": {},
   "source": [
    "## CLASSIFIER"
   ]
  },
  {
   "cell_type": "code",
   "execution_count": 19,
   "metadata": {},
   "outputs": [
    {
     "name": "stdout",
     "output_type": "stream",
     "text": [
      "Epoch 1/100\n",
      "42/42 - 11s - loss: 0.5422 - accuracy: 0.8162 - val_loss: 0.4706 - val_accuracy: 0.8484\n",
      "Epoch 2/100\n",
      "42/42 - 9s - loss: 0.4108 - accuracy: 0.8525 - val_loss: 0.3858 - val_accuracy: 0.8494\n",
      "Epoch 3/100\n",
      "42/42 - 9s - loss: 0.3362 - accuracy: 0.8586 - val_loss: 0.3488 - val_accuracy: 0.8587\n",
      "Epoch 4/100\n",
      "42/42 - 9s - loss: 0.2933 - accuracy: 0.8783 - val_loss: 0.3305 - val_accuracy: 0.8696\n",
      "Epoch 5/100\n",
      "42/42 - 9s - loss: 0.2627 - accuracy: 0.8943 - val_loss: 0.3232 - val_accuracy: 0.8745\n",
      "Epoch 6/100\n",
      "42/42 - 9s - loss: 0.2373 - accuracy: 0.9057 - val_loss: 0.3244 - val_accuracy: 0.8752\n",
      "Epoch 7/100\n",
      "42/42 - 9s - loss: 0.2152 - accuracy: 0.9158 - val_loss: 0.3268 - val_accuracy: 0.8716\n",
      "Epoch 8/100\n",
      "42/42 - 9s - loss: 0.1956 - accuracy: 0.9247 - val_loss: 0.3367 - val_accuracy: 0.8708\n",
      "Epoch 9/100\n",
      "42/42 - 9s - loss: 0.1787 - accuracy: 0.9323 - val_loss: 0.3473 - val_accuracy: 0.8666\n",
      "Epoch 10/100\n",
      "42/42 - 9s - loss: 0.1646 - accuracy: 0.9388 - val_loss: 0.3635 - val_accuracy: 0.8654\n",
      "28/28 - 0s - loss: 0.3531 - accuracy: 0.8675\n",
      "Epoch 1/100\n",
      "42/42 - 10s - loss: 0.5248 - accuracy: 0.8231 - val_loss: 0.4572 - val_accuracy: 0.8493\n",
      "Epoch 2/100\n",
      "42/42 - 9s - loss: 0.3947 - accuracy: 0.8543 - val_loss: 0.3735 - val_accuracy: 0.8543\n",
      "Epoch 3/100\n",
      "42/42 - 9s - loss: 0.3220 - accuracy: 0.8705 - val_loss: 0.3389 - val_accuracy: 0.8679\n",
      "Epoch 4/100\n",
      "42/42 - 9s - loss: 0.2801 - accuracy: 0.8885 - val_loss: 0.3245 - val_accuracy: 0.8731\n",
      "Epoch 5/100\n",
      "42/42 - 9s - loss: 0.2494 - accuracy: 0.9022 - val_loss: 0.3185 - val_accuracy: 0.8743\n",
      "Epoch 6/100\n",
      "42/42 - 9s - loss: 0.2242 - accuracy: 0.9129 - val_loss: 0.3209 - val_accuracy: 0.8742\n",
      "Epoch 7/100\n",
      "42/42 - 9s - loss: 0.2036 - accuracy: 0.9219 - val_loss: 0.3283 - val_accuracy: 0.8725\n",
      "Epoch 8/100\n",
      "42/42 - 9s - loss: 0.1853 - accuracy: 0.9302 - val_loss: 0.3384 - val_accuracy: 0.8694\n",
      "Epoch 9/100\n",
      "42/42 - 9s - loss: 0.1697 - accuracy: 0.9363 - val_loss: 0.3541 - val_accuracy: 0.8672\n",
      "Epoch 10/100\n",
      "42/42 - 9s - loss: 0.1557 - accuracy: 0.9427 - val_loss: 0.3712 - val_accuracy: 0.8634\n",
      "28/28 - 0s - loss: 0.3548 - accuracy: 0.8686\n",
      "Epoch 1/100\n",
      "42/42 - 10s - loss: 0.5555 - accuracy: 0.8127 - val_loss: 0.4872 - val_accuracy: 0.8506\n",
      "Epoch 2/100\n",
      "42/42 - 9s - loss: 0.4324 - accuracy: 0.8528 - val_loss: 0.3922 - val_accuracy: 0.8569\n",
      "Epoch 3/100\n",
      "42/42 - 9s - loss: 0.3436 - accuracy: 0.8688 - val_loss: 0.3393 - val_accuracy: 0.8685\n",
      "Epoch 4/100\n",
      "42/42 - 9s - loss: 0.2909 - accuracy: 0.8861 - val_loss: 0.3172 - val_accuracy: 0.8761\n",
      "Epoch 5/100\n",
      "42/42 - 9s - loss: 0.2567 - accuracy: 0.9005 - val_loss: 0.3091 - val_accuracy: 0.8787\n",
      "Epoch 6/100\n",
      "42/42 - 9s - loss: 0.2305 - accuracy: 0.9120 - val_loss: 0.3076 - val_accuracy: 0.8789\n",
      "Epoch 7/100\n",
      "42/42 - 9s - loss: 0.2092 - accuracy: 0.9205 - val_loss: 0.3121 - val_accuracy: 0.8785\n",
      "Epoch 8/100\n",
      "42/42 - 9s - loss: 0.1905 - accuracy: 0.9285 - val_loss: 0.3197 - val_accuracy: 0.8761\n",
      "Epoch 9/100\n",
      "42/42 - 9s - loss: 0.1739 - accuracy: 0.9346 - val_loss: 0.3318 - val_accuracy: 0.8722\n",
      "Epoch 10/100\n",
      "42/42 - 9s - loss: 0.1593 - accuracy: 0.9411 - val_loss: 0.3463 - val_accuracy: 0.8685\n",
      "28/28 - 0s - loss: 0.3634 - accuracy: 0.8647\n",
      "Epoch 1/100\n",
      "63/63 - 15s - loss: 0.4934 - accuracy: 0.8449 - val_loss: 0.4143 - val_accuracy: 0.8513\n",
      "Epoch 2/100\n",
      "63/63 - 14s - loss: 0.3562 - accuracy: 0.8616 - val_loss: 0.3382 - val_accuracy: 0.8669\n",
      "Epoch 3/100\n",
      "63/63 - 14s - loss: 0.2931 - accuracy: 0.8835 - val_loss: 0.3152 - val_accuracy: 0.8755\n",
      "Epoch 4/100\n",
      "63/63 - 14s - loss: 0.2577 - accuracy: 0.8983 - val_loss: 0.3110 - val_accuracy: 0.8790\n",
      "Epoch 5/100\n",
      "63/63 - 14s - loss: 0.2322 - accuracy: 0.9091 - val_loss: 0.3119 - val_accuracy: 0.8753\n",
      "Epoch 6/100\n",
      "63/63 - 14s - loss: 0.2120 - accuracy: 0.9181 - val_loss: 0.3198 - val_accuracy: 0.8745\n",
      "Epoch 7/100\n",
      "63/63 - 14s - loss: 0.1953 - accuracy: 0.9252 - val_loss: 0.3320 - val_accuracy: 0.8714\n",
      "Epoch 8/100\n",
      "63/63 - 14s - loss: 0.1814 - accuracy: 0.9307 - val_loss: 0.3433 - val_accuracy: 0.8684\n",
      "Epoch 9/100\n",
      "63/63 - 14s - loss: 0.1696 - accuracy: 0.9357 - val_loss: 0.3598 - val_accuracy: 0.8672\n"
     ]
    },
    {
     "data": {
      "text/plain": [
       "GridSearchCV(cv=3,\n",
       "             estimator=<tensorflow.python.keras.wrappers.scikit_learn.KerasClassifier object at 0x0000022A90CF13A0>,\n",
       "             param_grid={})"
      ]
     },
     "execution_count": 19,
     "metadata": {},
     "output_type": "execute_result"
    }
   ],
   "source": [
    "def build_classifier():\n",
    "    return build_model(hub_layer=None, pre_trained_model_name=MODEL_NAME, model_type='classifier', verbose=0)\n",
    "\n",
    "\n",
    "estimator = KerasClassifier(build_fn=build_classifier, epochs=100, batch_size=1024, verbose=2, validation_split=VAL_FRACTION)\n",
    "x_train_clf = np.array(list(rated_comments.value))\n",
    "y_train_clf = np.array(list((rated_comments.rating.astype(float)>=GOOD_REVIEW_THRESHOLD).astype(int)))\n",
    "\n",
    "clf = GridSearchCV(\n",
    "    estimator, \n",
    "    cv=3, \n",
    "    param_grid={}\n",
    ")\n",
    "clf.fit(x_train_clf, y_train_clf, callbacks=[tf.keras.callbacks.EarlyStopping(monitor='val_accuracy', patience=5, min_delta=0.001)])"
   ]
  },
  {
   "cell_type": "code",
   "execution_count": 20,
   "metadata": {},
   "outputs": [],
   "source": [
    "classifier = clf.best_estimator_\n",
    "classifier_history_dict = classifier.model.history.history"
   ]
  },
  {
   "cell_type": "code",
   "execution_count": 21,
   "metadata": {},
   "outputs": [
    {
     "data": {
      "text/plain": [
       "dict_keys(['loss', 'accuracy', 'val_loss', 'val_accuracy'])"
      ]
     },
     "execution_count": 21,
     "metadata": {},
     "output_type": "execute_result"
    }
   ],
   "source": [
    "classifier_history_dict.keys()"
   ]
  },
  {
   "cell_type": "code",
   "execution_count": 22,
   "metadata": {},
   "outputs": [],
   "source": [
    "acc = classifier_history_dict['accuracy']\n",
    "val_acc = classifier_history_dict['val_accuracy']\n",
    "loss = classifier_history_dict['loss']\n",
    "val_loss = classifier_history_dict['val_loss']"
   ]
  },
  {
   "cell_type": "code",
   "execution_count": 23,
   "metadata": {},
   "outputs": [],
   "source": [
    "epochs = range(1, len(acc) + 1) "
   ]
  },
  {
   "cell_type": "code",
   "execution_count": 24,
   "metadata": {},
   "outputs": [
    {
     "data": {
      "image/png": "[encoded data removed]",
      "text/plain": [
       "<Figure size 648x360 with 1 Axes>"
      ]
     },
     "metadata": {
      "needs_background": "light"
     },
     "output_type": "display_data"
    }
   ],
   "source": [
    "# \"bo\" is for \"blue dot\"\n",
    "plt.figure(figsize=(9, 5))\n",
    "plt.plot(epochs, loss, 'bo', label='Training loss')\n",
    "# b is for \"solid blue line\"\n",
    "plt.plot(epochs, val_loss, 'b', label='Validation loss')\n",
    "plt.title('Training and validation loss')\n",
    "plt.xlabel('Epochs')\n",
    "plt.ylabel('Loss')\n",
    "plt.grid(True)\n",
    "plt.legend()\n",
    "\n",
    "plt.show()"
   ]
  },
  {
   "cell_type": "code",
   "execution_count": 25,
   "metadata": {},
   "outputs": [
    {
     "data": {
      "image/png": "[encoded data removed]",
      "text/plain": [
       "<Figure size 648x360 with 1 Axes>"
      ]
     },
     "metadata": {
      "needs_background": "light"
     },
     "output_type": "display_data"
    }
   ],
   "source": [
    "plt.figure(figsize=(9, 5))\n",
    "plt.plot(epochs, acc, 'bo', label='Training acc')\n",
    "plt.plot(epochs, val_acc, 'b', label='Validation acc')\n",
    "plt.title('Training and validation accuracy')\n",
    "plt.xlabel('Epochs')\n",
    "plt.ylabel('Accuracy')\n",
    "plt.grid(True)\n",
    "plt.legend()\n",
    "\n",
    "plt.show()"
   ]
  },
  {
   "cell_type": "code",
   "execution_count": 26,
   "metadata": {},
   "outputs": [
    {
     "name": "stdout",
     "output_type": "stream",
     "text": [
      "input:\n",
      "\"Excellent game where you gather resources in order to play bird cards in your \"aviary.\"  Those birds give you points and usually have helpful powers that make your turns better in the future.  Once you get past the unusual theme, it's a game that appeals to a wide audience.\"\n",
      "score: 1.000000\n",
      "actual: 1\n",
      "\n",
      "input:\n",
      "\"Play weekly with friend after playing gloomhaven\"\n",
      "score: 1.000000\n",
      "actual: 1\n",
      "\n",
      "input:\n",
      "\"Eurogame are a bit boring to me because of their lack of theme. However this game has very solid mechanics and easy to learn rules while leaving place for strategies and complexity. Very well designed. It would be even better with more interaction between players. It felt like everybody was playing almost alone, maybe because we were beginners?\"\n",
      "score: 0.000000\n",
      "actual: 1\n",
      "\n",
      "input:\n",
      "\"Ordered this on. board game Lisa for 44$ cad…..a real steal. Super good game. I would prefer this than Maracaibo due to its western theme.  City Slickers anyone?\"\n",
      "score: 1.000000\n",
      "actual: 1\n",
      "\n",
      "input:\n",
      "\"This game is so complex yet so easy to learn. It feels challenging but fair. The world is really well made and the story is pretty immersive. Leveling up doesn't just give you some attribute points that in the long run are meaningless but better cards that test your management skills even more.\"\n",
      "score: 1.000000\n",
      "actual: 1\n",
      "\n",
      "input:\n",
      "\"Un de mes jeux favori du moment. J'ai abordé ce jeu volontairement \"à l'aveuglette\" : avant de commencer ma première partie, je ne me suis absolument pas documenté sur le jeu pour une découverte totale. Résultat : j'ai pris une grosse claque ludique! Le thème est sympa bien que pas vraiment transcendant. Les illustrations et style graphique sont beaux. Côté mécanique, je pensais qu'il s'agissait d'un 4X mais il s'agirait plutôt d'un 3,5X car la partie combat (eXtermination) est très \"light\". Et je pense que c'est à peu près tout ce qu'on pourrait lui reprocher. Les règles sont bien pensées et relativement accessibles. Une fois que l'on a compris la synergie qu'il peut y avoir avec l'utilisation de son plateau (plateau au top avec les petits renforcements) de joueur c'est un vrai régal que d'opérer cette gymnastique. C'est tellement cohérent que jouer à Scythe provoque un sentiment de satisfaction même si on ne gagne pas la partie. Pour s'en sortir le jeu nous oblige à développer un peu mais pas n'importe comment. La différence entre les classes peut orienter les joueurs et ce n'est pas plus mal car cela pousse à voir d'autres optiques de jeux (être plus agressifs dans les prochaines partie ou plus populaire par exemple). Pour ma part je n'ai pas trop utilisé les Mechas mais bon, à voir comment jouer mes adversaires, ils apportent un atout majeur au jeu de toute évidence ! Que du bonheur, ma prochaine partie me tarde déjà !\"\n",
      "score: 1.000000\n",
      "actual: 1\n",
      "\n",
      "input:\n",
      "\"Its good. But i wish i could play it more often\"\n",
      "score: 1.000000\n",
      "actual: 1\n",
      "\n",
      "input:\n",
      "\"Great fast addictive Material is incredible\"\n",
      "score: 1.000000\n",
      "actual: 1\n",
      "\n",
      "input:\n",
      "\"An oddly addictive little game. It's fairly swingy, but that doesn't really bother me here. I know I cannot really compare scores between games, as card draw and arrangement of goals will make some engines hum and some clank and grind. But I continue to be fascinated by the challenge of making the best habitat I can out of the birds that fly past.\"\n",
      "score: 1.000000\n",
      "actual: 1\n",
      "\n",
      "input:\n",
      "\"average of over 9 - irreasonable ratings of fans here which make the entire rating system ridiculous. What if there were 5 more versions of Gloomhaven? will this become gloomhavengeek.com? Therefore only 1 star cause of this hilarious hype.\"\n",
      "score: 0.000000\n",
      "actual: 0\n"
     ]
    },
    {
     "name": "stderr",
     "output_type": "stream",
     "text": [
      "C:\\Users\\dev999\\.conda\\envs\\tensorflow2\\lib\\site-packages\\tensorflow\\python\\keras\\engine\\sequential.py:455: UserWarning: `model.predict_classes()` is deprecated and will be removed after 2021-01-01. Please use instead:* `np.argmax(model.predict(x), axis=-1)`,   if your model does multi-class classification   (e.g. if it uses a `softmax` last-layer activation).* `(model.predict(x) > 0.5).astype(\"int32\")`,   if your model does binary classification   (e.g. if it uses a `sigmoid` last-layer activation).\n",
      "  warnings.warn('`model.predict_classes()` is deprecated and '\n"
     ]
    }
   ],
   "source": [
    "inputs = x_train_clf[:10]\n",
    "outputs = y_train_clf[:10]\n",
    "results = classifier.predict(tf.constant(inputs), verbose=0)\n",
    "print_my_examples(inputs, results, outputs)"
   ]
  },
  {
   "cell_type": "code",
   "execution_count": 27,
   "metadata": {},
   "outputs": [],
   "source": [
    "## APPLY MODEL ON NON-RATED COMMENTS"
   ]
  },
  {
   "cell_type": "code",
   "execution_count": 28,
   "metadata": {},
   "outputs": [
    {
     "name": "stdout",
     "output_type": "stream",
     "text": [
      "8/8 - 0s\n",
      "input:\n",
      "\"Nice villain versus game.  A deck builder with out the randomisation of dc deck builder or legendary.  I prefer it.  Great art.\"\n",
      "score: 1.000000\n",
      "\n",
      "input:\n",
      "\"Have played the first couple scenarios. Really dug it. Waiting to get deeper into it before reviewing.\"\n",
      "score: 1.000000\n",
      "\n",
      "input:\n",
      "\"Worried this is too heavy but Wingspan by same publisher is so great and this version of Viticulture comes with an Automa and I love that aspect of Wingspan so I'm really thinking about it.  Need to study up some more on Viticulture. Be sure to get the Essential Edition for the Automa.\"\n",
      "score: 1.000000\n",
      "\n",
      "input:\n",
      "\"Includes Invaders from Afar and wooden insert\"\n",
      "score: 1.000000\n",
      "\n",
      "input:\n",
      "\"Ve hře Blood Rage se 2 – 4 hráči (s rozšířením maximálně 5) utkávají v nelítostném krvavém boji o slávu. Během tří věků (kol) budou vylepšovat svůj klan a snažit se nasbírat co nejvíce vítězných bodů, které se získávají primárně bojem. Výhra v mohutné bitvě na život a na smrt udělá na bohy dojem. Ale i ti, kteří statečně padnou, se dočkají ocenění. Jen záleží na tom, ke kterému bohu se přikloní. Dalším zdrojem bodů jsou úkoly s cílem ovládat určité provincie nebo naplnit Valhallu svými padlými. A v neposlední řadě se na konci každého věku některá provincie zhroutí a zanikne. Válečníci, kteří zde padnou, jsou opět odměněni slávou.\"\n",
      "score: 1.000000\n",
      "\n",
      "input:\n",
      "\"Ordered from CoolStuffInc.com on February 1, 2017 - $60. Received on February 8, 2017\"\n",
      "score: 1.000000\n",
      "\n",
      "input:\n",
      "\"Preordered at Amazon for delivery in freiburg\"\n",
      "score: 1.000000\n",
      "\n",
      "input:\n",
      "\"Bought digitally.   I normally prefer strategy (think 4X) over tactics, vastly so. However, Gloomhaven's two-card system is genuinely fun, and I really want to try Jaws of the Lion with friends soon.   The currently only mode in the digital version, \"Guildmaster\", is a pretty fun solo-only adaptation of the game, but it's pretty slow.  My biggest gripe with GH is that the game's theming is as generic as vanilla D&D. It's basically generic high fantasy to a tee, although JotL seems to be trying to remedy that a bit with its smart character designs.\"\n",
      "score: 1.000000\n",
      "\n",
      "input:\n",
      "\"Includes:  Encounters; Promo Pack #1–Encounter Cards 29-32; Promo Pack #11–Encounter Card 39; Promo Pack #12–Encounter Card 40; Promo Pack #13–Encounter Card 41; Promo Pack #14–Encounter Card 42; Promo Pack #2–Encounter Cards 33-36; Promo Pack #3–Objective Cards 24-27; Promo Pack #4–Factory Cards 13-18; Promo Pack #6–Encounter Card 37; Promo Pack #7–Encounter Card 38; The Rise of Ferris; The Wind Gambit; Invaders from Afar\"\n",
      "score: 1.000000\n",
      "\n",
      "input:\n",
      "\"2-4 players Expansions: Tides Of Ruin Promos: Metal Ship, Realistic Tokens Won via BGG!\"\n",
      "score: 1.000000\n"
     ]
    }
   ],
   "source": [
    "not_rated_comments = not_rated_comments.sample(frac=1)\n",
    "results = classifier.predict(tf.constant(list(not_rated_comments.value.astype(str))))\n",
    "print_my_examples(list(not_rated_comments.value), results, limit=10)"
   ]
  },
  {
   "cell_type": "markdown",
   "metadata": {},
   "source": [
    "## REGRESSOR"
   ]
  },
  {
   "cell_type": "code",
   "execution_count": 29,
   "metadata": {},
   "outputs": [
    {
     "data": {
      "text/plain": [
       "GridSearchCV(cv=3,\n",
       "             estimator=<tensorflow.python.keras.wrappers.scikit_learn.KerasRegressor object at 0x0000022F6C6038B0>,\n",
       "             param_grid={})"
      ]
     },
     "execution_count": 29,
     "metadata": {},
     "output_type": "execute_result"
    }
   ],
   "source": [
    "def build_regressor():\n",
    "    return build_model(hub_layer, pre_trained_model_name=MODEL_NAME, model_type='regressor', verbose=0)\n",
    "\n",
    "\n",
    "estimator = KerasRegressor(build_fn=build_regressor, epochs=100, batch_size=512, verbose=0, validation_split=VAL_FRACTION)\n",
    "x_train_reg = np.array(list(rated_comments.value))\n",
    "y_train_reg = np.array(list(rated_comments.rating.astype(float)))\n",
    "\n",
    "clf = GridSearchCV(\n",
    "    estimator, \n",
    "    cv=3, \n",
    "    param_grid={}\n",
    ")\n",
    "clf.fit(x_train_reg, y_train_reg, callbacks=[tf.keras.callbacks.EarlyStopping(monitor='val_mean_squared_error', patience=5, min_delta=0.001)])"
   ]
  },
  {
   "cell_type": "code",
   "execution_count": 30,
   "metadata": {},
   "outputs": [],
   "source": [
    "regressor = clf.best_estimator_\n",
    "regressor_history_dict = regressor.model.history.history"
   ]
  },
  {
   "cell_type": "code",
   "execution_count": 31,
   "metadata": {},
   "outputs": [
    {
     "data": {
      "text/plain": [
       "dict_keys(['loss', 'mean_squared_error', 'val_loss', 'val_mean_squared_error'])"
      ]
     },
     "execution_count": 31,
     "metadata": {},
     "output_type": "execute_result"
    }
   ],
   "source": [
    "regressor_history_dict.keys()"
   ]
  },
  {
   "cell_type": "code",
   "execution_count": 32,
   "metadata": {},
   "outputs": [],
   "source": [
    "mean_squared_error = regressor_history_dict['mean_squared_error']\n",
    "val_mean_squared_error = regressor_history_dict['val_mean_squared_error']\n",
    "loss = regressor_history_dict['loss']\n",
    "val_loss = regressor_history_dict['val_loss']"
   ]
  },
  {
   "cell_type": "code",
   "execution_count": 33,
   "metadata": {},
   "outputs": [],
   "source": [
    "epochs = range(1, len(mean_squared_error) + 1) "
   ]
  },
  {
   "cell_type": "code",
   "execution_count": 34,
   "metadata": {},
   "outputs": [
    {
     "name": "stdout",
     "output_type": "stream",
     "text": [
      "MEAN SQUARED ERROR (VALIDATION SET): 2.40\n"
     ]
    }
   ],
   "source": [
    "print(f\"MEAN SQUARED ERROR (VALIDATION SET): {val_mean_squared_error[-1]:.2f}\")"
   ]
  },
  {
   "cell_type": "code",
   "execution_count": 35,
   "metadata": {},
   "outputs": [
    {
     "name": "stdout",
     "output_type": "stream",
     "text": [
      "MEAN SQUARED ERROR (TRAINING SET): 0.93\n"
     ]
    }
   ],
   "source": [
    "print(f\"MEAN SQUARED ERROR (TRAINING SET): {mean_squared_error[-1]:.2f}\")"
   ]
  },
  {
   "cell_type": "code",
   "execution_count": 36,
   "metadata": {},
   "outputs": [
    {
     "data": {
      "image/png": "[encoded data removed]",
      "text/plain": [
       "<Figure size 648x360 with 1 Axes>"
      ]
     },
     "metadata": {
      "needs_background": "light"
     },
     "output_type": "display_data"
    }
   ],
   "source": [
    "# \"bo\" is for \"blue dot\"\n",
    "plt.figure(figsize=(9, 5))\n",
    "plt.plot(epochs, loss, 'bo', label='Training loss')\n",
    "# b is for \"solid blue line\"\n",
    "plt.plot(epochs, val_loss, 'b', label='Validation loss')\n",
    "plt.title('Training and validation loss')\n",
    "plt.xlabel('Epochs')\n",
    "plt.ylabel('Loss')\n",
    "plt.grid(True)\n",
    "plt.legend()\n",
    "\n",
    "plt.show()"
   ]
  },
  {
   "cell_type": "code",
   "execution_count": 37,
   "metadata": {},
   "outputs": [
    {
     "data": {
      "image/png": "[encoded data removed]",
      "text/plain": [
       "<Figure size 648x360 with 1 Axes>"
      ]
     },
     "metadata": {
      "needs_background": "light"
     },
     "output_type": "display_data"
    }
   ],
   "source": [
    "plt.figure(figsize=(9, 5))\n",
    "plt.plot(epochs, mean_squared_error, 'bo', label='Training mean squared error')\n",
    "plt.plot(epochs, val_mean_squared_error, 'b', label='Validation mean squared error')\n",
    "plt.title('Training and validation accuracy')\n",
    "plt.xlabel('Epochs')\n",
    "plt.ylabel('Mean squared error')\n",
    "plt.grid(True)\n",
    "plt.legend()\n",
    "\n",
    "plt.show()"
   ]
  },
  {
   "cell_type": "code",
   "execution_count": 38,
   "metadata": {},
   "outputs": [
    {
     "name": "stdout",
     "output_type": "stream",
     "text": [
      "input: \n",
      "\"Excellent game where you gather resources in order to play bird cards in your \"aviary.\"  Those birds give you points and usually have helpful powers that make your turns better in the future.  Once you get past the unusual theme, it's a game that appeals to a wide audience.\"\n",
      "score: 8.36\n",
      "actual: 9.00 \n",
      "\n",
      "input: \n",
      "\"Play weekly with friend after playing gloomhaven\"\n",
      "score: 9.41\n",
      "actual: 10.00 \n",
      "\n",
      "input: \n",
      "\"Eurogame are a bit boring to me because of their lack of theme. However this game has very solid mechanics and easy to learn rules while leaving place for strategies and complexity. Very well designed. It would be even better with more interaction between players. It felt like everybody was playing almost alone, maybe because we were beginners?\"\n",
      "score: 5.99\n",
      "actual: 7.00 \n",
      "\n",
      "input: \n",
      "\"Ordered this on. board game Lisa for 44$ cad…..a real steal. Super good game. I would prefer this than Maracaibo due to its western theme.  City Slickers anyone?\"\n",
      "score: 8.07\n",
      "actual: 8.00 \n",
      "\n",
      "input: \n",
      "\"This game is so complex yet so easy to learn. It feels challenging but fair. The world is really well made and the story is pretty immersive. Leveling up doesn't just give you some attribute points that in the long run are meaningless but better cards that test your management skills even more.\"\n",
      "score: 9.65\n",
      "actual: 10.00 \n",
      "\n",
      "input: \n",
      "\"Un de mes jeux favori du moment. J'ai abordé ce jeu volontairement \"à l'aveuglette\" : avant de commencer ma première partie, je ne me suis absolument pas documenté sur le jeu pour une découverte totale. Résultat : j'ai pris une grosse claque ludique! Le thème est sympa bien que pas vraiment transcendant. Les illustrations et style graphique sont beaux. Côté mécanique, je pensais qu'il s'agissait d'un 4X mais il s'agirait plutôt d'un 3,5X car la partie combat (eXtermination) est très \"light\". Et je pense que c'est à peu près tout ce qu'on pourrait lui reprocher. Les règles sont bien pensées et relativement accessibles. Une fois que l'on a compris la synergie qu'il peut y avoir avec l'utilisation de son plateau (plateau au top avec les petits renforcements) de joueur c'est un vrai régal que d'opérer cette gymnastique. C'est tellement cohérent que jouer à Scythe provoque un sentiment de satisfaction même si on ne gagne pas la partie. Pour s'en sortir le jeu nous oblige à développer un peu mais pas n'importe comment. La différence entre les classes peut orienter les joueurs et ce n'est pas plus mal car cela pousse à voir d'autres optiques de jeux (être plus agressifs dans les prochaines partie ou plus populaire par exemple). Pour ma part je n'ai pas trop utilisé les Mechas mais bon, à voir comment jouer mes adversaires, ils apportent un atout majeur au jeu de toute évidence ! Que du bonheur, ma prochaine partie me tarde déjà !\"\n",
      "score: 9.06\n",
      "actual: 9.00 \n",
      "\n",
      "input: \n",
      "\"Its good. But i wish i could play it more often\"\n",
      "score: 8.38\n",
      "actual: 8.00 \n",
      "\n",
      "input: \n",
      "\"Great fast addictive Material is incredible\"\n",
      "score: 9.35\n",
      "actual: 10.00 \n",
      "\n",
      "input: \n",
      "\"An oddly addictive little game. It's fairly swingy, but that doesn't really bother me here. I know I cannot really compare scores between games, as card draw and arrangement of goals will make some engines hum and some clank and grind. But I continue to be fascinated by the challenge of making the best habitat I can out of the birds that fly past.\"\n",
      "score: 9.16\n",
      "actual: 8.00 \n",
      "\n",
      "input: \n",
      "\"average of over 9 - irreasonable ratings of fans here which make the entire rating system ridiculous. What if there were 5 more versions of Gloomhaven? will this become gloomhavengeek.com? Therefore only 1 star cause of this hilarious hype.\"\n",
      "score: 3.09\n",
      "actual: 1.00 \n",
      "\n"
     ]
    }
   ],
   "source": [
    "inputs = x_train_reg[:10]\n",
    "outputs = y_train_reg[:10]\n",
    "results = clf.best_estimator_.predict(tf.constant(inputs), verbose=0)\n",
    "for i in range(len(inputs)):\n",
    "    print(f\"input: \\n\\\"{inputs[i]}\\\"\\nscore: {results[i]:.2f}\\nactual: {outputs[i]:.2f} \\n\")"
   ]
  },
  {
   "cell_type": "markdown",
   "metadata": {},
   "source": [
    "## COMPARE CLASSIFIER VS REGRESSOR"
   ]
  },
  {
   "cell_type": "code",
   "execution_count": 39,
   "metadata": {},
   "outputs": [
    {
     "name": "stdout",
     "output_type": "stream",
     "text": [
      "\"waiting for edition with acceptable component quality\"\n",
      "    reg score: 7.85\n",
      "    clf score: 1\n",
      "\n",
      "\"might not be the top choice for 2 players\"\n",
      "    reg score: 7.51\n",
      "    clf score: 0\n",
      "\n",
      "\"With The Riverfolk, Clockwork, and Underworld Expansions.\"\n",
      "    reg score: 9.42\n",
      "    clf score: 1\n",
      "\n",
      "\"SCYTHE  RENT FOR 1 WEEK - 500PHP SECURITY DEPOSIT - 4,000PHP REFUND UPON RETURN - 3,500PHP\"\n",
      "    reg score: 8.91\n",
      "    clf score: 1\n",
      "\n",
      "\"buy with Railroad Revolution  NT850 - 收納盒 (include Santorini)\"\n",
      "    reg score: 7.94\n",
      "    clf score: 1\n",
      "\n",
      "\"dont want to play dont like the art\"\n",
      "    reg score: 5.75\n",
      "    clf score: 0\n",
      "\n",
      "\"Just an overall great game I want to get for my collection one day \"\n",
      "    reg score: 8.89\n",
      "    clf score: 1\n",
      "\n",
      "\"$1 until time to close the Pledge Manager\"\n",
      "    reg score: 6.98\n",
      "    clf score: 0\n",
      "\n",
      "\"Optimization engine building solitaire puzzle “set in space” that’s complex for complexity's sake. Very low interaction for a space empire game and therefore it's dry and dull after a time since it slogs on and on. But what it does,  it does well I suppose.  For the theme, I’d rather just play a Eclipse.\"\n",
      "    reg score: 3.45\n",
      "    clf score: 0\n",
      "\n",
      "\"Sounds like an interesting strategy game\"\n",
      "    reg score: 7.74\n",
      "    clf score: 1\n",
      "\n"
     ]
    },
    {
     "name": "stderr",
     "output_type": "stream",
     "text": [
      "C:\\Users\\dev999\\.conda\\envs\\tensorflow2\\lib\\site-packages\\tensorflow\\python\\keras\\engine\\sequential.py:455: UserWarning: `model.predict_classes()` is deprecated and will be removed after 2021-01-01. Please use instead:* `np.argmax(model.predict(x), axis=-1)`,   if your model does multi-class classification   (e.g. if it uses a `softmax` last-layer activation).* `(model.predict(x) > 0.5).astype(\"int32\")`,   if your model does binary classification   (e.g. if it uses a `sigmoid` last-layer activation).\n",
      "  warnings.warn('`model.predict_classes()` is deprecated and '\n"
     ]
    }
   ],
   "source": [
    "not_rated_comments = not_rated_comments.sample(frac=1)\n",
    "inputs = list(not_rated_comments.value.astype(str))[:10]\n",
    "\n",
    "clf_results = classifier.predict(inputs, verbose=0)\n",
    "reg_results = regressor.predict(inputs, verbose=0)\n",
    "for i in range(len(inputs)):\n",
    "    print(f\"\"\"\\\"{inputs[i]}\\\"\n",
    "    reg score: {reg_results[i]:.2f}\n",
    "    clf score: {clf_results[i][0]}\n",
    "\"\"\")"
   ]
  },
  {
   "cell_type": "markdown",
   "metadata": {},
   "source": [
    "### RESULTS\n",
    "It seems that the regressor is much more accurate compared to the binary classifier => **let's use the regressors results to fix the BGG rating**"
   ]
  },
  {
   "cell_type": "markdown",
   "metadata": {},
   "source": [
    "## COMBINE RATED COMMENTS AND NOT-RATED COMMENTS WITH PREDICTED RATING"
   ]
  },
  {
   "cell_type": "code",
   "execution_count": 40,
   "metadata": {},
   "outputs": [
    {
     "name": "stdout",
     "output_type": "stream",
     "text": [
      "rated_comments_grouped: \n",
      "|        id |   rating_mean |   rating_count |\n",
      "|-----------|---------------|----------------|\n",
      "| 124361.00 |          8.19 |        3966.00 |\n",
      "| 162886.00 |          8.37 |        3712.00 |\n",
      "| 167355.00 |          8.41 |        2013.00 |\n",
      "| 167791.00 |          8.20 |        8530.00 |\n",
      "| 169786.00 |          8.09 |        7537.00 |\n"
     ]
    }
   ],
   "source": [
    "rated_comments['rating'] = rated_comments.rating.astype(float)\n",
    "rated_comments_grouped = rated_comments.groupby('id').agg({'rating': ['mean', 'count']})\n",
    "rated_comments_grouped.columns = list(rated_comments_grouped.columns.map('_'.join))\n",
    "rated_comments_grouped = rated_comments_grouped.reset_index()\n",
    "print(\"rated_comments_grouped: \")\n",
    "print(rated_comments_grouped.head().to_markdown(index=False, floatfmt='.2f', tablefmt='github'))"
   ]
  },
  {
   "cell_type": "code",
   "execution_count": 41,
   "metadata": {},
   "outputs": [],
   "source": [
    "not_rated_comments['rating'] = regressor.predict(list(not_rated_comments.value.astype(str)))"
   ]
  },
  {
   "cell_type": "code",
   "execution_count": 42,
   "metadata": {},
   "outputs": [
    {
     "name": "stdout",
     "output_type": "stream",
     "text": [
      "not_rated_comments_grouped: \n",
      "|        id |   rating_mean |   rating_count |\n",
      "|-----------|---------------|----------------|\n",
      "| 124361.00 |          8.18 |         258.00 |\n",
      "| 162886.00 |          8.17 |         324.00 |\n",
      "| 167355.00 |          8.30 |         214.00 |\n",
      "| 167791.00 |          8.36 |         454.00 |\n",
      "| 169786.00 |          8.22 |         612.00 |\n"
     ]
    }
   ],
   "source": [
    "not_rated_comments['rating'] = not_rated_comments.rating.astype(float)\n",
    "not_rated_comments['rating'] = not_rated_comments['rating'].clip(0, 10)\n",
    "not_rated_comments_grouped = not_rated_comments.groupby('id').agg({'rating': ['mean', 'count']})\n",
    "not_rated_comments_grouped.columns = list(not_rated_comments_grouped.columns.map('_'.join))\n",
    "not_rated_comments_grouped = not_rated_comments_grouped.reset_index()\n",
    "print(\"not_rated_comments_grouped: \")\n",
    "print(not_rated_comments_grouped.head().to_markdown(index=False, floatfmt='.2f', tablefmt='github'))"
   ]
  },
  {
   "cell_type": "code",
   "execution_count": 43,
   "metadata": {},
   "outputs": [],
   "source": [
    "grouped = rated_comments_grouped.merge(not_rated_comments_grouped, on='id', suffixes=('_review', '_comments'), how='outer')\n",
    "grouped['id'] = grouped.id.astype(str)\n",
    "grouped = grouped.merge(pd.DataFrame(hot_array), on='id', how='right')\n",
    "grouped['rank'] = grouped['rank'].astype(int)\n",
    "grouped['url'] = grouped['id'].apply(lambda x: f\"https://boardgamegeek.com/boardgame/{x}\")\n",
    "grouped['fixed_rating'] = (grouped['rating_mean_review']*grouped['rating_count_review']+grouped['rating_mean_comments']*grouped['rating_count_comments']) /\\\n",
    "                            (grouped['rating_count_review']+grouped['rating_count_comments'])\n",
    "grouped['thumbnail'] = grouped['thumbnail'].apply(lambda x: f'<img src=\"{x}\" width=\"124\" />')\n",
    "grouped['name'] = grouped.apply(lambda x: f'<a href=\"{x[\"url\"]}\">{x[\"name\"]}</a>', axis=1)\n",
    "\n",
    "grouped = grouped[['thumbnail', 'name', 'rating_mean_review', 'rating_mean_comments', 'fixed_rating', 'rank', 'yearpublished']]"
   ]
  },
  {
   "cell_type": "code",
   "execution_count": 44,
   "metadata": {},
   "outputs": [
    {
     "data": {
      "text/html": [
       "<div>\n",
       "<style scoped>\n",
       "    .dataframe tbody tr th:only-of-type {\n",
       "        vertical-align: middle;\n",
       "    }\n",
       "\n",
       "    .dataframe tbody tr th {\n",
       "        vertical-align: top;\n",
       "    }\n",
       "\n",
       "    .dataframe thead th {\n",
       "        text-align: right;\n",
       "    }\n",
       "</style>\n",
       "<table border=\"1\" class=\"dataframe\">\n",
       "  <thead>\n",
       "    <tr style=\"text-align: right;\">\n",
       "      <th></th>\n",
       "      <th>thumbnail</th>\n",
       "      <th>name</th>\n",
       "      <th>rating_mean_review</th>\n",
       "      <th>rating_mean_comments</th>\n",
       "      <th>fixed_rating</th>\n",
       "      <th>rank</th>\n",
       "      <th>yearpublished</th>\n",
       "    </tr>\n",
       "  </thead>\n",
       "  <tbody>\n",
       "    <tr>\n",
       "      <th>0</th>\n",
       "      <td>&lt;img src=\"https://cf.geekdo-images.com/E8qBDKe...</td>\n",
       "      <td>&lt;a href=\"https://boardgamegeek.com/boardgame/2...</td>\n",
       "      <td>8.416667</td>\n",
       "      <td>7.669155</td>\n",
       "      <td>8.076889</td>\n",
       "      <td>1</td>\n",
       "      <td>2022</td>\n",
       "    </tr>\n",
       "    <tr>\n",
       "      <th>1</th>\n",
       "      <td>&lt;img src=\"https://cf.geekdo-images.com/Q96PxRV...</td>\n",
       "      <td>&lt;a href=\"https://boardgamegeek.com/boardgame/3...</td>\n",
       "      <td>7.018403</td>\n",
       "      <td>6.746627</td>\n",
       "      <td>7.007565</td>\n",
       "      <td>2</td>\n",
       "      <td>2021</td>\n",
       "    </tr>\n",
       "    <tr>\n",
       "      <th>2</th>\n",
       "      <td>&lt;img src=\"https://cf.geekdo-images.com/C9U2E51...</td>\n",
       "      <td>&lt;a href=\"https://boardgamegeek.com/boardgame/3...</td>\n",
       "      <td>8.094702</td>\n",
       "      <td>8.298829</td>\n",
       "      <td>8.119825</td>\n",
       "      <td>3</td>\n",
       "      <td>2020</td>\n",
       "    </tr>\n",
       "    <tr>\n",
       "      <th>3</th>\n",
       "      <td>&lt;img src=\"https://cf.geekdo-images.com/MjeJZfu...</td>\n",
       "      <td>&lt;a href=\"https://boardgamegeek.com/boardgame/2...</td>\n",
       "      <td>8.003333</td>\n",
       "      <td>8.429702</td>\n",
       "      <td>8.078575</td>\n",
       "      <td>4</td>\n",
       "      <td>2021</td>\n",
       "    </tr>\n",
       "    <tr>\n",
       "      <th>4</th>\n",
       "      <td>&lt;img src=\"https://cf.geekdo-images.com/3P1cMmZ...</td>\n",
       "      <td>&lt;a href=\"https://boardgamegeek.com/boardgame/2...</td>\n",
       "      <td>7.095238</td>\n",
       "      <td>8.453441</td>\n",
       "      <td>8.033996</td>\n",
       "      <td>5</td>\n",
       "      <td>2021</td>\n",
       "    </tr>\n",
       "  </tbody>\n",
       "</table>\n",
       "</div>"
      ],
      "text/plain": [
       "                                           thumbnail  \\\n",
       "0  <img src=\"https://cf.geekdo-images.com/E8qBDKe...   \n",
       "1  <img src=\"https://cf.geekdo-images.com/Q96PxRV...   \n",
       "2  <img src=\"https://cf.geekdo-images.com/C9U2E51...   \n",
       "3  <img src=\"https://cf.geekdo-images.com/MjeJZfu...   \n",
       "4  <img src=\"https://cf.geekdo-images.com/3P1cMmZ...   \n",
       "\n",
       "                                                name  rating_mean_review  \\\n",
       "0  <a href=\"https://boardgamegeek.com/boardgame/2...            8.416667   \n",
       "1  <a href=\"https://boardgamegeek.com/boardgame/3...            7.018403   \n",
       "2  <a href=\"https://boardgamegeek.com/boardgame/3...            8.094702   \n",
       "3  <a href=\"https://boardgamegeek.com/boardgame/2...            8.003333   \n",
       "4  <a href=\"https://boardgamegeek.com/boardgame/2...            7.095238   \n",
       "\n",
       "   rating_mean_comments  fixed_rating  rank yearpublished  \n",
       "0              7.669155      8.076889     1          2022  \n",
       "1              6.746627      7.007565     2          2021  \n",
       "2              8.298829      8.119825     3          2020  \n",
       "3              8.429702      8.078575     4          2021  \n",
       "4              8.453441      8.033996     5          2021  "
      ]
     },
     "execution_count": 44,
     "metadata": {},
     "output_type": "execute_result"
    }
   ],
   "source": [
    "grouped.head()"
   ]
  },
  {
   "cell_type": "code",
   "execution_count": 45,
   "metadata": {},
   "outputs": [],
   "source": [
    "def display_topn(by, n=5, ascending=True):\n",
    "    temp_df = grouped.sort_values(by, ascending=ascending).head(n)\n",
    "    temp_df.index=list(range(1, n+1))\n",
    "    return HTML(temp_df.to_html(escape=False, classes='table table-striped'))"
   ]
  },
  {
   "cell_type": "code",
   "execution_count": 46,
   "metadata": {},
   "outputs": [
    {
     "data": {
      "text/html": [
       "<table border=\"1\" class=\"dataframe table table-striped\">\n",
       "  <thead>\n",
       "    <tr style=\"text-align: right;\">\n",
       "      <th></th>\n",
       "      <th>thumbnail</th>\n",
       "      <th>name</th>\n",
       "      <th>rating_mean_review</th>\n",
       "      <th>rating_mean_comments</th>\n",
       "      <th>fixed_rating</th>\n",
       "      <th>rank</th>\n",
       "      <th>yearpublished</th>\n",
       "    </tr>\n",
       "  </thead>\n",
       "  <tbody>\n",
       "    <tr>\n",
       "      <th>1</th>\n",
       "      <td><img src=\"https://cf.geekdo-images.com/E8qBDKe39KEFMo-LhTNDQQ__thumb/img/jFQaWbcjoUzxS7p76LsGzg4piQk=/fit-in/200x150/filters:strip_icc()/pic6333980.jpg\" width=\"124\" /></td>\n",
       "      <td><a href=\"https://boardgamegeek.com/boardgame/237179\">Weather Machine</a></td>\n",
       "      <td>8.416667</td>\n",
       "      <td>7.669155</td>\n",
       "      <td>8.076889</td>\n",
       "      <td>1</td>\n",
       "      <td>2022</td>\n",
       "    </tr>\n",
       "    <tr>\n",
       "      <th>2</th>\n",
       "      <td><img src=\"https://cf.geekdo-images.com/Q96PxRVbrDxS9_4ZPTJtHQ__thumb/img/hXnjkvD7KiLk2fon8tbvsXNtT_k=/fit-in/200x150/filters:strip_icc()/pic5941333.png\" width=\"124\" /></td>\n",
       "      <td><a href=\"https://boardgamegeek.com/boardgame/322708\">Descent: Legends of the Dark</a></td>\n",
       "      <td>7.018403</td>\n",
       "      <td>6.746627</td>\n",
       "      <td>7.007565</td>\n",
       "      <td>2</td>\n",
       "      <td>2021</td>\n",
       "    </tr>\n",
       "    <tr>\n",
       "      <th>3</th>\n",
       "      <td><img src=\"https://cf.geekdo-images.com/C9U2E51tkzLljewFEGQ74g__thumb/img/4KV3wj3NiJDgGTh3zmW0_8Ph3Zc=/fit-in/200x150/filters:strip_icc()/pic5837347.jpg\" width=\"124\" /></td>\n",
       "      <td><a href=\"https://boardgamegeek.com/boardgame/307002\">Regicide</a></td>\n",
       "      <td>8.094702</td>\n",
       "      <td>8.298829</td>\n",
       "      <td>8.119825</td>\n",
       "      <td>3</td>\n",
       "      <td>2020</td>\n",
       "    </tr>\n",
       "    <tr>\n",
       "      <th>4</th>\n",
       "      <td><img src=\"https://cf.geekdo-images.com/MjeJZfulbsM1DSV3DrGJYA__thumb/img/tVSFjSxYEcw7sKj3unIIQV8kxoc=/fit-in/200x150/filters:strip_icc()/pic5100691.jpg\" width=\"124\" /></td>\n",
       "      <td><a href=\"https://boardgamegeek.com/boardgame/295947\">Cascadia</a></td>\n",
       "      <td>8.003333</td>\n",
       "      <td>8.429702</td>\n",
       "      <td>8.078575</td>\n",
       "      <td>4</td>\n",
       "      <td>2021</td>\n",
       "    </tr>\n",
       "    <tr>\n",
       "      <th>5</th>\n",
       "      <td><img src=\"https://cf.geekdo-images.com/3P1cMmZ47nf_L1zLO-pKlg__thumb/img/TEMZ4S46PDoaI3X2enaNKKLthPE=/fit-in/200x150/filters:strip_icc()/pic5016682.jpg\" width=\"124\" /></td>\n",
       "      <td><a href=\"https://boardgamegeek.com/boardgame/292375\">The Great Wall</a></td>\n",
       "      <td>7.095238</td>\n",
       "      <td>8.453441</td>\n",
       "      <td>8.033996</td>\n",
       "      <td>5</td>\n",
       "      <td>2021</td>\n",
       "    </tr>\n",
       "  </tbody>\n",
       "</table>"
      ],
      "text/plain": [
       "<IPython.core.display.HTML object>"
      ]
     },
     "execution_count": 46,
     "metadata": {},
     "output_type": "execute_result"
    }
   ],
   "source": [
    "# TOP N RANK\n",
    "display_topn(by='rank', n=TOP_N)"
   ]
  },
  {
   "cell_type": "code",
   "execution_count": 47,
   "metadata": {},
   "outputs": [
    {
     "data": {
      "text/html": [
       "<table border=\"1\" class=\"dataframe table table-striped\">\n",
       "  <thead>\n",
       "    <tr style=\"text-align: right;\">\n",
       "      <th></th>\n",
       "      <th>thumbnail</th>\n",
       "      <th>name</th>\n",
       "      <th>rating_mean_review</th>\n",
       "      <th>rating_mean_comments</th>\n",
       "      <th>fixed_rating</th>\n",
       "      <th>rank</th>\n",
       "      <th>yearpublished</th>\n",
       "    </tr>\n",
       "  </thead>\n",
       "  <tbody>\n",
       "    <tr>\n",
       "      <th>1</th>\n",
       "      <td><img src=\"https://cf.geekdo-images.com/FcjzmytLMrUqh3lMqsNB2A__thumb/img/mOeGjKhtiqNF7pl1VYobtW5ki60=/fit-in/200x150/filters:strip_icc()/pic4778458.jpg\" width=\"124\" /></td>\n",
       "      <td><a href=\"https://boardgamegeek.com/boardgame/281515\">Company of Heroes</a></td>\n",
       "      <td>9.072152</td>\n",
       "      <td>8.275483</td>\n",
       "      <td>8.898620</td>\n",
       "      <td>21</td>\n",
       "      <td>2021</td>\n",
       "    </tr>\n",
       "    <tr>\n",
       "      <th>2</th>\n",
       "      <td><img src=\"https://cf.geekdo-images.com/9Upl9mDSHnO7d3xhJio6RQ__thumb/img/JmuR2GLHVSLrpfF_3skkngpQ3Vc=/fit-in/200x150/filters:strip_icc()/pic4936106.jpg\" width=\"124\" /></td>\n",
       "      <td><a href=\"https://boardgamegeek.com/boardgame/288080\">Dice Realms</a></td>\n",
       "      <td>9.028571</td>\n",
       "      <td>7.855359</td>\n",
       "      <td>8.368640</td>\n",
       "      <td>48</td>\n",
       "      <td>2021</td>\n",
       "    </tr>\n",
       "    <tr>\n",
       "      <th>3</th>\n",
       "      <td><img src=\"https://cf.geekdo-images.com/Oh3kHw6lweg6ru71Q16h2Q__thumb/img/e9XZdQe1ZcPpaq4Gy31OoWBB_V0=/fit-in/200x150/filters:strip_icc()/pic5235277.jpg\" width=\"124\" /></td>\n",
       "      <td><a href=\"https://boardgamegeek.com/boardgame/246900\">Eclipse: Second Dawn for the Galaxy</a></td>\n",
       "      <td>8.726876</td>\n",
       "      <td>7.962989</td>\n",
       "      <td>8.611374</td>\n",
       "      <td>49</td>\n",
       "      <td>2020</td>\n",
       "    </tr>\n",
       "    <tr>\n",
       "      <th>4</th>\n",
       "      <td><img src=\"https://cf.geekdo-images.com/x3zxjr-Vw5iU4yDPg70Jgw__thumb/img/o18rjEemoWaVru9Y2TyPwuIaRfE=/fit-in/200x150/filters:strip_icc()/pic3490053.jpg\" width=\"124\" /></td>\n",
       "      <td><a href=\"https://boardgamegeek.com/boardgame/224517\">Brass: Birmingham</a></td>\n",
       "      <td>8.677653</td>\n",
       "      <td>8.245405</td>\n",
       "      <td>8.639834</td>\n",
       "      <td>23</td>\n",
       "      <td>2018</td>\n",
       "    </tr>\n",
       "    <tr>\n",
       "      <th>5</th>\n",
       "      <td><img src=\"https://cf.geekdo-images.com/_HhIdavYW-hid20Iq3hhmg__thumb/img/OMkN_E5eyWrkID_cHCnQEbIixGM=/fit-in/200x150/filters:strip_icc()/pic5055631.jpg\" width=\"124\" /></td>\n",
       "      <td><a href=\"https://boardgamegeek.com/boardgame/291457\">Gloomhaven: Jaws of the Lion</a></td>\n",
       "      <td>8.547894</td>\n",
       "      <td>8.025931</td>\n",
       "      <td>8.500858</td>\n",
       "      <td>25</td>\n",
       "      <td>2020</td>\n",
       "    </tr>\n",
       "  </tbody>\n",
       "</table>"
      ],
      "text/plain": [
       "<IPython.core.display.HTML object>"
      ]
     },
     "execution_count": 47,
     "metadata": {},
     "output_type": "execute_result"
    }
   ],
   "source": [
    "# TOP N REVIEW RANK\n",
    "display_topn(by='rating_mean_review', n=TOP_N, ascending=False)"
   ]
  },
  {
   "cell_type": "code",
   "execution_count": 48,
   "metadata": {},
   "outputs": [
    {
     "data": {
      "text/html": [
       "<table border=\"1\" class=\"dataframe table table-striped\">\n",
       "  <thead>\n",
       "    <tr style=\"text-align: right;\">\n",
       "      <th></th>\n",
       "      <th>thumbnail</th>\n",
       "      <th>name</th>\n",
       "      <th>rating_mean_review</th>\n",
       "      <th>rating_mean_comments</th>\n",
       "      <th>fixed_rating</th>\n",
       "      <th>rank</th>\n",
       "      <th>yearpublished</th>\n",
       "    </tr>\n",
       "  </thead>\n",
       "  <tbody>\n",
       "    <tr>\n",
       "      <th>1</th>\n",
       "      <td><img src=\"https://cf.geekdo-images.com/FcjzmytLMrUqh3lMqsNB2A__thumb/img/mOeGjKhtiqNF7pl1VYobtW5ki60=/fit-in/200x150/filters:strip_icc()/pic4778458.jpg\" width=\"124\" /></td>\n",
       "      <td><a href=\"https://boardgamegeek.com/boardgame/281515\">Company of Heroes</a></td>\n",
       "      <td>9.072152</td>\n",
       "      <td>8.275483</td>\n",
       "      <td>8.898620</td>\n",
       "      <td>21</td>\n",
       "      <td>2021</td>\n",
       "    </tr>\n",
       "    <tr>\n",
       "      <th>2</th>\n",
       "      <td><img src=\"https://cf.geekdo-images.com/x3zxjr-Vw5iU4yDPg70Jgw__thumb/img/o18rjEemoWaVru9Y2TyPwuIaRfE=/fit-in/200x150/filters:strip_icc()/pic3490053.jpg\" width=\"124\" /></td>\n",
       "      <td><a href=\"https://boardgamegeek.com/boardgame/224517\">Brass: Birmingham</a></td>\n",
       "      <td>8.677653</td>\n",
       "      <td>8.245405</td>\n",
       "      <td>8.639834</td>\n",
       "      <td>23</td>\n",
       "      <td>2018</td>\n",
       "    </tr>\n",
       "    <tr>\n",
       "      <th>3</th>\n",
       "      <td><img src=\"https://cf.geekdo-images.com/Oh3kHw6lweg6ru71Q16h2Q__thumb/img/e9XZdQe1ZcPpaq4Gy31OoWBB_V0=/fit-in/200x150/filters:strip_icc()/pic5235277.jpg\" width=\"124\" /></td>\n",
       "      <td><a href=\"https://boardgamegeek.com/boardgame/246900\">Eclipse: Second Dawn for the Galaxy</a></td>\n",
       "      <td>8.726876</td>\n",
       "      <td>7.962989</td>\n",
       "      <td>8.611374</td>\n",
       "      <td>49</td>\n",
       "      <td>2020</td>\n",
       "    </tr>\n",
       "    <tr>\n",
       "      <th>4</th>\n",
       "      <td><img src=\"https://cf.geekdo-images.com/_HhIdavYW-hid20Iq3hhmg__thumb/img/OMkN_E5eyWrkID_cHCnQEbIixGM=/fit-in/200x150/filters:strip_icc()/pic5055631.jpg\" width=\"124\" /></td>\n",
       "      <td><a href=\"https://boardgamegeek.com/boardgame/291457\">Gloomhaven: Jaws of the Lion</a></td>\n",
       "      <td>8.547894</td>\n",
       "      <td>8.025931</td>\n",
       "      <td>8.500858</td>\n",
       "      <td>25</td>\n",
       "      <td>2020</td>\n",
       "    </tr>\n",
       "    <tr>\n",
       "      <th>5</th>\n",
       "      <td><img src=\"https://cf.geekdo-images.com/_Ppn5lssO5OaildSE-FgFA__thumb/img/lfEukJE0JsoZZObaF9K9YnFp62E=/fit-in/200x150/filters:strip_icc()/pic3727516.jpg\" width=\"124\" /></td>\n",
       "      <td><a href=\"https://boardgamegeek.com/boardgame/233078\">Twilight Imperium: Fourth Edition</a></td>\n",
       "      <td>8.514870</td>\n",
       "      <td>8.092160</td>\n",
       "      <td>8.486054</td>\n",
       "      <td>35</td>\n",
       "      <td>2017</td>\n",
       "    </tr>\n",
       "  </tbody>\n",
       "</table>"
      ],
      "text/plain": [
       "<IPython.core.display.HTML object>"
      ]
     },
     "execution_count": 48,
     "metadata": {},
     "output_type": "execute_result"
    }
   ],
   "source": [
    "# TOP N FIXED RANK\n",
    "display_topn(by='fixed_rating', n=TOP_N, ascending=False)"
   ]
  },
  {
   "cell_type": "code",
   "execution_count": 49,
   "metadata": {},
   "outputs": [],
   "source": [
    "# model.save('saved_model\\my_model')"
   ]
  },
  {
   "cell_type": "code",
   "execution_count": 50,
   "metadata": {},
   "outputs": [],
   "source": [
    "# saved_model = tf.keras.models.load_model('saved_model\\my_model')"
   ]
  },
  {
   "cell_type": "code",
   "execution_count": 51,
   "metadata": {},
   "outputs": [],
   "source": [
    "# some examples on \"long\" comments vs short comments"
   ]
  },
  {
   "cell_type": "code",
   "execution_count": 52,
   "metadata": {},
   "outputs": [],
   "source": [
    "not_rated_comments['comment_len'] = not_rated_comments['value'].str.len()\n",
    "some_long_comments = not_rated_comments.query(\"comment_len>100 and comment_len<300\").sample(frac=1).head(25).sort_values('rating')"
   ]
  },
  {
   "cell_type": "code",
   "execution_count": 53,
   "metadata": {},
   "outputs": [
    {
     "name": "stdout",
     "output_type": "stream",
     "text": [
      "\"Lighter deckbuilding than LotR. Looks good, but I'll want to see expansions. Second choice for major purchase\"\n",
      "score: 6.86\n",
      "\n",
      "\"Opened, played a couple of \"practice sessions\" to learn the rules. No permanent changes (stickers) made.\"\n",
      "score: 7.03\n",
      "\n",
      "\"In the Battlefield - I want to try, but oof that buy-in is rough and this does feel like a pretty event/legacy type of game which is hard to swallow\"\n",
      "score: 7.09\n",
      "\n",
      "\"+ La Tiranía de Cráneo Rojo + Los Más Buscados de la Galaxia + Venom, Capitán América, Viuda Negra, Hulk y Thor\"\n",
      "score: 7.17\n",
      "\n",
      "\"INTERESANTE. Tiene modo solitario, es muy complejo y algo extenso (90-120 minutos), pero la temática me atrae.\"\n",
      "score: 7.40\n",
      "\n",
      "\"has solo but bot AI is involved. end game is slow? multiplayer solitaire so more players=downtime? best as solo. end game VP tension missing cuz opaque? has campaign. Takes effort to learn.\"\n",
      "score: 7.63\n",
      "\n",
      "\"includes: Green Goblin Scenario Pack, Wrecking Crew Scenario pack, Captain America Hero Pack, Ms. Marvel Hero Pack, and Thor Hero Pack.\"\n",
      "score: 7.73\n",
      "\n",
      "\"Condition:    NIS (New In Shrink) Acquisition:  9/21/2020 Source:       GameNerdz MSRP:         $99.99 Paid Price:   $49.99  + Custom Box Insert\"\n",
      "score: 7.81\n",
      "\n",
      "\"One day, this will be mine.... :)  Ok, I finally broke and spent £90 for a brand new copy after hearing so much and seeing the broad smiles of other players. Now I just hope the reality is as good as the hype......\"\n",
      "score: 8.11\n",
      "\n",
      "\"Preordered elementgames feb 7, 2021. @ A9 address. Excited to have this in my collection. Gameplay looks great fun. Apt for non gaming groups.\"\n",
      "score: 8.23\n",
      "\n",
      "\"Maybe..not sure on this as a euro and me don’t usually get along. New Roxley version would be it though\"\n",
      "score: 8.34\n",
      "\n",
      "\"This will likely be a must have for the Frib. I've liked every game Vital Lacerda has put out. But... we will see. I'm waiting for more information.\"\n",
      "score: 8.55\n",
      "\n",
      "\"I also purchased the Gloomhaven Removable Sticker Set so I could avoid making permanent changes to the game components. This allows for more than one campaign to be played with the same set.\"\n",
      "score: 8.69\n",
      "\n",
      "\"zusammengesetzt aus: Bridge/Rommé/Canasta (doppeltes französisches Blatt) und ein paar Chips aus Sudoku\"\n",
      "score: 8.70\n",
      "\n",
      "\"Very thematic, surprisingly easy to learn (medium learning curve). Choices matter, timing is key, there isn't enough time. Battles have some chance, cards acquired thru rotary drafting. Many different strategies, very competitive. For the Glory!\"\n",
      "score: 9.00\n",
      "\n",
      "\"WTP. Great production value, only complaint is the insert doesn't seem to accommodate sleeved cards very well. Looking forward to playing.\"\n",
      "score: 9.04\n",
      "\n",
      "\"inkl. Viticulture: In Vino Veritas – Mehr Besucher beim Weinbau in der Toskana ‐ German edition (2016) Viticulture Metallmünzen\"\n",
      "score: 9.50\n",
      "\n",
      "\"Amazing production quality and art. Worker placement and tableau/engine building, two of my favourite mechanics.\"\n",
      "score: 9.58\n",
      "\n",
      "\"naujos kartos Carkasonas, 8.2 Carkasonas  tik gilesnis ir grazesnis, statai zemes ir gyvunus , misijos setus surinkti\"\n",
      "score: 9.70\n",
      "\n",
      "\"Everyone talks about this being great but I´ve never actually heard anything about what makes it so great so it would be nice to find out what the hype is about.\"\n",
      "score: 9.71\n",
      "\n",
      "\"Just advised by Aetherworks delivery in the next few days (Australia)    Edit:  Arrived, not opened yet.\"\n",
      "score: 9.93\n",
      "\n",
      "\"So far it's a very easy to get into game (think of baby's first LOTR LCG difficulty and make it easier) and the free flow nature of your turns is really nice.  I'm glad the game isn't clogged up with multiple phases that are really structured.\"\n",
      "score: 10.00\n",
      "\n",
      "\"Excellent game that keep its gametime promise (2h for *new* 5 players). Game material ils excellent quality too.\"\n",
      "score: 10.00\n",
      "\n",
      "\"Drafting End Game Bonuses Hand Management Hexagon Grid Income Set Collection Solo / Solitaire Game Take That Tile Placement Turn Order: Progressive Variable Player Powers \"\n",
      "score: 10.00\n",
      "\n",
      "\"Nemesis Core Box Nemesis: Lockdown Nemesis: Lockdown SG box Aftermath expansion Voidseeders expansion Carnomorphs expansion Untold stories #1 Untold stories #2 Medic character\"\n",
      "score: 10.00\n",
      "\n"
     ]
    }
   ],
   "source": [
    "some_long_comments.apply(lambda c: print(f\"\\\"{c['value']}\\\"\\nscore: {c['rating']:.2f}\\n\"), axis=1);"
   ]
  },
  {
   "cell_type": "markdown",
   "metadata": {},
   "source": [
    "## RANDOM FOREST - TEST"
   ]
  },
  {
   "cell_type": "code",
   "execution_count": 54,
   "metadata": {},
   "outputs": [],
   "source": [
    "# no support for Windows at the moment - waiting for it to test"
   ]
  },
  {
   "cell_type": "code",
   "execution_count": null,
   "metadata": {},
   "outputs": [],
   "source": []
  }
 ],
 "metadata": {
  "kernelspec": {
   "display_name": "tensorflow2",
   "language": "python",
   "name": "tensorflow2"
  },
  "language_info": {
   "codemirror_mode": {
    "name": "ipython",
    "version": 3
   },
   "file_extension": ".py",
   "mimetype": "text/x-python",
   "name": "python",
   "nbconvert_exporter": "python",
   "pygments_lexer": "ipython3",
   "version": "3.8.8"
  }
 },
 "nbformat": 4,
 "nbformat_minor": 4
}
