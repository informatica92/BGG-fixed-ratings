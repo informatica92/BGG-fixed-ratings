{
 "cells": [
  {
   "cell_type": "code",
   "execution_count": 1,
   "metadata": {},
   "outputs": [],
   "source": [
    "# ## BGG API\n",
    "# https://www.boardgamegeek.com/xmlapi2/thing?id=161599&comments=1\n",
    "# https://www.boardgamegeek.com/xmlapi2/hot?type=boardgame\n",
    "# ## NLP WITH TF\n",
    "# https://www.tensorflow.org/hub/tutorials/tf2_text_classification"
   ]
  },
  {
   "cell_type": "code",
   "execution_count": 2,
   "metadata": {},
   "outputs": [
    {
     "name": "stdout",
     "output_type": "stream",
     "text": [
      "Version:      2.4.0\n",
      "Eager mode:   True\n",
      "Hub version:  0.12.0\n",
      "GPU:          available\n"
     ]
    }
   ],
   "source": [
    "import tensorflow as tf\n",
    "import tensorflow_hub as hub\n",
    "import tensorflow_datasets as tfds\n",
    "from tensorflow.keras.wrappers.scikit_learn import KerasRegressor\n",
    "from sklearn.model_selection import cross_val_score, cross_validate, GridSearchCV\n",
    "from sklearn.model_selection import KFold\n",
    "\n",
    "import xml.etree.ElementTree as Xet\n",
    "import matplotlib.pyplot as plt\n",
    "import pandas as pd\n",
    "import numpy as np\n",
    "import requests\n",
    "from IPython.display import Image, HTML\n",
    "from datetime import datetime\n",
    "from langdetect import detect\n",
    "import re\n",
    "\n",
    "print(\"Version:     \", tf.__version__)\n",
    "print(\"Eager mode:  \", tf.executing_eagerly())\n",
    "print(\"Hub version: \", hub.__version__)\n",
    "print(\"GPU:         \", \"available\" if tf.config.list_physical_devices('GPU') else \"NOT available\")"
   ]
  },
  {
   "cell_type": "code",
   "execution_count": 3,
   "metadata": {},
   "outputs": [],
   "source": [
    "# tf.debugging.set_log_device_placement(True)"
   ]
  },
  {
   "cell_type": "code",
   "execution_count": 4,
   "metadata": {},
   "outputs": [],
   "source": [
    "GOOD_REVIEW_THRESHOLD = 7"
   ]
  },
  {
   "cell_type": "code",
   "execution_count": 5,
   "metadata": {},
   "outputs": [],
   "source": [
    "VAL_FRACTION = 0.25"
   ]
  },
  {
   "cell_type": "code",
   "execution_count": 6,
   "metadata": {},
   "outputs": [],
   "source": [
    "MIN_COMMENT_LEN = 25"
   ]
  },
  {
   "cell_type": "code",
   "execution_count": 7,
   "metadata": {},
   "outputs": [],
   "source": [
    "TOP_N = 5"
   ]
  },
  {
   "cell_type": "code",
   "execution_count": 8,
   "metadata": {},
   "outputs": [],
   "source": [
    "MODEL_NAME = \"https://tfhub.dev/google/nnlm-en-dim50/2\""
   ]
  },
  {
   "cell_type": "markdown",
   "metadata": {},
   "source": [
    "## GET DATA"
   ]
  },
  {
   "cell_type": "code",
   "execution_count": 9,
   "metadata": {},
   "outputs": [],
   "source": [
    "def get_hot_data():\n",
    "    hot = requests.get(\"https://www.boardgamegeek.com/xmlapi2/hot?type=boardgame\").content.decode()\n",
    "  \n",
    "    # Parsing the XML file\n",
    "    xmlparse = Xet.fromstring(hot)\n",
    "\n",
    "    hot_array = []\n",
    "    for item in xmlparse:\n",
    "        dict_element = {\n",
    "            \"id\": item.get(\"id\"),\n",
    "            \"rank\": item.get(\"rank\")\n",
    "        }\n",
    "        for option in item:\n",
    "            dict_element[option.tag] = option.get(\"value\")\n",
    "        hot_array.append(dict_element)\n",
    "    return hot_array"
   ]
  },
  {
   "cell_type": "code",
   "execution_count": 10,
   "metadata": {},
   "outputs": [],
   "source": [
    "def get_comments(id_array, verbose=1):\n",
    "    max_comments_per_page = 1\n",
    "    array_ids = [h['id'] for h in id_array]\n",
    "    ids = ','.join(array_ids)\n",
    "    page_size = 100\n",
    "    page_number = 0\n",
    "    comments_array = []\n",
    "\n",
    "    while max_comments_per_page > 0 and len(array_ids) > 0:\n",
    "        page_number += 1\n",
    "        if verbose>0 and page_number%verbose==0:\n",
    "            print(f\"page number = {page_number}\", end=\" \")\n",
    "        comments = requests.get(f\"https://www.boardgamegeek.com/xmlapi2/thing?id={ids}&comments=1&pagesize={page_size}&page={page_number}\").content.decode()\n",
    "\n",
    "        # Parsing the XML file\n",
    "        xmlparse = Xet.fromstring(comments)\n",
    "        comments_per_item = []\n",
    "        for item in xmlparse:        \n",
    "            for option in item:\n",
    "                if option.tag == 'comments':\n",
    "                    comments_per_page = 0\n",
    "                    for comment in option:\n",
    "                        comments_per_page += 1\n",
    "                        dict_element = {\n",
    "                            \"id\": item.get(\"id\"),\n",
    "                            \"username\": comment.get(\"username\"),\n",
    "                            \"rating\": comment.get(\"rating\"),\n",
    "                            \"value\": comment.get(\"value\")\n",
    "                        }\n",
    "                        comments_array.append(dict_element)\n",
    "                    if comments_per_page==0:\n",
    "                        array_ids.remove(item.get(\"id\"))\n",
    "                        ids = ','.join(array_ids)\n",
    "                    comments_per_item.append(comments_per_page)\n",
    "        max_comments_per_page = max(comments_per_item)\n",
    "        if verbose>0 and page_number%verbose==0:\n",
    "            print(f\"(max: {max(comments_per_item)}, len: {len(comments_per_item)})\")\n",
    "    comments_df = pd.DataFrame(comments_array)\n",
    "    print(f\"comments_df shape: {comments_df.shape}\")\n",
    "    return comments_df"
   ]
  },
  {
   "cell_type": "code",
   "execution_count": 11,
   "metadata": {},
   "outputs": [
    {
     "data": {
      "text/plain": [
       "[{'id': '223040',\n",
       "  'rank': '1',\n",
       "  'thumbnail': 'https://cf.geekdo-images.com/A7IOpPt-lHrMYsbRmxXWdQ__thumb/img/XoD3fXgApfY7-dfYyFeE6FVkbfY=/fit-in/200x150/filters:strip_icc()/pic6177962.jpg',\n",
       "  'name': 'Fantasy Realms',\n",
       "  'yearpublished': '2017'},\n",
       " {'id': '285192',\n",
       "  'rank': '2',\n",
       "  'thumbnail': 'https://cf.geekdo-images.com/oaD1ZQ3yGj6lacLdtqgdnQ__thumb/img/1mCz7HPEFMeqaqJHsDZwEUc9ftw=/fit-in/200x150/filters:strip_icc()/pic5558118.png',\n",
       "  'name': 'Destinies',\n",
       "  'yearpublished': '2021'}]"
      ]
     },
     "execution_count": 11,
     "metadata": {},
     "output_type": "execute_result"
    }
   ],
   "source": [
    "hot_array = get_hot_data()\n",
    "hot_array[:2]"
   ]
  },
  {
   "cell_type": "code",
   "execution_count": 12,
   "metadata": {},
   "outputs": [
    {
     "name": "stdout",
     "output_type": "stream",
     "text": [
      "reading dataframe from csv file...\n"
     ]
    },
    {
     "data": {
      "text/html": [
       "<div>\n",
       "<style scoped>\n",
       "    .dataframe tbody tr th:only-of-type {\n",
       "        vertical-align: middle;\n",
       "    }\n",
       "\n",
       "    .dataframe tbody tr th {\n",
       "        vertical-align: top;\n",
       "    }\n",
       "\n",
       "    .dataframe thead th {\n",
       "        text-align: right;\n",
       "    }\n",
       "</style>\n",
       "<table border=\"1\" class=\"dataframe\">\n",
       "  <thead>\n",
       "    <tr style=\"text-align: right;\">\n",
       "      <th></th>\n",
       "      <th>id</th>\n",
       "      <th>username</th>\n",
       "      <th>rating</th>\n",
       "      <th>value</th>\n",
       "    </tr>\n",
       "  </thead>\n",
       "  <tbody>\n",
       "    <tr>\n",
       "      <th>0</th>\n",
       "      <td>223040</td>\n",
       "      <td>4rch3r</td>\n",
       "      <td>8.5</td>\n",
       "      <td>\"301 ist maximale Punktzahl\"</td>\n",
       "    </tr>\n",
       "    <tr>\n",
       "      <th>1</th>\n",
       "      <td>223040</td>\n",
       "      <td>9zero21zero</td>\n",
       "      <td>8.0</td>\n",
       "      <td>Sleeved - Mayday 7077</td>\n",
       "    </tr>\n",
       "    <tr>\n",
       "      <th>2</th>\n",
       "      <td>223040</td>\n",
       "      <td>Abdul</td>\n",
       "      <td>6.0</td>\n",
       "      <td>Maths homework disguised as a game. It's fine ...</td>\n",
       "    </tr>\n",
       "    <tr>\n",
       "      <th>3</th>\n",
       "      <td>223040</td>\n",
       "      <td>absolutleo</td>\n",
       "      <td>8.0</td>\n",
       "      <td>My wife tries to veto a 10 - so 9 is a comprom...</td>\n",
       "    </tr>\n",
       "    <tr>\n",
       "      <th>4</th>\n",
       "      <td>223040</td>\n",
       "      <td>Adam78</td>\n",
       "      <td>9.0</td>\n",
       "      <td>This is great. One of the simplest rulesets go...</td>\n",
       "    </tr>\n",
       "    <tr>\n",
       "      <th>...</th>\n",
       "      <td>...</td>\n",
       "      <td>...</td>\n",
       "      <td>...</td>\n",
       "      <td>...</td>\n",
       "    </tr>\n",
       "    <tr>\n",
       "      <th>87330</th>\n",
       "      <td>167791</td>\n",
       "      <td>z_zadar</td>\n",
       "      <td>9.0</td>\n",
       "      <td>Some games are so much fun. Others can be a li...</td>\n",
       "    </tr>\n",
       "    <tr>\n",
       "      <th>87331</th>\n",
       "      <td>167791</td>\n",
       "      <td>_Czid_</td>\n",
       "      <td>8.0</td>\n",
       "      <td>Have played with Elysium and Prelude expansion...</td>\n",
       "    </tr>\n",
       "    <tr>\n",
       "      <th>87332</th>\n",
       "      <td>167791</td>\n",
       "      <td>_Marty_</td>\n",
       "      <td>9.5</td>\n",
       "      <td>Fantastic game. With so many cards that can ch...</td>\n",
       "    </tr>\n",
       "    <tr>\n",
       "      <th>87333</th>\n",
       "      <td>167791</td>\n",
       "      <td>_mun_</td>\n",
       "      <td>10.0</td>\n",
       "      <td>Nagyon izgalmas játék, jó a mechanizmusa. A sz...</td>\n",
       "    </tr>\n",
       "    <tr>\n",
       "      <th>87334</th>\n",
       "      <td>167791</td>\n",
       "      <td>_The_Inquiry_</td>\n",
       "      <td>5.0</td>\n",
       "      <td>Prior to 2020: 2 plays  TM is one of those gam...</td>\n",
       "    </tr>\n",
       "  </tbody>\n",
       "</table>\n",
       "<p>87335 rows × 4 columns</p>\n",
       "</div>"
      ],
      "text/plain": [
       "           id       username rating  \\\n",
       "0      223040         4rch3r    8.5   \n",
       "1      223040    9zero21zero    8.0   \n",
       "2      223040          Abdul    6.0   \n",
       "3      223040     absolutleo    8.0   \n",
       "4      223040         Adam78    9.0   \n",
       "...       ...            ...    ...   \n",
       "87330  167791        z_zadar    9.0   \n",
       "87331  167791         _Czid_    8.0   \n",
       "87332  167791        _Marty_    9.5   \n",
       "87333  167791          _mun_   10.0   \n",
       "87334  167791  _The_Inquiry_    5.0   \n",
       "\n",
       "                                                   value  \n",
       "0                           \"301 ist maximale Punktzahl\"  \n",
       "1                                  Sleeved - Mayday 7077  \n",
       "2      Maths homework disguised as a game. It's fine ...  \n",
       "3      My wife tries to veto a 10 - so 9 is a comprom...  \n",
       "4      This is great. One of the simplest rulesets go...  \n",
       "...                                                  ...  \n",
       "87330  Some games are so much fun. Others can be a li...  \n",
       "87331  Have played with Elysium and Prelude expansion...  \n",
       "87332  Fantastic game. With so many cards that can ch...  \n",
       "87333  Nagyon izgalmas játék, jó a mechanizmusa. A sz...  \n",
       "87334  Prior to 2020: 2 plays  TM is one of those gam...  \n",
       "\n",
       "[87335 rows x 4 columns]"
      ]
     },
     "execution_count": 12,
     "metadata": {},
     "output_type": "execute_result"
    }
   ],
   "source": [
    "try:\n",
    "    comments_df = pd.read_csv(f\"comments_{datetime.now().strftime('%Y%m%d')}.csv\")\n",
    "    comments_df['rating'] = comments_df.rating.fillna('N/A')\n",
    "    print(\"reading dataframe from csv file...\")\n",
    "except:\n",
    "    print(\"missing csv file, getting new data using API...\")\n",
    "    comments_df = get_comments(hot_array, verbose=10)\n",
    "    comments_df.to_csv(f\"comments_{datetime.now().strftime('%Y%m%d')}.csv\", index=False)\n",
    "comments_df"
   ]
  },
  {
   "cell_type": "markdown",
   "metadata": {},
   "source": [
    "## DATA CLEANING"
   ]
  },
  {
   "cell_type": "code",
   "execution_count": 13,
   "metadata": {},
   "outputs": [],
   "source": [
    "# probably we should keep all the ratings (no matters the len) and remove only the simple comments under a certain len  "
   ]
  },
  {
   "cell_type": "code",
   "execution_count": 14,
   "metadata": {},
   "outputs": [],
   "source": [
    "comments_df[\"value\"] = comments_df[\"value\"].astype(str)"
   ]
  },
  {
   "cell_type": "code",
   "execution_count": 15,
   "metadata": {},
   "outputs": [],
   "source": [
    "# REMOVE URLs FROM COMMENTS"
   ]
  },
  {
   "cell_type": "code",
   "execution_count": 16,
   "metadata": {},
   "outputs": [],
   "source": [
    "comments_df['value'] = [re.sub(r\"http\\S+\", \"\", v) for v in comments_df.value.values]"
   ]
  },
  {
   "cell_type": "code",
   "execution_count": 17,
   "metadata": {},
   "outputs": [],
   "source": [
    "# REMOVE SHORT COMMENTS\n",
    "def remove_short_comments(df: pd.DataFrame, min_len=25, method='unrated'):\n",
    "    if method not in ['unrated', 'rated', 'both']:\n",
    "        raise AttributeError(f\"method {method} not allowed\")\n",
    "    df_local = df.copy()    \n",
    "    df_local['comment_len'] = [len(re.findall(\"[A-Za-z]\", v)) for v in df_local['value'].values]\n",
    "    if method == 'rated':\n",
    "        df_local = df_local.query('(comment_len>@min_len and rating != \"N/A\") or rating == \"N/A\"')\n",
    "    elif method == 'unrated':\n",
    "        df_local = df_local.query('(comment_len>@min_len and rating == \"N/A\") or rating != \"N/A\"')\n",
    "    else:\n",
    "        df_local = df_local.query('comment_len>@min_len')\n",
    "    print(f\"removed {len(df)-len(df_local)} for 'remove_short_comments' - min len: {min_len} - method: {method}\")\n",
    "    return df_local.reset_index(drop=True)"
   ]
  },
  {
   "cell_type": "code",
   "execution_count": 18,
   "metadata": {},
   "outputs": [
    {
     "name": "stdout",
     "output_type": "stream",
     "text": [
      "removed 14849 for 'remove_short_comments' - min len: 25 - method: unrated\n"
     ]
    }
   ],
   "source": [
    "comments_df = remove_short_comments(comments_df, MIN_COMMENT_LEN)"
   ]
  },
  {
   "cell_type": "code",
   "execution_count": 19,
   "metadata": {},
   "outputs": [],
   "source": [
    "# REMOVE NON ENGLISH COMMENTS"
   ]
  },
  {
   "cell_type": "code",
   "execution_count": 20,
   "metadata": {},
   "outputs": [],
   "source": [
    "# !conda install -c conda-forge langdetect"
   ]
  },
  {
   "cell_type": "code",
   "execution_count": 21,
   "metadata": {},
   "outputs": [],
   "source": [
    "# def add_comments_lang(df: pd.DataFrame):\n",
    "#     df_local = df.copy()\n",
    "#     df_local['lang'] = df['value'].apply(detect)\n",
    "#     return df_local.reset_index(drop=True)"
   ]
  },
  {
   "cell_type": "code",
   "execution_count": 22,
   "metadata": {},
   "outputs": [],
   "source": [
    "# comments_df = add_comments_lang(comments_df)"
   ]
  },
  {
   "cell_type": "code",
   "execution_count": 23,
   "metadata": {},
   "outputs": [],
   "source": [
    "# comments_df = comments_df.query('lang == \"en\"')"
   ]
  },
  {
   "cell_type": "markdown",
   "metadata": {},
   "source": [
    "## SPLIT RATED AND NON-RATED COMMENTS"
   ]
  },
  {
   "cell_type": "code",
   "execution_count": 24,
   "metadata": {},
   "outputs": [
    {
     "data": {
      "text/plain": [
       "10.0      14298\n",
       "9.0       13476\n",
       "8.0       11305\n",
       "N/A        6273\n",
       "7.0        6239\n",
       "          ...  \n",
       "8.5711        1\n",
       "8.026         1\n",
       "7.34          1\n",
       "7.22          1\n",
       "8.5462        1\n",
       "Name: rating, Length: 515, dtype: int64"
      ]
     },
     "execution_count": 24,
     "metadata": {},
     "output_type": "execute_result"
    }
   ],
   "source": [
    "# count number of comments per rating (N/A included)\n",
    "comments_df.rating.value_counts()"
   ]
  },
  {
   "cell_type": "code",
   "execution_count": 25,
   "metadata": {},
   "outputs": [
    {
     "data": {
      "text/plain": [
       "(66213, 5)"
      ]
     },
     "execution_count": 25,
     "metadata": {},
     "output_type": "execute_result"
    }
   ],
   "source": [
    "# get rated comments only\n",
    "rated_comments = comments_df.query('rating != \"N/A\"')\n",
    "rated_comments.shape"
   ]
  },
  {
   "cell_type": "code",
   "execution_count": 26,
   "metadata": {},
   "outputs": [
    {
     "data": {
      "text/plain": [
       "(6273, 5)"
      ]
     },
     "execution_count": 26,
     "metadata": {},
     "output_type": "execute_result"
    }
   ],
   "source": [
    "# get non rated comments only\n",
    "not_rated_comments = comments_df.query('rating == \"N/A\"').reset_index(drop=True)\n",
    "not_rated_comments.shape"
   ]
  },
  {
   "cell_type": "markdown",
   "metadata": {},
   "source": [
    "## CREATE TRAINING AND VALIDATION DATA"
   ]
  },
  {
   "cell_type": "code",
   "execution_count": 27,
   "metadata": {},
   "outputs": [],
   "source": [
    "# use rated comments (reviews) to train the model"
   ]
  },
  {
   "cell_type": "code",
   "execution_count": 28,
   "metadata": {},
   "outputs": [],
   "source": [
    "rated_comments = rated_comments.sample(frac=1)"
   ]
  },
  {
   "cell_type": "code",
   "execution_count": 29,
   "metadata": {},
   "outputs": [],
   "source": [
    "# create training X and y\n",
    "train_examples = list(rated_comments.value)\n",
    "train_labels = list((rated_comments.rating.astype(float)>=GOOD_REVIEW_THRESHOLD).astype(int))"
   ]
  },
  {
   "cell_type": "code",
   "execution_count": 30,
   "metadata": {},
   "outputs": [
    {
     "name": "stdout",
     "output_type": "stream",
     "text": [
      "example of positive rating:\n"
     ]
    },
    {
     "data": {
      "text/plain": [
       "'A very good game; have played 15-20 rounds so far. Many things to like about it, great design work, very accessible, fun classes and storyline and just so much content. Main criticism is that it can occasionally feel repetitive and unlocking new classes takes ages.'"
      ]
     },
     "execution_count": 30,
     "metadata": {},
     "output_type": "execute_result"
    }
   ],
   "source": [
    "print(\"example of positive rating:\")\n",
    "train_examples[train_labels.index(1)]"
   ]
  },
  {
   "cell_type": "code",
   "execution_count": 31,
   "metadata": {},
   "outputs": [
    {
     "name": "stdout",
     "output_type": "stream",
     "text": [
      "example of negative rating:\n"
     ]
    },
    {
     "data": {
      "text/plain": [
       "'Ugh.'"
      ]
     },
     "execution_count": 31,
     "metadata": {},
     "output_type": "execute_result"
    }
   ],
   "source": [
    "print(\"example of negative rating:\")\n",
    "train_examples[train_labels.index(0)]"
   ]
  },
  {
   "cell_type": "code",
   "execution_count": 32,
   "metadata": {},
   "outputs": [],
   "source": [
    "# create validation dataset from training\n",
    "validation_len = int(len(train_examples)*VAL_FRACTION)\n",
    "validation_len\n",
    "\n",
    "x_val = train_examples[:validation_len]\n",
    "x_train = train_examples[validation_len:]\n",
    "\n",
    "y_val = train_labels[:validation_len]\n",
    "y_train = train_labels[validation_len:]"
   ]
  },
  {
   "cell_type": "markdown",
   "metadata": {},
   "source": [
    "## COMPOSE MODEL"
   ]
  },
  {
   "cell_type": "code",
   "execution_count": 33,
   "metadata": {},
   "outputs": [],
   "source": [
    "hub_layer = hub.KerasLayer(MODEL_NAME, input_shape=[], dtype=tf.string, trainable=True)"
   ]
  },
  {
   "cell_type": "code",
   "execution_count": 34,
   "metadata": {},
   "outputs": [],
   "source": [
    "def build_model(hub_layer, model_type='classifier', lstm=False, verbose=1):    \n",
    "    if model_type not in ('classifier', 'regressor'):\n",
    "        raise AttributeError(\"model type can only be 'classifier' or 'regressor'\")\n",
    "\n",
    "    if verbose:\n",
    "        print(\"example of layers processing:\")\n",
    "        print(hub_layer(train_examples[:2]))\n",
    "        print(\"\")\n",
    "\n",
    "    if model_type == 'classifier':\n",
    "        model = tf.keras.Sequential()\n",
    "        model.add(hub_layer)\n",
    "        if lstm:\n",
    "            raise NotImplementedError(\"lstm = True is not implemented\")\n",
    "        else:\n",
    "            model.add(tf.keras.layers.Dense(32, activation='relu'))\n",
    "        model.add(tf.keras.layers.Dense(1))\n",
    "        \n",
    "        if verbose:\n",
    "            print(\"model summary:\")\n",
    "            print(model.summary())\n",
    "        \n",
    "        model.compile(\n",
    "            optimizer='adam',\n",
    "            loss=tf.losses.BinaryCrossentropy(from_logits=True),\n",
    "            metrics=[tf.metrics.BinaryAccuracy(threshold=0.0, name='accuracy')]\n",
    "        )\n",
    "    else:\n",
    "        model = tf.keras.Sequential()\n",
    "        model.add(hub_layer)\n",
    "        if lstm:\n",
    "            raise NotImplementedError(\"lstm = True is not implemented\")\n",
    "        else:\n",
    "            model.add(tf.keras.layers.Dense(16, activation='relu', kernel_initializer='normal'))\n",
    "        model.add(tf.keras.layers.Dense(1, kernel_initializer='normal'))\n",
    "        \n",
    "        if verbose:\n",
    "            print(\"model summary:\")\n",
    "            print(model.summary())\n",
    "            \n",
    "        model.compile(\n",
    "            loss='mean_squared_error', \n",
    "            optimizer='adam',\n",
    "            metrics=[\"mean_squared_error\"]\n",
    "        )\n",
    "    \n",
    "    return model"
   ]
  },
  {
   "cell_type": "code",
   "execution_count": 35,
   "metadata": {},
   "outputs": [
    {
     "name": "stdout",
     "output_type": "stream",
     "text": [
      "example of layers processing:\n",
      "tf.Tensor(\n",
      "[[ 0.44940588  0.0392233   0.12570477  0.12628086 -0.28944543 -0.24331057\n",
      "   0.04581372  0.09764904 -0.63820213  0.26263833 -0.08129643  0.03593513\n",
      "   0.04239864  0.18048005  0.11105328 -0.11482974 -0.06889708 -0.19810632\n",
      "   0.4118458  -0.6092968   0.173298    0.05188132  0.2734784  -0.23131163\n",
      "  -0.32443732 -0.05695988 -0.33536434  0.21865268  0.39674956 -0.0845306\n",
      "  -0.23527354  0.05579401  0.3620569  -0.16335677  0.04496059  0.17780763\n",
      "   0.07113813  0.03025402  0.12799972 -0.5156334   0.08484859  0.22897412\n",
      "   0.02812916  0.2001601   0.13758834  0.04678855 -0.44756573 -0.49493092\n",
      "   0.21254307  0.26039007]\n",
      " [ 0.49485722  0.2603421   0.22383773  0.07723694  0.0058592  -0.264563\n",
      "   0.01199453 -0.2420164  -0.15686157  0.02290886 -0.2257932  -0.07430612\n",
      "  -0.3072595   0.13336685  0.28742835 -0.08196361 -0.04189561 -0.10682038\n",
      "   0.10860579 -0.27165678 -0.08408886 -0.04295188  0.25116816  0.0437814\n",
      "  -0.11781362 -0.13328937 -0.18274297  0.1550742   0.10509747 -0.2570631\n",
      "  -0.40154812  0.15356271  0.10373079 -0.14090362 -0.24880756  0.13014786\n",
      "   0.12628905 -0.00190968  0.09749999 -0.5790821   0.0287123   0.04848747\n",
      "  -0.39590594  0.17704782  0.33662018 -0.10420411 -0.03150365  0.14942421\n",
      "   0.10291053 -0.13055383]], shape=(2, 50), dtype=float32)\n",
      "\n",
      "model summary:\n",
      "Model: \"sequential\"\n",
      "_________________________________________________________________\n",
      "Layer (type)                 Output Shape              Param #   \n",
      "=================================================================\n",
      "keras_layer (KerasLayer)     (None, 50)                48190600  \n",
      "_________________________________________________________________\n",
      "dense (Dense)                (None, 32)                1632      \n",
      "_________________________________________________________________\n",
      "dense_1 (Dense)              (None, 1)                 33        \n",
      "=================================================================\n",
      "Total params: 48,192,265\n",
      "Trainable params: 48,192,265\n",
      "Non-trainable params: 0\n",
      "_________________________________________________________________\n",
      "None\n"
     ]
    }
   ],
   "source": [
    "model = build_model(hub_layer)"
   ]
  },
  {
   "cell_type": "markdown",
   "metadata": {},
   "source": [
    "## TRAINING MODEL "
   ]
  },
  {
   "cell_type": "code",
   "execution_count": 36,
   "metadata": {},
   "outputs": [
    {
     "name": "stdout",
     "output_type": "stream",
     "text": [
      "Epoch 1/40\n",
      "97/97 - 7s - loss: 0.5208 - accuracy: 0.7852 - val_loss: 0.4048 - val_accuracy: 0.8473\n",
      "Epoch 2/40\n",
      "97/97 - 5s - loss: 0.3363 - accuracy: 0.8676 - val_loss: 0.3242 - val_accuracy: 0.8708\n",
      "Epoch 3/40\n",
      "97/97 - 5s - loss: 0.2711 - accuracy: 0.8923 - val_loss: 0.3076 - val_accuracy: 0.8757\n",
      "Epoch 4/40\n",
      "97/97 - 5s - loss: 0.2330 - accuracy: 0.9078 - val_loss: 0.3094 - val_accuracy: 0.8755\n",
      "Epoch 5/40\n",
      "97/97 - 5s - loss: 0.2049 - accuracy: 0.9203 - val_loss: 0.3211 - val_accuracy: 0.8743\n",
      "Epoch 6/40\n",
      "97/97 - 5s - loss: 0.1827 - accuracy: 0.9296 - val_loss: 0.3398 - val_accuracy: 0.8682\n",
      "Epoch 7/40\n",
      "97/97 - 5s - loss: 0.1647 - accuracy: 0.9376 - val_loss: 0.3664 - val_accuracy: 0.8686\n",
      "Epoch 8/40\n",
      "97/97 - 5s - loss: 0.1500 - accuracy: 0.9443 - val_loss: 0.3887 - val_accuracy: 0.8641\n"
     ]
    }
   ],
   "source": [
    "history = model.fit(\n",
    "    x_train,\n",
    "    y_train,\n",
    "    epochs=40,\n",
    "    batch_size=512,\n",
    "    validation_data=(x_val, y_val),\n",
    "    verbose=2,\n",
    "    callbacks=[\n",
    "        tf.keras.callbacks.EarlyStopping(monitor='val_accuracy', patience=5, min_delta=0.001)\n",
    "    ]\n",
    ")"
   ]
  },
  {
   "cell_type": "code",
   "execution_count": 37,
   "metadata": {},
   "outputs": [
    {
     "data": {
      "text/plain": [
       "dict_keys(['loss', 'accuracy', 'val_loss', 'val_accuracy'])"
      ]
     },
     "execution_count": 37,
     "metadata": {},
     "output_type": "execute_result"
    }
   ],
   "source": [
    "history_dict = history.history\n",
    "history_dict.keys()"
   ]
  },
  {
   "cell_type": "code",
   "execution_count": 38,
   "metadata": {},
   "outputs": [],
   "source": [
    "acc = history_dict['accuracy']\n",
    "val_acc = history_dict['val_accuracy']\n",
    "loss = history_dict['loss']\n",
    "val_loss = history_dict['val_loss']"
   ]
  },
  {
   "cell_type": "code",
   "execution_count": 39,
   "metadata": {},
   "outputs": [],
   "source": [
    "epochs = range(1, len(acc) + 1) "
   ]
  },
  {
   "cell_type": "code",
   "execution_count": 40,
   "metadata": {},
   "outputs": [
    {
     "data": {
      "image/png": "[encoded data removed]",
      "text/plain": [
       "<Figure size 648x360 with 1 Axes>"
      ]
     },
     "metadata": {
      "needs_background": "light"
     },
     "output_type": "display_data"
    }
   ],
   "source": [
    "# \"bo\" is for \"blue dot\"\n",
    "plt.figure(figsize=(9, 5))\n",
    "plt.plot(epochs, loss, 'bo', label='Training loss')\n",
    "# b is for \"solid blue line\"\n",
    "plt.plot(epochs, val_loss, 'b', label='Validation loss')\n",
    "plt.title('Training and validation loss')\n",
    "plt.xlabel('Epochs')\n",
    "plt.ylabel('Loss')\n",
    "plt.grid(True)\n",
    "plt.legend()\n",
    "\n",
    "plt.show()"
   ]
  },
  {
   "cell_type": "code",
   "execution_count": 41,
   "metadata": {},
   "outputs": [
    {
     "data": {
      "image/png": "[encoded data removed]",
      "text/plain": [
       "<Figure size 648x360 with 1 Axes>"
      ]
     },
     "metadata": {
      "needs_background": "light"
     },
     "output_type": "display_data"
    }
   ],
   "source": [
    "plt.figure(figsize=(9, 5))\n",
    "plt.plot(epochs, acc, 'bo', label='Training acc')\n",
    "plt.plot(epochs, val_acc, 'b', label='Validation acc')\n",
    "plt.title('Training and validation accuracy')\n",
    "plt.xlabel('Epochs')\n",
    "plt.ylabel('Accuracy')\n",
    "plt.grid(True)\n",
    "plt.legend()\n",
    "\n",
    "plt.show()"
   ]
  },
  {
   "cell_type": "code",
   "execution_count": 42,
   "metadata": {},
   "outputs": [],
   "source": [
    "def print_my_examples(inputs, results, actual_values=None, limit=None):\n",
    "    if actual_values is None:\n",
    "        result_for_printing = [f'input:\\n\"{inputs[i]}\"\\nscore: {results[i][0]:.6f}' for i in range(len(inputs))]\n",
    "    else:\n",
    "        result_for_printing = [f'input:\\n\"{inputs[i]}\"\\nscore: {results[i][0]:.6f}\\nactual value:{actual_values[i]}' for i in range(len(inputs))]\n",
    "    if limit:\n",
    "        result_for_printing = result_for_printing[:limit]\n",
    "    print(*result_for_printing, sep='\\n\\n')"
   ]
  },
  {
   "cell_type": "code",
   "execution_count": 43,
   "metadata": {},
   "outputs": [
    {
     "name": "stdout",
     "output_type": "stream",
     "text": [
      "input:\n",
      "\"1-5p\"\n",
      "score: 0.941543\n",
      "actual value:1\n",
      "\n",
      "input:\n",
      "\"PLAYS: 8 (7 completed + 2 uncompleted) -17 races to pick up -more streamlined compared to TI3 -trading and political mechanics are improved -more flexibility to move your ships on the board  CONS: -balance issues: Jol-Nar (4wins) and FoS (3wins) seems OP compared to other races -action cards, agendas, objective cards feel to random -not enough variation in system tiles  CONCLUSION: overall improvement compared to TI3, but the balance issues left a sour taste\"\n",
      "score: 0.316993\n",
      "actual value:0\n",
      "\n",
      "input:\n",
      "\"Great first impression. I'm eager to try out this campaign/deck building and see where it goes.\"\n",
      "score: 0.993274\n",
      "actual value:1\n",
      "\n",
      "input:\n",
      "\"BEAUTIFUL BIRDS! (and also a game)\"\n",
      "score: 0.976186\n",
      "actual value:1\n",
      "\n",
      "input:\n",
      "\"Spirit Island easily became my top 10 games, and it is also my favorite cooperative game!   It requires players to think wisely, think harder, and think ahead to win the game. Each player's Spirit has its own strengths and weaknesses, therefore, we (Spirits) have to work together defending against invaders otherwise they would overrun us. Definitely replayability!\"\n",
      "score: 0.998581\n",
      "actual value:1\n",
      "\n",
      "input:\n",
      "\"[b]Own Exp:[/b] [url= Widow Hero Pack[/url] [url= America Hero Pack[/url] [url= Strange Hero Pack[/url] [url= Hero Pack[/url] [url= Marvel Hero Pack[/url] [url= Green Goblin Scenario Pack[/url] [url= Wrecking Crew Scenarion Pack[/url] [url= Galaxy's Most Wanted[/url] .\"\n",
      "score: 0.999925\n",
      "actual value:1\n",
      "\n",
      "input:\n",
      "\"Possibly my favourite euro. Theme is captured in a fantastic way. There is a lot of science in this game, but the mechanics are simple and fast. The game takes some time (for a euro), wich I like. We are terraforming Mars here, you shouldn´t do that in under an hour. Over 200 unique cards give you a great replayability. There are always new combinations to be found. I love the art and I think this game has excellent components (no idea why people are complaining about this) \"\n",
      "score: 0.999943\n",
      "actual value:1\n",
      "\n",
      "input:\n",
      "\"So far, so good.  Edit 7/16: I am loving this. It's such a well-designed, engaging game that feels like all the best parts of HeroQuest plus Final Fantasy Tactics. Can't wait to play more.   Edit 8/12: The more I play this, the more I love it. It's so engrossing that I just want to keep playing every time my friends and I start in on it.\"\n",
      "score: 0.999975\n",
      "actual value:1\n",
      "\n",
      "input:\n",
      "\"borchie dimi\"\n",
      "score: 0.980806\n",
      "actual value:1\n",
      "\n",
      "input:\n",
      "\"LP: 28-Feb-21\"\n",
      "score: 0.997490\n",
      "actual value:1\n"
     ]
    }
   ],
   "source": [
    "inputs = x_train[:10]\n",
    "outputs = y_train[:10]\n",
    "results = tf.sigmoid(model.predict(tf.constant(inputs)))\n",
    "print_my_examples(inputs, results, outputs)"
   ]
  },
  {
   "cell_type": "code",
   "execution_count": 44,
   "metadata": {},
   "outputs": [],
   "source": [
    "## APPLY MODEL ON NON-RATED COMMENTS"
   ]
  },
  {
   "cell_type": "code",
   "execution_count": 45,
   "metadata": {},
   "outputs": [
    {
     "name": "stdout",
     "output_type": "stream",
     "text": [
      "input:\n",
      "\"Black foam board insert. Replacement red tile, but kept the misprinted tile too. Moedas & Co. coins.\"\n",
      "score: 0.999826\n",
      "\n",
      "input:\n",
      "\"Sleeved - SP 70x110 + SP 57x90 + SP 45x70 Painted mini's (to do)\"\n",
      "score: 0.999924\n",
      "\n",
      "input:\n",
      "\"Picked up locally: Discovery Hut.\"\n",
      "score: 0.447554\n",
      "\n",
      "input:\n",
      "\"P1-4 B1-4 D3.56 T4 Opened, not sleeved RB read Ch1 Played Ch1 At Home\"\n",
      "score: 0.885652\n",
      "\n",
      "input:\n",
      "\"2-6 Players // Best 6 // 240-480 min //  Prophecy of Kings PENDING\"\n",
      "score: 0.996984\n",
      "\n",
      "input:\n",
      "\"Want 3rd edition plus expansions & goodies (incl. Kickstarter bonuses)\"\n",
      "score: 0.999623\n",
      "\n",
      "input:\n",
      "\"Includes: The Herb Witches Expansion Includes: Upgraded Geek Bits from BGG Store\"\n",
      "score: 0.999736\n",
      "\n",
      "input:\n",
      "\"No Rating. Haven't Played it.  I guess I was a different person over 4 years ago when I backed this. Since then my taste in games has  changed and I have several games that better fit the dungeon crawl niche for me. I'm sure it's an interesting game, just not for me. Oh well. SOLD!\"\n",
      "score: 0.082517\n",
      "\n",
      "input:\n",
      "\"I played it solo only (16 plays). The REALLY long setup time is deterrent to me.  Maybe it is better playing multiplayer  Sold it, sorry!\"\n",
      "score: 0.882677\n",
      "\n",
      "input:\n",
      "\"A pretty good worker placement game. There's some depth here and it's a great looking game. But for me it just misses a few beats to make it a great game.\"\n",
      "score: 0.996681\n",
      "\n",
      "input:\n",
      "\"STATUS: To Play Designer: Touko Tahkokallio Publisher: Lautapelit Player Count: 4/6 Best Notes: Kickstarter  \"\n",
      "score: 0.456822\n",
      "\n",
      "input:\n",
      "\"Notes: Played (Tabletop Simulator)\"\n",
      "score: 0.964182\n",
      "\n",
      "input:\n",
      "\"Great depth. Looking forward to expansions and added scenarios.\"\n",
      "score: 0.998230\n",
      "\n",
      "input:\n",
      "\"Kickstarted with expansion, journal, soundtrack and mat.\"\n",
      "score: 0.990779\n",
      "\n",
      "input:\n",
      "\"Amaxon Germany first purchase of 2021 :)\"\n",
      "score: 0.996487\n",
      "\n",
      "input:\n",
      "\"Kings Pledge Kickstarter Pledge\"\n",
      "score: 0.999995\n",
      "\n",
      "input:\n",
      "\"Slight bending on front of box - arrived like that. Otherwise played once but in like new condition\"\n",
      "score: 0.680591\n",
      "\n",
      "input:\n",
      "\"Spieldauer mittel,Beste Spieleranzahl 2-4 \"\n",
      "score: 0.984735\n",
      "\n",
      "input:\n",
      "\"2018 - 3.92 - #4 Aesthetics - 8 Components - 8 Concept - 9 Mechanisms - 8 Combined Total - 33/40\"\n",
      "score: 0.999373\n",
      "\n",
      "input:\n",
      "\"English Version Kickstarter October 2019\"\n",
      "score: 0.952313\n",
      "\n",
      "input:\n",
      "\"In hot contention with Castles of Burgundy for biggest imbalance of art quality to gameplay, TM is one of the ultimate engine-building games.   TM is best played with the drafting variant, but still plays well (and faster) when players simply select cards from what they draw. The specialized corporations should be played from game 1 forward, as they actually help players by giving them some direction and focus.   The boardplay and science theme are what really differentiate this game from many others. I love games centered around cards, but they can often feel abstracted out. Those two aspects really help drive the connection home.  I have most of the expansions and they give me what I'm looking for, which is generally more of the same with a dash of variety. If you're a fan of engine/tableau building, you owe it to yourself to play TM.\"\n",
      "score: 0.999855\n",
      "\n",
      "input:\n",
      "\"Good game.  Very nice components.\"\n",
      "score: 0.983074\n",
      "\n",
      "input:\n",
      "\"P: 1-4, T: ++  Watchlist 2020. Gloomhaven light; this may be the opportunity to get into the series. 25 scenario campaign, including 5 tutorial quests (reports are you only play ~20 of the quests). Spiral booklet used for maps/locations greatly simplifying setup.\"\n",
      "score: 0.999884\n",
      "\n",
      "input:\n",
      "\"Birthday present from K cos i missed on mars KS\"\n",
      "score: 0.998469\n",
      "\n",
      "input:\n",
      "\"Köpt från fb grupp - nytt inplastad. 2000kr. Inkl ks1 promo pack, 2 set extra tärningar, 4st player mats\"\n",
      "score: 0.942912\n"
     ]
    }
   ],
   "source": [
    "not_rated_comments = not_rated_comments.sample(frac=1)\n",
    "results = tf.sigmoid(model.predict(tf.constant(list(not_rated_comments.value.astype(str)))))\n",
    "print_my_examples(list(not_rated_comments.value), results, limit=25)"
   ]
  },
  {
   "cell_type": "markdown",
   "metadata": {},
   "source": [
    "## COMBINE RATED COMMENTS AND NOT-RATED COMMENTS WITH PREDICTED RATING"
   ]
  },
  {
   "cell_type": "code",
   "execution_count": 46,
   "metadata": {},
   "outputs": [
    {
     "name": "stdout",
     "output_type": "stream",
     "text": [
      "rated_comments_grouped: \n",
      "|        id |   rating_mean |   rating_count |\n",
      "|-----------|---------------|----------------|\n",
      "| 162886.00 |          8.35 |        3510.00 |\n",
      "| 167355.00 |          8.41 |        1792.00 |\n",
      "| 167791.00 |          8.21 |        8224.00 |\n",
      "| 169427.00 |          8.59 |         220.00 |\n",
      "| 169786.00 |          8.10 |        7336.00 |\n"
     ]
    }
   ],
   "source": [
    "rated_comments['rating'] = rated_comments.rating.astype(float)\n",
    "rated_comments_grouped = rated_comments.groupby('id').agg({'rating': ['mean', 'count']})\n",
    "rated_comments_grouped.columns = list(rated_comments_grouped.columns.map('_'.join))\n",
    "rated_comments_grouped = rated_comments_grouped.reset_index()\n",
    "print(\"rated_comments_grouped: \")\n",
    "print(rated_comments_grouped.head().to_markdown(index=False, floatfmt='.2f', tablefmt='github'))"
   ]
  },
  {
   "cell_type": "code",
   "execution_count": 47,
   "metadata": {},
   "outputs": [],
   "source": [
    "not_rated_comments['rating'] = [round(float(r[0])*10, 1) for r in results]"
   ]
  },
  {
   "cell_type": "code",
   "execution_count": 48,
   "metadata": {},
   "outputs": [
    {
     "name": "stdout",
     "output_type": "stream",
     "text": [
      "not_rated_comments_grouped: \n",
      "|        id |   rating_mean |   rating_count |\n",
      "|-----------|---------------|----------------|\n",
      "| 162886.00 |          8.68 |         309.00 |\n",
      "| 167355.00 |          9.06 |         217.00 |\n",
      "| 167791.00 |          8.88 |         438.00 |\n",
      "| 169427.00 |          9.00 |          71.00 |\n",
      "| 169786.00 |          8.78 |         590.00 |\n"
     ]
    }
   ],
   "source": [
    "not_rated_comments['rating'] = not_rated_comments.rating.astype(float)\n",
    "not_rated_comments_grouped = not_rated_comments.groupby('id').agg({'rating': ['mean', 'count']})\n",
    "not_rated_comments_grouped.columns = list(not_rated_comments_grouped.columns.map('_'.join))\n",
    "not_rated_comments_grouped = not_rated_comments_grouped.reset_index()\n",
    "print(\"not_rated_comments_grouped: \")\n",
    "print(not_rated_comments_grouped.head().to_markdown(index=False, floatfmt='.2f', tablefmt='github'))"
   ]
  },
  {
   "cell_type": "code",
   "execution_count": 49,
   "metadata": {},
   "outputs": [],
   "source": [
    "grouped = rated_comments_grouped.merge(not_rated_comments_grouped, on='id', suffixes=('_review', '_comments'), how='outer')\n",
    "grouped['id'] = grouped.id.astype(str)\n",
    "grouped = grouped.merge(pd.DataFrame(hot_array), on='id', how='right')\n",
    "grouped['rank'] = grouped['rank'].astype(int)\n",
    "grouped['url'] = grouped['id'].apply(lambda x: f\"https://boardgamegeek.com/boardgame/{x}\")\n",
    "grouped['fixed_rating'] = (grouped['rating_mean_review']*grouped['rating_count_review']+grouped['rating_mean_comments']*grouped['rating_count_comments']) /\\\n",
    "                            (grouped['rating_count_review']+grouped['rating_count_comments'])\n",
    "grouped['thumbnail'] = grouped['thumbnail'].apply(lambda x: f'<img src=\"{x}\" width=\"124\" />')\n",
    "grouped['name'] = grouped.apply(lambda x: f'<a href=\"{x[\"url\"]}\">{x[\"name\"]}</a>', axis=1)\n",
    "\n",
    "grouped = grouped[['thumbnail', 'name', 'rating_mean_review', 'rating_mean_comments', 'fixed_rating', 'rank', 'yearpublished']]"
   ]
  },
  {
   "cell_type": "code",
   "execution_count": 50,
   "metadata": {},
   "outputs": [
    {
     "data": {
      "text/html": [
       "<div>\n",
       "<style scoped>\n",
       "    .dataframe tbody tr th:only-of-type {\n",
       "        vertical-align: middle;\n",
       "    }\n",
       "\n",
       "    .dataframe tbody tr th {\n",
       "        vertical-align: top;\n",
       "    }\n",
       "\n",
       "    .dataframe thead th {\n",
       "        text-align: right;\n",
       "    }\n",
       "</style>\n",
       "<table border=\"1\" class=\"dataframe\">\n",
       "  <thead>\n",
       "    <tr style=\"text-align: right;\">\n",
       "      <th></th>\n",
       "      <th>thumbnail</th>\n",
       "      <th>name</th>\n",
       "      <th>rating_mean_review</th>\n",
       "      <th>rating_mean_comments</th>\n",
       "      <th>fixed_rating</th>\n",
       "      <th>rank</th>\n",
       "      <th>yearpublished</th>\n",
       "    </tr>\n",
       "  </thead>\n",
       "  <tbody>\n",
       "    <tr>\n",
       "      <th>0</th>\n",
       "      <td>&lt;img src=\"https://cf.geekdo-images.com/A7IOpPt...</td>\n",
       "      <td>&lt;a href=\"https://boardgamegeek.com/boardgame/2...</td>\n",
       "      <td>7.387889</td>\n",
       "      <td>8.942222</td>\n",
       "      <td>7.503310</td>\n",
       "      <td>1</td>\n",
       "      <td>2017</td>\n",
       "    </tr>\n",
       "    <tr>\n",
       "      <th>1</th>\n",
       "      <td>&lt;img src=\"https://cf.geekdo-images.com/oaD1ZQ3...</td>\n",
       "      <td>&lt;a href=\"https://boardgamegeek.com/boardgame/2...</td>\n",
       "      <td>8.198611</td>\n",
       "      <td>9.545161</td>\n",
       "      <td>8.603883</td>\n",
       "      <td>2</td>\n",
       "      <td>2021</td>\n",
       "    </tr>\n",
       "    <tr>\n",
       "      <th>2</th>\n",
       "      <td>&lt;img src=\"https://cf.geekdo-images.com/OcnPGq9...</td>\n",
       "      <td>&lt;a href=\"https://boardgamegeek.com/boardgame/3...</td>\n",
       "      <td>7.865000</td>\n",
       "      <td>8.690909</td>\n",
       "      <td>8.043137</td>\n",
       "      <td>3</td>\n",
       "      <td>2021</td>\n",
       "    </tr>\n",
       "    <tr>\n",
       "      <th>3</th>\n",
       "      <td>&lt;img src=\"https://cf.geekdo-images.com/cwUgf-f...</td>\n",
       "      <td>&lt;a href=\"https://boardgamegeek.com/boardgame/2...</td>\n",
       "      <td>6.358333</td>\n",
       "      <td>9.030841</td>\n",
       "      <td>7.585622</td>\n",
       "      <td>4</td>\n",
       "      <td>2021</td>\n",
       "    </tr>\n",
       "    <tr>\n",
       "      <th>4</th>\n",
       "      <td>&lt;img src=\"https://cf.geekdo-images.com/6GqH14T...</td>\n",
       "      <td>&lt;a href=\"https://boardgamegeek.com/boardgame/3...</td>\n",
       "      <td>7.890014</td>\n",
       "      <td>8.945833</td>\n",
       "      <td>7.985636</td>\n",
       "      <td>5</td>\n",
       "      <td>2020</td>\n",
       "    </tr>\n",
       "  </tbody>\n",
       "</table>\n",
       "</div>"
      ],
      "text/plain": [
       "                                           thumbnail  \\\n",
       "0  <img src=\"https://cf.geekdo-images.com/A7IOpPt...   \n",
       "1  <img src=\"https://cf.geekdo-images.com/oaD1ZQ3...   \n",
       "2  <img src=\"https://cf.geekdo-images.com/OcnPGq9...   \n",
       "3  <img src=\"https://cf.geekdo-images.com/cwUgf-f...   \n",
       "4  <img src=\"https://cf.geekdo-images.com/6GqH14T...   \n",
       "\n",
       "                                                name  rating_mean_review  \\\n",
       "0  <a href=\"https://boardgamegeek.com/boardgame/2...            7.387889   \n",
       "1  <a href=\"https://boardgamegeek.com/boardgame/2...            8.198611   \n",
       "2  <a href=\"https://boardgamegeek.com/boardgame/3...            7.865000   \n",
       "3  <a href=\"https://boardgamegeek.com/boardgame/2...            6.358333   \n",
       "4  <a href=\"https://boardgamegeek.com/boardgame/3...            7.890014   \n",
       "\n",
       "   rating_mean_comments  fixed_rating  rank yearpublished  \n",
       "0              8.942222      7.503310     1          2017  \n",
       "1              9.545161      8.603883     2          2021  \n",
       "2              8.690909      8.043137     3          2021  \n",
       "3              9.030841      7.585622     4          2021  \n",
       "4              8.945833      7.985636     5          2020  "
      ]
     },
     "execution_count": 50,
     "metadata": {},
     "output_type": "execute_result"
    }
   ],
   "source": [
    "grouped.head()"
   ]
  },
  {
   "cell_type": "code",
   "execution_count": 51,
   "metadata": {},
   "outputs": [],
   "source": [
    "def display_topn(by, n=5, ascending=True):\n",
    "    temp_df = grouped.sort_values(by, ascending=ascending).head(n)\n",
    "    temp_df.index=list(range(1, n+1))\n",
    "    return HTML(temp_df.to_html(escape=False, classes='table table-striped'))"
   ]
  },
  {
   "cell_type": "code",
   "execution_count": 52,
   "metadata": {},
   "outputs": [
    {
     "data": {
      "text/html": [
       "<table border=\"1\" class=\"dataframe table table-striped\">\n",
       "  <thead>\n",
       "    <tr style=\"text-align: right;\">\n",
       "      <th></th>\n",
       "      <th>thumbnail</th>\n",
       "      <th>name</th>\n",
       "      <th>rating_mean_review</th>\n",
       "      <th>rating_mean_comments</th>\n",
       "      <th>fixed_rating</th>\n",
       "      <th>rank</th>\n",
       "      <th>yearpublished</th>\n",
       "    </tr>\n",
       "  </thead>\n",
       "  <tbody>\n",
       "    <tr>\n",
       "      <th>1</th>\n",
       "      <td><img src=\"https://cf.geekdo-images.com/A7IOpPt-lHrMYsbRmxXWdQ__thumb/img/XoD3fXgApfY7-dfYyFeE6FVkbfY=/fit-in/200x150/filters:strip_icc()/pic6177962.jpg\" width=\"124\" /></td>\n",
       "      <td><a href=\"https://boardgamegeek.com/boardgame/223040\">Fantasy Realms</a></td>\n",
       "      <td>7.387889</td>\n",
       "      <td>8.942222</td>\n",
       "      <td>7.503310</td>\n",
       "      <td>1</td>\n",
       "      <td>2017</td>\n",
       "    </tr>\n",
       "    <tr>\n",
       "      <th>2</th>\n",
       "      <td><img src=\"https://cf.geekdo-images.com/oaD1ZQ3yGj6lacLdtqgdnQ__thumb/img/1mCz7HPEFMeqaqJHsDZwEUc9ftw=/fit-in/200x150/filters:strip_icc()/pic5558118.png\" width=\"124\" /></td>\n",
       "      <td><a href=\"https://boardgamegeek.com/boardgame/285192\">Destinies</a></td>\n",
       "      <td>8.198611</td>\n",
       "      <td>9.545161</td>\n",
       "      <td>8.603883</td>\n",
       "      <td>2</td>\n",
       "      <td>2021</td>\n",
       "    </tr>\n",
       "    <tr>\n",
       "      <th>3</th>\n",
       "      <td><img src=\"https://cf.geekdo-images.com/OcnPGq9DYBKJO_dJ0JVKNQ__thumb/img/22Z6VwHfOQRKaEIHdm0xiaHNua0=/fit-in/200x150/filters:strip_icc()/pic5986451.jpg\" width=\"124\" /></td>\n",
       "      <td><a href=\"https://boardgamegeek.com/boardgame/326494\">The Adventures of Robin Hood</a></td>\n",
       "      <td>7.865000</td>\n",
       "      <td>8.690909</td>\n",
       "      <td>8.043137</td>\n",
       "      <td>3</td>\n",
       "      <td>2021</td>\n",
       "    </tr>\n",
       "    <tr>\n",
       "      <th>4</th>\n",
       "      <td><img src=\"https://cf.geekdo-images.com/cwUgf-f-qwri8UHBUnifuQ__thumb/img/3o2Hc_N5mmfpOt8s9kP0ap8Jti8=/fit-in/200x150/filters:strip_icc()/pic5092291.png\" width=\"124\" /></td>\n",
       "      <td><a href=\"https://boardgamegeek.com/boardgame/295770\">Frosthaven</a></td>\n",
       "      <td>6.358333</td>\n",
       "      <td>9.030841</td>\n",
       "      <td>7.585622</td>\n",
       "      <td>4</td>\n",
       "      <td>2021</td>\n",
       "    </tr>\n",
       "    <tr>\n",
       "      <th>5</th>\n",
       "      <td><img src=\"https://cf.geekdo-images.com/6GqH14TJJhza86BX5HCLEQ__thumb/img/J8SVmGOJXZGxNjkT3xYNQU7Haxg=/fit-in/200x150/filters:strip_icc()/pic5674958.jpg\" width=\"124\" /></td>\n",
       "      <td><a href=\"https://boardgamegeek.com/boardgame/312484\">Lost Ruins of Arnak</a></td>\n",
       "      <td>7.890014</td>\n",
       "      <td>8.945833</td>\n",
       "      <td>7.985636</td>\n",
       "      <td>5</td>\n",
       "      <td>2020</td>\n",
       "    </tr>\n",
       "  </tbody>\n",
       "</table>"
      ],
      "text/plain": [
       "<IPython.core.display.HTML object>"
      ]
     },
     "execution_count": 52,
     "metadata": {},
     "output_type": "execute_result"
    }
   ],
   "source": [
    "# TOP N RANK\n",
    "display_topn(by='rank', n=TOP_N)"
   ]
  },
  {
   "cell_type": "code",
   "execution_count": 53,
   "metadata": {},
   "outputs": [
    {
     "data": {
      "text/html": [
       "<table border=\"1\" class=\"dataframe table table-striped\">\n",
       "  <thead>\n",
       "    <tr style=\"text-align: right;\">\n",
       "      <th></th>\n",
       "      <th>thumbnail</th>\n",
       "      <th>name</th>\n",
       "      <th>rating_mean_review</th>\n",
       "      <th>rating_mean_comments</th>\n",
       "      <th>fixed_rating</th>\n",
       "      <th>rank</th>\n",
       "      <th>yearpublished</th>\n",
       "    </tr>\n",
       "  </thead>\n",
       "  <tbody>\n",
       "    <tr>\n",
       "      <th>1</th>\n",
       "      <td><img src=\"https://cf.geekdo-images.com/nhWSmNJSTBAye6bxLa9x-Q__thumb/img/B4r1iyRl2Z2CcMrtBRQOKYwwngw=/fit-in/200x150/filters:strip_icc()/pic4779069.jpg\" width=\"124\" /></td>\n",
       "      <td><a href=\"https://boardgamegeek.com/boardgame/268012\">Chronicles of Drunagor: Age of Darkness</a></td>\n",
       "      <td>9.509091</td>\n",
       "      <td>8.644444</td>\n",
       "      <td>9.387500</td>\n",
       "      <td>39</td>\n",
       "      <td>2021</td>\n",
       "    </tr>\n",
       "    <tr>\n",
       "      <th>2</th>\n",
       "      <td><img src=\"https://cf.geekdo-images.com/tQVVSXcmYLvAoI28cp-2Tg__thumb/img/ahKWaUSws5zja4feB4VexkNV3Mc=/fit-in/200x150/filters:strip_icc()/pic5974859.jpg\" width=\"124\" /></td>\n",
       "      <td><a href=\"https://boardgamegeek.com/boardgame/331106\">The Witcher: Old World</a></td>\n",
       "      <td>9.208333</td>\n",
       "      <td>8.900000</td>\n",
       "      <td>9.076190</td>\n",
       "      <td>28</td>\n",
       "      <td>2022</td>\n",
       "    </tr>\n",
       "    <tr>\n",
       "      <th>3</th>\n",
       "      <td><img src=\"https://cf.geekdo-images.com/Oh3kHw6lweg6ru71Q16h2Q__thumb/img/e9XZdQe1ZcPpaq4Gy31OoWBB_V0=/fit-in/200x150/filters:strip_icc()/pic5235277.jpg\" width=\"124\" /></td>\n",
       "      <td><a href=\"https://boardgamegeek.com/boardgame/246900\">Eclipse: Second Dawn for the Galaxy</a></td>\n",
       "      <td>8.746143</td>\n",
       "      <td>8.536585</td>\n",
       "      <td>8.713161</td>\n",
       "      <td>43</td>\n",
       "      <td>2020</td>\n",
       "    </tr>\n",
       "    <tr>\n",
       "      <th>4</th>\n",
       "      <td><img src=\"https://cf.geekdo-images.com/x3zxjr-Vw5iU4yDPg70Jgw__thumb/img/o18rjEemoWaVru9Y2TyPwuIaRfE=/fit-in/200x150/filters:strip_icc()/pic3490053.jpg\" width=\"124\" /></td>\n",
       "      <td><a href=\"https://boardgamegeek.com/boardgame/224517\">Brass: Birmingham</a></td>\n",
       "      <td>8.688374</td>\n",
       "      <td>8.938428</td>\n",
       "      <td>8.711170</td>\n",
       "      <td>27</td>\n",
       "      <td>2018</td>\n",
       "    </tr>\n",
       "    <tr>\n",
       "      <th>5</th>\n",
       "      <td><img src=\"https://cf.geekdo-images.com/_HhIdavYW-hid20Iq3hhmg__thumb/img/OMkN_E5eyWrkID_cHCnQEbIixGM=/fit-in/200x150/filters:strip_icc()/pic5055631.jpg\" width=\"124\" /></td>\n",
       "      <td><a href=\"https://boardgamegeek.com/boardgame/291457\">Gloomhaven: Jaws of the Lion</a></td>\n",
       "      <td>8.599812</td>\n",
       "      <td>8.575188</td>\n",
       "      <td>8.597366</td>\n",
       "      <td>23</td>\n",
       "      <td>2020</td>\n",
       "    </tr>\n",
       "  </tbody>\n",
       "</table>"
      ],
      "text/plain": [
       "<IPython.core.display.HTML object>"
      ]
     },
     "execution_count": 53,
     "metadata": {},
     "output_type": "execute_result"
    }
   ],
   "source": [
    "# TOP N REVIEW RANK\n",
    "display_topn(by='rating_mean_review', n=TOP_N, ascending=False)"
   ]
  },
  {
   "cell_type": "code",
   "execution_count": 54,
   "metadata": {},
   "outputs": [
    {
     "data": {
      "text/html": [
       "<table border=\"1\" class=\"dataframe table table-striped\">\n",
       "  <thead>\n",
       "    <tr style=\"text-align: right;\">\n",
       "      <th></th>\n",
       "      <th>thumbnail</th>\n",
       "      <th>name</th>\n",
       "      <th>rating_mean_review</th>\n",
       "      <th>rating_mean_comments</th>\n",
       "      <th>fixed_rating</th>\n",
       "      <th>rank</th>\n",
       "      <th>yearpublished</th>\n",
       "    </tr>\n",
       "  </thead>\n",
       "  <tbody>\n",
       "    <tr>\n",
       "      <th>1</th>\n",
       "      <td><img src=\"https://cf.geekdo-images.com/nhWSmNJSTBAye6bxLa9x-Q__thumb/img/B4r1iyRl2Z2CcMrtBRQOKYwwngw=/fit-in/200x150/filters:strip_icc()/pic4779069.jpg\" width=\"124\" /></td>\n",
       "      <td><a href=\"https://boardgamegeek.com/boardgame/268012\">Chronicles of Drunagor: Age of Darkness</a></td>\n",
       "      <td>9.509091</td>\n",
       "      <td>8.644444</td>\n",
       "      <td>9.387500</td>\n",
       "      <td>39</td>\n",
       "      <td>2021</td>\n",
       "    </tr>\n",
       "    <tr>\n",
       "      <th>2</th>\n",
       "      <td><img src=\"https://cf.geekdo-images.com/SAKzHYVbMnhbSgYXngoJxQ__thumb/img/RF6aORNcMKL0lwnA8FlwplOKj4g=/fit-in/200x150/filters:strip_icc()/pic6109923.jpg\" width=\"124\" /></td>\n",
       "      <td><a href=\"https://boardgamegeek.com/boardgame/329551\">Mosaic: A Story of Civilization</a></td>\n",
       "      <td>7.000000</td>\n",
       "      <td>9.585714</td>\n",
       "      <td>9.262500</td>\n",
       "      <td>12</td>\n",
       "      <td>2022</td>\n",
       "    </tr>\n",
       "    <tr>\n",
       "      <th>3</th>\n",
       "      <td><img src=\"https://cf.geekdo-images.com/tQVVSXcmYLvAoI28cp-2Tg__thumb/img/ahKWaUSws5zja4feB4VexkNV3Mc=/fit-in/200x150/filters:strip_icc()/pic5974859.jpg\" width=\"124\" /></td>\n",
       "      <td><a href=\"https://boardgamegeek.com/boardgame/331106\">The Witcher: Old World</a></td>\n",
       "      <td>9.208333</td>\n",
       "      <td>8.900000</td>\n",
       "      <td>9.076190</td>\n",
       "      <td>28</td>\n",
       "      <td>2022</td>\n",
       "    </tr>\n",
       "    <tr>\n",
       "      <th>4</th>\n",
       "      <td><img src=\"https://cf.geekdo-images.com/ev-MNwAlzPdWq_grtnWLXw__thumb/img/1w0-OAtf3QsrZhqhOW-WKPWJjuk=/fit-in/200x150/filters:strip_icc()/pic6121947.jpg\" width=\"124\" /></td>\n",
       "      <td><a href=\"https://boardgamegeek.com/boardgame/297562\">Kemet: Blood and Sand</a></td>\n",
       "      <td>8.454545</td>\n",
       "      <td>8.925926</td>\n",
       "      <td>8.747126</td>\n",
       "      <td>25</td>\n",
       "      <td>2021</td>\n",
       "    </tr>\n",
       "    <tr>\n",
       "      <th>5</th>\n",
       "      <td><img src=\"https://cf.geekdo-images.com/-JD8JLncWYMes9Q6YIgorg__thumb/img/Ce6a64m5DxVae_ZXnAsrgdEnqBQ=/fit-in/200x150/filters:strip_icc()/pic6136538.jpg\" width=\"124\" /></td>\n",
       "      <td><a href=\"https://boardgamegeek.com/boardgame/277700\">Merchants Cove</a></td>\n",
       "      <td>8.287500</td>\n",
       "      <td>9.385714</td>\n",
       "      <td>8.722642</td>\n",
       "      <td>20</td>\n",
       "      <td>2021</td>\n",
       "    </tr>\n",
       "  </tbody>\n",
       "</table>"
      ],
      "text/plain": [
       "<IPython.core.display.HTML object>"
      ]
     },
     "execution_count": 54,
     "metadata": {},
     "output_type": "execute_result"
    }
   ],
   "source": [
    "# TOP N FIXED RANK\n",
    "display_topn(by='fixed_rating', n=TOP_N, ascending=False)"
   ]
  },
  {
   "cell_type": "code",
   "execution_count": 55,
   "metadata": {},
   "outputs": [],
   "source": [
    "# model.save('saved_model\\my_model')"
   ]
  },
  {
   "cell_type": "code",
   "execution_count": 56,
   "metadata": {},
   "outputs": [],
   "source": [
    "# saved_model = tf.keras.models.load_model('saved_model\\my_model')"
   ]
  },
  {
   "cell_type": "code",
   "execution_count": 57,
   "metadata": {},
   "outputs": [],
   "source": [
    "# some examples on \"long\" comments vs short comments"
   ]
  },
  {
   "cell_type": "code",
   "execution_count": 58,
   "metadata": {},
   "outputs": [
    {
     "name": "stdout",
     "output_type": "stream",
     "text": [
      "input:\n",
      "\"Played it with 2-player with and without an automata. Didn't enjoy it. The game looks stunning. The rules are ok, but the gameplay was not satisfying. I found it too hard to overlook the consequences of my actions.\"\n",
      "score: 0.067088\n",
      "\n",
      "input:\n",
      "\"Good mechanic but too heavy to learn, too heavy very too heavy to implement. It's too much chain attacks.\"\n",
      "score: 0.089461\n",
      "\n",
      "input:\n",
      "\"not played once. But game is known  one of best games i know of. Takes whole day to play a single match but it is worth it...\"\n",
      "score: 0.527495\n",
      "\n",
      "input:\n",
      "\"Co-op 1-4, best 2 Action retrieval, area majority/influence, hand management, modular board, set collection, simultaneous action selection, solo/solitaire game, variable player powers\"\n",
      "score: 0.744331\n",
      "\n",
      "input:\n",
      "\"EXPANSIONS: Prelude Venus Next Hellas & Elysium Colonies Turmoil  PROMOS: BGG User-Created Corporation Pack Turmoil Promo Cards Small Asteroid Card Penguins Card Self-Replicating Robots Card Snow Algae Card Atmo Collectors Card Jovian Lanterns Card Lunar Exports Card\"\n",
      "score: 0.756521\n",
      "\n",
      "input:\n",
      "\"KS: details will be follow... Now english language will shipping... German and other maybe by end of the year... Disappointing slow...  Maybe in 2020... update: arrived 18th of March 2020 in German...\"\n",
      "score: 0.767142\n",
      "\n",
      "input:\n",
      "\"Very good theme and storytelling. The card mechancis are very varied and diffrent missions can be very diffrent from each other. Feels like beeing and Arkham investigator.\"\n",
      "score: 0.777910\n",
      "\n",
      "input:\n",
      "\"I’ve enjoyed the Arkham Horror board game but it doesn’t  hit the table too frequently, but with such positive reviews on this game I feel like I must try it. I’m not huge into exclusively card games but am open minded to it\"\n",
      "score: 0.820637\n",
      "\n",
      "input:\n",
      "\"Sofar, I will skip. MM ist a terrific Artist, Andor was a juwel, but what I've seen so far does not please me. Dommage\"\n",
      "score: 0.934541\n",
      "\n",
      "input:\n",
      "\"Weight: 1.5 Categories: Children's Game Action Points Cooperative Game Dice Rolling Events Legacy Game Pick-up and Deliver Family Creatures: Zombies Mechanism: Legacy\"\n",
      "score: 0.942237\n",
      "\n",
      "input:\n",
      "\"Played at WellPlayed with Lukas, Marco,Lars and  Patrik. I was the faction with the lady and the eagle, arrived fourth of 5.\"\n",
      "score: 0.953051\n",
      "\n",
      "input:\n",
      "\"Played a friend's copy and really enjoyed it. It's difficult and has a large learning curve but we felt we got close enough that we might win next time.\"\n",
      "score: 0.971126\n",
      "\n",
      "input:\n",
      "\"I've been debating getting into the LCG genre for a while and have yet to pull the trigger. Based on the IP and gameplay a lot of folks have recommended this is the place to start.\"\n",
      "score: 0.984343\n",
      "\n",
      "input:\n",
      "\"Inklusive: - Basisspiel. - Ast und Tatze (1. Erweiterung). - VORBESTELLT: Zerklüftete Erde (2. Erweiterung). - Promo „Schlummernde Schlange“ (PRO 564). - Premium Holz-Token-Pack (SISL-TOK1).\"\n",
      "score: 0.984012\n",
      "\n",
      "input:\n",
      "\"Played through a bit solo to learn it. Seemed like a good story based game, similar story beats to near & far but with more continuity and character. \"\n",
      "score: 0.984845\n",
      "\n",
      "input:\n",
      "\"Includes Venus Next, Hellas & Elysium, Prelude, Colonies, BGG User-Created Corporation Pack, Turmoil, Turmoil promos, dual layer player boards, and 4 promo cards - Small Asteroid, Snow Algae, Self Replicating Robots, Penguins - all stored in base game box with Folded Space v2 insert.\"\n",
      "score: 0.984955\n",
      "\n",
      "input:\n",
      "\"+Both Broken Token Organizer, Box, Metal Coins, Realistic Resources, Invaders from mAfar, Rise of the Fenris, and the Wind Gambit\"\n",
      "score: 0.992263\n",
      "\n",
      "input:\n",
      "\"A fantastic gift from my BGG Secret Santa 2020. Currently working our way through the campaign. finding it a bit grindy/adminny so far but we're not very far though yet. \"\n",
      "score: 0.988478\n",
      "\n",
      "input:\n",
      "\"Erweiterungen: 2016 Invasoren aus der Ferne (Invaders from Afar) 2017 Kolosse der Lüfte (The Wind Gambit) 2018 Releasetermin deutsch? (The Rise of Fenris)\"\n",
      "score: 0.999472\n",
      "\n",
      "input:\n",
      "\"Sleeved with Arcane Tinmen - Medium - 54 cards  Sleeved with Arcane Tinmen Non Glare - Small - 42 cards  Sleeved with Ultimate Guard - Lost Cities: Premium (UGD010286, 60/pack) - (72 x 112mm) - 50 cards  + Board Extension\"\n",
      "score: 0.999998\n",
      "\n",
      "input:\n",
      "\"Base Game Undertow Age of Tyranny 40 Days in Daelore Splice & Dice  Tink Nugget Ghillie Gasket Lab Rats Dart Gearloc Child\"\n",
      "score: 0.999998\n",
      "\n",
      "input:\n",
      "\"highly-rated, difficult, pretty, co-op game. theme is protecting against european invaders using elemental powers. sounds amazing. $55-60\"\n",
      "score: 0.995404\n",
      "\n",
      "input:\n",
      "\"$$$$$$$$$ tech trees. loans. people have a lot of good things to say about it. good for 2 players. got really really good ratings.\"\n",
      "score: 0.999100\n",
      "\n",
      "input:\n",
      "\"I supported the game during the KickStarter campaign, and my name now is written on the personal copy of Isaac Childres. I have had the opportunity to talk with him through messages and he is a very kind person, and a brilliant designer: Gloomhaven is a masterpiece!\"\n",
      "score: 0.999510\n",
      "\n",
      "input:\n",
      "\"Really enjoyed this. Far simpler than I expected!  I also have the following expansions:  Rails to the North \"\n",
      "score: 0.998750\n"
     ]
    }
   ],
   "source": [
    "# some long comments\n",
    "not_rated_comments['comment_len'] = not_rated_comments['value'].str.len()\n",
    "some_long_comments = not_rated_comments.query(\"comment_len>100 and comment_len<300\").sample(frac=1).head(25).sort_values('rating')\n",
    "results = tf.sigmoid(model.predict(tf.constant(list(some_long_comments.value))))\n",
    "print_my_examples(list(some_long_comments.value), results)"
   ]
  },
  {
   "cell_type": "markdown",
   "metadata": {},
   "source": [
    "## REGRESSOR"
   ]
  },
  {
   "cell_type": "code",
   "execution_count": 60,
   "metadata": {},
   "outputs": [
    {
     "data": {
      "text/plain": [
       "GridSearchCV(cv=3,\n",
       "             estimator=<tensorflow.python.keras.wrappers.scikit_learn.KerasRegressor object at 0x00000294450CE520>,\n",
       "             param_grid={})"
      ]
     },
     "execution_count": 60,
     "metadata": {},
     "output_type": "execute_result"
    }
   ],
   "source": [
    "def build_regressor():\n",
    "    return build_model(hub_layer, model_type='regressor', verbose=0)\n",
    "\n",
    "\n",
    "estimator = KerasRegressor(build_fn=build_regressor, epochs=100, batch_size=512, verbose=0, validation_split=0.2)\n",
    "x_train_reg = np.array(list(rated_comments.value))\n",
    "y_train_reg = np.array(list(rated_comments.rating.astype(float)))\n",
    "\n",
    "clf = GridSearchCV(\n",
    "    estimator, \n",
    "    cv=3, \n",
    "    param_grid={}\n",
    ")\n",
    "clf.fit(x_train_reg, y_train_reg, callbacks=[tf.keras.callbacks.EarlyStopping(monitor='val_mean_squared_error', patience=5, min_delta=0.001)])"
   ]
  },
  {
   "cell_type": "code",
   "execution_count": 63,
   "metadata": {},
   "outputs": [
    {
     "data": {
      "text/plain": [
       "-2.427018880844116"
      ]
     },
     "execution_count": 63,
     "metadata": {},
     "output_type": "execute_result"
    }
   ],
   "source": [
    "clf.best_score_"
   ]
  },
  {
   "cell_type": "code",
   "execution_count": 64,
   "metadata": {},
   "outputs": [
    {
     "data": {
      "text/plain": [
       "{'mean_fit_time': array([101.68815486]),\n",
       " 'std_fit_time': array([4.36223421]),\n",
       " 'mean_score_time': array([0.69396965]),\n",
       " 'std_score_time': array([0.03970832]),\n",
       " 'params': [{}],\n",
       " 'split0_test_score': array([-2.8895402]),\n",
       " 'split1_test_score': array([-2.08987617]),\n",
       " 'split2_test_score': array([-2.30164027]),\n",
       " 'mean_test_score': array([-2.42701888]),\n",
       " 'std_test_score': array([0.33828537]),\n",
       " 'rank_test_score': array([1])}"
      ]
     },
     "execution_count": 64,
     "metadata": {},
     "output_type": "execute_result"
    }
   ],
   "source": [
    "clf.cv_results_"
   ]
  },
  {
   "cell_type": "code",
   "execution_count": 61,
   "metadata": {
    "collapsed": true,
    "jupyter": {
     "outputs_hidden": true
    }
   },
   "outputs": [
    {
     "name": "stdout",
     "output_type": "stream",
     "text": [
      "input: \n",
      "\"A very good game; have played 15-20 rounds so far. Many things to like about it, great design work, very accessible, fun classes and storyline and just so much content. Main criticism is that it can occasionally feel repetitive and unlocking new classes takes ages.\"\n",
      "score: 8.01\n",
      "actual: 8.00 \n",
      "\n",
      "input: \n",
      "\"The current apex of cooperative and solitaire games.  After hundreds of plays very few of the dozens of powers feel 'bad', all of the Spirits play incredibly differently. An incredible feat of thematic design, game-play balance, and challenge that rarely feels unfair.\"\n",
      "score: 9.92\n",
      "actual: 10.00 \n",
      "\n",
      "input: \n",
      "\"Ugh.\"\n",
      "score: 4.82\n",
      "actual: 1.00 \n",
      "\n",
      "input: \n",
      "\"First impression after a few plays (all 2P) is that this has the potential to sit on my top shelf for a long time. There's so much to like here, from the possibility of epic tile flip combos, to the way networking makes you bump up against other players, to the income and loan system.   Need to try it with more players, I think it would be even better and more dynamic.\"\n",
      "score: 9.14\n",
      "actual: 9.00 \n",
      "\n",
      "input: \n",
      "\"Brilliant design, well-thought-out mechanics, the perfect balance of randomness, and endless replayability. If you are looking for a heavy economic game - go for it! The rules are relatively difficult to learn, but after getting to know how do they work - you will quickly realize that this title is just a masterpiece. If you like simple games, avoid this title.\"\n",
      "score: 9.34\n",
      "actual: 10.00 \n",
      "\n",
      "input: \n",
      "\"Phenomenal Omni game with appeal for both experienced gamers and beginners. Packs a lot of punch in the short playtime and leaves you wanting more. Right up my alley.\"\n",
      "score: 9.93\n",
      "actual: 10.00 \n",
      "\n",
      "input: \n",
      "\"2 plays - very early into the campaign, but i'd say this is one of my more favourite 'look-in-a-book' campaign games so far.   7th continent was a massive flop for us and I very much like that this one is broken into 'chapters' rather than a random sprawl. \\  Will comment further once I've moved further into the campaign, but so far, so good!   Production is off-tap and I only backed the KS version at the base level.\"\n",
      "score: 8.90\n",
      "actual: 7.00 \n",
      "\n",
      "input: \n",
      "\"Solid game.  Definitely need to play with experienced gamers, as powers are so varied it is impossible to manage them all.  But, there is a lot of puzzle to unravel.  I'm only a couple games in, but I am enjoying learning the basics and can tell the number of combos and synergies is huge. Now to just start grabbing those expansions...\"\n",
      "score: 8.15\n",
      "actual: 9.00 \n",
      "\n",
      "input: \n",
      "\"One of the best board games I've played in my life.\"\n",
      "score: 9.83\n",
      "actual: 9.00 \n",
      "\n",
      "input: \n",
      "\"Live the base game quite a bit. Enjoyed the engine building, very satisfying feeling when you pull off several chained rewards. I can't wait to dig into the expansions as well.\"\n",
      "score: 8.09\n",
      "actual: 8.00 \n",
      "\n"
     ]
    }
   ],
   "source": [
    "inputs = x_train_reg[:10]\n",
    "outputs = y_train_reg[:10]\n",
    "results = clf.best_estimator_.predict(tf.constant(inputs), verbose=0)\n",
    "for i in range(len(inputs)):\n",
    "    print(f\"input: \\n\\\"{inputs[i]}\\\"\\nscore: {results[i]:.2f}\\nactual: {outputs[i]:.2f} \\n\")"
   ]
  },
  {
   "cell_type": "code",
   "execution_count": 62,
   "metadata": {},
   "outputs": [
    {
     "name": "stdout",
     "output_type": "stream",
     "text": [
      "input: \n",
      "\"Owned expansions: The Herb Witches\"\n",
      "score: 8.15\n",
      "\n",
      "input: \n",
      "\"The smaller version of a gamer's game. But still a gamer's game. Be prepared to read a lot of rules. They needed more than one rule book to fit all the rules.\"\n",
      "score: 8.97\n",
      "\n",
      "input: \n",
      "\"1-4 Players Worker placemement Engine/Tableau building\"\n",
      "score: 9.03\n",
      "\n",
      "input: \n",
      "\"Kickstarter Root: The Riverfolk Expansion (2018) Root: The Underworld Expansion (2020)  Asymmetrical play is a delight but a hindrance to quick explanation. Players need to be devoted.  Production is stellar and rule books are clear & concise.\"\n",
      "score: 8.44\n",
      "\n",
      "input: \n",
      "\"Res Arcana is a tableau/engine/deck building card game with resource conversion by Thomas Lehmann (Race for the Galaxy). Rather generic magician duelling theme. Involves upfront planning because your deck is known at set-up which makes the game very strategic.  What makes it special? * You play with a deck of only 8 cards the whole game (random or drafted) * Unlike other deck builders, you can plan your strategy to focus on right in the beginning of the game due to little randomness (somehow related to Agricola)  Pros: + Artwork + Components (solid cards, nice tray for resources, custom shaped wooden resources) + High set-up variability (with only 40x cards): 8 starting cards, 1 mage (10x), 1 monuments card (10x) and 5 different places of powers (10x) each game  + Places of power with special abilities (different each game) + Optional card drafting variant makes the game even more strategic + Nice escalation / engine building + First player token grants a victory point (the first to pass) + Very smooth gameplay but still very deep + Quick playing time + Good player aids (overview of iconography) + Well written rules  Neutrals: # Theme is rather generic # Language dependent: some text, but mostly icons # Quite strategical # Race to 10 victory points # Low randomness due to open information except for luck of the draw and initial shuffling # Planning your strategy at the beginning can take a while # Has some take-that elements (Elvish Bow and late game Dragons) # Best with 2 players. 3 players works well too  Cons: - Alternative wording for fire and water is not necessary  Similar games: * Race for the Galaxy (deck builder, resource management, more tactical, complex iconography) * New Frontiers (deck building game by Thomas Lehmann, \"Race for the Galaxy: The Board Game\")\"\n",
      "score: 8.45\n",
      "\n",
      "input: \n",
      "\"Got a played-twice pristine secondhand copy - huzzah! Yet to play though because we've got a backlog of games to get thru :P\"\n",
      "score: 7.85\n",
      "\n",
      "input: \n",
      "\"Looks neat, too expensive though for what you appear to get.\"\n",
      "score: 4.59\n",
      "\n",
      "input: \n",
      "\"New to my collection after wanting it since its release in 2017. A complex but fascinating puzzly God-game that I know I'm going to be obsessed with for a while. The theme is great -- who doesn't want to beat the shit out of 16th century explorers with elemental superpowers!?   The mechanics are a lot at first insofar as this is not a game you can tune in and out of as you go to get another bowl of crisps. The rule book is a hot mess too. It could be a lot clearer. The powers you are given, however, are amazing and chaining and combining them with those of your fellow players is extremely satisfying once you crack it. The concepts of gathering and pushing invaders around the board is also inspired. This being said, there is a lot going on here and the complexity comes from competing mechanics rather than accessible options.  This is clearly a game that genuinely rewards thinking several turns ahead with immensely satisfying outcomes once you have the rules down and can exploit some of the different systems in play. A modern classic for many. I'm undecided so far but I appreciate its depth and want to like it more than I probably do currently.\"\n",
      "score: 8.78\n",
      "\n",
      "input: \n",
      "\"[url= backerkit, PM done payé  [url= sleeves[/url]\"\n",
      "score: 8.68\n",
      "\n",
      "input: \n",
      "\"Classic engine builder, that seriously needs some component upgrades.\"\n",
      "score: 7.81\n",
      "\n",
      "-----------------------------------------------------------------------------------------------------\n",
      "input:\n",
      "\"Owned expansions: The Herb Witches\"\n",
      "score: 1.000000\n",
      "\n",
      "input:\n",
      "\"The smaller version of a gamer's game. But still a gamer's game. Be prepared to read a lot of rules. They needed more than one rule book to fit all the rules.\"\n",
      "score: 0.315977\n",
      "\n",
      "input:\n",
      "\"1-4 Players Worker placemement Engine/Tableau building\"\n",
      "score: 1.000000\n",
      "\n",
      "input:\n",
      "\"Kickstarter Root: The Riverfolk Expansion (2018) Root: The Underworld Expansion (2020)  Asymmetrical play is a delight but a hindrance to quick explanation. Players need to be devoted.  Production is stellar and rule books are clear & concise.\"\n",
      "score: 0.999997\n",
      "\n",
      "input:\n",
      "\"Res Arcana is a tableau/engine/deck building card game with resource conversion by Thomas Lehmann (Race for the Galaxy). Rather generic magician duelling theme. Involves upfront planning because your deck is known at set-up which makes the game very strategic.  What makes it special? * You play with a deck of only 8 cards the whole game (random or drafted) * Unlike other deck builders, you can plan your strategy to focus on right in the beginning of the game due to little randomness (somehow related to Agricola)  Pros: + Artwork + Components (solid cards, nice tray for resources, custom shaped wooden resources) + High set-up variability (with only 40x cards): 8 starting cards, 1 mage (10x), 1 monuments card (10x) and 5 different places of powers (10x) each game  + Places of power with special abilities (different each game) + Optional card drafting variant makes the game even more strategic + Nice escalation / engine building + First player token grants a victory point (the first to pass) + Very smooth gameplay but still very deep + Quick playing time + Good player aids (overview of iconography) + Well written rules  Neutrals: # Theme is rather generic # Language dependent: some text, but mostly icons # Quite strategical # Race to 10 victory points # Low randomness due to open information except for luck of the draw and initial shuffling # Planning your strategy at the beginning can take a while # Has some take-that elements (Elvish Bow and late game Dragons) # Best with 2 players. 3 players works well too  Cons: - Alternative wording for fire and water is not necessary  Similar games: * Race for the Galaxy (deck builder, resource management, more tactical, complex iconography) * New Frontiers (deck building game by Thomas Lehmann, \"Race for the Galaxy: The Board Game\")\"\n",
      "score: 0.990748\n",
      "\n",
      "input:\n",
      "\"Got a played-twice pristine secondhand copy - huzzah! Yet to play though because we've got a backlog of games to get thru :P\"\n",
      "score: 0.980264\n",
      "\n",
      "input:\n",
      "\"Looks neat, too expensive though for what you appear to get.\"\n",
      "score: 0.010012\n",
      "\n",
      "input:\n",
      "\"New to my collection after wanting it since its release in 2017. A complex but fascinating puzzly God-game that I know I'm going to be obsessed with for a while. The theme is great -- who doesn't want to beat the shit out of 16th century explorers with elemental superpowers!?   The mechanics are a lot at first insofar as this is not a game you can tune in and out of as you go to get another bowl of crisps. The rule book is a hot mess too. It could be a lot clearer. The powers you are given, however, are amazing and chaining and combining them with those of your fellow players is extremely satisfying once you crack it. The concepts of gathering and pushing invaders around the board is also inspired. This being said, there is a lot going on here and the complexity comes from competing mechanics rather than accessible options.  This is clearly a game that genuinely rewards thinking several turns ahead with immensely satisfying outcomes once you have the rules down and can exploit some of the different systems in play. A modern classic for many. I'm undecided so far but I appreciate its depth and want to like it more than I probably do currently.\"\n",
      "score: 0.036478\n",
      "\n",
      "input:\n",
      "\"[url= backerkit, PM done payé  [url= sleeves[/url]\"\n",
      "score: 0.999995\n",
      "\n",
      "input:\n",
      "\"Classic engine builder, that seriously needs some component upgrades.\"\n",
      "score: 0.577602\n"
     ]
    }
   ],
   "source": [
    "not_rated_comments = not_rated_comments.sample(frac=1)\n",
    "inputs = list(not_rated_comments.value.astype(str))[:10]\n",
    "results = clf.best_estimator_.predict(tf.constant(list(not_rated_comments.value.astype(str))), verbose=0)\n",
    "for i in range(len(inputs)):\n",
    "    print(f\"input: \\n\\\"{inputs[i]}\\\"\\nscore: {results[i]:.2f}\\n\")\n",
    "print(\"-----------------------------------------------------------------------------------------------------\")\n",
    "results = tf.sigmoid(model.predict(inputs))\n",
    "print_my_examples(inputs, results, limit=10)"
   ]
  },
  {
   "cell_type": "code",
   "execution_count": null,
   "metadata": {},
   "outputs": [],
   "source": []
  }
 ],
 "metadata": {
  "kernelspec": {
   "display_name": "tensorflow2",
   "language": "python",
   "name": "tensorflow2"
  },
  "language_info": {
   "codemirror_mode": {
    "name": "ipython",
    "version": 3
   },
   "file_extension": ".py",
   "mimetype": "text/x-python",
   "name": "python",
   "nbconvert_exporter": "python",
   "pygments_lexer": "ipython3",
   "version": "3.8.8"
  }
 },
 "nbformat": 4,
 "nbformat_minor": 4
}
