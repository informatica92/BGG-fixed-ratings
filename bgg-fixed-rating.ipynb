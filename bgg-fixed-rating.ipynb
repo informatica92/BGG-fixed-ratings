{
 "cells": [
  {
   "cell_type": "code",
   "execution_count": null,
   "metadata": {},
   "outputs": [],
   "source": [
    "# ## BGG API\n",
    "# https://www.boardgamegeek.com/xmlapi2/thing?id=161599&comments=1\n",
    "# https://www.boardgamegeek.com/xmlapi2/hot?type=boardgame\n",
    "# ## NLP WITH TF\n",
    "# https://www.tensorflow.org/hub/tutorials/tf2_text_classification"
   ]
  },
  {
   "cell_type": "code",
   "execution_count": 2,
   "metadata": {},
   "outputs": [
    {
     "name": "stdout",
     "output_type": "stream",
     "text": [
      "Version:      2.4.0\n",
      "Eager mode:   True\n",
      "Hub version:  0.12.0\n",
      "GPU:          available\n"
     ]
    }
   ],
   "source": [
    "import tensorflow as tf\n",
    "import tensorflow_hub as hub\n",
    "import tensorflow_datasets as tfds\n",
    "\n",
    "import xml.etree.ElementTree as Xet\n",
    "import matplotlib.pyplot as plt\n",
    "import pandas as pd\n",
    "import numpy as np\n",
    "import requests\n",
    "from IPython.display import Image, HTML\n",
    "\n",
    "from langdetect import detect\n",
    "import re\n",
    "\n",
    "print(\"Version:     \", tf.__version__)\n",
    "print(\"Eager mode:  \", tf.executing_eagerly())\n",
    "print(\"Hub version: \", hub.__version__)\n",
    "print(\"GPU:         \", \"available\" if tf.config.list_physical_devices('GPU') else \"NOT available\")"
   ]
  },
  {
   "cell_type": "code",
   "execution_count": 3,
   "metadata": {},
   "outputs": [],
   "source": [
    "# tf.debugging.set_log_device_placement(True)"
   ]
  },
  {
   "cell_type": "code",
   "execution_count": 4,
   "metadata": {},
   "outputs": [],
   "source": [
    "GOOD_REVIEW_THRESHOLD = 7"
   ]
  },
  {
   "cell_type": "code",
   "execution_count": 5,
   "metadata": {},
   "outputs": [],
   "source": [
    "VAL_FRACTION = 0.25"
   ]
  },
  {
   "cell_type": "code",
   "execution_count": 6,
   "metadata": {},
   "outputs": [],
   "source": [
    "MIN_COMMENT_LEN = 25"
   ]
  },
  {
   "cell_type": "code",
   "execution_count": 7,
   "metadata": {},
   "outputs": [],
   "source": [
    "TOP_N = 5"
   ]
  },
  {
   "cell_type": "markdown",
   "metadata": {},
   "source": [
    "## GET DATA"
   ]
  },
  {
   "cell_type": "code",
   "execution_count": 8,
   "metadata": {},
   "outputs": [],
   "source": [
    "def get_hot_data():\n",
    "    hot = requests.get(\"https://www.boardgamegeek.com/xmlapi2/hot?type=boardgame\").content.decode()\n",
    "  \n",
    "    # Parsing the XML file\n",
    "    xmlparse = Xet.fromstring(hot)\n",
    "\n",
    "    hot_array = []\n",
    "    for item in xmlparse:\n",
    "        dict_element = {\n",
    "            \"id\": item.get(\"id\"),\n",
    "            \"rank\": item.get(\"rank\")\n",
    "        }\n",
    "        for option in item:\n",
    "            dict_element[option.tag] = option.get(\"value\")\n",
    "        hot_array.append(dict_element)\n",
    "    return hot_array"
   ]
  },
  {
   "cell_type": "code",
   "execution_count": 9,
   "metadata": {},
   "outputs": [],
   "source": [
    "def get_comments(id_array, verbose=1):\n",
    "    max_comments_per_page = 1\n",
    "    array_ids = [h['id'] for h in id_array]\n",
    "    ids = ','.join(array_ids)\n",
    "    page_size = 100\n",
    "    page_number = 0\n",
    "    comments_array = []\n",
    "\n",
    "    while max_comments_per_page > 0 and len(array_ids) > 0:\n",
    "        page_number += 1\n",
    "        if verbose>0 and page_number%verbose==0:\n",
    "            print(f\"page number = {page_number}\", end=\" \")\n",
    "        comments = requests.get(f\"https://www.boardgamegeek.com/xmlapi2/thing?id={ids}&comments=1&pagesize={page_size}&page={page_number}\").content.decode()\n",
    "\n",
    "        # Parsing the XML file\n",
    "        xmlparse = Xet.fromstring(comments)\n",
    "        comments_per_item = []\n",
    "        for item in xmlparse:        \n",
    "            for option in item:\n",
    "                if option.tag == 'comments':\n",
    "                    comments_per_page = 0\n",
    "                    for comment in option:\n",
    "                        comments_per_page += 1\n",
    "                        dict_element = {\n",
    "                            \"id\": item.get(\"id\"),\n",
    "                            \"username\": comment.get(\"username\"),\n",
    "                            \"rating\": comment.get(\"rating\"),\n",
    "                            \"value\": comment.get(\"value\")\n",
    "                        }\n",
    "                        comments_array.append(dict_element)\n",
    "                    if comments_per_page==0:\n",
    "                        array_ids.remove(item.get(\"id\"))\n",
    "                        ids = ','.join(array_ids)\n",
    "                    comments_per_item.append(comments_per_page)\n",
    "        max_comments_per_page = max(comments_per_item)\n",
    "        if verbose>0 and page_number%verbose==0:\n",
    "            print(f\"(max: {max(comments_per_item)}, len: {len(comments_per_item)})\")\n",
    "    comments_df = pd.DataFrame(comments_array)\n",
    "    print(f\"comments_df shape: {comments_df.shape}\")\n",
    "    return comments_df"
   ]
  },
  {
   "cell_type": "code",
   "execution_count": 10,
   "metadata": {},
   "outputs": [
    {
     "data": {
      "text/plain": [
       "[{'id': '285192',\n",
       "  'rank': '1',\n",
       "  'thumbnail': 'https://cf.geekdo-images.com/oaD1ZQ3yGj6lacLdtqgdnQ__thumb/img/1mCz7HPEFMeqaqJHsDZwEUc9ftw=/fit-in/200x150/filters:strip_icc()/pic5558118.png',\n",
       "  'name': 'Destinies',\n",
       "  'yearpublished': '2021'},\n",
       " {'id': '255984',\n",
       "  'rank': '2',\n",
       "  'thumbnail': 'https://cf.geekdo-images.com/Zdt8l4oTBpFICsMyNof7Jg__thumb/img/71w4Tt3xOnuDEDTCG8ni63QUhVE=/fit-in/200x150/filters:strip_icc()/pic5975244.png',\n",
       "  'name': 'Sleeping Gods',\n",
       "  'yearpublished': '2021'}]"
      ]
     },
     "execution_count": 10,
     "metadata": {},
     "output_type": "execute_result"
    }
   ],
   "source": [
    "hot_array = get_hot_data()\n",
    "hot_array[:2]"
   ]
  },
  {
   "cell_type": "code",
   "execution_count": 11,
   "metadata": {},
   "outputs": [
    {
     "name": "stderr",
     "output_type": "stream",
     "text": [
      "<ipython-input-11-3c366f14faf3>:2: FutureWarning: The pandas.datetime class is deprecated and will be removed from pandas in a future version. Import from datetime module instead.\n",
      "  comments_df = pd.read_csv(f\"comments_{pd.datetime.now().strftime('%Y%m%d')}.csv\")\n"
     ]
    },
    {
     "name": "stdout",
     "output_type": "stream",
     "text": [
      "missing csv file, getting new data using API...\n",
      "page number = 10 (max: 100, len: 28)\n",
      "page number = 20 (max: 100, len: 18)\n",
      "page number = 30 (max: 100, len: 13)\n",
      "page number = 40 (max: 100, len: 9)\n",
      "page number = 50 (max: 100, len: 5)\n",
      "page number = 60 (max: 100, len: 5)\n",
      "page number = 70 (max: 100, len: 4)\n",
      "page number = 80 (max: 100, len: 4)\n",
      "page number = 90 (max: 100, len: 2)\n",
      "page number = 100 (max: 0, len: 1)\n",
      "comments_df shape: (102052, 4)\n"
     ]
    },
    {
     "name": "stderr",
     "output_type": "stream",
     "text": [
      "<ipython-input-11-3c366f14faf3>:8: FutureWarning: The pandas.datetime class is deprecated and will be removed from pandas in a future version. Import from datetime module instead.\n",
      "  comments_df.to_csv(f\"comments_{pd.datetime.now().strftime('%Y%m%d')}.csv\", index=False)\n"
     ]
    },
    {
     "data": {
      "text/html": [
       "<div>\n",
       "<style scoped>\n",
       "    .dataframe tbody tr th:only-of-type {\n",
       "        vertical-align: middle;\n",
       "    }\n",
       "\n",
       "    .dataframe tbody tr th {\n",
       "        vertical-align: top;\n",
       "    }\n",
       "\n",
       "    .dataframe thead th {\n",
       "        text-align: right;\n",
       "    }\n",
       "</style>\n",
       "<table border=\"1\" class=\"dataframe\">\n",
       "  <thead>\n",
       "    <tr style=\"text-align: right;\">\n",
       "      <th></th>\n",
       "      <th>id</th>\n",
       "      <th>username</th>\n",
       "      <th>rating</th>\n",
       "      <th>value</th>\n",
       "    </tr>\n",
       "  </thead>\n",
       "  <tbody>\n",
       "    <tr>\n",
       "      <th>0</th>\n",
       "      <td>285192</td>\n",
       "      <td>akikone</td>\n",
       "      <td>N/A</td>\n",
       "      <td>Late pledge — paid for</td>\n",
       "    </tr>\n",
       "    <tr>\n",
       "      <th>1</th>\n",
       "      <td>285192</td>\n",
       "      <td>Alarka</td>\n",
       "      <td>N/A</td>\n",
       "      <td>Players: 1-3 (1-2) Time: 90-150 Min Category: ...</td>\n",
       "    </tr>\n",
       "    <tr>\n",
       "      <th>2</th>\n",
       "      <td>285192</td>\n",
       "      <td>almi</td>\n",
       "      <td>N/A</td>\n",
       "      <td>2021-05</td>\n",
       "    </tr>\n",
       "    <tr>\n",
       "      <th>3</th>\n",
       "      <td>285192</td>\n",
       "      <td>AnneWit</td>\n",
       "      <td>9</td>\n",
       "      <td>On first play, this is another outstanding gam...</td>\n",
       "    </tr>\n",
       "    <tr>\n",
       "      <th>4</th>\n",
       "      <td>285192</td>\n",
       "      <td>ArmyLee</td>\n",
       "      <td>N/A</td>\n",
       "      <td>KS Ed. - Sea of Sand - Myth &amp; Folklore crossover</td>\n",
       "    </tr>\n",
       "    <tr>\n",
       "      <th>...</th>\n",
       "      <td>...</td>\n",
       "      <td>...</td>\n",
       "      <td>...</td>\n",
       "      <td>...</td>\n",
       "    </tr>\n",
       "    <tr>\n",
       "      <th>102047</th>\n",
       "      <td>167791</td>\n",
       "      <td>z_zadar</td>\n",
       "      <td>9</td>\n",
       "      <td>Some games are so much fun. Others can be a li...</td>\n",
       "    </tr>\n",
       "    <tr>\n",
       "      <th>102048</th>\n",
       "      <td>167791</td>\n",
       "      <td>_Czid_</td>\n",
       "      <td>8</td>\n",
       "      <td>Have played with Elysium and Prelude expansion...</td>\n",
       "    </tr>\n",
       "    <tr>\n",
       "      <th>102049</th>\n",
       "      <td>167791</td>\n",
       "      <td>_Marty_</td>\n",
       "      <td>9.5</td>\n",
       "      <td>Fantastic game. With so many cards that can ch...</td>\n",
       "    </tr>\n",
       "    <tr>\n",
       "      <th>102050</th>\n",
       "      <td>167791</td>\n",
       "      <td>_mun_</td>\n",
       "      <td>10</td>\n",
       "      <td>Nagyon izgalmas játék, jó a mechanizmusa. A sz...</td>\n",
       "    </tr>\n",
       "    <tr>\n",
       "      <th>102051</th>\n",
       "      <td>167791</td>\n",
       "      <td>_The_Inquiry_</td>\n",
       "      <td>5</td>\n",
       "      <td>Prior to 2020: 2 plays  TM is one of those gam...</td>\n",
       "    </tr>\n",
       "  </tbody>\n",
       "</table>\n",
       "<p>102052 rows × 4 columns</p>\n",
       "</div>"
      ],
      "text/plain": [
       "            id       username rating  \\\n",
       "0       285192        akikone    N/A   \n",
       "1       285192         Alarka    N/A   \n",
       "2       285192           almi    N/A   \n",
       "3       285192        AnneWit      9   \n",
       "4       285192        ArmyLee    N/A   \n",
       "...        ...            ...    ...   \n",
       "102047  167791        z_zadar      9   \n",
       "102048  167791         _Czid_      8   \n",
       "102049  167791        _Marty_    9.5   \n",
       "102050  167791          _mun_     10   \n",
       "102051  167791  _The_Inquiry_      5   \n",
       "\n",
       "                                                    value  \n",
       "0                                  Late pledge — paid for  \n",
       "1       Players: 1-3 (1-2) Time: 90-150 Min Category: ...  \n",
       "2                                                 2021-05  \n",
       "3       On first play, this is another outstanding gam...  \n",
       "4        KS Ed. - Sea of Sand - Myth & Folklore crossover  \n",
       "...                                                   ...  \n",
       "102047  Some games are so much fun. Others can be a li...  \n",
       "102048  Have played with Elysium and Prelude expansion...  \n",
       "102049  Fantastic game. With so many cards that can ch...  \n",
       "102050  Nagyon izgalmas játék, jó a mechanizmusa. A sz...  \n",
       "102051  Prior to 2020: 2 plays  TM is one of those gam...  \n",
       "\n",
       "[102052 rows x 4 columns]"
      ]
     },
     "execution_count": 11,
     "metadata": {},
     "output_type": "execute_result"
    }
   ],
   "source": [
    "try:\n",
    "    comments_df = pd.read_csv(f\"comments_{pd.datetime.now().strftime('%Y%m%d')}.csv\")\n",
    "    comments_df['rating'] = comments_df.rating.fillna('N/A')\n",
    "    print(\"reading dataframe from csv file...\")\n",
    "except:\n",
    "    print(\"missing csv file, getting new data using API...\")\n",
    "    comments_df = get_comments(hot_array, verbose=10)\n",
    "    comments_df.to_csv(f\"comments_{pd.datetime.now().strftime('%Y%m%d')}.csv\", index=False)\n",
    "comments_df"
   ]
  },
  {
   "cell_type": "markdown",
   "metadata": {},
   "source": [
    "## DATA CLEANING"
   ]
  },
  {
   "cell_type": "code",
   "execution_count": 12,
   "metadata": {},
   "outputs": [],
   "source": [
    "# probably we should keep all the ratings (no matters the len) and remove only the simple comments under a certain len  "
   ]
  },
  {
   "cell_type": "code",
   "execution_count": 13,
   "metadata": {},
   "outputs": [],
   "source": [
    "comments_df[\"value\"] = comments_df[\"value\"].astype(str)"
   ]
  },
  {
   "cell_type": "code",
   "execution_count": 14,
   "metadata": {},
   "outputs": [],
   "source": [
    "# REMOVE URLs FROM COMMENTS"
   ]
  },
  {
   "cell_type": "code",
   "execution_count": 15,
   "metadata": {},
   "outputs": [],
   "source": [
    "comments_df['value'] = [re.sub(r\"http\\S+\", \"\", v) for v in comments_df.value.values]"
   ]
  },
  {
   "cell_type": "code",
   "execution_count": 16,
   "metadata": {},
   "outputs": [],
   "source": [
    "# REMOVE SHORT COMMENTS\n",
    "def remove_short_comments(df: pd.DataFrame, min_len=25, method='unrated'):\n",
    "    if method not in ['unrated', 'rated', 'both']:\n",
    "        raise AttributeError(f\"method {method} not allowed\")\n",
    "    df_local = df.copy()    \n",
    "    df_local['comment_len'] = [len(re.findall(\"[A-Za-z]\", v)) for v in df_local['value'].values]\n",
    "    if method == 'rated':\n",
    "        df_local = df_local.query('(comment_len>@min_len and rating != \"N/A\") or rating == \"N/A\"')\n",
    "    elif method == 'unrated':\n",
    "        df_local = df_local.query('(comment_len>@min_len and rating == \"N/A\") or rating != \"N/A\"')\n",
    "    else:\n",
    "        df_local = df_local.query('comment_len>@min_len')\n",
    "    print(f\"removed {len(df)-len(df_local)} for 'remove_short_comments' - min len: {min_len} - method: {method}\")\n",
    "    return df_local.reset_index(drop=True)"
   ]
  },
  {
   "cell_type": "code",
   "execution_count": 17,
   "metadata": {},
   "outputs": [
    {
     "name": "stdout",
     "output_type": "stream",
     "text": [
      "removed 17333 for 'remove_short_comments' - min len: 25 - method: unrated\n"
     ]
    }
   ],
   "source": [
    "comments_df = remove_short_comments(comments_df, MIN_COMMENT_LEN)"
   ]
  },
  {
   "cell_type": "code",
   "execution_count": 18,
   "metadata": {},
   "outputs": [],
   "source": [
    "# REMOVE NON ENGLISH COMMENTS"
   ]
  },
  {
   "cell_type": "code",
   "execution_count": 19,
   "metadata": {},
   "outputs": [],
   "source": [
    "# !conda install -c conda-forge langdetect"
   ]
  },
  {
   "cell_type": "code",
   "execution_count": 20,
   "metadata": {},
   "outputs": [],
   "source": [
    "# def add_comments_lang(df: pd.DataFrame):\n",
    "#     df_local = df.copy()\n",
    "#     df_local['lang'] = df['value'].apply(detect)\n",
    "#     return df_local.reset_index(drop=True)"
   ]
  },
  {
   "cell_type": "code",
   "execution_count": 21,
   "metadata": {},
   "outputs": [],
   "source": [
    "# comments_df = add_comments_lang(comments_df)"
   ]
  },
  {
   "cell_type": "code",
   "execution_count": 22,
   "metadata": {},
   "outputs": [],
   "source": [
    "# comments_df = comments_df.query('lang == \"en\"')"
   ]
  },
  {
   "cell_type": "markdown",
   "metadata": {},
   "source": [
    "## SPLIT RATED AND NON-RATED COMMENTS"
   ]
  },
  {
   "cell_type": "code",
   "execution_count": 23,
   "metadata": {},
   "outputs": [
    {
     "data": {
      "text/plain": [
       "9          16056\n",
       "10         15995\n",
       "8          13961\n",
       "7           7441\n",
       "N/A         7072\n",
       "           ...  \n",
       "8.44667        1\n",
       "6.98667        1\n",
       "6.65333        1\n",
       "9.825          1\n",
       "8.27           1\n",
       "Name: rating, Length: 553, dtype: int64"
      ]
     },
     "execution_count": 23,
     "metadata": {},
     "output_type": "execute_result"
    }
   ],
   "source": [
    "# count number of comments per rating (N/A included)\n",
    "comments_df.rating.value_counts()"
   ]
  },
  {
   "cell_type": "code",
   "execution_count": 24,
   "metadata": {},
   "outputs": [
    {
     "data": {
      "text/plain": [
       "(77647, 5)"
      ]
     },
     "execution_count": 24,
     "metadata": {},
     "output_type": "execute_result"
    }
   ],
   "source": [
    "# get rated comments only\n",
    "rated_comments = comments_df.query('rating != \"N/A\"')\n",
    "rated_comments.shape"
   ]
  },
  {
   "cell_type": "code",
   "execution_count": 25,
   "metadata": {},
   "outputs": [
    {
     "data": {
      "text/plain": [
       "(7072, 5)"
      ]
     },
     "execution_count": 25,
     "metadata": {},
     "output_type": "execute_result"
    }
   ],
   "source": [
    "# get non rated comments only\n",
    "not_rated_comments = comments_df.query('rating == \"N/A\"').reset_index(drop=True)\n",
    "not_rated_comments.shape"
   ]
  },
  {
   "cell_type": "markdown",
   "metadata": {},
   "source": [
    "## CREATE TRAINING AND VALIDATION DATA"
   ]
  },
  {
   "cell_type": "code",
   "execution_count": 26,
   "metadata": {},
   "outputs": [],
   "source": [
    "# use rated comments (reviews) to train the model"
   ]
  },
  {
   "cell_type": "code",
   "execution_count": 27,
   "metadata": {},
   "outputs": [],
   "source": [
    "rated_comments = rated_comments.sample(frac=1)"
   ]
  },
  {
   "cell_type": "code",
   "execution_count": 28,
   "metadata": {},
   "outputs": [],
   "source": [
    "# create training X and y\n",
    "train_examples = list(rated_comments.value)\n",
    "train_labels = list((rated_comments.rating.astype(float)>=GOOD_REVIEW_THRESHOLD).astype(int))"
   ]
  },
  {
   "cell_type": "code",
   "execution_count": 29,
   "metadata": {},
   "outputs": [
    {
     "name": "stdout",
     "output_type": "stream",
     "text": [
      "example of positive rating:\n"
     ]
    },
    {
     "data": {
      "text/plain": [
       "'My 2020 Top 250:  #23 My 2019 Top 200:  #86'"
      ]
     },
     "execution_count": 29,
     "metadata": {},
     "output_type": "execute_result"
    }
   ],
   "source": [
    "print(\"example of positive rating:\")\n",
    "train_examples[train_labels.index(1)]"
   ]
  },
  {
   "cell_type": "code",
   "execution_count": 30,
   "metadata": {},
   "outputs": [
    {
     "name": "stdout",
     "output_type": "stream",
     "text": [
      "example of negative rating:\n"
     ]
    },
    {
     "data": {
      "text/plain": [
       "\"Terrible push-your-luck game which manages both to make the actual decisions uninteresting and to spin the whole thing out into a 45-minute affair.  Every copy I've ever seen featured aftermarket counter cases or replacement counters, but I just don't see why you'd spend even more on something featuring so little actual game.\""
      ]
     },
     "execution_count": 30,
     "metadata": {},
     "output_type": "execute_result"
    }
   ],
   "source": [
    "print(\"example of negative rating:\")\n",
    "train_examples[train_labels.index(0)]"
   ]
  },
  {
   "cell_type": "code",
   "execution_count": 31,
   "metadata": {},
   "outputs": [],
   "source": [
    "# create validation dataset from training\n",
    "validation_len = int(len(train_examples)*VAL_FRACTION)\n",
    "validation_len\n",
    "\n",
    "x_val = train_examples[:validation_len]\n",
    "x_train = train_examples[validation_len:]\n",
    "\n",
    "y_val = train_labels[:validation_len]\n",
    "y_train = train_labels[validation_len:]"
   ]
  },
  {
   "cell_type": "markdown",
   "metadata": {},
   "source": [
    "## COMPOSE MODEL"
   ]
  },
  {
   "cell_type": "code",
   "execution_count": 32,
   "metadata": {},
   "outputs": [
    {
     "data": {
      "text/plain": [
       "<tf.Tensor: shape=(2, 50), dtype=float32, numpy=\n",
       "array([[ 0.44209906,  0.2993775 , -0.07637273,  0.19602908,  0.14047399,\n",
       "        -0.1016691 , -0.06704082, -0.26954773,  0.11765848,  0.10844747,\n",
       "         0.24051423, -0.15819243,  0.01223402,  0.13370085,  0.09101659,\n",
       "         0.15834607,  0.36671764,  0.25994182, -0.08259887, -0.07417425,\n",
       "         0.09845543, -0.3633451 , -0.02093891, -0.4234558 ,  0.06137384,\n",
       "        -0.2364687 ,  0.07578513, -0.20988154,  0.03164916,  0.10815047,\n",
       "        -0.00059111,  0.30664214, -0.32600898, -0.03249546,  0.14534639,\n",
       "         0.10622073,  0.15137936,  0.09244717,  0.00474297, -0.05621345,\n",
       "         0.2272836 ,  0.05568608, -0.17953585, -0.31504336, -0.08914701,\n",
       "        -0.0046168 , -0.14104937,  0.14198749, -0.19340533, -0.12381095],\n",
       "       [ 0.53561515,  0.14632566, -0.01120261,  0.2998281 ,  0.03337622,\n",
       "        -0.00362039,  0.33201167, -0.16377984, -0.42830476, -0.03048737,\n",
       "         0.18221758, -0.02308366,  0.1010555 ,  0.09637434, -0.13039877,\n",
       "        -0.00500588, -0.18732053,  0.06720509,  0.2541275 , -0.5450731 ,\n",
       "        -0.06476537,  0.02954407,  0.19179273,  0.11281609, -0.31529883,\n",
       "        -0.07060965, -0.24149211,  0.07289595,  0.31727397, -0.11550856,\n",
       "        -0.28236783,  0.0992641 ,  0.1199877 , -0.03695878, -0.20047449,\n",
       "         0.2852735 ,  0.15141752, -0.24199876,  0.19897543, -0.35504848,\n",
       "         0.12496731,  0.05149893,  0.0609577 ,  0.04740587, -0.28614756,\n",
       "         0.04196092, -0.0914022 , -0.24024425, -0.13225774,  0.10296729]],\n",
       "      dtype=float32)>"
      ]
     },
     "execution_count": 32,
     "metadata": {},
     "output_type": "execute_result"
    }
   ],
   "source": [
    "model = \"https://tfhub.dev/google/nnlm-en-dim50/2\"\n",
    "hub_layer = hub.KerasLayer(model, input_shape=[], dtype=tf.string, trainable=True)\n",
    "hub_layer(train_examples[:2])"
   ]
  },
  {
   "cell_type": "code",
   "execution_count": 33,
   "metadata": {},
   "outputs": [
    {
     "name": "stdout",
     "output_type": "stream",
     "text": [
      "Model: \"sequential\"\n",
      "_________________________________________________________________\n",
      "Layer (type)                 Output Shape              Param #   \n",
      "=================================================================\n",
      "keras_layer (KerasLayer)     (None, 50)                48190600  \n",
      "_________________________________________________________________\n",
      "dense (Dense)                (None, 16)                816       \n",
      "_________________________________________________________________\n",
      "dense_1 (Dense)              (None, 1)                 17        \n",
      "=================================================================\n",
      "Total params: 48,191,433\n",
      "Trainable params: 48,191,433\n",
      "Non-trainable params: 0\n",
      "_________________________________________________________________\n"
     ]
    }
   ],
   "source": [
    "model = tf.keras.Sequential()\n",
    "model.add(hub_layer)\n",
    "model.add(tf.keras.layers.Dense(16, activation='relu'))\n",
    "model.add(tf.keras.layers.Dense(1))\n",
    "\n",
    "model.summary()"
   ]
  },
  {
   "cell_type": "code",
   "execution_count": 34,
   "metadata": {},
   "outputs": [],
   "source": [
    "model.compile(\n",
    "    optimizer='adam',\n",
    "    loss=tf.losses.BinaryCrossentropy(from_logits=True),\n",
    "    metrics=[tf.metrics.BinaryAccuracy(threshold=0.0, name='accuracy')]\n",
    ")"
   ]
  },
  {
   "cell_type": "markdown",
   "metadata": {},
   "source": [
    "## TRAINING MODEL "
   ]
  },
  {
   "cell_type": "code",
   "execution_count": 35,
   "metadata": {},
   "outputs": [
    {
     "name": "stdout",
     "output_type": "stream",
     "text": [
      "Epoch 1/40\n",
      "114/114 - 9s - loss: 0.4750 - accuracy: 0.8390 - val_loss: 0.3683 - val_accuracy: 0.8595\n",
      "Epoch 2/40\n",
      "114/114 - 6s - loss: 0.3160 - accuracy: 0.8750 - val_loss: 0.3146 - val_accuracy: 0.8801\n",
      "Epoch 3/40\n",
      "114/114 - 6s - loss: 0.2595 - accuracy: 0.8963 - val_loss: 0.3040 - val_accuracy: 0.8849\n",
      "Epoch 4/40\n",
      "114/114 - 6s - loss: 0.2253 - accuracy: 0.9124 - val_loss: 0.3095 - val_accuracy: 0.8810\n",
      "Epoch 5/40\n",
      "114/114 - 6s - loss: 0.2005 - accuracy: 0.9232 - val_loss: 0.3254 - val_accuracy: 0.8787\n",
      "Epoch 6/40\n",
      "114/114 - 6s - loss: 0.1812 - accuracy: 0.9306 - val_loss: 0.3382 - val_accuracy: 0.8741\n",
      "Epoch 7/40\n",
      "114/114 - 6s - loss: 0.1655 - accuracy: 0.9388 - val_loss: 0.3583 - val_accuracy: 0.8702\n",
      "Epoch 8/40\n",
      "114/114 - 6s - loss: 0.1525 - accuracy: 0.9444 - val_loss: 0.3811 - val_accuracy: 0.8703\n"
     ]
    }
   ],
   "source": [
    "history = model.fit(\n",
    "    x_train,\n",
    "    y_train,\n",
    "    epochs=40,\n",
    "    batch_size=512,\n",
    "    validation_data=(x_val, y_val),\n",
    "    verbose=2,\n",
    "    callbacks=[\n",
    "        tf.keras.callbacks.EarlyStopping(monitor='val_accuracy', patience=5, min_delta=0.001)\n",
    "    ]\n",
    ")"
   ]
  },
  {
   "cell_type": "code",
   "execution_count": 36,
   "metadata": {},
   "outputs": [
    {
     "data": {
      "text/plain": [
       "dict_keys(['loss', 'accuracy', 'val_loss', 'val_accuracy'])"
      ]
     },
     "execution_count": 36,
     "metadata": {},
     "output_type": "execute_result"
    }
   ],
   "source": [
    "history_dict = history.history\n",
    "history_dict.keys()"
   ]
  },
  {
   "cell_type": "code",
   "execution_count": 37,
   "metadata": {},
   "outputs": [],
   "source": [
    "acc = history_dict['accuracy']\n",
    "val_acc = history_dict['val_accuracy']\n",
    "loss = history_dict['loss']\n",
    "val_loss = history_dict['val_loss']"
   ]
  },
  {
   "cell_type": "code",
   "execution_count": 38,
   "metadata": {},
   "outputs": [],
   "source": [
    "epochs = range(1, len(acc) + 1) "
   ]
  },
  {
   "cell_type": "code",
   "execution_count": 39,
   "metadata": {},
   "outputs": [
    {
     "data": {
      "image/png": "[encoded data removed]",
      "text/plain": [
       "<Figure size 648x360 with 1 Axes>"
      ]
     },
     "metadata": {
      "needs_background": "light"
     },
     "output_type": "display_data"
    }
   ],
   "source": [
    "# \"bo\" is for \"blue dot\"\n",
    "plt.figure(figsize=(9, 5))\n",
    "plt.plot(epochs, loss, 'bo', label='Training loss')\n",
    "# b is for \"solid blue line\"\n",
    "plt.plot(epochs, val_loss, 'b', label='Validation loss')\n",
    "plt.title('Training and validation loss')\n",
    "plt.xlabel('Epochs')\n",
    "plt.ylabel('Loss')\n",
    "plt.grid(True)\n",
    "plt.legend()\n",
    "\n",
    "plt.show()"
   ]
  },
  {
   "cell_type": "code",
   "execution_count": 40,
   "metadata": {},
   "outputs": [
    {
     "data": {
      "image/png": "[encoded data removed]",
      "text/plain": [
       "<Figure size 648x360 with 1 Axes>"
      ]
     },
     "metadata": {
      "needs_background": "light"
     },
     "output_type": "display_data"
    }
   ],
   "source": [
    "plt.figure(figsize=(9, 5))\n",
    "plt.plot(epochs, acc, 'bo', label='Training acc')\n",
    "plt.plot(epochs, val_acc, 'b', label='Validation acc')\n",
    "plt.title('Training and validation accuracy')\n",
    "plt.xlabel('Epochs')\n",
    "plt.ylabel('Accuracy')\n",
    "plt.grid(True)\n",
    "plt.legend()\n",
    "\n",
    "plt.show()"
   ]
  },
  {
   "cell_type": "code",
   "execution_count": 41,
   "metadata": {},
   "outputs": [],
   "source": [
    "def print_my_examples(inputs, results, actual_values=None, limit=None):\n",
    "    if actual_values is None:\n",
    "        result_for_printing = [f'input:\\n\"{inputs[i]}\"\\nscore: {results[i][0]:.6f}' for i in range(len(inputs))]\n",
    "    else:\n",
    "        result_for_printing = [f'input:\\n\"{inputs[i]}\"\\nscore: {results[i][0]:.6f}\\nactual value:{actual_values[i]}' for i in range(len(inputs))]\n",
    "    if limit:\n",
    "        result_for_printing = result_for_printing[:limit]\n",
    "    print(*result_for_printing, sep='\\n\\n')"
   ]
  },
  {
   "cell_type": "code",
   "execution_count": 42,
   "metadata": {},
   "outputs": [
    {
     "name": "stdout",
     "output_type": "stream",
     "text": [
      "input:\n",
      "\"A 10 for designer choices\"\n",
      "score: 0.917489\n",
      "actual value:1\n",
      "\n",
      "input:\n",
      "\"Kickstarter\"\n",
      "score: 0.970106\n",
      "actual value:1\n",
      "\n",
      "input:\n",
      "\"Very enjoyable, even to the point where one can oversee the dice rolling and randomness. It is very satisfying to surround tiles that give you bonuses and to puzzle up a good end score.\"\n",
      "score: 0.993721\n",
      "actual value:1\n",
      "\n",
      "input:\n",
      "\"Jugamos Una\"\n",
      "score: 0.994138\n",
      "actual value:1\n",
      "\n",
      "input:\n",
      "\"1-4\"\n",
      "score: 0.991019\n",
      "actual value:1\n",
      "\n",
      "input:\n",
      "\"2nd Edition - Kickstarted!\"\n",
      "score: 0.839711\n",
      "actual value:1\n",
      "\n",
      "input:\n",
      "\"2020.5\"\n",
      "score: 0.495000\n",
      "actual value:1\n",
      "\n",
      "input:\n",
      "\"Our first play was rather long due to the rules overload. But nevertheless it was really cinematic and great fun. Everybody had a blast. I'm really excited to play it again soon and in different constellations.\"\n",
      "score: 0.979844\n",
      "actual value:1\n",
      "\n",
      "input:\n",
      "\"I enjoy this game a lot. Sometimes it can be frustrating (especially in 2 player games) as the cards you want/need don't come up, but that's life. The artwork is great and the randomness of each game keeps things interesting.\"\n",
      "score: 0.984798\n",
      "actual value:1\n",
      "\n",
      "input:\n",
      "\"2019.07.16 10200ft\"\n",
      "score: 0.974004\n",
      "actual value:1\n"
     ]
    }
   ],
   "source": [
    "inputs = x_train[:10]\n",
    "outputs = y_train[:10]\n",
    "results = tf.sigmoid(model.predict(tf.constant(inputs)))\n",
    "print_my_examples(inputs, results, outputs)"
   ]
  },
  {
   "cell_type": "code",
   "execution_count": 43,
   "metadata": {},
   "outputs": [],
   "source": [
    "## APPLY MODEL ON NON-RATED COMMENTS"
   ]
  },
  {
   "cell_type": "code",
   "execution_count": 44,
   "metadata": {},
   "outputs": [
    {
     "name": "stdout",
     "output_type": "stream",
     "text": [
      "input:\n",
      "\"Ordered it this morning (2/18/2021) from Amazon.\"\n",
      "score: 0.999530\n",
      "\n",
      "input:\n",
      "\"Kickstarter Project  -Backed: 04/29/2021 -Funded: 05/16/2021 -Pledge Level: Pledge $99 or more: \"Boarder Only the Boarder is capable of this steal!  Limited to the first 750 backers! Get the exclusive 60mm Project X mini for FREE.  INCLUDES: Stationfall base game Miniatures Expansion Project X mini\" -Payment: $99 -Projected Delivery: 12/2021 -Survey:  -Shipped:   Status: FUNDING\"\n",
      "score: 0.999298\n",
      "\n",
      "input:\n",
      "\"Bought damaged box for extra discount from Chris.\"\n",
      "score: 0.483236\n",
      "\n",
      "input:\n",
      "\"w/ Broken Token Insert, Legendary box, metal coins\"\n",
      "score: 0.995547\n",
      "\n",
      "input:\n",
      "\"Kan alleen met 3, maar moet heel goed zijn\"\n",
      "score: 0.799437\n",
      "\n",
      "input:\n",
      "\"Co-op davvero intrigante; tante miniature!\"\n",
      "score: 0.511261\n",
      "\n",
      "input:\n",
      "\"Niels Verwimp Nick Henderickx Erik Belmans Likang HUUUUUUUUU a.k.a cheaterboiiiii \"\n",
      "score: 0.997445\n",
      "\n",
      "input:\n",
      "\"(Expansion) -Neoprene Mat -Galactic Events -Terran Ships -Rift Cannon -Extra Dice -Plastic Stands -Minor Species\"\n",
      "score: 0.998785\n",
      "\n",
      "input:\n",
      "\"2020 - 4.62 - #146 Aesthetics - 8.5 Components - 8.5 Concept - 8.5 Mechanisms - 8.5 Combined Total - 34/40\"\n",
      "score: 0.960480\n",
      "\n",
      "input:\n",
      "\"Area Majority / Influence Dice Rolling\"\n",
      "score: 0.981181\n",
      "\n",
      "input:\n",
      "\"Sorted all main box w/ Broken Token insert.\"\n",
      "score: 0.994543\n",
      "\n",
      "input:\n",
      "\"I have played first six scenarios\"\n",
      "score: 0.993806\n",
      "\n",
      "input:\n",
      "\"was advised to me and great for solo play too. expansion not needed was told.\"\n",
      "score: 0.686798\n",
      "\n",
      "input:\n",
      "\"Bought it on sale but haven't had the confidence to start playing yet because I'm still overwhelmed by the sheer volume.\"\n",
      "score: 0.998944\n",
      "\n",
      "input:\n",
      "\"A great design that connects a splendid euro game with polyamino pieces. Definitely my favourite Uwe Rosenberg game.\"\n",
      "score: 0.999705\n",
      "\n",
      "input:\n",
      "\"kan singleplayer met riverfolk expansion \"\n",
      "score: 0.999740\n",
      "\n",
      "input:\n",
      "\"Includes the Prelude Expansion and some 3d printed tiles\"\n",
      "score: 0.999547\n",
      "\n",
      "input:\n",
      "\"The Dutch translation is of disappointing quality and is inconsistent between the board and several parts of the manual. Would always recommend the English version.\"\n",
      "score: 0.960136\n",
      "\n",
      "input:\n",
      "\"1-4P (best 2/3) - 30/120mn  with insert  Coop/grid movement/hand management/simultaneous action selection  EN \"\n",
      "score: 0.999834\n",
      "\n",
      "input:\n",
      "\"Bought, keen to try ASAP. Have heard only good things!\"\n",
      "score: 0.950596\n",
      "\n",
      "input:\n",
      "\"Want to try it, might consider in trade\"\n",
      "score: 0.808720\n",
      "\n",
      "input:\n",
      "\"+ Riverfolk, Underworld, Extra Packs\"\n",
      "score: 0.799704\n",
      "\n",
      "input:\n",
      "\"Card Game $48 Coolstuffinc.com Wait for second edition to come out in 2019? Worker placement  Fantasy animals 2 player:  \"\n",
      "score: 0.990775\n",
      "\n",
      "input:\n",
      "\"Blast. Well, it's certainly just as if not more interesting than Lancashire. Need more plays to rate though\"\n",
      "score: 0.976429\n",
      "\n",
      "input:\n",
      "\"Haven't played yet.  kickstarter version\"\n",
      "score: 0.999188\n"
     ]
    }
   ],
   "source": [
    "not_rated_comments = not_rated_comments.sample(frac=1)\n",
    "results = tf.sigmoid(model.predict(tf.constant(list(not_rated_comments.value.astype(str)))))\n",
    "print_my_examples(list(not_rated_comments.value), results, limit=25)"
   ]
  },
  {
   "cell_type": "markdown",
   "metadata": {},
   "source": [
    "## COMBINE RATED COMMENTS AND NOT-RATED COMMENTS WITH PREDICTED RATING"
   ]
  },
  {
   "cell_type": "code",
   "execution_count": 45,
   "metadata": {},
   "outputs": [
    {
     "name": "stdout",
     "output_type": "stream",
     "text": [
      "rated_comments_grouped: \n",
      "|     id |   rating_mean |   rating_count |\n",
      "|--------|---------------|----------------|\n",
      "| 162886 |          8.35 |           3508 |\n",
      "| 167355 |          8.41 |           1789 |\n",
      "| 167791 |          8.21 |           8220 |\n",
      "| 169427 |          8.59 |            219 |\n",
      "| 169786 |          8.10 |           7333 |\n"
     ]
    }
   ],
   "source": [
    "rated_comments['rating'] = rated_comments.rating.astype(float)\n",
    "rated_comments_grouped = rated_comments.groupby('id').agg({'rating': ['mean', 'count']})\n",
    "rated_comments_grouped.columns = list(rated_comments_grouped.columns.map('_'.join))\n",
    "rated_comments_grouped = rated_comments_grouped.reset_index()\n",
    "print(\"rated_comments_grouped: \")\n",
    "print(rated_comments_grouped.head().to_markdown(index=False, floatfmt='.2f', tablefmt='github'))"
   ]
  },
  {
   "cell_type": "code",
   "execution_count": 46,
   "metadata": {},
   "outputs": [],
   "source": [
    "not_rated_comments['rating'] = [round(float(r[0])*10, 1) for r in results]"
   ]
  },
  {
   "cell_type": "code",
   "execution_count": 47,
   "metadata": {},
   "outputs": [
    {
     "name": "stdout",
     "output_type": "stream",
     "text": [
      "not_rated_comments_grouped: \n",
      "|     id |   rating_mean |   rating_count |\n",
      "|--------|---------------|----------------|\n",
      "| 162886 |          8.85 |            308 |\n",
      "| 167355 |          9.15 |            217 |\n",
      "| 167791 |          8.95 |            438 |\n",
      "| 169427 |          8.94 |             71 |\n",
      "| 169786 |          8.80 |            588 |\n"
     ]
    }
   ],
   "source": [
    "not_rated_comments['rating'] = not_rated_comments.rating.astype(float)\n",
    "not_rated_comments_grouped = not_rated_comments.groupby('id').agg({'rating': ['mean', 'count']})\n",
    "not_rated_comments_grouped.columns = list(not_rated_comments_grouped.columns.map('_'.join))\n",
    "not_rated_comments_grouped = not_rated_comments_grouped.reset_index()\n",
    "print(\"not_rated_comments_grouped: \")\n",
    "print(not_rated_comments_grouped.head().to_markdown(index=False, floatfmt='.2f', tablefmt='github'))"
   ]
  },
  {
   "cell_type": "code",
   "execution_count": 48,
   "metadata": {},
   "outputs": [],
   "source": [
    "grouped = rated_comments_grouped.merge(not_rated_comments_grouped, on='id', suffixes=('_review', '_comments'), how='outer')\n",
    "grouped['id'] = grouped.id.astype(str)\n",
    "grouped = grouped.merge(pd.DataFrame(hot_array), on='id', how='right')\n",
    "grouped['rank'] = grouped['rank'].astype(int)\n",
    "grouped['url'] = grouped['id'].apply(lambda x: f\"https://boardgamegeek.com/boardgame/{x}\")\n",
    "grouped['fixed_rating'] = (grouped['rating_mean_review']*grouped['rating_count_review']+grouped['rating_mean_comments']*grouped['rating_count_comments']) /\\\n",
    "                            (grouped['rating_count_review']+grouped['rating_count_comments'])\n",
    "grouped['thumbnail'] = grouped['thumbnail'].apply(lambda x: f'<img src=\"{x}\" width=\"124\" />')\n",
    "grouped['name'] = grouped.apply(lambda x: f'<a href=\"{x[\"url\"]}\">{x[\"name\"]}</a>', axis=1)\n",
    "\n",
    "grouped = grouped[['thumbnail', 'name', 'rating_mean_review', 'rating_mean_comments', 'fixed_rating', 'rank', 'yearpublished']]"
   ]
  },
  {
   "cell_type": "code",
   "execution_count": 49,
   "metadata": {},
   "outputs": [
    {
     "data": {
      "text/html": [
       "<div>\n",
       "<style scoped>\n",
       "    .dataframe tbody tr th:only-of-type {\n",
       "        vertical-align: middle;\n",
       "    }\n",
       "\n",
       "    .dataframe tbody tr th {\n",
       "        vertical-align: top;\n",
       "    }\n",
       "\n",
       "    .dataframe thead th {\n",
       "        text-align: right;\n",
       "    }\n",
       "</style>\n",
       "<table border=\"1\" class=\"dataframe\">\n",
       "  <thead>\n",
       "    <tr style=\"text-align: right;\">\n",
       "      <th></th>\n",
       "      <th>thumbnail</th>\n",
       "      <th>name</th>\n",
       "      <th>rating_mean_review</th>\n",
       "      <th>rating_mean_comments</th>\n",
       "      <th>fixed_rating</th>\n",
       "      <th>rank</th>\n",
       "      <th>yearpublished</th>\n",
       "    </tr>\n",
       "  </thead>\n",
       "  <tbody>\n",
       "    <tr>\n",
       "      <th>0</th>\n",
       "      <td>&lt;img src=\"https://cf.geekdo-images.com/oaD1ZQ3...</td>\n",
       "      <td>&lt;a href=\"https://boardgamegeek.com/boardgame/2...</td>\n",
       "      <td>8.109434</td>\n",
       "      <td>9.570000</td>\n",
       "      <td>8.637349</td>\n",
       "      <td>1</td>\n",
       "      <td>2021</td>\n",
       "    </tr>\n",
       "    <tr>\n",
       "      <th>1</th>\n",
       "      <td>&lt;img src=\"https://cf.geekdo-images.com/Zdt8l4o...</td>\n",
       "      <td>&lt;a href=\"https://boardgamegeek.com/boardgame/2...</td>\n",
       "      <td>8.313765</td>\n",
       "      <td>8.887069</td>\n",
       "      <td>8.514076</td>\n",
       "      <td>2</td>\n",
       "      <td>2021</td>\n",
       "    </tr>\n",
       "    <tr>\n",
       "      <th>2</th>\n",
       "      <td>&lt;img src=\"https://cf.geekdo-images.com/SAKzHYV...</td>\n",
       "      <td>&lt;a href=\"https://boardgamegeek.com/boardgame/3...</td>\n",
       "      <td>7.000000</td>\n",
       "      <td>8.750000</td>\n",
       "      <td>8.500000</td>\n",
       "      <td>3</td>\n",
       "      <td>2022</td>\n",
       "    </tr>\n",
       "    <tr>\n",
       "      <th>3</th>\n",
       "      <td>&lt;img src=\"https://cf.geekdo-images.com/6GqH14T...</td>\n",
       "      <td>&lt;a href=\"https://boardgamegeek.com/boardgame/3...</td>\n",
       "      <td>7.900543</td>\n",
       "      <td>8.913433</td>\n",
       "      <td>7.988907</td>\n",
       "      <td>4</td>\n",
       "      <td>2020</td>\n",
       "    </tr>\n",
       "    <tr>\n",
       "      <th>4</th>\n",
       "      <td>&lt;img src=\"https://cf.geekdo-images.com/BfEHqHQ...</td>\n",
       "      <td>&lt;a href=\"https://boardgamegeek.com/boardgame/3...</td>\n",
       "      <td>7.817670</td>\n",
       "      <td>9.121875</td>\n",
       "      <td>7.941880</td>\n",
       "      <td>5</td>\n",
       "      <td>2020</td>\n",
       "    </tr>\n",
       "  </tbody>\n",
       "</table>\n",
       "</div>"
      ],
      "text/plain": [
       "                                           thumbnail  \\\n",
       "0  <img src=\"https://cf.geekdo-images.com/oaD1ZQ3...   \n",
       "1  <img src=\"https://cf.geekdo-images.com/Zdt8l4o...   \n",
       "2  <img src=\"https://cf.geekdo-images.com/SAKzHYV...   \n",
       "3  <img src=\"https://cf.geekdo-images.com/6GqH14T...   \n",
       "4  <img src=\"https://cf.geekdo-images.com/BfEHqHQ...   \n",
       "\n",
       "                                                name  rating_mean_review  \\\n",
       "0  <a href=\"https://boardgamegeek.com/boardgame/2...            8.109434   \n",
       "1  <a href=\"https://boardgamegeek.com/boardgame/2...            8.313765   \n",
       "2  <a href=\"https://boardgamegeek.com/boardgame/3...            7.000000   \n",
       "3  <a href=\"https://boardgamegeek.com/boardgame/3...            7.900543   \n",
       "4  <a href=\"https://boardgamegeek.com/boardgame/3...            7.817670   \n",
       "\n",
       "   rating_mean_comments  fixed_rating  rank yearpublished  \n",
       "0              9.570000      8.637349     1          2021  \n",
       "1              8.887069      8.514076     2          2021  \n",
       "2              8.750000      8.500000     3          2022  \n",
       "3              8.913433      7.988907     4          2020  \n",
       "4              9.121875      7.941880     5          2020  "
      ]
     },
     "execution_count": 49,
     "metadata": {},
     "output_type": "execute_result"
    }
   ],
   "source": [
    "grouped.head()"
   ]
  },
  {
   "cell_type": "code",
   "execution_count": 50,
   "metadata": {},
   "outputs": [],
   "source": [
    "def display_topn(by, n=5, ascending=True):\n",
    "    temp_df = grouped.sort_values(by, ascending=ascending).head(n)\n",
    "    temp_df.index=list(range(1, n+1))\n",
    "    return HTML(temp_df.to_html(escape=False, classes='table table-striped'))"
   ]
  },
  {
   "cell_type": "code",
   "execution_count": 51,
   "metadata": {},
   "outputs": [
    {
     "data": {
      "text/html": [
       "<table border=\"1\" class=\"dataframe table table-striped\">\n",
       "  <thead>\n",
       "    <tr style=\"text-align: right;\">\n",
       "      <th></th>\n",
       "      <th>thumbnail</th>\n",
       "      <th>name</th>\n",
       "      <th>rating_mean_review</th>\n",
       "      <th>rating_mean_comments</th>\n",
       "      <th>fixed_rating</th>\n",
       "      <th>rank</th>\n",
       "      <th>yearpublished</th>\n",
       "    </tr>\n",
       "  </thead>\n",
       "  <tbody>\n",
       "    <tr>\n",
       "      <th>1</th>\n",
       "      <td><img src=\"https://cf.geekdo-images.com/oaD1ZQ3yGj6lacLdtqgdnQ__thumb/img/1mCz7HPEFMeqaqJHsDZwEUc9ftw=/fit-in/200x150/filters:strip_icc()/pic5558118.png\" width=\"124\" /></td>\n",
       "      <td><a href=\"https://boardgamegeek.com/boardgame/285192\">Destinies</a></td>\n",
       "      <td>8.109434</td>\n",
       "      <td>9.570000</td>\n",
       "      <td>8.637349</td>\n",
       "      <td>1</td>\n",
       "      <td>2021</td>\n",
       "    </tr>\n",
       "    <tr>\n",
       "      <th>2</th>\n",
       "      <td><img src=\"https://cf.geekdo-images.com/Zdt8l4oTBpFICsMyNof7Jg__thumb/img/71w4Tt3xOnuDEDTCG8ni63QUhVE=/fit-in/200x150/filters:strip_icc()/pic5975244.png\" width=\"124\" /></td>\n",
       "      <td><a href=\"https://boardgamegeek.com/boardgame/255984\">Sleeping Gods</a></td>\n",
       "      <td>8.313765</td>\n",
       "      <td>8.887069</td>\n",
       "      <td>8.514076</td>\n",
       "      <td>2</td>\n",
       "      <td>2021</td>\n",
       "    </tr>\n",
       "    <tr>\n",
       "      <th>3</th>\n",
       "      <td><img src=\"https://cf.geekdo-images.com/SAKzHYVbMnhbSgYXngoJxQ__thumb/img/RF6aORNcMKL0lwnA8FlwplOKj4g=/fit-in/200x150/filters:strip_icc()/pic6109923.jpg\" width=\"124\" /></td>\n",
       "      <td><a href=\"https://boardgamegeek.com/boardgame/329551\">Mosaic: A Story of Civilization</a></td>\n",
       "      <td>7.000000</td>\n",
       "      <td>8.750000</td>\n",
       "      <td>8.500000</td>\n",
       "      <td>3</td>\n",
       "      <td>2022</td>\n",
       "    </tr>\n",
       "    <tr>\n",
       "      <th>4</th>\n",
       "      <td><img src=\"https://cf.geekdo-images.com/6GqH14TJJhza86BX5HCLEQ__thumb/img/J8SVmGOJXZGxNjkT3xYNQU7Haxg=/fit-in/200x150/filters:strip_icc()/pic5674958.jpg\" width=\"124\" /></td>\n",
       "      <td><a href=\"https://boardgamegeek.com/boardgame/312484\">Lost Ruins of Arnak</a></td>\n",
       "      <td>7.900543</td>\n",
       "      <td>8.913433</td>\n",
       "      <td>7.988907</td>\n",
       "      <td>4</td>\n",
       "      <td>2020</td>\n",
       "    </tr>\n",
       "    <tr>\n",
       "      <th>5</th>\n",
       "      <td><img src=\"https://cf.geekdo-images.com/BfEHqHQAvZLbRX7y7e9TWg__thumb/img/6rZLxebQyTXasbAPddxpdE1LVls=/fit-in/200x150/filters:strip_icc()/pic5617866.jpg\" width=\"124\" /></td>\n",
       "      <td><a href=\"https://boardgamegeek.com/boardgame/317985\">Beyond the Sun</a></td>\n",
       "      <td>7.817670</td>\n",
       "      <td>9.121875</td>\n",
       "      <td>7.941880</td>\n",
       "      <td>5</td>\n",
       "      <td>2020</td>\n",
       "    </tr>\n",
       "  </tbody>\n",
       "</table>"
      ],
      "text/plain": [
       "<IPython.core.display.HTML object>"
      ]
     },
     "execution_count": 51,
     "metadata": {},
     "output_type": "execute_result"
    }
   ],
   "source": [
    "# TOP N RANK\n",
    "display_topn(by='rank', n=TOP_N)"
   ]
  },
  {
   "cell_type": "code",
   "execution_count": 52,
   "metadata": {},
   "outputs": [
    {
     "data": {
      "text/html": [
       "<table border=\"1\" class=\"dataframe table table-striped\">\n",
       "  <thead>\n",
       "    <tr style=\"text-align: right;\">\n",
       "      <th></th>\n",
       "      <th>thumbnail</th>\n",
       "      <th>name</th>\n",
       "      <th>rating_mean_review</th>\n",
       "      <th>rating_mean_comments</th>\n",
       "      <th>fixed_rating</th>\n",
       "      <th>rank</th>\n",
       "      <th>yearpublished</th>\n",
       "    </tr>\n",
       "  </thead>\n",
       "  <tbody>\n",
       "    <tr>\n",
       "      <th>1</th>\n",
       "      <td><img src=\"https://cf.geekdo-images.com/hItZjdDTNuaCZ7fEztwcUQ__thumb/img/Ov6eWR87PZ2O1XYQtXMO6KvfzOg=/fit-in/200x150/filters:strip_icc()/pic6153324.jpg\" width=\"124\" /></td>\n",
       "      <td><a href=\"https://boardgamegeek.com/boardgame/337627\">Voidfall</a></td>\n",
       "      <td>10.000000</td>\n",
       "      <td>7.971429</td>\n",
       "      <td>8.225000</td>\n",
       "      <td>44</td>\n",
       "      <td>2022</td>\n",
       "    </tr>\n",
       "    <tr>\n",
       "      <th>2</th>\n",
       "      <td><img src=\"https://cf.geekdo-images.com/uxOk35gXMAAsnElL7Bix-g__thumb/img/8OtW021DF3XsFVH0K3SOYxgtrU8=/fit-in/200x150/filters:strip_icc()/pic5521960.jpg\" width=\"124\" /></td>\n",
       "      <td><a href=\"https://boardgamegeek.com/boardgame/313889\">Hoplomachus: Victorum</a></td>\n",
       "      <td>10.000000</td>\n",
       "      <td>8.450000</td>\n",
       "      <td>8.671429</td>\n",
       "      <td>8</td>\n",
       "      <td>2022</td>\n",
       "    </tr>\n",
       "    <tr>\n",
       "      <th>3</th>\n",
       "      <td><img src=\"https://cf.geekdo-images.com/nhWSmNJSTBAye6bxLa9x-Q__thumb/img/B4r1iyRl2Z2CcMrtBRQOKYwwngw=/fit-in/200x150/filters:strip_icc()/pic4779069.jpg\" width=\"124\" /></td>\n",
       "      <td><a href=\"https://boardgamegeek.com/boardgame/268012\">Chronicles of Drunagor: Age of Darkness</a></td>\n",
       "      <td>9.510204</td>\n",
       "      <td>8.388889</td>\n",
       "      <td>9.336207</td>\n",
       "      <td>28</td>\n",
       "      <td>2021</td>\n",
       "    </tr>\n",
       "    <tr>\n",
       "      <th>4</th>\n",
       "      <td><img src=\"https://cf.geekdo-images.com/Oh3kHw6lweg6ru71Q16h2Q__thumb/img/e9XZdQe1ZcPpaq4Gy31OoWBB_V0=/fit-in/200x150/filters:strip_icc()/pic5235277.jpg\" width=\"124\" /></td>\n",
       "      <td><a href=\"https://boardgamegeek.com/boardgame/246900\">Eclipse: Second Dawn for the Galaxy</a></td>\n",
       "      <td>8.744981</td>\n",
       "      <td>9.064634</td>\n",
       "      <td>8.795485</td>\n",
       "      <td>49</td>\n",
       "      <td>2020</td>\n",
       "    </tr>\n",
       "    <tr>\n",
       "      <th>5</th>\n",
       "      <td><img src=\"https://cf.geekdo-images.com/x3zxjr-Vw5iU4yDPg70Jgw__thumb/img/o18rjEemoWaVru9Y2TyPwuIaRfE=/fit-in/200x150/filters:strip_icc()/pic3490053.jpg\" width=\"124\" /></td>\n",
       "      <td><a href=\"https://boardgamegeek.com/boardgame/224517\">Brass: Birmingham</a></td>\n",
       "      <td>8.691023</td>\n",
       "      <td>9.037991</td>\n",
       "      <td>8.722729</td>\n",
       "      <td>23</td>\n",
       "      <td>2018</td>\n",
       "    </tr>\n",
       "  </tbody>\n",
       "</table>"
      ],
      "text/plain": [
       "<IPython.core.display.HTML object>"
      ]
     },
     "execution_count": 52,
     "metadata": {},
     "output_type": "execute_result"
    }
   ],
   "source": [
    "# TOP N REVIEW RANK\n",
    "display_topn(by='rating_mean_review', n=TOP_N, ascending=False)"
   ]
  },
  {
   "cell_type": "code",
   "execution_count": 53,
   "metadata": {},
   "outputs": [
    {
     "data": {
      "text/html": [
       "<table border=\"1\" class=\"dataframe table table-striped\">\n",
       "  <thead>\n",
       "    <tr style=\"text-align: right;\">\n",
       "      <th></th>\n",
       "      <th>thumbnail</th>\n",
       "      <th>name</th>\n",
       "      <th>rating_mean_review</th>\n",
       "      <th>rating_mean_comments</th>\n",
       "      <th>fixed_rating</th>\n",
       "      <th>rank</th>\n",
       "      <th>yearpublished</th>\n",
       "    </tr>\n",
       "  </thead>\n",
       "  <tbody>\n",
       "    <tr>\n",
       "      <th>1</th>\n",
       "      <td><img src=\"https://cf.geekdo-images.com/nhWSmNJSTBAye6bxLa9x-Q__thumb/img/B4r1iyRl2Z2CcMrtBRQOKYwwngw=/fit-in/200x150/filters:strip_icc()/pic4779069.jpg\" width=\"124\" /></td>\n",
       "      <td><a href=\"https://boardgamegeek.com/boardgame/268012\">Chronicles of Drunagor: Age of Darkness</a></td>\n",
       "      <td>9.510204</td>\n",
       "      <td>8.388889</td>\n",
       "      <td>9.336207</td>\n",
       "      <td>28</td>\n",
       "      <td>2021</td>\n",
       "    </tr>\n",
       "    <tr>\n",
       "      <th>2</th>\n",
       "      <td><img src=\"https://cf.geekdo-images.com/Oh3kHw6lweg6ru71Q16h2Q__thumb/img/e9XZdQe1ZcPpaq4Gy31OoWBB_V0=/fit-in/200x150/filters:strip_icc()/pic5235277.jpg\" width=\"124\" /></td>\n",
       "      <td><a href=\"https://boardgamegeek.com/boardgame/246900\">Eclipse: Second Dawn for the Galaxy</a></td>\n",
       "      <td>8.744981</td>\n",
       "      <td>9.064634</td>\n",
       "      <td>8.795485</td>\n",
       "      <td>49</td>\n",
       "      <td>2020</td>\n",
       "    </tr>\n",
       "    <tr>\n",
       "      <th>3</th>\n",
       "      <td><img src=\"https://cf.geekdo-images.com/ev-MNwAlzPdWq_grtnWLXw__thumb/img/1w0-OAtf3QsrZhqhOW-WKPWJjuk=/fit-in/200x150/filters:strip_icc()/pic6121947.jpg\" width=\"124\" /></td>\n",
       "      <td><a href=\"https://boardgamegeek.com/boardgame/297562\">Kemet: Blood and Sand</a></td>\n",
       "      <td>8.500000</td>\n",
       "      <td>8.908772</td>\n",
       "      <td>8.767816</td>\n",
       "      <td>33</td>\n",
       "      <td>2021</td>\n",
       "    </tr>\n",
       "    <tr>\n",
       "      <th>4</th>\n",
       "      <td><img src=\"https://cf.geekdo-images.com/x3zxjr-Vw5iU4yDPg70Jgw__thumb/img/o18rjEemoWaVru9Y2TyPwuIaRfE=/fit-in/200x150/filters:strip_icc()/pic3490053.jpg\" width=\"124\" /></td>\n",
       "      <td><a href=\"https://boardgamegeek.com/boardgame/224517\">Brass: Birmingham</a></td>\n",
       "      <td>8.691023</td>\n",
       "      <td>9.037991</td>\n",
       "      <td>8.722729</td>\n",
       "      <td>23</td>\n",
       "      <td>2018</td>\n",
       "    </tr>\n",
       "    <tr>\n",
       "      <th>5</th>\n",
       "      <td><img src=\"https://cf.geekdo-images.com/eUiju5SqZbkNt8gnEofrTw__thumb/img/zNkmLNyeXJGOY24FeAAf4U67ejU=/fit-in/200x150/filters:strip_icc()/pic6035127.png\" width=\"124\" /></td>\n",
       "      <td><a href=\"https://boardgamegeek.com/boardgame/316624\">Stationfall</a></td>\n",
       "      <td>8.316667</td>\n",
       "      <td>9.353846</td>\n",
       "      <td>8.681081</td>\n",
       "      <td>15</td>\n",
       "      <td>2021</td>\n",
       "    </tr>\n",
       "  </tbody>\n",
       "</table>"
      ],
      "text/plain": [
       "<IPython.core.display.HTML object>"
      ]
     },
     "execution_count": 53,
     "metadata": {},
     "output_type": "execute_result"
    }
   ],
   "source": [
    "# TOP N FIXED RANK\n",
    "display_topn(by='fixed_rating', n=TOP_N, ascending=False)"
   ]
  },
  {
   "cell_type": "code",
   "execution_count": 54,
   "metadata": {},
   "outputs": [],
   "source": [
    "# model.save('saved_model\\my_model')"
   ]
  },
  {
   "cell_type": "code",
   "execution_count": 55,
   "metadata": {},
   "outputs": [],
   "source": [
    "# saved_model = tf.keras.models.load_model('saved_model\\my_model')"
   ]
  },
  {
   "cell_type": "code",
   "execution_count": 56,
   "metadata": {},
   "outputs": [],
   "source": [
    "# some examples on \"long\" comments vs short comments"
   ]
  },
  {
   "cell_type": "code",
   "execution_count": 57,
   "metadata": {},
   "outputs": [
    {
     "name": "stdout",
     "output_type": "stream",
     "text": [
      "input:\n",
      "\"I was having great expectations from this title, but it fell short on implementation.  I felt bored halfway through the first game, like my decisions didn't matter as much as luck from the draw.\"\n",
      "score: 0.060297\n",
      "\n",
      "input:\n",
      "\"Opened, punched, and sorted but unplayed.  Includes Gloomhaven Town by Meeple Realty.  Not really looking to trade this, but I might consider it if the offer is good.\"\n",
      "score: 0.482692\n",
      "\n",
      "input:\n",
      "\"1x Sleeping Gods: Tides of Ruin 1x Sleeping Gods Metal Ship 1x Sleeping Gods Kickstarter Edition 1x Sleeping Gods Card Sleeve Set\"\n",
      "score: 0.513622\n",
      "\n",
      "input:\n",
      "\"It's certainly very thematic but the fiddliness of the set up took me out.  Intentional lack of duplicate cards in the single core set also detracted from the offering.\"\n",
      "score: 0.697068\n",
      "\n",
      "input:\n",
      "\"Need to play more but so far I love the theme, art and little bird facts on the cards. The mechanics are smooth and as far as engine building goes it seems to be a big step up from something like Splendor.\"\n",
      "score: 0.743794\n",
      "\n",
      "input:\n",
      "\"Jumped onto my radar ahead of other games I wanted more and for longer and I pulled the trigger using up some of my Amazon Christmas/birthday money.  (Amazon)\"\n",
      "score: 0.808850\n",
      "\n",
      "input:\n",
      "\"Played 2 or 3 games, realised we have been playing incorrectly. Despite the rules error we still had fun playing at 2p. The set up time is what's keeping this away from the table.\"\n",
      "score: 0.890813\n",
      "\n",
      "input:\n",
      "\"This game is too aggressive to be enjoyed by my husband. We prefer to play games where we do our best without sabotaging the other player. This game is in great condition, possibly some slight wear on the corners of the box. \"\n",
      "score: 0.934837\n",
      "\n",
      "input:\n",
      "\"Designer: Alexander Pfister Artist: Fiore GmbH, Aline Kirrmann Publisher: uplay.it, edizioni Game's Up Weight: 3.87 / 5 3 Giocatori (1-4) 30-120 min 29.5 cm 29.5 cm 7.0 cm Posizione: 5B\"\n",
      "score: 0.955199\n",
      "\n",
      "input:\n",
      "\"HuC 8.8 u 9.1 Spielkult 888 Hall 5.5 u 5.0 Brettundpad 8.6v10 Brettspielereport 19v20 cliquenabend 7v10 brettspiegel 2P:4v6 u 3-4P:4.5v6 \"\n",
      "score: 0.956492\n",
      "\n",
      "input:\n",
      "\"(watched only how to play video)Looks like a fun family card game. Not the game i want to play when playing with friends.\"\n",
      "score: 0.966650\n",
      "\n",
      "input:\n",
      "\"Finally sold on the Eclipse after SUSD review. Now this game looks like something i'd want to try out (looking at you, 1st edition)\"\n",
      "score: 0.992418\n",
      "\n",
      "input:\n",
      "\"Owned for over half a year now, but yet to get it to the table :(.  I feel like I understand the rules, but teaching it is the problem...  Confident I will love the game once I finally get it played.\"\n",
      "score: 0.994755\n",
      "\n",
      "input:\n",
      "\"+ Rails to the North + 11th Building Tile + 13th Building Tile + At the Poker Table + Promo Station Master Tiles\"\n",
      "score: 0.999988\n",
      "\n",
      "input:\n",
      "\"2019 Nederlandse Spellenprijs Best Expert Game Nominee 2019 Kennerspiel des Jahres Winner 2019 Kennerspiel des Jahres Nominee 2019 Deutscher Spiele Preis Best Family/Adult Game Winner\"\n",
      "score: 0.999702\n",
      "\n",
      "input:\n",
      "\"Area Majority / Influence Card Play Conflict Resolution Force Commitment Grid Movement Hexagon Grid King of the Hill Movement Points Moving Multiple Units Narrative Choice / Paragraph Race Simultaneous Action Selection Solo / Solitaire Game Tech Trees / Tech Tracks Variable Player Powers\"\n",
      "score: 0.999301\n",
      "\n",
      "input:\n",
      "\"Should you get this if you already have TI3 with all the expansions?  [url= THE MAGIC 8 BALL[/url]  And while there may be a few whizzerdoodles swapped with a couple thingamabobs, the essential experience is the same:  [b][thread=354414][/thread][/b]\"\n",
      "score: 0.996706\n",
      "\n",
      "input:\n",
      "\"Kickstarter. Played a few times now both 3 (BJP) and 2 (BJ) player.. Easy to learn/teach. Gets 'thinky' as number of available spots reduce.\"\n",
      "score: 0.996499\n",
      "\n",
      "input:\n",
      "\"My first rating was a solid 9 but.... don't be fooled, after playing hundreds of games against hundreds of players on BGA for me this game is a complete card luckfest with limited mitigation. I decline to play without the expansions.\"\n",
      "score: 0.998956\n",
      "\n",
      "input:\n",
      "\"Surprise early birthday gift from family. I guess what with COVID-19 ravaging the globe, who's to say one should wait for their birthday for unwrapping such things?\"\n",
      "score: 0.999969\n",
      "\n",
      "input:\n",
      "\"Along with the Carnevale and Roogaroo standalone adventures and the complete Dunwitch legacy cycle (big expansion+booster packs)\"\n",
      "score: 0.996764\n",
      "\n",
      "input:\n",
      "\"Bought New. Box Damaged at Purchase. (seems heavy corner crush)  Pictures: Quacks of Quedlinburg - Box Crushed Corner   Quacks of Quedlinburg - Insert Break/Split   Quacks of Quedlinburg - Lid Split \"\n",
      "score: 0.999972\n",
      "\n",
      "input:\n",
      "\"Preordered via GreekLaborMike (BGG).  Date Ordered: 8/1/16 Edition: Kickstarter w/promo spirit and expansion\"\n",
      "score: 0.999690\n",
      "\n",
      "input:\n",
      "\"What a good solo game experience! It has a good storyline, game mechanic, etc. Looking forward to more expansions - have a deluxe box ready to put them in!\"\n",
      "score: 0.999087\n",
      "\n",
      "input:\n",
      "\"Players: 2-6 (4,6) Time: 60–200 Min Categories: Civilization Fighting Science Fiction Space Exploration Wargame  Mechanisms: Area Control / Area Influence Dice Rolling Grid Movement Modular Board Player Elimination Tile Placement Variable Phase Order Variable Player Powers\"\n",
      "score: 1.000000\n"
     ]
    }
   ],
   "source": [
    "# some long comments\n",
    "not_rated_comments['comment_len'] = not_rated_comments['value'].str.len()\n",
    "some_long_comments = not_rated_comments.query(\"comment_len>100 and comment_len<300\").sample(frac=1).head(25).sort_values('rating')\n",
    "results = tf.sigmoid(model.predict(tf.constant(list(some_long_comments.value))))\n",
    "print_my_examples(list(some_long_comments.value), results)"
   ]
  },
  {
   "cell_type": "code",
   "execution_count": null,
   "metadata": {},
   "outputs": [],
   "source": []
  }
 ],
 "metadata": {
  "kernelspec": {
   "display_name": "tensorflow2",
   "language": "python",
   "name": "tensorflow2"
  },
  "language_info": {
   "codemirror_mode": {
    "name": "ipython",
    "version": 3
   },
   "file_extension": ".py",
   "mimetype": "text/x-python",
   "name": "python",
   "nbconvert_exporter": "python",
   "pygments_lexer": "ipython3",
   "version": "3.8.8"
  }
 },
 "nbformat": 4,
 "nbformat_minor": 4
}
