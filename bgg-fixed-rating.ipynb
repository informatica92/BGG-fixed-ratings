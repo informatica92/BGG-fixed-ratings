{
 "cells": [
  {
   "cell_type": "code",
   "execution_count": null,
   "metadata": {},
   "outputs": [],
   "source": [
    "# ## BGG API\n",
    "# https://www.boardgamegeek.com/xmlapi2/thing?id=161599&comments=1\n",
    "# https://www.boardgamegeek.com/xmlapi2/hot?type=boardgame\n",
    "# ## NLP WITH TF\n",
    "# https://www.tensorflow.org/hub/tutorials/tf2_text_classification"
   ]
  },
  {
   "cell_type": "code",
   "execution_count": 2,
   "metadata": {},
   "outputs": [
    {
     "name": "stdout",
     "output_type": "stream",
     "text": [
      "Version:      2.4.0\n",
      "Eager mode:   True\n",
      "Hub version:  0.12.0\n",
      "GPU:          available\n"
     ]
    }
   ],
   "source": [
    "import tensorflow as tf\n",
    "import tensorflow_hub as hub\n",
    "import tensorflow_datasets as tfds\n",
    "\n",
    "import xml.etree.ElementTree as Xet\n",
    "import matplotlib.pyplot as plt\n",
    "import pandas as pd\n",
    "import numpy as np\n",
    "import requests\n",
    "from IPython.display import Image, HTML\n",
    "\n",
    "from langdetect import detect\n",
    "import re\n",
    "\n",
    "print(\"Version:     \", tf.__version__)\n",
    "print(\"Eager mode:  \", tf.executing_eagerly())\n",
    "print(\"Hub version: \", hub.__version__)\n",
    "print(\"GPU:         \", \"available\" if tf.config.list_physical_devices('GPU') else \"NOT available\")"
   ]
  },
  {
   "cell_type": "code",
   "execution_count": 3,
   "metadata": {},
   "outputs": [],
   "source": [
    "# tf.debugging.set_log_device_placement(True)"
   ]
  },
  {
   "cell_type": "code",
   "execution_count": 4,
   "metadata": {},
   "outputs": [],
   "source": [
    "GOOD_REVIEW_THRESHOLD = 7"
   ]
  },
  {
   "cell_type": "code",
   "execution_count": 5,
   "metadata": {},
   "outputs": [],
   "source": [
    "VAL_FRACTION = 0.25"
   ]
  },
  {
   "cell_type": "code",
   "execution_count": 6,
   "metadata": {},
   "outputs": [],
   "source": [
    "MIN_COMMENT_LEN = 25"
   ]
  },
  {
   "cell_type": "code",
   "execution_count": 7,
   "metadata": {},
   "outputs": [],
   "source": [
    "TOP_N = 5"
   ]
  },
  {
   "cell_type": "markdown",
   "metadata": {},
   "source": [
    "## GET DATA"
   ]
  },
  {
   "cell_type": "code",
   "execution_count": 8,
   "metadata": {},
   "outputs": [],
   "source": [
    "def get_hot_data():\n",
    "    hot = requests.get(\"https://www.boardgamegeek.com/xmlapi2/hot?type=boardgame\").content.decode()\n",
    "  \n",
    "    # Parsing the XML file\n",
    "    xmlparse = Xet.fromstring(hot)\n",
    "\n",
    "    hot_array = []\n",
    "    for item in xmlparse:\n",
    "        dict_element = {\n",
    "            \"id\": item.get(\"id\"),\n",
    "            \"rank\": item.get(\"rank\")\n",
    "        }\n",
    "        for option in item:\n",
    "            dict_element[option.tag] = option.get(\"value\")\n",
    "        hot_array.append(dict_element)\n",
    "    return hot_array"
   ]
  },
  {
   "cell_type": "code",
   "execution_count": 9,
   "metadata": {},
   "outputs": [],
   "source": [
    "def get_comments(id_array, verbose=1):\n",
    "    max_comments_per_page = 1\n",
    "    array_ids = [h['id'] for h in id_array]\n",
    "    ids = ','.join(array_ids)\n",
    "    page_size = 100\n",
    "    page_number = 0\n",
    "    comments_array = []\n",
    "\n",
    "    while max_comments_per_page > 0 and len(array_ids) > 0:\n",
    "        page_number += 1\n",
    "        if verbose>0 and page_number%verbose==0:\n",
    "            print(f\"page number = {page_number}\", end=\" \")\n",
    "        comments = requests.get(f\"https://www.boardgamegeek.com/xmlapi2/thing?id={ids}&comments=1&pagesize={page_size}&page={page_number}\").content.decode()\n",
    "\n",
    "        # Parsing the XML file\n",
    "        xmlparse = Xet.fromstring(comments)\n",
    "        comments_per_item = []\n",
    "        for item in xmlparse:        \n",
    "            for option in item:\n",
    "                if option.tag == 'comments':\n",
    "                    comments_per_page = 0\n",
    "                    for comment in option:\n",
    "                        comments_per_page += 1\n",
    "                        dict_element = {\n",
    "                            \"id\": item.get(\"id\"),\n",
    "                            \"username\": comment.get(\"username\"),\n",
    "                            \"rating\": comment.get(\"rating\"),\n",
    "                            \"value\": comment.get(\"value\")\n",
    "                        }\n",
    "                        comments_array.append(dict_element)\n",
    "                    if comments_per_page==0:\n",
    "                        array_ids.remove(item.get(\"id\"))\n",
    "                        ids = ','.join(array_ids)\n",
    "                    comments_per_item.append(comments_per_page)\n",
    "        max_comments_per_page = max(comments_per_item)\n",
    "        if verbose>0 and page_number%verbose==0:\n",
    "            print(f\"(max: {max(comments_per_item)}, len: {len(comments_per_item)})\")\n",
    "    comments_df = pd.DataFrame(comments_array)\n",
    "    print(f\"comments_df shape: {comments_df.shape}\")\n",
    "    return comments_df"
   ]
  },
  {
   "cell_type": "code",
   "execution_count": 10,
   "metadata": {},
   "outputs": [
    {
     "data": {
      "text/plain": [
       "[{'id': '337627',\n",
       "  'rank': '1',\n",
       "  'thumbnail': 'https://cf.geekdo-images.com/hItZjdDTNuaCZ7fEztwcUQ__thumb/img/Ov6eWR87PZ2O1XYQtXMO6KvfzOg=/fit-in/200x150/filters:strip_icc()/pic6153324.jpg',\n",
       "  'name': 'Voidfall',\n",
       "  'yearpublished': '2022'},\n",
       " {'id': '312484',\n",
       "  'rank': '2',\n",
       "  'thumbnail': 'https://cf.geekdo-images.com/6GqH14TJJhza86BX5HCLEQ__thumb/img/J8SVmGOJXZGxNjkT3xYNQU7Haxg=/fit-in/200x150/filters:strip_icc()/pic5674958.jpg',\n",
       "  'name': 'Lost Ruins of Arnak',\n",
       "  'yearpublished': '2020'}]"
      ]
     },
     "execution_count": 10,
     "metadata": {},
     "output_type": "execute_result"
    }
   ],
   "source": [
    "hot_array = get_hot_data()\n",
    "hot_array[:2]"
   ]
  },
  {
   "cell_type": "code",
   "execution_count": 11,
   "metadata": {},
   "outputs": [
    {
     "name": "stderr",
     "output_type": "stream",
     "text": [
      "<ipython-input-11-3c366f14faf3>:2: FutureWarning: The pandas.datetime class is deprecated and will be removed from pandas in a future version. Import from datetime module instead.\n",
      "  comments_df = pd.read_csv(f\"comments_{pd.datetime.now().strftime('%Y%m%d')}.csv\")\n"
     ]
    },
    {
     "name": "stdout",
     "output_type": "stream",
     "text": [
      "missing csv file, getting new data using API...\n",
      "page number = 10 (max: 100, len: 23)\n",
      "page number = 20 (max: 100, len: 13)\n",
      "page number = 30 (max: 100, len: 10)\n",
      "page number = 40 (max: 100, len: 8)\n",
      "page number = 50 (max: 100, len: 4)\n",
      "page number = 60 (max: 100, len: 4)\n",
      "page number = 70 (max: 100, len: 3)\n",
      "page number = 80 (max: 100, len: 3)\n",
      "page number = 90 (max: 100, len: 2)\n",
      "page number = 100 (max: 0, len: 1)\n",
      "comments_df shape: (83719, 4)\n"
     ]
    },
    {
     "name": "stderr",
     "output_type": "stream",
     "text": [
      "<ipython-input-11-3c366f14faf3>:8: FutureWarning: The pandas.datetime class is deprecated and will be removed from pandas in a future version. Import from datetime module instead.\n",
      "  comments_df.to_csv(f\"comments_{pd.datetime.now().strftime('%Y%m%d')}.csv\", index=False)\n"
     ]
    },
    {
     "data": {
      "text/html": [
       "<div>\n",
       "<style scoped>\n",
       "    .dataframe tbody tr th:only-of-type {\n",
       "        vertical-align: middle;\n",
       "    }\n",
       "\n",
       "    .dataframe tbody tr th {\n",
       "        vertical-align: top;\n",
       "    }\n",
       "\n",
       "    .dataframe thead th {\n",
       "        text-align: right;\n",
       "    }\n",
       "</style>\n",
       "<table border=\"1\" class=\"dataframe\">\n",
       "  <thead>\n",
       "    <tr style=\"text-align: right;\">\n",
       "      <th></th>\n",
       "      <th>id</th>\n",
       "      <th>username</th>\n",
       "      <th>rating</th>\n",
       "      <th>value</th>\n",
       "    </tr>\n",
       "  </thead>\n",
       "  <tbody>\n",
       "    <tr>\n",
       "      <th>0</th>\n",
       "      <td>337627</td>\n",
       "      <td>BGFreakDag2PT</td>\n",
       "      <td>N/A</td>\n",
       "      <td>On Radar</td>\n",
       "    </tr>\n",
       "    <tr>\n",
       "      <th>1</th>\n",
       "      <td>337627</td>\n",
       "      <td>Bstalf21</td>\n",
       "      <td>N/A</td>\n",
       "      <td>KS fall?</td>\n",
       "    </tr>\n",
       "    <tr>\n",
       "      <th>2</th>\n",
       "      <td>337627</td>\n",
       "      <td>bucklen_uk</td>\n",
       "      <td>N/A</td>\n",
       "      <td>I don't rate my own games (doesn't seem approp...</td>\n",
       "    </tr>\n",
       "    <tr>\n",
       "      <th>3</th>\n",
       "      <td>337627</td>\n",
       "      <td>carlcorey</td>\n",
       "      <td>N/A</td>\n",
       "      <td>Turczi / Mindclash with O'Toole design, intere...</td>\n",
       "    </tr>\n",
       "    <tr>\n",
       "      <th>4</th>\n",
       "      <td>337627</td>\n",
       "      <td>Dahanil</td>\n",
       "      <td>N/A</td>\n",
       "      <td>David Turczi + Ian O'Toole - tasty combination!</td>\n",
       "    </tr>\n",
       "    <tr>\n",
       "      <th>...</th>\n",
       "      <td>...</td>\n",
       "      <td>...</td>\n",
       "      <td>...</td>\n",
       "      <td>...</td>\n",
       "    </tr>\n",
       "    <tr>\n",
       "      <th>83714</th>\n",
       "      <td>167791</td>\n",
       "      <td>z_zadar</td>\n",
       "      <td>9</td>\n",
       "      <td>Some games are so much fun. Others can be a li...</td>\n",
       "    </tr>\n",
       "    <tr>\n",
       "      <th>83715</th>\n",
       "      <td>167791</td>\n",
       "      <td>_Czid_</td>\n",
       "      <td>8</td>\n",
       "      <td>Have played with Elysium and Prelude expansion...</td>\n",
       "    </tr>\n",
       "    <tr>\n",
       "      <th>83716</th>\n",
       "      <td>167791</td>\n",
       "      <td>_Marty_</td>\n",
       "      <td>9.5</td>\n",
       "      <td>Fantastic game. With so many cards that can ch...</td>\n",
       "    </tr>\n",
       "    <tr>\n",
       "      <th>83717</th>\n",
       "      <td>167791</td>\n",
       "      <td>_mun_</td>\n",
       "      <td>10</td>\n",
       "      <td>Nagyon izgalmas játék, jó a mechanizmusa. A sz...</td>\n",
       "    </tr>\n",
       "    <tr>\n",
       "      <th>83718</th>\n",
       "      <td>167791</td>\n",
       "      <td>_The_Inquiry_</td>\n",
       "      <td>5</td>\n",
       "      <td>Prior to 2020: 2 plays  TM is one of those gam...</td>\n",
       "    </tr>\n",
       "  </tbody>\n",
       "</table>\n",
       "<p>83719 rows × 4 columns</p>\n",
       "</div>"
      ],
      "text/plain": [
       "           id       username rating  \\\n",
       "0      337627  BGFreakDag2PT    N/A   \n",
       "1      337627       Bstalf21    N/A   \n",
       "2      337627     bucklen_uk    N/A   \n",
       "3      337627      carlcorey    N/A   \n",
       "4      337627        Dahanil    N/A   \n",
       "...       ...            ...    ...   \n",
       "83714  167791        z_zadar      9   \n",
       "83715  167791         _Czid_      8   \n",
       "83716  167791        _Marty_    9.5   \n",
       "83717  167791          _mun_     10   \n",
       "83718  167791  _The_Inquiry_      5   \n",
       "\n",
       "                                                   value  \n",
       "0                                               On Radar  \n",
       "1                                               KS fall?  \n",
       "2      I don't rate my own games (doesn't seem approp...  \n",
       "3      Turczi / Mindclash with O'Toole design, intere...  \n",
       "4        David Turczi + Ian O'Toole - tasty combination!  \n",
       "...                                                  ...  \n",
       "83714  Some games are so much fun. Others can be a li...  \n",
       "83715  Have played with Elysium and Prelude expansion...  \n",
       "83716  Fantastic game. With so many cards that can ch...  \n",
       "83717  Nagyon izgalmas játék, jó a mechanizmusa. A sz...  \n",
       "83718  Prior to 2020: 2 plays  TM is one of those gam...  \n",
       "\n",
       "[83719 rows x 4 columns]"
      ]
     },
     "execution_count": 11,
     "metadata": {},
     "output_type": "execute_result"
    }
   ],
   "source": [
    "try:\n",
    "    comments_df = pd.read_csv(f\"comments_{pd.datetime.now().strftime('%Y%m%d')}.csv\")\n",
    "    comments_df['rating'] = comments_df.rating.fillna('N/A')\n",
    "    print(\"reading dataframe from csv file...\")\n",
    "except:\n",
    "    print(\"missing csv file, getting new data using API...\")\n",
    "    comments_df = get_comments(hot_array, verbose=10)\n",
    "    comments_df.to_csv(f\"comments_{pd.datetime.now().strftime('%Y%m%d')}.csv\", index=False)\n",
    "comments_df"
   ]
  },
  {
   "cell_type": "markdown",
   "metadata": {},
   "source": [
    "## DATA CLEANING"
   ]
  },
  {
   "cell_type": "code",
   "execution_count": 12,
   "metadata": {},
   "outputs": [],
   "source": [
    "# probably we should keep all the ratings (no matters the len) and remove only the simple comments under a certain len  "
   ]
  },
  {
   "cell_type": "code",
   "execution_count": 13,
   "metadata": {},
   "outputs": [],
   "source": [
    "comments_df[\"value\"] = comments_df[\"value\"].astype(str)"
   ]
  },
  {
   "cell_type": "code",
   "execution_count": 14,
   "metadata": {},
   "outputs": [],
   "source": [
    "# REMOVE URLs FROM COMMENTS"
   ]
  },
  {
   "cell_type": "code",
   "execution_count": 15,
   "metadata": {},
   "outputs": [],
   "source": [
    "comments_df['value'] = [re.sub(r\"http\\S+\", \"\", v) for v in comments_df.value.values]"
   ]
  },
  {
   "cell_type": "code",
   "execution_count": 16,
   "metadata": {},
   "outputs": [],
   "source": [
    "# REMOVE SHORT COMMENTS\n",
    "def remove_short_comments(df: pd.DataFrame, min_len=25, method='unrated'):\n",
    "    if method not in ['unrated', 'rated', 'both']:\n",
    "        raise AttributeError(f\"method {method} not allowed\")\n",
    "    df_local = df.copy()    \n",
    "    df_local['comment_len'] = [len(re.findall(\"[A-Za-z]\", v)) for v in df_local['value'].values]\n",
    "    if method == 'rated':\n",
    "        df_local = df_local.query('(comment_len>@min_len and rating != \"N/A\") or rating == \"N/A\"')\n",
    "    elif method == 'unrated':\n",
    "        df_local = df_local.query('(comment_len>@min_len and rating == \"N/A\") or rating != \"N/A\"')\n",
    "    else:\n",
    "        df_local = df_local.query('comment_len>@min_len')\n",
    "    print(f\"removed {len(df)-len(df_local)} for 'remove_short_comments' - min len: {min_len} - method: {method}\")\n",
    "    return df_local.reset_index(drop=True)"
   ]
  },
  {
   "cell_type": "code",
   "execution_count": 17,
   "metadata": {},
   "outputs": [
    {
     "name": "stdout",
     "output_type": "stream",
     "text": [
      "removed 14436 for 'remove_short_comments' - min len: 25 - method: unrated\n"
     ]
    }
   ],
   "source": [
    "comments_df = remove_short_comments(comments_df, MIN_COMMENT_LEN)"
   ]
  },
  {
   "cell_type": "code",
   "execution_count": 18,
   "metadata": {},
   "outputs": [],
   "source": [
    "# REMOVE NON ENGLISH COMMENTS"
   ]
  },
  {
   "cell_type": "code",
   "execution_count": 19,
   "metadata": {},
   "outputs": [],
   "source": [
    "# !conda install -c conda-forge langdetect"
   ]
  },
  {
   "cell_type": "code",
   "execution_count": 20,
   "metadata": {},
   "outputs": [],
   "source": [
    "# def add_comments_lang(df: pd.DataFrame):\n",
    "#     df_local = df.copy()\n",
    "#     df_local['lang'] = df['value'].apply(detect)\n",
    "#     return df_local.reset_index(drop=True)"
   ]
  },
  {
   "cell_type": "code",
   "execution_count": 21,
   "metadata": {},
   "outputs": [],
   "source": [
    "# comments_df = add_comments_lang(comments_df)"
   ]
  },
  {
   "cell_type": "code",
   "execution_count": 22,
   "metadata": {},
   "outputs": [],
   "source": [
    "# comments_df = comments_df.query('lang == \"en\"')"
   ]
  },
  {
   "cell_type": "markdown",
   "metadata": {},
   "source": [
    "## SPLIT RATED AND NON-RATED COMMENTS"
   ]
  },
  {
   "cell_type": "code",
   "execution_count": 23,
   "metadata": {},
   "outputs": [
    {
     "data": {
      "text/plain": [
       "10         14206\n",
       "9          13173\n",
       "8          10573\n",
       "N/A         6031\n",
       "7           5727\n",
       "           ...  \n",
       "8.325          1\n",
       "7.61           1\n",
       "3.4            1\n",
       "8.46667        1\n",
       "9.28           1\n",
       "Name: rating, Length: 485, dtype: int64"
      ]
     },
     "execution_count": 23,
     "metadata": {},
     "output_type": "execute_result"
    }
   ],
   "source": [
    "# count number of comments per rating (N/A included)\n",
    "comments_df.rating.value_counts()"
   ]
  },
  {
   "cell_type": "code",
   "execution_count": 24,
   "metadata": {},
   "outputs": [
    {
     "data": {
      "text/plain": [
       "(63252, 5)"
      ]
     },
     "execution_count": 24,
     "metadata": {},
     "output_type": "execute_result"
    }
   ],
   "source": [
    "# get rated comments only\n",
    "rated_comments = comments_df.query('rating != \"N/A\"')\n",
    "rated_comments.shape"
   ]
  },
  {
   "cell_type": "code",
   "execution_count": 25,
   "metadata": {},
   "outputs": [
    {
     "data": {
      "text/plain": [
       "(6031, 5)"
      ]
     },
     "execution_count": 25,
     "metadata": {},
     "output_type": "execute_result"
    }
   ],
   "source": [
    "# get non rated comments only\n",
    "not_rated_comments = comments_df.query('rating == \"N/A\"').reset_index(drop=True)\n",
    "not_rated_comments.shape"
   ]
  },
  {
   "cell_type": "markdown",
   "metadata": {},
   "source": [
    "## CREATE TRAINING AND VALIDATION DATA"
   ]
  },
  {
   "cell_type": "code",
   "execution_count": 26,
   "metadata": {},
   "outputs": [],
   "source": [
    "# use rated comments (reviews) to train the model"
   ]
  },
  {
   "cell_type": "code",
   "execution_count": 27,
   "metadata": {},
   "outputs": [],
   "source": [
    "rated_comments = rated_comments.sample(frac=1)"
   ]
  },
  {
   "cell_type": "code",
   "execution_count": 28,
   "metadata": {},
   "outputs": [],
   "source": [
    "# create training X and y\n",
    "train_examples = list(rated_comments.value)\n",
    "train_labels = list((rated_comments.rating.astype(float)>=GOOD_REVIEW_THRESHOLD).astype(int))"
   ]
  },
  {
   "cell_type": "code",
   "execution_count": 29,
   "metadata": {},
   "outputs": [
    {
     "name": "stdout",
     "output_type": "stream",
     "text": [
      "example of positive rating:\n"
     ]
    },
    {
     "data": {
      "text/plain": [
       "'LOVE This, played at my Uncles house multiple times!!!'"
      ]
     },
     "execution_count": 29,
     "metadata": {},
     "output_type": "execute_result"
    }
   ],
   "source": [
    "print(\"example of positive rating:\")\n",
    "train_examples[train_labels.index(1)]"
   ]
  },
  {
   "cell_type": "code",
   "execution_count": 30,
   "metadata": {},
   "outputs": [
    {
     "name": "stdout",
     "output_type": "stream",
     "text": [
      "example of negative rating:\n"
     ]
    },
    {
     "data": {
      "text/plain": [
       "\"I don't know why I don't enjoy this so much. It felt limiting in my choices, like there was always one option that was the best, and I would be punished if I didn't do it. Also very slow-paced.\""
      ]
     },
     "execution_count": 30,
     "metadata": {},
     "output_type": "execute_result"
    }
   ],
   "source": [
    "print(\"example of negative rating:\")\n",
    "train_examples[train_labels.index(0)]"
   ]
  },
  {
   "cell_type": "code",
   "execution_count": 31,
   "metadata": {},
   "outputs": [],
   "source": [
    "# create validation dataset from training\n",
    "validation_len = int(len(train_examples)*VAL_FRACTION)\n",
    "validation_len\n",
    "\n",
    "x_val = train_examples[:validation_len]\n",
    "x_train = train_examples[validation_len:]\n",
    "\n",
    "y_val = train_labels[:validation_len]\n",
    "y_train = train_labels[validation_len:]"
   ]
  },
  {
   "cell_type": "markdown",
   "metadata": {},
   "source": [
    "## COMPOSE MODEL"
   ]
  },
  {
   "cell_type": "code",
   "execution_count": 32,
   "metadata": {},
   "outputs": [
    {
     "data": {
      "text/plain": [
       "<tf.Tensor: shape=(2, 50), dtype=float32, numpy=\n",
       "array([[ 0.1982231 , -0.14844386,  0.00571075, -0.13236518, -0.01729318,\n",
       "         0.06396857,  0.04414018, -0.29200852,  0.04114552, -0.19894914,\n",
       "        -0.0205414 , -0.19050398,  0.1287826 ,  0.19119631, -0.13379046,\n",
       "        -0.04777165,  0.08088499, -0.03185825, -0.31423926,  0.03954934,\n",
       "        -0.02852826, -0.14475286, -0.09696018, -0.06685486, -0.12593962,\n",
       "        -0.22618076, -0.15363193, -0.10452226,  0.05022716,  0.13285804,\n",
       "        -0.00488677,  0.09790319, -0.05383318, -0.04996517,  0.06527376,\n",
       "         0.10831552,  0.22208852,  0.0629539 , -0.03362856, -0.10679161,\n",
       "         0.17410794, -0.0263038 , -0.13179651,  0.15667525, -0.11687353,\n",
       "         0.13362777, -0.30371124,  0.02737263,  0.22512126,  0.14258751],\n",
       "       [ 0.28092515,  0.05843626,  0.05460948,  0.39815843,  0.07768856,\n",
       "        -0.04987588,  0.14252174, -0.12837948,  0.05669588, -0.10312901,\n",
       "         0.09913287,  0.07447433, -0.08775353,  0.2265547 ,  0.33778378,\n",
       "        -0.0839202 ,  0.3232833 , -0.05290575,  0.0024122 , -0.04536933,\n",
       "        -0.01185299,  0.07695957, -0.12584928,  0.03109971,  0.24737492,\n",
       "        -0.26582754,  0.14154035,  0.11247247, -0.12450295,  0.05348179,\n",
       "         0.14598343,  0.08180511,  0.0223198 , -0.11206047,  0.26568425,\n",
       "         0.12979287,  0.10766786,  0.06336079,  0.07835857, -0.11510701,\n",
       "         0.28909776, -0.03562407, -0.17787671, -0.16033857, -0.07159255,\n",
       "         0.07787068,  0.06633804, -0.29739588, -0.08341371,  0.32648668]],\n",
       "      dtype=float32)>"
      ]
     },
     "execution_count": 32,
     "metadata": {},
     "output_type": "execute_result"
    }
   ],
   "source": [
    "model = \"https://tfhub.dev/google/nnlm-en-dim50/2\"\n",
    "hub_layer = hub.KerasLayer(model, input_shape=[], dtype=tf.string, trainable=True)\n",
    "hub_layer(train_examples[:2])"
   ]
  },
  {
   "cell_type": "code",
   "execution_count": 33,
   "metadata": {},
   "outputs": [
    {
     "name": "stdout",
     "output_type": "stream",
     "text": [
      "Model: \"sequential\"\n",
      "_________________________________________________________________\n",
      "Layer (type)                 Output Shape              Param #   \n",
      "=================================================================\n",
      "keras_layer (KerasLayer)     (None, 50)                48190600  \n",
      "_________________________________________________________________\n",
      "dense (Dense)                (None, 16)                816       \n",
      "_________________________________________________________________\n",
      "dense_1 (Dense)              (None, 1)                 17        \n",
      "=================================================================\n",
      "Total params: 48,191,433\n",
      "Trainable params: 48,191,433\n",
      "Non-trainable params: 0\n",
      "_________________________________________________________________\n"
     ]
    }
   ],
   "source": [
    "model = tf.keras.Sequential()\n",
    "model.add(hub_layer)\n",
    "model.add(tf.keras.layers.Dense(16, activation='relu'))\n",
    "model.add(tf.keras.layers.Dense(1))\n",
    "\n",
    "model.summary()"
   ]
  },
  {
   "cell_type": "code",
   "execution_count": 34,
   "metadata": {},
   "outputs": [],
   "source": [
    "model.compile(\n",
    "    optimizer='adam',\n",
    "    loss=tf.losses.BinaryCrossentropy(from_logits=True),\n",
    "    metrics=[tf.metrics.BinaryAccuracy(threshold=0.0, name='accuracy')]\n",
    ")"
   ]
  },
  {
   "cell_type": "markdown",
   "metadata": {},
   "source": [
    "## TRAINING MODEL "
   ]
  },
  {
   "cell_type": "code",
   "execution_count": 35,
   "metadata": {},
   "outputs": [
    {
     "name": "stdout",
     "output_type": "stream",
     "text": [
      "Epoch 1/40\n",
      "93/93 - 8s - loss: 0.4999 - accuracy: 0.8189 - val_loss: 0.3951 - val_accuracy: 0.8580\n",
      "Epoch 2/40\n",
      "93/93 - 5s - loss: 0.3318 - accuracy: 0.8730 - val_loss: 0.3183 - val_accuracy: 0.8783\n",
      "Epoch 3/40\n",
      "93/93 - 5s - loss: 0.2675 - accuracy: 0.8954 - val_loss: 0.3014 - val_accuracy: 0.8827\n",
      "Epoch 4/40\n",
      "93/93 - 5s - loss: 0.2297 - accuracy: 0.9101 - val_loss: 0.3007 - val_accuracy: 0.8805\n",
      "Epoch 5/40\n",
      "93/93 - 5s - loss: 0.2020 - accuracy: 0.9224 - val_loss: 0.3172 - val_accuracy: 0.8778\n",
      "Epoch 6/40\n",
      "93/93 - 5s - loss: 0.1801 - accuracy: 0.9324 - val_loss: 0.3295 - val_accuracy: 0.8740\n",
      "Epoch 7/40\n",
      "93/93 - 5s - loss: 0.1616 - accuracy: 0.9405 - val_loss: 0.3472 - val_accuracy: 0.8695\n",
      "Epoch 8/40\n",
      "93/93 - 5s - loss: 0.1465 - accuracy: 0.9471 - val_loss: 0.3698 - val_accuracy: 0.8661\n"
     ]
    }
   ],
   "source": [
    "history = model.fit(\n",
    "    x_train,\n",
    "    y_train,\n",
    "    epochs=40,\n",
    "    batch_size=512,\n",
    "    validation_data=(x_val, y_val),\n",
    "    verbose=2,\n",
    "    callbacks=[\n",
    "        tf.keras.callbacks.EarlyStopping(monitor='val_accuracy', patience=5, min_delta=0.001)\n",
    "    ]\n",
    ")"
   ]
  },
  {
   "cell_type": "code",
   "execution_count": 36,
   "metadata": {},
   "outputs": [
    {
     "data": {
      "text/plain": [
       "dict_keys(['loss', 'accuracy', 'val_loss', 'val_accuracy'])"
      ]
     },
     "execution_count": 36,
     "metadata": {},
     "output_type": "execute_result"
    }
   ],
   "source": [
    "history_dict = history.history\n",
    "history_dict.keys()"
   ]
  },
  {
   "cell_type": "code",
   "execution_count": 37,
   "metadata": {},
   "outputs": [],
   "source": [
    "acc = history_dict['accuracy']\n",
    "val_acc = history_dict['val_accuracy']\n",
    "loss = history_dict['loss']\n",
    "val_loss = history_dict['val_loss']"
   ]
  },
  {
   "cell_type": "code",
   "execution_count": 38,
   "metadata": {},
   "outputs": [],
   "source": [
    "epochs = range(1, len(acc) + 1) "
   ]
  },
  {
   "cell_type": "code",
   "execution_count": 39,
   "metadata": {},
   "outputs": [
    {
     "data": {
      "image/png": "[encoded data removed]",
      "text/plain": [
       "<Figure size 648x360 with 1 Axes>"
      ]
     },
     "metadata": {
      "needs_background": "light"
     },
     "output_type": "display_data"
    }
   ],
   "source": [
    "# \"bo\" is for \"blue dot\"\n",
    "plt.figure(figsize=(9, 5))\n",
    "plt.plot(epochs, loss, 'bo', label='Training loss')\n",
    "# b is for \"solid blue line\"\n",
    "plt.plot(epochs, val_loss, 'b', label='Validation loss')\n",
    "plt.title('Training and validation loss')\n",
    "plt.xlabel('Epochs')\n",
    "plt.ylabel('Loss')\n",
    "plt.grid(True)\n",
    "plt.legend()\n",
    "\n",
    "plt.show()"
   ]
  },
  {
   "cell_type": "code",
   "execution_count": 40,
   "metadata": {},
   "outputs": [
    {
     "data": {
      "image/png": "[encoded data removed]",
      "text/plain": [
       "<Figure size 648x360 with 1 Axes>"
      ]
     },
     "metadata": {
      "needs_background": "light"
     },
     "output_type": "display_data"
    }
   ],
   "source": [
    "plt.figure(figsize=(9, 5))\n",
    "plt.plot(epochs, acc, 'bo', label='Training acc')\n",
    "plt.plot(epochs, val_acc, 'b', label='Validation acc')\n",
    "plt.title('Training and validation accuracy')\n",
    "plt.xlabel('Epochs')\n",
    "plt.ylabel('Accuracy')\n",
    "plt.grid(True)\n",
    "plt.legend()\n",
    "\n",
    "plt.show()"
   ]
  },
  {
   "cell_type": "code",
   "execution_count": 41,
   "metadata": {},
   "outputs": [],
   "source": [
    "def print_my_examples(inputs, results, actual_values=None, limit=None):\n",
    "    if actual_values is None:\n",
    "        result_for_printing = [f'input:\\n\"{inputs[i]}\"\\nscore: {results[i][0]:.6f}' for i in range(len(inputs))]\n",
    "    else:\n",
    "        result_for_printing = [f'input:\\n\"{inputs[i]}\"\\nscore: {results[i][0]:.6f}\\nactual value:{actual_values[i]}' for i in range(len(inputs))]\n",
    "    if limit:\n",
    "        result_for_printing = result_for_printing[:limit]\n",
    "    print(*result_for_printing, sep='\\n\\n')"
   ]
  },
  {
   "cell_type": "code",
   "execution_count": 42,
   "metadata": {},
   "outputs": [
    {
     "name": "stdout",
     "output_type": "stream",
     "text": [
      "input:\n",
      "\"fully painted \"table top\" quality\"\n",
      "score: 0.985952\n",
      "actual value:1\n",
      "\n",
      "input:\n",
      "\"This game does not give you the tools to overcome bad draws. Too bad, as it is actually very close to being a phenomenal game, if only it had been tweaked a tad. Great game to play with a non-gamer, though, although I stil prefer Everdell in that regard.\"\n",
      "score: 0.236053\n",
      "actual value:0\n",
      "\n",
      "input:\n",
      "\"The game is entertaining. But FFG has really gone all out to make your experience more about how much money they can get from you than about making it a good game out of the box.\"\n",
      "score: 0.987885\n",
      "actual value:1\n",
      "\n",
      "input:\n",
      "\"Hey \"\n",
      "score: 0.238413\n",
      "actual value:0\n",
      "\n",
      "input:\n",
      "\"great game, plenty of tough decisions, absolutely beautiful artwork\"\n",
      "score: 0.996106\n",
      "actual value:1\n",
      "\n",
      "input:\n",
      "\"want to try again (don't want to teach)\"\n",
      "score: 0.389453\n",
      "actual value:1\n",
      "\n",
      "input:\n",
      "\"great game, just wish it got more plays :)\"\n",
      "score: 0.999018\n",
      "actual value:1\n",
      "\n",
      "input:\n",
      "\"Tableau, Tactical\"\n",
      "score: 0.973485\n",
      "actual value:1\n",
      "\n",
      "input:\n",
      "\"Excellent. Will play it any chance I get. Components are a little flimsy, but very thematic. Definitely play with advanced cards and draft rules!\"\n",
      "score: 0.972660\n",
      "actual value:1\n",
      "\n",
      "input:\n",
      "\"*Owned by friend*   Just one play at the time of this review. Very enjoyable and not over complicated to learn as indicated. Serious consideration needs to be taken when playing, as you need to manage your spirit as the island can become overrun very quickly. I look forward  to future games.\"\n",
      "score: 0.978195\n",
      "actual value:1\n"
     ]
    }
   ],
   "source": [
    "inputs = x_train[:10]\n",
    "outputs = y_train[:10]\n",
    "results = tf.sigmoid(model.predict(tf.constant(inputs)))\n",
    "print_my_examples(inputs, results, outputs)"
   ]
  },
  {
   "cell_type": "code",
   "execution_count": 43,
   "metadata": {},
   "outputs": [],
   "source": [
    "## APPLY MODEL ON NON-RATED COMMENTS"
   ]
  },
  {
   "cell_type": "code",
   "execution_count": 44,
   "metadata": {},
   "outputs": [
    {
     "name": "stdout",
     "output_type": "stream",
     "text": [
      "input:\n",
      "\"Fathers Day 2018. From Amazon $79.99! -5% with Amazon Prime Card\"\n",
      "score: 0.999834\n",
      "\n",
      "input:\n",
      "\"* Gioco strategico. Cooperativo * 1-4 giocatori. Ideale per 2 * 90-120 minuti\"\n",
      "score: 0.999512\n",
      "\n",
      "input:\n",
      "\"Currently own, but have a few games to get plays in before I can learn this.\"\n",
      "score: 0.807638\n",
      "\n",
      "input:\n",
      "\"Collectors edition includes expansions Extra Extra, Legends, and Rugwort pack, as well as the premium components. \"\n",
      "score: 0.998669\n",
      "\n",
      "input:\n",
      "\"Friend strategy game. 4 factions w/ totally different objectives. \"\n",
      "score: 0.924946\n",
      "\n",
      "input:\n",
      "\"P1-4 B2 D4.01 T4 New, not sleeved RB not read Played 0 At Storage With Expansion\"\n",
      "score: 0.825255\n",
      "\n",
      "input:\n",
      "\"With BGG food bits and European expansion  \"\n",
      "score: 0.969372\n",
      "\n",
      "input:\n",
      "\"Core game is priced as if it came with a small campaign and decent insert but it doesn't. \"\n",
      "score: 0.898198\n",
      "\n",
      "input:\n",
      "\"Kickstarter version with Late Arrivals expansion + promos \"\n",
      "score: 0.995688\n",
      "\n",
      "input:\n",
      "\"Cool living card game with deckbuilding.\"\n",
      "score: 0.997405\n",
      "\n",
      "input:\n",
      "\"---- Including: Broken Token Insert Gloomhaven: Forgotten Circles (2019) \"\n",
      "score: 0.891958\n",
      "\n",
      "input:\n",
      "\"Sleeved =FFG Yellow.  Own: Prophesy of Kings 18x Fleet Stands by Bits77 Galaxy Blue/Aluminum\"\n",
      "score: 0.996338\n",
      "\n",
      "input:\n",
      "\"building pnp version deluxe wooden tokens and playing pieces\"\n",
      "score: 0.857823\n",
      "\n",
      "input:\n",
      "\"Jumped into the kickstarter for \"everything Everdell\" expected Feb 2020\"\n",
      "score: 0.864605\n",
      "\n",
      "input:\n",
      "\"Auf KS Niveau aufgepimpt mit Metallmünzen und realistische Rohstoffmarker\"\n",
      "score: 0.982979\n",
      "\n",
      "input:\n",
      "\"like a Seasons game +beautiful +cards +mini chains like a 7 Wonders (free cards)\"\n",
      "score: 0.945322\n",
      "\n",
      "input:\n",
      "\"Over 250 hours played over the last 2.5 years. \"\n",
      "score: 0.956733\n",
      "\n",
      "input:\n",
      "\"All items excellent condition! From a pet and smoke free home.\"\n",
      "score: 0.996017\n",
      "\n",
      "input:\n",
      "\"Mayday Standard Mayday Mini Euro\"\n",
      "score: 0.761562\n",
      "\n",
      "input:\n",
      "\"● De Ronde Tafel - gesponsord door [B][URL= Mouterij Waarschoot[/URL][/B]\"\n",
      "score: 0.998986\n",
      "\n",
      "input:\n",
      "\"Really solid game that is well designed and plays very smoothly. Only played this through a few times so far and am interested to see how deep the strategy goes once I really learn the games mechanics\"\n",
      "score: 0.998660\n",
      "\n",
      "input:\n",
      "\"Love, love, love this game. Definitely one of my favourites of all time!\"\n",
      "score: 0.999742\n",
      "\n",
      "input:\n",
      "\"Expansions:  [geekurl=/boardgameexpansion/287362/isle-cats-kickstarter-pack] Kickstarter Pack[/geekurl] [geekurl=/boardgameexpansion/287361/isle-cats-late-arrivals] Late Arrivals [/geekurl] \"\n",
      "score: 0.973680\n",
      "\n",
      "input:\n",
      "\"I had both the minis and standees for this mammoth game (the box weighs in at 10kg). It is a legacy game and is excellent value, with around 100 playable scenarios. I no longer have it tho' because I was offered 4x what I paid for my copy as a KS backer. The demand for this game has been 10x the number of copies available at retail; of course, that means the game will be reprinted so I parted with my copy on the assumption that I will be able to secure a copy of the reprint/second edition.  I now have the reprint KS (backed on KS). I had previously bought a set of Removable Stickers (from Sinister Fish) in anticipation of the new game's arrival.\"\n",
      "score: 0.996043\n",
      "\n",
      "input:\n",
      "\"Sleeved, together with Branch and Claw expansion and promo packs in Folded Space insert. With Deluxe Wooden Token Pack\"\n",
      "score: 0.999816\n"
     ]
    }
   ],
   "source": [
    "not_rated_comments = not_rated_comments.sample(frac=1)\n",
    "results = tf.sigmoid(model.predict(tf.constant(list(not_rated_comments.value.astype(str)))))\n",
    "print_my_examples(list(not_rated_comments.value), results, limit=25)"
   ]
  },
  {
   "cell_type": "markdown",
   "metadata": {},
   "source": [
    "## COMBINE RATED COMMENTS AND NOT-RATED COMMENTS WITH PREDICTED RATING"
   ]
  },
  {
   "cell_type": "code",
   "execution_count": 45,
   "metadata": {},
   "outputs": [
    {
     "name": "stdout",
     "output_type": "stream",
     "text": [
      "rated_comments_grouped: \n",
      "|     id |   rating_mean |   rating_count |\n",
      "|--------|---------------|----------------|\n",
      "| 124839 |          7.97 |            110 |\n",
      "| 162886 |          8.35 |           3497 |\n",
      "| 167355 |          8.41 |           1782 |\n",
      "| 167791 |          8.21 |           8209 |\n",
      "| 169427 |          8.58 |            215 |\n"
     ]
    }
   ],
   "source": [
    "rated_comments['rating'] = rated_comments.rating.astype(float)\n",
    "rated_comments_grouped = rated_comments.groupby('id').agg({'rating': ['mean', 'count']})\n",
    "rated_comments_grouped.columns = list(rated_comments_grouped.columns.map('_'.join))\n",
    "rated_comments_grouped = rated_comments_grouped.reset_index()\n",
    "print(\"rated_comments_grouped: \")\n",
    "print(rated_comments_grouped.head().to_markdown(index=False, floatfmt='.2f', tablefmt='github'))"
   ]
  },
  {
   "cell_type": "code",
   "execution_count": 46,
   "metadata": {},
   "outputs": [],
   "source": [
    "not_rated_comments['rating'] = [round(float(r[0])*10, 1) for r in results]"
   ]
  },
  {
   "cell_type": "code",
   "execution_count": 47,
   "metadata": {},
   "outputs": [
    {
     "name": "stdout",
     "output_type": "stream",
     "text": [
      "not_rated_comments_grouped: \n",
      "|     id |   rating_mean |   rating_count |\n",
      "|--------|---------------|----------------|\n",
      "| 124839 |          8.30 |             23 |\n",
      "| 162886 |          8.65 |            307 |\n",
      "| 167355 |          8.86 |            214 |\n",
      "| 167791 |          8.85 |            438 |\n",
      "| 169427 |          8.84 |             72 |\n"
     ]
    }
   ],
   "source": [
    "not_rated_comments['rating'] = not_rated_comments.rating.astype(float)\n",
    "not_rated_comments_grouped = not_rated_comments.groupby('id').agg({'rating': ['mean', 'count']})\n",
    "not_rated_comments_grouped.columns = list(not_rated_comments_grouped.columns.map('_'.join))\n",
    "not_rated_comments_grouped = not_rated_comments_grouped.reset_index()\n",
    "print(\"not_rated_comments_grouped: \")\n",
    "print(not_rated_comments_grouped.head().to_markdown(index=False, floatfmt='.2f', tablefmt='github'))"
   ]
  },
  {
   "cell_type": "code",
   "execution_count": 48,
   "metadata": {},
   "outputs": [],
   "source": [
    "grouped = rated_comments_grouped.merge(not_rated_comments_grouped, on='id', suffixes=('_review', '_comments'), how='outer')\n",
    "grouped['id'] = grouped.id.astype(str)\n",
    "grouped = grouped.merge(pd.DataFrame(hot_array), on='id', how='right')\n",
    "grouped['rank'] = grouped['rank'].astype(int)\n",
    "grouped['url'] = grouped['id'].apply(lambda x: f\"https://boardgamegeek.com/boardgame/{x}\")\n",
    "grouped['fixed_rating'] = (grouped['rating_mean_review']*grouped['rating_count_review']+grouped['rating_mean_comments']*grouped['rating_count_comments']) /\\\n",
    "                            (grouped['rating_count_review']+grouped['rating_count_comments'])\n",
    "grouped['thumbnail'] = grouped['thumbnail'].apply(lambda x: f'<img src=\"{x}\" width=\"124\" />')\n",
    "grouped['name'] = grouped.apply(lambda x: f'<a href=\"{x[\"url\"]}\">{x[\"name\"]}</a>', axis=1)\n",
    "\n",
    "grouped = grouped[['thumbnail', 'name', 'rating_mean_review', 'rating_mean_comments', 'fixed_rating', 'rank', 'yearpublished']]"
   ]
  },
  {
   "cell_type": "code",
   "execution_count": 49,
   "metadata": {},
   "outputs": [
    {
     "data": {
      "text/html": [
       "<div>\n",
       "<style scoped>\n",
       "    .dataframe tbody tr th:only-of-type {\n",
       "        vertical-align: middle;\n",
       "    }\n",
       "\n",
       "    .dataframe tbody tr th {\n",
       "        vertical-align: top;\n",
       "    }\n",
       "\n",
       "    .dataframe thead th {\n",
       "        text-align: right;\n",
       "    }\n",
       "</style>\n",
       "<table border=\"1\" class=\"dataframe\">\n",
       "  <thead>\n",
       "    <tr style=\"text-align: right;\">\n",
       "      <th></th>\n",
       "      <th>thumbnail</th>\n",
       "      <th>name</th>\n",
       "      <th>rating_mean_review</th>\n",
       "      <th>rating_mean_comments</th>\n",
       "      <th>fixed_rating</th>\n",
       "      <th>rank</th>\n",
       "      <th>yearpublished</th>\n",
       "    </tr>\n",
       "  </thead>\n",
       "  <tbody>\n",
       "    <tr>\n",
       "      <th>0</th>\n",
       "      <td>&lt;img src=\"https://cf.geekdo-images.com/hItZjdD...</td>\n",
       "      <td>&lt;a href=\"https://boardgamegeek.com/boardgame/3...</td>\n",
       "      <td>10.000000</td>\n",
       "      <td>8.466667</td>\n",
       "      <td>8.685714</td>\n",
       "      <td>1</td>\n",
       "      <td>2022</td>\n",
       "    </tr>\n",
       "    <tr>\n",
       "      <th>1</th>\n",
       "      <td>&lt;img src=\"https://cf.geekdo-images.com/6GqH14T...</td>\n",
       "      <td>&lt;a href=\"https://boardgamegeek.com/boardgame/3...</td>\n",
       "      <td>7.916983</td>\n",
       "      <td>8.903030</td>\n",
       "      <td>8.006010</td>\n",
       "      <td>2</td>\n",
       "      <td>2020</td>\n",
       "    </tr>\n",
       "    <tr>\n",
       "      <th>2</th>\n",
       "      <td>&lt;img src=\"https://cf.geekdo-images.com/SAKzHYV...</td>\n",
       "      <td>&lt;a href=\"https://boardgamegeek.com/boardgame/3...</td>\n",
       "      <td>7.000000</td>\n",
       "      <td>9.766667</td>\n",
       "      <td>9.075000</td>\n",
       "      <td>3</td>\n",
       "      <td>2022</td>\n",
       "    </tr>\n",
       "    <tr>\n",
       "      <th>3</th>\n",
       "      <td>&lt;img src=\"https://cf.geekdo-images.com/PhjygpW...</td>\n",
       "      <td>&lt;a href=\"https://boardgamegeek.com/boardgame/3...</td>\n",
       "      <td>8.116883</td>\n",
       "      <td>8.483333</td>\n",
       "      <td>8.153528</td>\n",
       "      <td>4</td>\n",
       "      <td>2020</td>\n",
       "    </tr>\n",
       "    <tr>\n",
       "      <th>4</th>\n",
       "      <td>&lt;img src=\"https://cf.geekdo-images.com/eUiju5S...</td>\n",
       "      <td>&lt;a href=\"https://boardgamegeek.com/boardgame/3...</td>\n",
       "      <td>8.657895</td>\n",
       "      <td>8.618182</td>\n",
       "      <td>8.643333</td>\n",
       "      <td>5</td>\n",
       "      <td>2021</td>\n",
       "    </tr>\n",
       "  </tbody>\n",
       "</table>\n",
       "</div>"
      ],
      "text/plain": [
       "                                           thumbnail  \\\n",
       "0  <img src=\"https://cf.geekdo-images.com/hItZjdD...   \n",
       "1  <img src=\"https://cf.geekdo-images.com/6GqH14T...   \n",
       "2  <img src=\"https://cf.geekdo-images.com/SAKzHYV...   \n",
       "3  <img src=\"https://cf.geekdo-images.com/PhjygpW...   \n",
       "4  <img src=\"https://cf.geekdo-images.com/eUiju5S...   \n",
       "\n",
       "                                                name  rating_mean_review  \\\n",
       "0  <a href=\"https://boardgamegeek.com/boardgame/3...           10.000000   \n",
       "1  <a href=\"https://boardgamegeek.com/boardgame/3...            7.916983   \n",
       "2  <a href=\"https://boardgamegeek.com/boardgame/3...            7.000000   \n",
       "3  <a href=\"https://boardgamegeek.com/boardgame/3...            8.116883   \n",
       "4  <a href=\"https://boardgamegeek.com/boardgame/3...            8.657895   \n",
       "\n",
       "   rating_mean_comments  fixed_rating  rank yearpublished  \n",
       "0              8.466667      8.685714     1          2022  \n",
       "1              8.903030      8.006010     2          2020  \n",
       "2              9.766667      9.075000     3          2022  \n",
       "3              8.483333      8.153528     4          2020  \n",
       "4              8.618182      8.643333     5          2021  "
      ]
     },
     "execution_count": 49,
     "metadata": {},
     "output_type": "execute_result"
    }
   ],
   "source": [
    "grouped.head()"
   ]
  },
  {
   "cell_type": "code",
   "execution_count": 50,
   "metadata": {},
   "outputs": [],
   "source": [
    "def display_topn(by, n=5, ascending=True):\n",
    "    temp_df = grouped.sort_values(by, ascending=ascending).head(n)\n",
    "    temp_df.index=list(range(1, n+1))\n",
    "    return HTML(temp_df.to_html(escape=False, classes='table table-striped'))"
   ]
  },
  {
   "cell_type": "code",
   "execution_count": 51,
   "metadata": {},
   "outputs": [
    {
     "data": {
      "text/html": [
       "<table border=\"1\" class=\"dataframe table table-striped\">\n",
       "  <thead>\n",
       "    <tr style=\"text-align: right;\">\n",
       "      <th></th>\n",
       "      <th>thumbnail</th>\n",
       "      <th>name</th>\n",
       "      <th>rating_mean_review</th>\n",
       "      <th>rating_mean_comments</th>\n",
       "      <th>fixed_rating</th>\n",
       "      <th>rank</th>\n",
       "      <th>yearpublished</th>\n",
       "    </tr>\n",
       "  </thead>\n",
       "  <tbody>\n",
       "    <tr>\n",
       "      <th>1</th>\n",
       "      <td><img src=\"https://cf.geekdo-images.com/hItZjdDTNuaCZ7fEztwcUQ__thumb/img/Ov6eWR87PZ2O1XYQtXMO6KvfzOg=/fit-in/200x150/filters:strip_icc()/pic6153324.jpg\" width=\"124\" /></td>\n",
       "      <td><a href=\"https://boardgamegeek.com/boardgame/337627\">Voidfall</a></td>\n",
       "      <td>10.000000</td>\n",
       "      <td>8.466667</td>\n",
       "      <td>8.685714</td>\n",
       "      <td>1</td>\n",
       "      <td>2022</td>\n",
       "    </tr>\n",
       "    <tr>\n",
       "      <th>2</th>\n",
       "      <td><img src=\"https://cf.geekdo-images.com/6GqH14TJJhza86BX5HCLEQ__thumb/img/J8SVmGOJXZGxNjkT3xYNQU7Haxg=/fit-in/200x150/filters:strip_icc()/pic5674958.jpg\" width=\"124\" /></td>\n",
       "      <td><a href=\"https://boardgamegeek.com/boardgame/312484\">Lost Ruins of Arnak</a></td>\n",
       "      <td>7.916983</td>\n",
       "      <td>8.903030</td>\n",
       "      <td>8.006010</td>\n",
       "      <td>2</td>\n",
       "      <td>2020</td>\n",
       "    </tr>\n",
       "    <tr>\n",
       "      <th>3</th>\n",
       "      <td><img src=\"https://cf.geekdo-images.com/SAKzHYVbMnhbSgYXngoJxQ__thumb/img/RF6aORNcMKL0lwnA8FlwplOKj4g=/fit-in/200x150/filters:strip_icc()/pic6109923.jpg\" width=\"124\" /></td>\n",
       "      <td><a href=\"https://boardgamegeek.com/boardgame/329551\">Mosaic: A Story of Civilization</a></td>\n",
       "      <td>7.000000</td>\n",
       "      <td>9.766667</td>\n",
       "      <td>9.075000</td>\n",
       "      <td>3</td>\n",
       "      <td>2022</td>\n",
       "    </tr>\n",
       "    <tr>\n",
       "      <th>4</th>\n",
       "      <td><img src=\"https://cf.geekdo-images.com/PhjygpWSo-0labGrPBMyyg__thumb/img/JGgY-nBmkyB8WRp8vcoBLlNMQ5U=/fit-in/200x150/filters:strip_icc()/pic5666597.jpg\" width=\"124\" /></td>\n",
       "      <td><a href=\"https://boardgamegeek.com/boardgame/316554\">Dune: Imperium</a></td>\n",
       "      <td>8.116883</td>\n",
       "      <td>8.483333</td>\n",
       "      <td>8.153528</td>\n",
       "      <td>4</td>\n",
       "      <td>2020</td>\n",
       "    </tr>\n",
       "    <tr>\n",
       "      <th>5</th>\n",
       "      <td><img src=\"https://cf.geekdo-images.com/eUiju5SqZbkNt8gnEofrTw__thumb/img/zNkmLNyeXJGOY24FeAAf4U67ejU=/fit-in/200x150/filters:strip_icc()/pic6035127.png\" width=\"124\" /></td>\n",
       "      <td><a href=\"https://boardgamegeek.com/boardgame/316624\">Stationfall</a></td>\n",
       "      <td>8.657895</td>\n",
       "      <td>8.618182</td>\n",
       "      <td>8.643333</td>\n",
       "      <td>5</td>\n",
       "      <td>2021</td>\n",
       "    </tr>\n",
       "  </tbody>\n",
       "</table>"
      ],
      "text/plain": [
       "<IPython.core.display.HTML object>"
      ]
     },
     "execution_count": 51,
     "metadata": {},
     "output_type": "execute_result"
    }
   ],
   "source": [
    "# TOP N RANK\n",
    "display_topn(by='rank', n=TOP_N)"
   ]
  },
  {
   "cell_type": "code",
   "execution_count": 52,
   "metadata": {},
   "outputs": [
    {
     "data": {
      "text/html": [
       "<table border=\"1\" class=\"dataframe table table-striped\">\n",
       "  <thead>\n",
       "    <tr style=\"text-align: right;\">\n",
       "      <th></th>\n",
       "      <th>thumbnail</th>\n",
       "      <th>name</th>\n",
       "      <th>rating_mean_review</th>\n",
       "      <th>rating_mean_comments</th>\n",
       "      <th>fixed_rating</th>\n",
       "      <th>rank</th>\n",
       "      <th>yearpublished</th>\n",
       "    </tr>\n",
       "  </thead>\n",
       "  <tbody>\n",
       "    <tr>\n",
       "      <th>1</th>\n",
       "      <td><img src=\"https://cf.geekdo-images.com/hItZjdDTNuaCZ7fEztwcUQ__thumb/img/Ov6eWR87PZ2O1XYQtXMO6KvfzOg=/fit-in/200x150/filters:strip_icc()/pic6153324.jpg\" width=\"124\" /></td>\n",
       "      <td><a href=\"https://boardgamegeek.com/boardgame/337627\">Voidfall</a></td>\n",
       "      <td>10.000000</td>\n",
       "      <td>8.466667</td>\n",
       "      <td>8.685714</td>\n",
       "      <td>1</td>\n",
       "      <td>2022</td>\n",
       "    </tr>\n",
       "    <tr>\n",
       "      <th>2</th>\n",
       "      <td><img src=\"https://cf.geekdo-images.com/nhWSmNJSTBAye6bxLa9x-Q__thumb/img/B4r1iyRl2Z2CcMrtBRQOKYwwngw=/fit-in/200x150/filters:strip_icc()/pic4779069.jpg\" width=\"124\" /></td>\n",
       "      <td><a href=\"https://boardgamegeek.com/boardgame/268012\">Chronicles of Drunagor: Age of Darkness</a></td>\n",
       "      <td>9.500000</td>\n",
       "      <td>9.445455</td>\n",
       "      <td>9.485714</td>\n",
       "      <td>18</td>\n",
       "      <td>2021</td>\n",
       "    </tr>\n",
       "    <tr>\n",
       "      <th>3</th>\n",
       "      <td><img src=\"https://cf.geekdo-images.com/Oh3kHw6lweg6ru71Q16h2Q__thumb/img/e9XZdQe1ZcPpaq4Gy31OoWBB_V0=/fit-in/200x150/filters:strip_icc()/pic5235277.jpg\" width=\"124\" /></td>\n",
       "      <td><a href=\"https://boardgamegeek.com/boardgame/246900\">Eclipse: Second Dawn for the Galaxy</a></td>\n",
       "      <td>8.744153</td>\n",
       "      <td>8.743373</td>\n",
       "      <td>8.744028</td>\n",
       "      <td>37</td>\n",
       "      <td>2020</td>\n",
       "    </tr>\n",
       "    <tr>\n",
       "      <th>4</th>\n",
       "      <td><img src=\"https://cf.geekdo-images.com/x3zxjr-Vw5iU4yDPg70Jgw__thumb/img/o18rjEemoWaVru9Y2TyPwuIaRfE=/fit-in/200x150/filters:strip_icc()/pic3490053.jpg\" width=\"124\" /></td>\n",
       "      <td><a href=\"https://boardgamegeek.com/boardgame/224517\">Brass: Birmingham</a></td>\n",
       "      <td>8.689960</td>\n",
       "      <td>8.969264</td>\n",
       "      <td>8.715809</td>\n",
       "      <td>27</td>\n",
       "      <td>2018</td>\n",
       "    </tr>\n",
       "    <tr>\n",
       "      <th>5</th>\n",
       "      <td><img src=\"https://cf.geekdo-images.com/eUiju5SqZbkNt8gnEofrTw__thumb/img/zNkmLNyeXJGOY24FeAAf4U67ejU=/fit-in/200x150/filters:strip_icc()/pic6035127.png\" width=\"124\" /></td>\n",
       "      <td><a href=\"https://boardgamegeek.com/boardgame/316624\">Stationfall</a></td>\n",
       "      <td>8.657895</td>\n",
       "      <td>8.618182</td>\n",
       "      <td>8.643333</td>\n",
       "      <td>5</td>\n",
       "      <td>2021</td>\n",
       "    </tr>\n",
       "  </tbody>\n",
       "</table>"
      ],
      "text/plain": [
       "<IPython.core.display.HTML object>"
      ]
     },
     "execution_count": 52,
     "metadata": {},
     "output_type": "execute_result"
    }
   ],
   "source": [
    "# TOP N REVIEW RANK\n",
    "display_topn(by='rating_mean_review', n=TOP_N, ascending=False)"
   ]
  },
  {
   "cell_type": "code",
   "execution_count": 53,
   "metadata": {},
   "outputs": [
    {
     "data": {
      "text/html": [
       "<table border=\"1\" class=\"dataframe table table-striped\">\n",
       "  <thead>\n",
       "    <tr style=\"text-align: right;\">\n",
       "      <th></th>\n",
       "      <th>thumbnail</th>\n",
       "      <th>name</th>\n",
       "      <th>rating_mean_review</th>\n",
       "      <th>rating_mean_comments</th>\n",
       "      <th>fixed_rating</th>\n",
       "      <th>rank</th>\n",
       "      <th>yearpublished</th>\n",
       "    </tr>\n",
       "  </thead>\n",
       "  <tbody>\n",
       "    <tr>\n",
       "      <th>1</th>\n",
       "      <td><img src=\"https://cf.geekdo-images.com/nhWSmNJSTBAye6bxLa9x-Q__thumb/img/B4r1iyRl2Z2CcMrtBRQOKYwwngw=/fit-in/200x150/filters:strip_icc()/pic4779069.jpg\" width=\"124\" /></td>\n",
       "      <td><a href=\"https://boardgamegeek.com/boardgame/268012\">Chronicles of Drunagor: Age of Darkness</a></td>\n",
       "      <td>9.500000</td>\n",
       "      <td>9.445455</td>\n",
       "      <td>9.485714</td>\n",
       "      <td>18</td>\n",
       "      <td>2021</td>\n",
       "    </tr>\n",
       "    <tr>\n",
       "      <th>2</th>\n",
       "      <td><img src=\"https://cf.geekdo-images.com/SAKzHYVbMnhbSgYXngoJxQ__thumb/img/RF6aORNcMKL0lwnA8FlwplOKj4g=/fit-in/200x150/filters:strip_icc()/pic6109923.jpg\" width=\"124\" /></td>\n",
       "      <td><a href=\"https://boardgamegeek.com/boardgame/329551\">Mosaic: A Story of Civilization</a></td>\n",
       "      <td>7.000000</td>\n",
       "      <td>9.766667</td>\n",
       "      <td>9.075000</td>\n",
       "      <td>3</td>\n",
       "      <td>2022</td>\n",
       "    </tr>\n",
       "    <tr>\n",
       "      <th>3</th>\n",
       "      <td><img src=\"https://cf.geekdo-images.com/-JD8JLncWYMes9Q6YIgorg__thumb/img/Ce6a64m5DxVae_ZXnAsrgdEnqBQ=/fit-in/200x150/filters:strip_icc()/pic6136538.jpg\" width=\"124\" /></td>\n",
       "      <td><a href=\"https://boardgamegeek.com/boardgame/277700\">Merchants Cove</a></td>\n",
       "      <td>8.307843</td>\n",
       "      <td>9.333333</td>\n",
       "      <td>8.770968</td>\n",
       "      <td>6</td>\n",
       "      <td>2021</td>\n",
       "    </tr>\n",
       "    <tr>\n",
       "      <th>4</th>\n",
       "      <td><img src=\"https://cf.geekdo-images.com/Oh3kHw6lweg6ru71Q16h2Q__thumb/img/e9XZdQe1ZcPpaq4Gy31OoWBB_V0=/fit-in/200x150/filters:strip_icc()/pic5235277.jpg\" width=\"124\" /></td>\n",
       "      <td><a href=\"https://boardgamegeek.com/boardgame/246900\">Eclipse: Second Dawn for the Galaxy</a></td>\n",
       "      <td>8.744153</td>\n",
       "      <td>8.743373</td>\n",
       "      <td>8.744028</td>\n",
       "      <td>37</td>\n",
       "      <td>2020</td>\n",
       "    </tr>\n",
       "    <tr>\n",
       "      <th>5</th>\n",
       "      <td><img src=\"https://cf.geekdo-images.com/x3zxjr-Vw5iU4yDPg70Jgw__thumb/img/o18rjEemoWaVru9Y2TyPwuIaRfE=/fit-in/200x150/filters:strip_icc()/pic3490053.jpg\" width=\"124\" /></td>\n",
       "      <td><a href=\"https://boardgamegeek.com/boardgame/224517\">Brass: Birmingham</a></td>\n",
       "      <td>8.689960</td>\n",
       "      <td>8.969264</td>\n",
       "      <td>8.715809</td>\n",
       "      <td>27</td>\n",
       "      <td>2018</td>\n",
       "    </tr>\n",
       "  </tbody>\n",
       "</table>"
      ],
      "text/plain": [
       "<IPython.core.display.HTML object>"
      ]
     },
     "execution_count": 53,
     "metadata": {},
     "output_type": "execute_result"
    }
   ],
   "source": [
    "# TOP N FIXED RANK\n",
    "display_topn(by='fixed_rating', n=TOP_N, ascending=False)"
   ]
  },
  {
   "cell_type": "code",
   "execution_count": 54,
   "metadata": {},
   "outputs": [],
   "source": [
    "# model.save('saved_model\\my_model')"
   ]
  },
  {
   "cell_type": "code",
   "execution_count": 55,
   "metadata": {},
   "outputs": [],
   "source": [
    "# saved_model = tf.keras.models.load_model('saved_model\\my_model')"
   ]
  },
  {
   "cell_type": "code",
   "execution_count": 56,
   "metadata": {},
   "outputs": [],
   "source": [
    "# some examples on \"long\" comments vs short comments"
   ]
  },
  {
   "cell_type": "code",
   "execution_count": 59,
   "metadata": {},
   "outputs": [
    {
     "name": "stdout",
     "output_type": "stream",
     "text": [
      "input:\n",
      "\"Only played once. Not a fan of the theme. I don't feel like I can rate after only playing once, so I'm not going to.\"\n",
      "score: 0.079213\n",
      "\n",
      "input:\n",
      "\"I was having great expectations from this title, but it fell short on implementation.  I felt bored halfway through the first game, like my decisions didn't matter as much as luck from the draw.\"\n",
      "score: 0.240989\n",
      "\n",
      "input:\n",
      "\"I've only played a few scenarios. I'm considering selling only because of how ambitious the game is and I'm not sure I'll be able to finish it.\"\n",
      "score: 0.389806\n",
      "\n",
      "input:\n",
      "\"Looking for players! I have not played it yet but I do own a Kickstarter Copy.  Message me if you would like to play..especially if you can help with the rules! LOL\"\n",
      "score: 0.732224\n",
      "\n",
      "input:\n",
      "\"At this time, this game will realistically not get played due to the required time commitment. Maybe in the future. Will not get now.\"\n",
      "score: 0.765046\n",
      "\n",
      "input:\n",
      "\"Playing Time: 1-2.5 hours Best with 2-4 players (4 max) Pros: Asymmetric player abilities, satisfying engine building Cons: Little player interaction, can be seen as figuring out puzzle faster than others\"\n",
      "score: 0.804391\n",
      "\n",
      "input:\n",
      "\"The art caught me and now I'm hooked! It feels like a lot at first since each faction is so specific, but give it time.\"\n",
      "score: 0.830621\n",
      "\n",
      "input:\n",
      "\"Finally sold on the Eclipse after SUSD review. Now this game looks like something i'd want to try out (looking at you, 1st edition)\"\n",
      "score: 0.834425\n",
      "\n",
      "input:\n",
      "\"Lots of neat mechanics combine to make a game that's still all about hex combat. Lots of flavor, great setting.\"\n",
      "score: 0.901170\n",
      "\n",
      "input:\n",
      "\"Dice Tower: Seal of Excellence.  Engine-builder, lidt som Race for the Galaxy. Omkring 160 forskellige fuglekort.\"\n",
      "score: 0.923630\n",
      "\n",
      "input:\n",
      "\"Used - All components accounted for and in very good condition. Only played twice. Box in great shape with no marks.\"\n",
      "score: 0.958734\n",
      "\n",
      "input:\n",
      "\"Would gladly play this once but not interested in buying another sprawling semi-coop game. It is expensive and it does seem overproduced. I mean, why do we need minis?\"\n",
      "score: 0.973299\n",
      "\n",
      "input:\n",
      "\"Root isn't worth getting solely for solo, solo gameplay seems iffy and largely random.  Better options: scythe, terraforming mars, spirit island, gloomhaven, mage knight, Arkham files, onirim games. (Many of which I already own and haven’t played yet...).\"\n",
      "score: 0.981492\n",
      "\n",
      "input:\n",
      "\"Includes the promotional 11x17 War Sun art print.   I absolutely love this game and have hosted a few games of it, but now everybody I'm likely to play with owns it so I don't need to hold on to my copy.\"\n",
      "score: 0.989262\n",
      "\n",
      "input:\n",
      "\"As a passionate boardgamer, it bothers me, I can’t get my family to play any. With a creative wife and a daughter who loves cats, this, however, could be just the game, that brings them to the table.\"\n",
      "score: 0.989743\n",
      "\n",
      "input:\n",
      "\"Also have the Snow Algae promo card, and purchased the Rover First Player Marker and the Dual Layer Player Boards from the BGG Store.\"\n",
      "score: 0.992317\n",
      "\n",
      "input:\n",
      "\"Maybe I will go for this one when I win the lottery.  I will have to start buying tickets first. Working through gloomhaven right now so I guess I don't really need it - but hey that is what a hobby is, getting stuff you don't need!\"\n",
      "score: 0.985224\n",
      "\n",
      "input:\n",
      "\"Pfister of Mombasa and Broom Service.  Reminds me slightly of Caylus because of the path you follow. But only very slightly.\"\n",
      "score: 0.993354\n",
      "\n",
      "input:\n",
      "\"Stickers and map new and sealed. All Rewards still sealed. Missing original retail box but will include a Plano organizer that holds the components perfectly.\"\n",
      "score: 0.999260\n",
      "\n",
      "input:\n",
      "\"With Meeple Source First Player Token, 6 sets of Painted Meeple Source bird player tokens, 5 neoprene player mats, Meeple Source Wooden Dice Tower autographed by EH, Neoprene Scoring and Goals Mat\"\n",
      "score: 0.999925\n",
      "\n",
      "input:\n",
      "\"Acquired in BGG Trade (Core Set + Dunwhich + 3 Mythos Packs) For Aquasphere, Age of Empires III and Dungeon Lords Sold for $50 with Dunwich on used vic\"\n",
      "score: 0.999444\n",
      "\n",
      "input:\n",
      "\"[color=#38dc77][i][b]#Kickstarter[/b][/i][/color]  [b]Expansions:[/b] + [thing=287362]The Isle of Cats: Kickstarter Pack[/thing] + [thing=287361]The Isle of Cats: Late Arrivals[/thing] \"\n",
      "score: 0.998670\n",
      "\n",
      "input:\n",
      "\"collection note: upgraded base to include the big box plus city domes, rover mini, trade fleet + chairman minis, and metal cubes - everything offered in the 2020 kickstarter except the custom sleeves.\"\n",
      "score: 0.997745\n",
      "\n",
      "input:\n",
      "\"(Kickstarted, premium pledge) + exp Invasores de Tierras Lejanas + exp Vientos de Guerra y Paz + exp Encuentros + exp El Auge de Fenris\"\n",
      "score: 0.997635\n",
      "\n",
      "input:\n",
      "\"Number of cards: 128 Ultimate Guard sleeve size: Standard Size: Premium Soft (UGD010051, 100/pack) - (66 x 93mm)  Number of cards: 27 @ 44 x 63mm Fantasy Flight sleeve size: Mini European - Red (FFS02, 50/pack) - (1-11/16\" x 2-5/8\" - 44 x 68mm)\"\n",
      "score: 0.999998\n"
     ]
    }
   ],
   "source": [
    "# some long comments\n",
    "not_rated_comments['comment_len'] = not_rated_comments['value'].str.len()\n",
    "some_long_comments = not_rated_comments.query(\"comment_len>100 and comment_len<300\").sample(frac=1).head(25).sort_values('rating')\n",
    "results = tf.sigmoid(model.predict(tf.constant(list(some_long_comments.value))))\n",
    "print_my_examples(list(some_long_comments.value), results)"
   ]
  },
  {
   "cell_type": "code",
   "execution_count": null,
   "metadata": {},
   "outputs": [],
   "source": []
  }
 ],
 "metadata": {
  "kernelspec": {
   "display_name": "tensorflow2",
   "language": "python",
   "name": "tensorflow2"
  },
  "language_info": {
   "codemirror_mode": {
    "name": "ipython",
    "version": 3
   },
   "file_extension": ".py",
   "mimetype": "text/x-python",
   "name": "python",
   "nbconvert_exporter": "python",
   "pygments_lexer": "ipython3",
   "version": "3.8.8"
  }
 },
 "nbformat": 4,
 "nbformat_minor": 4
}
