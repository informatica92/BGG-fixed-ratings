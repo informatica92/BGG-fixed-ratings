{
 "cells": [
  {
   "cell_type": "code",
   "execution_count": 1,
   "metadata": {},
   "outputs": [],
   "source": [
    "# ## BGG API\n",
    "# https://www.boardgamegeek.com/xmlapi2/thing?id=161599&comments=1\n",
    "# https://www.boardgamegeek.com/xmlapi2/hot?type=boardgame\n",
    "# ## NLP WITH TF\n",
    "# https://www.tensorflow.org/hub/tutorials/tf2_text_classification"
   ]
  },
  {
   "cell_type": "code",
   "execution_count": 2,
   "metadata": {},
   "outputs": [
    {
     "name": "stdout",
     "output_type": "stream",
     "text": [
      "Version:      2.5.0\n",
      "Eager mode:   True\n",
      "Hub version:  0.12.0\n",
      "GPU:          available\n"
     ]
    }
   ],
   "source": [
    "import tensorflow as tf\n",
    "import tensorflow_hub as hub\n",
    "from tensorflow.keras.wrappers.scikit_learn import KerasRegressor, KerasClassifier\n",
    "from sklearn.model_selection import GridSearchCV\n",
    "\n",
    "from IPython.display import HTML\n",
    "from datetime import datetime\n",
    "import matplotlib.pyplot as plt\n",
    "import pandas as pd\n",
    "import numpy as np\n",
    "import re\n",
    "\n",
    "from utilities import get_hot_data, get_comments, remove_short_comments, build_model, print_my_examples\n",
    "\n",
    "print(\"Version:     \", tf.__version__)\n",
    "print(\"Eager mode:  \", tf.executing_eagerly())\n",
    "print(\"Hub version: \", hub.__version__)\n",
    "print(\"GPU:         \", \"available\" if tf.config.list_physical_devices('GPU') else \"NOT available\")\n",
    "\n",
    "tf.get_logger().setLevel('ERROR')"
   ]
  },
  {
   "cell_type": "code",
   "execution_count": 3,
   "metadata": {},
   "outputs": [],
   "source": [
    "# tf.debugging.set_log_device_placement(True)"
   ]
  },
  {
   "cell_type": "code",
   "execution_count": 4,
   "metadata": {},
   "outputs": [],
   "source": [
    "GOOD_REVIEW_THRESHOLD = 7\n",
    "VAL_FRACTION = 0.25\n",
    "MIN_COMMENT_LEN = 25\n",
    "TOP_N = 5\n",
    "MODEL_NAME = \"https://tfhub.dev/google/tf2-preview/nnlm-en-dim50/1\"\n",
    "# MORE ABOUT MODEL NAMES: \n",
    "# \"https://tfhub.dev/google/tf2-preview/nnlm-en-dim128/1\"\n",
    "# \"https://tfhub.dev/google/tf2-preview/nnlm-en-dim128-with-normalization/1\"\n",
    "# we also tested these solutions with dimension equals to 128 but accuracy \n",
    "# is a bit lower (0.85 for 128 vs 0.86 for 50) and training sometimes stops \n",
    "# unexpectedly for memory limit\n",
    "#\n",
    "# \"https://tfhub.dev/google/tf2-preview/nnlm-en-dim50/1\"\n",
    "# \"https://tfhub.dev/google/tf2-preview/nnlm-en-dim50-with-normalization/1\"\n",
    "# there is no difference between normalization and not so we use the one \n",
    "# without normalization"
   ]
  },
  {
   "cell_type": "markdown",
   "metadata": {},
   "source": [
    "## GET DATA"
   ]
  },
  {
   "cell_type": "code",
   "execution_count": 5,
   "metadata": {},
   "outputs": [
    {
     "data": {
      "text/plain": [
       "[{'id': '340466',\n",
       "  'rank': '1',\n",
       "  'thumbnail': 'https://cf.geekdo-images.com/oqanBg2ZMXFEcZGXs5Xhjg__thumb/img/ytH65f20HAD_pWA7-adVLLKUTtM=/fit-in/200x150/filters:strip_icc()/pic6222156.png',\n",
       "  'name': 'Unfathomable',\n",
       "  'yearpublished': '2021'},\n",
       " {'id': '314745',\n",
       "  'rank': '2',\n",
       "  'thumbnail': 'https://cf.geekdo-images.com/By59lVylKiQh_ICJUgK5Tg__thumb/img/a-AYlm8qtSbpqeqydP09w1Aorfw=/fit-in/200x150/filters:strip_icc()/pic6209785.jpg',\n",
       "  'name': 'Now or Never',\n",
       "  'yearpublished': '2021'}]"
      ]
     },
     "execution_count": 5,
     "metadata": {},
     "output_type": "execute_result"
    }
   ],
   "source": [
    "hot_array = get_hot_data()\n",
    "hot_array[:2]"
   ]
  },
  {
   "cell_type": "code",
   "execution_count": 6,
   "metadata": {},
   "outputs": [
    {
     "name": "stdout",
     "output_type": "stream",
     "text": [
      "missing csv file, getting new data using API...\n",
      "page number = 10 (max: 100, len: 30)\n",
      "page number = 20 (max: 100, len: 21)\n",
      "page number = 30 (max: 100, len: 16)\n",
      "page number = 40 (max: 100, len: 13)\n",
      "page number = 50 (max: 100, len: 7)\n",
      "page number = 60 (max: 100, len: 7)\n",
      "page number = 70 (max: 100, len: 5)\n",
      "page number = 80 (max: 100, len: 4)\n",
      "page number = 90 (max: 100, len: 2)\n",
      "page number = 100 (max: 68, len: 1)\n",
      "comments_df shape: (123963, 4)\n"
     ]
    },
    {
     "data": {
      "text/html": [
       "<div>\n",
       "<style scoped>\n",
       "    .dataframe tbody tr th:only-of-type {\n",
       "        vertical-align: middle;\n",
       "    }\n",
       "\n",
       "    .dataframe tbody tr th {\n",
       "        vertical-align: top;\n",
       "    }\n",
       "\n",
       "    .dataframe thead th {\n",
       "        text-align: right;\n",
       "    }\n",
       "</style>\n",
       "<table border=\"1\" class=\"dataframe\">\n",
       "  <thead>\n",
       "    <tr style=\"text-align: right;\">\n",
       "      <th></th>\n",
       "      <th>id</th>\n",
       "      <th>username</th>\n",
       "      <th>rating</th>\n",
       "      <th>value</th>\n",
       "    </tr>\n",
       "  </thead>\n",
       "  <tbody>\n",
       "    <tr>\n",
       "      <th>0</th>\n",
       "      <td>340466</td>\n",
       "      <td>Barry Kendall</td>\n",
       "      <td>N/A</td>\n",
       "      <td>Intriguing.  Look forward to learning more.</td>\n",
       "    </tr>\n",
       "    <tr>\n",
       "      <th>1</th>\n",
       "      <td>340466</td>\n",
       "      <td>Benwax123</td>\n",
       "      <td>9</td>\n",
       "      <td>Played as play tester</td>\n",
       "    </tr>\n",
       "    <tr>\n",
       "      <th>2</th>\n",
       "      <td>340466</td>\n",
       "      <td>bradray</td>\n",
       "      <td>N/A</td>\n",
       "      <td>21/09</td>\n",
       "    </tr>\n",
       "    <tr>\n",
       "      <th>3</th>\n",
       "      <td>340466</td>\n",
       "      <td>DadouXIII</td>\n",
       "      <td>N/A</td>\n",
       "      <td>WAITING FOR PRE-ORDER</td>\n",
       "    </tr>\n",
       "    <tr>\n",
       "      <th>4</th>\n",
       "      <td>340466</td>\n",
       "      <td>Dark Herald</td>\n",
       "      <td>N/A</td>\n",
       "      <td>Notes: To Order</td>\n",
       "    </tr>\n",
       "    <tr>\n",
       "      <th>...</th>\n",
       "      <td>...</td>\n",
       "      <td>...</td>\n",
       "      <td>...</td>\n",
       "      <td>...</td>\n",
       "    </tr>\n",
       "    <tr>\n",
       "      <th>123958</th>\n",
       "      <td>167791</td>\n",
       "      <td>z_zadar</td>\n",
       "      <td>9</td>\n",
       "      <td>Some games are so much fun. Others can be a li...</td>\n",
       "    </tr>\n",
       "    <tr>\n",
       "      <th>123959</th>\n",
       "      <td>167791</td>\n",
       "      <td>_Czid_</td>\n",
       "      <td>8</td>\n",
       "      <td>Have played with Elysium and Prelude expansion...</td>\n",
       "    </tr>\n",
       "    <tr>\n",
       "      <th>123960</th>\n",
       "      <td>167791</td>\n",
       "      <td>_Marty_</td>\n",
       "      <td>9.5</td>\n",
       "      <td>Fantastic game. With so many cards that can ch...</td>\n",
       "    </tr>\n",
       "    <tr>\n",
       "      <th>123961</th>\n",
       "      <td>167791</td>\n",
       "      <td>_mun_</td>\n",
       "      <td>10</td>\n",
       "      <td>Nagyon izgalmas játék, jó a mechanizmusa. A sz...</td>\n",
       "    </tr>\n",
       "    <tr>\n",
       "      <th>123962</th>\n",
       "      <td>167791</td>\n",
       "      <td>_The_Inquiry_</td>\n",
       "      <td>5</td>\n",
       "      <td>Prior to 2020: 2 plays  TM is one of those gam...</td>\n",
       "    </tr>\n",
       "  </tbody>\n",
       "</table>\n",
       "<p>123963 rows × 4 columns</p>\n",
       "</div>"
      ],
      "text/plain": [
       "            id       username rating  \\\n",
       "0       340466  Barry Kendall    N/A   \n",
       "1       340466      Benwax123      9   \n",
       "2       340466        bradray    N/A   \n",
       "3       340466      DadouXIII    N/A   \n",
       "4       340466    Dark Herald    N/A   \n",
       "...        ...            ...    ...   \n",
       "123958  167791        z_zadar      9   \n",
       "123959  167791         _Czid_      8   \n",
       "123960  167791        _Marty_    9.5   \n",
       "123961  167791          _mun_     10   \n",
       "123962  167791  _The_Inquiry_      5   \n",
       "\n",
       "                                                    value  \n",
       "0             Intriguing.  Look forward to learning more.  \n",
       "1                                   Played as play tester  \n",
       "2                                                   21/09  \n",
       "3                                   WAITING FOR PRE-ORDER  \n",
       "4                                         Notes: To Order  \n",
       "...                                                   ...  \n",
       "123958  Some games are so much fun. Others can be a li...  \n",
       "123959  Have played with Elysium and Prelude expansion...  \n",
       "123960  Fantastic game. With so many cards that can ch...  \n",
       "123961  Nagyon izgalmas játék, jó a mechanizmusa. A sz...  \n",
       "123962  Prior to 2020: 2 plays  TM is one of those gam...  \n",
       "\n",
       "[123963 rows x 4 columns]"
      ]
     },
     "execution_count": 6,
     "metadata": {},
     "output_type": "execute_result"
    }
   ],
   "source": [
    "try:\n",
    "    comments_df = pd.read_csv(f\"comments_{datetime.now().strftime('%Y%m%d')}.csv\")\n",
    "    comments_df['rating'] = comments_df.rating.fillna('N/A')\n",
    "    print(\"reading dataframe from csv file...\")\n",
    "except:\n",
    "    print(\"missing csv file, getting new data using API...\")\n",
    "    comments_df = get_comments(hot_array, verbose=10)\n",
    "    comments_df.to_csv(f\"comments_{datetime.now().strftime('%Y%m%d')}.csv\", index=False)\n",
    "comments_df"
   ]
  },
  {
   "cell_type": "markdown",
   "metadata": {},
   "source": [
    "## DATA CLEANING"
   ]
  },
  {
   "cell_type": "code",
   "execution_count": 7,
   "metadata": {},
   "outputs": [],
   "source": [
    "# probably we should keep all the ratings (no matters the len) and remove only the simple comments under a certain len  \n",
    "comments_df[\"value\"] = comments_df[\"value\"].astype(str)"
   ]
  },
  {
   "cell_type": "code",
   "execution_count": 8,
   "metadata": {},
   "outputs": [
    {
     "name": "stdout",
     "output_type": "stream",
     "text": [
      "removed 19342 for 'remove_short_comments' - min len: 25 - method: unrated\n"
     ]
    }
   ],
   "source": [
    "# REMOVE URLs FROM COMMENTS\n",
    "comments_df['value'] = [re.sub(r\"http\\S+\", \"\", v) for v in comments_df.value.values]\n",
    "comments_df = remove_short_comments(comments_df, MIN_COMMENT_LEN)"
   ]
  },
  {
   "cell_type": "code",
   "execution_count": 9,
   "metadata": {},
   "outputs": [],
   "source": [
    "# REMOVE NON ENGLISH COMMENTS\n",
    "# !conda install -c conda-forge langdetect\n",
    "# def add_comments_lang(df: pd.DataFrame):\n",
    "#     df_local = df.copy()\n",
    "#     df_local['lang'] = df['value'].apply(detect)\n",
    "#     return df_local.reset_index(drop=True)\n",
    "# comments_df = add_comments_lang(comments_df)\n",
    "# comments_df = comments_df.query('lang == \"en\"')"
   ]
  },
  {
   "cell_type": "markdown",
   "metadata": {},
   "source": [
    "## SPLIT RATED AND NON-RATED COMMENTS"
   ]
  },
  {
   "cell_type": "code",
   "execution_count": 10,
   "metadata": {},
   "outputs": [
    {
     "data": {
      "text/plain": [
       "9          19229\n",
       "8          18452\n",
       "10         17850\n",
       "7          10185\n",
       "N/A         7985\n",
       "           ...  \n",
       "8.95333        1\n",
       "1.62           1\n",
       "3.92           1\n",
       "9.82           1\n",
       "9.098          1\n",
       "Name: rating, Length: 611, dtype: int64"
      ]
     },
     "execution_count": 10,
     "metadata": {},
     "output_type": "execute_result"
    }
   ],
   "source": [
    "# count number of comments per rating (N/A included)\n",
    "comments_df.rating.value_counts()"
   ]
  },
  {
   "cell_type": "code",
   "execution_count": 11,
   "metadata": {},
   "outputs": [
    {
     "data": {
      "text/plain": [
       "(96636, 5)"
      ]
     },
     "execution_count": 11,
     "metadata": {},
     "output_type": "execute_result"
    }
   ],
   "source": [
    "# get rated comments only\n",
    "rated_comments = comments_df.query('rating != \"N/A\"')\n",
    "rated_comments.shape"
   ]
  },
  {
   "cell_type": "code",
   "execution_count": 12,
   "metadata": {},
   "outputs": [
    {
     "data": {
      "text/plain": [
       "(7985, 5)"
      ]
     },
     "execution_count": 12,
     "metadata": {},
     "output_type": "execute_result"
    }
   ],
   "source": [
    "# get non rated comments only\n",
    "not_rated_comments = comments_df.query('rating == \"N/A\"').reset_index(drop=True)\n",
    "not_rated_comments.shape"
   ]
  },
  {
   "cell_type": "markdown",
   "metadata": {},
   "source": [
    "## CREATE TRAINING AND VALIDATION DATA"
   ]
  },
  {
   "cell_type": "code",
   "execution_count": 13,
   "metadata": {},
   "outputs": [],
   "source": [
    "# use rated comments (reviews) to train the model"
   ]
  },
  {
   "cell_type": "code",
   "execution_count": 14,
   "metadata": {},
   "outputs": [],
   "source": [
    "rated_comments = rated_comments.sample(frac=1)"
   ]
  },
  {
   "cell_type": "code",
   "execution_count": 15,
   "metadata": {},
   "outputs": [],
   "source": [
    "# create training X and y\n",
    "train_examples = list(rated_comments.value)\n",
    "train_labels = list((rated_comments.rating.astype(float)>=GOOD_REVIEW_THRESHOLD).astype(int))"
   ]
  },
  {
   "cell_type": "code",
   "execution_count": 16,
   "metadata": {},
   "outputs": [
    {
     "name": "stdout",
     "output_type": "stream",
     "text": [
      "example of positive rating:\n"
     ]
    },
    {
     "data": {
      "text/plain": [
       "'This is a good game, but I fail to see where the excitement comes from.  It feels like Brass, but more complicated.  Also, that board is super dark!'"
      ]
     },
     "execution_count": 16,
     "metadata": {},
     "output_type": "execute_result"
    }
   ],
   "source": [
    "print(\"example of positive rating:\")\n",
    "train_examples[train_labels.index(1)]"
   ]
  },
  {
   "cell_type": "code",
   "execution_count": 17,
   "metadata": {},
   "outputs": [
    {
     "name": "stdout",
     "output_type": "stream",
     "text": [
      "example of negative rating:\n"
     ]
    },
    {
     "data": {
      "text/plain": [
       "'I fail to understand the hype about this game. Game play feels very much scripted by the cards you happen to draw.'"
      ]
     },
     "execution_count": 17,
     "metadata": {},
     "output_type": "execute_result"
    }
   ],
   "source": [
    "print(\"example of negative rating:\")\n",
    "train_examples[train_labels.index(0)]"
   ]
  },
  {
   "cell_type": "markdown",
   "metadata": {},
   "source": [
    "## COMPOSE MODEL"
   ]
  },
  {
   "cell_type": "code",
   "execution_count": 20,
   "metadata": {},
   "outputs": [],
   "source": [
    "hub_layer = hub.KerasLayer(MODEL_NAME, input_shape=[], dtype=tf.string, trainable=True)"
   ]
  },
  {
   "cell_type": "markdown",
   "metadata": {},
   "source": [
    "## CLASSIFIER"
   ]
  },
  {
   "cell_type": "code",
   "execution_count": 21,
   "metadata": {},
   "outputs": [
    {
     "name": "stdout",
     "output_type": "stream",
     "text": [
      "Epoch 1/100\n",
      "48/48 - 5s - loss: 0.5510 - accuracy: 0.8040 - val_loss: 0.4717 - val_accuracy: 0.8515\n",
      "Epoch 2/100\n",
      "48/48 - 3s - loss: 0.4156 - accuracy: 0.8533 - val_loss: 0.3772 - val_accuracy: 0.8569\n",
      "Epoch 3/100\n",
      "48/48 - 3s - loss: 0.3329 - accuracy: 0.8686 - val_loss: 0.3334 - val_accuracy: 0.8708\n",
      "Epoch 4/100\n",
      "48/48 - 3s - loss: 0.2876 - accuracy: 0.8867 - val_loss: 0.3162 - val_accuracy: 0.8783\n",
      "Epoch 5/100\n",
      "48/48 - 3s - loss: 0.2561 - accuracy: 0.8986 - val_loss: 0.3106 - val_accuracy: 0.8800\n",
      "Epoch 6/100\n",
      "48/48 - 3s - loss: 0.2322 - accuracy: 0.9086 - val_loss: 0.3113 - val_accuracy: 0.8800\n",
      "Epoch 7/100\n",
      "48/48 - 3s - loss: 0.2119 - accuracy: 0.9174 - val_loss: 0.3170 - val_accuracy: 0.8773\n",
      "Epoch 8/100\n",
      "48/48 - 3s - loss: 0.1949 - accuracy: 0.9254 - val_loss: 0.3256 - val_accuracy: 0.8747\n",
      "Epoch 9/100\n",
      "48/48 - 3s - loss: 0.1805 - accuracy: 0.9325 - val_loss: 0.3376 - val_accuracy: 0.8727\n",
      "Epoch 10/100\n",
      "48/48 - 3s - loss: 0.1678 - accuracy: 0.9380 - val_loss: 0.3499 - val_accuracy: 0.8686\n",
      "32/32 - 0s - loss: 0.3706 - accuracy: 0.8617\n",
      "Epoch 1/100\n",
      "48/48 - 3s - loss: 0.5402 - accuracy: 0.8194 - val_loss: 0.4592 - val_accuracy: 0.8516\n",
      "Epoch 2/100\n",
      "48/48 - 3s - loss: 0.4044 - accuracy: 0.8539 - val_loss: 0.3680 - val_accuracy: 0.8557\n",
      "Epoch 3/100\n",
      "48/48 - 3s - loss: 0.3301 - accuracy: 0.8685 - val_loss: 0.3305 - val_accuracy: 0.8712\n",
      "Epoch 4/100\n",
      "48/48 - 3s - loss: 0.2870 - accuracy: 0.8872 - val_loss: 0.3155 - val_accuracy: 0.8774\n",
      "Epoch 5/100\n",
      "48/48 - 3s - loss: 0.2562 - accuracy: 0.8993 - val_loss: 0.3117 - val_accuracy: 0.8797\n",
      "Epoch 6/100\n",
      "48/48 - 3s - loss: 0.2312 - accuracy: 0.9102 - val_loss: 0.3153 - val_accuracy: 0.8747\n",
      "Epoch 7/100\n",
      "48/48 - 3s - loss: 0.2107 - accuracy: 0.9193 - val_loss: 0.3239 - val_accuracy: 0.8748\n",
      "Epoch 8/100\n",
      "48/48 - 3s - loss: 0.1936 - accuracy: 0.9264 - val_loss: 0.3334 - val_accuracy: 0.8737\n",
      "Epoch 9/100\n",
      "48/48 - 3s - loss: 0.1788 - accuracy: 0.9333 - val_loss: 0.3468 - val_accuracy: 0.8699\n",
      "Epoch 10/100\n",
      "48/48 - 3s - loss: 0.1660 - accuracy: 0.9392 - val_loss: 0.3620 - val_accuracy: 0.8657\n",
      "32/32 - 0s - loss: 0.3655 - accuracy: 0.8627\n",
      "Epoch 1/100\n",
      "48/48 - 3s - loss: 0.5336 - accuracy: 0.8463 - val_loss: 0.4651 - val_accuracy: 0.8488\n",
      "Epoch 2/100\n",
      "48/48 - 3s - loss: 0.4148 - accuracy: 0.8515 - val_loss: 0.3772 - val_accuracy: 0.8489\n",
      "Epoch 3/100\n",
      "48/48 - 3s - loss: 0.3394 - accuracy: 0.8571 - val_loss: 0.3359 - val_accuracy: 0.8602\n",
      "Epoch 4/100\n",
      "48/48 - 3s - loss: 0.2977 - accuracy: 0.8763 - val_loss: 0.3196 - val_accuracy: 0.8761\n",
      "Epoch 5/100\n",
      "48/48 - 3s - loss: 0.2672 - accuracy: 0.8917 - val_loss: 0.3127 - val_accuracy: 0.8791\n",
      "Epoch 6/100\n",
      "48/48 - 3s - loss: 0.2413 - accuracy: 0.9039 - val_loss: 0.3126 - val_accuracy: 0.8784\n",
      "Epoch 7/100\n",
      "48/48 - 3s - loss: 0.2195 - accuracy: 0.9136 - val_loss: 0.3187 - val_accuracy: 0.8770\n",
      "Epoch 8/100\n",
      "48/48 - 3s - loss: 0.2010 - accuracy: 0.9218 - val_loss: 0.3329 - val_accuracy: 0.8750\n",
      "Epoch 9/100\n",
      "48/48 - 3s - loss: 0.1858 - accuracy: 0.9286 - val_loss: 0.3460 - val_accuracy: 0.8707\n",
      "Epoch 10/100\n",
      "48/48 - 3s - loss: 0.1719 - accuracy: 0.9353 - val_loss: 0.3582 - val_accuracy: 0.8651\n",
      "32/32 - 0s - loss: 0.3641 - accuracy: 0.8654\n",
      "Epoch 1/100\n",
      "71/71 - 5s - loss: 0.5087 - accuracy: 0.8387 - val_loss: 0.4089 - val_accuracy: 0.8548\n",
      "Epoch 2/100\n",
      "71/71 - 4s - loss: 0.3544 - accuracy: 0.8628 - val_loss: 0.3262 - val_accuracy: 0.8742\n",
      "Epoch 3/100\n",
      "71/71 - 4s - loss: 0.2933 - accuracy: 0.8853 - val_loss: 0.3056 - val_accuracy: 0.8836\n",
      "Epoch 4/100\n",
      "71/71 - 4s - loss: 0.2612 - accuracy: 0.8970 - val_loss: 0.3009 - val_accuracy: 0.8841\n",
      "Epoch 5/100\n",
      "71/71 - 4s - loss: 0.2382 - accuracy: 0.9063 - val_loss: 0.3041 - val_accuracy: 0.8828\n",
      "Epoch 6/100\n",
      "71/71 - 4s - loss: 0.2205 - accuracy: 0.9137 - val_loss: 0.3101 - val_accuracy: 0.8819\n",
      "Epoch 7/100\n",
      "71/71 - 4s - loss: 0.2053 - accuracy: 0.9213 - val_loss: 0.3194 - val_accuracy: 0.8800\n",
      "Epoch 8/100\n",
      "71/71 - 4s - loss: 0.1924 - accuracy: 0.9262 - val_loss: 0.3302 - val_accuracy: 0.8767\n"
     ]
    },
    {
     "data": {
      "text/plain": [
       "GridSearchCV(cv=3,\n",
       "             estimator=<tensorflow.python.keras.wrappers.scikit_learn.KerasClassifier object at 0x0000019D0F958F40>,\n",
       "             param_grid={})"
      ]
     },
     "execution_count": 21,
     "metadata": {},
     "output_type": "execute_result"
    }
   ],
   "source": [
    "def build_classifier():\n",
    "    return build_model(hub_layer=None, pre_trained_model_name=MODEL_NAME, model_type='classifier', verbose=0)\n",
    "\n",
    "\n",
    "estimator = KerasClassifier(build_fn=build_classifier, epochs=100, batch_size=1024, verbose=2, validation_split=VAL_FRACTION)\n",
    "x_train_clf = np.array(list(rated_comments.value))\n",
    "y_train_clf = np.array(list((rated_comments.rating.astype(float)>=GOOD_REVIEW_THRESHOLD).astype(int)))\n",
    "\n",
    "clf = GridSearchCV(\n",
    "    estimator, \n",
    "    cv=3, \n",
    "    param_grid={}\n",
    ")\n",
    "clf.fit(x_train_clf, y_train_clf, callbacks=[tf.keras.callbacks.EarlyStopping(monitor='val_accuracy', patience=5, min_delta=0.001)])"
   ]
  },
  {
   "cell_type": "code",
   "execution_count": 22,
   "metadata": {},
   "outputs": [],
   "source": [
    "classifier = clf.best_estimator_\n",
    "classifier_history_dict = classifier.model.history.history"
   ]
  },
  {
   "cell_type": "code",
   "execution_count": 23,
   "metadata": {},
   "outputs": [
    {
     "data": {
      "text/plain": [
       "dict_keys(['loss', 'accuracy', 'val_loss', 'val_accuracy'])"
      ]
     },
     "execution_count": 23,
     "metadata": {},
     "output_type": "execute_result"
    }
   ],
   "source": [
    "classifier_history_dict.keys()"
   ]
  },
  {
   "cell_type": "code",
   "execution_count": 24,
   "metadata": {},
   "outputs": [],
   "source": [
    "acc = classifier_history_dict['accuracy']\n",
    "val_acc = classifier_history_dict['val_accuracy']\n",
    "loss = classifier_history_dict['loss']\n",
    "val_loss = classifier_history_dict['val_loss']"
   ]
  },
  {
   "cell_type": "code",
   "execution_count": 25,
   "metadata": {},
   "outputs": [],
   "source": [
    "epochs = range(1, len(acc) + 1) "
   ]
  },
  {
   "cell_type": "code",
   "execution_count": 26,
   "metadata": {},
   "outputs": [
    {
     "data": {
      "image/png": "[encoded data removed]",
      "text/plain": [
       "<Figure size 648x360 with 1 Axes>"
      ]
     },
     "metadata": {
      "needs_background": "light"
     },
     "output_type": "display_data"
    }
   ],
   "source": [
    "# \"bo\" is for \"blue dot\"\n",
    "plt.figure(figsize=(9, 5))\n",
    "plt.plot(epochs, loss, 'bo', label='Training loss')\n",
    "# b is for \"solid blue line\"\n",
    "plt.plot(epochs, val_loss, 'b', label='Validation loss')\n",
    "plt.title('Training and validation loss')\n",
    "plt.xlabel('Epochs')\n",
    "plt.ylabel('Loss')\n",
    "plt.grid(True)\n",
    "plt.legend()\n",
    "\n",
    "plt.show()"
   ]
  },
  {
   "cell_type": "code",
   "execution_count": 27,
   "metadata": {},
   "outputs": [
    {
     "data": {
      "image/png": "[encoded data removed]",
      "text/plain": [
       "<Figure size 648x360 with 1 Axes>"
      ]
     },
     "metadata": {
      "needs_background": "light"
     },
     "output_type": "display_data"
    }
   ],
   "source": [
    "plt.figure(figsize=(9, 5))\n",
    "plt.plot(epochs, acc, 'bo', label='Training acc')\n",
    "plt.plot(epochs, val_acc, 'b', label='Validation acc')\n",
    "plt.title('Training and validation accuracy')\n",
    "plt.xlabel('Epochs')\n",
    "plt.ylabel('Accuracy')\n",
    "plt.grid(True)\n",
    "plt.legend()\n",
    "\n",
    "plt.show()"
   ]
  },
  {
   "cell_type": "code",
   "execution_count": 28,
   "metadata": {},
   "outputs": [
    {
     "name": "stdout",
     "output_type": "stream",
     "text": [
      "input:\n",
      "\"This is a good game, but I fail to see where the excitement comes from.  It feels like Brass, but more complicated.  Also, that board is super dark!\"\n",
      "score: 1.000000\n",
      "actual: 1\n",
      "\n",
      "input:\n",
      "\"I saw this game and thought - victory points, obscure abstract theme, tile laying... I'm just never going to play this euro.  I was wrong, I'm sorry Azul. You're pretty incredible, and filling in a nice spot on some of my favourite games. Really enjoyed this as a 2-player game. Also great with more. Always recommended, no matter the group.\"\n",
      "score: 1.000000\n",
      "actual: 1\n",
      "\n",
      "input:\n",
      "\"Verliehen von SH\"\n",
      "score: 1.000000\n",
      "actual: 1\n",
      "\n",
      "input:\n",
      "\"Excellent engine building game, with a theme I enjoy.  This is a game I will bring out anytime.    Update:  With multiple plays this game has topped my list, hands down my favorite game.\"\n",
      "score: 1.000000\n",
      "actual: 1\n",
      "\n",
      "input:\n",
      "\"Very nice lightweight game with enough depth to keep less casual boardgamers hooked as well. The drafting mechanism keeps it interesting. The aesthetic of this game is fabulous; the artwork is sublime. All the components are of high quality. Very much enjoy putting this game on the table! My cat LOVES the box that comes with this game!\"\n",
      "score: 1.000000\n",
      "actual: 1\n",
      "\n",
      "input:\n",
      "\"Great game - I've played several times with friends.  There are several things I could nit about that could make it better, but still, everything the game does have sets it apart from most all other games on the market.  I'd only call out that the setup time is very long and that's even when you have organization for it.  I've heard of folks using apps to help with that but I like a game without technology personally.  So be ready to sit down an hour before you start playing just to get going every time you play, and another 30 minutes to clean up after.  Can't wait to see expansions in the future.\"\n",
      "score: 1.000000\n",
      "actual: 1\n",
      "\n",
      "input:\n",
      "\"This game has seen more play than most of the older games in my collection already. It's one of my all time favorites!\"\n",
      "score: 0.000000\n",
      "actual: 1\n",
      "\n",
      "input:\n",
      "\"Great gameplay, but theme has no connection to gameplay at all\"\n",
      "score: 1.000000\n",
      "actual: 1\n",
      "\n",
      "input:\n",
      "\"A fun worker placement game.  It requires some delay of gratification regarding getting points from eventually selling wine orders (my spouse says \"it takes forever for anything to happen -- it's slow\").  Honestly though, I think the planning to grow, harvest, process, and then sell your wine is a rewarding process.  My only concern is that the card system (all colours) adds a layer of unwelcome randomness.  If you get red grape vines (green card draws) and white wine orders (purple card draws) you are swimming upstream against players who get matching cards.  Also the summer/winter visitors (yellow/blue) cards are swingy in terms of variable strengths and then it's kind of luck of the draw.  If you like randomness to level the playing field in terms of skill level you might like the randomness.  If you like strategic games with no luck so that rewards the best planning and execution the luck will be unwelcome.  Put me in that camp.  Final verdict though, it's a game I want to hit the table again, so definitely a keeper and worthy of its popularity I would say.\"\n",
      "score: 1.000000\n",
      "actual: 1\n",
      "\n",
      "input:\n",
      "\"8 plays  Fun and plays pretty quickly at all player counts.  Takes most people a round or two to figure out the rules, but then goes quickly and stays interesting.  Gets a little harder to strategize with higher player counts since more happens between your turns.  A great intro/gateway game and one that I will keep around.\"\n",
      "score: 1.000000\n",
      "actual: 1\n"
     ]
    },
    {
     "name": "stderr",
     "output_type": "stream",
     "text": [
      "C:\\Users\\dev999\\.conda\\envs\\tensorflow2\\lib\\site-packages\\tensorflow\\python\\keras\\engine\\sequential.py:455: UserWarning: `model.predict_classes()` is deprecated and will be removed after 2021-01-01. Please use instead:* `np.argmax(model.predict(x), axis=-1)`,   if your model does multi-class classification   (e.g. if it uses a `softmax` last-layer activation).* `(model.predict(x) > 0.5).astype(\"int32\")`,   if your model does binary classification   (e.g. if it uses a `sigmoid` last-layer activation).\n",
      "  warnings.warn('`model.predict_classes()` is deprecated and '\n"
     ]
    }
   ],
   "source": [
    "inputs = x_train_clf[:10]\n",
    "outputs = y_train_clf[:10]\n",
    "results = classifier.predict(tf.constant(inputs), verbose=0)\n",
    "print_my_examples(inputs, results, outputs)"
   ]
  },
  {
   "cell_type": "code",
   "execution_count": 29,
   "metadata": {},
   "outputs": [],
   "source": [
    "## APPLY MODEL ON NON-RATED COMMENTS"
   ]
  },
  {
   "cell_type": "code",
   "execution_count": 30,
   "metadata": {},
   "outputs": [
    {
     "name": "stdout",
     "output_type": "stream",
     "text": [
      "8/8 - 0s\n",
      "input:\n",
      "\"New in shrink, I got two copies for Christmas \"\n",
      "score: 1.000000\n",
      "\n",
      "input:\n",
      "\"Got this for Christmas. Hope to play it with Sarah and get her into the campaign.\"\n",
      "score: 1.000000\n",
      "\n",
      "input:\n",
      "\"I love this game. just wish we could have steady players.\"\n",
      "score: 1.000000\n",
      "\n",
      "input:\n",
      "\"Pre-ordered: Miniature Market US Shipment Container: mid Jan 2021 Expected mid: April 2021\"\n",
      "score: 1.000000\n",
      "\n",
      "input:\n",
      "\"Asmodee, Frühjahr 2021 - April 2021; inkl. Captain America, Ms. Marvel & Black Widow\"\n",
      "score: 1.000000\n",
      "\n",
      "input:\n",
      "\"Insert:  keines Sleeves: 63.5x88 ca. 53 - AT Standard\"\n",
      "score: 1.000000\n",
      "\n",
      "input:\n",
      "\"Backed second run Kickstarter.  Preorder - Main Game - Solo Scenarios - Standees\"\n",
      "score: 1.000000\n",
      "\n",
      "input:\n",
      "\"With Ghillie, Tink, and Nugget gearlocs. Premium health chips as well. Campaign expansions and just about everything else. Thinking about keeping just the Undertow box, character, and premium health chips and selling the rest.\"\n",
      "score: 1.000000\n",
      "\n",
      "input:\n",
      "\"Never played. Painted a couple figures.\"\n",
      "score: 1.000000\n",
      "\n",
      "input:\n",
      "\"super mooi en leuk spel. zeker als je een mooie combinatie kunt maken.\"\n",
      "score: 1.000000\n"
     ]
    }
   ],
   "source": [
    "not_rated_comments = not_rated_comments.sample(frac=1)\n",
    "results = classifier.predict(tf.constant(list(not_rated_comments.value.astype(str))))\n",
    "print_my_examples(list(not_rated_comments.value), results, limit=10)"
   ]
  },
  {
   "cell_type": "markdown",
   "metadata": {},
   "source": [
    "## REGRESSOR"
   ]
  },
  {
   "cell_type": "code",
   "execution_count": 31,
   "metadata": {},
   "outputs": [
    {
     "data": {
      "text/plain": [
       "GridSearchCV(cv=3,\n",
       "             estimator=<tensorflow.python.keras.wrappers.scikit_learn.KerasRegressor object at 0x000001A04E619FD0>,\n",
       "             param_grid={})"
      ]
     },
     "execution_count": 31,
     "metadata": {},
     "output_type": "execute_result"
    }
   ],
   "source": [
    "def build_regressor():\n",
    "    return build_model(hub_layer, pre_trained_model_name=MODEL_NAME, model_type='regressor', verbose=0)\n",
    "\n",
    "\n",
    "estimator = KerasRegressor(build_fn=build_regressor, epochs=100, batch_size=512, verbose=0, validation_split=VAL_FRACTION)\n",
    "x_train_reg = np.array(list(rated_comments.value))\n",
    "y_train_reg = np.array(list(rated_comments.rating.astype(float)))\n",
    "\n",
    "clf = GridSearchCV(\n",
    "    estimator, \n",
    "    cv=3, \n",
    "    param_grid={}\n",
    ")\n",
    "clf.fit(x_train_reg, y_train_reg, callbacks=[tf.keras.callbacks.EarlyStopping(monitor='val_mean_squared_error', patience=5, min_delta=0.001)])"
   ]
  },
  {
   "cell_type": "code",
   "execution_count": 32,
   "metadata": {},
   "outputs": [],
   "source": [
    "regressor = clf.best_estimator_\n",
    "regressor_history_dict = regressor.model.history.history"
   ]
  },
  {
   "cell_type": "code",
   "execution_count": 33,
   "metadata": {},
   "outputs": [
    {
     "data": {
      "text/plain": [
       "dict_keys(['loss', 'mean_squared_error', 'val_loss', 'val_mean_squared_error'])"
      ]
     },
     "execution_count": 33,
     "metadata": {},
     "output_type": "execute_result"
    }
   ],
   "source": [
    "regressor_history_dict.keys()"
   ]
  },
  {
   "cell_type": "code",
   "execution_count": 34,
   "metadata": {},
   "outputs": [],
   "source": [
    "mean_squared_error = regressor_history_dict['mean_squared_error']\n",
    "val_mean_squared_error = regressor_history_dict['val_mean_squared_error']\n",
    "loss = regressor_history_dict['loss']\n",
    "val_loss = regressor_history_dict['val_loss']"
   ]
  },
  {
   "cell_type": "code",
   "execution_count": 35,
   "metadata": {},
   "outputs": [],
   "source": [
    "epochs = range(1, len(mean_squared_error) + 1) "
   ]
  },
  {
   "cell_type": "code",
   "execution_count": 36,
   "metadata": {},
   "outputs": [
    {
     "name": "stdout",
     "output_type": "stream",
     "text": [
      "MEAN SQUARED ERROR (VALIDATION SET): 2.30\n"
     ]
    }
   ],
   "source": [
    "print(f\"MEAN SQUARED ERROR (VALIDATION SET): {val_mean_squared_error[-1]:.2f}\")"
   ]
  },
  {
   "cell_type": "code",
   "execution_count": 37,
   "metadata": {},
   "outputs": [
    {
     "name": "stdout",
     "output_type": "stream",
     "text": [
      "MEAN SQUARED ERROR (TRAINING SET): 1.08\n"
     ]
    }
   ],
   "source": [
    "print(f\"MEAN SQUARED ERROR (TRAINING SET): {mean_squared_error[-1]:.2f}\")"
   ]
  },
  {
   "cell_type": "code",
   "execution_count": 38,
   "metadata": {},
   "outputs": [
    {
     "data": {
      "image/png": "[encoded data removed]",
      "text/plain": [
       "<Figure size 648x360 with 1 Axes>"
      ]
     },
     "metadata": {
      "needs_background": "light"
     },
     "output_type": "display_data"
    }
   ],
   "source": [
    "# \"bo\" is for \"blue dot\"\n",
    "plt.figure(figsize=(9, 5))\n",
    "plt.plot(epochs, loss, 'bo', label='Training loss')\n",
    "# b is for \"solid blue line\"\n",
    "plt.plot(epochs, val_loss, 'b', label='Validation loss')\n",
    "plt.title('Training and validation loss')\n",
    "plt.xlabel('Epochs')\n",
    "plt.ylabel('Loss')\n",
    "plt.grid(True)\n",
    "plt.legend()\n",
    "\n",
    "plt.show()"
   ]
  },
  {
   "cell_type": "code",
   "execution_count": 39,
   "metadata": {},
   "outputs": [
    {
     "data": {
      "image/png": "[encoded data removed]",
      "text/plain": [
       "<Figure size 648x360 with 1 Axes>"
      ]
     },
     "metadata": {
      "needs_background": "light"
     },
     "output_type": "display_data"
    }
   ],
   "source": [
    "plt.figure(figsize=(9, 5))\n",
    "plt.plot(epochs, mean_squared_error, 'bo', label='Training mean squared error')\n",
    "plt.plot(epochs, val_mean_squared_error, 'b', label='Validation mean squared error')\n",
    "plt.title('Training and validation accuracy')\n",
    "plt.xlabel('Epochs')\n",
    "plt.ylabel('Mean squared error')\n",
    "plt.grid(True)\n",
    "plt.legend()\n",
    "\n",
    "plt.show()"
   ]
  },
  {
   "cell_type": "code",
   "execution_count": 40,
   "metadata": {},
   "outputs": [
    {
     "name": "stdout",
     "output_type": "stream",
     "text": [
      "input: \n",
      "\"This is a good game, but I fail to see where the excitement comes from.  It feels like Brass, but more complicated.  Also, that board is super dark!\"\n",
      "score: 7.93\n",
      "actual: 7.00 \n",
      "\n",
      "input: \n",
      "\"I saw this game and thought - victory points, obscure abstract theme, tile laying... I'm just never going to play this euro.  I was wrong, I'm sorry Azul. You're pretty incredible, and filling in a nice spot on some of my favourite games. Really enjoyed this as a 2-player game. Also great with more. Always recommended, no matter the group.\"\n",
      "score: 8.72\n",
      "actual: 10.00 \n",
      "\n",
      "input: \n",
      "\"Verliehen von SH\"\n",
      "score: 8.14\n",
      "actual: 8.00 \n",
      "\n",
      "input: \n",
      "\"Excellent engine building game, with a theme I enjoy.  This is a game I will bring out anytime.    Update:  With multiple plays this game has topped my list, hands down my favorite game.\"\n",
      "score: 9.44\n",
      "actual: 9.00 \n",
      "\n",
      "input: \n",
      "\"Very nice lightweight game with enough depth to keep less casual boardgamers hooked as well. The drafting mechanism keeps it interesting. The aesthetic of this game is fabulous; the artwork is sublime. All the components are of high quality. Very much enjoy putting this game on the table! My cat LOVES the box that comes with this game!\"\n",
      "score: 7.84\n",
      "actual: 8.00 \n",
      "\n",
      "input: \n",
      "\"Great game - I've played several times with friends.  There are several things I could nit about that could make it better, but still, everything the game does have sets it apart from most all other games on the market.  I'd only call out that the setup time is very long and that's even when you have organization for it.  I've heard of folks using apps to help with that but I like a game without technology personally.  So be ready to sit down an hour before you start playing just to get going every time you play, and another 30 minutes to clean up after.  Can't wait to see expansions in the future.\"\n",
      "score: 8.69\n",
      "actual: 9.00 \n",
      "\n",
      "input: \n",
      "\"This game has seen more play than most of the older games in my collection already. It's one of my all time favorites!\"\n",
      "score: 8.20\n",
      "actual: 10.00 \n",
      "\n",
      "input: \n",
      "\"Great gameplay, but theme has no connection to gameplay at all\"\n",
      "score: 7.43\n",
      "actual: 7.00 \n",
      "\n",
      "input: \n",
      "\"A fun worker placement game.  It requires some delay of gratification regarding getting points from eventually selling wine orders (my spouse says \"it takes forever for anything to happen -- it's slow\").  Honestly though, I think the planning to grow, harvest, process, and then sell your wine is a rewarding process.  My only concern is that the card system (all colours) adds a layer of unwelcome randomness.  If you get red grape vines (green card draws) and white wine orders (purple card draws) you are swimming upstream against players who get matching cards.  Also the summer/winter visitors (yellow/blue) cards are swingy in terms of variable strengths and then it's kind of luck of the draw.  If you like randomness to level the playing field in terms of skill level you might like the randomness.  If you like strategic games with no luck so that rewards the best planning and execution the luck will be unwelcome.  Put me in that camp.  Final verdict though, it's a game I want to hit the table again, so definitely a keeper and worthy of its popularity I would say.\"\n",
      "score: 6.98\n",
      "actual: 8.00 \n",
      "\n",
      "input: \n",
      "\"8 plays  Fun and plays pretty quickly at all player counts.  Takes most people a round or two to figure out the rules, but then goes quickly and stays interesting.  Gets a little harder to strategize with higher player counts since more happens between your turns.  A great intro/gateway game and one that I will keep around.\"\n",
      "score: 7.82\n",
      "actual: 7.00 \n",
      "\n"
     ]
    }
   ],
   "source": [
    "inputs = x_train_reg[:10]\n",
    "outputs = y_train_reg[:10]\n",
    "results = clf.best_estimator_.predict(tf.constant(inputs), verbose=0)\n",
    "for i in range(len(inputs)):\n",
    "    print(f\"input: \\n\\\"{inputs[i]}\\\"\\nscore: {results[i]:.2f}\\nactual: {outputs[i]:.2f} \\n\")"
   ]
  },
  {
   "cell_type": "markdown",
   "metadata": {},
   "source": [
    "## COMPARE CLASSIFIER VS REGRESSOR"
   ]
  },
  {
   "cell_type": "code",
   "execution_count": 41,
   "metadata": {},
   "outputs": [
    {
     "name": "stdout",
     "output_type": "stream",
     "text": [
      "\"Christmas gift to Bernard from Lotte and Jorgo\"\n",
      "    reg score: 7.46\n",
      "    clf score: 1\n",
      "\n",
      "\"1-4P (best 2/3) - 30/120mn  with insert  Coop/grid movement/hand management/simultaneous action selection  EN \"\n",
      "    reg score: 9.07\n",
      "    clf score: 1\n",
      "\n",
      "\"Birthday present for My and My husbands birthday (2021) from Matty and Kevin.  \"\n",
      "    reg score: 6.28\n",
      "    clf score: 1\n",
      "\n",
      "\"Includes Man vs. Meeple Season 3 promo dog meeple\"\n",
      "    reg score: 5.56\n",
      "    clf score: 1\n",
      "\n",
      "\"A fair amount of pieces.  The instructs seem well enough written.  We did get confused with rail movement, stations, and destinations, but it was late in the evening.  Overall, the game is fun and provides lots to do- even with 2 players.  Guess better not tell euro gamers that this cow trail really did exist.  Might be a historic war game if it had a giant foldout map of the central region of the USA, actual Indian tribes, and frontier settlements.\"\n",
      "    reg score: 7.31\n",
      "    clf score: 0\n",
      "\n",
      "\" I've watched all episodes of tv series.Wish to play it a lot.  \"\n",
      "    reg score: 7.92\n",
      "    clf score: 1\n",
      "\n",
      "\"Owned: The Quacks of Quedlinburg The Quacks of Quedlinburg: The Herb Witches (2019)\"\n",
      "    reg score: 8.08\n",
      "    clf score: 1\n",
      "\n",
      "\"This game needs to be played a bit more before rating.\"\n",
      "    reg score: 7.40\n",
      "    clf score: 1\n",
      "\n",
      "\"YES!  Not just for BSG nerds... This is an all around good game. I hope they keep making expansions for it.\"\n",
      "    reg score: 6.98\n",
      "    clf score: 1\n",
      "\n",
      "\"coop or semi coop ALIEN game with variable board setup and public and personal goals. Theme doesn't call me and everything looks dart, gameplay might be good tough\"\n",
      "    reg score: 7.79\n",
      "    clf score: 1\n",
      "\n"
     ]
    },
    {
     "name": "stderr",
     "output_type": "stream",
     "text": [
      "C:\\Users\\dev999\\.conda\\envs\\tensorflow2\\lib\\site-packages\\tensorflow\\python\\keras\\engine\\sequential.py:455: UserWarning: `model.predict_classes()` is deprecated and will be removed after 2021-01-01. Please use instead:* `np.argmax(model.predict(x), axis=-1)`,   if your model does multi-class classification   (e.g. if it uses a `softmax` last-layer activation).* `(model.predict(x) > 0.5).astype(\"int32\")`,   if your model does binary classification   (e.g. if it uses a `sigmoid` last-layer activation).\n",
      "  warnings.warn('`model.predict_classes()` is deprecated and '\n"
     ]
    }
   ],
   "source": [
    "not_rated_comments = not_rated_comments.sample(frac=1)\n",
    "inputs = list(not_rated_comments.value.astype(str))[:10]\n",
    "\n",
    "clf_results = classifier.predict(inputs, verbose=0)\n",
    "reg_results = regressor.predict(inputs, verbose=0)\n",
    "for i in range(len(inputs)):\n",
    "    print(f\"\"\"\\\"{inputs[i]}\\\"\n",
    "    reg score: {reg_results[i]:.2f}\n",
    "    clf score: {clf_results[i][0]}\n",
    "\"\"\")"
   ]
  },
  {
   "cell_type": "markdown",
   "metadata": {},
   "source": [
    "### RESULTS\n",
    "It seems that the regressor is much more accurate compared to the binary classifier => **let's use the regressors results to fix the BGG rating**"
   ]
  },
  {
   "cell_type": "markdown",
   "metadata": {},
   "source": [
    "## COMBINE RATED COMMENTS AND NOT-RATED COMMENTS WITH PREDICTED RATING"
   ]
  },
  {
   "cell_type": "code",
   "execution_count": 42,
   "metadata": {},
   "outputs": [
    {
     "name": "stdout",
     "output_type": "stream",
     "text": [
      "rated_comments_grouped: \n",
      "|     id |   rating_mean |   rating_count |\n",
      "|--------|---------------|----------------|\n",
      "| 124361 |          8.18 |           3870 |\n",
      "| 162886 |          8.35 |           3562 |\n",
      "| 167355 |          8.43 |           1857 |\n",
      "| 167791 |          8.21 |           8327 |\n",
      "| 169427 |          8.65 |            249 |\n"
     ]
    }
   ],
   "source": [
    "rated_comments['rating'] = rated_comments.rating.astype(float)\n",
    "rated_comments_grouped = rated_comments.groupby('id').agg({'rating': ['mean', 'count']})\n",
    "rated_comments_grouped.columns = list(rated_comments_grouped.columns.map('_'.join))\n",
    "rated_comments_grouped = rated_comments_grouped.reset_index()\n",
    "print(\"rated_comments_grouped: \")\n",
    "print(rated_comments_grouped.head().to_markdown(index=False, floatfmt='.2f', tablefmt='github'))"
   ]
  },
  {
   "cell_type": "code",
   "execution_count": 43,
   "metadata": {},
   "outputs": [],
   "source": [
    "not_rated_comments['rating'] = regressor.predict(list(not_rated_comments.value.astype(str)))"
   ]
  },
  {
   "cell_type": "code",
   "execution_count": 44,
   "metadata": {},
   "outputs": [
    {
     "name": "stdout",
     "output_type": "stream",
     "text": [
      "not_rated_comments_grouped: \n",
      "|     id |   rating_mean |   rating_count |\n",
      "|--------|---------------|----------------|\n",
      "| 124361 |          8.05 |            253 |\n",
      "| 162886 |          8.16 |            319 |\n",
      "| 167355 |          8.39 |            217 |\n",
      "| 167791 |          8.22 |            443 |\n",
      "| 169427 |          8.47 |             75 |\n"
     ]
    }
   ],
   "source": [
    "not_rated_comments['rating'] = not_rated_comments.rating.astype(float)\n",
    "not_rated_comments['rating'] = not_rated_comments['rating'].clip(0, 10)\n",
    "not_rated_comments_grouped = not_rated_comments.groupby('id').agg({'rating': ['mean', 'count']})\n",
    "not_rated_comments_grouped.columns = list(not_rated_comments_grouped.columns.map('_'.join))\n",
    "not_rated_comments_grouped = not_rated_comments_grouped.reset_index()\n",
    "print(\"not_rated_comments_grouped: \")\n",
    "print(not_rated_comments_grouped.head().to_markdown(index=False, floatfmt='.2f', tablefmt='github'))"
   ]
  },
  {
   "cell_type": "code",
   "execution_count": 45,
   "metadata": {},
   "outputs": [],
   "source": [
    "grouped = rated_comments_grouped.merge(not_rated_comments_grouped, on='id', suffixes=('_review', '_comments'), how='outer')\n",
    "grouped['id'] = grouped.id.astype(str)\n",
    "grouped = grouped.merge(pd.DataFrame(hot_array), on='id', how='right')\n",
    "grouped['rank'] = grouped['rank'].astype(int)\n",
    "grouped['url'] = grouped['id'].apply(lambda x: f\"https://boardgamegeek.com/boardgame/{x}\")\n",
    "grouped['fixed_rating'] = (grouped['rating_mean_review']*grouped['rating_count_review']+grouped['rating_mean_comments']*grouped['rating_count_comments']) /\\\n",
    "                            (grouped['rating_count_review']+grouped['rating_count_comments'])\n",
    "grouped['thumbnail'] = grouped['thumbnail'].apply(lambda x: f'<img src=\"{x}\" width=\"124\" />')\n",
    "grouped['name'] = grouped.apply(lambda x: f'<a href=\"{x[\"url\"]}\">{x[\"name\"]}</a>', axis=1)\n",
    "\n",
    "grouped = grouped[['thumbnail', 'name', 'rating_mean_review', 'rating_mean_comments', 'fixed_rating', 'rank', 'yearpublished']]"
   ]
  },
  {
   "cell_type": "code",
   "execution_count": 46,
   "metadata": {},
   "outputs": [
    {
     "data": {
      "text/html": [
       "<div>\n",
       "<style scoped>\n",
       "    .dataframe tbody tr th:only-of-type {\n",
       "        vertical-align: middle;\n",
       "    }\n",
       "\n",
       "    .dataframe tbody tr th {\n",
       "        vertical-align: top;\n",
       "    }\n",
       "\n",
       "    .dataframe thead th {\n",
       "        text-align: right;\n",
       "    }\n",
       "</style>\n",
       "<table border=\"1\" class=\"dataframe\">\n",
       "  <thead>\n",
       "    <tr style=\"text-align: right;\">\n",
       "      <th></th>\n",
       "      <th>thumbnail</th>\n",
       "      <th>name</th>\n",
       "      <th>rating_mean_review</th>\n",
       "      <th>rating_mean_comments</th>\n",
       "      <th>fixed_rating</th>\n",
       "      <th>rank</th>\n",
       "      <th>yearpublished</th>\n",
       "    </tr>\n",
       "  </thead>\n",
       "  <tbody>\n",
       "    <tr>\n",
       "      <th>0</th>\n",
       "      <td>&lt;img src=\"https://cf.geekdo-images.com/oqanBg2...</td>\n",
       "      <td>&lt;a href=\"https://boardgamegeek.com/boardgame/3...</td>\n",
       "      <td>9.000000</td>\n",
       "      <td>7.261799</td>\n",
       "      <td>7.510113</td>\n",
       "      <td>1</td>\n",
       "      <td>2021</td>\n",
       "    </tr>\n",
       "    <tr>\n",
       "      <th>1</th>\n",
       "      <td>&lt;img src=\"https://cf.geekdo-images.com/By59lVy...</td>\n",
       "      <td>&lt;a href=\"https://boardgamegeek.com/boardgame/3...</td>\n",
       "      <td>10.000000</td>\n",
       "      <td>8.086051</td>\n",
       "      <td>8.325294</td>\n",
       "      <td>2</td>\n",
       "      <td>2021</td>\n",
       "    </tr>\n",
       "    <tr>\n",
       "      <th>2</th>\n",
       "      <td>&lt;img src=\"https://cf.geekdo-images.com/MN0OvKe...</td>\n",
       "      <td>&lt;a href=\"https://boardgamegeek.com/boardgame/3...</td>\n",
       "      <td>7.519231</td>\n",
       "      <td>7.930152</td>\n",
       "      <td>7.585508</td>\n",
       "      <td>3</td>\n",
       "      <td>2021</td>\n",
       "    </tr>\n",
       "    <tr>\n",
       "      <th>3</th>\n",
       "      <td>&lt;img src=\"https://cf.geekdo-images.com/6GqH14T...</td>\n",
       "      <td>&lt;a href=\"https://boardgamegeek.com/boardgame/3...</td>\n",
       "      <td>7.797595</td>\n",
       "      <td>7.991433</td>\n",
       "      <td>7.813563</td>\n",
       "      <td>4</td>\n",
       "      <td>2020</td>\n",
       "    </tr>\n",
       "    <tr>\n",
       "      <th>4</th>\n",
       "      <td>&lt;img src=\"https://cf.geekdo-images.com/gTxav_K...</td>\n",
       "      <td>&lt;a href=\"https://boardgamegeek.com/boardgame/2...</td>\n",
       "      <td>7.848939</td>\n",
       "      <td>8.293233</td>\n",
       "      <td>7.987353</td>\n",
       "      <td>5</td>\n",
       "      <td>2021</td>\n",
       "    </tr>\n",
       "  </tbody>\n",
       "</table>\n",
       "</div>"
      ],
      "text/plain": [
       "                                           thumbnail  \\\n",
       "0  <img src=\"https://cf.geekdo-images.com/oqanBg2...   \n",
       "1  <img src=\"https://cf.geekdo-images.com/By59lVy...   \n",
       "2  <img src=\"https://cf.geekdo-images.com/MN0OvKe...   \n",
       "3  <img src=\"https://cf.geekdo-images.com/6GqH14T...   \n",
       "4  <img src=\"https://cf.geekdo-images.com/gTxav_K...   \n",
       "\n",
       "                                                name  rating_mean_review  \\\n",
       "0  <a href=\"https://boardgamegeek.com/boardgame/3...            9.000000   \n",
       "1  <a href=\"https://boardgamegeek.com/boardgame/3...           10.000000   \n",
       "2  <a href=\"https://boardgamegeek.com/boardgame/3...            7.519231   \n",
       "3  <a href=\"https://boardgamegeek.com/boardgame/3...            7.797595   \n",
       "4  <a href=\"https://boardgamegeek.com/boardgame/2...            7.848939   \n",
       "\n",
       "   rating_mean_comments  fixed_rating  rank yearpublished  \n",
       "0              7.261799      7.510113     1          2021  \n",
       "1              8.086051      8.325294     2          2021  \n",
       "2              7.930152      7.585508     3          2021  \n",
       "3              7.991433      7.813563     4          2020  \n",
       "4              8.293233      7.987353     5          2021  "
      ]
     },
     "execution_count": 46,
     "metadata": {},
     "output_type": "execute_result"
    }
   ],
   "source": [
    "grouped.head()"
   ]
  },
  {
   "cell_type": "code",
   "execution_count": 47,
   "metadata": {},
   "outputs": [],
   "source": [
    "def display_topn(by, n=5, ascending=True):\n",
    "    temp_df = grouped.sort_values(by, ascending=ascending).head(n)\n",
    "    temp_df.index=list(range(1, n+1))\n",
    "    return HTML(temp_df.to_html(escape=False, classes='table table-striped'))"
   ]
  },
  {
   "cell_type": "code",
   "execution_count": 48,
   "metadata": {},
   "outputs": [
    {
     "data": {
      "text/html": [
       "<table border=\"1\" class=\"dataframe table table-striped\">\n",
       "  <thead>\n",
       "    <tr style=\"text-align: right;\">\n",
       "      <th></th>\n",
       "      <th>thumbnail</th>\n",
       "      <th>name</th>\n",
       "      <th>rating_mean_review</th>\n",
       "      <th>rating_mean_comments</th>\n",
       "      <th>fixed_rating</th>\n",
       "      <th>rank</th>\n",
       "      <th>yearpublished</th>\n",
       "    </tr>\n",
       "  </thead>\n",
       "  <tbody>\n",
       "    <tr>\n",
       "      <th>1</th>\n",
       "      <td><img src=\"https://cf.geekdo-images.com/oqanBg2ZMXFEcZGXs5Xhjg__thumb/img/ytH65f20HAD_pWA7-adVLLKUTtM=/fit-in/200x150/filters:strip_icc()/pic6222156.png\" width=\"124\" /></td>\n",
       "      <td><a href=\"https://boardgamegeek.com/boardgame/340466\">Unfathomable</a></td>\n",
       "      <td>9.000000</td>\n",
       "      <td>7.261799</td>\n",
       "      <td>7.510113</td>\n",
       "      <td>1</td>\n",
       "      <td>2021</td>\n",
       "    </tr>\n",
       "    <tr>\n",
       "      <th>2</th>\n",
       "      <td><img src=\"https://cf.geekdo-images.com/By59lVylKiQh_ICJUgK5Tg__thumb/img/a-AYlm8qtSbpqeqydP09w1Aorfw=/fit-in/200x150/filters:strip_icc()/pic6209785.jpg\" width=\"124\" /></td>\n",
       "      <td><a href=\"https://boardgamegeek.com/boardgame/314745\">Now or Never</a></td>\n",
       "      <td>10.000000</td>\n",
       "      <td>8.086051</td>\n",
       "      <td>8.325294</td>\n",
       "      <td>2</td>\n",
       "      <td>2021</td>\n",
       "    </tr>\n",
       "    <tr>\n",
       "      <th>3</th>\n",
       "      <td><img src=\"https://cf.geekdo-images.com/MN0OvKejfrfwD6bupQHp4g__thumb/img/MVh7xtQ4l17hprI4mFIk9Kswk6s=/fit-in/200x150/filters:strip_icc()/pic5623566.jpg\" width=\"124\" /></td>\n",
       "      <td><a href=\"https://boardgamegeek.com/boardgame/318184\">Imperium: Classics</a></td>\n",
       "      <td>7.519231</td>\n",
       "      <td>7.930152</td>\n",
       "      <td>7.585508</td>\n",
       "      <td>3</td>\n",
       "      <td>2021</td>\n",
       "    </tr>\n",
       "    <tr>\n",
       "      <th>4</th>\n",
       "      <td><img src=\"https://cf.geekdo-images.com/6GqH14TJJhza86BX5HCLEQ__thumb/img/J8SVmGOJXZGxNjkT3xYNQU7Haxg=/fit-in/200x150/filters:strip_icc()/pic5674958.jpg\" width=\"124\" /></td>\n",
       "      <td><a href=\"https://boardgamegeek.com/boardgame/312484\">Lost Ruins of Arnak</a></td>\n",
       "      <td>7.797595</td>\n",
       "      <td>7.991433</td>\n",
       "      <td>7.813563</td>\n",
       "      <td>4</td>\n",
       "      <td>2020</td>\n",
       "    </tr>\n",
       "    <tr>\n",
       "      <th>5</th>\n",
       "      <td><img src=\"https://cf.geekdo-images.com/gTxav_KKQK1rDg-XuCjCSA__thumb/img/tFTOAKG5aDXxYfNRmJNmfyxH83M=/fit-in/200x150/filters:strip_icc()/pic5164812.jpg\" width=\"124\" /></td>\n",
       "      <td><a href=\"https://boardgamegeek.com/boardgame/291572\">Oath: Chronicles of Empire and Exile</a></td>\n",
       "      <td>7.848939</td>\n",
       "      <td>8.293233</td>\n",
       "      <td>7.987353</td>\n",
       "      <td>5</td>\n",
       "      <td>2021</td>\n",
       "    </tr>\n",
       "  </tbody>\n",
       "</table>"
      ],
      "text/plain": [
       "<IPython.core.display.HTML object>"
      ]
     },
     "execution_count": 48,
     "metadata": {},
     "output_type": "execute_result"
    }
   ],
   "source": [
    "# TOP N RANK\n",
    "display_topn(by='rank', n=TOP_N)"
   ]
  },
  {
   "cell_type": "code",
   "execution_count": 49,
   "metadata": {},
   "outputs": [
    {
     "data": {
      "text/html": [
       "<table border=\"1\" class=\"dataframe table table-striped\">\n",
       "  <thead>\n",
       "    <tr style=\"text-align: right;\">\n",
       "      <th></th>\n",
       "      <th>thumbnail</th>\n",
       "      <th>name</th>\n",
       "      <th>rating_mean_review</th>\n",
       "      <th>rating_mean_comments</th>\n",
       "      <th>fixed_rating</th>\n",
       "      <th>rank</th>\n",
       "      <th>yearpublished</th>\n",
       "    </tr>\n",
       "  </thead>\n",
       "  <tbody>\n",
       "    <tr>\n",
       "      <th>1</th>\n",
       "      <td><img src=\"https://cf.geekdo-images.com/By59lVylKiQh_ICJUgK5Tg__thumb/img/a-AYlm8qtSbpqeqydP09w1Aorfw=/fit-in/200x150/filters:strip_icc()/pic6209785.jpg\" width=\"124\" /></td>\n",
       "      <td><a href=\"https://boardgamegeek.com/boardgame/314745\">Now or Never</a></td>\n",
       "      <td>10.000000</td>\n",
       "      <td>8.086051</td>\n",
       "      <td>8.325294</td>\n",
       "      <td>2</td>\n",
       "      <td>2021</td>\n",
       "    </tr>\n",
       "    <tr>\n",
       "      <th>2</th>\n",
       "      <td><img src=\"https://cf.geekdo-images.com/ELxnlSjxcglPHIowrQPsPQ__thumb/img/sOZ7gE6nCoDdQ1EThPDThvdT498=/fit-in/200x150/filters:strip_icc()/pic6180357.png\" width=\"124\" /></td>\n",
       "      <td><a href=\"https://boardgamegeek.com/boardgame/273814\">Deliverance</a></td>\n",
       "      <td>9.379167</td>\n",
       "      <td>8.591015</td>\n",
       "      <td>9.254722</td>\n",
       "      <td>8</td>\n",
       "      <td>2021</td>\n",
       "    </tr>\n",
       "    <tr>\n",
       "      <th>3</th>\n",
       "      <td><img src=\"https://cf.geekdo-images.com/-6AnQ0BuCM8u1lqAwTe8Rw__thumb/img/da5eYCvhYSmPb03hEhNwxR8-s6g=/fit-in/200x150/filters:strip_icc()/pic5623567.jpg\" width=\"124\" /></td>\n",
       "      <td><a href=\"https://boardgamegeek.com/boardgame/318182\">Imperium: Legends</a></td>\n",
       "      <td>9.250000</td>\n",
       "      <td>7.814717</td>\n",
       "      <td>8.962943</td>\n",
       "      <td>30</td>\n",
       "      <td>2021</td>\n",
       "    </tr>\n",
       "    <tr>\n",
       "      <th>4</th>\n",
       "      <td><img src=\"https://cf.geekdo-images.com/oqanBg2ZMXFEcZGXs5Xhjg__thumb/img/ytH65f20HAD_pWA7-adVLLKUTtM=/fit-in/200x150/filters:strip_icc()/pic6222156.png\" width=\"124\" /></td>\n",
       "      <td><a href=\"https://boardgamegeek.com/boardgame/340466\">Unfathomable</a></td>\n",
       "      <td>9.000000</td>\n",
       "      <td>7.261799</td>\n",
       "      <td>7.510113</td>\n",
       "      <td>1</td>\n",
       "      <td>2021</td>\n",
       "    </tr>\n",
       "    <tr>\n",
       "      <th>5</th>\n",
       "      <td><img src=\"https://cf.geekdo-images.com/sZxxoD_yC3UWr-cLn9mCCw__thumb/img/mUovP7_BK-0E9JjUYlaea9I9Hd8=/fit-in/200x150/filters:strip_icc()/pic6148517.jpg\" width=\"124\" /></td>\n",
       "      <td><a href=\"https://boardgamegeek.com/boardgame/337324\">ADELE</a></td>\n",
       "      <td>9.000000</td>\n",
       "      <td>8.727665</td>\n",
       "      <td>8.818443</td>\n",
       "      <td>7</td>\n",
       "      <td>2021</td>\n",
       "    </tr>\n",
       "  </tbody>\n",
       "</table>"
      ],
      "text/plain": [
       "<IPython.core.display.HTML object>"
      ]
     },
     "execution_count": 49,
     "metadata": {},
     "output_type": "execute_result"
    }
   ],
   "source": [
    "# TOP N REVIEW RANK\n",
    "display_topn(by='rating_mean_review', n=TOP_N, ascending=False)"
   ]
  },
  {
   "cell_type": "code",
   "execution_count": 50,
   "metadata": {},
   "outputs": [
    {
     "data": {
      "text/html": [
       "<table border=\"1\" class=\"dataframe table table-striped\">\n",
       "  <thead>\n",
       "    <tr style=\"text-align: right;\">\n",
       "      <th></th>\n",
       "      <th>thumbnail</th>\n",
       "      <th>name</th>\n",
       "      <th>rating_mean_review</th>\n",
       "      <th>rating_mean_comments</th>\n",
       "      <th>fixed_rating</th>\n",
       "      <th>rank</th>\n",
       "      <th>yearpublished</th>\n",
       "    </tr>\n",
       "  </thead>\n",
       "  <tbody>\n",
       "    <tr>\n",
       "      <th>1</th>\n",
       "      <td><img src=\"https://cf.geekdo-images.com/ELxnlSjxcglPHIowrQPsPQ__thumb/img/sOZ7gE6nCoDdQ1EThPDThvdT498=/fit-in/200x150/filters:strip_icc()/pic6180357.png\" width=\"124\" /></td>\n",
       "      <td><a href=\"https://boardgamegeek.com/boardgame/273814\">Deliverance</a></td>\n",
       "      <td>9.379167</td>\n",
       "      <td>8.591015</td>\n",
       "      <td>9.254722</td>\n",
       "      <td>8</td>\n",
       "      <td>2021</td>\n",
       "    </tr>\n",
       "    <tr>\n",
       "      <th>2</th>\n",
       "      <td><img src=\"https://cf.geekdo-images.com/-6AnQ0BuCM8u1lqAwTe8Rw__thumb/img/da5eYCvhYSmPb03hEhNwxR8-s6g=/fit-in/200x150/filters:strip_icc()/pic5623567.jpg\" width=\"124\" /></td>\n",
       "      <td><a href=\"https://boardgamegeek.com/boardgame/318182\">Imperium: Legends</a></td>\n",
       "      <td>9.250000</td>\n",
       "      <td>7.814717</td>\n",
       "      <td>8.962943</td>\n",
       "      <td>30</td>\n",
       "      <td>2021</td>\n",
       "    </tr>\n",
       "    <tr>\n",
       "      <th>3</th>\n",
       "      <td><img src=\"https://cf.geekdo-images.com/sZxxoD_yC3UWr-cLn9mCCw__thumb/img/mUovP7_BK-0E9JjUYlaea9I9Hd8=/fit-in/200x150/filters:strip_icc()/pic6148517.jpg\" width=\"124\" /></td>\n",
       "      <td><a href=\"https://boardgamegeek.com/boardgame/337324\">ADELE</a></td>\n",
       "      <td>9.000000</td>\n",
       "      <td>8.727665</td>\n",
       "      <td>8.818443</td>\n",
       "      <td>7</td>\n",
       "      <td>2021</td>\n",
       "    </tr>\n",
       "    <tr>\n",
       "      <th>4</th>\n",
       "      <td><img src=\"https://cf.geekdo-images.com/Oh3kHw6lweg6ru71Q16h2Q__thumb/img/e9XZdQe1ZcPpaq4Gy31OoWBB_V0=/fit-in/200x150/filters:strip_icc()/pic5235277.jpg\" width=\"124\" /></td>\n",
       "      <td><a href=\"https://boardgamegeek.com/boardgame/246900\">Eclipse: Second Dawn for the Galaxy</a></td>\n",
       "      <td>8.719187</td>\n",
       "      <td>8.243598</td>\n",
       "      <td>8.647101</td>\n",
       "      <td>38</td>\n",
       "      <td>2020</td>\n",
       "    </tr>\n",
       "    <tr>\n",
       "      <th>5</th>\n",
       "      <td><img src=\"https://cf.geekdo-images.com/x3zxjr-Vw5iU4yDPg70Jgw__thumb/img/o18rjEemoWaVru9Y2TyPwuIaRfE=/fit-in/200x150/filters:strip_icc()/pic3490053.jpg\" width=\"124\" /></td>\n",
       "      <td><a href=\"https://boardgamegeek.com/boardgame/224517\">Brass: Birmingham</a></td>\n",
       "      <td>8.677645</td>\n",
       "      <td>8.184952</td>\n",
       "      <td>8.634223</td>\n",
       "      <td>27</td>\n",
       "      <td>2018</td>\n",
       "    </tr>\n",
       "  </tbody>\n",
       "</table>"
      ],
      "text/plain": [
       "<IPython.core.display.HTML object>"
      ]
     },
     "execution_count": 50,
     "metadata": {},
     "output_type": "execute_result"
    }
   ],
   "source": [
    "# TOP N FIXED RANK\n",
    "display_topn(by='fixed_rating', n=TOP_N, ascending=False)"
   ]
  },
  {
   "cell_type": "code",
   "execution_count": 51,
   "metadata": {},
   "outputs": [],
   "source": [
    "# model.save('saved_model\\my_model')"
   ]
  },
  {
   "cell_type": "code",
   "execution_count": 52,
   "metadata": {},
   "outputs": [],
   "source": [
    "# saved_model = tf.keras.models.load_model('saved_model\\my_model')"
   ]
  },
  {
   "cell_type": "code",
   "execution_count": 53,
   "metadata": {},
   "outputs": [],
   "source": [
    "# some examples on \"long\" comments vs short comments"
   ]
  },
  {
   "cell_type": "code",
   "execution_count": 54,
   "metadata": {},
   "outputs": [],
   "source": [
    "not_rated_comments['comment_len'] = not_rated_comments['value'].str.len()\n",
    "some_long_comments = not_rated_comments.query(\"comment_len>100 and comment_len<300\").sample(frac=1).head(25).sort_values('rating')"
   ]
  },
  {
   "cell_type": "code",
   "execution_count": 55,
   "metadata": {},
   "outputs": [
    {
     "name": "stdout",
     "output_type": "stream",
     "text": [
      "\"I picked up this game after hearing how great it was and was sure it would go well with my group, but wow did it fall flat. I think it took too long for what it was, and while I enjoyed it, it seemed others were ready for it to be over halfway through. \"\n",
      "score: 5.89\n",
      "\n",
      "\"Played it only once and we had to rush the end to finish it. Sour taste as there was little interaction between played because we were too focused on our own game and strategy to look at what the others were doing.  Willing to try more as I feel there is a steep learning curve.\"\n",
      "score: 5.92\n",
      "\n",
      "\"Watched Tom Vasel's review (partially). Why is this a board game? App-driven but beyond reason, seems like it should be a videogame instead.\"\n",
      "score: 6.30\n",
      "\n",
      "\"Lots of fun, interesting dynamics and teaches you not to trust anyone! Feels a lot like the TV show in that respect.\"\n",
      "score: 6.30\n",
      "\n",
      "\"wishlist - people seem to like the traitor aspect of this game.  Now I'm thinking Dead of Winter is a better traitor game.\"\n",
      "score: 6.36\n",
      "\n",
      "\"Play the original on my iPad (and not that well), so it would be fun to play the new version (aaand there’s beer which is always a good idea for gaming!)\"\n",
      "score: 6.43\n",
      "\n",
      "\"1 to 5 players Economic - Environmental - Industry/Manufacturing - Science Fiction - Territory Building Card Drafting - Hand Management - Tile Placement - Variable Player Powers\"\n",
      "score: 6.55\n",
      "\n",
      "\"3.1 avg wt, 1-4, best with 2-4, 60-120 minutes  Fantasy  Co-operative Play Grid Movement Hand Management Modular Board Simultaneous Action Selection Variable Player Powers\"\n",
      "score: 7.65\n",
      "\n",
      "\"Beautiful tableau builder about hiking.  Pros: + Artwork (beautiful) + Theme (unusual, hiking) + Quick playing time  Cons: - Feels repetitive over time  Similar games: * Wingspan (tableau builder, more decision-making)\"\n",
      "score: 7.66\n",
      "\n",
      "\"Rahdo says this is the best fantasy style cooperative game in existence to this point. So incredibly fun he says. Tom Vassel really likes this game also. This game is soo much fun Tom Vassel says that he would RATHER PLAY this game than a computer game. This game is worth the hype!\"\n",
      "score: 7.84\n",
      "\n",
      "\"out of room, having to cull more games i like :( donating to dice tower west convention, maybe you'll see it there!\"\n",
      "score: 7.91\n",
      "\n",
      "\"comes out Jan 2021 - Kick starter closed. Ryan Laukat is a good designer. Campaign game, play a session and just mark where you left off.\"\n",
      "score: 7.92\n",
      "\n",
      "\"Kickstarter Edition Sundrop With Aftermath & Void Seekers Expansions with Playmatt, Sleeves & Untold Stories 1&2\"\n",
      "score: 8.20\n",
      "\n",
      "\"Card Drafting Hand Management Set Collection Take That Tile Placement Variable Player Powers  W3.24 No.1-5 120min\"\n",
      "score: 8.45\n",
      "\n",
      "\"Dice Tower, Eric Summerer's Top 100 Games of All Time 2017, #36; Dice Tower, Jason Levine's Top 100 Games of All Time 2018, #4; Dice Tower, People's Choice Top 100 Games of All Time 2017, #28;\"\n",
      "score: 8.72\n",
      "\n",
      "\"Concordia: Britannia / Germania Concordia: Gallia / Corsica Concordia: 8 Forum Cards Concodria: Aegypus / Creta Concordia: Balearica / Cyprus  FFG Standard European 59 x 92 (72 Cards)\"\n",
      "score: 8.98\n",
      "\n",
      "\"It's always good to have some good 2player games, and this one looks promising. But as i play 3 players the most time, it has to wait... Have some good 2 player games i haven't played enough yet.\"\n",
      "score: 9.19\n",
      "\n",
      "\"plan is to find company to play this with.   Start from Jaws of the Lion.  then Gloomhaven, continued into Forgotten Circles.  And frost Haven would have already have arrived by time we finish All Gloomhaven... \"\n",
      "score: 9.36\n",
      "\n",
      "\"Late back on Kickstarter 6/12/20 after reading Leder’s thoughtful critique of GAMA. Happy to give my support.\"\n",
      "score: 9.39\n",
      "\n",
      "\"Base Undertow 40 Days Age of Tyranny Splice and Dice  Ghillie Tink Nugget Gasket Dart Gearloc Council Internship Program  Premium Health (Hoplo) Adventure Map 2.0 Ally Pack Trove Chest\"\n",
      "score: 9.56\n",
      "\n",
      "\"Love this game. It was a pain how the scoring markers always got knocked out of place so I invested in some 3D printed grids to keep the cubes in place.\"\n",
      "score: 9.62\n",
      "\n",
      "\"1-5 Players Includes Promo Cards:  Small Asteroid, Snow Algae, Self Replicating Robots, Penguins Includes: Hellas & Elysium Maps, Venus Next Expansion, Prelude Expansion Includes:  (2) Sets Top Shelf Gamer Metal Cubes (for up to 4-5 players)\"\n",
      "score: 9.66\n",
      "\n",
      "\"Grundspiel: Imperium / Italia  Salsa-Erweiterung: Byzantium / Hispania Venus-Erweiterung: Hellas / Ionium Britannia / Germania Balearica / Cyprus Aegyptus / Creta Gallia / Corsica\"\n",
      "score: 9.89\n",
      "\n",
      "\"THE NIGHT OF THE ZEALOT Core Set x3  Return to the Night of the Zealot  Curse of the Rougarou   Carnevale of Horrors\"\n",
      "score: 10.00\n",
      "\n",
      "\"# of Players  2  # User Suggested # of Players  2 # Mfg Suggested Ages  10 and up # Playing Time  30 minutes # User Suggested Ages  10 and up # Avg. Game Weight: 2.25\"\n",
      "score: 10.00\n",
      "\n"
     ]
    }
   ],
   "source": [
    "some_long_comments.apply(lambda c: print(f\"\\\"{c['value']}\\\"\\nscore: {c['rating']:.2f}\\n\"), axis=1);"
   ]
  },
  {
   "cell_type": "markdown",
   "metadata": {},
   "source": [
    "## RANDOM FOREST - TEST"
   ]
  },
  {
   "cell_type": "code",
   "execution_count": 56,
   "metadata": {},
   "outputs": [],
   "source": [
    "# no support for Windows at the moment - waiting for it to test"
   ]
  },
  {
   "cell_type": "code",
   "execution_count": null,
   "metadata": {},
   "outputs": [],
   "source": []
  }
 ],
 "metadata": {
  "kernelspec": {
   "display_name": "tensorflow2",
   "language": "python",
   "name": "tensorflow2"
  },
  "language_info": {
   "codemirror_mode": {
    "name": "ipython",
    "version": 3
   },
   "file_extension": ".py",
   "mimetype": "text/x-python",
   "name": "python",
   "nbconvert_exporter": "python",
   "pygments_lexer": "ipython3",
   "version": "3.8.8"
  }
 },
 "nbformat": 4,
 "nbformat_minor": 4
}
