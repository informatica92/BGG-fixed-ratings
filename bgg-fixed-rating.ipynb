{
 "cells": [
  {
   "cell_type": "code",
   "execution_count": 1,
   "metadata": {},
   "outputs": [],
   "source": [
    "# ## BGG API\n",
    "# https://www.boardgamegeek.com/xmlapi2/thing?id=161599&comments=1\n",
    "# https://www.boardgamegeek.com/xmlapi2/hot?type=boardgame\n",
    "# ## NLP WITH TF\n",
    "# https://www.tensorflow.org/hub/tutorials/tf2_text_classification"
   ]
  },
  {
   "cell_type": "code",
   "execution_count": 2,
   "metadata": {},
   "outputs": [
    {
     "name": "stdout",
     "output_type": "stream",
     "text": [
      "Version:      2.4.0\n",
      "Eager mode:   True\n",
      "Hub version:  0.12.0\n",
      "GPU:          available\n"
     ]
    }
   ],
   "source": [
    "import tensorflow as tf\n",
    "import tensorflow_hub as hub\n",
    "import tensorflow_datasets as tfds\n",
    "\n",
    "import xml.etree.ElementTree as Xet\n",
    "import matplotlib.pyplot as plt\n",
    "import pandas as pd\n",
    "import numpy as np\n",
    "import requests\n",
    "from IPython.display import Image, HTML\n",
    "\n",
    "from langdetect import detect\n",
    "import re\n",
    "\n",
    "print(\"Version:     \", tf.__version__)\n",
    "print(\"Eager mode:  \", tf.executing_eagerly())\n",
    "print(\"Hub version: \", hub.__version__)\n",
    "print(\"GPU:         \", \"available\" if tf.config.list_physical_devices('GPU') else \"NOT available\")"
   ]
  },
  {
   "cell_type": "code",
   "execution_count": 3,
   "metadata": {},
   "outputs": [],
   "source": [
    "# tf.debugging.set_log_device_placement(True)"
   ]
  },
  {
   "cell_type": "code",
   "execution_count": 4,
   "metadata": {},
   "outputs": [],
   "source": [
    "GOOD_REVIEW_THRESHOLD = 7"
   ]
  },
  {
   "cell_type": "code",
   "execution_count": 5,
   "metadata": {},
   "outputs": [],
   "source": [
    "VAL_FRACTION = 0.25"
   ]
  },
  {
   "cell_type": "code",
   "execution_count": 6,
   "metadata": {},
   "outputs": [],
   "source": [
    "MIN_COMMENT_LEN = 25"
   ]
  },
  {
   "cell_type": "code",
   "execution_count": 7,
   "metadata": {},
   "outputs": [],
   "source": [
    "TOP_N = 5"
   ]
  },
  {
   "cell_type": "markdown",
   "metadata": {},
   "source": [
    "## GET DATA"
   ]
  },
  {
   "cell_type": "code",
   "execution_count": 8,
   "metadata": {},
   "outputs": [],
   "source": [
    "def get_hot_data():\n",
    "    hot = requests.get(\"https://www.boardgamegeek.com/xmlapi2/hot?type=boardgame\").content.decode()\n",
    "  \n",
    "    # Parsing the XML file\n",
    "    xmlparse = Xet.fromstring(hot)\n",
    "\n",
    "    hot_array = []\n",
    "    for item in xmlparse:\n",
    "        dict_element = {\n",
    "            \"id\": item.get(\"id\"),\n",
    "            \"rank\": item.get(\"rank\")\n",
    "        }\n",
    "        for option in item:\n",
    "            dict_element[option.tag] = option.get(\"value\")\n",
    "        hot_array.append(dict_element)\n",
    "    return hot_array"
   ]
  },
  {
   "cell_type": "code",
   "execution_count": 9,
   "metadata": {},
   "outputs": [],
   "source": [
    "def get_comments(id_array, verbose=1):\n",
    "    max_comments_per_page = 1\n",
    "    array_ids = [h['id'] for h in id_array]\n",
    "    ids = ','.join(array_ids)\n",
    "    page_size = 100\n",
    "    page_number = 0\n",
    "    comments_array = []\n",
    "\n",
    "    while max_comments_per_page > 0 and len(array_ids) > 0:\n",
    "        page_number += 1\n",
    "        if verbose>0 and page_number%verbose==0:\n",
    "            print(f\"page number = {page_number}\", end=\" \")\n",
    "        comments = requests.get(f\"https://www.boardgamegeek.com/xmlapi2/thing?id={ids}&comments=1&pagesize={page_size}&page={page_number}\").content.decode()\n",
    "\n",
    "        # Parsing the XML file\n",
    "        xmlparse = Xet.fromstring(comments)\n",
    "        comments_per_item = []\n",
    "        for item in xmlparse:        \n",
    "            for option in item:\n",
    "                if option.tag == 'comments':\n",
    "                    comments_per_page = 0\n",
    "                    for comment in option:\n",
    "                        comments_per_page += 1\n",
    "                        dict_element = {\n",
    "                            \"id\": item.get(\"id\"),\n",
    "                            \"username\": comment.get(\"username\"),\n",
    "                            \"rating\": comment.get(\"rating\"),\n",
    "                            \"value\": comment.get(\"value\")\n",
    "                        }\n",
    "                        comments_array.append(dict_element)\n",
    "                    if comments_per_page==0:\n",
    "                        array_ids.remove(item.get(\"id\"))\n",
    "                        ids = ','.join(array_ids)\n",
    "                    comments_per_item.append(comments_per_page)\n",
    "        max_comments_per_page = max(comments_per_item)\n",
    "        if verbose>0 and page_number%verbose==0:\n",
    "            print(f\"(max: {max(comments_per_item)}, len: {len(comments_per_item)})\")\n",
    "    comments_df = pd.DataFrame(comments_array)\n",
    "    print(f\"comments_df shape: {comments_df.shape}\")\n",
    "    return comments_df"
   ]
  },
  {
   "cell_type": "code",
   "execution_count": 10,
   "metadata": {},
   "outputs": [
    {
     "data": {
      "text/plain": [
       "[{'id': '285192',\n",
       "  'rank': '1',\n",
       "  'thumbnail': 'https://cf.geekdo-images.com/oaD1ZQ3yGj6lacLdtqgdnQ__thumb/img/1mCz7HPEFMeqaqJHsDZwEUc9ftw=/fit-in/200x150/filters:strip_icc()/pic5558118.png',\n",
       "  'name': 'Destinies',\n",
       "  'yearpublished': '2021'},\n",
       " {'id': '312484',\n",
       "  'rank': '2',\n",
       "  'thumbnail': 'https://cf.geekdo-images.com/6GqH14TJJhza86BX5HCLEQ__thumb/img/J8SVmGOJXZGxNjkT3xYNQU7Haxg=/fit-in/200x150/filters:strip_icc()/pic5674958.jpg',\n",
       "  'name': 'Lost Ruins of Arnak',\n",
       "  'yearpublished': '2020'}]"
      ]
     },
     "execution_count": 10,
     "metadata": {},
     "output_type": "execute_result"
    }
   ],
   "source": [
    "hot_array = get_hot_data()\n",
    "hot_array[:2]"
   ]
  },
  {
   "cell_type": "code",
   "execution_count": 11,
   "metadata": {},
   "outputs": [
    {
     "name": "stderr",
     "output_type": "stream",
     "text": [
      "<ipython-input-11-3c366f14faf3>:2: FutureWarning: The pandas.datetime class is deprecated and will be removed from pandas in a future version. Import from datetime module instead.\n",
      "  comments_df = pd.read_csv(f\"comments_{pd.datetime.now().strftime('%Y%m%d')}.csv\")\n"
     ]
    },
    {
     "name": "stdout",
     "output_type": "stream",
     "text": [
      "missing csv file, getting new data using API...\n",
      "page number = 10 (max: 100, len: 22)\n",
      "page number = 20 (max: 100, len: 13)\n",
      "page number = 30 (max: 100, len: 10)\n",
      "page number = 40 (max: 100, len: 8)\n",
      "page number = 50 (max: 100, len: 4)\n",
      "page number = 60 (max: 100, len: 4)\n",
      "page number = 70 (max: 100, len: 3)\n",
      "page number = 80 (max: 100, len: 3)\n",
      "page number = 90 (max: 100, len: 2)\n",
      "page number = 100 (max: 0, len: 1)\n",
      "comments_df shape: (82251, 4)\n"
     ]
    },
    {
     "name": "stderr",
     "output_type": "stream",
     "text": [
      "<ipython-input-11-3c366f14faf3>:8: FutureWarning: The pandas.datetime class is deprecated and will be removed from pandas in a future version. Import from datetime module instead.\n",
      "  comments_df.to_csv(f\"comments_{pd.datetime.now().strftime('%Y%m%d')}.csv\", index=False)\n"
     ]
    },
    {
     "data": {
      "text/html": [
       "<div>\n",
       "<style scoped>\n",
       "    .dataframe tbody tr th:only-of-type {\n",
       "        vertical-align: middle;\n",
       "    }\n",
       "\n",
       "    .dataframe tbody tr th {\n",
       "        vertical-align: top;\n",
       "    }\n",
       "\n",
       "    .dataframe thead th {\n",
       "        text-align: right;\n",
       "    }\n",
       "</style>\n",
       "<table border=\"1\" class=\"dataframe\">\n",
       "  <thead>\n",
       "    <tr style=\"text-align: right;\">\n",
       "      <th></th>\n",
       "      <th>id</th>\n",
       "      <th>username</th>\n",
       "      <th>rating</th>\n",
       "      <th>value</th>\n",
       "    </tr>\n",
       "  </thead>\n",
       "  <tbody>\n",
       "    <tr>\n",
       "      <th>0</th>\n",
       "      <td>285192</td>\n",
       "      <td>Alarka</td>\n",
       "      <td>N/A</td>\n",
       "      <td>Players: 1-3 (1-2) Time: 90-150 Min Category: ...</td>\n",
       "    </tr>\n",
       "    <tr>\n",
       "      <th>1</th>\n",
       "      <td>285192</td>\n",
       "      <td>almi</td>\n",
       "      <td>N/A</td>\n",
       "      <td>2021-05</td>\n",
       "    </tr>\n",
       "    <tr>\n",
       "      <th>2</th>\n",
       "      <td>285192</td>\n",
       "      <td>AnneWit</td>\n",
       "      <td>9</td>\n",
       "      <td>On first play, this is another outstanding gam...</td>\n",
       "    </tr>\n",
       "    <tr>\n",
       "      <th>3</th>\n",
       "      <td>285192</td>\n",
       "      <td>ArmyLee</td>\n",
       "      <td>N/A</td>\n",
       "      <td>KS Ed. - Sea of Sand - Myth &amp; Folklore crossover</td>\n",
       "    </tr>\n",
       "    <tr>\n",
       "      <th>4</th>\n",
       "      <td>285192</td>\n",
       "      <td>azuravian</td>\n",
       "      <td>N/A</td>\n",
       "      <td>Pending Pledge Manager. Estimated delivery in ...</td>\n",
       "    </tr>\n",
       "    <tr>\n",
       "      <th>...</th>\n",
       "      <td>...</td>\n",
       "      <td>...</td>\n",
       "      <td>...</td>\n",
       "      <td>...</td>\n",
       "    </tr>\n",
       "    <tr>\n",
       "      <th>82246</th>\n",
       "      <td>167791</td>\n",
       "      <td>z_zadar</td>\n",
       "      <td>9</td>\n",
       "      <td>Some games are so much fun. Others can be a li...</td>\n",
       "    </tr>\n",
       "    <tr>\n",
       "      <th>82247</th>\n",
       "      <td>167791</td>\n",
       "      <td>_Czid_</td>\n",
       "      <td>8</td>\n",
       "      <td>Have played with Elysium and Prelude expansion...</td>\n",
       "    </tr>\n",
       "    <tr>\n",
       "      <th>82248</th>\n",
       "      <td>167791</td>\n",
       "      <td>_Marty_</td>\n",
       "      <td>9.5</td>\n",
       "      <td>Fantastic game. With so many cards that can ch...</td>\n",
       "    </tr>\n",
       "    <tr>\n",
       "      <th>82249</th>\n",
       "      <td>167791</td>\n",
       "      <td>_mun_</td>\n",
       "      <td>10</td>\n",
       "      <td>Nagyon izgalmas játék, jó a mechanizmusa. A sz...</td>\n",
       "    </tr>\n",
       "    <tr>\n",
       "      <th>82250</th>\n",
       "      <td>167791</td>\n",
       "      <td>_The_Inquiry_</td>\n",
       "      <td>5</td>\n",
       "      <td>Prior to 2020: 2 plays  TM is one of those gam...</td>\n",
       "    </tr>\n",
       "  </tbody>\n",
       "</table>\n",
       "<p>82251 rows × 4 columns</p>\n",
       "</div>"
      ],
      "text/plain": [
       "           id       username rating  \\\n",
       "0      285192         Alarka    N/A   \n",
       "1      285192           almi    N/A   \n",
       "2      285192        AnneWit      9   \n",
       "3      285192        ArmyLee    N/A   \n",
       "4      285192      azuravian    N/A   \n",
       "...       ...            ...    ...   \n",
       "82246  167791        z_zadar      9   \n",
       "82247  167791         _Czid_      8   \n",
       "82248  167791        _Marty_    9.5   \n",
       "82249  167791          _mun_     10   \n",
       "82250  167791  _The_Inquiry_      5   \n",
       "\n",
       "                                                   value  \n",
       "0      Players: 1-3 (1-2) Time: 90-150 Min Category: ...  \n",
       "1                                                2021-05  \n",
       "2      On first play, this is another outstanding gam...  \n",
       "3       KS Ed. - Sea of Sand - Myth & Folklore crossover  \n",
       "4      Pending Pledge Manager. Estimated delivery in ...  \n",
       "...                                                  ...  \n",
       "82246  Some games are so much fun. Others can be a li...  \n",
       "82247  Have played with Elysium and Prelude expansion...  \n",
       "82248  Fantastic game. With so many cards that can ch...  \n",
       "82249  Nagyon izgalmas játék, jó a mechanizmusa. A sz...  \n",
       "82250  Prior to 2020: 2 plays  TM is one of those gam...  \n",
       "\n",
       "[82251 rows x 4 columns]"
      ]
     },
     "execution_count": 11,
     "metadata": {},
     "output_type": "execute_result"
    }
   ],
   "source": [
    "try:\n",
    "    comments_df = pd.read_csv(f\"comments_{pd.datetime.now().strftime('%Y%m%d')}.csv\")\n",
    "    comments_df['rating'] = comments_df.rating.fillna('N/A')\n",
    "    print(\"reading dataframe from csv file...\")\n",
    "except:\n",
    "    print(\"missing csv file, getting new data using API...\")\n",
    "    comments_df = get_comments(hot_array, verbose=10)\n",
    "    comments_df.to_csv(f\"comments_{pd.datetime.now().strftime('%Y%m%d')}.csv\", index=False)\n",
    "comments_df"
   ]
  },
  {
   "cell_type": "markdown",
   "metadata": {},
   "source": [
    "## DATA CLEANING"
   ]
  },
  {
   "cell_type": "code",
   "execution_count": 12,
   "metadata": {},
   "outputs": [],
   "source": [
    "# probably we should keep all the ratings (no matters the len) and remove only the simple comments under a certain len  "
   ]
  },
  {
   "cell_type": "code",
   "execution_count": 13,
   "metadata": {},
   "outputs": [],
   "source": [
    "comments_df[\"value\"] = comments_df[\"value\"].astype(str)"
   ]
  },
  {
   "cell_type": "code",
   "execution_count": 14,
   "metadata": {},
   "outputs": [],
   "source": [
    "# REMOVE URLs FROM COMMENTS"
   ]
  },
  {
   "cell_type": "code",
   "execution_count": 15,
   "metadata": {},
   "outputs": [],
   "source": [
    "comments_df['value'] = [re.sub(r\"http\\S+\", \"\", v) for v in comments_df.value.values]"
   ]
  },
  {
   "cell_type": "code",
   "execution_count": 16,
   "metadata": {},
   "outputs": [],
   "source": [
    "# REMOVE SHORT COMMENTS\n",
    "def remove_short_comments(df: pd.DataFrame, min_len=25, method='unrated'):\n",
    "    if method not in ['unrated', 'rated', 'both']:\n",
    "        raise AttributeError(f\"method {method} not allowed\")\n",
    "    df_local = df.copy()    \n",
    "    df_local['comment_len'] = [len(re.findall(\"[A-Za-z]\", v)) for v in df_local['value'].values]\n",
    "    if method == 'rated':\n",
    "        df_local = df_local.query('(comment_len>@min_len and rating != \"N/A\") or rating == \"N/A\"')\n",
    "    elif method == 'unrated':\n",
    "        df_local = df_local.query('(comment_len>@min_len and rating == \"N/A\") or rating != \"N/A\"')\n",
    "    else:\n",
    "        df_local = df_local.query('comment_len>@min_len')\n",
    "    print(f\"removed {len(df)-len(df_local)} for 'remove_short_comments' - min len: {min_len} - method: {method}\")\n",
    "    return df_local.reset_index(drop=True)"
   ]
  },
  {
   "cell_type": "code",
   "execution_count": 17,
   "metadata": {},
   "outputs": [
    {
     "name": "stdout",
     "output_type": "stream",
     "text": [
      "removed 14151 for 'remove_short_comments' - min len: 25 - method: unrated\n"
     ]
    }
   ],
   "source": [
    "comments_df = remove_short_comments(comments_df, MIN_COMMENT_LEN)"
   ]
  },
  {
   "cell_type": "code",
   "execution_count": 18,
   "metadata": {},
   "outputs": [],
   "source": [
    "# REMOVE NON ENGLISH COMMENTS"
   ]
  },
  {
   "cell_type": "code",
   "execution_count": 19,
   "metadata": {},
   "outputs": [],
   "source": [
    "# !conda install -c conda-forge langdetect"
   ]
  },
  {
   "cell_type": "code",
   "execution_count": 20,
   "metadata": {},
   "outputs": [],
   "source": [
    "# def add_comments_lang(df: pd.DataFrame):\n",
    "#     df_local = df.copy()\n",
    "#     df_local['lang'] = df['value'].apply(detect)\n",
    "#     return df_local.reset_index(drop=True)"
   ]
  },
  {
   "cell_type": "code",
   "execution_count": 21,
   "metadata": {},
   "outputs": [],
   "source": [
    "# comments_df = add_comments_lang(comments_df)"
   ]
  },
  {
   "cell_type": "code",
   "execution_count": 22,
   "metadata": {},
   "outputs": [],
   "source": [
    "# comments_df = comments_df.query('lang == \"en\"')"
   ]
  },
  {
   "cell_type": "markdown",
   "metadata": {},
   "source": [
    "## SPLIT RATED AND NON-RATED COMMENTS"
   ]
  },
  {
   "cell_type": "code",
   "execution_count": 23,
   "metadata": {},
   "outputs": [
    {
     "data": {
      "text/plain": [
       "10      13643\n",
       "9       12830\n",
       "8       10557\n",
       "N/A      5918\n",
       "7        5756\n",
       "        ...  \n",
       "1.87        1\n",
       "4.25        1\n",
       "9.29        1\n",
       "7.46        1\n",
       "6.84        1\n",
       "Name: rating, Length: 487, dtype: int64"
      ]
     },
     "execution_count": 23,
     "metadata": {},
     "output_type": "execute_result"
    }
   ],
   "source": [
    "# count number of comments per rating (N/A included)\n",
    "comments_df.rating.value_counts()"
   ]
  },
  {
   "cell_type": "code",
   "execution_count": 24,
   "metadata": {},
   "outputs": [
    {
     "data": {
      "text/plain": [
       "(62182, 5)"
      ]
     },
     "execution_count": 24,
     "metadata": {},
     "output_type": "execute_result"
    }
   ],
   "source": [
    "# get rated comments only\n",
    "rated_comments = comments_df.query('rating != \"N/A\"')\n",
    "rated_comments.shape"
   ]
  },
  {
   "cell_type": "code",
   "execution_count": 25,
   "metadata": {},
   "outputs": [
    {
     "data": {
      "text/plain": [
       "(5918, 5)"
      ]
     },
     "execution_count": 25,
     "metadata": {},
     "output_type": "execute_result"
    }
   ],
   "source": [
    "# get non rated comments only\n",
    "not_rated_comments = comments_df.query('rating == \"N/A\"').reset_index(drop=True)\n",
    "not_rated_comments.shape"
   ]
  },
  {
   "cell_type": "markdown",
   "metadata": {},
   "source": [
    "## CREATE TRAINING AND VALIDATION DATA"
   ]
  },
  {
   "cell_type": "code",
   "execution_count": 26,
   "metadata": {},
   "outputs": [],
   "source": [
    "# use rated comments (reviews) to train the model"
   ]
  },
  {
   "cell_type": "code",
   "execution_count": 27,
   "metadata": {},
   "outputs": [],
   "source": [
    "rated_comments = rated_comments.sample(frac=1)"
   ]
  },
  {
   "cell_type": "code",
   "execution_count": 28,
   "metadata": {},
   "outputs": [],
   "source": [
    "# create training X and y\n",
    "train_examples = list(rated_comments.value)\n",
    "train_labels = list((rated_comments.rating.astype(float)>=GOOD_REVIEW_THRESHOLD).astype(int))"
   ]
  },
  {
   "cell_type": "code",
   "execution_count": 29,
   "metadata": {},
   "outputs": [
    {
     "name": "stdout",
     "output_type": "stream",
     "text": [
      "example of positive rating:\n"
     ]
    },
    {
     "data": {
      "text/plain": [
       "'Finish/5x5 Campaign/Story'"
      ]
     },
     "execution_count": 29,
     "metadata": {},
     "output_type": "execute_result"
    }
   ],
   "source": [
    "print(\"example of positive rating:\")\n",
    "train_examples[train_labels.index(1)]"
   ]
  },
  {
   "cell_type": "code",
   "execution_count": 30,
   "metadata": {},
   "outputs": [
    {
     "name": "stdout",
     "output_type": "stream",
     "text": [
      "example of negative rating:\n"
     ]
    },
    {
     "data": {
      "text/plain": [
       "'n'"
      ]
     },
     "execution_count": 30,
     "metadata": {},
     "output_type": "execute_result"
    }
   ],
   "source": [
    "print(\"example of negative rating:\")\n",
    "train_examples[train_labels.index(0)]"
   ]
  },
  {
   "cell_type": "code",
   "execution_count": 31,
   "metadata": {},
   "outputs": [],
   "source": [
    "# create validation dataset from training\n",
    "validation_len = int(len(train_examples)*VAL_FRACTION)\n",
    "validation_len\n",
    "\n",
    "x_val = train_examples[:validation_len]\n",
    "x_train = train_examples[validation_len:]\n",
    "\n",
    "y_val = train_labels[:validation_len]\n",
    "y_train = train_labels[validation_len:]"
   ]
  },
  {
   "cell_type": "markdown",
   "metadata": {},
   "source": [
    "## COMPOSE MODEL"
   ]
  },
  {
   "cell_type": "code",
   "execution_count": 32,
   "metadata": {},
   "outputs": [
    {
     "data": {
      "text/plain": [
       "<tf.Tensor: shape=(2, 50), dtype=float32, numpy=\n",
       "array([[ 0.43985412,  0.22365615,  0.01647744, -0.05062911,  0.21186934,\n",
       "         0.02933805,  0.15756153,  0.06699702,  0.06049671, -0.05668639,\n",
       "        -0.12121667,  0.16850324, -0.14121184,  0.1258168 ,  0.17147529,\n",
       "         0.07618982,  0.08105026,  0.05464588, -0.05687261,  0.03227923,\n",
       "         0.07086568, -0.15839303,  0.06562025, -0.02891381,  0.09143715,\n",
       "         0.13411194,  0.26930287, -0.00385256, -0.06866042, -0.1495141 ,\n",
       "        -0.04240419,  0.2377534 , -0.09887167,  0.06357395, -0.03411808,\n",
       "         0.02568903, -0.18892017, -0.15171915,  0.07380346, -0.12261991,\n",
       "         0.18529335,  0.0101533 ,  0.06761733, -0.35369337,  0.00535541,\n",
       "        -0.05671147,  0.28830507,  0.07803378, -0.12201228,  0.01103719],\n",
       "       [ 0.34175014,  0.09511895, -0.11842661, -0.04910247,  0.22900139,\n",
       "         0.19338608, -0.24653941,  0.05524833,  0.01866491, -0.02630576,\n",
       "         0.04817512, -0.13455275, -0.0291037 , -0.1018758 , -0.00657308,\n",
       "         0.00501558,  0.0576576 ,  0.12413615,  0.14473781,  0.08940457,\n",
       "         0.02018674,  0.09177907,  0.05010251,  0.05704143,  0.0601145 ,\n",
       "        -0.06508011, -0.05420116,  0.13431084, -0.0233425 ,  0.37757963,\n",
       "         0.13151428, -0.03574212, -0.07958824,  0.30920112,  0.13614596,\n",
       "        -0.11449946,  0.15336995, -0.21533547, -0.04429187,  0.157114  ,\n",
       "        -0.10692524,  0.19735833, -0.32401282, -0.30727205, -0.17331444,\n",
       "        -0.31143096, -0.0063214 ,  0.2074406 , -0.25475186,  0.3060695 ]],\n",
       "      dtype=float32)>"
      ]
     },
     "execution_count": 32,
     "metadata": {},
     "output_type": "execute_result"
    }
   ],
   "source": [
    "model = \"https://tfhub.dev/google/nnlm-en-dim50/2\"\n",
    "hub_layer = hub.KerasLayer(model, input_shape=[], dtype=tf.string, trainable=True)\n",
    "hub_layer(train_examples[:2])"
   ]
  },
  {
   "cell_type": "code",
   "execution_count": 33,
   "metadata": {},
   "outputs": [
    {
     "name": "stdout",
     "output_type": "stream",
     "text": [
      "Model: \"sequential\"\n",
      "_________________________________________________________________\n",
      "Layer (type)                 Output Shape              Param #   \n",
      "=================================================================\n",
      "keras_layer (KerasLayer)     (None, 50)                48190600  \n",
      "_________________________________________________________________\n",
      "dense (Dense)                (None, 16)                816       \n",
      "_________________________________________________________________\n",
      "dense_1 (Dense)              (None, 1)                 17        \n",
      "=================================================================\n",
      "Total params: 48,191,433\n",
      "Trainable params: 48,191,433\n",
      "Non-trainable params: 0\n",
      "_________________________________________________________________\n"
     ]
    }
   ],
   "source": [
    "model = tf.keras.Sequential()\n",
    "model.add(hub_layer)\n",
    "model.add(tf.keras.layers.Dense(16, activation='relu'))\n",
    "model.add(tf.keras.layers.Dense(1))\n",
    "\n",
    "model.summary()"
   ]
  },
  {
   "cell_type": "code",
   "execution_count": 34,
   "metadata": {},
   "outputs": [],
   "source": [
    "model.compile(\n",
    "    optimizer='adam',\n",
    "    loss=tf.losses.BinaryCrossentropy(from_logits=True),\n",
    "    metrics=[tf.metrics.BinaryAccuracy(threshold=0.0, name='accuracy')]\n",
    ")"
   ]
  },
  {
   "cell_type": "markdown",
   "metadata": {},
   "source": [
    "## TRAINING MODEL "
   ]
  },
  {
   "cell_type": "code",
   "execution_count": 35,
   "metadata": {},
   "outputs": [
    {
     "name": "stdout",
     "output_type": "stream",
     "text": [
      "Epoch 1/40\n",
      "92/92 - 8s - loss: 0.4609 - accuracy: 0.8515 - val_loss: 0.3774 - val_accuracy: 0.8524\n",
      "Epoch 2/40\n",
      "92/92 - 5s - loss: 0.3288 - accuracy: 0.8606 - val_loss: 0.3249 - val_accuracy: 0.8718\n",
      "Epoch 3/40\n",
      "92/92 - 5s - loss: 0.2713 - accuracy: 0.8909 - val_loss: 0.3094 - val_accuracy: 0.8759\n",
      "Epoch 4/40\n",
      "92/92 - 5s - loss: 0.2323 - accuracy: 0.9081 - val_loss: 0.3131 - val_accuracy: 0.8767\n",
      "Epoch 5/40\n",
      "92/92 - 5s - loss: 0.2034 - accuracy: 0.9210 - val_loss: 0.3299 - val_accuracy: 0.8731\n",
      "Epoch 6/40\n",
      "92/92 - 5s - loss: 0.1812 - accuracy: 0.9306 - val_loss: 0.3489 - val_accuracy: 0.8719\n",
      "Epoch 7/40\n",
      "92/92 - 5s - loss: 0.1635 - accuracy: 0.9377 - val_loss: 0.3692 - val_accuracy: 0.8661\n",
      "Epoch 8/40\n",
      "92/92 - 5s - loss: 0.1485 - accuracy: 0.9444 - val_loss: 0.3950 - val_accuracy: 0.8623\n"
     ]
    }
   ],
   "source": [
    "history = model.fit(\n",
    "    x_train,\n",
    "    y_train,\n",
    "    epochs=40,\n",
    "    batch_size=512,\n",
    "    validation_data=(x_val, y_val),\n",
    "    verbose=2,\n",
    "    callbacks=[\n",
    "        tf.keras.callbacks.EarlyStopping(monitor='val_accuracy', patience=5, min_delta=0.001)\n",
    "    ]\n",
    ")"
   ]
  },
  {
   "cell_type": "code",
   "execution_count": 36,
   "metadata": {},
   "outputs": [
    {
     "data": {
      "text/plain": [
       "dict_keys(['loss', 'accuracy', 'val_loss', 'val_accuracy'])"
      ]
     },
     "execution_count": 36,
     "metadata": {},
     "output_type": "execute_result"
    }
   ],
   "source": [
    "history_dict = history.history\n",
    "history_dict.keys()"
   ]
  },
  {
   "cell_type": "code",
   "execution_count": 37,
   "metadata": {},
   "outputs": [],
   "source": [
    "acc = history_dict['accuracy']\n",
    "val_acc = history_dict['val_accuracy']\n",
    "loss = history_dict['loss']\n",
    "val_loss = history_dict['val_loss']"
   ]
  },
  {
   "cell_type": "code",
   "execution_count": 38,
   "metadata": {},
   "outputs": [],
   "source": [
    "epochs = range(1, len(acc) + 1) "
   ]
  },
  {
   "cell_type": "code",
   "execution_count": 39,
   "metadata": {},
   "outputs": [
    {
     "data": {
      "image/png": "[encoded data removed]",
      "text/plain": [
       "<Figure size 648x360 with 1 Axes>"
      ]
     },
     "metadata": {
      "needs_background": "light"
     },
     "output_type": "display_data"
    }
   ],
   "source": [
    "# \"bo\" is for \"blue dot\"\n",
    "plt.figure(figsize=(9, 5))\n",
    "plt.plot(epochs, loss, 'bo', label='Training loss')\n",
    "# b is for \"solid blue line\"\n",
    "plt.plot(epochs, val_loss, 'b', label='Validation loss')\n",
    "plt.title('Training and validation loss')\n",
    "plt.xlabel('Epochs')\n",
    "plt.ylabel('Loss')\n",
    "plt.grid(True)\n",
    "plt.legend()\n",
    "\n",
    "plt.show()"
   ]
  },
  {
   "cell_type": "code",
   "execution_count": 40,
   "metadata": {},
   "outputs": [
    {
     "data": {
      "image/png": "[encoded data removed]",
      "text/plain": [
       "<Figure size 648x360 with 1 Axes>"
      ]
     },
     "metadata": {
      "needs_background": "light"
     },
     "output_type": "display_data"
    }
   ],
   "source": [
    "plt.figure(figsize=(9, 5))\n",
    "plt.plot(epochs, acc, 'bo', label='Training acc')\n",
    "plt.plot(epochs, val_acc, 'b', label='Validation acc')\n",
    "plt.title('Training and validation accuracy')\n",
    "plt.xlabel('Epochs')\n",
    "plt.ylabel('Accuracy')\n",
    "plt.grid(True)\n",
    "plt.legend()\n",
    "\n",
    "plt.show()"
   ]
  },
  {
   "cell_type": "code",
   "execution_count": 41,
   "metadata": {},
   "outputs": [],
   "source": [
    "def print_my_examples(inputs, results, actual_values=None, limit=None):\n",
    "    if actual_values is None:\n",
    "        result_for_printing = [f'input:\\n\"{inputs[i]}\"\\nscore: {results[i][0]:.6f}' for i in range(len(inputs))]\n",
    "    else:\n",
    "        result_for_printing = [f'input:\\n\"{inputs[i]}\"\\nscore: {results[i][0]:.6f}\\nactual value:{actual_values[i]}' for i in range(len(inputs))]\n",
    "    if limit:\n",
    "        result_for_printing = result_for_printing[:limit]\n",
    "    print(*result_for_printing, sep='\\n\\n')"
   ]
  },
  {
   "cell_type": "code",
   "execution_count": 42,
   "metadata": {},
   "outputs": [
    {
     "name": "stdout",
     "output_type": "stream",
     "text": [
      "input:\n",
      "\"with Mat  Prophecy of Kings\"\n",
      "score: 0.999622\n",
      "actual value:1\n",
      "\n",
      "input:\n",
      "\"Very very good game. Similar to base game of 3rd edition with balance problems fixed. A couple of negatives preventing it from getting a 10:  Only 6 players Distant suns is needed to make beginning of game more interesting and not just about grabbing planets as quickly as possible. Needs more aggressive public objectives to avoid possibility of turtling. Missing the diversity of 3rd with all expansions.  Still a very very good game.\"\n",
      "score: 0.998269\n",
      "actual value:1\n",
      "\n",
      "input:\n",
      "\"Exelente juego en solitario.\"\n",
      "score: 0.995288\n",
      "actual value:1\n",
      "\n",
      "input:\n",
      "\"Beautiful game, with great cardplacement aspect. \"\n",
      "score: 0.995534\n",
      "actual value:1\n",
      "\n",
      "input:\n",
      "\"Co-op / solo board games have recently become an obsession of mine with Spirit Island at the forefront of my enjoyment. For a game with such a simple board and play area, the amount of strategic depth is incredible especially when playing with multiple spirits or friends. It does take a bit to learn and capitalize on optimal plays, Solid rule book and helpful community. Can't recommend this game enough!\"\n",
      "score: 0.999959\n",
      "actual value:1\n",
      "\n",
      "input:\n",
      "\"[size=12][b]Marvel Champions [/b]❘ ★★★★★[/size]   [i]I've played enough games of Marvel Champions to give some first impressions, but there is still a lot more for us to explore in Marvel Champions. We haven't even started to deck build because we're still having a blast using the prebuilt decks for each hero. Fantasy Flight definitely succeeded in creating an LCG that is friendly to newcomers and we were hooked after one play..   Because there has already been so much written about Marvel Champions, I am going to focus my initial impressions on why this is my quintessential superhero game [i](for context I have also played The DC Deck-building Game, Marvel Legendary and the Marvel VS. superhero games).[/i] In short Marvel Champions is the only superhero game I've played that succeeds in creating a play experience where you actually feel like that superhero. This is achieved in large part based on how each hero's deck is built...  A superhero's deck is comprised of abilities, upgrades and allies that are specific to them. For example, when you begin a game as Tony Stark/Iron Man you are building your suit which in turn increases your stats and opens up more options for you to take advantage of on future turns. And to be really successful you need focus your strategy on the strengths of the hero you chose; heroes in Marvel Champions feel unique. When playing as the the much maligned Hulk, your goal is to dish out as much damage as you can as quickly as possible.  The newly released Ant-Man has a very unique play style since he can be in giant or tiny form [i](each form grants him some unique powers and make him better suited for certain tasks)[/i]. Fantasy Flight has already released a lot heroes and they all have a variety of strategies to explore.    There is also the element of deck building in Marvel Champions, which offers even more ways to customize each hero. The main way this is achieved is through your choice of an aspect for your hero: aggression, justice, leadership or protection. Each aspect has a very different focus for the allies, events and upgrades you can really change how your hero will play [i](you can only have cards from one aspect in your hero's deck)[/i]. There are a variety of villains to fight, each offering a different level difficulty. When building your villain deck you can also choose from a variety of modular decks which add different side schemes and minions to the villain deck.  Mechanically the game is excellent too, we are having a blast playing scenarios and working together to defeat the villains. Marvel Champions is very successful in capturing the team aspect found in comics, you will fair much better if you are coordinating with your teammate(s).  Marvel Champions is the first LCG I have invested in so I want to compare the LCG model to my experience with CCG's. I have been averse to playing a LCG after getting caught up in the early days of Magic [i](talk about a money sink[/i]. However; with Marvel Champions you only have to buy one starter box and then you can pick and choose what expansion packs you are interested in. And since it is a co-op you don't have to worry about keeping up with the meta game if you don't want to. It is also a nice change of pace to know that you are getting all the available cards when buying an expansion pack. And I also appreciate that new content comes out on a regular basis which will allow the game to continue evolving.[/i] [hr][i][b]I am listing all the content I have along with the base game here, I don't want to clog up my owned games list with a bunch of small card packs.[/i][/b]  [size=14]•[/size] The Rise of the Red Skull expansion [size=14]•[/size] The Green Goblin [size=14]•[/size] The Once and Future Kang [size=14]•[/size] The Wrecking Crew [size=14]•[/size] Ant-Man [size=14]•[/size] Black Widow [size=14]•[/size] Captain America [size=14]•[/size] Doctor Strange [size=14]•[/size] Hulk [size=14]•[/size] Ms. Marvel [size=14]•[/size] Quicksilver [size=14]•[/size] Thor [size=14]•[/size] Wasp\"\n",
      "score: 1.000000\n",
      "actual value:1\n",
      "\n",
      "input:\n",
      "\"Kicked it.\"\n",
      "score: 0.978253\n",
      "actual value:1\n",
      "\n",
      "input:\n",
      "\"Don't believe the hype. It's OK, but not worth the asking price.  The little boxes and character packs are nice though.\"\n",
      "score: 0.681014\n",
      "actual value:1\n",
      "\n",
      "input:\n",
      "\"順暢的進行方式，讓體驗的玩家可以融入其中。 多路線選擇，讓人流連忘返，甚麼都要嘗試看看。 (像打電動一樣，全破吧!\"\n",
      "score: 0.886766\n",
      "actual value:1\n",
      "\n",
      "input:\n",
      "\"Game is really beautiful, but it doesn't feel really deep and decisions don't feel like they matter much for a strategy game.\"\n",
      "score: 0.485743\n",
      "actual value:0\n"
     ]
    }
   ],
   "source": [
    "inputs = x_train[:10]\n",
    "outputs = y_train[:10]\n",
    "results = tf.sigmoid(model.predict(tf.constant(inputs)))\n",
    "print_my_examples(inputs, results, outputs)"
   ]
  },
  {
   "cell_type": "code",
   "execution_count": 43,
   "metadata": {},
   "outputs": [],
   "source": [
    "## APPLY MODEL ON NON-RATED COMMENTS"
   ]
  },
  {
   "cell_type": "code",
   "execution_count": 44,
   "metadata": {},
   "outputs": [
    {
     "name": "stdout",
     "output_type": "stream",
     "text": [
      "input:\n",
      "\"Brittany, John, Kevin have played\"\n",
      "score: 0.975293\n",
      "\n",
      "input:\n",
      "\"Great game; i enjoy playing alone as Automna or just playing two factions\"\n",
      "score: 0.615783\n",
      "\n",
      "input:\n",
      "\"Invaders From Afar, Rise of Fenris, The Wind Gambit, Encounters\"\n",
      "score: 0.999866\n",
      "\n",
      "input:\n",
      "\"Fully punched, only played once\"\n",
      "score: 0.991947\n",
      "\n",
      "input:\n",
      "\"First impression: 7  Need to play this more.\"\n",
      "score: 0.990545\n",
      "\n",
      "input:\n",
      "\"Sundropped, fully painted heroes\"\n",
      "score: 0.998015\n",
      "\n",
      "input:\n",
      "\"This game brought me one of my all-time favorite gaming memories.  \"We haven't instilled enough fear\" the gods said simultaneously.   Liked - It was a coop, but there was a lot of depth to the co-op iness.    Disliked - Way way way too many rules to get the point of the game across.   Also winning seemed like it depended on getting special cards.  Definitely need an app for that.\"\n",
      "score: 0.765460\n",
      "\n",
      "input:\n",
      "\"highly-rated, difficult, pretty, co-op game. theme is protecting against european invaders using elemental powers. sounds amazing. $55-60\"\n",
      "score: 0.999827\n",
      "\n",
      "input:\n",
      "\"Includes second printing rule book, twig pack, and additional coins\"\n",
      "score: 0.996693\n",
      "\n",
      "input:\n",
      "\"Complex co-operative player where players are spirits and try to scare off the humans. See also mage knight.\"\n",
      "score: 0.996340\n",
      "\n",
      "input:\n",
      "\"the game is really fun to play with others, and the dynamics of the game of hand management and resource building is a really different style than other board games.\"\n",
      "score: 0.807634\n",
      "\n",
      "input:\n",
      "\"USA Chimera - Orange: Standard MDG-7044 (212)\"\n",
      "score: 0.999470\n",
      "\n",
      "input:\n",
      "\"Alien SemiKooperativ Spieler können sterben, spielen dann den bösen Hunter und Cron Platz 3 Geekinge Spiele 2020\"\n",
      "score: 0.997244\n",
      "\n",
      "input:\n",
      "\"2-4P (best 4) - 60/90mn  with baggies and Riverfolk expansion  Area control/action programming/hand management/variable player powers  EN \"\n",
      "score: 0.999360\n",
      "\n",
      "input:\n",
      "\"Also own removable sticker set from sinister\"\n",
      "score: 0.998654\n",
      "\n",
      "input:\n",
      "\"(Expansion) -Dunwich Legacy Cycle (1-6) -Path to Carcosa Cycle (1-6) -Forgotten Age Cycle (1-6) -Circle Undone Cycle (1-6) -Dream Eaters Cycle (1-6)  Standalone: -Curse of the Rougarou -Carnevale of Horrors -The Guardians of the Abyss -Murder at the Excelsior Hotel -Barkham Horror  Books: -Blood of Baalshandor  Investigator: -Nathaniel Cho -Harvey Walters -Jacqueline Fine -Stella Clark -Winnifred Habbamock\"\n",
      "score: 0.999996\n",
      "\n",
      "input:\n",
      "\"Kickstarter edition, will only play after a coming birthday :)\"\n",
      "score: 0.999893\n",
      "\n",
      "input:\n",
      "\"includes 5-6 Player extension - bought July 2017\"\n",
      "score: 0.986149\n",
      "\n",
      "input:\n",
      "\"Riverfolk, Clockworks expansion.\"\n",
      "score: 0.976094\n",
      "\n",
      "input:\n",
      "\"Adventure long-pauseable-campaign 7thC-line  When you choose a choice, you get the reward, but if challange fails you get a penalty (e.g. ingure)\"\n",
      "score: 0.950073\n",
      "\n",
      "input:\n",
      "\"Crowd Games will publish it. Need to buy then. Need to get money beforehand.\"\n",
      "score: 0.852236\n",
      "\n",
      "input:\n",
      "\"1 a 5 Jugadores. Enfundado + Carta Corregida\"\n",
      "score: 0.992556\n",
      "\n",
      "input:\n",
      "\"3.  Et av de største strategispillene, masse utvidelser og god støtte.\"\n",
      "score: 0.998569\n",
      "\n",
      "input:\n",
      "\"everyone raves about it  do more research!\"\n",
      "score: 0.659373\n",
      "\n",
      "input:\n",
      "\"everdell complete collection\"\n",
      "score: 0.997106\n"
     ]
    }
   ],
   "source": [
    "not_rated_comments = not_rated_comments.sample(frac=1)\n",
    "results = tf.sigmoid(model.predict(tf.constant(list(not_rated_comments.value.astype(str)))))\n",
    "print_my_examples(list(not_rated_comments.value), results, limit=25)"
   ]
  },
  {
   "cell_type": "markdown",
   "metadata": {},
   "source": [
    "## COMBINE RATED COMMENTS AND NOT-RATED COMMENTS WITH PREDICTED RATING"
   ]
  },
  {
   "cell_type": "code",
   "execution_count": 45,
   "metadata": {},
   "outputs": [
    {
     "name": "stdout",
     "output_type": "stream",
     "text": [
      "rated_comments_grouped: \n",
      "|     id |   rating_mean |   rating_count |\n",
      "|--------|---------------|----------------|\n",
      "| 159675 |          8.08 |           1140 |\n",
      "| 162886 |          8.35 |           3509 |\n",
      "| 167355 |          8.41 |           1791 |\n",
      "| 167791 |          8.21 |           8222 |\n",
      "| 169427 |          8.59 |            219 |\n"
     ]
    }
   ],
   "source": [
    "rated_comments['rating'] = rated_comments.rating.astype(float)\n",
    "rated_comments_grouped = rated_comments.groupby('id').agg({'rating': ['mean', 'count']})\n",
    "rated_comments_grouped.columns = list(rated_comments_grouped.columns.map('_'.join))\n",
    "rated_comments_grouped = rated_comments_grouped.reset_index()\n",
    "print(\"rated_comments_grouped: \")\n",
    "print(rated_comments_grouped.head().to_markdown(index=False, floatfmt='.2f', tablefmt='github'))"
   ]
  },
  {
   "cell_type": "code",
   "execution_count": 46,
   "metadata": {},
   "outputs": [],
   "source": [
    "not_rated_comments['rating'] = [round(float(r[0])*10, 1) for r in results]"
   ]
  },
  {
   "cell_type": "code",
   "execution_count": 47,
   "metadata": {},
   "outputs": [
    {
     "name": "stdout",
     "output_type": "stream",
     "text": [
      "not_rated_comments_grouped: \n",
      "|     id |   rating_mean |   rating_count |\n",
      "|--------|---------------|----------------|\n",
      "| 159675 |          8.25 |            125 |\n",
      "| 162886 |          8.79 |            308 |\n",
      "| 167355 |          9.25 |            217 |\n",
      "| 167791 |          8.99 |            438 |\n",
      "| 169427 |          8.94 |             71 |\n"
     ]
    }
   ],
   "source": [
    "not_rated_comments['rating'] = not_rated_comments.rating.astype(float)\n",
    "not_rated_comments_grouped = not_rated_comments.groupby('id').agg({'rating': ['mean', 'count']})\n",
    "not_rated_comments_grouped.columns = list(not_rated_comments_grouped.columns.map('_'.join))\n",
    "not_rated_comments_grouped = not_rated_comments_grouped.reset_index()\n",
    "print(\"not_rated_comments_grouped: \")\n",
    "print(not_rated_comments_grouped.head().to_markdown(index=False, floatfmt='.2f', tablefmt='github'))"
   ]
  },
  {
   "cell_type": "code",
   "execution_count": 48,
   "metadata": {},
   "outputs": [],
   "source": [
    "grouped = rated_comments_grouped.merge(not_rated_comments_grouped, on='id', suffixes=('_review', '_comments'), how='outer')\n",
    "grouped['id'] = grouped.id.astype(str)\n",
    "grouped = grouped.merge(pd.DataFrame(hot_array), on='id', how='right')\n",
    "grouped['rank'] = grouped['rank'].astype(int)\n",
    "grouped['url'] = grouped['id'].apply(lambda x: f\"https://boardgamegeek.com/boardgame/{x}\")\n",
    "grouped['fixed_rating'] = (grouped['rating_mean_review']*grouped['rating_count_review']+grouped['rating_mean_comments']*grouped['rating_count_comments']) /\\\n",
    "                            (grouped['rating_count_review']+grouped['rating_count_comments'])\n",
    "grouped['thumbnail'] = grouped['thumbnail'].apply(lambda x: f'<img src=\"{x}\" width=\"124\" />')\n",
    "grouped['name'] = grouped.apply(lambda x: f'<a href=\"{x[\"url\"]}\">{x[\"name\"]}</a>', axis=1)\n",
    "\n",
    "grouped = grouped[['thumbnail', 'name', 'rating_mean_review', 'rating_mean_comments', 'fixed_rating', 'rank', 'yearpublished']]"
   ]
  },
  {
   "cell_type": "code",
   "execution_count": 49,
   "metadata": {},
   "outputs": [
    {
     "data": {
      "text/html": [
       "<div>\n",
       "<style scoped>\n",
       "    .dataframe tbody tr th:only-of-type {\n",
       "        vertical-align: middle;\n",
       "    }\n",
       "\n",
       "    .dataframe tbody tr th {\n",
       "        vertical-align: top;\n",
       "    }\n",
       "\n",
       "    .dataframe thead th {\n",
       "        text-align: right;\n",
       "    }\n",
       "</style>\n",
       "<table border=\"1\" class=\"dataframe\">\n",
       "  <thead>\n",
       "    <tr style=\"text-align: right;\">\n",
       "      <th></th>\n",
       "      <th>thumbnail</th>\n",
       "      <th>name</th>\n",
       "      <th>rating_mean_review</th>\n",
       "      <th>rating_mean_comments</th>\n",
       "      <th>fixed_rating</th>\n",
       "      <th>rank</th>\n",
       "      <th>yearpublished</th>\n",
       "    </tr>\n",
       "  </thead>\n",
       "  <tbody>\n",
       "    <tr>\n",
       "      <th>0</th>\n",
       "      <td>&lt;img src=\"https://cf.geekdo-images.com/oaD1ZQ3...</td>\n",
       "      <td>&lt;a href=\"https://boardgamegeek.com/boardgame/2...</td>\n",
       "      <td>8.105000</td>\n",
       "      <td>9.266667</td>\n",
       "      <td>8.492222</td>\n",
       "      <td>1</td>\n",
       "      <td>2021</td>\n",
       "    </tr>\n",
       "    <tr>\n",
       "      <th>1</th>\n",
       "      <td>&lt;img src=\"https://cf.geekdo-images.com/6GqH14T...</td>\n",
       "      <td>&lt;a href=\"https://boardgamegeek.com/boardgame/3...</td>\n",
       "      <td>7.896159</td>\n",
       "      <td>8.560000</td>\n",
       "      <td>7.955887</td>\n",
       "      <td>2</td>\n",
       "      <td>2020</td>\n",
       "    </tr>\n",
       "    <tr>\n",
       "      <th>2</th>\n",
       "      <td>&lt;img src=\"https://cf.geekdo-images.com/4dk54qE...</td>\n",
       "      <td>&lt;a href=\"https://boardgamegeek.com/boardgame/2...</td>\n",
       "      <td>7.376439</td>\n",
       "      <td>8.781818</td>\n",
       "      <td>7.478817</td>\n",
       "      <td>3</td>\n",
       "      <td>2017</td>\n",
       "    </tr>\n",
       "    <tr>\n",
       "      <th>3</th>\n",
       "      <td>&lt;img src=\"https://cf.geekdo-images.com/Zdt8l4o...</td>\n",
       "      <td>&lt;a href=\"https://boardgamegeek.com/boardgame/2...</td>\n",
       "      <td>8.304901</td>\n",
       "      <td>9.021186</td>\n",
       "      <td>8.555707</td>\n",
       "      <td>4</td>\n",
       "      <td>2021</td>\n",
       "    </tr>\n",
       "    <tr>\n",
       "      <th>4</th>\n",
       "      <td>&lt;img src=\"https://cf.geekdo-images.com/OcnPGq9...</td>\n",
       "      <td>&lt;a href=\"https://boardgamegeek.com/boardgame/3...</td>\n",
       "      <td>7.910526</td>\n",
       "      <td>8.760000</td>\n",
       "      <td>8.087500</td>\n",
       "      <td>5</td>\n",
       "      <td>2021</td>\n",
       "    </tr>\n",
       "  </tbody>\n",
       "</table>\n",
       "</div>"
      ],
      "text/plain": [
       "                                           thumbnail  \\\n",
       "0  <img src=\"https://cf.geekdo-images.com/oaD1ZQ3...   \n",
       "1  <img src=\"https://cf.geekdo-images.com/6GqH14T...   \n",
       "2  <img src=\"https://cf.geekdo-images.com/4dk54qE...   \n",
       "3  <img src=\"https://cf.geekdo-images.com/Zdt8l4o...   \n",
       "4  <img src=\"https://cf.geekdo-images.com/OcnPGq9...   \n",
       "\n",
       "                                                name  rating_mean_review  \\\n",
       "0  <a href=\"https://boardgamegeek.com/boardgame/2...            8.105000   \n",
       "1  <a href=\"https://boardgamegeek.com/boardgame/3...            7.896159   \n",
       "2  <a href=\"https://boardgamegeek.com/boardgame/2...            7.376439   \n",
       "3  <a href=\"https://boardgamegeek.com/boardgame/2...            8.304901   \n",
       "4  <a href=\"https://boardgamegeek.com/boardgame/3...            7.910526   \n",
       "\n",
       "   rating_mean_comments  fixed_rating  rank yearpublished  \n",
       "0              9.266667      8.492222     1          2021  \n",
       "1              8.560000      7.955887     2          2020  \n",
       "2              8.781818      7.478817     3          2017  \n",
       "3              9.021186      8.555707     4          2021  \n",
       "4              8.760000      8.087500     5          2021  "
      ]
     },
     "execution_count": 49,
     "metadata": {},
     "output_type": "execute_result"
    }
   ],
   "source": [
    "grouped.head()"
   ]
  },
  {
   "cell_type": "code",
   "execution_count": 50,
   "metadata": {},
   "outputs": [],
   "source": [
    "def display_topn(by, n=5, ascending=True):\n",
    "    temp_df = grouped.sort_values(by, ascending=ascending).head(n)\n",
    "    temp_df.index=list(range(1, n+1))\n",
    "    return HTML(temp_df.to_html(escape=False, classes='table table-striped'))"
   ]
  },
  {
   "cell_type": "code",
   "execution_count": 51,
   "metadata": {},
   "outputs": [
    {
     "data": {
      "text/html": [
       "<table border=\"1\" class=\"dataframe table table-striped\">\n",
       "  <thead>\n",
       "    <tr style=\"text-align: right;\">\n",
       "      <th></th>\n",
       "      <th>thumbnail</th>\n",
       "      <th>name</th>\n",
       "      <th>rating_mean_review</th>\n",
       "      <th>rating_mean_comments</th>\n",
       "      <th>fixed_rating</th>\n",
       "      <th>rank</th>\n",
       "      <th>yearpublished</th>\n",
       "    </tr>\n",
       "  </thead>\n",
       "  <tbody>\n",
       "    <tr>\n",
       "      <th>1</th>\n",
       "      <td><img src=\"https://cf.geekdo-images.com/oaD1ZQ3yGj6lacLdtqgdnQ__thumb/img/1mCz7HPEFMeqaqJHsDZwEUc9ftw=/fit-in/200x150/filters:strip_icc()/pic5558118.png\" width=\"124\" /></td>\n",
       "      <td><a href=\"https://boardgamegeek.com/boardgame/285192\">Destinies</a></td>\n",
       "      <td>8.105000</td>\n",
       "      <td>9.266667</td>\n",
       "      <td>8.492222</td>\n",
       "      <td>1</td>\n",
       "      <td>2021</td>\n",
       "    </tr>\n",
       "    <tr>\n",
       "      <th>2</th>\n",
       "      <td><img src=\"https://cf.geekdo-images.com/6GqH14TJJhza86BX5HCLEQ__thumb/img/J8SVmGOJXZGxNjkT3xYNQU7Haxg=/fit-in/200x150/filters:strip_icc()/pic5674958.jpg\" width=\"124\" /></td>\n",
       "      <td><a href=\"https://boardgamegeek.com/boardgame/312484\">Lost Ruins of Arnak</a></td>\n",
       "      <td>7.896159</td>\n",
       "      <td>8.560000</td>\n",
       "      <td>7.955887</td>\n",
       "      <td>2</td>\n",
       "      <td>2020</td>\n",
       "    </tr>\n",
       "    <tr>\n",
       "      <th>3</th>\n",
       "      <td><img src=\"https://cf.geekdo-images.com/4dk54qEEjU2QQwmo1SEnyQ__thumb/img/ObdrueTxkLhCNiofb06ptPKeqhw=/fit-in/200x150/filters:strip_icc()/pic5027113.jpg\" width=\"124\" /></td>\n",
       "      <td><a href=\"https://boardgamegeek.com/boardgame/223040\">Fantasy Realms</a></td>\n",
       "      <td>7.376439</td>\n",
       "      <td>8.781818</td>\n",
       "      <td>7.478817</td>\n",
       "      <td>3</td>\n",
       "      <td>2017</td>\n",
       "    </tr>\n",
       "    <tr>\n",
       "      <th>4</th>\n",
       "      <td><img src=\"https://cf.geekdo-images.com/Zdt8l4oTBpFICsMyNof7Jg__thumb/img/71w4Tt3xOnuDEDTCG8ni63QUhVE=/fit-in/200x150/filters:strip_icc()/pic5975244.png\" width=\"124\" /></td>\n",
       "      <td><a href=\"https://boardgamegeek.com/boardgame/255984\">Sleeping Gods</a></td>\n",
       "      <td>8.304901</td>\n",
       "      <td>9.021186</td>\n",
       "      <td>8.555707</td>\n",
       "      <td>4</td>\n",
       "      <td>2021</td>\n",
       "    </tr>\n",
       "    <tr>\n",
       "      <th>5</th>\n",
       "      <td><img src=\"https://cf.geekdo-images.com/OcnPGq9DYBKJO_dJ0JVKNQ__thumb/img/22Z6VwHfOQRKaEIHdm0xiaHNua0=/fit-in/200x150/filters:strip_icc()/pic5986451.jpg\" width=\"124\" /></td>\n",
       "      <td><a href=\"https://boardgamegeek.com/boardgame/326494\">The Adventures of Robin Hood</a></td>\n",
       "      <td>7.910526</td>\n",
       "      <td>8.760000</td>\n",
       "      <td>8.087500</td>\n",
       "      <td>5</td>\n",
       "      <td>2021</td>\n",
       "    </tr>\n",
       "  </tbody>\n",
       "</table>"
      ],
      "text/plain": [
       "<IPython.core.display.HTML object>"
      ]
     },
     "execution_count": 51,
     "metadata": {},
     "output_type": "execute_result"
    }
   ],
   "source": [
    "# TOP N RANK\n",
    "display_topn(by='rank', n=TOP_N)"
   ]
  },
  {
   "cell_type": "code",
   "execution_count": 52,
   "metadata": {},
   "outputs": [
    {
     "data": {
      "text/html": [
       "<table border=\"1\" class=\"dataframe table table-striped\">\n",
       "  <thead>\n",
       "    <tr style=\"text-align: right;\">\n",
       "      <th></th>\n",
       "      <th>thumbnail</th>\n",
       "      <th>name</th>\n",
       "      <th>rating_mean_review</th>\n",
       "      <th>rating_mean_comments</th>\n",
       "      <th>fixed_rating</th>\n",
       "      <th>rank</th>\n",
       "      <th>yearpublished</th>\n",
       "    </tr>\n",
       "  </thead>\n",
       "  <tbody>\n",
       "    <tr>\n",
       "      <th>1</th>\n",
       "      <td><img src=\"https://cf.geekdo-images.com/nhWSmNJSTBAye6bxLa9x-Q__thumb/img/B4r1iyRl2Z2CcMrtBRQOKYwwngw=/fit-in/200x150/filters:strip_icc()/pic4779069.jpg\" width=\"124\" /></td>\n",
       "      <td><a href=\"https://boardgamegeek.com/boardgame/268012\">Chronicles of Drunagor: Age of Darkness</a></td>\n",
       "      <td>9.500000</td>\n",
       "      <td>9.355556</td>\n",
       "      <td>9.477966</td>\n",
       "      <td>49</td>\n",
       "      <td>2021</td>\n",
       "    </tr>\n",
       "    <tr>\n",
       "      <th>2</th>\n",
       "      <td><img src=\"https://cf.geekdo-images.com/tQVVSXcmYLvAoI28cp-2Tg__thumb/img/ahKWaUSws5zja4feB4VexkNV3Mc=/fit-in/200x150/filters:strip_icc()/pic5974859.jpg\" width=\"124\" /></td>\n",
       "      <td><a href=\"https://boardgamegeek.com/boardgame/331106\">The Witcher: Old World</a></td>\n",
       "      <td>9.208333</td>\n",
       "      <td>9.714286</td>\n",
       "      <td>9.394737</td>\n",
       "      <td>45</td>\n",
       "      <td>2022</td>\n",
       "    </tr>\n",
       "    <tr>\n",
       "      <th>3</th>\n",
       "      <td><img src=\"https://cf.geekdo-images.com/x3zxjr-Vw5iU4yDPg70Jgw__thumb/img/o18rjEemoWaVru9Y2TyPwuIaRfE=/fit-in/200x150/filters:strip_icc()/pic3490053.jpg\" width=\"124\" /></td>\n",
       "      <td><a href=\"https://boardgamegeek.com/boardgame/224517\">Brass: Birmingham</a></td>\n",
       "      <td>8.688057</td>\n",
       "      <td>9.017904</td>\n",
       "      <td>8.718151</td>\n",
       "      <td>32</td>\n",
       "      <td>2018</td>\n",
       "    </tr>\n",
       "    <tr>\n",
       "      <th>4</th>\n",
       "      <td><img src=\"https://cf.geekdo-images.com/_HhIdavYW-hid20Iq3hhmg__thumb/img/OMkN_E5eyWrkID_cHCnQEbIixGM=/fit-in/200x150/filters:strip_icc()/pic5055631.jpg\" width=\"124\" /></td>\n",
       "      <td><a href=\"https://boardgamegeek.com/boardgame/291457\">Gloomhaven: Jaws of the Lion</a></td>\n",
       "      <td>8.608075</td>\n",
       "      <td>8.620301</td>\n",
       "      <td>8.609296</td>\n",
       "      <td>20</td>\n",
       "      <td>2020</td>\n",
       "    </tr>\n",
       "    <tr>\n",
       "      <th>5</th>\n",
       "      <td><img src=\"https://cf.geekdo-images.com/hRuD1y5BxdNpssgBqamS0A__thumb/img/fpUu1t2YLjJ4EvEzBGTKtZasNv4=/fit-in/200x150/filters:strip_icc()/pic4595897.jpg\" width=\"124\" /></td>\n",
       "      <td><a href=\"https://boardgamegeek.com/boardgame/169427\">Middara: Unintentional Malum – Act 1</a></td>\n",
       "      <td>8.590092</td>\n",
       "      <td>8.940845</td>\n",
       "      <td>8.675966</td>\n",
       "      <td>48</td>\n",
       "      <td>2019</td>\n",
       "    </tr>\n",
       "  </tbody>\n",
       "</table>"
      ],
      "text/plain": [
       "<IPython.core.display.HTML object>"
      ]
     },
     "execution_count": 52,
     "metadata": {},
     "output_type": "execute_result"
    }
   ],
   "source": [
    "# TOP N REVIEW RANK\n",
    "display_topn(by='rating_mean_review', n=TOP_N, ascending=False)"
   ]
  },
  {
   "cell_type": "code",
   "execution_count": 53,
   "metadata": {},
   "outputs": [
    {
     "data": {
      "text/html": [
       "<table border=\"1\" class=\"dataframe table table-striped\">\n",
       "  <thead>\n",
       "    <tr style=\"text-align: right;\">\n",
       "      <th></th>\n",
       "      <th>thumbnail</th>\n",
       "      <th>name</th>\n",
       "      <th>rating_mean_review</th>\n",
       "      <th>rating_mean_comments</th>\n",
       "      <th>fixed_rating</th>\n",
       "      <th>rank</th>\n",
       "      <th>yearpublished</th>\n",
       "    </tr>\n",
       "  </thead>\n",
       "  <tbody>\n",
       "    <tr>\n",
       "      <th>1</th>\n",
       "      <td><img src=\"https://cf.geekdo-images.com/nhWSmNJSTBAye6bxLa9x-Q__thumb/img/B4r1iyRl2Z2CcMrtBRQOKYwwngw=/fit-in/200x150/filters:strip_icc()/pic4779069.jpg\" width=\"124\" /></td>\n",
       "      <td><a href=\"https://boardgamegeek.com/boardgame/268012\">Chronicles of Drunagor: Age of Darkness</a></td>\n",
       "      <td>9.500000</td>\n",
       "      <td>9.355556</td>\n",
       "      <td>9.477966</td>\n",
       "      <td>49</td>\n",
       "      <td>2021</td>\n",
       "    </tr>\n",
       "    <tr>\n",
       "      <th>2</th>\n",
       "      <td><img src=\"https://cf.geekdo-images.com/tQVVSXcmYLvAoI28cp-2Tg__thumb/img/ahKWaUSws5zja4feB4VexkNV3Mc=/fit-in/200x150/filters:strip_icc()/pic5974859.jpg\" width=\"124\" /></td>\n",
       "      <td><a href=\"https://boardgamegeek.com/boardgame/331106\">The Witcher: Old World</a></td>\n",
       "      <td>9.208333</td>\n",
       "      <td>9.714286</td>\n",
       "      <td>9.394737</td>\n",
       "      <td>45</td>\n",
       "      <td>2022</td>\n",
       "    </tr>\n",
       "    <tr>\n",
       "      <th>3</th>\n",
       "      <td><img src=\"https://cf.geekdo-images.com/SAKzHYVbMnhbSgYXngoJxQ__thumb/img/RF6aORNcMKL0lwnA8FlwplOKj4g=/fit-in/200x150/filters:strip_icc()/pic6109923.jpg\" width=\"124\" /></td>\n",
       "      <td><a href=\"https://boardgamegeek.com/boardgame/329551\">Mosaic: A Story of Civilization</a></td>\n",
       "      <td>7.000000</td>\n",
       "      <td>9.357143</td>\n",
       "      <td>9.062500</td>\n",
       "      <td>6</td>\n",
       "      <td>2022</td>\n",
       "    </tr>\n",
       "    <tr>\n",
       "      <th>4</th>\n",
       "      <td><img src=\"https://cf.geekdo-images.com/eUiju5SqZbkNt8gnEofrTw__thumb/img/zNkmLNyeXJGOY24FeAAf4U67ejU=/fit-in/200x150/filters:strip_icc()/pic6035127.png\" width=\"124\" /></td>\n",
       "      <td><a href=\"https://boardgamegeek.com/boardgame/316624\">Stationfall</a></td>\n",
       "      <td>8.316667</td>\n",
       "      <td>9.507143</td>\n",
       "      <td>8.755263</td>\n",
       "      <td>26</td>\n",
       "      <td>2021</td>\n",
       "    </tr>\n",
       "    <tr>\n",
       "      <th>5</th>\n",
       "      <td><img src=\"https://cf.geekdo-images.com/ev-MNwAlzPdWq_grtnWLXw__thumb/img/1w0-OAtf3QsrZhqhOW-WKPWJjuk=/fit-in/200x150/filters:strip_icc()/pic6121947.jpg\" width=\"124\" /></td>\n",
       "      <td><a href=\"https://boardgamegeek.com/boardgame/297562\">Kemet: Blood and Sand</a></td>\n",
       "      <td>8.500000</td>\n",
       "      <td>8.885714</td>\n",
       "      <td>8.751163</td>\n",
       "      <td>33</td>\n",
       "      <td>2021</td>\n",
       "    </tr>\n",
       "  </tbody>\n",
       "</table>"
      ],
      "text/plain": [
       "<IPython.core.display.HTML object>"
      ]
     },
     "execution_count": 53,
     "metadata": {},
     "output_type": "execute_result"
    }
   ],
   "source": [
    "# TOP N FIXED RANK\n",
    "display_topn(by='fixed_rating', n=TOP_N, ascending=False)"
   ]
  },
  {
   "cell_type": "code",
   "execution_count": 54,
   "metadata": {},
   "outputs": [],
   "source": [
    "# model.save('saved_model\\my_model')"
   ]
  },
  {
   "cell_type": "code",
   "execution_count": 55,
   "metadata": {},
   "outputs": [],
   "source": [
    "# saved_model = tf.keras.models.load_model('saved_model\\my_model')"
   ]
  },
  {
   "cell_type": "code",
   "execution_count": 56,
   "metadata": {},
   "outputs": [],
   "source": [
    "# some examples on \"long\" comments vs short comments"
   ]
  },
  {
   "cell_type": "code",
   "execution_count": 57,
   "metadata": {},
   "outputs": [
    {
     "name": "stdout",
     "output_type": "stream",
     "text": [
      "input:\n",
      "\"8.20.18 - (1 play, 3p) Games that look this good are hard to resist sitting down to play. I’m not a huge worker placement fan, but this wasn’t too bad. Would play again.\"\n",
      "score: 0.094948\n",
      "\n",
      "input:\n",
      "\"From rules read:  If I 'remember' rightly, this concept of going through a pile and memorising which icon doesn't appear twice has actually appeared before in Bauza's Mystery Express.  Sadly, the focus is less on deductive processes, more on attention and recall, so do I need another memory game?\"\n",
      "score: 0.202678\n",
      "\n",
      "input:\n",
      "\"Played this one with James Lin. Interested in trying it again sometime, but seems like a really hard coop.\"\n",
      "score: 0.196005\n",
      "\n",
      "input:\n",
      "\"Hoping for a chance to play for real. After playing along with several videos, Im pretty confident about the rules. Probably a lot of fun.  No solo option\"\n",
      "score: 0.273530\n",
      "\n",
      "input:\n",
      "\"Would take in trade if complete, that is, no legacy aspects have been done, rendering it otherwise useless... unsure about this title though. \"\n",
      "score: 0.408876\n",
      "\n",
      "input:\n",
      "\"Feb 2017: KSer arrived and IT IS HUGE! I suspect I won't get this to the table until later but I'm glad to own it. I may play it solo since Althea crossed over to RPGs.\"\n",
      "score: 0.598494\n",
      "\n",
      "input:\n",
      "\"My first session with this was not optimal.  I want to finish the game, but I found the rules explanation confusing.  Some basic questions remained as we began, and the session came to a close before we finished the game.  Holding off on rating this until I see it again.\"\n",
      "score: 0.713893\n",
      "\n",
      "input:\n",
      "\"Only have played it a few times, not enough for a recommendation yet but I love the avian card dynasty concept.\"\n",
      "score: 0.840015\n",
      "\n",
      "input:\n",
      "\"Ich habe: - Grundspiel. - Bonus-Abenteuer (Ausgedruckt). - Tupper-Tool zur Herausnahme von Tiles (Extra). - 6 Piraten-Figuren mit Saugnäpfen, zur Herausnahme von Tiles (Extra).\"\n",
      "score: 0.859053\n",
      "\n",
      "input:\n",
      "\"I have pandemic, terraforming mars. I am willing to get gloomhaven in trade. I can pay some money extra - if needed\"\n",
      "score: 0.904124\n",
      "\n",
      "input:\n",
      "\"Really keen to try this out! The mechanics sound great but the theme and components are what got me. Can't wait for my copy to arrive!\"\n",
      "score: 0.943100\n",
      "\n",
      "input:\n",
      "\"preordered from boardgameguru 14.12.17 due in stock 20.12.17 and delivered on the 19.12.17 excellent service\"\n",
      "score: 0.943417\n",
      "\n",
      "input:\n",
      "\"I'm waiting to pick this one up because I'm having so much fun with Clank! in! Space! right now. I'd hate to grab this one, and have even MORE fun, and abandon clank. I know that seems weird, but thats how my brain works ??‍♂️\"\n",
      "score: 0.968255\n",
      "\n",
      "input:\n",
      "\"SU&SD review:   Sounds like it's approachable at the start, but the strategy can be obtuse for new players. For advanced players, there's not enough agency to control the luck.\"\n",
      "score: 0.967882\n",
      "\n",
      "input:\n",
      "\"A fantastic game with absolutely terrible quality components. For the price, at least put in a cardboard box insert.\"\n",
      "score: 0.984526\n",
      "\n",
      "input:\n",
      "\"This copy has been well cared for.  Includes the solo scenarios, removable stickers and plastic bead organizers with labels.\"\n",
      "score: 0.994836\n",
      "\n",
      "input:\n",
      "\"Kickstarted and can't wait to play!  :)  Got Standee edition but also pledged for minis in their own box.\"\n",
      "score: 0.991314\n",
      "\n",
      "input:\n",
      "\"2/1-2018 Pre-ordered \"Through the Portal\" pledge. Original delivery date March 2016 :-) Estimated delivery September 2018 20/8-18 New estimated delivery Dec'18/Jan'19 16/11-18 New estimated delivery March 2019 Received 1/4-2019\"\n",
      "score: 0.999993\n",
      "\n",
      "input:\n",
      "\"Likely the best fantasy-based adventure board game made as of today. Legacy game. Also great value for money because unlike Fantasy Flight games which drip-feed content (not unlike paid video game dlc), with Gloomhaven you get everything in the one (admittedly big and heavy) box.\"\n",
      "score: 0.999985\n",
      "\n",
      "input:\n",
      "\"25/4-2017 Kickstarted deluxe edition along with Brass: Lancashire Estimated delivery January 2018 13/5-18 New estimated delivery July 2018 Received 14/8-2018\"\n",
      "score: 0.999991\n",
      "\n",
      "input:\n",
      "\"\"Kemet\" 2.0 version; KS Edition inkl. Game Ups \"The Sacred Bull\", \"The Sand Worm\" & \"10 Obelisks and Divine Intervention cards\")\"\n",
      "score: 0.999945\n",
      "\n",
      "input:\n",
      "\"My wife and I played this game for the first time yesterday with some friends and enjoyed it. Actually, we enjoyed it so much, I went and bought a copy today. I am excited to read the instructions and really get to know the game.  And I feel like there is a solo game in the works as well.\"\n",
      "score: 0.999670\n",
      "\n",
      "input:\n",
      "\"Semi-cooperative survival sci-fi game. Wake up on a space ship, like the movie Alien. Hard to find, can only really buy as a late pledge on kickstarter. $120 9/20/20\"\n",
      "score: 0.999757\n",
      "\n",
      "input:\n",
      "\"Sleeved -FFG Grey.  Own: The Riverfolk Expansion The Underworld Expansion Vagabond Pack Exiles and Partisans Deck Resin Clearing Markers \"\n",
      "score: 0.999995\n",
      "\n",
      "input:\n",
      "\"KS Second Edition inkl. Solo Scenarios, Removable Sticker Set & Metal Coin Upgrade (preordered); inkl. Challenge Coin und Envelope X \"Reward Upgrade\" (Frosthaven KS, preordered); Forteller App Narration (nicht gekauft)\"\n",
      "score: 0.999988\n"
     ]
    }
   ],
   "source": [
    "# some long comments\n",
    "not_rated_comments['comment_len'] = not_rated_comments['value'].str.len()\n",
    "some_long_comments = not_rated_comments.query(\"comment_len>100 and comment_len<300\").sample(frac=1).head(25).sort_values('rating')\n",
    "results = tf.sigmoid(model.predict(tf.constant(list(some_long_comments.value))))\n",
    "print_my_examples(list(some_long_comments.value), results)"
   ]
  },
  {
   "cell_type": "code",
   "execution_count": null,
   "metadata": {},
   "outputs": [],
   "source": []
  }
 ],
 "metadata": {
  "kernelspec": {
   "display_name": "tensorflow2",
   "language": "python",
   "name": "tensorflow2"
  },
  "language_info": {
   "codemirror_mode": {
    "name": "ipython",
    "version": 3
   },
   "file_extension": ".py",
   "mimetype": "text/x-python",
   "name": "python",
   "nbconvert_exporter": "python",
   "pygments_lexer": "ipython3",
   "version": "3.8.8"
  }
 },
 "nbformat": 4,
 "nbformat_minor": 4
}
