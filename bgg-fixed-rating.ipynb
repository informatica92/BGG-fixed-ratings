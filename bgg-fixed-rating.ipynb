{
 "cells": [
  {
   "cell_type": "code",
   "execution_count": 1,
   "metadata": {},
   "outputs": [],
   "source": [
    "# ## BGG API\n",
    "# https://www.boardgamegeek.com/xmlapi2/thing?id=161599&comments=1\n",
    "# https://www.boardgamegeek.com/xmlapi2/hot?type=boardgame\n",
    "# ## NLP WITH TF\n",
    "# https://www.tensorflow.org/hub/tutorials/tf2_text_classification"
   ]
  },
  {
   "cell_type": "code",
   "execution_count": 2,
   "metadata": {},
   "outputs": [
    {
     "name": "stdout",
     "output_type": "stream",
     "text": [
      "Version:      2.4.0\n",
      "Eager mode:   True\n",
      "Hub version:  0.12.0\n",
      "GPU:          available\n"
     ]
    }
   ],
   "source": [
    "import tensorflow as tf\n",
    "import tensorflow_hub as hub\n",
    "import tensorflow_datasets as tfds\n",
    "from tensorflow.keras.wrappers.scikit_learn import KerasRegressor\n",
    "from sklearn.model_selection import cross_val_score\n",
    "from sklearn.model_selection import KFold\n",
    "\n",
    "import xml.etree.ElementTree as Xet\n",
    "import matplotlib.pyplot as plt\n",
    "import pandas as pd\n",
    "import numpy as np\n",
    "import requests\n",
    "from IPython.display import Image, HTML\n",
    "from datetime import datetime\n",
    "from langdetect import detect\n",
    "import re\n",
    "\n",
    "print(\"Version:     \", tf.__version__)\n",
    "print(\"Eager mode:  \", tf.executing_eagerly())\n",
    "print(\"Hub version: \", hub.__version__)\n",
    "print(\"GPU:         \", \"available\" if tf.config.list_physical_devices('GPU') else \"NOT available\")"
   ]
  },
  {
   "cell_type": "code",
   "execution_count": 3,
   "metadata": {},
   "outputs": [],
   "source": [
    "# tf.debugging.set_log_device_placement(True)"
   ]
  },
  {
   "cell_type": "code",
   "execution_count": 4,
   "metadata": {},
   "outputs": [],
   "source": [
    "GOOD_REVIEW_THRESHOLD = 7"
   ]
  },
  {
   "cell_type": "code",
   "execution_count": 5,
   "metadata": {},
   "outputs": [],
   "source": [
    "VAL_FRACTION = 0.25"
   ]
  },
  {
   "cell_type": "code",
   "execution_count": 6,
   "metadata": {},
   "outputs": [],
   "source": [
    "MIN_COMMENT_LEN = 25"
   ]
  },
  {
   "cell_type": "code",
   "execution_count": 7,
   "metadata": {},
   "outputs": [],
   "source": [
    "TOP_N = 5"
   ]
  },
  {
   "cell_type": "code",
   "execution_count": 8,
   "metadata": {},
   "outputs": [],
   "source": [
    "MODEL_NAME = \"https://tfhub.dev/google/nnlm-en-dim50/2\""
   ]
  },
  {
   "cell_type": "markdown",
   "metadata": {},
   "source": [
    "## GET DATA"
   ]
  },
  {
   "cell_type": "code",
   "execution_count": 9,
   "metadata": {},
   "outputs": [],
   "source": [
    "def get_hot_data():\n",
    "    hot = requests.get(\"https://www.boardgamegeek.com/xmlapi2/hot?type=boardgame\").content.decode()\n",
    "  \n",
    "    # Parsing the XML file\n",
    "    xmlparse = Xet.fromstring(hot)\n",
    "\n",
    "    hot_array = []\n",
    "    for item in xmlparse:\n",
    "        dict_element = {\n",
    "            \"id\": item.get(\"id\"),\n",
    "            \"rank\": item.get(\"rank\")\n",
    "        }\n",
    "        for option in item:\n",
    "            dict_element[option.tag] = option.get(\"value\")\n",
    "        hot_array.append(dict_element)\n",
    "    return hot_array"
   ]
  },
  {
   "cell_type": "code",
   "execution_count": 10,
   "metadata": {},
   "outputs": [],
   "source": [
    "def get_comments(id_array, verbose=1):\n",
    "    max_comments_per_page = 1\n",
    "    array_ids = [h['id'] for h in id_array]\n",
    "    ids = ','.join(array_ids)\n",
    "    page_size = 100\n",
    "    page_number = 0\n",
    "    comments_array = []\n",
    "\n",
    "    while max_comments_per_page > 0 and len(array_ids) > 0:\n",
    "        page_number += 1\n",
    "        if verbose>0 and page_number%verbose==0:\n",
    "            print(f\"page number = {page_number}\", end=\" \")\n",
    "        comments = requests.get(f\"https://www.boardgamegeek.com/xmlapi2/thing?id={ids}&comments=1&pagesize={page_size}&page={page_number}\").content.decode()\n",
    "\n",
    "        # Parsing the XML file\n",
    "        xmlparse = Xet.fromstring(comments)\n",
    "        comments_per_item = []\n",
    "        for item in xmlparse:        \n",
    "            for option in item:\n",
    "                if option.tag == 'comments':\n",
    "                    comments_per_page = 0\n",
    "                    for comment in option:\n",
    "                        comments_per_page += 1\n",
    "                        dict_element = {\n",
    "                            \"id\": item.get(\"id\"),\n",
    "                            \"username\": comment.get(\"username\"),\n",
    "                            \"rating\": comment.get(\"rating\"),\n",
    "                            \"value\": comment.get(\"value\")\n",
    "                        }\n",
    "                        comments_array.append(dict_element)\n",
    "                    if comments_per_page==0:\n",
    "                        array_ids.remove(item.get(\"id\"))\n",
    "                        ids = ','.join(array_ids)\n",
    "                    comments_per_item.append(comments_per_page)\n",
    "        max_comments_per_page = max(comments_per_item)\n",
    "        if verbose>0 and page_number%verbose==0:\n",
    "            print(f\"(max: {max(comments_per_item)}, len: {len(comments_per_item)})\")\n",
    "    comments_df = pd.DataFrame(comments_array)\n",
    "    print(f\"comments_df shape: {comments_df.shape}\")\n",
    "    return comments_df"
   ]
  },
  {
   "cell_type": "code",
   "execution_count": 11,
   "metadata": {},
   "outputs": [
    {
     "data": {
      "text/plain": [
       "[{'id': '285192',\n",
       "  'rank': '1',\n",
       "  'thumbnail': 'https://cf.geekdo-images.com/oaD1ZQ3yGj6lacLdtqgdnQ__thumb/img/1mCz7HPEFMeqaqJHsDZwEUc9ftw=/fit-in/200x150/filters:strip_icc()/pic5558118.png',\n",
       "  'name': 'Destinies',\n",
       "  'yearpublished': '2021'},\n",
       " {'id': '223040',\n",
       "  'rank': '2',\n",
       "  'thumbnail': 'https://cf.geekdo-images.com/A7IOpPt-lHrMYsbRmxXWdQ__thumb/img/XoD3fXgApfY7-dfYyFeE6FVkbfY=/fit-in/200x150/filters:strip_icc()/pic6177962.jpg',\n",
       "  'name': 'Fantasy Realms',\n",
       "  'yearpublished': '2017'}]"
      ]
     },
     "execution_count": 11,
     "metadata": {},
     "output_type": "execute_result"
    }
   ],
   "source": [
    "hot_array = get_hot_data()\n",
    "hot_array[:2]"
   ]
  },
  {
   "cell_type": "code",
   "execution_count": 12,
   "metadata": {},
   "outputs": [
    {
     "name": "stdout",
     "output_type": "stream",
     "text": [
      "reading dataframe from csv file...\n"
     ]
    },
    {
     "data": {
      "text/html": [
       "<div>\n",
       "<style scoped>\n",
       "    .dataframe tbody tr th:only-of-type {\n",
       "        vertical-align: middle;\n",
       "    }\n",
       "\n",
       "    .dataframe tbody tr th {\n",
       "        vertical-align: top;\n",
       "    }\n",
       "\n",
       "    .dataframe thead th {\n",
       "        text-align: right;\n",
       "    }\n",
       "</style>\n",
       "<table border=\"1\" class=\"dataframe\">\n",
       "  <thead>\n",
       "    <tr style=\"text-align: right;\">\n",
       "      <th></th>\n",
       "      <th>id</th>\n",
       "      <th>username</th>\n",
       "      <th>rating</th>\n",
       "      <th>value</th>\n",
       "    </tr>\n",
       "  </thead>\n",
       "  <tbody>\n",
       "    <tr>\n",
       "      <th>0</th>\n",
       "      <td>285192</td>\n",
       "      <td>Alarka</td>\n",
       "      <td>N/A</td>\n",
       "      <td>Players: 1-3 (1-2) Time: 90-150 Min Category: ...</td>\n",
       "    </tr>\n",
       "    <tr>\n",
       "      <th>1</th>\n",
       "      <td>285192</td>\n",
       "      <td>almi</td>\n",
       "      <td>N/A</td>\n",
       "      <td>2021-05</td>\n",
       "    </tr>\n",
       "    <tr>\n",
       "      <th>2</th>\n",
       "      <td>285192</td>\n",
       "      <td>AnneWit</td>\n",
       "      <td>9.0</td>\n",
       "      <td>On first play, this is another outstanding gam...</td>\n",
       "    </tr>\n",
       "    <tr>\n",
       "      <th>3</th>\n",
       "      <td>285192</td>\n",
       "      <td>ArmyLee</td>\n",
       "      <td>N/A</td>\n",
       "      <td>KS Ed. - Sea of Sand - Myth &amp; Folklore crossover</td>\n",
       "    </tr>\n",
       "    <tr>\n",
       "      <th>4</th>\n",
       "      <td>285192</td>\n",
       "      <td>Arvias</td>\n",
       "      <td>N/A</td>\n",
       "      <td>Time of Legends: Destinies \"All in\"  Core Box ...</td>\n",
       "    </tr>\n",
       "    <tr>\n",
       "      <th>...</th>\n",
       "      <td>...</td>\n",
       "      <td>...</td>\n",
       "      <td>...</td>\n",
       "      <td>...</td>\n",
       "    </tr>\n",
       "    <tr>\n",
       "      <th>85859</th>\n",
       "      <td>167791</td>\n",
       "      <td>z_zadar</td>\n",
       "      <td>9.0</td>\n",
       "      <td>Some games are so much fun. Others can be a li...</td>\n",
       "    </tr>\n",
       "    <tr>\n",
       "      <th>85860</th>\n",
       "      <td>167791</td>\n",
       "      <td>_Czid_</td>\n",
       "      <td>8.0</td>\n",
       "      <td>Have played with Elysium and Prelude expansion...</td>\n",
       "    </tr>\n",
       "    <tr>\n",
       "      <th>85861</th>\n",
       "      <td>167791</td>\n",
       "      <td>_Marty_</td>\n",
       "      <td>9.5</td>\n",
       "      <td>Fantastic game. With so many cards that can ch...</td>\n",
       "    </tr>\n",
       "    <tr>\n",
       "      <th>85862</th>\n",
       "      <td>167791</td>\n",
       "      <td>_mun_</td>\n",
       "      <td>10.0</td>\n",
       "      <td>Nagyon izgalmas játék, jó a mechanizmusa. A sz...</td>\n",
       "    </tr>\n",
       "    <tr>\n",
       "      <th>85863</th>\n",
       "      <td>167791</td>\n",
       "      <td>_The_Inquiry_</td>\n",
       "      <td>5.0</td>\n",
       "      <td>Prior to 2020: 2 plays  TM is one of those gam...</td>\n",
       "    </tr>\n",
       "  </tbody>\n",
       "</table>\n",
       "<p>85864 rows × 4 columns</p>\n",
       "</div>"
      ],
      "text/plain": [
       "           id       username rating  \\\n",
       "0      285192         Alarka    N/A   \n",
       "1      285192           almi    N/A   \n",
       "2      285192        AnneWit    9.0   \n",
       "3      285192        ArmyLee    N/A   \n",
       "4      285192         Arvias    N/A   \n",
       "...       ...            ...    ...   \n",
       "85859  167791        z_zadar    9.0   \n",
       "85860  167791         _Czid_    8.0   \n",
       "85861  167791        _Marty_    9.5   \n",
       "85862  167791          _mun_   10.0   \n",
       "85863  167791  _The_Inquiry_    5.0   \n",
       "\n",
       "                                                   value  \n",
       "0      Players: 1-3 (1-2) Time: 90-150 Min Category: ...  \n",
       "1                                                2021-05  \n",
       "2      On first play, this is another outstanding gam...  \n",
       "3       KS Ed. - Sea of Sand - Myth & Folklore crossover  \n",
       "4      Time of Legends: Destinies \"All in\"  Core Box ...  \n",
       "...                                                  ...  \n",
       "85859  Some games are so much fun. Others can be a li...  \n",
       "85860  Have played with Elysium and Prelude expansion...  \n",
       "85861  Fantastic game. With so many cards that can ch...  \n",
       "85862  Nagyon izgalmas játék, jó a mechanizmusa. A sz...  \n",
       "85863  Prior to 2020: 2 plays  TM is one of those gam...  \n",
       "\n",
       "[85864 rows x 4 columns]"
      ]
     },
     "execution_count": 12,
     "metadata": {},
     "output_type": "execute_result"
    }
   ],
   "source": [
    "try:\n",
    "    comments_df = pd.read_csv(f\"comments_{datetime.now().strftime('%Y%m%d')}.csv\")\n",
    "    comments_df['rating'] = comments_df.rating.fillna('N/A')\n",
    "    print(\"reading dataframe from csv file...\")\n",
    "except:\n",
    "    print(\"missing csv file, getting new data using API...\")\n",
    "    comments_df = get_comments(hot_array, verbose=10)\n",
    "    comments_df.to_csv(f\"comments_{datetime.now().strftime('%Y%m%d')}.csv\", index=False)\n",
    "comments_df"
   ]
  },
  {
   "cell_type": "markdown",
   "metadata": {},
   "source": [
    "## DATA CLEANING"
   ]
  },
  {
   "cell_type": "code",
   "execution_count": 13,
   "metadata": {},
   "outputs": [],
   "source": [
    "# probably we should keep all the ratings (no matters the len) and remove only the simple comments under a certain len  "
   ]
  },
  {
   "cell_type": "code",
   "execution_count": 14,
   "metadata": {},
   "outputs": [],
   "source": [
    "comments_df[\"value\"] = comments_df[\"value\"].astype(str)"
   ]
  },
  {
   "cell_type": "code",
   "execution_count": 15,
   "metadata": {},
   "outputs": [],
   "source": [
    "# REMOVE URLs FROM COMMENTS"
   ]
  },
  {
   "cell_type": "code",
   "execution_count": 16,
   "metadata": {},
   "outputs": [],
   "source": [
    "comments_df['value'] = [re.sub(r\"http\\S+\", \"\", v) for v in comments_df.value.values]"
   ]
  },
  {
   "cell_type": "code",
   "execution_count": 17,
   "metadata": {},
   "outputs": [],
   "source": [
    "# REMOVE SHORT COMMENTS\n",
    "def remove_short_comments(df: pd.DataFrame, min_len=25, method='unrated'):\n",
    "    if method not in ['unrated', 'rated', 'both']:\n",
    "        raise AttributeError(f\"method {method} not allowed\")\n",
    "    df_local = df.copy()    \n",
    "    df_local['comment_len'] = [len(re.findall(\"[A-Za-z]\", v)) for v in df_local['value'].values]\n",
    "    if method == 'rated':\n",
    "        df_local = df_local.query('(comment_len>@min_len and rating != \"N/A\") or rating == \"N/A\"')\n",
    "    elif method == 'unrated':\n",
    "        df_local = df_local.query('(comment_len>@min_len and rating == \"N/A\") or rating != \"N/A\"')\n",
    "    else:\n",
    "        df_local = df_local.query('comment_len>@min_len')\n",
    "    print(f\"removed {len(df)-len(df_local)} for 'remove_short_comments' - min len: {min_len} - method: {method}\")\n",
    "    return df_local.reset_index(drop=True)"
   ]
  },
  {
   "cell_type": "code",
   "execution_count": 18,
   "metadata": {},
   "outputs": [
    {
     "name": "stdout",
     "output_type": "stream",
     "text": [
      "removed 14746 for 'remove_short_comments' - min len: 25 - method: unrated\n"
     ]
    }
   ],
   "source": [
    "comments_df = remove_short_comments(comments_df, MIN_COMMENT_LEN)"
   ]
  },
  {
   "cell_type": "code",
   "execution_count": 19,
   "metadata": {},
   "outputs": [],
   "source": [
    "# REMOVE NON ENGLISH COMMENTS"
   ]
  },
  {
   "cell_type": "code",
   "execution_count": 20,
   "metadata": {},
   "outputs": [],
   "source": [
    "# !conda install -c conda-forge langdetect"
   ]
  },
  {
   "cell_type": "code",
   "execution_count": 21,
   "metadata": {},
   "outputs": [],
   "source": [
    "# def add_comments_lang(df: pd.DataFrame):\n",
    "#     df_local = df.copy()\n",
    "#     df_local['lang'] = df['value'].apply(detect)\n",
    "#     return df_local.reset_index(drop=True)"
   ]
  },
  {
   "cell_type": "code",
   "execution_count": 22,
   "metadata": {},
   "outputs": [],
   "source": [
    "# comments_df = add_comments_lang(comments_df)"
   ]
  },
  {
   "cell_type": "code",
   "execution_count": 23,
   "metadata": {},
   "outputs": [],
   "source": [
    "# comments_df = comments_df.query('lang == \"en\"')"
   ]
  },
  {
   "cell_type": "markdown",
   "metadata": {},
   "source": [
    "## SPLIT RATED AND NON-RATED COMMENTS"
   ]
  },
  {
   "cell_type": "code",
   "execution_count": 24,
   "metadata": {},
   "outputs": [
    {
     "data": {
      "text/plain": [
       "10.0       14462\n",
       "9.0        13385\n",
       "8.0        10813\n",
       "N/A         6182\n",
       "7.0         5963\n",
       "           ...  \n",
       "9.351          1\n",
       "8.14           1\n",
       "5.99           1\n",
       "7.23333        1\n",
       "8.5462         1\n",
       "Name: rating, Length: 492, dtype: int64"
      ]
     },
     "execution_count": 24,
     "metadata": {},
     "output_type": "execute_result"
    }
   ],
   "source": [
    "# count number of comments per rating (N/A included)\n",
    "comments_df.rating.value_counts()"
   ]
  },
  {
   "cell_type": "code",
   "execution_count": 25,
   "metadata": {},
   "outputs": [
    {
     "data": {
      "text/plain": [
       "(64936, 5)"
      ]
     },
     "execution_count": 25,
     "metadata": {},
     "output_type": "execute_result"
    }
   ],
   "source": [
    "# get rated comments only\n",
    "rated_comments = comments_df.query('rating != \"N/A\"')\n",
    "rated_comments.shape"
   ]
  },
  {
   "cell_type": "code",
   "execution_count": 26,
   "metadata": {},
   "outputs": [
    {
     "data": {
      "text/plain": [
       "(6182, 5)"
      ]
     },
     "execution_count": 26,
     "metadata": {},
     "output_type": "execute_result"
    }
   ],
   "source": [
    "# get non rated comments only\n",
    "not_rated_comments = comments_df.query('rating == \"N/A\"').reset_index(drop=True)\n",
    "not_rated_comments.shape"
   ]
  },
  {
   "cell_type": "markdown",
   "metadata": {},
   "source": [
    "## CREATE TRAINING AND VALIDATION DATA"
   ]
  },
  {
   "cell_type": "code",
   "execution_count": 27,
   "metadata": {},
   "outputs": [],
   "source": [
    "# use rated comments (reviews) to train the model"
   ]
  },
  {
   "cell_type": "code",
   "execution_count": 28,
   "metadata": {},
   "outputs": [],
   "source": [
    "rated_comments = rated_comments.sample(frac=1)"
   ]
  },
  {
   "cell_type": "code",
   "execution_count": 29,
   "metadata": {},
   "outputs": [],
   "source": [
    "# create training X and y\n",
    "train_examples = list(rated_comments.value)\n",
    "train_labels = list((rated_comments.rating.astype(float)>=GOOD_REVIEW_THRESHOLD).astype(int))"
   ]
  },
  {
   "cell_type": "code",
   "execution_count": 30,
   "metadata": {},
   "outputs": [
    {
     "name": "stdout",
     "output_type": "stream",
     "text": [
      "example of positive rating:\n"
     ]
    },
    {
     "data": {
      "text/plain": [
       "'Excellent game!  Love the tense play half way through as your deck gets stronger and allows for more interesting play!  Winner and a keeper for the collection!!'"
      ]
     },
     "execution_count": 30,
     "metadata": {},
     "output_type": "execute_result"
    }
   ],
   "source": [
    "print(\"example of positive rating:\")\n",
    "train_examples[train_labels.index(1)]"
   ]
  },
  {
   "cell_type": "code",
   "execution_count": 31,
   "metadata": {},
   "outputs": [
    {
     "name": "stdout",
     "output_type": "stream",
     "text": [
      "example of negative rating:\n"
     ]
    },
    {
     "data": {
      "text/plain": [
       "'Kickstarter'"
      ]
     },
     "execution_count": 31,
     "metadata": {},
     "output_type": "execute_result"
    }
   ],
   "source": [
    "print(\"example of negative rating:\")\n",
    "train_examples[train_labels.index(0)]"
   ]
  },
  {
   "cell_type": "code",
   "execution_count": 32,
   "metadata": {},
   "outputs": [],
   "source": [
    "# create validation dataset from training\n",
    "validation_len = int(len(train_examples)*VAL_FRACTION)\n",
    "validation_len\n",
    "\n",
    "x_val = train_examples[:validation_len]\n",
    "x_train = train_examples[validation_len:]\n",
    "\n",
    "y_val = train_labels[:validation_len]\n",
    "y_train = train_labels[validation_len:]"
   ]
  },
  {
   "cell_type": "markdown",
   "metadata": {},
   "source": [
    "## COMPOSE MODEL"
   ]
  },
  {
   "cell_type": "code",
   "execution_count": 33,
   "metadata": {},
   "outputs": [],
   "source": [
    "def build_model(hub_layer, model_type='classifier', verbose=1):    \n",
    "    if model_type not in ('classifier', 'regressor'):\n",
    "        raise AttributeError(\"model type can only be 'classifier' or 'regressor'\")\n",
    "\n",
    "    if verbose:\n",
    "        print(\"example of layers processing:\")\n",
    "        print(hub_layer(train_examples[:2]))\n",
    "        print(\"\")\n",
    "\n",
    "    if model_type == 'classifier':\n",
    "        model = tf.keras.Sequential()\n",
    "        model.add(hub_layer)\n",
    "        model.add(tf.keras.layers.Dense(16, activation='relu'))\n",
    "        model.add(tf.keras.layers.Dense(1))\n",
    "        \n",
    "        if verbose:\n",
    "            print(\"model summary:\")\n",
    "            print(model.summary())\n",
    "        \n",
    "        model.compile(\n",
    "            optimizer='adam',\n",
    "            loss=tf.losses.BinaryCrossentropy(from_logits=True),\n",
    "            metrics=[tf.metrics.BinaryAccuracy(threshold=0.0, name='accuracy')]\n",
    "        )\n",
    "    else:\n",
    "        model = tf.keras.Sequential()\n",
    "        model.add(hub_layer)\n",
    "        model.add(tf.keras.layers.Dense(16, activation='relu', kernel_initializer='normal'))\n",
    "        model.add(tf.keras.layers.Dense(1, kernel_initializer='normal'))\n",
    "        \n",
    "        if verbose:\n",
    "            print(\"model summary:\")\n",
    "            print(model.summary())\n",
    "            \n",
    "        model.compile(\n",
    "            loss='mean_squared_error', \n",
    "            optimizer='adam',\n",
    "            metrics=[\"mean_squared_error\"]\n",
    "        )\n",
    "    \n",
    "    return model"
   ]
  },
  {
   "cell_type": "code",
   "execution_count": 34,
   "metadata": {},
   "outputs": [],
   "source": [
    "hub_layer = hub.KerasLayer(MODEL_NAME, input_shape=[], dtype=tf.string, trainable=True)"
   ]
  },
  {
   "cell_type": "code",
   "execution_count": 35,
   "metadata": {},
   "outputs": [
    {
     "name": "stdout",
     "output_type": "stream",
     "text": [
      "example of layers processing:\n",
      "tf.Tensor(\n",
      "[[ 0.4592822   0.27043217  0.13003437  0.26143998 -0.17791837 -0.01085548\n",
      "   0.03381931 -0.15984881 -0.32419172  0.06540681  0.24596617  0.02785054\n",
      "   0.23227185 -0.02990306  0.07645643 -0.14700769 -0.16748784 -0.03410842\n",
      "   0.10029805 -0.26960805 -0.06652653 -0.15856323  0.17957798  0.15347748\n",
      "   0.05984959  0.07482684 -0.33670896  0.23595154  0.08875988 -0.13586085\n",
      "   0.10694648 -0.23072433  0.04164805 -0.30238754 -0.14900242 -0.07143868\n",
      "   0.27885768  0.04768034  0.11574326 -0.4993029   0.20134637 -0.0186512\n",
      "  -0.14360058  0.1443158   0.30534908 -0.12166248  0.01528035 -0.04508939\n",
      "  -0.16277564  0.12654682]\n",
      " [-0.03433626 -0.0701631   0.10966539 -0.04545237  0.01302877  0.08797864\n",
      "   0.06569442 -0.13900077 -0.26761138  0.05664901  0.1324492  -0.04833564\n",
      "  -0.13775286  0.02205073  0.23299474  0.3055752  -0.15810198  0.2026449\n",
      "   0.09309982  0.19039303 -0.05591495 -0.11657893  0.06650904 -0.286893\n",
      "   0.01097949  0.03605929 -0.07441664  0.0603571   0.15036769  0.1277032\n",
      "   0.23192014 -0.16519597 -0.05984223 -0.02137478  0.17307298 -0.11032708\n",
      "   0.13674554  0.16286835 -0.22677448  0.17488267  0.13733995  0.12740141\n",
      "  -0.10617549  0.03537314 -0.24199936  0.02022473 -0.05404     0.00108786\n",
      "   0.18280555  0.15835482]], shape=(2, 50), dtype=float32)\n",
      "\n",
      "model summary:\n",
      "Model: \"sequential\"\n",
      "_________________________________________________________________\n",
      "Layer (type)                 Output Shape              Param #   \n",
      "=================================================================\n",
      "keras_layer (KerasLayer)     (None, 50)                48190600  \n",
      "_________________________________________________________________\n",
      "dense (Dense)                (None, 16)                816       \n",
      "_________________________________________________________________\n",
      "dense_1 (Dense)              (None, 1)                 17        \n",
      "=================================================================\n",
      "Total params: 48,191,433\n",
      "Trainable params: 48,191,433\n",
      "Non-trainable params: 0\n",
      "_________________________________________________________________\n",
      "None\n"
     ]
    }
   ],
   "source": [
    "model = build_model(hub_layer)"
   ]
  },
  {
   "cell_type": "markdown",
   "metadata": {},
   "source": [
    "## TRAINING MODEL "
   ]
  },
  {
   "cell_type": "code",
   "execution_count": 36,
   "metadata": {},
   "outputs": [
    {
     "name": "stdout",
     "output_type": "stream",
     "text": [
      "Epoch 1/40\n",
      "96/96 - 7s - loss: 0.5397 - accuracy: 0.7772 - val_loss: 0.4382 - val_accuracy: 0.8434\n",
      "Epoch 2/40\n",
      "96/96 - 5s - loss: 0.3697 - accuracy: 0.8585 - val_loss: 0.3458 - val_accuracy: 0.8637\n",
      "Epoch 3/40\n",
      "96/96 - 5s - loss: 0.2942 - accuracy: 0.8844 - val_loss: 0.3177 - val_accuracy: 0.8738\n",
      "Epoch 4/40\n",
      "96/96 - 5s - loss: 0.2512 - accuracy: 0.9014 - val_loss: 0.3142 - val_accuracy: 0.8775\n",
      "Epoch 5/40\n",
      "96/96 - 5s - loss: 0.2206 - accuracy: 0.9140 - val_loss: 0.3214 - val_accuracy: 0.8754\n",
      "Epoch 6/40\n",
      "96/96 - 5s - loss: 0.1968 - accuracy: 0.9246 - val_loss: 0.3406 - val_accuracy: 0.8725\n",
      "Epoch 7/40\n",
      "96/96 - 5s - loss: 0.1775 - accuracy: 0.9336 - val_loss: 0.3477 - val_accuracy: 0.8660\n",
      "Epoch 8/40\n",
      "96/96 - 5s - loss: 0.1609 - accuracy: 0.9410 - val_loss: 0.3688 - val_accuracy: 0.8646\n",
      "Epoch 9/40\n",
      "96/96 - 5s - loss: 0.1471 - accuracy: 0.9467 - val_loss: 0.3901 - val_accuracy: 0.8628\n"
     ]
    }
   ],
   "source": [
    "history = model.fit(\n",
    "    x_train,\n",
    "    y_train,\n",
    "    epochs=40,\n",
    "    batch_size=512,\n",
    "    validation_data=(x_val, y_val),\n",
    "    verbose=2,\n",
    "    callbacks=[\n",
    "        tf.keras.callbacks.EarlyStopping(monitor='val_accuracy', patience=5, min_delta=0.001)\n",
    "    ]\n",
    ")"
   ]
  },
  {
   "cell_type": "code",
   "execution_count": 37,
   "metadata": {},
   "outputs": [
    {
     "data": {
      "text/plain": [
       "dict_keys(['loss', 'accuracy', 'val_loss', 'val_accuracy'])"
      ]
     },
     "execution_count": 37,
     "metadata": {},
     "output_type": "execute_result"
    }
   ],
   "source": [
    "history_dict = history.history\n",
    "history_dict.keys()"
   ]
  },
  {
   "cell_type": "code",
   "execution_count": 38,
   "metadata": {},
   "outputs": [],
   "source": [
    "acc = history_dict['accuracy']\n",
    "val_acc = history_dict['val_accuracy']\n",
    "loss = history_dict['loss']\n",
    "val_loss = history_dict['val_loss']"
   ]
  },
  {
   "cell_type": "code",
   "execution_count": 39,
   "metadata": {},
   "outputs": [],
   "source": [
    "epochs = range(1, len(acc) + 1) "
   ]
  },
  {
   "cell_type": "code",
   "execution_count": 40,
   "metadata": {},
   "outputs": [
    {
     "data": {
      "image/png": "[encoded data removed]",
      "text/plain": [
       "<Figure size 648x360 with 1 Axes>"
      ]
     },
     "metadata": {
      "needs_background": "light"
     },
     "output_type": "display_data"
    }
   ],
   "source": [
    "# \"bo\" is for \"blue dot\"\n",
    "plt.figure(figsize=(9, 5))\n",
    "plt.plot(epochs, loss, 'bo', label='Training loss')\n",
    "# b is for \"solid blue line\"\n",
    "plt.plot(epochs, val_loss, 'b', label='Validation loss')\n",
    "plt.title('Training and validation loss')\n",
    "plt.xlabel('Epochs')\n",
    "plt.ylabel('Loss')\n",
    "plt.grid(True)\n",
    "plt.legend()\n",
    "\n",
    "plt.show()"
   ]
  },
  {
   "cell_type": "code",
   "execution_count": 41,
   "metadata": {},
   "outputs": [
    {
     "data": {
      "image/png": "[encoded data removed]",
      "text/plain": [
       "<Figure size 648x360 with 1 Axes>"
      ]
     },
     "metadata": {
      "needs_background": "light"
     },
     "output_type": "display_data"
    }
   ],
   "source": [
    "plt.figure(figsize=(9, 5))\n",
    "plt.plot(epochs, acc, 'bo', label='Training acc')\n",
    "plt.plot(epochs, val_acc, 'b', label='Validation acc')\n",
    "plt.title('Training and validation accuracy')\n",
    "plt.xlabel('Epochs')\n",
    "plt.ylabel('Accuracy')\n",
    "plt.grid(True)\n",
    "plt.legend()\n",
    "\n",
    "plt.show()"
   ]
  },
  {
   "cell_type": "code",
   "execution_count": 42,
   "metadata": {},
   "outputs": [],
   "source": [
    "def print_my_examples(inputs, results, actual_values=None, limit=None):\n",
    "    if actual_values is None:\n",
    "        result_for_printing = [f'input:\\n\"{inputs[i]}\"\\nscore: {results[i][0]:.6f}' for i in range(len(inputs))]\n",
    "    else:\n",
    "        result_for_printing = [f'input:\\n\"{inputs[i]}\"\\nscore: {results[i][0]:.6f}\\nactual value:{actual_values[i]}' for i in range(len(inputs))]\n",
    "    if limit:\n",
    "        result_for_printing = result_for_printing[:limit]\n",
    "    print(*result_for_printing, sep='\\n\\n')"
   ]
  },
  {
   "cell_type": "code",
   "execution_count": 43,
   "metadata": {},
   "outputs": [
    {
     "name": "stdout",
     "output_type": "stream",
     "text": [
      "input:\n",
      "\"+Folded Space Inlay  Geschenk an und bei meinem Vater\"\n",
      "score: 0.998173\n",
      "actual value:1\n",
      "\n",
      "input:\n",
      "\"This is, by far, one of the best games I've ever played! It pulls in a lot of mechanics I really enjoy from games I play, and does them well; Hand Management, RPG (character growth), fighting, fantasy, etc. \"\n",
      "score: 0.998729\n",
      "actual value:1\n",
      "\n",
      "input:\n",
      "\"Terrific production in this fairly slow-paced euro with a dose of direct conflict.  The faction asymmetry is fun and the dopamine fix of constant upgrades is very enjoyable.  \"\n",
      "score: 0.811065\n",
      "actual value:1\n",
      "\n",
      "input:\n",
      "\"Very interesting mechanics so far.  Just hope the scenarios don't get samey.\"\n",
      "score: 0.882905\n",
      "actual value:1\n",
      "\n",
      "input:\n",
      "\"The definitive edition of this glorious game. TI3 + Expansions addressed the Mercatol Rex End Game moshpit problem, but still had a bit of jank left over - a few too many burrs and bits of old growth. They sanded it all back down to the core, and applied layers of polish and fine tuning. It is now a game that includes all the best bits that defined TI in the past, but now also plays like the game everyone wants TI to be.\"\n",
      "score: 0.999588\n",
      "actual value:1\n",
      "\n",
      "input:\n",
      "\"Paleo has 222 cards sleeved with Mayday Standard-USA \"Purple\" (56x87mm, MDG-7040, 100pk).  Official ad:  Official how to play: \"\n",
      "score: 0.999638\n",
      "actual value:1\n",
      "\n",
      "input:\n",
      "\"I don't know about this one, it feels like one of those games that can be really good if you and the others have played it several times and know some strategies. The problem is, I did not have enough fun to invest the time.    It came across a charming light game that becomes more challenging as the other players and you start to really know the game instead of a challenging game from the getgo. That did put me off somewhat as I came into it with a bad mindset. Finally Even if I liked the idea of different factions with different goals and means, it still did not quite come together as a whole; like you have 4 different things all potentially amazing flavors on your plate but trying to mix them together has resulted into something that does not quite taste right.   Perhaps I will give it a second chance at some point.\"\n",
      "score: 0.555945\n",
      "actual value:0\n",
      "\n",
      "input:\n",
      "\"Stepping stone level strategy with supports of epic game production. Enticing in a less intimidating strategic fashion.\"\n",
      "score: 0.996917\n",
      "actual value:1\n",
      "\n",
      "input:\n",
      "\"Played with some gamers who have been playing games for a long time so it was a wonderful introduction to this type of game I would definitely play again I would score this higher as I can tell it is a brilliant game, I am just not confident yet at playing it\"\n",
      "score: 0.989854\n",
      "actual value:1\n",
      "\n",
      "input:\n",
      "\"The only reason I don't own this is because my girlfriend, who is my primary gaming partner, doesn't like engine builders outside of Wingspan, plus my other regular gaming partner already owns this.  This is one of my absolute favorites!  The artwork, the gameplay, the seasons, just about everything pulls me in.  This game is a little heavy to get newer people into, but it's a game I could easily play at a moment's notice.\"\n",
      "score: 0.999411\n",
      "actual value:1\n"
     ]
    }
   ],
   "source": [
    "inputs = x_train[:10]\n",
    "outputs = y_train[:10]\n",
    "results = tf.sigmoid(model.predict(tf.constant(inputs)))\n",
    "print_my_examples(inputs, results, outputs)"
   ]
  },
  {
   "cell_type": "code",
   "execution_count": 44,
   "metadata": {},
   "outputs": [],
   "source": [
    "## APPLY MODEL ON NON-RATED COMMENTS"
   ]
  },
  {
   "cell_type": "code",
   "execution_count": 45,
   "metadata": {},
   "outputs": [
    {
     "name": "stdout",
     "output_type": "stream",
     "text": [
      "input:\n",
      "\"Limited Artists Edition with book and realistic tokens\"\n",
      "score: 0.991232\n",
      "\n",
      "input:\n",
      "\"Expansions: Solo Campaign Book, Forgotten Circles  Upgrades: Plano Organization, Removable Stickers\"\n",
      "score: 0.950775\n",
      "\n",
      "input:\n",
      "\"It's a great game. The major drawback is the amount of pieces and the setup/teardown time. I'm also not a huge fan of games that make you permanently alter the components because it reduces replayability. But, I think there is enough content here to last my group several years.\"\n",
      "score: 0.991197\n",
      "\n",
      "input:\n",
      "\"I'm going to need a someone else to get me into this one.  How is it great?  In 2017, this game was everywhere and could not escape it.  I un-boxed and set up but that's about as far as it went.  I will rate it...eventually.  \"\n",
      "score: 0.367804\n",
      "\n",
      "input:\n",
      "\"Intimidating, I haven't even taken it out of the box. However, I do feel excited about it.\"\n",
      "score: 0.511019\n",
      "\n",
      "input:\n",
      "\"sadly missing the 'transmutation' tile on opening\"\n",
      "score: 0.770180\n",
      "\n",
      "input:\n",
      "\"[b][COLOR=#0066FF]*** KICKSTARTER EDITION ***[/COLOR][/b] [b][COLOR=#FF0000]**Have Yet To Play**[/color][/b]\"\n",
      "score: 0.993162\n",
      "\n",
      "input:\n",
      "\"Fantasy Co-op Soloable Dungeon Crawl RPG\"\n",
      "score: 0.994585\n",
      "\n",
      "input:\n",
      "\"Without a doubt my favorite game ever is Scythe. Infinite ways to play, cool, fun factions, and gorgeous art help set this game apart from all others.   My only criticism is that there are a couple rules not actually in the rulebook. Reference the creator’s (Jamey Stegmaier) Twitter OR Scythe’s Discord channel if you ever come across a situation not in the rulebook.\"\n",
      "score: 0.986952\n",
      "\n",
      "input:\n",
      "\"German Version on Kickstarter from 17.09.2019 incl. Pearlbrook Expansion, Limited to 1000 pcs., 104 US$ + Shipping + Tax. No EU-friendly shipping. No UV coating, No slip case. Not like that. Not with me.\"\n",
      "score: 0.089866\n",
      "\n",
      "input:\n",
      "\"Ordered from Amazon 5/5/17. Delivery between May 27 and June5. Arrived in July. Not in a box! Just a mailing label on the shrink wrap, Fortunately, no damage.\"\n",
      "score: 0.999399\n",
      "\n",
      "input:\n",
      "\"In the image feed, the recently buzzed axolotl with the backpack brought me here, though I may not stay.......\"\n",
      "score: 0.996200\n",
      "\n",
      "input:\n",
      "\"Fik det af Anja og Jacob i julegave 2020\"\n",
      "score: 0.999557\n",
      "\n",
      "input:\n",
      "\"Great design and better overall IMO than Terra Mystica from a gameplay standpoint. A little heavier than what we like to play though on average, but still great when you want to go deep in the think tank.\"\n",
      "score: 0.997388\n",
      "\n",
      "input:\n",
      "\"Started feb 2020.  Where have you been all my life?  what's that?  Under my bed,  no wait!\"\n",
      "score: 0.999064\n",
      "\n",
      "input:\n",
      "\"Playing Time: 1-2 hours ~$125. True Co-op. Dice builder. Best with 2-3 players (4 max) Pros: Unique dice builder, characters grow more powerful by gaining dice which unlock abilities, tactical decisions on which dice to roll, campaign play, Undertow expansion a good standalone starter for 2 players Cons: Art style isn't initially attractive, rules aren't great (lots of clarifications needed)\"\n",
      "score: 0.998648\n",
      "\n",
      "input:\n",
      "\"Played it a couple of times but somehow I'm not ready to give it a score yet. \"\n",
      "score: 0.692219\n",
      "\n",
      "input:\n",
      "\"My wife gave this to me as a Valentine’s gift 2018\"\n",
      "score: 0.709243\n",
      "\n",
      "input:\n",
      "\"Prelude  Venus Next Hellas & Elysium  Colonies\"\n",
      "score: 0.998037\n",
      "\n",
      "input:\n",
      "\"Getauscht gegen Berge des Wahnsinns \"\n",
      "score: 0.957881\n",
      "\n",
      "input:\n",
      "\"Area Control / Area Influence Grid Movement Variable Player Powers  W3.36 No.1-5 90-115min\"\n",
      "score: 0.880175\n",
      "\n",
      "input:\n",
      "\"Can't say anything about the gameplay yet, but the components are ... amazing ... breathtaking ... incredible. The most beautiful game in my collection of +100 games, and it is not even close.\"\n",
      "score: 0.982349\n",
      "\n",
      "input:\n",
      "\"Found the setup tedious and time consuming. It was sold as being better than Gloomhaven from the standpoint of setup, so considering how this was I can't imagine how bad OG Gloomhaven is.\"\n",
      "score: 0.152349\n",
      "\n",
      "input:\n",
      "\"Out of print - new edition coming\"\n",
      "score: 0.973546\n",
      "\n",
      "input:\n",
      "\"Have not played this version yet.\"\n",
      "score: 0.984943\n"
     ]
    }
   ],
   "source": [
    "not_rated_comments = not_rated_comments.sample(frac=1)\n",
    "results = tf.sigmoid(model.predict(tf.constant(list(not_rated_comments.value.astype(str)))))\n",
    "print_my_examples(list(not_rated_comments.value), results, limit=25)"
   ]
  },
  {
   "cell_type": "markdown",
   "metadata": {},
   "source": [
    "## COMBINE RATED COMMENTS AND NOT-RATED COMMENTS WITH PREDICTED RATING"
   ]
  },
  {
   "cell_type": "code",
   "execution_count": 46,
   "metadata": {},
   "outputs": [
    {
     "name": "stdout",
     "output_type": "stream",
     "text": [
      "rated_comments_grouped: \n",
      "|        id |   rating_mean |   rating_count |\n",
      "|-----------|---------------|----------------|\n",
      "| 162886.00 |          8.35 |        3509.00 |\n",
      "| 167355.00 |          8.41 |        1792.00 |\n",
      "| 167791.00 |          8.21 |        8221.00 |\n",
      "| 169427.00 |          8.59 |         220.00 |\n",
      "| 169786.00 |          8.10 |        7335.00 |\n"
     ]
    }
   ],
   "source": [
    "rated_comments['rating'] = rated_comments.rating.astype(float)\n",
    "rated_comments_grouped = rated_comments.groupby('id').agg({'rating': ['mean', 'count']})\n",
    "rated_comments_grouped.columns = list(rated_comments_grouped.columns.map('_'.join))\n",
    "rated_comments_grouped = rated_comments_grouped.reset_index()\n",
    "print(\"rated_comments_grouped: \")\n",
    "print(rated_comments_grouped.head().to_markdown(index=False, floatfmt='.2f', tablefmt='github'))"
   ]
  },
  {
   "cell_type": "code",
   "execution_count": 47,
   "metadata": {},
   "outputs": [],
   "source": [
    "not_rated_comments['rating'] = [round(float(r[0])*10, 1) for r in results]"
   ]
  },
  {
   "cell_type": "code",
   "execution_count": 48,
   "metadata": {},
   "outputs": [
    {
     "name": "stdout",
     "output_type": "stream",
     "text": [
      "not_rated_comments_grouped: \n",
      "|        id |   rating_mean |   rating_count |\n",
      "|-----------|---------------|----------------|\n",
      "| 162886.00 |          8.78 |         309.00 |\n",
      "| 167355.00 |          9.26 |         216.00 |\n",
      "| 167791.00 |          8.96 |         438.00 |\n",
      "| 169427.00 |          9.20 |          71.00 |\n",
      "| 169786.00 |          8.66 |         589.00 |\n"
     ]
    }
   ],
   "source": [
    "not_rated_comments['rating'] = not_rated_comments.rating.astype(float)\n",
    "not_rated_comments_grouped = not_rated_comments.groupby('id').agg({'rating': ['mean', 'count']})\n",
    "not_rated_comments_grouped.columns = list(not_rated_comments_grouped.columns.map('_'.join))\n",
    "not_rated_comments_grouped = not_rated_comments_grouped.reset_index()\n",
    "print(\"not_rated_comments_grouped: \")\n",
    "print(not_rated_comments_grouped.head().to_markdown(index=False, floatfmt='.2f', tablefmt='github'))"
   ]
  },
  {
   "cell_type": "code",
   "execution_count": 49,
   "metadata": {},
   "outputs": [],
   "source": [
    "grouped = rated_comments_grouped.merge(not_rated_comments_grouped, on='id', suffixes=('_review', '_comments'), how='outer')\n",
    "grouped['id'] = grouped.id.astype(str)\n",
    "grouped = grouped.merge(pd.DataFrame(hot_array), on='id', how='right')\n",
    "grouped['rank'] = grouped['rank'].astype(int)\n",
    "grouped['url'] = grouped['id'].apply(lambda x: f\"https://boardgamegeek.com/boardgame/{x}\")\n",
    "grouped['fixed_rating'] = (grouped['rating_mean_review']*grouped['rating_count_review']+grouped['rating_mean_comments']*grouped['rating_count_comments']) /\\\n",
    "                            (grouped['rating_count_review']+grouped['rating_count_comments'])\n",
    "grouped['thumbnail'] = grouped['thumbnail'].apply(lambda x: f'<img src=\"{x}\" width=\"124\" />')\n",
    "grouped['name'] = grouped.apply(lambda x: f'<a href=\"{x[\"url\"]}\">{x[\"name\"]}</a>', axis=1)\n",
    "\n",
    "grouped = grouped[['thumbnail', 'name', 'rating_mean_review', 'rating_mean_comments', 'fixed_rating', 'rank', 'yearpublished']]"
   ]
  },
  {
   "cell_type": "code",
   "execution_count": 50,
   "metadata": {},
   "outputs": [
    {
     "data": {
      "text/html": [
       "<div>\n",
       "<style scoped>\n",
       "    .dataframe tbody tr th:only-of-type {\n",
       "        vertical-align: middle;\n",
       "    }\n",
       "\n",
       "    .dataframe tbody tr th {\n",
       "        vertical-align: top;\n",
       "    }\n",
       "\n",
       "    .dataframe thead th {\n",
       "        text-align: right;\n",
       "    }\n",
       "</style>\n",
       "<table border=\"1\" class=\"dataframe\">\n",
       "  <thead>\n",
       "    <tr style=\"text-align: right;\">\n",
       "      <th></th>\n",
       "      <th>thumbnail</th>\n",
       "      <th>name</th>\n",
       "      <th>rating_mean_review</th>\n",
       "      <th>rating_mean_comments</th>\n",
       "      <th>fixed_rating</th>\n",
       "      <th>rank</th>\n",
       "      <th>yearpublished</th>\n",
       "    </tr>\n",
       "  </thead>\n",
       "  <tbody>\n",
       "    <tr>\n",
       "      <th>0</th>\n",
       "      <td>&lt;img src=\"https://cf.geekdo-images.com/oaD1ZQ3...</td>\n",
       "      <td>&lt;a href=\"https://boardgamegeek.com/boardgame/2...</td>\n",
       "      <td>8.186364</td>\n",
       "      <td>9.176667</td>\n",
       "      <td>8.495833</td>\n",
       "      <td>1</td>\n",
       "      <td>2021</td>\n",
       "    </tr>\n",
       "    <tr>\n",
       "      <th>1</th>\n",
       "      <td>&lt;img src=\"https://cf.geekdo-images.com/A7IOpPt...</td>\n",
       "      <td>&lt;a href=\"https://boardgamegeek.com/boardgame/2...</td>\n",
       "      <td>7.383016</td>\n",
       "      <td>8.573333</td>\n",
       "      <td>7.471698</td>\n",
       "      <td>2</td>\n",
       "      <td>2017</td>\n",
       "    </tr>\n",
       "    <tr>\n",
       "      <th>2</th>\n",
       "      <td>&lt;img src=\"https://cf.geekdo-images.com/OcnPGq9...</td>\n",
       "      <td>&lt;a href=\"https://boardgamegeek.com/boardgame/3...</td>\n",
       "      <td>7.865000</td>\n",
       "      <td>8.727273</td>\n",
       "      <td>8.050980</td>\n",
       "      <td>3</td>\n",
       "      <td>2021</td>\n",
       "    </tr>\n",
       "    <tr>\n",
       "      <th>3</th>\n",
       "      <td>&lt;img src=\"https://cf.geekdo-images.com/6GqH14T...</td>\n",
       "      <td>&lt;a href=\"https://boardgamegeek.com/boardgame/3...</td>\n",
       "      <td>7.897605</td>\n",
       "      <td>8.853521</td>\n",
       "      <td>7.983625</td>\n",
       "      <td>4</td>\n",
       "      <td>2020</td>\n",
       "    </tr>\n",
       "    <tr>\n",
       "      <th>4</th>\n",
       "      <td>&lt;img src=\"https://cf.geekdo-images.com/cwUgf-f...</td>\n",
       "      <td>&lt;a href=\"https://boardgamegeek.com/boardgame/2...</td>\n",
       "      <td>6.389669</td>\n",
       "      <td>8.917757</td>\n",
       "      <td>7.576096</td>\n",
       "      <td>5</td>\n",
       "      <td>2021</td>\n",
       "    </tr>\n",
       "  </tbody>\n",
       "</table>\n",
       "</div>"
      ],
      "text/plain": [
       "                                           thumbnail  \\\n",
       "0  <img src=\"https://cf.geekdo-images.com/oaD1ZQ3...   \n",
       "1  <img src=\"https://cf.geekdo-images.com/A7IOpPt...   \n",
       "2  <img src=\"https://cf.geekdo-images.com/OcnPGq9...   \n",
       "3  <img src=\"https://cf.geekdo-images.com/6GqH14T...   \n",
       "4  <img src=\"https://cf.geekdo-images.com/cwUgf-f...   \n",
       "\n",
       "                                                name  rating_mean_review  \\\n",
       "0  <a href=\"https://boardgamegeek.com/boardgame/2...            8.186364   \n",
       "1  <a href=\"https://boardgamegeek.com/boardgame/2...            7.383016   \n",
       "2  <a href=\"https://boardgamegeek.com/boardgame/3...            7.865000   \n",
       "3  <a href=\"https://boardgamegeek.com/boardgame/3...            7.897605   \n",
       "4  <a href=\"https://boardgamegeek.com/boardgame/2...            6.389669   \n",
       "\n",
       "   rating_mean_comments  fixed_rating  rank yearpublished  \n",
       "0              9.176667      8.495833     1          2021  \n",
       "1              8.573333      7.471698     2          2017  \n",
       "2              8.727273      8.050980     3          2021  \n",
       "3              8.853521      7.983625     4          2020  \n",
       "4              8.917757      7.576096     5          2021  "
      ]
     },
     "execution_count": 50,
     "metadata": {},
     "output_type": "execute_result"
    }
   ],
   "source": [
    "grouped.head()"
   ]
  },
  {
   "cell_type": "code",
   "execution_count": 51,
   "metadata": {},
   "outputs": [],
   "source": [
    "def display_topn(by, n=5, ascending=True):\n",
    "    temp_df = grouped.sort_values(by, ascending=ascending).head(n)\n",
    "    temp_df.index=list(range(1, n+1))\n",
    "    return HTML(temp_df.to_html(escape=False, classes='table table-striped'))"
   ]
  },
  {
   "cell_type": "code",
   "execution_count": 52,
   "metadata": {},
   "outputs": [
    {
     "data": {
      "text/html": [
       "<table border=\"1\" class=\"dataframe table table-striped\">\n",
       "  <thead>\n",
       "    <tr style=\"text-align: right;\">\n",
       "      <th></th>\n",
       "      <th>thumbnail</th>\n",
       "      <th>name</th>\n",
       "      <th>rating_mean_review</th>\n",
       "      <th>rating_mean_comments</th>\n",
       "      <th>fixed_rating</th>\n",
       "      <th>rank</th>\n",
       "      <th>yearpublished</th>\n",
       "    </tr>\n",
       "  </thead>\n",
       "  <tbody>\n",
       "    <tr>\n",
       "      <th>1</th>\n",
       "      <td><img src=\"https://cf.geekdo-images.com/oaD1ZQ3yGj6lacLdtqgdnQ__thumb/img/1mCz7HPEFMeqaqJHsDZwEUc9ftw=/fit-in/200x150/filters:strip_icc()/pic5558118.png\" width=\"124\" /></td>\n",
       "      <td><a href=\"https://boardgamegeek.com/boardgame/285192\">Destinies</a></td>\n",
       "      <td>8.186364</td>\n",
       "      <td>9.176667</td>\n",
       "      <td>8.495833</td>\n",
       "      <td>1</td>\n",
       "      <td>2021</td>\n",
       "    </tr>\n",
       "    <tr>\n",
       "      <th>2</th>\n",
       "      <td><img src=\"https://cf.geekdo-images.com/A7IOpPt-lHrMYsbRmxXWdQ__thumb/img/XoD3fXgApfY7-dfYyFeE6FVkbfY=/fit-in/200x150/filters:strip_icc()/pic6177962.jpg\" width=\"124\" /></td>\n",
       "      <td><a href=\"https://boardgamegeek.com/boardgame/223040\">Fantasy Realms</a></td>\n",
       "      <td>7.383016</td>\n",
       "      <td>8.573333</td>\n",
       "      <td>7.471698</td>\n",
       "      <td>2</td>\n",
       "      <td>2017</td>\n",
       "    </tr>\n",
       "    <tr>\n",
       "      <th>3</th>\n",
       "      <td><img src=\"https://cf.geekdo-images.com/OcnPGq9DYBKJO_dJ0JVKNQ__thumb/img/22Z6VwHfOQRKaEIHdm0xiaHNua0=/fit-in/200x150/filters:strip_icc()/pic5986451.jpg\" width=\"124\" /></td>\n",
       "      <td><a href=\"https://boardgamegeek.com/boardgame/326494\">The Adventures of Robin Hood</a></td>\n",
       "      <td>7.865000</td>\n",
       "      <td>8.727273</td>\n",
       "      <td>8.050980</td>\n",
       "      <td>3</td>\n",
       "      <td>2021</td>\n",
       "    </tr>\n",
       "    <tr>\n",
       "      <th>4</th>\n",
       "      <td><img src=\"https://cf.geekdo-images.com/6GqH14TJJhza86BX5HCLEQ__thumb/img/J8SVmGOJXZGxNjkT3xYNQU7Haxg=/fit-in/200x150/filters:strip_icc()/pic5674958.jpg\" width=\"124\" /></td>\n",
       "      <td><a href=\"https://boardgamegeek.com/boardgame/312484\">Lost Ruins of Arnak</a></td>\n",
       "      <td>7.897605</td>\n",
       "      <td>8.853521</td>\n",
       "      <td>7.983625</td>\n",
       "      <td>4</td>\n",
       "      <td>2020</td>\n",
       "    </tr>\n",
       "    <tr>\n",
       "      <th>5</th>\n",
       "      <td><img src=\"https://cf.geekdo-images.com/cwUgf-f-qwri8UHBUnifuQ__thumb/img/3o2Hc_N5mmfpOt8s9kP0ap8Jti8=/fit-in/200x150/filters:strip_icc()/pic5092291.png\" width=\"124\" /></td>\n",
       "      <td><a href=\"https://boardgamegeek.com/boardgame/295770\">Frosthaven</a></td>\n",
       "      <td>6.389669</td>\n",
       "      <td>8.917757</td>\n",
       "      <td>7.576096</td>\n",
       "      <td>5</td>\n",
       "      <td>2021</td>\n",
       "    </tr>\n",
       "  </tbody>\n",
       "</table>"
      ],
      "text/plain": [
       "<IPython.core.display.HTML object>"
      ]
     },
     "execution_count": 52,
     "metadata": {},
     "output_type": "execute_result"
    }
   ],
   "source": [
    "# TOP N RANK\n",
    "display_topn(by='rank', n=TOP_N)"
   ]
  },
  {
   "cell_type": "code",
   "execution_count": 53,
   "metadata": {},
   "outputs": [
    {
     "data": {
      "text/html": [
       "<table border=\"1\" class=\"dataframe table table-striped\">\n",
       "  <thead>\n",
       "    <tr style=\"text-align: right;\">\n",
       "      <th></th>\n",
       "      <th>thumbnail</th>\n",
       "      <th>name</th>\n",
       "      <th>rating_mean_review</th>\n",
       "      <th>rating_mean_comments</th>\n",
       "      <th>fixed_rating</th>\n",
       "      <th>rank</th>\n",
       "      <th>yearpublished</th>\n",
       "    </tr>\n",
       "  </thead>\n",
       "  <tbody>\n",
       "    <tr>\n",
       "      <th>1</th>\n",
       "      <td><img src=\"https://cf.geekdo-images.com/nhWSmNJSTBAye6bxLa9x-Q__thumb/img/B4r1iyRl2Z2CcMrtBRQOKYwwngw=/fit-in/200x150/filters:strip_icc()/pic4779069.jpg\" width=\"124\" /></td>\n",
       "      <td><a href=\"https://boardgamegeek.com/boardgame/268012\">Chronicles of Drunagor: Age of Darkness</a></td>\n",
       "      <td>9.490566</td>\n",
       "      <td>9.755556</td>\n",
       "      <td>9.529032</td>\n",
       "      <td>38</td>\n",
       "      <td>2021</td>\n",
       "    </tr>\n",
       "    <tr>\n",
       "      <th>2</th>\n",
       "      <td><img src=\"https://cf.geekdo-images.com/tQVVSXcmYLvAoI28cp-2Tg__thumb/img/ahKWaUSws5zja4feB4VexkNV3Mc=/fit-in/200x150/filters:strip_icc()/pic5974859.jpg\" width=\"124\" /></td>\n",
       "      <td><a href=\"https://boardgamegeek.com/boardgame/331106\">The Witcher: Old World</a></td>\n",
       "      <td>9.208333</td>\n",
       "      <td>8.742857</td>\n",
       "      <td>9.036842</td>\n",
       "      <td>32</td>\n",
       "      <td>2022</td>\n",
       "    </tr>\n",
       "    <tr>\n",
       "      <th>3</th>\n",
       "      <td><img src=\"https://cf.geekdo-images.com/Oh3kHw6lweg6ru71Q16h2Q__thumb/img/e9XZdQe1ZcPpaq4Gy31OoWBB_V0=/fit-in/200x150/filters:strip_icc()/pic5235277.jpg\" width=\"124\" /></td>\n",
       "      <td><a href=\"https://boardgamegeek.com/boardgame/246900\">Eclipse: Second Dawn for the Galaxy</a></td>\n",
       "      <td>8.746143</td>\n",
       "      <td>8.948780</td>\n",
       "      <td>8.778036</td>\n",
       "      <td>47</td>\n",
       "      <td>2020</td>\n",
       "    </tr>\n",
       "    <tr>\n",
       "      <th>4</th>\n",
       "      <td><img src=\"https://cf.geekdo-images.com/x3zxjr-Vw5iU4yDPg70Jgw__thumb/img/o18rjEemoWaVru9Y2TyPwuIaRfE=/fit-in/200x150/filters:strip_icc()/pic3490053.jpg\" width=\"124\" /></td>\n",
       "      <td><a href=\"https://boardgamegeek.com/boardgame/224517\">Brass: Birmingham</a></td>\n",
       "      <td>8.688057</td>\n",
       "      <td>9.024454</td>\n",
       "      <td>8.718749</td>\n",
       "      <td>29</td>\n",
       "      <td>2018</td>\n",
       "    </tr>\n",
       "    <tr>\n",
       "      <th>5</th>\n",
       "      <td><img src=\"https://cf.geekdo-images.com/_HhIdavYW-hid20Iq3hhmg__thumb/img/OMkN_E5eyWrkID_cHCnQEbIixGM=/fit-in/200x150/filters:strip_icc()/pic5055631.jpg\" width=\"124\" /></td>\n",
       "      <td><a href=\"https://boardgamegeek.com/boardgame/291457\">Gloomhaven: Jaws of the Lion</a></td>\n",
       "      <td>8.604304</td>\n",
       "      <td>8.584211</td>\n",
       "      <td>8.602302</td>\n",
       "      <td>20</td>\n",
       "      <td>2020</td>\n",
       "    </tr>\n",
       "  </tbody>\n",
       "</table>"
      ],
      "text/plain": [
       "<IPython.core.display.HTML object>"
      ]
     },
     "execution_count": 53,
     "metadata": {},
     "output_type": "execute_result"
    }
   ],
   "source": [
    "# TOP N REVIEW RANK\n",
    "display_topn(by='rating_mean_review', n=TOP_N, ascending=False)"
   ]
  },
  {
   "cell_type": "code",
   "execution_count": 54,
   "metadata": {},
   "outputs": [
    {
     "data": {
      "text/html": [
       "<table border=\"1\" class=\"dataframe table table-striped\">\n",
       "  <thead>\n",
       "    <tr style=\"text-align: right;\">\n",
       "      <th></th>\n",
       "      <th>thumbnail</th>\n",
       "      <th>name</th>\n",
       "      <th>rating_mean_review</th>\n",
       "      <th>rating_mean_comments</th>\n",
       "      <th>fixed_rating</th>\n",
       "      <th>rank</th>\n",
       "      <th>yearpublished</th>\n",
       "    </tr>\n",
       "  </thead>\n",
       "  <tbody>\n",
       "    <tr>\n",
       "      <th>1</th>\n",
       "      <td><img src=\"https://cf.geekdo-images.com/nhWSmNJSTBAye6bxLa9x-Q__thumb/img/B4r1iyRl2Z2CcMrtBRQOKYwwngw=/fit-in/200x150/filters:strip_icc()/pic4779069.jpg\" width=\"124\" /></td>\n",
       "      <td><a href=\"https://boardgamegeek.com/boardgame/268012\">Chronicles of Drunagor: Age of Darkness</a></td>\n",
       "      <td>9.490566</td>\n",
       "      <td>9.755556</td>\n",
       "      <td>9.529032</td>\n",
       "      <td>38</td>\n",
       "      <td>2021</td>\n",
       "    </tr>\n",
       "    <tr>\n",
       "      <th>2</th>\n",
       "      <td><img src=\"https://cf.geekdo-images.com/tQVVSXcmYLvAoI28cp-2Tg__thumb/img/ahKWaUSws5zja4feB4VexkNV3Mc=/fit-in/200x150/filters:strip_icc()/pic5974859.jpg\" width=\"124\" /></td>\n",
       "      <td><a href=\"https://boardgamegeek.com/boardgame/331106\">The Witcher: Old World</a></td>\n",
       "      <td>9.208333</td>\n",
       "      <td>8.742857</td>\n",
       "      <td>9.036842</td>\n",
       "      <td>32</td>\n",
       "      <td>2022</td>\n",
       "    </tr>\n",
       "    <tr>\n",
       "      <th>3</th>\n",
       "      <td><img src=\"https://cf.geekdo-images.com/SAKzHYVbMnhbSgYXngoJxQ__thumb/img/RF6aORNcMKL0lwnA8FlwplOKj4g=/fit-in/200x150/filters:strip_icc()/pic6109923.jpg\" width=\"124\" /></td>\n",
       "      <td><a href=\"https://boardgamegeek.com/boardgame/329551\">Mosaic: A Story of Civilization</a></td>\n",
       "      <td>7.000000</td>\n",
       "      <td>9.242857</td>\n",
       "      <td>8.962500</td>\n",
       "      <td>11</td>\n",
       "      <td>2022</td>\n",
       "    </tr>\n",
       "    <tr>\n",
       "      <th>4</th>\n",
       "      <td><img src=\"https://cf.geekdo-images.com/ev-MNwAlzPdWq_grtnWLXw__thumb/img/1w0-OAtf3QsrZhqhOW-WKPWJjuk=/fit-in/200x150/filters:strip_icc()/pic6121947.jpg\" width=\"124\" /></td>\n",
       "      <td><a href=\"https://boardgamegeek.com/boardgame/297562\">Kemet: Blood and Sand</a></td>\n",
       "      <td>8.454545</td>\n",
       "      <td>9.162963</td>\n",
       "      <td>8.894253</td>\n",
       "      <td>28</td>\n",
       "      <td>2021</td>\n",
       "    </tr>\n",
       "    <tr>\n",
       "      <th>5</th>\n",
       "      <td><img src=\"https://cf.geekdo-images.com/Oh3kHw6lweg6ru71Q16h2Q__thumb/img/e9XZdQe1ZcPpaq4Gy31OoWBB_V0=/fit-in/200x150/filters:strip_icc()/pic5235277.jpg\" width=\"124\" /></td>\n",
       "      <td><a href=\"https://boardgamegeek.com/boardgame/246900\">Eclipse: Second Dawn for the Galaxy</a></td>\n",
       "      <td>8.746143</td>\n",
       "      <td>8.948780</td>\n",
       "      <td>8.778036</td>\n",
       "      <td>47</td>\n",
       "      <td>2020</td>\n",
       "    </tr>\n",
       "  </tbody>\n",
       "</table>"
      ],
      "text/plain": [
       "<IPython.core.display.HTML object>"
      ]
     },
     "execution_count": 54,
     "metadata": {},
     "output_type": "execute_result"
    }
   ],
   "source": [
    "# TOP N FIXED RANK\n",
    "display_topn(by='fixed_rating', n=TOP_N, ascending=False)"
   ]
  },
  {
   "cell_type": "code",
   "execution_count": 55,
   "metadata": {},
   "outputs": [],
   "source": [
    "# model.save('saved_model\\my_model')"
   ]
  },
  {
   "cell_type": "code",
   "execution_count": 56,
   "metadata": {},
   "outputs": [],
   "source": [
    "# saved_model = tf.keras.models.load_model('saved_model\\my_model')"
   ]
  },
  {
   "cell_type": "code",
   "execution_count": 57,
   "metadata": {},
   "outputs": [],
   "source": [
    "# some examples on \"long\" comments vs short comments"
   ]
  },
  {
   "cell_type": "code",
   "execution_count": 58,
   "metadata": {},
   "outputs": [
    {
     "name": "stdout",
     "output_type": "stream",
     "text": [
      "input:\n",
      "\"It's 'fine'. But I don't understand why this game is rated so highly. Pretty to look at? Sure. Is that enough? Nope.\"\n",
      "score: 0.097623\n",
      "\n",
      "input:\n",
      "\"I look at this game as an efficiency engine. Could have been a lot better if the combat system is more than just secretly turning dials. Anticlimactic end game trigger also didn't help. Components are very nice though.\"\n",
      "score: 0.233510\n",
      "\n",
      "input:\n",
      "\"For as much as I was excited for this game, I could never actually get it on the table. I've head the game supposedly gets better and better with each play, but as getting game 1 in was a struggle itself I decided to trade it for something I knew would see more play!\"\n",
      "score: 0.320959\n",
      "\n",
      "input:\n",
      "\"I have played Gloomhaven a nunmber of times with a friend (his copy), and think that this smaller version may be fun for me and my husband to play.\"\n",
      "score: 0.415120\n",
      "\n",
      "input:\n",
      "\"- Marvel Champions: The Card Game – Star Lord Hero Pack - Marvel Champions: The Card Game – Gamora Hero Pack - Marvel Champions: The Card Game – Drax Hero Pack - Marvel Champions: The Card Game – Venom Hero Pack\"\n",
      "score: 0.499328\n",
      "\n",
      "input:\n",
      "\"3.3 - Owned and sold. Prefer 3X to 4X. This game was also way too complicated (the rulebook I found hellish).\"\n",
      "score: 0.509991\n",
      "\n",
      "input:\n",
      "\"Currently need to play it again, and quickly, so as to internalize more of the ruleset.  Unfortunately, this may be the first Wehrle design that I really don't know that I'll end up liking. My first play created far more questions than provided answers.\"\n",
      "score: 0.567048\n",
      "\n",
      "input:\n",
      "\"I’m not a fan of engine building games because of how slow they start and it’s usually difficult to figure out how to make the right engine to accomplish the most lucrative goals. Everdell was no different for me.\"\n",
      "score: 0.593339\n",
      "\n",
      "input:\n",
      "\"No rating yet.   Waiting on kickstarter to arrive.   May rate initially after some plays on TTS however that does not have the kickstarter expansions so may be overly limited.\"\n",
      "score: 0.639307\n",
      "\n",
      "input:\n",
      "\"Pre-ordered after playing the original. The original is great, rules aren't that complicated. You always have interesting choices to make.  It is a big and long game, so claim a whole evening for it.\"\n",
      "score: 0.699362\n",
      "\n",
      "input:\n",
      "\"B.H. rec Spring 2020 - games for 4+ adults based on liking Catan. Also one of B.O. Top 7 overall at the time.\"\n",
      "score: 0.729847\n",
      "\n",
      "input:\n",
      "\"02.04.17 Action selection game where you upgrade your farming engine to get as many resources/upgrades as possible while exploring the map.  Also Kate loves to steal oil.\"\n",
      "score: 0.835287\n",
      "\n",
      "input:\n",
      "\"Survey done 3/19, shipping paid; Kickstarted 2/3/20; expected Jan2021, then March2021, now pushed to May 2021. Shipping to start 2nd week of May confirmed.\"\n",
      "score: 0.913960\n",
      "\n",
      "input:\n",
      "\"Tajuplné říše jsou karetní hra, ve které je cílem hráčů získat co nejvíc bodů díky kombinaci karet. Karty jsou různých typů - vůdci, zbraně, tvorové, či země - a snahou hráčů je co nejlépe vykombinovat efekty na sedmi kartách v ruce, tedy získat co nejvíce bonusů a co nejméně postihů.\"\n",
      "score: 0.915061\n",
      "\n",
      "input:\n",
      "\"Jeu de stratégie : Développement & Construction   Un adorable jeu de gestion et de combo de cartes  Mots clés :  Durée : 40 - 80 min Nb de joueurs : 1 à 4 joueurs\"\n",
      "score: 0.960879\n",
      "\n",
      "input:\n",
      "\"Kickstarter Edition God Pledge.  All Stretch Goals including - Game Up: Sacred Bull expansion Game Up: Sand Worm expansion Game Up: 10 Obelisks and Divine Intervention cards Game Up: The Great Old Ones 5 Player bags 3 Monster bags 5 plastic tile displays\"\n",
      "score: 0.999056\n",
      "\n",
      "input:\n",
      "\"Base Undertow 40 Days Age of Tyranny Splice and Dice  Ghillie Tink Nugget Gasket Dart Gearloc Council Internship Program  Premium Health (Hoplo) Adventure Map 2.0 Ally Pack Trove Chest\"\n",
      "score: 0.999999\n",
      "\n",
      "input:\n",
      "\"Includes Venus Next, Hellas & Elysium, Prelude, Colonies, BGG User-Created Corporation Pack, Turmoil, Turmoil promos, dual layer player boards, and 4 promo cards - Small Asteroid, Snow Algae, Self Replicating Robots, Penguins - all stored in base game box with Folded Space v2 insert.\"\n",
      "score: 0.999469\n",
      "\n",
      "input:\n",
      "\"1-4P (best 2) - 90/120mn  Coop/variable player powers/simultaneous action selection/area influence/modular board/programming/set collection/hand management  EN \"\n",
      "score: 0.999349\n",
      "\n",
      "input:\n",
      "\"The original Kickstarter Intruder Pledge (Gamer All-in).   Includes Aftermath, Carnomorphs, Void Seeders, Medic, and Terrain Expansion (but no Sundrop).\"\n",
      "score: 0.999495\n",
      "\n",
      "input:\n",
      "\"1-5 Players Includes Promo Cards:  Small Asteroid, Snow Algae, Self Replicating Robots, Penguins Includes: Hellas & Elysium Maps, Venus Next Expansion, Prelude Expansion Includes:  (2) Sets Top Shelf Gamer Metal Cubes (for up to 4-5 players)\"\n",
      "score: 0.999534\n",
      "\n",
      "input:\n",
      "\"Ich habe: - Grundspiel. - Bonus-Abenteuer (Ausgedruckt). - Tupper-Tool zur Herausnahme von Tiles (Extra). - 6 Piraten-Figuren mit Saugnäpfen, zur Herausnahme von Tiles (Extra).\"\n",
      "score: 0.996921\n",
      "\n",
      "input:\n",
      "\"+ Undertow + Splice & Dice + The Age of Tyranny + 40 days in Daelore + Lab Rats + Character packs: Ghille,Tink,Nugget,Gasket,Dart\"\n",
      "score: 0.999333\n",
      "\n",
      "input:\n",
      "\"Late back on Kickstarter 6/12/20 after reading Leder’s thoughtful critique of GAMA. Happy to give my support.\"\n",
      "score: 0.999989\n",
      "\n",
      "input:\n",
      "\"great gateway, easy mode robs a lot of flavor and fun. still, a bit too light for our tastes. i wonder if the expansions will push it farther\"\n",
      "score: 0.997136\n"
     ]
    }
   ],
   "source": [
    "# some long comments\n",
    "not_rated_comments['comment_len'] = not_rated_comments['value'].str.len()\n",
    "some_long_comments = not_rated_comments.query(\"comment_len>100 and comment_len<300\").sample(frac=1).head(25).sort_values('rating')\n",
    "results = tf.sigmoid(model.predict(tf.constant(list(some_long_comments.value))))\n",
    "print_my_examples(list(some_long_comments.value), results)"
   ]
  },
  {
   "cell_type": "markdown",
   "metadata": {},
   "source": [
    "## REGRESSOR"
   ]
  },
  {
   "cell_type": "code",
   "execution_count": 59,
   "metadata": {},
   "outputs": [
    {
     "name": "stdout",
     "output_type": "stream",
     "text": [
      "Baseline: -4.35 (1.18) MSE\n"
     ]
    }
   ],
   "source": [
    "# create training X and y\n",
    "x_train_reg = list(rated_comments.value)\n",
    "y_train_reg = list(rated_comments.rating.astype(int))\n",
    "\n",
    "def build_regressor():\n",
    "    return build_model(hub_layer, model_type='regressor', verbose=0)\n",
    "estimator = KerasRegressor(build_fn=build_regressor, epochs=10, batch_size=512, verbose=0)\n",
    "kfold = KFold(n_splits=3)\n",
    "results = cross_val_score(estimator, x_train_reg, y_train_reg, cv=kfold)\n",
    "print(\"Baseline: %.2f (%.2f) MSE\" % (results.mean(), results.std()))"
   ]
  },
  {
   "cell_type": "code",
   "execution_count": 60,
   "metadata": {},
   "outputs": [],
   "source": [
    "regressor = build_regressor()"
   ]
  },
  {
   "cell_type": "code",
   "execution_count": 61,
   "metadata": {},
   "outputs": [
    {
     "name": "stdout",
     "output_type": "stream",
     "text": [
      "Epoch 1/10\n",
      "127/127 - 6s - loss: 37.6818 - mean_squared_error: 37.6818\n",
      "Epoch 2/10\n",
      "127/127 - 6s - loss: 9.9212 - mean_squared_error: 9.9212\n",
      "Epoch 3/10\n",
      "127/127 - 6s - loss: 7.3574 - mean_squared_error: 7.3574\n",
      "Epoch 4/10\n",
      "127/127 - 6s - loss: 5.9950 - mean_squared_error: 5.9950\n",
      "Epoch 5/10\n",
      "127/127 - 6s - loss: 4.7521 - mean_squared_error: 4.7521\n",
      "Epoch 6/10\n",
      "127/127 - 6s - loss: 3.8641 - mean_squared_error: 3.8641\n",
      "Epoch 7/10\n",
      "127/127 - 6s - loss: 3.0879 - mean_squared_error: 3.0879\n",
      "Epoch 8/10\n",
      "127/127 - 6s - loss: 2.4300 - mean_squared_error: 2.4300\n",
      "Epoch 9/10\n",
      "127/127 - 6s - loss: 1.9776 - mean_squared_error: 1.9776\n",
      "Epoch 10/10\n",
      "127/127 - 6s - loss: 1.7073 - mean_squared_error: 1.7073\n"
     ]
    },
    {
     "data": {
      "text/plain": [
       "<tensorflow.python.keras.callbacks.History at 0x21d3cd1f850>"
      ]
     },
     "execution_count": 61,
     "metadata": {},
     "output_type": "execute_result"
    }
   ],
   "source": [
    "regressor.fit(\n",
    "    x_train_reg,\n",
    "    y_train_reg,\n",
    "    epochs=10,\n",
    "    batch_size=512,\n",
    "    # validation_data=(x_val, y_val),\n",
    "    verbose=2,\n",
    "#     callbacks=[\n",
    "#         tf.keras.callbacks.EarlyStopping(monitor='val_accuracy', patience=5, min_delta=0.001)\n",
    "#     ]\n",
    ")"
   ]
  },
  {
   "cell_type": "code",
   "execution_count": 62,
   "metadata": {},
   "outputs": [
    {
     "name": "stdout",
     "output_type": "stream",
     "text": [
      "input:\n",
      "\"Excellent game!  Love the tense play half way through as your deck gets stronger and allows for more interesting play!  Winner and a keeper for the collection!!\"\n",
      "score: 8.639480\n",
      "actual value:9\n",
      "\n",
      "input:\n",
      "\"Kickstarter\"\n",
      "score: 8.327463\n",
      "actual value:6\n",
      "\n",
      "input:\n",
      "\"This is a really good reimplemantation of Terra Mystica. It is different enough to stand by itself. I am a sucker for space games, and Terra Mystica is one of my favourite games ever so the combination really appeals to me.   But I still give this a lower rating than Terra Mystica since it is not as balanced. A few strategies are much stronger than others, and thus the different races become unbalanced due to how they fit to those strategies. \"\n",
      "score: 8.682869\n",
      "actual value:9\n",
      "\n",
      "input:\n",
      "\"Played twice and lost both times due to weak opening hands. It becomes quite obvious that your opponent is going to win when they have a stronger hand and you just go through the motions to end the game. Dragons also seem weak,  not worth their costs and easily countered. I spent a lot of resources to get an early dragon card and it was virtually useless through the rest of the game. The monuments all seem to do similar things with tiny variables and there’s not enough variety in the cards. Some of them are clearly better than others.   So buy the expansion! **** that. I want a complete game. not one that gets fixed afterwards. Obvious killer combos are out there but if your opponent gets it 20 seconds before you do, that’s it, game over, There’s a lot of “0h gee, I was planning  to do that!” You can actually get quite irritated when this happens a lot,  which is not really the kind of feeling I want when I’m playing a boardgame.    I bought this because of the hype but I was underwhelmed. Everyone says you should use drafting but after two unenjoyable games I have no urge to go back to it. Just another bland resource conversion game. If this designer wasn’t already known for race for the galaxy, this game would’ve been quickly forgotten. I’m just surprised no one has actually designed a game called ‘multiplayer solitaire’ yet. Really getting sick of this design trend and the unfathomable desire for it.  If Knizia was dead, he’d be rolling in his grave.\"\n",
      "score: 4.669753\n",
      "actual value:5\n",
      "\n",
      "input:\n",
      "\"Best: 3\"\n",
      "score: 7.919762\n",
      "actual value:9\n",
      "\n",
      "input:\n",
      "\"Excellent - probably the best of the Living Card Games from FFG who have learnt well from all their previous releases. And for me the best Cthulhu themed game yet.  Immersion in the Mythos is high and the mechanics are very good - luck is inevitable in a game that tests a \"skill\" against a random factor but there are manyw ays to mitigate the luck so that you do feel much more in control and when it does go bad - well it is Cthulhu!  All the art on the cards and the tokens are the usual FFG high standard - the rules are very well written.  I also have the miniatures released by FFG some years back for added theme - great!\"\n",
      "score: 8.170357\n",
      "actual value:10\n",
      "\n",
      "input:\n",
      "\"An interesting, quick and fun game that really comes to life if you have read any of the \"Red Rising Books by Pierce Brown. Even if you haven't this is fun to play in 20-45 mins. Whilst not has long or heavy as previous SM Games, this is a worthy addition to my collection.\"\n",
      "score: 7.133397\n",
      "actual value:7\n",
      "\n",
      "input:\n",
      "\"Theme: It's just ALIENS again Gameplay: Minis tile exploration, secret agenda Components: Over produced Replayability: I would play again but it's an evening killer and I'm not sure the payoff is there. Rulebook: \"\n",
      "score: 5.901305\n",
      "actual value:6\n",
      "\n",
      "input:\n",
      "\"Daunting at first, but it plays fairly easily.  Challenging, brain burning choices in order to win.\"\n",
      "score: 7.820022\n",
      "actual value:8\n",
      "\n",
      "input:\n",
      "\"Great game for someone who loves the western trail boss, drover theme. Kind of reminds me of the show Rawhide, which I just finished watching on DVD. I am Rowdy Yates (Lol).\"\n",
      "score: 8.073254\n",
      "actual value:8\n"
     ]
    }
   ],
   "source": [
    "inputs = x_train_reg[:10]\n",
    "outputs = y_train_reg[:10]\n",
    "results = regressor.predict(tf.constant(inputs))\n",
    "print_my_examples(inputs, results, outputs)"
   ]
  },
  {
   "cell_type": "code",
   "execution_count": null,
   "metadata": {},
   "outputs": [],
   "source": []
  }
 ],
 "metadata": {
  "kernelspec": {
   "display_name": "tensorflow2",
   "language": "python",
   "name": "tensorflow2"
  },
  "language_info": {
   "codemirror_mode": {
    "name": "ipython",
    "version": 3
   },
   "file_extension": ".py",
   "mimetype": "text/x-python",
   "name": "python",
   "nbconvert_exporter": "python",
   "pygments_lexer": "ipython3",
   "version": "3.8.8"
  }
 },
 "nbformat": 4,
 "nbformat_minor": 4
}
