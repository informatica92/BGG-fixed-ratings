{
 "cells": [
  {
   "cell_type": "code",
   "execution_count": 1,
   "metadata": {},
   "outputs": [],
   "source": [
    "# ## BGG API\n",
    "# https://www.boardgamegeek.com/xmlapi2/thing?id=161599&comments=1\n",
    "# https://www.boardgamegeek.com/xmlapi2/hot?type=boardgame\n",
    "# ## NLP WITH TF\n",
    "# https://www.tensorflow.org/hub/tutorials/tf2_text_classification"
   ]
  },
  {
   "cell_type": "code",
   "execution_count": 2,
   "metadata": {},
   "outputs": [
    {
     "name": "stdout",
     "output_type": "stream",
     "text": [
      "Version:      2.5.0\n",
      "Eager mode:   True\n",
      "Hub version:  0.12.0\n",
      "GPU:          available\n"
     ]
    }
   ],
   "source": [
    "import tensorflow as tf\n",
    "import tensorflow_hub as hub\n",
    "from tensorflow.keras.wrappers.scikit_learn import KerasRegressor, KerasClassifier\n",
    "from sklearn.model_selection import GridSearchCV\n",
    "\n",
    "from IPython.display import HTML\n",
    "from datetime import datetime\n",
    "import matplotlib.pyplot as plt\n",
    "import pandas as pd\n",
    "import numpy as np\n",
    "import re\n",
    "\n",
    "from utilities import get_hot_data, get_comments, remove_short_comments, build_model, print_my_examples\n",
    "\n",
    "print(\"Version:     \", tf.__version__)\n",
    "print(\"Eager mode:  \", tf.executing_eagerly())\n",
    "print(\"Hub version: \", hub.__version__)\n",
    "print(\"GPU:         \", \"available\" if tf.config.list_physical_devices('GPU') else \"NOT available\")\n",
    "\n",
    "tf.get_logger().setLevel('ERROR')"
   ]
  },
  {
   "cell_type": "code",
   "execution_count": 3,
   "metadata": {},
   "outputs": [],
   "source": [
    "# tf.debugging.set_log_device_placement(True)"
   ]
  },
  {
   "cell_type": "code",
   "execution_count": 4,
   "metadata": {},
   "outputs": [],
   "source": [
    "GOOD_REVIEW_THRESHOLD = 7\n",
    "VAL_FRACTION = 0.25\n",
    "MIN_COMMENT_LEN = 25\n",
    "TOP_N = 5\n",
    "MODEL_NAME = \"https://tfhub.dev/google/tf2-preview/nnlm-en-dim50/1\"\n",
    "# MORE ABOUT MODEL NAMES: \n",
    "# \"https://tfhub.dev/google/tf2-preview/nnlm-en-dim128/1\"\n",
    "# \"https://tfhub.dev/google/tf2-preview/nnlm-en-dim128-with-normalization/1\"\n",
    "# we also tested these solutions with dimension equals to 128 but accuracy \n",
    "# is a bit lower (0.85 for 128 vs 0.86 for 50) and training sometimes stops \n",
    "# unexpectedly for memory limit\n",
    "#\n",
    "# \"https://tfhub.dev/google/tf2-preview/nnlm-en-dim50/1\"\n",
    "# \"https://tfhub.dev/google/tf2-preview/nnlm-en-dim50-with-normalization/1\"\n",
    "# there is no difference between normalization and not so we use the one \n",
    "# without normalization"
   ]
  },
  {
   "cell_type": "markdown",
   "metadata": {},
   "source": [
    "## GET DATA"
   ]
  },
  {
   "cell_type": "code",
   "execution_count": 5,
   "metadata": {},
   "outputs": [
    {
     "data": {
      "text/plain": [
       "[{'id': '331106',\n",
       "  'rank': '1',\n",
       "  'thumbnail': 'https://cf.geekdo-images.com/tQVVSXcmYLvAoI28cp-2Tg__thumb/img/ahKWaUSws5zja4feB4VexkNV3Mc=/fit-in/200x150/filters:strip_icc()/pic5974859.jpg',\n",
       "  'name': 'The Witcher: Old World',\n",
       "  'yearpublished': '2022'},\n",
       " {'id': '219650',\n",
       "  'rank': '2',\n",
       "  'thumbnail': 'https://cf.geekdo-images.com/OodUXfXjkiwGsHKRLjsloA__thumb/img/9UMSP_2fjLQzEQRsDPH_brSiVzY=/fit-in/200x150/filters:strip_icc()/pic3630071.jpg',\n",
       "  'name': 'Arydia: The Paths We Dare Tread'}]"
      ]
     },
     "execution_count": 5,
     "metadata": {},
     "output_type": "execute_result"
    }
   ],
   "source": [
    "hot_array = get_hot_data()\n",
    "hot_array[:2]"
   ]
  },
  {
   "cell_type": "code",
   "execution_count": 6,
   "metadata": {},
   "outputs": [
    {
     "name": "stdout",
     "output_type": "stream",
     "text": [
      "missing csv file, getting new data using API...\n",
      "page number = 10 (max: 100, len: 28)\n",
      "page number = 20 (max: 100, len: 20)\n",
      "page number = 30 (max: 100, len: 15)\n",
      "page number = 40 (max: 100, len: 12)\n",
      "page number = 50 (max: 100, len: 7)\n",
      "page number = 60 (max: 100, len: 7)\n",
      "page number = 70 (max: 100, len: 5)\n",
      "page number = 80 (max: 100, len: 5)\n",
      "page number = 90 (max: 100, len: 3)\n",
      "page number = 100 (max: 100, len: 2)\n",
      "page number = 110 (max: 100, len: 1)\n",
      "page number = 120 (max: 100, len: 1)\n",
      "page number = 130 (max: 100, len: 1)\n",
      "page number = 140 (max: 100, len: 1)\n",
      "comments_df shape: (122647, 4)\n"
     ]
    },
    {
     "data": {
      "text/html": [
       "<div>\n",
       "<style scoped>\n",
       "    .dataframe tbody tr th:only-of-type {\n",
       "        vertical-align: middle;\n",
       "    }\n",
       "\n",
       "    .dataframe tbody tr th {\n",
       "        vertical-align: top;\n",
       "    }\n",
       "\n",
       "    .dataframe thead th {\n",
       "        text-align: right;\n",
       "    }\n",
       "</style>\n",
       "<table border=\"1\" class=\"dataframe\">\n",
       "  <thead>\n",
       "    <tr style=\"text-align: right;\">\n",
       "      <th></th>\n",
       "      <th>id</th>\n",
       "      <th>username</th>\n",
       "      <th>rating</th>\n",
       "      <th>value</th>\n",
       "    </tr>\n",
       "  </thead>\n",
       "  <tbody>\n",
       "    <tr>\n",
       "      <th>0</th>\n",
       "      <td>331106</td>\n",
       "      <td>aggers</td>\n",
       "      <td>N/A</td>\n",
       "      <td>Kickstarter</td>\n",
       "    </tr>\n",
       "    <tr>\n",
       "      <th>1</th>\n",
       "      <td>331106</td>\n",
       "      <td>Allethar</td>\n",
       "      <td>N/A</td>\n",
       "      <td>I played twice during testing phase - the vani...</td>\n",
       "    </tr>\n",
       "    <tr>\n",
       "      <th>2</th>\n",
       "      <td>331106</td>\n",
       "      <td>AndersBerg</td>\n",
       "      <td>N/A</td>\n",
       "      <td>Backed for 1€</td>\n",
       "    </tr>\n",
       "    <tr>\n",
       "      <th>3</th>\n",
       "      <td>331106</td>\n",
       "      <td>Angela_fba</td>\n",
       "      <td>N/A</td>\n",
       "      <td>Ks 2021 -&gt; Jun 2022</td>\n",
       "    </tr>\n",
       "    <tr>\n",
       "      <th>4</th>\n",
       "      <td>331106</td>\n",
       "      <td>arnaud4matagot</td>\n",
       "      <td>9</td>\n",
       "      <td>tested online</td>\n",
       "    </tr>\n",
       "    <tr>\n",
       "      <th>...</th>\n",
       "      <td>...</td>\n",
       "      <td>...</td>\n",
       "      <td>...</td>\n",
       "      <td>...</td>\n",
       "    </tr>\n",
       "    <tr>\n",
       "      <th>122642</th>\n",
       "      <td>68448</td>\n",
       "      <td>_Dani_</td>\n",
       "      <td>N/A</td>\n",
       "      <td>My #1 on DSP 2011.</td>\n",
       "    </tr>\n",
       "    <tr>\n",
       "      <th>122643</th>\n",
       "      <td>68448</td>\n",
       "      <td>_mun_</td>\n",
       "      <td>9</td>\n",
       "      <td>A játékosok minden körben egyszerre cselekszen...</td>\n",
       "    </tr>\n",
       "    <tr>\n",
       "      <th>122644</th>\n",
       "      <td>68448</td>\n",
       "      <td>_teece_</td>\n",
       "      <td>7</td>\n",
       "      <td>Really enjoyable game and amazing that it stre...</td>\n",
       "    </tr>\n",
       "    <tr>\n",
       "      <th>122645</th>\n",
       "      <td>68448</td>\n",
       "      <td>_The_Inquiry_</td>\n",
       "      <td>6</td>\n",
       "      <td>Prior to 2020: 10 plays (est)  7 Wonders is ev...</td>\n",
       "    </tr>\n",
       "    <tr>\n",
       "      <th>122646</th>\n",
       "      <td>68448</td>\n",
       "      <td>_Viator_</td>\n",
       "      <td>10</td>\n",
       "      <td>Elegante: simple pero muy rejugable y profundo...</td>\n",
       "    </tr>\n",
       "  </tbody>\n",
       "</table>\n",
       "<p>122647 rows × 4 columns</p>\n",
       "</div>"
      ],
      "text/plain": [
       "            id        username rating  \\\n",
       "0       331106          aggers    N/A   \n",
       "1       331106        Allethar    N/A   \n",
       "2       331106      AndersBerg    N/A   \n",
       "3       331106      Angela_fba    N/A   \n",
       "4       331106  arnaud4matagot      9   \n",
       "...        ...             ...    ...   \n",
       "122642   68448          _Dani_    N/A   \n",
       "122643   68448           _mun_      9   \n",
       "122644   68448         _teece_      7   \n",
       "122645   68448   _The_Inquiry_      6   \n",
       "122646   68448        _Viator_     10   \n",
       "\n",
       "                                                    value  \n",
       "0                                             Kickstarter  \n",
       "1       I played twice during testing phase - the vani...  \n",
       "2                                           Backed for 1€  \n",
       "3                                     Ks 2021 -> Jun 2022  \n",
       "4                                           tested online  \n",
       "...                                                   ...  \n",
       "122642                                 My #1 on DSP 2011.  \n",
       "122643  A játékosok minden körben egyszerre cselekszen...  \n",
       "122644  Really enjoyable game and amazing that it stre...  \n",
       "122645  Prior to 2020: 10 plays (est)  7 Wonders is ev...  \n",
       "122646  Elegante: simple pero muy rejugable y profundo...  \n",
       "\n",
       "[122647 rows x 4 columns]"
      ]
     },
     "execution_count": 6,
     "metadata": {},
     "output_type": "execute_result"
    }
   ],
   "source": [
    "try:\n",
    "    comments_df = pd.read_csv(f\"comments_{datetime.now().strftime('%Y%m%d')}.csv\")\n",
    "    comments_df['rating'] = comments_df.rating.fillna('N/A')\n",
    "    print(\"reading dataframe from csv file...\")\n",
    "except:\n",
    "    print(\"missing csv file, getting new data using API...\")\n",
    "    comments_df = get_comments(hot_array, verbose=10)\n",
    "    comments_df.to_csv(f\"comments_{datetime.now().strftime('%Y%m%d')}.csv\", index=False)\n",
    "comments_df"
   ]
  },
  {
   "cell_type": "markdown",
   "metadata": {},
   "source": [
    "## DATA CLEANING"
   ]
  },
  {
   "cell_type": "code",
   "execution_count": 7,
   "metadata": {},
   "outputs": [],
   "source": [
    "# probably we should keep all the ratings (no matters the len) and remove only the simple comments under a certain len  \n",
    "comments_df[\"value\"] = comments_df[\"value\"].astype(str)"
   ]
  },
  {
   "cell_type": "code",
   "execution_count": 8,
   "metadata": {},
   "outputs": [
    {
     "name": "stdout",
     "output_type": "stream",
     "text": [
      "removed 19094 for 'remove_short_comments' - min len: 25 - method: unrated\n"
     ]
    }
   ],
   "source": [
    "# REMOVE URLs FROM COMMENTS\n",
    "comments_df['value'] = [re.sub(r\"http\\S+\", \"\", v) for v in comments_df.value.values]\n",
    "comments_df = remove_short_comments(comments_df, MIN_COMMENT_LEN)"
   ]
  },
  {
   "cell_type": "code",
   "execution_count": 9,
   "metadata": {},
   "outputs": [],
   "source": [
    "# REMOVE NON ENGLISH COMMENTS\n",
    "# !conda install -c conda-forge langdetect\n",
    "# def add_comments_lang(df: pd.DataFrame):\n",
    "#     df_local = df.copy()\n",
    "#     df_local['lang'] = df['value'].apply(detect)\n",
    "#     return df_local.reset_index(drop=True)\n",
    "# comments_df = add_comments_lang(comments_df)\n",
    "# comments_df = comments_df.query('lang == \"en\"')"
   ]
  },
  {
   "cell_type": "markdown",
   "metadata": {},
   "source": [
    "## SPLIT RATED AND NON-RATED COMMENTS"
   ]
  },
  {
   "cell_type": "code",
   "execution_count": 10,
   "metadata": {},
   "outputs": [
    {
     "data": {
      "text/plain": [
       "9          18887\n",
       "8          17992\n",
       "10         17883\n",
       "7          10404\n",
       "N/A         7897\n",
       "           ...  \n",
       "8.95333        1\n",
       "6.808          1\n",
       "7.775          1\n",
       "9.225          1\n",
       "3.35           1\n",
       "Name: rating, Length: 603, dtype: int64"
      ]
     },
     "execution_count": 10,
     "metadata": {},
     "output_type": "execute_result"
    }
   ],
   "source": [
    "# count number of comments per rating (N/A included)\n",
    "comments_df.rating.value_counts()"
   ]
  },
  {
   "cell_type": "code",
   "execution_count": 11,
   "metadata": {},
   "outputs": [
    {
     "data": {
      "text/plain": [
       "(95656, 5)"
      ]
     },
     "execution_count": 11,
     "metadata": {},
     "output_type": "execute_result"
    }
   ],
   "source": [
    "# get rated comments only\n",
    "rated_comments = comments_df.query('rating != \"N/A\"')\n",
    "rated_comments.shape"
   ]
  },
  {
   "cell_type": "code",
   "execution_count": 12,
   "metadata": {},
   "outputs": [
    {
     "data": {
      "text/plain": [
       "(7897, 5)"
      ]
     },
     "execution_count": 12,
     "metadata": {},
     "output_type": "execute_result"
    }
   ],
   "source": [
    "# get non rated comments only\n",
    "not_rated_comments = comments_df.query('rating == \"N/A\"').reset_index(drop=True)\n",
    "not_rated_comments.shape"
   ]
  },
  {
   "cell_type": "markdown",
   "metadata": {},
   "source": [
    "## CREATE TRAINING AND VALIDATION DATA"
   ]
  },
  {
   "cell_type": "code",
   "execution_count": 13,
   "metadata": {},
   "outputs": [],
   "source": [
    "# use rated comments (reviews) to train the model"
   ]
  },
  {
   "cell_type": "code",
   "execution_count": 14,
   "metadata": {},
   "outputs": [],
   "source": [
    "rated_comments = rated_comments.sample(frac=1)"
   ]
  },
  {
   "cell_type": "code",
   "execution_count": 15,
   "metadata": {},
   "outputs": [],
   "source": [
    "# create training X and y\n",
    "train_examples = list(rated_comments.value)\n",
    "train_labels = list((rated_comments.rating.astype(float)>=GOOD_REVIEW_THRESHOLD).astype(int))"
   ]
  },
  {
   "cell_type": "code",
   "execution_count": 16,
   "metadata": {},
   "outputs": [
    {
     "name": "stdout",
     "output_type": "stream",
     "text": [
      "example of positive rating:\n"
     ]
    },
    {
     "data": {
      "text/plain": [
       "\"Didn't really gel when I first attempted this game with my parents on the back of its spiel des Jahre success. Traded away after only a couple of plays.  I have played this again more reason and boosted th rating up to a 7. It is a neat card drafting game, and the potential for a higher player count makes it good for social situations. Will probably try and get a copy to add to my collection again\""
      ]
     },
     "execution_count": 16,
     "metadata": {},
     "output_type": "execute_result"
    }
   ],
   "source": [
    "print(\"example of positive rating:\")\n",
    "train_examples[train_labels.index(1)]"
   ]
  },
  {
   "cell_type": "code",
   "execution_count": 17,
   "metadata": {},
   "outputs": [
    {
     "name": "stdout",
     "output_type": "stream",
     "text": [
      "example of negative rating:\n"
     ]
    },
    {
     "data": {
      "text/plain": [
       "\"Started off extremely promising. The combat was fun, the world was fascinating, and then all these underlying problems I had with the game dominoe'd into just not being fun.  Even with house rules, I had no desire to go back.\""
      ]
     },
     "execution_count": 17,
     "metadata": {},
     "output_type": "execute_result"
    }
   ],
   "source": [
    "print(\"example of negative rating:\")\n",
    "train_examples[train_labels.index(0)]"
   ]
  },
  {
   "cell_type": "markdown",
   "metadata": {},
   "source": [
    "## COMPOSE MODEL"
   ]
  },
  {
   "cell_type": "code",
   "execution_count": 18,
   "metadata": {},
   "outputs": [],
   "source": [
    "hub_layer = hub.KerasLayer(MODEL_NAME, input_shape=[], dtype=tf.string, trainable=True)"
   ]
  },
  {
   "cell_type": "markdown",
   "metadata": {},
   "source": [
    "## CLASSIFIER"
   ]
  },
  {
   "cell_type": "code",
   "execution_count": 19,
   "metadata": {},
   "outputs": [
    {
     "name": "stdout",
     "output_type": "stream",
     "text": [
      "Epoch 1/100\n",
      "47/47 - 4s - loss: 0.5711 - accuracy: 0.7795 - val_loss: 0.4912 - val_accuracy: 0.8503\n",
      "Epoch 2/100\n",
      "47/47 - 3s - loss: 0.4373 - accuracy: 0.8525 - val_loss: 0.3954 - val_accuracy: 0.8522\n",
      "Epoch 3/100\n",
      "47/47 - 3s - loss: 0.3542 - accuracy: 0.8600 - val_loss: 0.3453 - val_accuracy: 0.8659\n",
      "Epoch 4/100\n",
      "47/47 - 3s - loss: 0.3054 - accuracy: 0.8806 - val_loss: 0.3248 - val_accuracy: 0.8739\n",
      "Epoch 5/100\n",
      "47/47 - 3s - loss: 0.2734 - accuracy: 0.8934 - val_loss: 0.3176 - val_accuracy: 0.8768\n",
      "Epoch 6/100\n",
      "47/47 - 3s - loss: 0.2485 - accuracy: 0.9035 - val_loss: 0.3190 - val_accuracy: 0.8767\n",
      "Epoch 7/100\n",
      "47/47 - 3s - loss: 0.2275 - accuracy: 0.9124 - val_loss: 0.3224 - val_accuracy: 0.8763\n",
      "Epoch 8/100\n",
      "47/47 - 3s - loss: 0.2095 - accuracy: 0.9195 - val_loss: 0.3318 - val_accuracy: 0.8730\n",
      "Epoch 9/100\n",
      "47/47 - 2s - loss: 0.1937 - accuracy: 0.9271 - val_loss: 0.3434 - val_accuracy: 0.8678\n",
      "Epoch 10/100\n",
      "47/47 - 2s - loss: 0.1807 - accuracy: 0.9326 - val_loss: 0.3559 - val_accuracy: 0.8634\n",
      "32/32 - 0s - loss: 0.3532 - accuracy: 0.8661\n",
      "Epoch 1/100\n",
      "47/47 - 3s - loss: 0.5257 - accuracy: 0.8378 - val_loss: 0.4632 - val_accuracy: 0.8512\n",
      "Epoch 2/100\n",
      "47/47 - 3s - loss: 0.4077 - accuracy: 0.8564 - val_loss: 0.3712 - val_accuracy: 0.8604\n",
      "Epoch 3/100\n",
      "47/47 - 2s - loss: 0.3295 - accuracy: 0.8731 - val_loss: 0.3325 - val_accuracy: 0.8718\n",
      "Epoch 4/100\n",
      "47/47 - 2s - loss: 0.2863 - accuracy: 0.8878 - val_loss: 0.3175 - val_accuracy: 0.8763\n",
      "Epoch 5/100\n",
      "47/47 - 3s - loss: 0.2567 - accuracy: 0.9001 - val_loss: 0.3138 - val_accuracy: 0.8784\n",
      "Epoch 6/100\n",
      "47/47 - 3s - loss: 0.2331 - accuracy: 0.9092 - val_loss: 0.3155 - val_accuracy: 0.8747\n",
      "Epoch 7/100\n",
      "47/47 - 3s - loss: 0.2132 - accuracy: 0.9179 - val_loss: 0.3247 - val_accuracy: 0.8750\n",
      "Epoch 8/100\n",
      "47/47 - 3s - loss: 0.1959 - accuracy: 0.9254 - val_loss: 0.3340 - val_accuracy: 0.8700\n",
      "Epoch 9/100\n",
      "47/47 - 3s - loss: 0.1807 - accuracy: 0.9316 - val_loss: 0.3475 - val_accuracy: 0.8671\n",
      "Epoch 10/100\n",
      "47/47 - 3s - loss: 0.1680 - accuracy: 0.9377 - val_loss: 0.3626 - val_accuracy: 0.8632\n",
      "32/32 - 0s - loss: 0.3710 - accuracy: 0.8633\n",
      "Epoch 1/100\n",
      "47/47 - 3s - loss: 0.5472 - accuracy: 0.8160 - val_loss: 0.4804 - val_accuracy: 0.8489\n",
      "Epoch 2/100\n",
      "47/47 - 3s - loss: 0.4283 - accuracy: 0.8511 - val_loss: 0.3892 - val_accuracy: 0.8542\n",
      "Epoch 3/100\n",
      "47/47 - 3s - loss: 0.3432 - accuracy: 0.8675 - val_loss: 0.3397 - val_accuracy: 0.8702\n",
      "Epoch 4/100\n",
      "47/47 - 3s - loss: 0.2923 - accuracy: 0.8854 - val_loss: 0.3230 - val_accuracy: 0.8769\n",
      "Epoch 5/100\n",
      "47/47 - 2s - loss: 0.2604 - accuracy: 0.8973 - val_loss: 0.3199 - val_accuracy: 0.8788\n",
      "Epoch 6/100\n",
      "47/47 - 3s - loss: 0.2359 - accuracy: 0.9084 - val_loss: 0.3221 - val_accuracy: 0.8760\n",
      "Epoch 7/100\n",
      "47/47 - 2s - loss: 0.2158 - accuracy: 0.9175 - val_loss: 0.3293 - val_accuracy: 0.8736\n",
      "Epoch 8/100\n",
      "47/47 - 3s - loss: 0.1982 - accuracy: 0.9248 - val_loss: 0.3399 - val_accuracy: 0.8707\n",
      "Epoch 9/100\n",
      "47/47 - 3s - loss: 0.1838 - accuracy: 0.9318 - val_loss: 0.3540 - val_accuracy: 0.8689\n",
      "Epoch 10/100\n",
      "47/47 - 3s - loss: 0.1708 - accuracy: 0.9373 - val_loss: 0.3681 - val_accuracy: 0.8626\n",
      "32/32 - 0s - loss: 0.3643 - accuracy: 0.8627\n",
      "Epoch 1/100\n",
      "71/71 - 5s - loss: 0.5283 - accuracy: 0.7964 - val_loss: 0.4351 - val_accuracy: 0.8518\n",
      "Epoch 2/100\n",
      "71/71 - 4s - loss: 0.3755 - accuracy: 0.8607 - val_loss: 0.3430 - val_accuracy: 0.8682\n",
      "Epoch 3/100\n",
      "71/71 - 4s - loss: 0.3053 - accuracy: 0.8811 - val_loss: 0.3185 - val_accuracy: 0.8774\n",
      "Epoch 4/100\n",
      "71/71 - 4s - loss: 0.2698 - accuracy: 0.8942 - val_loss: 0.3112 - val_accuracy: 0.8789\n",
      "Epoch 5/100\n",
      "71/71 - 4s - loss: 0.2455 - accuracy: 0.9037 - val_loss: 0.3128 - val_accuracy: 0.8789\n",
      "Epoch 6/100\n",
      "71/71 - 4s - loss: 0.2265 - accuracy: 0.9125 - val_loss: 0.3199 - val_accuracy: 0.8769\n",
      "Epoch 7/100\n",
      "71/71 - 4s - loss: 0.2108 - accuracy: 0.9185 - val_loss: 0.3322 - val_accuracy: 0.8750\n",
      "Epoch 8/100\n",
      "71/71 - 4s - loss: 0.1980 - accuracy: 0.9246 - val_loss: 0.3413 - val_accuracy: 0.8687\n",
      "Epoch 9/100\n",
      "71/71 - 4s - loss: 0.1871 - accuracy: 0.9291 - val_loss: 0.3543 - val_accuracy: 0.8674\n"
     ]
    },
    {
     "data": {
      "text/plain": [
       "GridSearchCV(cv=3,\n",
       "             estimator=<tensorflow.python.keras.wrappers.scikit_learn.KerasClassifier object at 0x0000024992FD2EE0>,\n",
       "             param_grid={})"
      ]
     },
     "execution_count": 19,
     "metadata": {},
     "output_type": "execute_result"
    }
   ],
   "source": [
    "def build_classifier():\n",
    "    return build_model(hub_layer=None, pre_trained_model_name=MODEL_NAME, model_type='classifier', verbose=0)\n",
    "\n",
    "\n",
    "estimator = KerasClassifier(build_fn=build_classifier, epochs=100, batch_size=1024, verbose=2, validation_split=VAL_FRACTION)\n",
    "x_train_clf = np.array(list(rated_comments.value))\n",
    "y_train_clf = np.array(list((rated_comments.rating.astype(float)>=GOOD_REVIEW_THRESHOLD).astype(int)))\n",
    "\n",
    "clf = GridSearchCV(\n",
    "    estimator, \n",
    "    cv=3, \n",
    "    param_grid={}\n",
    ")\n",
    "clf.fit(x_train_clf, y_train_clf, callbacks=[tf.keras.callbacks.EarlyStopping(monitor='val_accuracy', patience=5, min_delta=0.001)])"
   ]
  },
  {
   "cell_type": "code",
   "execution_count": 20,
   "metadata": {},
   "outputs": [],
   "source": [
    "classifier = clf.best_estimator_\n",
    "classifier_history_dict = classifier.model.history.history"
   ]
  },
  {
   "cell_type": "code",
   "execution_count": 21,
   "metadata": {},
   "outputs": [
    {
     "data": {
      "text/plain": [
       "dict_keys(['loss', 'accuracy', 'val_loss', 'val_accuracy'])"
      ]
     },
     "execution_count": 21,
     "metadata": {},
     "output_type": "execute_result"
    }
   ],
   "source": [
    "classifier_history_dict.keys()"
   ]
  },
  {
   "cell_type": "code",
   "execution_count": 22,
   "metadata": {},
   "outputs": [],
   "source": [
    "acc = classifier_history_dict['accuracy']\n",
    "val_acc = classifier_history_dict['val_accuracy']\n",
    "loss = classifier_history_dict['loss']\n",
    "val_loss = classifier_history_dict['val_loss']"
   ]
  },
  {
   "cell_type": "code",
   "execution_count": 23,
   "metadata": {},
   "outputs": [],
   "source": [
    "epochs = range(1, len(acc) + 1) "
   ]
  },
  {
   "cell_type": "code",
   "execution_count": 24,
   "metadata": {},
   "outputs": [
    {
     "data": {
      "image/png": "[encoded data removed]",
      "text/plain": [
       "<Figure size 648x360 with 1 Axes>"
      ]
     },
     "metadata": {
      "needs_background": "light"
     },
     "output_type": "display_data"
    }
   ],
   "source": [
    "# \"bo\" is for \"blue dot\"\n",
    "plt.figure(figsize=(9, 5))\n",
    "plt.plot(epochs, loss, 'bo', label='Training loss')\n",
    "# b is for \"solid blue line\"\n",
    "plt.plot(epochs, val_loss, 'b', label='Validation loss')\n",
    "plt.title('Training and validation loss')\n",
    "plt.xlabel('Epochs')\n",
    "plt.ylabel('Loss')\n",
    "plt.grid(True)\n",
    "plt.legend()\n",
    "\n",
    "plt.show()"
   ]
  },
  {
   "cell_type": "code",
   "execution_count": 25,
   "metadata": {},
   "outputs": [
    {
     "data": {
      "image/png": "[encoded data removed]",
      "text/plain": [
       "<Figure size 648x360 with 1 Axes>"
      ]
     },
     "metadata": {
      "needs_background": "light"
     },
     "output_type": "display_data"
    }
   ],
   "source": [
    "plt.figure(figsize=(9, 5))\n",
    "plt.plot(epochs, acc, 'bo', label='Training acc')\n",
    "plt.plot(epochs, val_acc, 'b', label='Validation acc')\n",
    "plt.title('Training and validation accuracy')\n",
    "plt.xlabel('Epochs')\n",
    "plt.ylabel('Accuracy')\n",
    "plt.grid(True)\n",
    "plt.legend()\n",
    "\n",
    "plt.show()"
   ]
  },
  {
   "cell_type": "code",
   "execution_count": 26,
   "metadata": {},
   "outputs": [
    {
     "name": "stdout",
     "output_type": "stream",
     "text": [
      "input:\n",
      "\"Didn't really gel when I first attempted this game with my parents on the back of its spiel des Jahre success. Traded away after only a couple of plays.  I have played this again more reason and boosted th rating up to a 7. It is a neat card drafting game, and the potential for a higher player count makes it good for social situations. Will probably try and get a copy to add to my collection again\"\n",
      "score: 1.000000\n",
      "actual: 1\n",
      "\n",
      "input:\n",
      "\"57 x 87 25 Cards 65 x 100 123 Cards \"\n",
      "score: 1.000000\n",
      "actual: 1\n",
      "\n",
      "input:\n",
      "\"Brass Birmingham is a meaty, thinky euro game that never ceases to impress. It is also one of the few games that feature both negative and positive interaction between players - or rather a form of cooperation in the business end of the game.  The rules aren't overtly difficult or convoluted, but you might want to hold off inviting your casual gamer friends to the table - at least until you can play the game well enough yourself. The core gameplay is pretty basic - two moves per turn, each move requires a card from your hand of eight. Location cards allow you to expand your network into new areas and industry cards  allow you to create new buildings in cities you already added to your network... and that's about it!  But then comes the meaty part. There are a few things you can do with your industries - expand them, upgrade them, use the supplies they provide or simply sell those to the open market. Other players can take your supplies as well, which is not necessarily a bad thing, since the game allows you to profit from that.   Oh, and did I mention that the cities and industries are connected by canals or railways that all the players create TOGETHER? So each time you build a new connection between cities all other players can use it - free of charge - or expand it to suit their needs?  This and a few other mechanisms (such as beer being a high-demand supply) make this game an absolute joy to play. There are, however, some very minor rules and explanations that need to be memorized in order to enjoy the game and play it in its full potential.  Brass Birmingham is a great game to have on your shelf, and it's different enough from other euro games that it is unlikely to push any of them off your shelf. It's beautifully drawn and illustrated, the colors are contrasty but somewhat muted, with a palette that just screams \"industrial age\". A must have for every economic-game enthusiast out there and an absolute blast once you know its nooks and crannies.\"\n",
      "score: 1.000000\n",
      "actual: 1\n",
      "\n",
      "input:\n",
      "\"Started off extremely promising. The combat was fun, the world was fascinating, and then all these underlying problems I had with the game dominoe'd into just not being fun.  Even with house rules, I had no desire to go back.\"\n",
      "score: 0.000000\n",
      "actual: 0\n",
      "\n",
      "input:\n",
      "\"Well done game by an amazing publisher.  Does fall into the card game vs AI issue.  By the time you get your decks upgraded you breeze through and hope you have some hard lemonade to pass the time.\"\n",
      "score: 1.000000\n",
      "actual: 1\n",
      "\n",
      "input:\n",
      "\"quick to play, setup and play again\"\n",
      "score: 1.000000\n",
      "actual: 0\n",
      "\n",
      "input:\n",
      "\"New in shrink\"\n",
      "score: 1.000000\n",
      "actual: 1\n",
      "\n",
      "input:\n",
      "\"A very cool game with an interesting backstory. Love the design, love how it plays. Definite recommend!\"\n",
      "score: 1.000000\n",
      "actual: 1\n",
      "\n",
      "input:\n",
      "\"After 3 plays, my group still has not quite figured it out but I want to come back for more.  It is a bit long for some in my group.\"\n",
      "score: 1.000000\n",
      "actual: 1\n",
      "\n",
      "input:\n",
      "\"This is not a bad game and I understand why people love it. But IMO it is a typical euro like so many others. A bit to dry for my taste.\"\n",
      "score: 0.000000\n",
      "actual: 0\n"
     ]
    },
    {
     "name": "stderr",
     "output_type": "stream",
     "text": [
      "C:\\Users\\dev999\\.conda\\envs\\tensorflow2\\lib\\site-packages\\tensorflow\\python\\keras\\engine\\sequential.py:455: UserWarning: `model.predict_classes()` is deprecated and will be removed after 2021-01-01. Please use instead:* `np.argmax(model.predict(x), axis=-1)`,   if your model does multi-class classification   (e.g. if it uses a `softmax` last-layer activation).* `(model.predict(x) > 0.5).astype(\"int32\")`,   if your model does binary classification   (e.g. if it uses a `sigmoid` last-layer activation).\n",
      "  warnings.warn('`model.predict_classes()` is deprecated and '\n"
     ]
    }
   ],
   "source": [
    "inputs = x_train_clf[:10]\n",
    "outputs = y_train_clf[:10]\n",
    "results = classifier.predict(tf.constant(inputs), verbose=0)\n",
    "print_my_examples(inputs, results, outputs)"
   ]
  },
  {
   "cell_type": "code",
   "execution_count": 27,
   "metadata": {},
   "outputs": [],
   "source": [
    "## APPLY MODEL ON NON-RATED COMMENTS"
   ]
  },
  {
   "cell_type": "code",
   "execution_count": 28,
   "metadata": {},
   "outputs": [
    {
     "name": "stdout",
     "output_type": "stream",
     "text": [
      "8/8 - 0s\n",
      "input:\n",
      "\"Want 3rd edition plus expansions & goodies (incl. Kickstarter bonuses)\"\n",
      "score: 1.000000\n",
      "\n",
      "input:\n",
      "\"This is an awesome two-player game with a lot of replayability.  It's better balanced than the multi-player 7 Wonders.\"\n",
      "score: 1.000000\n",
      "\n",
      "input:\n",
      "\"Pro: - Campaign/Story Driven (15+ scenarios) - Cooperative or Solo - Card based + Artwork is great - Miniatures - Deck building/customization - Modular, Exploration sorta like 7th Continent  Want to play priority:  - 5 out of 5\"\n",
      "score: 1.000000\n",
      "\n",
      "input:\n",
      "\"Seems like sth I would enjoy as hell but given my experience in GoT and FS this one would hit the table once in millennium. Will gladly try it but won't buy it.\"\n",
      "score: 1.000000\n",
      "\n",
      "input:\n",
      "\"2-player will be \"quite confrontational\"\"\n",
      "score: 1.000000\n",
      "\n",
      "input:\n",
      "\"1-5 players (4), Competitive ~90-115 mins ~24k HUF + expansions Complexity: 3.39\"\n",
      "score: 1.000000\n",
      "\n",
      "input:\n",
      "\"Great! Love This unique game and strategy.\"\n",
      "score: 1.000000\n",
      "\n",
      "input:\n",
      "\"To be played in ~4 people to really enjoy it.\"\n",
      "score: 1.000000\n",
      "\n",
      "input:\n",
      "\"Condition:    NIS (New In Shrink) Acquisition:  8/28/2020 Source:       GameNerdz MSRP:         $59.99 Paid Price:   $34.99  + Custom Box Insert\"\n",
      "score: 1.000000\n",
      "\n",
      "input:\n",
      "\"Won from Of Dice and Men Contest\"\n",
      "score: 1.000000\n"
     ]
    }
   ],
   "source": [
    "not_rated_comments = not_rated_comments.sample(frac=1)\n",
    "results = classifier.predict(tf.constant(list(not_rated_comments.value.astype(str))))\n",
    "print_my_examples(list(not_rated_comments.value), results, limit=10)"
   ]
  },
  {
   "cell_type": "markdown",
   "metadata": {},
   "source": [
    "## REGRESSOR"
   ]
  },
  {
   "cell_type": "code",
   "execution_count": 29,
   "metadata": {},
   "outputs": [
    {
     "data": {
      "text/plain": [
       "GridSearchCV(cv=3,\n",
       "             estimator=<tensorflow.python.keras.wrappers.scikit_learn.KerasRegressor object at 0x00000249A8D57F70>,\n",
       "             param_grid={})"
      ]
     },
     "execution_count": 29,
     "metadata": {},
     "output_type": "execute_result"
    }
   ],
   "source": [
    "def build_regressor():\n",
    "    return build_model(hub_layer, pre_trained_model_name=MODEL_NAME, model_type='regressor', verbose=0)\n",
    "\n",
    "\n",
    "estimator = KerasRegressor(build_fn=build_regressor, epochs=100, batch_size=512, verbose=0, validation_split=VAL_FRACTION)\n",
    "x_train_reg = np.array(list(rated_comments.value))\n",
    "y_train_reg = np.array(list(rated_comments.rating.astype(float)))\n",
    "\n",
    "clf = GridSearchCV(\n",
    "    estimator, \n",
    "    cv=3, \n",
    "    param_grid={}\n",
    ")\n",
    "clf.fit(x_train_reg, y_train_reg, callbacks=[tf.keras.callbacks.EarlyStopping(monitor='val_mean_squared_error', patience=5, min_delta=0.001)])"
   ]
  },
  {
   "cell_type": "code",
   "execution_count": 30,
   "metadata": {},
   "outputs": [],
   "source": [
    "regressor = clf.best_estimator_\n",
    "regressor_history_dict = regressor.model.history.history"
   ]
  },
  {
   "cell_type": "code",
   "execution_count": 31,
   "metadata": {},
   "outputs": [
    {
     "data": {
      "text/plain": [
       "dict_keys(['loss', 'mean_squared_error', 'val_loss', 'val_mean_squared_error'])"
      ]
     },
     "execution_count": 31,
     "metadata": {},
     "output_type": "execute_result"
    }
   ],
   "source": [
    "regressor_history_dict.keys()"
   ]
  },
  {
   "cell_type": "code",
   "execution_count": 32,
   "metadata": {},
   "outputs": [],
   "source": [
    "mean_squared_error = regressor_history_dict['mean_squared_error']\n",
    "val_mean_squared_error = regressor_history_dict['val_mean_squared_error']\n",
    "loss = regressor_history_dict['loss']\n",
    "val_loss = regressor_history_dict['val_loss']"
   ]
  },
  {
   "cell_type": "code",
   "execution_count": 33,
   "metadata": {},
   "outputs": [],
   "source": [
    "epochs = range(1, len(mean_squared_error) + 1) "
   ]
  },
  {
   "cell_type": "code",
   "execution_count": 34,
   "metadata": {},
   "outputs": [
    {
     "name": "stdout",
     "output_type": "stream",
     "text": [
      "MEAN SQUARED ERROR (VALIDATION SET): 2.36\n"
     ]
    }
   ],
   "source": [
    "print(f\"MEAN SQUARED ERROR (VALIDATION SET): {val_mean_squared_error[-1]:.2f}\")"
   ]
  },
  {
   "cell_type": "code",
   "execution_count": 35,
   "metadata": {},
   "outputs": [
    {
     "name": "stdout",
     "output_type": "stream",
     "text": [
      "MEAN SQUARED ERROR (TRAINING SET): 1.10\n"
     ]
    }
   ],
   "source": [
    "print(f\"MEAN SQUARED ERROR (TRAINING SET): {mean_squared_error[-1]:.2f}\")"
   ]
  },
  {
   "cell_type": "code",
   "execution_count": 36,
   "metadata": {},
   "outputs": [
    {
     "data": {
      "image/png": "[encoded data removed]",
      "text/plain": [
       "<Figure size 648x360 with 1 Axes>"
      ]
     },
     "metadata": {
      "needs_background": "light"
     },
     "output_type": "display_data"
    }
   ],
   "source": [
    "# \"bo\" is for \"blue dot\"\n",
    "plt.figure(figsize=(9, 5))\n",
    "plt.plot(epochs, loss, 'bo', label='Training loss')\n",
    "# b is for \"solid blue line\"\n",
    "plt.plot(epochs, val_loss, 'b', label='Validation loss')\n",
    "plt.title('Training and validation loss')\n",
    "plt.xlabel('Epochs')\n",
    "plt.ylabel('Loss')\n",
    "plt.grid(True)\n",
    "plt.legend()\n",
    "\n",
    "plt.show()"
   ]
  },
  {
   "cell_type": "code",
   "execution_count": 37,
   "metadata": {},
   "outputs": [
    {
     "data": {
      "image/png": "[encoded data removed]",
      "text/plain": [
       "<Figure size 648x360 with 1 Axes>"
      ]
     },
     "metadata": {
      "needs_background": "light"
     },
     "output_type": "display_data"
    }
   ],
   "source": [
    "plt.figure(figsize=(9, 5))\n",
    "plt.plot(epochs, mean_squared_error, 'bo', label='Training mean squared error')\n",
    "plt.plot(epochs, val_mean_squared_error, 'b', label='Validation mean squared error')\n",
    "plt.title('Training and validation accuracy')\n",
    "plt.xlabel('Epochs')\n",
    "plt.ylabel('Mean squared error')\n",
    "plt.grid(True)\n",
    "plt.legend()\n",
    "\n",
    "plt.show()"
   ]
  },
  {
   "cell_type": "code",
   "execution_count": 38,
   "metadata": {},
   "outputs": [
    {
     "name": "stdout",
     "output_type": "stream",
     "text": [
      "input: \n",
      "\"Didn't really gel when I first attempted this game with my parents on the back of its spiel des Jahre success. Traded away after only a couple of plays.  I have played this again more reason and boosted th rating up to a 7. It is a neat card drafting game, and the potential for a higher player count makes it good for social situations. Will probably try and get a copy to add to my collection again\"\n",
      "score: 7.10\n",
      "actual: 7.50 \n",
      "\n",
      "input: \n",
      "\"57 x 87 25 Cards 65 x 100 123 Cards \"\n",
      "score: 8.26\n",
      "actual: 7.00 \n",
      "\n",
      "input: \n",
      "\"Brass Birmingham is a meaty, thinky euro game that never ceases to impress. It is also one of the few games that feature both negative and positive interaction between players - or rather a form of cooperation in the business end of the game.  The rules aren't overtly difficult or convoluted, but you might want to hold off inviting your casual gamer friends to the table - at least until you can play the game well enough yourself. The core gameplay is pretty basic - two moves per turn, each move requires a card from your hand of eight. Location cards allow you to expand your network into new areas and industry cards  allow you to create new buildings in cities you already added to your network... and that's about it!  But then comes the meaty part. There are a few things you can do with your industries - expand them, upgrade them, use the supplies they provide or simply sell those to the open market. Other players can take your supplies as well, which is not necessarily a bad thing, since the game allows you to profit from that.   Oh, and did I mention that the cities and industries are connected by canals or railways that all the players create TOGETHER? So each time you build a new connection between cities all other players can use it - free of charge - or expand it to suit their needs?  This and a few other mechanisms (such as beer being a high-demand supply) make this game an absolute joy to play. There are, however, some very minor rules and explanations that need to be memorized in order to enjoy the game and play it in its full potential.  Brass Birmingham is a great game to have on your shelf, and it's different enough from other euro games that it is unlikely to push any of them off your shelf. It's beautifully drawn and illustrated, the colors are contrasty but somewhat muted, with a palette that just screams \"industrial age\". A must have for every economic-game enthusiast out there and an absolute blast once you know its nooks and crannies.\"\n",
      "score: 8.64\n",
      "actual: 8.50 \n",
      "\n",
      "input: \n",
      "\"Started off extremely promising. The combat was fun, the world was fascinating, and then all these underlying problems I had with the game dominoe'd into just not being fun.  Even with house rules, I had no desire to go back.\"\n",
      "score: 5.25\n",
      "actual: 4.00 \n",
      "\n",
      "input: \n",
      "\"Well done game by an amazing publisher.  Does fall into the card game vs AI issue.  By the time you get your decks upgraded you breeze through and hope you have some hard lemonade to pass the time.\"\n",
      "score: 8.20\n",
      "actual: 8.00 \n",
      "\n",
      "input: \n",
      "\"quick to play, setup and play again\"\n",
      "score: 7.56\n",
      "actual: 6.00 \n",
      "\n",
      "input: \n",
      "\"New in shrink\"\n",
      "score: 8.18\n",
      "actual: 9.00 \n",
      "\n",
      "input: \n",
      "\"A very cool game with an interesting backstory. Love the design, love how it plays. Definite recommend!\"\n",
      "score: 9.71\n",
      "actual: 10.00 \n",
      "\n",
      "input: \n",
      "\"After 3 plays, my group still has not quite figured it out but I want to come back for more.  It is a bit long for some in my group.\"\n",
      "score: 7.49\n",
      "actual: 9.60 \n",
      "\n",
      "input: \n",
      "\"This is not a bad game and I understand why people love it. But IMO it is a typical euro like so many others. A bit to dry for my taste.\"\n",
      "score: 6.59\n",
      "actual: 6.00 \n",
      "\n"
     ]
    }
   ],
   "source": [
    "inputs = x_train_reg[:10]\n",
    "outputs = y_train_reg[:10]\n",
    "results = clf.best_estimator_.predict(tf.constant(inputs), verbose=0)\n",
    "for i in range(len(inputs)):\n",
    "    print(f\"input: \\n\\\"{inputs[i]}\\\"\\nscore: {results[i]:.2f}\\nactual: {outputs[i]:.2f} \\n\")"
   ]
  },
  {
   "cell_type": "markdown",
   "metadata": {},
   "source": [
    "## COMPARE CLASSIFIER VS REGRESSOR"
   ]
  },
  {
   "cell_type": "code",
   "execution_count": 39,
   "metadata": {},
   "outputs": [
    {
     "name": "stdout",
     "output_type": "stream",
     "text": [
      "\"Backed second run Kickstarter.  Preorder - Main Game - Solo Scenarios - Standees\"\n",
      "    reg score: 8.72\n",
      "    clf score: 1\n",
      "\n",
      "\"Run away leader, Luck, and denial strategy issue.\"\n",
      "    reg score: 6.01\n",
      "    clf score: 1\n",
      "\n",
      "\"Uh, we're going to need a bigger boat...\"\n",
      "    reg score: 7.03\n",
      "    clf score: 0\n",
      "\n",
      "\"I was having great expectations from this title, but it fell short on implementation.  I felt bored halfway through the first game, like my decisions didn't matter as much as luck from the draw.\"\n",
      "    reg score: 5.78\n",
      "    clf score: 0\n",
      "\n",
      "\"Captain America Ms. Marvel Green Goblin  \"\n",
      "    reg score: 6.28\n",
      "    clf score: 1\n",
      "\n",
      "\"It's beautiful, it's thematic, the rules all make sense so it's dead-easy to explain and teach. But the game itself lacks the tension it would take to make it a standout game for us. It's a fun game, but I'd describe it as a light game wrapped in mid-weight processes.\"\n",
      "    reg score: 7.68\n",
      "    clf score: 1\n",
      "\n",
      "\"big box all promos and expansions except Rise\"\n",
      "    reg score: 9.32\n",
      "    clf score: 1\n",
      "\n",
      "\"Just wasn't enticing enough, gameplay wise. Otherwise, great game.\"\n",
      "    reg score: 9.73\n",
      "    clf score: 1\n",
      "\n",
      "\"Bought at the 999 Games outlet sale (2017)\"\n",
      "    reg score: 8.83\n",
      "    clf score: 1\n",
      "\n",
      "\"Premium sloyca 56x87, część celów w rebel premium 56x87 (dobre ale o mm mniejsze niż sloyca)\"\n",
      "    reg score: 5.07\n",
      "    clf score: 1\n",
      "\n"
     ]
    },
    {
     "name": "stderr",
     "output_type": "stream",
     "text": [
      "C:\\Users\\dev999\\.conda\\envs\\tensorflow2\\lib\\site-packages\\tensorflow\\python\\keras\\engine\\sequential.py:455: UserWarning: `model.predict_classes()` is deprecated and will be removed after 2021-01-01. Please use instead:* `np.argmax(model.predict(x), axis=-1)`,   if your model does multi-class classification   (e.g. if it uses a `softmax` last-layer activation).* `(model.predict(x) > 0.5).astype(\"int32\")`,   if your model does binary classification   (e.g. if it uses a `sigmoid` last-layer activation).\n",
      "  warnings.warn('`model.predict_classes()` is deprecated and '\n"
     ]
    }
   ],
   "source": [
    "not_rated_comments = not_rated_comments.sample(frac=1)\n",
    "inputs = list(not_rated_comments.value.astype(str))[:10]\n",
    "\n",
    "clf_results = classifier.predict(inputs, verbose=0)\n",
    "reg_results = regressor.predict(inputs, verbose=0)\n",
    "for i in range(len(inputs)):\n",
    "    print(f\"\"\"\\\"{inputs[i]}\\\"\n",
    "    reg score: {reg_results[i]:.2f}\n",
    "    clf score: {clf_results[i][0]}\n",
    "\"\"\")"
   ]
  },
  {
   "cell_type": "markdown",
   "metadata": {},
   "source": [
    "### RESULTS\n",
    "It seems that the regressor is much more accurate compared to the binary classifier => **let's use the regressors results to fix the BGG rating**"
   ]
  },
  {
   "cell_type": "markdown",
   "metadata": {},
   "source": [
    "## COMBINE RATED COMMENTS AND NOT-RATED COMMENTS WITH PREDICTED RATING"
   ]
  },
  {
   "cell_type": "code",
   "execution_count": 40,
   "metadata": {},
   "outputs": [
    {
     "name": "stdout",
     "output_type": "stream",
     "text": [
      "rated_comments_grouped: \n",
      "|     id |   rating_mean |   rating_count |\n",
      "|--------|---------------|----------------|\n",
      "| 120677 |          8.02 |           4869 |\n",
      "| 124361 |          8.19 |           3856 |\n",
      "| 162886 |          8.36 |           3534 |\n",
      "| 167355 |          8.42 |           1826 |\n",
      "| 167791 |          8.21 |           8269 |\n"
     ]
    }
   ],
   "source": [
    "rated_comments['rating'] = rated_comments.rating.astype(float)\n",
    "rated_comments_grouped = rated_comments.groupby('id').agg({'rating': ['mean', 'count']})\n",
    "rated_comments_grouped.columns = list(rated_comments_grouped.columns.map('_'.join))\n",
    "rated_comments_grouped = rated_comments_grouped.reset_index()\n",
    "print(\"rated_comments_grouped: \")\n",
    "print(rated_comments_grouped.head().to_markdown(index=False, floatfmt='.2f', tablefmt='github'))"
   ]
  },
  {
   "cell_type": "code",
   "execution_count": 41,
   "metadata": {},
   "outputs": [],
   "source": [
    "not_rated_comments['rating'] = regressor.predict(list(not_rated_comments.value.astype(str)))"
   ]
  },
  {
   "cell_type": "code",
   "execution_count": 42,
   "metadata": {},
   "outputs": [
    {
     "name": "stdout",
     "output_type": "stream",
     "text": [
      "not_rated_comments_grouped: \n",
      "|     id |   rating_mean |   rating_count |\n",
      "|--------|---------------|----------------|\n",
      "| 120677 |          7.63 |            308 |\n",
      "| 124361 |          7.94 |            255 |\n",
      "| 162886 |          8.05 |            317 |\n",
      "| 167355 |          8.22 |            215 |\n",
      "| 167791 |          8.19 |            440 |\n"
     ]
    }
   ],
   "source": [
    "not_rated_comments['rating'] = not_rated_comments.rating.astype(float)\n",
    "not_rated_comments['rating'] = not_rated_comments['rating'].clip(0, 10)\n",
    "not_rated_comments_grouped = not_rated_comments.groupby('id').agg({'rating': ['mean', 'count']})\n",
    "not_rated_comments_grouped.columns = list(not_rated_comments_grouped.columns.map('_'.join))\n",
    "not_rated_comments_grouped = not_rated_comments_grouped.reset_index()\n",
    "print(\"not_rated_comments_grouped: \")\n",
    "print(not_rated_comments_grouped.head().to_markdown(index=False, floatfmt='.2f', tablefmt='github'))"
   ]
  },
  {
   "cell_type": "code",
   "execution_count": 43,
   "metadata": {},
   "outputs": [],
   "source": [
    "grouped = rated_comments_grouped.merge(not_rated_comments_grouped, on='id', suffixes=('_review', '_comments'), how='outer')\n",
    "grouped['id'] = grouped.id.astype(str)\n",
    "grouped = grouped.merge(pd.DataFrame(hot_array), on='id', how='right')\n",
    "grouped['rank'] = grouped['rank'].astype(int)\n",
    "grouped['url'] = grouped['id'].apply(lambda x: f\"https://boardgamegeek.com/boardgame/{x}\")\n",
    "grouped['fixed_rating'] = (grouped['rating_mean_review']*grouped['rating_count_review']+grouped['rating_mean_comments']*grouped['rating_count_comments']) /\\\n",
    "                            (grouped['rating_count_review']+grouped['rating_count_comments'])\n",
    "grouped['thumbnail'] = grouped['thumbnail'].apply(lambda x: f'<img src=\"{x}\" width=\"124\" />')\n",
    "grouped['name'] = grouped.apply(lambda x: f'<a href=\"{x[\"url\"]}\">{x[\"name\"]}</a>', axis=1)\n",
    "\n",
    "grouped = grouped[['thumbnail', 'name', 'rating_mean_review', 'rating_mean_comments', 'fixed_rating', 'rank', 'yearpublished']]"
   ]
  },
  {
   "cell_type": "code",
   "execution_count": 44,
   "metadata": {},
   "outputs": [
    {
     "data": {
      "text/html": [
       "<div>\n",
       "<style scoped>\n",
       "    .dataframe tbody tr th:only-of-type {\n",
       "        vertical-align: middle;\n",
       "    }\n",
       "\n",
       "    .dataframe tbody tr th {\n",
       "        vertical-align: top;\n",
       "    }\n",
       "\n",
       "    .dataframe thead th {\n",
       "        text-align: right;\n",
       "    }\n",
       "</style>\n",
       "<table border=\"1\" class=\"dataframe\">\n",
       "  <thead>\n",
       "    <tr style=\"text-align: right;\">\n",
       "      <th></th>\n",
       "      <th>thumbnail</th>\n",
       "      <th>name</th>\n",
       "      <th>rating_mean_review</th>\n",
       "      <th>rating_mean_comments</th>\n",
       "      <th>fixed_rating</th>\n",
       "      <th>rank</th>\n",
       "      <th>yearpublished</th>\n",
       "    </tr>\n",
       "  </thead>\n",
       "  <tbody>\n",
       "    <tr>\n",
       "      <th>0</th>\n",
       "      <td>&lt;img src=\"https://cf.geekdo-images.com/tQVVSXc...</td>\n",
       "      <td>&lt;a href=\"https://boardgamegeek.com/boardgame/3...</td>\n",
       "      <td>6.172581</td>\n",
       "      <td>8.644929</td>\n",
       "      <td>7.251424</td>\n",
       "      <td>1</td>\n",
       "      <td>2022</td>\n",
       "    </tr>\n",
       "    <tr>\n",
       "      <th>1</th>\n",
       "      <td>&lt;img src=\"https://cf.geekdo-images.com/OodUXfX...</td>\n",
       "      <td>&lt;a href=\"https://boardgamegeek.com/boardgame/2...</td>\n",
       "      <td>7.500000</td>\n",
       "      <td>8.233315</td>\n",
       "      <td>8.023797</td>\n",
       "      <td>2</td>\n",
       "      <td>NaN</td>\n",
       "    </tr>\n",
       "    <tr>\n",
       "      <th>2</th>\n",
       "      <td>&lt;img src=\"https://cf.geekdo-images.com/6GqH14T...</td>\n",
       "      <td>&lt;a href=\"https://boardgamegeek.com/boardgame/3...</td>\n",
       "      <td>7.808941</td>\n",
       "      <td>7.761214</td>\n",
       "      <td>7.805091</td>\n",
       "      <td>3</td>\n",
       "      <td>2020</td>\n",
       "    </tr>\n",
       "    <tr>\n",
       "      <th>3</th>\n",
       "      <td>&lt;img src=\"https://cf.geekdo-images.com/gTxav_K...</td>\n",
       "      <td>&lt;a href=\"https://boardgamegeek.com/boardgame/2...</td>\n",
       "      <td>7.818429</td>\n",
       "      <td>8.207936</td>\n",
       "      <td>7.955477</td>\n",
       "      <td>4</td>\n",
       "      <td>2021</td>\n",
       "    </tr>\n",
       "    <tr>\n",
       "      <th>4</th>\n",
       "      <td>&lt;img src=\"https://cf.geekdo-images.com/PhjygpW...</td>\n",
       "      <td>&lt;a href=\"https://boardgamegeek.com/boardgame/3...</td>\n",
       "      <td>8.096540</td>\n",
       "      <td>7.813831</td>\n",
       "      <td>8.069239</td>\n",
       "      <td>5</td>\n",
       "      <td>2020</td>\n",
       "    </tr>\n",
       "  </tbody>\n",
       "</table>\n",
       "</div>"
      ],
      "text/plain": [
       "                                           thumbnail  \\\n",
       "0  <img src=\"https://cf.geekdo-images.com/tQVVSXc...   \n",
       "1  <img src=\"https://cf.geekdo-images.com/OodUXfX...   \n",
       "2  <img src=\"https://cf.geekdo-images.com/6GqH14T...   \n",
       "3  <img src=\"https://cf.geekdo-images.com/gTxav_K...   \n",
       "4  <img src=\"https://cf.geekdo-images.com/PhjygpW...   \n",
       "\n",
       "                                                name  rating_mean_review  \\\n",
       "0  <a href=\"https://boardgamegeek.com/boardgame/3...            6.172581   \n",
       "1  <a href=\"https://boardgamegeek.com/boardgame/2...            7.500000   \n",
       "2  <a href=\"https://boardgamegeek.com/boardgame/3...            7.808941   \n",
       "3  <a href=\"https://boardgamegeek.com/boardgame/2...            7.818429   \n",
       "4  <a href=\"https://boardgamegeek.com/boardgame/3...            8.096540   \n",
       "\n",
       "   rating_mean_comments  fixed_rating  rank yearpublished  \n",
       "0              8.644929      7.251424     1          2022  \n",
       "1              8.233315      8.023797     2           NaN  \n",
       "2              7.761214      7.805091     3          2020  \n",
       "3              8.207936      7.955477     4          2021  \n",
       "4              7.813831      8.069239     5          2020  "
      ]
     },
     "execution_count": 44,
     "metadata": {},
     "output_type": "execute_result"
    }
   ],
   "source": [
    "grouped.head()"
   ]
  },
  {
   "cell_type": "code",
   "execution_count": 45,
   "metadata": {},
   "outputs": [],
   "source": [
    "def display_topn(by, n=5, ascending=True):\n",
    "    temp_df = grouped.sort_values(by, ascending=ascending).head(n)\n",
    "    temp_df.index=list(range(1, n+1))\n",
    "    return HTML(temp_df.to_html(escape=False, classes='table table-striped'))"
   ]
  },
  {
   "cell_type": "code",
   "execution_count": 46,
   "metadata": {},
   "outputs": [
    {
     "data": {
      "text/html": [
       "<table border=\"1\" class=\"dataframe table table-striped\">\n",
       "  <thead>\n",
       "    <tr style=\"text-align: right;\">\n",
       "      <th></th>\n",
       "      <th>thumbnail</th>\n",
       "      <th>name</th>\n",
       "      <th>rating_mean_review</th>\n",
       "      <th>rating_mean_comments</th>\n",
       "      <th>fixed_rating</th>\n",
       "      <th>rank</th>\n",
       "      <th>yearpublished</th>\n",
       "    </tr>\n",
       "  </thead>\n",
       "  <tbody>\n",
       "    <tr>\n",
       "      <th>1</th>\n",
       "      <td><img src=\"https://cf.geekdo-images.com/tQVVSXcmYLvAoI28cp-2Tg__thumb/img/ahKWaUSws5zja4feB4VexkNV3Mc=/fit-in/200x150/filters:strip_icc()/pic5974859.jpg\" width=\"124\" /></td>\n",
       "      <td><a href=\"https://boardgamegeek.com/boardgame/331106\">The Witcher: Old World</a></td>\n",
       "      <td>6.172581</td>\n",
       "      <td>8.644929</td>\n",
       "      <td>7.251424</td>\n",
       "      <td>1</td>\n",
       "      <td>2022</td>\n",
       "    </tr>\n",
       "    <tr>\n",
       "      <th>2</th>\n",
       "      <td><img src=\"https://cf.geekdo-images.com/OodUXfXjkiwGsHKRLjsloA__thumb/img/9UMSP_2fjLQzEQRsDPH_brSiVzY=/fit-in/200x150/filters:strip_icc()/pic3630071.jpg\" width=\"124\" /></td>\n",
       "      <td><a href=\"https://boardgamegeek.com/boardgame/219650\">Arydia: The Paths We Dare Tread</a></td>\n",
       "      <td>7.500000</td>\n",
       "      <td>8.233315</td>\n",
       "      <td>8.023797</td>\n",
       "      <td>2</td>\n",
       "      <td>NaN</td>\n",
       "    </tr>\n",
       "    <tr>\n",
       "      <th>3</th>\n",
       "      <td><img src=\"https://cf.geekdo-images.com/6GqH14TJJhza86BX5HCLEQ__thumb/img/J8SVmGOJXZGxNjkT3xYNQU7Haxg=/fit-in/200x150/filters:strip_icc()/pic5674958.jpg\" width=\"124\" /></td>\n",
       "      <td><a href=\"https://boardgamegeek.com/boardgame/312484\">Lost Ruins of Arnak</a></td>\n",
       "      <td>7.808941</td>\n",
       "      <td>7.761214</td>\n",
       "      <td>7.805091</td>\n",
       "      <td>3</td>\n",
       "      <td>2020</td>\n",
       "    </tr>\n",
       "    <tr>\n",
       "      <th>4</th>\n",
       "      <td><img src=\"https://cf.geekdo-images.com/gTxav_KKQK1rDg-XuCjCSA__thumb/img/tFTOAKG5aDXxYfNRmJNmfyxH83M=/fit-in/200x150/filters:strip_icc()/pic5164812.jpg\" width=\"124\" /></td>\n",
       "      <td><a href=\"https://boardgamegeek.com/boardgame/291572\">Oath: Chronicles of Empire and Exile</a></td>\n",
       "      <td>7.818429</td>\n",
       "      <td>8.207936</td>\n",
       "      <td>7.955477</td>\n",
       "      <td>4</td>\n",
       "      <td>2021</td>\n",
       "    </tr>\n",
       "    <tr>\n",
       "      <th>5</th>\n",
       "      <td><img src=\"https://cf.geekdo-images.com/PhjygpWSo-0labGrPBMyyg__thumb/img/JGgY-nBmkyB8WRp8vcoBLlNMQ5U=/fit-in/200x150/filters:strip_icc()/pic5666597.jpg\" width=\"124\" /></td>\n",
       "      <td><a href=\"https://boardgamegeek.com/boardgame/316554\">Dune: Imperium</a></td>\n",
       "      <td>8.096540</td>\n",
       "      <td>7.813831</td>\n",
       "      <td>8.069239</td>\n",
       "      <td>5</td>\n",
       "      <td>2020</td>\n",
       "    </tr>\n",
       "  </tbody>\n",
       "</table>"
      ],
      "text/plain": [
       "<IPython.core.display.HTML object>"
      ]
     },
     "execution_count": 46,
     "metadata": {},
     "output_type": "execute_result"
    }
   ],
   "source": [
    "# TOP N RANK\n",
    "display_topn(by='rank', n=TOP_N)"
   ]
  },
  {
   "cell_type": "code",
   "execution_count": 47,
   "metadata": {},
   "outputs": [
    {
     "data": {
      "text/html": [
       "<table border=\"1\" class=\"dataframe table table-striped\">\n",
       "  <thead>\n",
       "    <tr style=\"text-align: right;\">\n",
       "      <th></th>\n",
       "      <th>thumbnail</th>\n",
       "      <th>name</th>\n",
       "      <th>rating_mean_review</th>\n",
       "      <th>rating_mean_comments</th>\n",
       "      <th>fixed_rating</th>\n",
       "      <th>rank</th>\n",
       "      <th>yearpublished</th>\n",
       "    </tr>\n",
       "  </thead>\n",
       "  <tbody>\n",
       "    <tr>\n",
       "      <th>1</th>\n",
       "      <td><img src=\"https://cf.geekdo-images.com/MN0OvKejfrfwD6bupQHp4g__thumb/img/MVh7xtQ4l17hprI4mFIk9Kswk6s=/fit-in/200x150/filters:strip_icc()/pic5623566.jpg\" width=\"124\" /></td>\n",
       "      <td><a href=\"https://boardgamegeek.com/boardgame/318184\">Imperium: Classics</a></td>\n",
       "      <td>9.071429</td>\n",
       "      <td>7.886186</td>\n",
       "      <td>8.808041</td>\n",
       "      <td>22</td>\n",
       "      <td>2021</td>\n",
       "    </tr>\n",
       "    <tr>\n",
       "      <th>2</th>\n",
       "      <td><img src=\"https://cf.geekdo-images.com/Oh3kHw6lweg6ru71Q16h2Q__thumb/img/e9XZdQe1ZcPpaq4Gy31OoWBB_V0=/fit-in/200x150/filters:strip_icc()/pic5235277.jpg\" width=\"124\" /></td>\n",
       "      <td><a href=\"https://boardgamegeek.com/boardgame/246900\">Eclipse: Second Dawn for the Galaxy</a></td>\n",
       "      <td>8.722904</td>\n",
       "      <td>7.967863</td>\n",
       "      <td>8.606525</td>\n",
       "      <td>29</td>\n",
       "      <td>2020</td>\n",
       "    </tr>\n",
       "    <tr>\n",
       "      <th>3</th>\n",
       "      <td><img src=\"https://cf.geekdo-images.com/x3zxjr-Vw5iU4yDPg70Jgw__thumb/img/o18rjEemoWaVru9Y2TyPwuIaRfE=/fit-in/200x150/filters:strip_icc()/pic3490053.jpg\" width=\"124\" /></td>\n",
       "      <td><a href=\"https://boardgamegeek.com/boardgame/224517\">Brass: Birmingham</a></td>\n",
       "      <td>8.680774</td>\n",
       "      <td>8.173305</td>\n",
       "      <td>8.635074</td>\n",
       "      <td>25</td>\n",
       "      <td>2018</td>\n",
       "    </tr>\n",
       "    <tr>\n",
       "      <th>4</th>\n",
       "      <td><img src=\"https://cf.geekdo-images.com/hRuD1y5BxdNpssgBqamS0A__thumb/img/fpUu1t2YLjJ4EvEzBGTKtZasNv4=/fit-in/200x150/filters:strip_icc()/pic4595897.jpg\" width=\"124\" /></td>\n",
       "      <td><a href=\"https://boardgamegeek.com/boardgame/169427\">Middara: Unintentional Malum – Act 1</a></td>\n",
       "      <td>8.648229</td>\n",
       "      <td>8.275028</td>\n",
       "      <td>8.561269</td>\n",
       "      <td>39</td>\n",
       "      <td>2019</td>\n",
       "    </tr>\n",
       "    <tr>\n",
       "      <th>5</th>\n",
       "      <td><img src=\"https://cf.geekdo-images.com/_HhIdavYW-hid20Iq3hhmg__thumb/img/OMkN_E5eyWrkID_cHCnQEbIixGM=/fit-in/200x150/filters:strip_icc()/pic5055631.jpg\" width=\"124\" /></td>\n",
       "      <td><a href=\"https://boardgamegeek.com/boardgame/291457\">Gloomhaven: Jaws of the Lion</a></td>\n",
       "      <td>8.589068</td>\n",
       "      <td>8.041418</td>\n",
       "      <td>8.534621</td>\n",
       "      <td>23</td>\n",
       "      <td>2020</td>\n",
       "    </tr>\n",
       "  </tbody>\n",
       "</table>"
      ],
      "text/plain": [
       "<IPython.core.display.HTML object>"
      ]
     },
     "execution_count": 47,
     "metadata": {},
     "output_type": "execute_result"
    }
   ],
   "source": [
    "# TOP N REVIEW RANK\n",
    "display_topn(by='rating_mean_review', n=TOP_N, ascending=False)"
   ]
  },
  {
   "cell_type": "code",
   "execution_count": 48,
   "metadata": {},
   "outputs": [
    {
     "data": {
      "text/html": [
       "<table border=\"1\" class=\"dataframe table table-striped\">\n",
       "  <thead>\n",
       "    <tr style=\"text-align: right;\">\n",
       "      <th></th>\n",
       "      <th>thumbnail</th>\n",
       "      <th>name</th>\n",
       "      <th>rating_mean_review</th>\n",
       "      <th>rating_mean_comments</th>\n",
       "      <th>fixed_rating</th>\n",
       "      <th>rank</th>\n",
       "      <th>yearpublished</th>\n",
       "    </tr>\n",
       "  </thead>\n",
       "  <tbody>\n",
       "    <tr>\n",
       "      <th>1</th>\n",
       "      <td><img src=\"https://cf.geekdo-images.com/MN0OvKejfrfwD6bupQHp4g__thumb/img/MVh7xtQ4l17hprI4mFIk9Kswk6s=/fit-in/200x150/filters:strip_icc()/pic5623566.jpg\" width=\"124\" /></td>\n",
       "      <td><a href=\"https://boardgamegeek.com/boardgame/318184\">Imperium: Classics</a></td>\n",
       "      <td>9.071429</td>\n",
       "      <td>7.886186</td>\n",
       "      <td>8.808041</td>\n",
       "      <td>22</td>\n",
       "      <td>2021</td>\n",
       "    </tr>\n",
       "    <tr>\n",
       "      <th>2</th>\n",
       "      <td><img src=\"https://cf.geekdo-images.com/x3zxjr-Vw5iU4yDPg70Jgw__thumb/img/o18rjEemoWaVru9Y2TyPwuIaRfE=/fit-in/200x150/filters:strip_icc()/pic3490053.jpg\" width=\"124\" /></td>\n",
       "      <td><a href=\"https://boardgamegeek.com/boardgame/224517\">Brass: Birmingham</a></td>\n",
       "      <td>8.680774</td>\n",
       "      <td>8.173305</td>\n",
       "      <td>8.635074</td>\n",
       "      <td>25</td>\n",
       "      <td>2018</td>\n",
       "    </tr>\n",
       "    <tr>\n",
       "      <th>3</th>\n",
       "      <td><img src=\"https://cf.geekdo-images.com/Oh3kHw6lweg6ru71Q16h2Q__thumb/img/e9XZdQe1ZcPpaq4Gy31OoWBB_V0=/fit-in/200x150/filters:strip_icc()/pic5235277.jpg\" width=\"124\" /></td>\n",
       "      <td><a href=\"https://boardgamegeek.com/boardgame/246900\">Eclipse: Second Dawn for the Galaxy</a></td>\n",
       "      <td>8.722904</td>\n",
       "      <td>7.967863</td>\n",
       "      <td>8.606525</td>\n",
       "      <td>29</td>\n",
       "      <td>2020</td>\n",
       "    </tr>\n",
       "    <tr>\n",
       "      <th>4</th>\n",
       "      <td><img src=\"https://cf.geekdo-images.com/hRuD1y5BxdNpssgBqamS0A__thumb/img/fpUu1t2YLjJ4EvEzBGTKtZasNv4=/fit-in/200x150/filters:strip_icc()/pic4595897.jpg\" width=\"124\" /></td>\n",
       "      <td><a href=\"https://boardgamegeek.com/boardgame/169427\">Middara: Unintentional Malum – Act 1</a></td>\n",
       "      <td>8.648229</td>\n",
       "      <td>8.275028</td>\n",
       "      <td>8.561269</td>\n",
       "      <td>39</td>\n",
       "      <td>2019</td>\n",
       "    </tr>\n",
       "    <tr>\n",
       "      <th>5</th>\n",
       "      <td><img src=\"https://cf.geekdo-images.com/_HhIdavYW-hid20Iq3hhmg__thumb/img/OMkN_E5eyWrkID_cHCnQEbIixGM=/fit-in/200x150/filters:strip_icc()/pic5055631.jpg\" width=\"124\" /></td>\n",
       "      <td><a href=\"https://boardgamegeek.com/boardgame/291457\">Gloomhaven: Jaws of the Lion</a></td>\n",
       "      <td>8.589068</td>\n",
       "      <td>8.041418</td>\n",
       "      <td>8.534621</td>\n",
       "      <td>23</td>\n",
       "      <td>2020</td>\n",
       "    </tr>\n",
       "  </tbody>\n",
       "</table>"
      ],
      "text/plain": [
       "<IPython.core.display.HTML object>"
      ]
     },
     "execution_count": 48,
     "metadata": {},
     "output_type": "execute_result"
    }
   ],
   "source": [
    "# TOP N FIXED RANK\n",
    "display_topn(by='fixed_rating', n=TOP_N, ascending=False)"
   ]
  },
  {
   "cell_type": "code",
   "execution_count": 49,
   "metadata": {},
   "outputs": [],
   "source": [
    "# model.save('saved_model\\my_model')"
   ]
  },
  {
   "cell_type": "code",
   "execution_count": 50,
   "metadata": {},
   "outputs": [],
   "source": [
    "# saved_model = tf.keras.models.load_model('saved_model\\my_model')"
   ]
  },
  {
   "cell_type": "code",
   "execution_count": 51,
   "metadata": {},
   "outputs": [],
   "source": [
    "# some examples on \"long\" comments vs short comments"
   ]
  },
  {
   "cell_type": "code",
   "execution_count": 52,
   "metadata": {},
   "outputs": [],
   "source": [
    "not_rated_comments['comment_len'] = not_rated_comments['value'].str.len()\n",
    "some_long_comments = not_rated_comments.query(\"comment_len>100 and comment_len<300\").sample(frac=1).head(25).sort_values('rating')"
   ]
  },
  {
   "cell_type": "code",
   "execution_count": 53,
   "metadata": {},
   "outputs": [
    {
     "name": "stdout",
     "output_type": "stream",
     "text": [
      "\"Prio.: 1 3. Platz Deutscher Spielepreis (2014) Finalist  International Gamers Award (2014) Mehrspieler 1. Platz Nederlandse Spellenprijs (2015) Spiel des Jahres Kenner  Nominierungsliste Kennerspiel des Jahres (2014) 5. Platz Swiss Gamers Award (2014)  \"\n",
      "score: 6.80\n",
      "\n",
      "\"Juego precioso puesto en mesa, con unas ilustraciones muy bonitas y que tiene un motor de cartas y colocación de trabajadores con meeplees en forma de animales muy bonito, JUEGAZO. \"\n",
      "score: 7.10\n",
      "\n",
      "\"Which Game First? 11/4/2020 It's on BGA but I think I'm only keen on the idea of playing this in real life.\"\n",
      "score: 7.21\n",
      "\n",
      "\"KS Legendary Chest Pledge:   Time of Legends: Destinies - Core Box Sea of Sand Expansion Myth and Folklore Expansion Bound by Fate Expansion 25 Medieval Metal Coins 3 Neoprene Player Mats 1 Large Stitched Neoprene World Mat\"\n",
      "score: 7.23\n",
      "\n",
      "\"Bontott, hiánytalan, kártyavédőzve (129db 63.5x88 Mayday standard, 28db 43x65 Szellemlovas standard).  Javított kártyacsomaggal.\"\n",
      "score: 7.35\n",
      "\n",
      "\"Card Drafting Dice Rolling Drafting End Game Bonuses Hand Management Set Collection Solo / Solitaire Game\"\n",
      "score: 7.40\n",
      "\n",
      "\"Backed on Kickstarter and paid for two-wave shipping. I'm torn between playing it now and waiting for the other stuff to show up later, or wait until I have it all to see how it goes together.\"\n",
      "score: 7.55\n",
      "\n",
      "\"2-4 Players  2-5 Players with the Herb Witches expansion  Token upgrades that can be purchased instead of putting the chits in coin cases    \"\n",
      "score: 7.75\n",
      "\n",
      "\"2011-06-17: Played the PC version: Great game, but I won't buy it for that much money. 2012-05-09: I like Fairy Tale, I like Citadels, but this leaves me cold. Just like many have written before: Pick a card, pass the rest, repeat. Not interesting even for half the original price.\"\n",
      "score: 7.92\n",
      "\n",
      "\"Bought it for my 7 year old and I but it's a little too complex at the moment. Will have to revisit. \"\n",
      "score: 8.05\n",
      "\n",
      "\"Another coop with tons of variability with some great moments. Will gladly play this more. Fiancée doesn’t care to try. Have played it about two or three times and always a blast.\"\n",
      "score: 8.20\n",
      "\n",
      "\"I have the 'all in' KS pledge for this, so also have the various min-expansions, play mat, extra dice and alternative space ship models.\"\n",
      "score: 8.21\n",
      "\n",
      "\"Players: 1 to 4 Competitive Game: One player wins alone  Theme: Tropical Exploration  Microbadges: [microbadge=51020]  Designed by Elwen and Mín\"\n",
      "score: 8.21\n",
      "\n",
      "\"Adds a political phase to eclipse. I would love to play but not sure I would buy it because it wouldn't get a lot of play. Epic 4x space game. \"\n",
      "score: 8.27\n",
      "\n",
      "\"Super stoked to finally have this pre ordered. After much deliberation I decided to skip gloomhaven and go straight to frosthaven.\"\n",
      "score: 8.51\n",
      "\n",
      "\"This is the all-in Kickstarter (including both expansions, scenario book, deluxe health chips and neoprene play mat). I'm looking for somewhere in the region of £250+Shipping. The game is extremely heavy. Serious offers considered; game is in as-new condition.\"\n",
      "score: 8.61\n",
      "\n",
      "\"My second play was my first try vs. actual players. Loved it, even though I got thrashed. Such a great design.\"\n",
      "score: 8.76\n",
      "\n",
      "\"+++Alien board game ++ theme feels a lot ++ quality!!! + cards, items,  personal quests, random rooms +~campaign var ---learning curve -hard to win as Ghost stories\"\n",
      "score: 8.78\n",
      "\n",
      "\"This is not a bad game, but I just don't like the luck aspect of this game. I kept losing because of bad draws and that pissed me off :P\"\n",
      "score: 8.84\n",
      "\n",
      "\"Wargame Ligero. Parece muy interesante. Debería salir en Abril 2018 editado por Two Tomatoes. Buscalo!\"\n",
      "score: 9.22\n",
      "\n",
      "\"2-4 players.  Ages 12+. 90 min. Complex strategic co-op about defending an island from invading colonists.\"\n",
      "score: 9.26\n",
      "\n",
      "\"Kickstarter Pledge-Level: Lockdown gameplay All in Add-Ons: none Status: KS until 18.6.2020 Estimated: Wave 2 Sept 2021 Delivery: not arrived\"\n",
      "score: 9.28\n",
      "\n",
      "\"1 to 5 players Civilization - Economic - Fighting - Science Fiction - Territory Building Area Control/Area Influence - Grid Movement - Variable Player Powers\"\n",
      "score: 9.71\n",
      "\n",
      "\"The Collector's Edition of Everdell includes everything in the standard edition, plus the 10 card Legends expansion, 15 Extra! Extra! cards, 30 metal tokens, and an upgraded 8-sided die. This is all contained in a UV spot-coated box and a Gallery slipcase.\"\n",
      "score: 10.00\n",
      "\n",
      "\"plan is to find company to play this with.   Start from Jaws of the Lion.  then Gloomhaven, continued into Forgotten Circles.  And frost Haven would have already have arrived by time we finish All Gloomhaven... \"\n",
      "score: 10.00\n",
      "\n"
     ]
    }
   ],
   "source": [
    "some_long_comments.apply(lambda c: print(f\"\\\"{c['value']}\\\"\\nscore: {c['rating']:.2f}\\n\"), axis=1);"
   ]
  },
  {
   "cell_type": "markdown",
   "metadata": {},
   "source": [
    "## RANDOM FOREST - TEST"
   ]
  },
  {
   "cell_type": "code",
   "execution_count": 54,
   "metadata": {},
   "outputs": [],
   "source": [
    "# no support for Windows at the moment - waiting for it to test"
   ]
  },
  {
   "cell_type": "code",
   "execution_count": null,
   "metadata": {},
   "outputs": [],
   "source": []
  }
 ],
 "metadata": {
  "kernelspec": {
   "display_name": "tensorflow2",
   "language": "python",
   "name": "tensorflow2"
  },
  "language_info": {
   "codemirror_mode": {
    "name": "ipython",
    "version": 3
   },
   "file_extension": ".py",
   "mimetype": "text/x-python",
   "name": "python",
   "nbconvert_exporter": "python",
   "pygments_lexer": "ipython3",
   "version": "3.8.8"
  }
 },
 "nbformat": 4,
 "nbformat_minor": 4
}
