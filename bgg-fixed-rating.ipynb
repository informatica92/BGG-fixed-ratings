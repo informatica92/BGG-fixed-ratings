{
 "cells": [
  {
   "cell_type": "code",
   "execution_count": null,
   "metadata": {},
   "outputs": [],
   "source": [
    "# ## BGG API\n",
    "# https://www.boardgamegeek.com/xmlapi2/thing?id=161599&comments=1\n",
    "# https://www.boardgamegeek.com/xmlapi2/hot?type=boardgame\n",
    "# ## NLP WITH TF\n",
    "# https://www.tensorflow.org/hub/tutorials/tf2_text_classification"
   ]
  },
  {
   "cell_type": "code",
   "execution_count": 2,
   "metadata": {},
   "outputs": [
    {
     "name": "stdout",
     "output_type": "stream",
     "text": [
      "Version:      2.5.0\n",
      "Eager mode:   True\n",
      "Hub version:  0.12.0\n",
      "GPU:          available\n"
     ]
    }
   ],
   "source": [
    "import tensorflow as tf\n",
    "import tensorflow_hub as hub\n",
    "from tensorflow.keras.wrappers.scikit_learn import KerasRegressor, KerasClassifier\n",
    "from sklearn.model_selection import GridSearchCV\n",
    "\n",
    "import matplotlib.pyplot as plt\n",
    "import pandas as pd\n",
    "import numpy as np\n",
    "from IPython.display import HTML\n",
    "from datetime import datetime\n",
    "import re\n",
    "\n",
    "from utilities import get_hot_data, get_comments, remove_short_comments, build_model, print_my_examples\n",
    "\n",
    "print(\"Version:     \", tf.__version__)\n",
    "print(\"Eager mode:  \", tf.executing_eagerly())\n",
    "print(\"Hub version: \", hub.__version__)\n",
    "print(\"GPU:         \", \"available\" if tf.config.list_physical_devices('GPU') else \"NOT available\")\n",
    "\n",
    "tf.get_logger().setLevel('ERROR')"
   ]
  },
  {
   "cell_type": "code",
   "execution_count": 3,
   "metadata": {},
   "outputs": [],
   "source": [
    "# tf.debugging.set_log_device_placement(True)"
   ]
  },
  {
   "cell_type": "code",
   "execution_count": 4,
   "metadata": {},
   "outputs": [],
   "source": [
    "GOOD_REVIEW_THRESHOLD = 7"
   ]
  },
  {
   "cell_type": "code",
   "execution_count": 5,
   "metadata": {},
   "outputs": [],
   "source": [
    "VAL_FRACTION = 0.25"
   ]
  },
  {
   "cell_type": "code",
   "execution_count": 6,
   "metadata": {},
   "outputs": [],
   "source": [
    "MIN_COMMENT_LEN = 25"
   ]
  },
  {
   "cell_type": "code",
   "execution_count": 7,
   "metadata": {},
   "outputs": [],
   "source": [
    "TOP_N = 5"
   ]
  },
  {
   "cell_type": "code",
   "execution_count": 8,
   "metadata": {},
   "outputs": [],
   "source": [
    "# \"https://tfhub.dev/google/tf2-preview/nnlm-en-dim128/1\"\n",
    "# \"https://tfhub.dev/google/tf2-preview/nnlm-en-dim128-with-normalization/1\"\n",
    "# we also tested these solutions with dimension equals to 128 but accuracy \n",
    "# is a bit lower (0.85 for 128 vs 0.86 for 50) and training sometimes stops \n",
    "# unexpectedly for memory limit\n",
    "#\n",
    "# \"https://tfhub.dev/google/tf2-preview/nnlm-en-dim50/1\"\n",
    "# \"https://tfhub.dev/google/tf2-preview/nnlm-en-dim50-with-normalization/1\"\n",
    "# there is no difference between normalization and not so we use the one \n",
    "# without normalization\n",
    "MODEL_NAME = \"https://tfhub.dev/google/tf2-preview/nnlm-en-dim50/1\""
   ]
  },
  {
   "cell_type": "markdown",
   "metadata": {},
   "source": [
    "## GET DATA"
   ]
  },
  {
   "cell_type": "code",
   "execution_count": 9,
   "metadata": {},
   "outputs": [
    {
     "data": {
      "text/plain": [
       "[{'id': '331106',\n",
       "  'rank': '1',\n",
       "  'thumbnail': 'https://cf.geekdo-images.com/tQVVSXcmYLvAoI28cp-2Tg__thumb/img/ahKWaUSws5zja4feB4VexkNV3Mc=/fit-in/200x150/filters:strip_icc()/pic5974859.jpg',\n",
       "  'name': 'The Witcher: Old World',\n",
       "  'yearpublished': '2022'},\n",
       " {'id': '312484',\n",
       "  'rank': '2',\n",
       "  'thumbnail': 'https://cf.geekdo-images.com/6GqH14TJJhza86BX5HCLEQ__thumb/img/J8SVmGOJXZGxNjkT3xYNQU7Haxg=/fit-in/200x150/filters:strip_icc()/pic5674958.jpg',\n",
       "  'name': 'Lost Ruins of Arnak',\n",
       "  'yearpublished': '2020'}]"
      ]
     },
     "execution_count": 9,
     "metadata": {},
     "output_type": "execute_result"
    }
   ],
   "source": [
    "hot_array = get_hot_data()\n",
    "hot_array[:2]"
   ]
  },
  {
   "cell_type": "code",
   "execution_count": 10,
   "metadata": {},
   "outputs": [
    {
     "name": "stdout",
     "output_type": "stream",
     "text": [
      "missing csv file, getting new data using API...\n",
      "page number = 10 (max: 100, len: 24)\n",
      "page number = 20 (max: 100, len: 16)\n",
      "page number = 30 (max: 100, len: 11)\n",
      "page number = 40 (max: 100, len: 9)\n",
      "page number = 50 (max: 100, len: 4)\n",
      "page number = 60 (max: 100, len: 4)\n",
      "page number = 70 (max: 100, len: 3)\n",
      "page number = 80 (max: 100, len: 3)\n",
      "page number = 90 (max: 100, len: 2)\n",
      "page number = 100 (max: 0, len: 1)\n",
      "comments_df shape: (90326, 4)\n"
     ]
    },
    {
     "data": {
      "text/html": [
       "<div>\n",
       "<style scoped>\n",
       "    .dataframe tbody tr th:only-of-type {\n",
       "        vertical-align: middle;\n",
       "    }\n",
       "\n",
       "    .dataframe tbody tr th {\n",
       "        vertical-align: top;\n",
       "    }\n",
       "\n",
       "    .dataframe thead th {\n",
       "        text-align: right;\n",
       "    }\n",
       "</style>\n",
       "<table border=\"1\" class=\"dataframe\">\n",
       "  <thead>\n",
       "    <tr style=\"text-align: right;\">\n",
       "      <th></th>\n",
       "      <th>id</th>\n",
       "      <th>username</th>\n",
       "      <th>rating</th>\n",
       "      <th>value</th>\n",
       "    </tr>\n",
       "  </thead>\n",
       "  <tbody>\n",
       "    <tr>\n",
       "      <th>0</th>\n",
       "      <td>331106</td>\n",
       "      <td>aggers</td>\n",
       "      <td>N/A</td>\n",
       "      <td>Kickstarter</td>\n",
       "    </tr>\n",
       "    <tr>\n",
       "      <th>1</th>\n",
       "      <td>331106</td>\n",
       "      <td>Allethar</td>\n",
       "      <td>N/A</td>\n",
       "      <td>I played twice during testing phase - the vani...</td>\n",
       "    </tr>\n",
       "    <tr>\n",
       "      <th>2</th>\n",
       "      <td>331106</td>\n",
       "      <td>arnaud4matagot</td>\n",
       "      <td>9</td>\n",
       "      <td>tested online</td>\n",
       "    </tr>\n",
       "    <tr>\n",
       "      <th>3</th>\n",
       "      <td>331106</td>\n",
       "      <td>arsaghar</td>\n",
       "      <td>3</td>\n",
       "      <td>The game, apart from really nice figures and g...</td>\n",
       "    </tr>\n",
       "    <tr>\n",
       "      <th>4</th>\n",
       "      <td>331106</td>\n",
       "      <td>Baartoszz</td>\n",
       "      <td>8</td>\n",
       "      <td>Played near final prototype. Great combination...</td>\n",
       "    </tr>\n",
       "    <tr>\n",
       "      <th>...</th>\n",
       "      <td>...</td>\n",
       "      <td>...</td>\n",
       "      <td>...</td>\n",
       "      <td>...</td>\n",
       "    </tr>\n",
       "    <tr>\n",
       "      <th>90321</th>\n",
       "      <td>167791</td>\n",
       "      <td>z_zadar</td>\n",
       "      <td>9</td>\n",
       "      <td>Some games are so much fun. Others can be a li...</td>\n",
       "    </tr>\n",
       "    <tr>\n",
       "      <th>90322</th>\n",
       "      <td>167791</td>\n",
       "      <td>_Czid_</td>\n",
       "      <td>8</td>\n",
       "      <td>Have played with Elysium and Prelude expansion...</td>\n",
       "    </tr>\n",
       "    <tr>\n",
       "      <th>90323</th>\n",
       "      <td>167791</td>\n",
       "      <td>_Marty_</td>\n",
       "      <td>9.5</td>\n",
       "      <td>Fantastic game. With so many cards that can ch...</td>\n",
       "    </tr>\n",
       "    <tr>\n",
       "      <th>90324</th>\n",
       "      <td>167791</td>\n",
       "      <td>_mun_</td>\n",
       "      <td>10</td>\n",
       "      <td>Nagyon izgalmas játék, jó a mechanizmusa. A sz...</td>\n",
       "    </tr>\n",
       "    <tr>\n",
       "      <th>90325</th>\n",
       "      <td>167791</td>\n",
       "      <td>_The_Inquiry_</td>\n",
       "      <td>5</td>\n",
       "      <td>Prior to 2020: 2 plays  TM is one of those gam...</td>\n",
       "    </tr>\n",
       "  </tbody>\n",
       "</table>\n",
       "<p>90326 rows × 4 columns</p>\n",
       "</div>"
      ],
      "text/plain": [
       "           id        username rating  \\\n",
       "0      331106          aggers    N/A   \n",
       "1      331106        Allethar    N/A   \n",
       "2      331106  arnaud4matagot      9   \n",
       "3      331106        arsaghar      3   \n",
       "4      331106       Baartoszz      8   \n",
       "...       ...             ...    ...   \n",
       "90321  167791         z_zadar      9   \n",
       "90322  167791          _Czid_      8   \n",
       "90323  167791         _Marty_    9.5   \n",
       "90324  167791           _mun_     10   \n",
       "90325  167791   _The_Inquiry_      5   \n",
       "\n",
       "                                                   value  \n",
       "0                                            Kickstarter  \n",
       "1      I played twice during testing phase - the vani...  \n",
       "2                                          tested online  \n",
       "3      The game, apart from really nice figures and g...  \n",
       "4      Played near final prototype. Great combination...  \n",
       "...                                                  ...  \n",
       "90321  Some games are so much fun. Others can be a li...  \n",
       "90322  Have played with Elysium and Prelude expansion...  \n",
       "90323  Fantastic game. With so many cards that can ch...  \n",
       "90324  Nagyon izgalmas játék, jó a mechanizmusa. A sz...  \n",
       "90325  Prior to 2020: 2 plays  TM is one of those gam...  \n",
       "\n",
       "[90326 rows x 4 columns]"
      ]
     },
     "execution_count": 10,
     "metadata": {},
     "output_type": "execute_result"
    }
   ],
   "source": [
    "try:\n",
    "    comments_df = pd.read_csv(f\"comments_{datetime.now().strftime('%Y%m%d')}.csv\")\n",
    "    comments_df['rating'] = comments_df.rating.fillna('N/A')\n",
    "    print(\"reading dataframe from csv file...\")\n",
    "except:\n",
    "    print(\"missing csv file, getting new data using API...\")\n",
    "    comments_df = get_comments(hot_array, verbose=10)\n",
    "    comments_df.to_csv(f\"comments_{datetime.now().strftime('%Y%m%d')}.csv\", index=False)\n",
    "comments_df"
   ]
  },
  {
   "cell_type": "markdown",
   "metadata": {},
   "source": [
    "## DATA CLEANING"
   ]
  },
  {
   "cell_type": "code",
   "execution_count": 11,
   "metadata": {},
   "outputs": [],
   "source": [
    "# probably we should keep all the ratings (no matters the len) and remove only the simple comments under a certain len  \n",
    "comments_df[\"value\"] = comments_df[\"value\"].astype(str)"
   ]
  },
  {
   "cell_type": "code",
   "execution_count": 12,
   "metadata": {},
   "outputs": [
    {
     "name": "stdout",
     "output_type": "stream",
     "text": [
      "removed 15151 for 'remove_short_comments' - min len: 25 - method: unrated\n"
     ]
    }
   ],
   "source": [
    "# REMOVE URLs FROM COMMENTS\n",
    "comments_df['value'] = [re.sub(r\"http\\S+\", \"\", v) for v in comments_df.value.values]\n",
    "comments_df = remove_short_comments(comments_df, MIN_COMMENT_LEN)"
   ]
  },
  {
   "cell_type": "code",
   "execution_count": 13,
   "metadata": {},
   "outputs": [],
   "source": [
    "# REMOVE NON ENGLISH COMMENTS\n",
    "# !conda install -c conda-forge langdetect\n",
    "# def add_comments_lang(df: pd.DataFrame):\n",
    "#     df_local = df.copy()\n",
    "#     df_local['lang'] = df['value'].apply(detect)\n",
    "#     return df_local.reset_index(drop=True)\n",
    "# comments_df = add_comments_lang(comments_df)\n",
    "# comments_df = comments_df.query('lang == \"en\"')"
   ]
  },
  {
   "cell_type": "markdown",
   "metadata": {},
   "source": [
    "## SPLIT RATED AND NON-RATED COMMENTS"
   ]
  },
  {
   "cell_type": "code",
   "execution_count": 14,
   "metadata": {},
   "outputs": [
    {
     "data": {
      "text/plain": [
       "10       14249\n",
       "9        13917\n",
       "8        11808\n",
       "7         6630\n",
       "N/A       6415\n",
       "         ...  \n",
       "6.59         1\n",
       "7.22         1\n",
       "8.965        1\n",
       "8.677        1\n",
       "9.94         1\n",
       "Name: rating, Length: 510, dtype: int64"
      ]
     },
     "execution_count": 14,
     "metadata": {},
     "output_type": "execute_result"
    }
   ],
   "source": [
    "# count number of comments per rating (N/A included)\n",
    "comments_df.rating.value_counts()"
   ]
  },
  {
   "cell_type": "code",
   "execution_count": 15,
   "metadata": {},
   "outputs": [
    {
     "data": {
      "text/plain": [
       "(68760, 5)"
      ]
     },
     "execution_count": 15,
     "metadata": {},
     "output_type": "execute_result"
    }
   ],
   "source": [
    "# get rated comments only\n",
    "rated_comments = comments_df.query('rating != \"N/A\"')\n",
    "rated_comments.shape"
   ]
  },
  {
   "cell_type": "code",
   "execution_count": 16,
   "metadata": {},
   "outputs": [
    {
     "data": {
      "text/plain": [
       "(6415, 5)"
      ]
     },
     "execution_count": 16,
     "metadata": {},
     "output_type": "execute_result"
    }
   ],
   "source": [
    "# get non rated comments only\n",
    "not_rated_comments = comments_df.query('rating == \"N/A\"').reset_index(drop=True)\n",
    "not_rated_comments.shape"
   ]
  },
  {
   "cell_type": "markdown",
   "metadata": {},
   "source": [
    "## CREATE TRAINING AND VALIDATION DATA"
   ]
  },
  {
   "cell_type": "code",
   "execution_count": 17,
   "metadata": {},
   "outputs": [],
   "source": [
    "# use rated comments (reviews) to train the model"
   ]
  },
  {
   "cell_type": "code",
   "execution_count": 18,
   "metadata": {},
   "outputs": [],
   "source": [
    "rated_comments = rated_comments.sample(frac=1)"
   ]
  },
  {
   "cell_type": "code",
   "execution_count": 19,
   "metadata": {},
   "outputs": [],
   "source": [
    "# create training X and y\n",
    "train_examples = list(rated_comments.value)\n",
    "train_labels = list((rated_comments.rating.astype(float)>=GOOD_REVIEW_THRESHOLD).astype(int))"
   ]
  },
  {
   "cell_type": "code",
   "execution_count": 20,
   "metadata": {},
   "outputs": [
    {
     "name": "stdout",
     "output_type": "stream",
     "text": [
      "example of positive rating:\n"
     ]
    },
    {
     "data": {
      "text/plain": [
       "\"Very nice gameplay with lots of opportunities, heavy as i like ?. Beaaaaautiful and best hardware i've seen in the boardgame i know (not a lot)\""
      ]
     },
     "execution_count": 20,
     "metadata": {},
     "output_type": "execute_result"
    }
   ],
   "source": [
    "print(\"example of positive rating:\")\n",
    "train_examples[train_labels.index(1)]"
   ]
  },
  {
   "cell_type": "code",
   "execution_count": 21,
   "metadata": {},
   "outputs": [
    {
     "name": "stdout",
     "output_type": "stream",
     "text": [
      "example of negative rating:\n"
     ]
    },
    {
     "data": {
      "text/plain": [
       "'Decision making taking over. Less game than management of decisions at the right time and thus not providing the right atmosphere for the story. No mistaking, mechanics work excellent and look is great too; just to less a game of/with spirit for me.'"
      ]
     },
     "execution_count": 21,
     "metadata": {},
     "output_type": "execute_result"
    }
   ],
   "source": [
    "print(\"example of negative rating:\")\n",
    "train_examples[train_labels.index(0)]"
   ]
  },
  {
   "cell_type": "markdown",
   "metadata": {},
   "source": [
    "## COMPOSE MODEL"
   ]
  },
  {
   "cell_type": "code",
   "execution_count": 22,
   "metadata": {},
   "outputs": [],
   "source": [
    "hub_layer = hub.KerasLayer(MODEL_NAME, input_shape=[], dtype=tf.string, trainable=True)"
   ]
  },
  {
   "cell_type": "markdown",
   "metadata": {},
   "source": [
    "## CLASSIFIER"
   ]
  },
  {
   "cell_type": "code",
   "execution_count": 23,
   "metadata": {},
   "outputs": [
    {
     "name": "stdout",
     "output_type": "stream",
     "text": [
      "Epoch 1/100\n",
      "34/34 - 4s - loss: 0.5805 - accuracy: 0.7586 - val_loss: 0.5107 - val_accuracy: 0.8376\n",
      "Epoch 2/100\n",
      "34/34 - 2s - loss: 0.4626 - accuracy: 0.8435 - val_loss: 0.4321 - val_accuracy: 0.8424\n",
      "Epoch 3/100\n",
      "34/34 - 2s - loss: 0.3816 - accuracy: 0.8510 - val_loss: 0.3744 - val_accuracy: 0.8516\n",
      "Epoch 4/100\n",
      "34/34 - 2s - loss: 0.3234 - accuracy: 0.8705 - val_loss: 0.3438 - val_accuracy: 0.8651\n",
      "Epoch 5/100\n",
      "34/34 - 2s - loss: 0.2839 - accuracy: 0.8873 - val_loss: 0.3296 - val_accuracy: 0.8708\n",
      "Epoch 6/100\n",
      "34/34 - 2s - loss: 0.2538 - accuracy: 0.9005 - val_loss: 0.3228 - val_accuracy: 0.8733\n",
      "Epoch 7/100\n",
      "34/34 - 2s - loss: 0.2294 - accuracy: 0.9114 - val_loss: 0.3236 - val_accuracy: 0.8732\n",
      "Epoch 8/100\n",
      "34/34 - 2s - loss: 0.2086 - accuracy: 0.9201 - val_loss: 0.3297 - val_accuracy: 0.8721\n",
      "Epoch 9/100\n",
      "34/34 - 2s - loss: 0.1905 - accuracy: 0.9284 - val_loss: 0.3355 - val_accuracy: 0.8697\n",
      "Epoch 10/100\n",
      "34/34 - 2s - loss: 0.1746 - accuracy: 0.9354 - val_loss: 0.3469 - val_accuracy: 0.8653\n",
      "Epoch 11/100\n",
      "34/34 - 2s - loss: 0.1604 - accuracy: 0.9414 - val_loss: 0.3619 - val_accuracy: 0.8638\n",
      "23/23 - 0s - loss: 0.3509 - accuracy: 0.8667\n",
      "Epoch 1/100\n",
      "34/34 - 3s - loss: 0.6416 - accuracy: 0.6517 - val_loss: 0.5583 - val_accuracy: 0.8300\n",
      "Epoch 2/100\n",
      "34/34 - 2s - loss: 0.5178 - accuracy: 0.8437 - val_loss: 0.4905 - val_accuracy: 0.8420\n",
      "Epoch 3/100\n",
      "34/34 - 2s - loss: 0.4423 - accuracy: 0.8468 - val_loss: 0.4171 - val_accuracy: 0.8433\n",
      "Epoch 4/100\n",
      "34/34 - 2s - loss: 0.3671 - accuracy: 0.8533 - val_loss: 0.3647 - val_accuracy: 0.8534\n",
      "Epoch 5/100\n",
      "34/34 - 2s - loss: 0.3149 - accuracy: 0.8734 - val_loss: 0.3385 - val_accuracy: 0.8647\n",
      "Epoch 6/100\n",
      "34/34 - 2s - loss: 0.2786 - accuracy: 0.8884 - val_loss: 0.3240 - val_accuracy: 0.8695\n",
      "Epoch 7/100\n",
      "34/34 - 2s - loss: 0.2502 - accuracy: 0.9013 - val_loss: 0.3194 - val_accuracy: 0.8741\n",
      "Epoch 8/100\n",
      "34/34 - 2s - loss: 0.2266 - accuracy: 0.9122 - val_loss: 0.3225 - val_accuracy: 0.8736\n",
      "Epoch 9/100\n",
      "34/34 - 2s - loss: 0.2060 - accuracy: 0.9212 - val_loss: 0.3253 - val_accuracy: 0.8721\n",
      "Epoch 10/100\n",
      "34/34 - 2s - loss: 0.1883 - accuracy: 0.9299 - val_loss: 0.3334 - val_accuracy: 0.8700\n",
      "Epoch 11/100\n",
      "34/34 - 2s - loss: 0.1722 - accuracy: 0.9362 - val_loss: 0.3470 - val_accuracy: 0.8683\n",
      "Epoch 12/100\n",
      "34/34 - 2s - loss: 0.1577 - accuracy: 0.9433 - val_loss: 0.3599 - val_accuracy: 0.8661\n",
      "23/23 - 0s - loss: 0.3585 - accuracy: 0.8625\n",
      "Epoch 1/100\n",
      "34/34 - 3s - loss: 0.5969 - accuracy: 0.7518 - val_loss: 0.5159 - val_accuracy: 0.8405\n",
      "Epoch 2/100\n",
      "34/34 - 2s - loss: 0.4780 - accuracy: 0.8453 - val_loss: 0.4477 - val_accuracy: 0.8465\n",
      "Epoch 3/100\n",
      "34/34 - 2s - loss: 0.4078 - accuracy: 0.8480 - val_loss: 0.3865 - val_accuracy: 0.8494\n",
      "Epoch 4/100\n",
      "34/34 - 2s - loss: 0.3471 - accuracy: 0.8580 - val_loss: 0.3467 - val_accuracy: 0.8606\n",
      "Epoch 5/100\n",
      "34/34 - 2s - loss: 0.3036 - accuracy: 0.8784 - val_loss: 0.3264 - val_accuracy: 0.8699\n",
      "Epoch 6/100\n",
      "34/34 - 2s - loss: 0.2713 - accuracy: 0.8908 - val_loss: 0.3160 - val_accuracy: 0.8733\n",
      "Epoch 7/100\n",
      "34/34 - 2s - loss: 0.2446 - accuracy: 0.9032 - val_loss: 0.3120 - val_accuracy: 0.8753\n",
      "Epoch 8/100\n",
      "34/34 - 2s - loss: 0.2218 - accuracy: 0.9137 - val_loss: 0.3136 - val_accuracy: 0.8743\n",
      "Epoch 9/100\n",
      "34/34 - 2s - loss: 0.2018 - accuracy: 0.9234 - val_loss: 0.3194 - val_accuracy: 0.8731\n",
      "Epoch 10/100\n",
      "34/34 - 2s - loss: 0.1844 - accuracy: 0.9312 - val_loss: 0.3278 - val_accuracy: 0.8719\n",
      "Epoch 11/100\n",
      "34/34 - 2s - loss: 0.1686 - accuracy: 0.9379 - val_loss: 0.3423 - val_accuracy: 0.8695\n",
      "Epoch 12/100\n",
      "34/34 - 2s - loss: 0.1546 - accuracy: 0.9444 - val_loss: 0.3538 - val_accuracy: 0.8667\n",
      "23/23 - 0s - loss: 0.3767 - accuracy: 0.8604\n",
      "Epoch 1/100\n",
      "51/51 - 4s - loss: 0.5571 - accuracy: 0.7939 - val_loss: 0.4814 - val_accuracy: 0.8408\n",
      "Epoch 2/100\n",
      "51/51 - 3s - loss: 0.4265 - accuracy: 0.8469 - val_loss: 0.3937 - val_accuracy: 0.8425\n",
      "Epoch 3/100\n",
      "51/51 - 3s - loss: 0.3477 - accuracy: 0.8514 - val_loss: 0.3479 - val_accuracy: 0.8503\n",
      "Epoch 4/100\n",
      "51/51 - 3s - loss: 0.2999 - accuracy: 0.8751 - val_loss: 0.3256 - val_accuracy: 0.8696\n",
      "Epoch 5/100\n",
      "51/51 - 3s - loss: 0.2615 - accuracy: 0.8955 - val_loss: 0.3205 - val_accuracy: 0.8725\n",
      "Epoch 6/100\n",
      "51/51 - 3s - loss: 0.2338 - accuracy: 0.9084 - val_loss: 0.3227 - val_accuracy: 0.8716\n",
      "Epoch 7/100\n",
      "51/51 - 3s - loss: 0.2121 - accuracy: 0.9175 - val_loss: 0.3325 - val_accuracy: 0.8681\n",
      "Epoch 8/100\n",
      "51/51 - 3s - loss: 0.1945 - accuracy: 0.9261 - val_loss: 0.3437 - val_accuracy: 0.8654\n",
      "Epoch 9/100\n",
      "51/51 - 3s - loss: 0.1793 - accuracy: 0.9328 - val_loss: 0.3578 - val_accuracy: 0.8631\n",
      "Epoch 10/100\n",
      "51/51 - 3s - loss: 0.1665 - accuracy: 0.9383 - val_loss: 0.3753 - val_accuracy: 0.8604\n"
     ]
    },
    {
     "data": {
      "text/plain": [
       "GridSearchCV(cv=3,\n",
       "             estimator=<tensorflow.python.keras.wrappers.scikit_learn.KerasClassifier object at 0x000001E38FCFBF10>,\n",
       "             param_grid={})"
      ]
     },
     "execution_count": 23,
     "metadata": {},
     "output_type": "execute_result"
    }
   ],
   "source": [
    "def build_classifier():\n",
    "    return build_model(hub_layer=None, pre_trained_model_name=MODEL_NAME, model_type='classifier', verbose=0)\n",
    "\n",
    "\n",
    "estimator = KerasClassifier(build_fn=build_classifier, epochs=100, batch_size=1024, verbose=2, validation_split=VAL_FRACTION)\n",
    "x_train_clf = np.array(list(rated_comments.value))\n",
    "y_train_clf = np.array(list((rated_comments.rating.astype(float)>=GOOD_REVIEW_THRESHOLD).astype(int)))\n",
    "\n",
    "clf = GridSearchCV(\n",
    "    estimator, \n",
    "    cv=3, \n",
    "    param_grid={}\n",
    ")\n",
    "clf.fit(x_train_clf, y_train_clf, callbacks=[tf.keras.callbacks.EarlyStopping(monitor='val_accuracy', patience=5, min_delta=0.001)])"
   ]
  },
  {
   "cell_type": "code",
   "execution_count": 24,
   "metadata": {},
   "outputs": [],
   "source": [
    "classifier = clf.best_estimator_\n",
    "classifier_history_dict = classifier.model.history.history"
   ]
  },
  {
   "cell_type": "code",
   "execution_count": 25,
   "metadata": {},
   "outputs": [
    {
     "data": {
      "text/plain": [
       "dict_keys(['loss', 'accuracy', 'val_loss', 'val_accuracy'])"
      ]
     },
     "execution_count": 25,
     "metadata": {},
     "output_type": "execute_result"
    }
   ],
   "source": [
    "classifier_history_dict.keys()"
   ]
  },
  {
   "cell_type": "code",
   "execution_count": 26,
   "metadata": {},
   "outputs": [],
   "source": [
    "acc = classifier_history_dict['accuracy']\n",
    "val_acc = classifier_history_dict['val_accuracy']\n",
    "loss = classifier_history_dict['loss']\n",
    "val_loss = classifier_history_dict['val_loss']"
   ]
  },
  {
   "cell_type": "code",
   "execution_count": 27,
   "metadata": {},
   "outputs": [],
   "source": [
    "epochs = range(1, len(acc) + 1) "
   ]
  },
  {
   "cell_type": "code",
   "execution_count": 28,
   "metadata": {},
   "outputs": [
    {
     "data": {
      "image/png": "[encoded data removed]",
      "text/plain": [
       "<Figure size 648x360 with 1 Axes>"
      ]
     },
     "metadata": {
      "needs_background": "light"
     },
     "output_type": "display_data"
    }
   ],
   "source": [
    "# \"bo\" is for \"blue dot\"\n",
    "plt.figure(figsize=(9, 5))\n",
    "plt.plot(epochs, loss, 'bo', label='Training loss')\n",
    "# b is for \"solid blue line\"\n",
    "plt.plot(epochs, val_loss, 'b', label='Validation loss')\n",
    "plt.title('Training and validation loss')\n",
    "plt.xlabel('Epochs')\n",
    "plt.ylabel('Loss')\n",
    "plt.grid(True)\n",
    "plt.legend()\n",
    "\n",
    "plt.show()"
   ]
  },
  {
   "cell_type": "code",
   "execution_count": 29,
   "metadata": {},
   "outputs": [
    {
     "data": {
      "image/png": "[encoded data removed]",
      "text/plain": [
       "<Figure size 648x360 with 1 Axes>"
      ]
     },
     "metadata": {
      "needs_background": "light"
     },
     "output_type": "display_data"
    }
   ],
   "source": [
    "plt.figure(figsize=(9, 5))\n",
    "plt.plot(epochs, acc, 'bo', label='Training acc')\n",
    "plt.plot(epochs, val_acc, 'b', label='Validation acc')\n",
    "plt.title('Training and validation accuracy')\n",
    "plt.xlabel('Epochs')\n",
    "plt.ylabel('Accuracy')\n",
    "plt.grid(True)\n",
    "plt.legend()\n",
    "\n",
    "plt.show()"
   ]
  },
  {
   "cell_type": "code",
   "execution_count": 30,
   "metadata": {},
   "outputs": [
    {
     "name": "stdout",
     "output_type": "stream",
     "text": [
      "input:\n",
      "\"Decision making taking over. Less game than management of decisions at the right time and thus not providing the right atmosphere for the story. No mistaking, mechanics work excellent and look is great too; just to less a game of/with spirit for me.\"\n",
      "score: 0.000000\n",
      "actual value:0\n",
      "\n",
      "input:\n",
      "\"Very nice gameplay with lots of opportunities, heavy as i like ?. Beaaaaautiful and best hardware i've seen in the boardgame i know (not a lot)\"\n",
      "score: 1.000000\n",
      "actual value:1\n",
      "\n",
      "input:\n",
      "\"I want this! It looks so cute\"\n",
      "score: 1.000000\n",
      "actual value:1\n",
      "\n",
      "input:\n",
      "\"Superbly balanced game with very clever card play and movement, plays very smoothly and for the number of points earned in a game I am always surprised by how close it can be and how hard it is to see the winner until the end.   The theme itself is not the most engaging and the box size is annoying are my only real gripes.\"\n",
      "score: 1.000000\n",
      "actual value:1\n",
      "\n",
      "input:\n",
      "\"Gets better after a few games\"\n",
      "score: 1.000000\n",
      "actual value:1\n",
      "\n",
      "input:\n",
      "\"with Rails to the North\"\n",
      "score: 1.000000\n",
      "actual value:1\n",
      "\n",
      "input:\n",
      "\"Play with my brother who purchased this as a Kickstarter. VERY fun. Quick and engaging, a lot to think about\"\n",
      "score: 1.000000\n",
      "actual value:1\n",
      "\n",
      "input:\n",
      "\"The game is difficult to master with consistency - which makes the replay value great.  I have several 100+ point games (137 being my highest point total), but there is not one consistent strategy (we’ve burned through at least a book and a half of score cards).  The depth of the game is that you learn to play the birds at hand to their strengths, which is a challenge.  Some birds are better than others, and many believe are broken but if you play with experienced players, it will not guarantee a win or high point total.  As a matter of fact, the birds most decried as broken by the community, in our group, it grants an advantage, but rarely warrants a win (we have over a 100 games under our belt).  Great game and highly recommend.\"\n",
      "score: 1.000000\n",
      "actual value:1\n",
      "\n",
      "input:\n",
      "\"based on info so far. will update once played (why can we rate games not out yet anyways?)\"\n",
      "score: 1.000000\n",
      "actual value:0\n",
      "\n",
      "input:\n",
      "\"boring and repetitive\"\n",
      "score: 0.000000\n",
      "actual value:0\n"
     ]
    },
    {
     "name": "stderr",
     "output_type": "stream",
     "text": [
      "C:\\Users\\dev999\\.conda\\envs\\tensorflow2\\lib\\site-packages\\tensorflow\\python\\keras\\engine\\sequential.py:455: UserWarning: `model.predict_classes()` is deprecated and will be removed after 2021-01-01. Please use instead:* `np.argmax(model.predict(x), axis=-1)`,   if your model does multi-class classification   (e.g. if it uses a `softmax` last-layer activation).* `(model.predict(x) > 0.5).astype(\"int32\")`,   if your model does binary classification   (e.g. if it uses a `sigmoid` last-layer activation).\n",
      "  warnings.warn('`model.predict_classes()` is deprecated and '\n"
     ]
    }
   ],
   "source": [
    "inputs = x_train_clf[:10]\n",
    "outputs = y_train_clf[:10]\n",
    "results = classifier.predict(tf.constant(inputs), verbose=0)\n",
    "print_my_examples(inputs, results, outputs)"
   ]
  },
  {
   "cell_type": "code",
   "execution_count": 31,
   "metadata": {},
   "outputs": [],
   "source": [
    "## APPLY MODEL ON NON-RATED COMMENTS"
   ]
  },
  {
   "cell_type": "code",
   "execution_count": 32,
   "metadata": {},
   "outputs": [
    {
     "name": "stdout",
     "output_type": "stream",
     "text": [
      "7/7 - 0s\n",
      "input:\n",
      "\"All-in Kickstarter bundle includes Innkeeper, Oracle and Dragon Rancher expansions\"\n",
      "score: 1.000000\n",
      "\n",
      "input:\n",
      "\"Go7Gaming Hobby Lobby insert / bit box, coin capsules\"\n",
      "score: 1.000000\n",
      "\n",
      "input:\n",
      "\"looks cool. Really cool system with voiced APP replayability relizes on new stories which has cool system to create your own or get ones from community.You still would be seeing the same items and people just in different context. Very cool. Will wait for reviews and retail market to see it action for now.\"\n",
      "score: 1.000000\n",
      "\n",
      "input:\n",
      "\"Hasn't been paid for yet, will be paid on 09/06/2021. Shipping costs and possibly VAT will be paid via the pledge manager. Estimated delivery, Q1 2022\"\n",
      "score: 1.000000\n",
      "\n",
      "input:\n",
      "\"way too complicated for parties. 1 to 4 players.\"\n",
      "score: 0.000000\n",
      "\n",
      "input:\n",
      "\"Sleeved -FFG Grey.  Own: The Riverfolk Expansion The Underworld Expansion Vagabond Pack Exiles and Partisans Deck Resin Clearing Markers \"\n",
      "score: 1.000000\n",
      "\n",
      "input:\n",
      "\"Andres spoke about Nov. 2019 at Harold Washington Library/Tapster\"\n",
      "score: 1.000000\n",
      "\n",
      "input:\n",
      "\"2017 - 3.94 - #13 Aesthetics - 7.5 Components - 8 Concept - 8 Mechanisms - 7.5 Combined Total - 31/40\"\n",
      "score: 1.000000\n",
      "\n",
      "input:\n",
      "\"Awaiting Kickstarter Delivery\"\n",
      "score: 1.000000\n",
      "\n",
      "input:\n",
      "\"HIGH lightweight gloomhaven prequel\"\n",
      "score: 1.000000\n"
     ]
    }
   ],
   "source": [
    "not_rated_comments = not_rated_comments.sample(frac=1)\n",
    "results = classifier.predict(tf.constant(list(not_rated_comments.value.astype(str))))\n",
    "print_my_examples(list(not_rated_comments.value), results, limit=10)"
   ]
  },
  {
   "cell_type": "markdown",
   "metadata": {},
   "source": [
    "## REGRESSOR"
   ]
  },
  {
   "cell_type": "code",
   "execution_count": 33,
   "metadata": {},
   "outputs": [
    {
     "data": {
      "text/plain": [
       "GridSearchCV(cv=3,\n",
       "             estimator=<tensorflow.python.keras.wrappers.scikit_learn.KerasRegressor object at 0x000001E61B984AF0>,\n",
       "             param_grid={})"
      ]
     },
     "execution_count": 33,
     "metadata": {},
     "output_type": "execute_result"
    }
   ],
   "source": [
    "def build_regressor():\n",
    "    return build_model(hub_layer, pre_trained_model_name=MODEL_NAME, model_type='regressor', verbose=0)\n",
    "\n",
    "\n",
    "estimator = KerasRegressor(build_fn=build_regressor, epochs=100, batch_size=512, verbose=0, validation_split=VAL_FRACTION)\n",
    "x_train_reg = np.array(list(rated_comments.value))\n",
    "y_train_reg = np.array(list(rated_comments.rating.astype(float)))\n",
    "\n",
    "clf = GridSearchCV(\n",
    "    estimator, \n",
    "    cv=3, \n",
    "    param_grid={}\n",
    ")\n",
    "clf.fit(x_train_reg, y_train_reg, callbacks=[tf.keras.callbacks.EarlyStopping(monitor='val_mean_squared_error', patience=5, min_delta=0.001)])"
   ]
  },
  {
   "cell_type": "code",
   "execution_count": 34,
   "metadata": {},
   "outputs": [],
   "source": [
    "regressor = clf.best_estimator_\n",
    "regressor_history_dict = regressor.model.history.history"
   ]
  },
  {
   "cell_type": "code",
   "execution_count": 35,
   "metadata": {},
   "outputs": [
    {
     "data": {
      "text/plain": [
       "dict_keys(['loss', 'mean_squared_error', 'val_loss', 'val_mean_squared_error'])"
      ]
     },
     "execution_count": 35,
     "metadata": {},
     "output_type": "execute_result"
    }
   ],
   "source": [
    "regressor_history_dict.keys()"
   ]
  },
  {
   "cell_type": "code",
   "execution_count": 36,
   "metadata": {},
   "outputs": [],
   "source": [
    "mean_squared_error = regressor_history_dict['mean_squared_error']\n",
    "val_mean_squared_error = regressor_history_dict['val_mean_squared_error']\n",
    "loss = regressor_history_dict['loss']\n",
    "val_loss = regressor_history_dict['val_loss']"
   ]
  },
  {
   "cell_type": "code",
   "execution_count": 37,
   "metadata": {},
   "outputs": [],
   "source": [
    "epochs = range(1, len(mean_squared_error) + 1) "
   ]
  },
  {
   "cell_type": "code",
   "execution_count": 38,
   "metadata": {},
   "outputs": [
    {
     "name": "stdout",
     "output_type": "stream",
     "text": [
      "MEAN SQUARED ERROR (VALIDATION SET): 2.74\n"
     ]
    }
   ],
   "source": [
    "print(f\"MEAN SQUARED ERROR (VALIDATION SET): {val_mean_squared_error[-1]:.2f}\")"
   ]
  },
  {
   "cell_type": "code",
   "execution_count": 39,
   "metadata": {},
   "outputs": [
    {
     "name": "stdout",
     "output_type": "stream",
     "text": [
      "MEAN SQUARED ERROR (TRAINING SET): 0.98\n"
     ]
    }
   ],
   "source": [
    "print(f\"MEAN SQUARED ERROR (TRAINING SET): {mean_squared_error[-1]:.2f}\")"
   ]
  },
  {
   "cell_type": "code",
   "execution_count": 40,
   "metadata": {},
   "outputs": [
    {
     "data": {
      "image/png": "[encoded data removed]",
      "text/plain": [
       "<Figure size 648x360 with 1 Axes>"
      ]
     },
     "metadata": {
      "needs_background": "light"
     },
     "output_type": "display_data"
    }
   ],
   "source": [
    "# \"bo\" is for \"blue dot\"\n",
    "plt.figure(figsize=(9, 5))\n",
    "plt.plot(epochs, loss, 'bo', label='Training loss')\n",
    "# b is for \"solid blue line\"\n",
    "plt.plot(epochs, val_loss, 'b', label='Validation loss')\n",
    "plt.title('Training and validation loss')\n",
    "plt.xlabel('Epochs')\n",
    "plt.ylabel('Loss')\n",
    "plt.grid(True)\n",
    "plt.legend()\n",
    "\n",
    "plt.show()"
   ]
  },
  {
   "cell_type": "code",
   "execution_count": 41,
   "metadata": {},
   "outputs": [
    {
     "data": {
      "image/png": "[encoded data removed]",
      "text/plain": [
       "<Figure size 648x360 with 1 Axes>"
      ]
     },
     "metadata": {
      "needs_background": "light"
     },
     "output_type": "display_data"
    }
   ],
   "source": [
    "plt.figure(figsize=(9, 5))\n",
    "plt.plot(epochs, mean_squared_error, 'bo', label='Training mean squared error')\n",
    "plt.plot(epochs, val_mean_squared_error, 'b', label='Validation mean squared error')\n",
    "plt.title('Training and validation accuracy')\n",
    "plt.xlabel('Epochs')\n",
    "plt.ylabel('Mean squared error')\n",
    "plt.grid(True)\n",
    "plt.legend()\n",
    "\n",
    "plt.show()"
   ]
  },
  {
   "cell_type": "code",
   "execution_count": 42,
   "metadata": {},
   "outputs": [
    {
     "name": "stdout",
     "output_type": "stream",
     "text": [
      "input: \n",
      "\"Decision making taking over. Less game than management of decisions at the right time and thus not providing the right atmosphere for the story. No mistaking, mechanics work excellent and look is great too; just to less a game of/with spirit for me.\"\n",
      "score: 6.24\n",
      "actual: 6.00 \n",
      "\n",
      "input: \n",
      "\"Very nice gameplay with lots of opportunities, heavy as i like ?. Beaaaaautiful and best hardware i've seen in the boardgame i know (not a lot)\"\n",
      "score: 7.47\n",
      "actual: 7.50 \n",
      "\n",
      "input: \n",
      "\"I want this! It looks so cute\"\n",
      "score: 8.01\n",
      "actual: 10.00 \n",
      "\n",
      "input: \n",
      "\"Superbly balanced game with very clever card play and movement, plays very smoothly and for the number of points earned in a game I am always surprised by how close it can be and how hard it is to see the winner until the end.   The theme itself is not the most engaging and the box size is annoying are my only real gripes.\"\n",
      "score: 9.11\n",
      "actual: 9.00 \n",
      "\n",
      "input: \n",
      "\"Gets better after a few games\"\n",
      "score: 8.57\n",
      "actual: 8.00 \n",
      "\n",
      "input: \n",
      "\"with Rails to the North\"\n",
      "score: 8.61\n",
      "actual: 10.00 \n",
      "\n",
      "input: \n",
      "\"Play with my brother who purchased this as a Kickstarter. VERY fun. Quick and engaging, a lot to think about\"\n",
      "score: 7.83\n",
      "actual: 8.00 \n",
      "\n",
      "input: \n",
      "\"The game is difficult to master with consistency - which makes the replay value great.  I have several 100+ point games (137 being my highest point total), but there is not one consistent strategy (we’ve burned through at least a book and a half of score cards).  The depth of the game is that you learn to play the birds at hand to their strengths, which is a challenge.  Some birds are better than others, and many believe are broken but if you play with experienced players, it will not guarantee a win or high point total.  As a matter of fact, the birds most decried as broken by the community, in our group, it grants an advantage, but rarely warrants a win (we have over a 100 games under our belt).  Great game and highly recommend.\"\n",
      "score: 9.14\n",
      "actual: 9.00 \n",
      "\n",
      "input: \n",
      "\"based on info so far. will update once played (why can we rate games not out yet anyways?)\"\n",
      "score: 6.87\n",
      "actual: 1.00 \n",
      "\n",
      "input: \n",
      "\"boring and repetitive\"\n",
      "score: 2.80\n",
      "actual: 5.00 \n",
      "\n"
     ]
    }
   ],
   "source": [
    "inputs = x_train_reg[:10]\n",
    "outputs = y_train_reg[:10]\n",
    "results = clf.best_estimator_.predict(tf.constant(inputs), verbose=0)\n",
    "for i in range(len(inputs)):\n",
    "    print(f\"input: \\n\\\"{inputs[i]}\\\"\\nscore: {results[i]:.2f}\\nactual: {outputs[i]:.2f} \\n\")"
   ]
  },
  {
   "cell_type": "markdown",
   "metadata": {},
   "source": [
    "## COMPARE CLASSIFIER VS REGRESSOR"
   ]
  },
  {
   "cell_type": "code",
   "execution_count": 43,
   "metadata": {},
   "outputs": [
    {
     "name": "stdout",
     "output_type": "stream",
     "text": [
      "\"In the Netherlands. Backed the Kickstarter for this and Brass: Lancashire.\"\n",
      "    reg score: 9.53\n",
      "    clf score: 1\n",
      "\n",
      "\"Consegna stimata MAY 2020 + 3 month for translation\"\n",
      "    reg score: 7.82\n",
      "    clf score: 1\n",
      "\n",
      "\"2-4 player (2), Co-op ~90-120 mins ~18-19k HUF + expansions Complexity: 3.95\"\n",
      "    reg score: 9.24\n",
      "    clf score: 1\n",
      "\n",
      "\"incl. Monsters of Avalon and The Fall of Avalon Surprise Box (KS)\"\n",
      "    reg score: 4.33\n",
      "    clf score: 1\n",
      "\n",
      "\"2-4P (best 3/4) - 90mn  Deluxe edition  Deckbuilding/worker placement  EN\"\n",
      "    reg score: 8.62\n",
      "    clf score: 1\n",
      "\n",
      "\"Kickstarted: Underworld Warrior Root: The Underworld Expansion Root: The Exiles and Partisans Deck Root: The Vagabond Pack Root: Resin Clearing Markers Root: The Marauder Expansion Riverfolk Hireling Pack Landmarks Pack Six More Hirelings \"\n",
      "    reg score: 9.43\n",
      "    clf score: 1\n",
      "\n",
      "\"To be played in ~4 people to really enjoy it.\"\n",
      "    reg score: 6.72\n",
      "    clf score: 0\n",
      "\n",
      "\"Sold in October 2020 via ebay  Backed the Kickstarter - All-In!  Arrived Dec 2019\"\n",
      "    reg score: 7.99\n",
      "    clf score: 1\n",
      "\n",
      "\"Weight: 2.42 Players: 1-5 Categories: Animals Card Game Educational Card Drafting Dice Rolling Drafting End Game Bonuses Hand Management Set Collection Solo / Solitaire Game\"\n",
      "    reg score: 9.87\n",
      "    clf score: 1\n",
      "\n",
      "\"The best Stonemaier release BY FAR. Beautiful production!\"\n",
      "    reg score: 9.01\n",
      "    clf score: 1\n",
      "\n"
     ]
    },
    {
     "name": "stderr",
     "output_type": "stream",
     "text": [
      "C:\\Users\\dev999\\.conda\\envs\\tensorflow2\\lib\\site-packages\\tensorflow\\python\\keras\\engine\\sequential.py:455: UserWarning: `model.predict_classes()` is deprecated and will be removed after 2021-01-01. Please use instead:* `np.argmax(model.predict(x), axis=-1)`,   if your model does multi-class classification   (e.g. if it uses a `softmax` last-layer activation).* `(model.predict(x) > 0.5).astype(\"int32\")`,   if your model does binary classification   (e.g. if it uses a `sigmoid` last-layer activation).\n",
      "  warnings.warn('`model.predict_classes()` is deprecated and '\n"
     ]
    }
   ],
   "source": [
    "not_rated_comments = not_rated_comments.sample(frac=1)\n",
    "inputs = list(not_rated_comments.value.astype(str))[:10]\n",
    "\n",
    "clf_results = classifier.predict(inputs, verbose=0)\n",
    "reg_results = regressor.predict(inputs, verbose=0)\n",
    "for i in range(len(inputs)):\n",
    "    print(f\"\"\"\\\"{inputs[i]}\\\"\n",
    "    reg score: {reg_results[i]:.2f}\n",
    "    clf score: {clf_results[i][0]}\n",
    "\"\"\")"
   ]
  },
  {
   "cell_type": "markdown",
   "metadata": {},
   "source": [
    "### RESULTS\n",
    "It seems that the regressor is much more accurate compared to the binary classifier => **let's use the regressors results to fix the BGG rating**"
   ]
  },
  {
   "cell_type": "markdown",
   "metadata": {},
   "source": [
    "## COMBINE RATED COMMENTS AND NOT-RATED COMMENTS WITH PREDICTED RATING"
   ]
  },
  {
   "cell_type": "code",
   "execution_count": 44,
   "metadata": {},
   "outputs": [
    {
     "name": "stdout",
     "output_type": "stream",
     "text": [
      "rated_comments_grouped: \n",
      "|     id |   rating_mean |   rating_count |\n",
      "|--------|---------------|----------------|\n",
      "| 124361 |          8.19 |           3847 |\n",
      "| 128671 |          7.57 |           1073 |\n",
      "| 162886 |          8.36 |           3525 |\n",
      "| 167355 |          8.42 |           1814 |\n",
      "| 167791 |          8.21 |           8256 |\n"
     ]
    }
   ],
   "source": [
    "rated_comments['rating'] = rated_comments.rating.astype(float)\n",
    "rated_comments_grouped = rated_comments.groupby('id').agg({'rating': ['mean', 'count']})\n",
    "rated_comments_grouped.columns = list(rated_comments_grouped.columns.map('_'.join))\n",
    "rated_comments_grouped = rated_comments_grouped.reset_index()\n",
    "print(\"rated_comments_grouped: \")\n",
    "print(rated_comments_grouped.head().to_markdown(index=False, floatfmt='.2f', tablefmt='github'))"
   ]
  },
  {
   "cell_type": "code",
   "execution_count": 45,
   "metadata": {},
   "outputs": [],
   "source": [
    "not_rated_comments['rating'] = regressor.predict(list(not_rated_comments.value.astype(str)))"
   ]
  },
  {
   "cell_type": "code",
   "execution_count": 46,
   "metadata": {},
   "outputs": [
    {
     "name": "stdout",
     "output_type": "stream",
     "text": [
      "not_rated_comments_grouped: \n",
      "|     id |   rating_mean |   rating_count |\n",
      "|--------|---------------|----------------|\n",
      "| 124361 |          8.04 |            256 |\n",
      "| 128671 |          7.59 |             98 |\n",
      "| 162886 |          8.14 |            314 |\n",
      "| 167355 |          8.21 |            215 |\n",
      "| 167791 |          8.23 |            439 |\n"
     ]
    }
   ],
   "source": [
    "not_rated_comments['rating'] = not_rated_comments.rating.astype(float)\n",
    "not_rated_comments['rating'] = not_rated_comments['rating'].clip(0, 10)\n",
    "not_rated_comments_grouped = not_rated_comments.groupby('id').agg({'rating': ['mean', 'count']})\n",
    "not_rated_comments_grouped.columns = list(not_rated_comments_grouped.columns.map('_'.join))\n",
    "not_rated_comments_grouped = not_rated_comments_grouped.reset_index()\n",
    "print(\"not_rated_comments_grouped: \")\n",
    "print(not_rated_comments_grouped.head().to_markdown(index=False, floatfmt='.2f', tablefmt='github'))"
   ]
  },
  {
   "cell_type": "code",
   "execution_count": 47,
   "metadata": {},
   "outputs": [],
   "source": [
    "grouped = rated_comments_grouped.merge(not_rated_comments_grouped, on='id', suffixes=('_review', '_comments'), how='outer')\n",
    "grouped['id'] = grouped.id.astype(str)\n",
    "grouped = grouped.merge(pd.DataFrame(hot_array), on='id', how='right')\n",
    "grouped['rank'] = grouped['rank'].astype(int)\n",
    "grouped['url'] = grouped['id'].apply(lambda x: f\"https://boardgamegeek.com/boardgame/{x}\")\n",
    "grouped['fixed_rating'] = (grouped['rating_mean_review']*grouped['rating_count_review']+grouped['rating_mean_comments']*grouped['rating_count_comments']) /\\\n",
    "                            (grouped['rating_count_review']+grouped['rating_count_comments'])\n",
    "grouped['thumbnail'] = grouped['thumbnail'].apply(lambda x: f'<img src=\"{x}\" width=\"124\" />')\n",
    "grouped['name'] = grouped.apply(lambda x: f'<a href=\"{x[\"url\"]}\">{x[\"name\"]}</a>', axis=1)\n",
    "\n",
    "grouped = grouped[['thumbnail', 'name', 'rating_mean_review', 'rating_mean_comments', 'fixed_rating', 'rank', 'yearpublished']]"
   ]
  },
  {
   "cell_type": "code",
   "execution_count": 48,
   "metadata": {},
   "outputs": [
    {
     "data": {
      "text/html": [
       "<div>\n",
       "<style scoped>\n",
       "    .dataframe tbody tr th:only-of-type {\n",
       "        vertical-align: middle;\n",
       "    }\n",
       "\n",
       "    .dataframe tbody tr th {\n",
       "        vertical-align: top;\n",
       "    }\n",
       "\n",
       "    .dataframe thead th {\n",
       "        text-align: right;\n",
       "    }\n",
       "</style>\n",
       "<table border=\"1\" class=\"dataframe\">\n",
       "  <thead>\n",
       "    <tr style=\"text-align: right;\">\n",
       "      <th></th>\n",
       "      <th>thumbnail</th>\n",
       "      <th>name</th>\n",
       "      <th>rating_mean_review</th>\n",
       "      <th>rating_mean_comments</th>\n",
       "      <th>fixed_rating</th>\n",
       "      <th>rank</th>\n",
       "      <th>yearpublished</th>\n",
       "    </tr>\n",
       "  </thead>\n",
       "  <tbody>\n",
       "    <tr>\n",
       "      <th>0</th>\n",
       "      <td>&lt;img src=\"https://cf.geekdo-images.com/tQVVSXc...</td>\n",
       "      <td>&lt;a href=\"https://boardgamegeek.com/boardgame/3...</td>\n",
       "      <td>6.152174</td>\n",
       "      <td>8.698783</td>\n",
       "      <td>7.397183</td>\n",
       "      <td>1</td>\n",
       "      <td>2022</td>\n",
       "    </tr>\n",
       "    <tr>\n",
       "      <th>1</th>\n",
       "      <td>&lt;img src=\"https://cf.geekdo-images.com/6GqH14T...</td>\n",
       "      <td>&lt;a href=\"https://boardgamegeek.com/boardgame/3...</td>\n",
       "      <td>7.842569</td>\n",
       "      <td>7.713243</td>\n",
       "      <td>7.831523</td>\n",
       "      <td>2</td>\n",
       "      <td>2020</td>\n",
       "    </tr>\n",
       "    <tr>\n",
       "      <th>2</th>\n",
       "      <td>&lt;img src=\"https://cf.geekdo-images.com/oaD1ZQ3...</td>\n",
       "      <td>&lt;a href=\"https://boardgamegeek.com/boardgame/2...</td>\n",
       "      <td>8.337391</td>\n",
       "      <td>7.055841</td>\n",
       "      <td>8.019098</td>\n",
       "      <td>3</td>\n",
       "      <td>2021</td>\n",
       "    </tr>\n",
       "    <tr>\n",
       "      <th>3</th>\n",
       "      <td>&lt;img src=\"https://cf.geekdo-images.com/gTxav_K...</td>\n",
       "      <td>&lt;a href=\"https://boardgamegeek.com/boardgame/2...</td>\n",
       "      <td>7.849466</td>\n",
       "      <td>7.896762</td>\n",
       "      <td>7.866241</td>\n",
       "      <td>4</td>\n",
       "      <td>2021</td>\n",
       "    </tr>\n",
       "    <tr>\n",
       "      <th>4</th>\n",
       "      <td>&lt;img src=\"https://cf.geekdo-images.com/z4QtTBa...</td>\n",
       "      <td>&lt;a href=\"https://boardgamegeek.com/boardgame/3...</td>\n",
       "      <td>9.100000</td>\n",
       "      <td>9.074135</td>\n",
       "      <td>9.092610</td>\n",
       "      <td>5</td>\n",
       "      <td>2021</td>\n",
       "    </tr>\n",
       "  </tbody>\n",
       "</table>\n",
       "</div>"
      ],
      "text/plain": [
       "                                           thumbnail  \\\n",
       "0  <img src=\"https://cf.geekdo-images.com/tQVVSXc...   \n",
       "1  <img src=\"https://cf.geekdo-images.com/6GqH14T...   \n",
       "2  <img src=\"https://cf.geekdo-images.com/oaD1ZQ3...   \n",
       "3  <img src=\"https://cf.geekdo-images.com/gTxav_K...   \n",
       "4  <img src=\"https://cf.geekdo-images.com/z4QtTBa...   \n",
       "\n",
       "                                                name  rating_mean_review  \\\n",
       "0  <a href=\"https://boardgamegeek.com/boardgame/3...            6.152174   \n",
       "1  <a href=\"https://boardgamegeek.com/boardgame/3...            7.842569   \n",
       "2  <a href=\"https://boardgamegeek.com/boardgame/2...            8.337391   \n",
       "3  <a href=\"https://boardgamegeek.com/boardgame/2...            7.849466   \n",
       "4  <a href=\"https://boardgamegeek.com/boardgame/3...            9.100000   \n",
       "\n",
       "   rating_mean_comments  fixed_rating  rank yearpublished  \n",
       "0              8.698783      7.397183     1          2022  \n",
       "1              7.713243      7.831523     2          2020  \n",
       "2              7.055841      8.019098     3          2021  \n",
       "3              7.896762      7.866241     4          2021  \n",
       "4              9.074135      9.092610     5          2021  "
      ]
     },
     "execution_count": 48,
     "metadata": {},
     "output_type": "execute_result"
    }
   ],
   "source": [
    "grouped.head()"
   ]
  },
  {
   "cell_type": "code",
   "execution_count": 49,
   "metadata": {},
   "outputs": [],
   "source": [
    "def display_topn(by, n=5, ascending=True):\n",
    "    temp_df = grouped.sort_values(by, ascending=ascending).head(n)\n",
    "    temp_df.index=list(range(1, n+1))\n",
    "    return HTML(temp_df.to_html(escape=False, classes='table table-striped'))"
   ]
  },
  {
   "cell_type": "code",
   "execution_count": 50,
   "metadata": {},
   "outputs": [
    {
     "data": {
      "text/html": [
       "<table border=\"1\" class=\"dataframe table table-striped\">\n",
       "  <thead>\n",
       "    <tr style=\"text-align: right;\">\n",
       "      <th></th>\n",
       "      <th>thumbnail</th>\n",
       "      <th>name</th>\n",
       "      <th>rating_mean_review</th>\n",
       "      <th>rating_mean_comments</th>\n",
       "      <th>fixed_rating</th>\n",
       "      <th>rank</th>\n",
       "      <th>yearpublished</th>\n",
       "    </tr>\n",
       "  </thead>\n",
       "  <tbody>\n",
       "    <tr>\n",
       "      <th>1</th>\n",
       "      <td><img src=\"https://cf.geekdo-images.com/tQVVSXcmYLvAoI28cp-2Tg__thumb/img/ahKWaUSws5zja4feB4VexkNV3Mc=/fit-in/200x150/filters:strip_icc()/pic5974859.jpg\" width=\"124\" /></td>\n",
       "      <td><a href=\"https://boardgamegeek.com/boardgame/331106\">The Witcher: Old World</a></td>\n",
       "      <td>6.152174</td>\n",
       "      <td>8.698783</td>\n",
       "      <td>7.397183</td>\n",
       "      <td>1</td>\n",
       "      <td>2022</td>\n",
       "    </tr>\n",
       "    <tr>\n",
       "      <th>2</th>\n",
       "      <td><img src=\"https://cf.geekdo-images.com/6GqH14TJJhza86BX5HCLEQ__thumb/img/J8SVmGOJXZGxNjkT3xYNQU7Haxg=/fit-in/200x150/filters:strip_icc()/pic5674958.jpg\" width=\"124\" /></td>\n",
       "      <td><a href=\"https://boardgamegeek.com/boardgame/312484\">Lost Ruins of Arnak</a></td>\n",
       "      <td>7.842569</td>\n",
       "      <td>7.713243</td>\n",
       "      <td>7.831523</td>\n",
       "      <td>2</td>\n",
       "      <td>2020</td>\n",
       "    </tr>\n",
       "    <tr>\n",
       "      <th>3</th>\n",
       "      <td><img src=\"https://cf.geekdo-images.com/oaD1ZQ3yGj6lacLdtqgdnQ__thumb/img/1mCz7HPEFMeqaqJHsDZwEUc9ftw=/fit-in/200x150/filters:strip_icc()/pic5558118.png\" width=\"124\" /></td>\n",
       "      <td><a href=\"https://boardgamegeek.com/boardgame/285192\">Destinies</a></td>\n",
       "      <td>8.337391</td>\n",
       "      <td>7.055841</td>\n",
       "      <td>8.019098</td>\n",
       "      <td>3</td>\n",
       "      <td>2021</td>\n",
       "    </tr>\n",
       "    <tr>\n",
       "      <th>4</th>\n",
       "      <td><img src=\"https://cf.geekdo-images.com/gTxav_KKQK1rDg-XuCjCSA__thumb/img/tFTOAKG5aDXxYfNRmJNmfyxH83M=/fit-in/200x150/filters:strip_icc()/pic5164812.jpg\" width=\"124\" /></td>\n",
       "      <td><a href=\"https://boardgamegeek.com/boardgame/291572\">Oath: Chronicles of Empire and Exile</a></td>\n",
       "      <td>7.849466</td>\n",
       "      <td>7.896762</td>\n",
       "      <td>7.866241</td>\n",
       "      <td>4</td>\n",
       "      <td>2021</td>\n",
       "    </tr>\n",
       "    <tr>\n",
       "      <th>5</th>\n",
       "      <td><img src=\"https://cf.geekdo-images.com/z4QtTBaabg2OCJfGNQ1x6g__thumb/img/pCv-Ojnr07dqZRdst7KtZDiOkGU=/fit-in/200x150/filters:strip_icc()/pic6177915.png\" width=\"124\" /></td>\n",
       "      <td><a href=\"https://boardgamegeek.com/boardgame/338841\">Lost Ruins of Arnak: The Search for Professor Kutil</a></td>\n",
       "      <td>9.100000</td>\n",
       "      <td>9.074135</td>\n",
       "      <td>9.092610</td>\n",
       "      <td>5</td>\n",
       "      <td>2021</td>\n",
       "    </tr>\n",
       "  </tbody>\n",
       "</table>"
      ],
      "text/plain": [
       "<IPython.core.display.HTML object>"
      ]
     },
     "execution_count": 50,
     "metadata": {},
     "output_type": "execute_result"
    }
   ],
   "source": [
    "# TOP N RANK\n",
    "display_topn(by='rank', n=TOP_N)"
   ]
  },
  {
   "cell_type": "code",
   "execution_count": 51,
   "metadata": {},
   "outputs": [
    {
     "data": {
      "text/html": [
       "<table border=\"1\" class=\"dataframe table table-striped\">\n",
       "  <thead>\n",
       "    <tr style=\"text-align: right;\">\n",
       "      <th></th>\n",
       "      <th>thumbnail</th>\n",
       "      <th>name</th>\n",
       "      <th>rating_mean_review</th>\n",
       "      <th>rating_mean_comments</th>\n",
       "      <th>fixed_rating</th>\n",
       "      <th>rank</th>\n",
       "      <th>yearpublished</th>\n",
       "    </tr>\n",
       "  </thead>\n",
       "  <tbody>\n",
       "    <tr>\n",
       "      <th>1</th>\n",
       "      <td><img src=\"https://cf.geekdo-images.com/KTKXgGGyL4KkSQRphCWROw__thumb/img/kfO6wC4uNWeLXlFQvjDYcL-0DrI=/fit-in/200x150/filters:strip_icc()/pic6181696.png\" width=\"124\" /></td>\n",
       "      <td><a href=\"https://boardgamegeek.com/boardgame/339031\">The Goonies: Never Say Die</a></td>\n",
       "      <td>10.000000</td>\n",
       "      <td>4.397733</td>\n",
       "      <td>7.198867</td>\n",
       "      <td>6</td>\n",
       "      <td>2021</td>\n",
       "    </tr>\n",
       "    <tr>\n",
       "      <th>2</th>\n",
       "      <td><img src=\"https://cf.geekdo-images.com/z4QtTBaabg2OCJfGNQ1x6g__thumb/img/pCv-Ojnr07dqZRdst7KtZDiOkGU=/fit-in/200x150/filters:strip_icc()/pic6177915.png\" width=\"124\" /></td>\n",
       "      <td><a href=\"https://boardgamegeek.com/boardgame/338841\">Lost Ruins of Arnak: The Search for Professor Kutil</a></td>\n",
       "      <td>9.100000</td>\n",
       "      <td>9.074135</td>\n",
       "      <td>9.092610</td>\n",
       "      <td>5</td>\n",
       "      <td>2021</td>\n",
       "    </tr>\n",
       "    <tr>\n",
       "      <th>3</th>\n",
       "      <td><img src=\"https://cf.geekdo-images.com/x3zxjr-Vw5iU4yDPg70Jgw__thumb/img/o18rjEemoWaVru9Y2TyPwuIaRfE=/fit-in/200x150/filters:strip_icc()/pic3490053.jpg\" width=\"124\" /></td>\n",
       "      <td><a href=\"https://boardgamegeek.com/boardgame/224517\">Brass: Birmingham</a></td>\n",
       "      <td>8.682774</td>\n",
       "      <td>8.182205</td>\n",
       "      <td>8.637447</td>\n",
       "      <td>28</td>\n",
       "      <td>2018</td>\n",
       "    </tr>\n",
       "    <tr>\n",
       "      <th>4</th>\n",
       "      <td><img src=\"https://cf.geekdo-images.com/hRuD1y5BxdNpssgBqamS0A__thumb/img/fpUu1t2YLjJ4EvEzBGTKtZasNv4=/fit-in/200x150/filters:strip_icc()/pic4595897.jpg\" width=\"124\" /></td>\n",
       "      <td><a href=\"https://boardgamegeek.com/boardgame/169427\">Middara: Unintentional Malum – Act 1</a></td>\n",
       "      <td>8.636377</td>\n",
       "      <td>8.078221</td>\n",
       "      <td>8.504280</td>\n",
       "      <td>26</td>\n",
       "      <td>2019</td>\n",
       "    </tr>\n",
       "    <tr>\n",
       "      <th>5</th>\n",
       "      <td><img src=\"https://cf.geekdo-images.com/_HhIdavYW-hid20Iq3hhmg__thumb/img/OMkN_E5eyWrkID_cHCnQEbIixGM=/fit-in/200x150/filters:strip_icc()/pic5055631.jpg\" width=\"124\" /></td>\n",
       "      <td><a href=\"https://boardgamegeek.com/boardgame/291457\">Gloomhaven: Jaws of the Lion</a></td>\n",
       "      <td>8.598396</td>\n",
       "      <td>8.080515</td>\n",
       "      <td>8.547026</td>\n",
       "      <td>22</td>\n",
       "      <td>2020</td>\n",
       "    </tr>\n",
       "  </tbody>\n",
       "</table>"
      ],
      "text/plain": [
       "<IPython.core.display.HTML object>"
      ]
     },
     "execution_count": 51,
     "metadata": {},
     "output_type": "execute_result"
    }
   ],
   "source": [
    "# TOP N REVIEW RANK\n",
    "display_topn(by='rating_mean_review', n=TOP_N, ascending=False)"
   ]
  },
  {
   "cell_type": "code",
   "execution_count": 52,
   "metadata": {},
   "outputs": [
    {
     "data": {
      "text/html": [
       "<table border=\"1\" class=\"dataframe table table-striped\">\n",
       "  <thead>\n",
       "    <tr style=\"text-align: right;\">\n",
       "      <th></th>\n",
       "      <th>thumbnail</th>\n",
       "      <th>name</th>\n",
       "      <th>rating_mean_review</th>\n",
       "      <th>rating_mean_comments</th>\n",
       "      <th>fixed_rating</th>\n",
       "      <th>rank</th>\n",
       "      <th>yearpublished</th>\n",
       "    </tr>\n",
       "  </thead>\n",
       "  <tbody>\n",
       "    <tr>\n",
       "      <th>1</th>\n",
       "      <td><img src=\"https://cf.geekdo-images.com/z4QtTBaabg2OCJfGNQ1x6g__thumb/img/pCv-Ojnr07dqZRdst7KtZDiOkGU=/fit-in/200x150/filters:strip_icc()/pic6177915.png\" width=\"124\" /></td>\n",
       "      <td><a href=\"https://boardgamegeek.com/boardgame/338841\">Lost Ruins of Arnak: The Search for Professor Kutil</a></td>\n",
       "      <td>9.100000</td>\n",
       "      <td>9.074135</td>\n",
       "      <td>9.092610</td>\n",
       "      <td>5</td>\n",
       "      <td>2021</td>\n",
       "    </tr>\n",
       "    <tr>\n",
       "      <th>2</th>\n",
       "      <td><img src=\"https://cf.geekdo-images.com/x3zxjr-Vw5iU4yDPg70Jgw__thumb/img/o18rjEemoWaVru9Y2TyPwuIaRfE=/fit-in/200x150/filters:strip_icc()/pic3490053.jpg\" width=\"124\" /></td>\n",
       "      <td><a href=\"https://boardgamegeek.com/boardgame/224517\">Brass: Birmingham</a></td>\n",
       "      <td>8.682774</td>\n",
       "      <td>8.182205</td>\n",
       "      <td>8.637447</td>\n",
       "      <td>28</td>\n",
       "      <td>2018</td>\n",
       "    </tr>\n",
       "    <tr>\n",
       "      <th>3</th>\n",
       "      <td><img src=\"https://cf.geekdo-images.com/_HhIdavYW-hid20Iq3hhmg__thumb/img/OMkN_E5eyWrkID_cHCnQEbIixGM=/fit-in/200x150/filters:strip_icc()/pic5055631.jpg\" width=\"124\" /></td>\n",
       "      <td><a href=\"https://boardgamegeek.com/boardgame/291457\">Gloomhaven: Jaws of the Lion</a></td>\n",
       "      <td>8.598396</td>\n",
       "      <td>8.080515</td>\n",
       "      <td>8.547026</td>\n",
       "      <td>22</td>\n",
       "      <td>2020</td>\n",
       "    </tr>\n",
       "    <tr>\n",
       "      <th>4</th>\n",
       "      <td><img src=\"https://cf.geekdo-images.com/hRuD1y5BxdNpssgBqamS0A__thumb/img/fpUu1t2YLjJ4EvEzBGTKtZasNv4=/fit-in/200x150/filters:strip_icc()/pic4595897.jpg\" width=\"124\" /></td>\n",
       "      <td><a href=\"https://boardgamegeek.com/boardgame/169427\">Middara: Unintentional Malum – Act 1</a></td>\n",
       "      <td>8.636377</td>\n",
       "      <td>8.078221</td>\n",
       "      <td>8.504280</td>\n",
       "      <td>26</td>\n",
       "      <td>2019</td>\n",
       "    </tr>\n",
       "    <tr>\n",
       "      <th>5</th>\n",
       "      <td><img src=\"https://cf.geekdo-images.com/sZYp_3BTDGjh2unaZfZmuA__thumb/img/veqFeP4d_3zNhFc3GNBkV95rBEQ=/fit-in/200x150/filters:strip_icc()/pic2437871.jpg\" width=\"124\" /></td>\n",
       "      <td><a href=\"https://boardgamegeek.com/boardgame/174430\">Gloomhaven</a></td>\n",
       "      <td>8.530407</td>\n",
       "      <td>8.068544</td>\n",
       "      <td>8.492453</td>\n",
       "      <td>16</td>\n",
       "      <td>2017</td>\n",
       "    </tr>\n",
       "  </tbody>\n",
       "</table>"
      ],
      "text/plain": [
       "<IPython.core.display.HTML object>"
      ]
     },
     "execution_count": 52,
     "metadata": {},
     "output_type": "execute_result"
    }
   ],
   "source": [
    "# TOP N FIXED RANK\n",
    "display_topn(by='fixed_rating', n=TOP_N, ascending=False)"
   ]
  },
  {
   "cell_type": "code",
   "execution_count": 53,
   "metadata": {},
   "outputs": [],
   "source": [
    "# model.save('saved_model\\my_model')"
   ]
  },
  {
   "cell_type": "code",
   "execution_count": 54,
   "metadata": {},
   "outputs": [],
   "source": [
    "# saved_model = tf.keras.models.load_model('saved_model\\my_model')"
   ]
  },
  {
   "cell_type": "code",
   "execution_count": 55,
   "metadata": {},
   "outputs": [],
   "source": [
    "# some examples on \"long\" comments vs short comments"
   ]
  },
  {
   "cell_type": "code",
   "execution_count": 56,
   "metadata": {},
   "outputs": [],
   "source": [
    "not_rated_comments['comment_len'] = not_rated_comments['value'].str.len()\n",
    "some_long_comments = not_rated_comments.query(\"comment_len>100 and comment_len<300\").sample(frac=1).head(25).sort_values('rating')"
   ]
  },
  {
   "cell_type": "code",
   "execution_count": 57,
   "metadata": {},
   "outputs": [
    {
     "name": "stdout",
     "output_type": "stream",
     "text": [
      "\"KS edition contains American style casino chips which don't even have the £ symbol on them - such a shame, sends the theme plummeting.\"\n",
      "score: 4.32\n",
      "\n",
      "\"Tried playing it once. The rules were a slog to get through... don’t think I finished the first chapter.\"\n",
      "score: 4.87\n",
      "\n",
      "\"I’m not a fan of engine building games because of how slow they start and it’s usually difficult to figure out how to make the right engine to accomplish the most lucrative goals. Everdell was no different for me.\"\n",
      "score: 4.94\n",
      "\n",
      "\"Good mechanics, but the rules are Not so good, some cards are Hard to understand and removing the tokens from the Inlay boards was Not so easy. And the worst think is, that u cannot close the Box complete....so the Game is ok but the rest could be better.\"\n",
      "score: 4.99\n",
      "\n",
      "\"After a quick game overview, this is only a collect cards to make sets and try to optimize your score. I don't say the game is bad as I did not play the game. But it's just too dry and simple for me.\"\n",
      "score: 5.91\n",
      "\n",
      "\"Sounds interesting but I'm hesitant regarding the combattive interaction and the very high price tag.\"\n",
      "score: 6.07\n",
      "\n",
      "\"Arkham Horror: The Card Game left me with conjured memories of Joe and I's character investigating through the house, mustering our forces and jointly figuring out how to respond to the horrors before us.\"\n",
      "score: 6.18\n",
      "\n",
      "\"Bought it on sale but haven't had the confidence to start playing yet because I'm still overwhelmed by the sheer volume.\"\n",
      "score: 6.61\n",
      "\n",
      "\"Looked interesting and I'm kind of getting into campaign games.  Pre-ordered this and 7th continent, playing  Gloomhaven currently.  Should keep me busy!\"\n",
      "score: 7.12\n",
      "\n",
      "\"Wishlist(1) - was a commercially produced box game  Comment on 4x4 geeklist:  [q=bbblasterfire]While the whole game isn't played on a 4x4 grid, the combat portion is. [/q]\"\n",
      "score: 7.88\n",
      "\n",
      "\"Includes Venus Next, Hellas & Elysium, Prelude, Colonies, BGG User-Created Corporation Pack, Turmoil, Turmoil promos, dual layer player boards, and 4 promo cards - Small Asteroid, Snow Algae, Self Replicating Robots, Penguins - all stored in base game box with Folded Space v2 insert.\"\n",
      "score: 7.91\n",
      "\n",
      "\"Really great euro game which I enjoy. The complexity is not that high and I feel comfortable to play it also with not so avid gamers. I played it once with 2p and 4x with 3p (not logged).\"\n",
      "score: 8.02\n",
      "\n",
      "\"Demo Version.  Has the main game plus the start (but not end) of the campaign included in the retail version.\"\n",
      "score: 8.10\n",
      "\n",
      "\"Finally picked it up, two years after its release. I'm afraid to play it because it has been called the \"Terra Mystica killer\". Terra Mystica is my favorite game of all time and I'm not ready for it to be dethroned. \"\n",
      "score: 8.40\n",
      "\n",
      "\"The infinite beyond expedition Gas giants promo scenario 4 player mats with markers Standees Removable sticker set\"\n",
      "score: 8.59\n",
      "\n",
      "\"Very positive impressions from the review crowd across the board (BGB, Thurot, SVWaG). Tech tree the board game - sign me up!\"\n",
      "score: 8.63\n",
      "\n",
      "\"As has been stated multiple times by others, the production quality in this game is amazing. So much attention to detail with the pieces, the graphic design, and the fancy bits that come with some of the editions. Easily the best production I've seen to come out of China.\"\n",
      "score: 8.74\n",
      "\n",
      "\"Players: 1-5 (Best: 3) Weight: 3.23 playtime: 120 solo: yes #3 style: competitive mechanics: Tableau engine building\"\n",
      "score: 8.98\n",
      "\n",
      "\"Big game, lots of miniature and some nice add ones and expansions available. My two boys played this at a games event in Perth this year and loved it. I’ve played My Little Scythe and liked the gameplay mechanics, so this would be a good fit. Already own the digital version.\"\n",
      "score: 9.02\n",
      "\n",
      "\"+Expansions  - The Riverfolk Expansion  - The Underworld Expansion  - The Marauder Expansion (Kickstarter: 01/2022)  +The Vagabond Pack +Exiles and Partisans Deck +Resin Clearing Markers +Hirelings Pack (Kickstarter: 01/2022) +Landmarks Pack (Kickstarter: 01/2022)\"\n",
      "score: 9.10\n",
      "\n",
      "\"This is a really fun game to have on your shelf. Opening it and learning it is intimidating. I have an insert and removable stickers at the ready for whenever I invest in playing Gloomhaven.\"\n",
      "score: 9.24\n",
      "\n",
      "\"Sleeved Swan Panasia - thick 70 mm x 110 mm Swan Panasia - premium 57 mm x 90 mm Swan Panasia - thick 44 mm x 68 mm\"\n",
      "score: 9.50\n",
      "\n",
      "\"Players: 1 to 4 Competitive Game: One player wins alone  Theme: Tropical Exploration  Microbadges: [microbadge=51020]  Designed by Elwen and Mín\"\n",
      "score: 9.61\n",
      "\n",
      "\"Prototype  Excellent game.  My favourite type of game is where the interactions between the players is the star of the show.  Oath has uncomplicated rules, but complex and interesting decisions. The players shape the ebb and flow of the game and echoes of your past games carry on to future ones.\"\n",
      "score: 10.00\n",
      "\n",
      "\"2019 Nederlandse Spellenprijs Best Expert Game Nominee 2019 Kennerspiel des Jahres Winner 2019 Kennerspiel des Jahres Nominee 2019 Deutscher Spiele Preis Best Family/Adult Game Winner\"\n",
      "score: 10.00\n",
      "\n"
     ]
    }
   ],
   "source": [
    "some_long_comments.apply(lambda c: print(f\"\\\"{c['value']}\\\"\\nscore: {c['rating']:.2f}\\n\"), axis=1);"
   ]
  },
  {
   "cell_type": "code",
   "execution_count": null,
   "metadata": {},
   "outputs": [],
   "source": []
  }
 ],
 "metadata": {
  "kernelspec": {
   "display_name": "tensorflow2",
   "language": "python",
   "name": "tensorflow2"
  },
  "language_info": {
   "codemirror_mode": {
    "name": "ipython",
    "version": 3
   },
   "file_extension": ".py",
   "mimetype": "text/x-python",
   "name": "python",
   "nbconvert_exporter": "python",
   "pygments_lexer": "ipython3",
   "version": "3.8.8"
  }
 },
 "nbformat": 4,
 "nbformat_minor": 4
}
