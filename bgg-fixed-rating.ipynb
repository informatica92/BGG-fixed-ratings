{
 "cells": [
  {
   "cell_type": "code",
   "execution_count": 1,
   "metadata": {},
   "outputs": [],
   "source": [
    "# ## BGG API\n",
    "# https://www.boardgamegeek.com/xmlapi2/thing?id=161599&comments=1\n",
    "# https://www.boardgamegeek.com/xmlapi2/hot?type=boardgame\n",
    "# ## NLP WITH TF\n",
    "# https://www.tensorflow.org/hub/tutorials/tf2_text_classification"
   ]
  },
  {
   "cell_type": "code",
   "execution_count": 2,
   "metadata": {},
   "outputs": [
    {
     "name": "stdout",
     "output_type": "stream",
     "text": [
      "Version:  2.1.0\n",
      "Eager mode:  True\n",
      "Hub version:  0.12.0\n",
      "GPU is NOT AVAILABLE\n"
     ]
    }
   ],
   "source": [
    "import tensorflow as tf\n",
    "import tensorflow_hub as hub\n",
    "import tensorflow_datasets as tfds\n",
    "\n",
    "import xml.etree.ElementTree as Xet\n",
    "import matplotlib.pyplot as plt\n",
    "import pandas as pd\n",
    "import numpy as np\n",
    "import requests\n",
    "from IPython.display import Image, HTML\n",
    "\n",
    "print(\"Version: \", tf.__version__)\n",
    "print(\"Eager mode: \", tf.executing_eagerly())\n",
    "print(\"Hub version: \", hub.__version__)\n",
    "print(\"GPU is\", \"available\" if tf.config.list_physical_devices('GPU') else \"NOT AVAILABLE\")"
   ]
  },
  {
   "cell_type": "code",
   "execution_count": 3,
   "metadata": {},
   "outputs": [],
   "source": [
    "GOOD_REVIEW_THRESHOLD = 7"
   ]
  },
  {
   "cell_type": "code",
   "execution_count": 4,
   "metadata": {},
   "outputs": [],
   "source": [
    "VAL_FRACTION = 0.25"
   ]
  },
  {
   "cell_type": "markdown",
   "metadata": {},
   "source": [
    "## GET DATA"
   ]
  },
  {
   "cell_type": "code",
   "execution_count": 5,
   "metadata": {},
   "outputs": [],
   "source": [
    "hot = requests.get(\"https://www.boardgamegeek.com/xmlapi2/hot?type=boardgame\").content.decode()\n",
    "  \n",
    "# Parsing the XML file\n",
    "xmlparse = Xet.fromstring(hot)\n",
    "\n",
    "hot_array = []\n",
    "for item in xmlparse:\n",
    "    dict_element = {\n",
    "        \"id\": item.get(\"id\"),\n",
    "        \"rank\": item.get(\"rank\")\n",
    "    }\n",
    "    for option in item:\n",
    "        dict_element[option.tag] = option.get(\"value\")\n",
    "    hot_array.append(dict_element)"
   ]
  },
  {
   "cell_type": "code",
   "execution_count": 6,
   "metadata": {},
   "outputs": [
    {
     "data": {
      "text/plain": [
       "[{'id': '328866',\n",
       "  'rank': '1',\n",
       "  'thumbnail': 'https://cf.geekdo-images.com/N0hCcxXw8d7vUjKfsYO6vg__thumb/img/K4DDlRzl6qlQf9L_oMLb7g9WUYo=/fit-in/200x150/filters:strip_icc()/pic6121929.png',\n",
       "  'name': \"My Father's Work\",\n",
       "  'yearpublished': '2021'},\n",
       " {'id': '316090',\n",
       "  'rank': '2',\n",
       "  'thumbnail': 'https://cf.geekdo-images.com/-KMXyStWyla5jh_BRO803w__thumb/img/3j7TG-J5bxigP1RaTbNnHcHnr6A=/fit-in/200x150/filters:strip_icc()/pic6074555.png',\n",
       "  'name': 'Vivid Memories',\n",
       "  'yearpublished': '2021'}]"
      ]
     },
     "execution_count": 6,
     "metadata": {},
     "output_type": "execute_result"
    }
   ],
   "source": [
    "hot_array[:2]"
   ]
  },
  {
   "cell_type": "code",
   "execution_count": 12,
   "metadata": {},
   "outputs": [
    {
     "name": "stdout",
     "output_type": "stream",
     "text": [
      "page number = 1 (max: 100, len = 50)\n",
      "page number = 2 (max: 100, len = 50)\n",
      "page number = 3 (max: 100, len = 40)\n",
      "page number = 4 (max: 100, len = 36)\n",
      "page number = 5 (max: 100, len = 34)\n",
      "page number = 6 (max: 100, len = 31)\n",
      "page number = 7 (max: 100, len = 29)\n",
      "page number = 8 (max: 100, len = 26)\n",
      "page number = 9 (max: 100, len = 25)\n",
      "page number = 10 (max: 100, len = 25)\n",
      "page number = 11 (max: 100, len = 22)\n",
      "page number = 12 (max: 100, len = 22)\n",
      "page number = 13 (max: 100, len = 21)\n",
      "page number = 14 (max: 100, len = 20)\n",
      "page number = 15 (max: 100, len = 19)\n",
      "page number = 16 (max: 100, len = 18)\n",
      "page number = 17 (max: 100, len = 18)\n",
      "page number = 18 (max: 100, len = 15)\n",
      "page number = 19 (max: 100, len = 15)\n",
      "page number = 20 (max: 100, len = 14)\n",
      "page number = 21 (max: 100, len = 14)\n",
      "page number = 22 (max: 100, len = 14)\n",
      "page number = 23 (max: 100, len = 14)\n",
      "page number = 24 (max: 100, len = 13)\n",
      "page number = 25 (max: 100, len = 13)\n",
      "page number = 26 (max: 100, len = 13)\n",
      "page number = 27 (max: 100, len = 12)\n",
      "page number = 28 (max: 100, len = 12)\n",
      "page number = 29 (max: 100, len = 12)\n",
      "page number = 30 (max: 100, len = 12)\n",
      "page number = 31 (max: 100, len = 12)\n",
      "page number = 32 (max: 100, len = 12)\n",
      "page number = 33 (max: 100, len = 12)\n",
      "page number = 34 (max: 100, len = 11)\n",
      "page number = 35 (max: 100, len = 10)\n",
      "page number = 36 (max: 100, len = 9)\n",
      "page number = 37 (max: 100, len = 9)\n",
      "page number = 38 (max: 100, len = 9)\n",
      "page number = 39 (max: 100, len = 9)\n",
      "page number = 40 (max: 100, len = 9)\n",
      "page number = 41 (max: 100, len = 9)\n",
      "page number = 42 (max: 100, len = 9)\n",
      "page number = 43 (max: 100, len = 7)\n",
      "page number = 44 (max: 100, len = 7)\n",
      "page number = 45 (max: 100, len = 7)\n",
      "page number = 46 (max: 100, len = 7)\n",
      "page number = 47 (max: 100, len = 6)\n",
      "page number = 48 (max: 100, len = 6)\n",
      "page number = 49 (max: 100, len = 5)\n",
      "page number = 50 (max: 100, len = 5)\n",
      "page number = 51 (max: 100, len = 5)\n",
      "page number = 52 (max: 100, len = 5)\n",
      "page number = 53 (max: 100, len = 5)\n",
      "page number = 54 (max: 100, len = 5)\n",
      "page number = 55 (max: 100, len = 5)\n",
      "page number = 56 (max: 100, len = 5)\n",
      "page number = 57 (max: 100, len = 5)\n",
      "page number = 58 (max: 100, len = 5)\n",
      "page number = 59 (max: 100, len = 5)\n",
      "page number = 60 (max: 100, len = 5)\n",
      "page number = 61 (max: 100, len = 5)\n",
      "page number = 62 (max: 100, len = 5)\n",
      "page number = 63 (max: 100, len = 5)\n",
      "page number = 64 (max: 100, len = 5)\n",
      "page number = 65 (max: 100, len = 5)\n",
      "page number = 66 (max: 100, len = 4)\n",
      "page number = 67 (max: 100, len = 4)\n",
      "page number = 68 (max: 100, len = 4)\n",
      "page number = 69 (max: 100, len = 4)\n",
      "page number = 70 (max: 100, len = 4)\n",
      "page number = 71 (max: 100, len = 4)\n",
      "page number = 72 (max: 100, len = 4)\n",
      "page number = 73 (max: 100, len = 4)\n",
      "page number = 74 (max: 100, len = 4)\n",
      "page number = 75 (max: 100, len = 4)\n",
      "page number = 76 (max: 100, len = 4)\n",
      "page number = 77 (max: 100, len = 4)\n",
      "page number = 78 (max: 100, len = 4)\n",
      "page number = 79 (max: 100, len = 4)\n",
      "page number = 80 (max: 100, len = 4)\n",
      "page number = 81 (max: 100, len = 3)\n",
      "page number = 82 (max: 100, len = 3)\n",
      "page number = 83 (max: 100, len = 3)\n",
      "page number = 84 (max: 100, len = 3)\n",
      "page number = 85 (max: 100, len = 3)\n",
      "page number = 86 (max: 100, len = 3)\n",
      "page number = 87 (max: 100, len = 3)\n",
      "page number = 88 (max: 100, len = 3)\n",
      "page number = 89 (max: 100, len = 3)\n",
      "page number = 90 (max: 100, len = 2)\n",
      "page number = 91 (max: 100, len = 2)\n",
      "page number = 92 (max: 100, len = 2)\n",
      "page number = 93 (max: 100, len = 1)\n",
      "page number = 94 (max: 100, len = 1)\n",
      "page number = 95 (max: 100, len = 1)\n",
      "page number = 96 (max: 100, len = 1)\n",
      "page number = 97 (max: 100, len = 1)\n",
      "page number = 98 (max: 100, len = 1)\n",
      "page number = 99 (max: 9, len = 1)\n",
      "page number = 100 (max: 0, len = 1)\n"
     ]
    }
   ],
   "source": [
    "max_comments_per_page = 1\n",
    "hot_array_ids = [h['id'] for h in hot_array]\n",
    "ids = ','.join(hot_array_ids)\n",
    "page_size = 100\n",
    "page_number = 0\n",
    "comments_array = []\n",
    "\n",
    "while max_comments_per_page > 0 and len(hot_array_ids) > 0:\n",
    "    page_number += 1\n",
    "    print(f\"page number = {page_number}\", end=\" \")\n",
    "    comments = requests.get(f\"https://www.boardgamegeek.com/xmlapi2/thing?id={ids}&comments=1&pagesize={page_size}&page={page_number}\").content.decode()\n",
    "\n",
    "    # Parsing the XML file\n",
    "    xmlparse = Xet.fromstring(comments)\n",
    "    comments_per_item = []\n",
    "    for item in xmlparse:        \n",
    "        for option in item:\n",
    "            if option.tag == 'comments':\n",
    "                comments_per_page = 0\n",
    "                for comment in option:\n",
    "                    comments_per_page += 1\n",
    "                    dict_element = {\n",
    "                        \"id\": item.get(\"id\"),\n",
    "                        \"username\": comment.get(\"username\"),\n",
    "                        \"rating\": comment.get(\"rating\"),\n",
    "                        \"value\": comment.get(\"value\")\n",
    "                    }\n",
    "                    comments_array.append(dict_element)\n",
    "                if comments_per_page==0:\n",
    "                    hot_array_ids.remove(item.get(\"id\"))\n",
    "                    ids = ','.join(hot_array_ids)\n",
    "                comments_per_item.append(comments_per_page)\n",
    "    max_comments_per_page = max(comments_per_item)\n",
    "    print(f\"(max: {max(comments_per_item)}, len: {len(comments_per_item)})\")"
   ]
  },
  {
   "cell_type": "code",
   "execution_count": 13,
   "metadata": {},
   "outputs": [
    {
     "data": {
      "text/plain": [
       "[{'id': '328866',\n",
       "  'username': '4tsawicki',\n",
       "  'rating': 'N/A',\n",
       "  'value': 'Feb 2022'},\n",
       " {'id': '328866', 'username': 'alexbatbee', 'rating': 'N/A', 'value': 'KS'}]"
      ]
     },
     "execution_count": 13,
     "metadata": {},
     "output_type": "execute_result"
    }
   ],
   "source": [
    "comments_array[:2]"
   ]
  },
  {
   "cell_type": "code",
   "execution_count": 14,
   "metadata": {},
   "outputs": [],
   "source": [
    "comments_df = pd.DataFrame(comments_array)"
   ]
  },
  {
   "cell_type": "code",
   "execution_count": 15,
   "metadata": {},
   "outputs": [
    {
     "data": {
      "text/html": [
       "<div>\n",
       "<style scoped>\n",
       "    .dataframe tbody tr th:only-of-type {\n",
       "        vertical-align: middle;\n",
       "    }\n",
       "\n",
       "    .dataframe tbody tr th {\n",
       "        vertical-align: top;\n",
       "    }\n",
       "\n",
       "    .dataframe thead th {\n",
       "        text-align: right;\n",
       "    }\n",
       "</style>\n",
       "<table border=\"1\" class=\"dataframe\">\n",
       "  <thead>\n",
       "    <tr style=\"text-align: right;\">\n",
       "      <th></th>\n",
       "      <th>id</th>\n",
       "      <th>username</th>\n",
       "      <th>rating</th>\n",
       "      <th>value</th>\n",
       "    </tr>\n",
       "  </thead>\n",
       "  <tbody>\n",
       "    <tr>\n",
       "      <th>0</th>\n",
       "      <td>328866</td>\n",
       "      <td>4tsawicki</td>\n",
       "      <td>N/A</td>\n",
       "      <td>Feb 2022</td>\n",
       "    </tr>\n",
       "    <tr>\n",
       "      <th>1</th>\n",
       "      <td>328866</td>\n",
       "      <td>alexbatbee</td>\n",
       "      <td>N/A</td>\n",
       "      <td>KS</td>\n",
       "    </tr>\n",
       "    <tr>\n",
       "      <th>2</th>\n",
       "      <td>328866</td>\n",
       "      <td>Amekins</td>\n",
       "      <td>N/A</td>\n",
       "      <td>Backer # 1267 on Kickstarter 4/27/2021 Funded ...</td>\n",
       "    </tr>\n",
       "    <tr>\n",
       "      <th>3</th>\n",
       "      <td>328866</td>\n",
       "      <td>bigduff</td>\n",
       "      <td>N/A</td>\n",
       "      <td>Pre-ordered on Origames web store</td>\n",
       "    </tr>\n",
       "    <tr>\n",
       "      <th>4</th>\n",
       "      <td>328866</td>\n",
       "      <td>BlueFoxMoon</td>\n",
       "      <td>N/A</td>\n",
       "      <td>Pre-release - Kickstarter</td>\n",
       "    </tr>\n",
       "    <tr>\n",
       "      <th>...</th>\n",
       "      <td>...</td>\n",
       "      <td>...</td>\n",
       "      <td>...</td>\n",
       "      <td>...</td>\n",
       "    </tr>\n",
       "    <tr>\n",
       "      <th>92940</th>\n",
       "      <td>167791</td>\n",
       "      <td>z_zadar</td>\n",
       "      <td>9</td>\n",
       "      <td>Some games are so much fun. Others can be a li...</td>\n",
       "    </tr>\n",
       "    <tr>\n",
       "      <th>92941</th>\n",
       "      <td>167791</td>\n",
       "      <td>_Czid_</td>\n",
       "      <td>8</td>\n",
       "      <td>Have played with Elysium and Prelude expansion...</td>\n",
       "    </tr>\n",
       "    <tr>\n",
       "      <th>92942</th>\n",
       "      <td>167791</td>\n",
       "      <td>_Marty_</td>\n",
       "      <td>9.5</td>\n",
       "      <td>Fantastic game. With so many cards that can ch...</td>\n",
       "    </tr>\n",
       "    <tr>\n",
       "      <th>92943</th>\n",
       "      <td>167791</td>\n",
       "      <td>_mun_</td>\n",
       "      <td>10</td>\n",
       "      <td>Nagyon izgalmas játék, jó a mechanizmusa. A sz...</td>\n",
       "    </tr>\n",
       "    <tr>\n",
       "      <th>92944</th>\n",
       "      <td>167791</td>\n",
       "      <td>_The_Inquiry_</td>\n",
       "      <td>5</td>\n",
       "      <td>Prior to 2020: 2 plays  TM is one of those gam...</td>\n",
       "    </tr>\n",
       "  </tbody>\n",
       "</table>\n",
       "<p>92945 rows × 4 columns</p>\n",
       "</div>"
      ],
      "text/plain": [
       "           id       username rating  \\\n",
       "0      328866      4tsawicki    N/A   \n",
       "1      328866     alexbatbee    N/A   \n",
       "2      328866        Amekins    N/A   \n",
       "3      328866        bigduff    N/A   \n",
       "4      328866    BlueFoxMoon    N/A   \n",
       "...       ...            ...    ...   \n",
       "92940  167791        z_zadar      9   \n",
       "92941  167791         _Czid_      8   \n",
       "92942  167791        _Marty_    9.5   \n",
       "92943  167791          _mun_     10   \n",
       "92944  167791  _The_Inquiry_      5   \n",
       "\n",
       "                                                   value  \n",
       "0                                               Feb 2022  \n",
       "1                                                     KS  \n",
       "2      Backer # 1267 on Kickstarter 4/27/2021 Funded ...  \n",
       "3                      Pre-ordered on Origames web store  \n",
       "4                              Pre-release - Kickstarter  \n",
       "...                                                  ...  \n",
       "92940  Some games are so much fun. Others can be a li...  \n",
       "92941  Have played with Elysium and Prelude expansion...  \n",
       "92942  Fantastic game. With so many cards that can ch...  \n",
       "92943  Nagyon izgalmas játék, jó a mechanizmusa. A sz...  \n",
       "92944  Prior to 2020: 2 plays  TM is one of those gam...  \n",
       "\n",
       "[92945 rows x 4 columns]"
      ]
     },
     "execution_count": 15,
     "metadata": {},
     "output_type": "execute_result"
    }
   ],
   "source": [
    "comments_df"
   ]
  },
  {
   "cell_type": "code",
   "execution_count": 16,
   "metadata": {},
   "outputs": [],
   "source": [
    "comments_df.to_csv(\"comments_20210429.csv\", index=False)"
   ]
  },
  {
   "cell_type": "code",
   "execution_count": 17,
   "metadata": {},
   "outputs": [],
   "source": [
    "# comments_df = pd.read_csv(\"comments_20210429.csv\")"
   ]
  },
  {
   "cell_type": "markdown",
   "metadata": {},
   "source": [
    "## SPLIT RATED AND NON-RATED COMMENTS"
   ]
  },
  {
   "cell_type": "code",
   "execution_count": 18,
   "metadata": {},
   "outputs": [
    {
     "data": {
      "text/plain": [
       "N/A        21596\n",
       "10         13804\n",
       "9          13705\n",
       "8          12718\n",
       "7           7800\n",
       "           ...  \n",
       "8.725          1\n",
       "9.655          1\n",
       "6.65333        1\n",
       "7.23333        1\n",
       "9.383          1\n",
       "Name: rating, Length: 540, dtype: int64"
      ]
     },
     "execution_count": 18,
     "metadata": {},
     "output_type": "execute_result"
    }
   ],
   "source": [
    "comments_df.rating.value_counts()"
   ]
  },
  {
   "cell_type": "code",
   "execution_count": 19,
   "metadata": {},
   "outputs": [],
   "source": [
    "rated_comments = comments_df.query('rating != \"N/A\"')"
   ]
  },
  {
   "cell_type": "code",
   "execution_count": 20,
   "metadata": {},
   "outputs": [],
   "source": [
    "not_rated_comments = comments_df.query('rating == \"N/A\"').reset_index(drop=True)"
   ]
  },
  {
   "cell_type": "code",
   "execution_count": 21,
   "metadata": {},
   "outputs": [
    {
     "data": {
      "text/plain": [
       "(71349, 4)"
      ]
     },
     "execution_count": 21,
     "metadata": {},
     "output_type": "execute_result"
    }
   ],
   "source": [
    "rated_comments.shape"
   ]
  },
  {
   "cell_type": "code",
   "execution_count": 22,
   "metadata": {},
   "outputs": [
    {
     "data": {
      "text/plain": [
       "(21596, 4)"
      ]
     },
     "execution_count": 22,
     "metadata": {},
     "output_type": "execute_result"
    }
   ],
   "source": [
    "not_rated_comments.shape"
   ]
  },
  {
   "cell_type": "code",
   "execution_count": 24,
   "metadata": {},
   "outputs": [],
   "source": [
    "# use rated comments (reviews) to train the model"
   ]
  },
  {
   "cell_type": "code",
   "execution_count": 25,
   "metadata": {},
   "outputs": [],
   "source": [
    "rated_comments = rated_comments.sample(frac=1)"
   ]
  },
  {
   "cell_type": "code",
   "execution_count": 26,
   "metadata": {},
   "outputs": [],
   "source": [
    "train_examples = list(rated_comments.value)\n",
    "train_labels = list((rated_comments.rating.astype(float)>=GOOD_REVIEW_THRESHOLD).astype(int))"
   ]
  },
  {
   "cell_type": "code",
   "execution_count": 48,
   "metadata": {},
   "outputs": [
    {
     "name": "stdout",
     "output_type": "stream",
     "text": [
      "example of positive rating:\n"
     ]
    },
    {
     "data": {
      "text/plain": [
       "'Gives you that \"one more turn!\" Feel'"
      ]
     },
     "execution_count": 48,
     "metadata": {},
     "output_type": "execute_result"
    }
   ],
   "source": [
    "print(\"example of positive rating:\")\n",
    "train_examples[train_labels.index(1)]"
   ]
  },
  {
   "cell_type": "code",
   "execution_count": 49,
   "metadata": {},
   "outputs": [
    {
     "name": "stdout",
     "output_type": "stream",
     "text": [
      "example of negative rating:\n"
     ]
    },
    {
     "data": {
      "text/plain": [
       "'1-2 (missing 2 cards)'"
      ]
     },
     "execution_count": 49,
     "metadata": {},
     "output_type": "execute_result"
    }
   ],
   "source": [
    "print(\"example of negative rating:\")\n",
    "train_examples[train_labels.index(0)]"
   ]
  },
  {
   "cell_type": "markdown",
   "metadata": {},
   "source": [
    "## COMPOSE MODEL"
   ]
  },
  {
   "cell_type": "code",
   "execution_count": 50,
   "metadata": {},
   "outputs": [
    {
     "data": {
      "text/plain": [
       "<tf.Tensor: shape=(2, 50), dtype=float32, numpy=\n",
       "array([[ 0.21685015, -0.01882403, -0.06281585,  0.16949561,  0.149251  ,\n",
       "        -0.12082923,  0.09053739,  0.1461488 , -0.0047862 ,  0.32872632,\n",
       "         0.14902873,  0.08505921, -0.09651901,  0.01065084, -0.05212255,\n",
       "         0.18700205,  0.13412444,  0.11139747, -0.00447407, -0.26588503,\n",
       "        -0.03062629, -0.00104931,  0.07062511, -0.163753  , -0.31193978,\n",
       "        -0.00457728, -0.36708856,  0.1620351 ,  0.13294795,  0.1170232 ,\n",
       "         0.27334368,  0.05501654, -0.01759248, -0.00131858,  0.07802638,\n",
       "         0.03816753,  0.1094534 , -0.07820012, -0.02809717, -0.06052911,\n",
       "         0.09816911, -0.0616263 , -0.11713698, -0.1983592 , -0.03707545,\n",
       "         0.12252541, -0.17544031, -0.06519897,  0.00894937,  0.19644098],\n",
       "       [ 0.33198613, -0.06831744, -0.14316526,  0.01457155, -0.07885838,\n",
       "        -0.17005381, -0.01117036, -0.09017784,  0.14641339,  0.01977067,\n",
       "         0.23682691,  0.03196093, -0.16557589,  0.20388986,  0.34393826,\n",
       "         0.08199134, -0.09685744,  0.01297252,  0.16767025,  0.17985009,\n",
       "        -0.12954399, -0.00927639,  0.21408062,  0.09880519, -0.1473394 ,\n",
       "        -0.1428618 ,  0.069249  ,  0.14174151, -0.02263513,  0.08591125,\n",
       "         0.14815444,  0.12468944, -0.04346782, -0.07701772,  0.0262679 ,\n",
       "        -0.23880729, -0.09782926, -0.08291171, -0.09729322, -0.4763844 ,\n",
       "        -0.02800838, -0.08098292, -0.05840969,  0.15618803, -0.0382212 ,\n",
       "        -0.01573803, -0.11296777, -0.05302412, -0.18087296,  0.16310027]],\n",
       "      dtype=float32)>"
      ]
     },
     "execution_count": 50,
     "metadata": {},
     "output_type": "execute_result"
    }
   ],
   "source": [
    "model = \"https://tfhub.dev/google/nnlm-en-dim50/2\"\n",
    "hub_layer = hub.KerasLayer(model, input_shape=[], dtype=tf.string, trainable=True)\n",
    "hub_layer(train_examples[:2])"
   ]
  },
  {
   "cell_type": "code",
   "execution_count": 51,
   "metadata": {},
   "outputs": [
    {
     "name": "stdout",
     "output_type": "stream",
     "text": [
      "Model: \"sequential\"\n",
      "_________________________________________________________________\n",
      "Layer (type)                 Output Shape              Param #   \n",
      "=================================================================\n",
      "keras_layer (KerasLayer)     (None, 50)                48190600  \n",
      "_________________________________________________________________\n",
      "dense (Dense)                (None, 16)                816       \n",
      "_________________________________________________________________\n",
      "dense_1 (Dense)              (None, 1)                 17        \n",
      "=================================================================\n",
      "Total params: 48,191,433\n",
      "Trainable params: 48,191,433\n",
      "Non-trainable params: 0\n",
      "_________________________________________________________________\n"
     ]
    }
   ],
   "source": [
    "model = tf.keras.Sequential()\n",
    "model.add(hub_layer)\n",
    "model.add(tf.keras.layers.Dense(16, activation='relu'))\n",
    "model.add(tf.keras.layers.Dense(1))\n",
    "\n",
    "model.summary()"
   ]
  },
  {
   "cell_type": "code",
   "execution_count": 52,
   "metadata": {},
   "outputs": [],
   "source": [
    "model.compile(\n",
    "    optimizer='adam',\n",
    "    loss=tf.losses.BinaryCrossentropy(from_logits=True),\n",
    "    metrics=[tf.metrics.BinaryAccuracy(threshold=0.0, name='accuracy')]\n",
    ")"
   ]
  },
  {
   "cell_type": "code",
   "execution_count": 53,
   "metadata": {},
   "outputs": [
    {
     "data": {
      "text/plain": [
       "17837"
      ]
     },
     "execution_count": 53,
     "metadata": {},
     "output_type": "execute_result"
    }
   ],
   "source": [
    "validation_len = int(len(train_examples)*VAL_FRACTION)\n",
    "validation_len"
   ]
  },
  {
   "cell_type": "markdown",
   "metadata": {},
   "source": [
    "## TRAINING MODEL "
   ]
  },
  {
   "cell_type": "code",
   "execution_count": 54,
   "metadata": {},
   "outputs": [],
   "source": [
    "x_val = train_examples[:validation_len]\n",
    "x_train = train_examples[validation_len:]\n",
    "\n",
    "y_val = train_labels[:validation_len]\n",
    "y_train = train_labels[validation_len:]"
   ]
  },
  {
   "cell_type": "code",
   "execution_count": 55,
   "metadata": {},
   "outputs": [
    {
     "name": "stdout",
     "output_type": "stream",
     "text": [
      "Train on 53512 samples, validate on 17837 samples\n",
      "Epoch 1/40\n",
      "53512/53512 [==============================] - 35s 656us/sample - loss: 0.5188 - accuracy: 0.8148 - val_loss: 0.4121 - val_accuracy: 0.8415\n",
      "Epoch 2/40\n",
      "53512/53512 [==============================] - 34s 645us/sample - loss: 0.3514 - accuracy: 0.8583 - val_loss: 0.3413 - val_accuracy: 0.8628\n",
      "Epoch 3/40\n",
      "53512/53512 [==============================] - 36s 664us/sample - loss: 0.2899 - accuracy: 0.8838 - val_loss: 0.3294 - val_accuracy: 0.8656\n",
      "Epoch 4/40\n",
      "53512/53512 [==============================] - 34s 630us/sample - loss: 0.2532 - accuracy: 0.8985 - val_loss: 0.3336 - val_accuracy: 0.8668\n",
      "Epoch 5/40\n",
      "53512/53512 [==============================] - 33s 626us/sample - loss: 0.2259 - accuracy: 0.9100 - val_loss: 0.3444 - val_accuracy: 0.8624\n",
      "Epoch 6/40\n",
      "53512/53512 [==============================] - 34s 634us/sample - loss: 0.2040 - accuracy: 0.9202 - val_loss: 0.3611 - val_accuracy: 0.8598\n",
      "Epoch 7/40\n",
      "53512/53512 [==============================] - 33s 619us/sample - loss: 0.1871 - accuracy: 0.9276 - val_loss: 0.3821 - val_accuracy: 0.8555\n",
      "Epoch 8/40\n",
      "53512/53512 [==============================] - 33s 620us/sample - loss: 0.1721 - accuracy: 0.9336 - val_loss: 0.4063 - val_accuracy: 0.8533\n",
      "Epoch 9/40\n",
      "53512/53512 [==============================] - 33s 620us/sample - loss: 0.1591 - accuracy: 0.9398 - val_loss: 0.4310 - val_accuracy: 0.8505\n",
      "Epoch 10/40\n",
      "53512/53512 [==============================] - 33s 622us/sample - loss: 0.1489 - accuracy: 0.9437 - val_loss: 0.4545 - val_accuracy: 0.8452\n",
      "Epoch 11/40\n",
      "53512/53512 [==============================] - 34s 639us/sample - loss: 0.1393 - accuracy: 0.9468 - val_loss: 0.4840 - val_accuracy: 0.8460\n",
      "Epoch 12/40\n",
      "53512/53512 [==============================] - 33s 621us/sample - loss: 0.1300 - accuracy: 0.9508 - val_loss: 0.5156 - val_accuracy: 0.8451\n",
      "Epoch 13/40\n",
      "53512/53512 [==============================] - 33s 620us/sample - loss: 0.1220 - accuracy: 0.9545 - val_loss: 0.5366 - val_accuracy: 0.8408\n",
      "Epoch 14/40\n",
      "53512/53512 [==============================] - 33s 625us/sample - loss: 0.1143 - accuracy: 0.9579 - val_loss: 0.5684 - val_accuracy: 0.8360\n",
      "Epoch 15/40\n",
      "53512/53512 [==============================] - 33s 622us/sample - loss: 0.1077 - accuracy: 0.9601 - val_loss: 0.6033 - val_accuracy: 0.8366\n",
      "Epoch 16/40\n",
      "53512/53512 [==============================] - 33s 624us/sample - loss: 0.1019 - accuracy: 0.9625 - val_loss: 0.6311 - val_accuracy: 0.8290\n",
      "Epoch 17/40\n",
      "53512/53512 [==============================] - 34s 627us/sample - loss: 0.0956 - accuracy: 0.9656 - val_loss: 0.6700 - val_accuracy: 0.8361\n",
      "Epoch 18/40\n",
      "53512/53512 [==============================] - 33s 621us/sample - loss: 0.0900 - accuracy: 0.9674 - val_loss: 0.7010 - val_accuracy: 0.8345\n",
      "Epoch 19/40\n",
      "53512/53512 [==============================] - 33s 616us/sample - loss: 0.0841 - accuracy: 0.9696 - val_loss: 0.7467 - val_accuracy: 0.8306\n",
      "Epoch 20/40\n",
      "53512/53512 [==============================] - 33s 622us/sample - loss: 0.0793 - accuracy: 0.9712 - val_loss: 0.7804 - val_accuracy: 0.8339\n",
      "Epoch 21/40\n",
      "53512/53512 [==============================] - 33s 625us/sample - loss: 0.0747 - accuracy: 0.9737 - val_loss: 0.8146 - val_accuracy: 0.8281\n",
      "Epoch 22/40\n",
      "53512/53512 [==============================] - 35s 652us/sample - loss: 0.0696 - accuracy: 0.9754 - val_loss: 0.8582 - val_accuracy: 0.8264\n",
      "Epoch 23/40\n",
      "53512/53512 [==============================] - 38s 713us/sample - loss: 0.0652 - accuracy: 0.9773 - val_loss: 0.9060 - val_accuracy: 0.8261\n",
      "Epoch 24/40\n",
      "53512/53512 [==============================] - 35s 649us/sample - loss: 0.0614 - accuracy: 0.9786 - val_loss: 0.9508 - val_accuracy: 0.8257\n",
      "Epoch 25/40\n",
      "53512/53512 [==============================] - 34s 643us/sample - loss: 0.0572 - accuracy: 0.9805 - val_loss: 0.9901 - val_accuracy: 0.8263\n",
      "Epoch 26/40\n",
      "53512/53512 [==============================] - 33s 618us/sample - loss: 0.0534 - accuracy: 0.9821 - val_loss: 1.0364 - val_accuracy: 0.8241\n",
      "Epoch 27/40\n",
      "53512/53512 [==============================] - 33s 621us/sample - loss: 0.0502 - accuracy: 0.9834 - val_loss: 1.0860 - val_accuracy: 0.8242\n",
      "Epoch 28/40\n",
      "53512/53512 [==============================] - 33s 623us/sample - loss: 0.0470 - accuracy: 0.9845 - val_loss: 1.1263 - val_accuracy: 0.8217\n",
      "Epoch 29/40\n",
      "53512/53512 [==============================] - 33s 624us/sample - loss: 0.0440 - accuracy: 0.9856 - val_loss: 1.1721 - val_accuracy: 0.8217\n",
      "Epoch 30/40\n",
      "53512/53512 [==============================] - 33s 623us/sample - loss: 0.0409 - accuracy: 0.9870 - val_loss: 1.2155 - val_accuracy: 0.8203\n",
      "Epoch 31/40\n",
      "53512/53512 [==============================] - 33s 619us/sample - loss: 0.0381 - accuracy: 0.9883 - val_loss: 1.2679 - val_accuracy: 0.8223\n",
      "Epoch 32/40\n",
      "53512/53512 [==============================] - 33s 621us/sample - loss: 0.0360 - accuracy: 0.9890 - val_loss: 1.3120 - val_accuracy: 0.8195\n",
      "Epoch 33/40\n",
      "53512/53512 [==============================] - 33s 619us/sample - loss: 0.0340 - accuracy: 0.9895 - val_loss: 1.3627 - val_accuracy: 0.8187\n",
      "Epoch 34/40\n",
      "53512/53512 [==============================] - 33s 626us/sample - loss: 0.0318 - accuracy: 0.9903 - val_loss: 1.4086 - val_accuracy: 0.8206\n",
      "Epoch 35/40\n",
      "53512/53512 [==============================] - 33s 621us/sample - loss: 0.0303 - accuracy: 0.9904 - val_loss: 1.4506 - val_accuracy: 0.8194\n",
      "Epoch 36/40\n",
      "53512/53512 [==============================] - 33s 621us/sample - loss: 0.0288 - accuracy: 0.9908 - val_loss: 1.4929 - val_accuracy: 0.8186\n",
      "Epoch 37/40\n",
      "53512/53512 [==============================] - 33s 618us/sample - loss: 0.0276 - accuracy: 0.9913 - val_loss: 1.5256 - val_accuracy: 0.8166\n",
      "Epoch 38/40\n",
      "53512/53512 [==============================] - 33s 626us/sample - loss: 0.0264 - accuracy: 0.9917 - val_loss: 1.5737 - val_accuracy: 0.8172\n",
      "Epoch 39/40\n",
      "53512/53512 [==============================] - 33s 623us/sample - loss: 0.0251 - accuracy: 0.9920 - val_loss: 1.6160 - val_accuracy: 0.8191\n",
      "Epoch 40/40\n",
      "53512/53512 [==============================] - 33s 625us/sample - loss: 0.0239 - accuracy: 0.9923 - val_loss: 1.6553 - val_accuracy: 0.8161\n"
     ]
    }
   ],
   "source": [
    "history = model.fit(\n",
    "    x_train,\n",
    "    y_train,\n",
    "    epochs=40,\n",
    "    batch_size=512,\n",
    "    validation_data=(x_val, y_val),\n",
    "    verbose=1\n",
    ")"
   ]
  },
  {
   "cell_type": "code",
   "execution_count": 56,
   "metadata": {},
   "outputs": [
    {
     "data": {
      "text/plain": [
       "dict_keys(['loss', 'accuracy', 'val_loss', 'val_accuracy'])"
      ]
     },
     "execution_count": 56,
     "metadata": {},
     "output_type": "execute_result"
    }
   ],
   "source": [
    "history_dict = history.history\n",
    "history_dict.keys()"
   ]
  },
  {
   "cell_type": "code",
   "execution_count": 57,
   "metadata": {},
   "outputs": [],
   "source": [
    "acc = history_dict['accuracy']\n",
    "val_acc = history_dict['val_accuracy']\n",
    "loss = history_dict['loss']\n",
    "val_loss = history_dict['val_loss']"
   ]
  },
  {
   "cell_type": "code",
   "execution_count": 58,
   "metadata": {},
   "outputs": [],
   "source": [
    "epochs = range(1, len(acc) + 1) "
   ]
  },
  {
   "cell_type": "code",
   "execution_count": 59,
   "metadata": {},
   "outputs": [
    {
     "data": {
      "image/png": "[encoded data removed]",
      "text/plain": [
       "<Figure size 1296x720 with 1 Axes>"
      ]
     },
     "metadata": {
      "needs_background": "light"
     },
     "output_type": "display_data"
    }
   ],
   "source": [
    "# \"bo\" is for \"blue dot\"\n",
    "plt.figure(figsize=(18, 10))\n",
    "plt.plot(epochs, loss, 'bo', label='Training loss')\n",
    "# b is for \"solid blue line\"\n",
    "plt.plot(epochs, val_loss, 'b', label='Validation loss')\n",
    "plt.title('Training and validation loss')\n",
    "plt.xlabel('Epochs')\n",
    "plt.ylabel('Loss')\n",
    "plt.grid(True)\n",
    "plt.legend()\n",
    "\n",
    "plt.show()"
   ]
  },
  {
   "cell_type": "code",
   "execution_count": 60,
   "metadata": {},
   "outputs": [
    {
     "data": {
      "image/png": "[encoded data removed]",
      "text/plain": [
       "<Figure size 1296x720 with 1 Axes>"
      ]
     },
     "metadata": {
      "needs_background": "light"
     },
     "output_type": "display_data"
    }
   ],
   "source": [
    "plt.figure(figsize=(18, 10))\n",
    "plt.plot(epochs, acc, 'bo', label='Training acc')\n",
    "plt.plot(epochs, val_acc, 'b', label='Validation acc')\n",
    "plt.title('Training and validation accuracy')\n",
    "plt.xlabel('Epochs')\n",
    "plt.ylabel('Accuracy')\n",
    "plt.grid(True)\n",
    "plt.legend()\n",
    "\n",
    "plt.show()"
   ]
  },
  {
   "cell_type": "code",
   "execution_count": 61,
   "metadata": {},
   "outputs": [],
   "source": [
    "def print_my_examples(inputs, results, limit=None):\n",
    "    result_for_printing = [f'input:\\n\"{inputs[i]}\"\\nscore: {results[i][0]:.6f}' for i in range(len(inputs))]\n",
    "    if limit:\n",
    "        result_for_printing = result_for_printing[:limit]\n",
    "    print(*result_for_printing, sep='\\n\\n')"
   ]
  },
  {
   "cell_type": "code",
   "execution_count": 62,
   "metadata": {},
   "outputs": [
    {
     "name": "stdout",
     "output_type": "stream",
     "text": [
      "input:\n",
      "\"Only played solo, but it's catchy...\"\n",
      "score: 1.000000\n",
      "\n",
      "input:\n",
      "\"This is our go-to game to spend an afternoon playing. It does involve a lot of strategy and thinking through your choices, can take a long time, and does take a little bit to teach (it's best to have a few experienced players and just have an example round, although my partner and I did figure it out on our own after a few mis-plays) so it's not perfect for every game situation. But we love it! Immense replayability and you'll get chances to try all kinds of strategies.\"\n",
      "score: 1.000000\n",
      "\n",
      "input:\n",
      "\"First impressions of this game. Lots of fun. Excited to play next time.   First game took about 2 hours or so. Still looking to play this again!  Edit: Enjoy this game a great deal. We've played it 5 times now and I'm still excited for more. Very thematic game. The cards you play feel like great achievements in the goal to terraform mars. \"\n",
      "score: 1.000000\n",
      "\n",
      "input:\n",
      "\"Genius push-your-luck gameplay that is easy to learn and has that \"let's play again\" charm. A very solid catch-up mechanism stops runaway winning streaks and keeps everyone in the running as well. Excelpent stuff!\"\n",
      "score: 0.998943\n",
      "\n",
      "input:\n",
      "\"Possibly one of the best engine building games ever. This game is underrated and should be in the top 100.\"\n",
      "score: 1.000000\n",
      "\n",
      "input:\n",
      "\"i love this game,\"\n",
      "score: 1.000000\n",
      "\n",
      "input:\n",
      "\"Very well designed and carefully planned package.\"\n",
      "score: 0.999670\n",
      "\n",
      "input:\n",
      "\". 1\"\n",
      "score: 0.982365\n",
      "\n",
      "input:\n",
      "\"dislike player elimination\"\n",
      "score: 0.000760\n",
      "\n",
      "input:\n",
      "\"The game is overproduced, which some like, but not in a great way. While the hero figures look great, the mechs are worse than my 90s version of plastic battletech mechs.  I also disagree with the \"extended Map\" phiolosophy. Either the game is meant to be played on the big map (which then should be standard) or the small map. Printing a second version on the back that is either superfluous or needs $15 more to buy is a rip off in my eyes.   The game also feels like it has some nice ideas, but after all, the only important element is popularity and the rest is gained as a side effect.\"\n",
      "score: 0.026208\n"
     ]
    }
   ],
   "source": [
    "inputs = x_train[-10:]\n",
    "results = tf.sigmoid(model.predict(tf.constant(inputs)))\n",
    "print_my_examples(inputs, results)"
   ]
  },
  {
   "cell_type": "code",
   "execution_count": 63,
   "metadata": {},
   "outputs": [
    {
     "data": {
      "text/plain": [
       "[1, 1, 1, 1, 1, 1, 1, 1, 0, 0]"
      ]
     },
     "execution_count": 63,
     "metadata": {},
     "output_type": "execute_result"
    }
   ],
   "source": [
    "y_train[-10:]"
   ]
  },
  {
   "cell_type": "code",
   "execution_count": 64,
   "metadata": {},
   "outputs": [],
   "source": [
    "## APPLY MODEL ON NON-RATED COMMENTS"
   ]
  },
  {
   "cell_type": "code",
   "execution_count": 67,
   "metadata": {},
   "outputs": [
    {
     "name": "stdout",
     "output_type": "stream",
     "text": [
      "input:\n",
      "\"Great game, but I am not sure if its too simple. Time will tell. \"\n",
      "score: 0.998709\n",
      "\n",
      "input:\n",
      "\"High Complexity Economic Route-building game\"\n",
      "score: 0.999976\n",
      "\n",
      "input:\n",
      "\"2021\"\n",
      "score: 0.792887\n",
      "\n",
      "input:\n",
      "\"Scenario 1 begins tonight! (17 August 2018)\"\n",
      "score: 0.999994\n",
      "\n",
      "input:\n",
      "\"I should like this. But I don't. I like crunchiness but I don't like the decision making space of this game. When it's time to plan moves with a teammate it just gets confusing and AP sets in - and we're not even AP prone players! It's still in the collection for now but I don't know how long this will be with us. \"\n",
      "score: 0.000000\n",
      "\n",
      "input:\n",
      "\"*\"\n",
      "score: 0.999280\n",
      "\n",
      "input:\n",
      "\"+ Folded Space insert\"\n",
      "score: 1.000000\n",
      "\n",
      "input:\n",
      "\".\"\n",
      "score: 0.999655\n",
      "\n",
      "input:\n",
      "\"Backed on Kickstarter.\"\n",
      "score: 1.000000\n",
      "\n",
      "input:\n",
      "\"헬라스&엘리시움, 서곡 확장\"\n",
      "score: 0.000000\n",
      "\n",
      "input:\n",
      "\"60-90 Mins, 3-4 (4) Players\"\n",
      "score: 0.849774\n",
      "\n",
      "input:\n",
      "\"Includes:  Promo Pack 1 - KS Promo Spirits Heart of the Wildfire and Serpent Slumbering Beneath the Island\"\n",
      "score: 0.999459\n",
      "\n",
      "input:\n",
      "\"+ Journal + Deluxe pieces\"\n",
      "score: 0.999984\n",
      "\n",
      "input:\n",
      "\"Revisat\"\n",
      "score: 0.000000\n",
      "\n",
      "input:\n",
      "\"Boardgame Elite (50% deposit paid)\"\n",
      "score: 0.019135\n",
      "\n",
      "input:\n",
      "\"Also for sale https://boardgamegeek.com/geekmarket/product/2276278\"\n",
      "score: 1.000000\n",
      "\n",
      "input:\n",
      "\"Decent with two, excellent with three, really good with four (if maybe a bit long).\"\n",
      "score: 1.000000\n",
      "\n",
      "input:\n",
      "\"2020 top 50 challenge\"\n",
      "score: 1.000000\n",
      "\n",
      "input:\n",
      "\"Kickstarter - GAME + ENCOUNTER BOOK + CHARACTER CARD level\"\n",
      "score: 0.998221\n",
      "\n",
      "input:\n",
      "\"[2021-04-15]\"\n",
      "score: 0.999362\n",
      "\n",
      "input:\n",
      "\"Notes: Tabletop Simulator\"\n",
      "score: 1.000000\n",
      "\n",
      "input:\n",
      "\"79.99$ Gamezilla. March 12, 2020. Low print run, error.\"\n",
      "score: 0.994765\n",
      "\n",
      "input:\n",
      "\"S\"\n",
      "score: 1.000000\n",
      "\n",
      "input:\n",
      "\"Ks Edition\"\n",
      "score: 1.000000\n",
      "\n",
      "input:\n",
      "\"03.2020 - 544 05.2020 - 463\"\n",
      "score: 0.782175\n"
     ]
    }
   ],
   "source": [
    "not_rated_comments = not_rated_comments.sample(frac=1)\n",
    "results = tf.sigmoid(model.predict(tf.constant(list(not_rated_comments.value))))\n",
    "print_my_examples(list(not_rated_comments.value), results, limit=25)"
   ]
  },
  {
   "cell_type": "markdown",
   "metadata": {},
   "source": [
    "## COMBINE RATED COMMENTS AND NOT-RATED COMMENTS WITH PREDICTED RATING"
   ]
  },
  {
   "cell_type": "code",
   "execution_count": 68,
   "metadata": {},
   "outputs": [
    {
     "data": {
      "text/html": [
       "<div>\n",
       "<style scoped>\n",
       "    .dataframe tbody tr th:only-of-type {\n",
       "        vertical-align: middle;\n",
       "    }\n",
       "\n",
       "    .dataframe tbody tr th {\n",
       "        vertical-align: top;\n",
       "    }\n",
       "\n",
       "    .dataframe thead th {\n",
       "        text-align: right;\n",
       "    }\n",
       "</style>\n",
       "<table border=\"1\" class=\"dataframe\">\n",
       "  <thead>\n",
       "    <tr style=\"text-align: right;\">\n",
       "      <th></th>\n",
       "      <th>id</th>\n",
       "      <th>username</th>\n",
       "      <th>rating</th>\n",
       "      <th>value</th>\n",
       "    </tr>\n",
       "  </thead>\n",
       "  <tbody>\n",
       "    <tr>\n",
       "      <th>79084</th>\n",
       "      <td>169786</td>\n",
       "      <td>mr0santan</td>\n",
       "      <td>8</td>\n",
       "      <td>Gives you that \"one more turn!\" Feel</td>\n",
       "    </tr>\n",
       "    <tr>\n",
       "      <th>62184</th>\n",
       "      <td>148228</td>\n",
       "      <td>harrycalder</td>\n",
       "      <td>7.1</td>\n",
       "      <td>Ding and dent copy but mostly unpunched, defin...</td>\n",
       "    </tr>\n",
       "    <tr>\n",
       "      <th>40932</th>\n",
       "      <td>244521</td>\n",
       "      <td>joewyka</td>\n",
       "      <td>8</td>\n",
       "      <td>Players pull ingredients from their personal b...</td>\n",
       "    </tr>\n",
       "    <tr>\n",
       "      <th>79479</th>\n",
       "      <td>148228</td>\n",
       "      <td>nkcbones</td>\n",
       "      <td>9</td>\n",
       "      <td>Quick and competitive.</td>\n",
       "    </tr>\n",
       "    <tr>\n",
       "      <th>56152</th>\n",
       "      <td>244521</td>\n",
       "      <td>ShawSmith2007</td>\n",
       "      <td>8</td>\n",
       "      <td>So glad I got this. Another family fave that a...</td>\n",
       "    </tr>\n",
       "  </tbody>\n",
       "</table>\n",
       "</div>"
      ],
      "text/plain": [
       "           id       username rating  \\\n",
       "79084  169786      mr0santan      8   \n",
       "62184  148228    harrycalder    7.1   \n",
       "40932  244521        joewyka      8   \n",
       "79479  148228       nkcbones      9   \n",
       "56152  244521  ShawSmith2007      8   \n",
       "\n",
       "                                                   value  \n",
       "79084               Gives you that \"one more turn!\" Feel  \n",
       "62184  Ding and dent copy but mostly unpunched, defin...  \n",
       "40932  Players pull ingredients from their personal b...  \n",
       "79479                             Quick and competitive.  \n",
       "56152  So glad I got this. Another family fave that a...  "
      ]
     },
     "execution_count": 68,
     "metadata": {},
     "output_type": "execute_result"
    }
   ],
   "source": [
    "rated_comments.head()"
   ]
  },
  {
   "cell_type": "code",
   "execution_count": 69,
   "metadata": {},
   "outputs": [
    {
     "data": {
      "text/html": [
       "<div>\n",
       "<style scoped>\n",
       "    .dataframe tbody tr th:only-of-type {\n",
       "        vertical-align: middle;\n",
       "    }\n",
       "\n",
       "    .dataframe tbody tr th {\n",
       "        vertical-align: top;\n",
       "    }\n",
       "\n",
       "    .dataframe thead th {\n",
       "        text-align: right;\n",
       "    }\n",
       "</style>\n",
       "<table border=\"1\" class=\"dataframe\">\n",
       "  <thead>\n",
       "    <tr style=\"text-align: right;\">\n",
       "      <th></th>\n",
       "      <th>id</th>\n",
       "      <th>rating_mean</th>\n",
       "      <th>rating_count</th>\n",
       "    </tr>\n",
       "  </thead>\n",
       "  <tbody>\n",
       "    <tr>\n",
       "      <th>0</th>\n",
       "      <td>111105</td>\n",
       "      <td>6.881935</td>\n",
       "      <td>403</td>\n",
       "    </tr>\n",
       "    <tr>\n",
       "      <th>1</th>\n",
       "      <td>148228</td>\n",
       "      <td>7.382325</td>\n",
       "      <td>7281</td>\n",
       "    </tr>\n",
       "    <tr>\n",
       "      <th>2</th>\n",
       "      <td>162886</td>\n",
       "      <td>8.351370</td>\n",
       "      <td>3465</td>\n",
       "    </tr>\n",
       "    <tr>\n",
       "      <th>3</th>\n",
       "      <td>163068</td>\n",
       "      <td>7.765526</td>\n",
       "      <td>938</td>\n",
       "    </tr>\n",
       "    <tr>\n",
       "      <th>4</th>\n",
       "      <td>163968</td>\n",
       "      <td>7.181820</td>\n",
       "      <td>1167</td>\n",
       "    </tr>\n",
       "  </tbody>\n",
       "</table>\n",
       "</div>"
      ],
      "text/plain": [
       "       id  rating_mean  rating_count\n",
       "0  111105     6.881935           403\n",
       "1  148228     7.382325          7281\n",
       "2  162886     8.351370          3465\n",
       "3  163068     7.765526           938\n",
       "4  163968     7.181820          1167"
      ]
     },
     "execution_count": 69,
     "metadata": {},
     "output_type": "execute_result"
    }
   ],
   "source": [
    "rated_comments['rating'] = rated_comments.rating.astype(float)\n",
    "rated_comments_grouped = rated_comments.groupby('id').agg({'rating': ['mean', 'count']})\n",
    "rated_comments_grouped.columns = list(rated_comments_grouped.columns.map('_'.join))\n",
    "rated_comments_grouped = rated_comments_grouped.reset_index()\n",
    "rated_comments_grouped.head()"
   ]
  },
  {
   "cell_type": "code",
   "execution_count": 70,
   "metadata": {},
   "outputs": [],
   "source": [
    "not_rated_comments['rating'] = [round(float(r[0])*10, 1) for r in results]"
   ]
  },
  {
   "cell_type": "code",
   "execution_count": 71,
   "metadata": {},
   "outputs": [
    {
     "data": {
      "text/html": [
       "<div>\n",
       "<style scoped>\n",
       "    .dataframe tbody tr th:only-of-type {\n",
       "        vertical-align: middle;\n",
       "    }\n",
       "\n",
       "    .dataframe tbody tr th {\n",
       "        vertical-align: top;\n",
       "    }\n",
       "\n",
       "    .dataframe thead th {\n",
       "        text-align: right;\n",
       "    }\n",
       "</style>\n",
       "<table border=\"1\" class=\"dataframe\">\n",
       "  <thead>\n",
       "    <tr style=\"text-align: right;\">\n",
       "      <th></th>\n",
       "      <th>id</th>\n",
       "      <th>rating_mean</th>\n",
       "      <th>rating_count</th>\n",
       "    </tr>\n",
       "  </thead>\n",
       "  <tbody>\n",
       "    <tr>\n",
       "      <th>0</th>\n",
       "      <td>111105</td>\n",
       "      <td>7.803804</td>\n",
       "      <td>184</td>\n",
       "    </tr>\n",
       "    <tr>\n",
       "      <th>1</th>\n",
       "      <td>148228</td>\n",
       "      <td>8.334621</td>\n",
       "      <td>1476</td>\n",
       "    </tr>\n",
       "    <tr>\n",
       "      <th>2</th>\n",
       "      <td>162886</td>\n",
       "      <td>8.655088</td>\n",
       "      <td>1022</td>\n",
       "    </tr>\n",
       "    <tr>\n",
       "      <th>3</th>\n",
       "      <td>163068</td>\n",
       "      <td>8.696288</td>\n",
       "      <td>431</td>\n",
       "    </tr>\n",
       "    <tr>\n",
       "      <th>4</th>\n",
       "      <td>163968</td>\n",
       "      <td>8.304186</td>\n",
       "      <td>430</td>\n",
       "    </tr>\n",
       "  </tbody>\n",
       "</table>\n",
       "</div>"
      ],
      "text/plain": [
       "       id  rating_mean  rating_count\n",
       "0  111105     7.803804           184\n",
       "1  148228     8.334621          1476\n",
       "2  162886     8.655088          1022\n",
       "3  163068     8.696288           431\n",
       "4  163968     8.304186           430"
      ]
     },
     "execution_count": 71,
     "metadata": {},
     "output_type": "execute_result"
    }
   ],
   "source": [
    "not_rated_comments['rating'] = not_rated_comments.rating.astype(float)\n",
    "not_rated_comments_grouped = not_rated_comments.groupby('id').agg({'rating': ['mean', 'count']})\n",
    "not_rated_comments_grouped.columns = list(not_rated_comments_grouped.columns.map('_'.join))\n",
    "not_rated_comments_grouped = not_rated_comments_grouped.reset_index()\n",
    "not_rated_comments_grouped.head()"
   ]
  },
  {
   "cell_type": "code",
   "execution_count": 72,
   "metadata": {},
   "outputs": [],
   "source": [
    "grouped = rated_comments_grouped.merge(not_rated_comments_grouped, on='id', suffixes=('_review', '_comments'))\n",
    "grouped = grouped.merge(pd.DataFrame(hot_array), on='id')\n",
    "grouped['rank'] = grouped['rank'].astype(int)"
   ]
  },
  {
   "cell_type": "code",
   "execution_count": 73,
   "metadata": {},
   "outputs": [
    {
     "data": {
      "text/html": [
       "<div>\n",
       "<style scoped>\n",
       "    .dataframe tbody tr th:only-of-type {\n",
       "        vertical-align: middle;\n",
       "    }\n",
       "\n",
       "    .dataframe tbody tr th {\n",
       "        vertical-align: top;\n",
       "    }\n",
       "\n",
       "    .dataframe thead th {\n",
       "        text-align: right;\n",
       "    }\n",
       "</style>\n",
       "<table border=\"1\" class=\"dataframe\">\n",
       "  <thead>\n",
       "    <tr style=\"text-align: right;\">\n",
       "      <th></th>\n",
       "      <th>id</th>\n",
       "      <th>rating_mean_review</th>\n",
       "      <th>rating_count_review</th>\n",
       "      <th>rating_mean_comments</th>\n",
       "      <th>rating_count_comments</th>\n",
       "      <th>rank</th>\n",
       "      <th>thumbnail</th>\n",
       "      <th>name</th>\n",
       "      <th>yearpublished</th>\n",
       "    </tr>\n",
       "  </thead>\n",
       "  <tbody>\n",
       "    <tr>\n",
       "      <th>0</th>\n",
       "      <td>111105</td>\n",
       "      <td>6.881935</td>\n",
       "      <td>403</td>\n",
       "      <td>7.803804</td>\n",
       "      <td>184</td>\n",
       "      <td>40</td>\n",
       "      <td>https://cf.geekdo-images.com/KSrotdESv2kphKZGb...</td>\n",
       "      <td>Agents of SMERSH</td>\n",
       "      <td>2012</td>\n",
       "    </tr>\n",
       "    <tr>\n",
       "      <th>1</th>\n",
       "      <td>148228</td>\n",
       "      <td>7.382325</td>\n",
       "      <td>7281</td>\n",
       "      <td>8.334621</td>\n",
       "      <td>1476</td>\n",
       "      <td>31</td>\n",
       "      <td>https://cf.geekdo-images.com/rwOMxx4q5yuElIvo-...</td>\n",
       "      <td>Splendor</td>\n",
       "      <td>2014</td>\n",
       "    </tr>\n",
       "    <tr>\n",
       "      <th>2</th>\n",
       "      <td>162886</td>\n",
       "      <td>8.351370</td>\n",
       "      <td>3465</td>\n",
       "      <td>8.655088</td>\n",
       "      <td>1022</td>\n",
       "      <td>14</td>\n",
       "      <td>https://cf.geekdo-images.com/a13ieMPP2s0KEaKNY...</td>\n",
       "      <td>Spirit Island</td>\n",
       "      <td>2017</td>\n",
       "    </tr>\n",
       "    <tr>\n",
       "      <th>3</th>\n",
       "      <td>163068</td>\n",
       "      <td>7.765526</td>\n",
       "      <td>938</td>\n",
       "      <td>8.696288</td>\n",
       "      <td>431</td>\n",
       "      <td>26</td>\n",
       "      <td>https://cf.geekdo-images.com/9gob752VqEklQFV_g...</td>\n",
       "      <td>Trickerion: Legends of Illusion</td>\n",
       "      <td>2015</td>\n",
       "    </tr>\n",
       "    <tr>\n",
       "      <th>4</th>\n",
       "      <td>163968</td>\n",
       "      <td>7.181820</td>\n",
       "      <td>1167</td>\n",
       "      <td>8.304186</td>\n",
       "      <td>430</td>\n",
       "      <td>45</td>\n",
       "      <td>https://cf.geekdo-images.com/hNyO7u1pR3oSxKTEL...</td>\n",
       "      <td>Elysium</td>\n",
       "      <td>2015</td>\n",
       "    </tr>\n",
       "  </tbody>\n",
       "</table>\n",
       "</div>"
      ],
      "text/plain": [
       "       id  rating_mean_review  rating_count_review  rating_mean_comments  \\\n",
       "0  111105            6.881935                  403              7.803804   \n",
       "1  148228            7.382325                 7281              8.334621   \n",
       "2  162886            8.351370                 3465              8.655088   \n",
       "3  163068            7.765526                  938              8.696288   \n",
       "4  163968            7.181820                 1167              8.304186   \n",
       "\n",
       "   rating_count_comments  rank  \\\n",
       "0                    184    40   \n",
       "1                   1476    31   \n",
       "2                   1022    14   \n",
       "3                    431    26   \n",
       "4                    430    45   \n",
       "\n",
       "                                           thumbnail  \\\n",
       "0  https://cf.geekdo-images.com/KSrotdESv2kphKZGb...   \n",
       "1  https://cf.geekdo-images.com/rwOMxx4q5yuElIvo-...   \n",
       "2  https://cf.geekdo-images.com/a13ieMPP2s0KEaKNY...   \n",
       "3  https://cf.geekdo-images.com/9gob752VqEklQFV_g...   \n",
       "4  https://cf.geekdo-images.com/hNyO7u1pR3oSxKTEL...   \n",
       "\n",
       "                              name yearpublished  \n",
       "0                 Agents of SMERSH          2012  \n",
       "1                         Splendor          2014  \n",
       "2                    Spirit Island          2017  \n",
       "3  Trickerion: Legends of Illusion          2015  \n",
       "4                          Elysium          2015  "
      ]
     },
     "execution_count": 73,
     "metadata": {},
     "output_type": "execute_result"
    }
   ],
   "source": [
    "grouped.head()"
   ]
  },
  {
   "cell_type": "code",
   "execution_count": 74,
   "metadata": {},
   "outputs": [],
   "source": [
    "grouped['fixed_rating'] = (grouped['rating_mean_review']*grouped['rating_count_review']+grouped['rating_mean_comments']*grouped['rating_count_comments']) / (grouped['rating_count_review']+grouped['rating_count_comments'])"
   ]
  },
  {
   "cell_type": "code",
   "execution_count": 75,
   "metadata": {},
   "outputs": [
    {
     "data": {
      "text/html": [
       "<div>\n",
       "<style scoped>\n",
       "    .dataframe tbody tr th:only-of-type {\n",
       "        vertical-align: middle;\n",
       "    }\n",
       "\n",
       "    .dataframe tbody tr th {\n",
       "        vertical-align: top;\n",
       "    }\n",
       "\n",
       "    .dataframe thead th {\n",
       "        text-align: right;\n",
       "    }\n",
       "</style>\n",
       "<table border=\"1\" class=\"dataframe\">\n",
       "  <thead>\n",
       "    <tr style=\"text-align: right;\">\n",
       "      <th></th>\n",
       "      <th>id</th>\n",
       "      <th>rating_mean_review</th>\n",
       "      <th>rating_count_review</th>\n",
       "      <th>rating_mean_comments</th>\n",
       "      <th>rating_count_comments</th>\n",
       "      <th>rank</th>\n",
       "      <th>thumbnail</th>\n",
       "      <th>name</th>\n",
       "      <th>yearpublished</th>\n",
       "      <th>fixed_rating</th>\n",
       "    </tr>\n",
       "  </thead>\n",
       "  <tbody>\n",
       "    <tr>\n",
       "      <th>0</th>\n",
       "      <td>111105</td>\n",
       "      <td>6.881935</td>\n",
       "      <td>403</td>\n",
       "      <td>7.803804</td>\n",
       "      <td>184</td>\n",
       "      <td>40</td>\n",
       "      <td>https://cf.geekdo-images.com/KSrotdESv2kphKZGb...</td>\n",
       "      <td>Agents of SMERSH</td>\n",
       "      <td>2012</td>\n",
       "      <td>7.170903</td>\n",
       "    </tr>\n",
       "    <tr>\n",
       "      <th>1</th>\n",
       "      <td>148228</td>\n",
       "      <td>7.382325</td>\n",
       "      <td>7281</td>\n",
       "      <td>8.334621</td>\n",
       "      <td>1476</td>\n",
       "      <td>31</td>\n",
       "      <td>https://cf.geekdo-images.com/rwOMxx4q5yuElIvo-...</td>\n",
       "      <td>Splendor</td>\n",
       "      <td>2014</td>\n",
       "      <td>7.542835</td>\n",
       "    </tr>\n",
       "    <tr>\n",
       "      <th>2</th>\n",
       "      <td>162886</td>\n",
       "      <td>8.351370</td>\n",
       "      <td>3465</td>\n",
       "      <td>8.655088</td>\n",
       "      <td>1022</td>\n",
       "      <td>14</td>\n",
       "      <td>https://cf.geekdo-images.com/a13ieMPP2s0KEaKNY...</td>\n",
       "      <td>Spirit Island</td>\n",
       "      <td>2017</td>\n",
       "      <td>8.420548</td>\n",
       "    </tr>\n",
       "    <tr>\n",
       "      <th>3</th>\n",
       "      <td>163068</td>\n",
       "      <td>7.765526</td>\n",
       "      <td>938</td>\n",
       "      <td>8.696288</td>\n",
       "      <td>431</td>\n",
       "      <td>26</td>\n",
       "      <td>https://cf.geekdo-images.com/9gob752VqEklQFV_g...</td>\n",
       "      <td>Trickerion: Legends of Illusion</td>\n",
       "      <td>2015</td>\n",
       "      <td>8.058556</td>\n",
       "    </tr>\n",
       "    <tr>\n",
       "      <th>4</th>\n",
       "      <td>163968</td>\n",
       "      <td>7.181820</td>\n",
       "      <td>1167</td>\n",
       "      <td>8.304186</td>\n",
       "      <td>430</td>\n",
       "      <td>45</td>\n",
       "      <td>https://cf.geekdo-images.com/hNyO7u1pR3oSxKTEL...</td>\n",
       "      <td>Elysium</td>\n",
       "      <td>2015</td>\n",
       "      <td>7.484023</td>\n",
       "    </tr>\n",
       "  </tbody>\n",
       "</table>\n",
       "</div>"
      ],
      "text/plain": [
       "       id  rating_mean_review  rating_count_review  rating_mean_comments  \\\n",
       "0  111105            6.881935                  403              7.803804   \n",
       "1  148228            7.382325                 7281              8.334621   \n",
       "2  162886            8.351370                 3465              8.655088   \n",
       "3  163068            7.765526                  938              8.696288   \n",
       "4  163968            7.181820                 1167              8.304186   \n",
       "\n",
       "   rating_count_comments  rank  \\\n",
       "0                    184    40   \n",
       "1                   1476    31   \n",
       "2                   1022    14   \n",
       "3                    431    26   \n",
       "4                    430    45   \n",
       "\n",
       "                                           thumbnail  \\\n",
       "0  https://cf.geekdo-images.com/KSrotdESv2kphKZGb...   \n",
       "1  https://cf.geekdo-images.com/rwOMxx4q5yuElIvo-...   \n",
       "2  https://cf.geekdo-images.com/a13ieMPP2s0KEaKNY...   \n",
       "3  https://cf.geekdo-images.com/9gob752VqEklQFV_g...   \n",
       "4  https://cf.geekdo-images.com/hNyO7u1pR3oSxKTEL...   \n",
       "\n",
       "                              name yearpublished  fixed_rating  \n",
       "0                 Agents of SMERSH          2012      7.170903  \n",
       "1                         Splendor          2014      7.542835  \n",
       "2                    Spirit Island          2017      8.420548  \n",
       "3  Trickerion: Legends of Illusion          2015      8.058556  \n",
       "4                          Elysium          2015      7.484023  "
      ]
     },
     "execution_count": 75,
     "metadata": {},
     "output_type": "execute_result"
    }
   ],
   "source": [
    "grouped.head()"
   ]
  },
  {
   "cell_type": "code",
   "execution_count": 76,
   "metadata": {},
   "outputs": [],
   "source": [
    "grouped = grouped[['thumbnail', 'name', 'rating_mean_review', 'rating_mean_comments', 'fixed_rating', 'rank', 'yearpublished']]"
   ]
  },
  {
   "cell_type": "code",
   "execution_count": 77,
   "metadata": {},
   "outputs": [],
   "source": [
    "def path_to_image_html(path):\n",
    "    '''\n",
    "     This function essentially convert the image url to \n",
    "     '<img src=\"'+ path + '\"/>' format. And one can put any\n",
    "     formatting adjustments to control the height, aspect ratio, size etc.\n",
    "     within as in the below example. \n",
    "    '''\n",
    "\n",
    "    return '<center><img src=\"'+ path + '\" style=max-height:124px;\"/></center>'"
   ]
  },
  {
   "cell_type": "code",
   "execution_count": 78,
   "metadata": {},
   "outputs": [
    {
     "data": {
      "text/html": [
       "<table border=\"1\" class=\"dataframe\">\n",
       "  <thead>\n",
       "    <tr style=\"text-align: right;\">\n",
       "      <th></th>\n",
       "      <th>thumbnail</th>\n",
       "      <th>name</th>\n",
       "      <th>rating_mean_review</th>\n",
       "      <th>rating_mean_comments</th>\n",
       "      <th>fixed_rating</th>\n",
       "      <th>rank</th>\n",
       "      <th>yearpublished</th>\n",
       "    </tr>\n",
       "  </thead>\n",
       "  <tbody>\n",
       "    <tr>\n",
       "      <th>44</th>\n",
       "      <td><center><img src=\"https://cf.geekdo-images.com/N0hCcxXw8d7vUjKfsYO6vg__thumb/img/K4DDlRzl6qlQf9L_oMLb7g9WUYo=/fit-in/200x150/filters:strip_icc()/pic6121929.png\" style=max-height:124px;\"/></center></td>\n",
       "      <td>My Father's Work</td>\n",
       "      <td>5.375000</td>\n",
       "      <td>8.584000</td>\n",
       "      <td>8.141379</td>\n",
       "      <td>1</td>\n",
       "      <td>2021</td>\n",
       "    </tr>\n",
       "    <tr>\n",
       "      <th>37</th>\n",
       "      <td><center><img src=\"https://cf.geekdo-images.com/-KMXyStWyla5jh_BRO803w__thumb/img/3j7TG-J5bxigP1RaTbNnHcHnr6A=/fit-in/200x150/filters:strip_icc()/pic6074555.png\" style=max-height:124px;\"/></center></td>\n",
       "      <td>Vivid Memories</td>\n",
       "      <td>7.500000</td>\n",
       "      <td>6.760000</td>\n",
       "      <td>6.971429</td>\n",
       "      <td>2</td>\n",
       "      <td>2021</td>\n",
       "    </tr>\n",
       "    <tr>\n",
       "      <th>30</th>\n",
       "      <td><center><img src=\"https://cf.geekdo-images.com/gTxav_KKQK1rDg-XuCjCSA__thumb/img/tFTOAKG5aDXxYfNRmJNmfyxH83M=/fit-in/200x150/filters:strip_icc()/pic5164812.jpg\" style=max-height:124px;\"/></center></td>\n",
       "      <td>Oath: Chronicles of Empire and Exile</td>\n",
       "      <td>8.040377</td>\n",
       "      <td>8.821176</td>\n",
       "      <td>8.591911</td>\n",
       "      <td>3</td>\n",
       "      <td>2021</td>\n",
       "    </tr>\n",
       "    <tr>\n",
       "      <th>36</th>\n",
       "      <td><center><img src=\"https://cf.geekdo-images.com/6GqH14TJJhza86BX5HCLEQ__thumb/img/J8SVmGOJXZGxNjkT3xYNQU7Haxg=/fit-in/200x150/filters:strip_icc()/pic5674958.jpg\" style=max-height:124px;\"/></center></td>\n",
       "      <td>Lost Ruins of Arnak</td>\n",
       "      <td>7.952460</td>\n",
       "      <td>8.478000</td>\n",
       "      <td>8.107578</td>\n",
       "      <td>4</td>\n",
       "      <td>2020</td>\n",
       "    </tr>\n",
       "    <tr>\n",
       "      <th>38</th>\n",
       "      <td><center><img src=\"https://cf.geekdo-images.com/PhjygpWSo-0labGrPBMyyg__thumb/img/JGgY-nBmkyB8WRp8vcoBLlNMQ5U=/fit-in/200x150/filters:strip_icc()/pic5666597.jpg\" style=max-height:124px;\"/></center></td>\n",
       "      <td>Dune: Imperium</td>\n",
       "      <td>8.119984</td>\n",
       "      <td>8.423394</td>\n",
       "      <td>8.199388</td>\n",
       "      <td>6</td>\n",
       "      <td>2020</td>\n",
       "    </tr>\n",
       "  </tbody>\n",
       "</table>"
      ],
      "text/plain": [
       "<IPython.core.display.HTML object>"
      ]
     },
     "execution_count": 78,
     "metadata": {},
     "output_type": "execute_result"
    }
   ],
   "source": [
    "# TOP 5 RANK\n",
    "HTML(grouped.sort_values('rank').head(5).to_html(escape=False, formatters={'thumbnail': path_to_image_html}))"
   ]
  },
  {
   "cell_type": "code",
   "execution_count": 79,
   "metadata": {},
   "outputs": [
    {
     "data": {
      "text/html": [
       "<table border=\"1\" class=\"dataframe\">\n",
       "  <thead>\n",
       "    <tr style=\"text-align: right;\">\n",
       "      <th></th>\n",
       "      <th>thumbnail</th>\n",
       "      <th>name</th>\n",
       "      <th>rating_mean_review</th>\n",
       "      <th>rating_mean_comments</th>\n",
       "      <th>fixed_rating</th>\n",
       "      <th>rank</th>\n",
       "      <th>yearpublished</th>\n",
       "    </tr>\n",
       "  </thead>\n",
       "  <tbody>\n",
       "    <tr>\n",
       "      <th>40</th>\n",
       "      <td><center><img src=\"https://cf.geekdo-images.com/eUiju5SqZbkNt8gnEofrTw__thumb/img/zNkmLNyeXJGOY24FeAAf4U67ejU=/fit-in/200x150/filters:strip_icc()/pic6035127.png\" style=max-height:124px;\"/></center></td>\n",
       "      <td>Stationfall</td>\n",
       "      <td>9.428571</td>\n",
       "      <td>8.500000</td>\n",
       "      <td>9.000000</td>\n",
       "      <td>25</td>\n",
       "      <td>2021</td>\n",
       "    </tr>\n",
       "    <tr>\n",
       "      <th>32</th>\n",
       "      <td><center><img src=\"https://cf.geekdo-images.com/dNXxWWcLHd67zOCz1_DV5g__thumb/img/LKLbu76Lt9XTRsSv1TC66uaSN40=/fit-in/200x150/filters:strip_icc()/pic5415822.png\" style=max-height:124px;\"/></center></td>\n",
       "      <td>Kemet: Blood and Sand</td>\n",
       "      <td>8.921053</td>\n",
       "      <td>8.553591</td>\n",
       "      <td>8.588500</td>\n",
       "      <td>35</td>\n",
       "      <td>2021</td>\n",
       "    </tr>\n",
       "    <tr>\n",
       "      <th>20</th>\n",
       "      <td><center><img src=\"https://cf.geekdo-images.com/Oh3kHw6lweg6ru71Q16h2Q__thumb/img/e9XZdQe1ZcPpaq4Gy31OoWBB_V0=/fit-in/200x150/filters:strip_icc()/pic5235277.jpg\" style=max-height:124px;\"/></center></td>\n",
       "      <td>Eclipse: Second Dawn for the Galaxy</td>\n",
       "      <td>8.734295</td>\n",
       "      <td>8.988362</td>\n",
       "      <td>8.824285</td>\n",
       "      <td>39</td>\n",
       "      <td>2020</td>\n",
       "    </tr>\n",
       "    <tr>\n",
       "      <th>16</th>\n",
       "      <td><center><img src=\"https://cf.geekdo-images.com/x3zxjr-Vw5iU4yDPg70Jgw__thumb/img/o18rjEemoWaVru9Y2TyPwuIaRfE=/fit-in/200x150/filters:strip_icc()/pic3490053.jpg\" style=max-height:124px;\"/></center></td>\n",
       "      <td>Brass: Birmingham</td>\n",
       "      <td>8.688614</td>\n",
       "      <td>8.659131</td>\n",
       "      <td>8.680177</td>\n",
       "      <td>22</td>\n",
       "      <td>2018</td>\n",
       "    </tr>\n",
       "    <tr>\n",
       "      <th>29</th>\n",
       "      <td><center><img src=\"https://cf.geekdo-images.com/_HhIdavYW-hid20Iq3hhmg__thumb/img/OMkN_E5eyWrkID_cHCnQEbIixGM=/fit-in/200x150/filters:strip_icc()/pic5055631.jpg\" style=max-height:124px;\"/></center></td>\n",
       "      <td>Gloomhaven: Jaws of the Lion</td>\n",
       "      <td>8.623618</td>\n",
       "      <td>8.449773</td>\n",
       "      <td>8.575781</td>\n",
       "      <td>19</td>\n",
       "      <td>2020</td>\n",
       "    </tr>\n",
       "  </tbody>\n",
       "</table>"
      ],
      "text/plain": [
       "<IPython.core.display.HTML object>"
      ]
     },
     "execution_count": 79,
     "metadata": {},
     "output_type": "execute_result"
    }
   ],
   "source": [
    "# TOP 5 REVIEW RANK\n",
    "HTML(grouped.sort_values('rating_mean_review', ascending=False).head(5).to_html(escape=False, formatters={'thumbnail': path_to_image_html}))"
   ]
  },
  {
   "cell_type": "code",
   "execution_count": 80,
   "metadata": {},
   "outputs": [
    {
     "data": {
      "text/html": [
       "<table border=\"1\" class=\"dataframe\">\n",
       "  <thead>\n",
       "    <tr style=\"text-align: right;\">\n",
       "      <th></th>\n",
       "      <th>thumbnail</th>\n",
       "      <th>name</th>\n",
       "      <th>rating_mean_review</th>\n",
       "      <th>rating_mean_comments</th>\n",
       "      <th>fixed_rating</th>\n",
       "      <th>rank</th>\n",
       "      <th>yearpublished</th>\n",
       "    </tr>\n",
       "  </thead>\n",
       "  <tbody>\n",
       "    <tr>\n",
       "      <th>40</th>\n",
       "      <td><center><img src=\"https://cf.geekdo-images.com/eUiju5SqZbkNt8gnEofrTw__thumb/img/zNkmLNyeXJGOY24FeAAf4U67ejU=/fit-in/200x150/filters:strip_icc()/pic6035127.png\" style=max-height:124px;\"/></center></td>\n",
       "      <td>Stationfall</td>\n",
       "      <td>9.428571</td>\n",
       "      <td>8.500000</td>\n",
       "      <td>9.000000</td>\n",
       "      <td>25</td>\n",
       "      <td>2021</td>\n",
       "    </tr>\n",
       "    <tr>\n",
       "      <th>28</th>\n",
       "      <td><center><img src=\"https://cf.geekdo-images.com/81AiTz4hp4TlnzeCMqQMAw__thumb/img/4i2gR6ZpAY3pCBJ-n4681BGhrUU=/fit-in/200x150/filters:strip_icc()/pic6091316.jpg\" style=max-height:124px;\"/></center></td>\n",
       "      <td>Zombicide (2nd Edition)</td>\n",
       "      <td>7.617021</td>\n",
       "      <td>9.432773</td>\n",
       "      <td>8.918675</td>\n",
       "      <td>41</td>\n",
       "      <td>2021</td>\n",
       "    </tr>\n",
       "    <tr>\n",
       "      <th>20</th>\n",
       "      <td><center><img src=\"https://cf.geekdo-images.com/Oh3kHw6lweg6ru71Q16h2Q__thumb/img/e9XZdQe1ZcPpaq4Gy31OoWBB_V0=/fit-in/200x150/filters:strip_icc()/pic5235277.jpg\" style=max-height:124px;\"/></center></td>\n",
       "      <td>Eclipse: Second Dawn for the Galaxy</td>\n",
       "      <td>8.734295</td>\n",
       "      <td>8.988362</td>\n",
       "      <td>8.824285</td>\n",
       "      <td>39</td>\n",
       "      <td>2020</td>\n",
       "    </tr>\n",
       "    <tr>\n",
       "      <th>46</th>\n",
       "      <td><center><img src=\"https://cf.geekdo-images.com/8eN5t1p4ncee-eVN9NswDA__thumb/img/EI64n63DbQ9DHhTf72s7UpUFMBY=/fit-in/200x150/filters:strip_icc()/pic6007253.png\" style=max-height:124px;\"/></center></td>\n",
       "      <td>Brew</td>\n",
       "      <td>6.600000</td>\n",
       "      <td>9.922222</td>\n",
       "      <td>8.735714</td>\n",
       "      <td>13</td>\n",
       "      <td>2021</td>\n",
       "    </tr>\n",
       "    <tr>\n",
       "      <th>16</th>\n",
       "      <td><center><img src=\"https://cf.geekdo-images.com/x3zxjr-Vw5iU4yDPg70Jgw__thumb/img/o18rjEemoWaVru9Y2TyPwuIaRfE=/fit-in/200x150/filters:strip_icc()/pic3490053.jpg\" style=max-height:124px;\"/></center></td>\n",
       "      <td>Brass: Birmingham</td>\n",
       "      <td>8.688614</td>\n",
       "      <td>8.659131</td>\n",
       "      <td>8.680177</td>\n",
       "      <td>22</td>\n",
       "      <td>2018</td>\n",
       "    </tr>\n",
       "  </tbody>\n",
       "</table>"
      ],
      "text/plain": [
       "<IPython.core.display.HTML object>"
      ]
     },
     "execution_count": 80,
     "metadata": {},
     "output_type": "execute_result"
    }
   ],
   "source": [
    "# TOP 5 FIXED RANK\n",
    "HTML(grouped.sort_values('fixed_rating', ascending=False).head(5).to_html(escape=False, formatters={'thumbnail': path_to_image_html}))"
   ]
  },
  {
   "cell_type": "code",
   "execution_count": 82,
   "metadata": {},
   "outputs": [
    {
     "name": "stdout",
     "output_type": "stream",
     "text": [
      "INFO:tensorflow:Assets written to: saved_model\\my_model\\assets\n"
     ]
    },
    {
     "name": "stderr",
     "output_type": "stream",
     "text": [
      "INFO:tensorflow:Assets written to: saved_model\\my_model\\assets\n"
     ]
    }
   ],
   "source": [
    "model.save('saved_model\\my_model')"
   ]
  },
  {
   "cell_type": "code",
   "execution_count": 86,
   "metadata": {},
   "outputs": [],
   "source": [
    "# saved_model = tf.keras.models.load_model('saved_model\\my_model')"
   ]
  },
  {
   "cell_type": "code",
   "execution_count": 87,
   "metadata": {},
   "outputs": [],
   "source": [
    "# some examples on \"long\" comments vs short comments"
   ]
  },
  {
   "cell_type": "code",
   "execution_count": 92,
   "metadata": {},
   "outputs": [],
   "source": [
    "not_rated_comments['comment_len'] = not_rated_comments['value'].str.len()"
   ]
  },
  {
   "cell_type": "code",
   "execution_count": 98,
   "metadata": {},
   "outputs": [
    {
     "name": "stdout",
     "output_type": "stream",
     "text": [
      "input:\n",
      "\"Hard to rate but I'm enjoying it so far. I'm feeling like I don't see the strategic depth to this game. I don't know if I just need to play more or if there isn't much depth.\"\n",
      "score: 0.991876\n",
      "\n",
      "input:\n",
      "\"Was a beast and took some time to get to the table, definitely got some rules wrong, but thoroughly enjoy the gameplay, the character developments and all the story elements. Can’t say enough about how great it is.\"\n",
      "score: 1.000000\n",
      "\n",
      "input:\n",
      "\"Оба Брасса мне кажутся очень сухими и я не понимаю в чем тут прикол. Тянусь за ними только из-за хайпа, который непонятно чем вызван. За такую цену, я думаю - необоснованная покупка.\"\n",
      "score: 0.011818\n",
      "\n",
      "input:\n",
      "\"STATUS: Keep Designer: Matthew Dunstan, Brett J. Gilbert  Publisher: Asmodee Player Count: 3 Best Notes:\"\n",
      "score: 1.000000\n",
      "\n",
      "input:\n",
      "\"#4305/11320 échange avec Bastet +30$ 02/08/16 + Invaders from Afar expansion + promo 8-9-10 + The Wind Gambit expansion + Large Action Tokens + The Rise of Fenris expansion\"\n",
      "score: 1.000000\n",
      "\n",
      "input:\n",
      "\"Of course I want to try out the number one game on this site. From reading about it, it seems really similar to D&D, so I can't wait to try this!\"\n",
      "score: 0.999894\n",
      "\n",
      "input:\n",
      "\"Campaigns Rise of the Red Skull  Hero Packs Captain America Ms Marvel Thor Black Widow Doctor Strange Hulk Ant-Man The Wasp Quicksilver Scarlet Witch  Scenario Packs Green Goblin Wrecking Crew The Once and Future Kang\"\n",
      "score: 1.000000\n",
      "\n",
      "input:\n",
      "\"Do I really like these kind of games? Encounter monsters, rolling dice, win/lose, go on, and on and on. But everyone seems unanimously say that this is a good game. Maybe I should try it anyway. \"\n",
      "score: 0.549219\n",
      "\n",
      "input:\n",
      "\"A really good game. Amazing how they create stories with this game. Personnaly I don't like the collecting aspect. That's why it has left my collection.\"\n",
      "score: 0.999948\n",
      "\n",
      "input:\n",
      "\"I have had 2 copies of this and my current box has a 2017 copyright (my rules have a 2016 copyright) so I think that this is my current version.\"\n",
      "score: 0.000470\n",
      "\n",
      "input:\n",
      "\"Beautiful production and overall design. I can only hope the game is good now. Perhaps one day I'll be allowed to play it with p-e-o-p-l-e some day. \"\n",
      "score: 0.998317\n",
      "\n",
      "input:\n",
      "\"2.92   Base Set  Cycle Expansions: The Dunwich Legacy (Complete Cycle)  Print-To-Play: Curse of the Rugarou Carnivale Of Horrors\"\n",
      "score: 1.000000\n",
      "\n",
      "input:\n",
      "\"Scythe je strategická hra pro 1-5 hráčů, ve které se hráči zhostí role průzkumníků východoevropských mocností v alternativní historii na počátku 20. stol. Jejich cílem bude co nejvíce posílit svůj vliv v okolí za záhadných okolností opuštěného městského státu známého jako Továrna.\"\n",
      "score: 1.000000\n",
      "\n",
      "input:\n",
      "\"SOLO -a fellow BGG'r kindly donated his collection to me. I paid him anyways, but I still made out. I'm learning....takes table time alone which doesn't always happen but I can see why some people really dive into it. No rating yet - still learning but I like it\"\n",
      "score: 0.999986\n",
      "\n",
      "input:\n",
      "\"Might be a game that would appeal to Della because of the interactivity of gaining from other people's sanctuary engines. [geekurl=/video/202956/wingspan/rahdo-runs-through-wingspan]Rahdo has a nice solo play[/geekurl], but it's his Final Thoughts that are really informative.\"\n",
      "score: 0.077654\n",
      "\n",
      "input:\n",
      "\"Expansions Owned: [thing=245744]Great Western Trail: Rails to the North[/thing]  Addons: [url=https://www.gamenightgames.com/mdgsks-0318.html]Metal Industrial Coins[/url] [thing=267350][b]Insert[/b]: Great Western Trail: Folded Space Insert[/thing] [b]Sleeved[/b]: Monster - Standard American\"\n",
      "score: 1.000000\n",
      "\n",
      "input:\n",
      "\"3.1 avg wt, 1-4, best with 2-4, 60-120 minutes  Fantasy  Co-operative Play Grid Movement Hand Management Modular Board Simultaneous Action Selection Variable Player Powers\"\n",
      "score: 0.999928\n",
      "\n",
      "input:\n",
      "\"Strategic and mathematical economy game where you're all cultivating mars and whoever does the most wins.  Currently one of the best of these types of games out there.  Typically played in 2-3hr sessions.\"\n",
      "score: 0.999532\n",
      "\n",
      "input:\n",
      "\"The best tutorial for getting to know a complex game (across multiple scenarios) in any game. Maps are in a scenario book instead of laying map tiles out. Much better. Includes supplementary book for bigger maps. Loop binding instead of a normal rulebook binding.\"\n",
      "score: 0.280043\n",
      "\n",
      "input:\n",
      "\"1018  late to the party as this is the 2nd print but just wanted to see for myself what a COIN game looked like\"\n",
      "score: 1.000000\n",
      "\n",
      "input:\n",
      "\"Beautiful, but I have pretty much everything for Sagrada, and these two games are very similar. Sagrada has more ways to mitigate luck than this one, too. I'm also not really a cat person!\"\n",
      "score: 1.000000\n",
      "\n",
      "input:\n",
      "\"Need to play more but so far I love the theme, art and little bird facts on the cards. The mechanics are smooth and as far as engine building goes it seems to be a big step up from something like Splendor.\"\n",
      "score: 0.067162\n",
      "\n",
      "input:\n",
      "\"Great art. Want to play. Don't buy because: card text too smal, tree in the way for 3-4th player, not a game for children even if the art is a bit childish. Might get Wingspan instead.\"\n",
      "score: 0.021519\n",
      "\n",
      "input:\n",
      "\"With Promo Pack #4, metal coins, and extended board. Also The Invaders from Afar, The Wind Gambit, and Rise of Fenris expansions.\"\n",
      "score: 1.000000\n",
      "\n",
      "input:\n",
      "\"Ordered 10/1/2017.  Read about it while researching the KS fir Cerebria.  Initially not interested but was impressed by the activity and reviews on BGG.\"\n",
      "score: 0.999999\n"
     ]
    }
   ],
   "source": [
    "# some long comments\n",
    "some_long_comments = not_rated_comments.query(\"comment_len>100 and comment_len<300\").sample(frac=1)\n",
    "results = tf.sigmoid(model.predict(tf.constant(list(some_long_comments.value))))\n",
    "print_my_examples(list(some_long_comments.value), results, limit=25)"
   ]
  },
  {
   "cell_type": "code",
   "execution_count": null,
   "metadata": {},
   "outputs": [],
   "source": []
  }
 ],
 "metadata": {
  "kernelspec": {
   "display_name": "tensorflow",
   "language": "python",
   "name": "tensorflow"
  },
  "language_info": {
   "codemirror_mode": {
    "name": "ipython",
    "version": 3
   },
   "file_extension": ".py",
   "mimetype": "text/x-python",
   "name": "python",
   "nbconvert_exporter": "python",
   "pygments_lexer": "ipython3",
   "version": "3.7.3"
  }
 },
 "nbformat": 4,
 "nbformat_minor": 4
}
