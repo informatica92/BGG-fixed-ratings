{
 "cells": [
  {
   "cell_type": "code",
   "execution_count": 1,
   "metadata": {},
   "outputs": [],
   "source": [
    "# ## BGG API\n",
    "# https://www.boardgamegeek.com/xmlapi2/thing?id=161599&comments=1\n",
    "# https://www.boardgamegeek.com/xmlapi2/hot?type=boardgame\n",
    "# ## NLP WITH TF\n",
    "# https://www.tensorflow.org/hub/tutorials/tf2_text_classification"
   ]
  },
  {
   "cell_type": "code",
   "execution_count": 2,
   "metadata": {},
   "outputs": [
    {
     "name": "stdout",
     "output_type": "stream",
     "text": [
      "Version:      2.4.0\n",
      "Eager mode:   True\n",
      "Hub version:  0.12.0\n",
      "GPU:          available\n"
     ]
    }
   ],
   "source": [
    "import tensorflow as tf\n",
    "import tensorflow_hub as hub\n",
    "import tensorflow_datasets as tfds\n",
    "from tensorflow.keras.wrappers.scikit_learn import KerasRegressor, KerasClassifier\n",
    "from sklearn.model_selection import cross_val_score, cross_validate, GridSearchCV\n",
    "from sklearn.model_selection import KFold\n",
    "\n",
    "import xml.etree.ElementTree as Xet\n",
    "import matplotlib.pyplot as plt\n",
    "import pandas as pd\n",
    "import numpy as np\n",
    "import requests\n",
    "from IPython.display import Image, HTML\n",
    "from datetime import datetime\n",
    "from langdetect import detect\n",
    "import re\n",
    "import copy\n",
    "\n",
    "print(\"Version:     \", tf.__version__)\n",
    "print(\"Eager mode:  \", tf.executing_eagerly())\n",
    "print(\"Hub version: \", hub.__version__)\n",
    "print(\"GPU:         \", \"available\" if tf.config.list_physical_devices('GPU') else \"NOT available\")\n",
    "\n",
    "tf.get_logger().setLevel('ERROR')"
   ]
  },
  {
   "cell_type": "code",
   "execution_count": 3,
   "metadata": {},
   "outputs": [],
   "source": [
    "# tf.debugging.set_log_device_placement(True)"
   ]
  },
  {
   "cell_type": "code",
   "execution_count": 4,
   "metadata": {},
   "outputs": [],
   "source": [
    "GOOD_REVIEW_THRESHOLD = 7"
   ]
  },
  {
   "cell_type": "code",
   "execution_count": 5,
   "metadata": {},
   "outputs": [],
   "source": [
    "VAL_FRACTION = 0.25"
   ]
  },
  {
   "cell_type": "code",
   "execution_count": 6,
   "metadata": {},
   "outputs": [],
   "source": [
    "MIN_COMMENT_LEN = 25"
   ]
  },
  {
   "cell_type": "code",
   "execution_count": 7,
   "metadata": {},
   "outputs": [],
   "source": [
    "TOP_N = 5"
   ]
  },
  {
   "cell_type": "code",
   "execution_count": 8,
   "metadata": {},
   "outputs": [],
   "source": [
    "MODEL_NAME = \"https://tfhub.dev/google/nnlm-en-dim50/2\""
   ]
  },
  {
   "cell_type": "markdown",
   "metadata": {},
   "source": [
    "## GET DATA"
   ]
  },
  {
   "cell_type": "code",
   "execution_count": 9,
   "metadata": {},
   "outputs": [],
   "source": [
    "def get_hot_data():\n",
    "    hot = requests.get(\"https://www.boardgamegeek.com/xmlapi2/hot?type=boardgame\").content.decode()\n",
    "  \n",
    "    # Parsing the XML file\n",
    "    xmlparse = Xet.fromstring(hot)\n",
    "\n",
    "    hot_array = []\n",
    "    for item in xmlparse:\n",
    "        dict_element = {\n",
    "            \"id\": item.get(\"id\"),\n",
    "            \"rank\": item.get(\"rank\")\n",
    "        }\n",
    "        for option in item:\n",
    "            dict_element[option.tag] = option.get(\"value\")\n",
    "        hot_array.append(dict_element)\n",
    "    return hot_array"
   ]
  },
  {
   "cell_type": "code",
   "execution_count": 10,
   "metadata": {},
   "outputs": [],
   "source": [
    "def get_comments(id_array, verbose=1):\n",
    "    max_comments_per_page = 1\n",
    "    array_ids = [h['id'] for h in id_array]\n",
    "    ids = ','.join(array_ids)\n",
    "    page_size = 100\n",
    "    page_number = 0\n",
    "    comments_array = []\n",
    "\n",
    "    while max_comments_per_page > 0 and len(array_ids) > 0:\n",
    "        page_number += 1\n",
    "        if verbose>0 and page_number%verbose==0:\n",
    "            print(f\"page number = {page_number}\", end=\" \")\n",
    "        comments = requests.get(f\"https://www.boardgamegeek.com/xmlapi2/thing?id={ids}&comments=1&pagesize={page_size}&page={page_number}\").content.decode()\n",
    "\n",
    "        # Parsing the XML file\n",
    "        xmlparse = Xet.fromstring(comments)\n",
    "        comments_per_item = []\n",
    "        for item in xmlparse:        \n",
    "            for option in item:\n",
    "                if option.tag == 'comments':\n",
    "                    comments_per_page = 0\n",
    "                    for comment in option:\n",
    "                        comments_per_page += 1\n",
    "                        dict_element = {\n",
    "                            \"id\": item.get(\"id\"),\n",
    "                            \"username\": comment.get(\"username\"),\n",
    "                            \"rating\": comment.get(\"rating\"),\n",
    "                            \"value\": comment.get(\"value\")\n",
    "                        }\n",
    "                        comments_array.append(dict_element)\n",
    "                    if comments_per_page==0:\n",
    "                        array_ids.remove(item.get(\"id\"))\n",
    "                        ids = ','.join(array_ids)\n",
    "                    comments_per_item.append(comments_per_page)\n",
    "        max_comments_per_page = max(comments_per_item)\n",
    "        if verbose>0 and page_number%verbose==0:\n",
    "            print(f\"(max: {max(comments_per_item)}, len: {len(comments_per_item)})\")\n",
    "    comments_df = pd.DataFrame(comments_array)\n",
    "    print(f\"comments_df shape: {comments_df.shape}\")\n",
    "    return comments_df"
   ]
  },
  {
   "cell_type": "code",
   "execution_count": 11,
   "metadata": {},
   "outputs": [
    {
     "data": {
      "text/plain": [
       "[{'id': '223040',\n",
       "  'rank': '1',\n",
       "  'thumbnail': 'https://cf.geekdo-images.com/A7IOpPt-lHrMYsbRmxXWdQ__thumb/img/XoD3fXgApfY7-dfYyFeE6FVkbfY=/fit-in/200x150/filters:strip_icc()/pic6177962.jpg',\n",
       "  'name': 'Fantasy Realms',\n",
       "  'yearpublished': '2017'},\n",
       " {'id': '326494',\n",
       "  'rank': '2',\n",
       "  'thumbnail': 'https://cf.geekdo-images.com/OcnPGq9DYBKJO_dJ0JVKNQ__thumb/img/22Z6VwHfOQRKaEIHdm0xiaHNua0=/fit-in/200x150/filters:strip_icc()/pic5986451.jpg',\n",
       "  'name': 'The Adventures of Robin Hood',\n",
       "  'yearpublished': '2021'}]"
      ]
     },
     "execution_count": 11,
     "metadata": {},
     "output_type": "execute_result"
    }
   ],
   "source": [
    "hot_array = get_hot_data()\n",
    "hot_array[:2]"
   ]
  },
  {
   "cell_type": "code",
   "execution_count": 12,
   "metadata": {},
   "outputs": [
    {
     "name": "stdout",
     "output_type": "stream",
     "text": [
      "reading dataframe from csv file...\n"
     ]
    },
    {
     "data": {
      "text/html": [
       "<div>\n",
       "<style scoped>\n",
       "    .dataframe tbody tr th:only-of-type {\n",
       "        vertical-align: middle;\n",
       "    }\n",
       "\n",
       "    .dataframe tbody tr th {\n",
       "        vertical-align: top;\n",
       "    }\n",
       "\n",
       "    .dataframe thead th {\n",
       "        text-align: right;\n",
       "    }\n",
       "</style>\n",
       "<table border=\"1\" class=\"dataframe\">\n",
       "  <thead>\n",
       "    <tr style=\"text-align: right;\">\n",
       "      <th></th>\n",
       "      <th>id</th>\n",
       "      <th>username</th>\n",
       "      <th>rating</th>\n",
       "      <th>value</th>\n",
       "    </tr>\n",
       "  </thead>\n",
       "  <tbody>\n",
       "    <tr>\n",
       "      <th>0</th>\n",
       "      <td>223040</td>\n",
       "      <td>4rch3r</td>\n",
       "      <td>8.5</td>\n",
       "      <td>\"301 ist maximale Punktzahl\"</td>\n",
       "    </tr>\n",
       "    <tr>\n",
       "      <th>1</th>\n",
       "      <td>223040</td>\n",
       "      <td>9zero21zero</td>\n",
       "      <td>8.0</td>\n",
       "      <td>Sleeved - Mayday 7077</td>\n",
       "    </tr>\n",
       "    <tr>\n",
       "      <th>2</th>\n",
       "      <td>223040</td>\n",
       "      <td>Abdul</td>\n",
       "      <td>6.0</td>\n",
       "      <td>Maths homework disguised as a game. It's fine ...</td>\n",
       "    </tr>\n",
       "    <tr>\n",
       "      <th>3</th>\n",
       "      <td>223040</td>\n",
       "      <td>absolutleo</td>\n",
       "      <td>8.0</td>\n",
       "      <td>My wife tries to veto a 10 - so 9 is a comprom...</td>\n",
       "    </tr>\n",
       "    <tr>\n",
       "      <th>4</th>\n",
       "      <td>223040</td>\n",
       "      <td>Adam78</td>\n",
       "      <td>9.0</td>\n",
       "      <td>This is great. One of the simplest rulesets go...</td>\n",
       "    </tr>\n",
       "    <tr>\n",
       "      <th>...</th>\n",
       "      <td>...</td>\n",
       "      <td>...</td>\n",
       "      <td>...</td>\n",
       "      <td>...</td>\n",
       "    </tr>\n",
       "    <tr>\n",
       "      <th>90402</th>\n",
       "      <td>167791</td>\n",
       "      <td>z_zadar</td>\n",
       "      <td>9.0</td>\n",
       "      <td>Some games are so much fun. Others can be a li...</td>\n",
       "    </tr>\n",
       "    <tr>\n",
       "      <th>90403</th>\n",
       "      <td>167791</td>\n",
       "      <td>_Czid_</td>\n",
       "      <td>8.0</td>\n",
       "      <td>Have played with Elysium and Prelude expansion...</td>\n",
       "    </tr>\n",
       "    <tr>\n",
       "      <th>90404</th>\n",
       "      <td>167791</td>\n",
       "      <td>_Marty_</td>\n",
       "      <td>9.5</td>\n",
       "      <td>Fantastic game. With so many cards that can ch...</td>\n",
       "    </tr>\n",
       "    <tr>\n",
       "      <th>90405</th>\n",
       "      <td>167791</td>\n",
       "      <td>_mun_</td>\n",
       "      <td>10.0</td>\n",
       "      <td>Nagyon izgalmas játék, jó a mechanizmusa. A sz...</td>\n",
       "    </tr>\n",
       "    <tr>\n",
       "      <th>90406</th>\n",
       "      <td>167791</td>\n",
       "      <td>_The_Inquiry_</td>\n",
       "      <td>5.0</td>\n",
       "      <td>Prior to 2020: 2 plays  TM is one of those gam...</td>\n",
       "    </tr>\n",
       "  </tbody>\n",
       "</table>\n",
       "<p>90407 rows × 4 columns</p>\n",
       "</div>"
      ],
      "text/plain": [
       "           id       username rating  \\\n",
       "0      223040         4rch3r    8.5   \n",
       "1      223040    9zero21zero    8.0   \n",
       "2      223040          Abdul    6.0   \n",
       "3      223040     absolutleo    8.0   \n",
       "4      223040         Adam78    9.0   \n",
       "...       ...            ...    ...   \n",
       "90402  167791        z_zadar    9.0   \n",
       "90403  167791         _Czid_    8.0   \n",
       "90404  167791        _Marty_    9.5   \n",
       "90405  167791          _mun_   10.0   \n",
       "90406  167791  _The_Inquiry_    5.0   \n",
       "\n",
       "                                                   value  \n",
       "0                           \"301 ist maximale Punktzahl\"  \n",
       "1                                  Sleeved - Mayday 7077  \n",
       "2      Maths homework disguised as a game. It's fine ...  \n",
       "3      My wife tries to veto a 10 - so 9 is a comprom...  \n",
       "4      This is great. One of the simplest rulesets go...  \n",
       "...                                                  ...  \n",
       "90402  Some games are so much fun. Others can be a li...  \n",
       "90403  Have played with Elysium and Prelude expansion...  \n",
       "90404  Fantastic game. With so many cards that can ch...  \n",
       "90405  Nagyon izgalmas játék, jó a mechanizmusa. A sz...  \n",
       "90406  Prior to 2020: 2 plays  TM is one of those gam...  \n",
       "\n",
       "[90407 rows x 4 columns]"
      ]
     },
     "execution_count": 12,
     "metadata": {},
     "output_type": "execute_result"
    }
   ],
   "source": [
    "try:\n",
    "    comments_df = pd.read_csv(f\"comments_{datetime.now().strftime('%Y%m%d')}.csv\")\n",
    "    comments_df['rating'] = comments_df.rating.fillna('N/A')\n",
    "    print(\"reading dataframe from csv file...\")\n",
    "except:\n",
    "    print(\"missing csv file, getting new data using API...\")\n",
    "    comments_df = get_comments(hot_array, verbose=10)\n",
    "    comments_df.to_csv(f\"comments_{datetime.now().strftime('%Y%m%d')}.csv\", index=False)\n",
    "comments_df"
   ]
  },
  {
   "cell_type": "markdown",
   "metadata": {},
   "source": [
    "## DATA CLEANING"
   ]
  },
  {
   "cell_type": "code",
   "execution_count": 13,
   "metadata": {},
   "outputs": [],
   "source": [
    "# probably we should keep all the ratings (no matters the len) and remove only the simple comments under a certain len  "
   ]
  },
  {
   "cell_type": "code",
   "execution_count": 14,
   "metadata": {},
   "outputs": [],
   "source": [
    "comments_df[\"value\"] = comments_df[\"value\"].astype(str)"
   ]
  },
  {
   "cell_type": "code",
   "execution_count": 15,
   "metadata": {},
   "outputs": [],
   "source": [
    "# REMOVE URLs FROM COMMENTS"
   ]
  },
  {
   "cell_type": "code",
   "execution_count": 16,
   "metadata": {},
   "outputs": [],
   "source": [
    "comments_df['value'] = [re.sub(r\"http\\S+\", \"\", v) for v in comments_df.value.values]"
   ]
  },
  {
   "cell_type": "code",
   "execution_count": 17,
   "metadata": {},
   "outputs": [],
   "source": [
    "# REMOVE SHORT COMMENTS\n",
    "def remove_short_comments(df: pd.DataFrame, min_len=25, method='unrated'):\n",
    "    if method not in ['unrated', 'rated', 'both']:\n",
    "        raise AttributeError(f\"method {method} not allowed\")\n",
    "    df_local = df.copy()    \n",
    "    df_local['comment_len'] = [len(re.findall(\"[A-Za-z]\", v)) for v in df_local['value'].values]\n",
    "    if method == 'rated':\n",
    "        df_local = df_local.query('(comment_len>@min_len and rating != \"N/A\") or rating == \"N/A\"')\n",
    "    elif method == 'unrated':\n",
    "        df_local = df_local.query('(comment_len>@min_len and rating == \"N/A\") or rating != \"N/A\"')\n",
    "    else:\n",
    "        df_local = df_local.query('comment_len>@min_len')\n",
    "    print(f\"removed {len(df)-len(df_local)} for 'remove_short_comments' - min len: {min_len} - method: {method}\")\n",
    "    return df_local.reset_index(drop=True)"
   ]
  },
  {
   "cell_type": "code",
   "execution_count": 18,
   "metadata": {},
   "outputs": [
    {
     "name": "stdout",
     "output_type": "stream",
     "text": [
      "removed 15377 for 'remove_short_comments' - min len: 25 - method: unrated\n"
     ]
    }
   ],
   "source": [
    "comments_df = remove_short_comments(comments_df, MIN_COMMENT_LEN)"
   ]
  },
  {
   "cell_type": "code",
   "execution_count": 19,
   "metadata": {},
   "outputs": [],
   "source": [
    "# REMOVE NON ENGLISH COMMENTS"
   ]
  },
  {
   "cell_type": "code",
   "execution_count": 20,
   "metadata": {},
   "outputs": [],
   "source": [
    "# !conda install -c conda-forge langdetect"
   ]
  },
  {
   "cell_type": "code",
   "execution_count": 21,
   "metadata": {},
   "outputs": [],
   "source": [
    "# def add_comments_lang(df: pd.DataFrame):\n",
    "#     df_local = df.copy()\n",
    "#     df_local['lang'] = df['value'].apply(detect)\n",
    "#     return df_local.reset_index(drop=True)"
   ]
  },
  {
   "cell_type": "code",
   "execution_count": 22,
   "metadata": {},
   "outputs": [],
   "source": [
    "# comments_df = add_comments_lang(comments_df)"
   ]
  },
  {
   "cell_type": "code",
   "execution_count": 23,
   "metadata": {},
   "outputs": [],
   "source": [
    "# comments_df = comments_df.query('lang == \"en\"')"
   ]
  },
  {
   "cell_type": "markdown",
   "metadata": {},
   "source": [
    "## SPLIT RATED AND NON-RATED COMMENTS"
   ]
  },
  {
   "cell_type": "code",
   "execution_count": 24,
   "metadata": {},
   "outputs": [
    {
     "data": {
      "text/plain": [
       "10.0      14834\n",
       "9.0       14016\n",
       "8.0       11723\n",
       "7.0        6434\n",
       "N/A        6407\n",
       "          ...  \n",
       "7.34          1\n",
       "7.12          1\n",
       "8.5711        1\n",
       "8.026         1\n",
       "8.5462        1\n",
       "Name: rating, Length: 523, dtype: int64"
      ]
     },
     "execution_count": 24,
     "metadata": {},
     "output_type": "execute_result"
    }
   ],
   "source": [
    "# count number of comments per rating (N/A included)\n",
    "comments_df.rating.value_counts()"
   ]
  },
  {
   "cell_type": "code",
   "execution_count": 25,
   "metadata": {},
   "outputs": [
    {
     "data": {
      "text/plain": [
       "(68623, 5)"
      ]
     },
     "execution_count": 25,
     "metadata": {},
     "output_type": "execute_result"
    }
   ],
   "source": [
    "# get rated comments only\n",
    "rated_comments = comments_df.query('rating != \"N/A\"')\n",
    "rated_comments.shape"
   ]
  },
  {
   "cell_type": "code",
   "execution_count": 26,
   "metadata": {},
   "outputs": [
    {
     "data": {
      "text/plain": [
       "(6407, 5)"
      ]
     },
     "execution_count": 26,
     "metadata": {},
     "output_type": "execute_result"
    }
   ],
   "source": [
    "# get non rated comments only\n",
    "not_rated_comments = comments_df.query('rating == \"N/A\"').reset_index(drop=True)\n",
    "not_rated_comments.shape"
   ]
  },
  {
   "cell_type": "markdown",
   "metadata": {},
   "source": [
    "## CREATE TRAINING AND VALIDATION DATA"
   ]
  },
  {
   "cell_type": "code",
   "execution_count": 27,
   "metadata": {},
   "outputs": [],
   "source": [
    "# use rated comments (reviews) to train the model"
   ]
  },
  {
   "cell_type": "code",
   "execution_count": 28,
   "metadata": {},
   "outputs": [],
   "source": [
    "rated_comments = rated_comments.sample(frac=1)"
   ]
  },
  {
   "cell_type": "code",
   "execution_count": 29,
   "metadata": {},
   "outputs": [],
   "source": [
    "# create training X and y\n",
    "train_examples = list(rated_comments.value)\n",
    "train_labels = list((rated_comments.rating.astype(float)>=GOOD_REVIEW_THRESHOLD).astype(int))"
   ]
  },
  {
   "cell_type": "code",
   "execution_count": 30,
   "metadata": {},
   "outputs": [
    {
     "name": "stdout",
     "output_type": "stream",
     "text": [
      "example of positive rating:\n"
     ]
    },
    {
     "data": {
      "text/plain": [
       "\"Wow, just wow. The only bad thing about this is the setup time. Everything has been written about the game before. Yes, it's really THAT good!\""
      ]
     },
     "execution_count": 30,
     "metadata": {},
     "output_type": "execute_result"
    }
   ],
   "source": [
    "print(\"example of positive rating:\")\n",
    "train_examples[train_labels.index(1)]"
   ]
  },
  {
   "cell_type": "code",
   "execution_count": 31,
   "metadata": {},
   "outputs": [
    {
     "name": "stdout",
     "output_type": "stream",
     "text": [
      "example of negative rating:\n"
     ]
    },
    {
     "data": {
      "text/plain": [
       "'The Crew is a puzzle-based cooperative trick taking game. Each round is self-contained. The only carryover is the inner-workings of the players. It is all about challenging a group with a puzzle, solving it, then moving on to the next one. The puzzles capture key moments in trick-taking very well--trump timing, protecting nils, bidding tricks, \"taking someone home.\" Through, in a cooperative environment, seizing the moment looses some of its luster. When everyone works together to protect a bid, their is no ongoing challenge to bust another player nor is there the reward of keeping an opponent from busting a partner\\'s nil bid.  What it does to very well, though, is capitalizing on partners\\' getting on the same wavelength in a trick taking game. This is where the game excels. The Crew doesn\\'t reach the loft heights of team vs. team trick takers like Spades, but serves as an engaging way to challenge the table to a series of bite-sized, mutual puzzles for fans of the genre.'"
      ]
     },
     "execution_count": 31,
     "metadata": {},
     "output_type": "execute_result"
    }
   ],
   "source": [
    "print(\"example of negative rating:\")\n",
    "train_examples[train_labels.index(0)]"
   ]
  },
  {
   "cell_type": "markdown",
   "metadata": {},
   "source": [
    "## COMPOSE MODEL"
   ]
  },
  {
   "cell_type": "code",
   "execution_count": 32,
   "metadata": {},
   "outputs": [],
   "source": [
    "hub_layer = hub.KerasLayer(MODEL_NAME, input_shape=[], dtype=tf.string, trainable=True)"
   ]
  },
  {
   "cell_type": "code",
   "execution_count": 33,
   "metadata": {},
   "outputs": [],
   "source": [
    "def build_model(hub_layer=None, model_type='classifier', lstm=False, verbose=1):    \n",
    "    if hub_layer is None:\n",
    "        hub_layer = hub.KerasLayer(MODEL_NAME, input_shape=[], dtype=tf.string, trainable=True)\n",
    "        \n",
    "    if model_type not in ('classifier', 'regressor'):\n",
    "        raise AttributeError(\"model type can only be 'classifier' or 'regressor'\")\n",
    "\n",
    "    if verbose:\n",
    "        print(\"example of layers processing:\")\n",
    "        print(hub_layer(train_examples[:2]))\n",
    "        print(\"\")\n",
    "\n",
    "    if model_type == 'classifier':\n",
    "        model = tf.keras.Sequential()\n",
    "        model.add(copy.copy(hub_layer))\n",
    "        if lstm:\n",
    "            raise NotImplementedError(\"lstm = True is not implemented\")\n",
    "        else:\n",
    "            model.add(tf.keras.layers.Dense(16, activation='relu'))\n",
    "        model.add(tf.keras.layers.Dense(1))\n",
    "        \n",
    "        if verbose:\n",
    "            print(\"model summary:\")\n",
    "            print(model.summary())\n",
    "        \n",
    "        model.compile(\n",
    "            optimizer='adam',\n",
    "            loss=tf.losses.BinaryCrossentropy(from_logits=True),\n",
    "            metrics=[tf.metrics.BinaryAccuracy(threshold=0.0, name='accuracy')]\n",
    "        )\n",
    "    else:\n",
    "        model = tf.keras.Sequential()\n",
    "        model.add(copy.copy(hub_layer))\n",
    "        if lstm:\n",
    "            raise NotImplementedError(\"lstm = True is not implemented\")\n",
    "        else:\n",
    "            model.add(tf.keras.layers.Dense(16, activation='relu', kernel_initializer='normal'))\n",
    "        model.add(tf.keras.layers.Dense(1, kernel_initializer='normal'))\n",
    "        \n",
    "        if verbose:\n",
    "            print(\"model summary:\")\n",
    "            print(model.summary())\n",
    "            \n",
    "        model.compile(\n",
    "            loss='mean_squared_error', \n",
    "            optimizer='adam',\n",
    "            metrics=[\"mean_squared_error\"]\n",
    "        )\n",
    "    \n",
    "    return model"
   ]
  },
  {
   "cell_type": "markdown",
   "metadata": {},
   "source": [
    "## CLASSIFIER"
   ]
  },
  {
   "cell_type": "code",
   "execution_count": 34,
   "metadata": {},
   "outputs": [
    {
     "name": "stdout",
     "output_type": "stream",
     "text": [
      "Epoch 1/100\n",
      "68/68 - 5s - loss: 0.4826 - accuracy: 0.8489 - val_loss: 0.4044 - val_accuracy: 0.8454\n",
      "Epoch 2/100\n",
      "68/68 - 3s - loss: 0.3508 - accuracy: 0.8508 - val_loss: 0.3401 - val_accuracy: 0.8490\n",
      "Epoch 3/100\n",
      "68/68 - 3s - loss: 0.2918 - accuracy: 0.8678 - val_loss: 0.3247 - val_accuracy: 0.8654\n",
      "Epoch 4/100\n",
      "68/68 - 3s - loss: 0.2523 - accuracy: 0.8950 - val_loss: 0.3169 - val_accuracy: 0.8758\n",
      "Epoch 5/100\n",
      "68/68 - 3s - loss: 0.2168 - accuracy: 0.9130 - val_loss: 0.3256 - val_accuracy: 0.8753\n",
      "Epoch 6/100\n",
      "68/68 - 3s - loss: 0.1889 - accuracy: 0.9257 - val_loss: 0.3382 - val_accuracy: 0.8711\n",
      "Epoch 7/100\n",
      "68/68 - 3s - loss: 0.1654 - accuracy: 0.9382 - val_loss: 0.3584 - val_accuracy: 0.8646\n",
      "Epoch 8/100\n",
      "68/68 - 3s - loss: 0.1459 - accuracy: 0.9470 - val_loss: 0.3859 - val_accuracy: 0.8584\n",
      "Epoch 9/100\n",
      "68/68 - 3s - loss: 0.1303 - accuracy: 0.9537 - val_loss: 0.4178 - val_accuracy: 0.8563\n",
      "45/45 - 0s - loss: 0.4204 - accuracy: 0.8603\n",
      "Epoch 1/100\n",
      "68/68 - 4s - loss: 0.5532 - accuracy: 0.7851 - val_loss: 0.4653 - val_accuracy: 0.8446\n",
      "Epoch 2/100\n",
      "68/68 - 3s - loss: 0.4027 - accuracy: 0.8539 - val_loss: 0.3649 - val_accuracy: 0.8546\n",
      "Epoch 3/100\n",
      "68/68 - 3s - loss: 0.3161 - accuracy: 0.8770 - val_loss: 0.3270 - val_accuracy: 0.8717\n",
      "Epoch 4/100\n",
      "68/68 - 3s - loss: 0.2666 - accuracy: 0.8967 - val_loss: 0.3162 - val_accuracy: 0.8747\n",
      "Epoch 5/100\n",
      "68/68 - 3s - loss: 0.2322 - accuracy: 0.9094 - val_loss: 0.3127 - val_accuracy: 0.8767\n",
      "Epoch 6/100\n",
      "68/68 - 3s - loss: 0.2032 - accuracy: 0.9231 - val_loss: 0.3196 - val_accuracy: 0.8738\n",
      "Epoch 7/100\n",
      "68/68 - 3s - loss: 0.1799 - accuracy: 0.9324 - val_loss: 0.3364 - val_accuracy: 0.8703\n",
      "Epoch 8/100\n",
      "68/68 - 3s - loss: 0.1601 - accuracy: 0.9408 - val_loss: 0.3493 - val_accuracy: 0.8668\n",
      "Epoch 9/100\n",
      "68/68 - 3s - loss: 0.1434 - accuracy: 0.9484 - val_loss: 0.3703 - val_accuracy: 0.8631\n",
      "Epoch 10/100\n",
      "68/68 - 3s - loss: 0.1290 - accuracy: 0.9556 - val_loss: 0.3949 - val_accuracy: 0.8579\n",
      "45/45 - 0s - loss: 0.3983 - accuracy: 0.8594\n",
      "Epoch 1/100\n",
      "68/68 - 4s - loss: 0.4854 - accuracy: 0.8482 - val_loss: 0.4004 - val_accuracy: 0.8529\n",
      "Epoch 2/100\n",
      "68/68 - 3s - loss: 0.3516 - accuracy: 0.8560 - val_loss: 0.3299 - val_accuracy: 0.8650\n",
      "Epoch 3/100\n",
      "68/68 - 3s - loss: 0.2874 - accuracy: 0.8801 - val_loss: 0.3079 - val_accuracy: 0.8749\n",
      "Epoch 4/100\n",
      "68/68 - 3s - loss: 0.2435 - accuracy: 0.9010 - val_loss: 0.3057 - val_accuracy: 0.8749\n",
      "Epoch 5/100\n",
      "68/68 - 3s - loss: 0.2125 - accuracy: 0.9168 - val_loss: 0.3129 - val_accuracy: 0.8758\n",
      "Epoch 6/100\n",
      "68/68 - 3s - loss: 0.1851 - accuracy: 0.9271 - val_loss: 0.3278 - val_accuracy: 0.8752\n",
      "Epoch 7/100\n",
      "68/68 - 3s - loss: 0.1625 - accuracy: 0.9384 - val_loss: 0.3489 - val_accuracy: 0.8709\n",
      "Epoch 8/100\n",
      "68/68 - 3s - loss: 0.1441 - accuracy: 0.9472 - val_loss: 0.3736 - val_accuracy: 0.8671\n"
     ]
    },
    {
     "name": "stderr",
     "output_type": "stream",
     "text": [
      "Exception ignored in: <function CapturableResourceDeleter.__del__ at 0x0000026B8D030940>\n",
      "Traceback (most recent call last):\n",
      "  File \"C:\\Users\\dev999\\.conda\\envs\\tensorflow2\\lib\\site-packages\\tensorflow\\python\\training\\tracking\\tracking.py\", line 208, in __del__\n",
      "    self._destroy_resource()\n",
      "  File \"C:\\Users\\dev999\\.conda\\envs\\tensorflow2\\lib\\site-packages\\tensorflow\\python\\eager\\def_function.py\", line 828, in __call__\n",
      "    result = self._call(*args, **kwds)\n",
      "  File \"C:\\Users\\dev999\\.conda\\envs\\tensorflow2\\lib\\site-packages\\tensorflow\\python\\eager\\def_function.py\", line 871, in _call\n",
      "    self._initialize(args, kwds, add_initializers_to=initializers)\n",
      "  File \"C:\\Users\\dev999\\.conda\\envs\\tensorflow2\\lib\\site-packages\\tensorflow\\python\\eager\\def_function.py\", line 725, in _initialize\n",
      "    self._stateful_fn._get_concrete_function_internal_garbage_collected(  # pylint: disable=protected-access\n",
      "  File \"C:\\Users\\dev999\\.conda\\envs\\tensorflow2\\lib\\site-packages\\tensorflow\\python\\eager\\function.py\", line 2969, in _get_concrete_function_internal_garbage_collected\n",
      "    graph_function, _ = self._maybe_define_function(args, kwargs)\n",
      "  File \"C:\\Users\\dev999\\.conda\\envs\\tensorflow2\\lib\\site-packages\\tensorflow\\python\\eager\\function.py\", line 3361, in _maybe_define_function\n",
      "    graph_function = self._create_graph_function(args, kwargs)\n",
      "  File \"C:\\Users\\dev999\\.conda\\envs\\tensorflow2\\lib\\site-packages\\tensorflow\\python\\eager\\function.py\", line 3196, in _create_graph_function\n",
      "    func_graph_module.func_graph_from_py_func(\n",
      "  File \"C:\\Users\\dev999\\.conda\\envs\\tensorflow2\\lib\\site-packages\\tensorflow\\python\\framework\\func_graph.py\", line 990, in func_graph_from_py_func\n",
      "    func_outputs = python_func(*func_args, **func_kwargs)\n",
      "  File \"C:\\Users\\dev999\\.conda\\envs\\tensorflow2\\lib\\site-packages\\tensorflow\\python\\eager\\def_function.py\", line 634, in wrapped_fn\n",
      "    out = weak_wrapped_fn().__wrapped__(*args, **kwds)\n",
      "  File \"C:\\Users\\dev999\\.conda\\envs\\tensorflow2\\lib\\site-packages\\tensorflow\\python\\saved_model\\function_deserialization.py\", line 253, in restored_function_body\n",
      "    return _call_concrete_function(function, inputs)\n",
      "  File \"C:\\Users\\dev999\\.conda\\envs\\tensorflow2\\lib\\site-packages\\tensorflow\\python\\saved_model\\function_deserialization.py\", line 75, in _call_concrete_function\n",
      "    result = function._call_flat(tensor_inputs, function._captured_inputs)  # pylint: disable=protected-access\n",
      "  File \"C:\\Users\\dev999\\.conda\\envs\\tensorflow2\\lib\\site-packages\\tensorflow\\python\\saved_model\\load.py\", line 115, in _call_flat\n",
      "    return super(_WrapperFunction, self)._call_flat(args, captured_inputs,\n",
      "  File \"C:\\Users\\dev999\\.conda\\envs\\tensorflow2\\lib\\site-packages\\tensorflow\\python\\eager\\function.py\", line 1932, in _call_flat\n",
      "    flat_outputs = forward_function.call(ctx, args_with_tangents)\n",
      "  File \"C:\\Users\\dev999\\.conda\\envs\\tensorflow2\\lib\\site-packages\\tensorflow\\python\\eager\\function.py\", line 583, in call\n",
      "    outputs = functional_ops.partitioned_call(\n",
      "  File \"C:\\Users\\dev999\\.conda\\envs\\tensorflow2\\lib\\site-packages\\tensorflow\\python\\ops\\functional_ops.py\", line 1206, in partitioned_call\n",
      "    f.add_to_graph(graph)\n",
      "  File \"C:\\Users\\dev999\\.conda\\envs\\tensorflow2\\lib\\site-packages\\tensorflow\\python\\eager\\function.py\", line 505, in add_to_graph\n",
      "    g._add_function(self)\n",
      "  File \"C:\\Users\\dev999\\.conda\\envs\\tensorflow2\\lib\\site-packages\\tensorflow\\python\\framework\\ops.py\", line 3395, in _add_function\n",
      "    pywrap_tf_session.TF_GraphCopyFunction(self._c_graph, function._c_func.func,\n",
      "tensorflow.python.framework.errors_impl.InvalidArgumentError: 'func' argument to TF_GraphCopyFunction cannot be null\n"
     ]
    },
    {
     "name": "stdout",
     "output_type": "stream",
     "text": [
      "45/45 - 0s - loss: 0.3739 - accuracy: 0.8692\n",
      "Epoch 1/100\n",
      "101/101 - 6s - loss: 0.4918 - accuracy: 0.8394 - val_loss: 0.3965 - val_accuracy: 0.8483\n",
      "Epoch 2/100\n",
      "101/101 - 5s - loss: 0.3354 - accuracy: 0.8659 - val_loss: 0.3183 - val_accuracy: 0.8732\n",
      "Epoch 3/100\n",
      "101/101 - 5s - loss: 0.2704 - accuracy: 0.8917 - val_loss: 0.3044 - val_accuracy: 0.8808\n",
      "Epoch 4/100\n",
      "101/101 - 5s - loss: 0.2323 - accuracy: 0.9083 - val_loss: 0.3086 - val_accuracy: 0.8812\n",
      "Epoch 5/100\n",
      "101/101 - 5s - loss: 0.2035 - accuracy: 0.9205 - val_loss: 0.3181 - val_accuracy: 0.8787\n",
      "Epoch 6/100\n",
      "101/101 - 5s - loss: 0.1812 - accuracy: 0.9301 - val_loss: 0.3392 - val_accuracy: 0.8759\n",
      "Epoch 7/100\n",
      "101/101 - 5s - loss: 0.1624 - accuracy: 0.9392 - val_loss: 0.3579 - val_accuracy: 0.8732\n",
      "Epoch 8/100\n",
      "101/101 - 5s - loss: 0.1475 - accuracy: 0.9461 - val_loss: 0.3795 - val_accuracy: 0.8674\n"
     ]
    },
    {
     "data": {
      "text/plain": [
       "GridSearchCV(cv=3,\n",
       "             estimator=<tensorflow.python.keras.wrappers.scikit_learn.KerasClassifier object at 0x0000026BB405DA90>,\n",
       "             param_grid={})"
      ]
     },
     "execution_count": 34,
     "metadata": {},
     "output_type": "execute_result"
    }
   ],
   "source": [
    "def build_classifier():\n",
    "    return build_model(hub_layer=None, model_type='classifier', verbose=0)\n",
    "\n",
    "\n",
    "estimator = KerasClassifier(build_fn=build_classifier, epochs=100, batch_size=512, verbose=2, validation_split=VAL_FRACTION)\n",
    "x_train_clf = np.array(list(rated_comments.value))\n",
    "y_train_clf = np.array(list((rated_comments.rating.astype(float)>=GOOD_REVIEW_THRESHOLD).astype(int)))\n",
    "\n",
    "clf = GridSearchCV(\n",
    "    estimator, \n",
    "    cv=3, \n",
    "    param_grid={}\n",
    ")\n",
    "clf.fit(x_train_clf, y_train_clf, callbacks=[tf.keras.callbacks.EarlyStopping(monitor='val_accuracy', patience=5, min_delta=0.001)])"
   ]
  },
  {
   "cell_type": "code",
   "execution_count": 35,
   "metadata": {},
   "outputs": [],
   "source": [
    "classifier = clf.best_estimator_\n",
    "classifier_history_dict = classifier.model.history.history"
   ]
  },
  {
   "cell_type": "code",
   "execution_count": 36,
   "metadata": {},
   "outputs": [
    {
     "data": {
      "text/plain": [
       "dict_keys(['loss', 'accuracy', 'val_loss', 'val_accuracy'])"
      ]
     },
     "execution_count": 36,
     "metadata": {},
     "output_type": "execute_result"
    }
   ],
   "source": [
    "classifier_history_dict.keys()"
   ]
  },
  {
   "cell_type": "code",
   "execution_count": 37,
   "metadata": {},
   "outputs": [],
   "source": [
    "acc = classifier_history_dict['accuracy']\n",
    "val_acc = classifier_history_dict['val_accuracy']\n",
    "loss = classifier_history_dict['loss']\n",
    "val_loss = classifier_history_dict['val_loss']"
   ]
  },
  {
   "cell_type": "code",
   "execution_count": 38,
   "metadata": {},
   "outputs": [],
   "source": [
    "epochs = range(1, len(acc) + 1) "
   ]
  },
  {
   "cell_type": "code",
   "execution_count": 39,
   "metadata": {},
   "outputs": [
    {
     "data": {
      "image/png": "[encoded data removed]",
      "text/plain": [
       "<Figure size 648x360 with 1 Axes>"
      ]
     },
     "metadata": {
      "needs_background": "light"
     },
     "output_type": "display_data"
    }
   ],
   "source": [
    "# \"bo\" is for \"blue dot\"\n",
    "plt.figure(figsize=(9, 5))\n",
    "plt.plot(epochs, loss, 'bo', label='Training loss')\n",
    "# b is for \"solid blue line\"\n",
    "plt.plot(epochs, val_loss, 'b', label='Validation loss')\n",
    "plt.title('Training and validation loss')\n",
    "plt.xlabel('Epochs')\n",
    "plt.ylabel('Loss')\n",
    "plt.grid(True)\n",
    "plt.legend()\n",
    "\n",
    "plt.show()"
   ]
  },
  {
   "cell_type": "code",
   "execution_count": 40,
   "metadata": {},
   "outputs": [
    {
     "data": {
      "image/png": "[encoded data removed]",
      "text/plain": [
       "<Figure size 648x360 with 1 Axes>"
      ]
     },
     "metadata": {
      "needs_background": "light"
     },
     "output_type": "display_data"
    }
   ],
   "source": [
    "plt.figure(figsize=(9, 5))\n",
    "plt.plot(epochs, acc, 'bo', label='Training acc')\n",
    "plt.plot(epochs, val_acc, 'b', label='Validation acc')\n",
    "plt.title('Training and validation accuracy')\n",
    "plt.xlabel('Epochs')\n",
    "plt.ylabel('Accuracy')\n",
    "plt.grid(True)\n",
    "plt.legend()\n",
    "\n",
    "plt.show()"
   ]
  },
  {
   "cell_type": "code",
   "execution_count": 41,
   "metadata": {},
   "outputs": [],
   "source": [
    "def print_my_examples(inputs, results, actual_values=None, limit=None):\n",
    "    if actual_values is None:\n",
    "        result_for_printing = [f'input:\\n\"{inputs[i]}\"\\nscore: {results[i][0]:.6f}' for i in range(len(inputs))]\n",
    "    else:\n",
    "        result_for_printing = [f'input:\\n\"{inputs[i]}\"\\nscore: {results[i][0]:.6f}\\nactual value:{actual_values[i]}' for i in range(len(inputs))]\n",
    "    if limit:\n",
    "        result_for_printing = result_for_printing[:limit]\n",
    "    print(*result_for_printing, sep='\\n\\n')"
   ]
  },
  {
   "cell_type": "code",
   "execution_count": 47,
   "metadata": {},
   "outputs": [
    {
     "name": "stdout",
     "output_type": "stream",
     "text": [
      "input:\n",
      "\"The Crew is a puzzle-based cooperative trick taking game. Each round is self-contained. The only carryover is the inner-workings of the players. It is all about challenging a group with a puzzle, solving it, then moving on to the next one. The puzzles capture key moments in trick-taking very well--trump timing, protecting nils, bidding tricks, \"taking someone home.\" Through, in a cooperative environment, seizing the moment looses some of its luster. When everyone works together to protect a bid, their is no ongoing challenge to bust another player nor is there the reward of keeping an opponent from busting a partner's nil bid.  What it does to very well, though, is capitalizing on partners' getting on the same wavelength in a trick taking game. This is where the game excels. The Crew doesn't reach the loft heights of team vs. team trick takers like Spades, but serves as an engaging way to challenge the table to a series of bite-sized, mutual puzzles for fans of the genre.\"\n",
      "score: 0.000000\n",
      "actual value:0\n",
      "\n",
      "input:\n",
      "\"Games have ranged from good to tedious. Theres a lot of calculating and the motions are fun, but the limited interaction and lack of thought provoking choices prevents it from being great in my eyes.\"\n",
      "score: 0.000000\n",
      "actual value:0\n",
      "\n",
      "input:\n",
      "\"Wow, just wow. The only bad thing about this is the setup time. Everything has been written about the game before. Yes, it's really THAT good!\"\n",
      "score: 1.000000\n",
      "actual value:1\n",
      "\n",
      "input:\n",
      "\"This is a show stopper, absolutely brilliant! Cole is one of those rare designers that can squeeze so much out of so little. With few mechanics, he has created an elaborate rich world full of unique decision points. Each faction feels and acts differently, requires different approaches and add to the Root world building. With Kyle's artwork supporting it, it's a true masterpiece and I imagine we'll say 'before or after Root' when talking abut about design milestones, much like there was a before Catan, Hannibal or Washington's War..\"\n",
      "score: 1.000000\n",
      "actual value:1\n",
      "\n",
      "input:\n",
      "\"Solo\"\n",
      "score: 1.000000\n",
      "actual value:1\n",
      "\n",
      "input:\n",
      "\"It certainly is not really the 4X game it seems to advertise being and whilst there are combat mechanics this is much more euro than anything else with an interesting, engine building mechanic at its core.  The initially very limited movement leads to a rather slow build up of forces, and indeed in our game we never actually made it into combat with one another.  There are plenty of options on what to aim your engine towards and various categories which you can 'score' a star in. Once a player reaches 6 stars the game ends and points are scored based upon how popular you are with your people. This is an interesting mechanic as the more land you grab to score with them more unpopular you become within your faction (especially if you keep stomping on other players taking their territory). Having a large stockpile of goods scores many points at the end of the game but your popularity takes a hit everytime you force your people to work your fields.   Random factions coupled with random player boards, adds a lot of seemingly different play options, however I am a bit unsure how differently this would actually play each time.\"\n",
      "score: 0.000000\n",
      "actual value:0\n",
      "\n",
      "input:\n",
      "\"I love this game, in spite of its rather obvious flaws (component quality is passable, very luck dependent, quite fiddly). Excellent engine building game.\"\n",
      "score: 1.000000\n",
      "actual value:1\n",
      "\n",
      "input:\n",
      "\"Die größte Überraschung der bisherigen Neuveröffentlichungen für mich. Aus einem kurzen Antesten wurde eine ganze Nacht. Achtung, Suchtgefahr!\"\n",
      "score: 1.000000\n",
      "actual value:1\n",
      "\n",
      "input:\n",
      "\"Vereinsbestand\"\n",
      "score: 1.000000\n",
      "actual value:1\n",
      "\n",
      "input:\n",
      "\"I had my hopes up on this one because I like The 7th Continent a lot. I'm currently playing chapter 6 with 3 players.  The combat is like the worst thing in this. It's like too fiddly to match up each combination and it creates too much downtime. It's not particularly hard mechanic, but just laborious and uninteresting. It doesn't feel that you have much of a desicion there in solo and in a party the combat just overstays its welcome. Every time one shows up I think \"not this again...\". The character progress so far doesn't feel impactful at all for the combat, and I've upgraded my decks in total of 8 times. I think the rulebook suggests other players to continue on while others engage in combat, but then the players engaging the combat will most likely miss some lore from explorations.  Secondly the resource farming is tediuous. And I'm no stranger to farming as I LOVE Kingdom Death: Monster. In many cases food is needed to get your energy levels high enough. But it's not actually needed always, as you can just decide not to eat as you have always more important and interesting things to do. The problem is when there is three or so wandering monsters, impossible to defeat ones, and they're roaming on places where you could get resources you need to lit up a Menhir. You can just run away from these monsters, reducing the resources on you, sometimes even the resources you're trying to gather so desprately. But in the end, the resource gathering isn't like hard, it's just way too slow and unmeaningful. I would use a fastforward button to skip these parts in the game if it would be possible. The most impactful character upgrades are the upgrades that reduces this aspect of the game.  The lorebook is fiddly also. At one location I explored alone hopping from verse to verse nearly 20 minutes while other players were waiting for me. The verse hopping in the lorebook could function better as an app, concealing all the unnecessary info in there and just show the current relevant verse.  This game has nice lore and the exploration feels nice. All other things are like just in the way and I feel like this game would be much better without it (like combat decks). But then we are at the concept of The 7th Contintent very fast and why not just play that instead.  I possibly forgot to mention some things still, but I definitely mentioned all the good things in the game in my opinion.\"\n",
      "score: 0.000000\n",
      "actual value:0\n"
     ]
    }
   ],
   "source": [
    "inputs = x_train_clf[:10]\n",
    "outputs = y_train_clf[:10]\n",
    "results = classifier.predict(tf.constant(inputs), verbose=0)\n",
    "print_my_examples(inputs, results, outputs)"
   ]
  },
  {
   "cell_type": "code",
   "execution_count": 44,
   "metadata": {},
   "outputs": [],
   "source": [
    "## APPLY MODEL ON NON-RATED COMMENTS"
   ]
  },
  {
   "cell_type": "code",
   "execution_count": 50,
   "metadata": {},
   "outputs": [
    {
     "name": "stdout",
     "output_type": "stream",
     "text": [
      "13/13 - 0s\n",
      "input:\n",
      "\"Je vais devoir fini Jaws of the Lion avant de jouer Gloomhaven qui devrait rendu là prendre la place de Jaws of the Lion dans mon top 10.  Il reste un jeu exceptionnel que j'ai hate d'attaquer avec un groupe recurrent.\"\n",
      "score: 1.000000\n",
      "\n",
      "input:\n",
      "\"Should have jumped on the Kickstarter :(\"\n",
      "score: 1.000000\n",
      "\n",
      "input:\n",
      "\"Awaiting play after arrival in March 2021\"\n",
      "score: 0.000000\n",
      "\n",
      "input:\n",
      "\"Giocato con Mavi a casa e in solitario sempre a casa durante la pandemia 2020\"\n",
      "score: 1.000000\n",
      "\n",
      "input:\n",
      "\"Captain America Ms. Marvel Green Goblin  \"\n",
      "score: 1.000000\n",
      "\n",
      "input:\n",
      "\"Preordered feb 7, 2021 frm elementgames A9 address\"\n",
      "score: 1.000000\n",
      "\n",
      "input:\n",
      "\"Cool, complex looking strategy/building game. Group setting best (1 - 5 Players)\"\n",
      "score: 1.000000\n",
      "\n",
      "input:\n",
      "\"Backed on Kickstarter (ETA: March 2021)\"\n",
      "score: 1.000000\n",
      "\n",
      "input:\n",
      "\"[b]EUROGAME[/b] Open, Unplayed  *Own: KS Edition  [b]Summary:[/b] :city: [b] Unplayed[/b]\"\n",
      "score: 1.000000\n",
      "\n",
      "input:\n",
      "\"want to play - best with 4; 90-115 Min; Weight: 3.37; Type: Strategy\"\n",
      "score: 1.000000\n"
     ]
    }
   ],
   "source": [
    "not_rated_comments = not_rated_comments.sample(frac=1)\n",
    "results = classifier.predict(tf.constant(list(not_rated_comments.value.astype(str))))\n",
    "print_my_examples(list(not_rated_comments.value), results, limit=10)"
   ]
  },
  {
   "cell_type": "markdown",
   "metadata": {},
   "source": [
    "## REGRESSOR"
   ]
  },
  {
   "cell_type": "code",
   "execution_count": 51,
   "metadata": {},
   "outputs": [
    {
     "data": {
      "text/plain": [
       "GridSearchCV(cv=3,\n",
       "             estimator=<tensorflow.python.keras.wrappers.scikit_learn.KerasRegressor object at 0x0000026E81E98370>,\n",
       "             param_grid={})"
      ]
     },
     "execution_count": 51,
     "metadata": {},
     "output_type": "execute_result"
    }
   ],
   "source": [
    "def build_regressor():\n",
    "    return build_model(hub_layer, model_type='regressor', verbose=0)\n",
    "\n",
    "\n",
    "estimator = KerasRegressor(build_fn=build_regressor, epochs=100, batch_size=512, verbose=0, validation_split=VAL_FRACTION)\n",
    "x_train_reg = np.array(list(rated_comments.value))\n",
    "y_train_reg = np.array(list(rated_comments.rating.astype(float)))\n",
    "\n",
    "clf = GridSearchCV(\n",
    "    estimator, \n",
    "    cv=3, \n",
    "    param_grid={}\n",
    ")\n",
    "clf.fit(x_train_reg, y_train_reg, callbacks=[tf.keras.callbacks.EarlyStopping(monitor='val_mean_squared_error', patience=5, min_delta=0.001)])"
   ]
  },
  {
   "cell_type": "code",
   "execution_count": 52,
   "metadata": {},
   "outputs": [],
   "source": [
    "regressor = clf.best_estimator_\n",
    "regressor_history_dict = regressor.model.history.history"
   ]
  },
  {
   "cell_type": "code",
   "execution_count": 53,
   "metadata": {},
   "outputs": [
    {
     "data": {
      "text/plain": [
       "dict_keys(['loss', 'mean_squared_error', 'val_loss', 'val_mean_squared_error'])"
      ]
     },
     "execution_count": 53,
     "metadata": {},
     "output_type": "execute_result"
    }
   ],
   "source": [
    "regressor_history_dict.keys()"
   ]
  },
  {
   "cell_type": "code",
   "execution_count": 55,
   "metadata": {},
   "outputs": [],
   "source": [
    "mean_squared_error = regressor_history_dict['mean_squared_error']\n",
    "val_mean_squared_error = regressor_history_dict['val_mean_squared_error']\n",
    "loss = regressor_history_dict['loss']\n",
    "val_loss = regressor_history_dict['val_loss']"
   ]
  },
  {
   "cell_type": "code",
   "execution_count": 56,
   "metadata": {},
   "outputs": [],
   "source": [
    "epochs = range(1, len(mean_squared_error) + 1) "
   ]
  },
  {
   "cell_type": "code",
   "execution_count": 57,
   "metadata": {},
   "outputs": [
    {
     "data": {
      "image/png": "[encoded data removed]",
      "text/plain": [
       "<Figure size 648x360 with 1 Axes>"
      ]
     },
     "metadata": {
      "needs_background": "light"
     },
     "output_type": "display_data"
    }
   ],
   "source": [
    "# \"bo\" is for \"blue dot\"\n",
    "plt.figure(figsize=(9, 5))\n",
    "plt.plot(epochs, loss, 'bo', label='Training loss')\n",
    "# b is for \"solid blue line\"\n",
    "plt.plot(epochs, val_loss, 'b', label='Validation loss')\n",
    "plt.title('Training and validation loss')\n",
    "plt.xlabel('Epochs')\n",
    "plt.ylabel('Loss')\n",
    "plt.grid(True)\n",
    "plt.legend()\n",
    "\n",
    "plt.show()"
   ]
  },
  {
   "cell_type": "code",
   "execution_count": 59,
   "metadata": {},
   "outputs": [
    {
     "data": {
      "image/png": "[encoded data removed]",
      "text/plain": [
       "<Figure size 648x360 with 1 Axes>"
      ]
     },
     "metadata": {
      "needs_background": "light"
     },
     "output_type": "display_data"
    }
   ],
   "source": [
    "plt.figure(figsize=(9, 5))\n",
    "plt.plot(epochs, mean_squared_error, 'bo', label='Training mean squared error')\n",
    "plt.plot(epochs, val_mean_squared_error, 'b', label='Validation mean squared error')\n",
    "plt.title('Training and validation accuracy')\n",
    "plt.xlabel('Epochs')\n",
    "plt.ylabel('Mean squared error')\n",
    "plt.grid(True)\n",
    "plt.legend()\n",
    "\n",
    "plt.show()"
   ]
  },
  {
   "cell_type": "code",
   "execution_count": 60,
   "metadata": {},
   "outputs": [
    {
     "name": "stdout",
     "output_type": "stream",
     "text": [
      "input: \n",
      "\"The Crew is a puzzle-based cooperative trick taking game. Each round is self-contained. The only carryover is the inner-workings of the players. It is all about challenging a group with a puzzle, solving it, then moving on to the next one. The puzzles capture key moments in trick-taking very well--trump timing, protecting nils, bidding tricks, \"taking someone home.\" Through, in a cooperative environment, seizing the moment looses some of its luster. When everyone works together to protect a bid, their is no ongoing challenge to bust another player nor is there the reward of keeping an opponent from busting a partner's nil bid.  What it does to very well, though, is capitalizing on partners' getting on the same wavelength in a trick taking game. This is where the game excels. The Crew doesn't reach the loft heights of team vs. team trick takers like Spades, but serves as an engaging way to challenge the table to a series of bite-sized, mutual puzzles for fans of the genre.\"\n",
      "score: 5.94\n",
      "actual: 6.00 \n",
      "\n",
      "input: \n",
      "\"Games have ranged from good to tedious. Theres a lot of calculating and the motions are fun, but the limited interaction and lack of thought provoking choices prevents it from being great in my eyes.\"\n",
      "score: 3.93\n",
      "actual: 4.00 \n",
      "\n",
      "input: \n",
      "\"Wow, just wow. The only bad thing about this is the setup time. Everything has been written about the game before. Yes, it's really THAT good!\"\n",
      "score: 8.89\n",
      "actual: 10.00 \n",
      "\n",
      "input: \n",
      "\"This is a show stopper, absolutely brilliant! Cole is one of those rare designers that can squeeze so much out of so little. With few mechanics, he has created an elaborate rich world full of unique decision points. Each faction feels and acts differently, requires different approaches and add to the Root world building. With Kyle's artwork supporting it, it's a true masterpiece and I imagine we'll say 'before or after Root' when talking abut about design milestones, much like there was a before Catan, Hannibal or Washington's War..\"\n",
      "score: 9.97\n",
      "actual: 10.00 \n",
      "\n",
      "input: \n",
      "\"Solo\"\n",
      "score: 8.37\n",
      "actual: 10.00 \n",
      "\n",
      "input: \n",
      "\"It certainly is not really the 4X game it seems to advertise being and whilst there are combat mechanics this is much more euro than anything else with an interesting, engine building mechanic at its core.  The initially very limited movement leads to a rather slow build up of forces, and indeed in our game we never actually made it into combat with one another.  There are plenty of options on what to aim your engine towards and various categories which you can 'score' a star in. Once a player reaches 6 stars the game ends and points are scored based upon how popular you are with your people. This is an interesting mechanic as the more land you grab to score with them more unpopular you become within your faction (especially if you keep stomping on other players taking their territory). Having a large stockpile of goods scores many points at the end of the game but your popularity takes a hit everytime you force your people to work your fields.   Random factions coupled with random player boards, adds a lot of seemingly different play options, however I am a bit unsure how differently this would actually play each time.\"\n",
      "score: 6.16\n",
      "actual: 6.50 \n",
      "\n",
      "input: \n",
      "\"I love this game, in spite of its rather obvious flaws (component quality is passable, very luck dependent, quite fiddly). Excellent engine building game.\"\n",
      "score: 9.87\n",
      "actual: 10.00 \n",
      "\n",
      "input: \n",
      "\"Die größte Überraschung der bisherigen Neuveröffentlichungen für mich. Aus einem kurzen Antesten wurde eine ganze Nacht. Achtung, Suchtgefahr!\"\n",
      "score: 7.11\n",
      "actual: 7.00 \n",
      "\n",
      "input: \n",
      "\"Vereinsbestand\"\n",
      "score: 9.35\n",
      "actual: 8.00 \n",
      "\n",
      "input: \n",
      "\"I had my hopes up on this one because I like The 7th Continent a lot. I'm currently playing chapter 6 with 3 players.  The combat is like the worst thing in this. It's like too fiddly to match up each combination and it creates too much downtime. It's not particularly hard mechanic, but just laborious and uninteresting. It doesn't feel that you have much of a desicion there in solo and in a party the combat just overstays its welcome. Every time one shows up I think \"not this again...\". The character progress so far doesn't feel impactful at all for the combat, and I've upgraded my decks in total of 8 times. I think the rulebook suggests other players to continue on while others engage in combat, but then the players engaging the combat will most likely miss some lore from explorations.  Secondly the resource farming is tediuous. And I'm no stranger to farming as I LOVE Kingdom Death: Monster. In many cases food is needed to get your energy levels high enough. But it's not actually needed always, as you can just decide not to eat as you have always more important and interesting things to do. The problem is when there is three or so wandering monsters, impossible to defeat ones, and they're roaming on places where you could get resources you need to lit up a Menhir. You can just run away from these monsters, reducing the resources on you, sometimes even the resources you're trying to gather so desprately. But in the end, the resource gathering isn't like hard, it's just way too slow and unmeaningful. I would use a fastforward button to skip these parts in the game if it would be possible. The most impactful character upgrades are the upgrades that reduces this aspect of the game.  The lorebook is fiddly also. At one location I explored alone hopping from verse to verse nearly 20 minutes while other players were waiting for me. The verse hopping in the lorebook could function better as an app, concealing all the unnecessary info in there and just show the current relevant verse.  This game has nice lore and the exploration feels nice. All other things are like just in the way and I feel like this game would be much better without it (like combat decks). But then we are at the concept of The 7th Contintent very fast and why not just play that instead.  I possibly forgot to mention some things still, but I definitely mentioned all the good things in the game in my opinion.\"\n",
      "score: 4.10\n",
      "actual: 4.00 \n",
      "\n"
     ]
    }
   ],
   "source": [
    "inputs = x_train_reg[:10]\n",
    "outputs = y_train_reg[:10]\n",
    "results = clf.best_estimator_.predict(tf.constant(inputs), verbose=0)\n",
    "for i in range(len(inputs)):\n",
    "    print(f\"input: \\n\\\"{inputs[i]}\\\"\\nscore: {results[i]:.2f}\\nactual: {outputs[i]:.2f} \\n\")"
   ]
  },
  {
   "cell_type": "markdown",
   "metadata": {},
   "source": [
    "## COMPARE CLASSIFIER VS REGRESSOR"
   ]
  },
  {
   "cell_type": "code",
   "execution_count": 118,
   "metadata": {},
   "outputs": [
    {
     "name": "stdout",
     "output_type": "stream",
     "text": [
      "\"Backed on Kickstarter. Yet to play, will update later.\"\n",
      "    reg score: 8.16\n",
      "    clf score: 1\n",
      "\n",
      "\"Which Game First? 11/4/2020 It's on BGA but I think I'm only keen on the idea of playing this in real life.\"\n",
      "    reg score: 7.61\n",
      "    clf score: 0\n",
      "\n",
      "\"+Scythe: Board Extension +Scythe: Modular Board +Scythe: Metal Coins +Scythe: Realistic Resource Tokens  Fantasy Flight Games Sleeves Mayday BASIC Sleeves (70x110) \"\n",
      "    reg score: 10.51\n",
      "    clf score: 1\n",
      "\n",
      "\"Sounds very interesting to me, I do worry how playing with two people would be\"\n",
      "    reg score: 6.27\n",
      "    clf score: 1\n",
      "\n",
      "\"I am on the fence.... decision time :-) I have until October I guess to decide\"\n",
      "    reg score: 7.76\n",
      "    clf score: 1\n",
      "\n",
      "\"Recently bought...waiting to play...\"\n",
      "    reg score: 8.93\n",
      "    clf score: 1\n",
      "\n",
      "\"A fantastic game with absolutely terrible quality components. For the price, at least put in a cardboard box insert.\"\n",
      "    reg score: 6.89\n",
      "    clf score: 1\n",
      "\n",
      "\"Missed the first Kickstarter and after seeing the plethora of high reviews and the rave comments I couldn't miss out the second time.  Kickstarted.\"\n",
      "    reg score: 8.62\n",
      "    clf score: 0\n",
      "\n",
      "\"Juego precioso puesto en mesa, con unas ilustraciones muy bonitas y que tiene un motor de cartas y colocación de trabajadores con meeplees en forma de animales muy bonito, JUEGAZO. \"\n",
      "    reg score: 7.81\n",
      "    clf score: 1\n",
      "\n",
      "\"Looks grand on the table, cool mechanics on the own playerboard. Reviews said it plays a little slow.\"\n",
      "    reg score: 7.29\n",
      "    clf score: 1\n",
      "\n"
     ]
    }
   ],
   "source": [
    "not_rated_comments = not_rated_comments.sample(frac=1)\n",
    "inputs = list(not_rated_comments.value.astype(str))[:10]\n",
    "\n",
    "clf_results = classifier.predict(inputs, verbose=0)\n",
    "reg_results = regressor.predict(inputs, verbose=0)\n",
    "for i in range(len(inputs)):\n",
    "    print(f\"\"\"\\\"{inputs[i]}\\\"\n",
    "    reg score: {reg_results[i]:.2f}\n",
    "    clf score: {clf_results[i][0]}\n",
    "\"\"\")"
   ]
  },
  {
   "cell_type": "markdown",
   "metadata": {},
   "source": [
    "### RESULTS\n",
    "It seems that the regressor is much more accurate compared to the binary classifier => **let's use the regressors results to fix the BGG rating**"
   ]
  },
  {
   "cell_type": "markdown",
   "metadata": {},
   "source": [
    "## COMBINE RATED COMMENTS AND NOT-RATED COMMENTS WITH PREDICTED RATING"
   ]
  },
  {
   "cell_type": "code",
   "execution_count": 84,
   "metadata": {},
   "outputs": [
    {
     "name": "stdout",
     "output_type": "stream",
     "text": [
      "rated_comments_grouped: \n",
      "|        id |   rating_mean |   rating_count |\n",
      "|-----------|---------------|----------------|\n",
      "| 162886.00 |          8.35 |        3513.00 |\n",
      "| 167355.00 |          8.42 |        1797.00 |\n",
      "| 167791.00 |          8.21 |        8228.00 |\n",
      "| 169427.00 |          8.60 |         222.00 |\n",
      "| 169786.00 |          8.10 |        7335.00 |\n"
     ]
    }
   ],
   "source": [
    "rated_comments['rating'] = rated_comments.rating.astype(float)\n",
    "rated_comments_grouped = rated_comments.groupby('id').agg({'rating': ['mean', 'count']})\n",
    "rated_comments_grouped.columns = list(rated_comments_grouped.columns.map('_'.join))\n",
    "rated_comments_grouped = rated_comments_grouped.reset_index()\n",
    "print(\"rated_comments_grouped: \")\n",
    "print(rated_comments_grouped.head().to_markdown(index=False, floatfmt='.2f', tablefmt='github'))"
   ]
  },
  {
   "cell_type": "code",
   "execution_count": 85,
   "metadata": {},
   "outputs": [],
   "source": [
    "not_rated_comments['rating'] = regressor.predict(list(not_rated_comments.value.astype(str)))"
   ]
  },
  {
   "cell_type": "code",
   "execution_count": 86,
   "metadata": {},
   "outputs": [
    {
     "name": "stdout",
     "output_type": "stream",
     "text": [
      "not_rated_comments_grouped: \n",
      "|        id |   rating_mean |   rating_count |\n",
      "|-----------|---------------|----------------|\n",
      "| 162886.00 |          8.15 |         309.00 |\n",
      "| 167355.00 |          8.22 |         217.00 |\n",
      "| 167791.00 |          8.19 |         439.00 |\n",
      "| 169427.00 |          8.24 |          71.00 |\n",
      "| 169786.00 |          8.12 |         591.00 |\n"
     ]
    }
   ],
   "source": [
    "not_rated_comments['rating'] = not_rated_comments.rating.astype(float)\n",
    "not_rated_comments_grouped = not_rated_comments.groupby('id').agg({'rating': ['mean', 'count']})\n",
    "not_rated_comments_grouped.columns = list(not_rated_comments_grouped.columns.map('_'.join))\n",
    "not_rated_comments_grouped = not_rated_comments_grouped.reset_index()\n",
    "print(\"not_rated_comments_grouped: \")\n",
    "print(not_rated_comments_grouped.head().to_markdown(index=False, floatfmt='.2f', tablefmt='github'))"
   ]
  },
  {
   "cell_type": "code",
   "execution_count": 87,
   "metadata": {},
   "outputs": [],
   "source": [
    "grouped = rated_comments_grouped.merge(not_rated_comments_grouped, on='id', suffixes=('_review', '_comments'), how='outer')\n",
    "grouped['id'] = grouped.id.astype(str)\n",
    "grouped = grouped.merge(pd.DataFrame(hot_array), on='id', how='right')\n",
    "grouped['rank'] = grouped['rank'].astype(int)\n",
    "grouped['url'] = grouped['id'].apply(lambda x: f\"https://boardgamegeek.com/boardgame/{x}\")\n",
    "grouped['fixed_rating'] = (grouped['rating_mean_review']*grouped['rating_count_review']+grouped['rating_mean_comments']*grouped['rating_count_comments']) /\\\n",
    "                            (grouped['rating_count_review']+grouped['rating_count_comments'])\n",
    "grouped['thumbnail'] = grouped['thumbnail'].apply(lambda x: f'<img src=\"{x}\" width=\"124\" />')\n",
    "grouped['name'] = grouped.apply(lambda x: f'<a href=\"{x[\"url\"]}\">{x[\"name\"]}</a>', axis=1)\n",
    "\n",
    "grouped = grouped[['thumbnail', 'name', 'rating_mean_review', 'rating_mean_comments', 'fixed_rating', 'rank', 'yearpublished']]"
   ]
  },
  {
   "cell_type": "code",
   "execution_count": 88,
   "metadata": {},
   "outputs": [
    {
     "data": {
      "text/html": [
       "<div>\n",
       "<style scoped>\n",
       "    .dataframe tbody tr th:only-of-type {\n",
       "        vertical-align: middle;\n",
       "    }\n",
       "\n",
       "    .dataframe tbody tr th {\n",
       "        vertical-align: top;\n",
       "    }\n",
       "\n",
       "    .dataframe thead th {\n",
       "        text-align: right;\n",
       "    }\n",
       "</style>\n",
       "<table border=\"1\" class=\"dataframe\">\n",
       "  <thead>\n",
       "    <tr style=\"text-align: right;\">\n",
       "      <th></th>\n",
       "      <th>thumbnail</th>\n",
       "      <th>name</th>\n",
       "      <th>rating_mean_review</th>\n",
       "      <th>rating_mean_comments</th>\n",
       "      <th>fixed_rating</th>\n",
       "      <th>rank</th>\n",
       "      <th>yearpublished</th>\n",
       "    </tr>\n",
       "  </thead>\n",
       "  <tbody>\n",
       "    <tr>\n",
       "      <th>0</th>\n",
       "      <td>&lt;img src=\"https://cf.geekdo-images.com/A7IOpPt...</td>\n",
       "      <td>&lt;a href=\"https://boardgamegeek.com/boardgame/2...</td>\n",
       "      <td>7.387199</td>\n",
       "      <td>7.973569</td>\n",
       "      <td>7.431562</td>\n",
       "      <td>1</td>\n",
       "      <td>2017</td>\n",
       "    </tr>\n",
       "    <tr>\n",
       "      <th>1</th>\n",
       "      <td>&lt;img src=\"https://cf.geekdo-images.com/OcnPGq9...</td>\n",
       "      <td>&lt;a href=\"https://boardgamegeek.com/boardgame/3...</td>\n",
       "      <td>7.868293</td>\n",
       "      <td>7.206773</td>\n",
       "      <td>7.728356</td>\n",
       "      <td>2</td>\n",
       "      <td>2021</td>\n",
       "    </tr>\n",
       "    <tr>\n",
       "      <th>2</th>\n",
       "      <td>&lt;img src=\"https://cf.geekdo-images.com/oaD1ZQ3...</td>\n",
       "      <td>&lt;a href=\"https://boardgamegeek.com/boardgame/2...</td>\n",
       "      <td>8.234211</td>\n",
       "      <td>8.156118</td>\n",
       "      <td>8.210568</td>\n",
       "      <td>3</td>\n",
       "      <td>2021</td>\n",
       "    </tr>\n",
       "    <tr>\n",
       "      <th>3</th>\n",
       "      <td>&lt;img src=\"https://cf.geekdo-images.com/cwUgf-f...</td>\n",
       "      <td>&lt;a href=\"https://boardgamegeek.com/boardgame/2...</td>\n",
       "      <td>6.316538</td>\n",
       "      <td>7.972783</td>\n",
       "      <td>7.064295</td>\n",
       "      <td>4</td>\n",
       "      <td>2021</td>\n",
       "    </tr>\n",
       "    <tr>\n",
       "      <th>4</th>\n",
       "      <td>&lt;img src=\"https://cf.geekdo-images.com/6GqH14T...</td>\n",
       "      <td>&lt;a href=\"https://boardgamegeek.com/boardgame/3...</td>\n",
       "      <td>7.890744</td>\n",
       "      <td>7.928342</td>\n",
       "      <td>7.894179</td>\n",
       "      <td>5</td>\n",
       "      <td>2020</td>\n",
       "    </tr>\n",
       "  </tbody>\n",
       "</table>\n",
       "</div>"
      ],
      "text/plain": [
       "                                           thumbnail  \\\n",
       "0  <img src=\"https://cf.geekdo-images.com/A7IOpPt...   \n",
       "1  <img src=\"https://cf.geekdo-images.com/OcnPGq9...   \n",
       "2  <img src=\"https://cf.geekdo-images.com/oaD1ZQ3...   \n",
       "3  <img src=\"https://cf.geekdo-images.com/cwUgf-f...   \n",
       "4  <img src=\"https://cf.geekdo-images.com/6GqH14T...   \n",
       "\n",
       "                                                name  rating_mean_review  \\\n",
       "0  <a href=\"https://boardgamegeek.com/boardgame/2...            7.387199   \n",
       "1  <a href=\"https://boardgamegeek.com/boardgame/3...            7.868293   \n",
       "2  <a href=\"https://boardgamegeek.com/boardgame/2...            8.234211   \n",
       "3  <a href=\"https://boardgamegeek.com/boardgame/2...            6.316538   \n",
       "4  <a href=\"https://boardgamegeek.com/boardgame/3...            7.890744   \n",
       "\n",
       "   rating_mean_comments  fixed_rating  rank yearpublished  \n",
       "0              7.973569      7.431562     1          2017  \n",
       "1              7.206773      7.728356     2          2021  \n",
       "2              8.156118      8.210568     3          2021  \n",
       "3              7.972783      7.064295     4          2021  \n",
       "4              7.928342      7.894179     5          2020  "
      ]
     },
     "execution_count": 88,
     "metadata": {},
     "output_type": "execute_result"
    }
   ],
   "source": [
    "grouped.head()"
   ]
  },
  {
   "cell_type": "code",
   "execution_count": 89,
   "metadata": {},
   "outputs": [],
   "source": [
    "def display_topn(by, n=5, ascending=True):\n",
    "    temp_df = grouped.sort_values(by, ascending=ascending).head(n)\n",
    "    temp_df.index=list(range(1, n+1))\n",
    "    return HTML(temp_df.to_html(escape=False, classes='table table-striped'))"
   ]
  },
  {
   "cell_type": "code",
   "execution_count": 90,
   "metadata": {},
   "outputs": [
    {
     "data": {
      "text/html": [
       "<table border=\"1\" class=\"dataframe table table-striped\">\n",
       "  <thead>\n",
       "    <tr style=\"text-align: right;\">\n",
       "      <th></th>\n",
       "      <th>thumbnail</th>\n",
       "      <th>name</th>\n",
       "      <th>rating_mean_review</th>\n",
       "      <th>rating_mean_comments</th>\n",
       "      <th>fixed_rating</th>\n",
       "      <th>rank</th>\n",
       "      <th>yearpublished</th>\n",
       "    </tr>\n",
       "  </thead>\n",
       "  <tbody>\n",
       "    <tr>\n",
       "      <th>1</th>\n",
       "      <td><img src=\"https://cf.geekdo-images.com/A7IOpPt-lHrMYsbRmxXWdQ__thumb/img/XoD3fXgApfY7-dfYyFeE6FVkbfY=/fit-in/200x150/filters:strip_icc()/pic6177962.jpg\" width=\"124\" /></td>\n",
       "      <td><a href=\"https://boardgamegeek.com/boardgame/223040\">Fantasy Realms</a></td>\n",
       "      <td>7.387199</td>\n",
       "      <td>7.973569</td>\n",
       "      <td>7.431562</td>\n",
       "      <td>1</td>\n",
       "      <td>2017</td>\n",
       "    </tr>\n",
       "    <tr>\n",
       "      <th>2</th>\n",
       "      <td><img src=\"https://cf.geekdo-images.com/OcnPGq9DYBKJO_dJ0JVKNQ__thumb/img/22Z6VwHfOQRKaEIHdm0xiaHNua0=/fit-in/200x150/filters:strip_icc()/pic5986451.jpg\" width=\"124\" /></td>\n",
       "      <td><a href=\"https://boardgamegeek.com/boardgame/326494\">The Adventures of Robin Hood</a></td>\n",
       "      <td>7.868293</td>\n",
       "      <td>7.206773</td>\n",
       "      <td>7.728356</td>\n",
       "      <td>2</td>\n",
       "      <td>2021</td>\n",
       "    </tr>\n",
       "    <tr>\n",
       "      <th>3</th>\n",
       "      <td><img src=\"https://cf.geekdo-images.com/oaD1ZQ3yGj6lacLdtqgdnQ__thumb/img/1mCz7HPEFMeqaqJHsDZwEUc9ftw=/fit-in/200x150/filters:strip_icc()/pic5558118.png\" width=\"124\" /></td>\n",
       "      <td><a href=\"https://boardgamegeek.com/boardgame/285192\">Destinies</a></td>\n",
       "      <td>8.234211</td>\n",
       "      <td>8.156118</td>\n",
       "      <td>8.210568</td>\n",
       "      <td>3</td>\n",
       "      <td>2021</td>\n",
       "    </tr>\n",
       "    <tr>\n",
       "      <th>4</th>\n",
       "      <td><img src=\"https://cf.geekdo-images.com/cwUgf-f-qwri8UHBUnifuQ__thumb/img/3o2Hc_N5mmfpOt8s9kP0ap8Jti8=/fit-in/200x150/filters:strip_icc()/pic5092291.png\" width=\"124\" /></td>\n",
       "      <td><a href=\"https://boardgamegeek.com/boardgame/295770\">Frosthaven</a></td>\n",
       "      <td>6.316538</td>\n",
       "      <td>7.972783</td>\n",
       "      <td>7.064295</td>\n",
       "      <td>4</td>\n",
       "      <td>2021</td>\n",
       "    </tr>\n",
       "    <tr>\n",
       "      <th>5</th>\n",
       "      <td><img src=\"https://cf.geekdo-images.com/6GqH14TJJhza86BX5HCLEQ__thumb/img/J8SVmGOJXZGxNjkT3xYNQU7Haxg=/fit-in/200x150/filters:strip_icc()/pic5674958.jpg\" width=\"124\" /></td>\n",
       "      <td><a href=\"https://boardgamegeek.com/boardgame/312484\">Lost Ruins of Arnak</a></td>\n",
       "      <td>7.890744</td>\n",
       "      <td>7.928342</td>\n",
       "      <td>7.894179</td>\n",
       "      <td>5</td>\n",
       "      <td>2020</td>\n",
       "    </tr>\n",
       "  </tbody>\n",
       "</table>"
      ],
      "text/plain": [
       "<IPython.core.display.HTML object>"
      ]
     },
     "execution_count": 90,
     "metadata": {},
     "output_type": "execute_result"
    }
   ],
   "source": [
    "# TOP N RANK\n",
    "display_topn(by='rank', n=TOP_N)"
   ]
  },
  {
   "cell_type": "code",
   "execution_count": 91,
   "metadata": {},
   "outputs": [
    {
     "data": {
      "text/html": [
       "<table border=\"1\" class=\"dataframe table table-striped\">\n",
       "  <thead>\n",
       "    <tr style=\"text-align: right;\">\n",
       "      <th></th>\n",
       "      <th>thumbnail</th>\n",
       "      <th>name</th>\n",
       "      <th>rating_mean_review</th>\n",
       "      <th>rating_mean_comments</th>\n",
       "      <th>fixed_rating</th>\n",
       "      <th>rank</th>\n",
       "      <th>yearpublished</th>\n",
       "    </tr>\n",
       "  </thead>\n",
       "  <tbody>\n",
       "    <tr>\n",
       "      <th>1</th>\n",
       "      <td><img src=\"https://cf.geekdo-images.com/KTKXgGGyL4KkSQRphCWROw__thumb/img/kfO6wC4uNWeLXlFQvjDYcL-0DrI=/fit-in/200x150/filters:strip_icc()/pic6181696.png\" width=\"124\" /></td>\n",
       "      <td><a href=\"https://boardgamegeek.com/boardgame/339031\">The Goonies: Never Say Die</a></td>\n",
       "      <td>10.000000</td>\n",
       "      <td>NaN</td>\n",
       "      <td>NaN</td>\n",
       "      <td>15</td>\n",
       "      <td>2021</td>\n",
       "    </tr>\n",
       "    <tr>\n",
       "      <th>2</th>\n",
       "      <td><img src=\"https://cf.geekdo-images.com/nhWSmNJSTBAye6bxLa9x-Q__thumb/img/B4r1iyRl2Z2CcMrtBRQOKYwwngw=/fit-in/200x150/filters:strip_icc()/pic4779069.jpg\" width=\"124\" /></td>\n",
       "      <td><a href=\"https://boardgamegeek.com/boardgame/268012\">Chronicles of Drunagor: Age of Darkness</a></td>\n",
       "      <td>9.535714</td>\n",
       "      <td>8.690790</td>\n",
       "      <td>9.418725</td>\n",
       "      <td>39</td>\n",
       "      <td>2021</td>\n",
       "    </tr>\n",
       "    <tr>\n",
       "      <th>3</th>\n",
       "      <td><img src=\"https://cf.geekdo-images.com/Oh3kHw6lweg6ru71Q16h2Q__thumb/img/e9XZdQe1ZcPpaq4Gy31OoWBB_V0=/fit-in/200x150/filters:strip_icc()/pic5235277.jpg\" width=\"124\" /></td>\n",
       "      <td><a href=\"https://boardgamegeek.com/boardgame/246900\">Eclipse: Second Dawn for the Galaxy</a></td>\n",
       "      <td>8.744447</td>\n",
       "      <td>8.265730</td>\n",
       "      <td>8.669246</td>\n",
       "      <td>38</td>\n",
       "      <td>2020</td>\n",
       "    </tr>\n",
       "    <tr>\n",
       "      <th>4</th>\n",
       "      <td><img src=\"https://cf.geekdo-images.com/sR9vKUFfimiNWW7dOSkBMg__thumb/img/rg7Lwz8yf4l11GEPXGF7ACHsBSg=/fit-in/200x150/filters:strip_icc()/pic5264401.jpg\" width=\"124\" /></td>\n",
       "      <td><a href=\"https://boardgamegeek.com/boardgame/303551\">Polis</a></td>\n",
       "      <td>8.741379</td>\n",
       "      <td>7.805540</td>\n",
       "      <td>8.539036</td>\n",
       "      <td>20</td>\n",
       "      <td>2020</td>\n",
       "    </tr>\n",
       "    <tr>\n",
       "      <th>5</th>\n",
       "      <td><img src=\"https://cf.geekdo-images.com/x3zxjr-Vw5iU4yDPg70Jgw__thumb/img/o18rjEemoWaVru9Y2TyPwuIaRfE=/fit-in/200x150/filters:strip_icc()/pic3490053.jpg\" width=\"124\" /></td>\n",
       "      <td><a href=\"https://boardgamegeek.com/boardgame/224517\">Brass: Birmingham</a></td>\n",
       "      <td>8.683730</td>\n",
       "      <td>8.206855</td>\n",
       "      <td>8.640412</td>\n",
       "      <td>25</td>\n",
       "      <td>2018</td>\n",
       "    </tr>\n",
       "  </tbody>\n",
       "</table>"
      ],
      "text/plain": [
       "<IPython.core.display.HTML object>"
      ]
     },
     "execution_count": 91,
     "metadata": {},
     "output_type": "execute_result"
    }
   ],
   "source": [
    "# TOP N REVIEW RANK\n",
    "display_topn(by='rating_mean_review', n=TOP_N, ascending=False)"
   ]
  },
  {
   "cell_type": "code",
   "execution_count": 92,
   "metadata": {},
   "outputs": [
    {
     "data": {
      "text/html": [
       "<table border=\"1\" class=\"dataframe table table-striped\">\n",
       "  <thead>\n",
       "    <tr style=\"text-align: right;\">\n",
       "      <th></th>\n",
       "      <th>thumbnail</th>\n",
       "      <th>name</th>\n",
       "      <th>rating_mean_review</th>\n",
       "      <th>rating_mean_comments</th>\n",
       "      <th>fixed_rating</th>\n",
       "      <th>rank</th>\n",
       "      <th>yearpublished</th>\n",
       "    </tr>\n",
       "  </thead>\n",
       "  <tbody>\n",
       "    <tr>\n",
       "      <th>1</th>\n",
       "      <td><img src=\"https://cf.geekdo-images.com/nhWSmNJSTBAye6bxLa9x-Q__thumb/img/B4r1iyRl2Z2CcMrtBRQOKYwwngw=/fit-in/200x150/filters:strip_icc()/pic4779069.jpg\" width=\"124\" /></td>\n",
       "      <td><a href=\"https://boardgamegeek.com/boardgame/268012\">Chronicles of Drunagor: Age of Darkness</a></td>\n",
       "      <td>9.535714</td>\n",
       "      <td>8.690790</td>\n",
       "      <td>9.418725</td>\n",
       "      <td>39</td>\n",
       "      <td>2021</td>\n",
       "    </tr>\n",
       "    <tr>\n",
       "      <th>2</th>\n",
       "      <td><img src=\"https://cf.geekdo-images.com/Oh3kHw6lweg6ru71Q16h2Q__thumb/img/e9XZdQe1ZcPpaq4Gy31OoWBB_V0=/fit-in/200x150/filters:strip_icc()/pic5235277.jpg\" width=\"124\" /></td>\n",
       "      <td><a href=\"https://boardgamegeek.com/boardgame/246900\">Eclipse: Second Dawn for the Galaxy</a></td>\n",
       "      <td>8.744447</td>\n",
       "      <td>8.265730</td>\n",
       "      <td>8.669246</td>\n",
       "      <td>38</td>\n",
       "      <td>2020</td>\n",
       "    </tr>\n",
       "    <tr>\n",
       "      <th>3</th>\n",
       "      <td><img src=\"https://cf.geekdo-images.com/x3zxjr-Vw5iU4yDPg70Jgw__thumb/img/o18rjEemoWaVru9Y2TyPwuIaRfE=/fit-in/200x150/filters:strip_icc()/pic3490053.jpg\" width=\"124\" /></td>\n",
       "      <td><a href=\"https://boardgamegeek.com/boardgame/224517\">Brass: Birmingham</a></td>\n",
       "      <td>8.683730</td>\n",
       "      <td>8.206855</td>\n",
       "      <td>8.640412</td>\n",
       "      <td>25</td>\n",
       "      <td>2018</td>\n",
       "    </tr>\n",
       "    <tr>\n",
       "      <th>4</th>\n",
       "      <td><img src=\"https://cf.geekdo-images.com/_HhIdavYW-hid20Iq3hhmg__thumb/img/OMkN_E5eyWrkID_cHCnQEbIixGM=/fit-in/200x150/filters:strip_icc()/pic5055631.jpg\" width=\"124\" /></td>\n",
       "      <td><a href=\"https://boardgamegeek.com/boardgame/291457\">Gloomhaven: Jaws of the Lion</a></td>\n",
       "      <td>8.598242</td>\n",
       "      <td>8.182595</td>\n",
       "      <td>8.557639</td>\n",
       "      <td>21</td>\n",
       "      <td>2020</td>\n",
       "    </tr>\n",
       "    <tr>\n",
       "      <th>5</th>\n",
       "      <td><img src=\"https://cf.geekdo-images.com/sR9vKUFfimiNWW7dOSkBMg__thumb/img/rg7Lwz8yf4l11GEPXGF7ACHsBSg=/fit-in/200x150/filters:strip_icc()/pic5264401.jpg\" width=\"124\" /></td>\n",
       "      <td><a href=\"https://boardgamegeek.com/boardgame/303551\">Polis</a></td>\n",
       "      <td>8.741379</td>\n",
       "      <td>7.805540</td>\n",
       "      <td>8.539036</td>\n",
       "      <td>20</td>\n",
       "      <td>2020</td>\n",
       "    </tr>\n",
       "  </tbody>\n",
       "</table>"
      ],
      "text/plain": [
       "<IPython.core.display.HTML object>"
      ]
     },
     "execution_count": 92,
     "metadata": {},
     "output_type": "execute_result"
    }
   ],
   "source": [
    "# TOP N FIXED RANK\n",
    "display_topn(by='fixed_rating', n=TOP_N, ascending=False)"
   ]
  },
  {
   "cell_type": "code",
   "execution_count": 93,
   "metadata": {},
   "outputs": [],
   "source": [
    "# model.save('saved_model\\my_model')"
   ]
  },
  {
   "cell_type": "code",
   "execution_count": 94,
   "metadata": {},
   "outputs": [],
   "source": [
    "# saved_model = tf.keras.models.load_model('saved_model\\my_model')"
   ]
  },
  {
   "cell_type": "code",
   "execution_count": 95,
   "metadata": {},
   "outputs": [],
   "source": [
    "# some examples on \"long\" comments vs short comments"
   ]
  },
  {
   "cell_type": "code",
   "execution_count": 98,
   "metadata": {},
   "outputs": [],
   "source": [
    "not_rated_comments['comment_len'] = not_rated_comments['value'].str.len()\n",
    "some_long_comments = not_rated_comments.query(\"comment_len>100 and comment_len<300\").sample(frac=1).head(25).sort_values('rating')"
   ]
  },
  {
   "cell_type": "code",
   "execution_count": 114,
   "metadata": {},
   "outputs": [
    {
     "name": "stdout",
     "output_type": "stream",
     "text": [
      "\"I picked up this game after hearing how great it was and was sure it would go well with my group, but wow did it fall flat. I think it took too long for what it was, and while I enjoyed it, it seemed others were ready for it to be over halfway through. \"\n",
      "score: 5.66\n",
      "\n",
      "\"Not played  * Weight: Medium (3.11) * Player count: Community 3-6 / Best 4, 6 * Mechanisms: Area Majority-Influence / Dice Rolling / Grid Movement / Modular Board / Player Elimination / Tile Placement / Variable Phase Order / Variable Player Powers  NEW\"\n",
      "score: 7.12\n",
      "\n",
      "\"Looks like a better fit for Tina and me than LotR:LCG, so going to give it a shot.  CSI-preorder, shipping fall 2016  Received 11/25/2016\"\n",
      "score: 7.17\n",
      "\n",
      "\"When I saw this game I made a joke about it being a deck builder where all the cards are cows. Then that turned out to be true. A herd builder.\"\n",
      "score: 7.36\n",
      "\n",
      "\"LI. Very interesting set collection game with bidding and kind of deck builder mechanic. Easy to learn with nice looking components.\"\n",
      "score: 7.37\n",
      "\n",
      "\"If \"It is a time of farming and war\" doesn't get you stoked to play...then possibly you have good taste. It simply should not be possible for fighting with mechs to be boring...and yet this game exists.\"\n",
      "score: 7.49\n",
      "\n",
      "\"Gloomhaven is a scenario-based co-op dungeon crawler with hand management, card-based simultaneous action selection, hand management, player elimination and 95 scenarios. It supports 1-4p. See comment on Gloomhaven: Jaws of the Lion (/boardgame/291457).\"\n",
      "score: 7.50\n",
      "\n",
      "\"Expansions: [thing=241386][/thing] [thing=272637][/thing] [thing=272638][/thing] [thing=287220][/thing]\"\n",
      "score: 7.55\n",
      "\n",
      "\"A 100% game of Whist, with cosmic art. and little bit of twist for co-op (which can also be implemented in normal cards for Whist). So absolutely 0 reason to buy this if you are fan and have played Whist.\"\n",
      "score: 7.55\n",
      "\n",
      "\"Status: Ongoing 3P Game Sleeves: 2 1. Card Game (Mayday^P) 2. Mini Euro (BCW) Insert: Tower Rex + Expansion Dashboards: 1/4 1. Epic Dashboard (Player 1) Notes: 1. RDL&P 2. DT-2020 3. Look into CG for additional content\"\n",
      "score: 7.60\n",
      "\n",
      "\"Ordered from Philbert 12/4/2020  Votre numéro de commande est le : 1341582  Votre numéro de transaction PayPal est : 8CF53873VR465360H\"\n",
      "score: 7.64\n",
      "\n",
      "\"Essen 2016: Wil deze nog steeds een keer spelen, Sonja vond thema niet leuk. Artwork viel ook beetje tegen bij eerste blik op het bord @ essen2016\"\n",
      "score: 7.89\n",
      "\n",
      "\"Erw. Twilight Imperium 4. Ed.: Prophezeiung der Könige Folded Space Insert Grundspiel Folded Space Insert Erweiterung\"\n",
      "score: 7.91\n",
      "\n",
      "\"I’ve enjoyed the Arkham Horror board game but it doesn’t  hit the table too frequently, but with such positive reviews on this game I feel like I must try it. I’m not huge into exclusively card games but am open minded to it\"\n",
      "score: 7.98\n",
      "\n",
      "\"Stickers and map new and sealed. All Rewards still sealed. Missing original retail box but will include a Plano organizer that holds the components perfectly.\"\n",
      "score: 8.09\n",
      "\n",
      "\"Die Inselgeister vereinen ihre Kräfte und setzen elementare Kräfte ein, um ihre Heimat gegen Eindringlinge zu verteidigen.  1-6 Spieler / Kooperativ / Experten Spiel\"\n",
      "score: 8.28\n",
      "\n",
      "\"Kickstarted: Through The Portal Kickstarted: Returning To The Portal (With Swag) Extra 1.1 Rulebook Extra Dice x 2 Art Book Vol. 1 Art Book Vol. 2 Neoprene playmats\"\n",
      "score: 8.38\n",
      "\n",
      "\"2-5P (best 3) - 30/60mn  with Thingvellir expansion  Auction/card drafting/simultaneous action selection  FR\"\n",
      "score: 8.46\n",
      "\n",
      "\"This is a light Family Filler game, but it is SO popular!  Should really try it out... and it seems to have a super-popular expansion too.\"\n",
      "score: 8.57\n",
      "\n",
      "\"Backed November 2nd 2017 - Received July 30th 2018  -- Sold: 7/1/20 - Still really want to try this game someday. But things have changed and after two years it's still in shrink and there's really no one to play something like this with right now.\"\n",
      "score: 8.72\n",
      "\n",
      "\"[b]Mini-Expansions & Promos:[/b] [thing=232394]Promo Pack 1[/thing]  [b]Accessories:[/b] [listitem=4167285]Fantasy Flight Standard [COLOR=#999999](Gray)[/COLOR] Card Sleeves[/listitem] [listitem=4167285]Fantasy Flight Mini European [COLOR=#CC0000](Red)[/COLOR] Card Sleeves[/listitem] \"\n",
      "score: 8.96\n",
      "\n",
      "\"One day, this will be mine.... :)  Ok, I finally broke and spent £90 for a brand new copy after hearing so much and seeing the broad smiles of other players. Now I just hope the reality is as good as the hype......\"\n",
      "score: 9.21\n",
      "\n",
      "\":halfstar:[b][size=10][BGCOLOR=#F39C12]Need 45 Std USA & [/BGCOLOR][BGCOLOR=#ff0000]36 Mini Euro Sleeves [/BGCOLOR][BGCOLOR=#F2F4F4]- 5x 25mm Coin Capsules [/BGCOLOR][/size][/b] \"\n",
      "score: 9.62\n",
      "\n",
      "\"Ordered from Amazon 5/5/17. Delivery between May 27 and June5. Arrived in July. Not in a box! Just a mailing label on the shrink wrap, Fortunately, no damage.\"\n",
      "score: 9.83\n",
      "\n",
      "\"Use these: Gloomhaven Scenario Viewer Gloomhaven Helper    Consider replacing Stamina Potions with the community-developed \"Endurance Potions\"\"\n",
      "score: 9.89\n",
      "\n"
     ]
    }
   ],
   "source": [
    "some_long_comments.apply(lambda c: print(f\"\\\"{c['value']}\\\"\\nscore: {c['rating']:.2f}\\n\"), axis=1);"
   ]
  },
  {
   "cell_type": "code",
   "execution_count": null,
   "metadata": {},
   "outputs": [],
   "source": []
  }
 ],
 "metadata": {
  "kernelspec": {
   "display_name": "tensorflow2",
   "language": "python",
   "name": "tensorflow2"
  },
  "language_info": {
   "codemirror_mode": {
    "name": "ipython",
    "version": 3
   },
   "file_extension": ".py",
   "mimetype": "text/x-python",
   "name": "python",
   "nbconvert_exporter": "python",
   "pygments_lexer": "ipython3",
   "version": "3.8.8"
  }
 },
 "nbformat": 4,
 "nbformat_minor": 4
}
