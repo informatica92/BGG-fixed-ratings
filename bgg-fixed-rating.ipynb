{
 "cells": [
  {
   "cell_type": "code",
   "execution_count": null,
   "metadata": {},
   "outputs": [],
   "source": [
    "# ## BGG API\n",
    "# https://www.boardgamegeek.com/xmlapi2/thing?id=161599&comments=1\n",
    "# https://www.boardgamegeek.com/xmlapi2/hot?type=boardgame\n",
    "# ## NLP WITH TF\n",
    "# https://www.tensorflow.org/hub/tutorials/tf2_text_classification"
   ]
  },
  {
   "cell_type": "code",
   "execution_count": 2,
   "metadata": {},
   "outputs": [
    {
     "name": "stdout",
     "output_type": "stream",
     "text": [
      "Version:      2.5.0\n",
      "Eager mode:   True\n",
      "Hub version:  0.12.0\n",
      "GPU:          available\n"
     ]
    }
   ],
   "source": [
    "import tensorflow as tf\n",
    "import tensorflow_hub as hub\n",
    "from tensorflow.keras.wrappers.scikit_learn import KerasRegressor, KerasClassifier\n",
    "from sklearn.model_selection import GridSearchCV\n",
    "\n",
    "from IPython.display import HTML\n",
    "from datetime import datetime\n",
    "import matplotlib.pyplot as plt\n",
    "import pandas as pd\n",
    "import numpy as np\n",
    "import re\n",
    "\n",
    "from utilities import get_hot_data, get_comments, remove_short_comments, build_model, print_my_examples\n",
    "\n",
    "print(\"Version:     \", tf.__version__)\n",
    "print(\"Eager mode:  \", tf.executing_eagerly())\n",
    "print(\"Hub version: \", hub.__version__)\n",
    "print(\"GPU:         \", \"available\" if tf.config.list_physical_devices('GPU') else \"NOT available\")\n",
    "\n",
    "tf.get_logger().setLevel('ERROR')"
   ]
  },
  {
   "cell_type": "code",
   "execution_count": 3,
   "metadata": {},
   "outputs": [],
   "source": [
    "# tf.debugging.set_log_device_placement(True)"
   ]
  },
  {
   "cell_type": "code",
   "execution_count": 4,
   "metadata": {},
   "outputs": [],
   "source": [
    "GOOD_REVIEW_THRESHOLD = 7\n",
    "VAL_FRACTION = 0.25\n",
    "MIN_COMMENT_LEN = 25\n",
    "TOP_N = 5\n",
    "MODEL_NAME = \"https://tfhub.dev/google/tf2-preview/nnlm-en-dim50/1\"\n",
    "# MORE ABOUT MODEL NAMES: \n",
    "# \"https://tfhub.dev/google/tf2-preview/nnlm-en-dim128/1\"\n",
    "# \"https://tfhub.dev/google/tf2-preview/nnlm-en-dim128-with-normalization/1\"\n",
    "# we also tested these solutions with dimension equals to 128 but accuracy \n",
    "# is a bit lower (0.85 for 128 vs 0.86 for 50) and training sometimes stops \n",
    "# unexpectedly for memory limit\n",
    "#\n",
    "# \"https://tfhub.dev/google/tf2-preview/nnlm-en-dim50/1\"\n",
    "# \"https://tfhub.dev/google/tf2-preview/nnlm-en-dim50-with-normalization/1\"\n",
    "# there is no difference between normalization and not so we use the one \n",
    "# without normalization"
   ]
  },
  {
   "cell_type": "markdown",
   "metadata": {},
   "source": [
    "## GET DATA"
   ]
  },
  {
   "cell_type": "code",
   "execution_count": 5,
   "metadata": {},
   "outputs": [
    {
     "data": {
      "text/plain": [
       "[{'id': '340909',\n",
       "  'rank': '1',\n",
       "  'thumbnail': 'https://cf.geekdo-images.com/bwABghR3MhsmGJqyh42WXQ__thumb/img/is-GKWwws4rDrIe-B9fbuM_oBYA=/fit-in/200x150/filters:strip_icc()/pic6235824.png',\n",
       "  'name': \"Gloomholdin'\",\n",
       "  'yearpublished': '2021'},\n",
       " {'id': '341048',\n",
       "  'rank': '2',\n",
       "  'thumbnail': 'https://cf.geekdo-images.com/cs7Oby2YsVe-lcP65FdXgQ__thumb/img/v2UqsOmM4S29dr5LGVNgvwnHJWc=/fit-in/200x150/filters:strip_icc()/pic6240235.jpg',\n",
       "  'name': 'Free Ride',\n",
       "  'yearpublished': '2021'}]"
      ]
     },
     "execution_count": 5,
     "metadata": {},
     "output_type": "execute_result"
    }
   ],
   "source": [
    "hot_array = get_hot_data()\n",
    "hot_array[:2]"
   ]
  },
  {
   "cell_type": "code",
   "execution_count": 6,
   "metadata": {},
   "outputs": [
    {
     "name": "stdout",
     "output_type": "stream",
     "text": [
      "reading dataframe from csv file...\n"
     ]
    },
    {
     "data": {
      "text/html": [
       "<div>\n",
       "<style scoped>\n",
       "    .dataframe tbody tr th:only-of-type {\n",
       "        vertical-align: middle;\n",
       "    }\n",
       "\n",
       "    .dataframe tbody tr th {\n",
       "        vertical-align: top;\n",
       "    }\n",
       "\n",
       "    .dataframe thead th {\n",
       "        text-align: right;\n",
       "    }\n",
       "</style>\n",
       "<table border=\"1\" class=\"dataframe\">\n",
       "  <thead>\n",
       "    <tr style=\"text-align: right;\">\n",
       "      <th></th>\n",
       "      <th>id</th>\n",
       "      <th>username</th>\n",
       "      <th>rating</th>\n",
       "      <th>value</th>\n",
       "    </tr>\n",
       "  </thead>\n",
       "  <tbody>\n",
       "    <tr>\n",
       "      <th>0</th>\n",
       "      <td>340909</td>\n",
       "      <td>051276</td>\n",
       "      <td>N/A</td>\n",
       "      <td>Print &amp; Play version</td>\n",
       "    </tr>\n",
       "    <tr>\n",
       "      <th>1</th>\n",
       "      <td>340909</td>\n",
       "      <td>archaiopaichnidi</td>\n",
       "      <td>N/A</td>\n",
       "      <td>Free PnP files: https://boardgamegeek.com/boar...</td>\n",
       "    </tr>\n",
       "    <tr>\n",
       "      <th>2</th>\n",
       "      <td>340909</td>\n",
       "      <td>CKHarlin</td>\n",
       "      <td>N/A</td>\n",
       "      <td>I am SUPER excited about this! Is there anyway...</td>\n",
       "    </tr>\n",
       "    <tr>\n",
       "      <th>3</th>\n",
       "      <td>340909</td>\n",
       "      <td>deagledryan</td>\n",
       "      <td>N/A</td>\n",
       "      <td>Printed</td>\n",
       "    </tr>\n",
       "    <tr>\n",
       "      <th>4</th>\n",
       "      <td>340909</td>\n",
       "      <td>DustinHendrickson</td>\n",
       "      <td>10.0</td>\n",
       "      <td>PnP</td>\n",
       "    </tr>\n",
       "    <tr>\n",
       "      <th>...</th>\n",
       "      <td>...</td>\n",
       "      <td>...</td>\n",
       "      <td>...</td>\n",
       "      <td>...</td>\n",
       "    </tr>\n",
       "    <tr>\n",
       "      <th>126331</th>\n",
       "      <td>167791</td>\n",
       "      <td>z_zadar</td>\n",
       "      <td>9.0</td>\n",
       "      <td>Some games are so much fun. Others can be a li...</td>\n",
       "    </tr>\n",
       "    <tr>\n",
       "      <th>126332</th>\n",
       "      <td>167791</td>\n",
       "      <td>_Czid_</td>\n",
       "      <td>8.0</td>\n",
       "      <td>Have played with Elysium and Prelude expansion...</td>\n",
       "    </tr>\n",
       "    <tr>\n",
       "      <th>126333</th>\n",
       "      <td>167791</td>\n",
       "      <td>_Marty_</td>\n",
       "      <td>9.5</td>\n",
       "      <td>Fantastic game. With so many cards that can ch...</td>\n",
       "    </tr>\n",
       "    <tr>\n",
       "      <th>126334</th>\n",
       "      <td>167791</td>\n",
       "      <td>_mun_</td>\n",
       "      <td>10.0</td>\n",
       "      <td>Nagyon izgalmas játék, jó a mechanizmusa. A sz...</td>\n",
       "    </tr>\n",
       "    <tr>\n",
       "      <th>126335</th>\n",
       "      <td>167791</td>\n",
       "      <td>_The_Inquiry_</td>\n",
       "      <td>5.0</td>\n",
       "      <td>Prior to 2020: 2 plays  TM is one of those gam...</td>\n",
       "    </tr>\n",
       "  </tbody>\n",
       "</table>\n",
       "<p>126336 rows × 4 columns</p>\n",
       "</div>"
      ],
      "text/plain": [
       "            id           username rating  \\\n",
       "0       340909             051276    N/A   \n",
       "1       340909   archaiopaichnidi    N/A   \n",
       "2       340909           CKHarlin    N/A   \n",
       "3       340909        deagledryan    N/A   \n",
       "4       340909  DustinHendrickson   10.0   \n",
       "...        ...                ...    ...   \n",
       "126331  167791            z_zadar    9.0   \n",
       "126332  167791             _Czid_    8.0   \n",
       "126333  167791            _Marty_    9.5   \n",
       "126334  167791              _mun_   10.0   \n",
       "126335  167791      _The_Inquiry_    5.0   \n",
       "\n",
       "                                                    value  \n",
       "0                                    Print & Play version  \n",
       "1       Free PnP files: https://boardgamegeek.com/boar...  \n",
       "2       I am SUPER excited about this! Is there anyway...  \n",
       "3                                                 Printed  \n",
       "4                                                     PnP  \n",
       "...                                                   ...  \n",
       "126331  Some games are so much fun. Others can be a li...  \n",
       "126332  Have played with Elysium and Prelude expansion...  \n",
       "126333  Fantastic game. With so many cards that can ch...  \n",
       "126334  Nagyon izgalmas játék, jó a mechanizmusa. A sz...  \n",
       "126335  Prior to 2020: 2 plays  TM is one of those gam...  \n",
       "\n",
       "[126336 rows x 4 columns]"
      ]
     },
     "execution_count": 6,
     "metadata": {},
     "output_type": "execute_result"
    }
   ],
   "source": [
    "try:\n",
    "    comments_df = pd.read_csv(f\"comments_{datetime.now().strftime('%Y%m%d')}.csv\")\n",
    "    comments_df['rating'] = comments_df.rating.fillna('N/A')\n",
    "    print(\"reading dataframe from csv file...\")\n",
    "except:\n",
    "    print(\"missing csv file, getting new data using API...\")\n",
    "    comments_df = get_comments(hot_array, verbose=10)\n",
    "    comments_df.to_csv(f\"comments_{datetime.now().strftime('%Y%m%d')}.csv\", index=False)\n",
    "comments_df"
   ]
  },
  {
   "cell_type": "markdown",
   "metadata": {},
   "source": [
    "## DATA CLEANING"
   ]
  },
  {
   "cell_type": "code",
   "execution_count": 7,
   "metadata": {},
   "outputs": [],
   "source": [
    "# probably we should keep all the ratings (no matters the len) and remove only the simple comments under a certain len  \n",
    "comments_df[\"value\"] = comments_df[\"value\"].astype(str)"
   ]
  },
  {
   "cell_type": "code",
   "execution_count": 8,
   "metadata": {},
   "outputs": [
    {
     "name": "stdout",
     "output_type": "stream",
     "text": [
      "removed 19935 for 'remove_short_comments' - min len: 25 - method: unrated\n"
     ]
    }
   ],
   "source": [
    "# REMOVE URLs FROM COMMENTS\n",
    "comments_df['value'] = [re.sub(r\"http\\S+\", \"\", v) for v in comments_df.value.values]\n",
    "comments_df = remove_short_comments(comments_df, MIN_COMMENT_LEN)"
   ]
  },
  {
   "cell_type": "code",
   "execution_count": 9,
   "metadata": {},
   "outputs": [],
   "source": [
    "# REMOVE NON ENGLISH COMMENTS\n",
    "# !conda install -c conda-forge langdetect\n",
    "# def add_comments_lang(df: pd.DataFrame):\n",
    "#     df_local = df.copy()\n",
    "#     df_local['lang'] = df['value'].apply(detect)\n",
    "#     return df_local.reset_index(drop=True)\n",
    "# comments_df = add_comments_lang(comments_df)\n",
    "# comments_df = comments_df.query('lang == \"en\"')"
   ]
  },
  {
   "cell_type": "markdown",
   "metadata": {},
   "source": [
    "## SPLIT RATED AND NON-RATED COMMENTS"
   ]
  },
  {
   "cell_type": "code",
   "execution_count": 10,
   "metadata": {},
   "outputs": [
    {
     "data": {
      "text/plain": [
       "9.0        19859\n",
       "8.0        19104\n",
       "10.0       17926\n",
       "7.0        10264\n",
       "N/A         7948\n",
       "           ...  \n",
       "4.66           1\n",
       "7.0985         1\n",
       "2.3            1\n",
       "4.21           1\n",
       "8.26667        1\n",
       "Name: rating, Length: 619, dtype: int64"
      ]
     },
     "execution_count": 10,
     "metadata": {},
     "output_type": "execute_result"
    }
   ],
   "source": [
    "# count number of comments per rating (N/A included)\n",
    "comments_df.rating.value_counts()"
   ]
  },
  {
   "cell_type": "code",
   "execution_count": 11,
   "metadata": {},
   "outputs": [
    {
     "data": {
      "text/plain": [
       "(98453, 5)"
      ]
     },
     "execution_count": 11,
     "metadata": {},
     "output_type": "execute_result"
    }
   ],
   "source": [
    "# get rated comments only\n",
    "rated_comments = comments_df.query('rating != \"N/A\"')\n",
    "rated_comments.shape"
   ]
  },
  {
   "cell_type": "code",
   "execution_count": 12,
   "metadata": {},
   "outputs": [
    {
     "data": {
      "text/plain": [
       "(7948, 5)"
      ]
     },
     "execution_count": 12,
     "metadata": {},
     "output_type": "execute_result"
    }
   ],
   "source": [
    "# get non rated comments only\n",
    "not_rated_comments = comments_df.query('rating == \"N/A\"').reset_index(drop=True)\n",
    "not_rated_comments.shape"
   ]
  },
  {
   "cell_type": "markdown",
   "metadata": {},
   "source": [
    "## CREATE TRAINING AND VALIDATION DATA"
   ]
  },
  {
   "cell_type": "code",
   "execution_count": 13,
   "metadata": {},
   "outputs": [],
   "source": [
    "# use rated comments (reviews) to train the model"
   ]
  },
  {
   "cell_type": "code",
   "execution_count": 14,
   "metadata": {},
   "outputs": [],
   "source": [
    "rated_comments = rated_comments.sample(frac=1)"
   ]
  },
  {
   "cell_type": "code",
   "execution_count": 15,
   "metadata": {},
   "outputs": [],
   "source": [
    "# create training X and y\n",
    "train_examples = list(rated_comments.value)\n",
    "train_labels = list((rated_comments.rating.astype(float)>=GOOD_REVIEW_THRESHOLD).astype(int))"
   ]
  },
  {
   "cell_type": "code",
   "execution_count": 16,
   "metadata": {},
   "outputs": [
    {
     "name": "stdout",
     "output_type": "stream",
     "text": [
      "example of positive rating:\n"
     ]
    },
    {
     "data": {
      "text/plain": [
       "'best: 4 good: 2 good: 3 good: 5 '"
      ]
     },
     "execution_count": 16,
     "metadata": {},
     "output_type": "execute_result"
    }
   ],
   "source": [
    "print(\"example of positive rating:\")\n",
    "train_examples[train_labels.index(1)]"
   ]
  },
  {
   "cell_type": "code",
   "execution_count": 17,
   "metadata": {},
   "outputs": [
    {
     "name": "stdout",
     "output_type": "stream",
     "text": [
      "example of negative rating:\n"
     ]
    },
    {
     "data": {
      "text/plain": [
       "'Juego divertido. Un push your luck de toda la vida donde debes intentar hacer más puntos que los demás. Es un juego divertido. Si tienes ocasión de repetir dale con tranquilidad. Creo que pueda ser buen juego para los novatos. Comprado en Aleman con intención de tradumaquetearlo todo por solo 23€!!!'"
      ]
     },
     "execution_count": 17,
     "metadata": {},
     "output_type": "execute_result"
    }
   ],
   "source": [
    "print(\"example of negative rating:\")\n",
    "train_examples[train_labels.index(0)]"
   ]
  },
  {
   "cell_type": "markdown",
   "metadata": {},
   "source": [
    "## COMPOSE MODEL"
   ]
  },
  {
   "cell_type": "code",
   "execution_count": 18,
   "metadata": {},
   "outputs": [],
   "source": [
    "hub_layer = hub.KerasLayer(MODEL_NAME, input_shape=[], dtype=tf.string, trainable=True)"
   ]
  },
  {
   "cell_type": "markdown",
   "metadata": {},
   "source": [
    "## CLASSIFIER"
   ]
  },
  {
   "cell_type": "code",
   "execution_count": 19,
   "metadata": {},
   "outputs": [
    {
     "name": "stdout",
     "output_type": "stream",
     "text": [
      "Epoch 1/100\n",
      "49/49 - 5s - loss: 0.5271 - accuracy: 0.8300 - val_loss: 0.4486 - val_accuracy: 0.8562\n",
      "Epoch 2/100\n",
      "49/49 - 3s - loss: 0.3894 - accuracy: 0.8595 - val_loss: 0.3616 - val_accuracy: 0.8613\n",
      "Epoch 3/100\n",
      "49/49 - 3s - loss: 0.3172 - accuracy: 0.8741 - val_loss: 0.3265 - val_accuracy: 0.8738\n",
      "Epoch 4/100\n",
      "49/49 - 3s - loss: 0.2749 - accuracy: 0.8927 - val_loss: 0.3117 - val_accuracy: 0.8798\n",
      "Epoch 5/100\n",
      "49/49 - 3s - loss: 0.2449 - accuracy: 0.9039 - val_loss: 0.3101 - val_accuracy: 0.8810\n",
      "Epoch 6/100\n",
      "49/49 - 3s - loss: 0.2209 - accuracy: 0.9132 - val_loss: 0.3109 - val_accuracy: 0.8775\n",
      "Epoch 7/100\n",
      "49/49 - 3s - loss: 0.2013 - accuracy: 0.9217 - val_loss: 0.3194 - val_accuracy: 0.8776\n",
      "Epoch 8/100\n",
      "49/49 - 3s - loss: 0.1843 - accuracy: 0.9302 - val_loss: 0.3301 - val_accuracy: 0.8723\n",
      "Epoch 9/100\n",
      "49/49 - 3s - loss: 0.1702 - accuracy: 0.9363 - val_loss: 0.3443 - val_accuracy: 0.8710\n",
      "Epoch 10/100\n",
      "49/49 - 3s - loss: 0.1578 - accuracy: 0.9424 - val_loss: 0.3606 - val_accuracy: 0.8679\n",
      "33/33 - 0s - loss: 0.3522 - accuracy: 0.8728\n",
      "Epoch 1/100\n",
      "49/49 - 4s - loss: 0.5223 - accuracy: 0.8420 - val_loss: 0.4568 - val_accuracy: 0.8563\n",
      "Epoch 2/100\n",
      "49/49 - 3s - loss: 0.3946 - accuracy: 0.8612 - val_loss: 0.3646 - val_accuracy: 0.8621\n",
      "Epoch 3/100\n",
      "49/49 - 3s - loss: 0.3169 - accuracy: 0.8758 - val_loss: 0.3281 - val_accuracy: 0.8745\n",
      "Epoch 4/100\n",
      "49/49 - 3s - loss: 0.2745 - accuracy: 0.8922 - val_loss: 0.3129 - val_accuracy: 0.8799\n",
      "Epoch 5/100\n",
      "49/49 - 3s - loss: 0.2437 - accuracy: 0.9049 - val_loss: 0.3118 - val_accuracy: 0.8796\n",
      "Epoch 6/100\n",
      "49/49 - 3s - loss: 0.2199 - accuracy: 0.9151 - val_loss: 0.3137 - val_accuracy: 0.8784\n",
      "Epoch 7/100\n",
      "49/49 - 3s - loss: 0.2005 - accuracy: 0.9241 - val_loss: 0.3219 - val_accuracy: 0.8753\n",
      "Epoch 8/100\n",
      "49/49 - 3s - loss: 0.1833 - accuracy: 0.9316 - val_loss: 0.3320 - val_accuracy: 0.8728\n",
      "Epoch 9/100\n",
      "49/49 - 3s - loss: 0.1691 - accuracy: 0.9383 - val_loss: 0.3484 - val_accuracy: 0.8709\n",
      "33/33 - 0s - loss: 0.3446 - accuracy: 0.8730\n",
      "Epoch 1/100\n",
      "49/49 - 3s - loss: 0.6397 - accuracy: 0.6411 - val_loss: 0.5229 - val_accuracy: 0.8412\n",
      "Epoch 2/100\n",
      "49/49 - 3s - loss: 0.4784 - accuracy: 0.8549 - val_loss: 0.4401 - val_accuracy: 0.8557\n",
      "Epoch 3/100\n",
      "49/49 - 3s - loss: 0.3911 - accuracy: 0.8621 - val_loss: 0.3727 - val_accuracy: 0.8645\n",
      "Epoch 4/100\n",
      "49/49 - 3s - loss: 0.3246 - accuracy: 0.8770 - val_loss: 0.3379 - val_accuracy: 0.8726\n",
      "Epoch 5/100\n",
      "49/49 - 3s - loss: 0.2841 - accuracy: 0.8905 - val_loss: 0.3215 - val_accuracy: 0.8770\n",
      "Epoch 6/100\n",
      "49/49 - 3s - loss: 0.2557 - accuracy: 0.9018 - val_loss: 0.3157 - val_accuracy: 0.8774\n",
      "Epoch 7/100\n",
      "49/49 - 3s - loss: 0.2333 - accuracy: 0.9111 - val_loss: 0.3141 - val_accuracy: 0.8773\n",
      "Epoch 8/100\n",
      "49/49 - 3s - loss: 0.2154 - accuracy: 0.9185 - val_loss: 0.3182 - val_accuracy: 0.8765\n",
      "Epoch 9/100\n",
      "49/49 - 3s - loss: 0.1986 - accuracy: 0.9262 - val_loss: 0.3244 - val_accuracy: 0.8749\n",
      "Epoch 10/100\n",
      "49/49 - 3s - loss: 0.1846 - accuracy: 0.9328 - val_loss: 0.3333 - val_accuracy: 0.8723\n",
      "33/33 - 0s - loss: 0.3273 - accuracy: 0.8751\n",
      "Epoch 1/100\n",
      "73/73 - 5s - loss: 0.5028 - accuracy: 0.8249 - val_loss: 0.4110 - val_accuracy: 0.8571\n",
      "Epoch 2/100\n",
      "73/73 - 4s - loss: 0.3495 - accuracy: 0.8695 - val_loss: 0.3309 - val_accuracy: 0.8748\n",
      "Epoch 3/100\n",
      "73/73 - 4s - loss: 0.2872 - accuracy: 0.8891 - val_loss: 0.3089 - val_accuracy: 0.8817\n",
      "Epoch 4/100\n",
      "73/73 - 4s - loss: 0.2547 - accuracy: 0.9011 - val_loss: 0.3030 - val_accuracy: 0.8812\n",
      "Epoch 5/100\n",
      "73/73 - 4s - loss: 0.2317 - accuracy: 0.9094 - val_loss: 0.3052 - val_accuracy: 0.8807\n",
      "Epoch 6/100\n",
      "73/73 - 4s - loss: 0.2135 - accuracy: 0.9178 - val_loss: 0.3122 - val_accuracy: 0.8804\n",
      "Epoch 7/100\n",
      "73/73 - 4s - loss: 0.1988 - accuracy: 0.9245 - val_loss: 0.3206 - val_accuracy: 0.8775\n",
      "Epoch 8/100\n",
      "73/73 - 4s - loss: 0.1856 - accuracy: 0.9298 - val_loss: 0.3321 - val_accuracy: 0.8739\n"
     ]
    },
    {
     "data": {
      "text/plain": [
       "GridSearchCV(cv=3,\n",
       "             estimator=<tensorflow.python.keras.wrappers.scikit_learn.KerasClassifier object at 0x0000026A8F412D30>,\n",
       "             param_grid={})"
      ]
     },
     "execution_count": 19,
     "metadata": {},
     "output_type": "execute_result"
    }
   ],
   "source": [
    "def build_classifier():\n",
    "    return build_model(hub_layer=None, pre_trained_model_name=MODEL_NAME, model_type='classifier', verbose=0)\n",
    "\n",
    "\n",
    "estimator = KerasClassifier(build_fn=build_classifier, epochs=100, batch_size=1024, verbose=2, validation_split=VAL_FRACTION)\n",
    "x_train_clf = np.array(list(rated_comments.value))\n",
    "y_train_clf = np.array(list((rated_comments.rating.astype(float)>=GOOD_REVIEW_THRESHOLD).astype(int)))\n",
    "\n",
    "clf = GridSearchCV(\n",
    "    estimator, \n",
    "    cv=3, \n",
    "    param_grid={}\n",
    ")\n",
    "clf.fit(x_train_clf, y_train_clf, callbacks=[tf.keras.callbacks.EarlyStopping(monitor='val_accuracy', patience=5, min_delta=0.001)])"
   ]
  },
  {
   "cell_type": "code",
   "execution_count": 20,
   "metadata": {},
   "outputs": [],
   "source": [
    "classifier = clf.best_estimator_\n",
    "classifier_history_dict = classifier.model.history.history"
   ]
  },
  {
   "cell_type": "code",
   "execution_count": 21,
   "metadata": {},
   "outputs": [
    {
     "data": {
      "text/plain": [
       "dict_keys(['loss', 'accuracy', 'val_loss', 'val_accuracy'])"
      ]
     },
     "execution_count": 21,
     "metadata": {},
     "output_type": "execute_result"
    }
   ],
   "source": [
    "classifier_history_dict.keys()"
   ]
  },
  {
   "cell_type": "code",
   "execution_count": 22,
   "metadata": {},
   "outputs": [],
   "source": [
    "acc = classifier_history_dict['accuracy']\n",
    "val_acc = classifier_history_dict['val_accuracy']\n",
    "loss = classifier_history_dict['loss']\n",
    "val_loss = classifier_history_dict['val_loss']"
   ]
  },
  {
   "cell_type": "code",
   "execution_count": 23,
   "metadata": {},
   "outputs": [],
   "source": [
    "epochs = range(1, len(acc) + 1) "
   ]
  },
  {
   "cell_type": "code",
   "execution_count": 24,
   "metadata": {},
   "outputs": [
    {
     "data": {
      "image/png": "[encoded data removed]",
      "text/plain": [
       "<Figure size 648x360 with 1 Axes>"
      ]
     },
     "metadata": {
      "needs_background": "light"
     },
     "output_type": "display_data"
    }
   ],
   "source": [
    "# \"bo\" is for \"blue dot\"\n",
    "plt.figure(figsize=(9, 5))\n",
    "plt.plot(epochs, loss, 'bo', label='Training loss')\n",
    "# b is for \"solid blue line\"\n",
    "plt.plot(epochs, val_loss, 'b', label='Validation loss')\n",
    "plt.title('Training and validation loss')\n",
    "plt.xlabel('Epochs')\n",
    "plt.ylabel('Loss')\n",
    "plt.grid(True)\n",
    "plt.legend()\n",
    "\n",
    "plt.show()"
   ]
  },
  {
   "cell_type": "code",
   "execution_count": 25,
   "metadata": {},
   "outputs": [
    {
     "data": {
      "image/png": "[encoded data removed]",
      "text/plain": [
       "<Figure size 648x360 with 1 Axes>"
      ]
     },
     "metadata": {
      "needs_background": "light"
     },
     "output_type": "display_data"
    }
   ],
   "source": [
    "plt.figure(figsize=(9, 5))\n",
    "plt.plot(epochs, acc, 'bo', label='Training acc')\n",
    "plt.plot(epochs, val_acc, 'b', label='Validation acc')\n",
    "plt.title('Training and validation accuracy')\n",
    "plt.xlabel('Epochs')\n",
    "plt.ylabel('Accuracy')\n",
    "plt.grid(True)\n",
    "plt.legend()\n",
    "\n",
    "plt.show()"
   ]
  },
  {
   "cell_type": "code",
   "execution_count": 26,
   "metadata": {},
   "outputs": [
    {
     "name": "stdout",
     "output_type": "stream",
     "text": [
      "input:\n",
      "\"best: 4 good: 2 good: 3 good: 5 \"\n",
      "score: 1.000000\n",
      "actual: 1\n",
      "\n",
      "input:\n",
      "\"Juego divertido. Un push your luck de toda la vida donde debes intentar hacer más puntos que los demás. Es un juego divertido. Si tienes ocasión de repetir dale con tranquilidad. Creo que pueda ser buen juego para los novatos. Comprado en Aleman con intención de tradumaquetearlo todo por solo 23€!!!\"\n",
      "score: 1.000000\n",
      "actual: 0\n",
      "\n",
      "input:\n",
      "\"Retains most of the flow and and play of the third edition. Especially with the shattered empire addition. Most of the changes are for the better some I particularly liked Simplification of tech tree, the dependencies are on the number of techs not specific ones.  Ships can be enhanced as part of technology. Pulling out the voting to a separate phase is nice.   Still ambivalent about trade - I like the new methodology but it can slow the game down.  Will I buy the new edition. Probably not, I'll be happy to play other peoples copies, it one isn't available my 3rd edition is still serviceable.\"\n",
      "score: 1.000000\n",
      "actual: 1\n",
      "\n",
      "input:\n",
      "\" Grinchitos \"\n",
      "score: 1.000000\n",
      "actual: 1\n",
      "\n",
      "input:\n",
      "\"It's unfortunate that for as much praise as Terraforming Mars gets, I still really haven't had the chance to fully engage it yet.  The primary stumbling block (for this or any game really) is the length of time it takes to play.  Anything longer than 90 minutes can be a bit of a challenge to get to the table around my house and TM can clip 2.5 hours without breaking a sweat. So, I am hoping that the new expansion [thing=247030][/thing] will give us a chance to really check it out.   That said, I must confess that I can get a bit moody when comes to the engine-building mechanic; sometimes I love it, sometimes I don't.  We'll see.  Expansions: [thing=247030][/thing]  [thing=218127][/thing]\"\n",
      "score: 1.000000\n",
      "actual: 1\n",
      "\n",
      "input:\n",
      "\"Three plays in and this game just keeps getting better.\"\n",
      "score: 1.000000\n",
      "actual: 1\n",
      "\n",
      "input:\n",
      "\"buen juego que te exige estar atento a tus rivales y no cae en las minireglas de muchos euros, se agradece, pero aun así no entiendo la devoción religiosa de algunos con este titulo \"\n",
      "score: 1.000000\n",
      "actual: 1\n",
      "\n",
      "input:\n",
      "\"Beautiful game. Well thought out. Unique theme. Gorgeous presentation. Excellent box and packaging!\"\n",
      "score: 1.000000\n",
      "actual: 1\n",
      "\n",
      "input:\n",
      "\"Acquired Christmas 2018\"\n",
      "score: 1.000000\n",
      "actual: 1\n",
      "\n",
      "input:\n",
      "\"Fan-tas-tic\"\n",
      "score: 1.000000\n",
      "actual: 1\n"
     ]
    },
    {
     "name": "stderr",
     "output_type": "stream",
     "text": [
      "C:\\Users\\dev999\\.conda\\envs\\tensorflow2\\lib\\site-packages\\tensorflow\\python\\keras\\engine\\sequential.py:455: UserWarning: `model.predict_classes()` is deprecated and will be removed after 2021-01-01. Please use instead:* `np.argmax(model.predict(x), axis=-1)`,   if your model does multi-class classification   (e.g. if it uses a `softmax` last-layer activation).* `(model.predict(x) > 0.5).astype(\"int32\")`,   if your model does binary classification   (e.g. if it uses a `sigmoid` last-layer activation).\n",
      "  warnings.warn('`model.predict_classes()` is deprecated and '\n"
     ]
    }
   ],
   "source": [
    "inputs = x_train_clf[:10]\n",
    "outputs = y_train_clf[:10]\n",
    "results = classifier.predict(tf.constant(inputs), verbose=0)\n",
    "print_my_examples(inputs, results, outputs)"
   ]
  },
  {
   "cell_type": "code",
   "execution_count": 27,
   "metadata": {},
   "outputs": [],
   "source": [
    "## APPLY MODEL ON NON-RATED COMMENTS"
   ]
  },
  {
   "cell_type": "code",
   "execution_count": 28,
   "metadata": {},
   "outputs": [
    {
     "name": "stdout",
     "output_type": "stream",
     "text": [
      "8/8 - 0s\n",
      "input:\n",
      "\"Fell in love with the theme at first sight, my first even-a-bit heavier game. Have yet to try Turmoil...\"\n",
      "score: 1.000000\n",
      "\n",
      "input:\n",
      "\"Tokaido for multiplayer journey or Lord's of Waterdeep. Gather this is super pretty and okay but there are other games better.\"\n",
      "score: 0.000000\n",
      "\n",
      "input:\n",
      "\"Verjaardagscadeau van Edmee uit Amsterdam\"\n",
      "score: 1.000000\n",
      "\n",
      "input:\n",
      "\"New in Shrink (includes Swift Start pack/Automa)\"\n",
      "score: 1.000000\n",
      "\n",
      "input:\n",
      "\"Highly played, too popular to get for cheap though.\"\n",
      "score: 0.000000\n",
      "\n",
      "input:\n",
      "\"Should be amazing if just a reprint\"\n",
      "score: 1.000000\n",
      "\n",
      "input:\n",
      "\"2 player co-op, campaign style, must build deck first\"\n",
      "score: 1.000000\n",
      "\n",
      "input:\n",
      "\"man i wish i could get this behemoth to the table more often\"\n",
      "score: 1.000000\n",
      "\n",
      "input:\n",
      "\"b1-2 Coop Campaign (! Digital Hybrid, App Required )\"\n",
      "score: 1.000000\n",
      "\n",
      "input:\n",
      "\"Jeu complexe populaire... à regarder?\"\n",
      "score: 1.000000\n"
     ]
    }
   ],
   "source": [
    "not_rated_comments = not_rated_comments.sample(frac=1)\n",
    "results = classifier.predict(tf.constant(list(not_rated_comments.value.astype(str))))\n",
    "print_my_examples(list(not_rated_comments.value), results, limit=10)"
   ]
  },
  {
   "cell_type": "markdown",
   "metadata": {},
   "source": [
    "## REGRESSOR"
   ]
  },
  {
   "cell_type": "code",
   "execution_count": 29,
   "metadata": {},
   "outputs": [
    {
     "data": {
      "text/plain": [
       "GridSearchCV(cv=3,\n",
       "             estimator=<tensorflow.python.keras.wrappers.scikit_learn.KerasRegressor object at 0x0000026F1BFC0E50>,\n",
       "             param_grid={})"
      ]
     },
     "execution_count": 29,
     "metadata": {},
     "output_type": "execute_result"
    }
   ],
   "source": [
    "def build_regressor():\n",
    "    return build_model(hub_layer, pre_trained_model_name=MODEL_NAME, model_type='regressor', verbose=0)\n",
    "\n",
    "\n",
    "estimator = KerasRegressor(build_fn=build_regressor, epochs=100, batch_size=512, verbose=0, validation_split=VAL_FRACTION)\n",
    "x_train_reg = np.array(list(rated_comments.value))\n",
    "y_train_reg = np.array(list(rated_comments.rating.astype(float)))\n",
    "\n",
    "clf = GridSearchCV(\n",
    "    estimator, \n",
    "    cv=3, \n",
    "    param_grid={}\n",
    ")\n",
    "clf.fit(x_train_reg, y_train_reg, callbacks=[tf.keras.callbacks.EarlyStopping(monitor='val_mean_squared_error', patience=5, min_delta=0.001)])"
   ]
  },
  {
   "cell_type": "code",
   "execution_count": 30,
   "metadata": {},
   "outputs": [],
   "source": [
    "regressor = clf.best_estimator_\n",
    "regressor_history_dict = regressor.model.history.history"
   ]
  },
  {
   "cell_type": "code",
   "execution_count": 31,
   "metadata": {},
   "outputs": [
    {
     "data": {
      "text/plain": [
       "dict_keys(['loss', 'mean_squared_error', 'val_loss', 'val_mean_squared_error'])"
      ]
     },
     "execution_count": 31,
     "metadata": {},
     "output_type": "execute_result"
    }
   ],
   "source": [
    "regressor_history_dict.keys()"
   ]
  },
  {
   "cell_type": "code",
   "execution_count": 32,
   "metadata": {},
   "outputs": [],
   "source": [
    "mean_squared_error = regressor_history_dict['mean_squared_error']\n",
    "val_mean_squared_error = regressor_history_dict['val_mean_squared_error']\n",
    "loss = regressor_history_dict['loss']\n",
    "val_loss = regressor_history_dict['val_loss']"
   ]
  },
  {
   "cell_type": "code",
   "execution_count": 33,
   "metadata": {},
   "outputs": [],
   "source": [
    "epochs = range(1, len(mean_squared_error) + 1) "
   ]
  },
  {
   "cell_type": "code",
   "execution_count": 34,
   "metadata": {},
   "outputs": [
    {
     "name": "stdout",
     "output_type": "stream",
     "text": [
      "MEAN SQUARED ERROR (VALIDATION SET): 2.15\n"
     ]
    }
   ],
   "source": [
    "print(f\"MEAN SQUARED ERROR (VALIDATION SET): {val_mean_squared_error[-1]:.2f}\")"
   ]
  },
  {
   "cell_type": "code",
   "execution_count": 35,
   "metadata": {},
   "outputs": [
    {
     "name": "stdout",
     "output_type": "stream",
     "text": [
      "MEAN SQUARED ERROR (TRAINING SET): 1.05\n"
     ]
    }
   ],
   "source": [
    "print(f\"MEAN SQUARED ERROR (TRAINING SET): {mean_squared_error[-1]:.2f}\")"
   ]
  },
  {
   "cell_type": "code",
   "execution_count": 36,
   "metadata": {},
   "outputs": [
    {
     "data": {
      "image/png": "[encoded data removed]",
      "text/plain": [
       "<Figure size 648x360 with 1 Axes>"
      ]
     },
     "metadata": {
      "needs_background": "light"
     },
     "output_type": "display_data"
    }
   ],
   "source": [
    "# \"bo\" is for \"blue dot\"\n",
    "plt.figure(figsize=(9, 5))\n",
    "plt.plot(epochs, loss, 'bo', label='Training loss')\n",
    "# b is for \"solid blue line\"\n",
    "plt.plot(epochs, val_loss, 'b', label='Validation loss')\n",
    "plt.title('Training and validation loss')\n",
    "plt.xlabel('Epochs')\n",
    "plt.ylabel('Loss')\n",
    "plt.grid(True)\n",
    "plt.legend()\n",
    "\n",
    "plt.show()"
   ]
  },
  {
   "cell_type": "code",
   "execution_count": 37,
   "metadata": {},
   "outputs": [
    {
     "data": {
      "image/png": "[encoded data removed]",
      "text/plain": [
       "<Figure size 648x360 with 1 Axes>"
      ]
     },
     "metadata": {
      "needs_background": "light"
     },
     "output_type": "display_data"
    }
   ],
   "source": [
    "plt.figure(figsize=(9, 5))\n",
    "plt.plot(epochs, mean_squared_error, 'bo', label='Training mean squared error')\n",
    "plt.plot(epochs, val_mean_squared_error, 'b', label='Validation mean squared error')\n",
    "plt.title('Training and validation accuracy')\n",
    "plt.xlabel('Epochs')\n",
    "plt.ylabel('Mean squared error')\n",
    "plt.grid(True)\n",
    "plt.legend()\n",
    "\n",
    "plt.show()"
   ]
  },
  {
   "cell_type": "code",
   "execution_count": 38,
   "metadata": {},
   "outputs": [
    {
     "name": "stdout",
     "output_type": "stream",
     "text": [
      "input: \n",
      "\"best: 4 good: 2 good: 3 good: 5 \"\n",
      "score: 8.87\n",
      "actual: 9.00 \n",
      "\n",
      "input: \n",
      "\"Juego divertido. Un push your luck de toda la vida donde debes intentar hacer más puntos que los demás. Es un juego divertido. Si tienes ocasión de repetir dale con tranquilidad. Creo que pueda ser buen juego para los novatos. Comprado en Aleman con intención de tradumaquetearlo todo por solo 23€!!!\"\n",
      "score: 6.76\n",
      "actual: 6.60 \n",
      "\n",
      "input: \n",
      "\"Retains most of the flow and and play of the third edition. Especially with the shattered empire addition. Most of the changes are for the better some I particularly liked Simplification of tech tree, the dependencies are on the number of techs not specific ones.  Ships can be enhanced as part of technology. Pulling out the voting to a separate phase is nice.   Still ambivalent about trade - I like the new methodology but it can slow the game down.  Will I buy the new edition. Probably not, I'll be happy to play other peoples copies, it one isn't available my 3rd edition is still serviceable.\"\n",
      "score: 7.98\n",
      "actual: 8.00 \n",
      "\n",
      "input: \n",
      "\" Grinchitos \"\n",
      "score: 8.28\n",
      "actual: 8.00 \n",
      "\n",
      "input: \n",
      "\"It's unfortunate that for as much praise as Terraforming Mars gets, I still really haven't had the chance to fully engage it yet.  The primary stumbling block (for this or any game really) is the length of time it takes to play.  Anything longer than 90 minutes can be a bit of a challenge to get to the table around my house and TM can clip 2.5 hours without breaking a sweat. So, I am hoping that the new expansion [thing=247030][/thing] will give us a chance to really check it out.   That said, I must confess that I can get a bit moody when comes to the engine-building mechanic; sometimes I love it, sometimes I don't.  We'll see.  Expansions: [thing=247030][/thing]  [thing=218127][/thing]\"\n",
      "score: 7.55\n",
      "actual: 7.00 \n",
      "\n",
      "input: \n",
      "\"Three plays in and this game just keeps getting better.\"\n",
      "score: 7.98\n",
      "actual: 8.00 \n",
      "\n",
      "input: \n",
      "\"buen juego que te exige estar atento a tus rivales y no cae en las minireglas de muchos euros, se agradece, pero aun así no entiendo la devoción religiosa de algunos con este titulo \"\n",
      "score: 8.05\n",
      "actual: 8.00 \n",
      "\n",
      "input: \n",
      "\"Beautiful game. Well thought out. Unique theme. Gorgeous presentation. Excellent box and packaging!\"\n",
      "score: 8.64\n",
      "actual: 9.00 \n",
      "\n",
      "input: \n",
      "\"Acquired Christmas 2018\"\n",
      "score: 8.20\n",
      "actual: 8.50 \n",
      "\n",
      "input: \n",
      "\"Fan-tas-tic\"\n",
      "score: 8.57\n",
      "actual: 10.00 \n",
      "\n"
     ]
    }
   ],
   "source": [
    "inputs = x_train_reg[:10]\n",
    "outputs = y_train_reg[:10]\n",
    "results = clf.best_estimator_.predict(tf.constant(inputs), verbose=0)\n",
    "for i in range(len(inputs)):\n",
    "    print(f\"input: \\n\\\"{inputs[i]}\\\"\\nscore: {results[i]:.2f}\\nactual: {outputs[i]:.2f} \\n\")"
   ]
  },
  {
   "cell_type": "markdown",
   "metadata": {},
   "source": [
    "## COMPARE CLASSIFIER VS REGRESSOR"
   ]
  },
  {
   "cell_type": "code",
   "execution_count": 39,
   "metadata": {},
   "outputs": [
    {
     "name": "stdout",
     "output_type": "stream",
     "text": [
      "\"Looks neat, too expensive though for what you appear to get.\"\n",
      "    reg score: 6.24\n",
      "    clf score: 0\n",
      "\n",
      "\"After one half-finished play. Wow! Variable board and tech tracks are compelling. Hard decisions fueled by a challenging and tough to math-out strategy, given the plentiful options and the changing game state. More please.\"\n",
      "    reg score: 9.06\n",
      "    clf score: 1\n",
      "\n",
      "\"1-6 players Best with 3–4 players  Card sleeved\"\n",
      "    reg score: 9.07\n",
      "    clf score: 1\n",
      "\n",
      "\"+ Colonies + Hellas & Elysium + Prelude + Turmoil + Venus Next\"\n",
      "    reg score: 9.24\n",
      "    clf score: 1\n",
      "\n",
      "\"Funciona bien a 2 Imprescindible expansión???\"\n",
      "    reg score: 7.21\n",
      "    clf score: 1\n",
      "\n",
      "\"+Hero standees +Removable stickers\"\n",
      "    reg score: 9.66\n",
      "    clf score: 1\n",
      "\n",
      "\"Gift from my BGG Secret Santa 2018. Thanks Santa! \"\n",
      "    reg score: 8.54\n",
      "    clf score: 1\n",
      "\n",
      "\"This game is a suppose to be a GODsend. Without playing this I still feel like Diplomacy will reamain the better game because of the ease of play. TI4 is notorious for being overly complex and suffering from bad die rolls. Still worth playing though and potentially even loving.  Other good alternatives to this are Scythe & Hyperspace. Much shorter 4X games.\"\n",
      "    reg score: 6.26\n",
      "    clf score: 1\n",
      "\n",
      "\"Kickstarter - Galactic Counselor with detail wash.\"\n",
      "    reg score: 8.72\n",
      "    clf score: 1\n",
      "\n",
      "\"Campaign, Co-op, Fantasy, Dragon, RPG\"\n",
      "    reg score: 9.50\n",
      "    clf score: 1\n",
      "\n"
     ]
    },
    {
     "name": "stderr",
     "output_type": "stream",
     "text": [
      "C:\\Users\\dev999\\.conda\\envs\\tensorflow2\\lib\\site-packages\\tensorflow\\python\\keras\\engine\\sequential.py:455: UserWarning: `model.predict_classes()` is deprecated and will be removed after 2021-01-01. Please use instead:* `np.argmax(model.predict(x), axis=-1)`,   if your model does multi-class classification   (e.g. if it uses a `softmax` last-layer activation).* `(model.predict(x) > 0.5).astype(\"int32\")`,   if your model does binary classification   (e.g. if it uses a `sigmoid` last-layer activation).\n",
      "  warnings.warn('`model.predict_classes()` is deprecated and '\n"
     ]
    }
   ],
   "source": [
    "not_rated_comments = not_rated_comments.sample(frac=1)\n",
    "inputs = list(not_rated_comments.value.astype(str))[:10]\n",
    "\n",
    "clf_results = classifier.predict(inputs, verbose=0)\n",
    "reg_results = regressor.predict(inputs, verbose=0)\n",
    "for i in range(len(inputs)):\n",
    "    print(f\"\"\"\\\"{inputs[i]}\\\"\n",
    "    reg score: {reg_results[i]:.2f}\n",
    "    clf score: {clf_results[i][0]}\n",
    "\"\"\")"
   ]
  },
  {
   "cell_type": "markdown",
   "metadata": {},
   "source": [
    "### RESULTS\n",
    "It seems that the regressor is much more accurate compared to the binary classifier => **let's use the regressors results to fix the BGG rating**"
   ]
  },
  {
   "cell_type": "markdown",
   "metadata": {},
   "source": [
    "## COMBINE RATED COMMENTS AND NOT-RATED COMMENTS WITH PREDICTED RATING"
   ]
  },
  {
   "cell_type": "code",
   "execution_count": 40,
   "metadata": {},
   "outputs": [
    {
     "name": "stdout",
     "output_type": "stream",
     "text": [
      "rated_comments_grouped: \n",
      "|        id |   rating_mean |   rating_count |\n",
      "|-----------|---------------|----------------|\n",
      "|  84876.00 |          8.10 |        6583.00 |\n",
      "| 124361.00 |          8.19 |        3884.00 |\n",
      "| 155821.00 |          7.91 |        1788.00 |\n",
      "| 162886.00 |          8.36 |        3586.00 |\n",
      "| 167355.00 |          8.41 |        1890.00 |\n"
     ]
    }
   ],
   "source": [
    "rated_comments['rating'] = rated_comments.rating.astype(float)\n",
    "rated_comments_grouped = rated_comments.groupby('id').agg({'rating': ['mean', 'count']})\n",
    "rated_comments_grouped.columns = list(rated_comments_grouped.columns.map('_'.join))\n",
    "rated_comments_grouped = rated_comments_grouped.reset_index()\n",
    "print(\"rated_comments_grouped: \")\n",
    "print(rated_comments_grouped.head().to_markdown(index=False, floatfmt='.2f', tablefmt='github'))"
   ]
  },
  {
   "cell_type": "code",
   "execution_count": 41,
   "metadata": {},
   "outputs": [],
   "source": [
    "not_rated_comments['rating'] = regressor.predict(list(not_rated_comments.value.astype(str)))"
   ]
  },
  {
   "cell_type": "code",
   "execution_count": 42,
   "metadata": {},
   "outputs": [
    {
     "name": "stdout",
     "output_type": "stream",
     "text": [
      "not_rated_comments_grouped: \n",
      "|        id |   rating_mean |   rating_count |\n",
      "|-----------|---------------|----------------|\n",
      "|  84876.00 |          8.07 |         360.00 |\n",
      "| 124361.00 |          8.08 |         254.00 |\n",
      "| 155821.00 |          8.00 |         152.00 |\n",
      "| 162886.00 |          8.18 |         320.00 |\n",
      "| 167355.00 |          8.36 |         212.00 |\n"
     ]
    }
   ],
   "source": [
    "not_rated_comments['rating'] = not_rated_comments.rating.astype(float)\n",
    "not_rated_comments['rating'] = not_rated_comments['rating'].clip(0, 10)\n",
    "not_rated_comments_grouped = not_rated_comments.groupby('id').agg({'rating': ['mean', 'count']})\n",
    "not_rated_comments_grouped.columns = list(not_rated_comments_grouped.columns.map('_'.join))\n",
    "not_rated_comments_grouped = not_rated_comments_grouped.reset_index()\n",
    "print(\"not_rated_comments_grouped: \")\n",
    "print(not_rated_comments_grouped.head().to_markdown(index=False, floatfmt='.2f', tablefmt='github'))"
   ]
  },
  {
   "cell_type": "code",
   "execution_count": 43,
   "metadata": {},
   "outputs": [],
   "source": [
    "grouped = rated_comments_grouped.merge(not_rated_comments_grouped, on='id', suffixes=('_review', '_comments'), how='outer')\n",
    "grouped['id'] = grouped.id.astype(str)\n",
    "grouped = grouped.merge(pd.DataFrame(hot_array), on='id', how='right')\n",
    "grouped['rank'] = grouped['rank'].astype(int)\n",
    "grouped['url'] = grouped['id'].apply(lambda x: f\"https://boardgamegeek.com/boardgame/{x}\")\n",
    "grouped['fixed_rating'] = (grouped['rating_mean_review']*grouped['rating_count_review']+grouped['rating_mean_comments']*grouped['rating_count_comments']) /\\\n",
    "                            (grouped['rating_count_review']+grouped['rating_count_comments'])\n",
    "grouped['thumbnail'] = grouped['thumbnail'].apply(lambda x: f'<img src=\"{x}\" width=\"124\" />')\n",
    "grouped['name'] = grouped.apply(lambda x: f'<a href=\"{x[\"url\"]}\">{x[\"name\"]}</a>', axis=1)\n",
    "\n",
    "grouped = grouped[['thumbnail', 'name', 'rating_mean_review', 'rating_mean_comments', 'fixed_rating', 'rank', 'yearpublished']]"
   ]
  },
  {
   "cell_type": "code",
   "execution_count": 44,
   "metadata": {},
   "outputs": [
    {
     "data": {
      "text/html": [
       "<div>\n",
       "<style scoped>\n",
       "    .dataframe tbody tr th:only-of-type {\n",
       "        vertical-align: middle;\n",
       "    }\n",
       "\n",
       "    .dataframe tbody tr th {\n",
       "        vertical-align: top;\n",
       "    }\n",
       "\n",
       "    .dataframe thead th {\n",
       "        text-align: right;\n",
       "    }\n",
       "</style>\n",
       "<table border=\"1\" class=\"dataframe\">\n",
       "  <thead>\n",
       "    <tr style=\"text-align: right;\">\n",
       "      <th></th>\n",
       "      <th>thumbnail</th>\n",
       "      <th>name</th>\n",
       "      <th>rating_mean_review</th>\n",
       "      <th>rating_mean_comments</th>\n",
       "      <th>fixed_rating</th>\n",
       "      <th>rank</th>\n",
       "      <th>yearpublished</th>\n",
       "    </tr>\n",
       "  </thead>\n",
       "  <tbody>\n",
       "    <tr>\n",
       "      <th>0</th>\n",
       "      <td>&lt;img src=\"https://cf.geekdo-images.com/bwABghR...</td>\n",
       "      <td>&lt;a href=\"https://boardgamegeek.com/boardgame/3...</td>\n",
       "      <td>10.000000</td>\n",
       "      <td>8.173309</td>\n",
       "      <td>8.903985</td>\n",
       "      <td>1</td>\n",
       "      <td>2021</td>\n",
       "    </tr>\n",
       "    <tr>\n",
       "      <th>1</th>\n",
       "      <td>&lt;img src=\"https://cf.geekdo-images.com/cs7Oby2...</td>\n",
       "      <td>&lt;a href=\"https://boardgamegeek.com/boardgame/3...</td>\n",
       "      <td>NaN</td>\n",
       "      <td>NaN</td>\n",
       "      <td>NaN</td>\n",
       "      <td>2</td>\n",
       "      <td>2021</td>\n",
       "    </tr>\n",
       "    <tr>\n",
       "      <th>2</th>\n",
       "      <td>&lt;img src=\"https://cf.geekdo-images.com/fW43z5X...</td>\n",
       "      <td>&lt;a href=\"https://boardgamegeek.com/boardgame/3...</td>\n",
       "      <td>5.839837</td>\n",
       "      <td>7.716744</td>\n",
       "      <td>6.427026</td>\n",
       "      <td>3</td>\n",
       "      <td>2021</td>\n",
       "    </tr>\n",
       "    <tr>\n",
       "      <th>3</th>\n",
       "      <td>&lt;img src=\"https://cf.geekdo-images.com/PhjygpW...</td>\n",
       "      <td>&lt;a href=\"https://boardgamegeek.com/boardgame/3...</td>\n",
       "      <td>8.087194</td>\n",
       "      <td>8.022999</td>\n",
       "      <td>8.081427</td>\n",
       "      <td>4</td>\n",
       "      <td>2020</td>\n",
       "    </tr>\n",
       "    <tr>\n",
       "      <th>4</th>\n",
       "      <td>&lt;img src=\"https://cf.geekdo-images.com/KTKXgGG...</td>\n",
       "      <td>&lt;a href=\"https://boardgamegeek.com/boardgame/3...</td>\n",
       "      <td>8.160000</td>\n",
       "      <td>5.152701</td>\n",
       "      <td>7.658784</td>\n",
       "      <td>5</td>\n",
       "      <td>2021</td>\n",
       "    </tr>\n",
       "  </tbody>\n",
       "</table>\n",
       "</div>"
      ],
      "text/plain": [
       "                                           thumbnail  \\\n",
       "0  <img src=\"https://cf.geekdo-images.com/bwABghR...   \n",
       "1  <img src=\"https://cf.geekdo-images.com/cs7Oby2...   \n",
       "2  <img src=\"https://cf.geekdo-images.com/fW43z5X...   \n",
       "3  <img src=\"https://cf.geekdo-images.com/PhjygpW...   \n",
       "4  <img src=\"https://cf.geekdo-images.com/KTKXgGG...   \n",
       "\n",
       "                                                name  rating_mean_review  \\\n",
       "0  <a href=\"https://boardgamegeek.com/boardgame/3...           10.000000   \n",
       "1  <a href=\"https://boardgamegeek.com/boardgame/3...                 NaN   \n",
       "2  <a href=\"https://boardgamegeek.com/boardgame/3...            5.839837   \n",
       "3  <a href=\"https://boardgamegeek.com/boardgame/3...            8.087194   \n",
       "4  <a href=\"https://boardgamegeek.com/boardgame/3...            8.160000   \n",
       "\n",
       "   rating_mean_comments  fixed_rating  rank yearpublished  \n",
       "0              8.173309      8.903985     1          2021  \n",
       "1                   NaN           NaN     2          2021  \n",
       "2              7.716744      6.427026     3          2021  \n",
       "3              8.022999      8.081427     4          2020  \n",
       "4              5.152701      7.658784     5          2021  "
      ]
     },
     "execution_count": 44,
     "metadata": {},
     "output_type": "execute_result"
    }
   ],
   "source": [
    "grouped.head()"
   ]
  },
  {
   "cell_type": "code",
   "execution_count": 45,
   "metadata": {},
   "outputs": [],
   "source": [
    "def display_topn(by, n=5, ascending=True):\n",
    "    temp_df = grouped.sort_values(by, ascending=ascending).head(n)\n",
    "    temp_df.index=list(range(1, n+1))\n",
    "    return HTML(temp_df.to_html(escape=False, classes='table table-striped'))"
   ]
  },
  {
   "cell_type": "code",
   "execution_count": 46,
   "metadata": {},
   "outputs": [
    {
     "data": {
      "text/html": [
       "<table border=\"1\" class=\"dataframe table table-striped\">\n",
       "  <thead>\n",
       "    <tr style=\"text-align: right;\">\n",
       "      <th></th>\n",
       "      <th>thumbnail</th>\n",
       "      <th>name</th>\n",
       "      <th>rating_mean_review</th>\n",
       "      <th>rating_mean_comments</th>\n",
       "      <th>fixed_rating</th>\n",
       "      <th>rank</th>\n",
       "      <th>yearpublished</th>\n",
       "    </tr>\n",
       "  </thead>\n",
       "  <tbody>\n",
       "    <tr>\n",
       "      <th>1</th>\n",
       "      <td><img src=\"https://cf.geekdo-images.com/bwABghR3MhsmGJqyh42WXQ__thumb/img/is-GKWwws4rDrIe-B9fbuM_oBYA=/fit-in/200x150/filters:strip_icc()/pic6235824.png\" width=\"124\" /></td>\n",
       "      <td><a href=\"https://boardgamegeek.com/boardgame/340909\">Gloomholdin'</a></td>\n",
       "      <td>10.000000</td>\n",
       "      <td>8.173309</td>\n",
       "      <td>8.903985</td>\n",
       "      <td>1</td>\n",
       "      <td>2021</td>\n",
       "    </tr>\n",
       "    <tr>\n",
       "      <th>2</th>\n",
       "      <td><img src=\"https://cf.geekdo-images.com/cs7Oby2YsVe-lcP65FdXgQ__thumb/img/v2UqsOmM4S29dr5LGVNgvwnHJWc=/fit-in/200x150/filters:strip_icc()/pic6240235.jpg\" width=\"124\" /></td>\n",
       "      <td><a href=\"https://boardgamegeek.com/boardgame/341048\">Free Ride</a></td>\n",
       "      <td>NaN</td>\n",
       "      <td>NaN</td>\n",
       "      <td>NaN</td>\n",
       "      <td>2</td>\n",
       "      <td>2021</td>\n",
       "    </tr>\n",
       "    <tr>\n",
       "      <th>3</th>\n",
       "      <td><img src=\"https://cf.geekdo-images.com/fW43z5XJG-DnzFChgZNM-Q__thumb/img/Ty23IY-kFu2Ho159ZgdDf2N8gwY=/fit-in/200x150/filters:strip_icc()/pic5909342.jpg\" width=\"124\" /></td>\n",
       "      <td><a href=\"https://boardgamegeek.com/boardgame/328871\">Terraforming Mars: Ares Expedition</a></td>\n",
       "      <td>5.839837</td>\n",
       "      <td>7.716744</td>\n",
       "      <td>6.427026</td>\n",
       "      <td>3</td>\n",
       "      <td>2021</td>\n",
       "    </tr>\n",
       "    <tr>\n",
       "      <th>4</th>\n",
       "      <td><img src=\"https://cf.geekdo-images.com/PhjygpWSo-0labGrPBMyyg__thumb/img/JGgY-nBmkyB8WRp8vcoBLlNMQ5U=/fit-in/200x150/filters:strip_icc()/pic5666597.jpg\" width=\"124\" /></td>\n",
       "      <td><a href=\"https://boardgamegeek.com/boardgame/316554\">Dune: Imperium</a></td>\n",
       "      <td>8.087194</td>\n",
       "      <td>8.022999</td>\n",
       "      <td>8.081427</td>\n",
       "      <td>4</td>\n",
       "      <td>2020</td>\n",
       "    </tr>\n",
       "    <tr>\n",
       "      <th>5</th>\n",
       "      <td><img src=\"https://cf.geekdo-images.com/KTKXgGGyL4KkSQRphCWROw__thumb/img/kfO6wC4uNWeLXlFQvjDYcL-0DrI=/fit-in/200x150/filters:strip_icc()/pic6181696.png\" width=\"124\" /></td>\n",
       "      <td><a href=\"https://boardgamegeek.com/boardgame/339031\">The Goonies: Never Say Die</a></td>\n",
       "      <td>8.160000</td>\n",
       "      <td>5.152701</td>\n",
       "      <td>7.658784</td>\n",
       "      <td>5</td>\n",
       "      <td>2021</td>\n",
       "    </tr>\n",
       "  </tbody>\n",
       "</table>"
      ],
      "text/plain": [
       "<IPython.core.display.HTML object>"
      ]
     },
     "execution_count": 46,
     "metadata": {},
     "output_type": "execute_result"
    }
   ],
   "source": [
    "# TOP N RANK\n",
    "display_topn(by='rank', n=TOP_N)"
   ]
  },
  {
   "cell_type": "code",
   "execution_count": 47,
   "metadata": {},
   "outputs": [
    {
     "data": {
      "text/html": [
       "<table border=\"1\" class=\"dataframe table table-striped\">\n",
       "  <thead>\n",
       "    <tr style=\"text-align: right;\">\n",
       "      <th></th>\n",
       "      <th>thumbnail</th>\n",
       "      <th>name</th>\n",
       "      <th>rating_mean_review</th>\n",
       "      <th>rating_mean_comments</th>\n",
       "      <th>fixed_rating</th>\n",
       "      <th>rank</th>\n",
       "      <th>yearpublished</th>\n",
       "    </tr>\n",
       "  </thead>\n",
       "  <tbody>\n",
       "    <tr>\n",
       "      <th>1</th>\n",
       "      <td><img src=\"https://cf.geekdo-images.com/bwABghR3MhsmGJqyh42WXQ__thumb/img/is-GKWwws4rDrIe-B9fbuM_oBYA=/fit-in/200x150/filters:strip_icc()/pic6235824.png\" width=\"124\" /></td>\n",
       "      <td><a href=\"https://boardgamegeek.com/boardgame/340909\">Gloomholdin'</a></td>\n",
       "      <td>10.000000</td>\n",
       "      <td>8.173309</td>\n",
       "      <td>8.903985</td>\n",
       "      <td>1</td>\n",
       "      <td>2021</td>\n",
       "    </tr>\n",
       "    <tr>\n",
       "      <th>2</th>\n",
       "      <td><img src=\"https://cf.geekdo-images.com/0v8tyScAL5gbO1pMxpa0pg__thumb/img/7yu87edMujjft3YKe_D_a4v9610=/fit-in/200x150/filters:strip_icc()/pic6157727.png\" width=\"124\" /></td>\n",
       "      <td><a href=\"https://boardgamegeek.com/boardgame/338067\">6: Siege – The Board Game</a></td>\n",
       "      <td>8.800000</td>\n",
       "      <td>9.392964</td>\n",
       "      <td>9.022362</td>\n",
       "      <td>18</td>\n",
       "      <td>2022</td>\n",
       "    </tr>\n",
       "    <tr>\n",
       "      <th>3</th>\n",
       "      <td><img src=\"https://cf.geekdo-images.com/Oh3kHw6lweg6ru71Q16h2Q__thumb/img/e9XZdQe1ZcPpaq4Gy31OoWBB_V0=/fit-in/200x150/filters:strip_icc()/pic5235277.jpg\" width=\"124\" /></td>\n",
       "      <td><a href=\"https://boardgamegeek.com/boardgame/246900\">Eclipse: Second Dawn for the Galaxy</a></td>\n",
       "      <td>8.720660</td>\n",
       "      <td>8.017183</td>\n",
       "      <td>8.615202</td>\n",
       "      <td>35</td>\n",
       "      <td>2020</td>\n",
       "    </tr>\n",
       "    <tr>\n",
       "      <th>4</th>\n",
       "      <td><img src=\"https://cf.geekdo-images.com/hRuD1y5BxdNpssgBqamS0A__thumb/img/fpUu1t2YLjJ4EvEzBGTKtZasNv4=/fit-in/200x150/filters:strip_icc()/pic4595897.jpg\" width=\"124\" /></td>\n",
       "      <td><a href=\"https://boardgamegeek.com/boardgame/169427\">Middara: Unintentional Malum – Act 1</a></td>\n",
       "      <td>8.675117</td>\n",
       "      <td>8.387183</td>\n",
       "      <td>8.610939</td>\n",
       "      <td>50</td>\n",
       "      <td>2019</td>\n",
       "    </tr>\n",
       "    <tr>\n",
       "      <th>5</th>\n",
       "      <td><img src=\"https://cf.geekdo-images.com/x3zxjr-Vw5iU4yDPg70Jgw__thumb/img/o18rjEemoWaVru9Y2TyPwuIaRfE=/fit-in/200x150/filters:strip_icc()/pic3490053.jpg\" width=\"124\" /></td>\n",
       "      <td><a href=\"https://boardgamegeek.com/boardgame/224517\">Brass: Birmingham</a></td>\n",
       "      <td>8.670216</td>\n",
       "      <td>8.220646</td>\n",
       "      <td>8.630205</td>\n",
       "      <td>22</td>\n",
       "      <td>2018</td>\n",
       "    </tr>\n",
       "  </tbody>\n",
       "</table>"
      ],
      "text/plain": [
       "<IPython.core.display.HTML object>"
      ]
     },
     "execution_count": 47,
     "metadata": {},
     "output_type": "execute_result"
    }
   ],
   "source": [
    "# TOP N REVIEW RANK\n",
    "display_topn(by='rating_mean_review', n=TOP_N, ascending=False)"
   ]
  },
  {
   "cell_type": "code",
   "execution_count": 48,
   "metadata": {},
   "outputs": [
    {
     "data": {
      "text/html": [
       "<table border=\"1\" class=\"dataframe table table-striped\">\n",
       "  <thead>\n",
       "    <tr style=\"text-align: right;\">\n",
       "      <th></th>\n",
       "      <th>thumbnail</th>\n",
       "      <th>name</th>\n",
       "      <th>rating_mean_review</th>\n",
       "      <th>rating_mean_comments</th>\n",
       "      <th>fixed_rating</th>\n",
       "      <th>rank</th>\n",
       "      <th>yearpublished</th>\n",
       "    </tr>\n",
       "  </thead>\n",
       "  <tbody>\n",
       "    <tr>\n",
       "      <th>1</th>\n",
       "      <td><img src=\"https://cf.geekdo-images.com/0v8tyScAL5gbO1pMxpa0pg__thumb/img/7yu87edMujjft3YKe_D_a4v9610=/fit-in/200x150/filters:strip_icc()/pic6157727.png\" width=\"124\" /></td>\n",
       "      <td><a href=\"https://boardgamegeek.com/boardgame/338067\">6: Siege – The Board Game</a></td>\n",
       "      <td>8.800000</td>\n",
       "      <td>9.392964</td>\n",
       "      <td>9.022362</td>\n",
       "      <td>18</td>\n",
       "      <td>2022</td>\n",
       "    </tr>\n",
       "    <tr>\n",
       "      <th>2</th>\n",
       "      <td><img src=\"https://cf.geekdo-images.com/bwABghR3MhsmGJqyh42WXQ__thumb/img/is-GKWwws4rDrIe-B9fbuM_oBYA=/fit-in/200x150/filters:strip_icc()/pic6235824.png\" width=\"124\" /></td>\n",
       "      <td><a href=\"https://boardgamegeek.com/boardgame/340909\">Gloomholdin'</a></td>\n",
       "      <td>10.000000</td>\n",
       "      <td>8.173309</td>\n",
       "      <td>8.903985</td>\n",
       "      <td>1</td>\n",
       "      <td>2021</td>\n",
       "    </tr>\n",
       "    <tr>\n",
       "      <th>3</th>\n",
       "      <td><img src=\"https://cf.geekdo-images.com/x3zxjr-Vw5iU4yDPg70Jgw__thumb/img/o18rjEemoWaVru9Y2TyPwuIaRfE=/fit-in/200x150/filters:strip_icc()/pic3490053.jpg\" width=\"124\" /></td>\n",
       "      <td><a href=\"https://boardgamegeek.com/boardgame/224517\">Brass: Birmingham</a></td>\n",
       "      <td>8.670216</td>\n",
       "      <td>8.220646</td>\n",
       "      <td>8.630205</td>\n",
       "      <td>22</td>\n",
       "      <td>2018</td>\n",
       "    </tr>\n",
       "    <tr>\n",
       "      <th>4</th>\n",
       "      <td><img src=\"https://cf.geekdo-images.com/Oh3kHw6lweg6ru71Q16h2Q__thumb/img/e9XZdQe1ZcPpaq4Gy31OoWBB_V0=/fit-in/200x150/filters:strip_icc()/pic5235277.jpg\" width=\"124\" /></td>\n",
       "      <td><a href=\"https://boardgamegeek.com/boardgame/246900\">Eclipse: Second Dawn for the Galaxy</a></td>\n",
       "      <td>8.720660</td>\n",
       "      <td>8.017183</td>\n",
       "      <td>8.615202</td>\n",
       "      <td>35</td>\n",
       "      <td>2020</td>\n",
       "    </tr>\n",
       "    <tr>\n",
       "      <th>5</th>\n",
       "      <td><img src=\"https://cf.geekdo-images.com/hRuD1y5BxdNpssgBqamS0A__thumb/img/fpUu1t2YLjJ4EvEzBGTKtZasNv4=/fit-in/200x150/filters:strip_icc()/pic4595897.jpg\" width=\"124\" /></td>\n",
       "      <td><a href=\"https://boardgamegeek.com/boardgame/169427\">Middara: Unintentional Malum – Act 1</a></td>\n",
       "      <td>8.675117</td>\n",
       "      <td>8.387183</td>\n",
       "      <td>8.610939</td>\n",
       "      <td>50</td>\n",
       "      <td>2019</td>\n",
       "    </tr>\n",
       "  </tbody>\n",
       "</table>"
      ],
      "text/plain": [
       "<IPython.core.display.HTML object>"
      ]
     },
     "execution_count": 48,
     "metadata": {},
     "output_type": "execute_result"
    }
   ],
   "source": [
    "# TOP N FIXED RANK\n",
    "display_topn(by='fixed_rating', n=TOP_N, ascending=False)"
   ]
  },
  {
   "cell_type": "code",
   "execution_count": 49,
   "metadata": {},
   "outputs": [],
   "source": [
    "# model.save('saved_model\\my_model')"
   ]
  },
  {
   "cell_type": "code",
   "execution_count": 50,
   "metadata": {},
   "outputs": [],
   "source": [
    "# saved_model = tf.keras.models.load_model('saved_model\\my_model')"
   ]
  },
  {
   "cell_type": "code",
   "execution_count": 51,
   "metadata": {},
   "outputs": [],
   "source": [
    "# some examples on \"long\" comments vs short comments"
   ]
  },
  {
   "cell_type": "code",
   "execution_count": 52,
   "metadata": {},
   "outputs": [],
   "source": [
    "not_rated_comments['comment_len'] = not_rated_comments['value'].str.len()\n",
    "some_long_comments = not_rated_comments.query(\"comment_len>100 and comment_len<300\").sample(frac=1).head(25).sort_values('rating')"
   ]
  },
  {
   "cell_type": "code",
   "execution_count": 53,
   "metadata": {},
   "outputs": [
    {
     "name": "stdout",
     "output_type": "stream",
     "text": [
      "\"Really good trick taking game.  Unfortunately, I discovered very shortly afterwards that the rest of the family doesn’t do trick taking games!\"\n",
      "score: 5.04\n",
      "\n",
      "\"Juego que por temática me apetece tener ademas está bastante alto en la BGG siendo que acaba de salir. \"\n",
      "score: 5.88\n",
      "\n",
      "\"Card Drafting Contracts Modular Board Set Collection Solo / Solitaire Game Track Movement Turn Order: Claim Action Worker Placement\"\n",
      "score: 6.17\n",
      "\n",
      "\"Cons: Long, complex, multiplayer. Might make a good online play or PBEM, but there are other games to which I would rather devote my time.\"\n",
      "score: 6.85\n",
      "\n",
      "\"A premium adventure game based on dice rolling with character progression. Unfortunately, the price tag is way too high!!!\"\n",
      "score: 7.06\n",
      "\n",
      "\"Need to play with experienced opponents after playing multiple times with other newbies being taught by incompetent teacher.   Can't help but be concerned by number of aspects of game, and the stock photo card art doesn't reassure me.\"\n",
      "score: 7.32\n",
      "\n",
      "\"Haven't played too much, but especially the \"building\" aspect is great. All the special tiles can be really overwhelming, though.\"\n",
      "score: 7.39\n",
      "\n",
      "\"Fleshed out solo or co-op mode would make it a must have (don't think Heather will be a fan otherwise)\"\n",
      "score: 7.63\n",
      "\n",
      "\"Backed on Kickstarter at the Art Connoisseur's Level - includes cotton bags for each faction (BGG Promo)\"\n",
      "score: 7.68\n",
      "\n",
      "\"[color=#38dc77][i][b]#Kickstarter[/b][/i][/color]  [b]Expansions:[/b] + [thing=287362]The Isle of Cats: Kickstarter Pack[/thing] + [thing=287361]The Isle of Cats: Late Arrivals[/thing] \"\n",
      "score: 7.78\n",
      "\n",
      "\"Art, mechanic, and theme buy.  Big, big fan of asymmetry; fascinated by what it does and how it does it.\"\n",
      "score: 7.80\n",
      "\n",
      "\"Fathers Day present - Ordered from Games Empire 31/08/2020 after Irle's has been researching it and requested it. Alison already playing it.\"\n",
      "score: 7.96\n",
      "\n",
      "\"Getting really good buzz...  Update: reviews sound quite good. I'd like to try it out.  I need to try this out online/digital.\"\n",
      "score: 8.10\n",
      "\n",
      "\"Recommend.games says it's good for people who like Terraforming Mars. I'd like to play, but probably won't own it since it doesn't have a solo mode.\"\n",
      "score: 8.21\n",
      "\n",
      "\"After playing 3 times on TTS, decided this one is a must have. Look forward to playing the physical game one of these days (too many games!!).\"\n",
      "score: 8.40\n",
      "\n",
      "\"Bontott, hiánytalan. Doboz egyik sarka picit nyomott. Kártyavédőzve, kártyák elé színesben nyomtatott magyarosított kártyák vannak csúsztatva. \"\n",
      "score: 8.44\n",
      "\n",
      "\"SOLO -a fellow BGG'r kindly donated his collection to me. I paid him anyways, but I still made out. I'm learning....takes table time alone which doesn't always happen but I can see why some people really dive into it. No rating yet - still learning but I like it\"\n",
      "score: 8.45\n",
      "\n",
      "\"Cooperative Play Action Point Allowance System Deck / Pool Building Hand Management Role Playing Variable Player Powers\"\n",
      "score: 8.61\n",
      "\n",
      "\"Included in the box: New Hex Tiles (2nd), Monastery Boards (4th), Pleasure Garden (5th), Trade Routes (8th), Team Boards (9th), Solo Boards (10th), and cloth bags for the various tiles.\"\n",
      "score: 8.83\n",
      "\n",
      "\"Fun strategy game, but can seem a bit one sided towards players. Certain mechanics in the game allow players to restrict actions you can and cannot make (collecting tiles) this can seem rather unfair to some players, and may discourage future games.\"\n",
      "score: 9.10\n",
      "\n",
      "\"Amazing game but just so Massive in scale and Table Space that I could not keep it in my small London Apartment, am super looking forward to the Steam Version coming out next year for PC so I can play this awesome game again without having to worry about set up time or space again! ;)\"\n",
      "score: 9.63\n",
      "\n",
      "\"Dice Tower, Sam Healey's Top 100 Games of All Time 2016, #12; Dice Tower, Sam Healey's Top 100 Games of All Time 2017, #36; Dice Tower, People's Choice Top 100 Games of All Time 2017, #96; Dice Tower, Roy Cannaday's Top 100 Games of All Time 2017, #85;\"\n",
      "score: 9.69\n",
      "\n",
      "\"love this game so much. everyone i know owns a copy so i sold mine.  it wouldnt see play.  but i will be playing this game for years.  jan 2021 PM completed Dobie 144 oath and sleeves piggyback\"\n",
      "score: 10.00\n",
      "\n",
      "\"Late Arrivals Kickstarter Pack 1  Bag o' Cats  PRE-ORDERED Kittens + Beasts Boat Pack Kickstarter Pack 2\"\n",
      "score: 10.00\n",
      "\n",
      "\"Expansion: Rails to the North (NO)  Promo: 11st Buliding Tile (NO) 13rd Building Tile (NO) Station Master Tiles (NO)  Sleeves: Swan 57x90 (prem) [missing:120 - core game]\"\n",
      "score: 10.00\n",
      "\n"
     ]
    }
   ],
   "source": [
    "some_long_comments.apply(lambda c: print(f\"\\\"{c['value']}\\\"\\nscore: {c['rating']:.2f}\\n\"), axis=1);"
   ]
  },
  {
   "cell_type": "markdown",
   "metadata": {},
   "source": [
    "## RANDOM FOREST - TEST"
   ]
  },
  {
   "cell_type": "code",
   "execution_count": 54,
   "metadata": {},
   "outputs": [],
   "source": [
    "# no support for Windows at the moment - waiting for it to test"
   ]
  },
  {
   "cell_type": "code",
   "execution_count": null,
   "metadata": {},
   "outputs": [],
   "source": []
  }
 ],
 "metadata": {
  "kernelspec": {
   "display_name": "tensorflow2",
   "language": "python",
   "name": "tensorflow2"
  },
  "language_info": {
   "codemirror_mode": {
    "name": "ipython",
    "version": 3
   },
   "file_extension": ".py",
   "mimetype": "text/x-python",
   "name": "python",
   "nbconvert_exporter": "python",
   "pygments_lexer": "ipython3",
   "version": "3.8.8"
  }
 },
 "nbformat": 4,
 "nbformat_minor": 4
}
