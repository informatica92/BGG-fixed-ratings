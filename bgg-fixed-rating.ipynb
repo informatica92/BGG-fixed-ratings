{
 "cells": [
  {
   "cell_type": "code",
   "execution_count": 1,
   "metadata": {},
   "outputs": [],
   "source": [
    "# ## BGG API\n",
    "# https://www.boardgamegeek.com/xmlapi2/thing?id=161599&comments=1\n",
    "# https://www.boardgamegeek.com/xmlapi2/hot?type=boardgame\n",
    "# ## NLP WITH TF\n",
    "# https://www.tensorflow.org/hub/tutorials/tf2_text_classification"
   ]
  },
  {
   "cell_type": "code",
   "execution_count": 2,
   "metadata": {},
   "outputs": [
    {
     "name": "stdout",
     "output_type": "stream",
     "text": [
      "Version:      2.5.0\n",
      "Eager mode:   True\n",
      "Hub version:  0.12.0\n",
      "GPU:          available\n"
     ]
    }
   ],
   "source": [
    "import tensorflow as tf\n",
    "import tensorflow_hub as hub\n",
    "from tensorflow.keras.wrappers.scikit_learn import KerasRegressor, KerasClassifier\n",
    "from sklearn.model_selection import GridSearchCV\n",
    "\n",
    "from IPython.display import HTML\n",
    "from datetime import datetime\n",
    "import matplotlib.pyplot as plt\n",
    "import pandas as pd\n",
    "import numpy as np\n",
    "import re\n",
    "\n",
    "from utilities import get_hot_data, get_comments, remove_short_comments, build_model, print_my_examples\n",
    "\n",
    "print(\"Version:     \", tf.__version__)\n",
    "print(\"Eager mode:  \", tf.executing_eagerly())\n",
    "print(\"Hub version: \", hub.__version__)\n",
    "print(\"GPU:         \", \"available\" if tf.config.list_physical_devices('GPU') else \"NOT available\")\n",
    "\n",
    "tf.get_logger().setLevel('ERROR')"
   ]
  },
  {
   "cell_type": "code",
   "execution_count": 3,
   "metadata": {},
   "outputs": [],
   "source": [
    "# tf.debugging.set_log_device_placement(True)"
   ]
  },
  {
   "cell_type": "code",
   "execution_count": 4,
   "metadata": {},
   "outputs": [],
   "source": [
    "GOOD_REVIEW_THRESHOLD = 7\n",
    "VAL_FRACTION = 0.25\n",
    "MIN_COMMENT_LEN = 25\n",
    "TOP_N = 5\n",
    "MODEL_NAME = \"https://tfhub.dev/google/tf2-preview/nnlm-en-dim50/1\"\n",
    "# MORE ABOUT MODEL NAMES: \n",
    "# \"https://tfhub.dev/google/tf2-preview/nnlm-en-dim128/1\"\n",
    "# \"https://tfhub.dev/google/tf2-preview/nnlm-en-dim128-with-normalization/1\"\n",
    "# we also tested these solutions with dimension equals to 128 but accuracy \n",
    "# is a bit lower (0.85 for 128 vs 0.86 for 50) and training sometimes stops \n",
    "# unexpectedly for memory limit\n",
    "#\n",
    "# \"https://tfhub.dev/google/tf2-preview/nnlm-en-dim50/1\"\n",
    "# \"https://tfhub.dev/google/tf2-preview/nnlm-en-dim50-with-normalization/1\"\n",
    "# there is no difference between normalization and not so we use the one \n",
    "# without normalization"
   ]
  },
  {
   "cell_type": "markdown",
   "metadata": {},
   "source": [
    "## GET DATA"
   ]
  },
  {
   "cell_type": "code",
   "execution_count": 5,
   "metadata": {},
   "outputs": [
    {
     "data": {
      "text/plain": [
       "[{'id': '307002',\n",
       "  'rank': '1',\n",
       "  'thumbnail': 'https://cf.geekdo-images.com/C9U2E51tkzLljewFEGQ74g__thumb/img/4KV3wj3NiJDgGTh3zmW0_8Ph3Zc=/fit-in/200x150/filters:strip_icc()/pic5837347.jpg',\n",
       "  'name': 'Regicide',\n",
       "  'yearpublished': '2020'},\n",
       " {'id': '337627',\n",
       "  'rank': '2',\n",
       "  'thumbnail': 'https://cf.geekdo-images.com/hItZjdDTNuaCZ7fEztwcUQ__thumb/img/Ov6eWR87PZ2O1XYQtXMO6KvfzOg=/fit-in/200x150/filters:strip_icc()/pic6153324.jpg',\n",
       "  'name': 'Voidfall',\n",
       "  'yearpublished': '2022'}]"
      ]
     },
     "execution_count": 5,
     "metadata": {},
     "output_type": "execute_result"
    }
   ],
   "source": [
    "hot_array = get_hot_data()\n",
    "hot_array[:2]"
   ]
  },
  {
   "cell_type": "code",
   "execution_count": 6,
   "metadata": {},
   "outputs": [],
   "source": [
    "def get_game_by_id(game_id, field='name'):\n",
    "    for a in hot_array:\n",
    "        if a['id'] == str(game_id):\n",
    "            return a[field]"
   ]
  },
  {
   "cell_type": "code",
   "execution_count": 7,
   "metadata": {},
   "outputs": [
    {
     "name": "stdout",
     "output_type": "stream",
     "text": [
      "missing csv file, getting new data using API...\n",
      "page number = 10 (max: 100, len: 29)\n",
      "page number = 20 (max: 100, len: 23)\n",
      "page number = 30 (max: 100, len: 18)\n",
      "page number = 40 (max: 100, len: 12)\n",
      "page number = 50 (max: 100, len: 9)\n",
      "page number = 60 (max: 100, len: 5)\n",
      "page number = 70 (max: 100, len: 5)\n",
      "page number = 80 (max: 100, len: 4)\n",
      "page number = 90 (max: 100, len: 3)\n",
      "page number = 100 (max: 100, len: 1)\n",
      "comments_df shape: (124411, 4)\n"
     ]
    },
    {
     "data": {
      "text/html": [
       "<div>\n",
       "<style scoped>\n",
       "    .dataframe tbody tr th:only-of-type {\n",
       "        vertical-align: middle;\n",
       "    }\n",
       "\n",
       "    .dataframe tbody tr th {\n",
       "        vertical-align: top;\n",
       "    }\n",
       "\n",
       "    .dataframe thead th {\n",
       "        text-align: right;\n",
       "    }\n",
       "</style>\n",
       "<table border=\"1\" class=\"dataframe\">\n",
       "  <thead>\n",
       "    <tr style=\"text-align: right;\">\n",
       "      <th></th>\n",
       "      <th>id</th>\n",
       "      <th>username</th>\n",
       "      <th>rating</th>\n",
       "      <th>value</th>\n",
       "    </tr>\n",
       "  </thead>\n",
       "  <tbody>\n",
       "    <tr>\n",
       "      <th>0</th>\n",
       "      <td>307002</td>\n",
       "      <td>AgentMeat</td>\n",
       "      <td>2</td>\n",
       "      <td>only solo, played with normal deck of cards, s...</td>\n",
       "    </tr>\n",
       "    <tr>\n",
       "      <th>1</th>\n",
       "      <td>307002</td>\n",
       "      <td>Akuden</td>\n",
       "      <td>8</td>\n",
       "      <td>Kickstarted. Tried out the game solo and at 2 ...</td>\n",
       "    </tr>\n",
       "    <tr>\n",
       "      <th>2</th>\n",
       "      <td>307002</td>\n",
       "      <td>amqueue</td>\n",
       "      <td>N/A</td>\n",
       "      <td>kickstarter</td>\n",
       "    </tr>\n",
       "    <tr>\n",
       "      <th>3</th>\n",
       "      <td>307002</td>\n",
       "      <td>andrewkapish</td>\n",
       "      <td>N/A</td>\n",
       "      <td>Unplayed</td>\n",
       "    </tr>\n",
       "    <tr>\n",
       "      <th>4</th>\n",
       "      <td>307002</td>\n",
       "      <td>Angelo the Magician</td>\n",
       "      <td>9</td>\n",
       "      <td>I  only play the solo version and that one is ...</td>\n",
       "    </tr>\n",
       "    <tr>\n",
       "      <th>...</th>\n",
       "      <td>...</td>\n",
       "      <td>...</td>\n",
       "      <td>...</td>\n",
       "      <td>...</td>\n",
       "    </tr>\n",
       "    <tr>\n",
       "      <th>124406</th>\n",
       "      <td>167791</td>\n",
       "      <td>z_zadar</td>\n",
       "      <td>9</td>\n",
       "      <td>Some games are so much fun. Others can be a li...</td>\n",
       "    </tr>\n",
       "    <tr>\n",
       "      <th>124407</th>\n",
       "      <td>167791</td>\n",
       "      <td>_Czid_</td>\n",
       "      <td>8</td>\n",
       "      <td>Have played with Elysium and Prelude expansion...</td>\n",
       "    </tr>\n",
       "    <tr>\n",
       "      <th>124408</th>\n",
       "      <td>167791</td>\n",
       "      <td>_Marty_</td>\n",
       "      <td>9.5</td>\n",
       "      <td>Fantastic game. With so many cards that can ch...</td>\n",
       "    </tr>\n",
       "    <tr>\n",
       "      <th>124409</th>\n",
       "      <td>167791</td>\n",
       "      <td>_mun_</td>\n",
       "      <td>10</td>\n",
       "      <td>Nagyon izgalmas játék, jó a mechanizmusa. A sz...</td>\n",
       "    </tr>\n",
       "    <tr>\n",
       "      <th>124410</th>\n",
       "      <td>167791</td>\n",
       "      <td>_The_Inquiry_</td>\n",
       "      <td>5</td>\n",
       "      <td>Prior to 2020: 2 plays  TM is one of those gam...</td>\n",
       "    </tr>\n",
       "  </tbody>\n",
       "</table>\n",
       "<p>124411 rows × 4 columns</p>\n",
       "</div>"
      ],
      "text/plain": [
       "            id             username rating  \\\n",
       "0       307002            AgentMeat      2   \n",
       "1       307002               Akuden      8   \n",
       "2       307002              amqueue    N/A   \n",
       "3       307002         andrewkapish    N/A   \n",
       "4       307002  Angelo the Magician      9   \n",
       "...        ...                  ...    ...   \n",
       "124406  167791              z_zadar      9   \n",
       "124407  167791               _Czid_      8   \n",
       "124408  167791              _Marty_    9.5   \n",
       "124409  167791                _mun_     10   \n",
       "124410  167791        _The_Inquiry_      5   \n",
       "\n",
       "                                                    value  \n",
       "0       only solo, played with normal deck of cards, s...  \n",
       "1       Kickstarted. Tried out the game solo and at 2 ...  \n",
       "2                                             kickstarter  \n",
       "3                                                Unplayed  \n",
       "4       I  only play the solo version and that one is ...  \n",
       "...                                                   ...  \n",
       "124406  Some games are so much fun. Others can be a li...  \n",
       "124407  Have played with Elysium and Prelude expansion...  \n",
       "124408  Fantastic game. With so many cards that can ch...  \n",
       "124409  Nagyon izgalmas játék, jó a mechanizmusa. A sz...  \n",
       "124410  Prior to 2020: 2 plays  TM is one of those gam...  \n",
       "\n",
       "[124411 rows x 4 columns]"
      ]
     },
     "execution_count": 7,
     "metadata": {},
     "output_type": "execute_result"
    }
   ],
   "source": [
    "try:\n",
    "    comments_df = pd.read_csv(f\"comments_{datetime.now().strftime('%Y%m%d')}.csv\")\n",
    "    comments_df['rating'] = comments_df.rating.fillna('N/A')\n",
    "    print(\"reading dataframe from csv file...\")\n",
    "except:\n",
    "    print(\"missing csv file, getting new data using API...\")\n",
    "    comments_df = get_comments(hot_array, verbose=10)\n",
    "    comments_df.to_csv(f\"comments_{datetime.now().strftime('%Y%m%d')}.csv\", index=False)\n",
    "comments_df"
   ]
  },
  {
   "cell_type": "markdown",
   "metadata": {},
   "source": [
    "## DATA CLEANING"
   ]
  },
  {
   "cell_type": "code",
   "execution_count": 8,
   "metadata": {},
   "outputs": [],
   "source": [
    "# probably we should keep all the ratings (no matters the len) and remove only the simple comments under a certain len  \n",
    "comments_df[\"value\"] = comments_df[\"value\"].astype(str)"
   ]
  },
  {
   "cell_type": "code",
   "execution_count": 9,
   "metadata": {},
   "outputs": [
    {
     "name": "stdout",
     "output_type": "stream",
     "text": [
      "removed 19591 for 'remove_short_comments' - min len: 25 - method: unrated\n"
     ]
    }
   ],
   "source": [
    "# REMOVE URLs FROM COMMENTS\n",
    "comments_df['value'] = [re.sub(r\"http\\S+\", \"\", v) for v in comments_df.value.values]\n",
    "comments_df = remove_short_comments(comments_df, MIN_COMMENT_LEN)"
   ]
  },
  {
   "cell_type": "code",
   "execution_count": 10,
   "metadata": {},
   "outputs": [],
   "source": [
    "# REMOVE NON ENGLISH COMMENTS\n",
    "# !conda install -c conda-forge langdetect\n",
    "# def add_comments_lang(df: pd.DataFrame):\n",
    "#     df_local = df.copy()\n",
    "#     df_local['lang'] = df['value'].apply(detect)\n",
    "#     return df_local.reset_index(drop=True)\n",
    "# comments_df = add_comments_lang(comments_df)\n",
    "# comments_df = comments_df.query('lang == \"en\"')"
   ]
  },
  {
   "cell_type": "markdown",
   "metadata": {},
   "source": [
    "## SPLIT RATED AND NON-RATED COMMENTS"
   ]
  },
  {
   "cell_type": "code",
   "execution_count": 11,
   "metadata": {},
   "outputs": [
    {
     "data": {
      "text/plain": [
       "9        19953\n",
       "10       19176\n",
       "8        17764\n",
       "7         9324\n",
       "N/A       8095\n",
       "         ...  \n",
       "9.372        1\n",
       "8.459        1\n",
       "8.09         1\n",
       "1.62         1\n",
       "6.011        1\n",
       "Name: rating, Length: 608, dtype: int64"
      ]
     },
     "execution_count": 11,
     "metadata": {},
     "output_type": "execute_result"
    }
   ],
   "source": [
    "# count number of comments per rating (N/A included)\n",
    "comments_df.rating.value_counts()"
   ]
  },
  {
   "cell_type": "code",
   "execution_count": 12,
   "metadata": {},
   "outputs": [
    {
     "data": {
      "text/plain": [
       "(96725, 5)"
      ]
     },
     "execution_count": 12,
     "metadata": {},
     "output_type": "execute_result"
    }
   ],
   "source": [
    "# get rated comments only\n",
    "rated_comments = comments_df.query('rating != \"N/A\"')\n",
    "rated_comments.shape"
   ]
  },
  {
   "cell_type": "code",
   "execution_count": 13,
   "metadata": {},
   "outputs": [
    {
     "data": {
      "text/plain": [
       "(8095, 5)"
      ]
     },
     "execution_count": 13,
     "metadata": {},
     "output_type": "execute_result"
    }
   ],
   "source": [
    "# get non rated comments only\n",
    "not_rated_comments = comments_df.query('rating == \"N/A\"').reset_index(drop=True)\n",
    "not_rated_comments.shape"
   ]
  },
  {
   "cell_type": "markdown",
   "metadata": {},
   "source": [
    "## CREATE TRAINING AND VALIDATION DATA"
   ]
  },
  {
   "cell_type": "code",
   "execution_count": 14,
   "metadata": {},
   "outputs": [],
   "source": [
    "# use rated comments (reviews) to train the model"
   ]
  },
  {
   "cell_type": "code",
   "execution_count": 15,
   "metadata": {},
   "outputs": [],
   "source": [
    "rated_comments = rated_comments.sample(frac=1)"
   ]
  },
  {
   "cell_type": "code",
   "execution_count": 16,
   "metadata": {},
   "outputs": [],
   "source": [
    "# create training X and y\n",
    "train_examples = list(rated_comments.value)\n",
    "train_labels = list((rated_comments.rating.astype(float)>=GOOD_REVIEW_THRESHOLD).astype(int))"
   ]
  },
  {
   "cell_type": "code",
   "execution_count": 17,
   "metadata": {},
   "outputs": [
    {
     "name": "stdout",
     "output_type": "stream",
     "text": [
      "example of positive rating:\n"
     ]
    },
    {
     "data": {
      "text/plain": [
       "'2020 10x10'"
      ]
     },
     "execution_count": 17,
     "metadata": {},
     "output_type": "execute_result"
    }
   ],
   "source": [
    "print(\"example of positive rating:\")\n",
    "train_examples[train_labels.index(1)]"
   ]
  },
  {
   "cell_type": "code",
   "execution_count": 18,
   "metadata": {},
   "outputs": [
    {
     "name": "stdout",
     "output_type": "stream",
     "text": [
      "example of negative rating:\n"
     ]
    },
    {
     "data": {
      "text/plain": [
       "'[05/06/2020] Rating: 6 Sin negar que sea un gran juego, hay algo que no me termina de convencer, seguramente es que se me hace algo largo. Las mecánicas están bien combinadas, rutas, gestión de recursos, selección de acciones, deck building y el curioso sistema de puntuación final con las cartas (me gusta ese concepto) pero me resulta seco en general, no diré que no a una partida pero seguramente nunca sea mi opción'"
      ]
     },
     "execution_count": 18,
     "metadata": {},
     "output_type": "execute_result"
    }
   ],
   "source": [
    "print(\"example of negative rating:\")\n",
    "train_examples[train_labels.index(0)]"
   ]
  },
  {
   "cell_type": "markdown",
   "metadata": {},
   "source": [
    "## COMPOSE MODEL"
   ]
  },
  {
   "cell_type": "code",
   "execution_count": 19,
   "metadata": {},
   "outputs": [],
   "source": [
    "hub_layer = hub.KerasLayer(MODEL_NAME, input_shape=[], dtype=tf.string, trainable=True)"
   ]
  },
  {
   "cell_type": "markdown",
   "metadata": {},
   "source": [
    "## CLASSIFIER"
   ]
  },
  {
   "cell_type": "code",
   "execution_count": 20,
   "metadata": {},
   "outputs": [
    {
     "name": "stdout",
     "output_type": "stream",
     "text": [
      "Epoch 1/100\n",
      "48/48 - 5s - loss: 0.6402 - accuracy: 0.6264 - val_loss: 0.5160 - val_accuracy: 0.8463\n",
      "Epoch 2/100\n",
      "48/48 - 3s - loss: 0.4722 - accuracy: 0.8558 - val_loss: 0.4316 - val_accuracy: 0.8576\n",
      "Epoch 3/100\n",
      "48/48 - 3s - loss: 0.3870 - accuracy: 0.8615 - val_loss: 0.3638 - val_accuracy: 0.8638\n",
      "Epoch 4/100\n",
      "48/48 - 3s - loss: 0.3188 - accuracy: 0.8794 - val_loss: 0.3265 - val_accuracy: 0.8749\n",
      "Epoch 5/100\n",
      "48/48 - 3s - loss: 0.2756 - accuracy: 0.8951 - val_loss: 0.3110 - val_accuracy: 0.8803\n",
      "Epoch 6/100\n",
      "48/48 - 3s - loss: 0.2457 - accuracy: 0.9064 - val_loss: 0.3060 - val_accuracy: 0.8807\n",
      "Epoch 7/100\n",
      "48/48 - 3s - loss: 0.2232 - accuracy: 0.9152 - val_loss: 0.3076 - val_accuracy: 0.8795\n",
      "Epoch 8/100\n",
      "48/48 - 3s - loss: 0.2041 - accuracy: 0.9229 - val_loss: 0.3139 - val_accuracy: 0.8779\n",
      "Epoch 9/100\n",
      "48/48 - 3s - loss: 0.1882 - accuracy: 0.9301 - val_loss: 0.3211 - val_accuracy: 0.8736\n",
      "Epoch 10/100\n",
      "48/48 - 3s - loss: 0.1739 - accuracy: 0.9365 - val_loss: 0.3324 - val_accuracy: 0.8718\n",
      "32/32 - 0s - loss: 0.3333 - accuracy: 0.8731\n",
      "Epoch 1/100\n",
      "48/48 - 3s - loss: 0.5164 - accuracy: 0.8513 - val_loss: 0.4438 - val_accuracy: 0.8583\n",
      "Epoch 2/100\n",
      "48/48 - 3s - loss: 0.3882 - accuracy: 0.8597 - val_loss: 0.3517 - val_accuracy: 0.8648\n",
      "Epoch 3/100\n",
      "48/48 - 3s - loss: 0.3088 - accuracy: 0.8788 - val_loss: 0.3160 - val_accuracy: 0.8777\n",
      "Epoch 4/100\n",
      "48/48 - 3s - loss: 0.2649 - accuracy: 0.8966 - val_loss: 0.3027 - val_accuracy: 0.8841\n",
      "Epoch 5/100\n",
      "48/48 - 3s - loss: 0.2347 - accuracy: 0.9093 - val_loss: 0.3014 - val_accuracy: 0.8852\n",
      "Epoch 6/100\n",
      "48/48 - 3s - loss: 0.2110 - accuracy: 0.9184 - val_loss: 0.3059 - val_accuracy: 0.8836\n",
      "Epoch 7/100\n",
      "48/48 - 3s - loss: 0.1918 - accuracy: 0.9271 - val_loss: 0.3147 - val_accuracy: 0.8813\n",
      "Epoch 8/100\n",
      "48/48 - 3s - loss: 0.1751 - accuracy: 0.9335 - val_loss: 0.3284 - val_accuracy: 0.8789\n",
      "Epoch 9/100\n",
      "48/48 - 3s - loss: 0.1611 - accuracy: 0.9394 - val_loss: 0.3427 - val_accuracy: 0.8735\n",
      "Epoch 10/100\n",
      "48/48 - 3s - loss: 0.1493 - accuracy: 0.9442 - val_loss: 0.3606 - val_accuracy: 0.8723\n",
      "32/32 - 0s - loss: 0.3614 - accuracy: 0.8710\n",
      "Epoch 1/100\n",
      "48/48 - 3s - loss: 0.5800 - accuracy: 0.7677 - val_loss: 0.4935 - val_accuracy: 0.8542\n",
      "Epoch 2/100\n",
      "48/48 - 3s - loss: 0.4413 - accuracy: 0.8571 - val_loss: 0.4002 - val_accuracy: 0.8569\n",
      "Epoch 3/100\n",
      "48/48 - 3s - loss: 0.3528 - accuracy: 0.8588 - val_loss: 0.3428 - val_accuracy: 0.8592\n",
      "Epoch 4/100\n",
      "48/48 - 3s - loss: 0.3001 - accuracy: 0.8714 - val_loss: 0.3208 - val_accuracy: 0.8730\n",
      "Epoch 5/100\n",
      "48/48 - 3s - loss: 0.2663 - accuracy: 0.8933 - val_loss: 0.3103 - val_accuracy: 0.8804\n",
      "Epoch 6/100\n",
      "48/48 - 3s - loss: 0.2388 - accuracy: 0.9073 - val_loss: 0.3086 - val_accuracy: 0.8794\n",
      "Epoch 7/100\n",
      "48/48 - 3s - loss: 0.2162 - accuracy: 0.9173 - val_loss: 0.3132 - val_accuracy: 0.8785\n",
      "Epoch 8/100\n",
      "48/48 - 3s - loss: 0.1974 - accuracy: 0.9245 - val_loss: 0.3206 - val_accuracy: 0.8760\n",
      "Epoch 9/100\n",
      "48/48 - 3s - loss: 0.1812 - accuracy: 0.9315 - val_loss: 0.3315 - val_accuracy: 0.8723\n",
      "Epoch 10/100\n",
      "48/48 - 3s - loss: 0.1680 - accuracy: 0.9376 - val_loss: 0.3443 - val_accuracy: 0.8687\n",
      "32/32 - 0s - loss: 0.3372 - accuracy: 0.8712\n",
      "Epoch 1/100\n",
      "71/71 - 5s - loss: 0.4865 - accuracy: 0.8442 - val_loss: 0.3954 - val_accuracy: 0.8600\n",
      "Epoch 2/100\n",
      "71/71 - 4s - loss: 0.3371 - accuracy: 0.8744 - val_loss: 0.3224 - val_accuracy: 0.8771\n",
      "Epoch 3/100\n",
      "71/71 - 4s - loss: 0.2771 - accuracy: 0.8930 - val_loss: 0.3033 - val_accuracy: 0.8818\n",
      "Epoch 4/100\n",
      "71/71 - 4s - loss: 0.2455 - accuracy: 0.9052 - val_loss: 0.2987 - val_accuracy: 0.8842\n",
      "Epoch 5/100\n",
      "71/71 - 4s - loss: 0.2233 - accuracy: 0.9138 - val_loss: 0.3024 - val_accuracy: 0.8826\n",
      "Epoch 6/100\n",
      "71/71 - 4s - loss: 0.2051 - accuracy: 0.9217 - val_loss: 0.3107 - val_accuracy: 0.8803\n",
      "Epoch 7/100\n",
      "71/71 - 4s - loss: 0.1906 - accuracy: 0.9272 - val_loss: 0.3215 - val_accuracy: 0.8781\n",
      "Epoch 8/100\n",
      "71/71 - 4s - loss: 0.1780 - accuracy: 0.9329 - val_loss: 0.3373 - val_accuracy: 0.8778\n",
      "Epoch 9/100\n",
      "71/71 - 4s - loss: 0.1678 - accuracy: 0.9371 - val_loss: 0.3486 - val_accuracy: 0.8707\n"
     ]
    },
    {
     "data": {
      "text/plain": [
       "GridSearchCV(cv=3,\n",
       "             estimator=<tensorflow.python.keras.wrappers.scikit_learn.KerasClassifier object at 0x000002ED0EF8BEB0>,\n",
       "             param_grid={})"
      ]
     },
     "execution_count": 20,
     "metadata": {},
     "output_type": "execute_result"
    }
   ],
   "source": [
    "def build_classifier():\n",
    "    return build_model(hub_layer=None, pre_trained_model_name=MODEL_NAME, model_type='classifier', verbose=0)\n",
    "\n",
    "\n",
    "estimator = KerasClassifier(build_fn=build_classifier, epochs=100, batch_size=1024, verbose=2, validation_split=VAL_FRACTION)\n",
    "x_train_clf = np.array(list(rated_comments.value))\n",
    "y_train_clf = np.array(list((rated_comments.rating.astype(float)>=GOOD_REVIEW_THRESHOLD).astype(int)))\n",
    "\n",
    "clf = GridSearchCV(\n",
    "    estimator, \n",
    "    cv=3, \n",
    "    param_grid={}\n",
    ")\n",
    "clf.fit(x_train_clf, y_train_clf, callbacks=[tf.keras.callbacks.EarlyStopping(monitor='val_accuracy', patience=5, min_delta=0.001)])"
   ]
  },
  {
   "cell_type": "code",
   "execution_count": 21,
   "metadata": {},
   "outputs": [],
   "source": [
    "classifier = clf.best_estimator_\n",
    "classifier_history_dict = classifier.model.history.history"
   ]
  },
  {
   "cell_type": "code",
   "execution_count": 22,
   "metadata": {},
   "outputs": [
    {
     "data": {
      "text/plain": [
       "dict_keys(['loss', 'accuracy', 'val_loss', 'val_accuracy'])"
      ]
     },
     "execution_count": 22,
     "metadata": {},
     "output_type": "execute_result"
    }
   ],
   "source": [
    "classifier_history_dict.keys()"
   ]
  },
  {
   "cell_type": "code",
   "execution_count": 23,
   "metadata": {},
   "outputs": [],
   "source": [
    "acc = classifier_history_dict['accuracy']\n",
    "val_acc = classifier_history_dict['val_accuracy']\n",
    "loss = classifier_history_dict['loss']\n",
    "val_loss = classifier_history_dict['val_loss']"
   ]
  },
  {
   "cell_type": "code",
   "execution_count": 24,
   "metadata": {},
   "outputs": [],
   "source": [
    "epochs = range(1, len(acc) + 1) "
   ]
  },
  {
   "cell_type": "code",
   "execution_count": 25,
   "metadata": {},
   "outputs": [
    {
     "data": {
      "image/png": "[encoded data removed]",
      "text/plain": [
       "<Figure size 648x360 with 1 Axes>"
      ]
     },
     "metadata": {
      "needs_background": "light"
     },
     "output_type": "display_data"
    }
   ],
   "source": [
    "# \"bo\" is for \"blue dot\"\n",
    "plt.figure(figsize=(9, 5))\n",
    "plt.plot(epochs, loss, 'bo', label='Training loss')\n",
    "# b is for \"solid blue line\"\n",
    "plt.plot(epochs, val_loss, 'b', label='Validation loss')\n",
    "plt.title('Training and validation loss')\n",
    "plt.xlabel('Epochs')\n",
    "plt.ylabel('Loss')\n",
    "plt.grid(True)\n",
    "plt.legend()\n",
    "\n",
    "plt.show()"
   ]
  },
  {
   "cell_type": "code",
   "execution_count": 26,
   "metadata": {},
   "outputs": [
    {
     "data": {
      "image/png": "[encoded data removed]",
      "text/plain": [
       "<Figure size 648x360 with 1 Axes>"
      ]
     },
     "metadata": {
      "needs_background": "light"
     },
     "output_type": "display_data"
    }
   ],
   "source": [
    "plt.figure(figsize=(9, 5))\n",
    "plt.plot(epochs, acc, 'bo', label='Training acc')\n",
    "plt.plot(epochs, val_acc, 'b', label='Validation acc')\n",
    "plt.title('Training and validation accuracy')\n",
    "plt.xlabel('Epochs')\n",
    "plt.ylabel('Accuracy')\n",
    "plt.grid(True)\n",
    "plt.legend()\n",
    "\n",
    "plt.show()"
   ]
  },
  {
   "cell_type": "code",
   "execution_count": 27,
   "metadata": {},
   "outputs": [
    {
     "name": "stdout",
     "output_type": "stream",
     "text": [
      "input:\n",
      "\"2020 10x10\"\n",
      "score: 1.000000\n",
      "actual: 1\n",
      "\n",
      "input:\n",
      "\"3/3/5/5/5  21/25\"\n",
      "score: 1.000000\n",
      "actual: 1\n",
      "\n",
      "input:\n",
      "\"This game has lived up to its reputation with me and my gaming group. I would play it every night if we could get together.\"\n",
      "score: 1.000000\n",
      "actual: 1\n",
      "\n",
      "input:\n",
      "\"Not bad at all... I usually loathe press your luck games... but this one is so well designed it's hard for me to find fault in it, and in fact I find myself jumping at the chance to play when others offer whereas usually I’d cringe. I enjoyed it far more than I anticipated, and most of my quibbles are matters of personal taste as opposed to objective flaws. I still think the intrinsic vices of Press Your Luck genre games are there... higher chances of rewarding foolish risks and randomly punishing smart plays than is desireable... but a vareity of fairly deep strategic elements along with some catch-up mechanics work to make sure smart play is rewarded while no player falls too desperately behind easily... the bag building mechanic also works well for allowing you to know and calculate your own probabilities, to some extent making it less “press your luck” as “play your odds”... anyone who can count cards will find it simple to convert the RNG mechanic from “gambling” to more like “calculating”. I'll confess there are some clarity issues with the guide book, needed to turn to the internet a number of times for errata. The play group also unanimously agreed that the \"bonus die\" feature seems flawed... as there's already ample motive to push for the highest score and the Rat-tail mechanic doesn't REALLY make up a trailing score enough, it seems like the bonus die should go to the LOSING player rather than the winning one... The fortune teller cards can also lead to excessively large advantages out of the blue... our first match's winner was definitely altered due to the one pulled in the final round. Regardless, it's much more fair and predictable than most titles in this niche. As a bonus, it also has varied setup rule variants to add considerable to keep the expereince fresher than it would otherwise be. Ultimately, again, not really my sort of title, but that probably is real testament to how much I enjoy it regard and I’d say it objectively deserves the score I gave it if not higher... it’s just hard to deny it's very well designed... well worth consideration if it's your sort of title.\"\n",
      "score: 1.000000\n",
      "actual: 1\n",
      "\n",
      "input:\n",
      "\"Recommended 2,1,4\"\n",
      "score: 1.000000\n",
      "actual: 1\n",
      "\n",
      "input:\n",
      "\"very simple to learn but there's many strategies and moving parts involved\"\n",
      "score: 1.000000\n",
      "actual: 1\n",
      "\n",
      "input:\n",
      "\"Great Game, will be playing this one for the long term - All in.\"\n",
      "score: 1.000000\n",
      "actual: 1\n",
      "\n",
      "input:\n",
      "\"I did not expect to love Terraforming Mars as much as I have. I often find board games repetitive after awhile and get bored waiting for the game to end. I actually didn't get into the game until about a month or two after my family had been playing with it, because what I overheard sounded interesting. And, now I'm as hooked as the rest of them. The cards keep the game dynamic so that it's a different experience each time, even if you play similar strategies. I love this aspect of the game.\"\n",
      "score: 1.000000\n",
      "actual: 1\n",
      "\n",
      "input:\n",
      "\"Thematic-science-nerd-gasm! One of those games that is easily to pick up but complex and addictive as hell. The cards are one fine machinery of possibilities. I love to play it again and again and again...\"\n",
      "score: 1.000000\n",
      "actual: 1\n",
      "\n",
      "input:\n",
      "\"Excellent components! BEST artwork, less like the movies and more like old Tolkien book art.  [I]It is precious to me, though I buy it with great pain[/I].\"\n",
      "score: 1.000000\n",
      "actual: 1\n"
     ]
    },
    {
     "name": "stderr",
     "output_type": "stream",
     "text": [
      "C:\\Users\\dev999\\.conda\\envs\\tensorflow2\\lib\\site-packages\\tensorflow\\python\\keras\\engine\\sequential.py:455: UserWarning: `model.predict_classes()` is deprecated and will be removed after 2021-01-01. Please use instead:* `np.argmax(model.predict(x), axis=-1)`,   if your model does multi-class classification   (e.g. if it uses a `softmax` last-layer activation).* `(model.predict(x) > 0.5).astype(\"int32\")`,   if your model does binary classification   (e.g. if it uses a `sigmoid` last-layer activation).\n",
      "  warnings.warn('`model.predict_classes()` is deprecated and '\n"
     ]
    }
   ],
   "source": [
    "inputs = x_train_clf[:10]\n",
    "outputs = y_train_clf[:10]\n",
    "results = classifier.predict(tf.constant(inputs), verbose=0)\n",
    "print_my_examples(inputs, results, outputs)"
   ]
  },
  {
   "cell_type": "code",
   "execution_count": 28,
   "metadata": {},
   "outputs": [],
   "source": [
    "## APPLY MODEL ON NON-RATED COMMENTS"
   ]
  },
  {
   "cell_type": "code",
   "execution_count": 29,
   "metadata": {},
   "outputs": [
    {
     "name": "stdout",
     "output_type": "stream",
     "text": [
      "8/8 - 0s\n",
      "input:\n",
      "\"Boards and map came severely warped.\"\n",
      "score: 0.000000\n",
      "\n",
      "input:\n",
      "\"Aquired April 2019. Traded away March 2020\"\n",
      "score: 1.000000\n",
      "\n",
      "input:\n",
      "\"Own two copies combined, second set has markers repainted to allow play for 2-8 players\"\n",
      "score: 1.000000\n",
      "\n",
      "input:\n",
      "\"Gekocht na Kickstarter als pre-order samen met andere Brass-spel voor CAD 155,- // 115 Euro,- incl verzendkosten\"\n",
      "score: 1.000000\n",
      "\n",
      "input:\n",
      "\"W/ vagabond pack and resin clearing markers\"\n",
      "score: 1.000000\n",
      "\n",
      "input:\n",
      "\"Egypte & Crète Baléares & Chypre Gaule & Corse Britannia & Germanie Salsa Venus\"\n",
      "score: 1.000000\n",
      "\n",
      "input:\n",
      "\"Solo autòmata (no-oficial)  50€ - Jupiter Juegos\"\n",
      "score: 1.000000\n",
      "\n",
      "input:\n",
      "\"First play was kind of meh.  So although it says this game is 10+, it did not go well with a 10 year old.  They didn't seem to understand what cards needed to be played in the tricks to help the group win (they are familiar with trick-taking games BTW).  IMO there is a little too much logical thinking for someone at that intelligence level.  Also, perhaps I'm just not good at trick-taking games (I have Skull King) because on Mission 3 we were really scratching our heads.  It seems like most of the time it was impossible to win the scenario based on our hands.  We even tried to talk through how it should go.    Tom Vasel praised this one highly but I think it's a bit personal for him.  It is a good game, but not the best game on earth like he made it sound.  I do intend to try it again with a more mature group.   I think the best fit demographic for this game would be trick-taking veterans who want a new spin on the genre.  preordered @ GN\"\n",
      "score: 1.000000\n",
      "\n",
      "input:\n",
      "\"Kickstarter Edition with Bonus Box, Terrain Box\"\n",
      "score: 1.000000\n",
      "\n",
      "input:\n",
      "\"Kickstarter via crowdfinder - Augustus 2021 - betaald\"\n",
      "score: 1.000000\n"
     ]
    }
   ],
   "source": [
    "not_rated_comments = not_rated_comments.sample(frac=1)\n",
    "results = classifier.predict(tf.constant(list(not_rated_comments.value.astype(str))))\n",
    "print_my_examples(list(not_rated_comments.value), results, limit=10)"
   ]
  },
  {
   "cell_type": "markdown",
   "metadata": {},
   "source": [
    "## REGRESSOR"
   ]
  },
  {
   "cell_type": "code",
   "execution_count": 30,
   "metadata": {},
   "outputs": [
    {
     "data": {
      "text/plain": [
       "GridSearchCV(cv=3,\n",
       "             estimator=<tensorflow.python.keras.wrappers.scikit_learn.KerasRegressor object at 0x000002F0613C38E0>,\n",
       "             param_grid={})"
      ]
     },
     "execution_count": 30,
     "metadata": {},
     "output_type": "execute_result"
    }
   ],
   "source": [
    "def build_regressor():\n",
    "    return build_model(hub_layer, pre_trained_model_name=MODEL_NAME, model_type='regressor', verbose=0)\n",
    "\n",
    "\n",
    "estimator = KerasRegressor(build_fn=build_regressor, epochs=100, batch_size=512, verbose=0, validation_split=VAL_FRACTION)\n",
    "x_train_reg = np.array(list(rated_comments.value))\n",
    "y_train_reg = np.array(list(rated_comments.rating.astype(float)))\n",
    "\n",
    "clf = GridSearchCV(\n",
    "    estimator, \n",
    "    cv=3, \n",
    "    param_grid={}\n",
    ")\n",
    "clf.fit(x_train_reg, y_train_reg, callbacks=[tf.keras.callbacks.EarlyStopping(monitor='val_mean_squared_error', patience=5, min_delta=0.001)])"
   ]
  },
  {
   "cell_type": "code",
   "execution_count": 31,
   "metadata": {},
   "outputs": [],
   "source": [
    "regressor = clf.best_estimator_\n",
    "regressor_history_dict = regressor.model.history.history"
   ]
  },
  {
   "cell_type": "code",
   "execution_count": 32,
   "metadata": {},
   "outputs": [
    {
     "data": {
      "text/plain": [
       "dict_keys(['loss', 'mean_squared_error', 'val_loss', 'val_mean_squared_error'])"
      ]
     },
     "execution_count": 32,
     "metadata": {},
     "output_type": "execute_result"
    }
   ],
   "source": [
    "regressor_history_dict.keys()"
   ]
  },
  {
   "cell_type": "code",
   "execution_count": 33,
   "metadata": {},
   "outputs": [],
   "source": [
    "mean_squared_error = regressor_history_dict['mean_squared_error']\n",
    "val_mean_squared_error = regressor_history_dict['val_mean_squared_error']\n",
    "loss = regressor_history_dict['loss']\n",
    "val_loss = regressor_history_dict['val_loss']"
   ]
  },
  {
   "cell_type": "code",
   "execution_count": 34,
   "metadata": {},
   "outputs": [],
   "source": [
    "epochs = range(1, len(mean_squared_error) + 1) "
   ]
  },
  {
   "cell_type": "code",
   "execution_count": 35,
   "metadata": {},
   "outputs": [
    {
     "name": "stdout",
     "output_type": "stream",
     "text": [
      "MEAN SQUARED ERROR (VALIDATION SET): 2.22\n"
     ]
    }
   ],
   "source": [
    "print(f\"MEAN SQUARED ERROR (VALIDATION SET): {val_mean_squared_error[-1]:.2f}\")"
   ]
  },
  {
   "cell_type": "code",
   "execution_count": 36,
   "metadata": {},
   "outputs": [
    {
     "name": "stdout",
     "output_type": "stream",
     "text": [
      "MEAN SQUARED ERROR (TRAINING SET): 1.06\n"
     ]
    }
   ],
   "source": [
    "print(f\"MEAN SQUARED ERROR (TRAINING SET): {mean_squared_error[-1]:.2f}\")"
   ]
  },
  {
   "cell_type": "code",
   "execution_count": 37,
   "metadata": {},
   "outputs": [
    {
     "data": {
      "image/png": "[encoded data removed]",
      "text/plain": [
       "<Figure size 648x360 with 1 Axes>"
      ]
     },
     "metadata": {
      "needs_background": "light"
     },
     "output_type": "display_data"
    }
   ],
   "source": [
    "# \"bo\" is for \"blue dot\"\n",
    "plt.figure(figsize=(9, 5))\n",
    "plt.plot(epochs, loss, 'bo', label='Training loss')\n",
    "# b is for \"solid blue line\"\n",
    "plt.plot(epochs, val_loss, 'b', label='Validation loss')\n",
    "plt.title('Training and validation loss')\n",
    "plt.xlabel('Epochs')\n",
    "plt.ylabel('Loss')\n",
    "plt.grid(True)\n",
    "plt.legend()\n",
    "\n",
    "plt.show()"
   ]
  },
  {
   "cell_type": "code",
   "execution_count": 38,
   "metadata": {},
   "outputs": [
    {
     "data": {
      "image/png": "[encoded data removed]",
      "text/plain": [
       "<Figure size 648x360 with 1 Axes>"
      ]
     },
     "metadata": {
      "needs_background": "light"
     },
     "output_type": "display_data"
    }
   ],
   "source": [
    "plt.figure(figsize=(9, 5))\n",
    "plt.plot(epochs, mean_squared_error, 'bo', label='Training mean squared error')\n",
    "plt.plot(epochs, val_mean_squared_error, 'b', label='Validation mean squared error')\n",
    "plt.title('Training and validation accuracy')\n",
    "plt.xlabel('Epochs')\n",
    "plt.ylabel('Mean squared error')\n",
    "plt.grid(True)\n",
    "plt.legend()\n",
    "\n",
    "plt.show()"
   ]
  },
  {
   "cell_type": "code",
   "execution_count": 39,
   "metadata": {},
   "outputs": [
    {
     "name": "stdout",
     "output_type": "stream",
     "text": [
      "input: \n",
      "\"2020 10x10\"\n",
      "score: 8.66\n",
      "actual: 10.00 \n",
      "\n",
      "input: \n",
      "\"3/3/5/5/5  21/25\"\n",
      "score: 9.08\n",
      "actual: 9.50 \n",
      "\n",
      "input: \n",
      "\"This game has lived up to its reputation with me and my gaming group. I would play it every night if we could get together.\"\n",
      "score: 9.20\n",
      "actual: 10.00 \n",
      "\n",
      "input: \n",
      "\"Not bad at all... I usually loathe press your luck games... but this one is so well designed it's hard for me to find fault in it, and in fact I find myself jumping at the chance to play when others offer whereas usually I’d cringe. I enjoyed it far more than I anticipated, and most of my quibbles are matters of personal taste as opposed to objective flaws. I still think the intrinsic vices of Press Your Luck genre games are there... higher chances of rewarding foolish risks and randomly punishing smart plays than is desireable... but a vareity of fairly deep strategic elements along with some catch-up mechanics work to make sure smart play is rewarded while no player falls too desperately behind easily... the bag building mechanic also works well for allowing you to know and calculate your own probabilities, to some extent making it less “press your luck” as “play your odds”... anyone who can count cards will find it simple to convert the RNG mechanic from “gambling” to more like “calculating”. I'll confess there are some clarity issues with the guide book, needed to turn to the internet a number of times for errata. The play group also unanimously agreed that the \"bonus die\" feature seems flawed... as there's already ample motive to push for the highest score and the Rat-tail mechanic doesn't REALLY make up a trailing score enough, it seems like the bonus die should go to the LOSING player rather than the winning one... The fortune teller cards can also lead to excessively large advantages out of the blue... our first match's winner was definitely altered due to the one pulled in the final round. Regardless, it's much more fair and predictable than most titles in this niche. As a bonus, it also has varied setup rule variants to add considerable to keep the expereince fresher than it would otherwise be. Ultimately, again, not really my sort of title, but that probably is real testament to how much I enjoy it regard and I’d say it objectively deserves the score I gave it if not higher... it’s just hard to deny it's very well designed... well worth consideration if it's your sort of title.\"\n",
      "score: 8.80\n",
      "actual: 9.00 \n",
      "\n",
      "input: \n",
      "\"Recommended 2,1,4\"\n",
      "score: 10.05\n",
      "actual: 9.50 \n",
      "\n",
      "input: \n",
      "\"very simple to learn but there's many strategies and moving parts involved\"\n",
      "score: 8.64\n",
      "actual: 10.00 \n",
      "\n",
      "input: \n",
      "\"Great Game, will be playing this one for the long term - All in.\"\n",
      "score: 8.44\n",
      "actual: 9.00 \n",
      "\n",
      "input: \n",
      "\"I did not expect to love Terraforming Mars as much as I have. I often find board games repetitive after awhile and get bored waiting for the game to end. I actually didn't get into the game until about a month or two after my family had been playing with it, because what I overheard sounded interesting. And, now I'm as hooked as the rest of them. The cards keep the game dynamic so that it's a different experience each time, even if you play similar strategies. I love this aspect of the game.\"\n",
      "score: 8.24\n",
      "actual: 10.00 \n",
      "\n",
      "input: \n",
      "\"Thematic-science-nerd-gasm! One of those games that is easily to pick up but complex and addictive as hell. The cards are one fine machinery of possibilities. I love to play it again and again and again...\"\n",
      "score: 10.23\n",
      "actual: 10.00 \n",
      "\n",
      "input: \n",
      "\"Excellent components! BEST artwork, less like the movies and more like old Tolkien book art.  [I]It is precious to me, though I buy it with great pain[/I].\"\n",
      "score: 8.26\n",
      "actual: 10.00 \n",
      "\n"
     ]
    }
   ],
   "source": [
    "inputs = x_train_reg[:10]\n",
    "outputs = y_train_reg[:10]\n",
    "results = clf.best_estimator_.predict(tf.constant(inputs), verbose=0)\n",
    "for i in range(len(inputs)):\n",
    "    print(f\"input: \\n\\\"{inputs[i]}\\\"\\nscore: {results[i]:.2f}\\nactual: {outputs[i]:.2f} \\n\")"
   ]
  },
  {
   "cell_type": "markdown",
   "metadata": {},
   "source": [
    "## COMPARE CLASSIFIER VS REGRESSOR"
   ]
  },
  {
   "cell_type": "code",
   "execution_count": 40,
   "metadata": {},
   "outputs": [
    {
     "name": "stdout",
     "output_type": "stream",
     "text": [
      "\"more-or-less perfect condition. $35 CAD OBO. Prefer pickup in Toronto but can ship.\"\n",
      "    reg score: 7.05\n",
      "    clf score: 1\n",
      "\n",
      "\"Complexity: 3.96 # Players: Solo OK, Best is 2\"\n",
      "    reg score: 8.53\n",
      "    clf score: 1\n",
      "\n",
      "\"Kickstarter Faithful Pledge (Base Game + Tomb of Wonders) Erw. Pantheon (Kickstarter) Erw. Pharaoh (Kickstarter)\"\n",
      "    reg score: 7.37\n",
      "    clf score: 1\n",
      "\n",
      "\"Pre-Ordered last November. Excruciating wait, but it was fun reading the comments here, and viewing the reviews and playthroughs menwhile. And of course, studying the Gloomhaven Rules in November, December, January, Feb. I am just starting to play the game (Solo) and it has somehow lived up to my expectations. While unboxing and unpacking, I admired all the work that went into laying out all those punch pieces on the many, many pieces of cardboard. The manual is very good, also. While playing, it is remarkably easy to find  important details quickly.\"\n",
      "    reg score: 9.54\n",
      "    clf score: 1\n",
      "\n",
      "\"BGA online version. This plays much better online than in paper.\"\n",
      "    reg score: 8.89\n",
      "    clf score: 1\n",
      "\n",
      "\"Core Set x2 + expansions ... I'll collect for awhile, anyway.\"\n",
      "    reg score: 8.40\n",
      "    clf score: 1\n",
      "\n",
      "\"Joined fmargueirat’s group buy. Paid.\"\n",
      "    reg score: 9.75\n",
      "    clf score: 0\n",
      "\n",
      "\"2-4 Player Best 3 Player 40-70min Engine Building Bird Game\"\n",
      "    reg score: 9.61\n",
      "    clf score: 1\n",
      "\n",
      "\"Sleeved.  63.5x88, 44X67). [thing=256377]Aftermath & Void Seeders (2019)[/thing] [thing=274532]Dice Tower 2019 Promo Cards (2019)[/thing] \"\n",
      "    reg score: 9.50\n",
      "    clf score: 1\n",
      "\n",
      "\"Marvel theme is not a draw. Customizable.\"\n",
      "    reg score: 8.27\n",
      "    clf score: 0\n",
      "\n"
     ]
    },
    {
     "name": "stderr",
     "output_type": "stream",
     "text": [
      "C:\\Users\\dev999\\.conda\\envs\\tensorflow2\\lib\\site-packages\\tensorflow\\python\\keras\\engine\\sequential.py:455: UserWarning: `model.predict_classes()` is deprecated and will be removed after 2021-01-01. Please use instead:* `np.argmax(model.predict(x), axis=-1)`,   if your model does multi-class classification   (e.g. if it uses a `softmax` last-layer activation).* `(model.predict(x) > 0.5).astype(\"int32\")`,   if your model does binary classification   (e.g. if it uses a `sigmoid` last-layer activation).\n",
      "  warnings.warn('`model.predict_classes()` is deprecated and '\n"
     ]
    }
   ],
   "source": [
    "not_rated_comments = not_rated_comments.sample(frac=1)\n",
    "inputs = list(not_rated_comments.value.astype(str))[:10]\n",
    "\n",
    "clf_results = classifier.predict(inputs, verbose=0)\n",
    "reg_results = regressor.predict(inputs, verbose=0)\n",
    "for i in range(len(inputs)):\n",
    "    print(f\"\"\"\\\"{inputs[i]}\\\"\n",
    "    reg score: {reg_results[i]:.2f}\n",
    "    clf score: {clf_results[i][0]}\n",
    "\"\"\")"
   ]
  },
  {
   "cell_type": "markdown",
   "metadata": {},
   "source": [
    "### RESULTS\n",
    "It seems that the regressor is much more accurate compared to the binary classifier => **let's use the regressors results to fix the BGG rating**"
   ]
  },
  {
   "cell_type": "markdown",
   "metadata": {},
   "source": [
    "## COMBINE RATED COMMENTS AND NOT-RATED COMMENTS WITH PREDICTED RATING"
   ]
  },
  {
   "cell_type": "code",
   "execution_count": 41,
   "metadata": {},
   "outputs": [
    {
     "name": "stdout",
     "output_type": "stream",
     "text": [
      "rated_comments_grouped: \n",
      "|     id |   rating_mean |   rating_count |\n",
      "|--------|---------------|----------------|\n",
      "| 115746 |          8.73 |           1949 |\n",
      "| 124361 |          8.19 |           3971 |\n",
      "| 162886 |          8.37 |           3722 |\n",
      "| 167355 |          8.42 |           2022 |\n",
      "| 167791 |          8.20 |           8544 |\n"
     ]
    }
   ],
   "source": [
    "rated_comments['rating'] = rated_comments.rating.astype(float)\n",
    "rated_comments_grouped = rated_comments.groupby('id').agg({'rating': ['mean', 'count']})\n",
    "rated_comments_grouped.columns = list(rated_comments_grouped.columns.map('_'.join))\n",
    "rated_comments_grouped = rated_comments_grouped.reset_index()\n",
    "print(\"rated_comments_grouped: \")\n",
    "print(rated_comments_grouped.head().to_markdown(index=False, floatfmt='.2f', tablefmt='github'))"
   ]
  },
  {
   "cell_type": "code",
   "execution_count": 42,
   "metadata": {},
   "outputs": [],
   "source": [
    "not_rated_comments['rating'] = regressor.predict(list(not_rated_comments.value.astype(str)))"
   ]
  },
  {
   "cell_type": "code",
   "execution_count": 43,
   "metadata": {},
   "outputs": [
    {
     "name": "stdout",
     "output_type": "stream",
     "text": [
      "not_rated_comments_grouped: \n",
      "|     id |   rating_mean |   rating_count |\n",
      "|--------|---------------|----------------|\n",
      "| 115746 |          8.37 |            266 |\n",
      "| 124361 |          8.14 |            258 |\n",
      "| 162886 |          8.08 |            327 |\n",
      "| 167355 |          8.39 |            215 |\n",
      "| 167791 |          8.31 |            455 |\n"
     ]
    }
   ],
   "source": [
    "not_rated_comments['rating'] = not_rated_comments.rating.astype(float)\n",
    "not_rated_comments['rating'] = not_rated_comments['rating'].clip(0, 10)\n",
    "not_rated_comments_grouped = not_rated_comments.groupby('id').agg({'rating': ['mean', 'count']})\n",
    "not_rated_comments_grouped.columns = list(not_rated_comments_grouped.columns.map('_'.join))\n",
    "not_rated_comments_grouped = not_rated_comments_grouped.reset_index()\n",
    "print(\"not_rated_comments_grouped: \")\n",
    "print(not_rated_comments_grouped.head().to_markdown(index=False, floatfmt='.2f', tablefmt='github'))"
   ]
  },
  {
   "cell_type": "code",
   "execution_count": 44,
   "metadata": {},
   "outputs": [],
   "source": [
    "grouped = rated_comments_grouped.merge(not_rated_comments_grouped, on='id', suffixes=('_review', '_comments'), how='outer')\n",
    "grouped['id'] = grouped.id.astype(str)\n",
    "grouped = grouped.merge(pd.DataFrame(hot_array), on='id', how='right')\n",
    "grouped['rank'] = grouped['rank'].astype(int)\n",
    "grouped['url'] = grouped['id'].apply(lambda x: f\"https://boardgamegeek.com/boardgame/{x}\")\n",
    "grouped['fixed_rating'] = (grouped['rating_mean_review']*grouped['rating_count_review']+grouped['rating_mean_comments']*grouped['rating_count_comments']) /\\\n",
    "                            (grouped['rating_count_review']+grouped['rating_count_comments'])\n",
    "grouped['thumbnail'] = grouped['thumbnail'].apply(lambda x: f'<img src=\"{x}\" width=\"124\" />')\n",
    "grouped['name'] = grouped.apply(lambda x: f'<a href=\"{x[\"url\"]}\">{x[\"name\"]}</a>', axis=1)\n",
    "\n",
    "grouped = grouped[['thumbnail', 'name', 'rating_mean_review', 'rating_mean_comments', 'fixed_rating', 'rank', 'yearpublished']]"
   ]
  },
  {
   "cell_type": "code",
   "execution_count": 45,
   "metadata": {},
   "outputs": [
    {
     "data": {
      "text/html": [
       "<div>\n",
       "<style scoped>\n",
       "    .dataframe tbody tr th:only-of-type {\n",
       "        vertical-align: middle;\n",
       "    }\n",
       "\n",
       "    .dataframe tbody tr th {\n",
       "        vertical-align: top;\n",
       "    }\n",
       "\n",
       "    .dataframe thead th {\n",
       "        text-align: right;\n",
       "    }\n",
       "</style>\n",
       "<table border=\"1\" class=\"dataframe\">\n",
       "  <thead>\n",
       "    <tr style=\"text-align: right;\">\n",
       "      <th></th>\n",
       "      <th>thumbnail</th>\n",
       "      <th>name</th>\n",
       "      <th>rating_mean_review</th>\n",
       "      <th>rating_mean_comments</th>\n",
       "      <th>fixed_rating</th>\n",
       "      <th>rank</th>\n",
       "      <th>yearpublished</th>\n",
       "    </tr>\n",
       "  </thead>\n",
       "  <tbody>\n",
       "    <tr>\n",
       "      <th>0</th>\n",
       "      <td>&lt;img src=\"https://cf.geekdo-images.com/C9U2E51...</td>\n",
       "      <td>&lt;a href=\"https://boardgamegeek.com/boardgame/3...</td>\n",
       "      <td>7.978351</td>\n",
       "      <td>8.387620</td>\n",
       "      <td>8.013720</td>\n",
       "      <td>1</td>\n",
       "      <td>2020</td>\n",
       "    </tr>\n",
       "    <tr>\n",
       "      <th>1</th>\n",
       "      <td>&lt;img src=\"https://cf.geekdo-images.com/hItZjdD...</td>\n",
       "      <td>&lt;a href=\"https://boardgamegeek.com/boardgame/3...</td>\n",
       "      <td>10.000000</td>\n",
       "      <td>8.399296</td>\n",
       "      <td>8.666080</td>\n",
       "      <td>2</td>\n",
       "      <td>2022</td>\n",
       "    </tr>\n",
       "    <tr>\n",
       "      <th>2</th>\n",
       "      <td>&lt;img src=\"https://cf.geekdo-images.com/_al0scM...</td>\n",
       "      <td>&lt;a href=\"https://boardgamegeek.com/boardgame/2...</td>\n",
       "      <td>7.514186</td>\n",
       "      <td>8.140641</td>\n",
       "      <td>7.674593</td>\n",
       "      <td>3</td>\n",
       "      <td>2021</td>\n",
       "    </tr>\n",
       "    <tr>\n",
       "      <th>3</th>\n",
       "      <td>&lt;img src=\"https://cf.geekdo-images.com/cwQZOU3...</td>\n",
       "      <td>&lt;a href=\"https://boardgamegeek.com/boardgame/3...</td>\n",
       "      <td>9.333333</td>\n",
       "      <td>9.101252</td>\n",
       "      <td>9.200716</td>\n",
       "      <td>4</td>\n",
       "      <td>2022</td>\n",
       "    </tr>\n",
       "    <tr>\n",
       "      <th>4</th>\n",
       "      <td>&lt;img src=\"https://cf.geekdo-images.com/Q96PxRV...</td>\n",
       "      <td>&lt;a href=\"https://boardgamegeek.com/boardgame/3...</td>\n",
       "      <td>7.140970</td>\n",
       "      <td>7.155785</td>\n",
       "      <td>7.141696</td>\n",
       "      <td>5</td>\n",
       "      <td>2021</td>\n",
       "    </tr>\n",
       "  </tbody>\n",
       "</table>\n",
       "</div>"
      ],
      "text/plain": [
       "                                           thumbnail  \\\n",
       "0  <img src=\"https://cf.geekdo-images.com/C9U2E51...   \n",
       "1  <img src=\"https://cf.geekdo-images.com/hItZjdD...   \n",
       "2  <img src=\"https://cf.geekdo-images.com/_al0scM...   \n",
       "3  <img src=\"https://cf.geekdo-images.com/cwQZOU3...   \n",
       "4  <img src=\"https://cf.geekdo-images.com/Q96PxRV...   \n",
       "\n",
       "                                                name  rating_mean_review  \\\n",
       "0  <a href=\"https://boardgamegeek.com/boardgame/3...            7.978351   \n",
       "1  <a href=\"https://boardgamegeek.com/boardgame/3...           10.000000   \n",
       "2  <a href=\"https://boardgamegeek.com/boardgame/2...            7.514186   \n",
       "3  <a href=\"https://boardgamegeek.com/boardgame/3...            9.333333   \n",
       "4  <a href=\"https://boardgamegeek.com/boardgame/3...            7.140970   \n",
       "\n",
       "   rating_mean_comments  fixed_rating  rank yearpublished  \n",
       "0              8.387620      8.013720     1          2020  \n",
       "1              8.399296      8.666080     2          2022  \n",
       "2              8.140641      7.674593     3          2021  \n",
       "3              9.101252      9.200716     4          2022  \n",
       "4              7.155785      7.141696     5          2021  "
      ]
     },
     "execution_count": 45,
     "metadata": {},
     "output_type": "execute_result"
    }
   ],
   "source": [
    "grouped.head()"
   ]
  },
  {
   "cell_type": "code",
   "execution_count": 46,
   "metadata": {},
   "outputs": [],
   "source": [
    "def display_topn(by, n=5, ascending=True):\n",
    "    temp_df = grouped.sort_values(by, ascending=ascending).head(n)\n",
    "    temp_df.index=list(range(1, n+1))\n",
    "    return HTML(temp_df.to_html(escape=False, classes='table table-striped'))"
   ]
  },
  {
   "cell_type": "code",
   "execution_count": 47,
   "metadata": {},
   "outputs": [
    {
     "data": {
      "text/html": [
       "<table border=\"1\" class=\"dataframe table table-striped\">\n",
       "  <thead>\n",
       "    <tr style=\"text-align: right;\">\n",
       "      <th></th>\n",
       "      <th>thumbnail</th>\n",
       "      <th>name</th>\n",
       "      <th>rating_mean_review</th>\n",
       "      <th>rating_mean_comments</th>\n",
       "      <th>fixed_rating</th>\n",
       "      <th>rank</th>\n",
       "      <th>yearpublished</th>\n",
       "    </tr>\n",
       "  </thead>\n",
       "  <tbody>\n",
       "    <tr>\n",
       "      <th>1</th>\n",
       "      <td><img src=\"https://cf.geekdo-images.com/C9U2E51tkzLljewFEGQ74g__thumb/img/4KV3wj3NiJDgGTh3zmW0_8Ph3Zc=/fit-in/200x150/filters:strip_icc()/pic5837347.jpg\" width=\"124\" /></td>\n",
       "      <td><a href=\"https://boardgamegeek.com/boardgame/307002\">Regicide</a></td>\n",
       "      <td>7.978351</td>\n",
       "      <td>8.387620</td>\n",
       "      <td>8.013720</td>\n",
       "      <td>1</td>\n",
       "      <td>2020</td>\n",
       "    </tr>\n",
       "    <tr>\n",
       "      <th>2</th>\n",
       "      <td><img src=\"https://cf.geekdo-images.com/hItZjdDTNuaCZ7fEztwcUQ__thumb/img/Ov6eWR87PZ2O1XYQtXMO6KvfzOg=/fit-in/200x150/filters:strip_icc()/pic6153324.jpg\" width=\"124\" /></td>\n",
       "      <td><a href=\"https://boardgamegeek.com/boardgame/337627\">Voidfall</a></td>\n",
       "      <td>10.000000</td>\n",
       "      <td>8.399296</td>\n",
       "      <td>8.666080</td>\n",
       "      <td>2</td>\n",
       "      <td>2022</td>\n",
       "    </tr>\n",
       "    <tr>\n",
       "      <th>3</th>\n",
       "      <td><img src=\"https://cf.geekdo-images.com/_al0scMG_pQfGVM31Scf1Q__thumb/img/OMVAMJX95HNO-vSRdk-kGjAzzBY=/fit-in/200x150/filters:strip_icc()/pic6107853.jpg\" width=\"124\" /></td>\n",
       "      <td><a href=\"https://boardgamegeek.com/boardgame/285967\">Ankh: Gods of Egypt</a></td>\n",
       "      <td>7.514186</td>\n",
       "      <td>8.140641</td>\n",
       "      <td>7.674593</td>\n",
       "      <td>3</td>\n",
       "      <td>2021</td>\n",
       "    </tr>\n",
       "    <tr>\n",
       "      <th>4</th>\n",
       "      <td><img src=\"https://cf.geekdo-images.com/cwQZOU3cNOTta6nuT77byg__thumb/img/ktq00DLZxfyjPhrAvHe-V48i-Kg=/fit-in/200x150/filters:strip_icc()/pic6279361.png\" width=\"124\" /></td>\n",
       "      <td><a href=\"https://boardgamegeek.com/boardgame/342444\">Black Rose Wars: Rebirth</a></td>\n",
       "      <td>9.333333</td>\n",
       "      <td>9.101252</td>\n",
       "      <td>9.200716</td>\n",
       "      <td>4</td>\n",
       "      <td>2022</td>\n",
       "    </tr>\n",
       "    <tr>\n",
       "      <th>5</th>\n",
       "      <td><img src=\"https://cf.geekdo-images.com/Q96PxRVbrDxS9_4ZPTJtHQ__thumb/img/hXnjkvD7KiLk2fon8tbvsXNtT_k=/fit-in/200x150/filters:strip_icc()/pic5941333.png\" width=\"124\" /></td>\n",
       "      <td><a href=\"https://boardgamegeek.com/boardgame/322708\">Descent: Legends of the Dark</a></td>\n",
       "      <td>7.140970</td>\n",
       "      <td>7.155785</td>\n",
       "      <td>7.141696</td>\n",
       "      <td>5</td>\n",
       "      <td>2021</td>\n",
       "    </tr>\n",
       "  </tbody>\n",
       "</table>"
      ],
      "text/plain": [
       "<IPython.core.display.HTML object>"
      ]
     },
     "execution_count": 47,
     "metadata": {},
     "output_type": "execute_result"
    }
   ],
   "source": [
    "# TOP N RANK\n",
    "display_topn(by='rank', n=TOP_N)"
   ]
  },
  {
   "cell_type": "code",
   "execution_count": 48,
   "metadata": {},
   "outputs": [
    {
     "data": {
      "text/html": [
       "<table border=\"1\" class=\"dataframe table table-striped\">\n",
       "  <thead>\n",
       "    <tr style=\"text-align: right;\">\n",
       "      <th></th>\n",
       "      <th>thumbnail</th>\n",
       "      <th>name</th>\n",
       "      <th>rating_mean_review</th>\n",
       "      <th>rating_mean_comments</th>\n",
       "      <th>fixed_rating</th>\n",
       "      <th>rank</th>\n",
       "      <th>yearpublished</th>\n",
       "    </tr>\n",
       "  </thead>\n",
       "  <tbody>\n",
       "    <tr>\n",
       "      <th>1</th>\n",
       "      <td><img src=\"https://cf.geekdo-images.com/hItZjdDTNuaCZ7fEztwcUQ__thumb/img/Ov6eWR87PZ2O1XYQtXMO6KvfzOg=/fit-in/200x150/filters:strip_icc()/pic6153324.jpg\" width=\"124\" /></td>\n",
       "      <td><a href=\"https://boardgamegeek.com/boardgame/337627\">Voidfall</a></td>\n",
       "      <td>10.000000</td>\n",
       "      <td>8.399296</td>\n",
       "      <td>8.666080</td>\n",
       "      <td>2</td>\n",
       "      <td>2022</td>\n",
       "    </tr>\n",
       "    <tr>\n",
       "      <th>2</th>\n",
       "      <td><img src=\"https://cf.geekdo-images.com/cwQZOU3cNOTta6nuT77byg__thumb/img/ktq00DLZxfyjPhrAvHe-V48i-Kg=/fit-in/200x150/filters:strip_icc()/pic6279361.png\" width=\"124\" /></td>\n",
       "      <td><a href=\"https://boardgamegeek.com/boardgame/342444\">Black Rose Wars: Rebirth</a></td>\n",
       "      <td>9.333333</td>\n",
       "      <td>9.101252</td>\n",
       "      <td>9.200716</td>\n",
       "      <td>4</td>\n",
       "      <td>2022</td>\n",
       "    </tr>\n",
       "    <tr>\n",
       "      <th>3</th>\n",
       "      <td><img src=\"https://cf.geekdo-images.com/Oh3kHw6lweg6ru71Q16h2Q__thumb/img/e9XZdQe1ZcPpaq4Gy31OoWBB_V0=/fit-in/200x150/filters:strip_icc()/pic5235277.jpg\" width=\"124\" /></td>\n",
       "      <td><a href=\"https://boardgamegeek.com/boardgame/246900\">Eclipse: Second Dawn for the Galaxy</a></td>\n",
       "      <td>8.740193</td>\n",
       "      <td>8.088716</td>\n",
       "      <td>8.643023</td>\n",
       "      <td>43</td>\n",
       "      <td>2020</td>\n",
       "    </tr>\n",
       "    <tr>\n",
       "      <th>4</th>\n",
       "      <td><img src=\"https://cf.geekdo-images.com/ImPgGag98W6gpV1KV812aA__thumb/img/X-lBBdG4uO6LT0y1vXxCN4jdR4M=/fit-in/200x150/filters:strip_icc()/pic1215633.jpg\" width=\"124\" /></td>\n",
       "      <td><a href=\"https://boardgamegeek.com/boardgame/115746\">War of the Ring: Second Edition</a></td>\n",
       "      <td>8.731068</td>\n",
       "      <td>8.370712</td>\n",
       "      <td>8.687793</td>\n",
       "      <td>40</td>\n",
       "      <td>2012</td>\n",
       "    </tr>\n",
       "    <tr>\n",
       "      <th>5</th>\n",
       "      <td><img src=\"https://cf.geekdo-images.com/x3zxjr-Vw5iU4yDPg70Jgw__thumb/img/o18rjEemoWaVru9Y2TyPwuIaRfE=/fit-in/200x150/filters:strip_icc()/pic3490053.jpg\" width=\"124\" /></td>\n",
       "      <td><a href=\"https://boardgamegeek.com/boardgame/224517\">Brass: Birmingham</a></td>\n",
       "      <td>8.676736</td>\n",
       "      <td>8.217125</td>\n",
       "      <td>8.636559</td>\n",
       "      <td>21</td>\n",
       "      <td>2018</td>\n",
       "    </tr>\n",
       "  </tbody>\n",
       "</table>"
      ],
      "text/plain": [
       "<IPython.core.display.HTML object>"
      ]
     },
     "execution_count": 48,
     "metadata": {},
     "output_type": "execute_result"
    }
   ],
   "source": [
    "# TOP N REVIEW RANK\n",
    "display_topn(by='rating_mean_review', n=TOP_N, ascending=False)"
   ]
  },
  {
   "cell_type": "code",
   "execution_count": 49,
   "metadata": {},
   "outputs": [
    {
     "data": {
      "text/html": [
       "<table border=\"1\" class=\"dataframe table table-striped\">\n",
       "  <thead>\n",
       "    <tr style=\"text-align: right;\">\n",
       "      <th></th>\n",
       "      <th>thumbnail</th>\n",
       "      <th>name</th>\n",
       "      <th>rating_mean_review</th>\n",
       "      <th>rating_mean_comments</th>\n",
       "      <th>fixed_rating</th>\n",
       "      <th>rank</th>\n",
       "      <th>yearpublished</th>\n",
       "    </tr>\n",
       "  </thead>\n",
       "  <tbody>\n",
       "    <tr>\n",
       "      <th>1</th>\n",
       "      <td><img src=\"https://cf.geekdo-images.com/cwQZOU3cNOTta6nuT77byg__thumb/img/ktq00DLZxfyjPhrAvHe-V48i-Kg=/fit-in/200x150/filters:strip_icc()/pic6279361.png\" width=\"124\" /></td>\n",
       "      <td><a href=\"https://boardgamegeek.com/boardgame/342444\">Black Rose Wars: Rebirth</a></td>\n",
       "      <td>9.333333</td>\n",
       "      <td>9.101252</td>\n",
       "      <td>9.200716</td>\n",
       "      <td>4</td>\n",
       "      <td>2022</td>\n",
       "    </tr>\n",
       "    <tr>\n",
       "      <th>2</th>\n",
       "      <td><img src=\"https://cf.geekdo-images.com/ImPgGag98W6gpV1KV812aA__thumb/img/X-lBBdG4uO6LT0y1vXxCN4jdR4M=/fit-in/200x150/filters:strip_icc()/pic1215633.jpg\" width=\"124\" /></td>\n",
       "      <td><a href=\"https://boardgamegeek.com/boardgame/115746\">War of the Ring: Second Edition</a></td>\n",
       "      <td>8.731068</td>\n",
       "      <td>8.370712</td>\n",
       "      <td>8.687793</td>\n",
       "      <td>40</td>\n",
       "      <td>2012</td>\n",
       "    </tr>\n",
       "    <tr>\n",
       "      <th>3</th>\n",
       "      <td><img src=\"https://cf.geekdo-images.com/hItZjdDTNuaCZ7fEztwcUQ__thumb/img/Ov6eWR87PZ2O1XYQtXMO6KvfzOg=/fit-in/200x150/filters:strip_icc()/pic6153324.jpg\" width=\"124\" /></td>\n",
       "      <td><a href=\"https://boardgamegeek.com/boardgame/337627\">Voidfall</a></td>\n",
       "      <td>10.000000</td>\n",
       "      <td>8.399296</td>\n",
       "      <td>8.666080</td>\n",
       "      <td>2</td>\n",
       "      <td>2022</td>\n",
       "    </tr>\n",
       "    <tr>\n",
       "      <th>4</th>\n",
       "      <td><img src=\"https://cf.geekdo-images.com/Oh3kHw6lweg6ru71Q16h2Q__thumb/img/e9XZdQe1ZcPpaq4Gy31OoWBB_V0=/fit-in/200x150/filters:strip_icc()/pic5235277.jpg\" width=\"124\" /></td>\n",
       "      <td><a href=\"https://boardgamegeek.com/boardgame/246900\">Eclipse: Second Dawn for the Galaxy</a></td>\n",
       "      <td>8.740193</td>\n",
       "      <td>8.088716</td>\n",
       "      <td>8.643023</td>\n",
       "      <td>43</td>\n",
       "      <td>2020</td>\n",
       "    </tr>\n",
       "    <tr>\n",
       "      <th>5</th>\n",
       "      <td><img src=\"https://cf.geekdo-images.com/x3zxjr-Vw5iU4yDPg70Jgw__thumb/img/o18rjEemoWaVru9Y2TyPwuIaRfE=/fit-in/200x150/filters:strip_icc()/pic3490053.jpg\" width=\"124\" /></td>\n",
       "      <td><a href=\"https://boardgamegeek.com/boardgame/224517\">Brass: Birmingham</a></td>\n",
       "      <td>8.676736</td>\n",
       "      <td>8.217125</td>\n",
       "      <td>8.636559</td>\n",
       "      <td>21</td>\n",
       "      <td>2018</td>\n",
       "    </tr>\n",
       "  </tbody>\n",
       "</table>"
      ],
      "text/plain": [
       "<IPython.core.display.HTML object>"
      ]
     },
     "execution_count": 49,
     "metadata": {},
     "output_type": "execute_result"
    }
   ],
   "source": [
    "# TOP N FIXED RANK\n",
    "display_topn(by='fixed_rating', n=TOP_N, ascending=False)"
   ]
  },
  {
   "cell_type": "code",
   "execution_count": 50,
   "metadata": {},
   "outputs": [],
   "source": [
    "# model.save('saved_model\\my_model')"
   ]
  },
  {
   "cell_type": "code",
   "execution_count": 51,
   "metadata": {},
   "outputs": [],
   "source": [
    "# saved_model = tf.keras.models.load_model('saved_model\\my_model')"
   ]
  },
  {
   "cell_type": "code",
   "execution_count": 52,
   "metadata": {},
   "outputs": [],
   "source": [
    "# some examples on \"long\" comments vs short comments"
   ]
  },
  {
   "cell_type": "code",
   "execution_count": 53,
   "metadata": {},
   "outputs": [],
   "source": [
    "not_rated_comments['comment_len'] = not_rated_comments['value'].str.len()\n",
    "some_long_comments = not_rated_comments.query(\"comment_len>100 and comment_len<300\").sample(frac=1).head(25).sort_values('rating')"
   ]
  },
  {
   "cell_type": "code",
   "execution_count": 54,
   "metadata": {},
   "outputs": [
    {
     "name": "stdout",
     "output_type": "stream",
     "text": [
      "\"The illustrations do look better than TM, but making it even more card focused is the wrong move for me. Worse than that, it is not even a 100% card game as there are the hexes and board.\" (Terraforming Mars: Ares Expedition) \n",
      "score: 3.78\n",
      "\n",
      "\"KS edition, contains the aftermath expansion with Medic and other KS added characters. Definitely available for trade, but it would have to be a worthwhile one.\" (Nemesis) \n",
      "score: 6.52\n",
      "\n",
      "\"WTP 1/4 [AREA CONTROL] 3-4 players; 60-90 minutes; The love child of Midgard and Chaos in the Old World (who was unfortunately born with the defect of card drafting)\" (Blood Rage) \n",
      "score: 6.76\n",
      "\n",
      "\"2 copies 1 NIS @ ff Open box contains expanded board, Folded Space insert, & realistic resources from Stonemaier Treasure Chest \" (Scythe) \n",
      "score: 6.93\n",
      "\n",
      "\"Me and my wife have spent a few evenings playing this game, simple to set up and play through a few games to wind the evening down! Solid game! \" (7 Wonders Duel) \n",
      "score: 7.69\n",
      "\n",
      "\"Alien SemiKooperativ Spieler können sterben, spielen dann den bösen Hunter und Cron Platz 3 Geekinge Spiele 2020\" (Nemesis) \n",
      "score: 7.80\n",
      "\n",
      "\"This game is finicky and as thematic as it is, I much prefer Eldritch Horror or Mage Knight.  They offer much more re-playability, scenarios, situations without forcing you to continue buying packs with the same linear design.\" (Arkham Horror: The Card Game) \n",
      "score: 7.93\n",
      "\n",
      "\"[b]Expansions:[/b] [url= European Expansion[/url]  [b]Accessories:[/b] [url= Flight [color=#74C73E](Standard American)[/color][/url]\" (Wingspan) \n",
      "score: 8.23\n",
      "\n",
      "\"1 - 6 Players // 45 - 90 Minutes  Contracts Hand Management Solo / Solitaire Game Turn Order: Auction Victory Points as a Resource Worker Placement Worker Placement, Different Worker Types \" (Viticulture Essential Edition) \n",
      "score: 8.27\n",
      "\n",
      "\"I don't rate my own games (doesn't seem appropriate).  But if you have any questions, post them here or send me a message.\" (Imperium: Classics) \n",
      "score: 8.31\n",
      "\n",
      "\"There is a digital version now, so I'll probably end up just playing it that way. If I have a regular group, though, I'd still be tempted by the physical version.\" (Gloomhaven) \n",
      "score: 8.33\n",
      "\n",
      "\"Spiel 2015, additionally received with our copy: - signed(? might be printed) paper with: Essen 2015 (487/1704) - 1 solid (and heavy) conflict pawn made out of tin(?) - \"Messe Essen\" Promo Card\" (7 Wonders Duel) \n",
      "score: 8.33\n",
      "\n",
      "\"Really good 2 player version for 2 players. Even if you own 7 wonder it's worth to get this one just for 2 player\" (7 Wonders Duel) \n",
      "score: 8.34\n",
      "\n",
      "\"Not played  * Weight: Medium (2.83) * Player count: Community 1-4 / Best 3 * Mechanisms: Drafting / End Game Bonuses / Worker Placement  NEW\" (Everdell) \n",
      "score: 8.36\n",
      "\n",
      "\"It's the perfect puzzle thinking game that amazes me every time I play. The Branch and Claw expansion adds the right amount of unpredictability and variety to the game. And the theme is all there! Sold, as it was pretty predictable and didn't have anyone to play with. \" (Spirit Island) \n",
      "score: 8.36\n",
      "\n",
      "\"Kickstarter - due September 2021 Ares Expedition (US$39.00) + Ares Expedition Card Sleeves (US$30.00) + Ares Expedition Playmats for 4 Players (US$25.00) Shipping (US22.00) \" (Terraforming Mars: Ares Expedition) \n",
      "score: 8.61\n",
      "\n",
      "\"Card Drafting Dice Rolling Drafting End Game Bonuses Hand Management Set Collection Solo / Solitaire Game  1–5 Players (best 3*)  Weight: 2.42 / 5\" (Wingspan) \n",
      "score: 8.65\n",
      "\n",
      "\"ESP  Un coop con una temática y diseño visual muy molón. Además el mapa tiene un modo de mayor \"resolución\" y dificultad para darle más profundidad a las partidas.\" (Spirit Island) \n",
      "score: 8.69\n",
      "\n",
      "\"[b]Mini-Expansions & Promos:[/b] [thing=232394]Promo Pack 1[/thing]  [b]Accessories:[/b] [listitem=4167285]Fantasy Flight Standard [COLOR=#999999](Gray)[/COLOR] Card Sleeves[/listitem] [listitem=4167285]Fantasy Flight Mini European [COLOR=#CC0000](Red)[/COLOR] Card Sleeves[/listitem] \" (Spirit Island) \n",
      "score: 8.76\n",
      "\n",
      "\"This is an exquisite presentation of a game that was already a ten. Simply put, this edition is as playable as it is beautiful--not only a work of art, but the best version of the game available.  \" (War of the Ring: Second Edition) \n",
      "score: 8.81\n",
      "\n",
      "\"[BGCOLOR=#A0A0FF][COLOR=#FFFFFF]xxG.[/COLOR][/BGCOLOR] [BGCOLOR=#000000][COLOR=#FFFFFF]SoloX.[/COLOR][/BGCOLOR]  Ready to play.  g1 b2 \" (Arkham Horror: The Card Game) \n",
      "score: 9.13\n",
      "\n",
      "\"Another one which we got based on the high praises and the IP integration. As huge SW fans this is a must have and the epic way this plays out must be one of the best experiences of being in the SW universe. Picked up with great deal.\" (Star Wars: Rebellion) \n",
      "score: 9.45\n",
      "\n",
      "\"I just adore miniatures. That feeling when you love in most cases cooperative games, but sometimes the team asks for something against each other and aggressive, and then this game is our choice.\" (Blood Rage) \n",
      "score: 9.58\n",
      "\n",
      "\"Bundled with Prelude, Colonies, Hellas and Elysium, Venus Next, and Turmoil.  3D printed organizer - all contained in Main box  3D printed tiles - organized in 2 Plano boxes\" (Terraforming Mars) \n",
      "score: 9.85\n",
      "\n",
      "\"Medium-Heavy co-op game. Lots of things to keep track of (runes, presence, powers, slow/fast powers). Simultaneous turn-taking can result in chaos, but also helps eliminate the quarterbacking problem. ~2 hours\" (Spirit Island) \n",
      "score: 10.00\n",
      "\n"
     ]
    }
   ],
   "source": [
    "some_long_comments.apply(lambda c: print(f\"\\\"{c['value']}\\\" ({get_game_by_id(c['id'])}) \\nscore: {c['rating']:.2f}\\n\"), axis=1);"
   ]
  },
  {
   "cell_type": "markdown",
   "metadata": {},
   "source": [
    "## RANDOM FOREST - TEST"
   ]
  },
  {
   "cell_type": "code",
   "execution_count": 55,
   "metadata": {},
   "outputs": [],
   "source": [
    "# no support for Windows at the moment - waiting for it to test"
   ]
  },
  {
   "cell_type": "code",
   "execution_count": null,
   "metadata": {},
   "outputs": [],
   "source": []
  }
 ],
 "metadata": {
  "kernelspec": {
   "display_name": "tensorflow2",
   "language": "python",
   "name": "tensorflow2"
  },
  "language_info": {
   "codemirror_mode": {
    "name": "ipython",
    "version": 3
   },
   "file_extension": ".py",
   "mimetype": "text/x-python",
   "name": "python",
   "nbconvert_exporter": "python",
   "pygments_lexer": "ipython3",
   "version": "3.8.8"
  }
 },
 "nbformat": 4,
 "nbformat_minor": 4
}
