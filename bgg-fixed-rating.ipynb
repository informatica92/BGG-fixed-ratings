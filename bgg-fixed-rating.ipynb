{
 "cells": [
  {
   "cell_type": "code",
   "execution_count": 1,
   "metadata": {},
   "outputs": [],
   "source": [
    "# ## BGG API\n",
    "# https://www.boardgamegeek.com/xmlapi2/thing?id=161599&comments=1\n",
    "# https://www.boardgamegeek.com/xmlapi2/hot?type=boardgame\n",
    "# ## NLP WITH TF\n",
    "# https://www.tensorflow.org/hub/tutorials/tf2_text_classification"
   ]
  },
  {
   "cell_type": "code",
   "execution_count": 2,
   "metadata": {},
   "outputs": [
    {
     "name": "stdout",
     "output_type": "stream",
     "text": [
      "Version:      2.5.0\n",
      "Eager mode:   True\n",
      "Hub version:  0.12.0\n",
      "GPU:          available\n"
     ]
    }
   ],
   "source": [
    "import tensorflow as tf\n",
    "import tensorflow_hub as hub\n",
    "from tensorflow.keras.wrappers.scikit_learn import KerasRegressor, KerasClassifier\n",
    "from sklearn.model_selection import GridSearchCV\n",
    "\n",
    "from IPython.display import HTML\n",
    "from datetime import datetime\n",
    "import matplotlib.pyplot as plt\n",
    "import pandas as pd\n",
    "import numpy as np\n",
    "import re\n",
    "\n",
    "from utilities import get_hot_data, get_comments, remove_short_comments, build_model, print_my_examples\n",
    "\n",
    "print(\"Version:     \", tf.__version__)\n",
    "print(\"Eager mode:  \", tf.executing_eagerly())\n",
    "print(\"Hub version: \", hub.__version__)\n",
    "print(\"GPU:         \", \"available\" if tf.config.list_physical_devices('GPU') else \"NOT available\")\n",
    "\n",
    "tf.get_logger().setLevel('ERROR')"
   ]
  },
  {
   "cell_type": "code",
   "execution_count": 3,
   "metadata": {},
   "outputs": [],
   "source": [
    "# tf.debugging.set_log_device_placement(True)"
   ]
  },
  {
   "cell_type": "code",
   "execution_count": 4,
   "metadata": {},
   "outputs": [],
   "source": [
    "GOOD_REVIEW_THRESHOLD = 7\n",
    "VAL_FRACTION = 0.25\n",
    "MIN_COMMENT_LEN = 25\n",
    "TOP_N = 5\n",
    "MODEL_NAME = \"https://tfhub.dev/google/tf2-preview/nnlm-en-dim50/1\"\n",
    "# MORE ABOUT MODEL NAMES: \n",
    "# \"https://tfhub.dev/google/tf2-preview/nnlm-en-dim128/1\"\n",
    "# \"https://tfhub.dev/google/tf2-preview/nnlm-en-dim128-with-normalization/1\"\n",
    "# we also tested these solutions with dimension equals to 128 but accuracy \n",
    "# is a bit lower (0.85 for 128 vs 0.86 for 50) and training sometimes stops \n",
    "# unexpectedly for memory limit\n",
    "#\n",
    "# \"https://tfhub.dev/google/tf2-preview/nnlm-en-dim50/1\"\n",
    "# \"https://tfhub.dev/google/tf2-preview/nnlm-en-dim50-with-normalization/1\"\n",
    "# there is no difference between normalization and not so we use the one \n",
    "# without normalization"
   ]
  },
  {
   "cell_type": "markdown",
   "metadata": {},
   "source": [
    "## GET DATA"
   ]
  },
  {
   "cell_type": "code",
   "execution_count": 5,
   "metadata": {},
   "outputs": [
    {
     "data": {
      "text/plain": [
       "[{'id': '237179',\n",
       "  'rank': '1',\n",
       "  'thumbnail': 'https://cf.geekdo-images.com/E8qBDKe39KEFMo-LhTNDQQ__thumb/img/jFQaWbcjoUzxS7p76LsGzg4piQk=/fit-in/200x150/filters:strip_icc()/pic6333980.jpg',\n",
       "  'name': 'Weather Machine',\n",
       "  'yearpublished': '2022'},\n",
       " {'id': '322708',\n",
       "  'rank': '2',\n",
       "  'thumbnail': 'https://cf.geekdo-images.com/Q96PxRVbrDxS9_4ZPTJtHQ__thumb/img/hXnjkvD7KiLk2fon8tbvsXNtT_k=/fit-in/200x150/filters:strip_icc()/pic5941333.png',\n",
       "  'name': 'Descent: Legends of the Dark',\n",
       "  'yearpublished': '2021'}]"
      ]
     },
     "execution_count": 5,
     "metadata": {},
     "output_type": "execute_result"
    }
   ],
   "source": [
    "hot_array = get_hot_data()\n",
    "hot_array[:2]"
   ]
  },
  {
   "cell_type": "code",
   "execution_count": 6,
   "metadata": {},
   "outputs": [
    {
     "name": "stdout",
     "output_type": "stream",
     "text": [
      "missing csv file, getting new data using API...\n",
      "page number = 10 (max: 100, len: 26)\n",
      "page number = 20 (max: 100, len: 21)\n",
      "page number = 30 (max: 100, len: 15)\n",
      "page number = 40 (max: 100, len: 11)\n",
      "page number = 50 (max: 100, len: 7)\n",
      "page number = 60 (max: 100, len: 5)\n",
      "page number = 70 (max: 100, len: 5)\n",
      "page number = 80 (max: 100, len: 4)\n",
      "page number = 90 (max: 100, len: 2)\n",
      "page number = 100 (max: 100, len: 1)\n",
      "comments_df shape: (112747, 4)\n"
     ]
    },
    {
     "data": {
      "text/html": [
       "<div>\n",
       "<style scoped>\n",
       "    .dataframe tbody tr th:only-of-type {\n",
       "        vertical-align: middle;\n",
       "    }\n",
       "\n",
       "    .dataframe tbody tr th {\n",
       "        vertical-align: top;\n",
       "    }\n",
       "\n",
       "    .dataframe thead th {\n",
       "        text-align: right;\n",
       "    }\n",
       "</style>\n",
       "<table border=\"1\" class=\"dataframe\">\n",
       "  <thead>\n",
       "    <tr style=\"text-align: right;\">\n",
       "      <th></th>\n",
       "      <th>id</th>\n",
       "      <th>username</th>\n",
       "      <th>rating</th>\n",
       "      <th>value</th>\n",
       "    </tr>\n",
       "  </thead>\n",
       "  <tbody>\n",
       "    <tr>\n",
       "      <th>0</th>\n",
       "      <td>237179</td>\n",
       "      <td>astronaut70</td>\n",
       "      <td>10</td>\n",
       "      <td>Rating based on expectation - will adjust when...</td>\n",
       "    </tr>\n",
       "    <tr>\n",
       "      <th>1</th>\n",
       "      <td>237179</td>\n",
       "      <td>atcblake</td>\n",
       "      <td>N/A</td>\n",
       "      <td>Solo, engine builder?</td>\n",
       "    </tr>\n",
       "    <tr>\n",
       "      <th>2</th>\n",
       "      <td>237179</td>\n",
       "      <td>Beer4Dad</td>\n",
       "      <td>8</td>\n",
       "      <td>*Rating based on multiple advanced stage proto...</td>\n",
       "    </tr>\n",
       "    <tr>\n",
       "      <th>3</th>\n",
       "      <td>237179</td>\n",
       "      <td>BlueFoxMoon</td>\n",
       "      <td>N/A</td>\n",
       "      <td>Pre-release - KS Vital Lacerda</td>\n",
       "    </tr>\n",
       "    <tr>\n",
       "      <th>4</th>\n",
       "      <td>237179</td>\n",
       "      <td>Carter_Burke</td>\n",
       "      <td>N/A</td>\n",
       "      <td>Lacerda Game. Must-buy but Start saving... :-)</td>\n",
       "    </tr>\n",
       "    <tr>\n",
       "      <th>...</th>\n",
       "      <td>...</td>\n",
       "      <td>...</td>\n",
       "      <td>...</td>\n",
       "      <td>...</td>\n",
       "    </tr>\n",
       "    <tr>\n",
       "      <th>112742</th>\n",
       "      <td>167791</td>\n",
       "      <td>z_zadar</td>\n",
       "      <td>9</td>\n",
       "      <td>Some games are so much fun. Others can be a li...</td>\n",
       "    </tr>\n",
       "    <tr>\n",
       "      <th>112743</th>\n",
       "      <td>167791</td>\n",
       "      <td>_Czid_</td>\n",
       "      <td>8</td>\n",
       "      <td>Have played with Elysium and Prelude expansion...</td>\n",
       "    </tr>\n",
       "    <tr>\n",
       "      <th>112744</th>\n",
       "      <td>167791</td>\n",
       "      <td>_Marty_</td>\n",
       "      <td>9.5</td>\n",
       "      <td>Fantastic game. With so many cards that can ch...</td>\n",
       "    </tr>\n",
       "    <tr>\n",
       "      <th>112745</th>\n",
       "      <td>167791</td>\n",
       "      <td>_mun_</td>\n",
       "      <td>10</td>\n",
       "      <td>Nagyon izgalmas játék, jó a mechanizmusa. A sz...</td>\n",
       "    </tr>\n",
       "    <tr>\n",
       "      <th>112746</th>\n",
       "      <td>167791</td>\n",
       "      <td>_The_Inquiry_</td>\n",
       "      <td>5</td>\n",
       "      <td>Prior to 2020: 2 plays  TM is one of those gam...</td>\n",
       "    </tr>\n",
       "  </tbody>\n",
       "</table>\n",
       "<p>112747 rows × 4 columns</p>\n",
       "</div>"
      ],
      "text/plain": [
       "            id       username rating  \\\n",
       "0       237179    astronaut70     10   \n",
       "1       237179       atcblake    N/A   \n",
       "2       237179       Beer4Dad      8   \n",
       "3       237179    BlueFoxMoon    N/A   \n",
       "4       237179   Carter_Burke    N/A   \n",
       "...        ...            ...    ...   \n",
       "112742  167791        z_zadar      9   \n",
       "112743  167791         _Czid_      8   \n",
       "112744  167791        _Marty_    9.5   \n",
       "112745  167791          _mun_     10   \n",
       "112746  167791  _The_Inquiry_      5   \n",
       "\n",
       "                                                    value  \n",
       "0       Rating based on expectation - will adjust when...  \n",
       "1                                   Solo, engine builder?  \n",
       "2       *Rating based on multiple advanced stage proto...  \n",
       "3                          Pre-release - KS Vital Lacerda  \n",
       "4          Lacerda Game. Must-buy but Start saving... :-)  \n",
       "...                                                   ...  \n",
       "112742  Some games are so much fun. Others can be a li...  \n",
       "112743  Have played with Elysium and Prelude expansion...  \n",
       "112744  Fantastic game. With so many cards that can ch...  \n",
       "112745  Nagyon izgalmas játék, jó a mechanizmusa. A sz...  \n",
       "112746  Prior to 2020: 2 plays  TM is one of those gam...  \n",
       "\n",
       "[112747 rows x 4 columns]"
      ]
     },
     "execution_count": 6,
     "metadata": {},
     "output_type": "execute_result"
    }
   ],
   "source": [
    "try:\n",
    "    comments_df = pd.read_csv(f\"comments_{datetime.now().strftime('%Y%m%d')}.csv\")\n",
    "    comments_df['rating'] = comments_df.rating.fillna('N/A')\n",
    "    print(\"reading dataframe from csv file...\")\n",
    "except:\n",
    "    print(\"missing csv file, getting new data using API...\")\n",
    "    comments_df = get_comments(hot_array, verbose=10)\n",
    "    comments_df.to_csv(f\"comments_{datetime.now().strftime('%Y%m%d')}.csv\", index=False)\n",
    "comments_df"
   ]
  },
  {
   "cell_type": "markdown",
   "metadata": {},
   "source": [
    "## DATA CLEANING"
   ]
  },
  {
   "cell_type": "code",
   "execution_count": 7,
   "metadata": {},
   "outputs": [],
   "source": [
    "# probably we should keep all the ratings (no matters the len) and remove only the simple comments under a certain len  \n",
    "comments_df[\"value\"] = comments_df[\"value\"].astype(str)"
   ]
  },
  {
   "cell_type": "code",
   "execution_count": 8,
   "metadata": {},
   "outputs": [
    {
     "name": "stdout",
     "output_type": "stream",
     "text": [
      "removed 17955 for 'remove_short_comments' - min len: 25 - method: unrated\n"
     ]
    }
   ],
   "source": [
    "# REMOVE URLs FROM COMMENTS\n",
    "comments_df['value'] = [re.sub(r\"http\\S+\", \"\", v) for v in comments_df.value.values]\n",
    "comments_df = remove_short_comments(comments_df, MIN_COMMENT_LEN)"
   ]
  },
  {
   "cell_type": "code",
   "execution_count": 9,
   "metadata": {},
   "outputs": [],
   "source": [
    "# REMOVE NON ENGLISH COMMENTS\n",
    "# !conda install -c conda-forge langdetect\n",
    "# def add_comments_lang(df: pd.DataFrame):\n",
    "#     df_local = df.copy()\n",
    "#     df_local['lang'] = df['value'].apply(detect)\n",
    "#     return df_local.reset_index(drop=True)\n",
    "# comments_df = add_comments_lang(comments_df)\n",
    "# comments_df = comments_df.query('lang == \"en\"')"
   ]
  },
  {
   "cell_type": "markdown",
   "metadata": {},
   "source": [
    "## SPLIT RATED AND NON-RATED COMMENTS"
   ]
  },
  {
   "cell_type": "code",
   "execution_count": 10,
   "metadata": {},
   "outputs": [
    {
     "data": {
      "text/plain": [
       "9          17719\n",
       "10         17045\n",
       "8          15903\n",
       "7           8546\n",
       "N/A         7377\n",
       "           ...  \n",
       "8.328          1\n",
       "9.013          1\n",
       "8.43312        1\n",
       "9.125          1\n",
       "6.9889         1\n",
       "Name: rating, Length: 595, dtype: int64"
      ]
     },
     "execution_count": 10,
     "metadata": {},
     "output_type": "execute_result"
    }
   ],
   "source": [
    "# count number of comments per rating (N/A included)\n",
    "comments_df.rating.value_counts()"
   ]
  },
  {
   "cell_type": "code",
   "execution_count": 11,
   "metadata": {},
   "outputs": [
    {
     "data": {
      "text/plain": [
       "(87415, 5)"
      ]
     },
     "execution_count": 11,
     "metadata": {},
     "output_type": "execute_result"
    }
   ],
   "source": [
    "# get rated comments only\n",
    "rated_comments = comments_df.query('rating != \"N/A\"')\n",
    "rated_comments.shape"
   ]
  },
  {
   "cell_type": "code",
   "execution_count": 12,
   "metadata": {},
   "outputs": [
    {
     "data": {
      "text/plain": [
       "(7377, 5)"
      ]
     },
     "execution_count": 12,
     "metadata": {},
     "output_type": "execute_result"
    }
   ],
   "source": [
    "# get non rated comments only\n",
    "not_rated_comments = comments_df.query('rating == \"N/A\"').reset_index(drop=True)\n",
    "not_rated_comments.shape"
   ]
  },
  {
   "cell_type": "markdown",
   "metadata": {},
   "source": [
    "## CREATE TRAINING AND VALIDATION DATA"
   ]
  },
  {
   "cell_type": "code",
   "execution_count": 13,
   "metadata": {},
   "outputs": [],
   "source": [
    "# use rated comments (reviews) to train the model"
   ]
  },
  {
   "cell_type": "code",
   "execution_count": 14,
   "metadata": {},
   "outputs": [],
   "source": [
    "rated_comments = rated_comments.sample(frac=1)"
   ]
  },
  {
   "cell_type": "code",
   "execution_count": 15,
   "metadata": {},
   "outputs": [],
   "source": [
    "# create training X and y\n",
    "train_examples = list(rated_comments.value)\n",
    "train_labels = list((rated_comments.rating.astype(float)>=GOOD_REVIEW_THRESHOLD).astype(int))"
   ]
  },
  {
   "cell_type": "code",
   "execution_count": 16,
   "metadata": {},
   "outputs": [
    {
     "name": "stdout",
     "output_type": "stream",
     "text": [
      "example of positive rating:\n"
     ]
    },
    {
     "data": {
      "text/plain": [
       "'Amazing.. get it'"
      ]
     },
     "execution_count": 16,
     "metadata": {},
     "output_type": "execute_result"
    }
   ],
   "source": [
    "print(\"example of positive rating:\")\n",
    "train_examples[train_labels.index(1)]"
   ]
  },
  {
   "cell_type": "code",
   "execution_count": 17,
   "metadata": {},
   "outputs": [
    {
     "name": "stdout",
     "output_type": "stream",
     "text": [
      "example of negative rating:\n"
     ]
    },
    {
     "data": {
      "text/plain": [
       "'Overdone Viking theme, plodding, with runaway leader problem. Just not for me.'"
      ]
     },
     "execution_count": 17,
     "metadata": {},
     "output_type": "execute_result"
    }
   ],
   "source": [
    "print(\"example of negative rating:\")\n",
    "train_examples[train_labels.index(0)]"
   ]
  },
  {
   "cell_type": "markdown",
   "metadata": {},
   "source": [
    "## COMPOSE MODEL"
   ]
  },
  {
   "cell_type": "code",
   "execution_count": 18,
   "metadata": {},
   "outputs": [],
   "source": [
    "hub_layer = hub.KerasLayer(MODEL_NAME, input_shape=[], dtype=tf.string, trainable=True)"
   ]
  },
  {
   "cell_type": "markdown",
   "metadata": {},
   "source": [
    "## CLASSIFIER"
   ]
  },
  {
   "cell_type": "code",
   "execution_count": 19,
   "metadata": {},
   "outputs": [
    {
     "name": "stdout",
     "output_type": "stream",
     "text": [
      "Epoch 1/100\n",
      "43/43 - 4s - loss: 0.5732 - accuracy: 0.7936 - val_loss: 0.4996 - val_accuracy: 0.8501\n",
      "Epoch 2/100\n",
      "43/43 - 2s - loss: 0.4519 - accuracy: 0.8501 - val_loss: 0.4129 - val_accuracy: 0.8526\n",
      "Epoch 3/100\n",
      "43/43 - 2s - loss: 0.3686 - accuracy: 0.8546 - val_loss: 0.3544 - val_accuracy: 0.8605\n",
      "Epoch 4/100\n",
      "43/43 - 2s - loss: 0.3112 - accuracy: 0.8739 - val_loss: 0.3271 - val_accuracy: 0.8720\n",
      "Epoch 5/100\n",
      "43/43 - 2s - loss: 0.2726 - accuracy: 0.8909 - val_loss: 0.3162 - val_accuracy: 0.8770\n",
      "Epoch 6/100\n",
      "43/43 - 2s - loss: 0.2432 - accuracy: 0.9054 - val_loss: 0.3160 - val_accuracy: 0.8780\n",
      "Epoch 7/100\n",
      "43/43 - 2s - loss: 0.2192 - accuracy: 0.9156 - val_loss: 0.3220 - val_accuracy: 0.8778\n",
      "Epoch 8/100\n",
      "43/43 - 2s - loss: 0.1991 - accuracy: 0.9248 - val_loss: 0.3300 - val_accuracy: 0.8748\n",
      "Epoch 9/100\n",
      "43/43 - 2s - loss: 0.1822 - accuracy: 0.9329 - val_loss: 0.3422 - val_accuracy: 0.8706\n",
      "Epoch 10/100\n",
      "43/43 - 2s - loss: 0.1675 - accuracy: 0.9400 - val_loss: 0.3578 - val_accuracy: 0.8686\n",
      "Epoch 11/100\n",
      "43/43 - 2s - loss: 0.1547 - accuracy: 0.9454 - val_loss: 0.3743 - val_accuracy: 0.8653\n",
      "29/29 - 0s - loss: 0.3725 - accuracy: 0.8611\n",
      "Epoch 1/100\n",
      "43/43 - 3s - loss: 0.5375 - accuracy: 0.8125 - val_loss: 0.4650 - val_accuracy: 0.8524\n",
      "Epoch 2/100\n",
      "43/43 - 2s - loss: 0.4175 - accuracy: 0.8516 - val_loss: 0.3813 - val_accuracy: 0.8588\n",
      "Epoch 3/100\n",
      "43/43 - 2s - loss: 0.3419 - accuracy: 0.8658 - val_loss: 0.3391 - val_accuracy: 0.8679\n",
      "Epoch 4/100\n",
      "43/43 - 2s - loss: 0.2951 - accuracy: 0.8840 - val_loss: 0.3207 - val_accuracy: 0.8758\n",
      "Epoch 5/100\n",
      "43/43 - 2s - loss: 0.2626 - accuracy: 0.8967 - val_loss: 0.3119 - val_accuracy: 0.8774\n",
      "Epoch 6/100\n",
      "43/43 - 2s - loss: 0.2365 - accuracy: 0.9074 - val_loss: 0.3116 - val_accuracy: 0.8785\n",
      "Epoch 7/100\n",
      "43/43 - 2s - loss: 0.2140 - accuracy: 0.9158 - val_loss: 0.3160 - val_accuracy: 0.8784\n",
      "Epoch 8/100\n",
      "43/43 - 2s - loss: 0.1949 - accuracy: 0.9248 - val_loss: 0.3240 - val_accuracy: 0.8733\n",
      "Epoch 9/100\n",
      "43/43 - 2s - loss: 0.1783 - accuracy: 0.9327 - val_loss: 0.3363 - val_accuracy: 0.8712\n",
      "Epoch 10/100\n",
      "43/43 - 2s - loss: 0.1640 - accuracy: 0.9385 - val_loss: 0.3499 - val_accuracy: 0.8670\n",
      "Epoch 11/100\n",
      "43/43 - 2s - loss: 0.1517 - accuracy: 0.9452 - val_loss: 0.3701 - val_accuracy: 0.8675\n",
      "29/29 - 0s - loss: 0.3751 - accuracy: 0.8640\n",
      "Epoch 1/100\n",
      "43/43 - 3s - loss: 0.6849 - accuracy: 0.5548 - val_loss: 0.5515 - val_accuracy: 0.8290\n",
      "Epoch 2/100\n",
      "43/43 - 2s - loss: 0.5021 - accuracy: 0.8436 - val_loss: 0.4562 - val_accuracy: 0.8506\n",
      "Epoch 3/100\n",
      "43/43 - 2s - loss: 0.4235 - accuracy: 0.8505 - val_loss: 0.3945 - val_accuracy: 0.8535\n",
      "Epoch 4/100\n",
      "43/43 - 2s - loss: 0.3605 - accuracy: 0.8536 - val_loss: 0.3555 - val_accuracy: 0.8563\n",
      "Epoch 5/100\n",
      "43/43 - 2s - loss: 0.3173 - accuracy: 0.8701 - val_loss: 0.3322 - val_accuracy: 0.8701\n",
      "Epoch 6/100\n",
      "43/43 - 2s - loss: 0.2812 - accuracy: 0.8913 - val_loss: 0.3210 - val_accuracy: 0.8721\n",
      "Epoch 7/100\n",
      "43/43 - 2s - loss: 0.2537 - accuracy: 0.9022 - val_loss: 0.3183 - val_accuracy: 0.8738\n",
      "Epoch 8/100\n",
      "43/43 - 2s - loss: 0.2314 - accuracy: 0.9119 - val_loss: 0.3192 - val_accuracy: 0.8720\n",
      "Epoch 9/100\n",
      "43/43 - 2s - loss: 0.2124 - accuracy: 0.9206 - val_loss: 0.3244 - val_accuracy: 0.8700\n",
      "Epoch 10/100\n",
      "43/43 - 2s - loss: 0.1954 - accuracy: 0.9283 - val_loss: 0.3337 - val_accuracy: 0.8700\n",
      "Epoch 11/100\n",
      "43/43 - 2s - loss: 0.1802 - accuracy: 0.9353 - val_loss: 0.3440 - val_accuracy: 0.8666\n",
      "Epoch 12/100\n",
      "43/43 - 2s - loss: 0.1668 - accuracy: 0.9408 - val_loss: 0.3570 - val_accuracy: 0.8652\n",
      "29/29 - 0s - loss: 0.3544 - accuracy: 0.8638\n",
      "Epoch 1/100\n",
      "65/65 - 4s - loss: 0.4995 - accuracy: 0.8461 - val_loss: 0.4130 - val_accuracy: 0.8532\n",
      "Epoch 2/100\n",
      "65/65 - 3s - loss: 0.3617 - accuracy: 0.8572 - val_loss: 0.3342 - val_accuracy: 0.8664\n",
      "Epoch 3/100\n",
      "65/65 - 3s - loss: 0.2970 - accuracy: 0.8805 - val_loss: 0.3104 - val_accuracy: 0.8760\n",
      "Epoch 4/100\n",
      "65/65 - 4s - loss: 0.2621 - accuracy: 0.8946 - val_loss: 0.3036 - val_accuracy: 0.8794\n",
      "Epoch 5/100\n",
      "65/65 - 3s - loss: 0.2373 - accuracy: 0.9056 - val_loss: 0.3075 - val_accuracy: 0.8808\n",
      "Epoch 6/100\n",
      "65/65 - 3s - loss: 0.2175 - accuracy: 0.9134 - val_loss: 0.3113 - val_accuracy: 0.8787\n",
      "Epoch 7/100\n",
      "65/65 - 3s - loss: 0.2009 - accuracy: 0.9209 - val_loss: 0.3212 - val_accuracy: 0.8757\n",
      "Epoch 8/100\n",
      "65/65 - 3s - loss: 0.1873 - accuracy: 0.9276 - val_loss: 0.3341 - val_accuracy: 0.8744\n",
      "Epoch 9/100\n",
      "65/65 - 4s - loss: 0.1754 - accuracy: 0.9332 - val_loss: 0.3486 - val_accuracy: 0.8671\n",
      "Epoch 10/100\n",
      "65/65 - 4s - loss: 0.1655 - accuracy: 0.9370 - val_loss: 0.3602 - val_accuracy: 0.8675\n"
     ]
    },
    {
     "data": {
      "text/plain": [
       "GridSearchCV(cv=3,\n",
       "             estimator=<tensorflow.python.keras.wrappers.scikit_learn.KerasClassifier object at 0x0000019F10BEBBB0>,\n",
       "             param_grid={})"
      ]
     },
     "execution_count": 19,
     "metadata": {},
     "output_type": "execute_result"
    }
   ],
   "source": [
    "def build_classifier():\n",
    "    return build_model(hub_layer=None, pre_trained_model_name=MODEL_NAME, model_type='classifier', verbose=0)\n",
    "\n",
    "\n",
    "estimator = KerasClassifier(build_fn=build_classifier, epochs=100, batch_size=1024, verbose=2, validation_split=VAL_FRACTION)\n",
    "x_train_clf = np.array(list(rated_comments.value))\n",
    "y_train_clf = np.array(list((rated_comments.rating.astype(float)>=GOOD_REVIEW_THRESHOLD).astype(int)))\n",
    "\n",
    "clf = GridSearchCV(\n",
    "    estimator, \n",
    "    cv=3, \n",
    "    param_grid={}\n",
    ")\n",
    "clf.fit(x_train_clf, y_train_clf, callbacks=[tf.keras.callbacks.EarlyStopping(monitor='val_accuracy', patience=5, min_delta=0.001)])"
   ]
  },
  {
   "cell_type": "code",
   "execution_count": 20,
   "metadata": {},
   "outputs": [],
   "source": [
    "classifier = clf.best_estimator_\n",
    "classifier_history_dict = classifier.model.history.history"
   ]
  },
  {
   "cell_type": "code",
   "execution_count": 21,
   "metadata": {},
   "outputs": [
    {
     "data": {
      "text/plain": [
       "dict_keys(['loss', 'accuracy', 'val_loss', 'val_accuracy'])"
      ]
     },
     "execution_count": 21,
     "metadata": {},
     "output_type": "execute_result"
    }
   ],
   "source": [
    "classifier_history_dict.keys()"
   ]
  },
  {
   "cell_type": "code",
   "execution_count": 22,
   "metadata": {},
   "outputs": [],
   "source": [
    "acc = classifier_history_dict['accuracy']\n",
    "val_acc = classifier_history_dict['val_accuracy']\n",
    "loss = classifier_history_dict['loss']\n",
    "val_loss = classifier_history_dict['val_loss']"
   ]
  },
  {
   "cell_type": "code",
   "execution_count": 23,
   "metadata": {},
   "outputs": [],
   "source": [
    "epochs = range(1, len(acc) + 1) "
   ]
  },
  {
   "cell_type": "code",
   "execution_count": 24,
   "metadata": {},
   "outputs": [
    {
     "data": {
      "image/png": "[encoded data removed]",
      "text/plain": [
       "<Figure size 648x360 with 1 Axes>"
      ]
     },
     "metadata": {
      "needs_background": "light"
     },
     "output_type": "display_data"
    }
   ],
   "source": [
    "# \"bo\" is for \"blue dot\"\n",
    "plt.figure(figsize=(9, 5))\n",
    "plt.plot(epochs, loss, 'bo', label='Training loss')\n",
    "# b is for \"solid blue line\"\n",
    "plt.plot(epochs, val_loss, 'b', label='Validation loss')\n",
    "plt.title('Training and validation loss')\n",
    "plt.xlabel('Epochs')\n",
    "plt.ylabel('Loss')\n",
    "plt.grid(True)\n",
    "plt.legend()\n",
    "\n",
    "plt.show()"
   ]
  },
  {
   "cell_type": "code",
   "execution_count": 25,
   "metadata": {},
   "outputs": [
    {
     "data": {
      "image/png": "[encoded data removed]",
      "text/plain": [
       "<Figure size 648x360 with 1 Axes>"
      ]
     },
     "metadata": {
      "needs_background": "light"
     },
     "output_type": "display_data"
    }
   ],
   "source": [
    "plt.figure(figsize=(9, 5))\n",
    "plt.plot(epochs, acc, 'bo', label='Training acc')\n",
    "plt.plot(epochs, val_acc, 'b', label='Validation acc')\n",
    "plt.title('Training and validation accuracy')\n",
    "plt.xlabel('Epochs')\n",
    "plt.ylabel('Accuracy')\n",
    "plt.grid(True)\n",
    "plt.legend()\n",
    "\n",
    "plt.show()"
   ]
  },
  {
   "cell_type": "code",
   "execution_count": 26,
   "metadata": {},
   "outputs": [
    {
     "name": "stdout",
     "output_type": "stream",
     "text": [
      "input:\n",
      "\"Amazing.. get it\"\n",
      "score: 1.000000\n",
      "actual: 1\n",
      "\n",
      "input:\n",
      "\"+ Les sorcières s'en mêlent\"\n",
      "score: 1.000000\n",
      "actual: 1\n",
      "\n",
      "input:\n",
      "\"7. Solid Eurogame. Too much luck for my taste. Feels unbalanced, too. Besides: This kind of mechanism overkill wasn't cool in Mombasa, and it is not in GWT.\"\n",
      "score: 0.000000\n",
      "actual: 1\n",
      "\n",
      "input:\n",
      "\"Overdone Viking theme, plodding, with runaway leader problem. Just not for me.\"\n",
      "score: 0.000000\n",
      "actual: 0\n",
      "\n",
      "input:\n",
      "\"Love the theme and the game.\"\n",
      "score: 1.000000\n",
      "actual: 1\n",
      "\n",
      "input:\n",
      "\"Sleeved \"\n",
      "score: 1.000000\n",
      "actual: 1\n",
      "\n",
      "input:\n",
      "\"Garritt's game\"\n",
      "score: 1.000000\n",
      "actual: 1\n",
      "\n",
      "input:\n",
      "\"Love love love Scythe. Got all of the main expansions. But the game looses a point for me for including an expansion tease on the main game board, meaning the starting spaces for future factions, meaning you pretty much are required to get a future expansion to unlock the full game. Should be a 9 but goes down to 8\"\n",
      "score: 1.000000\n",
      "actual: 1\n",
      "\n",
      "input:\n",
      "\"a good eurogame is one that is light in complexity but deep in decision making.\"\n",
      "score: 1.000000\n",
      "actual: 1\n",
      "\n",
      "input:\n",
      "\"Was the first real heavy game I played, and what a game it is. The cards give you an idea of what you can do on your following turn, but doesn't set the entire game like in Terra Mystica for instance. When can you build your factories, does your opponent plan on building in the same spot? Great interaction, i.e. you can not only stop your competitors but also help each other. \"\n",
      "score: 1.000000\n",
      "actual: 1\n"
     ]
    },
    {
     "name": "stderr",
     "output_type": "stream",
     "text": [
      "C:\\Users\\dev999\\.conda\\envs\\tensorflow2\\lib\\site-packages\\tensorflow\\python\\keras\\engine\\sequential.py:455: UserWarning: `model.predict_classes()` is deprecated and will be removed after 2021-01-01. Please use instead:* `np.argmax(model.predict(x), axis=-1)`,   if your model does multi-class classification   (e.g. if it uses a `softmax` last-layer activation).* `(model.predict(x) > 0.5).astype(\"int32\")`,   if your model does binary classification   (e.g. if it uses a `sigmoid` last-layer activation).\n",
      "  warnings.warn('`model.predict_classes()` is deprecated and '\n"
     ]
    }
   ],
   "source": [
    "inputs = x_train_clf[:10]\n",
    "outputs = y_train_clf[:10]\n",
    "results = classifier.predict(tf.constant(inputs), verbose=0)\n",
    "print_my_examples(inputs, results, outputs)"
   ]
  },
  {
   "cell_type": "code",
   "execution_count": 27,
   "metadata": {},
   "outputs": [],
   "source": [
    "## APPLY MODEL ON NON-RATED COMMENTS"
   ]
  },
  {
   "cell_type": "code",
   "execution_count": 28,
   "metadata": {},
   "outputs": [
    {
     "name": "stdout",
     "output_type": "stream",
     "text": [
      "8/8 - 0s\n",
      "input:\n",
      "\"Kickstarted: August 2021 Estimated Delivery Date: December 2022\"\n",
      "score: 1.000000\n",
      "\n",
      "input:\n",
      "\"Folded Space Insert including Expansions\"\n",
      "score: 1.000000\n",
      "\n",
      "input:\n",
      "\"Kickstarter Delivery expected December 2018\"\n",
      "score: 1.000000\n",
      "\n",
      "input:\n",
      "\"Sleeved 3d printed insert 3d printed components [A]\"\n",
      "score: 1.000000\n",
      "\n",
      "input:\n",
      "\"Terraforming Mars: BGG User-Created Corporation Pack Terraforming Mars: Colonies Terraforming Mars: Hellas & Elysium Terraforming Mars: Penguins Promo Card Terraforming Mars: Prelude Terraforming Mars: Self Replicating Robots Promo Card Terraforming Mars: Small Asteroid Promo Card Terraforming Mars: Snow Algae Promo Card Terraforming Mars: Turmoil (Kickstarter w/boards) Terraforming Mars: Venus Next\"\n",
      "score: 1.000000\n",
      "\n",
      "input:\n",
      "\"Jurgen, 2-4p, 3u, community solo rules\"\n",
      "score: 1.000000\n",
      "\n",
      "input:\n",
      "\"VN pledged Eternal Pledge + Playmat US ebayed Eternal Pledge + Playmat\"\n",
      "score: 1.000000\n",
      "\n",
      "input:\n",
      "\"Players: 1-5 Recommended: Best with 3-5 Time: 1 hour\"\n",
      "score: 1.000000\n",
      "\n",
      "input:\n",
      "\"Prelude, Hellas and Elysium, Venus Next, Colonies, Turmoil\"\n",
      "score: 1.000000\n",
      "\n",
      "input:\n",
      "\"Played once - looks ok, but want to play a few more times to get a better feel for the game before i rate it. \"\n",
      "score: 0.000000\n"
     ]
    }
   ],
   "source": [
    "not_rated_comments = not_rated_comments.sample(frac=1)\n",
    "results = classifier.predict(tf.constant(list(not_rated_comments.value.astype(str))))\n",
    "print_my_examples(list(not_rated_comments.value), results, limit=10)"
   ]
  },
  {
   "cell_type": "markdown",
   "metadata": {},
   "source": [
    "## REGRESSOR"
   ]
  },
  {
   "cell_type": "code",
   "execution_count": 29,
   "metadata": {},
   "outputs": [
    {
     "data": {
      "text/plain": [
       "GridSearchCV(cv=3,\n",
       "             estimator=<tensorflow.python.keras.wrappers.scikit_learn.KerasRegressor object at 0x0000019F0E0C0A90>,\n",
       "             param_grid={})"
      ]
     },
     "execution_count": 29,
     "metadata": {},
     "output_type": "execute_result"
    }
   ],
   "source": [
    "def build_regressor():\n",
    "    return build_model(hub_layer, pre_trained_model_name=MODEL_NAME, model_type='regressor', verbose=0)\n",
    "\n",
    "\n",
    "estimator = KerasRegressor(build_fn=build_regressor, epochs=100, batch_size=512, verbose=0, validation_split=VAL_FRACTION)\n",
    "x_train_reg = np.array(list(rated_comments.value))\n",
    "y_train_reg = np.array(list(rated_comments.rating.astype(float)))\n",
    "\n",
    "clf = GridSearchCV(\n",
    "    estimator, \n",
    "    cv=3, \n",
    "    param_grid={}\n",
    ")\n",
    "clf.fit(x_train_reg, y_train_reg, callbacks=[tf.keras.callbacks.EarlyStopping(monitor='val_mean_squared_error', patience=5, min_delta=0.001)])"
   ]
  },
  {
   "cell_type": "code",
   "execution_count": 30,
   "metadata": {},
   "outputs": [],
   "source": [
    "regressor = clf.best_estimator_\n",
    "regressor_history_dict = regressor.model.history.history"
   ]
  },
  {
   "cell_type": "code",
   "execution_count": 31,
   "metadata": {},
   "outputs": [
    {
     "data": {
      "text/plain": [
       "dict_keys(['loss', 'mean_squared_error', 'val_loss', 'val_mean_squared_error'])"
      ]
     },
     "execution_count": 31,
     "metadata": {},
     "output_type": "execute_result"
    }
   ],
   "source": [
    "regressor_history_dict.keys()"
   ]
  },
  {
   "cell_type": "code",
   "execution_count": 32,
   "metadata": {},
   "outputs": [],
   "source": [
    "mean_squared_error = regressor_history_dict['mean_squared_error']\n",
    "val_mean_squared_error = regressor_history_dict['val_mean_squared_error']\n",
    "loss = regressor_history_dict['loss']\n",
    "val_loss = regressor_history_dict['val_loss']"
   ]
  },
  {
   "cell_type": "code",
   "execution_count": 33,
   "metadata": {},
   "outputs": [],
   "source": [
    "epochs = range(1, len(mean_squared_error) + 1) "
   ]
  },
  {
   "cell_type": "code",
   "execution_count": 34,
   "metadata": {},
   "outputs": [
    {
     "name": "stdout",
     "output_type": "stream",
     "text": [
      "MEAN SQUARED ERROR (VALIDATION SET): 2.51\n"
     ]
    }
   ],
   "source": [
    "print(f\"MEAN SQUARED ERROR (VALIDATION SET): {val_mean_squared_error[-1]:.2f}\")"
   ]
  },
  {
   "cell_type": "code",
   "execution_count": 35,
   "metadata": {},
   "outputs": [
    {
     "name": "stdout",
     "output_type": "stream",
     "text": [
      "MEAN SQUARED ERROR (TRAINING SET): 1.06\n"
     ]
    }
   ],
   "source": [
    "print(f\"MEAN SQUARED ERROR (TRAINING SET): {mean_squared_error[-1]:.2f}\")"
   ]
  },
  {
   "cell_type": "code",
   "execution_count": 36,
   "metadata": {},
   "outputs": [
    {
     "data": {
      "image/png": "[encoded data removed]",
      "text/plain": [
       "<Figure size 648x360 with 1 Axes>"
      ]
     },
     "metadata": {
      "needs_background": "light"
     },
     "output_type": "display_data"
    }
   ],
   "source": [
    "# \"bo\" is for \"blue dot\"\n",
    "plt.figure(figsize=(9, 5))\n",
    "plt.plot(epochs, loss, 'bo', label='Training loss')\n",
    "# b is for \"solid blue line\"\n",
    "plt.plot(epochs, val_loss, 'b', label='Validation loss')\n",
    "plt.title('Training and validation loss')\n",
    "plt.xlabel('Epochs')\n",
    "plt.ylabel('Loss')\n",
    "plt.grid(True)\n",
    "plt.legend()\n",
    "\n",
    "plt.show()"
   ]
  },
  {
   "cell_type": "code",
   "execution_count": 37,
   "metadata": {},
   "outputs": [
    {
     "data": {
      "image/png": "[encoded data removed]",
      "text/plain": [
       "<Figure size 648x360 with 1 Axes>"
      ]
     },
     "metadata": {
      "needs_background": "light"
     },
     "output_type": "display_data"
    }
   ],
   "source": [
    "plt.figure(figsize=(9, 5))\n",
    "plt.plot(epochs, mean_squared_error, 'bo', label='Training mean squared error')\n",
    "plt.plot(epochs, val_mean_squared_error, 'b', label='Validation mean squared error')\n",
    "plt.title('Training and validation accuracy')\n",
    "plt.xlabel('Epochs')\n",
    "plt.ylabel('Mean squared error')\n",
    "plt.grid(True)\n",
    "plt.legend()\n",
    "\n",
    "plt.show()"
   ]
  },
  {
   "cell_type": "code",
   "execution_count": 38,
   "metadata": {},
   "outputs": [
    {
     "name": "stdout",
     "output_type": "stream",
     "text": [
      "input: \n",
      "\"Amazing.. get it\"\n",
      "score: 8.17\n",
      "actual: 10.00 \n",
      "\n",
      "input: \n",
      "\"+ Les sorcières s'en mêlent\"\n",
      "score: 7.68\n",
      "actual: 7.50 \n",
      "\n",
      "input: \n",
      "\"7. Solid Eurogame. Too much luck for my taste. Feels unbalanced, too. Besides: This kind of mechanism overkill wasn't cool in Mombasa, and it is not in GWT.\"\n",
      "score: 6.48\n",
      "actual: 7.00 \n",
      "\n",
      "input: \n",
      "\"Overdone Viking theme, plodding, with runaway leader problem. Just not for me.\"\n",
      "score: 3.99\n",
      "actual: 4.00 \n",
      "\n",
      "input: \n",
      "\"Love the theme and the game.\"\n",
      "score: 8.78\n",
      "actual: 9.00 \n",
      "\n",
      "input: \n",
      "\"Sleeved \"\n",
      "score: 8.84\n",
      "actual: 10.00 \n",
      "\n",
      "input: \n",
      "\"Garritt's game\"\n",
      "score: 8.72\n",
      "actual: 9.00 \n",
      "\n",
      "input: \n",
      "\"Love love love Scythe. Got all of the main expansions. But the game looses a point for me for including an expansion tease on the main game board, meaning the starting spaces for future factions, meaning you pretty much are required to get a future expansion to unlock the full game. Should be a 9 but goes down to 8\"\n",
      "score: 8.76\n",
      "actual: 8.00 \n",
      "\n",
      "input: \n",
      "\"a good eurogame is one that is light in complexity but deep in decision making.\"\n",
      "score: 8.18\n",
      "actual: 10.00 \n",
      "\n",
      "input: \n",
      "\"Was the first real heavy game I played, and what a game it is. The cards give you an idea of what you can do on your following turn, but doesn't set the entire game like in Terra Mystica for instance. When can you build your factories, does your opponent plan on building in the same spot? Great interaction, i.e. you can not only stop your competitors but also help each other. \"\n",
      "score: 8.37\n",
      "actual: 10.00 \n",
      "\n"
     ]
    }
   ],
   "source": [
    "inputs = x_train_reg[:10]\n",
    "outputs = y_train_reg[:10]\n",
    "results = clf.best_estimator_.predict(tf.constant(inputs), verbose=0)\n",
    "for i in range(len(inputs)):\n",
    "    print(f\"input: \\n\\\"{inputs[i]}\\\"\\nscore: {results[i]:.2f}\\nactual: {outputs[i]:.2f} \\n\")"
   ]
  },
  {
   "cell_type": "markdown",
   "metadata": {},
   "source": [
    "## COMPARE CLASSIFIER VS REGRESSOR"
   ]
  },
  {
   "cell_type": "code",
   "execution_count": 39,
   "metadata": {},
   "outputs": [
    {
     "name": "stdout",
     "output_type": "stream",
     "text": [
      "\"+1) New Players Boards +2) New Hex Tiles +4) Monastery Boards +5) Pleasure Garden +6) The Cloisters +8) Trade Routes\"\n",
      "    reg score: 9.34\n",
      "    clf score: 1\n",
      "\n",
      "\"Have not played enough to rate yet\"\n",
      "    reg score: 8.40\n",
      "    clf score: 1\n",
      "\n",
      "\"Every time I opened the box - the entire task of setting this up and playing seemed too daunting. In the end, sold the first edition off (unpunched) to someone who'd enjoy it better.   Might eventually purchase a copy - but think I'm just not into dungeon crawlers.\"\n",
      "    reg score: 6.83\n",
      "    clf score: 0\n",
      "\n",
      "\"---------------------------------------- PUBLISHER: Stonemaier Games EDITION:   - VERSION:   Collector (#11053) LANGUAGE:  English ---------------------------------------- EXP + Invaders from Afar (2016) + The Wind Gambit (2017) + The Rise of Fenris (2018) PRO + Promo Pack #1 (2016): Encounter #29-#32 + Promo Pack #2 (2016): Encounter #33-#36 + Promo Pack #3 (2016): Objective #24-#27 + Promo Pack #4 (2016): Factory #13-#18 + Promo Pack #5 (2016): Power Dials ACC + Board Extension (2016) + Metal Coins (2016) + Realistic Resource Tokens (2015) + Legendary Box (2017)\"\n",
      "    reg score: 8.99\n",
      "    clf score: 1\n",
      "\n",
      "\"Sounds awesome, but quite pricey, when will it go down in price?\"\n",
      "    reg score: 6.32\n",
      "    clf score: 1\n",
      "\n",
      "\"First game to go... Material and Artwork are astonishing...\"\n",
      "    reg score: 5.60\n",
      "    clf score: 0\n",
      "\n",
      "\"www.youtube.com/watch?v=Tfwfx9tAMM4\"\n",
      "    reg score: 8.59\n",
      "    clf score: 1\n",
      "\n",
      "\"Placeholder - \"I have played it a lot with a friend who owns it\" Actually just had the time to try to grasp the rules before we all gave up\"\n",
      "    reg score: 7.11\n",
      "    clf score: 0\n",
      "\n",
      "\"Excellent coop trick taking game.\"\n",
      "    reg score: 8.56\n",
      "    clf score: 1\n",
      "\n",
      "\"Brilliant. I thought it would be a chaotic epic fun mess, but it's surprisingly tightly designed. Rules are clear and the strategic choices feel meaningful and satisfying. It strikes the perfect balance between \"we are at each others throats\" and \"maybe we should be friends\". The agenda phase is awesome, I love to roleplay, the races are very unique. Playing is a meaty event: 5h to 7h is a good estimate. \"\n",
      "    reg score: 11.07\n",
      "    clf score: 1\n",
      "\n"
     ]
    },
    {
     "name": "stderr",
     "output_type": "stream",
     "text": [
      "C:\\Users\\dev999\\.conda\\envs\\tensorflow2\\lib\\site-packages\\tensorflow\\python\\keras\\engine\\sequential.py:455: UserWarning: `model.predict_classes()` is deprecated and will be removed after 2021-01-01. Please use instead:* `np.argmax(model.predict(x), axis=-1)`,   if your model does multi-class classification   (e.g. if it uses a `softmax` last-layer activation).* `(model.predict(x) > 0.5).astype(\"int32\")`,   if your model does binary classification   (e.g. if it uses a `sigmoid` last-layer activation).\n",
      "  warnings.warn('`model.predict_classes()` is deprecated and '\n"
     ]
    }
   ],
   "source": [
    "not_rated_comments = not_rated_comments.sample(frac=1)\n",
    "inputs = list(not_rated_comments.value.astype(str))[:10]\n",
    "\n",
    "clf_results = classifier.predict(inputs, verbose=0)\n",
    "reg_results = regressor.predict(inputs, verbose=0)\n",
    "for i in range(len(inputs)):\n",
    "    print(f\"\"\"\\\"{inputs[i]}\\\"\n",
    "    reg score: {reg_results[i]:.2f}\n",
    "    clf score: {clf_results[i][0]}\n",
    "\"\"\")"
   ]
  },
  {
   "cell_type": "markdown",
   "metadata": {},
   "source": [
    "### RESULTS\n",
    "It seems that the regressor is much more accurate compared to the binary classifier => **let's use the regressors results to fix the BGG rating**"
   ]
  },
  {
   "cell_type": "markdown",
   "metadata": {},
   "source": [
    "## COMBINE RATED COMMENTS AND NOT-RATED COMMENTS WITH PREDICTED RATING"
   ]
  },
  {
   "cell_type": "code",
   "execution_count": 40,
   "metadata": {},
   "outputs": [
    {
     "name": "stdout",
     "output_type": "stream",
     "text": [
      "rated_comments_grouped: \n",
      "|     id |   rating_mean |   rating_count |\n",
      "|--------|---------------|----------------|\n",
      "| 162886 |          8.37 |           3698 |\n",
      "| 167355 |          8.41 |           2002 |\n",
      "| 167791 |          8.20 |           8521 |\n",
      "| 169786 |          8.09 |           7524 |\n",
      "| 170216 |          7.97 |           4365 |\n"
     ]
    }
   ],
   "source": [
    "rated_comments['rating'] = rated_comments.rating.astype(float)\n",
    "rated_comments_grouped = rated_comments.groupby('id').agg({'rating': ['mean', 'count']})\n",
    "rated_comments_grouped.columns = list(rated_comments_grouped.columns.map('_'.join))\n",
    "rated_comments_grouped = rated_comments_grouped.reset_index()\n",
    "print(\"rated_comments_grouped: \")\n",
    "print(rated_comments_grouped.head().to_markdown(index=False, floatfmt='.2f', tablefmt='github'))"
   ]
  },
  {
   "cell_type": "code",
   "execution_count": 41,
   "metadata": {},
   "outputs": [],
   "source": [
    "not_rated_comments['rating'] = regressor.predict(list(not_rated_comments.value.astype(str)))"
   ]
  },
  {
   "cell_type": "code",
   "execution_count": 42,
   "metadata": {},
   "outputs": [
    {
     "name": "stdout",
     "output_type": "stream",
     "text": [
      "not_rated_comments_grouped: \n",
      "|     id |   rating_mean |   rating_count |\n",
      "|--------|---------------|----------------|\n",
      "| 162886 |          8.21 |            327 |\n",
      "| 167355 |          8.25 |            213 |\n",
      "| 167791 |          8.32 |            454 |\n",
      "| 169786 |          8.20 |            612 |\n",
      "| 170216 |          8.19 |            329 |\n"
     ]
    }
   ],
   "source": [
    "not_rated_comments['rating'] = not_rated_comments.rating.astype(float)\n",
    "not_rated_comments['rating'] = not_rated_comments['rating'].clip(0, 10)\n",
    "not_rated_comments_grouped = not_rated_comments.groupby('id').agg({'rating': ['mean', 'count']})\n",
    "not_rated_comments_grouped.columns = list(not_rated_comments_grouped.columns.map('_'.join))\n",
    "not_rated_comments_grouped = not_rated_comments_grouped.reset_index()\n",
    "print(\"not_rated_comments_grouped: \")\n",
    "print(not_rated_comments_grouped.head().to_markdown(index=False, floatfmt='.2f', tablefmt='github'))"
   ]
  },
  {
   "cell_type": "code",
   "execution_count": 43,
   "metadata": {},
   "outputs": [],
   "source": [
    "grouped = rated_comments_grouped.merge(not_rated_comments_grouped, on='id', suffixes=('_review', '_comments'), how='outer')\n",
    "grouped['id'] = grouped.id.astype(str)\n",
    "grouped = grouped.merge(pd.DataFrame(hot_array), on='id', how='right')\n",
    "grouped['rank'] = grouped['rank'].astype(int)\n",
    "grouped['url'] = grouped['id'].apply(lambda x: f\"https://boardgamegeek.com/boardgame/{x}\")\n",
    "grouped['fixed_rating'] = (grouped['rating_mean_review']*grouped['rating_count_review']+grouped['rating_mean_comments']*grouped['rating_count_comments']) /\\\n",
    "                            (grouped['rating_count_review']+grouped['rating_count_comments'])\n",
    "grouped['thumbnail'] = grouped['thumbnail'].apply(lambda x: f'<img src=\"{x}\" width=\"124\" />')\n",
    "grouped['name'] = grouped.apply(lambda x: f'<a href=\"{x[\"url\"]}\">{x[\"name\"]}</a>', axis=1)\n",
    "\n",
    "grouped = grouped[['thumbnail', 'name', 'rating_mean_review', 'rating_mean_comments', 'fixed_rating', 'rank', 'yearpublished']]"
   ]
  },
  {
   "cell_type": "code",
   "execution_count": 44,
   "metadata": {},
   "outputs": [
    {
     "data": {
      "text/html": [
       "<div>\n",
       "<style scoped>\n",
       "    .dataframe tbody tr th:only-of-type {\n",
       "        vertical-align: middle;\n",
       "    }\n",
       "\n",
       "    .dataframe tbody tr th {\n",
       "        vertical-align: top;\n",
       "    }\n",
       "\n",
       "    .dataframe thead th {\n",
       "        text-align: right;\n",
       "    }\n",
       "</style>\n",
       "<table border=\"1\" class=\"dataframe\">\n",
       "  <thead>\n",
       "    <tr style=\"text-align: right;\">\n",
       "      <th></th>\n",
       "      <th>thumbnail</th>\n",
       "      <th>name</th>\n",
       "      <th>rating_mean_review</th>\n",
       "      <th>rating_mean_comments</th>\n",
       "      <th>fixed_rating</th>\n",
       "      <th>rank</th>\n",
       "      <th>yearpublished</th>\n",
       "    </tr>\n",
       "  </thead>\n",
       "  <tbody>\n",
       "    <tr>\n",
       "      <th>0</th>\n",
       "      <td>&lt;img src=\"https://cf.geekdo-images.com/E8qBDKe...</td>\n",
       "      <td>&lt;a href=\"https://boardgamegeek.com/boardgame/2...</td>\n",
       "      <td>9.000000</td>\n",
       "      <td>7.618282</td>\n",
       "      <td>8.232379</td>\n",
       "      <td>1</td>\n",
       "      <td>2022</td>\n",
       "    </tr>\n",
       "    <tr>\n",
       "      <th>1</th>\n",
       "      <td>&lt;img src=\"https://cf.geekdo-images.com/Q96PxRV...</td>\n",
       "      <td>&lt;a href=\"https://boardgamegeek.com/boardgame/3...</td>\n",
       "      <td>6.938706</td>\n",
       "      <td>6.135422</td>\n",
       "      <td>6.906359</td>\n",
       "      <td>2</td>\n",
       "      <td>2021</td>\n",
       "    </tr>\n",
       "    <tr>\n",
       "      <th>2</th>\n",
       "      <td>&lt;img src=\"https://cf.geekdo-images.com/3P1cMmZ...</td>\n",
       "      <td>&lt;a href=\"https://boardgamegeek.com/boardgame/2...</td>\n",
       "      <td>7.095238</td>\n",
       "      <td>8.356588</td>\n",
       "      <td>7.967054</td>\n",
       "      <td>3</td>\n",
       "      <td>2021</td>\n",
       "    </tr>\n",
       "    <tr>\n",
       "      <th>3</th>\n",
       "      <td>&lt;img src=\"https://cf.geekdo-images.com/utvlrrm...</td>\n",
       "      <td>&lt;a href=\"https://boardgamegeek.com/boardgame/3...</td>\n",
       "      <td>3.000000</td>\n",
       "      <td>8.791581</td>\n",
       "      <td>7.343686</td>\n",
       "      <td>4</td>\n",
       "      <td>2021</td>\n",
       "    </tr>\n",
       "    <tr>\n",
       "      <th>4</th>\n",
       "      <td>&lt;img src=\"https://cf.geekdo-images.com/9Upl9mD...</td>\n",
       "      <td>&lt;a href=\"https://boardgamegeek.com/boardgame/2...</td>\n",
       "      <td>9.028571</td>\n",
       "      <td>8.195788</td>\n",
       "      <td>8.560131</td>\n",
       "      <td>5</td>\n",
       "      <td>2021</td>\n",
       "    </tr>\n",
       "  </tbody>\n",
       "</table>\n",
       "</div>"
      ],
      "text/plain": [
       "                                           thumbnail  \\\n",
       "0  <img src=\"https://cf.geekdo-images.com/E8qBDKe...   \n",
       "1  <img src=\"https://cf.geekdo-images.com/Q96PxRV...   \n",
       "2  <img src=\"https://cf.geekdo-images.com/3P1cMmZ...   \n",
       "3  <img src=\"https://cf.geekdo-images.com/utvlrrm...   \n",
       "4  <img src=\"https://cf.geekdo-images.com/9Upl9mD...   \n",
       "\n",
       "                                                name  rating_mean_review  \\\n",
       "0  <a href=\"https://boardgamegeek.com/boardgame/2...            9.000000   \n",
       "1  <a href=\"https://boardgamegeek.com/boardgame/3...            6.938706   \n",
       "2  <a href=\"https://boardgamegeek.com/boardgame/2...            7.095238   \n",
       "3  <a href=\"https://boardgamegeek.com/boardgame/3...            3.000000   \n",
       "4  <a href=\"https://boardgamegeek.com/boardgame/2...            9.028571   \n",
       "\n",
       "   rating_mean_comments  fixed_rating  rank yearpublished  \n",
       "0              7.618282      8.232379     1          2022  \n",
       "1              6.135422      6.906359     2          2021  \n",
       "2              8.356588      7.967054     3          2021  \n",
       "3              8.791581      7.343686     4          2021  \n",
       "4              8.195788      8.560131     5          2021  "
      ]
     },
     "execution_count": 44,
     "metadata": {},
     "output_type": "execute_result"
    }
   ],
   "source": [
    "grouped.head()"
   ]
  },
  {
   "cell_type": "code",
   "execution_count": 45,
   "metadata": {},
   "outputs": [],
   "source": [
    "def display_topn(by, n=5, ascending=True):\n",
    "    temp_df = grouped.sort_values(by, ascending=ascending).head(n)\n",
    "    temp_df.index=list(range(1, n+1))\n",
    "    return HTML(temp_df.to_html(escape=False, classes='table table-striped'))"
   ]
  },
  {
   "cell_type": "code",
   "execution_count": 46,
   "metadata": {},
   "outputs": [
    {
     "data": {
      "text/html": [
       "<table border=\"1\" class=\"dataframe table table-striped\">\n",
       "  <thead>\n",
       "    <tr style=\"text-align: right;\">\n",
       "      <th></th>\n",
       "      <th>thumbnail</th>\n",
       "      <th>name</th>\n",
       "      <th>rating_mean_review</th>\n",
       "      <th>rating_mean_comments</th>\n",
       "      <th>fixed_rating</th>\n",
       "      <th>rank</th>\n",
       "      <th>yearpublished</th>\n",
       "    </tr>\n",
       "  </thead>\n",
       "  <tbody>\n",
       "    <tr>\n",
       "      <th>1</th>\n",
       "      <td><img src=\"https://cf.geekdo-images.com/E8qBDKe39KEFMo-LhTNDQQ__thumb/img/jFQaWbcjoUzxS7p76LsGzg4piQk=/fit-in/200x150/filters:strip_icc()/pic6333980.jpg\" width=\"124\" /></td>\n",
       "      <td><a href=\"https://boardgamegeek.com/boardgame/237179\">Weather Machine</a></td>\n",
       "      <td>9.000000</td>\n",
       "      <td>7.618282</td>\n",
       "      <td>8.232379</td>\n",
       "      <td>1</td>\n",
       "      <td>2022</td>\n",
       "    </tr>\n",
       "    <tr>\n",
       "      <th>2</th>\n",
       "      <td><img src=\"https://cf.geekdo-images.com/Q96PxRVbrDxS9_4ZPTJtHQ__thumb/img/hXnjkvD7KiLk2fon8tbvsXNtT_k=/fit-in/200x150/filters:strip_icc()/pic5941333.png\" width=\"124\" /></td>\n",
       "      <td><a href=\"https://boardgamegeek.com/boardgame/322708\">Descent: Legends of the Dark</a></td>\n",
       "      <td>6.938706</td>\n",
       "      <td>6.135422</td>\n",
       "      <td>6.906359</td>\n",
       "      <td>2</td>\n",
       "      <td>2021</td>\n",
       "    </tr>\n",
       "    <tr>\n",
       "      <th>3</th>\n",
       "      <td><img src=\"https://cf.geekdo-images.com/3P1cMmZ47nf_L1zLO-pKlg__thumb/img/TEMZ4S46PDoaI3X2enaNKKLthPE=/fit-in/200x150/filters:strip_icc()/pic5016682.jpg\" width=\"124\" /></td>\n",
       "      <td><a href=\"https://boardgamegeek.com/boardgame/292375\">The Great Wall</a></td>\n",
       "      <td>7.095238</td>\n",
       "      <td>8.356588</td>\n",
       "      <td>7.967054</td>\n",
       "      <td>3</td>\n",
       "      <td>2021</td>\n",
       "    </tr>\n",
       "    <tr>\n",
       "      <th>4</th>\n",
       "      <td><img src=\"https://cf.geekdo-images.com/utvlrrmevsn9Cb_Fs6kqlg__thumb/img/CjNBS17ZhTbUnnc2F7grdDBk4Us=/fit-in/200x150/filters:strip_icc()/pic6329299.jpg\" width=\"124\" /></td>\n",
       "      <td><a href=\"https://boardgamegeek.com/boardgame/344277\">Corrosion</a></td>\n",
       "      <td>3.000000</td>\n",
       "      <td>8.791581</td>\n",
       "      <td>7.343686</td>\n",
       "      <td>4</td>\n",
       "      <td>2021</td>\n",
       "    </tr>\n",
       "    <tr>\n",
       "      <th>5</th>\n",
       "      <td><img src=\"https://cf.geekdo-images.com/9Upl9mDSHnO7d3xhJio6RQ__thumb/img/JmuR2GLHVSLrpfF_3skkngpQ3Vc=/fit-in/200x150/filters:strip_icc()/pic4936106.jpg\" width=\"124\" /></td>\n",
       "      <td><a href=\"https://boardgamegeek.com/boardgame/288080\">Dice Realms</a></td>\n",
       "      <td>9.028571</td>\n",
       "      <td>8.195788</td>\n",
       "      <td>8.560131</td>\n",
       "      <td>5</td>\n",
       "      <td>2021</td>\n",
       "    </tr>\n",
       "  </tbody>\n",
       "</table>"
      ],
      "text/plain": [
       "<IPython.core.display.HTML object>"
      ]
     },
     "execution_count": 46,
     "metadata": {},
     "output_type": "execute_result"
    }
   ],
   "source": [
    "# TOP N RANK\n",
    "display_topn(by='rank', n=TOP_N)"
   ]
  },
  {
   "cell_type": "code",
   "execution_count": 47,
   "metadata": {},
   "outputs": [
    {
     "data": {
      "text/html": [
       "<table border=\"1\" class=\"dataframe table table-striped\">\n",
       "  <thead>\n",
       "    <tr style=\"text-align: right;\">\n",
       "      <th></th>\n",
       "      <th>thumbnail</th>\n",
       "      <th>name</th>\n",
       "      <th>rating_mean_review</th>\n",
       "      <th>rating_mean_comments</th>\n",
       "      <th>fixed_rating</th>\n",
       "      <th>rank</th>\n",
       "      <th>yearpublished</th>\n",
       "    </tr>\n",
       "  </thead>\n",
       "  <tbody>\n",
       "    <tr>\n",
       "      <th>1</th>\n",
       "      <td><img src=\"https://cf.geekdo-images.com/hItZjdDTNuaCZ7fEztwcUQ__thumb/img/Ov6eWR87PZ2O1XYQtXMO6KvfzOg=/fit-in/200x150/filters:strip_icc()/pic6153324.jpg\" width=\"124\" /></td>\n",
       "      <td><a href=\"https://boardgamegeek.com/boardgame/337627\">Voidfall</a></td>\n",
       "      <td>10.000000</td>\n",
       "      <td>7.673881</td>\n",
       "      <td>8.139105</td>\n",
       "      <td>48</td>\n",
       "      <td>2022</td>\n",
       "    </tr>\n",
       "    <tr>\n",
       "      <th>2</th>\n",
       "      <td><img src=\"https://cf.geekdo-images.com/9Upl9mDSHnO7d3xhJio6RQ__thumb/img/JmuR2GLHVSLrpfF_3skkngpQ3Vc=/fit-in/200x150/filters:strip_icc()/pic4936106.jpg\" width=\"124\" /></td>\n",
       "      <td><a href=\"https://boardgamegeek.com/boardgame/288080\">Dice Realms</a></td>\n",
       "      <td>9.028571</td>\n",
       "      <td>8.195788</td>\n",
       "      <td>8.560131</td>\n",
       "      <td>5</td>\n",
       "      <td>2021</td>\n",
       "    </tr>\n",
       "    <tr>\n",
       "      <th>3</th>\n",
       "      <td><img src=\"https://cf.geekdo-images.com/E8qBDKe39KEFMo-LhTNDQQ__thumb/img/jFQaWbcjoUzxS7p76LsGzg4piQk=/fit-in/200x150/filters:strip_icc()/pic6333980.jpg\" width=\"124\" /></td>\n",
       "      <td><a href=\"https://boardgamegeek.com/boardgame/237179\">Weather Machine</a></td>\n",
       "      <td>9.000000</td>\n",
       "      <td>7.618282</td>\n",
       "      <td>8.232379</td>\n",
       "      <td>1</td>\n",
       "      <td>2022</td>\n",
       "    </tr>\n",
       "    <tr>\n",
       "      <th>4</th>\n",
       "      <td><img src=\"https://cf.geekdo-images.com/zw7xI7gJD6r7zNDR-AbVAQ__thumb/img/zdtFJ5tcE_59VRiqO9cgjxWP6Zw=/fit-in/200x150/filters:strip_icc()/pic6338617.jpg\" width=\"124\" /></td>\n",
       "      <td><a href=\"https://boardgamegeek.com/boardgame/315727\">Last Light</a></td>\n",
       "      <td>8.936364</td>\n",
       "      <td>8.239036</td>\n",
       "      <td>8.829082</td>\n",
       "      <td>27</td>\n",
       "      <td>2022</td>\n",
       "    </tr>\n",
       "    <tr>\n",
       "      <th>5</th>\n",
       "      <td><img src=\"https://cf.geekdo-images.com/Oh3kHw6lweg6ru71Q16h2Q__thumb/img/e9XZdQe1ZcPpaq4Gy31OoWBB_V0=/fit-in/200x150/filters:strip_icc()/pic5235277.jpg\" width=\"124\" /></td>\n",
       "      <td><a href=\"https://boardgamegeek.com/boardgame/246900\">Eclipse: Second Dawn for the Galaxy</a></td>\n",
       "      <td>8.726327</td>\n",
       "      <td>8.183322</td>\n",
       "      <td>8.644595</td>\n",
       "      <td>39</td>\n",
       "      <td>2020</td>\n",
       "    </tr>\n",
       "  </tbody>\n",
       "</table>"
      ],
      "text/plain": [
       "<IPython.core.display.HTML object>"
      ]
     },
     "execution_count": 47,
     "metadata": {},
     "output_type": "execute_result"
    }
   ],
   "source": [
    "# TOP N REVIEW RANK\n",
    "display_topn(by='rating_mean_review', n=TOP_N, ascending=False)"
   ]
  },
  {
   "cell_type": "code",
   "execution_count": 48,
   "metadata": {},
   "outputs": [
    {
     "data": {
      "text/html": [
       "<table border=\"1\" class=\"dataframe table table-striped\">\n",
       "  <thead>\n",
       "    <tr style=\"text-align: right;\">\n",
       "      <th></th>\n",
       "      <th>thumbnail</th>\n",
       "      <th>name</th>\n",
       "      <th>rating_mean_review</th>\n",
       "      <th>rating_mean_comments</th>\n",
       "      <th>fixed_rating</th>\n",
       "      <th>rank</th>\n",
       "      <th>yearpublished</th>\n",
       "    </tr>\n",
       "  </thead>\n",
       "  <tbody>\n",
       "    <tr>\n",
       "      <th>1</th>\n",
       "      <td><img src=\"https://cf.geekdo-images.com/zw7xI7gJD6r7zNDR-AbVAQ__thumb/img/zdtFJ5tcE_59VRiqO9cgjxWP6Zw=/fit-in/200x150/filters:strip_icc()/pic6338617.jpg\" width=\"124\" /></td>\n",
       "      <td><a href=\"https://boardgamegeek.com/boardgame/315727\">Last Light</a></td>\n",
       "      <td>8.936364</td>\n",
       "      <td>8.239036</td>\n",
       "      <td>8.829082</td>\n",
       "      <td>27</td>\n",
       "      <td>2022</td>\n",
       "    </tr>\n",
       "    <tr>\n",
       "      <th>2</th>\n",
       "      <td><img src=\"https://cf.geekdo-images.com/Oh3kHw6lweg6ru71Q16h2Q__thumb/img/e9XZdQe1ZcPpaq4Gy31OoWBB_V0=/fit-in/200x150/filters:strip_icc()/pic5235277.jpg\" width=\"124\" /></td>\n",
       "      <td><a href=\"https://boardgamegeek.com/boardgame/246900\">Eclipse: Second Dawn for the Galaxy</a></td>\n",
       "      <td>8.726327</td>\n",
       "      <td>8.183322</td>\n",
       "      <td>8.644595</td>\n",
       "      <td>39</td>\n",
       "      <td>2020</td>\n",
       "    </tr>\n",
       "    <tr>\n",
       "      <th>3</th>\n",
       "      <td><img src=\"https://cf.geekdo-images.com/x3zxjr-Vw5iU4yDPg70Jgw__thumb/img/o18rjEemoWaVru9Y2TyPwuIaRfE=/fit-in/200x150/filters:strip_icc()/pic3490053.jpg\" width=\"124\" /></td>\n",
       "      <td><a href=\"https://boardgamegeek.com/boardgame/224517\">Brass: Birmingham</a></td>\n",
       "      <td>8.676521</td>\n",
       "      <td>8.280542</td>\n",
       "      <td>8.641616</td>\n",
       "      <td>29</td>\n",
       "      <td>2018</td>\n",
       "    </tr>\n",
       "    <tr>\n",
       "      <th>4</th>\n",
       "      <td><img src=\"https://cf.geekdo-images.com/9Upl9mDSHnO7d3xhJio6RQ__thumb/img/JmuR2GLHVSLrpfF_3skkngpQ3Vc=/fit-in/200x150/filters:strip_icc()/pic4936106.jpg\" width=\"124\" /></td>\n",
       "      <td><a href=\"https://boardgamegeek.com/boardgame/288080\">Dice Realms</a></td>\n",
       "      <td>9.028571</td>\n",
       "      <td>8.195788</td>\n",
       "      <td>8.560131</td>\n",
       "      <td>5</td>\n",
       "      <td>2021</td>\n",
       "    </tr>\n",
       "    <tr>\n",
       "      <th>5</th>\n",
       "      <td><img src=\"https://cf.geekdo-images.com/_HhIdavYW-hid20Iq3hhmg__thumb/img/OMkN_E5eyWrkID_cHCnQEbIixGM=/fit-in/200x150/filters:strip_icc()/pic5055631.jpg\" width=\"124\" /></td>\n",
       "      <td><a href=\"https://boardgamegeek.com/boardgame/291457\">Gloomhaven: Jaws of the Lion</a></td>\n",
       "      <td>8.552040</td>\n",
       "      <td>8.129974</td>\n",
       "      <td>8.513428</td>\n",
       "      <td>31</td>\n",
       "      <td>2020</td>\n",
       "    </tr>\n",
       "  </tbody>\n",
       "</table>"
      ],
      "text/plain": [
       "<IPython.core.display.HTML object>"
      ]
     },
     "execution_count": 48,
     "metadata": {},
     "output_type": "execute_result"
    }
   ],
   "source": [
    "# TOP N FIXED RANK\n",
    "display_topn(by='fixed_rating', n=TOP_N, ascending=False)"
   ]
  },
  {
   "cell_type": "code",
   "execution_count": 49,
   "metadata": {},
   "outputs": [],
   "source": [
    "# model.save('saved_model\\my_model')"
   ]
  },
  {
   "cell_type": "code",
   "execution_count": 50,
   "metadata": {},
   "outputs": [],
   "source": [
    "# saved_model = tf.keras.models.load_model('saved_model\\my_model')"
   ]
  },
  {
   "cell_type": "code",
   "execution_count": 51,
   "metadata": {},
   "outputs": [],
   "source": [
    "# some examples on \"long\" comments vs short comments"
   ]
  },
  {
   "cell_type": "code",
   "execution_count": 52,
   "metadata": {},
   "outputs": [],
   "source": [
    "not_rated_comments['comment_len'] = not_rated_comments['value'].str.len()\n",
    "some_long_comments = not_rated_comments.query(\"comment_len>100 and comment_len<300\").sample(frac=1).head(25).sort_values('rating')"
   ]
  },
  {
   "cell_type": "code",
   "execution_count": 53,
   "metadata": {},
   "outputs": [
    {
     "name": "stdout",
     "output_type": "stream",
     "text": [
      "\"Would consider used when newness wears off and price comes down.  Unique concept that would add a new flavor to my collection.\"\n",
      "score: 3.76\n",
      "\n",
      "\"Due May 2020 - sold straight away in shrink. I’d like to play this still but it was worth too much to hold on to.\"\n",
      "score: 6.25\n",
      "\n",
      "\"I finally decided I love the idea of the land fighting back against the invaders too much not to own this game.\"\n",
      "score: 6.64\n",
      "\n",
      "\"Condition:    NIS (New In Shrink) Acquisition:  8/12/2020 Source:       GameNerdz MSRP:         $59.99 Paid Price:   $49.99\"\n",
      "score: 6.81\n",
      "\n",
      "\"+ Expansiones: - Ciclo El Legado de Dunwich - Ciclo Camino a Carcosa  + PODs: - La maldición de rougarou - Carnevale de horrores  + Escenarios independientes: - Guardianes del Abismo - Asesinato en el Hotel Excelsior - La masa que lo devoraba todo - La guerra de los Dioses Exteriores\"\n",
      "score: 7.00\n",
      "\n",
      "\"Have played the first couple scenarios. Really dug it. Waiting to get deeper into it before reviewing.\"\n",
      "score: 7.14\n",
      "\n",
      "\"Just as I was done spending one month's salary, Gloomhaven came back to Kicstarter, sitting primly on the next month's shoulders and smiling sweetly.  Eighth kickstarted game.\"\n",
      "score: 7.59\n",
      "\n",
      "\"Played twice in person and loved it, I want to play again sometime. This game would probably be a 10/10 for me though. \"\n",
      "score: 7.69\n",
      "\n",
      "\"Designer: Thomas Sing Artist: Marco Armbruster Publisher: Giochi Uniti, KOSMOS Weight: 2.00 / 5 4 Giocatori (2-5) 20 min 18.0 cm 13.0 cm 4.0 cm Posizione: 4D\"\n",
      "score: 7.82\n",
      "\n",
      "\"Found the setup tedious and time consuming. It was sold as being better than Gloomhaven from the standpoint of setup, so considering how this was I can't imagine how bad OG Gloomhaven is.\"\n",
      "score: 7.97\n",
      "\n",
      "\"Looks amazing. I wish the insert was better, and that there were little baggies for each race. I had to order an organizer for the game... But If I get this to the table  3-4 times a year Ill be happy. \"\n",
      "score: 8.17\n",
      "\n",
      "\"First play was pretty fun. It is a very different engine builder than those I've played before. It seems it will take several plays to find a viable strategy, so looking forward to those. Prefer this quite a bit to Viticulture. Artwork and table presence are stunning.\"\n",
      "score: 8.19\n",
      "\n",
      "\"New. Still in shrink. Would like to trade as a group with the expansions [5th, Gods, Mystics] I have new in shrink as well.\"\n",
      "score: 8.41\n",
      "\n",
      "\"Heavy processes and mechanics. 1st play through so rough I wanted to remove myself multiple times from embarrassment of not understanding the mechanics well enough to be constructive. Asymmetric player boards helpful or hurtful in that regard.  \"\n",
      "score: 8.55\n",
      "\n",
      "\"Collection:  + Gods of Asgard expansion + Mystics of Midgard expansion + 5th Player expansion + Blood Rage: Promos Box (Kickstarter)\"\n",
      "score: 8.89\n",
      "\n",
      "\"1 - 5 player Weight: 3.65 Direct and Indirect against other players. Not one I'd like much for multi player, but will check it out for solo to see how it stacks up.\"\n",
      "score: 9.05\n",
      "\n",
      "\"The base game contains one size of cards, and the Gods of Ásgard expansion adds a second. Standard cards: Number of cards: 102 Docsmagic sleeve size: 41x63 Mini American - Yellow: Standard (DMS04, 100/pack) or Premium (DMS14, 50/pack) - (43 x 65mm)\"\n",
      "score: 9.18\n",
      "\n",
      "\"Blood Rage Digital Kickstarter 2018. Incluye 5º jugador y Dioses de Asgard. 23-01-2020: Ya ha llegado.\"\n",
      "score: 9.30\n",
      "\n",
      "\"1-4P (best 2/3) - 60/90mn  with insert   Worker placement/deckbuilding/drafting/tile placement/time track  EN \"\n",
      "score: 9.49\n",
      "\n",
      "\"Spielbox Magazine expansion: \"Der Flug zur ISS\" ...  Card with three new Missions for the Game. German.\"\n",
      "score: 9.65\n",
      "\n",
      "\"1-4 Players  Coop  The game has a slight legacy design to it, but removable lstickers can be bought from  Also the files section has the documents to reset the game, including PDFs to print your own stickers.\"\n",
      "score: 9.70\n",
      "\n",
      "\"Need to play with experienced opponents after playing multiple times with other newbies being taught by incompetent teacher.   Can't help but be concerned by number of aspects of game, and the stock photo card art doesn't reassure me.\"\n",
      "score: 10.00\n",
      "\n",
      "\"July/Aug 2019 Kickstarter plays solo but have to play 9 chars.  Need to take lots of notes. Open world.\"\n",
      "score: 10.00\n",
      "\n",
      "\"SOLO complexity=3.84 Uwe Rosenberg footprint MIGHT be barely manageable PT~30-120  WP See GeekBuddy analysis esp \"table space\".\"\n",
      "score: 10.00\n",
      "\n",
      "\"Shelf 7 D - Includes Prelude Hellas & Elysium, Venus Next, Colonies and Turmoil Expansions in a separate box.\"\n",
      "score: 10.00\n",
      "\n"
     ]
    }
   ],
   "source": [
    "some_long_comments.apply(lambda c: print(f\"\\\"{c['value']}\\\"\\nscore: {c['rating']:.2f}\\n\"), axis=1);"
   ]
  },
  {
   "cell_type": "markdown",
   "metadata": {},
   "source": [
    "## RANDOM FOREST - TEST"
   ]
  },
  {
   "cell_type": "code",
   "execution_count": 54,
   "metadata": {},
   "outputs": [],
   "source": [
    "# no support for Windows at the moment - waiting for it to test"
   ]
  },
  {
   "cell_type": "code",
   "execution_count": null,
   "metadata": {},
   "outputs": [],
   "source": []
  }
 ],
 "metadata": {
  "kernelspec": {
   "display_name": "tensorflow2",
   "language": "python",
   "name": "tensorflow2"
  },
  "language_info": {
   "codemirror_mode": {
    "name": "ipython",
    "version": 3
   },
   "file_extension": ".py",
   "mimetype": "text/x-python",
   "name": "python",
   "nbconvert_exporter": "python",
   "pygments_lexer": "ipython3",
   "version": "3.8.8"
  }
 },
 "nbformat": 4,
 "nbformat_minor": 4
}
