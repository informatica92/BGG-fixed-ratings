{
 "cells": [
  {
   "cell_type": "code",
   "execution_count": 1,
   "metadata": {},
   "outputs": [],
   "source": [
    "# ## BGG API\n",
    "# https://www.boardgamegeek.com/xmlapi2/thing?id=161599&comments=1\n",
    "# https://www.boardgamegeek.com/xmlapi2/hot?type=boardgame\n",
    "# ## NLP WITH TF\n",
    "# https://www.tensorflow.org/hub/tutorials/tf2_text_classification"
   ]
  },
  {
   "cell_type": "code",
   "execution_count": 2,
   "metadata": {},
   "outputs": [
    {
     "name": "stdout",
     "output_type": "stream",
     "text": [
      "Version:      2.5.0\n",
      "Eager mode:   True\n",
      "Hub version:  0.12.0\n",
      "GPU:          available\n"
     ]
    }
   ],
   "source": [
    "import tensorflow as tf\n",
    "import tensorflow_hub as hub\n",
    "from tensorflow.keras.wrappers.scikit_learn import KerasRegressor, KerasClassifier\n",
    "from sklearn.model_selection import GridSearchCV\n",
    "\n",
    "from IPython.display import HTML\n",
    "from datetime import datetime\n",
    "import matplotlib.pyplot as plt\n",
    "import pandas as pd\n",
    "import numpy as np\n",
    "import re\n",
    "\n",
    "from utilities import get_hot_data, get_comments, remove_short_comments, build_model, print_my_examples\n",
    "\n",
    "print(\"Version:     \", tf.__version__)\n",
    "print(\"Eager mode:  \", tf.executing_eagerly())\n",
    "print(\"Hub version: \", hub.__version__)\n",
    "print(\"GPU:         \", \"available\" if tf.config.list_physical_devices('GPU') else \"NOT available\")\n",
    "\n",
    "tf.get_logger().setLevel('ERROR')"
   ]
  },
  {
   "cell_type": "code",
   "execution_count": 3,
   "metadata": {},
   "outputs": [],
   "source": [
    "# tf.debugging.set_log_device_placement(True)"
   ]
  },
  {
   "cell_type": "code",
   "execution_count": 4,
   "metadata": {},
   "outputs": [],
   "source": [
    "GOOD_REVIEW_THRESHOLD = 7\n",
    "VAL_FRACTION = 0.25\n",
    "MIN_COMMENT_LEN = 25\n",
    "TOP_N = 5\n",
    "MODEL_NAME = \"https://tfhub.dev/google/tf2-preview/nnlm-en-dim50/1\"\n",
    "# MORE ABOUT MODEL NAMES: \n",
    "# \"https://tfhub.dev/google/tf2-preview/nnlm-en-dim128/1\"\n",
    "# \"https://tfhub.dev/google/tf2-preview/nnlm-en-dim128-with-normalization/1\"\n",
    "# we also tested these solutions with dimension equals to 128 but accuracy \n",
    "# is a bit lower (0.85 for 128 vs 0.86 for 50) and training sometimes stops \n",
    "# unexpectedly for memory limit\n",
    "#\n",
    "# \"https://tfhub.dev/google/tf2-preview/nnlm-en-dim50/1\"\n",
    "# \"https://tfhub.dev/google/tf2-preview/nnlm-en-dim50-with-normalization/1\"\n",
    "# there is no difference between normalization and not so we use the one \n",
    "# without normalization"
   ]
  },
  {
   "cell_type": "markdown",
   "metadata": {},
   "source": [
    "## GET DATA"
   ]
  },
  {
   "cell_type": "code",
   "execution_count": 5,
   "metadata": {},
   "outputs": [
    {
     "data": {
      "text/plain": [
       "[{'id': '291572',\n",
       "  'rank': '1',\n",
       "  'thumbnail': 'https://cf.geekdo-images.com/gTxav_KKQK1rDg-XuCjCSA__thumb/img/tFTOAKG5aDXxYfNRmJNmfyxH83M=/fit-in/200x150/filters:strip_icc()/pic5164812.jpg',\n",
       "  'name': 'Oath: Chronicles of Empire and Exile',\n",
       "  'yearpublished': '2021'},\n",
       " {'id': '341254',\n",
       "  'rank': '2',\n",
       "  'thumbnail': 'https://cf.geekdo-images.com/U4aoXbKATU7YbA8bAT73FQ__thumb/img/g0aac2-OQvMbEPXv1vIvSumPmkA=/fit-in/200x150/filters:strip_icc()/pic6253876.png',\n",
       "  'name': 'Lost Ruins of Arnak: Expedition Leaders',\n",
       "  'yearpublished': '2021'}]"
      ]
     },
     "execution_count": 5,
     "metadata": {},
     "output_type": "execute_result"
    }
   ],
   "source": [
    "hot_array = get_hot_data()\n",
    "hot_array[:2]"
   ]
  },
  {
   "cell_type": "code",
   "execution_count": 6,
   "metadata": {},
   "outputs": [
    {
     "name": "stdout",
     "output_type": "stream",
     "text": [
      "missing csv file, getting new data using API...\n",
      "page number = 10 (max: 100, len: 24)\n",
      "page number = 20 (max: 100, len: 16)\n",
      "page number = 30 (max: 100, len: 10)\n",
      "page number = 40 (max: 100, len: 8)\n",
      "page number = 50 (max: 100, len: 5)\n",
      "page number = 60 (max: 100, len: 4)\n",
      "page number = 70 (max: 100, len: 3)\n",
      "page number = 80 (max: 100, len: 3)\n",
      "page number = 90 (max: 100, len: 2)\n",
      "page number = 100 (max: 100, len: 1)\n",
      "comments_df shape: (89466, 4)\n"
     ]
    },
    {
     "data": {
      "text/html": [
       "<div>\n",
       "<style scoped>\n",
       "    .dataframe tbody tr th:only-of-type {\n",
       "        vertical-align: middle;\n",
       "    }\n",
       "\n",
       "    .dataframe tbody tr th {\n",
       "        vertical-align: top;\n",
       "    }\n",
       "\n",
       "    .dataframe thead th {\n",
       "        text-align: right;\n",
       "    }\n",
       "</style>\n",
       "<table border=\"1\" class=\"dataframe\">\n",
       "  <thead>\n",
       "    <tr style=\"text-align: right;\">\n",
       "      <th></th>\n",
       "      <th>id</th>\n",
       "      <th>username</th>\n",
       "      <th>rating</th>\n",
       "      <th>value</th>\n",
       "    </tr>\n",
       "  </thead>\n",
       "  <tbody>\n",
       "    <tr>\n",
       "      <th>0</th>\n",
       "      <td>291572</td>\n",
       "      <td>143245</td>\n",
       "      <td>N/A</td>\n",
       "      <td>playtest copy</td>\n",
       "    </tr>\n",
       "    <tr>\n",
       "      <th>1</th>\n",
       "      <td>291572</td>\n",
       "      <td>abernath</td>\n",
       "      <td>10</td>\n",
       "      <td>Oh, Cole Wehrle, you clever devil. What a wild...</td>\n",
       "    </tr>\n",
       "    <tr>\n",
       "      <th>2</th>\n",
       "      <td>291572</td>\n",
       "      <td>Across the Rhine</td>\n",
       "      <td>N/A</td>\n",
       "      <td>KS April 2021</td>\n",
       "    </tr>\n",
       "    <tr>\n",
       "      <th>3</th>\n",
       "      <td>291572</td>\n",
       "      <td>AgentDib</td>\n",
       "      <td>N/A</td>\n",
       "      <td>Preordered from Kickstarter Backerkit PMB 303 ...</td>\n",
       "    </tr>\n",
       "    <tr>\n",
       "      <th>4</th>\n",
       "      <td>291572</td>\n",
       "      <td>agundlachi</td>\n",
       "      <td>10</td>\n",
       "      <td>Kickstarter w/ deluxe components. Wonderful co...</td>\n",
       "    </tr>\n",
       "    <tr>\n",
       "      <th>...</th>\n",
       "      <td>...</td>\n",
       "      <td>...</td>\n",
       "      <td>...</td>\n",
       "      <td>...</td>\n",
       "    </tr>\n",
       "    <tr>\n",
       "      <th>89461</th>\n",
       "      <td>167791</td>\n",
       "      <td>z_zadar</td>\n",
       "      <td>9</td>\n",
       "      <td>Some games are so much fun. Others can be a li...</td>\n",
       "    </tr>\n",
       "    <tr>\n",
       "      <th>89462</th>\n",
       "      <td>167791</td>\n",
       "      <td>_Czid_</td>\n",
       "      <td>8</td>\n",
       "      <td>Have played with Elysium and Prelude expansion...</td>\n",
       "    </tr>\n",
       "    <tr>\n",
       "      <th>89463</th>\n",
       "      <td>167791</td>\n",
       "      <td>_Marty_</td>\n",
       "      <td>9.5</td>\n",
       "      <td>Fantastic game. With so many cards that can ch...</td>\n",
       "    </tr>\n",
       "    <tr>\n",
       "      <th>89464</th>\n",
       "      <td>167791</td>\n",
       "      <td>_mun_</td>\n",
       "      <td>10</td>\n",
       "      <td>Nagyon izgalmas játék, jó a mechanizmusa. A sz...</td>\n",
       "    </tr>\n",
       "    <tr>\n",
       "      <th>89465</th>\n",
       "      <td>167791</td>\n",
       "      <td>_The_Inquiry_</td>\n",
       "      <td>5</td>\n",
       "      <td>Prior to 2020: 2 plays  TM is one of those gam...</td>\n",
       "    </tr>\n",
       "  </tbody>\n",
       "</table>\n",
       "<p>89466 rows × 4 columns</p>\n",
       "</div>"
      ],
      "text/plain": [
       "           id          username rating  \\\n",
       "0      291572            143245    N/A   \n",
       "1      291572          abernath     10   \n",
       "2      291572  Across the Rhine    N/A   \n",
       "3      291572          AgentDib    N/A   \n",
       "4      291572        agundlachi     10   \n",
       "...       ...               ...    ...   \n",
       "89461  167791           z_zadar      9   \n",
       "89462  167791            _Czid_      8   \n",
       "89463  167791           _Marty_    9.5   \n",
       "89464  167791             _mun_     10   \n",
       "89465  167791     _The_Inquiry_      5   \n",
       "\n",
       "                                                   value  \n",
       "0                                          playtest copy  \n",
       "1      Oh, Cole Wehrle, you clever devil. What a wild...  \n",
       "2                                          KS April 2021  \n",
       "3      Preordered from Kickstarter Backerkit PMB 303 ...  \n",
       "4      Kickstarter w/ deluxe components. Wonderful co...  \n",
       "...                                                  ...  \n",
       "89461  Some games are so much fun. Others can be a li...  \n",
       "89462  Have played with Elysium and Prelude expansion...  \n",
       "89463  Fantastic game. With so many cards that can ch...  \n",
       "89464  Nagyon izgalmas játék, jó a mechanizmusa. A sz...  \n",
       "89465  Prior to 2020: 2 plays  TM is one of those gam...  \n",
       "\n",
       "[89466 rows x 4 columns]"
      ]
     },
     "execution_count": 6,
     "metadata": {},
     "output_type": "execute_result"
    }
   ],
   "source": [
    "try:\n",
    "    comments_df = pd.read_csv(f\"comments_{datetime.now().strftime('%Y%m%d')}.csv\")\n",
    "    comments_df['rating'] = comments_df.rating.fillna('N/A')\n",
    "    print(\"reading dataframe from csv file...\")\n",
    "except:\n",
    "    print(\"missing csv file, getting new data using API...\")\n",
    "    comments_df = get_comments(hot_array, verbose=10)\n",
    "    comments_df.to_csv(f\"comments_{datetime.now().strftime('%Y%m%d')}.csv\", index=False)\n",
    "comments_df"
   ]
  },
  {
   "cell_type": "markdown",
   "metadata": {},
   "source": [
    "## DATA CLEANING"
   ]
  },
  {
   "cell_type": "code",
   "execution_count": 7,
   "metadata": {},
   "outputs": [],
   "source": [
    "# probably we should keep all the ratings (no matters the len) and remove only the simple comments under a certain len  \n",
    "comments_df[\"value\"] = comments_df[\"value\"].astype(str)"
   ]
  },
  {
   "cell_type": "code",
   "execution_count": 8,
   "metadata": {},
   "outputs": [
    {
     "name": "stdout",
     "output_type": "stream",
     "text": [
      "removed 15065 for 'remove_short_comments' - min len: 25 - method: unrated\n"
     ]
    }
   ],
   "source": [
    "# REMOVE URLs FROM COMMENTS\n",
    "comments_df['value'] = [re.sub(r\"http\\S+\", \"\", v) for v in comments_df.value.values]\n",
    "comments_df = remove_short_comments(comments_df, MIN_COMMENT_LEN)"
   ]
  },
  {
   "cell_type": "code",
   "execution_count": 9,
   "metadata": {},
   "outputs": [],
   "source": [
    "# REMOVE NON ENGLISH COMMENTS\n",
    "# !conda install -c conda-forge langdetect\n",
    "# def add_comments_lang(df: pd.DataFrame):\n",
    "#     df_local = df.copy()\n",
    "#     df_local['lang'] = df['value'].apply(detect)\n",
    "#     return df_local.reset_index(drop=True)\n",
    "# comments_df = add_comments_lang(comments_df)\n",
    "# comments_df = comments_df.query('lang == \"en\"')"
   ]
  },
  {
   "cell_type": "markdown",
   "metadata": {},
   "source": [
    "## SPLIT RATED AND NON-RATED COMMENTS"
   ]
  },
  {
   "cell_type": "code",
   "execution_count": 10,
   "metadata": {},
   "outputs": [
    {
     "data": {
      "text/plain": [
       "10         14888\n",
       "9          14023\n",
       "8          11592\n",
       "7           6327\n",
       "N/A         6260\n",
       "           ...  \n",
       "8.34667        1\n",
       "9.9999         1\n",
       "1.8            1\n",
       "5.5555         1\n",
       "7.72667        1\n",
       "Name: rating, Length: 495, dtype: int64"
      ]
     },
     "execution_count": 10,
     "metadata": {},
     "output_type": "execute_result"
    }
   ],
   "source": [
    "# count number of comments per rating (N/A included)\n",
    "comments_df.rating.value_counts()"
   ]
  },
  {
   "cell_type": "code",
   "execution_count": 11,
   "metadata": {},
   "outputs": [
    {
     "data": {
      "text/plain": [
       "(68141, 5)"
      ]
     },
     "execution_count": 11,
     "metadata": {},
     "output_type": "execute_result"
    }
   ],
   "source": [
    "# get rated comments only\n",
    "rated_comments = comments_df.query('rating != \"N/A\"')\n",
    "rated_comments.shape"
   ]
  },
  {
   "cell_type": "code",
   "execution_count": 12,
   "metadata": {},
   "outputs": [
    {
     "data": {
      "text/plain": [
       "(6260, 5)"
      ]
     },
     "execution_count": 12,
     "metadata": {},
     "output_type": "execute_result"
    }
   ],
   "source": [
    "# get non rated comments only\n",
    "not_rated_comments = comments_df.query('rating == \"N/A\"').reset_index(drop=True)\n",
    "not_rated_comments.shape"
   ]
  },
  {
   "cell_type": "markdown",
   "metadata": {},
   "source": [
    "## CREATE TRAINING AND VALIDATION DATA"
   ]
  },
  {
   "cell_type": "code",
   "execution_count": 13,
   "metadata": {},
   "outputs": [],
   "source": [
    "# use rated comments (reviews) to train the model"
   ]
  },
  {
   "cell_type": "code",
   "execution_count": 14,
   "metadata": {},
   "outputs": [],
   "source": [
    "rated_comments = rated_comments.sample(frac=1)"
   ]
  },
  {
   "cell_type": "code",
   "execution_count": 15,
   "metadata": {},
   "outputs": [],
   "source": [
    "# create training X and y\n",
    "train_examples = list(rated_comments.value)\n",
    "train_labels = list((rated_comments.rating.astype(float)>=GOOD_REVIEW_THRESHOLD).astype(int))"
   ]
  },
  {
   "cell_type": "code",
   "execution_count": 16,
   "metadata": {},
   "outputs": [
    {
     "name": "stdout",
     "output_type": "stream",
     "text": [
      "example of positive rating:\n"
     ]
    },
    {
     "data": {
      "text/plain": [
       "\"An excellent game, but I must admit, it might not be for everyone.  This game is a time commitment for sure. Our group has been playing weekly for over a year now, and it feels like we hardly scratched the surface. Dedication is required!  The only thing keeping the game from the fabled '10' is the repetitiveness. Every mission feels like the same 'kill this', 'get that'. I don't mind, as every character feels much different from each other, and the main crux for me is the interaction between teammates.  Difficult to form into words, but it's a great game if you find the right mates to play it with.\""
      ]
     },
     "execution_count": 16,
     "metadata": {},
     "output_type": "execute_result"
    }
   ],
   "source": [
    "print(\"example of positive rating:\")\n",
    "train_examples[train_labels.index(1)]"
   ]
  },
  {
   "cell_type": "code",
   "execution_count": 17,
   "metadata": {},
   "outputs": [
    {
     "name": "stdout",
     "output_type": "stream",
     "text": [
      "example of negative rating:\n"
     ]
    },
    {
     "data": {
      "text/plain": [
       "\"Kickstarter. Card drafting / tableau building game where you draw villagers to place in your growing village. Trick is that the villagers that score the most points are rare and require a chain of many others played first. The rules are simple but the play is somewhat unsmooth. Lucky draw is a major thing. Getting the right card means everything, and not getting it will ruin the game. This can happen quite easily and you can't play the game hoping to get that one special card. You have to play with what's available now. That makes decisions and planning ahead somewhat superfluous. There's usually an obvious card to take. After the draft you always build as much as possible of what you got, there's no point in waiting. The player who gets the lucky picks more often than the others will usually win. I would have liked more strategy and less luck. It's still an okay game, but not great. I'll play it if in the mood.\""
      ]
     },
     "execution_count": 17,
     "metadata": {},
     "output_type": "execute_result"
    }
   ],
   "source": [
    "print(\"example of negative rating:\")\n",
    "train_examples[train_labels.index(0)]"
   ]
  },
  {
   "cell_type": "markdown",
   "metadata": {},
   "source": [
    "## COMPOSE MODEL"
   ]
  },
  {
   "cell_type": "code",
   "execution_count": 18,
   "metadata": {},
   "outputs": [],
   "source": [
    "hub_layer = hub.KerasLayer(MODEL_NAME, input_shape=[], dtype=tf.string, trainable=True)"
   ]
  },
  {
   "cell_type": "markdown",
   "metadata": {},
   "source": [
    "## CLASSIFIER"
   ]
  },
  {
   "cell_type": "code",
   "execution_count": 19,
   "metadata": {},
   "outputs": [
    {
     "name": "stdout",
     "output_type": "stream",
     "text": [
      "Epoch 1/100\n",
      "34/34 - 4s - loss: 0.6356 - accuracy: 0.6641 - val_loss: 0.5533 - val_accuracy: 0.8262\n",
      "Epoch 2/100\n",
      "34/34 - 2s - loss: 0.5125 - accuracy: 0.8473 - val_loss: 0.4848 - val_accuracy: 0.8455\n",
      "Epoch 3/100\n",
      "34/34 - 2s - loss: 0.4378 - accuracy: 0.8519 - val_loss: 0.4185 - val_accuracy: 0.8469\n",
      "Epoch 4/100\n",
      "34/34 - 2s - loss: 0.3654 - accuracy: 0.8584 - val_loss: 0.3654 - val_accuracy: 0.8571\n",
      "Epoch 5/100\n",
      "34/34 - 2s - loss: 0.3105 - accuracy: 0.8810 - val_loss: 0.3397 - val_accuracy: 0.8646\n",
      "Epoch 6/100\n",
      "34/34 - 2s - loss: 0.2736 - accuracy: 0.8952 - val_loss: 0.3263 - val_accuracy: 0.8687\n",
      "Epoch 7/100\n",
      "34/34 - 2s - loss: 0.2427 - accuracy: 0.9061 - val_loss: 0.3198 - val_accuracy: 0.8714\n",
      "Epoch 8/100\n",
      "34/34 - 2s - loss: 0.2173 - accuracy: 0.9181 - val_loss: 0.3223 - val_accuracy: 0.8717\n",
      "Epoch 9/100\n",
      "34/34 - 2s - loss: 0.1951 - accuracy: 0.9272 - val_loss: 0.3272 - val_accuracy: 0.8704\n",
      "Epoch 10/100\n",
      "34/34 - 2s - loss: 0.1767 - accuracy: 0.9361 - val_loss: 0.3395 - val_accuracy: 0.8699\n",
      "Epoch 11/100\n",
      "34/34 - 2s - loss: 0.1603 - accuracy: 0.9430 - val_loss: 0.3500 - val_accuracy: 0.8646\n",
      "Epoch 12/100\n",
      "34/34 - 2s - loss: 0.1464 - accuracy: 0.9490 - val_loss: 0.3676 - val_accuracy: 0.8639\n",
      "23/23 - 0s - loss: 0.3581 - accuracy: 0.8674\n",
      "Epoch 1/100\n",
      "34/34 - 3s - loss: 0.5760 - accuracy: 0.8055 - val_loss: 0.5144 - val_accuracy: 0.8440\n",
      "Epoch 2/100\n",
      "34/34 - 2s - loss: 0.4709 - accuracy: 0.8492 - val_loss: 0.4400 - val_accuracy: 0.8461\n",
      "Epoch 3/100\n",
      "34/34 - 2s - loss: 0.3930 - accuracy: 0.8529 - val_loss: 0.3778 - val_accuracy: 0.8538\n",
      "Epoch 4/100\n",
      "34/34 - 2s - loss: 0.3301 - accuracy: 0.8713 - val_loss: 0.3427 - val_accuracy: 0.8669\n",
      "Epoch 5/100\n",
      "34/34 - 2s - loss: 0.2866 - accuracy: 0.8881 - val_loss: 0.3270 - val_accuracy: 0.8722\n",
      "Epoch 6/100\n",
      "34/34 - 2s - loss: 0.2536 - accuracy: 0.9016 - val_loss: 0.3208 - val_accuracy: 0.8744\n",
      "Epoch 7/100\n",
      "34/34 - 2s - loss: 0.2264 - accuracy: 0.9141 - val_loss: 0.3257 - val_accuracy: 0.8753\n",
      "Epoch 8/100\n",
      "34/34 - 2s - loss: 0.2048 - accuracy: 0.9233 - val_loss: 0.3280 - val_accuracy: 0.8727\n",
      "Epoch 9/100\n",
      "34/34 - 2s - loss: 0.1840 - accuracy: 0.9327 - val_loss: 0.3391 - val_accuracy: 0.8694\n",
      "Epoch 10/100\n",
      "34/34 - 2s - loss: 0.1675 - accuracy: 0.9395 - val_loss: 0.3499 - val_accuracy: 0.8654\n",
      "Epoch 11/100\n",
      "34/34 - 2s - loss: 0.1525 - accuracy: 0.9460 - val_loss: 0.3662 - val_accuracy: 0.8642\n",
      "23/23 - 0s - loss: 0.3452 - accuracy: 0.8714\n",
      "Epoch 1/100\n",
      "34/34 - 3s - loss: 0.5555 - accuracy: 0.8239 - val_loss: 0.4973 - val_accuracy: 0.8518\n",
      "Epoch 2/100\n",
      "34/34 - 2s - loss: 0.4584 - accuracy: 0.8503 - val_loss: 0.4209 - val_accuracy: 0.8538\n",
      "Epoch 3/100\n",
      "34/34 - 2s - loss: 0.3809 - accuracy: 0.8515 - val_loss: 0.3630 - val_accuracy: 0.8545\n",
      "Epoch 4/100\n",
      "34/34 - 2s - loss: 0.3249 - accuracy: 0.8595 - val_loss: 0.3340 - val_accuracy: 0.8644\n",
      "Epoch 5/100\n",
      "34/34 - 2s - loss: 0.2881 - accuracy: 0.8780 - val_loss: 0.3196 - val_accuracy: 0.8737\n",
      "Epoch 6/100\n",
      "34/34 - 2s - loss: 0.2577 - accuracy: 0.8967 - val_loss: 0.3105 - val_accuracy: 0.8775\n",
      "Epoch 7/100\n",
      "34/34 - 2s - loss: 0.2272 - accuracy: 0.9104 - val_loss: 0.3090 - val_accuracy: 0.8773\n",
      "Epoch 8/100\n",
      "34/34 - 2s - loss: 0.2027 - accuracy: 0.9215 - val_loss: 0.3134 - val_accuracy: 0.8770\n",
      "Epoch 9/100\n",
      "34/34 - 2s - loss: 0.1820 - accuracy: 0.9322 - val_loss: 0.3248 - val_accuracy: 0.8758\n",
      "Epoch 10/100\n",
      "34/34 - 2s - loss: 0.1643 - accuracy: 0.9410 - val_loss: 0.3348 - val_accuracy: 0.8703\n",
      "Epoch 11/100\n",
      "34/34 - 2s - loss: 0.1486 - accuracy: 0.9485 - val_loss: 0.3493 - val_accuracy: 0.8669\n",
      "23/23 - 0s - loss: 0.3680 - accuracy: 0.8602\n",
      "Epoch 1/100\n",
      "50/50 - 4s - loss: 0.5467 - accuracy: 0.8385 - val_loss: 0.4830 - val_accuracy: 0.8464\n",
      "Epoch 2/100\n",
      "50/50 - 3s - loss: 0.4205 - accuracy: 0.8519 - val_loss: 0.3837 - val_accuracy: 0.8480\n",
      "Epoch 3/100\n",
      "50/50 - 3s - loss: 0.3312 - accuracy: 0.8664 - val_loss: 0.3344 - val_accuracy: 0.8667\n",
      "Epoch 4/100\n",
      "50/50 - 3s - loss: 0.2794 - accuracy: 0.8888 - val_loss: 0.3152 - val_accuracy: 0.8753\n",
      "Epoch 5/100\n",
      "50/50 - 3s - loss: 0.2459 - accuracy: 0.9034 - val_loss: 0.3123 - val_accuracy: 0.8763\n",
      "Epoch 6/100\n",
      "50/50 - 3s - loss: 0.2202 - accuracy: 0.9143 - val_loss: 0.3164 - val_accuracy: 0.8747\n",
      "Epoch 7/100\n",
      "50/50 - 3s - loss: 0.2001 - accuracy: 0.9239 - val_loss: 0.3284 - val_accuracy: 0.8729\n",
      "Epoch 8/100\n",
      "50/50 - 3s - loss: 0.1829 - accuracy: 0.9308 - val_loss: 0.3406 - val_accuracy: 0.8699\n",
      "Epoch 9/100\n",
      "50/50 - 3s - loss: 0.1686 - accuracy: 0.9371 - val_loss: 0.3544 - val_accuracy: 0.8667\n"
     ]
    },
    {
     "data": {
      "text/plain": [
       "GridSearchCV(cv=3,\n",
       "             estimator=<tensorflow.python.keras.wrappers.scikit_learn.KerasClassifier object at 0x00000298876D6A90>,\n",
       "             param_grid={})"
      ]
     },
     "execution_count": 19,
     "metadata": {},
     "output_type": "execute_result"
    }
   ],
   "source": [
    "def build_classifier():\n",
    "    return build_model(hub_layer=None, pre_trained_model_name=MODEL_NAME, model_type='classifier', verbose=0)\n",
    "\n",
    "\n",
    "estimator = KerasClassifier(build_fn=build_classifier, epochs=100, batch_size=1024, verbose=2, validation_split=VAL_FRACTION)\n",
    "x_train_clf = np.array(list(rated_comments.value))\n",
    "y_train_clf = np.array(list((rated_comments.rating.astype(float)>=GOOD_REVIEW_THRESHOLD).astype(int)))\n",
    "\n",
    "clf = GridSearchCV(\n",
    "    estimator, \n",
    "    cv=3, \n",
    "    param_grid={}\n",
    ")\n",
    "clf.fit(x_train_clf, y_train_clf, callbacks=[tf.keras.callbacks.EarlyStopping(monitor='val_accuracy', patience=5, min_delta=0.001)])"
   ]
  },
  {
   "cell_type": "code",
   "execution_count": 20,
   "metadata": {},
   "outputs": [],
   "source": [
    "classifier = clf.best_estimator_\n",
    "classifier_history_dict = classifier.model.history.history"
   ]
  },
  {
   "cell_type": "code",
   "execution_count": 21,
   "metadata": {},
   "outputs": [
    {
     "data": {
      "text/plain": [
       "dict_keys(['loss', 'accuracy', 'val_loss', 'val_accuracy'])"
      ]
     },
     "execution_count": 21,
     "metadata": {},
     "output_type": "execute_result"
    }
   ],
   "source": [
    "classifier_history_dict.keys()"
   ]
  },
  {
   "cell_type": "code",
   "execution_count": 22,
   "metadata": {},
   "outputs": [],
   "source": [
    "acc = classifier_history_dict['accuracy']\n",
    "val_acc = classifier_history_dict['val_accuracy']\n",
    "loss = classifier_history_dict['loss']\n",
    "val_loss = classifier_history_dict['val_loss']"
   ]
  },
  {
   "cell_type": "code",
   "execution_count": 23,
   "metadata": {},
   "outputs": [],
   "source": [
    "epochs = range(1, len(acc) + 1) "
   ]
  },
  {
   "cell_type": "code",
   "execution_count": 24,
   "metadata": {},
   "outputs": [
    {
     "data": {
      "image/png": "[encoded data removed]",
      "text/plain": [
       "<Figure size 648x360 with 1 Axes>"
      ]
     },
     "metadata": {
      "needs_background": "light"
     },
     "output_type": "display_data"
    }
   ],
   "source": [
    "# \"bo\" is for \"blue dot\"\n",
    "plt.figure(figsize=(9, 5))\n",
    "plt.plot(epochs, loss, 'bo', label='Training loss')\n",
    "# b is for \"solid blue line\"\n",
    "plt.plot(epochs, val_loss, 'b', label='Validation loss')\n",
    "plt.title('Training and validation loss')\n",
    "plt.xlabel('Epochs')\n",
    "plt.ylabel('Loss')\n",
    "plt.grid(True)\n",
    "plt.legend()\n",
    "\n",
    "plt.show()"
   ]
  },
  {
   "cell_type": "code",
   "execution_count": 25,
   "metadata": {},
   "outputs": [
    {
     "data": {
      "image/png": "[encoded data removed]",
      "text/plain": [
       "<Figure size 648x360 with 1 Axes>"
      ]
     },
     "metadata": {
      "needs_background": "light"
     },
     "output_type": "display_data"
    }
   ],
   "source": [
    "plt.figure(figsize=(9, 5))\n",
    "plt.plot(epochs, acc, 'bo', label='Training acc')\n",
    "plt.plot(epochs, val_acc, 'b', label='Validation acc')\n",
    "plt.title('Training and validation accuracy')\n",
    "plt.xlabel('Epochs')\n",
    "plt.ylabel('Accuracy')\n",
    "plt.grid(True)\n",
    "plt.legend()\n",
    "\n",
    "plt.show()"
   ]
  },
  {
   "cell_type": "code",
   "execution_count": 26,
   "metadata": {},
   "outputs": [
    {
     "name": "stdout",
     "output_type": "stream",
     "text": [
      "input:\n",
      "\"An excellent game, but I must admit, it might not be for everyone.  This game is a time commitment for sure. Our group has been playing weekly for over a year now, and it feels like we hardly scratched the surface. Dedication is required!  The only thing keeping the game from the fabled '10' is the repetitiveness. Every mission feels like the same 'kill this', 'get that'. I don't mind, as every character feels much different from each other, and the main crux for me is the interaction between teammates.  Difficult to form into words, but it's a great game if you find the right mates to play it with.\"\n",
      "score: 1.000000\n",
      "actual: 1\n",
      "\n",
      "input:\n",
      "\"Kickstarter. Card drafting / tableau building game where you draw villagers to place in your growing village. Trick is that the villagers that score the most points are rare and require a chain of many others played first. The rules are simple but the play is somewhat unsmooth. Lucky draw is a major thing. Getting the right card means everything, and not getting it will ruin the game. This can happen quite easily and you can't play the game hoping to get that one special card. You have to play with what's available now. That makes decisions and planning ahead somewhat superfluous. There's usually an obvious card to take. After the draft you always build as much as possible of what you got, there's no point in waiting. The player who gets the lucky picks more often than the others will usually win. I would have liked more strategy and less luck. It's still an okay game, but not great. I'll play it if in the mood.\"\n",
      "score: 0.000000\n",
      "actual: 0\n",
      "\n",
      "input:\n",
      "\"This game is a ton of fun, truly! It has a lot of variables and scenarios that can happen at any given time which makes it exciting. I own a lot of board games and this is probably my favorite. It is slow at first as you learn the rules but once you and your friends know how to play it can go really quick. If you are still trying to decide if you want to get this game or not, do yourself a favor and get it.\"\n",
      "score: 1.000000\n",
      "actual: 1\n",
      "\n",
      "input:\n",
      "\"played once. took most of the game to grapple the system. the last few turns were pure magic. expecting rating to rise with more plays.\"\n",
      "score: 0.000000\n",
      "actual: 1\n",
      "\n",
      "input:\n",
      "\"+ Exiles & Partians Expansion\"\n",
      "score: 1.000000\n",
      "actual: 1\n",
      "\n",
      "input:\n",
      "\"Awesome learning guide, very easy to understand.  Played solo with two characters.  EDIT: After a few more plays I ended up selling it. I was never looking forward to playing it, not my game.\"\n",
      "score: 1.000000\n",
      "actual: 1\n",
      "\n",
      "input:\n",
      "\"Very very good, hardcore euro-game. Many tactical layers in the gameplay.\"\n",
      "score: 1.000000\n",
      "actual: 1\n",
      "\n",
      "input:\n",
      "\"This is one of the best games I’ve ever played! Find a group to play with consistently. Buy the game. Thank me later.\"\n",
      "score: 1.000000\n",
      "actual: 1\n",
      "\n",
      "input:\n",
      "\"Ellicotville\"\n",
      "score: 1.000000\n",
      "actual: 1\n",
      "\n",
      "input:\n",
      "\"Very good. Its not the most intuitive game but very absorbing once you get the hang of it.   The components are standard euro, the art work is nice and colourful.  Gets better with each play. Is on the longer side. \"\n",
      "score: 1.000000\n",
      "actual: 1\n"
     ]
    },
    {
     "name": "stderr",
     "output_type": "stream",
     "text": [
      "C:\\Users\\dev999\\.conda\\envs\\tensorflow2\\lib\\site-packages\\tensorflow\\python\\keras\\engine\\sequential.py:455: UserWarning: `model.predict_classes()` is deprecated and will be removed after 2021-01-01. Please use instead:* `np.argmax(model.predict(x), axis=-1)`,   if your model does multi-class classification   (e.g. if it uses a `softmax` last-layer activation).* `(model.predict(x) > 0.5).astype(\"int32\")`,   if your model does binary classification   (e.g. if it uses a `sigmoid` last-layer activation).\n",
      "  warnings.warn('`model.predict_classes()` is deprecated and '\n"
     ]
    }
   ],
   "source": [
    "inputs = x_train_clf[:10]\n",
    "outputs = y_train_clf[:10]\n",
    "results = classifier.predict(tf.constant(inputs), verbose=0)\n",
    "print_my_examples(inputs, results, outputs)"
   ]
  },
  {
   "cell_type": "code",
   "execution_count": 27,
   "metadata": {},
   "outputs": [],
   "source": [
    "## APPLY MODEL ON NON-RATED COMMENTS"
   ]
  },
  {
   "cell_type": "code",
   "execution_count": 28,
   "metadata": {},
   "outputs": [
    {
     "name": "stdout",
     "output_type": "stream",
     "text": [
      "7/7 - 0s\n",
      "input:\n",
      "\"BGGCon 2016 purchase from Stronghold Games.\"\n",
      "score: 0.000000\n",
      "\n",
      "input:\n",
      "\"P1-5 B4 D3.41 T3 2nd hand, sleeved? RB not read Played 0 At Home With Expansion\"\n",
      "score: 1.000000\n",
      "\n",
      "input:\n",
      "\"Kickstart backer and waiting anxiously....\"\n",
      "score: 1.000000\n",
      "\n",
      "input:\n",
      "\"keep an eye out for the dice tower review new from the root/vast people. looks promising\"\n",
      "score: 0.000000\n",
      "\n",
      "input:\n",
      "\"Played once. I love the game, and it is on my wish list.\"\n",
      "score: 1.000000\n",
      "\n",
      "input:\n",
      "\"Deluxe Edition BGG 2020 Secret Santa Gift\"\n",
      "score: 1.000000\n",
      "\n",
      "input:\n",
      "\"includes Captain America, Ms. Marvel, and Green Goblin sets.\"\n",
      "score: 1.000000\n",
      "\n",
      "input:\n",
      "\"Kickstarter in 2020 Interest: Leder Games & Concept\"\n",
      "score: 1.000000\n",
      "\n",
      "input:\n",
      "\"Standard cards (character ability and event cards): Number of cards: 727 If you don't want to sleeve all the cards, the order of priority should be: Character ability cards - 40 minimum to sleeve each player's active deck, 505 in total. Personal quest cards - 24 cards; Event cards - 150 cards.  mall cards (attack modifier, battle goal, item, monster action, personal quest, random item design, and random side scenario cards): Number of cards: 975 If you don't want to sleeve all the cards, the order of priority should be: Attack modifier cards - 145 to sleeve each player's active deck, the monster deck, and cards added before battle, 457 in total; Monster action cards - 232 cards; Battle goal cards - 24 cards; Item cards - 40 minimum for the cards each player brings into battle, 228 in total; Random item designs - 25 cards; Random side scenarios - 9 cards.  \"\n",
      "score: 1.000000\n",
      "\n",
      "input:\n",
      "\"Base Game - Return to Night at the Zealots  Dunwich Legacy - Miskatonic Museum, Essex County Express, Blood on the Alter, Undimensioned and Unseen, Where Doom Awaits, Lost in Time and Space, Return to Dunwich Legacy  Path to Carcossa  Carnevale of Horrors Curse of Rougarou \"\n",
      "score: 1.000000\n"
     ]
    }
   ],
   "source": [
    "not_rated_comments = not_rated_comments.sample(frac=1)\n",
    "results = classifier.predict(tf.constant(list(not_rated_comments.value.astype(str))))\n",
    "print_my_examples(list(not_rated_comments.value), results, limit=10)"
   ]
  },
  {
   "cell_type": "markdown",
   "metadata": {},
   "source": [
    "## REGRESSOR"
   ]
  },
  {
   "cell_type": "code",
   "execution_count": 29,
   "metadata": {},
   "outputs": [
    {
     "data": {
      "text/plain": [
       "GridSearchCV(cv=3,\n",
       "             estimator=<tensorflow.python.keras.wrappers.scikit_learn.KerasRegressor object at 0x0000029B3E295490>,\n",
       "             param_grid={})"
      ]
     },
     "execution_count": 29,
     "metadata": {},
     "output_type": "execute_result"
    }
   ],
   "source": [
    "def build_regressor():\n",
    "    return build_model(hub_layer, pre_trained_model_name=MODEL_NAME, model_type='regressor', verbose=0)\n",
    "\n",
    "\n",
    "estimator = KerasRegressor(build_fn=build_regressor, epochs=100, batch_size=512, verbose=0, validation_split=VAL_FRACTION)\n",
    "x_train_reg = np.array(list(rated_comments.value))\n",
    "y_train_reg = np.array(list(rated_comments.rating.astype(float)))\n",
    "\n",
    "clf = GridSearchCV(\n",
    "    estimator, \n",
    "    cv=3, \n",
    "    param_grid={}\n",
    ")\n",
    "clf.fit(x_train_reg, y_train_reg, callbacks=[tf.keras.callbacks.EarlyStopping(monitor='val_mean_squared_error', patience=5, min_delta=0.001)])"
   ]
  },
  {
   "cell_type": "code",
   "execution_count": 30,
   "metadata": {},
   "outputs": [],
   "source": [
    "regressor = clf.best_estimator_\n",
    "regressor_history_dict = regressor.model.history.history"
   ]
  },
  {
   "cell_type": "code",
   "execution_count": 31,
   "metadata": {},
   "outputs": [
    {
     "data": {
      "text/plain": [
       "dict_keys(['loss', 'mean_squared_error', 'val_loss', 'val_mean_squared_error'])"
      ]
     },
     "execution_count": 31,
     "metadata": {},
     "output_type": "execute_result"
    }
   ],
   "source": [
    "regressor_history_dict.keys()"
   ]
  },
  {
   "cell_type": "code",
   "execution_count": 32,
   "metadata": {},
   "outputs": [],
   "source": [
    "mean_squared_error = regressor_history_dict['mean_squared_error']\n",
    "val_mean_squared_error = regressor_history_dict['val_mean_squared_error']\n",
    "loss = regressor_history_dict['loss']\n",
    "val_loss = regressor_history_dict['val_loss']"
   ]
  },
  {
   "cell_type": "code",
   "execution_count": 33,
   "metadata": {},
   "outputs": [],
   "source": [
    "epochs = range(1, len(mean_squared_error) + 1) "
   ]
  },
  {
   "cell_type": "code",
   "execution_count": 34,
   "metadata": {},
   "outputs": [
    {
     "name": "stdout",
     "output_type": "stream",
     "text": [
      "MEAN SQUARED ERROR (VALIDATION SET): 2.62\n"
     ]
    }
   ],
   "source": [
    "print(f\"MEAN SQUARED ERROR (VALIDATION SET): {val_mean_squared_error[-1]:.2f}\")"
   ]
  },
  {
   "cell_type": "code",
   "execution_count": 35,
   "metadata": {},
   "outputs": [
    {
     "name": "stdout",
     "output_type": "stream",
     "text": [
      "MEAN SQUARED ERROR (TRAINING SET): 0.99\n"
     ]
    }
   ],
   "source": [
    "print(f\"MEAN SQUARED ERROR (TRAINING SET): {mean_squared_error[-1]:.2f}\")"
   ]
  },
  {
   "cell_type": "code",
   "execution_count": 36,
   "metadata": {},
   "outputs": [
    {
     "data": {
      "image/png": "[encoded data removed]",
      "text/plain": [
       "<Figure size 648x360 with 1 Axes>"
      ]
     },
     "metadata": {
      "needs_background": "light"
     },
     "output_type": "display_data"
    }
   ],
   "source": [
    "# \"bo\" is for \"blue dot\"\n",
    "plt.figure(figsize=(9, 5))\n",
    "plt.plot(epochs, loss, 'bo', label='Training loss')\n",
    "# b is for \"solid blue line\"\n",
    "plt.plot(epochs, val_loss, 'b', label='Validation loss')\n",
    "plt.title('Training and validation loss')\n",
    "plt.xlabel('Epochs')\n",
    "plt.ylabel('Loss')\n",
    "plt.grid(True)\n",
    "plt.legend()\n",
    "\n",
    "plt.show()"
   ]
  },
  {
   "cell_type": "code",
   "execution_count": 37,
   "metadata": {},
   "outputs": [
    {
     "data": {
      "image/png": "[encoded data removed]",
      "text/plain": [
       "<Figure size 648x360 with 1 Axes>"
      ]
     },
     "metadata": {
      "needs_background": "light"
     },
     "output_type": "display_data"
    }
   ],
   "source": [
    "plt.figure(figsize=(9, 5))\n",
    "plt.plot(epochs, mean_squared_error, 'bo', label='Training mean squared error')\n",
    "plt.plot(epochs, val_mean_squared_error, 'b', label='Validation mean squared error')\n",
    "plt.title('Training and validation accuracy')\n",
    "plt.xlabel('Epochs')\n",
    "plt.ylabel('Mean squared error')\n",
    "plt.grid(True)\n",
    "plt.legend()\n",
    "\n",
    "plt.show()"
   ]
  },
  {
   "cell_type": "code",
   "execution_count": 38,
   "metadata": {},
   "outputs": [
    {
     "name": "stdout",
     "output_type": "stream",
     "text": [
      "input: \n",
      "\"An excellent game, but I must admit, it might not be for everyone.  This game is a time commitment for sure. Our group has been playing weekly for over a year now, and it feels like we hardly scratched the surface. Dedication is required!  The only thing keeping the game from the fabled '10' is the repetitiveness. Every mission feels like the same 'kill this', 'get that'. I don't mind, as every character feels much different from each other, and the main crux for me is the interaction between teammates.  Difficult to form into words, but it's a great game if you find the right mates to play it with.\"\n",
      "score: 9.11\n",
      "actual: 9.30 \n",
      "\n",
      "input: \n",
      "\"Kickstarter. Card drafting / tableau building game where you draw villagers to place in your growing village. Trick is that the villagers that score the most points are rare and require a chain of many others played first. The rules are simple but the play is somewhat unsmooth. Lucky draw is a major thing. Getting the right card means everything, and not getting it will ruin the game. This can happen quite easily and you can't play the game hoping to get that one special card. You have to play with what's available now. That makes decisions and planning ahead somewhat superfluous. There's usually an obvious card to take. After the draft you always build as much as possible of what you got, there's no point in waiting. The player who gets the lucky picks more often than the others will usually win. I would have liked more strategy and less luck. It's still an okay game, but not great. I'll play it if in the mood.\"\n",
      "score: 6.39\n",
      "actual: 6.00 \n",
      "\n",
      "input: \n",
      "\"This game is a ton of fun, truly! It has a lot of variables and scenarios that can happen at any given time which makes it exciting. I own a lot of board games and this is probably my favorite. It is slow at first as you learn the rules but once you and your friends know how to play it can go really quick. If you are still trying to decide if you want to get this game or not, do yourself a favor and get it.\"\n",
      "score: 9.63\n",
      "actual: 10.00 \n",
      "\n",
      "input: \n",
      "\"played once. took most of the game to grapple the system. the last few turns were pure magic. expecting rating to rise with more plays.\"\n",
      "score: 8.55\n",
      "actual: 9.00 \n",
      "\n",
      "input: \n",
      "\"+ Exiles & Partians Expansion\"\n",
      "score: 8.53\n",
      "actual: 8.00 \n",
      "\n",
      "input: \n",
      "\"Awesome learning guide, very easy to understand.  Played solo with two characters.  EDIT: After a few more plays I ended up selling it. I was never looking forward to playing it, not my game.\"\n",
      "score: 8.09\n",
      "actual: 7.00 \n",
      "\n",
      "input: \n",
      "\"Very very good, hardcore euro-game. Many tactical layers in the gameplay.\"\n",
      "score: 8.97\n",
      "actual: 9.00 \n",
      "\n",
      "input: \n",
      "\"This is one of the best games I’ve ever played! Find a group to play with consistently. Buy the game. Thank me later.\"\n",
      "score: 10.28\n",
      "actual: 10.00 \n",
      "\n",
      "input: \n",
      "\"Ellicotville\"\n",
      "score: 9.80\n",
      "actual: 9.50 \n",
      "\n",
      "input: \n",
      "\"Very good. Its not the most intuitive game but very absorbing once you get the hang of it.   The components are standard euro, the art work is nice and colourful.  Gets better with each play. Is on the longer side. \"\n",
      "score: 7.69\n",
      "actual: 9.00 \n",
      "\n"
     ]
    }
   ],
   "source": [
    "inputs = x_train_reg[:10]\n",
    "outputs = y_train_reg[:10]\n",
    "results = clf.best_estimator_.predict(tf.constant(inputs), verbose=0)\n",
    "for i in range(len(inputs)):\n",
    "    print(f\"input: \\n\\\"{inputs[i]}\\\"\\nscore: {results[i]:.2f}\\nactual: {outputs[i]:.2f} \\n\")"
   ]
  },
  {
   "cell_type": "markdown",
   "metadata": {},
   "source": [
    "## COMPARE CLASSIFIER VS REGRESSOR"
   ]
  },
  {
   "cell_type": "code",
   "execution_count": 39,
   "metadata": {},
   "outputs": [
    {
     "name": "stdout",
     "output_type": "stream",
     "text": [
      "\"Geek Bag Set Mayday Standard USA Game Purple MDG-7040\"\n",
      "    reg score: 9.77\n",
      "    clf score: 1\n",
      "\n",
      "\"My wife got this for me and we really enjoyed playing it. Great engine builder that has neat “group hug” triggers. For example instead of hurting other players maybe everyone gets a bonus but you get a better bonus. Doesn’t leave anyone feeling a sting even if you are losing. Love the scoring and flow of the game. First impressions are good! Love the theme and components.\"\n",
      "    reg score: 7.47\n",
      "    clf score: 1\n",
      "\n",
      "\"Collectors Edition, played twice, like new.\"\n",
      "    reg score: 7.32\n",
      "    clf score: 1\n",
      "\n",
      "\"Includes the Leeghwater Project expansion\"\n",
      "    reg score: 8.68\n",
      "    clf score: 1\n",
      "\n",
      "\"Bought digitally.   I normally prefer strategy (think 4X) over tactics, vastly so. However, Gloomhaven's two-card system is genuinely fun, and I really want to try Jaws of the Lion with friends soon.   The currently only mode in the digital version, \"Guildmaster\", is a pretty fun solo-only adaptation of the game, but it's pretty slow.  My biggest gripe with GH is that the game's theming is as generic as vanilla D&D. It's basically generic high fantasy to a tee, although JotL seems to be trying to remedy that a bit with its smart character designs.\"\n",
      "    reg score: 6.06\n",
      "    clf score: 1\n",
      "\n",
      "\"Kickstarter Edition With Metal Cubes\"\n",
      "    reg score: 9.86\n",
      "    clf score: 1\n",
      "\n",
      "\"À essayer. Jeu d'aventure avec carte\"\n",
      "    reg score: 9.24\n",
      "    clf score: 1\n",
      "\n",
      "\"I really really really really really really really really really really really really really really really really really really really really really really really really really really   want to play this game.\"\n",
      "    reg score: 8.45\n",
      "    clf score: 1\n",
      "\n",
      "\"Tower Rex insert, Mayday Premium sleeves\"\n",
      "    reg score: 9.36\n",
      "    clf score: 1\n",
      "\n",
      "\"German Version Retail January 2020\"\n",
      "    reg score: 8.86\n",
      "    clf score: 1\n",
      "\n"
     ]
    },
    {
     "name": "stderr",
     "output_type": "stream",
     "text": [
      "C:\\Users\\dev999\\.conda\\envs\\tensorflow2\\lib\\site-packages\\tensorflow\\python\\keras\\engine\\sequential.py:455: UserWarning: `model.predict_classes()` is deprecated and will be removed after 2021-01-01. Please use instead:* `np.argmax(model.predict(x), axis=-1)`,   if your model does multi-class classification   (e.g. if it uses a `softmax` last-layer activation).* `(model.predict(x) > 0.5).astype(\"int32\")`,   if your model does binary classification   (e.g. if it uses a `sigmoid` last-layer activation).\n",
      "  warnings.warn('`model.predict_classes()` is deprecated and '\n"
     ]
    }
   ],
   "source": [
    "not_rated_comments = not_rated_comments.sample(frac=1)\n",
    "inputs = list(not_rated_comments.value.astype(str))[:10]\n",
    "\n",
    "clf_results = classifier.predict(inputs, verbose=0)\n",
    "reg_results = regressor.predict(inputs, verbose=0)\n",
    "for i in range(len(inputs)):\n",
    "    print(f\"\"\"\\\"{inputs[i]}\\\"\n",
    "    reg score: {reg_results[i]:.2f}\n",
    "    clf score: {clf_results[i][0]}\n",
    "\"\"\")"
   ]
  },
  {
   "cell_type": "markdown",
   "metadata": {},
   "source": [
    "### RESULTS\n",
    "It seems that the regressor is much more accurate compared to the binary classifier => **let's use the regressors results to fix the BGG rating**"
   ]
  },
  {
   "cell_type": "markdown",
   "metadata": {},
   "source": [
    "## COMBINE RATED COMMENTS AND NOT-RATED COMMENTS WITH PREDICTED RATING"
   ]
  },
  {
   "cell_type": "code",
   "execution_count": 40,
   "metadata": {},
   "outputs": [
    {
     "name": "stdout",
     "output_type": "stream",
     "text": [
      "rated_comments_grouped: \n",
      "|     id |   rating_mean |   rating_count |\n",
      "|--------|---------------|----------------|\n",
      "| 162886 |          8.36 |           3593 |\n",
      "| 167355 |          8.41 |           1895 |\n",
      "| 167791 |          8.21 |           8375 |\n",
      "| 169427 |          8.67 |            260 |\n",
      "| 169786 |          8.09 |           7405 |\n"
     ]
    }
   ],
   "source": [
    "rated_comments['rating'] = rated_comments.rating.astype(float)\n",
    "rated_comments_grouped = rated_comments.groupby('id').agg({'rating': ['mean', 'count']})\n",
    "rated_comments_grouped.columns = list(rated_comments_grouped.columns.map('_'.join))\n",
    "rated_comments_grouped = rated_comments_grouped.reset_index()\n",
    "print(\"rated_comments_grouped: \")\n",
    "print(rated_comments_grouped.head().to_markdown(index=False, floatfmt='.2f', tablefmt='github'))"
   ]
  },
  {
   "cell_type": "code",
   "execution_count": 41,
   "metadata": {},
   "outputs": [],
   "source": [
    "not_rated_comments['rating'] = regressor.predict(list(not_rated_comments.value.astype(str)))"
   ]
  },
  {
   "cell_type": "code",
   "execution_count": 42,
   "metadata": {},
   "outputs": [
    {
     "name": "stdout",
     "output_type": "stream",
     "text": [
      "not_rated_comments_grouped: \n",
      "|     id |   rating_mean |   rating_count |\n",
      "|--------|---------------|----------------|\n",
      "| 162886 |          8.12 |            319 |\n",
      "| 167355 |          8.26 |            212 |\n",
      "| 167791 |          8.25 |            442 |\n",
      "| 169427 |          8.45 |             74 |\n",
      "| 169786 |          8.14 |            598 |\n"
     ]
    }
   ],
   "source": [
    "not_rated_comments['rating'] = not_rated_comments.rating.astype(float)\n",
    "not_rated_comments['rating'] = not_rated_comments['rating'].clip(0, 10)\n",
    "not_rated_comments_grouped = not_rated_comments.groupby('id').agg({'rating': ['mean', 'count']})\n",
    "not_rated_comments_grouped.columns = list(not_rated_comments_grouped.columns.map('_'.join))\n",
    "not_rated_comments_grouped = not_rated_comments_grouped.reset_index()\n",
    "print(\"not_rated_comments_grouped: \")\n",
    "print(not_rated_comments_grouped.head().to_markdown(index=False, floatfmt='.2f', tablefmt='github'))"
   ]
  },
  {
   "cell_type": "code",
   "execution_count": 43,
   "metadata": {},
   "outputs": [],
   "source": [
    "grouped = rated_comments_grouped.merge(not_rated_comments_grouped, on='id', suffixes=('_review', '_comments'), how='outer')\n",
    "grouped['id'] = grouped.id.astype(str)\n",
    "grouped = grouped.merge(pd.DataFrame(hot_array), on='id', how='right')\n",
    "grouped['rank'] = grouped['rank'].astype(int)\n",
    "grouped['url'] = grouped['id'].apply(lambda x: f\"https://boardgamegeek.com/boardgame/{x}\")\n",
    "grouped['fixed_rating'] = (grouped['rating_mean_review']*grouped['rating_count_review']+grouped['rating_mean_comments']*grouped['rating_count_comments']) /\\\n",
    "                            (grouped['rating_count_review']+grouped['rating_count_comments'])\n",
    "grouped['thumbnail'] = grouped['thumbnail'].apply(lambda x: f'<img src=\"{x}\" width=\"124\" />')\n",
    "grouped['name'] = grouped.apply(lambda x: f'<a href=\"{x[\"url\"]}\">{x[\"name\"]}</a>', axis=1)\n",
    "\n",
    "grouped = grouped[['thumbnail', 'name', 'rating_mean_review', 'rating_mean_comments', 'fixed_rating', 'rank', 'yearpublished']]"
   ]
  },
  {
   "cell_type": "code",
   "execution_count": 44,
   "metadata": {},
   "outputs": [
    {
     "data": {
      "text/html": [
       "<div>\n",
       "<style scoped>\n",
       "    .dataframe tbody tr th:only-of-type {\n",
       "        vertical-align: middle;\n",
       "    }\n",
       "\n",
       "    .dataframe tbody tr th {\n",
       "        vertical-align: top;\n",
       "    }\n",
       "\n",
       "    .dataframe thead th {\n",
       "        text-align: right;\n",
       "    }\n",
       "</style>\n",
       "<table border=\"1\" class=\"dataframe\">\n",
       "  <thead>\n",
       "    <tr style=\"text-align: right;\">\n",
       "      <th></th>\n",
       "      <th>thumbnail</th>\n",
       "      <th>name</th>\n",
       "      <th>rating_mean_review</th>\n",
       "      <th>rating_mean_comments</th>\n",
       "      <th>fixed_rating</th>\n",
       "      <th>rank</th>\n",
       "      <th>yearpublished</th>\n",
       "    </tr>\n",
       "  </thead>\n",
       "  <tbody>\n",
       "    <tr>\n",
       "      <th>0</th>\n",
       "      <td>&lt;img src=\"https://cf.geekdo-images.com/gTxav_K...</td>\n",
       "      <td>&lt;a href=\"https://boardgamegeek.com/boardgame/2...</td>\n",
       "      <td>7.774053</td>\n",
       "      <td>8.128921</td>\n",
       "      <td>7.869902</td>\n",
       "      <td>1</td>\n",
       "      <td>2021</td>\n",
       "    </tr>\n",
       "    <tr>\n",
       "      <th>1</th>\n",
       "      <td>&lt;img src=\"https://cf.geekdo-images.com/U4aoXbK...</td>\n",
       "      <td>&lt;a href=\"https://boardgamegeek.com/boardgame/3...</td>\n",
       "      <td>NaN</td>\n",
       "      <td>8.063975</td>\n",
       "      <td>NaN</td>\n",
       "      <td>2</td>\n",
       "      <td>2021</td>\n",
       "    </tr>\n",
       "    <tr>\n",
       "      <th>2</th>\n",
       "      <td>&lt;img src=\"https://cf.geekdo-images.com/bwABghR...</td>\n",
       "      <td>&lt;a href=\"https://boardgamegeek.com/boardgame/3...</td>\n",
       "      <td>9.666667</td>\n",
       "      <td>8.614496</td>\n",
       "      <td>9.140581</td>\n",
       "      <td>3</td>\n",
       "      <td>2021</td>\n",
       "    </tr>\n",
       "    <tr>\n",
       "      <th>3</th>\n",
       "      <td>&lt;img src=\"https://cf.geekdo-images.com/cpVKg0C...</td>\n",
       "      <td>&lt;a href=\"https://boardgamegeek.com/boardgame/2...</td>\n",
       "      <td>6.105263</td>\n",
       "      <td>7.661940</td>\n",
       "      <td>6.375990</td>\n",
       "      <td>4</td>\n",
       "      <td>2021</td>\n",
       "    </tr>\n",
       "    <tr>\n",
       "      <th>4</th>\n",
       "      <td>&lt;img src=\"https://cf.geekdo-images.com/fW43z5X...</td>\n",
       "      <td>&lt;a href=\"https://boardgamegeek.com/boardgame/3...</td>\n",
       "      <td>6.514620</td>\n",
       "      <td>7.947869</td>\n",
       "      <td>6.904952</td>\n",
       "      <td>5</td>\n",
       "      <td>2021</td>\n",
       "    </tr>\n",
       "  </tbody>\n",
       "</table>\n",
       "</div>"
      ],
      "text/plain": [
       "                                           thumbnail  \\\n",
       "0  <img src=\"https://cf.geekdo-images.com/gTxav_K...   \n",
       "1  <img src=\"https://cf.geekdo-images.com/U4aoXbK...   \n",
       "2  <img src=\"https://cf.geekdo-images.com/bwABghR...   \n",
       "3  <img src=\"https://cf.geekdo-images.com/cpVKg0C...   \n",
       "4  <img src=\"https://cf.geekdo-images.com/fW43z5X...   \n",
       "\n",
       "                                                name  rating_mean_review  \\\n",
       "0  <a href=\"https://boardgamegeek.com/boardgame/2...            7.774053   \n",
       "1  <a href=\"https://boardgamegeek.com/boardgame/3...                 NaN   \n",
       "2  <a href=\"https://boardgamegeek.com/boardgame/3...            9.666667   \n",
       "3  <a href=\"https://boardgamegeek.com/boardgame/2...            6.105263   \n",
       "4  <a href=\"https://boardgamegeek.com/boardgame/3...            6.514620   \n",
       "\n",
       "   rating_mean_comments  fixed_rating  rank yearpublished  \n",
       "0              8.128921      7.869902     1          2021  \n",
       "1              8.063975           NaN     2          2021  \n",
       "2              8.614496      9.140581     3          2021  \n",
       "3              7.661940      6.375990     4          2021  \n",
       "4              7.947869      6.904952     5          2021  "
      ]
     },
     "execution_count": 44,
     "metadata": {},
     "output_type": "execute_result"
    }
   ],
   "source": [
    "grouped.head()"
   ]
  },
  {
   "cell_type": "code",
   "execution_count": 45,
   "metadata": {},
   "outputs": [],
   "source": [
    "def display_topn(by, n=5, ascending=True):\n",
    "    temp_df = grouped.sort_values(by, ascending=ascending).head(n)\n",
    "    temp_df.index=list(range(1, n+1))\n",
    "    return HTML(temp_df.to_html(escape=False, classes='table table-striped'))"
   ]
  },
  {
   "cell_type": "code",
   "execution_count": 46,
   "metadata": {},
   "outputs": [
    {
     "data": {
      "text/html": [
       "<table border=\"1\" class=\"dataframe table table-striped\">\n",
       "  <thead>\n",
       "    <tr style=\"text-align: right;\">\n",
       "      <th></th>\n",
       "      <th>thumbnail</th>\n",
       "      <th>name</th>\n",
       "      <th>rating_mean_review</th>\n",
       "      <th>rating_mean_comments</th>\n",
       "      <th>fixed_rating</th>\n",
       "      <th>rank</th>\n",
       "      <th>yearpublished</th>\n",
       "    </tr>\n",
       "  </thead>\n",
       "  <tbody>\n",
       "    <tr>\n",
       "      <th>1</th>\n",
       "      <td><img src=\"https://cf.geekdo-images.com/gTxav_KKQK1rDg-XuCjCSA__thumb/img/tFTOAKG5aDXxYfNRmJNmfyxH83M=/fit-in/200x150/filters:strip_icc()/pic5164812.jpg\" width=\"124\" /></td>\n",
       "      <td><a href=\"https://boardgamegeek.com/boardgame/291572\">Oath: Chronicles of Empire and Exile</a></td>\n",
       "      <td>7.774053</td>\n",
       "      <td>8.128921</td>\n",
       "      <td>7.869902</td>\n",
       "      <td>1</td>\n",
       "      <td>2021</td>\n",
       "    </tr>\n",
       "    <tr>\n",
       "      <th>2</th>\n",
       "      <td><img src=\"https://cf.geekdo-images.com/U4aoXbKATU7YbA8bAT73FQ__thumb/img/g0aac2-OQvMbEPXv1vIvSumPmkA=/fit-in/200x150/filters:strip_icc()/pic6253876.png\" width=\"124\" /></td>\n",
       "      <td><a href=\"https://boardgamegeek.com/boardgame/341254\">Lost Ruins of Arnak: Expedition Leaders</a></td>\n",
       "      <td>NaN</td>\n",
       "      <td>8.063975</td>\n",
       "      <td>NaN</td>\n",
       "      <td>2</td>\n",
       "      <td>2021</td>\n",
       "    </tr>\n",
       "    <tr>\n",
       "      <th>3</th>\n",
       "      <td><img src=\"https://cf.geekdo-images.com/bwABghR3MhsmGJqyh42WXQ__thumb/img/is-GKWwws4rDrIe-B9fbuM_oBYA=/fit-in/200x150/filters:strip_icc()/pic6235824.png\" width=\"124\" /></td>\n",
       "      <td><a href=\"https://boardgamegeek.com/boardgame/340909\">Gloomholdin'</a></td>\n",
       "      <td>9.666667</td>\n",
       "      <td>8.614496</td>\n",
       "      <td>9.140581</td>\n",
       "      <td>3</td>\n",
       "      <td>2021</td>\n",
       "    </tr>\n",
       "    <tr>\n",
       "      <th>4</th>\n",
       "      <td><img src=\"https://cf.geekdo-images.com/cpVKg0C2xofA8nEy7X4nBw__thumb/img/dOTiBi7JAYIqkkdx1o4WMrqoBJ0=/fit-in/200x150/filters:strip_icc()/pic4301625.png\" width=\"124\" /></td>\n",
       "      <td><a href=\"https://boardgamegeek.com/boardgame/258135\">Wild Assent</a></td>\n",
       "      <td>6.105263</td>\n",
       "      <td>7.661940</td>\n",
       "      <td>6.375990</td>\n",
       "      <td>4</td>\n",
       "      <td>2021</td>\n",
       "    </tr>\n",
       "    <tr>\n",
       "      <th>5</th>\n",
       "      <td><img src=\"https://cf.geekdo-images.com/fW43z5XJG-DnzFChgZNM-Q__thumb/img/Ty23IY-kFu2Ho159ZgdDf2N8gwY=/fit-in/200x150/filters:strip_icc()/pic5909342.jpg\" width=\"124\" /></td>\n",
       "      <td><a href=\"https://boardgamegeek.com/boardgame/328871\">Terraforming Mars: Ares Expedition</a></td>\n",
       "      <td>6.514620</td>\n",
       "      <td>7.947869</td>\n",
       "      <td>6.904952</td>\n",
       "      <td>5</td>\n",
       "      <td>2021</td>\n",
       "    </tr>\n",
       "  </tbody>\n",
       "</table>"
      ],
      "text/plain": [
       "<IPython.core.display.HTML object>"
      ]
     },
     "execution_count": 46,
     "metadata": {},
     "output_type": "execute_result"
    }
   ],
   "source": [
    "# TOP N RANK\n",
    "display_topn(by='rank', n=TOP_N)"
   ]
  },
  {
   "cell_type": "code",
   "execution_count": 47,
   "metadata": {},
   "outputs": [
    {
     "data": {
      "text/html": [
       "<table border=\"1\" class=\"dataframe table table-striped\">\n",
       "  <thead>\n",
       "    <tr style=\"text-align: right;\">\n",
       "      <th></th>\n",
       "      <th>thumbnail</th>\n",
       "      <th>name</th>\n",
       "      <th>rating_mean_review</th>\n",
       "      <th>rating_mean_comments</th>\n",
       "      <th>fixed_rating</th>\n",
       "      <th>rank</th>\n",
       "      <th>yearpublished</th>\n",
       "    </tr>\n",
       "  </thead>\n",
       "  <tbody>\n",
       "    <tr>\n",
       "      <th>1</th>\n",
       "      <td><img src=\"https://cf.geekdo-images.com/bwABghR3MhsmGJqyh42WXQ__thumb/img/is-GKWwws4rDrIe-B9fbuM_oBYA=/fit-in/200x150/filters:strip_icc()/pic6235824.png\" width=\"124\" /></td>\n",
       "      <td><a href=\"https://boardgamegeek.com/boardgame/340909\">Gloomholdin'</a></td>\n",
       "      <td>9.666667</td>\n",
       "      <td>8.614496</td>\n",
       "      <td>9.140581</td>\n",
       "      <td>3</td>\n",
       "      <td>2021</td>\n",
       "    </tr>\n",
       "    <tr>\n",
       "      <th>2</th>\n",
       "      <td><img src=\"https://cf.geekdo-images.com/i8Fb6krnpJsScTzb0NKDmA__thumb/img/J_da96bAh6tjYBwK1zXy5prIDdQ=/fit-in/200x150/filters:strip_icc()/pic6205128.jpg\" width=\"124\" /></td>\n",
       "      <td><a href=\"https://boardgamegeek.com/boardgame/331317\">Coalitions</a></td>\n",
       "      <td>9.000000</td>\n",
       "      <td>9.412749</td>\n",
       "      <td>9.137583</td>\n",
       "      <td>9</td>\n",
       "      <td>2022</td>\n",
       "    </tr>\n",
       "    <tr>\n",
       "      <th>3</th>\n",
       "      <td><img src=\"https://cf.geekdo-images.com/Oh3kHw6lweg6ru71Q16h2Q__thumb/img/e9XZdQe1ZcPpaq4Gy31OoWBB_V0=/fit-in/200x150/filters:strip_icc()/pic5235277.jpg\" width=\"124\" /></td>\n",
       "      <td><a href=\"https://boardgamegeek.com/boardgame/246900\">Eclipse: Second Dawn for the Galaxy</a></td>\n",
       "      <td>8.720785</td>\n",
       "      <td>8.127649</td>\n",
       "      <td>8.631276</td>\n",
       "      <td>49</td>\n",
       "      <td>2020</td>\n",
       "    </tr>\n",
       "    <tr>\n",
       "      <th>4</th>\n",
       "      <td><img src=\"https://cf.geekdo-images.com/x3zxjr-Vw5iU4yDPg70Jgw__thumb/img/o18rjEemoWaVru9Y2TyPwuIaRfE=/fit-in/200x150/filters:strip_icc()/pic3490053.jpg\" width=\"124\" /></td>\n",
       "      <td><a href=\"https://boardgamegeek.com/boardgame/224517\">Brass: Birmingham</a></td>\n",
       "      <td>8.669664</td>\n",
       "      <td>8.174242</td>\n",
       "      <td>8.625328</td>\n",
       "      <td>21</td>\n",
       "      <td>2018</td>\n",
       "    </tr>\n",
       "    <tr>\n",
       "      <th>5</th>\n",
       "      <td><img src=\"https://cf.geekdo-images.com/hRuD1y5BxdNpssgBqamS0A__thumb/img/fpUu1t2YLjJ4EvEzBGTKtZasNv4=/fit-in/200x150/filters:strip_icc()/pic4595897.jpg\" width=\"124\" /></td>\n",
       "      <td><a href=\"https://boardgamegeek.com/boardgame/169427\">Middara: Unintentional Malum – Act 1</a></td>\n",
       "      <td>8.666078</td>\n",
       "      <td>8.452379</td>\n",
       "      <td>8.618731</td>\n",
       "      <td>40</td>\n",
       "      <td>2019</td>\n",
       "    </tr>\n",
       "  </tbody>\n",
       "</table>"
      ],
      "text/plain": [
       "<IPython.core.display.HTML object>"
      ]
     },
     "execution_count": 47,
     "metadata": {},
     "output_type": "execute_result"
    }
   ],
   "source": [
    "# TOP N REVIEW RANK\n",
    "display_topn(by='rating_mean_review', n=TOP_N, ascending=False)"
   ]
  },
  {
   "cell_type": "code",
   "execution_count": 48,
   "metadata": {},
   "outputs": [
    {
     "data": {
      "text/html": [
       "<table border=\"1\" class=\"dataframe table table-striped\">\n",
       "  <thead>\n",
       "    <tr style=\"text-align: right;\">\n",
       "      <th></th>\n",
       "      <th>thumbnail</th>\n",
       "      <th>name</th>\n",
       "      <th>rating_mean_review</th>\n",
       "      <th>rating_mean_comments</th>\n",
       "      <th>fixed_rating</th>\n",
       "      <th>rank</th>\n",
       "      <th>yearpublished</th>\n",
       "    </tr>\n",
       "  </thead>\n",
       "  <tbody>\n",
       "    <tr>\n",
       "      <th>1</th>\n",
       "      <td><img src=\"https://cf.geekdo-images.com/bwABghR3MhsmGJqyh42WXQ__thumb/img/is-GKWwws4rDrIe-B9fbuM_oBYA=/fit-in/200x150/filters:strip_icc()/pic6235824.png\" width=\"124\" /></td>\n",
       "      <td><a href=\"https://boardgamegeek.com/boardgame/340909\">Gloomholdin'</a></td>\n",
       "      <td>9.666667</td>\n",
       "      <td>8.614496</td>\n",
       "      <td>9.140581</td>\n",
       "      <td>3</td>\n",
       "      <td>2021</td>\n",
       "    </tr>\n",
       "    <tr>\n",
       "      <th>2</th>\n",
       "      <td><img src=\"https://cf.geekdo-images.com/i8Fb6krnpJsScTzb0NKDmA__thumb/img/J_da96bAh6tjYBwK1zXy5prIDdQ=/fit-in/200x150/filters:strip_icc()/pic6205128.jpg\" width=\"124\" /></td>\n",
       "      <td><a href=\"https://boardgamegeek.com/boardgame/331317\">Coalitions</a></td>\n",
       "      <td>9.000000</td>\n",
       "      <td>9.412749</td>\n",
       "      <td>9.137583</td>\n",
       "      <td>9</td>\n",
       "      <td>2022</td>\n",
       "    </tr>\n",
       "    <tr>\n",
       "      <th>3</th>\n",
       "      <td><img src=\"https://cf.geekdo-images.com/0v8tyScAL5gbO1pMxpa0pg__thumb/img/7yu87edMujjft3YKe_D_a4v9610=/fit-in/200x150/filters:strip_icc()/pic6157727.png\" width=\"124\" /></td>\n",
       "      <td><a href=\"https://boardgamegeek.com/boardgame/338067\">6: Siege – The Board Game</a></td>\n",
       "      <td>8.250000</td>\n",
       "      <td>9.539097</td>\n",
       "      <td>8.745807</td>\n",
       "      <td>33</td>\n",
       "      <td>2022</td>\n",
       "    </tr>\n",
       "    <tr>\n",
       "      <th>4</th>\n",
       "      <td><img src=\"https://cf.geekdo-images.com/Oh3kHw6lweg6ru71Q16h2Q__thumb/img/e9XZdQe1ZcPpaq4Gy31OoWBB_V0=/fit-in/200x150/filters:strip_icc()/pic5235277.jpg\" width=\"124\" /></td>\n",
       "      <td><a href=\"https://boardgamegeek.com/boardgame/246900\">Eclipse: Second Dawn for the Galaxy</a></td>\n",
       "      <td>8.720785</td>\n",
       "      <td>8.127649</td>\n",
       "      <td>8.631276</td>\n",
       "      <td>49</td>\n",
       "      <td>2020</td>\n",
       "    </tr>\n",
       "    <tr>\n",
       "      <th>5</th>\n",
       "      <td><img src=\"https://cf.geekdo-images.com/x3zxjr-Vw5iU4yDPg70Jgw__thumb/img/o18rjEemoWaVru9Y2TyPwuIaRfE=/fit-in/200x150/filters:strip_icc()/pic3490053.jpg\" width=\"124\" /></td>\n",
       "      <td><a href=\"https://boardgamegeek.com/boardgame/224517\">Brass: Birmingham</a></td>\n",
       "      <td>8.669664</td>\n",
       "      <td>8.174242</td>\n",
       "      <td>8.625328</td>\n",
       "      <td>21</td>\n",
       "      <td>2018</td>\n",
       "    </tr>\n",
       "  </tbody>\n",
       "</table>"
      ],
      "text/plain": [
       "<IPython.core.display.HTML object>"
      ]
     },
     "execution_count": 48,
     "metadata": {},
     "output_type": "execute_result"
    }
   ],
   "source": [
    "# TOP N FIXED RANK\n",
    "display_topn(by='fixed_rating', n=TOP_N, ascending=False)"
   ]
  },
  {
   "cell_type": "code",
   "execution_count": 49,
   "metadata": {},
   "outputs": [],
   "source": [
    "# model.save('saved_model\\my_model')"
   ]
  },
  {
   "cell_type": "code",
   "execution_count": 50,
   "metadata": {},
   "outputs": [],
   "source": [
    "# saved_model = tf.keras.models.load_model('saved_model\\my_model')"
   ]
  },
  {
   "cell_type": "code",
   "execution_count": 51,
   "metadata": {},
   "outputs": [],
   "source": [
    "# some examples on \"long\" comments vs short comments"
   ]
  },
  {
   "cell_type": "code",
   "execution_count": 52,
   "metadata": {},
   "outputs": [],
   "source": [
    "not_rated_comments['comment_len'] = not_rated_comments['value'].str.len()\n",
    "some_long_comments = not_rated_comments.query(\"comment_len>100 and comment_len<300\").sample(frac=1).head(25).sort_values('rating')"
   ]
  },
  {
   "cell_type": "code",
   "execution_count": 53,
   "metadata": {},
   "outputs": [
    {
     "name": "stdout",
     "output_type": "stream",
     "text": [
      "\"A little to convoluted for my tastes. I will play this if everyone else want to get it to the table. Wonderful presentation though.\"\n",
      "score: 5.63\n",
      "\n",
      "\"- Marvel Champions: The Card Game – Venom Hero Pack - Marvel Champions: The Card Game – Nebula Hero Pack\"\n",
      "score: 5.97\n",
      "\n",
      "\"-Double Sided Fall/Winter Playmat -Double Sided Mountain/River Playmat -The Clockwork Expansion -Exiles and Partisans Deck -Resin Clearing Markers -Extra Vagabonds -Upgrade Kit\"\n",
      "score: 5.98\n",
      "\n",
      "\"Entscheiden Sie über das Schicksal des Waldes, während die Waldfraktionen für gegensätzliche Ziele kämpfen.  1-6 Spieler / Experten Spiel\"\n",
      "score: 6.54\n",
      "\n",
      "\"I'm really enjoying this game from a favorite designer. Plays fast which offsets the randomness of the card draw. Lots of interesting decisions. Much deeper than it first appears.\"\n",
      "score: 6.56\n",
      "\n",
      "\"I keep avoiding this game. I need to play it. If nothing else to see if I'll enjoy it. I just feel 6-12 hours to dedicate to one game is a lot.\"\n",
      "score: 6.62\n",
      "\n",
      "\"Have not played yet, but from reading the rules and watching some videos, it seems to be everything I wanted Empires of the North to be, with much better theme to boot. I'll be getting this one very soon.\"\n",
      "score: 7.23\n",
      "\n",
      "\"The Search for Planet X has 4 Player Aid cards sleeved with Mayday Magnum Dixit-Cards (80x120mm, MDG-7104, 100pk).\"\n",
      "score: 7.24\n",
      "\n",
      "\"Art, mechanic, and theme buy.  Big, big fan of asymmetry; fascinated by what it does and how it does it.\"\n",
      "score: 7.36\n",
      "\n",
      "\"Played only twice when we borrowed it from the (book) library. I loved it but hubby didn't. I am looking forward to the new, smaller version of it coming out this year.\"\n",
      "score: 8.03\n",
      "\n",
      "\"7.8 / 2-4p Best 2 / 20-60mins / 2019 / Overall 245 / Strategy 137 / 2.64  (Tom Excellent, mage vs mage, random setup and cards, IGN Best Games of 2019, Zee #4 Essential Game 2019, Zee Strategy Christmas 2019, BGG #5 2019, Tom Lehman)\"\n",
      "score: 8.20\n",
      "\n",
      "\"Owned Expansions: [geekurl=/boardgameexpansion/288168/res-arcana-lux-et-tenebrae]Res Arcana: Lux et Tenebrae[/geekurl]\"\n",
      "score: 8.24\n",
      "\n",
      "\"long set up (10mn), dry, probably too long (2h-2h30 at 2 ), quite a lot of iconography, and quite heavy...very expert\"\n",
      "score: 8.29\n",
      "\n",
      "\"Obtained in a multi-game trade with BoardGameCo.  Really like the initiative system.  The combat system is okay.  Not sure about the leveling up yet.\"\n",
      "score: 8.29\n",
      "\n",
      "\"Terraforming Mars: Venus Next (2017) Terraforming Mars: Prelude (2018) Terraforming Mars: Colonies (2018)\"\n",
      "score: 8.77\n",
      "\n",
      "\"Gutes spiel sehr tiefgehen dauert 4h zu 3 ggf 3h.  Ist schon cool aber kein kauf ertmal da lothar es hat uns so oft spielt man es nicht  da es fast ein wenig anstengend ist uns trotzdem ganz cool.  Besser als kohle damals  auch von der Aufmachung. Regeln  sehr simpel  für das komplexe spiel\"\n",
      "score: 8.91\n",
      "\n",
      "\"Can be long, but enjoy all the different strategies. Also needs to be played more and was a huge hit with my friends. Played 3 times. Would def play more.\"\n",
      "score: 8.94\n",
      "\n",
      "\"Kickstarted  Also: Scythe: Invaders from Afar (2016) Scythe: The Wind Gambit (2017) Scythe: The Rise of Fenris (2018)\"\n",
      "score: 9.10\n",
      "\n",
      "\"includes: Green Goblin Scenario Pack, Wrecking Crew Scenario pack, Captain America Hero Pack, Ms. Marvel Hero Pack, and Thor Hero Pack.\"\n",
      "score: 9.31\n",
      "\n",
      "\"Best game in my collection. (for now)  This game is not about winning our losing, but it's a story that starts calm, but before long evolves into a struggle for survival. Like in the movies, tension is high, and it's really about how you die. What an experience!\"\n",
      "score: 9.44\n",
      "\n",
      "\"Kickstarted (late) - Backed: 6/11/2018 - Funded/Payment: 6/13/2018 - Est. Delivery: 2/2019 - Received: 6/27/2019 (4 months)\"\n",
      "score: 9.65\n",
      "\n",
      "\"After one half-finished play. Wow! Variable board and tech tracks are compelling. Hard decisions fueled by a challenging and tough to math-out strategy, given the plentiful options and the changing game state. More please.\"\n",
      "score: 9.71\n",
      "\n",
      "\"Inklusive: - Basisspiel. - Ast und Tatze (1. Erweiterung). - VORBESTELLT: Zerklüftete Erde (2. Erweiterung). - Promo „Schlummernde Schlange“ (PRO 564). - Premium Holz-Token-Pack (SISL-TOK1).\"\n",
      "score: 9.75\n",
      "\n",
      "\"Intruder minis are excellent. Human minis are good. Painting the models will be a pain as all models have integral bases.  Rest of the components are very good quality.  Will rate game after getting a couple solo games in.\"\n",
      "score: 10.00\n",
      "\n",
      "\"Watched Heavy Cardboard introduce this game and immediately added it to the wish list. Gorgeous and being Roxley means it will be off-the-charts quality. Love the era thematically and look forward to giving it a go someday when we can afford to add it to the collection.\"\n",
      "score: 10.00\n",
      "\n"
     ]
    }
   ],
   "source": [
    "some_long_comments.apply(lambda c: print(f\"\\\"{c['value']}\\\"\\nscore: {c['rating']:.2f}\\n\"), axis=1);"
   ]
  },
  {
   "cell_type": "markdown",
   "metadata": {},
   "source": [
    "## RANDOM FOREST - TEST"
   ]
  },
  {
   "cell_type": "code",
   "execution_count": 54,
   "metadata": {},
   "outputs": [],
   "source": [
    "# no support for Windows at the moment - waiting for it to test"
   ]
  },
  {
   "cell_type": "code",
   "execution_count": null,
   "metadata": {},
   "outputs": [],
   "source": []
  }
 ],
 "metadata": {
  "kernelspec": {
   "display_name": "tensorflow2",
   "language": "python",
   "name": "tensorflow2"
  },
  "language_info": {
   "codemirror_mode": {
    "name": "ipython",
    "version": 3
   },
   "file_extension": ".py",
   "mimetype": "text/x-python",
   "name": "python",
   "nbconvert_exporter": "python",
   "pygments_lexer": "ipython3",
   "version": "3.8.8"
  }
 },
 "nbformat": 4,
 "nbformat_minor": 4
}
