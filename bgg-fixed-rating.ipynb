{
 "cells": [
  {
   "cell_type": "code",
   "execution_count": 1,
   "metadata": {},
   "outputs": [],
   "source": [
    "# ## BGG API\n",
    "# https://www.boardgamegeek.com/xmlapi2/thing?id=161599&comments=1\n",
    "# https://www.boardgamegeek.com/xmlapi2/hot?type=boardgame\n",
    "# ## NLP WITH TF\n",
    "# https://www.tensorflow.org/hub/tutorials/tf2_text_classification"
   ]
  },
  {
   "cell_type": "code",
   "execution_count": 2,
   "metadata": {},
   "outputs": [
    {
     "name": "stdout",
     "output_type": "stream",
     "text": [
      "Version:      2.5.0\n",
      "Eager mode:   True\n",
      "Hub version:  0.12.0\n",
      "GPU:          available\n"
     ]
    }
   ],
   "source": [
    "import tensorflow as tf\n",
    "import tensorflow_hub as hub\n",
    "import tensorflow_datasets as tfds\n",
    "from tensorflow.keras.wrappers.scikit_learn import KerasRegressor, KerasClassifier\n",
    "from sklearn.model_selection import cross_val_score, cross_validate, GridSearchCV\n",
    "from sklearn.model_selection import KFold\n",
    "\n",
    "import xml.etree.ElementTree as Xet\n",
    "import matplotlib.pyplot as plt\n",
    "import pandas as pd\n",
    "import numpy as np\n",
    "import requests\n",
    "from IPython.display import Image, HTML\n",
    "from datetime import datetime\n",
    "from langdetect import detect\n",
    "import re\n",
    "import copy\n",
    "\n",
    "print(\"Version:     \", tf.__version__)\n",
    "print(\"Eager mode:  \", tf.executing_eagerly())\n",
    "print(\"Hub version: \", hub.__version__)\n",
    "print(\"GPU:         \", \"available\" if tf.config.list_physical_devices('GPU') else \"NOT available\")\n",
    "\n",
    "tf.get_logger().setLevel('ERROR')"
   ]
  },
  {
   "cell_type": "code",
   "execution_count": 3,
   "metadata": {},
   "outputs": [],
   "source": [
    "# tf.debugging.set_log_device_placement(True)"
   ]
  },
  {
   "cell_type": "code",
   "execution_count": 4,
   "metadata": {},
   "outputs": [],
   "source": [
    "GOOD_REVIEW_THRESHOLD = 7"
   ]
  },
  {
   "cell_type": "code",
   "execution_count": 5,
   "metadata": {},
   "outputs": [],
   "source": [
    "VAL_FRACTION = 0.25"
   ]
  },
  {
   "cell_type": "code",
   "execution_count": 6,
   "metadata": {},
   "outputs": [],
   "source": [
    "MIN_COMMENT_LEN = 25"
   ]
  },
  {
   "cell_type": "code",
   "execution_count": 7,
   "metadata": {},
   "outputs": [],
   "source": [
    "TOP_N = 5"
   ]
  },
  {
   "cell_type": "code",
   "execution_count": 8,
   "metadata": {},
   "outputs": [],
   "source": [
    "MODEL_NAME = \"https://tfhub.dev/google/nnlm-en-dim50/2\""
   ]
  },
  {
   "cell_type": "markdown",
   "metadata": {},
   "source": [
    "## GET DATA"
   ]
  },
  {
   "cell_type": "code",
   "execution_count": 9,
   "metadata": {},
   "outputs": [],
   "source": [
    "def get_hot_data():\n",
    "    hot = requests.get(\"https://www.boardgamegeek.com/xmlapi2/hot?type=boardgame\").content.decode()\n",
    "  \n",
    "    # Parsing the XML file\n",
    "    xmlparse = Xet.fromstring(hot)\n",
    "\n",
    "    hot_array = []\n",
    "    for item in xmlparse:\n",
    "        dict_element = {\n",
    "            \"id\": item.get(\"id\"),\n",
    "            \"rank\": item.get(\"rank\")\n",
    "        }\n",
    "        for option in item:\n",
    "            dict_element[option.tag] = option.get(\"value\")\n",
    "        hot_array.append(dict_element)\n",
    "    return hot_array"
   ]
  },
  {
   "cell_type": "code",
   "execution_count": 10,
   "metadata": {},
   "outputs": [],
   "source": [
    "def get_comments(id_array, verbose=1):\n",
    "    max_comments_per_page = 1\n",
    "    array_ids = [h['id'] for h in id_array]\n",
    "    ids = ','.join(array_ids)\n",
    "    page_size = 100\n",
    "    page_number = 0\n",
    "    comments_array = []\n",
    "\n",
    "    while max_comments_per_page > 0 and len(array_ids) > 0:\n",
    "        page_number += 1\n",
    "        if verbose>0 and page_number%verbose==0:\n",
    "            print(f\"page number = {page_number}\", end=\" \")\n",
    "        comments = requests.get(f\"https://www.boardgamegeek.com/xmlapi2/thing?id={ids}&comments=1&pagesize={page_size}&page={page_number}\").content.decode()\n",
    "\n",
    "        # Parsing the XML file\n",
    "        xmlparse = Xet.fromstring(comments)\n",
    "        comments_per_item = []\n",
    "        for item in xmlparse:        \n",
    "            for option in item:\n",
    "                if option.tag == 'comments':\n",
    "                    comments_per_page = 0\n",
    "                    for comment in option:\n",
    "                        comments_per_page += 1\n",
    "                        dict_element = {\n",
    "                            \"id\": item.get(\"id\"),\n",
    "                            \"username\": comment.get(\"username\"),\n",
    "                            \"rating\": comment.get(\"rating\"),\n",
    "                            \"value\": comment.get(\"value\")\n",
    "                        }\n",
    "                        comments_array.append(dict_element)\n",
    "                    if comments_per_page==0:\n",
    "                        array_ids.remove(item.get(\"id\"))\n",
    "                        ids = ','.join(array_ids)\n",
    "                    comments_per_item.append(comments_per_page)\n",
    "        max_comments_per_page = max(comments_per_item)\n",
    "        if verbose>0 and page_number%verbose==0:\n",
    "            print(f\"(max: {max(comments_per_item)}, len: {len(comments_per_item)})\")\n",
    "    comments_df = pd.DataFrame(comments_array)\n",
    "    print(f\"comments_df shape: {comments_df.shape}\")\n",
    "    return comments_df"
   ]
  },
  {
   "cell_type": "code",
   "execution_count": 11,
   "metadata": {},
   "outputs": [
    {
     "data": {
      "text/plain": [
       "[{'id': '285192',\n",
       "  'rank': '1',\n",
       "  'thumbnail': 'https://cf.geekdo-images.com/oaD1ZQ3yGj6lacLdtqgdnQ__thumb/img/1mCz7HPEFMeqaqJHsDZwEUc9ftw=/fit-in/200x150/filters:strip_icc()/pic5558118.png',\n",
       "  'name': 'Destinies',\n",
       "  'yearpublished': '2021'},\n",
       " {'id': '223040',\n",
       "  'rank': '2',\n",
       "  'thumbnail': 'https://cf.geekdo-images.com/A7IOpPt-lHrMYsbRmxXWdQ__thumb/img/XoD3fXgApfY7-dfYyFeE6FVkbfY=/fit-in/200x150/filters:strip_icc()/pic6177962.jpg',\n",
       "  'name': 'Fantasy Realms',\n",
       "  'yearpublished': '2017'}]"
      ]
     },
     "execution_count": 11,
     "metadata": {},
     "output_type": "execute_result"
    }
   ],
   "source": [
    "hot_array = get_hot_data()\n",
    "hot_array[:2]"
   ]
  },
  {
   "cell_type": "code",
   "execution_count": 12,
   "metadata": {},
   "outputs": [
    {
     "name": "stdout",
     "output_type": "stream",
     "text": [
      "missing csv file, getting new data using API...\n",
      "page number = 10 (max: 100, len: 26)\n",
      "page number = 20 (max: 100, len: 17)\n",
      "page number = 30 (max: 100, len: 12)\n",
      "page number = 40 (max: 100, len: 9)\n",
      "page number = 50 (max: 100, len: 4)\n",
      "page number = 60 (max: 100, len: 4)\n",
      "page number = 70 (max: 100, len: 3)\n",
      "page number = 80 (max: 100, len: 3)\n",
      "page number = 90 (max: 100, len: 2)\n",
      "page number = 100 (max: 0, len: 1)\n",
      "comments_df shape: (97260, 4)\n"
     ]
    },
    {
     "data": {
      "text/html": [
       "<div>\n",
       "<style scoped>\n",
       "    .dataframe tbody tr th:only-of-type {\n",
       "        vertical-align: middle;\n",
       "    }\n",
       "\n",
       "    .dataframe tbody tr th {\n",
       "        vertical-align: top;\n",
       "    }\n",
       "\n",
       "    .dataframe thead th {\n",
       "        text-align: right;\n",
       "    }\n",
       "</style>\n",
       "<table border=\"1\" class=\"dataframe\">\n",
       "  <thead>\n",
       "    <tr style=\"text-align: right;\">\n",
       "      <th></th>\n",
       "      <th>id</th>\n",
       "      <th>username</th>\n",
       "      <th>rating</th>\n",
       "      <th>value</th>\n",
       "    </tr>\n",
       "  </thead>\n",
       "  <tbody>\n",
       "    <tr>\n",
       "      <th>0</th>\n",
       "      <td>285192</td>\n",
       "      <td>Alarka</td>\n",
       "      <td>8.5</td>\n",
       "      <td>Players: 1-3 (1-2) Time: 90-150 Min Category: ...</td>\n",
       "    </tr>\n",
       "    <tr>\n",
       "      <th>1</th>\n",
       "      <td>285192</td>\n",
       "      <td>almi</td>\n",
       "      <td>N/A</td>\n",
       "      <td>2021-05</td>\n",
       "    </tr>\n",
       "    <tr>\n",
       "      <th>2</th>\n",
       "      <td>285192</td>\n",
       "      <td>androgeus</td>\n",
       "      <td>N/A</td>\n",
       "      <td>soll Ende Mai 21 lieferbar sein</td>\n",
       "    </tr>\n",
       "    <tr>\n",
       "      <th>3</th>\n",
       "      <td>285192</td>\n",
       "      <td>AnneWit</td>\n",
       "      <td>9</td>\n",
       "      <td>On first play, this is another outstanding gam...</td>\n",
       "    </tr>\n",
       "    <tr>\n",
       "      <th>4</th>\n",
       "      <td>285192</td>\n",
       "      <td>ArmyLee</td>\n",
       "      <td>N/A</td>\n",
       "      <td>KS Ed. - Sea of Sand - Myth &amp; Folklore crossover</td>\n",
       "    </tr>\n",
       "    <tr>\n",
       "      <th>...</th>\n",
       "      <td>...</td>\n",
       "      <td>...</td>\n",
       "      <td>...</td>\n",
       "      <td>...</td>\n",
       "    </tr>\n",
       "    <tr>\n",
       "      <th>97255</th>\n",
       "      <td>167791</td>\n",
       "      <td>z_zadar</td>\n",
       "      <td>9</td>\n",
       "      <td>Some games are so much fun. Others can be a li...</td>\n",
       "    </tr>\n",
       "    <tr>\n",
       "      <th>97256</th>\n",
       "      <td>167791</td>\n",
       "      <td>_Czid_</td>\n",
       "      <td>8</td>\n",
       "      <td>Have played with Elysium and Prelude expansion...</td>\n",
       "    </tr>\n",
       "    <tr>\n",
       "      <th>97257</th>\n",
       "      <td>167791</td>\n",
       "      <td>_Marty_</td>\n",
       "      <td>9.5</td>\n",
       "      <td>Fantastic game. With so many cards that can ch...</td>\n",
       "    </tr>\n",
       "    <tr>\n",
       "      <th>97258</th>\n",
       "      <td>167791</td>\n",
       "      <td>_mun_</td>\n",
       "      <td>10</td>\n",
       "      <td>Nagyon izgalmas játék, jó a mechanizmusa. A sz...</td>\n",
       "    </tr>\n",
       "    <tr>\n",
       "      <th>97259</th>\n",
       "      <td>167791</td>\n",
       "      <td>_The_Inquiry_</td>\n",
       "      <td>5</td>\n",
       "      <td>Prior to 2020: 2 plays  TM is one of those gam...</td>\n",
       "    </tr>\n",
       "  </tbody>\n",
       "</table>\n",
       "<p>97260 rows × 4 columns</p>\n",
       "</div>"
      ],
      "text/plain": [
       "           id       username rating  \\\n",
       "0      285192         Alarka    8.5   \n",
       "1      285192           almi    N/A   \n",
       "2      285192      androgeus    N/A   \n",
       "3      285192        AnneWit      9   \n",
       "4      285192        ArmyLee    N/A   \n",
       "...       ...            ...    ...   \n",
       "97255  167791        z_zadar      9   \n",
       "97256  167791         _Czid_      8   \n",
       "97257  167791        _Marty_    9.5   \n",
       "97258  167791          _mun_     10   \n",
       "97259  167791  _The_Inquiry_      5   \n",
       "\n",
       "                                                   value  \n",
       "0      Players: 1-3 (1-2) Time: 90-150 Min Category: ...  \n",
       "1                                                2021-05  \n",
       "2                        soll Ende Mai 21 lieferbar sein  \n",
       "3      On first play, this is another outstanding gam...  \n",
       "4       KS Ed. - Sea of Sand - Myth & Folklore crossover  \n",
       "...                                                  ...  \n",
       "97255  Some games are so much fun. Others can be a li...  \n",
       "97256  Have played with Elysium and Prelude expansion...  \n",
       "97257  Fantastic game. With so many cards that can ch...  \n",
       "97258  Nagyon izgalmas játék, jó a mechanizmusa. A sz...  \n",
       "97259  Prior to 2020: 2 plays  TM is one of those gam...  \n",
       "\n",
       "[97260 rows x 4 columns]"
      ]
     },
     "execution_count": 12,
     "metadata": {},
     "output_type": "execute_result"
    }
   ],
   "source": [
    "try:\n",
    "    comments_df = pd.read_csv(f\"comments_{datetime.now().strftime('%Y%m%d')}.csv\")\n",
    "    comments_df['rating'] = comments_df.rating.fillna('N/A')\n",
    "    print(\"reading dataframe from csv file...\")\n",
    "except:\n",
    "    print(\"missing csv file, getting new data using API...\")\n",
    "    comments_df = get_comments(hot_array, verbose=10)\n",
    "    comments_df.to_csv(f\"comments_{datetime.now().strftime('%Y%m%d')}.csv\", index=False)\n",
    "comments_df"
   ]
  },
  {
   "cell_type": "markdown",
   "metadata": {},
   "source": [
    "## DATA CLEANING"
   ]
  },
  {
   "cell_type": "code",
   "execution_count": 13,
   "metadata": {},
   "outputs": [],
   "source": [
    "# probably we should keep all the ratings (no matters the len) and remove only the simple comments under a certain len  "
   ]
  },
  {
   "cell_type": "code",
   "execution_count": 14,
   "metadata": {},
   "outputs": [],
   "source": [
    "comments_df[\"value\"] = comments_df[\"value\"].astype(str)"
   ]
  },
  {
   "cell_type": "code",
   "execution_count": 15,
   "metadata": {},
   "outputs": [],
   "source": [
    "# REMOVE URLs FROM COMMENTS"
   ]
  },
  {
   "cell_type": "code",
   "execution_count": 16,
   "metadata": {},
   "outputs": [],
   "source": [
    "comments_df['value'] = [re.sub(r\"http\\S+\", \"\", v) for v in comments_df.value.values]"
   ]
  },
  {
   "cell_type": "code",
   "execution_count": 17,
   "metadata": {},
   "outputs": [],
   "source": [
    "# REMOVE SHORT COMMENTS\n",
    "def remove_short_comments(df: pd.DataFrame, min_len=25, method='unrated'):\n",
    "    if method not in ['unrated', 'rated', 'both']:\n",
    "        raise AttributeError(f\"method {method} not allowed\")\n",
    "    df_local = df.copy()    \n",
    "    df_local['comment_len'] = [len(re.findall(\"[A-Za-z]\", v)) for v in df_local['value'].values]\n",
    "    if method == 'rated':\n",
    "        df_local = df_local.query('(comment_len>@min_len and rating != \"N/A\") or rating == \"N/A\"')\n",
    "    elif method == 'unrated':\n",
    "        df_local = df_local.query('(comment_len>@min_len and rating == \"N/A\") or rating != \"N/A\"')\n",
    "    else:\n",
    "        df_local = df_local.query('comment_len>@min_len')\n",
    "    print(f\"removed {len(df)-len(df_local)} for 'remove_short_comments' - min len: {min_len} - method: {method}\")\n",
    "    return df_local.reset_index(drop=True)"
   ]
  },
  {
   "cell_type": "code",
   "execution_count": 18,
   "metadata": {},
   "outputs": [
    {
     "name": "stdout",
     "output_type": "stream",
     "text": [
      "removed 16430 for 'remove_short_comments' - min len: 25 - method: unrated\n"
     ]
    }
   ],
   "source": [
    "comments_df = remove_short_comments(comments_df, MIN_COMMENT_LEN)"
   ]
  },
  {
   "cell_type": "code",
   "execution_count": 19,
   "metadata": {},
   "outputs": [],
   "source": [
    "# REMOVE NON ENGLISH COMMENTS"
   ]
  },
  {
   "cell_type": "code",
   "execution_count": 20,
   "metadata": {},
   "outputs": [],
   "source": [
    "# !conda install -c conda-forge langdetect"
   ]
  },
  {
   "cell_type": "code",
   "execution_count": 21,
   "metadata": {},
   "outputs": [],
   "source": [
    "# def add_comments_lang(df: pd.DataFrame):\n",
    "#     df_local = df.copy()\n",
    "#     df_local['lang'] = df['value'].apply(detect)\n",
    "#     return df_local.reset_index(drop=True)"
   ]
  },
  {
   "cell_type": "code",
   "execution_count": 22,
   "metadata": {},
   "outputs": [],
   "source": [
    "# comments_df = add_comments_lang(comments_df)"
   ]
  },
  {
   "cell_type": "code",
   "execution_count": 23,
   "metadata": {},
   "outputs": [],
   "source": [
    "# comments_df = comments_df.query('lang == \"en\"')"
   ]
  },
  {
   "cell_type": "markdown",
   "metadata": {},
   "source": [
    "## SPLIT RATED AND NON-RATED COMMENTS"
   ]
  },
  {
   "cell_type": "code",
   "execution_count": 24,
   "metadata": {},
   "outputs": [
    {
     "data": {
      "text/plain": [
       "10       15427\n",
       "9        15099\n",
       "8        12945\n",
       "7         7106\n",
       "N/A       6822\n",
       "         ...  \n",
       "9.556        1\n",
       "4.14         1\n",
       "9.166        1\n",
       "5.39         1\n",
       "9.981        1\n",
       "Name: rating, Length: 550, dtype: int64"
      ]
     },
     "execution_count": 24,
     "metadata": {},
     "output_type": "execute_result"
    }
   ],
   "source": [
    "# count number of comments per rating (N/A included)\n",
    "comments_df.rating.value_counts()"
   ]
  },
  {
   "cell_type": "code",
   "execution_count": 25,
   "metadata": {},
   "outputs": [
    {
     "data": {
      "text/plain": [
       "(74008, 5)"
      ]
     },
     "execution_count": 25,
     "metadata": {},
     "output_type": "execute_result"
    }
   ],
   "source": [
    "# get rated comments only\n",
    "rated_comments = comments_df.query('rating != \"N/A\"')\n",
    "rated_comments.shape"
   ]
  },
  {
   "cell_type": "code",
   "execution_count": 26,
   "metadata": {},
   "outputs": [
    {
     "data": {
      "text/plain": [
       "(6822, 5)"
      ]
     },
     "execution_count": 26,
     "metadata": {},
     "output_type": "execute_result"
    }
   ],
   "source": [
    "# get non rated comments only\n",
    "not_rated_comments = comments_df.query('rating == \"N/A\"').reset_index(drop=True)\n",
    "not_rated_comments.shape"
   ]
  },
  {
   "cell_type": "markdown",
   "metadata": {},
   "source": [
    "## CREATE TRAINING AND VALIDATION DATA"
   ]
  },
  {
   "cell_type": "code",
   "execution_count": 27,
   "metadata": {},
   "outputs": [],
   "source": [
    "# use rated comments (reviews) to train the model"
   ]
  },
  {
   "cell_type": "code",
   "execution_count": 28,
   "metadata": {},
   "outputs": [],
   "source": [
    "rated_comments = rated_comments.sample(frac=1)"
   ]
  },
  {
   "cell_type": "code",
   "execution_count": 29,
   "metadata": {},
   "outputs": [],
   "source": [
    "# create training X and y\n",
    "train_examples = list(rated_comments.value)\n",
    "train_labels = list((rated_comments.rating.astype(float)>=GOOD_REVIEW_THRESHOLD).astype(int))"
   ]
  },
  {
   "cell_type": "code",
   "execution_count": 30,
   "metadata": {},
   "outputs": [
    {
     "name": "stdout",
     "output_type": "stream",
     "text": [
      "example of positive rating:\n"
     ]
    },
    {
     "data": {
      "text/plain": [
       "'Damn this is awesome for a simple trick taking game! Amazing design, very solid.'"
      ]
     },
     "execution_count": 30,
     "metadata": {},
     "output_type": "execute_result"
    }
   ],
   "source": [
    "print(\"example of positive rating:\")\n",
    "train_examples[train_labels.index(1)]"
   ]
  },
  {
   "cell_type": "code",
   "execution_count": 31,
   "metadata": {},
   "outputs": [
    {
     "name": "stdout",
     "output_type": "stream",
     "text": [
      "example of negative rating:\n"
     ]
    },
    {
     "data": {
      "text/plain": [
       "\"Played it 4 times and it is ok.  It was dull and extremely a lot of math involved and didn't feel immersive.\""
      ]
     },
     "execution_count": 31,
     "metadata": {},
     "output_type": "execute_result"
    }
   ],
   "source": [
    "print(\"example of negative rating:\")\n",
    "train_examples[train_labels.index(0)]"
   ]
  },
  {
   "cell_type": "markdown",
   "metadata": {},
   "source": [
    "## COMPOSE MODEL"
   ]
  },
  {
   "cell_type": "code",
   "execution_count": 32,
   "metadata": {},
   "outputs": [],
   "source": [
    "hub_layer = hub.KerasLayer(MODEL_NAME, input_shape=[], dtype=tf.string, trainable=True)"
   ]
  },
  {
   "cell_type": "code",
   "execution_count": 33,
   "metadata": {},
   "outputs": [],
   "source": [
    "def build_model(hub_layer=None, model_type='classifier', lstm=False, verbose=1):    \n",
    "    if hub_layer is None:\n",
    "        hub_layer = hub.KerasLayer(MODEL_NAME, input_shape=[], dtype=tf.string, trainable=True)\n",
    "        \n",
    "    if model_type not in ('classifier', 'regressor'):\n",
    "        raise AttributeError(\"model type can only be 'classifier' or 'regressor'\")\n",
    "\n",
    "    if verbose:\n",
    "        print(\"example of layers processing:\")\n",
    "        print(hub_layer(train_examples[:2]))\n",
    "        print(\"\")\n",
    "\n",
    "    if model_type == 'classifier':\n",
    "        model = tf.keras.Sequential()\n",
    "        model.add(copy.copy(hub_layer))\n",
    "        if lstm:\n",
    "            raise NotImplementedError(\"lstm = True is not implemented\")\n",
    "        else:\n",
    "            model.add(tf.keras.layers.Dense(16, activation='relu'))\n",
    "        model.add(tf.keras.layers.Dense(1))\n",
    "        \n",
    "        if verbose:\n",
    "            print(\"model summary:\")\n",
    "            print(model.summary())\n",
    "        \n",
    "        model.compile(\n",
    "            optimizer='adam',\n",
    "            loss=tf.losses.BinaryCrossentropy(from_logits=True),\n",
    "            metrics=[tf.metrics.BinaryAccuracy(threshold=0.0, name='accuracy')]\n",
    "        )\n",
    "    else:\n",
    "        model = tf.keras.Sequential()\n",
    "        model.add(copy.copy(hub_layer))\n",
    "        if lstm:\n",
    "            raise NotImplementedError(\"lstm = True is not implemented\")\n",
    "        else:\n",
    "            model.add(tf.keras.layers.Dense(16, activation='relu', kernel_initializer='normal'))\n",
    "        model.add(tf.keras.layers.Dense(1, kernel_initializer='normal'))\n",
    "        \n",
    "        if verbose:\n",
    "            print(\"model summary:\")\n",
    "            print(model.summary())\n",
    "            \n",
    "        model.compile(\n",
    "            loss='mean_squared_error', \n",
    "            optimizer='adam',\n",
    "            metrics=[\"mean_squared_error\"]\n",
    "        )\n",
    "    \n",
    "    return model"
   ]
  },
  {
   "cell_type": "markdown",
   "metadata": {},
   "source": [
    "## CLASSIFIER"
   ]
  },
  {
   "cell_type": "code",
   "execution_count": 34,
   "metadata": {},
   "outputs": [
    {
     "name": "stdout",
     "output_type": "stream",
     "text": [
      "Epoch 1/100\n",
      "73/73 - 6s - loss: 0.5546 - accuracy: 0.8003 - val_loss: 0.4616 - val_accuracy: 0.8526\n",
      "Epoch 2/100\n",
      "73/73 - 4s - loss: 0.3993 - accuracy: 0.8547 - val_loss: 0.3617 - val_accuracy: 0.8546\n",
      "Epoch 3/100\n",
      "73/73 - 4s - loss: 0.3178 - accuracy: 0.8650 - val_loss: 0.3237 - val_accuracy: 0.8722\n",
      "Epoch 4/100\n",
      "73/73 - 4s - loss: 0.2682 - accuracy: 0.8932 - val_loss: 0.3067 - val_accuracy: 0.8772\n",
      "Epoch 5/100\n",
      "73/73 - 4s - loss: 0.2298 - accuracy: 0.9093 - val_loss: 0.3075 - val_accuracy: 0.8777\n",
      "Epoch 6/100\n",
      "73/73 - 4s - loss: 0.1994 - accuracy: 0.9237 - val_loss: 0.3193 - val_accuracy: 0.8775\n",
      "Epoch 7/100\n",
      "73/73 - 4s - loss: 0.1741 - accuracy: 0.9347 - val_loss: 0.3342 - val_accuracy: 0.8730\n",
      "Epoch 8/100\n",
      "73/73 - 4s - loss: 0.1543 - accuracy: 0.9440 - val_loss: 0.3545 - val_accuracy: 0.8701\n",
      "Epoch 9/100\n",
      "73/73 - 4s - loss: 0.1372 - accuracy: 0.9519 - val_loss: 0.3794 - val_accuracy: 0.8645\n",
      "49/49 - 0s - loss: 0.4002 - accuracy: 0.8585\n",
      "Epoch 1/100\n",
      "73/73 - 5s - loss: 0.4999 - accuracy: 0.8411 - val_loss: 0.4106 - val_accuracy: 0.8561\n",
      "Epoch 2/100\n",
      "73/73 - 4s - loss: 0.3550 - accuracy: 0.8645 - val_loss: 0.3311 - val_accuracy: 0.8728\n",
      "Epoch 3/100\n",
      "73/73 - 4s - loss: 0.2863 - accuracy: 0.8863 - val_loss: 0.3093 - val_accuracy: 0.8773\n",
      "Epoch 4/100\n",
      "73/73 - 4s - loss: 0.2448 - accuracy: 0.9042 - val_loss: 0.3053 - val_accuracy: 0.8776\n",
      "Epoch 5/100\n",
      "73/73 - 4s - loss: 0.2129 - accuracy: 0.9186 - val_loss: 0.3116 - val_accuracy: 0.8758\n",
      "Epoch 6/100\n",
      "73/73 - 4s - loss: 0.1872 - accuracy: 0.9295 - val_loss: 0.3252 - val_accuracy: 0.8719\n",
      "Epoch 7/100\n",
      "73/73 - 4s - loss: 0.1656 - accuracy: 0.9394 - val_loss: 0.3450 - val_accuracy: 0.8677\n",
      "Epoch 8/100\n",
      "73/73 - 4s - loss: 0.1474 - accuracy: 0.9471 - val_loss: 0.3709 - val_accuracy: 0.8638\n",
      "49/49 - 0s - loss: 0.3784 - accuracy: 0.8645\n",
      "Epoch 1/100\n",
      "73/73 - 4s - loss: 0.5222 - accuracy: 0.8355 - val_loss: 0.4381 - val_accuracy: 0.8517\n",
      "Epoch 2/100\n",
      "73/73 - 4s - loss: 0.3784 - accuracy: 0.8534 - val_loss: 0.3531 - val_accuracy: 0.8541\n",
      "Epoch 3/100\n",
      "73/73 - 4s - loss: 0.3047 - accuracy: 0.8731 - val_loss: 0.3219 - val_accuracy: 0.8725\n",
      "Epoch 4/100\n",
      "73/73 - 4s - loss: 0.2581 - accuracy: 0.8966 - val_loss: 0.3144 - val_accuracy: 0.8755\n",
      "Epoch 5/100\n",
      "73/73 - 4s - loss: 0.2229 - accuracy: 0.9140 - val_loss: 0.3208 - val_accuracy: 0.8749\n",
      "Epoch 6/100\n",
      "73/73 - 4s - loss: 0.1953 - accuracy: 0.9261 - val_loss: 0.3327 - val_accuracy: 0.8677\n",
      "Epoch 7/100\n",
      "73/73 - 4s - loss: 0.1722 - accuracy: 0.9364 - val_loss: 0.3521 - val_accuracy: 0.8673\n",
      "Epoch 8/100\n",
      "73/73 - 4s - loss: 0.1526 - accuracy: 0.9452 - val_loss: 0.3771 - val_accuracy: 0.8645\n",
      "Epoch 9/100\n",
      "73/73 - 4s - loss: 0.1363 - accuracy: 0.9524 - val_loss: 0.4045 - val_accuracy: 0.8619\n",
      "49/49 - 0s - loss: 0.3898 - accuracy: 0.8613\n",
      "Epoch 1/100\n",
      "109/109 - 7s - loss: 0.4964 - accuracy: 0.8301 - val_loss: 0.3714 - val_accuracy: 0.8606\n",
      "Epoch 2/100\n",
      "109/109 - 6s - loss: 0.3266 - accuracy: 0.8702 - val_loss: 0.3046 - val_accuracy: 0.8804\n",
      "Epoch 3/100\n",
      "109/109 - 6s - loss: 0.2680 - accuracy: 0.8935 - val_loss: 0.2925 - val_accuracy: 0.8856\n",
      "Epoch 4/100\n",
      "109/109 - 5s - loss: 0.2323 - accuracy: 0.9087 - val_loss: 0.2973 - val_accuracy: 0.8835\n",
      "Epoch 5/100\n",
      "109/109 - 6s - loss: 0.2061 - accuracy: 0.9190 - val_loss: 0.3100 - val_accuracy: 0.8790\n",
      "Epoch 6/100\n",
      "109/109 - 5s - loss: 0.1855 - accuracy: 0.9284 - val_loss: 0.3284 - val_accuracy: 0.8765\n",
      "Epoch 7/100\n",
      "109/109 - 6s - loss: 0.1690 - accuracy: 0.9357 - val_loss: 0.3478 - val_accuracy: 0.8735\n",
      "Epoch 8/100\n",
      "109/109 - 6s - loss: 0.1553 - accuracy: 0.9420 - val_loss: 0.3755 - val_accuracy: 0.8703\n"
     ]
    },
    {
     "data": {
      "text/plain": [
       "GridSearchCV(cv=3,\n",
       "             estimator=<tensorflow.python.keras.wrappers.scikit_learn.KerasClassifier object at 0x0000022A887454F0>,\n",
       "             param_grid={})"
      ]
     },
     "execution_count": 34,
     "metadata": {},
     "output_type": "execute_result"
    }
   ],
   "source": [
    "def build_classifier():\n",
    "    return build_model(hub_layer=None, model_type='classifier', verbose=0)\n",
    "\n",
    "\n",
    "estimator = KerasClassifier(build_fn=build_classifier, epochs=100, batch_size=512, verbose=2, validation_split=VAL_FRACTION)\n",
    "x_train_clf = np.array(list(rated_comments.value))\n",
    "y_train_clf = np.array(list((rated_comments.rating.astype(float)>=GOOD_REVIEW_THRESHOLD).astype(int)))\n",
    "\n",
    "clf = GridSearchCV(\n",
    "    estimator, \n",
    "    cv=3, \n",
    "    param_grid={}\n",
    ")\n",
    "clf.fit(x_train_clf, y_train_clf, callbacks=[tf.keras.callbacks.EarlyStopping(monitor='val_accuracy', patience=5, min_delta=0.001)])"
   ]
  },
  {
   "cell_type": "code",
   "execution_count": 35,
   "metadata": {},
   "outputs": [],
   "source": [
    "classifier = clf.best_estimator_\n",
    "classifier_history_dict = classifier.model.history.history"
   ]
  },
  {
   "cell_type": "code",
   "execution_count": 36,
   "metadata": {},
   "outputs": [
    {
     "data": {
      "text/plain": [
       "dict_keys(['loss', 'accuracy', 'val_loss', 'val_accuracy'])"
      ]
     },
     "execution_count": 36,
     "metadata": {},
     "output_type": "execute_result"
    }
   ],
   "source": [
    "classifier_history_dict.keys()"
   ]
  },
  {
   "cell_type": "code",
   "execution_count": 37,
   "metadata": {},
   "outputs": [],
   "source": [
    "acc = classifier_history_dict['accuracy']\n",
    "val_acc = classifier_history_dict['val_accuracy']\n",
    "loss = classifier_history_dict['loss']\n",
    "val_loss = classifier_history_dict['val_loss']"
   ]
  },
  {
   "cell_type": "code",
   "execution_count": 38,
   "metadata": {},
   "outputs": [],
   "source": [
    "epochs = range(1, len(acc) + 1) "
   ]
  },
  {
   "cell_type": "code",
   "execution_count": 39,
   "metadata": {},
   "outputs": [
    {
     "data": {
      "image/png": "[encoded data removed]",
      "text/plain": [
       "<Figure size 648x360 with 1 Axes>"
      ]
     },
     "metadata": {
      "needs_background": "light"
     },
     "output_type": "display_data"
    }
   ],
   "source": [
    "# \"bo\" is for \"blue dot\"\n",
    "plt.figure(figsize=(9, 5))\n",
    "plt.plot(epochs, loss, 'bo', label='Training loss')\n",
    "# b is for \"solid blue line\"\n",
    "plt.plot(epochs, val_loss, 'b', label='Validation loss')\n",
    "plt.title('Training and validation loss')\n",
    "plt.xlabel('Epochs')\n",
    "plt.ylabel('Loss')\n",
    "plt.grid(True)\n",
    "plt.legend()\n",
    "\n",
    "plt.show()"
   ]
  },
  {
   "cell_type": "code",
   "execution_count": 40,
   "metadata": {},
   "outputs": [
    {
     "data": {
      "image/png": "[encoded data removed]",
      "text/plain": [
       "<Figure size 648x360 with 1 Axes>"
      ]
     },
     "metadata": {
      "needs_background": "light"
     },
     "output_type": "display_data"
    }
   ],
   "source": [
    "plt.figure(figsize=(9, 5))\n",
    "plt.plot(epochs, acc, 'bo', label='Training acc')\n",
    "plt.plot(epochs, val_acc, 'b', label='Validation acc')\n",
    "plt.title('Training and validation accuracy')\n",
    "plt.xlabel('Epochs')\n",
    "plt.ylabel('Accuracy')\n",
    "plt.grid(True)\n",
    "plt.legend()\n",
    "\n",
    "plt.show()"
   ]
  },
  {
   "cell_type": "code",
   "execution_count": 41,
   "metadata": {},
   "outputs": [],
   "source": [
    "def print_my_examples(inputs, results, actual_values=None, limit=None):\n",
    "    if actual_values is None:\n",
    "        result_for_printing = [f'input:\\n\"{inputs[i]}\"\\nscore: {results[i][0]:.6f}' for i in range(len(inputs))]\n",
    "    else:\n",
    "        result_for_printing = [f'input:\\n\"{inputs[i]}\"\\nscore: {results[i][0]:.6f}\\nactual value:{actual_values[i]}' for i in range(len(inputs))]\n",
    "    if limit:\n",
    "        result_for_printing = result_for_printing[:limit]\n",
    "    print(*result_for_printing, sep='\\n\\n')"
   ]
  },
  {
   "cell_type": "code",
   "execution_count": 42,
   "metadata": {},
   "outputs": [
    {
     "name": "stdout",
     "output_type": "stream",
     "text": [
      "input:\n",
      "\"Damn this is awesome for a simple trick taking game! Amazing design, very solid.\"\n",
      "score: 1.000000\n",
      "actual value:1\n",
      "\n",
      "input:\n",
      "\"Amazing rondelle-type game\"\n",
      "score: 1.000000\n",
      "actual value:1\n",
      "\n",
      "input:\n",
      "\"gesleevt\"\n",
      "score: 1.000000\n",
      "actual value:1\n",
      "\n",
      "input:\n",
      "\"A1M1\"\n",
      "score: 1.000000\n",
      "actual value:1\n",
      "\n",
      "input:\n",
      "\"Played it 4 times and it is ok.  It was dull and extremely a lot of math involved and didn't feel immersive.\"\n",
      "score: 0.000000\n",
      "actual value:0\n",
      "\n",
      "input:\n",
      "\"Disclaimer: played just 2P game.  Some really great things about this game, but it never had a feeling of progression.  The engine-building is quite fun.  I don't mind how wordy the cards are.  Lots of variability.  I wish there was a real timer mechanic.  Felt broken with 2 players.\"\n",
      "score: 0.000000\n",
      "actual value:0\n",
      "\n",
      "input:\n",
      "\"After playing this a few times I think it’s safe to say it surpasses TM.  The technology track takes this game to the next level. Compared to the cult track it is infinitely more interesting and actually adds strategy to the game rather than just being a way to move power and get an end game scoring bonus.   Also, the solo mode is excellent and will allow me to get many more plays with it compared to TM.\"\n",
      "score: 1.000000\n",
      "actual value:1\n",
      "\n",
      "input:\n",
      "\"This game is fantastic, the mechanics are simple which makes it easy to learn, yet the gameplay itself is so thematic, every action you take makes you feel like you are short on time and often like you are facing something you will be lucky to survive.  the chaos bag is brilliant IMO at least because it allows you to change it depending on how difficult you wish the game to be and it also can change based on choices you make playing the game, In addition the feeling you encounter when you reach into the bag hoping that you pull what you need but knowing you may not, gives the game that edge of your seat feeling and puts you closer to being in the game as opposed to playing it.  Sure some people may not like the randomness of it, but that is part of the theme, that to even survive will not only require strong constitution and will but an exceeding amount of luck as well.  I will be playing this game as often as I can.\"\n",
      "score: 1.000000\n",
      "actual value:1\n",
      "\n",
      "input:\n",
      "\"Imbustato\"\n",
      "score: 1.000000\n",
      "actual value:1\n",
      "\n",
      "input:\n",
      "\"Only played on BGA\"\n",
      "score: 1.000000\n",
      "actual value:1\n"
     ]
    },
    {
     "name": "stderr",
     "output_type": "stream",
     "text": [
      "C:\\Users\\dev999\\.conda\\envs\\tensorflow2\\lib\\site-packages\\tensorflow\\python\\keras\\engine\\sequential.py:455: UserWarning: `model.predict_classes()` is deprecated and will be removed after 2021-01-01. Please use instead:* `np.argmax(model.predict(x), axis=-1)`,   if your model does multi-class classification   (e.g. if it uses a `softmax` last-layer activation).* `(model.predict(x) > 0.5).astype(\"int32\")`,   if your model does binary classification   (e.g. if it uses a `sigmoid` last-layer activation).\n",
      "  warnings.warn('`model.predict_classes()` is deprecated and '\n"
     ]
    }
   ],
   "source": [
    "inputs = x_train_clf[:10]\n",
    "outputs = y_train_clf[:10]\n",
    "results = classifier.predict(tf.constant(inputs), verbose=0)\n",
    "print_my_examples(inputs, results, outputs)"
   ]
  },
  {
   "cell_type": "code",
   "execution_count": 43,
   "metadata": {},
   "outputs": [],
   "source": [
    "## APPLY MODEL ON NON-RATED COMMENTS"
   ]
  },
  {
   "cell_type": "code",
   "execution_count": 44,
   "metadata": {},
   "outputs": [
    {
     "name": "stdout",
     "output_type": "stream",
     "text": [
      "14/14 - 0s\n",
      "input:\n",
      "\"Can play up to 4, but not much player interaction. Reviews compare to Sudoku.\"\n",
      "score: 1.000000\n",
      "\n",
      "input:\n",
      "\"ACCESSORIES: Top Shelf Gamer Upgrade Kit\"\n",
      "score: 1.000000\n",
      "\n",
      "input:\n",
      "\"Not played  * Weight: Medium (2.82) * Player count: Community 3, 4 / Best 3 * Mechanisms: Area Majority-Influence / Dice Rolling / End Game Bonuses / Relative Movement / Rondel / Solo-Solitaire Game / Trading / Victory Points as a Resource / Worker Placement / Worker Placement with Dice Workers  SMALL\"\n",
      "score: 1.000000\n",
      "\n",
      "input:\n",
      "\"Interesting new 4X-esque Civ-game with a weird theme. \"\n",
      "score: 0.000000\n",
      "\n",
      "input:\n",
      "\"2020 - 4.62 - #146 Aesthetics - 8.5 Components - 8.5 Concept - 8.5 Mechanisms - 8.5 Combined Total - 34/40\"\n",
      "score: 1.000000\n",
      "\n",
      "input:\n",
      "\"Would like, but not at scalpers prices\"\n",
      "score: 1.000000\n",
      "\n",
      "input:\n",
      "\"2019 Christmas from Miller-Fridays\"\n",
      "score: 1.000000\n",
      "\n",
      "input:\n",
      "\"deck building best at 3 western theme, good looking  but long\"\n",
      "score: 1.000000\n",
      "\n",
      "input:\n",
      "\"Kickstarter, expected February 2021\"\n",
      "score: 1.000000\n",
      "\n",
      "input:\n",
      "\"Deutsch, KS-Deluxe mit Pearlbrook-Erweiterung.\"\n",
      "score: 1.000000\n"
     ]
    }
   ],
   "source": [
    "not_rated_comments = not_rated_comments.sample(frac=1)\n",
    "results = classifier.predict(tf.constant(list(not_rated_comments.value.astype(str))))\n",
    "print_my_examples(list(not_rated_comments.value), results, limit=10)"
   ]
  },
  {
   "cell_type": "markdown",
   "metadata": {},
   "source": [
    "## REGRESSOR"
   ]
  },
  {
   "cell_type": "code",
   "execution_count": 45,
   "metadata": {},
   "outputs": [
    {
     "data": {
      "text/plain": [
       "GridSearchCV(cv=3,\n",
       "             estimator=<tensorflow.python.keras.wrappers.scikit_learn.KerasRegressor object at 0x0000022A9B4CBA60>,\n",
       "             param_grid={})"
      ]
     },
     "execution_count": 45,
     "metadata": {},
     "output_type": "execute_result"
    }
   ],
   "source": [
    "def build_regressor():\n",
    "    return build_model(hub_layer, model_type='regressor', verbose=0)\n",
    "\n",
    "\n",
    "estimator = KerasRegressor(build_fn=build_regressor, epochs=100, batch_size=512, verbose=0, validation_split=VAL_FRACTION)\n",
    "x_train_reg = np.array(list(rated_comments.value))\n",
    "y_train_reg = np.array(list(rated_comments.rating.astype(float)))\n",
    "\n",
    "clf = GridSearchCV(\n",
    "    estimator, \n",
    "    cv=3, \n",
    "    param_grid={}\n",
    ")\n",
    "clf.fit(x_train_reg, y_train_reg, callbacks=[tf.keras.callbacks.EarlyStopping(monitor='val_mean_squared_error', patience=5, min_delta=0.001)])"
   ]
  },
  {
   "cell_type": "code",
   "execution_count": 46,
   "metadata": {},
   "outputs": [],
   "source": [
    "regressor = clf.best_estimator_\n",
    "regressor_history_dict = regressor.model.history.history"
   ]
  },
  {
   "cell_type": "code",
   "execution_count": 47,
   "metadata": {},
   "outputs": [
    {
     "data": {
      "text/plain": [
       "dict_keys(['loss', 'mean_squared_error', 'val_loss', 'val_mean_squared_error'])"
      ]
     },
     "execution_count": 47,
     "metadata": {},
     "output_type": "execute_result"
    }
   ],
   "source": [
    "regressor_history_dict.keys()"
   ]
  },
  {
   "cell_type": "code",
   "execution_count": 48,
   "metadata": {},
   "outputs": [],
   "source": [
    "mean_squared_error = regressor_history_dict['mean_squared_error']\n",
    "val_mean_squared_error = regressor_history_dict['val_mean_squared_error']\n",
    "loss = regressor_history_dict['loss']\n",
    "val_loss = regressor_history_dict['val_loss']"
   ]
  },
  {
   "cell_type": "code",
   "execution_count": 49,
   "metadata": {},
   "outputs": [],
   "source": [
    "epochs = range(1, len(mean_squared_error) + 1) "
   ]
  },
  {
   "cell_type": "code",
   "execution_count": 50,
   "metadata": {},
   "outputs": [
    {
     "data": {
      "image/png": "[encoded data removed]",
      "text/plain": [
       "<Figure size 648x360 with 1 Axes>"
      ]
     },
     "metadata": {
      "needs_background": "light"
     },
     "output_type": "display_data"
    }
   ],
   "source": [
    "# \"bo\" is for \"blue dot\"\n",
    "plt.figure(figsize=(9, 5))\n",
    "plt.plot(epochs, loss, 'bo', label='Training loss')\n",
    "# b is for \"solid blue line\"\n",
    "plt.plot(epochs, val_loss, 'b', label='Validation loss')\n",
    "plt.title('Training and validation loss')\n",
    "plt.xlabel('Epochs')\n",
    "plt.ylabel('Loss')\n",
    "plt.grid(True)\n",
    "plt.legend()\n",
    "\n",
    "plt.show()"
   ]
  },
  {
   "cell_type": "code",
   "execution_count": 51,
   "metadata": {},
   "outputs": [
    {
     "data": {
      "image/png": "[encoded data removed]",
      "text/plain": [
       "<Figure size 648x360 with 1 Axes>"
      ]
     },
     "metadata": {
      "needs_background": "light"
     },
     "output_type": "display_data"
    }
   ],
   "source": [
    "plt.figure(figsize=(9, 5))\n",
    "plt.plot(epochs, mean_squared_error, 'bo', label='Training mean squared error')\n",
    "plt.plot(epochs, val_mean_squared_error, 'b', label='Validation mean squared error')\n",
    "plt.title('Training and validation accuracy')\n",
    "plt.xlabel('Epochs')\n",
    "plt.ylabel('Mean squared error')\n",
    "plt.grid(True)\n",
    "plt.legend()\n",
    "\n",
    "plt.show()"
   ]
  },
  {
   "cell_type": "code",
   "execution_count": 52,
   "metadata": {},
   "outputs": [
    {
     "name": "stdout",
     "output_type": "stream",
     "text": [
      "input: \n",
      "\"Damn this is awesome for a simple trick taking game! Amazing design, very solid.\"\n",
      "score: 8.64\n",
      "actual: 8.50 \n",
      "\n",
      "input: \n",
      "\"Amazing rondelle-type game\"\n",
      "score: 9.12\n",
      "actual: 9.00 \n",
      "\n",
      "input: \n",
      "\"gesleevt\"\n",
      "score: 8.84\n",
      "actual: 9.00 \n",
      "\n",
      "input: \n",
      "\"A1M1\"\n",
      "score: 8.60\n",
      "actual: 9.00 \n",
      "\n",
      "input: \n",
      "\"Played it 4 times and it is ok.  It was dull and extremely a lot of math involved and didn't feel immersive.\"\n",
      "score: 5.02\n",
      "actual: 6.00 \n",
      "\n",
      "input: \n",
      "\"Disclaimer: played just 2P game.  Some really great things about this game, but it never had a feeling of progression.  The engine-building is quite fun.  I don't mind how wordy the cards are.  Lots of variability.  I wish there was a real timer mechanic.  Felt broken with 2 players.\"\n",
      "score: 6.88\n",
      "actual: 6.00 \n",
      "\n",
      "input: \n",
      "\"After playing this a few times I think it’s safe to say it surpasses TM.  The technology track takes this game to the next level. Compared to the cult track it is infinitely more interesting and actually adds strategy to the game rather than just being a way to move power and get an end game scoring bonus.   Also, the solo mode is excellent and will allow me to get many more plays with it compared to TM.\"\n",
      "score: 9.56\n",
      "actual: 10.00 \n",
      "\n",
      "input: \n",
      "\"This game is fantastic, the mechanics are simple which makes it easy to learn, yet the gameplay itself is so thematic, every action you take makes you feel like you are short on time and often like you are facing something you will be lucky to survive.  the chaos bag is brilliant IMO at least because it allows you to change it depending on how difficult you wish the game to be and it also can change based on choices you make playing the game, In addition the feeling you encounter when you reach into the bag hoping that you pull what you need but knowing you may not, gives the game that edge of your seat feeling and puts you closer to being in the game as opposed to playing it.  Sure some people may not like the randomness of it, but that is part of the theme, that to even survive will not only require strong constitution and will but an exceeding amount of luck as well.  I will be playing this game as often as I can.\"\n",
      "score: 9.35\n",
      "actual: 10.00 \n",
      "\n",
      "input: \n",
      "\"Imbustato\"\n",
      "score: 8.82\n",
      "actual: 9.20 \n",
      "\n",
      "input: \n",
      "\"Only played on BGA\"\n",
      "score: 8.11\n",
      "actual: 8.75 \n",
      "\n"
     ]
    }
   ],
   "source": [
    "inputs = x_train_reg[:10]\n",
    "outputs = y_train_reg[:10]\n",
    "results = clf.best_estimator_.predict(tf.constant(inputs), verbose=0)\n",
    "for i in range(len(inputs)):\n",
    "    print(f\"input: \\n\\\"{inputs[i]}\\\"\\nscore: {results[i]:.2f}\\nactual: {outputs[i]:.2f} \\n\")"
   ]
  },
  {
   "cell_type": "markdown",
   "metadata": {},
   "source": [
    "## COMPARE CLASSIFIER VS REGRESSOR"
   ]
  },
  {
   "cell_type": "code",
   "execution_count": 53,
   "metadata": {},
   "outputs": [
    {
     "name": "stdout",
     "output_type": "stream",
     "text": [
      "\"The main and player boards are printed too dark for my tastes. You NEED good lighting.\"\n",
      "    reg score: 7.57\n",
      "    clf score: 1\n",
      "\n",
      "\"Action Point Allowance System Cooperative Play Deck / Pool Building Hand Management Role Playing Variable Player Powers\"\n",
      "    reg score: 7.92\n",
      "    clf score: 1\n",
      "\n",
      "\"Mayday Standard Mayday Mini Euro\"\n",
      "    reg score: 7.24\n",
      "    clf score: 1\n",
      "\n",
      "\"Sammelbestellung über SO (Thomas Krulich), August 2019 \"\n",
      "    reg score: 9.00\n",
      "    clf score: 1\n",
      "\n",
      "\"sleeved before play. stickers not used. pads not used.  \"\n",
      "    reg score: 7.05\n",
      "    clf score: 1\n",
      "\n",
      "\"with board extension, with metail coins-all, large action tokens\"\n",
      "    reg score: 6.72\n",
      "    clf score: 0\n",
      "\n",
      "\"Heavy Board Games: -*Through the Ages -Blood Rage -Terraforming Mars -Cry Havoc -Twilight Struggle  -Great Western Trail -Mansions of Madness \"\n",
      "    reg score: 4.53\n",
      "    clf score: 1\n",
      "\n",
      "\"I really dislike this for some reason...\"\n",
      "    reg score: 6.72\n",
      "    clf score: 1\n",
      "\n",
      "\"Kickstarter Collectors Edition \"\n",
      "    reg score: 8.82\n",
      "    clf score: 1\n",
      "\n",
      "\"With Dunwich Horror Expansion and Curse of the Rougaru and Carnevale of Horrors\"\n",
      "    reg score: 8.71\n",
      "    clf score: 1\n",
      "\n"
     ]
    },
    {
     "name": "stderr",
     "output_type": "stream",
     "text": [
      "C:\\Users\\dev999\\.conda\\envs\\tensorflow2\\lib\\site-packages\\tensorflow\\python\\keras\\engine\\sequential.py:455: UserWarning: `model.predict_classes()` is deprecated and will be removed after 2021-01-01. Please use instead:* `np.argmax(model.predict(x), axis=-1)`,   if your model does multi-class classification   (e.g. if it uses a `softmax` last-layer activation).* `(model.predict(x) > 0.5).astype(\"int32\")`,   if your model does binary classification   (e.g. if it uses a `sigmoid` last-layer activation).\n",
      "  warnings.warn('`model.predict_classes()` is deprecated and '\n"
     ]
    }
   ],
   "source": [
    "not_rated_comments = not_rated_comments.sample(frac=1)\n",
    "inputs = list(not_rated_comments.value.astype(str))[:10]\n",
    "\n",
    "clf_results = classifier.predict(inputs, verbose=0)\n",
    "reg_results = regressor.predict(inputs, verbose=0)\n",
    "for i in range(len(inputs)):\n",
    "    print(f\"\"\"\\\"{inputs[i]}\\\"\n",
    "    reg score: {reg_results[i]:.2f}\n",
    "    clf score: {clf_results[i][0]}\n",
    "\"\"\")"
   ]
  },
  {
   "cell_type": "markdown",
   "metadata": {},
   "source": [
    "### RESULTS\n",
    "It seems that the regressor is much more accurate compared to the binary classifier => **let's use the regressors results to fix the BGG rating**"
   ]
  },
  {
   "cell_type": "markdown",
   "metadata": {},
   "source": [
    "## COMBINE RATED COMMENTS AND NOT-RATED COMMENTS WITH PREDICTED RATING"
   ]
  },
  {
   "cell_type": "code",
   "execution_count": 54,
   "metadata": {},
   "outputs": [
    {
     "name": "stdout",
     "output_type": "stream",
     "text": [
      "rated_comments_grouped: \n",
      "|     id |   rating_mean |   rating_count |\n",
      "|--------|---------------|----------------|\n",
      "| 124361 |          8.18 |           3845 |\n",
      "| 128721 |          7.62 |            249 |\n",
      "| 162886 |          8.35 |           3519 |\n",
      "| 167355 |          8.42 |           1810 |\n",
      "| 167791 |          8.21 |           8244 |\n"
     ]
    }
   ],
   "source": [
    "rated_comments['rating'] = rated_comments.rating.astype(float)\n",
    "rated_comments_grouped = rated_comments.groupby('id').agg({'rating': ['mean', 'count']})\n",
    "rated_comments_grouped.columns = list(rated_comments_grouped.columns.map('_'.join))\n",
    "rated_comments_grouped = rated_comments_grouped.reset_index()\n",
    "print(\"rated_comments_grouped: \")\n",
    "print(rated_comments_grouped.head().to_markdown(index=False, floatfmt='.2f', tablefmt='github'))"
   ]
  },
  {
   "cell_type": "code",
   "execution_count": 55,
   "metadata": {},
   "outputs": [],
   "source": [
    "not_rated_comments['rating'] = regressor.predict(list(not_rated_comments.value.astype(str)))"
   ]
  },
  {
   "cell_type": "code",
   "execution_count": 56,
   "metadata": {},
   "outputs": [
    {
     "name": "stdout",
     "output_type": "stream",
     "text": [
      "not_rated_comments_grouped: \n",
      "|     id |   rating_mean |   rating_count |\n",
      "|--------|---------------|----------------|\n",
      "| 124361 |          8.12 |            256 |\n",
      "| 128721 |          8.32 |             50 |\n",
      "| 162886 |          8.06 |            312 |\n",
      "| 167355 |          8.20 |            214 |\n",
      "| 167791 |          8.19 |            440 |\n"
     ]
    }
   ],
   "source": [
    "not_rated_comments['rating'] = not_rated_comments.rating.astype(float)\n",
    "not_rated_comments_grouped = not_rated_comments.groupby('id').agg({'rating': ['mean', 'count']})\n",
    "not_rated_comments_grouped.columns = list(not_rated_comments_grouped.columns.map('_'.join))\n",
    "not_rated_comments_grouped = not_rated_comments_grouped.reset_index()\n",
    "print(\"not_rated_comments_grouped: \")\n",
    "print(not_rated_comments_grouped.head().to_markdown(index=False, floatfmt='.2f', tablefmt='github'))"
   ]
  },
  {
   "cell_type": "code",
   "execution_count": 57,
   "metadata": {},
   "outputs": [],
   "source": [
    "grouped = rated_comments_grouped.merge(not_rated_comments_grouped, on='id', suffixes=('_review', '_comments'), how='outer')\n",
    "grouped['id'] = grouped.id.astype(str)\n",
    "grouped = grouped.merge(pd.DataFrame(hot_array), on='id', how='right')\n",
    "grouped['rank'] = grouped['rank'].astype(int)\n",
    "grouped['url'] = grouped['id'].apply(lambda x: f\"https://boardgamegeek.com/boardgame/{x}\")\n",
    "grouped['fixed_rating'] = (grouped['rating_mean_review']*grouped['rating_count_review']+grouped['rating_mean_comments']*grouped['rating_count_comments']) /\\\n",
    "                            (grouped['rating_count_review']+grouped['rating_count_comments'])\n",
    "grouped['thumbnail'] = grouped['thumbnail'].apply(lambda x: f'<img src=\"{x}\" width=\"124\" />')\n",
    "grouped['name'] = grouped.apply(lambda x: f'<a href=\"{x[\"url\"]}\">{x[\"name\"]}</a>', axis=1)\n",
    "\n",
    "grouped = grouped[['thumbnail', 'name', 'rating_mean_review', 'rating_mean_comments', 'fixed_rating', 'rank', 'yearpublished']]"
   ]
  },
  {
   "cell_type": "code",
   "execution_count": 58,
   "metadata": {},
   "outputs": [
    {
     "data": {
      "text/html": [
       "<div>\n",
       "<style scoped>\n",
       "    .dataframe tbody tr th:only-of-type {\n",
       "        vertical-align: middle;\n",
       "    }\n",
       "\n",
       "    .dataframe tbody tr th {\n",
       "        vertical-align: top;\n",
       "    }\n",
       "\n",
       "    .dataframe thead th {\n",
       "        text-align: right;\n",
       "    }\n",
       "</style>\n",
       "<table border=\"1\" class=\"dataframe\">\n",
       "  <thead>\n",
       "    <tr style=\"text-align: right;\">\n",
       "      <th></th>\n",
       "      <th>thumbnail</th>\n",
       "      <th>name</th>\n",
       "      <th>rating_mean_review</th>\n",
       "      <th>rating_mean_comments</th>\n",
       "      <th>fixed_rating</th>\n",
       "      <th>rank</th>\n",
       "      <th>yearpublished</th>\n",
       "    </tr>\n",
       "  </thead>\n",
       "  <tbody>\n",
       "    <tr>\n",
       "      <th>0</th>\n",
       "      <td>&lt;img src=\"https://cf.geekdo-images.com/oaD1ZQ3...</td>\n",
       "      <td>&lt;a href=\"https://boardgamegeek.com/boardgame/2...</td>\n",
       "      <td>8.307619</td>\n",
       "      <td>7.835849</td>\n",
       "      <td>8.192222</td>\n",
       "      <td>1</td>\n",
       "      <td>2021</td>\n",
       "    </tr>\n",
       "    <tr>\n",
       "      <th>1</th>\n",
       "      <td>&lt;img src=\"https://cf.geekdo-images.com/A7IOpPt...</td>\n",
       "      <td>&lt;a href=\"https://boardgamegeek.com/boardgame/2...</td>\n",
       "      <td>7.357140</td>\n",
       "      <td>7.989673</td>\n",
       "      <td>7.405875</td>\n",
       "      <td>2</td>\n",
       "      <td>2017</td>\n",
       "    </tr>\n",
       "    <tr>\n",
       "      <th>2</th>\n",
       "      <td>&lt;img src=\"https://cf.geekdo-images.com/KTKXgGG...</td>\n",
       "      <td>&lt;a href=\"https://boardgamegeek.com/boardgame/3...</td>\n",
       "      <td>10.000000</td>\n",
       "      <td>5.828681</td>\n",
       "      <td>7.914341</td>\n",
       "      <td>3</td>\n",
       "      <td>2021</td>\n",
       "    </tr>\n",
       "    <tr>\n",
       "      <th>3</th>\n",
       "      <td>&lt;img src=\"https://cf.geekdo-images.com/6GqH14T...</td>\n",
       "      <td>&lt;a href=\"https://boardgamegeek.com/boardgame/3...</td>\n",
       "      <td>7.857066</td>\n",
       "      <td>7.761272</td>\n",
       "      <td>7.848600</td>\n",
       "      <td>4</td>\n",
       "      <td>2020</td>\n",
       "    </tr>\n",
       "    <tr>\n",
       "      <th>4</th>\n",
       "      <td>&lt;img src=\"https://cf.geekdo-images.com/Zdt8l4o...</td>\n",
       "      <td>&lt;a href=\"https://boardgamegeek.com/boardgame/2...</td>\n",
       "      <td>8.323567</td>\n",
       "      <td>8.235052</td>\n",
       "      <td>8.293045</td>\n",
       "      <td>5</td>\n",
       "      <td>2021</td>\n",
       "    </tr>\n",
       "  </tbody>\n",
       "</table>\n",
       "</div>"
      ],
      "text/plain": [
       "                                           thumbnail  \\\n",
       "0  <img src=\"https://cf.geekdo-images.com/oaD1ZQ3...   \n",
       "1  <img src=\"https://cf.geekdo-images.com/A7IOpPt...   \n",
       "2  <img src=\"https://cf.geekdo-images.com/KTKXgGG...   \n",
       "3  <img src=\"https://cf.geekdo-images.com/6GqH14T...   \n",
       "4  <img src=\"https://cf.geekdo-images.com/Zdt8l4o...   \n",
       "\n",
       "                                                name  rating_mean_review  \\\n",
       "0  <a href=\"https://boardgamegeek.com/boardgame/2...            8.307619   \n",
       "1  <a href=\"https://boardgamegeek.com/boardgame/2...            7.357140   \n",
       "2  <a href=\"https://boardgamegeek.com/boardgame/3...           10.000000   \n",
       "3  <a href=\"https://boardgamegeek.com/boardgame/3...            7.857066   \n",
       "4  <a href=\"https://boardgamegeek.com/boardgame/2...            8.323567   \n",
       "\n",
       "   rating_mean_comments  fixed_rating  rank yearpublished  \n",
       "0              7.835849      8.192222     1          2021  \n",
       "1              7.989673      7.405875     2          2017  \n",
       "2              5.828681      7.914341     3          2021  \n",
       "3              7.761272      7.848600     4          2020  \n",
       "4              8.235052      8.293045     5          2021  "
      ]
     },
     "execution_count": 58,
     "metadata": {},
     "output_type": "execute_result"
    }
   ],
   "source": [
    "grouped.head()"
   ]
  },
  {
   "cell_type": "code",
   "execution_count": 59,
   "metadata": {},
   "outputs": [],
   "source": [
    "def display_topn(by, n=5, ascending=True):\n",
    "    temp_df = grouped.sort_values(by, ascending=ascending).head(n)\n",
    "    temp_df.index=list(range(1, n+1))\n",
    "    return HTML(temp_df.to_html(escape=False, classes='table table-striped'))"
   ]
  },
  {
   "cell_type": "code",
   "execution_count": 60,
   "metadata": {},
   "outputs": [
    {
     "data": {
      "text/html": [
       "<table border=\"1\" class=\"dataframe table table-striped\">\n",
       "  <thead>\n",
       "    <tr style=\"text-align: right;\">\n",
       "      <th></th>\n",
       "      <th>thumbnail</th>\n",
       "      <th>name</th>\n",
       "      <th>rating_mean_review</th>\n",
       "      <th>rating_mean_comments</th>\n",
       "      <th>fixed_rating</th>\n",
       "      <th>rank</th>\n",
       "      <th>yearpublished</th>\n",
       "    </tr>\n",
       "  </thead>\n",
       "  <tbody>\n",
       "    <tr>\n",
       "      <th>1</th>\n",
       "      <td><img src=\"https://cf.geekdo-images.com/oaD1ZQ3yGj6lacLdtqgdnQ__thumb/img/1mCz7HPEFMeqaqJHsDZwEUc9ftw=/fit-in/200x150/filters:strip_icc()/pic5558118.png\" width=\"124\" /></td>\n",
       "      <td><a href=\"https://boardgamegeek.com/boardgame/285192\">Destinies</a></td>\n",
       "      <td>8.307619</td>\n",
       "      <td>7.835849</td>\n",
       "      <td>8.192222</td>\n",
       "      <td>1</td>\n",
       "      <td>2021</td>\n",
       "    </tr>\n",
       "    <tr>\n",
       "      <th>2</th>\n",
       "      <td><img src=\"https://cf.geekdo-images.com/A7IOpPt-lHrMYsbRmxXWdQ__thumb/img/XoD3fXgApfY7-dfYyFeE6FVkbfY=/fit-in/200x150/filters:strip_icc()/pic6177962.jpg\" width=\"124\" /></td>\n",
       "      <td><a href=\"https://boardgamegeek.com/boardgame/223040\">Fantasy Realms</a></td>\n",
       "      <td>7.357140</td>\n",
       "      <td>7.989673</td>\n",
       "      <td>7.405875</td>\n",
       "      <td>2</td>\n",
       "      <td>2017</td>\n",
       "    </tr>\n",
       "    <tr>\n",
       "      <th>3</th>\n",
       "      <td><img src=\"https://cf.geekdo-images.com/KTKXgGGyL4KkSQRphCWROw__thumb/img/kfO6wC4uNWeLXlFQvjDYcL-0DrI=/fit-in/200x150/filters:strip_icc()/pic6181696.png\" width=\"124\" /></td>\n",
       "      <td><a href=\"https://boardgamegeek.com/boardgame/339031\">The Goonies: Never Say Die</a></td>\n",
       "      <td>10.000000</td>\n",
       "      <td>5.828681</td>\n",
       "      <td>7.914341</td>\n",
       "      <td>3</td>\n",
       "      <td>2021</td>\n",
       "    </tr>\n",
       "    <tr>\n",
       "      <th>4</th>\n",
       "      <td><img src=\"https://cf.geekdo-images.com/6GqH14TJJhza86BX5HCLEQ__thumb/img/J8SVmGOJXZGxNjkT3xYNQU7Haxg=/fit-in/200x150/filters:strip_icc()/pic5674958.jpg\" width=\"124\" /></td>\n",
       "      <td><a href=\"https://boardgamegeek.com/boardgame/312484\">Lost Ruins of Arnak</a></td>\n",
       "      <td>7.857066</td>\n",
       "      <td>7.761272</td>\n",
       "      <td>7.848600</td>\n",
       "      <td>4</td>\n",
       "      <td>2020</td>\n",
       "    </tr>\n",
       "    <tr>\n",
       "      <th>5</th>\n",
       "      <td><img src=\"https://cf.geekdo-images.com/Zdt8l4oTBpFICsMyNof7Jg__thumb/img/71w4Tt3xOnuDEDTCG8ni63QUhVE=/fit-in/200x150/filters:strip_icc()/pic5975244.png\" width=\"124\" /></td>\n",
       "      <td><a href=\"https://boardgamegeek.com/boardgame/255984\">Sleeping Gods</a></td>\n",
       "      <td>8.323567</td>\n",
       "      <td>8.235052</td>\n",
       "      <td>8.293045</td>\n",
       "      <td>5</td>\n",
       "      <td>2021</td>\n",
       "    </tr>\n",
       "  </tbody>\n",
       "</table>"
      ],
      "text/plain": [
       "<IPython.core.display.HTML object>"
      ]
     },
     "execution_count": 60,
     "metadata": {},
     "output_type": "execute_result"
    }
   ],
   "source": [
    "# TOP N RANK\n",
    "display_topn(by='rank', n=TOP_N)"
   ]
  },
  {
   "cell_type": "code",
   "execution_count": 61,
   "metadata": {},
   "outputs": [
    {
     "data": {
      "text/html": [
       "<table border=\"1\" class=\"dataframe table table-striped\">\n",
       "  <thead>\n",
       "    <tr style=\"text-align: right;\">\n",
       "      <th></th>\n",
       "      <th>thumbnail</th>\n",
       "      <th>name</th>\n",
       "      <th>rating_mean_review</th>\n",
       "      <th>rating_mean_comments</th>\n",
       "      <th>fixed_rating</th>\n",
       "      <th>rank</th>\n",
       "      <th>yearpublished</th>\n",
       "    </tr>\n",
       "  </thead>\n",
       "  <tbody>\n",
       "    <tr>\n",
       "      <th>1</th>\n",
       "      <td><img src=\"https://cf.geekdo-images.com/KTKXgGGyL4KkSQRphCWROw__thumb/img/kfO6wC4uNWeLXlFQvjDYcL-0DrI=/fit-in/200x150/filters:strip_icc()/pic6181696.png\" width=\"124\" /></td>\n",
       "      <td><a href=\"https://boardgamegeek.com/boardgame/339031\">The Goonies: Never Say Die</a></td>\n",
       "      <td>10.000000</td>\n",
       "      <td>5.828681</td>\n",
       "      <td>7.914341</td>\n",
       "      <td>3</td>\n",
       "      <td>2021</td>\n",
       "    </tr>\n",
       "    <tr>\n",
       "      <th>2</th>\n",
       "      <td><img src=\"https://cf.geekdo-images.com/nhWSmNJSTBAye6bxLa9x-Q__thumb/img/B4r1iyRl2Z2CcMrtBRQOKYwwngw=/fit-in/200x150/filters:strip_icc()/pic4779069.jpg\" width=\"124\" /></td>\n",
       "      <td><a href=\"https://boardgamegeek.com/boardgame/268012\">Chronicles of Drunagor: Age of Darkness</a></td>\n",
       "      <td>9.309524</td>\n",
       "      <td>8.366658</td>\n",
       "      <td>9.203285</td>\n",
       "      <td>34</td>\n",
       "      <td>2021</td>\n",
       "    </tr>\n",
       "    <tr>\n",
       "      <th>3</th>\n",
       "      <td><img src=\"https://cf.geekdo-images.com/Oh3kHw6lweg6ru71Q16h2Q__thumb/img/e9XZdQe1ZcPpaq4Gy31OoWBB_V0=/fit-in/200x150/filters:strip_icc()/pic5235277.jpg\" width=\"124\" /></td>\n",
       "      <td><a href=\"https://boardgamegeek.com/boardgame/246900\">Eclipse: Second Dawn for the Galaxy</a></td>\n",
       "      <td>8.742227</td>\n",
       "      <td>8.271768</td>\n",
       "      <td>8.668746</td>\n",
       "      <td>46</td>\n",
       "      <td>2020</td>\n",
       "    </tr>\n",
       "    <tr>\n",
       "      <th>4</th>\n",
       "      <td><img src=\"https://cf.geekdo-images.com/x3zxjr-Vw5iU4yDPg70Jgw__thumb/img/o18rjEemoWaVru9Y2TyPwuIaRfE=/fit-in/200x150/filters:strip_icc()/pic3490053.jpg\" width=\"124\" /></td>\n",
       "      <td><a href=\"https://boardgamegeek.com/boardgame/224517\">Brass: Birmingham</a></td>\n",
       "      <td>8.682599</td>\n",
       "      <td>8.128133</td>\n",
       "      <td>8.632273</td>\n",
       "      <td>24</td>\n",
       "      <td>2018</td>\n",
       "    </tr>\n",
       "    <tr>\n",
       "      <th>5</th>\n",
       "      <td><img src=\"https://cf.geekdo-images.com/hRuD1y5BxdNpssgBqamS0A__thumb/img/fpUu1t2YLjJ4EvEzBGTKtZasNv4=/fit-in/200x150/filters:strip_icc()/pic4595897.jpg\" width=\"124\" /></td>\n",
       "      <td><a href=\"https://boardgamegeek.com/boardgame/169427\">Middara: Unintentional Malum – Act 1</a></td>\n",
       "      <td>8.612134</td>\n",
       "      <td>8.244618</td>\n",
       "      <td>8.523040</td>\n",
       "      <td>44</td>\n",
       "      <td>2019</td>\n",
       "    </tr>\n",
       "  </tbody>\n",
       "</table>"
      ],
      "text/plain": [
       "<IPython.core.display.HTML object>"
      ]
     },
     "execution_count": 61,
     "metadata": {},
     "output_type": "execute_result"
    }
   ],
   "source": [
    "# TOP N REVIEW RANK\n",
    "display_topn(by='rating_mean_review', n=TOP_N, ascending=False)"
   ]
  },
  {
   "cell_type": "code",
   "execution_count": 62,
   "metadata": {},
   "outputs": [
    {
     "data": {
      "text/html": [
       "<table border=\"1\" class=\"dataframe table table-striped\">\n",
       "  <thead>\n",
       "    <tr style=\"text-align: right;\">\n",
       "      <th></th>\n",
       "      <th>thumbnail</th>\n",
       "      <th>name</th>\n",
       "      <th>rating_mean_review</th>\n",
       "      <th>rating_mean_comments</th>\n",
       "      <th>fixed_rating</th>\n",
       "      <th>rank</th>\n",
       "      <th>yearpublished</th>\n",
       "    </tr>\n",
       "  </thead>\n",
       "  <tbody>\n",
       "    <tr>\n",
       "      <th>1</th>\n",
       "      <td><img src=\"https://cf.geekdo-images.com/nhWSmNJSTBAye6bxLa9x-Q__thumb/img/B4r1iyRl2Z2CcMrtBRQOKYwwngw=/fit-in/200x150/filters:strip_icc()/pic4779069.jpg\" width=\"124\" /></td>\n",
       "      <td><a href=\"https://boardgamegeek.com/boardgame/268012\">Chronicles of Drunagor: Age of Darkness</a></td>\n",
       "      <td>9.309524</td>\n",
       "      <td>8.366658</td>\n",
       "      <td>9.203285</td>\n",
       "      <td>34</td>\n",
       "      <td>2021</td>\n",
       "    </tr>\n",
       "    <tr>\n",
       "      <th>2</th>\n",
       "      <td><img src=\"https://cf.geekdo-images.com/z4QtTBaabg2OCJfGNQ1x6g__thumb/img/pCv-Ojnr07dqZRdst7KtZDiOkGU=/fit-in/200x150/filters:strip_icc()/pic6177915.png\" width=\"124\" /></td>\n",
       "      <td><a href=\"https://boardgamegeek.com/boardgame/338841\">Lost Ruins of Arnak: The Search for Professor Kutil</a></td>\n",
       "      <td>8.500000</td>\n",
       "      <td>10.132860</td>\n",
       "      <td>9.044287</td>\n",
       "      <td>16</td>\n",
       "      <td>2021</td>\n",
       "    </tr>\n",
       "    <tr>\n",
       "      <th>3</th>\n",
       "      <td><img src=\"https://cf.geekdo-images.com/Oh3kHw6lweg6ru71Q16h2Q__thumb/img/e9XZdQe1ZcPpaq4Gy31OoWBB_V0=/fit-in/200x150/filters:strip_icc()/pic5235277.jpg\" width=\"124\" /></td>\n",
       "      <td><a href=\"https://boardgamegeek.com/boardgame/246900\">Eclipse: Second Dawn for the Galaxy</a></td>\n",
       "      <td>8.742227</td>\n",
       "      <td>8.271768</td>\n",
       "      <td>8.668746</td>\n",
       "      <td>46</td>\n",
       "      <td>2020</td>\n",
       "    </tr>\n",
       "    <tr>\n",
       "      <th>4</th>\n",
       "      <td><img src=\"https://cf.geekdo-images.com/x3zxjr-Vw5iU4yDPg70Jgw__thumb/img/o18rjEemoWaVru9Y2TyPwuIaRfE=/fit-in/200x150/filters:strip_icc()/pic3490053.jpg\" width=\"124\" /></td>\n",
       "      <td><a href=\"https://boardgamegeek.com/boardgame/224517\">Brass: Birmingham</a></td>\n",
       "      <td>8.682599</td>\n",
       "      <td>8.128133</td>\n",
       "      <td>8.632273</td>\n",
       "      <td>24</td>\n",
       "      <td>2018</td>\n",
       "    </tr>\n",
       "    <tr>\n",
       "      <th>5</th>\n",
       "      <td><img src=\"https://cf.geekdo-images.com/_HhIdavYW-hid20Iq3hhmg__thumb/img/OMkN_E5eyWrkID_cHCnQEbIixGM=/fit-in/200x150/filters:strip_icc()/pic5055631.jpg\" width=\"124\" /></td>\n",
       "      <td><a href=\"https://boardgamegeek.com/boardgame/291457\">Gloomhaven: Jaws of the Lion</a></td>\n",
       "      <td>8.602076</td>\n",
       "      <td>8.055665</td>\n",
       "      <td>8.548364</td>\n",
       "      <td>23</td>\n",
       "      <td>2020</td>\n",
       "    </tr>\n",
       "  </tbody>\n",
       "</table>"
      ],
      "text/plain": [
       "<IPython.core.display.HTML object>"
      ]
     },
     "execution_count": 62,
     "metadata": {},
     "output_type": "execute_result"
    }
   ],
   "source": [
    "# TOP N FIXED RANK\n",
    "display_topn(by='fixed_rating', n=TOP_N, ascending=False)"
   ]
  },
  {
   "cell_type": "code",
   "execution_count": 63,
   "metadata": {},
   "outputs": [],
   "source": [
    "# model.save('saved_model\\my_model')"
   ]
  },
  {
   "cell_type": "code",
   "execution_count": 64,
   "metadata": {},
   "outputs": [],
   "source": [
    "# saved_model = tf.keras.models.load_model('saved_model\\my_model')"
   ]
  },
  {
   "cell_type": "code",
   "execution_count": 65,
   "metadata": {},
   "outputs": [],
   "source": [
    "# some examples on \"long\" comments vs short comments"
   ]
  },
  {
   "cell_type": "code",
   "execution_count": 66,
   "metadata": {},
   "outputs": [],
   "source": [
    "not_rated_comments['comment_len'] = not_rated_comments['value'].str.len()\n",
    "some_long_comments = not_rated_comments.query(\"comment_len>100 and comment_len<300\").sample(frac=1).head(25).sort_values('rating')"
   ]
  },
  {
   "cell_type": "code",
   "execution_count": 67,
   "metadata": {},
   "outputs": [
    {
     "name": "stdout",
     "output_type": "stream",
     "text": [
      "\"Interesting management game with factions having different abilities and specificities.  Too early to rate the game, though.  Date of comment: November 2016\"\n",
      "score: 5.39\n",
      "\n",
      "\"Like others, giving it a 10 when the game does not even exist yet is just hype. Objectively speaking the game is still not playable or unplayable. So 1 makes more sense to me. Peace!\"\n",
      "score: 5.49\n",
      "\n",
      "\"90–115 Min Playing Time Weight: 3.39 / 5   Area Majority / Influence Force Commitment Grid Movement Hexagon Grid King of the Hill   HEAVY STRATEGIC GAME 4 (5) players  AUS\"\n",
      "score: 5.67\n",
      "\n",
      "\"Absurdly high production value. Game is surprisingly streamlined for how much is going on. Has a run away leader problem. Game is very punishing to new players because of how efficiency oriented it is.\"\n",
      "score: 5.86\n",
      "\n",
      "\"(05/11/2017) - Backed on Kickstarter!  (08/08/2018) - Campaign fulfillment complete!  (08/31/2020) - SOLD\"\n",
      "score: 6.00\n",
      "\n",
      "\"Sold. I played someone else's copy and decided that this was a very good game, but it probably wouldn't see much play in my collection. \"\n",
      "score: 6.11\n",
      "\n",
      "\"Ok, this is not a fair rating. But this is just a board game loot-em-up disguised in tons of beutiful cards.\"\n",
      "score: 6.30\n",
      "\n",
      "\"With Ghillie, Tink, and Nugget gearlocs. Premium health chips as well. Campaign expansions and just about everything else. Thinking about keeping just the Undertow box, character, and premium health chips and selling the rest.\"\n",
      "score: 6.34\n",
      "\n",
      "\"Until they fix the duration somehow, 150€ or so is too much for a game that will be played once a year.\"\n",
      "score: 7.29\n",
      "\n",
      "\"Entscheiden Sie über das Schicksal des Waldes, während die Waldfraktionen für gegensätzliche Ziele kämpfen.  1-6 Spieler / Experten Spiel\"\n",
      "score: 7.30\n",
      "\n",
      "\"Essen 2016. I can't wrap my head around it after just one play. Feels like racing, deckbuilding, worker placement. Will definitely play again!\"\n",
      "score: 7.45\n",
      "\n",
      "\"Type Thematic   Category Adventure Horror Miniatures Science Fiction  Mechanisms Campaign / Battle Card Driven Cooperative Game Dice Rolling Modular Board Player Elimination Team-Based Game Variable Player Powers\"\n",
      "score: 8.01\n",
      "\n",
      "\"Including ALL MeepleSource: Bonus / Promo / Encounter Card Packs Metal Coins + Resource Upgrades  Power Dials + Tokens Upgrades\"\n",
      "score: 8.04\n",
      "\n",
      "\"You are making life possible on mars, and there is much to be done. Well balanced and nice artwork. You keep track of your prodution levels with tiny cubes on a slippery paper, this is the only negative part of the game.\"\n",
      "score: 8.11\n",
      "\n",
      "\"Playing Time: 1.5-2 hours Best with 2-3 players (4 max) Pros: Cooperation essential (combo powers), spirits feel and play different (which means no alpha gamer problem), replay value Cons: for heavier thinkers\"\n",
      "score: 8.76\n",
      "\n",
      "\"2-5P (best 4) - 100mn  with Germany & Brittania expansion  Card drafting/deckbuilding/point to point movement/hand management  FR\"\n",
      "score: 8.90\n",
      "\n",
      "\"-Collectors edition with every expansion -Invaders power dials and metal coins -Encounter fire tokens -Modular Map -3D Printed money holder -BGG Faction Bags\"\n",
      "score: 9.01\n",
      "\n",
      "\"Also: Scythe: Promo Pack #4 – Factory Cards 13-18 (2016) Scythe: Promo Pack #3 – Objective Cards 24-27 (2016) Scythe: Promo Pack #1 – Encounter Cards 29-32 (2016) Scythe: Promo Pack #2 – Encounter Cards 33-36 (2016) Scythe: Invaders from Afar (2016), Scythe: The Wind Gambit (2017)\"\n",
      "score: 9.12\n",
      "\n",
      "\"Backed November 2nd 2017 - Received July 30th 2018  -- Sold: 7/1/20 - Still really want to try this game someday. But things have changed and after two years it's still in shrink and there's really no one to play something like this with right now.\"\n",
      "score: 9.23\n",
      "\n",
      "\"Quick, simple rules and a feeling you are winning with a massive score (even when you aren't!). Very very good.\"\n",
      "score: 9.24\n",
      "\n",
      "\"2015 Nederlandse Spellenprijs Best Expert Game Winner 2015 Nederlandse Spellenprijs Best Expert Game Nominee 2014 Kennerspiel des Jahres Nominee 2014 Jogo do Ano Nominee 2014 International Gamers Award - General Strategy: Multi-player Nominee 2013 Meeples' Choice Winner 2013 Meeples' Choice Nominee\"\n",
      "score: 9.25\n",
      "\n",
      "\"Pro: - Campaign/Story Driven (15+ scenarios) - Cooperative or Solo - Card based + Artwork is great - Miniatures - Deck building/customization - Modular, Exploration sorta like 7th Continent  Want to play priority:  - 5 out of 5\"\n",
      "score: 9.31\n",
      "\n",
      "\"May 2021: I love this game!!  2020 Christmas gift from my brother, Seth. Super excited to learn and play this game!\"\n",
      "score: 9.70\n",
      "\n",
      "\"Expansions... + The New Economy (2018)  Promos... + The Game Designers (2016) + Inventors (2017) + Spies (2017)\"\n",
      "score: 10.75\n",
      "\n",
      "\"English 2nd edition - Standard edition, english, for trade, after I got my German copy...  update: English was delivery 25th of March 2020  update: German was delivered 15th of January 2021  Own First Edition (including all expansions...) in German. Rating: 9.5\"\n",
      "score: 11.06\n",
      "\n"
     ]
    }
   ],
   "source": [
    "some_long_comments.apply(lambda c: print(f\"\\\"{c['value']}\\\"\\nscore: {c['rating']:.2f}\\n\"), axis=1);"
   ]
  },
  {
   "cell_type": "code",
   "execution_count": null,
   "metadata": {},
   "outputs": [],
   "source": []
  }
 ],
 "metadata": {
  "kernelspec": {
   "display_name": "tensorflow2",
   "language": "python",
   "name": "tensorflow2"
  },
  "language_info": {
   "codemirror_mode": {
    "name": "ipython",
    "version": 3
   },
   "file_extension": ".py",
   "mimetype": "text/x-python",
   "name": "python",
   "nbconvert_exporter": "python",
   "pygments_lexer": "ipython3",
   "version": "3.8.8"
  }
 },
 "nbformat": 4,
 "nbformat_minor": 4
}
