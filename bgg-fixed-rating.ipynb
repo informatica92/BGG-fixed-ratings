{
 "cells": [
  {
   "cell_type": "code",
   "execution_count": 1,
   "metadata": {},
   "outputs": [],
   "source": [
    "# ## BGG API\n",
    "# https://www.boardgamegeek.com/xmlapi2/thing?id=161599&comments=1\n",
    "# https://www.boardgamegeek.com/xmlapi2/hot?type=boardgame\n",
    "# ## NLP WITH TF\n",
    "# https://www.tensorflow.org/hub/tutorials/tf2_text_classification"
   ]
  },
  {
   "cell_type": "code",
   "execution_count": 2,
   "metadata": {},
   "outputs": [
    {
     "name": "stdout",
     "output_type": "stream",
     "text": [
      "Version:      2.4.0\n",
      "Eager mode:   True\n",
      "Hub version:  0.12.0\n",
      "GPU:          available\n"
     ]
    }
   ],
   "source": [
    "import tensorflow as tf\n",
    "import tensorflow_hub as hub\n",
    "import tensorflow_datasets as tfds\n",
    "\n",
    "import xml.etree.ElementTree as Xet\n",
    "import matplotlib.pyplot as plt\n",
    "import pandas as pd\n",
    "import numpy as np\n",
    "import requests\n",
    "from IPython.display import Image, HTML\n",
    "\n",
    "from langdetect import detect\n",
    "import re\n",
    "\n",
    "print(\"Version:     \", tf.__version__)\n",
    "print(\"Eager mode:  \", tf.executing_eagerly())\n",
    "print(\"Hub version: \", hub.__version__)\n",
    "print(\"GPU:         \", \"available\" if tf.config.list_physical_devices('GPU') else \"NOT available\")"
   ]
  },
  {
   "cell_type": "code",
   "execution_count": 3,
   "metadata": {},
   "outputs": [],
   "source": [
    "# tf.debugging.set_log_device_placement(True)"
   ]
  },
  {
   "cell_type": "code",
   "execution_count": 4,
   "metadata": {},
   "outputs": [],
   "source": [
    "GOOD_REVIEW_THRESHOLD = 7"
   ]
  },
  {
   "cell_type": "code",
   "execution_count": 5,
   "metadata": {},
   "outputs": [],
   "source": [
    "VAL_FRACTION = 0.25"
   ]
  },
  {
   "cell_type": "code",
   "execution_count": 6,
   "metadata": {},
   "outputs": [],
   "source": [
    "MIN_COMMENT_LEN = 25"
   ]
  },
  {
   "cell_type": "code",
   "execution_count": 7,
   "metadata": {},
   "outputs": [],
   "source": [
    "TOP_N = 5"
   ]
  },
  {
   "cell_type": "markdown",
   "metadata": {},
   "source": [
    "## GET DATA"
   ]
  },
  {
   "cell_type": "code",
   "execution_count": 8,
   "metadata": {},
   "outputs": [],
   "source": [
    "def get_hot_data():\n",
    "    hot = requests.get(\"https://www.boardgamegeek.com/xmlapi2/hot?type=boardgame\").content.decode()\n",
    "  \n",
    "    # Parsing the XML file\n",
    "    xmlparse = Xet.fromstring(hot)\n",
    "\n",
    "    hot_array = []\n",
    "    for item in xmlparse:\n",
    "        dict_element = {\n",
    "            \"id\": item.get(\"id\"),\n",
    "            \"rank\": item.get(\"rank\")\n",
    "        }\n",
    "        for option in item:\n",
    "            dict_element[option.tag] = option.get(\"value\")\n",
    "        hot_array.append(dict_element)\n",
    "    return hot_array"
   ]
  },
  {
   "cell_type": "code",
   "execution_count": 9,
   "metadata": {},
   "outputs": [],
   "source": [
    "def get_comments(id_array, verbose=1):\n",
    "    max_comments_per_page = 1\n",
    "    array_ids = [h['id'] for h in id_array]\n",
    "    ids = ','.join(array_ids)\n",
    "    page_size = 100\n",
    "    page_number = 0\n",
    "    comments_array = []\n",
    "\n",
    "    while max_comments_per_page > 0 and len(array_ids) > 0:\n",
    "        page_number += 1\n",
    "        if verbose>0 and page_number%verbose==0:\n",
    "            print(f\"page number = {page_number}\", end=\" \")\n",
    "        comments = requests.get(f\"https://www.boardgamegeek.com/xmlapi2/thing?id={ids}&comments=1&pagesize={page_size}&page={page_number}\").content.decode()\n",
    "\n",
    "        # Parsing the XML file\n",
    "        xmlparse = Xet.fromstring(comments)\n",
    "        comments_per_item = []\n",
    "        for item in xmlparse:        \n",
    "            for option in item:\n",
    "                if option.tag == 'comments':\n",
    "                    comments_per_page = 0\n",
    "                    for comment in option:\n",
    "                        comments_per_page += 1\n",
    "                        dict_element = {\n",
    "                            \"id\": item.get(\"id\"),\n",
    "                            \"username\": comment.get(\"username\"),\n",
    "                            \"rating\": comment.get(\"rating\"),\n",
    "                            \"value\": comment.get(\"value\")\n",
    "                        }\n",
    "                        comments_array.append(dict_element)\n",
    "                    if comments_per_page==0:\n",
    "                        array_ids.remove(item.get(\"id\"))\n",
    "                        ids = ','.join(array_ids)\n",
    "                    comments_per_item.append(comments_per_page)\n",
    "        max_comments_per_page = max(comments_per_item)\n",
    "        if verbose>0 and page_number%verbose==0:\n",
    "            print(f\"(max: {max(comments_per_item)}, len: {len(comments_per_item)})\")\n",
    "    comments_df = pd.DataFrame(comments_array)\n",
    "    print(f\"comments_df shape: {comments_df.shape}\")\n",
    "    return comments_df"
   ]
  },
  {
   "cell_type": "code",
   "execution_count": 10,
   "metadata": {},
   "outputs": [
    {
     "data": {
      "text/plain": [
       "[{'id': '337627',\n",
       "  'rank': '1',\n",
       "  'thumbnail': 'https://cf.geekdo-images.com/hItZjdDTNuaCZ7fEztwcUQ__thumb/img/Ov6eWR87PZ2O1XYQtXMO6KvfzOg=/fit-in/200x150/filters:strip_icc()/pic6153324.jpg',\n",
       "  'name': 'Voidfall',\n",
       "  'yearpublished': '2022'},\n",
       " {'id': '312484',\n",
       "  'rank': '2',\n",
       "  'thumbnail': 'https://cf.geekdo-images.com/6GqH14TJJhza86BX5HCLEQ__thumb/img/J8SVmGOJXZGxNjkT3xYNQU7Haxg=/fit-in/200x150/filters:strip_icc()/pic5674958.jpg',\n",
       "  'name': 'Lost Ruins of Arnak',\n",
       "  'yearpublished': '2020'}]"
      ]
     },
     "execution_count": 10,
     "metadata": {},
     "output_type": "execute_result"
    }
   ],
   "source": [
    "hot_array = get_hot_data()\n",
    "hot_array[:2]"
   ]
  },
  {
   "cell_type": "code",
   "execution_count": 11,
   "metadata": {},
   "outputs": [
    {
     "name": "stderr",
     "output_type": "stream",
     "text": [
      "<ipython-input-11-3c366f14faf3>:2: FutureWarning: The pandas.datetime class is deprecated and will be removed from pandas in a future version. Import from datetime module instead.\n",
      "  comments_df = pd.read_csv(f\"comments_{pd.datetime.now().strftime('%Y%m%d')}.csv\")\n"
     ]
    },
    {
     "name": "stdout",
     "output_type": "stream",
     "text": [
      "missing csv file, getting new data using API...\n",
      "page number = 10 (max: 100, len: 26)\n",
      "page number = 20 (max: 100, len: 17)\n",
      "page number = 30 (max: 100, len: 12)\n",
      "page number = 40 (max: 100, len: 9)\n",
      "page number = 50 (max: 100, len: 5)\n",
      "page number = 60 (max: 100, len: 5)\n",
      "page number = 70 (max: 100, len: 4)\n",
      "page number = 80 (max: 100, len: 3)\n",
      "page number = 90 (max: 100, len: 2)\n",
      "page number = 100 (max: 0, len: 1)\n",
      "comments_df shape: (97053, 4)\n"
     ]
    },
    {
     "name": "stderr",
     "output_type": "stream",
     "text": [
      "<ipython-input-11-3c366f14faf3>:8: FutureWarning: The pandas.datetime class is deprecated and will be removed from pandas in a future version. Import from datetime module instead.\n",
      "  comments_df.to_csv(f\"comments_{pd.datetime.now().strftime('%Y%m%d')}.csv\", index=False)\n"
     ]
    },
    {
     "data": {
      "text/html": [
       "<div>\n",
       "<style scoped>\n",
       "    .dataframe tbody tr th:only-of-type {\n",
       "        vertical-align: middle;\n",
       "    }\n",
       "\n",
       "    .dataframe tbody tr th {\n",
       "        vertical-align: top;\n",
       "    }\n",
       "\n",
       "    .dataframe thead th {\n",
       "        text-align: right;\n",
       "    }\n",
       "</style>\n",
       "<table border=\"1\" class=\"dataframe\">\n",
       "  <thead>\n",
       "    <tr style=\"text-align: right;\">\n",
       "      <th></th>\n",
       "      <th>id</th>\n",
       "      <th>username</th>\n",
       "      <th>rating</th>\n",
       "      <th>value</th>\n",
       "    </tr>\n",
       "  </thead>\n",
       "  <tbody>\n",
       "    <tr>\n",
       "      <th>0</th>\n",
       "      <td>337627</td>\n",
       "      <td>BGFreakDag2PT</td>\n",
       "      <td>N/A</td>\n",
       "      <td>On Radar</td>\n",
       "    </tr>\n",
       "    <tr>\n",
       "      <th>1</th>\n",
       "      <td>337627</td>\n",
       "      <td>Bstalf21</td>\n",
       "      <td>N/A</td>\n",
       "      <td>KS fall?</td>\n",
       "    </tr>\n",
       "    <tr>\n",
       "      <th>2</th>\n",
       "      <td>337627</td>\n",
       "      <td>bucklen_uk</td>\n",
       "      <td>N/A</td>\n",
       "      <td>I don't rate my own games (doesn't seem approp...</td>\n",
       "    </tr>\n",
       "    <tr>\n",
       "      <th>3</th>\n",
       "      <td>337627</td>\n",
       "      <td>carlcorey</td>\n",
       "      <td>N/A</td>\n",
       "      <td>Turczi / Mindclash with O'Toole design, intere...</td>\n",
       "    </tr>\n",
       "    <tr>\n",
       "      <th>4</th>\n",
       "      <td>337627</td>\n",
       "      <td>Dahanil</td>\n",
       "      <td>N/A</td>\n",
       "      <td>David Turczi + Ian O'Toole - tasty combination!</td>\n",
       "    </tr>\n",
       "    <tr>\n",
       "      <th>...</th>\n",
       "      <td>...</td>\n",
       "      <td>...</td>\n",
       "      <td>...</td>\n",
       "      <td>...</td>\n",
       "    </tr>\n",
       "    <tr>\n",
       "      <th>97048</th>\n",
       "      <td>167791</td>\n",
       "      <td>z_zadar</td>\n",
       "      <td>9</td>\n",
       "      <td>Some games are so much fun. Others can be a li...</td>\n",
       "    </tr>\n",
       "    <tr>\n",
       "      <th>97049</th>\n",
       "      <td>167791</td>\n",
       "      <td>_Czid_</td>\n",
       "      <td>8</td>\n",
       "      <td>Have played with Elysium and Prelude expansion...</td>\n",
       "    </tr>\n",
       "    <tr>\n",
       "      <th>97050</th>\n",
       "      <td>167791</td>\n",
       "      <td>_Marty_</td>\n",
       "      <td>9.5</td>\n",
       "      <td>Fantastic game. With so many cards that can ch...</td>\n",
       "    </tr>\n",
       "    <tr>\n",
       "      <th>97051</th>\n",
       "      <td>167791</td>\n",
       "      <td>_mun_</td>\n",
       "      <td>10</td>\n",
       "      <td>Nagyon izgalmas játék, jó a mechanizmusa. A sz...</td>\n",
       "    </tr>\n",
       "    <tr>\n",
       "      <th>97052</th>\n",
       "      <td>167791</td>\n",
       "      <td>_The_Inquiry_</td>\n",
       "      <td>5</td>\n",
       "      <td>Prior to 2020: 2 plays  TM is one of those gam...</td>\n",
       "    </tr>\n",
       "  </tbody>\n",
       "</table>\n",
       "<p>97053 rows × 4 columns</p>\n",
       "</div>"
      ],
      "text/plain": [
       "           id       username rating  \\\n",
       "0      337627  BGFreakDag2PT    N/A   \n",
       "1      337627       Bstalf21    N/A   \n",
       "2      337627     bucklen_uk    N/A   \n",
       "3      337627      carlcorey    N/A   \n",
       "4      337627        Dahanil    N/A   \n",
       "...       ...            ...    ...   \n",
       "97048  167791        z_zadar      9   \n",
       "97049  167791         _Czid_      8   \n",
       "97050  167791        _Marty_    9.5   \n",
       "97051  167791          _mun_     10   \n",
       "97052  167791  _The_Inquiry_      5   \n",
       "\n",
       "                                                   value  \n",
       "0                                               On Radar  \n",
       "1                                               KS fall?  \n",
       "2      I don't rate my own games (doesn't seem approp...  \n",
       "3      Turczi / Mindclash with O'Toole design, intere...  \n",
       "4        David Turczi + Ian O'Toole - tasty combination!  \n",
       "...                                                  ...  \n",
       "97048  Some games are so much fun. Others can be a li...  \n",
       "97049  Have played with Elysium and Prelude expansion...  \n",
       "97050  Fantastic game. With so many cards that can ch...  \n",
       "97051  Nagyon izgalmas játék, jó a mechanizmusa. A sz...  \n",
       "97052  Prior to 2020: 2 plays  TM is one of those gam...  \n",
       "\n",
       "[97053 rows x 4 columns]"
      ]
     },
     "execution_count": 11,
     "metadata": {},
     "output_type": "execute_result"
    }
   ],
   "source": [
    "try:\n",
    "    comments_df = pd.read_csv(f\"comments_{pd.datetime.now().strftime('%Y%m%d')}.csv\")\n",
    "    comments_df['rating'] = comments_df.rating.fillna('N/A')\n",
    "    print(\"reading dataframe from csv file...\")\n",
    "except:\n",
    "    print(\"missing csv file, getting new data using API...\")\n",
    "    comments_df = get_comments(hot_array, verbose=10)\n",
    "    comments_df.to_csv(f\"comments_{pd.datetime.now().strftime('%Y%m%d')}.csv\", index=False)\n",
    "comments_df"
   ]
  },
  {
   "cell_type": "markdown",
   "metadata": {},
   "source": [
    "## DATA CLEANING"
   ]
  },
  {
   "cell_type": "code",
   "execution_count": 12,
   "metadata": {},
   "outputs": [],
   "source": [
    "# probably we should keep all the ratings (no matters the len) and remove only the simple comments under a certain len  "
   ]
  },
  {
   "cell_type": "code",
   "execution_count": 13,
   "metadata": {},
   "outputs": [],
   "source": [
    "comments_df[\"value\"] = comments_df[\"value\"].astype(str)"
   ]
  },
  {
   "cell_type": "code",
   "execution_count": 14,
   "metadata": {},
   "outputs": [],
   "source": [
    "# REMOVE URLs FROM COMMENTS"
   ]
  },
  {
   "cell_type": "code",
   "execution_count": 15,
   "metadata": {},
   "outputs": [],
   "source": [
    "comments_df['value'] = [re.sub(r\"http\\S+\", \"\", v) for v in comments_df.value.values]"
   ]
  },
  {
   "cell_type": "code",
   "execution_count": 16,
   "metadata": {},
   "outputs": [],
   "source": [
    "# REMOVE SHORT COMMENTS\n",
    "def remove_short_comments(df: pd.DataFrame, min_len=25, method='unrated'):\n",
    "    if method not in ['unrated', 'rated', 'both']:\n",
    "        raise AttributeError(f\"method {method} not allowed\")\n",
    "    df_local = df.copy()    \n",
    "    df_local['comment_len'] = [len(re.findall(\"[A-Za-z]\", v)) for v in df_local['value'].values]\n",
    "    if method == 'rated':\n",
    "        df_local = df_local.query('(comment_len>@min_len and rating != \"N/A\") or rating == \"N/A\"')\n",
    "    elif method == 'unrated':\n",
    "        df_local = df_local.query('(comment_len>@min_len and rating == \"N/A\") or rating != \"N/A\"')\n",
    "    else:\n",
    "        df_local = df_local.query('comment_len>@min_len')\n",
    "    print(f\"removed {len(df)-len(df_local)} for 'remove_short_comments' - min len: {min_len} - method: {method}\")\n",
    "    return df_local.reset_index(drop=True)"
   ]
  },
  {
   "cell_type": "code",
   "execution_count": 17,
   "metadata": {},
   "outputs": [
    {
     "name": "stdout",
     "output_type": "stream",
     "text": [
      "removed 16585 for 'remove_short_comments' - min len: 25 - method: unrated\n"
     ]
    }
   ],
   "source": [
    "comments_df = remove_short_comments(comments_df, MIN_COMMENT_LEN)"
   ]
  },
  {
   "cell_type": "code",
   "execution_count": 18,
   "metadata": {},
   "outputs": [],
   "source": [
    "# REMOVE NON ENGLISH COMMENTS"
   ]
  },
  {
   "cell_type": "code",
   "execution_count": 19,
   "metadata": {},
   "outputs": [],
   "source": [
    "# !conda install -c conda-forge langdetect"
   ]
  },
  {
   "cell_type": "code",
   "execution_count": 20,
   "metadata": {},
   "outputs": [],
   "source": [
    "# def add_comments_lang(df: pd.DataFrame):\n",
    "#     df_local = df.copy()\n",
    "#     df_local['lang'] = df['value'].apply(detect)\n",
    "#     return df_local.reset_index(drop=True)"
   ]
  },
  {
   "cell_type": "code",
   "execution_count": 21,
   "metadata": {},
   "outputs": [],
   "source": [
    "# comments_df = add_comments_lang(comments_df)"
   ]
  },
  {
   "cell_type": "code",
   "execution_count": 22,
   "metadata": {},
   "outputs": [],
   "source": [
    "# comments_df = comments_df.query('lang == \"en\"')"
   ]
  },
  {
   "cell_type": "markdown",
   "metadata": {},
   "source": [
    "## SPLIT RATED AND NON-RATED COMMENTS"
   ]
  },
  {
   "cell_type": "code",
   "execution_count": 23,
   "metadata": {},
   "outputs": [
    {
     "data": {
      "text/plain": [
       "10         15088\n",
       "9          14957\n",
       "8          13317\n",
       "7           7371\n",
       "N/A         6711\n",
       "           ...  \n",
       "6.08667        1\n",
       "9.013          1\n",
       "5.54           1\n",
       "7.73           1\n",
       "7.68           1\n",
       "Name: rating, Length: 545, dtype: int64"
      ]
     },
     "execution_count": 23,
     "metadata": {},
     "output_type": "execute_result"
    }
   ],
   "source": [
    "# count number of comments per rating (N/A included)\n",
    "comments_df.rating.value_counts()"
   ]
  },
  {
   "cell_type": "code",
   "execution_count": 24,
   "metadata": {},
   "outputs": [
    {
     "data": {
      "text/plain": [
       "(73757, 5)"
      ]
     },
     "execution_count": 24,
     "metadata": {},
     "output_type": "execute_result"
    }
   ],
   "source": [
    "# get rated comments only\n",
    "rated_comments = comments_df.query('rating != \"N/A\"')\n",
    "rated_comments.shape"
   ]
  },
  {
   "cell_type": "code",
   "execution_count": 25,
   "metadata": {},
   "outputs": [
    {
     "data": {
      "text/plain": [
       "(6711, 5)"
      ]
     },
     "execution_count": 25,
     "metadata": {},
     "output_type": "execute_result"
    }
   ],
   "source": [
    "# get non rated comments only\n",
    "not_rated_comments = comments_df.query('rating == \"N/A\"').reset_index(drop=True)\n",
    "not_rated_comments.shape"
   ]
  },
  {
   "cell_type": "markdown",
   "metadata": {},
   "source": [
    "## CREATE TRAINING AND VALIDATION DATA"
   ]
  },
  {
   "cell_type": "code",
   "execution_count": 26,
   "metadata": {},
   "outputs": [],
   "source": [
    "# use rated comments (reviews) to train the model"
   ]
  },
  {
   "cell_type": "code",
   "execution_count": 27,
   "metadata": {},
   "outputs": [],
   "source": [
    "rated_comments = rated_comments.sample(frac=1)"
   ]
  },
  {
   "cell_type": "code",
   "execution_count": 28,
   "metadata": {},
   "outputs": [],
   "source": [
    "# create training X and y\n",
    "train_examples = list(rated_comments.value)\n",
    "train_labels = list((rated_comments.rating.astype(float)>=GOOD_REVIEW_THRESHOLD).astype(int))"
   ]
  },
  {
   "cell_type": "code",
   "execution_count": 29,
   "metadata": {},
   "outputs": [
    {
     "name": "stdout",
     "output_type": "stream",
     "text": [
      "example of positive rating:\n"
     ]
    },
    {
     "data": {
      "text/plain": [
       "\"I hoped for something much better, but still really enjoyed it. It didn't live up to the hype, but it's still a solid 8. Might go up once I play with the other ingredient sets.  After 2 more plays, I get the feeling this game is something special. It is extremely exciting and funny at the same time and even though it is very luck-dependent, it does make you think about what you want to have in your bag in order to trigger the best combos of chip powers.  A joy to play - Wolfgang Warsch is a really special designer. If only the game looked nice!  After having played the game around 30 times, I must say that it can get repetitive. I am still enjoying it, but ultimately traded it away. Happy to play anytime, though, if somebody offered.\""
      ]
     },
     "execution_count": 29,
     "metadata": {},
     "output_type": "execute_result"
    }
   ],
   "source": [
    "print(\"example of positive rating:\")\n",
    "train_examples[train_labels.index(1)]"
   ]
  },
  {
   "cell_type": "code",
   "execution_count": 30,
   "metadata": {},
   "outputs": [
    {
     "name": "stdout",
     "output_type": "stream",
     "text": [
      "example of negative rating:\n"
     ]
    },
    {
     "data": {
      "text/plain": [
       "'Dice Tower Cruise 2019'"
      ]
     },
     "execution_count": 30,
     "metadata": {},
     "output_type": "execute_result"
    }
   ],
   "source": [
    "print(\"example of negative rating:\")\n",
    "train_examples[train_labels.index(0)]"
   ]
  },
  {
   "cell_type": "code",
   "execution_count": 31,
   "metadata": {},
   "outputs": [],
   "source": [
    "# create validation dataset from training\n",
    "validation_len = int(len(train_examples)*VAL_FRACTION)\n",
    "validation_len\n",
    "\n",
    "x_val = train_examples[:validation_len]\n",
    "x_train = train_examples[validation_len:]\n",
    "\n",
    "y_val = train_labels[:validation_len]\n",
    "y_train = train_labels[validation_len:]"
   ]
  },
  {
   "cell_type": "markdown",
   "metadata": {},
   "source": [
    "## COMPOSE MODEL"
   ]
  },
  {
   "cell_type": "code",
   "execution_count": 33,
   "metadata": {},
   "outputs": [
    {
     "data": {
      "text/plain": [
       "<tf.Tensor: shape=(2, 50), dtype=float32, numpy=\n",
       "array([[ 0.8085315 ,  0.32554334,  0.05144133,  0.66053295, -0.06461677,\n",
       "        -0.03124241,  0.32588527,  0.16024171, -0.6984755 ,  0.6324691 ,\n",
       "         0.18296473,  0.2533136 ,  0.09586978,  0.02829212, -0.30635536,\n",
       "        -0.22998805, -0.62423086,  0.1340422 ,  0.37968037, -0.91938823,\n",
       "         0.02340381, -0.3798724 ,  0.66412205,  0.22965968, -0.22774836,\n",
       "         0.34139758, -1.1359853 ,  0.16717103,  0.21839228, -0.36914703,\n",
       "        -0.35738912,  0.16831025,  0.5269951 , -0.3284274 , -0.2515757 ,\n",
       "         0.5047349 ,  0.17656086, -0.12429959,  0.45823887, -0.93502337,\n",
       "         0.02979618,  0.2649761 , -0.05524481,  0.19430737, -0.26541945,\n",
       "         0.27014336, -0.5552477 , -0.70117176,  0.16074596,  0.15508507],\n",
       "       [ 0.73094535,  0.09834008, -0.10046062,  0.8907449 , -0.04812922,\n",
       "         0.02977946,  0.19393201, -0.1920169 , -0.4437387 ,  0.32995826,\n",
       "         0.2695139 ,  0.48733565,  0.2047014 ,  0.14074436, -0.2101692 ,\n",
       "        -0.10595346, -0.48441327,  0.14422418,  0.56713706, -0.6164582 ,\n",
       "        -0.10489769, -0.23862705,  0.33158258,  0.25826162, -0.11678852,\n",
       "         0.24470617, -1.2002752 ,  0.01312566, -0.02189187, -0.46309063,\n",
       "        -0.7299173 ,  0.04981149,  0.59626985, -0.38161904, -0.43829772,\n",
       "         0.58677405,  0.08929533,  0.03175386,  0.11025633, -0.75300103,\n",
       "        -0.10975695,  0.20281997, -0.07342983,  0.16453364, -0.3699513 ,\n",
       "         0.2621513 , -0.52440935, -0.32312456,  0.03456973,  0.17003568]],\n",
       "      dtype=float32)>"
      ]
     },
     "execution_count": 33,
     "metadata": {},
     "output_type": "execute_result"
    }
   ],
   "source": [
    "model = \"https://tfhub.dev/google/nnlm-en-dim50/2\"\n",
    "hub_layer = hub.KerasLayer(model, input_shape=[], dtype=tf.string, trainable=True)\n",
    "hub_layer(train_examples[:2])"
   ]
  },
  {
   "cell_type": "code",
   "execution_count": 34,
   "metadata": {},
   "outputs": [
    {
     "name": "stdout",
     "output_type": "stream",
     "text": [
      "Model: \"sequential\"\n",
      "_________________________________________________________________\n",
      "Layer (type)                 Output Shape              Param #   \n",
      "=================================================================\n",
      "keras_layer (KerasLayer)     (None, 50)                48190600  \n",
      "_________________________________________________________________\n",
      "dense (Dense)                (None, 16)                816       \n",
      "_________________________________________________________________\n",
      "dense_1 (Dense)              (None, 1)                 17        \n",
      "=================================================================\n",
      "Total params: 48,191,433\n",
      "Trainable params: 48,191,433\n",
      "Non-trainable params: 0\n",
      "_________________________________________________________________\n"
     ]
    }
   ],
   "source": [
    "model = tf.keras.Sequential()\n",
    "model.add(hub_layer)\n",
    "model.add(tf.keras.layers.Dense(16, activation='relu'))\n",
    "model.add(tf.keras.layers.Dense(1))\n",
    "\n",
    "model.summary()"
   ]
  },
  {
   "cell_type": "code",
   "execution_count": 35,
   "metadata": {},
   "outputs": [],
   "source": [
    "model.compile(\n",
    "    optimizer='adam',\n",
    "    loss=tf.losses.BinaryCrossentropy(from_logits=True),\n",
    "    metrics=[tf.metrics.BinaryAccuracy(threshold=0.0, name='accuracy')]\n",
    ")"
   ]
  },
  {
   "cell_type": "markdown",
   "metadata": {},
   "source": [
    "## TRAINING MODEL "
   ]
  },
  {
   "cell_type": "code",
   "execution_count": 36,
   "metadata": {},
   "outputs": [
    {
     "name": "stdout",
     "output_type": "stream",
     "text": [
      "Epoch 1/40\n",
      "109/109 - 8s - loss: 0.4963 - accuracy: 0.8349 - val_loss: 0.3888 - val_accuracy: 0.8527\n",
      "Epoch 2/40\n",
      "109/109 - 5s - loss: 0.3339 - accuracy: 0.8638 - val_loss: 0.3183 - val_accuracy: 0.8754\n",
      "Epoch 3/40\n",
      "109/109 - 5s - loss: 0.2724 - accuracy: 0.8917 - val_loss: 0.3055 - val_accuracy: 0.8811\n",
      "Epoch 4/40\n",
      "109/109 - 5s - loss: 0.2356 - accuracy: 0.9075 - val_loss: 0.3072 - val_accuracy: 0.8785\n",
      "Epoch 5/40\n",
      "109/109 - 5s - loss: 0.2092 - accuracy: 0.9188 - val_loss: 0.3189 - val_accuracy: 0.8756\n",
      "Epoch 6/40\n",
      "109/109 - 5s - loss: 0.1893 - accuracy: 0.9271 - val_loss: 0.3350 - val_accuracy: 0.8736\n",
      "Epoch 7/40\n",
      "109/109 - 5s - loss: 0.1721 - accuracy: 0.9357 - val_loss: 0.3554 - val_accuracy: 0.8696\n",
      "Epoch 8/40\n",
      "109/109 - 5s - loss: 0.1586 - accuracy: 0.9415 - val_loss: 0.3751 - val_accuracy: 0.8656\n"
     ]
    }
   ],
   "source": [
    "history = model.fit(\n",
    "    x_train,\n",
    "    y_train,\n",
    "    epochs=40,\n",
    "    batch_size=512,\n",
    "    validation_data=(x_val, y_val),\n",
    "    verbose=2,\n",
    "    callbacks=[\n",
    "        tf.keras.callbacks.EarlyStopping(monitor='val_accuracy', patience=5, min_delta=0.001)\n",
    "    ]\n",
    ")"
   ]
  },
  {
   "cell_type": "code",
   "execution_count": 37,
   "metadata": {},
   "outputs": [
    {
     "data": {
      "text/plain": [
       "dict_keys(['loss', 'accuracy', 'val_loss', 'val_accuracy'])"
      ]
     },
     "execution_count": 37,
     "metadata": {},
     "output_type": "execute_result"
    }
   ],
   "source": [
    "history_dict = history.history\n",
    "history_dict.keys()"
   ]
  },
  {
   "cell_type": "code",
   "execution_count": 38,
   "metadata": {},
   "outputs": [],
   "source": [
    "acc = history_dict['accuracy']\n",
    "val_acc = history_dict['val_accuracy']\n",
    "loss = history_dict['loss']\n",
    "val_loss = history_dict['val_loss']"
   ]
  },
  {
   "cell_type": "code",
   "execution_count": 39,
   "metadata": {},
   "outputs": [],
   "source": [
    "epochs = range(1, len(acc) + 1) "
   ]
  },
  {
   "cell_type": "code",
   "execution_count": 40,
   "metadata": {},
   "outputs": [
    {
     "data": {
      "image/png": "[encoded data removed]",
      "text/plain": [
       "<Figure size 648x360 with 1 Axes>"
      ]
     },
     "metadata": {
      "needs_background": "light"
     },
     "output_type": "display_data"
    }
   ],
   "source": [
    "# \"bo\" is for \"blue dot\"\n",
    "plt.figure(figsize=(9, 5))\n",
    "plt.plot(epochs, loss, 'bo', label='Training loss')\n",
    "# b is for \"solid blue line\"\n",
    "plt.plot(epochs, val_loss, 'b', label='Validation loss')\n",
    "plt.title('Training and validation loss')\n",
    "plt.xlabel('Epochs')\n",
    "plt.ylabel('Loss')\n",
    "plt.grid(True)\n",
    "plt.legend()\n",
    "\n",
    "plt.show()"
   ]
  },
  {
   "cell_type": "code",
   "execution_count": 41,
   "metadata": {},
   "outputs": [
    {
     "data": {
      "image/png": "[encoded data removed]",
      "text/plain": [
       "<Figure size 648x360 with 1 Axes>"
      ]
     },
     "metadata": {
      "needs_background": "light"
     },
     "output_type": "display_data"
    }
   ],
   "source": [
    "plt.figure(figsize=(9, 5))\n",
    "plt.plot(epochs, acc, 'bo', label='Training acc')\n",
    "plt.plot(epochs, val_acc, 'b', label='Validation acc')\n",
    "plt.title('Training and validation accuracy')\n",
    "plt.xlabel('Epochs')\n",
    "plt.ylabel('Accuracy')\n",
    "plt.grid(True)\n",
    "plt.legend()\n",
    "\n",
    "plt.show()"
   ]
  },
  {
   "cell_type": "code",
   "execution_count": 42,
   "metadata": {},
   "outputs": [],
   "source": [
    "def print_my_examples(inputs, results, actual_values=None, limit=None):\n",
    "    if actual_values is None:\n",
    "        result_for_printing = [f'input:\\n\"{inputs[i]}\"\\nscore: {results[i][0]:.6f}' for i in range(len(inputs))]\n",
    "    else:\n",
    "        result_for_printing = [f'input:\\n\"{inputs[i]}\"\\nscore: {results[i][0]:.6f}\\nactual value:{actual_values[i]}' for i in range(len(inputs))]\n",
    "    if limit:\n",
    "        result_for_printing = result_for_printing[:limit]\n",
    "    print(*result_for_printing, sep='\\n\\n')"
   ]
  },
  {
   "cell_type": "code",
   "execution_count": 43,
   "metadata": {},
   "outputs": [
    {
     "name": "stdout",
     "output_type": "stream",
     "text": [
      "input:\n",
      "\"Con muchas posibilidades\"\n",
      "score: 0.991926\n",
      "actual value:1\n",
      "\n",
      "input:\n",
      "\"It's like playing spades, but everyone is your partner. Adjustable level of difficulty with missions, each round is maybe 15 minutes, perfect for people who aren't gamers, plays 3-5 players and they all work. Haven't played 2-player yet.\"\n",
      "score: 0.997586\n",
      "actual value:1\n",
      "\n",
      "input:\n",
      "\"One of the types of games with very simple rules, but a lot of strategy to employ. I got burnt out on it somewhat quickly, but my wife loves this game and would probably give it an 8 or 9, so I increased my rating to a 7.\"\n",
      "score: 0.999358\n",
      "actual value:1\n",
      "\n",
      "input:\n",
      "\"1-5, 4\"\n",
      "score: 0.602923\n",
      "actual value:0\n",
      "\n",
      "input:\n",
      "\"Takes a few games to really pick up whats happening, but even those first few are great.\"\n",
      "score: 0.982517\n",
      "actual value:1\n",
      "\n",
      "input:\n",
      "\"Nordstrand\"\n",
      "score: 0.990497\n",
      "actual value:1\n",
      "\n",
      "input:\n",
      "\"gameplay is very heavy for beginners, artwork is good, I adore the theme (mankind = disease) - perfect! nature vs. invasors - wood vs. plastic - ironically this game is \"made in china\" - perfect couple heavy meaty coop euro game\"\n",
      "score: 0.998656\n",
      "actual value:1\n",
      "\n",
      "input:\n",
      "\"Stefan\"\n",
      "score: 0.999605\n",
      "actual value:1\n",
      "\n",
      "input:\n",
      "\"It is very interesting to see how I really wanted to play but after a few games caused some contradictory feelings. The factors are different, but for me the balance of resources has become incorrect.  The fact is, the number of cards that make up a combination of cards that combine with special corporations give a large amount of a combination, while it depends on what kind of income you have. And income affects which cards you will accumulate and use, and you may not always get the right ones. Drafting partially solves the problem while increasing the duration of the game.\"\n",
      "score: 0.998998\n",
      "actual value:1\n",
      "\n",
      "input:\n",
      "\"its shorter than 45 min, it's pretty, it's noob friendly, it has some cutthroat take that to it,   I see how it's good for a collection, but I just am bad at it,   Getting whooped by Peter. Don't enjoy playing with impatient assertive people at all\"\n",
      "score: 0.997958\n",
      "actual value:1\n"
     ]
    }
   ],
   "source": [
    "inputs = x_train[:10]\n",
    "outputs = y_train[:10]\n",
    "results = tf.sigmoid(model.predict(tf.constant(inputs)))\n",
    "print_my_examples(inputs, results, outputs)"
   ]
  },
  {
   "cell_type": "code",
   "execution_count": 44,
   "metadata": {},
   "outputs": [],
   "source": [
    "## APPLY MODEL ON NON-RATED COMMENTS"
   ]
  },
  {
   "cell_type": "code",
   "execution_count": 45,
   "metadata": {},
   "outputs": [
    {
     "name": "stdout",
     "output_type": "stream",
     "text": [
      "input:\n",
      "\"spiel des jahres 2018 winner, BGG: #37 overall, #1 abstract, #1 family (March 2019), overlays: \"\n",
      "score: 0.998282\n",
      "\n",
      "input:\n",
      "\"I like this game more and more each time I play it. Solo game works well too, have yet to beat it though. Wish component quality was better\"\n",
      "score: 0.999302\n",
      "\n",
      "input:\n",
      "\"All in pledge level, plus a few minor add ons. Delivery in two waves (Dec 2019), and (May 2020).\"\n",
      "score: 0.998251\n",
      "\n",
      "input:\n",
      "\"This is a very good game... only not for my taste. Problem, as almost always in cooperatives, is too tactic play. It has strategy, but tactical warfare is so hypnotic that it is worst that I though learning to play it. I feel a bit lazy when thinking in playing it.  On the other hand, design is very good, powers can be combined between spirits for real cooperation. It is exciting and very tight, so you can enjoy it for many matches. Very replayable.\"\n",
      "score: 0.846905\n",
      "\n",
      "input:\n",
      "\"Only going to trade this for something *really good Sundrop Core + Sundrop stretch goals + Echoes of the past\"\n",
      "score: 0.967507\n",
      "\n",
      "input:\n",
      "\"its a fun game but shipped without a card\"\n",
      "score: 0.598866\n",
      "\n",
      "input:\n",
      "\"Deluxe KS edition. Metal cubes bought for it as well.\"\n",
      "score: 0.989574\n",
      "\n",
      "input:\n",
      "\"PnP version with 3D printed mechs\"\n",
      "score: 0.991775\n",
      "\n",
      "input:\n",
      "\"note: expect preorder July, 2021. Ordered the big box, city domes, rover mini, trade fleet + chairman minis, and metal cubes - everything except the sleeves.\"\n",
      "score: 0.996042\n",
      "\n",
      "input:\n",
      "\"One of the greatest of Alexander Pfister!\"\n",
      "score: 0.999875\n",
      "\n",
      "input:\n",
      "\"Trade would include both expansions and the player board updatea\"\n",
      "score: 0.966656\n",
      "\n",
      "input:\n",
      "\"hoa lovecraft thema viele erweiterungen. Aber soll richtig gut sein solo/2spieler\"\n",
      "score: 0.955938\n",
      "\n",
      "input:\n",
      "\":star::star::star::star::star:  Permanent game in my collection.\"\n",
      "score: 0.997326\n",
      "\n",
      "input:\n",
      "\"playing in 2 campaigns; one with the Buttkickers (4 player) and the other with the Honey Badger Brigade (2 players)\"\n",
      "score: 0.799048\n",
      "\n",
      "input:\n",
      "\"More of a collaborative IQ test. It requires a very specific strain of deduction that always one person in the group does not have. That's usually me.\"\n",
      "score: 0.089095\n",
      "\n",
      "input:\n",
      "\"Cover looks amazing!!!! But... David Turczi makes this an immediate pass for me. Too much “complexity for the sake of complexity”\"\n",
      "score: 0.546292\n",
      "\n",
      "input:\n",
      "\"currently at the Wellington annex.\"\n",
      "score: 0.876743\n",
      "\n",
      "input:\n",
      "\"Have Meeple Realty wooden organizer, and upgraded bits from Top Shelf Gamer.\"\n",
      "score: 0.999619\n",
      "\n",
      "input:\n",
      "\"2-4, 2p. 30-45m. 8+ 1.77 ---Categories Abstract Strategy Renaissance ---Mechanisms Card Drafting End Game Bonuses Pattern Building Set Collection Tile Placement Turn Order: Claim Action\"\n",
      "score: 0.996307\n",
      "\n",
      "input:\n",
      "\"Level up Eagan opening weekend 9/30/17\"\n",
      "score: 0.974027\n",
      "\n",
      "input:\n",
      "\"-Collectors edition with every expansion -Invaders power dials and metal coins -Encounter fire tokens -Modular Map -3D Printed money holder -BGG Faction Bags\"\n",
      "score: 0.989872\n",
      "\n",
      "input:\n",
      "\"Strategy Complexity: 3,36  Player: 1-5 Best: 4 \"\n",
      "score: 0.998127\n",
      "\n",
      "input:\n",
      "\"2018 Goblin Magnifico Nominee 2017 Meeples' Choice Nominee 2017 Golden Geek Board Game of the Year Nominee 2017 Golden Geek Best Strategy Board Game Nominee 2017 Golden Geek Best Solo Board Game Nominee\"\n",
      "score: 0.999945\n",
      "\n",
      "input:\n",
      "\"Kris muled this over from Cumbernauld for me on 19/11/2016\"\n",
      "score: 0.352969\n",
      "\n",
      "input:\n",
      "\"A fantastic game! Star Wars, Risk, and Starship Troopers had a love child... it would be this game!\"\n",
      "score: 0.999848\n"
     ]
    }
   ],
   "source": [
    "not_rated_comments = not_rated_comments.sample(frac=1)\n",
    "results = tf.sigmoid(model.predict(tf.constant(list(not_rated_comments.value.astype(str)))))\n",
    "print_my_examples(list(not_rated_comments.value), results, limit=25)"
   ]
  },
  {
   "cell_type": "markdown",
   "metadata": {},
   "source": [
    "## COMBINE RATED COMMENTS AND NOT-RATED COMMENTS WITH PREDICTED RATING"
   ]
  },
  {
   "cell_type": "code",
   "execution_count": 86,
   "metadata": {},
   "outputs": [
    {
     "name": "stdout",
     "output_type": "stream",
     "text": [
      "rated_comments_grouped: \n",
      "|     id |   rating_mean |   rating_count |\n",
      "|--------|---------------|----------------|\n",
      "| 162886 |          8.35 |           3491 |\n",
      "| 167355 |          8.42 |           1780 |\n",
      "| 167791 |          8.21 |           8206 |\n",
      "| 169427 |          8.60 |            214 |\n",
      "| 169786 |          8.10 |           7316 |\n"
     ]
    }
   ],
   "source": [
    "rated_comments['rating'] = rated_comments.rating.astype(float)\n",
    "rated_comments_grouped = rated_comments.groupby('id').agg({'rating': ['mean', 'count']})\n",
    "rated_comments_grouped.columns = list(rated_comments_grouped.columns.map('_'.join))\n",
    "rated_comments_grouped = rated_comments_grouped.reset_index()\n",
    "print(\"rated_comments_grouped: \")\n",
    "print(rated_comments_grouped.head().to_markdown(index=False, floatfmt='.2f', tablefmt='github'))"
   ]
  },
  {
   "cell_type": "code",
   "execution_count": 48,
   "metadata": {},
   "outputs": [],
   "source": [
    "not_rated_comments['rating'] = [round(float(r[0])*10, 1) for r in results]"
   ]
  },
  {
   "cell_type": "code",
   "execution_count": 87,
   "metadata": {},
   "outputs": [
    {
     "name": "stdout",
     "output_type": "stream",
     "text": [
      "not_rated_comments_grouped: \n",
      "|     id |   rating_mean |   rating_count |\n",
      "|--------|---------------|----------------|\n",
      "| 162886 |          8.66 |            309 |\n",
      "| 167355 |          8.86 |            212 |\n",
      "| 167791 |          8.87 |            437 |\n",
      "| 169427 |          8.87 |             72 |\n",
      "| 169786 |          8.70 |            588 |\n"
     ]
    }
   ],
   "source": [
    "not_rated_comments['rating'] = not_rated_comments.rating.astype(float)\n",
    "not_rated_comments_grouped = not_rated_comments.groupby('id').agg({'rating': ['mean', 'count']})\n",
    "not_rated_comments_grouped.columns = list(not_rated_comments_grouped.columns.map('_'.join))\n",
    "not_rated_comments_grouped = not_rated_comments_grouped.reset_index()\n",
    "print(\"not_rated_comments_grouped: \")\n",
    "print(not_rated_comments_grouped.head().to_markdown(index=False, floatfmt='.2f', tablefmt='github'))"
   ]
  },
  {
   "cell_type": "code",
   "execution_count": 66,
   "metadata": {},
   "outputs": [],
   "source": [
    "grouped = rated_comments_grouped.merge(not_rated_comments_grouped, on='id', suffixes=('_review', '_comments'), how='outer')\n",
    "grouped['id'] = grouped.id.astype(str)\n",
    "grouped = grouped.merge(pd.DataFrame(hot_array), on='id', how='right')\n",
    "grouped['rank'] = grouped['rank'].astype(int)\n",
    "grouped['url'] = grouped['id'].apply(lambda x: f\"https://boardgamegeek.com/boardgame/{x}\")\n",
    "grouped['fixed_rating'] = (grouped['rating_mean_review']*grouped['rating_count_review']+grouped['rating_mean_comments']*grouped['rating_count_comments']) /\\\n",
    "                            (grouped['rating_count_review']+grouped['rating_count_comments'])\n",
    "grouped['thumbnail'] = grouped['thumbnail'].apply(lambda x: f'<img src=\"{x}\" width=\"124\" />')\n",
    "grouped['name'] = grouped.apply(lambda x: f'<a href=\"{x[\"url\"]}\">{x[\"name\"]}</a>', axis=1)\n",
    "\n",
    "grouped = grouped[['thumbnail', 'name', 'rating_mean_review', 'rating_mean_comments', 'fixed_rating', 'rank', 'yearpublished']]"
   ]
  },
  {
   "cell_type": "code",
   "execution_count": 82,
   "metadata": {},
   "outputs": [
    {
     "data": {
      "text/html": [
       "<div>\n",
       "<style scoped>\n",
       "    .dataframe tbody tr th:only-of-type {\n",
       "        vertical-align: middle;\n",
       "    }\n",
       "\n",
       "    .dataframe tbody tr th {\n",
       "        vertical-align: top;\n",
       "    }\n",
       "\n",
       "    .dataframe thead th {\n",
       "        text-align: right;\n",
       "    }\n",
       "</style>\n",
       "<table border=\"1\" class=\"dataframe\">\n",
       "  <thead>\n",
       "    <tr style=\"text-align: right;\">\n",
       "      <th></th>\n",
       "      <th>thumbnail</th>\n",
       "      <th>name</th>\n",
       "      <th>rating_mean_review</th>\n",
       "      <th>rating_mean_comments</th>\n",
       "      <th>fixed_rating</th>\n",
       "      <th>rank</th>\n",
       "      <th>yearpublished</th>\n",
       "    </tr>\n",
       "  </thead>\n",
       "  <tbody>\n",
       "    <tr>\n",
       "      <th>0</th>\n",
       "      <td>&lt;img src=\"https://cf.geekdo-images.com/hItZjdD...</td>\n",
       "      <td>&lt;a href=\"https://boardgamegeek.com/boardgame/3...</td>\n",
       "      <td>10.000000</td>\n",
       "      <td>8.060000</td>\n",
       "      <td>8.383333</td>\n",
       "      <td>1</td>\n",
       "      <td>2022</td>\n",
       "    </tr>\n",
       "    <tr>\n",
       "      <th>1</th>\n",
       "      <td>&lt;img src=\"https://cf.geekdo-images.com/6GqH14T...</td>\n",
       "      <td>&lt;a href=\"https://boardgamegeek.com/boardgame/3...</td>\n",
       "      <td>7.917436</td>\n",
       "      <td>9.183333</td>\n",
       "      <td>8.034125</td>\n",
       "      <td>2</td>\n",
       "      <td>2020</td>\n",
       "    </tr>\n",
       "    <tr>\n",
       "      <th>2</th>\n",
       "      <td>&lt;img src=\"https://cf.geekdo-images.com/PhjygpW...</td>\n",
       "      <td>&lt;a href=\"https://boardgamegeek.com/boardgame/3...</td>\n",
       "      <td>8.114639</td>\n",
       "      <td>8.470833</td>\n",
       "      <td>8.150761</td>\n",
       "      <td>3</td>\n",
       "      <td>2020</td>\n",
       "    </tr>\n",
       "    <tr>\n",
       "      <th>3</th>\n",
       "      <td>&lt;img src=\"https://cf.geekdo-images.com/eUiju5S...</td>\n",
       "      <td>&lt;a href=\"https://boardgamegeek.com/boardgame/3...</td>\n",
       "      <td>8.583333</td>\n",
       "      <td>9.120000</td>\n",
       "      <td>8.775000</td>\n",
       "      <td>4</td>\n",
       "      <td>2021</td>\n",
       "    </tr>\n",
       "    <tr>\n",
       "      <th>4</th>\n",
       "      <td>&lt;img src=\"https://cf.geekdo-images.com/-JD8JLn...</td>\n",
       "      <td>&lt;a href=\"https://boardgamegeek.com/boardgame/2...</td>\n",
       "      <td>8.429787</td>\n",
       "      <td>9.252381</td>\n",
       "      <td>8.817978</td>\n",
       "      <td>5</td>\n",
       "      <td>2021</td>\n",
       "    </tr>\n",
       "  </tbody>\n",
       "</table>\n",
       "</div>"
      ],
      "text/plain": [
       "                                           thumbnail  \\\n",
       "0  <img src=\"https://cf.geekdo-images.com/hItZjdD...   \n",
       "1  <img src=\"https://cf.geekdo-images.com/6GqH14T...   \n",
       "2  <img src=\"https://cf.geekdo-images.com/PhjygpW...   \n",
       "3  <img src=\"https://cf.geekdo-images.com/eUiju5S...   \n",
       "4  <img src=\"https://cf.geekdo-images.com/-JD8JLn...   \n",
       "\n",
       "                                                name  rating_mean_review  \\\n",
       "0  <a href=\"https://boardgamegeek.com/boardgame/3...           10.000000   \n",
       "1  <a href=\"https://boardgamegeek.com/boardgame/3...            7.917436   \n",
       "2  <a href=\"https://boardgamegeek.com/boardgame/3...            8.114639   \n",
       "3  <a href=\"https://boardgamegeek.com/boardgame/3...            8.583333   \n",
       "4  <a href=\"https://boardgamegeek.com/boardgame/2...            8.429787   \n",
       "\n",
       "   rating_mean_comments  fixed_rating  rank yearpublished  \n",
       "0              8.060000      8.383333     1          2022  \n",
       "1              9.183333      8.034125     2          2020  \n",
       "2              8.470833      8.150761     3          2020  \n",
       "3              9.120000      8.775000     4          2021  \n",
       "4              9.252381      8.817978     5          2021  "
      ]
     },
     "execution_count": 82,
     "metadata": {},
     "output_type": "execute_result"
    }
   ],
   "source": [
    "grouped.head()"
   ]
  },
  {
   "cell_type": "code",
   "execution_count": 68,
   "metadata": {},
   "outputs": [],
   "source": [
    "def display_topn(by, n=5, ascending=True):\n",
    "    temp_df = grouped.sort_values(by, ascending=ascending).head(n)\n",
    "    temp_df.index=list(range(1, n+1))\n",
    "    return HTML(temp_df.to_html(escape=False, classes='table table-striped'))"
   ]
  },
  {
   "cell_type": "code",
   "execution_count": 69,
   "metadata": {},
   "outputs": [
    {
     "data": {
      "text/html": [
       "<table border=\"1\" class=\"dataframe table table-striped\">\n",
       "  <thead>\n",
       "    <tr style=\"text-align: right;\">\n",
       "      <th></th>\n",
       "      <th>thumbnail</th>\n",
       "      <th>name</th>\n",
       "      <th>rating_mean_review</th>\n",
       "      <th>rating_mean_comments</th>\n",
       "      <th>fixed_rating</th>\n",
       "      <th>rank</th>\n",
       "      <th>yearpublished</th>\n",
       "    </tr>\n",
       "  </thead>\n",
       "  <tbody>\n",
       "    <tr>\n",
       "      <th>1</th>\n",
       "      <td><img src=\"https://cf.geekdo-images.com/hItZjdDTNuaCZ7fEztwcUQ__thumb/img/Ov6eWR87PZ2O1XYQtXMO6KvfzOg=/fit-in/200x150/filters:strip_icc()/pic6153324.jpg\" width=\"124\" /></td>\n",
       "      <td><a href=\"https://boardgamegeek.com/boardgame/337627\">Voidfall</a></td>\n",
       "      <td>10.000000</td>\n",
       "      <td>8.060000</td>\n",
       "      <td>8.383333</td>\n",
       "      <td>1</td>\n",
       "      <td>2022</td>\n",
       "    </tr>\n",
       "    <tr>\n",
       "      <th>2</th>\n",
       "      <td><img src=\"https://cf.geekdo-images.com/6GqH14TJJhza86BX5HCLEQ__thumb/img/J8SVmGOJXZGxNjkT3xYNQU7Haxg=/fit-in/200x150/filters:strip_icc()/pic5674958.jpg\" width=\"124\" /></td>\n",
       "      <td><a href=\"https://boardgamegeek.com/boardgame/312484\">Lost Ruins of Arnak</a></td>\n",
       "      <td>7.917436</td>\n",
       "      <td>9.183333</td>\n",
       "      <td>8.034125</td>\n",
       "      <td>2</td>\n",
       "      <td>2020</td>\n",
       "    </tr>\n",
       "    <tr>\n",
       "      <th>3</th>\n",
       "      <td><img src=\"https://cf.geekdo-images.com/PhjygpWSo-0labGrPBMyyg__thumb/img/JGgY-nBmkyB8WRp8vcoBLlNMQ5U=/fit-in/200x150/filters:strip_icc()/pic5666597.jpg\" width=\"124\" /></td>\n",
       "      <td><a href=\"https://boardgamegeek.com/boardgame/316554\">Dune: Imperium</a></td>\n",
       "      <td>8.114639</td>\n",
       "      <td>8.470833</td>\n",
       "      <td>8.150761</td>\n",
       "      <td>3</td>\n",
       "      <td>2020</td>\n",
       "    </tr>\n",
       "    <tr>\n",
       "      <th>4</th>\n",
       "      <td><img src=\"https://cf.geekdo-images.com/eUiju5SqZbkNt8gnEofrTw__thumb/img/zNkmLNyeXJGOY24FeAAf4U67ejU=/fit-in/200x150/filters:strip_icc()/pic6035127.png\" width=\"124\" /></td>\n",
       "      <td><a href=\"https://boardgamegeek.com/boardgame/316624\">Stationfall</a></td>\n",
       "      <td>8.583333</td>\n",
       "      <td>9.120000</td>\n",
       "      <td>8.775000</td>\n",
       "      <td>4</td>\n",
       "      <td>2021</td>\n",
       "    </tr>\n",
       "    <tr>\n",
       "      <th>5</th>\n",
       "      <td><img src=\"https://cf.geekdo-images.com/-JD8JLncWYMes9Q6YIgorg__thumb/img/Ce6a64m5DxVae_ZXnAsrgdEnqBQ=/fit-in/200x150/filters:strip_icc()/pic6136538.jpg\" width=\"124\" /></td>\n",
       "      <td><a href=\"https://boardgamegeek.com/boardgame/277700\">Merchants Cove</a></td>\n",
       "      <td>8.429787</td>\n",
       "      <td>9.252381</td>\n",
       "      <td>8.817978</td>\n",
       "      <td>5</td>\n",
       "      <td>2021</td>\n",
       "    </tr>\n",
       "  </tbody>\n",
       "</table>"
      ],
      "text/plain": [
       "<IPython.core.display.HTML object>"
      ]
     },
     "execution_count": 69,
     "metadata": {},
     "output_type": "execute_result"
    }
   ],
   "source": [
    "# TOP N RANK\n",
    "display_topn(by='rank', n=TOP_N)"
   ]
  },
  {
   "cell_type": "code",
   "execution_count": 70,
   "metadata": {},
   "outputs": [
    {
     "data": {
      "text/html": [
       "<table border=\"1\" class=\"dataframe table table-striped\">\n",
       "  <thead>\n",
       "    <tr style=\"text-align: right;\">\n",
       "      <th></th>\n",
       "      <th>thumbnail</th>\n",
       "      <th>name</th>\n",
       "      <th>rating_mean_review</th>\n",
       "      <th>rating_mean_comments</th>\n",
       "      <th>fixed_rating</th>\n",
       "      <th>rank</th>\n",
       "      <th>yearpublished</th>\n",
       "    </tr>\n",
       "  </thead>\n",
       "  <tbody>\n",
       "    <tr>\n",
       "      <th>1</th>\n",
       "      <td><img src=\"https://cf.geekdo-images.com/hItZjdDTNuaCZ7fEztwcUQ__thumb/img/Ov6eWR87PZ2O1XYQtXMO6KvfzOg=/fit-in/200x150/filters:strip_icc()/pic6153324.jpg\" width=\"124\" /></td>\n",
       "      <td><a href=\"https://boardgamegeek.com/boardgame/337627\">Voidfall</a></td>\n",
       "      <td>10.000000</td>\n",
       "      <td>8.060000</td>\n",
       "      <td>8.383333</td>\n",
       "      <td>1</td>\n",
       "      <td>2022</td>\n",
       "    </tr>\n",
       "    <tr>\n",
       "      <th>2</th>\n",
       "      <td><img src=\"https://cf.geekdo-images.com/nhWSmNJSTBAye6bxLa9x-Q__thumb/img/B4r1iyRl2Z2CcMrtBRQOKYwwngw=/fit-in/200x150/filters:strip_icc()/pic4779069.jpg\" width=\"124\" /></td>\n",
       "      <td><a href=\"https://boardgamegeek.com/boardgame/268012\">Chronicles of Drunagor: Age of Darkness</a></td>\n",
       "      <td>9.462963</td>\n",
       "      <td>8.845455</td>\n",
       "      <td>9.284211</td>\n",
       "      <td>20</td>\n",
       "      <td>2021</td>\n",
       "    </tr>\n",
       "    <tr>\n",
       "      <th>3</th>\n",
       "      <td><img src=\"https://cf.geekdo-images.com/Oh3kHw6lweg6ru71Q16h2Q__thumb/img/e9XZdQe1ZcPpaq4Gy31OoWBB_V0=/fit-in/200x150/filters:strip_icc()/pic5235277.jpg\" width=\"124\" /></td>\n",
       "      <td><a href=\"https://boardgamegeek.com/boardgame/246900\">Eclipse: Second Dawn for the Galaxy</a></td>\n",
       "      <td>8.741260</td>\n",
       "      <td>8.828916</td>\n",
       "      <td>8.755332</td>\n",
       "      <td>37</td>\n",
       "      <td>2020</td>\n",
       "    </tr>\n",
       "    <tr>\n",
       "      <th>4</th>\n",
       "      <td><img src=\"https://cf.geekdo-images.com/x3zxjr-Vw5iU4yDPg70Jgw__thumb/img/o18rjEemoWaVru9Y2TyPwuIaRfE=/fit-in/200x150/filters:strip_icc()/pic3490053.jpg\" width=\"124\" /></td>\n",
       "      <td><a href=\"https://boardgamegeek.com/boardgame/224517\">Brass: Birmingham</a></td>\n",
       "      <td>8.688985</td>\n",
       "      <td>8.949784</td>\n",
       "      <td>8.713151</td>\n",
       "      <td>24</td>\n",
       "      <td>2018</td>\n",
       "    </tr>\n",
       "    <tr>\n",
       "      <th>5</th>\n",
       "      <td><img src=\"https://cf.geekdo-images.com/_HhIdavYW-hid20Iq3hhmg__thumb/img/OMkN_E5eyWrkID_cHCnQEbIixGM=/fit-in/200x150/filters:strip_icc()/pic5055631.jpg\" width=\"124\" /></td>\n",
       "      <td><a href=\"https://boardgamegeek.com/boardgame/291457\">Gloomhaven: Jaws of the Lion</a></td>\n",
       "      <td>8.619705</td>\n",
       "      <td>8.476515</td>\n",
       "      <td>8.605255</td>\n",
       "      <td>22</td>\n",
       "      <td>2020</td>\n",
       "    </tr>\n",
       "  </tbody>\n",
       "</table>"
      ],
      "text/plain": [
       "<IPython.core.display.HTML object>"
      ]
     },
     "execution_count": 70,
     "metadata": {},
     "output_type": "execute_result"
    }
   ],
   "source": [
    "# TOP N REVIEW RANK\n",
    "display_topn(by='rating_mean_review', n=TOP_N, ascending=False)"
   ]
  },
  {
   "cell_type": "code",
   "execution_count": 71,
   "metadata": {},
   "outputs": [
    {
     "data": {
      "text/html": [
       "<table border=\"1\" class=\"dataframe table table-striped\">\n",
       "  <thead>\n",
       "    <tr style=\"text-align: right;\">\n",
       "      <th></th>\n",
       "      <th>thumbnail</th>\n",
       "      <th>name</th>\n",
       "      <th>rating_mean_review</th>\n",
       "      <th>rating_mean_comments</th>\n",
       "      <th>fixed_rating</th>\n",
       "      <th>rank</th>\n",
       "      <th>yearpublished</th>\n",
       "    </tr>\n",
       "  </thead>\n",
       "  <tbody>\n",
       "    <tr>\n",
       "      <th>1</th>\n",
       "      <td><img src=\"https://cf.geekdo-images.com/nhWSmNJSTBAye6bxLa9x-Q__thumb/img/B4r1iyRl2Z2CcMrtBRQOKYwwngw=/fit-in/200x150/filters:strip_icc()/pic4779069.jpg\" width=\"124\" /></td>\n",
       "      <td><a href=\"https://boardgamegeek.com/boardgame/268012\">Chronicles of Drunagor: Age of Darkness</a></td>\n",
       "      <td>9.462963</td>\n",
       "      <td>8.845455</td>\n",
       "      <td>9.284211</td>\n",
       "      <td>20</td>\n",
       "      <td>2021</td>\n",
       "    </tr>\n",
       "    <tr>\n",
       "      <th>2</th>\n",
       "      <td><img src=\"https://cf.geekdo-images.com/-JD8JLncWYMes9Q6YIgorg__thumb/img/Ce6a64m5DxVae_ZXnAsrgdEnqBQ=/fit-in/200x150/filters:strip_icc()/pic6136538.jpg\" width=\"124\" /></td>\n",
       "      <td><a href=\"https://boardgamegeek.com/boardgame/277700\">Merchants Cove</a></td>\n",
       "      <td>8.429787</td>\n",
       "      <td>9.252381</td>\n",
       "      <td>8.817978</td>\n",
       "      <td>5</td>\n",
       "      <td>2021</td>\n",
       "    </tr>\n",
       "    <tr>\n",
       "      <th>3</th>\n",
       "      <td><img src=\"https://cf.geekdo-images.com/eUiju5SqZbkNt8gnEofrTw__thumb/img/zNkmLNyeXJGOY24FeAAf4U67ejU=/fit-in/200x150/filters:strip_icc()/pic6035127.png\" width=\"124\" /></td>\n",
       "      <td><a href=\"https://boardgamegeek.com/boardgame/316624\">Stationfall</a></td>\n",
       "      <td>8.583333</td>\n",
       "      <td>9.120000</td>\n",
       "      <td>8.775000</td>\n",
       "      <td>4</td>\n",
       "      <td>2021</td>\n",
       "    </tr>\n",
       "    <tr>\n",
       "      <th>4</th>\n",
       "      <td><img src=\"https://cf.geekdo-images.com/Oh3kHw6lweg6ru71Q16h2Q__thumb/img/e9XZdQe1ZcPpaq4Gy31OoWBB_V0=/fit-in/200x150/filters:strip_icc()/pic5235277.jpg\" width=\"124\" /></td>\n",
       "      <td><a href=\"https://boardgamegeek.com/boardgame/246900\">Eclipse: Second Dawn for the Galaxy</a></td>\n",
       "      <td>8.741260</td>\n",
       "      <td>8.828916</td>\n",
       "      <td>8.755332</td>\n",
       "      <td>37</td>\n",
       "      <td>2020</td>\n",
       "    </tr>\n",
       "    <tr>\n",
       "      <th>5</th>\n",
       "      <td><img src=\"https://cf.geekdo-images.com/x3zxjr-Vw5iU4yDPg70Jgw__thumb/img/o18rjEemoWaVru9Y2TyPwuIaRfE=/fit-in/200x150/filters:strip_icc()/pic3490053.jpg\" width=\"124\" /></td>\n",
       "      <td><a href=\"https://boardgamegeek.com/boardgame/224517\">Brass: Birmingham</a></td>\n",
       "      <td>8.688985</td>\n",
       "      <td>8.949784</td>\n",
       "      <td>8.713151</td>\n",
       "      <td>24</td>\n",
       "      <td>2018</td>\n",
       "    </tr>\n",
       "  </tbody>\n",
       "</table>"
      ],
      "text/plain": [
       "<IPython.core.display.HTML object>"
      ]
     },
     "execution_count": 71,
     "metadata": {},
     "output_type": "execute_result"
    }
   ],
   "source": [
    "# TOP N FIXED RANK\n",
    "display_topn(by='fixed_rating', n=TOP_N, ascending=False)"
   ]
  },
  {
   "cell_type": "code",
   "execution_count": 61,
   "metadata": {},
   "outputs": [],
   "source": [
    "# model.save('saved_model\\my_model')"
   ]
  },
  {
   "cell_type": "code",
   "execution_count": 62,
   "metadata": {},
   "outputs": [],
   "source": [
    "# saved_model = tf.keras.models.load_model('saved_model\\my_model')"
   ]
  },
  {
   "cell_type": "code",
   "execution_count": 63,
   "metadata": {},
   "outputs": [],
   "source": [
    "# some examples on \"long\" comments vs short comments"
   ]
  },
  {
   "cell_type": "code",
   "execution_count": 72,
   "metadata": {},
   "outputs": [
    {
     "name": "stdout",
     "output_type": "stream",
     "text": [
      "input:\n",
      "\"Condition:    NIS (New In Shrink) Acquisition:  8/28/2020 Source:       GameNerdz MSRP:         $59.99 Paid Price:   $34.99  + Custom Box Insert\"\n",
      "score: 0.998726\n",
      "\n",
      "input:\n",
      "\":d6-1: Seems like a great game but it is very expensive and takes a lot more time than I have available at the moment.\"\n",
      "score: 0.562522\n",
      "\n",
      "input:\n",
      "\"Missed the first Kickstarter and after seeing the plethora of high reviews and the rave comments I couldn't miss out the second time.  Kickstarted.\"\n",
      "score: 0.929825\n",
      "\n",
      "input:\n",
      "\"Looks very interesting. Can I get the rewarding gameplay of Gloomhaven without the massive box? If so then this might replace the original. Then again, if they ever implemented the map system used in this game as part of the original, that might help me get it to the table a lot more often.\"\n",
      "score: 0.937960\n",
      "\n",
      "input:\n",
      "\"I have played Gloomhaven a nunmber of times with a friend (his copy), and think that this smaller version may be fun for me and my husband to play.\"\n",
      "score: 0.688007\n",
      "\n",
      "input:\n",
      "\"Played this 3 times in Summer 2019. A bit \"dark\"/nightmare-inducing but only minimally. Fun story. Not a ton of replayability in my opinion but Eric may disagree. Research told me it was more highly rated than the original Arkham Horror/less setup, and that seems to be true.\"\n",
      "score: 0.957174\n",
      "\n",
      "input:\n",
      "\"Dice Tower team loves game, 9/10. Deck build & work placement. Has solo using automa but app is said to provide better solo oppo. Solo against opponents, so not high score! Seperate solo/2p rules are clear. But solo play is just avg. Rahdo&Driveby like solo game. Setup time is 3-5 mins?\"\n",
      "score: 0.999687\n",
      "\n",
      "input:\n",
      "\"Rahdo's game of last year. I'm a fan of light, colorful games w/ accessible themes - if this is a great one count me in.\"\n",
      "score: 0.998241\n",
      "\n",
      "input:\n",
      "\"This is the Kickstarter round one $80 pledge. Unplayed. Trade interest low - will only consider generous offers due to weight of box. Thanks!\"\n",
      "score: 0.595012\n",
      "\n",
      "input:\n",
      "\"the game is really fun to play with others, and the dynamics of the game of hand management and resource building is a really different style than other board games.\"\n",
      "score: 0.923720\n",
      "\n",
      "input:\n",
      "\"Preliminary rating 7.9  Part of my project to discover and rate all games based on interest in playing.  Have not played. Definitely would play and possibly buy, although I also own Terra Mystica, so probably won’t buy. Rating based on bgg genre, descriptions, comments and pictures.\"\n",
      "score: 0.980682\n",
      "\n",
      "input:\n",
      "\"[b]RO:[/b] [I]6/22/2018[/I]  I love what this game is trying to do, but I don't think I like it as a game. This is merely my preliminary impression though as I have little experience with it. I'll come back here if I can find a dedicated partner to actually play though the base campaign.\"\n",
      "score: 0.770204\n",
      "\n",
      "input:\n",
      "\"Async factions simpler than Vast. Base game has meh solo, but Exp has better solo? Vasel likes alot. Looks like unique gameplay. Too complex for me? Digital version coming...\"\n",
      "score: 0.867287\n",
      "\n",
      "input:\n",
      "\"Realized I prefer emergent narratives in games. Seems silly but the thing I was most excited about TG was the card play - literally chaining cards like here and in DMC: Bloody Palace is really neat.\"\n",
      "score: 0.370726\n",
      "\n",
      "input:\n",
      "\"Looks like a: 3-6 players, super hard, super long, struggle for victory points to rule the universe, roles, quests, dipolmacy and tactical decison making.\"\n",
      "score: 0.999775\n",
      "\n",
      "input:\n",
      "\"Comes with Rise of Fenris expansion, Invaders from Afar, The Wind Gambit, official metal coins. All in the Legendary box with Broken Token insert\"\n",
      "score: 0.997695\n",
      "\n",
      "input:\n",
      "\"Heard it was compared to Freedom: The Underground Railroad in that the 'puzzle' is somewhat deterministic (i.e., little to no randomness) but the path for solving the puzzle is not immediately apparent.\"\n",
      "score: 0.185149\n",
      "\n",
      "input:\n",
      "\"A big heavy long euro game and the designer didn't even take his final draft copy for a spin before stamping it A-OK.  So we have map errors and advantage tile errors.  A bit disappointed due to the $$ paid for it.  \"\n",
      "score: 0.611417\n",
      "\n",
      "input:\n",
      "\"I am sick to death of graphic designers who do things like put red and green translucent cubes in the game where you have to tell them apart. There are colorblind players in the world, and there is no excuse for this casual dismissing of them. And thus I casually dismiss you back with this comment.\"\n",
      "score: 0.300333\n",
      "\n",
      "input:\n",
      "\"Wargame Ligero. Parece muy interesante. Debería salir en Abril 2018 editado por Two Tomatoes. Buscalo!\"\n",
      "score: 0.985933\n",
      "\n",
      "input:\n",
      "\"Terraforming Mars: Venus Next (2017) Terraforming Mars: Prelude (2018) Terraforming Mars: Colonies (2018)\"\n",
      "score: 0.987992\n",
      "\n",
      "input:\n",
      "\"Owned Expansions: [geekurl=/boardgameexpansion/290448/wingspan-european-expansion]Wingspan: European Expansion[/geekurl]\"\n",
      "score: 0.998933\n",
      "\n",
      "input:\n",
      "\"Status: Waiting on Wave 2 KS: Puritan/Virtuous Pledge(EB)  Content Received: Wave 1 1. Core Box 2. Kane's Arsenal  3. The Right Hand of Doom 4. Art Book Sleeves: 2 1. SCG(SK) 2. Tarot(SK) Insert: — Miniatures: Full Paint? Notes: 1. RFD » PLB\"\n",
      "score: 0.997753\n",
      "\n",
      "input:\n",
      "\"Opened and punched but unplayed. Boxes are still unopened. Removable stickers also included as well as the Forgotten Circle expansion. $130\"\n",
      "score: 0.987685\n",
      "\n",
      "input:\n",
      "\"As a big fan of Terra Mystica this is on my want to own list. Never bought it myself, because not sure if it adds enough next to Terra Mystica.\"\n",
      "score: 0.995739\n"
     ]
    }
   ],
   "source": [
    "# some long comments\n",
    "not_rated_comments['comment_len'] = not_rated_comments['value'].str.len()\n",
    "some_long_comments = not_rated_comments.query(\"comment_len>100 and comment_len<300\").sample(frac=1)\n",
    "results = tf.sigmoid(model.predict(tf.constant(list(some_long_comments.value))))\n",
    "print_my_examples(list(some_long_comments.value), results, limit=25)"
   ]
  },
  {
   "cell_type": "code",
   "execution_count": null,
   "metadata": {},
   "outputs": [],
   "source": []
  }
 ],
 "metadata": {
  "kernelspec": {
   "display_name": "tensorflow2",
   "language": "python",
   "name": "tensorflow2"
  },
  "language_info": {
   "codemirror_mode": {
    "name": "ipython",
    "version": 3
   },
   "file_extension": ".py",
   "mimetype": "text/x-python",
   "name": "python",
   "nbconvert_exporter": "python",
   "pygments_lexer": "ipython3",
   "version": "3.8.8"
  }
 },
 "nbformat": 4,
 "nbformat_minor": 4
}
