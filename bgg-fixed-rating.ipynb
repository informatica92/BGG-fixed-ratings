{
 "cells": [
  {
   "cell_type": "code",
   "execution_count": 1,
   "metadata": {},
   "outputs": [],
   "source": [
    "# ## BGG API\n",
    "# https://www.boardgamegeek.com/xmlapi2/thing?id=161599&comments=1\n",
    "# https://www.boardgamegeek.com/xmlapi2/hot?type=boardgame\n",
    "# ## NLP WITH TF\n",
    "# https://www.tensorflow.org/hub/tutorials/tf2_text_classification"
   ]
  },
  {
   "cell_type": "code",
   "execution_count": 2,
   "metadata": {},
   "outputs": [
    {
     "name": "stdout",
     "output_type": "stream",
     "text": [
      "Version:  2.4.0\n",
      "Eager mode:  True\n",
      "Hub version:  0.12.0\n",
      "GPU is available\n"
     ]
    }
   ],
   "source": [
    "import tensorflow as tf\n",
    "import tensorflow_hub as hub\n",
    "import tensorflow_datasets as tfds\n",
    "\n",
    "import xml.etree.ElementTree as Xet\n",
    "import matplotlib.pyplot as plt\n",
    "import pandas as pd\n",
    "import numpy as np\n",
    "import requests\n",
    "from IPython.display import Image, HTML\n",
    "\n",
    "from langdetect import detect\n",
    "import re\n",
    "\n",
    "print(\"Version: \", tf.__version__)\n",
    "print(\"Eager mode: \", tf.executing_eagerly())\n",
    "print(\"Hub version: \", hub.__version__)\n",
    "print(\"GPU is\", \"available\" if tf.config.list_physical_devices('GPU') else \"NOT AVAILABLE\")"
   ]
  },
  {
   "cell_type": "code",
   "execution_count": 3,
   "metadata": {},
   "outputs": [],
   "source": [
    "# tf.debugging.set_log_device_placement(True)"
   ]
  },
  {
   "cell_type": "code",
   "execution_count": 4,
   "metadata": {},
   "outputs": [],
   "source": [
    "GOOD_REVIEW_THRESHOLD = 7"
   ]
  },
  {
   "cell_type": "code",
   "execution_count": 5,
   "metadata": {},
   "outputs": [],
   "source": [
    "VAL_FRACTION = 0.25"
   ]
  },
  {
   "cell_type": "code",
   "execution_count": 6,
   "metadata": {},
   "outputs": [],
   "source": [
    "MIN_COMMENT_LEN = 25"
   ]
  },
  {
   "cell_type": "code",
   "execution_count": 7,
   "metadata": {},
   "outputs": [],
   "source": [
    "TOP_N = 5"
   ]
  },
  {
   "cell_type": "markdown",
   "metadata": {},
   "source": [
    "## GET DATA"
   ]
  },
  {
   "cell_type": "code",
   "execution_count": 8,
   "metadata": {},
   "outputs": [],
   "source": [
    "def get_hot_data():\n",
    "    hot = requests.get(\"https://www.boardgamegeek.com/xmlapi2/hot?type=boardgame\").content.decode()\n",
    "  \n",
    "    # Parsing the XML file\n",
    "    xmlparse = Xet.fromstring(hot)\n",
    "\n",
    "    hot_array = []\n",
    "    for item in xmlparse:\n",
    "        dict_element = {\n",
    "            \"id\": item.get(\"id\"),\n",
    "            \"rank\": item.get(\"rank\")\n",
    "        }\n",
    "        for option in item:\n",
    "            dict_element[option.tag] = option.get(\"value\")\n",
    "        hot_array.append(dict_element)\n",
    "    return hot_array"
   ]
  },
  {
   "cell_type": "code",
   "execution_count": 9,
   "metadata": {},
   "outputs": [],
   "source": [
    "def get_comments(id_array, verbose=1):\n",
    "    max_comments_per_page = 1\n",
    "    array_ids = [h['id'] for h in id_array]\n",
    "    ids = ','.join(array_ids)\n",
    "    page_size = 100\n",
    "    page_number = 0\n",
    "    comments_array = []\n",
    "\n",
    "    while max_comments_per_page > 0 and len(array_ids) > 0:\n",
    "        page_number += 1\n",
    "        if verbose>0 and page_number%verbose==0:\n",
    "            print(f\"page number = {page_number}\", end=\" \")\n",
    "        comments = requests.get(f\"https://www.boardgamegeek.com/xmlapi2/thing?id={ids}&comments=1&pagesize={page_size}&page={page_number}\").content.decode()\n",
    "\n",
    "        # Parsing the XML file\n",
    "        xmlparse = Xet.fromstring(comments)\n",
    "        comments_per_item = []\n",
    "        for item in xmlparse:        \n",
    "            for option in item:\n",
    "                if option.tag == 'comments':\n",
    "                    comments_per_page = 0\n",
    "                    for comment in option:\n",
    "                        comments_per_page += 1\n",
    "                        dict_element = {\n",
    "                            \"id\": item.get(\"id\"),\n",
    "                            \"username\": comment.get(\"username\"),\n",
    "                            \"rating\": comment.get(\"rating\"),\n",
    "                            \"value\": comment.get(\"value\")\n",
    "                        }\n",
    "                        comments_array.append(dict_element)\n",
    "                    if comments_per_page==0:\n",
    "                        array_ids.remove(item.get(\"id\"))\n",
    "                        ids = ','.join(array_ids)\n",
    "                    comments_per_item.append(comments_per_page)\n",
    "        max_comments_per_page = max(comments_per_item)\n",
    "        if verbose>0 and page_number%verbose==0:\n",
    "            print(f\"(max: {max(comments_per_item)}, len: {len(comments_per_item)})\")\n",
    "    comments_df = pd.DataFrame(comments_array)\n",
    "    print(f\"comments_df shape: {comments_df.shape}\")\n",
    "    return comments_df"
   ]
  },
  {
   "cell_type": "code",
   "execution_count": 10,
   "metadata": {},
   "outputs": [
    {
     "data": {
      "text/plain": [
       "[{'id': '337627',\n",
       "  'rank': '1',\n",
       "  'thumbnail': 'https://cf.geekdo-images.com/6ixWMkMQQFz7WMlLT0aHWg__thumb/img/lbE0fqB5FHozp8g9ggzSYcLQPgo=/fit-in/200x150/filters:strip_icc()/pic6153215.jpg',\n",
       "  'name': 'Voidfall',\n",
       "  'yearpublished': '2022'},\n",
       " {'id': '316624',\n",
       "  'rank': '2',\n",
       "  'thumbnail': 'https://cf.geekdo-images.com/eUiju5SqZbkNt8gnEofrTw__thumb/img/zNkmLNyeXJGOY24FeAAf4U67ejU=/fit-in/200x150/filters:strip_icc()/pic6035127.png',\n",
       "  'name': 'Stationfall',\n",
       "  'yearpublished': '2021'}]"
      ]
     },
     "execution_count": 10,
     "metadata": {},
     "output_type": "execute_result"
    }
   ],
   "source": [
    "hot_array = get_hot_data()\n",
    "hot_array[:2]"
   ]
  },
  {
   "cell_type": "code",
   "execution_count": 11,
   "metadata": {},
   "outputs": [
    {
     "name": "stderr",
     "output_type": "stream",
     "text": [
      "<ipython-input-11-3c366f14faf3>:2: FutureWarning: The pandas.datetime class is deprecated and will be removed from pandas in a future version. Import from datetime module instead.\n",
      "  comments_df = pd.read_csv(f\"comments_{pd.datetime.now().strftime('%Y%m%d')}.csv\")\n"
     ]
    },
    {
     "name": "stdout",
     "output_type": "stream",
     "text": [
      "reading dataframe from csv file...\n"
     ]
    },
    {
     "data": {
      "text/html": [
       "<div>\n",
       "<style scoped>\n",
       "    .dataframe tbody tr th:only-of-type {\n",
       "        vertical-align: middle;\n",
       "    }\n",
       "\n",
       "    .dataframe tbody tr th {\n",
       "        vertical-align: top;\n",
       "    }\n",
       "\n",
       "    .dataframe thead th {\n",
       "        text-align: right;\n",
       "    }\n",
       "</style>\n",
       "<table border=\"1\" class=\"dataframe\">\n",
       "  <thead>\n",
       "    <tr style=\"text-align: right;\">\n",
       "      <th></th>\n",
       "      <th>id</th>\n",
       "      <th>username</th>\n",
       "      <th>rating</th>\n",
       "      <th>value</th>\n",
       "    </tr>\n",
       "  </thead>\n",
       "  <tbody>\n",
       "    <tr>\n",
       "      <th>0</th>\n",
       "      <td>337627</td>\n",
       "      <td>BGFreakDag2PT</td>\n",
       "      <td>N/A</td>\n",
       "      <td>On Radar</td>\n",
       "    </tr>\n",
       "    <tr>\n",
       "      <th>1</th>\n",
       "      <td>337627</td>\n",
       "      <td>Bstalf21</td>\n",
       "      <td>N/A</td>\n",
       "      <td>KS fall?</td>\n",
       "    </tr>\n",
       "    <tr>\n",
       "      <th>2</th>\n",
       "      <td>337627</td>\n",
       "      <td>bucklen_uk</td>\n",
       "      <td>N/A</td>\n",
       "      <td>I don't rate my own games (doesn't seem approp...</td>\n",
       "    </tr>\n",
       "    <tr>\n",
       "      <th>3</th>\n",
       "      <td>337627</td>\n",
       "      <td>carlcorey</td>\n",
       "      <td>N/A</td>\n",
       "      <td>Turczi / Mindclash with O'Toole design, intere...</td>\n",
       "    </tr>\n",
       "    <tr>\n",
       "      <th>4</th>\n",
       "      <td>337627</td>\n",
       "      <td>Dark Herald</td>\n",
       "      <td>N/A</td>\n",
       "      <td>Notes: To Consider</td>\n",
       "    </tr>\n",
       "    <tr>\n",
       "      <th>...</th>\n",
       "      <td>...</td>\n",
       "      <td>...</td>\n",
       "      <td>...</td>\n",
       "      <td>...</td>\n",
       "    </tr>\n",
       "    <tr>\n",
       "      <th>85786</th>\n",
       "      <td>167791</td>\n",
       "      <td>z_zadar</td>\n",
       "      <td>9.0</td>\n",
       "      <td>Some games are so much fun. Others can be a li...</td>\n",
       "    </tr>\n",
       "    <tr>\n",
       "      <th>85787</th>\n",
       "      <td>167791</td>\n",
       "      <td>_Czid_</td>\n",
       "      <td>8.0</td>\n",
       "      <td>Have played with Elysium and Prelude expansion...</td>\n",
       "    </tr>\n",
       "    <tr>\n",
       "      <th>85788</th>\n",
       "      <td>167791</td>\n",
       "      <td>_Marty_</td>\n",
       "      <td>9.5</td>\n",
       "      <td>Fantastic game. With so many cards that can ch...</td>\n",
       "    </tr>\n",
       "    <tr>\n",
       "      <th>85789</th>\n",
       "      <td>167791</td>\n",
       "      <td>_mun_</td>\n",
       "      <td>10.0</td>\n",
       "      <td>Nagyon izgalmas játék, jó a mechanizmusa. A sz...</td>\n",
       "    </tr>\n",
       "    <tr>\n",
       "      <th>85790</th>\n",
       "      <td>167791</td>\n",
       "      <td>_The_Inquiry_</td>\n",
       "      <td>5.0</td>\n",
       "      <td>Prior to 2020: 2 plays  TM is one of those gam...</td>\n",
       "    </tr>\n",
       "  </tbody>\n",
       "</table>\n",
       "<p>85791 rows × 4 columns</p>\n",
       "</div>"
      ],
      "text/plain": [
       "           id       username rating  \\\n",
       "0      337627  BGFreakDag2PT    N/A   \n",
       "1      337627       Bstalf21    N/A   \n",
       "2      337627     bucklen_uk    N/A   \n",
       "3      337627      carlcorey    N/A   \n",
       "4      337627    Dark Herald    N/A   \n",
       "...       ...            ...    ...   \n",
       "85786  167791        z_zadar    9.0   \n",
       "85787  167791         _Czid_    8.0   \n",
       "85788  167791        _Marty_    9.5   \n",
       "85789  167791          _mun_   10.0   \n",
       "85790  167791  _The_Inquiry_    5.0   \n",
       "\n",
       "                                                   value  \n",
       "0                                               On Radar  \n",
       "1                                               KS fall?  \n",
       "2      I don't rate my own games (doesn't seem approp...  \n",
       "3      Turczi / Mindclash with O'Toole design, intere...  \n",
       "4                                     Notes: To Consider  \n",
       "...                                                  ...  \n",
       "85786  Some games are so much fun. Others can be a li...  \n",
       "85787  Have played with Elysium and Prelude expansion...  \n",
       "85788  Fantastic game. With so many cards that can ch...  \n",
       "85789  Nagyon izgalmas játék, jó a mechanizmusa. A sz...  \n",
       "85790  Prior to 2020: 2 plays  TM is one of those gam...  \n",
       "\n",
       "[85791 rows x 4 columns]"
      ]
     },
     "execution_count": 11,
     "metadata": {},
     "output_type": "execute_result"
    }
   ],
   "source": [
    "try:\n",
    "    comments_df = pd.read_csv(f\"comments_{pd.datetime.now().strftime('%Y%m%d')}.csv\")\n",
    "    comments_df['rating'] = comments_df.rating.fillna('N/A')\n",
    "    print(\"reading dataframe from csv file...\")\n",
    "except:\n",
    "    print(\"missing csv file, getting new data using API...\")\n",
    "    comments_df = get_comments(hot_array, verbose=10)\n",
    "    comments_df.to_csv(f\"comments_{pd.datetime.now().strftime('%Y%m%d')}.csv\", index=False)\n",
    "comments_df"
   ]
  },
  {
   "cell_type": "markdown",
   "metadata": {},
   "source": [
    "## DATA CLEANING"
   ]
  },
  {
   "cell_type": "code",
   "execution_count": 12,
   "metadata": {},
   "outputs": [],
   "source": [
    "# probably we should keep all the ratings (no matters the len) and remove only the simple comments under a certain len  "
   ]
  },
  {
   "cell_type": "code",
   "execution_count": 13,
   "metadata": {},
   "outputs": [],
   "source": [
    "comments_df[\"value\"] = comments_df[\"value\"].astype(str)"
   ]
  },
  {
   "cell_type": "code",
   "execution_count": 14,
   "metadata": {},
   "outputs": [],
   "source": [
    "# REMOVE URLs FROM COMMENTS"
   ]
  },
  {
   "cell_type": "code",
   "execution_count": 15,
   "metadata": {},
   "outputs": [],
   "source": [
    "comments_df['value'] = [re.sub(r\"http\\S+\", \"\", v) for v in comments_df.value.values]"
   ]
  },
  {
   "cell_type": "code",
   "execution_count": 16,
   "metadata": {},
   "outputs": [],
   "source": [
    "# REMOVE SHORT COMMENTS\n",
    "def remove_short_comments(df: pd.DataFrame, min_len=25, method='unrated'):\n",
    "    if method not in ['unrated', 'rated', 'both']:\n",
    "        raise AttributeError(f\"method {method} not allowed\")\n",
    "    df_local = df.copy()    \n",
    "    df_local['comment_len'] = [len(re.findall(\"[A-Za-z]\", v)) for v in df_local['value'].values]\n",
    "    if method == 'rated':\n",
    "        df_local = df_local.query('(comment_len>@min_len and rating != \"N/A\") or rating == \"N/A\"')\n",
    "    elif method == 'unrated':\n",
    "        df_local = df_local.query('(comment_len>@min_len and rating == \"N/A\") or rating != \"N/A\"')\n",
    "    else:\n",
    "        df_local = df_local.query('comment_len>@min_len')\n",
    "    print(f\"removed {len(df)-len(df_local)} for 'remove_short_comments' - min len: {min_len} - method: {method}\")\n",
    "    return df_local.reset_index(drop=True)"
   ]
  },
  {
   "cell_type": "code",
   "execution_count": 17,
   "metadata": {},
   "outputs": [
    {
     "name": "stdout",
     "output_type": "stream",
     "text": [
      "removed 14425 for 'remove_short_comments' - min len: 25 - method: unrated\n"
     ]
    }
   ],
   "source": [
    "comments_df = remove_short_comments(comments_df, MIN_COMMENT_LEN)"
   ]
  },
  {
   "cell_type": "code",
   "execution_count": 18,
   "metadata": {},
   "outputs": [],
   "source": [
    "# REMOVE NON ENGLISH COMMENTS"
   ]
  },
  {
   "cell_type": "code",
   "execution_count": 19,
   "metadata": {},
   "outputs": [],
   "source": [
    "# !conda install -c conda-forge langdetect"
   ]
  },
  {
   "cell_type": "code",
   "execution_count": 20,
   "metadata": {},
   "outputs": [],
   "source": [
    "# def add_comments_lang(df: pd.DataFrame):\n",
    "#     df_local = df.copy()\n",
    "#     df_local['lang'] = df['value'].apply(detect)\n",
    "#     return df_local.reset_index(drop=True)"
   ]
  },
  {
   "cell_type": "code",
   "execution_count": 21,
   "metadata": {},
   "outputs": [],
   "source": [
    "# comments_df = add_comments_lang(comments_df)"
   ]
  },
  {
   "cell_type": "code",
   "execution_count": 22,
   "metadata": {},
   "outputs": [],
   "source": [
    "# comments_df = comments_df.query('lang == \"en\"')"
   ]
  },
  {
   "cell_type": "markdown",
   "metadata": {},
   "source": [
    "## SPLIT RATED AND NON-RATED COMMENTS"
   ]
  },
  {
   "cell_type": "code",
   "execution_count": 23,
   "metadata": {},
   "outputs": [
    {
     "data": {
      "text/plain": [
       "10.0      13949\n",
       "9.0       13485\n",
       "8.0       11399\n",
       "7.0        6225\n",
       "N/A        5932\n",
       "          ...  \n",
       "9.013         1\n",
       "9.21          1\n",
       "5.67          1\n",
       "9.924         1\n",
       "8.5462        1\n",
       "Name: rating, Length: 500, dtype: int64"
      ]
     },
     "execution_count": 23,
     "metadata": {},
     "output_type": "execute_result"
    }
   ],
   "source": [
    "# count number of comments per rating (N/A included)\n",
    "comments_df.rating.value_counts()"
   ]
  },
  {
   "cell_type": "code",
   "execution_count": 24,
   "metadata": {},
   "outputs": [
    {
     "data": {
      "text/plain": [
       "(65434, 5)"
      ]
     },
     "execution_count": 24,
     "metadata": {},
     "output_type": "execute_result"
    }
   ],
   "source": [
    "# get rated comments only\n",
    "rated_comments = comments_df.query('rating != \"N/A\"')\n",
    "rated_comments.shape"
   ]
  },
  {
   "cell_type": "code",
   "execution_count": 25,
   "metadata": {},
   "outputs": [
    {
     "data": {
      "text/plain": [
       "(5932, 5)"
      ]
     },
     "execution_count": 25,
     "metadata": {},
     "output_type": "execute_result"
    }
   ],
   "source": [
    "# get non rated comments only\n",
    "not_rated_comments = comments_df.query('rating == \"N/A\"').reset_index(drop=True)\n",
    "not_rated_comments.shape"
   ]
  },
  {
   "cell_type": "markdown",
   "metadata": {},
   "source": [
    "## CREATE TRAINING AND VALIDATION DATA"
   ]
  },
  {
   "cell_type": "code",
   "execution_count": 26,
   "metadata": {},
   "outputs": [],
   "source": [
    "# use rated comments (reviews) to train the model"
   ]
  },
  {
   "cell_type": "code",
   "execution_count": 27,
   "metadata": {},
   "outputs": [],
   "source": [
    "rated_comments = rated_comments.sample(frac=1)"
   ]
  },
  {
   "cell_type": "code",
   "execution_count": 28,
   "metadata": {},
   "outputs": [],
   "source": [
    "# create training X and y\n",
    "train_examples = list(rated_comments.value)\n",
    "train_labels = list((rated_comments.rating.astype(float)>=GOOD_REVIEW_THRESHOLD).astype(int))"
   ]
  },
  {
   "cell_type": "code",
   "execution_count": 29,
   "metadata": {},
   "outputs": [
    {
     "name": "stdout",
     "output_type": "stream",
     "text": [
      "example of positive rating:\n"
     ]
    },
    {
     "data": {
      "text/plain": [
       "\"POSITIVES - Great Rulebook, simple rules that you can teach within 5-10 minutes. - AMAZING DEPTH. The feeling of getting your plan ready by the fourth round but sometimes shying short of 1 or 2 resource cubes has that satisfying feel of frustration. - AMAZING ART.  - QUICK GAMES that lasts no more than 30-40 minutes.  Negatives - Needs MULTIPLE plays to get a feel for the game. I've seen a lot of people sell this game after 1 play which is an absolute shame as the game really shines after 4-5 plays. - Might have a THEMATIC disconnect to some people. - While the BASE GAME is great, I wouldn't recommend buying this game without the KICKSTARTER exclusives.  Final Thoughts: A DEEPER, more brain burning puzzle than 7 Wonders. A lot of my friends thought this game was a 7W knock off and it may seem like that in the first play or two. But as you play the game more you'll find out they're nothing alike. \""
      ]
     },
     "execution_count": 29,
     "metadata": {},
     "output_type": "execute_result"
    }
   ],
   "source": [
    "print(\"example of positive rating:\")\n",
    "train_examples[train_labels.index(1)]"
   ]
  },
  {
   "cell_type": "code",
   "execution_count": 30,
   "metadata": {},
   "outputs": [
    {
     "name": "stdout",
     "output_type": "stream",
     "text": [
      "example of negative rating:\n"
     ]
    },
    {
     "data": {
      "text/plain": [
       "'If a game is a series of interesting and consequential decisions, On Mars succeeds.  On the plus side, it\\'s fairly interactive - that people are competing together where everything other players do may impact what works best for you is a pretty neat thing.  The game throws a lot of hurdles in the way; getting anything done efficiently is an exercise in planning, calculation, and a dash of pressing you luck.  On the downside, it feels like it\\'s the game\\'s goal to say \"No, you can\\'t do that just yet!\". Pretty much continuously.'"
      ]
     },
     "execution_count": 30,
     "metadata": {},
     "output_type": "execute_result"
    }
   ],
   "source": [
    "print(\"example of negative rating:\")\n",
    "train_examples[train_labels.index(0)]"
   ]
  },
  {
   "cell_type": "code",
   "execution_count": 31,
   "metadata": {},
   "outputs": [],
   "source": [
    "# create validation dataset from training\n",
    "validation_len = int(len(train_examples)*VAL_FRACTION)\n",
    "validation_len\n",
    "\n",
    "x_val = train_examples[:validation_len]\n",
    "x_train = train_examples[validation_len:]\n",
    "\n",
    "y_val = train_labels[:validation_len]\n",
    "y_train = train_labels[validation_len:]"
   ]
  },
  {
   "cell_type": "markdown",
   "metadata": {},
   "source": [
    "## COMPOSE MODEL"
   ]
  },
  {
   "cell_type": "code",
   "execution_count": 32,
   "metadata": {},
   "outputs": [
    {
     "data": {
      "text/plain": [
       "<tf.Tensor: shape=(2, 50), dtype=float32, numpy=\n",
       "array([[ 8.71176064e-01,  1.76093459e-01,  6.18864223e-03,\n",
       "         6.54391348e-01, -2.32303012e-02, -2.95081198e-01,\n",
       "         8.05821791e-02,  3.40628892e-01, -6.65079355e-01,\n",
       "         4.68711644e-01,  2.51830101e-01,  3.77998769e-01,\n",
       "        -3.62003371e-02,  2.08470911e-01, -8.39158818e-02,\n",
       "        -3.22589546e-01, -4.02029365e-01,  2.46331125e-01,\n",
       "         2.07211778e-01, -7.04945385e-01, -1.73197672e-01,\n",
       "        -9.68799740e-02,  5.94641149e-01,  2.01063484e-01,\n",
       "        -1.46191180e-01, -9.23446715e-02, -1.23009646e+00,\n",
       "         3.17142308e-01,  8.02647769e-02, -5.49152255e-01,\n",
       "        -5.55751026e-01,  4.25433032e-02,  1.94674894e-01,\n",
       "        -5.11649907e-01,  1.17097981e-01,  3.60439420e-01,\n",
       "         2.44238287e-01, -1.55843407e-01,  5.29157996e-01,\n",
       "        -1.23889089e+00,  1.02452822e-01,  1.76642492e-01,\n",
       "        -9.48969573e-02,  8.36259220e-03, -3.17394093e-04,\n",
       "        -5.39035648e-02, -3.15435439e-01, -1.69487432e-01,\n",
       "         2.60555178e-01,  2.94238269e-01],\n",
       "       [ 9.49126408e-02, -2.51970708e-01,  1.55249745e-01,\n",
       "         1.94085076e-01, -1.84374794e-01, -1.97290167e-01,\n",
       "        -6.38816655e-02,  1.45426571e-01, -7.76475444e-02,\n",
       "         7.09512532e-02,  7.12790936e-02, -1.57528594e-01,\n",
       "         9.71226767e-02,  1.25324562e-01,  3.82647067e-01,\n",
       "         9.72177237e-02,  1.71087816e-01,  2.07971573e-01,\n",
       "         1.78777948e-01,  1.11859731e-01,  1.35163948e-01,\n",
       "        -4.62568961e-02,  1.68004986e-02,  4.93769161e-02,\n",
       "         5.98563179e-02,  3.00090779e-02, -9.13003162e-02,\n",
       "        -1.57768782e-02, -3.80816460e-01, -5.74824885e-02,\n",
       "        -5.62660992e-02,  1.34751409e-01, -2.48810187e-01,\n",
       "        -1.34754911e-01,  2.59229004e-01,  1.03435419e-01,\n",
       "         1.54018447e-01, -8.52138102e-02, -1.73917532e-01,\n",
       "         5.05499065e-01,  2.67391801e-01,  1.51792308e-02,\n",
       "        -2.68077075e-01,  1.01955883e-01, -9.22379643e-02,\n",
       "         2.78607696e-01,  5.67468144e-02,  1.21771626e-01,\n",
       "         2.00374231e-01,  3.87975872e-02]], dtype=float32)>"
      ]
     },
     "execution_count": 32,
     "metadata": {},
     "output_type": "execute_result"
    }
   ],
   "source": [
    "model = \"https://tfhub.dev/google/nnlm-en-dim50/2\"\n",
    "hub_layer = hub.KerasLayer(model, input_shape=[], dtype=tf.string, trainable=True)\n",
    "hub_layer(train_examples[:2])"
   ]
  },
  {
   "cell_type": "code",
   "execution_count": 33,
   "metadata": {},
   "outputs": [
    {
     "name": "stdout",
     "output_type": "stream",
     "text": [
      "Model: \"sequential\"\n",
      "_________________________________________________________________\n",
      "Layer (type)                 Output Shape              Param #   \n",
      "=================================================================\n",
      "keras_layer (KerasLayer)     (None, 50)                48190600  \n",
      "_________________________________________________________________\n",
      "dense (Dense)                (None, 16)                816       \n",
      "_________________________________________________________________\n",
      "dense_1 (Dense)              (None, 1)                 17        \n",
      "=================================================================\n",
      "Total params: 48,191,433\n",
      "Trainable params: 48,191,433\n",
      "Non-trainable params: 0\n",
      "_________________________________________________________________\n"
     ]
    }
   ],
   "source": [
    "model = tf.keras.Sequential()\n",
    "model.add(hub_layer)\n",
    "model.add(tf.keras.layers.Dense(16, activation='relu'))\n",
    "model.add(tf.keras.layers.Dense(1))\n",
    "\n",
    "model.summary()"
   ]
  },
  {
   "cell_type": "code",
   "execution_count": 34,
   "metadata": {},
   "outputs": [],
   "source": [
    "model.compile(\n",
    "    optimizer='adam',\n",
    "    loss=tf.losses.BinaryCrossentropy(from_logits=True),\n",
    "    metrics=[tf.metrics.BinaryAccuracy(threshold=0.0, name='accuracy')]\n",
    ")"
   ]
  },
  {
   "cell_type": "markdown",
   "metadata": {},
   "source": [
    "## TRAINING MODEL "
   ]
  },
  {
   "cell_type": "code",
   "execution_count": 35,
   "metadata": {},
   "outputs": [
    {
     "name": "stdout",
     "output_type": "stream",
     "text": [
      "Epoch 1/40\n",
      "96/96 - 7s - loss: 0.4899 - accuracy: 0.8281 - val_loss: 0.3822 - val_accuracy: 0.8592\n",
      "Epoch 2/40\n",
      "96/96 - 5s - loss: 0.3296 - accuracy: 0.8721 - val_loss: 0.3147 - val_accuracy: 0.8785\n",
      "Epoch 3/40\n",
      "96/96 - 5s - loss: 0.2686 - accuracy: 0.8944 - val_loss: 0.2998 - val_accuracy: 0.8833\n",
      "Epoch 4/40\n",
      "96/96 - 5s - loss: 0.2309 - accuracy: 0.9094 - val_loss: 0.3008 - val_accuracy: 0.8834\n",
      "Epoch 5/40\n",
      "96/96 - 5s - loss: 0.2032 - accuracy: 0.9220 - val_loss: 0.3109 - val_accuracy: 0.8798\n",
      "Epoch 6/40\n",
      "96/96 - 5s - loss: 0.1809 - accuracy: 0.9315 - val_loss: 0.3268 - val_accuracy: 0.8774\n",
      "Epoch 7/40\n",
      "96/96 - 5s - loss: 0.1627 - accuracy: 0.9404 - val_loss: 0.3467 - val_accuracy: 0.8733\n",
      "Epoch 8/40\n",
      "96/96 - 5s - loss: 0.1479 - accuracy: 0.9462 - val_loss: 0.3674 - val_accuracy: 0.8697\n"
     ]
    }
   ],
   "source": [
    "history = model.fit(\n",
    "    x_train,\n",
    "    y_train,\n",
    "    epochs=40,\n",
    "    batch_size=512,\n",
    "    validation_data=(x_val, y_val),\n",
    "    verbose=2,\n",
    "    callbacks=[\n",
    "        tf.keras.callbacks.EarlyStopping(monitor='val_accuracy', patience=5, min_delta=0.001)\n",
    "    ]\n",
    ")"
   ]
  },
  {
   "cell_type": "code",
   "execution_count": 36,
   "metadata": {},
   "outputs": [
    {
     "data": {
      "text/plain": [
       "dict_keys(['loss', 'accuracy', 'val_loss', 'val_accuracy'])"
      ]
     },
     "execution_count": 36,
     "metadata": {},
     "output_type": "execute_result"
    }
   ],
   "source": [
    "history_dict = history.history\n",
    "history_dict.keys()"
   ]
  },
  {
   "cell_type": "code",
   "execution_count": 37,
   "metadata": {},
   "outputs": [],
   "source": [
    "acc = history_dict['accuracy']\n",
    "val_acc = history_dict['val_accuracy']\n",
    "loss = history_dict['loss']\n",
    "val_loss = history_dict['val_loss']"
   ]
  },
  {
   "cell_type": "code",
   "execution_count": 38,
   "metadata": {},
   "outputs": [],
   "source": [
    "epochs = range(1, len(acc) + 1) "
   ]
  },
  {
   "cell_type": "code",
   "execution_count": 39,
   "metadata": {},
   "outputs": [
    {
     "data": {
      "image/png": "[encoded data removed]",
      "text/plain": [
       "<Figure size 648x360 with 1 Axes>"
      ]
     },
     "metadata": {
      "needs_background": "light"
     },
     "output_type": "display_data"
    }
   ],
   "source": [
    "# \"bo\" is for \"blue dot\"\n",
    "plt.figure(figsize=(9, 5))\n",
    "plt.plot(epochs, loss, 'bo', label='Training loss')\n",
    "# b is for \"solid blue line\"\n",
    "plt.plot(epochs, val_loss, 'b', label='Validation loss')\n",
    "plt.title('Training and validation loss')\n",
    "plt.xlabel('Epochs')\n",
    "plt.ylabel('Loss')\n",
    "plt.grid(True)\n",
    "plt.legend()\n",
    "\n",
    "plt.show()"
   ]
  },
  {
   "cell_type": "code",
   "execution_count": 40,
   "metadata": {},
   "outputs": [
    {
     "data": {
      "image/png": "[encoded data removed]",
      "text/plain": [
       "<Figure size 648x360 with 1 Axes>"
      ]
     },
     "metadata": {
      "needs_background": "light"
     },
     "output_type": "display_data"
    }
   ],
   "source": [
    "plt.figure(figsize=(9, 5))\n",
    "plt.plot(epochs, acc, 'bo', label='Training acc')\n",
    "plt.plot(epochs, val_acc, 'b', label='Validation acc')\n",
    "plt.title('Training and validation accuracy')\n",
    "plt.xlabel('Epochs')\n",
    "plt.ylabel('Accuracy')\n",
    "plt.grid(True)\n",
    "plt.legend()\n",
    "\n",
    "plt.show()"
   ]
  },
  {
   "cell_type": "code",
   "execution_count": 41,
   "metadata": {},
   "outputs": [],
   "source": [
    "def print_my_examples(inputs, results, actual_values=None, limit=None):\n",
    "    if actual_values is None:\n",
    "        result_for_printing = [f'input:\\n\"{inputs[i]}\"\\nscore: {results[i][0]:.6f}' for i in range(len(inputs))]\n",
    "    else:\n",
    "        result_for_printing = [f'input:\\n\"{inputs[i]}\"\\nscore: {results[i][0]:.6f}\\nactual value:{actual_values[i]}' for i in range(len(inputs))]\n",
    "    if limit:\n",
    "        result_for_printing = result_for_printing[:limit]\n",
    "    print(*result_for_printing, sep='\\n\\n')"
   ]
  },
  {
   "cell_type": "code",
   "execution_count": 42,
   "metadata": {},
   "outputs": [
    {
     "name": "stdout",
     "output_type": "stream",
     "text": [
      "input:\n",
      "\"Amazingly fun co-op RPG with tons of content and surprisingly deep and varied combat. Easily my favourite board game.\"\n",
      "score: 0.999999\n",
      "actual value:1\n",
      "\n",
      "input:\n",
      "\"I really enjoy the game.  Setup is tedious, and having to juggle multiple campaigns for different gaming groups can be a pain.\"\n",
      "score: 0.668128\n",
      "actual value:1\n",
      "\n",
      "input:\n",
      "\"Theme is incredible.  One of the best, most immersive table top experiences I have had.  Quality of components is a big upside including a ridiculous level of detail.  While there is a pretty significant amount of luck, I find that the strategy is enough to overcome, or at least mitigate most of it.  This is, in my opinion, the quitensential dungeon crawler that all other measure against, and it has set the bar very high.  Cons include price of entry, setup time, some fiddly rules and exceptions, long play times (which can be seen as a pro), and a pretty steep learning curve.  With multiple plays, the game starts to click, and when it does, this will eat your free time like no other.\"\n",
      "score: 0.992041\n",
      "actual value:1\n",
      "\n",
      "input:\n",
      "\"Modern-euro done right! Clearly influenced by other games, but still fresh in execution (rondel, workerplacement, deckbuild, engine, race etc). The mechanics flow well together and makes sense thematicly.  Not a game i would introduce to casual gamers, the teacher should at least know the game well. Was overwhelmed when first started to play, but as soon the iconography was understood the game started to click.  \"\n",
      "score: 0.989010\n",
      "actual value:1\n",
      "\n",
      "input:\n",
      "\"Love it, love it so much I bought 2 coresets, this has been played to max, almost every other day since I got it in hand, - we are getting beatup a lot, which is how it should be, random is what random is but this game is still great, if only from current lack of upgrade options, ui would say this is a perfect game that is slowly replacing a few other games (ie Lord of the rings lcg)\"\n",
      "score: 0.996153\n",
      "actual value:1\n",
      "\n",
      "input:\n",
      "\"Kickstarter Infinity Pledge\"\n",
      "score: 0.987598\n",
      "actual value:1\n",
      "\n",
      "input:\n",
      "\"Base game Kickstarter Jan 2018  Brass full bundle pledge - Brass Lancashire deluxe - Brass Birmingham deluxe\"\n",
      "score: 0.999390\n",
      "actual value:1\n",
      "\n",
      "input:\n",
      "\"All time favorite for my wife and I. \"\n",
      "score: 0.996364\n",
      "actual value:1\n",
      "\n",
      "input:\n",
      "\"Some mechanics feel weird and forced just to make the game appear unique. It's a neat game regardless even though nothing special\"\n",
      "score: 0.223122\n",
      "actual value:1\n",
      "\n",
      "input:\n",
      "\"The asymmetry shines in this one. Wish it were slightly more robust solo and I believe there are some player generated variants that help with that.\"\n",
      "score: 0.999906\n",
      "actual value:1\n"
     ]
    }
   ],
   "source": [
    "inputs = x_train[:10]\n",
    "outputs = y_train[:10]\n",
    "results = tf.sigmoid(model.predict(tf.constant(inputs)))\n",
    "print_my_examples(inputs, results, outputs)"
   ]
  },
  {
   "cell_type": "code",
   "execution_count": 43,
   "metadata": {},
   "outputs": [],
   "source": [
    "## APPLY MODEL ON NON-RATED COMMENTS"
   ]
  },
  {
   "cell_type": "code",
   "execution_count": 44,
   "metadata": {},
   "outputs": [
    {
     "name": "stdout",
     "output_type": "stream",
     "text": [
      "input:\n",
      "\"Probably my next game. Cool subject and currently #3 (!!!)\"\n",
      "score: 0.996114\n",
      "\n",
      "input:\n",
      "\"Mayday Chimera Orange P Sleeves\"\n",
      "score: 0.999019\n",
      "\n",
      "input:\n",
      "\"Sleeved with Arcane Tinmen Non Glare - Standard - 234 cards\"\n",
      "score: 0.999862\n",
      "\n",
      "input:\n",
      "\"LD. Complex cooperative game with interesting theme. Is it better than Robinson Crusoe? Doesnt feel so +/-\"\n",
      "score: 0.760621\n",
      "\n",
      "input:\n",
      "\"Its very annoying seeing a bunch of people give a game that hasnt come out a bunch of bad ratings. Especially when someone like jamie has put so much time and care into this project. \"\n",
      "score: 0.428900\n",
      "\n",
      "input:\n",
      "\"Kickstarter Galactic councelor pledge.\"\n",
      "score: 0.990439\n",
      "\n",
      "input:\n",
      "\"Using \"Want to Buy\" to keep track of games I'm interested in for 2 Players\"\n",
      "score: 0.998869\n",
      "\n",
      "input:\n",
      "\"Art Connoisseur Collector's Edition + Invaders from Afar expansion + The Wind Gambit expansion + The Rise of Fenris expansion + Encounters expansion + Metal Coins\"\n",
      "score: 0.997554\n",
      "\n",
      "input:\n",
      "\"Play this over and over, best with 2 or 3 players though. Otherwie it takes quite long.\"\n",
      "score: 0.991540\n",
      "\n",
      "input:\n",
      "\"Rahdo says this is the best fantasy style cooperative game in existence to this point. So incredibly fun he says. Tom Vassel really likes this game also. This game is soo much fun Tom Vassel says that he would RATHER PLAY this game than a computer game. This game is worth the hype!\"\n",
      "score: 0.997577\n",
      "\n",
      "input:\n",
      "\"This is a good game, becausi i never plaj wit this one before. A good game is like a good foud, or a good bridge. Or a good helicopter. I will scoring in englis, because it is a very cool and trendy thing bye now. The englis is the nev latin, bye now, tets left and right, of course you du.  22/X\"\n",
      "score: 0.956405\n",
      "\n",
      "input:\n",
      "\"The artwork is definitely what caught my attention, but after reading some reviews it appears that it isn't just a \"looker\", but fun and satisfying as well. This is definitely on my wishlist!\"\n",
      "score: 0.916303\n",
      "\n",
      "input:\n",
      "\"Actually owned by Dragonhandx\"\n",
      "score: 0.997820\n",
      "\n",
      "input:\n",
      "\"Apparently is much more immersive with the separately purchased big map.\"\n",
      "score: 0.994828\n",
      "\n",
      "input:\n",
      "\"Great Western Trail je hra, ve které je úkolem hráče dopravit své stádo krav do Kansas City a následně ho vlakem dopravit do dalších míst rozsáhlé severní Ameriky. To se děje pomocí několika postav a lokací, samozřejmě s ohledem na protihráče. Čím větší a hodnotnější stádo provedete mapou, tím lépe pro vás. Jak to již bývá zvykem, hráč s nejvyšším počtem bodů vyhrává. Hry využívá kombinaci deckbuildingu, worker placementu a odemykání akcí.\"\n",
      "score: 0.999523\n",
      "\n",
      "input:\n",
      "\"Sleeved. [thing=291432]Ms. Marvel (2019)[/thing] [thing=295782]Thor (2020)[/thing] Sleeves needed for expansions. gray yellow.\"\n",
      "score: 0.998018\n",
      "\n",
      "input:\n",
      "\"Board game barrage described it as Innovation craziness in an economic game like Through the Ages. Perfect.\"\n",
      "score: 0.963808\n",
      "\n",
      "input:\n",
      "\"played 5 times, very good condition - $37\"\n",
      "score: 0.835941\n",
      "\n",
      "input:\n",
      "\"2nd copy for parts for 5-6 player games\"\n",
      "score: 0.792568\n",
      "\n",
      "input:\n",
      "\"Uncanny Pledge Marvel United: X-Men The Horsemen of Apocalypse expansion First Class expansion Blue Team expansion Gold Team expansion Phoenix Five expansion Deadpool expansion Days of Future Past expansion Fantastic Four expansion Exclusive Villain Team: Toad, Pyro, and Blob Exclusive Hero: Storm (Mohawk) Exclusive Hero: Old Man Logan $295  Add-ons Classic Cardboard Locations $25  Plastic Tokens $40  X-Men Cardboard Locations $20  Classic Cardboard Villain Dashboards $20  X-Men Cardboard Villain Dashboards $25  Shipping Belgium  New total $425 ABOUT €354\"\n",
      "score: 0.731978\n",
      "\n",
      "input:\n",
      "\"No lo he jugado todavía. Solo he leído las reglas.\"\n",
      "score: 0.241668\n",
      "\n",
      "input:\n",
      "\"Includes Solo Scenarios, Folded Space organizer and various PDF scenarios\"\n",
      "score: 0.999088\n",
      "\n",
      "input:\n",
      "\"1 - 5 players (best 4), 90 - 115 min, Age: 14+  Scythe is an engine-building game set in an alternate-history 1920s period. It is a time of farming and war, broken hearts and rusted gears, innovation and valor. In Scythe, each player represents a character from one of five factions of Eastern Europe who are attempting to earn their fortune and claim their faction's stake in the land around the mysterious Factory. Players conquer territory, enlist new recruits, reap resources, gain villagers, build structures, and activate monstrous mechs.\"\n",
      "score: 0.974347\n",
      "\n",
      "input:\n",
      "\"Bundled with Calico: Kickstarter Promo Cats\"\n",
      "score: 0.996567\n",
      "\n",
      "input:\n",
      "\"1–4 players  Best with 3 players Playing Time_60-120 Min  Subdomain_Strategy Games, Thematic  Category_Adventure, Exploration, Fantasy, Fighting, Miniatures   Aivja kolekcijā\"\n",
      "score: 0.999833\n"
     ]
    }
   ],
   "source": [
    "not_rated_comments = not_rated_comments.sample(frac=1)\n",
    "results = tf.sigmoid(model.predict(tf.constant(list(not_rated_comments.value.astype(str)))))\n",
    "print_my_examples(list(not_rated_comments.value), results, limit=25)"
   ]
  },
  {
   "cell_type": "markdown",
   "metadata": {},
   "source": [
    "## COMBINE RATED COMMENTS AND NOT-RATED COMMENTS WITH PREDICTED RATING"
   ]
  },
  {
   "cell_type": "code",
   "execution_count": 45,
   "metadata": {},
   "outputs": [
    {
     "data": {
      "text/html": [
       "<div>\n",
       "<style scoped>\n",
       "    .dataframe tbody tr th:only-of-type {\n",
       "        vertical-align: middle;\n",
       "    }\n",
       "\n",
       "    .dataframe tbody tr th {\n",
       "        vertical-align: top;\n",
       "    }\n",
       "\n",
       "    .dataframe thead th {\n",
       "        text-align: right;\n",
       "    }\n",
       "</style>\n",
       "<table border=\"1\" class=\"dataframe\">\n",
       "  <thead>\n",
       "    <tr style=\"text-align: right;\">\n",
       "      <th></th>\n",
       "      <th>id</th>\n",
       "      <th>username</th>\n",
       "      <th>rating</th>\n",
       "      <th>value</th>\n",
       "      <th>comment_len</th>\n",
       "    </tr>\n",
       "  </thead>\n",
       "  <tbody>\n",
       "    <tr>\n",
       "      <th>11307</th>\n",
       "      <td>271324</td>\n",
       "      <td>foonisha</td>\n",
       "      <td>9.0</td>\n",
       "      <td>POSITIVES - Great Rulebook, simple rules that ...</td>\n",
       "      <td>694</td>\n",
       "    </tr>\n",
       "    <tr>\n",
       "      <th>30122</th>\n",
       "      <td>193738</td>\n",
       "      <td>gohrns</td>\n",
       "      <td>7.5</td>\n",
       "      <td>Auction 7/17  Punched.</td>\n",
       "      <td>14</td>\n",
       "    </tr>\n",
       "    <tr>\n",
       "      <th>51119</th>\n",
       "      <td>162886</td>\n",
       "      <td>russonc</td>\n",
       "      <td>10.0</td>\n",
       "      <td>Mainly play solo (2 characters), but enjoy wit...</td>\n",
       "      <td>293</td>\n",
       "    </tr>\n",
       "    <tr>\n",
       "      <th>61398</th>\n",
       "      <td>174430</td>\n",
       "      <td>PoppaKrunch</td>\n",
       "      <td>10.0</td>\n",
       "      <td>The hype is genuinely well deserved, its a bri...</td>\n",
       "      <td>371</td>\n",
       "    </tr>\n",
       "    <tr>\n",
       "      <th>65652</th>\n",
       "      <td>167791</td>\n",
       "      <td>Patmol</td>\n",
       "      <td>10.0</td>\n",
       "      <td>A Must Have</td>\n",
       "      <td>9</td>\n",
       "    </tr>\n",
       "  </tbody>\n",
       "</table>\n",
       "</div>"
      ],
      "text/plain": [
       "           id     username rating  \\\n",
       "11307  271324     foonisha    9.0   \n",
       "30122  193738       gohrns    7.5   \n",
       "51119  162886      russonc   10.0   \n",
       "61398  174430  PoppaKrunch   10.0   \n",
       "65652  167791       Patmol   10.0   \n",
       "\n",
       "                                                   value  comment_len  \n",
       "11307  POSITIVES - Great Rulebook, simple rules that ...          694  \n",
       "30122                             Auction 7/17  Punched.           14  \n",
       "51119  Mainly play solo (2 characters), but enjoy wit...          293  \n",
       "61398  The hype is genuinely well deserved, its a bri...          371  \n",
       "65652                                        A Must Have            9  "
      ]
     },
     "execution_count": 45,
     "metadata": {},
     "output_type": "execute_result"
    }
   ],
   "source": [
    "rated_comments.head()"
   ]
  },
  {
   "cell_type": "code",
   "execution_count": 46,
   "metadata": {},
   "outputs": [
    {
     "data": {
      "text/html": [
       "<div>\n",
       "<style scoped>\n",
       "    .dataframe tbody tr th:only-of-type {\n",
       "        vertical-align: middle;\n",
       "    }\n",
       "\n",
       "    .dataframe tbody tr th {\n",
       "        vertical-align: top;\n",
       "    }\n",
       "\n",
       "    .dataframe thead th {\n",
       "        text-align: right;\n",
       "    }\n",
       "</style>\n",
       "<table border=\"1\" class=\"dataframe\">\n",
       "  <thead>\n",
       "    <tr style=\"text-align: right;\">\n",
       "      <th></th>\n",
       "      <th>id</th>\n",
       "      <th>rating_mean</th>\n",
       "      <th>rating_count</th>\n",
       "    </tr>\n",
       "  </thead>\n",
       "  <tbody>\n",
       "    <tr>\n",
       "      <th>0</th>\n",
       "      <td>162886</td>\n",
       "      <td>8.350861</td>\n",
       "      <td>3483</td>\n",
       "    </tr>\n",
       "    <tr>\n",
       "      <th>1</th>\n",
       "      <td>167355</td>\n",
       "      <td>8.417982</td>\n",
       "      <td>1773</td>\n",
       "    </tr>\n",
       "    <tr>\n",
       "      <th>2</th>\n",
       "      <td>167791</td>\n",
       "      <td>8.210249</td>\n",
       "      <td>8205</td>\n",
       "    </tr>\n",
       "    <tr>\n",
       "      <th>3</th>\n",
       "      <td>169786</td>\n",
       "      <td>8.100792</td>\n",
       "      <td>7309</td>\n",
       "    </tr>\n",
       "    <tr>\n",
       "      <th>4</th>\n",
       "      <td>174430</td>\n",
       "      <td>8.550854</td>\n",
       "      <td>6302</td>\n",
       "    </tr>\n",
       "  </tbody>\n",
       "</table>\n",
       "</div>"
      ],
      "text/plain": [
       "       id  rating_mean  rating_count\n",
       "0  162886     8.350861          3483\n",
       "1  167355     8.417982          1773\n",
       "2  167791     8.210249          8205\n",
       "3  169786     8.100792          7309\n",
       "4  174430     8.550854          6302"
      ]
     },
     "execution_count": 46,
     "metadata": {},
     "output_type": "execute_result"
    }
   ],
   "source": [
    "rated_comments['rating'] = rated_comments.rating.astype(float)\n",
    "rated_comments_grouped = rated_comments.groupby('id').agg({'rating': ['mean', 'count']})\n",
    "rated_comments_grouped.columns = list(rated_comments_grouped.columns.map('_'.join))\n",
    "rated_comments_grouped = rated_comments_grouped.reset_index()\n",
    "rated_comments_grouped.head()"
   ]
  },
  {
   "cell_type": "code",
   "execution_count": 47,
   "metadata": {},
   "outputs": [],
   "source": [
    "not_rated_comments['rating'] = [round(float(r[0])*10, 1) for r in results]"
   ]
  },
  {
   "cell_type": "code",
   "execution_count": 48,
   "metadata": {},
   "outputs": [
    {
     "data": {
      "text/html": [
       "<div>\n",
       "<style scoped>\n",
       "    .dataframe tbody tr th:only-of-type {\n",
       "        vertical-align: middle;\n",
       "    }\n",
       "\n",
       "    .dataframe tbody tr th {\n",
       "        vertical-align: top;\n",
       "    }\n",
       "\n",
       "    .dataframe thead th {\n",
       "        text-align: right;\n",
       "    }\n",
       "</style>\n",
       "<table border=\"1\" class=\"dataframe\">\n",
       "  <thead>\n",
       "    <tr style=\"text-align: right;\">\n",
       "      <th></th>\n",
       "      <th>id</th>\n",
       "      <th>rating_mean</th>\n",
       "      <th>rating_count</th>\n",
       "    </tr>\n",
       "  </thead>\n",
       "  <tbody>\n",
       "    <tr>\n",
       "      <th>0</th>\n",
       "      <td>162886</td>\n",
       "      <td>8.747712</td>\n",
       "      <td>306</td>\n",
       "    </tr>\n",
       "    <tr>\n",
       "      <th>1</th>\n",
       "      <td>167355</td>\n",
       "      <td>9.119718</td>\n",
       "      <td>213</td>\n",
       "    </tr>\n",
       "    <tr>\n",
       "      <th>2</th>\n",
       "      <td>167791</td>\n",
       "      <td>8.836009</td>\n",
       "      <td>436</td>\n",
       "    </tr>\n",
       "    <tr>\n",
       "      <th>3</th>\n",
       "      <td>169786</td>\n",
       "      <td>8.661395</td>\n",
       "      <td>588</td>\n",
       "    </tr>\n",
       "    <tr>\n",
       "      <th>4</th>\n",
       "      <td>174430</td>\n",
       "      <td>8.648592</td>\n",
       "      <td>568</td>\n",
       "    </tr>\n",
       "  </tbody>\n",
       "</table>\n",
       "</div>"
      ],
      "text/plain": [
       "       id  rating_mean  rating_count\n",
       "0  162886     8.747712           306\n",
       "1  167355     9.119718           213\n",
       "2  167791     8.836009           436\n",
       "3  169786     8.661395           588\n",
       "4  174430     8.648592           568"
      ]
     },
     "execution_count": 48,
     "metadata": {},
     "output_type": "execute_result"
    }
   ],
   "source": [
    "not_rated_comments['rating'] = not_rated_comments.rating.astype(float)\n",
    "not_rated_comments_grouped = not_rated_comments.groupby('id').agg({'rating': ['mean', 'count']})\n",
    "not_rated_comments_grouped.columns = list(not_rated_comments_grouped.columns.map('_'.join))\n",
    "not_rated_comments_grouped = not_rated_comments_grouped.reset_index()\n",
    "not_rated_comments_grouped.head()"
   ]
  },
  {
   "cell_type": "code",
   "execution_count": 67,
   "metadata": {},
   "outputs": [],
   "source": [
    "grouped = rated_comments_grouped.merge(not_rated_comments_grouped, on='id', suffixes=('_review', '_comments'))\n",
    "grouped['id'] = grouped.id.astype(str)\n",
    "grouped = grouped.merge(pd.DataFrame(hot_array), on='id', how='right')\n",
    "grouped['rank'] = grouped['rank'].astype(int)\n",
    "grouped['url'] = grouped['id'].apply(lambda x: f\"https://boardgamegeek.com/boardgame/{x}\")"
   ]
  },
  {
   "cell_type": "code",
   "execution_count": 68,
   "metadata": {},
   "outputs": [
    {
     "data": {
      "text/html": [
       "<div>\n",
       "<style scoped>\n",
       "    .dataframe tbody tr th:only-of-type {\n",
       "        vertical-align: middle;\n",
       "    }\n",
       "\n",
       "    .dataframe tbody tr th {\n",
       "        vertical-align: top;\n",
       "    }\n",
       "\n",
       "    .dataframe thead th {\n",
       "        text-align: right;\n",
       "    }\n",
       "</style>\n",
       "<table border=\"1\" class=\"dataframe\">\n",
       "  <thead>\n",
       "    <tr style=\"text-align: right;\">\n",
       "      <th></th>\n",
       "      <th>id</th>\n",
       "      <th>rating_mean_review</th>\n",
       "      <th>rating_count_review</th>\n",
       "      <th>rating_mean_comments</th>\n",
       "      <th>rating_count_comments</th>\n",
       "      <th>rank</th>\n",
       "      <th>thumbnail</th>\n",
       "      <th>name</th>\n",
       "      <th>yearpublished</th>\n",
       "      <th>url</th>\n",
       "    </tr>\n",
       "  </thead>\n",
       "  <tbody>\n",
       "    <tr>\n",
       "      <th>0</th>\n",
       "      <td>337627</td>\n",
       "      <td>NaN</td>\n",
       "      <td>NaN</td>\n",
       "      <td>NaN</td>\n",
       "      <td>NaN</td>\n",
       "      <td>1</td>\n",
       "      <td>https://cf.geekdo-images.com/6ixWMkMQQFz7WMlLT...</td>\n",
       "      <td>Voidfall</td>\n",
       "      <td>2022</td>\n",
       "      <td>https://boardgamegeek.com/boardgame/337627</td>\n",
       "    </tr>\n",
       "    <tr>\n",
       "      <th>1</th>\n",
       "      <td>316624</td>\n",
       "      <td>9.307692</td>\n",
       "      <td>13.0</td>\n",
       "      <td>9.728571</td>\n",
       "      <td>7.0</td>\n",
       "      <td>2</td>\n",
       "      <td>https://cf.geekdo-images.com/eUiju5SqZbkNt8gnE...</td>\n",
       "      <td>Stationfall</td>\n",
       "      <td>2021</td>\n",
       "      <td>https://boardgamegeek.com/boardgame/316624</td>\n",
       "    </tr>\n",
       "    <tr>\n",
       "      <th>2</th>\n",
       "      <td>312484</td>\n",
       "      <td>7.939504</td>\n",
       "      <td>628.0</td>\n",
       "      <td>8.561905</td>\n",
       "      <td>63.0</td>\n",
       "      <td>3</td>\n",
       "      <td>https://cf.geekdo-images.com/6GqH14TJJhza86BX5...</td>\n",
       "      <td>Lost Ruins of Arnak</td>\n",
       "      <td>2020</td>\n",
       "      <td>https://boardgamegeek.com/boardgame/312484</td>\n",
       "    </tr>\n",
       "    <tr>\n",
       "      <th>3</th>\n",
       "      <td>277700</td>\n",
       "      <td>8.507895</td>\n",
       "      <td>38.0</td>\n",
       "      <td>8.969048</td>\n",
       "      <td>42.0</td>\n",
       "      <td>4</td>\n",
       "      <td>https://cf.geekdo-images.com/-JD8JLncWYMes9Q6Y...</td>\n",
       "      <td>Merchants Cove</td>\n",
       "      <td>2021</td>\n",
       "      <td>https://boardgamegeek.com/boardgame/277700</td>\n",
       "    </tr>\n",
       "    <tr>\n",
       "      <th>4</th>\n",
       "      <td>318977</td>\n",
       "      <td>7.897923</td>\n",
       "      <td>207.0</td>\n",
       "      <td>8.056250</td>\n",
       "      <td>16.0</td>\n",
       "      <td>5</td>\n",
       "      <td>https://cf.geekdo-images.com/1M-1d6fr3U9t670MC...</td>\n",
       "      <td>MicroMacro: Crime City</td>\n",
       "      <td>2020</td>\n",
       "      <td>https://boardgamegeek.com/boardgame/318977</td>\n",
       "    </tr>\n",
       "  </tbody>\n",
       "</table>\n",
       "</div>"
      ],
      "text/plain": [
       "       id  rating_mean_review  rating_count_review  rating_mean_comments  \\\n",
       "0  337627                 NaN                  NaN                   NaN   \n",
       "1  316624            9.307692                 13.0              9.728571   \n",
       "2  312484            7.939504                628.0              8.561905   \n",
       "3  277700            8.507895                 38.0              8.969048   \n",
       "4  318977            7.897923                207.0              8.056250   \n",
       "\n",
       "   rating_count_comments  rank  \\\n",
       "0                    NaN     1   \n",
       "1                    7.0     2   \n",
       "2                   63.0     3   \n",
       "3                   42.0     4   \n",
       "4                   16.0     5   \n",
       "\n",
       "                                           thumbnail                    name  \\\n",
       "0  https://cf.geekdo-images.com/6ixWMkMQQFz7WMlLT...                Voidfall   \n",
       "1  https://cf.geekdo-images.com/eUiju5SqZbkNt8gnE...             Stationfall   \n",
       "2  https://cf.geekdo-images.com/6GqH14TJJhza86BX5...     Lost Ruins of Arnak   \n",
       "3  https://cf.geekdo-images.com/-JD8JLncWYMes9Q6Y...          Merchants Cove   \n",
       "4  https://cf.geekdo-images.com/1M-1d6fr3U9t670MC...  MicroMacro: Crime City   \n",
       "\n",
       "  yearpublished                                         url  \n",
       "0          2022  https://boardgamegeek.com/boardgame/337627  \n",
       "1          2021  https://boardgamegeek.com/boardgame/316624  \n",
       "2          2020  https://boardgamegeek.com/boardgame/312484  \n",
       "3          2021  https://boardgamegeek.com/boardgame/277700  \n",
       "4          2020  https://boardgamegeek.com/boardgame/318977  "
      ]
     },
     "execution_count": 68,
     "metadata": {},
     "output_type": "execute_result"
    }
   ],
   "source": [
    "grouped.head()"
   ]
  },
  {
   "cell_type": "code",
   "execution_count": 69,
   "metadata": {},
   "outputs": [],
   "source": [
    "grouped['fixed_rating'] = (grouped['rating_mean_review']*grouped['rating_count_review']+grouped['rating_mean_comments']*grouped['rating_count_comments']) / (grouped['rating_count_review']+grouped['rating_count_comments'])"
   ]
  },
  {
   "cell_type": "code",
   "execution_count": 70,
   "metadata": {},
   "outputs": [
    {
     "data": {
      "text/html": [
       "<div>\n",
       "<style scoped>\n",
       "    .dataframe tbody tr th:only-of-type {\n",
       "        vertical-align: middle;\n",
       "    }\n",
       "\n",
       "    .dataframe tbody tr th {\n",
       "        vertical-align: top;\n",
       "    }\n",
       "\n",
       "    .dataframe thead th {\n",
       "        text-align: right;\n",
       "    }\n",
       "</style>\n",
       "<table border=\"1\" class=\"dataframe\">\n",
       "  <thead>\n",
       "    <tr style=\"text-align: right;\">\n",
       "      <th></th>\n",
       "      <th>id</th>\n",
       "      <th>rating_mean_review</th>\n",
       "      <th>rating_count_review</th>\n",
       "      <th>rating_mean_comments</th>\n",
       "      <th>rating_count_comments</th>\n",
       "      <th>rank</th>\n",
       "      <th>thumbnail</th>\n",
       "      <th>name</th>\n",
       "      <th>yearpublished</th>\n",
       "      <th>url</th>\n",
       "      <th>fixed_rating</th>\n",
       "    </tr>\n",
       "  </thead>\n",
       "  <tbody>\n",
       "    <tr>\n",
       "      <th>0</th>\n",
       "      <td>337627</td>\n",
       "      <td>NaN</td>\n",
       "      <td>NaN</td>\n",
       "      <td>NaN</td>\n",
       "      <td>NaN</td>\n",
       "      <td>1</td>\n",
       "      <td>https://cf.geekdo-images.com/6ixWMkMQQFz7WMlLT...</td>\n",
       "      <td>Voidfall</td>\n",
       "      <td>2022</td>\n",
       "      <td>https://boardgamegeek.com/boardgame/337627</td>\n",
       "      <td>NaN</td>\n",
       "    </tr>\n",
       "    <tr>\n",
       "      <th>1</th>\n",
       "      <td>316624</td>\n",
       "      <td>9.307692</td>\n",
       "      <td>13.0</td>\n",
       "      <td>9.728571</td>\n",
       "      <td>7.0</td>\n",
       "      <td>2</td>\n",
       "      <td>https://cf.geekdo-images.com/eUiju5SqZbkNt8gnE...</td>\n",
       "      <td>Stationfall</td>\n",
       "      <td>2021</td>\n",
       "      <td>https://boardgamegeek.com/boardgame/316624</td>\n",
       "      <td>9.455000</td>\n",
       "    </tr>\n",
       "    <tr>\n",
       "      <th>2</th>\n",
       "      <td>312484</td>\n",
       "      <td>7.939504</td>\n",
       "      <td>628.0</td>\n",
       "      <td>8.561905</td>\n",
       "      <td>63.0</td>\n",
       "      <td>3</td>\n",
       "      <td>https://cf.geekdo-images.com/6GqH14TJJhza86BX5...</td>\n",
       "      <td>Lost Ruins of Arnak</td>\n",
       "      <td>2020</td>\n",
       "      <td>https://boardgamegeek.com/boardgame/312484</td>\n",
       "      <td>7.996250</td>\n",
       "    </tr>\n",
       "    <tr>\n",
       "      <th>3</th>\n",
       "      <td>277700</td>\n",
       "      <td>8.507895</td>\n",
       "      <td>38.0</td>\n",
       "      <td>8.969048</td>\n",
       "      <td>42.0</td>\n",
       "      <td>4</td>\n",
       "      <td>https://cf.geekdo-images.com/-JD8JLncWYMes9Q6Y...</td>\n",
       "      <td>Merchants Cove</td>\n",
       "      <td>2021</td>\n",
       "      <td>https://boardgamegeek.com/boardgame/277700</td>\n",
       "      <td>8.750000</td>\n",
       "    </tr>\n",
       "    <tr>\n",
       "      <th>4</th>\n",
       "      <td>318977</td>\n",
       "      <td>7.897923</td>\n",
       "      <td>207.0</td>\n",
       "      <td>8.056250</td>\n",
       "      <td>16.0</td>\n",
       "      <td>5</td>\n",
       "      <td>https://cf.geekdo-images.com/1M-1d6fr3U9t670MC...</td>\n",
       "      <td>MicroMacro: Crime City</td>\n",
       "      <td>2020</td>\n",
       "      <td>https://boardgamegeek.com/boardgame/318977</td>\n",
       "      <td>7.909283</td>\n",
       "    </tr>\n",
       "  </tbody>\n",
       "</table>\n",
       "</div>"
      ],
      "text/plain": [
       "       id  rating_mean_review  rating_count_review  rating_mean_comments  \\\n",
       "0  337627                 NaN                  NaN                   NaN   \n",
       "1  316624            9.307692                 13.0              9.728571   \n",
       "2  312484            7.939504                628.0              8.561905   \n",
       "3  277700            8.507895                 38.0              8.969048   \n",
       "4  318977            7.897923                207.0              8.056250   \n",
       "\n",
       "   rating_count_comments  rank  \\\n",
       "0                    NaN     1   \n",
       "1                    7.0     2   \n",
       "2                   63.0     3   \n",
       "3                   42.0     4   \n",
       "4                   16.0     5   \n",
       "\n",
       "                                           thumbnail                    name  \\\n",
       "0  https://cf.geekdo-images.com/6ixWMkMQQFz7WMlLT...                Voidfall   \n",
       "1  https://cf.geekdo-images.com/eUiju5SqZbkNt8gnE...             Stationfall   \n",
       "2  https://cf.geekdo-images.com/6GqH14TJJhza86BX5...     Lost Ruins of Arnak   \n",
       "3  https://cf.geekdo-images.com/-JD8JLncWYMes9Q6Y...          Merchants Cove   \n",
       "4  https://cf.geekdo-images.com/1M-1d6fr3U9t670MC...  MicroMacro: Crime City   \n",
       "\n",
       "  yearpublished                                         url  fixed_rating  \n",
       "0          2022  https://boardgamegeek.com/boardgame/337627           NaN  \n",
       "1          2021  https://boardgamegeek.com/boardgame/316624      9.455000  \n",
       "2          2020  https://boardgamegeek.com/boardgame/312484      7.996250  \n",
       "3          2021  https://boardgamegeek.com/boardgame/277700      8.750000  \n",
       "4          2020  https://boardgamegeek.com/boardgame/318977      7.909283  "
      ]
     },
     "execution_count": 70,
     "metadata": {},
     "output_type": "execute_result"
    }
   ],
   "source": [
    "grouped.head()"
   ]
  },
  {
   "cell_type": "code",
   "execution_count": 71,
   "metadata": {},
   "outputs": [],
   "source": [
    "grouped['thumbnail'] = grouped['thumbnail'].apply(lambda x: f'<img src=\"{x}\" width=\"124\" />')"
   ]
  },
  {
   "cell_type": "code",
   "execution_count": 72,
   "metadata": {},
   "outputs": [],
   "source": [
    "grouped['name'] = grouped.apply(lambda x: f'<a href=\"{x[\"url\"]}\">{x[\"name\"]}</a>', axis=1)"
   ]
  },
  {
   "cell_type": "code",
   "execution_count": 73,
   "metadata": {},
   "outputs": [],
   "source": [
    "grouped = grouped[['thumbnail', 'name', 'rating_mean_review', 'rating_mean_comments', 'fixed_rating', 'rank', 'yearpublished']]"
   ]
  },
  {
   "cell_type": "code",
   "execution_count": 74,
   "metadata": {},
   "outputs": [],
   "source": [
    "def display_topn(by, n=5, ascending=True):\n",
    "    temp_df = grouped.sort_values(by, ascending=ascending).head(n)\n",
    "    temp_df.index=list(range(1, n+1))\n",
    "    return HTML(temp_df.to_html(escape=False, classes='table table-striped'))"
   ]
  },
  {
   "cell_type": "code",
   "execution_count": 75,
   "metadata": {},
   "outputs": [
    {
     "data": {
      "text/html": [
       "<table border=\"1\" class=\"dataframe table table-striped\">\n",
       "  <thead>\n",
       "    <tr style=\"text-align: right;\">\n",
       "      <th></th>\n",
       "      <th>thumbnail</th>\n",
       "      <th>name</th>\n",
       "      <th>rating_mean_review</th>\n",
       "      <th>rating_mean_comments</th>\n",
       "      <th>fixed_rating</th>\n",
       "      <th>rank</th>\n",
       "      <th>yearpublished</th>\n",
       "    </tr>\n",
       "  </thead>\n",
       "  <tbody>\n",
       "    <tr>\n",
       "      <th>1</th>\n",
       "      <td><img src=\"https://cf.geekdo-images.com/6ixWMkMQQFz7WMlLT0aHWg__thumb/img/lbE0fqB5FHozp8g9ggzSYcLQPgo=/fit-in/200x150/filters:strip_icc()/pic6153215.jpg\" width=\"124\" /></td>\n",
       "      <td><a href=\"https://boardgamegeek.com/boardgame/337627\">Voidfall</a></td>\n",
       "      <td>NaN</td>\n",
       "      <td>NaN</td>\n",
       "      <td>NaN</td>\n",
       "      <td>1</td>\n",
       "      <td>2022</td>\n",
       "    </tr>\n",
       "    <tr>\n",
       "      <th>2</th>\n",
       "      <td><img src=\"https://cf.geekdo-images.com/eUiju5SqZbkNt8gnEofrTw__thumb/img/zNkmLNyeXJGOY24FeAAf4U67ejU=/fit-in/200x150/filters:strip_icc()/pic6035127.png\" width=\"124\" /></td>\n",
       "      <td><a href=\"https://boardgamegeek.com/boardgame/316624\">Stationfall</a></td>\n",
       "      <td>9.307692</td>\n",
       "      <td>9.728571</td>\n",
       "      <td>9.455000</td>\n",
       "      <td>2</td>\n",
       "      <td>2021</td>\n",
       "    </tr>\n",
       "    <tr>\n",
       "      <th>3</th>\n",
       "      <td><img src=\"https://cf.geekdo-images.com/6GqH14TJJhza86BX5HCLEQ__thumb/img/J8SVmGOJXZGxNjkT3xYNQU7Haxg=/fit-in/200x150/filters:strip_icc()/pic5674958.jpg\" width=\"124\" /></td>\n",
       "      <td><a href=\"https://boardgamegeek.com/boardgame/312484\">Lost Ruins of Arnak</a></td>\n",
       "      <td>7.939504</td>\n",
       "      <td>8.561905</td>\n",
       "      <td>7.996250</td>\n",
       "      <td>3</td>\n",
       "      <td>2020</td>\n",
       "    </tr>\n",
       "    <tr>\n",
       "      <th>4</th>\n",
       "      <td><img src=\"https://cf.geekdo-images.com/-JD8JLncWYMes9Q6YIgorg__thumb/img/Ce6a64m5DxVae_ZXnAsrgdEnqBQ=/fit-in/200x150/filters:strip_icc()/pic6136538.jpg\" width=\"124\" /></td>\n",
       "      <td><a href=\"https://boardgamegeek.com/boardgame/277700\">Merchants Cove</a></td>\n",
       "      <td>8.507895</td>\n",
       "      <td>8.969048</td>\n",
       "      <td>8.750000</td>\n",
       "      <td>4</td>\n",
       "      <td>2021</td>\n",
       "    </tr>\n",
       "    <tr>\n",
       "      <th>5</th>\n",
       "      <td><img src=\"https://cf.geekdo-images.com/1M-1d6fr3U9t670MCVOTeg__thumb/img/aR9LNVhRr_hnIIoYwxFUTb8rPMk=/fit-in/200x150/filters:strip_icc()/pic5896816.jpg\" width=\"124\" /></td>\n",
       "      <td><a href=\"https://boardgamegeek.com/boardgame/318977\">MicroMacro: Crime City</a></td>\n",
       "      <td>7.897923</td>\n",
       "      <td>8.056250</td>\n",
       "      <td>7.909283</td>\n",
       "      <td>5</td>\n",
       "      <td>2020</td>\n",
       "    </tr>\n",
       "  </tbody>\n",
       "</table>"
      ],
      "text/plain": [
       "<IPython.core.display.HTML object>"
      ]
     },
     "execution_count": 75,
     "metadata": {},
     "output_type": "execute_result"
    }
   ],
   "source": [
    "# TOP N RANK\n",
    "display_topn(by='rank', n=TOP_N)"
   ]
  },
  {
   "cell_type": "code",
   "execution_count": 76,
   "metadata": {},
   "outputs": [
    {
     "data": {
      "text/html": [
       "<table border=\"1\" class=\"dataframe table table-striped\">\n",
       "  <thead>\n",
       "    <tr style=\"text-align: right;\">\n",
       "      <th></th>\n",
       "      <th>thumbnail</th>\n",
       "      <th>name</th>\n",
       "      <th>rating_mean_review</th>\n",
       "      <th>rating_mean_comments</th>\n",
       "      <th>fixed_rating</th>\n",
       "      <th>rank</th>\n",
       "      <th>yearpublished</th>\n",
       "    </tr>\n",
       "  </thead>\n",
       "  <tbody>\n",
       "    <tr>\n",
       "      <th>1</th>\n",
       "      <td><img src=\"https://cf.geekdo-images.com/4MGFzcFA267b_Hv2zTZsxQ__thumb/img/Wte_inyQRVkb6xm6R1xYTu3GlYY=/fit-in/200x150/filters:strip_icc()/pic5331800.jpg\" width=\"124\" /></td>\n",
       "      <td><a href=\"https://boardgamegeek.com/boardgame/306482\">ICE</a></td>\n",
       "      <td>9.750000</td>\n",
       "      <td>8.750000</td>\n",
       "      <td>9.416667</td>\n",
       "      <td>31</td>\n",
       "      <td>2022</td>\n",
       "    </tr>\n",
       "    <tr>\n",
       "      <th>2</th>\n",
       "      <td><img src=\"https://cf.geekdo-images.com/eUiju5SqZbkNt8gnEofrTw__thumb/img/zNkmLNyeXJGOY24FeAAf4U67ejU=/fit-in/200x150/filters:strip_icc()/pic6035127.png\" width=\"124\" /></td>\n",
       "      <td><a href=\"https://boardgamegeek.com/boardgame/316624\">Stationfall</a></td>\n",
       "      <td>9.307692</td>\n",
       "      <td>9.728571</td>\n",
       "      <td>9.455000</td>\n",
       "      <td>2</td>\n",
       "      <td>2021</td>\n",
       "    </tr>\n",
       "    <tr>\n",
       "      <th>3</th>\n",
       "      <td><img src=\"https://cf.geekdo-images.com/Oh3kHw6lweg6ru71Q16h2Q__thumb/img/e9XZdQe1ZcPpaq4Gy31OoWBB_V0=/fit-in/200x150/filters:strip_icc()/pic5235277.jpg\" width=\"124\" /></td>\n",
       "      <td><a href=\"https://boardgamegeek.com/boardgame/246900\">Eclipse: Second Dawn for the Galaxy</a></td>\n",
       "      <td>8.732574</td>\n",
       "      <td>8.684524</td>\n",
       "      <td>8.724721</td>\n",
       "      <td>43</td>\n",
       "      <td>2020</td>\n",
       "    </tr>\n",
       "    <tr>\n",
       "      <th>4</th>\n",
       "      <td><img src=\"https://cf.geekdo-images.com/dNXxWWcLHd67zOCz1_DV5g__thumb/img/LKLbu76Lt9XTRsSv1TC66uaSN40=/fit-in/200x150/filters:strip_icc()/pic5415822.png\" width=\"124\" /></td>\n",
       "      <td><a href=\"https://boardgamegeek.com/boardgame/297562\">Kemet: Blood and Sand</a></td>\n",
       "      <td>8.700000</td>\n",
       "      <td>8.701818</td>\n",
       "      <td>8.701250</td>\n",
       "      <td>44</td>\n",
       "      <td>2021</td>\n",
       "    </tr>\n",
       "    <tr>\n",
       "      <th>5</th>\n",
       "      <td><img src=\"https://cf.geekdo-images.com/x3zxjr-Vw5iU4yDPg70Jgw__thumb/img/o18rjEemoWaVru9Y2TyPwuIaRfE=/fit-in/200x150/filters:strip_icc()/pic3490053.jpg\" width=\"124\" /></td>\n",
       "      <td><a href=\"https://boardgamegeek.com/boardgame/224517\">Brass: Birmingham</a></td>\n",
       "      <td>8.691188</td>\n",
       "      <td>8.987879</td>\n",
       "      <td>8.718801</td>\n",
       "      <td>30</td>\n",
       "      <td>2018</td>\n",
       "    </tr>\n",
       "  </tbody>\n",
       "</table>"
      ],
      "text/plain": [
       "<IPython.core.display.HTML object>"
      ]
     },
     "execution_count": 76,
     "metadata": {},
     "output_type": "execute_result"
    }
   ],
   "source": [
    "# TOP N REVIEW RANK\n",
    "display_topn(by='rating_mean_review', n=TOP_N, ascending=False)"
   ]
  },
  {
   "cell_type": "code",
   "execution_count": 77,
   "metadata": {},
   "outputs": [
    {
     "data": {
      "text/html": [
       "<table border=\"1\" class=\"dataframe table table-striped\">\n",
       "  <thead>\n",
       "    <tr style=\"text-align: right;\">\n",
       "      <th></th>\n",
       "      <th>thumbnail</th>\n",
       "      <th>name</th>\n",
       "      <th>rating_mean_review</th>\n",
       "      <th>rating_mean_comments</th>\n",
       "      <th>fixed_rating</th>\n",
       "      <th>rank</th>\n",
       "      <th>yearpublished</th>\n",
       "    </tr>\n",
       "  </thead>\n",
       "  <tbody>\n",
       "    <tr>\n",
       "      <th>1</th>\n",
       "      <td><img src=\"https://cf.geekdo-images.com/eUiju5SqZbkNt8gnEofrTw__thumb/img/zNkmLNyeXJGOY24FeAAf4U67ejU=/fit-in/200x150/filters:strip_icc()/pic6035127.png\" width=\"124\" /></td>\n",
       "      <td><a href=\"https://boardgamegeek.com/boardgame/316624\">Stationfall</a></td>\n",
       "      <td>9.307692</td>\n",
       "      <td>9.728571</td>\n",
       "      <td>9.455000</td>\n",
       "      <td>2</td>\n",
       "      <td>2021</td>\n",
       "    </tr>\n",
       "    <tr>\n",
       "      <th>2</th>\n",
       "      <td><img src=\"https://cf.geekdo-images.com/4MGFzcFA267b_Hv2zTZsxQ__thumb/img/Wte_inyQRVkb6xm6R1xYTu3GlYY=/fit-in/200x150/filters:strip_icc()/pic5331800.jpg\" width=\"124\" /></td>\n",
       "      <td><a href=\"https://boardgamegeek.com/boardgame/306482\">ICE</a></td>\n",
       "      <td>9.750000</td>\n",
       "      <td>8.750000</td>\n",
       "      <td>9.416667</td>\n",
       "      <td>31</td>\n",
       "      <td>2022</td>\n",
       "    </tr>\n",
       "    <tr>\n",
       "      <th>3</th>\n",
       "      <td><img src=\"https://cf.geekdo-images.com/-JD8JLncWYMes9Q6YIgorg__thumb/img/Ce6a64m5DxVae_ZXnAsrgdEnqBQ=/fit-in/200x150/filters:strip_icc()/pic6136538.jpg\" width=\"124\" /></td>\n",
       "      <td><a href=\"https://boardgamegeek.com/boardgame/277700\">Merchants Cove</a></td>\n",
       "      <td>8.507895</td>\n",
       "      <td>8.969048</td>\n",
       "      <td>8.750000</td>\n",
       "      <td>4</td>\n",
       "      <td>2021</td>\n",
       "    </tr>\n",
       "    <tr>\n",
       "      <th>4</th>\n",
       "      <td><img src=\"https://cf.geekdo-images.com/Oh3kHw6lweg6ru71Q16h2Q__thumb/img/e9XZdQe1ZcPpaq4Gy31OoWBB_V0=/fit-in/200x150/filters:strip_icc()/pic5235277.jpg\" width=\"124\" /></td>\n",
       "      <td><a href=\"https://boardgamegeek.com/boardgame/246900\">Eclipse: Second Dawn for the Galaxy</a></td>\n",
       "      <td>8.732574</td>\n",
       "      <td>8.684524</td>\n",
       "      <td>8.724721</td>\n",
       "      <td>43</td>\n",
       "      <td>2020</td>\n",
       "    </tr>\n",
       "    <tr>\n",
       "      <th>5</th>\n",
       "      <td><img src=\"https://cf.geekdo-images.com/x3zxjr-Vw5iU4yDPg70Jgw__thumb/img/o18rjEemoWaVru9Y2TyPwuIaRfE=/fit-in/200x150/filters:strip_icc()/pic3490053.jpg\" width=\"124\" /></td>\n",
       "      <td><a href=\"https://boardgamegeek.com/boardgame/224517\">Brass: Birmingham</a></td>\n",
       "      <td>8.691188</td>\n",
       "      <td>8.987879</td>\n",
       "      <td>8.718801</td>\n",
       "      <td>30</td>\n",
       "      <td>2018</td>\n",
       "    </tr>\n",
       "  </tbody>\n",
       "</table>"
      ],
      "text/plain": [
       "<IPython.core.display.HTML object>"
      ]
     },
     "execution_count": 77,
     "metadata": {},
     "output_type": "execute_result"
    }
   ],
   "source": [
    "# TOP N FIXED RANK\n",
    "display_topn(by='fixed_rating', n=TOP_N, ascending=False)"
   ]
  },
  {
   "cell_type": "code",
   "execution_count": 60,
   "metadata": {},
   "outputs": [],
   "source": [
    "# model.save('saved_model\\my_model')"
   ]
  },
  {
   "cell_type": "code",
   "execution_count": 61,
   "metadata": {},
   "outputs": [],
   "source": [
    "# saved_model = tf.keras.models.load_model('saved_model\\my_model')"
   ]
  },
  {
   "cell_type": "code",
   "execution_count": 62,
   "metadata": {},
   "outputs": [],
   "source": [
    "# some examples on \"long\" comments vs short comments"
   ]
  },
  {
   "cell_type": "code",
   "execution_count": 63,
   "metadata": {},
   "outputs": [],
   "source": [
    "not_rated_comments['comment_len'] = not_rated_comments['value'].str.len()"
   ]
  },
  {
   "cell_type": "code",
   "execution_count": 64,
   "metadata": {},
   "outputs": [
    {
     "name": "stdout",
     "output_type": "stream",
     "text": [
      "input:\n",
      "\"Need to play more but so far I love the theme, art and little bird facts on the cards. The mechanics are smooth and as far as engine building goes it seems to be a big step up from something like Splendor.\"\n",
      "score: 0.836213\n",
      "\n",
      "input:\n",
      "\"Soloable: Have Steam App.  Beyond high rating, it supposedly plays solo very well, so add to short-list.\"\n",
      "score: 0.998872\n",
      "\n",
      "input:\n",
      "\"'Civ' type game. 4x: \"explore, expand, exploit, and exterminate\".  Play for strategic thinking of how to win over your opponents in political and economical decisions.  Typically played in 2-3hr sessions.\"\n",
      "score: 0.854677\n",
      "\n",
      "input:\n",
      "\"Check it out (Monique and Naveen have a playthrough). Cards played through the game do things for you, but also the cards you have at the end matter, getting combinations and interactions between them. I think.\"\n",
      "score: 0.789940\n",
      "\n",
      "input:\n",
      "\"I supported the game during the KickStarter campaign, and my name now is written on the personal copy of Isaac Childres. I have had the opportunity to talk with him through messages and he is a very kind person, and a brilliant designer: Gloomhaven is a masterpiece!\"\n",
      "score: 0.999616\n",
      "\n",
      "input:\n",
      "\"Needs Sleeves + custom insert. With Shape Squad 3D printed Bird Houses and Food pack (misprints/corrected cards are replaced) .\"\n",
      "score: 0.999830\n",
      "\n",
      "input:\n",
      "\"Wingspan is a decent game, nice mechanics, interesting theme and it looks good (I will never forget those colored eggs or the dice tower).  But for me it was just another euro that I played for a couple of times and then it sat on my shelf.  So I have ended up selling it.\"\n",
      "score: 0.207762\n",
      "\n",
      "input:\n",
      "\"V.L. forum says this game will have solo potential. I'll definitely be interested in researching  this game. I think the Kickstarter launches April 18th maybe?\"\n",
      "score: 0.996717\n",
      "\n",
      "input:\n",
      "\"Hoping for a chance to play for real. After playing along with several videos, Im pretty confident about the rules. Probably a lot of fun.  No solo option\"\n",
      "score: 0.323200\n",
      "\n",
      "input:\n",
      "\"Watched Both Rahdo and Slickerdrips review of the game and knew that I had Found a game that my 72 yr. old father will want to learn and play instead of always cribbage!\"\n",
      "score: 0.945230\n",
      "\n",
      "input:\n",
      "\"Wouldn't mind owning, but my wife plays it only reluctantly. The writing is amusing and the stories are fun (though a few fall short). The sessions are long, at least with the people I've played with. If players don't take it too seriously it can play a bit quicker.\"\n",
      "score: 0.842518\n",
      "\n",
      "input:\n",
      "\"surprisingly elegant considering its pedigree. creates some great tension and deckbuilding is good if you buy two copies of base game. but it had to go because i didn't want to go down the rabbit hole of never ending expansions...\"\n",
      "score: 0.999823\n",
      "\n",
      "input:\n",
      "\"*** Permanent Collection *** Upgraded first player marker from MeepleSource. Upgraded food tokens from MeepleSource. Upgraded nectar tokens from MeepleSource. Upgraded bird feeder from TheShipshapeGamer.\"\n",
      "score: 0.999467\n",
      "\n",
      "input:\n",
      "\"Have RPG version on steam - faster setup, tear down & auto deck management. In addition: online coop, game save & not a big box! This game looks amazing... but it requires a group who will play regularly as it is both campaign and legacy.\"\n",
      "score: 0.992542\n",
      "\n",
      "input:\n",
      "\"Keep missing the sales for this.  It's always been a toss up to get this or War of the Ring.  But when my son said he would rather play this,  that was the tie breaker. \"\n",
      "score: 0.946119\n",
      "\n",
      "input:\n",
      "\"The smaller version of a gamer's game. But still a gamer's game. Be prepared to read a lot of rules. They needed more than one rule book to fit all the rules.\"\n",
      "score: 0.968763\n",
      "\n",
      "input:\n",
      "\"Sleeved.  63.5x88, 44X67). [thing=256377]Aftermath & Void Seeders (2019)[/thing] [thing=274532]Dice Tower 2019 Promo Cards (2019)[/thing] \"\n",
      "score: 0.999696\n",
      "\n",
      "input:\n",
      "\"****NOTE: THIS IS NOT THE GAME***** LISTING IS FOR KICKSTARTER BONUS CONTENT ONLY Includes: Kickstarter bonus content box contents; artbook; Untold Stories #1; Untold Stories #2\"\n",
      "score: 0.996979\n",
      "\n",
      "input:\n",
      "\"# 9 1-5 pls, best 3-4, 90-120 min, Strategy, euro style, resource management, card playing Weight 3.24/5 Great for solo\"\n",
      "score: 0.999235\n",
      "\n",
      "input:\n",
      "\"Not played  * Weight: Medium (2.38) * Player count: Community 1-5 / Best 3, 4 * Mechanisms:  Card Drafting / Set Collection  NEW\"\n",
      "score: 0.974759\n",
      "\n",
      "input:\n",
      "\"Area Majority / Influence Drafting Engine Building Hand Management Set Collection Solo Tile Placement\"\n",
      "score: 0.988310\n",
      "\n",
      "input:\n",
      "\"Sold 11/2020. I didn't forsee this getting to the table any time soon with more than 2 and with 2 it didn't seem to have enough excitement for us.\"\n",
      "score: 0.575736\n",
      "\n",
      "input:\n",
      "\"(Expansion) -Neoprene Mat -Galactic Events -Terran Ships -Rift Cannon -Extra Dice -Plastic Stands -Minor Species\"\n",
      "score: 0.668665\n",
      "\n",
      "input:\n",
      "\"Molt bon joc (estètica i jugabilitat). L'únic inconvenient és que l'habilitat d'un dels jugadors és poder repetir la mateixa acció cada torn, provocant una falta de varietat considerable).\"\n",
      "score: 0.359365\n",
      "\n",
      "input:\n",
      "\"With Meeple Source First Player Token, 6 sets of Painted Meeple Source bird player tokens, 5 neoprene player mats, Meeple Source Wooden Dice Tower autographed by EH, Neoprene Scoring and Goals Mat\"\n",
      "score: 0.995370\n"
     ]
    }
   ],
   "source": [
    "# some long comments\n",
    "some_long_comments = not_rated_comments.query(\"comment_len>100 and comment_len<300\").sample(frac=1)\n",
    "results = tf.sigmoid(model.predict(tf.constant(list(some_long_comments.value))))\n",
    "print_my_examples(list(some_long_comments.value), results, limit=25)"
   ]
  },
  {
   "cell_type": "code",
   "execution_count": null,
   "metadata": {},
   "outputs": [],
   "source": []
  }
 ],
 "metadata": {
  "kernelspec": {
   "display_name": "tensorflow2",
   "language": "python",
   "name": "tensorflow2"
  },
  "language_info": {
   "codemirror_mode": {
    "name": "ipython",
    "version": 3
   },
   "file_extension": ".py",
   "mimetype": "text/x-python",
   "name": "python",
   "nbconvert_exporter": "python",
   "pygments_lexer": "ipython3",
   "version": "3.8.8"
  }
 },
 "nbformat": 4,
 "nbformat_minor": 4
}
