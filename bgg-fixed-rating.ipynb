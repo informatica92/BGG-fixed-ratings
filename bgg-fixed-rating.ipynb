{
 "cells": [
  {
   "cell_type": "code",
   "execution_count": 1,
   "metadata": {},
   "outputs": [],
   "source": [
    "# ## BGG API\n",
    "# https://www.boardgamegeek.com/xmlapi2/thing?id=161599&comments=1\n",
    "# https://www.boardgamegeek.com/xmlapi2/hot?type=boardgame\n",
    "# ## NLP WITH TF\n",
    "# https://www.tensorflow.org/hub/tutorials/tf2_text_classification"
   ]
  },
  {
   "cell_type": "code",
   "execution_count": 2,
   "metadata": {},
   "outputs": [
    {
     "name": "stdout",
     "output_type": "stream",
     "text": [
      "Version:  2.1.0\n",
      "Eager mode:  True\n",
      "Hub version:  0.12.0\n",
      "GPU is NOT AVAILABLE\n"
     ]
    }
   ],
   "source": [
    "import tensorflow as tf\n",
    "import tensorflow_hub as hub\n",
    "import tensorflow_datasets as tfds\n",
    "\n",
    "import xml.etree.ElementTree as Xet\n",
    "import matplotlib.pyplot as plt\n",
    "import pandas as pd\n",
    "import numpy as np\n",
    "import requests\n",
    "from IPython.display import Image, HTML\n",
    "\n",
    "from langdetect import detect\n",
    "import re\n",
    "\n",
    "print(\"Version: \", tf.__version__)\n",
    "print(\"Eager mode: \", tf.executing_eagerly())\n",
    "print(\"Hub version: \", hub.__version__)\n",
    "print(\"GPU is\", \"available\" if tf.config.list_physical_devices('GPU') else \"NOT AVAILABLE\")"
   ]
  },
  {
   "cell_type": "code",
   "execution_count": 3,
   "metadata": {},
   "outputs": [],
   "source": [
    "GOOD_REVIEW_THRESHOLD = 7"
   ]
  },
  {
   "cell_type": "code",
   "execution_count": 4,
   "metadata": {},
   "outputs": [],
   "source": [
    "VAL_FRACTION = 0.25"
   ]
  },
  {
   "cell_type": "code",
   "execution_count": 154,
   "metadata": {},
   "outputs": [],
   "source": [
    "MIN_COMMENT_LEN = 10"
   ]
  },
  {
   "cell_type": "code",
   "execution_count": 65,
   "metadata": {},
   "outputs": [],
   "source": [
    "TOP_N = 5"
   ]
  },
  {
   "cell_type": "markdown",
   "metadata": {},
   "source": [
    "## GET DATA"
   ]
  },
  {
   "cell_type": "code",
   "execution_count": 6,
   "metadata": {},
   "outputs": [],
   "source": [
    "def get_hot_data():\n",
    "    hot = requests.get(\"https://www.boardgamegeek.com/xmlapi2/hot?type=boardgame\").content.decode()\n",
    "  \n",
    "    # Parsing the XML file\n",
    "    xmlparse = Xet.fromstring(hot)\n",
    "\n",
    "    hot_array = []\n",
    "    for item in xmlparse:\n",
    "        dict_element = {\n",
    "            \"id\": item.get(\"id\"),\n",
    "            \"rank\": item.get(\"rank\")\n",
    "        }\n",
    "        for option in item:\n",
    "            dict_element[option.tag] = option.get(\"value\")\n",
    "        hot_array.append(dict_element)\n",
    "    return hot_array"
   ]
  },
  {
   "cell_type": "code",
   "execution_count": 7,
   "metadata": {},
   "outputs": [],
   "source": [
    "def get_comments(id_array, verbose=1):\n",
    "    max_comments_per_page = 1\n",
    "    array_ids = [h['id'] for h in id_array]\n",
    "    ids = ','.join(array_ids)\n",
    "    page_size = 100\n",
    "    page_number = 0\n",
    "    comments_array = []\n",
    "\n",
    "    while max_comments_per_page > 0 and len(array_ids) > 0:\n",
    "        page_number += 1\n",
    "        if verbose>0 and page_number%verbose==0:\n",
    "            print(f\"page number = {page_number}\", end=\" \")\n",
    "        comments = requests.get(f\"https://www.boardgamegeek.com/xmlapi2/thing?id={ids}&comments=1&pagesize={page_size}&page={page_number}\").content.decode()\n",
    "\n",
    "        # Parsing the XML file\n",
    "        xmlparse = Xet.fromstring(comments)\n",
    "        comments_per_item = []\n",
    "        for item in xmlparse:        \n",
    "            for option in item:\n",
    "                if option.tag == 'comments':\n",
    "                    comments_per_page = 0\n",
    "                    for comment in option:\n",
    "                        comments_per_page += 1\n",
    "                        dict_element = {\n",
    "                            \"id\": item.get(\"id\"),\n",
    "                            \"username\": comment.get(\"username\"),\n",
    "                            \"rating\": comment.get(\"rating\"),\n",
    "                            \"value\": comment.get(\"value\")\n",
    "                        }\n",
    "                        comments_array.append(dict_element)\n",
    "                    if comments_per_page==0:\n",
    "                        array_ids.remove(item.get(\"id\"))\n",
    "                        ids = ','.join(array_ids)\n",
    "                    comments_per_item.append(comments_per_page)\n",
    "        max_comments_per_page = max(comments_per_item)\n",
    "        if verbose>0 and page_number%verbose==0:\n",
    "            print(f\"(max: {max(comments_per_item)}, len: {len(comments_per_item)})\")\n",
    "    comments_df = pd.DataFrame(comments_array)\n",
    "    print(f\"comments_df shape: {comments_df.shape}\")\n",
    "    return comments_df"
   ]
  },
  {
   "cell_type": "code",
   "execution_count": 8,
   "metadata": {},
   "outputs": [
    {
     "data": {
      "text/plain": [
       "[{'id': '316624',\n",
       "  'rank': '1',\n",
       "  'thumbnail': 'https://cf.geekdo-images.com/eUiju5SqZbkNt8gnEofrTw__thumb/img/zNkmLNyeXJGOY24FeAAf4U67ejU=/fit-in/200x150/filters:strip_icc()/pic6035127.png',\n",
       "  'name': 'Stationfall',\n",
       "  'yearpublished': '2021'},\n",
       " {'id': '328866',\n",
       "  'rank': '2',\n",
       "  'thumbnail': 'https://cf.geekdo-images.com/N0hCcxXw8d7vUjKfsYO6vg__thumb/img/K4DDlRzl6qlQf9L_oMLb7g9WUYo=/fit-in/200x150/filters:strip_icc()/pic6121929.png',\n",
       "  'name': \"My Father's Work\",\n",
       "  'yearpublished': '2021'}]"
      ]
     },
     "execution_count": 8,
     "metadata": {},
     "output_type": "execute_result"
    }
   ],
   "source": [
    "hot_array = get_hot_data()\n",
    "hot_array[:2]"
   ]
  },
  {
   "cell_type": "code",
   "execution_count": 164,
   "metadata": {},
   "outputs": [
    {
     "name": "stdout",
     "output_type": "stream",
     "text": [
      "reading dataframe from csv file...\n"
     ]
    },
    {
     "data": {
      "text/html": [
       "<div>\n",
       "<style scoped>\n",
       "    .dataframe tbody tr th:only-of-type {\n",
       "        vertical-align: middle;\n",
       "    }\n",
       "\n",
       "    .dataframe tbody tr th {\n",
       "        vertical-align: top;\n",
       "    }\n",
       "\n",
       "    .dataframe thead th {\n",
       "        text-align: right;\n",
       "    }\n",
       "</style>\n",
       "<table border=\"1\" class=\"dataframe\">\n",
       "  <thead>\n",
       "    <tr style=\"text-align: right;\">\n",
       "      <th></th>\n",
       "      <th>id</th>\n",
       "      <th>username</th>\n",
       "      <th>rating</th>\n",
       "      <th>value</th>\n",
       "    </tr>\n",
       "  </thead>\n",
       "  <tbody>\n",
       "    <tr>\n",
       "      <th>0</th>\n",
       "      <td>316624</td>\n",
       "      <td>abubrooklyn</td>\n",
       "      <td>10</td>\n",
       "      <td>Do yourself a favor and play this game.</td>\n",
       "    </tr>\n",
       "    <tr>\n",
       "      <th>1</th>\n",
       "      <td>316624</td>\n",
       "      <td>ajewo</td>\n",
       "      <td>N/A</td>\n",
       "      <td>Stationsfall seems to be similar to Nemesis.  ...</td>\n",
       "    </tr>\n",
       "    <tr>\n",
       "      <th>2</th>\n",
       "      <td>316624</td>\n",
       "      <td>Andy Mesa</td>\n",
       "      <td>10</td>\n",
       "      <td>This game tells the best stories of any game I...</td>\n",
       "    </tr>\n",
       "    <tr>\n",
       "      <th>3</th>\n",
       "      <td>316624</td>\n",
       "      <td>bradray</td>\n",
       "      <td>N/A</td>\n",
       "      <td>21/12 - Soloable</td>\n",
       "    </tr>\n",
       "    <tr>\n",
       "      <th>4</th>\n",
       "      <td>316624</td>\n",
       "      <td>brewsaki</td>\n",
       "      <td>9</td>\n",
       "      <td>The party game for heavy gamers. Okay, probabl...</td>\n",
       "    </tr>\n",
       "    <tr>\n",
       "      <th>...</th>\n",
       "      <td>...</td>\n",
       "      <td>...</td>\n",
       "      <td>...</td>\n",
       "      <td>...</td>\n",
       "    </tr>\n",
       "    <tr>\n",
       "      <th>104238</th>\n",
       "      <td>68448</td>\n",
       "      <td>_Dani_</td>\n",
       "      <td>N/A</td>\n",
       "      <td>My #1 on DSP 2011.</td>\n",
       "    </tr>\n",
       "    <tr>\n",
       "      <th>104239</th>\n",
       "      <td>68448</td>\n",
       "      <td>_mun_</td>\n",
       "      <td>9</td>\n",
       "      <td>A játékosok minden körben egyszerre cselekszen...</td>\n",
       "    </tr>\n",
       "    <tr>\n",
       "      <th>104240</th>\n",
       "      <td>68448</td>\n",
       "      <td>_teece_</td>\n",
       "      <td>7</td>\n",
       "      <td>Really enjoyable game and amazing that it stre...</td>\n",
       "    </tr>\n",
       "    <tr>\n",
       "      <th>104241</th>\n",
       "      <td>68448</td>\n",
       "      <td>_The_Inquiry_</td>\n",
       "      <td>6</td>\n",
       "      <td>Prior to 2020: 10 plays (est)  7 Wonders is ev...</td>\n",
       "    </tr>\n",
       "    <tr>\n",
       "      <th>104242</th>\n",
       "      <td>68448</td>\n",
       "      <td>_Viator_</td>\n",
       "      <td>10</td>\n",
       "      <td>Elegante: simple pero muy rejugable y profundo...</td>\n",
       "    </tr>\n",
       "  </tbody>\n",
       "</table>\n",
       "<p>104243 rows × 4 columns</p>\n",
       "</div>"
      ],
      "text/plain": [
       "            id       username rating  \\\n",
       "0       316624    abubrooklyn     10   \n",
       "1       316624          ajewo    N/A   \n",
       "2       316624      Andy Mesa     10   \n",
       "3       316624        bradray    N/A   \n",
       "4       316624       brewsaki      9   \n",
       "...        ...            ...    ...   \n",
       "104238   68448         _Dani_    N/A   \n",
       "104239   68448          _mun_      9   \n",
       "104240   68448        _teece_      7   \n",
       "104241   68448  _The_Inquiry_      6   \n",
       "104242   68448       _Viator_     10   \n",
       "\n",
       "                                                    value  \n",
       "0                 Do yourself a favor and play this game.  \n",
       "1       Stationsfall seems to be similar to Nemesis.  ...  \n",
       "2       This game tells the best stories of any game I...  \n",
       "3                                        21/12 - Soloable  \n",
       "4       The party game for heavy gamers. Okay, probabl...  \n",
       "...                                                   ...  \n",
       "104238                                 My #1 on DSP 2011.  \n",
       "104239  A játékosok minden körben egyszerre cselekszen...  \n",
       "104240  Really enjoyable game and amazing that it stre...  \n",
       "104241  Prior to 2020: 10 plays (est)  7 Wonders is ev...  \n",
       "104242  Elegante: simple pero muy rejugable y profundo...  \n",
       "\n",
       "[104243 rows x 4 columns]"
      ]
     },
     "execution_count": 164,
     "metadata": {},
     "output_type": "execute_result"
    }
   ],
   "source": [
    "try:\n",
    "    comments_df = pd.read_csv(f\"comments_{pd.datetime.now().strftime('%Y%m%d')}.csv\")\n",
    "    comments_df['rating'] = comments_df.rating.fillna('N/A')\n",
    "    print(\"reading dataframe from csv file...\")\n",
    "except:\n",
    "    print(\"missing csv file, getting new data using API...\")\n",
    "    comments_df = get_comments(hot_array, verbose=10)\n",
    "    comments_df.to_csv(f\"comments_{pd.datetime.now().strftime('%Y%m%d')}.csv\", index=False)\n",
    "comments_df"
   ]
  },
  {
   "cell_type": "markdown",
   "metadata": {},
   "source": [
    "## DATA CLEANING"
   ]
  },
  {
   "cell_type": "code",
   "execution_count": 165,
   "metadata": {},
   "outputs": [],
   "source": [
    "comments_df[\"value\"] = comments_df[\"value\"].astype(str)"
   ]
  },
  {
   "cell_type": "code",
   "execution_count": 166,
   "metadata": {},
   "outputs": [],
   "source": [
    "# REMOVE URLs FROM COMMENTS"
   ]
  },
  {
   "cell_type": "code",
   "execution_count": 167,
   "metadata": {},
   "outputs": [],
   "source": [
    "comments_df['value'] = [re.sub(r\"http\\S+\", \"\", v) for v in comments_df.value.values]"
   ]
  },
  {
   "cell_type": "code",
   "execution_count": 168,
   "metadata": {},
   "outputs": [],
   "source": [
    "# REMOVE SHORT COMMENTS\n",
    "def remove_short_comments(df: pd.DataFrame, min_len=25):\n",
    "    df_local = df.copy()\n",
    "    df_local['comment_len'] = [len(re.findall(\"[A-Za-z]\", v)) for v in df_local['value'].values]\n",
    "    df_local = df_local.query('comment_len>@min_len')\n",
    "    print(f\"removed {len(df)-len(df_local)} for 'remove_short_comments' - min len: {min_len}\")\n",
    "    return df_local.reset_index(drop=True)"
   ]
  },
  {
   "cell_type": "code",
   "execution_count": 169,
   "metadata": {},
   "outputs": [
    {
     "name": "stdout",
     "output_type": "stream",
     "text": [
      "removed 18712 for 'remove_short_comments' - min len: 10\n"
     ]
    }
   ],
   "source": [
    "comments_df = remove_short_comments(comments_df, MIN_COMMENT_LEN)"
   ]
  },
  {
   "cell_type": "code",
   "execution_count": 170,
   "metadata": {},
   "outputs": [],
   "source": [
    "# REMOVE NON ENGLISH COMMENTS"
   ]
  },
  {
   "cell_type": "code",
   "execution_count": 171,
   "metadata": {},
   "outputs": [],
   "source": [
    "# !conda install -c conda-forge langdetect"
   ]
  },
  {
   "cell_type": "code",
   "execution_count": 172,
   "metadata": {},
   "outputs": [],
   "source": [
    "# def add_comments_lang(df: pd.DataFrame):\n",
    "#     df_local = df.copy()\n",
    "#     df_local['lang'] = df['value'].apply(detect)\n",
    "#     return df_local.reset_index(drop=True)"
   ]
  },
  {
   "cell_type": "code",
   "execution_count": 173,
   "metadata": {},
   "outputs": [],
   "source": [
    "# comments_df = add_comments_lang(comments_df)"
   ]
  },
  {
   "cell_type": "code",
   "execution_count": 174,
   "metadata": {},
   "outputs": [],
   "source": [
    "# comments_df = comments_df.query('lang == \"en\"')"
   ]
  },
  {
   "cell_type": "markdown",
   "metadata": {},
   "source": [
    "## SPLIT RATED AND NON-RATED COMMENTS"
   ]
  },
  {
   "cell_type": "code",
   "execution_count": 175,
   "metadata": {},
   "outputs": [
    {
     "data": {
      "text/plain": [
       "9.0        14147\n",
       "10.0       13707\n",
       "N/A        13472\n",
       "8.0        13219\n",
       "7.0         7796\n",
       "           ...  \n",
       "7.78           1\n",
       "8.307          1\n",
       "9.82222        1\n",
       "8.01           1\n",
       "9.851          1\n",
       "Name: rating, Length: 505, dtype: int64"
      ]
     },
     "execution_count": 175,
     "metadata": {},
     "output_type": "execute_result"
    }
   ],
   "source": [
    "# count number of comments per rating (N/A included)\n",
    "comments_df.rating.value_counts()"
   ]
  },
  {
   "cell_type": "code",
   "execution_count": 176,
   "metadata": {},
   "outputs": [
    {
     "data": {
      "text/plain": [
       "(72059, 5)"
      ]
     },
     "execution_count": 176,
     "metadata": {},
     "output_type": "execute_result"
    }
   ],
   "source": [
    "# get rated comments only\n",
    "rated_comments = comments_df.query('rating != \"N/A\"')\n",
    "rated_comments.shape"
   ]
  },
  {
   "cell_type": "code",
   "execution_count": 177,
   "metadata": {},
   "outputs": [
    {
     "data": {
      "text/plain": [
       "(13472, 5)"
      ]
     },
     "execution_count": 177,
     "metadata": {},
     "output_type": "execute_result"
    }
   ],
   "source": [
    "# get non rated comments only\n",
    "not_rated_comments = comments_df.query('rating == \"N/A\"').reset_index(drop=True)\n",
    "not_rated_comments.shape"
   ]
  },
  {
   "cell_type": "markdown",
   "metadata": {},
   "source": [
    "## CREATE TRAINING AND VALIDATION DATA"
   ]
  },
  {
   "cell_type": "code",
   "execution_count": 178,
   "metadata": {},
   "outputs": [],
   "source": [
    "# use rated comments (reviews) to train the model"
   ]
  },
  {
   "cell_type": "code",
   "execution_count": 179,
   "metadata": {},
   "outputs": [],
   "source": [
    "rated_comments = rated_comments.sample(frac=1)"
   ]
  },
  {
   "cell_type": "code",
   "execution_count": 180,
   "metadata": {},
   "outputs": [],
   "source": [
    "# create training X and y\n",
    "train_examples = list(rated_comments.value)\n",
    "train_labels = list((rated_comments.rating.astype(float)>=GOOD_REVIEW_THRESHOLD).astype(int))"
   ]
  },
  {
   "cell_type": "code",
   "execution_count": 181,
   "metadata": {},
   "outputs": [
    {
     "name": "stdout",
     "output_type": "stream",
     "text": [
      "example of positive rating:\n"
     ]
    },
    {
     "data": {
      "text/plain": [
       "'One solo play in - it is very, very good'"
      ]
     },
     "execution_count": 181,
     "metadata": {},
     "output_type": "execute_result"
    }
   ],
   "source": [
    "print(\"example of positive rating:\")\n",
    "train_examples[train_labels.index(1)]"
   ]
  },
  {
   "cell_type": "code",
   "execution_count": 182,
   "metadata": {},
   "outputs": [
    {
     "name": "stdout",
     "output_type": "stream",
     "text": [
      "example of negative rating:\n"
     ]
    },
    {
     "data": {
      "text/plain": [
       "'Derivative worker placement, tableau building and resource conversion game, made appealing for the masses by pasting on a woodland fantasy theme.   There is nothing original here. Nor has the designer done anything to address the pitfalls that come with this style of game. Everdell is  almost entirely solitaire and requires players to track an ever-increasing amount of (mainly inconsequential) text information on cards which causes the game to drag out and become progressively less social.   Unlike something like Glory to Rome - where the escalation comes from the emergence of comically powerful synergies - Everdell requires that you manage lots of tiny bonuses to eke out an advantage. Too much like work for me.'"
      ]
     },
     "execution_count": 182,
     "metadata": {},
     "output_type": "execute_result"
    }
   ],
   "source": [
    "print(\"example of negative rating:\")\n",
    "train_examples[train_labels.index(0)]"
   ]
  },
  {
   "cell_type": "code",
   "execution_count": 183,
   "metadata": {},
   "outputs": [],
   "source": [
    "# create validation dataset from training\n",
    "validation_len = int(len(train_examples)*VAL_FRACTION)\n",
    "validation_len\n",
    "\n",
    "x_val = train_examples[:validation_len]\n",
    "x_train = train_examples[validation_len:]\n",
    "\n",
    "y_val = train_labels[:validation_len]\n",
    "y_train = train_labels[validation_len:]"
   ]
  },
  {
   "cell_type": "markdown",
   "metadata": {},
   "source": [
    "## COMPOSE MODEL"
   ]
  },
  {
   "cell_type": "code",
   "execution_count": 184,
   "metadata": {},
   "outputs": [
    {
     "data": {
      "text/plain": [
       "<tf.Tensor: shape=(2, 50), dtype=float32, numpy=\n",
       "array([[ 0.2618291 ,  0.29547334,  0.1943065 , -0.00152887, -0.31712422,\n",
       "        -0.16604643,  0.19421719,  0.00662077, -0.18812725,  0.12738162,\n",
       "        -0.02845218, -0.1744856 ,  0.05752607,  0.17589249,  0.16799822,\n",
       "        -0.06795907, -0.09380761, -0.0447794 , -0.00127761, -0.31048664,\n",
       "        -0.00466114, -0.28094324,  0.0282439 ,  0.21186173,  0.11990901,\n",
       "        -0.05831416, -0.25302923,  0.07916389,  0.20064394, -0.10920855,\n",
       "        -0.11755987,  0.1231904 , -0.1006802 , -0.24443187,  0.05833773,\n",
       "         0.10573306,  0.08196847, -0.00783767, -0.01822384, -0.64155054,\n",
       "         0.1858388 ,  0.06734556, -0.07792781,  0.01092514, -0.03860748,\n",
       "        -0.13075449, -0.15961896, -0.35644624,  0.09282151,  0.17655556],\n",
       "       [-0.03433626, -0.0701631 ,  0.10966539, -0.04545237,  0.01302877,\n",
       "         0.08797864,  0.06569442, -0.13900077, -0.26761138,  0.05664901,\n",
       "         0.1324492 , -0.04833564, -0.13775286,  0.02205073,  0.23299474,\n",
       "         0.3055752 , -0.15810198,  0.2026449 ,  0.09309982,  0.19039303,\n",
       "        -0.05591495, -0.11657893,  0.06650904, -0.286893  ,  0.01097949,\n",
       "         0.03605929, -0.07441664,  0.0603571 ,  0.15036769,  0.1277032 ,\n",
       "         0.23192014, -0.16519597, -0.05984223, -0.02137478,  0.17307298,\n",
       "        -0.11032708,  0.13674554,  0.16286835, -0.22677448,  0.17488267,\n",
       "         0.13733995,  0.12740141, -0.10617549,  0.03537314, -0.24199936,\n",
       "         0.02022473, -0.05404   ,  0.00108786,  0.18280555,  0.15835482]],\n",
       "      dtype=float32)>"
      ]
     },
     "execution_count": 184,
     "metadata": {},
     "output_type": "execute_result"
    }
   ],
   "source": [
    "model = \"https://tfhub.dev/google/nnlm-en-dim50/2\"\n",
    "hub_layer = hub.KerasLayer(model, input_shape=[], dtype=tf.string, trainable=True)\n",
    "hub_layer(train_examples[:2])"
   ]
  },
  {
   "cell_type": "code",
   "execution_count": 185,
   "metadata": {},
   "outputs": [
    {
     "name": "stdout",
     "output_type": "stream",
     "text": [
      "Model: \"sequential_1\"\n",
      "_________________________________________________________________\n",
      "Layer (type)                 Output Shape              Param #   \n",
      "=================================================================\n",
      "keras_layer_1 (KerasLayer)   (None, 50)                48190600  \n",
      "_________________________________________________________________\n",
      "dense_2 (Dense)              (None, 16)                816       \n",
      "_________________________________________________________________\n",
      "dense_3 (Dense)              (None, 1)                 17        \n",
      "=================================================================\n",
      "Total params: 48,191,433\n",
      "Trainable params: 48,191,433\n",
      "Non-trainable params: 0\n",
      "_________________________________________________________________\n"
     ]
    }
   ],
   "source": [
    "model = tf.keras.Sequential()\n",
    "model.add(hub_layer)\n",
    "model.add(tf.keras.layers.Dense(16, activation='relu'))\n",
    "model.add(tf.keras.layers.Dense(1))\n",
    "\n",
    "model.summary()"
   ]
  },
  {
   "cell_type": "code",
   "execution_count": 186,
   "metadata": {},
   "outputs": [],
   "source": [
    "model.compile(\n",
    "    optimizer='adam',\n",
    "    loss=tf.losses.BinaryCrossentropy(from_logits=True),\n",
    "    metrics=[tf.metrics.BinaryAccuracy(threshold=0.0, name='accuracy')]\n",
    ")"
   ]
  },
  {
   "cell_type": "markdown",
   "metadata": {},
   "source": [
    "## TRAINING MODEL "
   ]
  },
  {
   "cell_type": "code",
   "execution_count": 187,
   "metadata": {},
   "outputs": [
    {
     "name": "stdout",
     "output_type": "stream",
     "text": [
      "Train on 54045 samples, validate on 18014 samples\n",
      "Epoch 1/40\n",
      "54045/54045 - 32s - loss: 0.5003 - accuracy: 0.8280 - val_loss: 0.4135 - val_accuracy: 0.8359\n",
      "Epoch 2/40\n",
      "54045/54045 - 32s - loss: 0.3457 - accuracy: 0.8592 - val_loss: 0.3353 - val_accuracy: 0.8632\n",
      "Epoch 3/40\n",
      "54045/54045 - 32s - loss: 0.2825 - accuracy: 0.8858 - val_loss: 0.3178 - val_accuracy: 0.8721\n",
      "Epoch 4/40\n",
      "54045/54045 - 32s - loss: 0.2469 - accuracy: 0.9021 - val_loss: 0.3180 - val_accuracy: 0.8714\n",
      "Epoch 5/40\n",
      "54045/54045 - 32s - loss: 0.2208 - accuracy: 0.9133 - val_loss: 0.3278 - val_accuracy: 0.8684\n",
      "Epoch 6/40\n",
      "54045/54045 - 32s - loss: 0.1995 - accuracy: 0.9239 - val_loss: 0.3428 - val_accuracy: 0.8657\n",
      "Epoch 7/40\n",
      "54045/54045 - 32s - loss: 0.1815 - accuracy: 0.9316 - val_loss: 0.3640 - val_accuracy: 0.8621\n",
      "Epoch 8/40\n",
      "54045/54045 - 32s - loss: 0.1665 - accuracy: 0.9377 - val_loss: 0.3896 - val_accuracy: 0.8577\n"
     ]
    }
   ],
   "source": [
    "history = model.fit(\n",
    "    x_train,\n",
    "    y_train,\n",
    "    epochs=40,\n",
    "    batch_size=512,\n",
    "    validation_data=(x_val, y_val),\n",
    "    verbose=2,\n",
    "    callbacks=[\n",
    "        tf.keras.callbacks.EarlyStopping(monitor='val_accuracy', patience=5, min_delta=0.001)\n",
    "    ]\n",
    ")"
   ]
  },
  {
   "cell_type": "code",
   "execution_count": 188,
   "metadata": {},
   "outputs": [
    {
     "data": {
      "text/plain": [
       "dict_keys(['loss', 'accuracy', 'val_loss', 'val_accuracy'])"
      ]
     },
     "execution_count": 188,
     "metadata": {},
     "output_type": "execute_result"
    }
   ],
   "source": [
    "history_dict = history.history\n",
    "history_dict.keys()"
   ]
  },
  {
   "cell_type": "code",
   "execution_count": 189,
   "metadata": {},
   "outputs": [],
   "source": [
    "acc = history_dict['accuracy']\n",
    "val_acc = history_dict['val_accuracy']\n",
    "loss = history_dict['loss']\n",
    "val_loss = history_dict['val_loss']"
   ]
  },
  {
   "cell_type": "code",
   "execution_count": 190,
   "metadata": {},
   "outputs": [],
   "source": [
    "epochs = range(1, len(acc) + 1) "
   ]
  },
  {
   "cell_type": "code",
   "execution_count": 191,
   "metadata": {},
   "outputs": [
    {
     "data": {
      "image/png": "[encoded data removed]",
      "text/plain": [
       "<Figure size 648x360 with 1 Axes>"
      ]
     },
     "metadata": {
      "needs_background": "light"
     },
     "output_type": "display_data"
    }
   ],
   "source": [
    "# \"bo\" is for \"blue dot\"\n",
    "plt.figure(figsize=(9, 5))\n",
    "plt.plot(epochs, loss, 'bo', label='Training loss')\n",
    "# b is for \"solid blue line\"\n",
    "plt.plot(epochs, val_loss, 'b', label='Validation loss')\n",
    "plt.title('Training and validation loss')\n",
    "plt.xlabel('Epochs')\n",
    "plt.ylabel('Loss')\n",
    "plt.grid(True)\n",
    "plt.legend()\n",
    "\n",
    "plt.show()"
   ]
  },
  {
   "cell_type": "code",
   "execution_count": 192,
   "metadata": {},
   "outputs": [
    {
     "data": {
      "image/png": "[encoded data removed]",
      "text/plain": [
       "<Figure size 648x360 with 1 Axes>"
      ]
     },
     "metadata": {
      "needs_background": "light"
     },
     "output_type": "display_data"
    }
   ],
   "source": [
    "plt.figure(figsize=(9, 5))\n",
    "plt.plot(epochs, acc, 'bo', label='Training acc')\n",
    "plt.plot(epochs, val_acc, 'b', label='Validation acc')\n",
    "plt.title('Training and validation accuracy')\n",
    "plt.xlabel('Epochs')\n",
    "plt.ylabel('Accuracy')\n",
    "plt.grid(True)\n",
    "plt.legend()\n",
    "\n",
    "plt.show()"
   ]
  },
  {
   "cell_type": "code",
   "execution_count": 193,
   "metadata": {},
   "outputs": [],
   "source": [
    "def print_my_examples(inputs, results, actual_values=None, limit=None):\n",
    "    if actual_values is None:\n",
    "        result_for_printing = [f'input:\\n\"{inputs[i]}\"\\nscore: {results[i][0]:.6f}' for i in range(len(inputs))]\n",
    "    else:\n",
    "        result_for_printing = [f'input:\\n\"{inputs[i]}\"\\nscore: {results[i][0]:.6f}\\nactual value:{actual_values[i]}' for i in range(len(inputs))]\n",
    "    if limit:\n",
    "        result_for_printing = result_for_printing[:limit]\n",
    "    print(*result_for_printing, sep='\\n\\n')"
   ]
  },
  {
   "cell_type": "code",
   "execution_count": 194,
   "metadata": {},
   "outputs": [
    {
     "name": "stdout",
     "output_type": "stream",
     "text": [
      "input:\n",
      "\"Theme is terrific! 7 plays of base game, still finding rules missed. Expansions are great!\"\n",
      "score: 0.991206\n",
      "actual value:1\n",
      "\n",
      "input:\n",
      "\"Interesting game. Worker placement with fantastic art and spatial organization.\"\n",
      "score: 0.986148\n",
      "actual value:1\n",
      "\n",
      "input:\n",
      "\"The only Pfister game I truly dislike.\"\n",
      "score: 0.889542\n",
      "actual value:0\n",
      "\n",
      "input:\n",
      "\"Well earned reputation - one of my top picks to pull out with newer gamers. Still my favorite hand-drafting game. Have not played any expansions at this point.  Only complaint would be the difficulty of explaining Science to new people - intriguing scoring system but tends to intimidate.\"\n",
      "score: 0.999419\n",
      "actual value:1\n",
      "\n",
      "input:\n",
      "\"Euro game, a little deck building, area control, move your pawn game. Nice but not really my cup of tea.\"\n",
      "score: 0.117829\n",
      "actual value:0\n",
      "\n",
      "input:\n",
      "\"Excellent game.  There are a lot of choices and paths to explore, but turns flow quickly.  Mechanics make sense and are easy to teach.  Between asymmetric corporation abilities, cards, goals, and achievements, this game has a lot of replayability.  Players with AP can get bogged down with card triggers.\"\n",
      "score: 0.996352\n",
      "actual value:1\n",
      "\n",
      "input:\n",
      "\"This is one of the games where all the players need to be on the same level to enjoy this game. But even with the right group, the game is enjoyable only with max 4 otherwise, the combat will be happening throughout the game.  My Rating:  7.1  Components & Artwork: 9 Game Mechanics & Rules: 7 Ease of Learning: 6 Depth of Theme: 7.5 Replayability: 7 Turn Downtime: 5 Desirability to play again - 8\"\n",
      "score: 0.931427\n",
      "actual value:1\n",
      "\n",
      "input:\n",
      "\"Given a 9 after 1 play - immediately got buyers remorse after backing the second edition, assuming that there was no way this could live up to the hype and that I'd just been swept along by the hotness...Am delighted to discover that the whole package appears to be as good as advertised! great character development, interesting story bits and a superlative set of dungeon crawl mechanics that blow every other game in its class out of the water for me.    Of course I might discover things I don't like as we go along, or find out that some of the stuff to do with the ongoing stories of both the world and the individual characters don't work as well as they look like they will, but I'm confident I'll continue to be a big fan of this monster.   Just hope I get to play it regularly! \"\n",
      "score: 0.996831\n",
      "actual value:1\n",
      "\n",
      "input:\n",
      "\"Vendido para hacerme con la edicion en español\"\n",
      "score: 0.991481\n",
      "actual value:1\n",
      "\n",
      "input:\n",
      "\"Excellent game, high quality components and overall great fun.  Constantly delivers it's own epic story each playthrough.  Many moments to high drama, with a spicy touch of treachery, with friends.  If you rate a game by now often you reminisce game moments in the pub, this is top drawer!\"\n",
      "score: 0.999679\n",
      "actual value:1\n"
     ]
    }
   ],
   "source": [
    "inputs = x_train[:10]\n",
    "outputs = y_train[:10]\n",
    "results = tf.sigmoid(model.predict(tf.constant(inputs)))\n",
    "print_my_examples(inputs, results, outputs)"
   ]
  },
  {
   "cell_type": "code",
   "execution_count": 195,
   "metadata": {},
   "outputs": [],
   "source": [
    "## APPLY MODEL ON NON-RATED COMMENTS"
   ]
  },
  {
   "cell_type": "code",
   "execution_count": 196,
   "metadata": {},
   "outputs": [
    {
     "name": "stdout",
     "output_type": "stream",
     "text": [
      "input:\n",
      "\"Spiel.digital20\"\n",
      "score: 0.450875\n",
      "\n",
      "input:\n",
      "\"Deutsche Retail Edition (2020)\"\n",
      "score: 0.955479\n",
      "\n",
      "input:\n",
      "\"Added Herb Witches expansion.\"\n",
      "score: 0.999009\n",
      "\n",
      "input:\n",
      "\"Estimated, April 2021\"\n",
      "score: 0.997801\n",
      "\n",
      "input:\n",
      "\"Mike #19 solo game\"\n",
      "score: 0.990897\n",
      "\n",
      "input:\n",
      "\"Daniel's.  Sleeved w/ errata pack.  Includes playtest materials for Jagged Earth.\"\n",
      "score: 0.999705\n",
      "\n",
      "input:\n",
      "\"X-Upgrade Pack (KS)\"\n",
      "score: 0.618693\n",
      "\n",
      "input:\n",
      "\"x Herb Witches\"\n",
      "score: 0.999008\n",
      "\n",
      "input:\n",
      "\"Economic Games\"\n",
      "score: 0.852940\n",
      "\n",
      "input:\n",
      "\"strategy economic card management space: mars \"\n",
      "score: 0.817045\n",
      "\n",
      "input:\n",
      "\"PAX UNPLUGGED 2018\"\n",
      "score: 0.997518\n",
      "\n",
      "input:\n",
      "\"Bought it today as a Champion\"\n",
      "score: 0.991805\n",
      "\n",
      "input:\n",
      "\" Inkl. Feldherr Inlay\"\n",
      "score: 0.986108\n",
      "\n",
      "input:\n",
      "\"Print and Play, created\"\n",
      "score: 0.975314\n",
      "\n",
      "input:\n",
      "\"- Inventar vollständig: 18.03.2020\"\n",
      "score: 0.546113\n",
      "\n",
      "input:\n",
      "\"Secret Santa 2020 - can't wait to play!  Thanks, Santa!\"\n",
      "score: 0.997987\n",
      "\n",
      "input:\n",
      "\"Kickstarter deluxe, all stretch goals limited ed: 15358 / 20000 includes clay chips\"\n",
      "score: 0.942884\n",
      "\n",
      "input:\n",
      "\"The group loves this game, consider getting the expansions.\"\n",
      "score: 0.989769\n",
      "\n",
      "input:\n",
      "\"2020 acquisition.\"\n",
      "score: 0.960549\n",
      "\n",
      "input:\n",
      "\"Ready to play\"\n",
      "score: 0.932547\n",
      "\n",
      "input:\n",
      "\"KICKSTARTER EDITION Martin Wallace autographed sticker on inside box cover\"\n",
      "score: 0.999316\n",
      "\n",
      "input:\n",
      "\"best4 , best5 age10+\"\n",
      "score: 0.310428\n",
      "\n",
      "input:\n",
      "\"Digital Only\"\n",
      "score: 0.972147\n",
      "\n",
      "input:\n",
      "\"1-4 players, 60-120 minutes\"\n",
      "score: 0.864449\n",
      "\n",
      "input:\n",
      "\"1-4 90-120 minutes Best with 2-3\"\n",
      "score: 0.919204\n"
     ]
    }
   ],
   "source": [
    "not_rated_comments = not_rated_comments.sample(frac=1)\n",
    "results = tf.sigmoid(model.predict(tf.constant(list(not_rated_comments.value.astype(str)))))\n",
    "print_my_examples(list(not_rated_comments.value), results, limit=25)"
   ]
  },
  {
   "cell_type": "markdown",
   "metadata": {},
   "source": [
    "## COMBINE RATED COMMENTS AND NOT-RATED COMMENTS WITH PREDICTED RATING"
   ]
  },
  {
   "cell_type": "code",
   "execution_count": 197,
   "metadata": {},
   "outputs": [
    {
     "data": {
      "text/html": [
       "<div>\n",
       "<style scoped>\n",
       "    .dataframe tbody tr th:only-of-type {\n",
       "        vertical-align: middle;\n",
       "    }\n",
       "\n",
       "    .dataframe tbody tr th {\n",
       "        vertical-align: top;\n",
       "    }\n",
       "\n",
       "    .dataframe thead th {\n",
       "        text-align: right;\n",
       "    }\n",
       "</style>\n",
       "<table border=\"1\" class=\"dataframe\">\n",
       "  <thead>\n",
       "    <tr style=\"text-align: right;\">\n",
       "      <th></th>\n",
       "      <th>id</th>\n",
       "      <th>username</th>\n",
       "      <th>rating</th>\n",
       "      <th>value</th>\n",
       "      <th>comment_len</th>\n",
       "    </tr>\n",
       "  </thead>\n",
       "  <tbody>\n",
       "    <tr>\n",
       "      <th>57779</th>\n",
       "      <td>162886</td>\n",
       "      <td>sid_staddon</td>\n",
       "      <td>8.8</td>\n",
       "      <td>One solo play in - it is very, very good</td>\n",
       "      <td>29</td>\n",
       "    </tr>\n",
       "    <tr>\n",
       "      <th>7505</th>\n",
       "      <td>298047</td>\n",
       "      <td>kingsburglar</td>\n",
       "      <td>8.5</td>\n",
       "      <td>Kickstarter</td>\n",
       "      <td>11</td>\n",
       "    </tr>\n",
       "    <tr>\n",
       "      <th>82650</th>\n",
       "      <td>68448</td>\n",
       "      <td>roderic</td>\n",
       "      <td>7</td>\n",
       "      <td>Surprising depth or such a snappy little game,...</td>\n",
       "      <td>172</td>\n",
       "    </tr>\n",
       "    <tr>\n",
       "      <th>52354</th>\n",
       "      <td>199792</td>\n",
       "      <td>toblerdrone</td>\n",
       "      <td>5.5</td>\n",
       "      <td>Derivative worker placement, tableau building ...</td>\n",
       "      <td>590</td>\n",
       "    </tr>\n",
       "    <tr>\n",
       "      <th>33559</th>\n",
       "      <td>167791</td>\n",
       "      <td>chiefarmorer</td>\n",
       "      <td>10</td>\n",
       "      <td>Really nice theme and game play.  Works best i...</td>\n",
       "      <td>73</td>\n",
       "    </tr>\n",
       "  </tbody>\n",
       "</table>\n",
       "</div>"
      ],
      "text/plain": [
       "           id      username rating  \\\n",
       "57779  162886   sid_staddon    8.8   \n",
       "7505   298047  kingsburglar    8.5   \n",
       "82650   68448       roderic      7   \n",
       "52354  199792   toblerdrone    5.5   \n",
       "33559  167791  chiefarmorer     10   \n",
       "\n",
       "                                                   value  comment_len  \n",
       "57779           One solo play in - it is very, very good           29  \n",
       "7505                                         Kickstarter           11  \n",
       "82650  Surprising depth or such a snappy little game,...          172  \n",
       "52354  Derivative worker placement, tableau building ...          590  \n",
       "33559  Really nice theme and game play.  Works best i...           73  "
      ]
     },
     "execution_count": 197,
     "metadata": {},
     "output_type": "execute_result"
    }
   ],
   "source": [
    "rated_comments.head()"
   ]
  },
  {
   "cell_type": "code",
   "execution_count": 198,
   "metadata": {},
   "outputs": [
    {
     "data": {
      "text/html": [
       "<div>\n",
       "<style scoped>\n",
       "    .dataframe tbody tr th:only-of-type {\n",
       "        vertical-align: middle;\n",
       "    }\n",
       "\n",
       "    .dataframe tbody tr th {\n",
       "        vertical-align: top;\n",
       "    }\n",
       "\n",
       "    .dataframe thead th {\n",
       "        text-align: right;\n",
       "    }\n",
       "</style>\n",
       "<table border=\"1\" class=\"dataframe\">\n",
       "  <thead>\n",
       "    <tr style=\"text-align: right;\">\n",
       "      <th></th>\n",
       "      <th>id</th>\n",
       "      <th>rating_mean</th>\n",
       "      <th>rating_count</th>\n",
       "    </tr>\n",
       "  </thead>\n",
       "  <tbody>\n",
       "    <tr>\n",
       "      <th>0</th>\n",
       "      <td>68448</td>\n",
       "      <td>7.666599</td>\n",
       "      <td>10650</td>\n",
       "    </tr>\n",
       "    <tr>\n",
       "      <th>1</th>\n",
       "      <td>124361</td>\n",
       "      <td>8.163068</td>\n",
       "      <td>3366</td>\n",
       "    </tr>\n",
       "    <tr>\n",
       "      <th>2</th>\n",
       "      <td>162886</td>\n",
       "      <td>8.338957</td>\n",
       "      <td>3127</td>\n",
       "    </tr>\n",
       "    <tr>\n",
       "      <th>3</th>\n",
       "      <td>167355</td>\n",
       "      <td>8.372913</td>\n",
       "      <td>1614</td>\n",
       "    </tr>\n",
       "    <tr>\n",
       "      <th>4</th>\n",
       "      <td>167791</td>\n",
       "      <td>8.166990</td>\n",
       "      <td>7257</td>\n",
       "    </tr>\n",
       "  </tbody>\n",
       "</table>\n",
       "</div>"
      ],
      "text/plain": [
       "       id  rating_mean  rating_count\n",
       "0   68448     7.666599         10650\n",
       "1  124361     8.163068          3366\n",
       "2  162886     8.338957          3127\n",
       "3  167355     8.372913          1614\n",
       "4  167791     8.166990          7257"
      ]
     },
     "execution_count": 198,
     "metadata": {},
     "output_type": "execute_result"
    }
   ],
   "source": [
    "rated_comments['rating'] = rated_comments.rating.astype(float)\n",
    "rated_comments_grouped = rated_comments.groupby('id').agg({'rating': ['mean', 'count']})\n",
    "rated_comments_grouped.columns = list(rated_comments_grouped.columns.map('_'.join))\n",
    "rated_comments_grouped = rated_comments_grouped.reset_index()\n",
    "rated_comments_grouped.head()"
   ]
  },
  {
   "cell_type": "code",
   "execution_count": 199,
   "metadata": {},
   "outputs": [],
   "source": [
    "not_rated_comments['rating'] = [round(float(r[0])*10, 1) for r in results]"
   ]
  },
  {
   "cell_type": "code",
   "execution_count": 200,
   "metadata": {},
   "outputs": [
    {
     "data": {
      "text/html": [
       "<div>\n",
       "<style scoped>\n",
       "    .dataframe tbody tr th:only-of-type {\n",
       "        vertical-align: middle;\n",
       "    }\n",
       "\n",
       "    .dataframe tbody tr th {\n",
       "        vertical-align: top;\n",
       "    }\n",
       "\n",
       "    .dataframe thead th {\n",
       "        text-align: right;\n",
       "    }\n",
       "</style>\n",
       "<table border=\"1\" class=\"dataframe\">\n",
       "  <thead>\n",
       "    <tr style=\"text-align: right;\">\n",
       "      <th></th>\n",
       "      <th>id</th>\n",
       "      <th>rating_mean</th>\n",
       "      <th>rating_count</th>\n",
       "    </tr>\n",
       "  </thead>\n",
       "  <tbody>\n",
       "    <tr>\n",
       "      <th>0</th>\n",
       "      <td>68448</td>\n",
       "      <td>8.463096</td>\n",
       "      <td>1111</td>\n",
       "    </tr>\n",
       "    <tr>\n",
       "      <th>1</th>\n",
       "      <td>124361</td>\n",
       "      <td>8.735616</td>\n",
       "      <td>438</td>\n",
       "    </tr>\n",
       "    <tr>\n",
       "      <th>2</th>\n",
       "      <td>162886</td>\n",
       "      <td>8.654130</td>\n",
       "      <td>569</td>\n",
       "    </tr>\n",
       "    <tr>\n",
       "      <th>3</th>\n",
       "      <td>167355</td>\n",
       "      <td>8.665127</td>\n",
       "      <td>433</td>\n",
       "    </tr>\n",
       "    <tr>\n",
       "      <th>4</th>\n",
       "      <td>167791</td>\n",
       "      <td>8.767162</td>\n",
       "      <td>874</td>\n",
       "    </tr>\n",
       "  </tbody>\n",
       "</table>\n",
       "</div>"
      ],
      "text/plain": [
       "       id  rating_mean  rating_count\n",
       "0   68448     8.463096          1111\n",
       "1  124361     8.735616           438\n",
       "2  162886     8.654130           569\n",
       "3  167355     8.665127           433\n",
       "4  167791     8.767162           874"
      ]
     },
     "execution_count": 200,
     "metadata": {},
     "output_type": "execute_result"
    }
   ],
   "source": [
    "not_rated_comments['rating'] = not_rated_comments.rating.astype(float)\n",
    "not_rated_comments_grouped = not_rated_comments.groupby('id').agg({'rating': ['mean', 'count']})\n",
    "not_rated_comments_grouped.columns = list(not_rated_comments_grouped.columns.map('_'.join))\n",
    "not_rated_comments_grouped = not_rated_comments_grouped.reset_index()\n",
    "not_rated_comments_grouped.head()"
   ]
  },
  {
   "cell_type": "code",
   "execution_count": 201,
   "metadata": {},
   "outputs": [],
   "source": [
    "grouped = rated_comments_grouped.merge(not_rated_comments_grouped, on='id', suffixes=('_review', '_comments'))\n",
    "grouped['id'] = grouped.id.astype(str)\n",
    "grouped = grouped.merge(pd.DataFrame(hot_array), on='id')\n",
    "grouped['rank'] = grouped['rank'].astype(int)\n",
    "grouped['url'] = grouped['id'].apply(lambda x: f\"https://boardgamegeek.com/boardgame/{x}\")"
   ]
  },
  {
   "cell_type": "code",
   "execution_count": 202,
   "metadata": {},
   "outputs": [
    {
     "data": {
      "text/html": [
       "<div>\n",
       "<style scoped>\n",
       "    .dataframe tbody tr th:only-of-type {\n",
       "        vertical-align: middle;\n",
       "    }\n",
       "\n",
       "    .dataframe tbody tr th {\n",
       "        vertical-align: top;\n",
       "    }\n",
       "\n",
       "    .dataframe thead th {\n",
       "        text-align: right;\n",
       "    }\n",
       "</style>\n",
       "<table border=\"1\" class=\"dataframe\">\n",
       "  <thead>\n",
       "    <tr style=\"text-align: right;\">\n",
       "      <th></th>\n",
       "      <th>id</th>\n",
       "      <th>rating_mean_review</th>\n",
       "      <th>rating_count_review</th>\n",
       "      <th>rating_mean_comments</th>\n",
       "      <th>rating_count_comments</th>\n",
       "      <th>rank</th>\n",
       "      <th>thumbnail</th>\n",
       "      <th>name</th>\n",
       "      <th>yearpublished</th>\n",
       "      <th>url</th>\n",
       "    </tr>\n",
       "  </thead>\n",
       "  <tbody>\n",
       "    <tr>\n",
       "      <th>0</th>\n",
       "      <td>68448</td>\n",
       "      <td>7.666599</td>\n",
       "      <td>10650</td>\n",
       "      <td>8.463096</td>\n",
       "      <td>1111</td>\n",
       "      <td>41</td>\n",
       "      <td>https://cf.geekdo-images.com/RvFVTEpnbb4NM7k0I...</td>\n",
       "      <td>7 Wonders</td>\n",
       "      <td>2010</td>\n",
       "      <td>https://boardgamegeek.com/boardgame/68448</td>\n",
       "    </tr>\n",
       "    <tr>\n",
       "      <th>1</th>\n",
       "      <td>124361</td>\n",
       "      <td>8.163068</td>\n",
       "      <td>3366</td>\n",
       "      <td>8.735616</td>\n",
       "      <td>438</td>\n",
       "      <td>44</td>\n",
       "      <td>https://cf.geekdo-images.com/CzwSm8i7tkLz6cBnr...</td>\n",
       "      <td>Concordia</td>\n",
       "      <td>2013</td>\n",
       "      <td>https://boardgamegeek.com/boardgame/124361</td>\n",
       "    </tr>\n",
       "    <tr>\n",
       "      <th>2</th>\n",
       "      <td>162886</td>\n",
       "      <td>8.338957</td>\n",
       "      <td>3127</td>\n",
       "      <td>8.654130</td>\n",
       "      <td>569</td>\n",
       "      <td>17</td>\n",
       "      <td>https://cf.geekdo-images.com/a13ieMPP2s0KEaKNY...</td>\n",
       "      <td>Spirit Island</td>\n",
       "      <td>2017</td>\n",
       "      <td>https://boardgamegeek.com/boardgame/162886</td>\n",
       "    </tr>\n",
       "    <tr>\n",
       "      <th>3</th>\n",
       "      <td>167355</td>\n",
       "      <td>8.372913</td>\n",
       "      <td>1614</td>\n",
       "      <td>8.665127</td>\n",
       "      <td>433</td>\n",
       "      <td>36</td>\n",
       "      <td>https://cf.geekdo-images.com/tAqLpWxQ0Oo3GaPP3...</td>\n",
       "      <td>Nemesis</td>\n",
       "      <td>2018</td>\n",
       "      <td>https://boardgamegeek.com/boardgame/167355</td>\n",
       "    </tr>\n",
       "    <tr>\n",
       "      <th>4</th>\n",
       "      <td>167791</td>\n",
       "      <td>8.166990</td>\n",
       "      <td>7257</td>\n",
       "      <td>8.767162</td>\n",
       "      <td>874</td>\n",
       "      <td>22</td>\n",
       "      <td>https://cf.geekdo-images.com/wg9oOLcsKvDesSUdZ...</td>\n",
       "      <td>Terraforming Mars</td>\n",
       "      <td>2016</td>\n",
       "      <td>https://boardgamegeek.com/boardgame/167791</td>\n",
       "    </tr>\n",
       "  </tbody>\n",
       "</table>\n",
       "</div>"
      ],
      "text/plain": [
       "       id  rating_mean_review  rating_count_review  rating_mean_comments  \\\n",
       "0   68448            7.666599                10650              8.463096   \n",
       "1  124361            8.163068                 3366              8.735616   \n",
       "2  162886            8.338957                 3127              8.654130   \n",
       "3  167355            8.372913                 1614              8.665127   \n",
       "4  167791            8.166990                 7257              8.767162   \n",
       "\n",
       "   rating_count_comments  rank  \\\n",
       "0                   1111    41   \n",
       "1                    438    44   \n",
       "2                    569    17   \n",
       "3                    433    36   \n",
       "4                    874    22   \n",
       "\n",
       "                                           thumbnail               name  \\\n",
       "0  https://cf.geekdo-images.com/RvFVTEpnbb4NM7k0I...          7 Wonders   \n",
       "1  https://cf.geekdo-images.com/CzwSm8i7tkLz6cBnr...          Concordia   \n",
       "2  https://cf.geekdo-images.com/a13ieMPP2s0KEaKNY...      Spirit Island   \n",
       "3  https://cf.geekdo-images.com/tAqLpWxQ0Oo3GaPP3...            Nemesis   \n",
       "4  https://cf.geekdo-images.com/wg9oOLcsKvDesSUdZ...  Terraforming Mars   \n",
       "\n",
       "  yearpublished                                         url  \n",
       "0          2010   https://boardgamegeek.com/boardgame/68448  \n",
       "1          2013  https://boardgamegeek.com/boardgame/124361  \n",
       "2          2017  https://boardgamegeek.com/boardgame/162886  \n",
       "3          2018  https://boardgamegeek.com/boardgame/167355  \n",
       "4          2016  https://boardgamegeek.com/boardgame/167791  "
      ]
     },
     "execution_count": 202,
     "metadata": {},
     "output_type": "execute_result"
    }
   ],
   "source": [
    "grouped.head()"
   ]
  },
  {
   "cell_type": "code",
   "execution_count": 203,
   "metadata": {},
   "outputs": [],
   "source": [
    "grouped['fixed_rating'] = (grouped['rating_mean_review']*grouped['rating_count_review']+grouped['rating_mean_comments']*grouped['rating_count_comments']) / (grouped['rating_count_review']+grouped['rating_count_comments'])"
   ]
  },
  {
   "cell_type": "code",
   "execution_count": 204,
   "metadata": {},
   "outputs": [
    {
     "data": {
      "text/html": [
       "<div>\n",
       "<style scoped>\n",
       "    .dataframe tbody tr th:only-of-type {\n",
       "        vertical-align: middle;\n",
       "    }\n",
       "\n",
       "    .dataframe tbody tr th {\n",
       "        vertical-align: top;\n",
       "    }\n",
       "\n",
       "    .dataframe thead th {\n",
       "        text-align: right;\n",
       "    }\n",
       "</style>\n",
       "<table border=\"1\" class=\"dataframe\">\n",
       "  <thead>\n",
       "    <tr style=\"text-align: right;\">\n",
       "      <th></th>\n",
       "      <th>id</th>\n",
       "      <th>rating_mean_review</th>\n",
       "      <th>rating_count_review</th>\n",
       "      <th>rating_mean_comments</th>\n",
       "      <th>rating_count_comments</th>\n",
       "      <th>rank</th>\n",
       "      <th>thumbnail</th>\n",
       "      <th>name</th>\n",
       "      <th>yearpublished</th>\n",
       "      <th>url</th>\n",
       "      <th>fixed_rating</th>\n",
       "    </tr>\n",
       "  </thead>\n",
       "  <tbody>\n",
       "    <tr>\n",
       "      <th>0</th>\n",
       "      <td>68448</td>\n",
       "      <td>7.666599</td>\n",
       "      <td>10650</td>\n",
       "      <td>8.463096</td>\n",
       "      <td>1111</td>\n",
       "      <td>41</td>\n",
       "      <td>https://cf.geekdo-images.com/RvFVTEpnbb4NM7k0I...</td>\n",
       "      <td>7 Wonders</td>\n",
       "      <td>2010</td>\n",
       "      <td>https://boardgamegeek.com/boardgame/68448</td>\n",
       "      <td>7.741840</td>\n",
       "    </tr>\n",
       "    <tr>\n",
       "      <th>1</th>\n",
       "      <td>124361</td>\n",
       "      <td>8.163068</td>\n",
       "      <td>3366</td>\n",
       "      <td>8.735616</td>\n",
       "      <td>438</td>\n",
       "      <td>44</td>\n",
       "      <td>https://cf.geekdo-images.com/CzwSm8i7tkLz6cBnr...</td>\n",
       "      <td>Concordia</td>\n",
       "      <td>2013</td>\n",
       "      <td>https://boardgamegeek.com/boardgame/124361</td>\n",
       "      <td>8.228992</td>\n",
       "    </tr>\n",
       "    <tr>\n",
       "      <th>2</th>\n",
       "      <td>162886</td>\n",
       "      <td>8.338957</td>\n",
       "      <td>3127</td>\n",
       "      <td>8.654130</td>\n",
       "      <td>569</td>\n",
       "      <td>17</td>\n",
       "      <td>https://cf.geekdo-images.com/a13ieMPP2s0KEaKNY...</td>\n",
       "      <td>Spirit Island</td>\n",
       "      <td>2017</td>\n",
       "      <td>https://boardgamegeek.com/boardgame/162886</td>\n",
       "      <td>8.387478</td>\n",
       "    </tr>\n",
       "    <tr>\n",
       "      <th>3</th>\n",
       "      <td>167355</td>\n",
       "      <td>8.372913</td>\n",
       "      <td>1614</td>\n",
       "      <td>8.665127</td>\n",
       "      <td>433</td>\n",
       "      <td>36</td>\n",
       "      <td>https://cf.geekdo-images.com/tAqLpWxQ0Oo3GaPP3...</td>\n",
       "      <td>Nemesis</td>\n",
       "      <td>2018</td>\n",
       "      <td>https://boardgamegeek.com/boardgame/167355</td>\n",
       "      <td>8.434725</td>\n",
       "    </tr>\n",
       "    <tr>\n",
       "      <th>4</th>\n",
       "      <td>167791</td>\n",
       "      <td>8.166990</td>\n",
       "      <td>7257</td>\n",
       "      <td>8.767162</td>\n",
       "      <td>874</td>\n",
       "      <td>22</td>\n",
       "      <td>https://cf.geekdo-images.com/wg9oOLcsKvDesSUdZ...</td>\n",
       "      <td>Terraforming Mars</td>\n",
       "      <td>2016</td>\n",
       "      <td>https://boardgamegeek.com/boardgame/167791</td>\n",
       "      <td>8.231503</td>\n",
       "    </tr>\n",
       "  </tbody>\n",
       "</table>\n",
       "</div>"
      ],
      "text/plain": [
       "       id  rating_mean_review  rating_count_review  rating_mean_comments  \\\n",
       "0   68448            7.666599                10650              8.463096   \n",
       "1  124361            8.163068                 3366              8.735616   \n",
       "2  162886            8.338957                 3127              8.654130   \n",
       "3  167355            8.372913                 1614              8.665127   \n",
       "4  167791            8.166990                 7257              8.767162   \n",
       "\n",
       "   rating_count_comments  rank  \\\n",
       "0                   1111    41   \n",
       "1                    438    44   \n",
       "2                    569    17   \n",
       "3                    433    36   \n",
       "4                    874    22   \n",
       "\n",
       "                                           thumbnail               name  \\\n",
       "0  https://cf.geekdo-images.com/RvFVTEpnbb4NM7k0I...          7 Wonders   \n",
       "1  https://cf.geekdo-images.com/CzwSm8i7tkLz6cBnr...          Concordia   \n",
       "2  https://cf.geekdo-images.com/a13ieMPP2s0KEaKNY...      Spirit Island   \n",
       "3  https://cf.geekdo-images.com/tAqLpWxQ0Oo3GaPP3...            Nemesis   \n",
       "4  https://cf.geekdo-images.com/wg9oOLcsKvDesSUdZ...  Terraforming Mars   \n",
       "\n",
       "  yearpublished                                         url  fixed_rating  \n",
       "0          2010   https://boardgamegeek.com/boardgame/68448      7.741840  \n",
       "1          2013  https://boardgamegeek.com/boardgame/124361      8.228992  \n",
       "2          2017  https://boardgamegeek.com/boardgame/162886      8.387478  \n",
       "3          2018  https://boardgamegeek.com/boardgame/167355      8.434725  \n",
       "4          2016  https://boardgamegeek.com/boardgame/167791      8.231503  "
      ]
     },
     "execution_count": 204,
     "metadata": {},
     "output_type": "execute_result"
    }
   ],
   "source": [
    "grouped.head()"
   ]
  },
  {
   "cell_type": "code",
   "execution_count": 205,
   "metadata": {},
   "outputs": [],
   "source": [
    "grouped['thumbnail'] = grouped['thumbnail'].apply(lambda x: f'<img src=\"{x}\" width=\"124\" />')"
   ]
  },
  {
   "cell_type": "code",
   "execution_count": 206,
   "metadata": {},
   "outputs": [],
   "source": [
    "grouped['name'] = grouped.apply(lambda x: f'<a href=\"{x[\"url\"]}\">{x[\"name\"]}</a>', axis=1)"
   ]
  },
  {
   "cell_type": "code",
   "execution_count": 207,
   "metadata": {},
   "outputs": [],
   "source": [
    "grouped = grouped[['thumbnail', 'name', 'rating_mean_review', 'rating_mean_comments', 'fixed_rating', 'rank', 'yearpublished']]"
   ]
  },
  {
   "cell_type": "code",
   "execution_count": 208,
   "metadata": {},
   "outputs": [],
   "source": [
    "def display_topn(by, n=5, ascending=True):\n",
    "    temp_df = grouped.sort_values(by, ascending=ascending).head(n)\n",
    "    temp_df.index=list(range(1, n+1))\n",
    "    return HTML(temp_df.to_html(escape=False, classes='table table-striped'))"
   ]
  },
  {
   "cell_type": "code",
   "execution_count": 209,
   "metadata": {},
   "outputs": [
    {
     "data": {
      "text/html": [
       "<table border=\"1\" class=\"dataframe table table-striped\">\n",
       "  <thead>\n",
       "    <tr style=\"text-align: right;\">\n",
       "      <th></th>\n",
       "      <th>thumbnail</th>\n",
       "      <th>name</th>\n",
       "      <th>rating_mean_review</th>\n",
       "      <th>rating_mean_comments</th>\n",
       "      <th>fixed_rating</th>\n",
       "      <th>rank</th>\n",
       "      <th>yearpublished</th>\n",
       "    </tr>\n",
       "  </thead>\n",
       "  <tbody>\n",
       "    <tr>\n",
       "      <th>1</th>\n",
       "      <td><img src=\"https://cf.geekdo-images.com/eUiju5SqZbkNt8gnEofrTw__thumb/img/zNkmLNyeXJGOY24FeAAf4U67ejU=/fit-in/200x150/filters:strip_icc()/pic6035127.png\" width=\"124\" /></td>\n",
       "      <td><a href=\"https://boardgamegeek.com/boardgame/316624\">Stationfall</a></td>\n",
       "      <td>9.500000</td>\n",
       "      <td>8.366667</td>\n",
       "      <td>8.963158</td>\n",
       "      <td>1</td>\n",
       "      <td>2021</td>\n",
       "    </tr>\n",
       "    <tr>\n",
       "      <th>2</th>\n",
       "      <td><img src=\"https://cf.geekdo-images.com/N0hCcxXw8d7vUjKfsYO6vg__thumb/img/K4DDlRzl6qlQf9L_oMLb7g9WUYo=/fit-in/200x150/filters:strip_icc()/pic6121929.png\" width=\"124\" /></td>\n",
       "      <td><a href=\"https://boardgamegeek.com/boardgame/328866\">My Father's Work</a></td>\n",
       "      <td>6.125000</td>\n",
       "      <td>9.140000</td>\n",
       "      <td>8.505263</td>\n",
       "      <td>2</td>\n",
       "      <td>2021</td>\n",
       "    </tr>\n",
       "    <tr>\n",
       "      <th>3</th>\n",
       "      <td><img src=\"https://cf.geekdo-images.com/6GqH14TJJhza86BX5HCLEQ__thumb/img/J8SVmGOJXZGxNjkT3xYNQU7Haxg=/fit-in/200x150/filters:strip_icc()/pic5674958.jpg\" width=\"124\" /></td>\n",
       "      <td><a href=\"https://boardgamegeek.com/boardgame/312484\">Lost Ruins of Arnak</a></td>\n",
       "      <td>7.888007</td>\n",
       "      <td>8.456934</td>\n",
       "      <td>8.001959</td>\n",
       "      <td>3</td>\n",
       "      <td>2020</td>\n",
       "    </tr>\n",
       "    <tr>\n",
       "      <th>4</th>\n",
       "      <td><img src=\"https://cf.geekdo-images.com/PhjygpWSo-0labGrPBMyyg__thumb/img/JGgY-nBmkyB8WRp8vcoBLlNMQ5U=/fit-in/200x150/filters:strip_icc()/pic5666597.jpg\" width=\"124\" /></td>\n",
       "      <td><a href=\"https://boardgamegeek.com/boardgame/316554\">Dune: Imperium</a></td>\n",
       "      <td>8.119528</td>\n",
       "      <td>8.393798</td>\n",
       "      <td>8.170000</td>\n",
       "      <td>4</td>\n",
       "      <td>2020</td>\n",
       "    </tr>\n",
       "    <tr>\n",
       "      <th>5</th>\n",
       "      <td><img src=\"https://cf.geekdo-images.com/-JD8JLncWYMes9Q6YIgorg__thumb/img/Ce6a64m5DxVae_ZXnAsrgdEnqBQ=/fit-in/200x150/filters:strip_icc()/pic6136538.jpg\" width=\"124\" /></td>\n",
       "      <td><a href=\"https://boardgamegeek.com/boardgame/277700\">Merchants Cove</a></td>\n",
       "      <td>8.384375</td>\n",
       "      <td>9.128000</td>\n",
       "      <td>8.947727</td>\n",
       "      <td>5</td>\n",
       "      <td>2021</td>\n",
       "    </tr>\n",
       "  </tbody>\n",
       "</table>"
      ],
      "text/plain": [
       "<IPython.core.display.HTML object>"
      ]
     },
     "execution_count": 209,
     "metadata": {},
     "output_type": "execute_result"
    }
   ],
   "source": [
    "# TOP N RANK\n",
    "display_topn(by='rank', n=TOP_N)"
   ]
  },
  {
   "cell_type": "code",
   "execution_count": 210,
   "metadata": {},
   "outputs": [
    {
     "data": {
      "text/html": [
       "<table border=\"1\" class=\"dataframe table table-striped\">\n",
       "  <thead>\n",
       "    <tr style=\"text-align: right;\">\n",
       "      <th></th>\n",
       "      <th>thumbnail</th>\n",
       "      <th>name</th>\n",
       "      <th>rating_mean_review</th>\n",
       "      <th>rating_mean_comments</th>\n",
       "      <th>fixed_rating</th>\n",
       "      <th>rank</th>\n",
       "      <th>yearpublished</th>\n",
       "    </tr>\n",
       "  </thead>\n",
       "  <tbody>\n",
       "    <tr>\n",
       "      <th>1</th>\n",
       "      <td><img src=\"https://cf.geekdo-images.com/eUiju5SqZbkNt8gnEofrTw__thumb/img/zNkmLNyeXJGOY24FeAAf4U67ejU=/fit-in/200x150/filters:strip_icc()/pic6035127.png\" width=\"124\" /></td>\n",
       "      <td><a href=\"https://boardgamegeek.com/boardgame/316624\">Stationfall</a></td>\n",
       "      <td>9.500000</td>\n",
       "      <td>8.366667</td>\n",
       "      <td>8.963158</td>\n",
       "      <td>1</td>\n",
       "      <td>2021</td>\n",
       "    </tr>\n",
       "    <tr>\n",
       "      <th>2</th>\n",
       "      <td><img src=\"https://cf.geekdo-images.com/Oh3kHw6lweg6ru71Q16h2Q__thumb/img/e9XZdQe1ZcPpaq4Gy31OoWBB_V0=/fit-in/200x150/filters:strip_icc()/pic5235277.jpg\" width=\"124\" /></td>\n",
       "      <td><a href=\"https://boardgamegeek.com/boardgame/246900\">Eclipse: Second Dawn for the Galaxy</a></td>\n",
       "      <td>8.771277</td>\n",
       "      <td>8.702069</td>\n",
       "      <td>8.752199</td>\n",
       "      <td>38</td>\n",
       "      <td>2020</td>\n",
       "    </tr>\n",
       "    <tr>\n",
       "      <th>3</th>\n",
       "      <td><img src=\"https://cf.geekdo-images.com/x3zxjr-Vw5iU4yDPg70Jgw__thumb/img/o18rjEemoWaVru9Y2TyPwuIaRfE=/fit-in/200x150/filters:strip_icc()/pic3490053.jpg\" width=\"124\" /></td>\n",
       "      <td><a href=\"https://boardgamegeek.com/boardgame/224517\">Brass: Birmingham</a></td>\n",
       "      <td>8.661242</td>\n",
       "      <td>8.864625</td>\n",
       "      <td>8.703316</td>\n",
       "      <td>28</td>\n",
       "      <td>2018</td>\n",
       "    </tr>\n",
       "    <tr>\n",
       "      <th>4</th>\n",
       "      <td><img src=\"https://cf.geekdo-images.com/_HhIdavYW-hid20Iq3hhmg__thumb/img/OMkN_E5eyWrkID_cHCnQEbIixGM=/fit-in/200x150/filters:strip_icc()/pic5055631.jpg\" width=\"124\" /></td>\n",
       "      <td><a href=\"https://boardgamegeek.com/boardgame/291457\">Gloomhaven: Jaws of the Lion</a></td>\n",
       "      <td>8.602615</td>\n",
       "      <td>8.694981</td>\n",
       "      <td>8.620534</td>\n",
       "      <td>16</td>\n",
       "      <td>2020</td>\n",
       "    </tr>\n",
       "    <tr>\n",
       "      <th>5</th>\n",
       "      <td><img src=\"https://cf.geekdo-images.com/dNXxWWcLHd67zOCz1_DV5g__thumb/img/LKLbu76Lt9XTRsSv1TC66uaSN40=/fit-in/200x150/filters:strip_icc()/pic5415822.png\" width=\"124\" /></td>\n",
       "      <td><a href=\"https://boardgamegeek.com/boardgame/297562\">Kemet: Blood and Sand</a></td>\n",
       "      <td>8.525000</td>\n",
       "      <td>9.001639</td>\n",
       "      <td>8.934507</td>\n",
       "      <td>40</td>\n",
       "      <td>2021</td>\n",
       "    </tr>\n",
       "  </tbody>\n",
       "</table>"
      ],
      "text/plain": [
       "<IPython.core.display.HTML object>"
      ]
     },
     "execution_count": 210,
     "metadata": {},
     "output_type": "execute_result"
    }
   ],
   "source": [
    "# TOP N REVIEW RANK\n",
    "display_topn(by='rating_mean_review', n=TOP_N, ascending=False)"
   ]
  },
  {
   "cell_type": "code",
   "execution_count": 211,
   "metadata": {},
   "outputs": [
    {
     "data": {
      "text/html": [
       "<table border=\"1\" class=\"dataframe table table-striped\">\n",
       "  <thead>\n",
       "    <tr style=\"text-align: right;\">\n",
       "      <th></th>\n",
       "      <th>thumbnail</th>\n",
       "      <th>name</th>\n",
       "      <th>rating_mean_review</th>\n",
       "      <th>rating_mean_comments</th>\n",
       "      <th>fixed_rating</th>\n",
       "      <th>rank</th>\n",
       "      <th>yearpublished</th>\n",
       "    </tr>\n",
       "  </thead>\n",
       "  <tbody>\n",
       "    <tr>\n",
       "      <th>1</th>\n",
       "      <td><img src=\"https://cf.geekdo-images.com/a4QfK2JilOgK5BtDgMqpfg__thumb/img/gMUzGCxA6pae7rkt9bZ1tg7s4vw=/fit-in/200x150/filters:strip_icc()/pic6112538.jpg\" width=\"124\" /></td>\n",
       "      <td><a href=\"https://boardgamegeek.com/boardgame/336382\">Marvel United: X-Men</a></td>\n",
       "      <td>8.000000</td>\n",
       "      <td>9.409091</td>\n",
       "      <td>9.347826</td>\n",
       "      <td>25</td>\n",
       "      <td>2022</td>\n",
       "    </tr>\n",
       "    <tr>\n",
       "      <th>2</th>\n",
       "      <td><img src=\"https://cf.geekdo-images.com/eUiju5SqZbkNt8gnEofrTw__thumb/img/zNkmLNyeXJGOY24FeAAf4U67ejU=/fit-in/200x150/filters:strip_icc()/pic6035127.png\" width=\"124\" /></td>\n",
       "      <td><a href=\"https://boardgamegeek.com/boardgame/316624\">Stationfall</a></td>\n",
       "      <td>9.500000</td>\n",
       "      <td>8.366667</td>\n",
       "      <td>8.963158</td>\n",
       "      <td>1</td>\n",
       "      <td>2021</td>\n",
       "    </tr>\n",
       "    <tr>\n",
       "      <th>3</th>\n",
       "      <td><img src=\"https://cf.geekdo-images.com/-JD8JLncWYMes9Q6YIgorg__thumb/img/Ce6a64m5DxVae_ZXnAsrgdEnqBQ=/fit-in/200x150/filters:strip_icc()/pic6136538.jpg\" width=\"124\" /></td>\n",
       "      <td><a href=\"https://boardgamegeek.com/boardgame/277700\">Merchants Cove</a></td>\n",
       "      <td>8.384375</td>\n",
       "      <td>9.128000</td>\n",
       "      <td>8.947727</td>\n",
       "      <td>5</td>\n",
       "      <td>2021</td>\n",
       "    </tr>\n",
       "    <tr>\n",
       "      <th>4</th>\n",
       "      <td><img src=\"https://cf.geekdo-images.com/dNXxWWcLHd67zOCz1_DV5g__thumb/img/LKLbu76Lt9XTRsSv1TC66uaSN40=/fit-in/200x150/filters:strip_icc()/pic5415822.png\" width=\"124\" /></td>\n",
       "      <td><a href=\"https://boardgamegeek.com/boardgame/297562\">Kemet: Blood and Sand</a></td>\n",
       "      <td>8.525000</td>\n",
       "      <td>9.001639</td>\n",
       "      <td>8.934507</td>\n",
       "      <td>40</td>\n",
       "      <td>2021</td>\n",
       "    </tr>\n",
       "    <tr>\n",
       "      <th>5</th>\n",
       "      <td><img src=\"https://cf.geekdo-images.com/Oh3kHw6lweg6ru71Q16h2Q__thumb/img/e9XZdQe1ZcPpaq4Gy31OoWBB_V0=/fit-in/200x150/filters:strip_icc()/pic5235277.jpg\" width=\"124\" /></td>\n",
       "      <td><a href=\"https://boardgamegeek.com/boardgame/246900\">Eclipse: Second Dawn for the Galaxy</a></td>\n",
       "      <td>8.771277</td>\n",
       "      <td>8.702069</td>\n",
       "      <td>8.752199</td>\n",
       "      <td>38</td>\n",
       "      <td>2020</td>\n",
       "    </tr>\n",
       "  </tbody>\n",
       "</table>"
      ],
      "text/plain": [
       "<IPython.core.display.HTML object>"
      ]
     },
     "execution_count": 211,
     "metadata": {},
     "output_type": "execute_result"
    }
   ],
   "source": [
    "# TOP N FIXED RANK\n",
    "display_topn(by='fixed_rating', n=TOP_N, ascending=False)"
   ]
  },
  {
   "cell_type": "code",
   "execution_count": 212,
   "metadata": {},
   "outputs": [],
   "source": [
    "# model.save('saved_model\\my_model')"
   ]
  },
  {
   "cell_type": "code",
   "execution_count": 213,
   "metadata": {},
   "outputs": [],
   "source": [
    "# saved_model = tf.keras.models.load_model('saved_model\\my_model')"
   ]
  },
  {
   "cell_type": "code",
   "execution_count": 214,
   "metadata": {},
   "outputs": [],
   "source": [
    "# some examples on \"long\" comments vs short comments"
   ]
  },
  {
   "cell_type": "code",
   "execution_count": 215,
   "metadata": {},
   "outputs": [],
   "source": [
    "not_rated_comments['comment_len'] = not_rated_comments['value'].str.len()"
   ]
  },
  {
   "cell_type": "code",
   "execution_count": 216,
   "metadata": {},
   "outputs": [
    {
     "name": "stdout",
     "output_type": "stream",
     "text": [
      "input:\n",
      "\"Looks interesting, by the same people as Vast: the Crystal Caverns. I own that game but have not yet played it. Need to get it to the table and then look forward at this and see what I think.\"\n",
      "score: 0.905942\n",
      "\n",
      "input:\n",
      "\"Great drafting game.  this title makes it to the table more often than most.  Our sweet spot is 3 players.\"\n",
      "score: 0.999403\n",
      "\n",
      "input:\n",
      "\"LD. Beautiful design and components. Mechanics are well balanced and play smoothly. Theme feels completely pasted on, game is actually pretty abstract like Terra Mystica. Collector's edition has much better bits. Played digital edition, it is as abstract as chess. Not my cup of tea. +/-\"\n",
      "score: 0.095900\n",
      "\n",
      "input:\n",
      "\"+ Forgotten Circles + Solo quests  + Removable sticker set + Forgotten Circles removable sticker set  + Folded Space organizer\"\n",
      "score: 1.000000\n",
      "\n",
      "input:\n",
      "\":star:[b][size=16][COLOR=#FFFFFF][BGCOLOR=#800080]Preorder Collector's Edition March 2021[/BGCOLOR][/COLOR][/size][/b]  [b][size=10][BGCOLOR=#D68910]Need 123 7 wonders Sleeves[/BGCOLOR][/size][/b][b][size=10][BGCOLOR=#90ee90]& 25 Standard USA Chimera Sleeves[/BGCOLOR][/size][/b]  \"\n",
      "score: 0.989475\n",
      "\n",
      "input:\n",
      "\"2.1 - Might be some fast fun. Not my favourite subject matter or gameplay, but my oldest daughter quilts (she said she'd love to try this) and my son and daughter-in-law have cats. I think they'd all play this. Plus, reasonable price.\"\n",
      "score: 0.992888\n",
      "\n",
      "input:\n",
      "\"Collector's Edition + Pearlbrook, Collector's Edition + Spirecrest, Collector's Edition + Bellfaire  + Upgraded coins  + Paladin Sleeves\"\n",
      "score: 0.999659\n",
      "\n",
      "input:\n",
      "\"more digestible size and length, with similar mechanics. less depth and less effort. more approachable.\"\n",
      "score: 0.991454\n",
      "\n",
      "input:\n",
      "\"Hi mates, pliz do contact me if you have a copy in excellent conditions to sell/ship in the Aussie market.\"\n",
      "score: 0.881845\n",
      "\n",
      "input:\n",
      "\"backed on kickstarter.  the Automa is amazing for solo play.  keen to buy more sets if the shipping ever becomes manageable for NZ\"\n",
      "score: 0.999674\n",
      "\n",
      "input:\n",
      "\"Played with 6, can see it would be good with 4+, but not so good with less. I enjoyed the drafting mechanic, not something I've used since playing hearts many years ago.\"\n",
      "score: 0.961088\n",
      "\n",
      "input:\n",
      "\"comes out Jan 2021 - Kick starter closed. Ryan Laukat is a good designer. Campaign game, play a session and just mark where you left off.\"\n",
      "score: 0.972241\n",
      "\n",
      "input:\n",
      "\"Number of cards: 128 Ultimate Guard sleeve size: Standard Size: Premium Soft (UGD010051, 100/pack) - (66 x 93mm)  Number of cards: 27 @ 44 x 63mm Fantasy Flight sleeve size: Mini European - Red (FFS02, 50/pack) - (1-11/16\" x 2-5/8\" - 44 x 68mm)\"\n",
      "score: 0.999906\n",
      "\n",
      "input:\n",
      "\"Designer Vital Lacerda  Solo Designer N/A  Artist Ian O'Toole  Publishers Eagle-Gryphon Games TLAMA games\"\n",
      "score: 0.997902\n",
      "\n",
      "input:\n",
      "\"LI. Nice looking components, but theme is pasted-on. Doesn't seem to bring anything new gameplay wise, regular engine building game. A lot of luck with card draws for an over hour game.  Almost 0 interaction, so feels like solitaire with a lot of downtime. Not my cup of tea. But why the hype???\"\n",
      "score: 0.075051\n",
      "\n",
      "input:\n",
      "\"First impression. I liked it. Nice choices. I played the solo variant with 2 AI opponents and I'm pretty positive on the outcome of my play. Some minor questions on the rules but nothing major. I'm happy I got it even though I said I would.   Includes Jessica Promo\"\n",
      "score: 0.999480\n",
      "\n",
      "input:\n",
      "\"Weight: 2.42 Players: 1-5 Categories: Animals Card Game Educational Card Drafting Dice Rolling Drafting End Game Bonuses Hand Management Set Collection Solo / Solitaire Game\"\n",
      "score: 0.866724\n",
      "\n",
      "input:\n",
      "\"-I- love this game, but some people in my group aren't the biggest fans. It may get donated to another person in our group, who thinks it may be a hit w/ his family.\"\n",
      "score: 0.691789\n",
      "\n",
      "input:\n",
      "\"Felt like I was missing out on a lot of solo content with just the retail box. Didn't get a burning passion to paint the minis either.\"\n",
      "score: 0.030022\n",
      "\n",
      "input:\n",
      "\"Surprise early birthday gift from family. I guess what with COVID-19 ravaging the globe, who's to say one should wait for their birthday for unwrapping such things?\"\n",
      "score: 0.999756\n",
      "\n",
      "input:\n",
      "\"LI. Point salad game. Theme is dry and completely superficial. Even if gameplay mechanics are solid and working well together, doesn't seem to be worth it considering the length and complexity/\"\n",
      "score: 0.475625\n",
      "\n",
      "input:\n",
      "\"Drafting-Spiel. Bau in drei Epochen den besten Stadtstaat auf und versuche dein Weltwunder zu errichten.\"\n",
      "score: 0.995491\n",
      "\n",
      "input:\n",
      "\"Finally sold on the Eclipse after SUSD review. Now this game looks like something i'd want to try out (looking at you, 1st edition)\"\n",
      "score: 0.878528\n",
      "\n",
      "input:\n",
      "\"Coop Trick taking game. Each person has goals, such as \"this person has to get all green 7s\" and you need to make sure everyone fulfills them without communications.\"\n",
      "score: 0.999457\n",
      "\n",
      "input:\n",
      "\"An excellent cooperative trick-taking game.  It’s in the genre of fun family games with simple rules, which beg the question ‘why didn’t someone think of this before?’ \"\n",
      "score: 0.998530\n"
     ]
    }
   ],
   "source": [
    "# some long comments\n",
    "some_long_comments = not_rated_comments.query(\"comment_len>100 and comment_len<300\").sample(frac=1)\n",
    "results = tf.sigmoid(model.predict(tf.constant(list(some_long_comments.value))))\n",
    "print_my_examples(list(some_long_comments.value), results, limit=25)"
   ]
  },
  {
   "cell_type": "code",
   "execution_count": null,
   "metadata": {},
   "outputs": [],
   "source": []
  }
 ],
 "metadata": {
  "kernelspec": {
   "display_name": "tensorflow",
   "language": "python",
   "name": "tensorflow"
  },
  "language_info": {
   "codemirror_mode": {
    "name": "ipython",
    "version": 3
   },
   "file_extension": ".py",
   "mimetype": "text/x-python",
   "name": "python",
   "nbconvert_exporter": "python",
   "pygments_lexer": "ipython3",
   "version": "3.7.3"
  }
 },
 "nbformat": 4,
 "nbformat_minor": 4
}
