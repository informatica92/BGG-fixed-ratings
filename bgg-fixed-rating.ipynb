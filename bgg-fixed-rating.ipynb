{
 "cells": [
  {
   "cell_type": "code",
   "execution_count": 1,
   "metadata": {},
   "outputs": [],
   "source": [
    "# ## BGG API\n",
    "# https://www.boardgamegeek.com/xmlapi2/thing?id=161599&comments=1\n",
    "# https://www.boardgamegeek.com/xmlapi2/hot?type=boardgame\n",
    "# ## NLP WITH TF\n",
    "# https://www.tensorflow.org/hub/tutorials/tf2_text_classification"
   ]
  },
  {
   "cell_type": "code",
   "execution_count": 2,
   "metadata": {},
   "outputs": [
    {
     "name": "stdout",
     "output_type": "stream",
     "text": [
      "Version:      2.4.0\n",
      "Eager mode:   True\n",
      "Hub version:  0.12.0\n",
      "GPU:          available\n"
     ]
    }
   ],
   "source": [
    "import tensorflow as tf\n",
    "import tensorflow_hub as hub\n",
    "import tensorflow_datasets as tfds\n",
    "\n",
    "import xml.etree.ElementTree as Xet\n",
    "import matplotlib.pyplot as plt\n",
    "import pandas as pd\n",
    "import numpy as np\n",
    "import requests\n",
    "from IPython.display import Image, HTML\n",
    "\n",
    "from langdetect import detect\n",
    "import re\n",
    "\n",
    "print(\"Version:     \", tf.__version__)\n",
    "print(\"Eager mode:  \", tf.executing_eagerly())\n",
    "print(\"Hub version: \", hub.__version__)\n",
    "print(\"GPU:         \", \"available\" if tf.config.list_physical_devices('GPU') else \"NOT available\")"
   ]
  },
  {
   "cell_type": "code",
   "execution_count": 3,
   "metadata": {},
   "outputs": [],
   "source": [
    "# tf.debugging.set_log_device_placement(True)"
   ]
  },
  {
   "cell_type": "code",
   "execution_count": 4,
   "metadata": {},
   "outputs": [],
   "source": [
    "GOOD_REVIEW_THRESHOLD = 7"
   ]
  },
  {
   "cell_type": "code",
   "execution_count": 5,
   "metadata": {},
   "outputs": [],
   "source": [
    "VAL_FRACTION = 0.25"
   ]
  },
  {
   "cell_type": "code",
   "execution_count": 6,
   "metadata": {},
   "outputs": [],
   "source": [
    "MIN_COMMENT_LEN = 25"
   ]
  },
  {
   "cell_type": "code",
   "execution_count": 7,
   "metadata": {},
   "outputs": [],
   "source": [
    "TOP_N = 5"
   ]
  },
  {
   "cell_type": "markdown",
   "metadata": {},
   "source": [
    "## GET DATA"
   ]
  },
  {
   "cell_type": "code",
   "execution_count": 8,
   "metadata": {},
   "outputs": [],
   "source": [
    "def get_hot_data():\n",
    "    hot = requests.get(\"https://www.boardgamegeek.com/xmlapi2/hot?type=boardgame\").content.decode()\n",
    "  \n",
    "    # Parsing the XML file\n",
    "    xmlparse = Xet.fromstring(hot)\n",
    "\n",
    "    hot_array = []\n",
    "    for item in xmlparse:\n",
    "        dict_element = {\n",
    "            \"id\": item.get(\"id\"),\n",
    "            \"rank\": item.get(\"rank\")\n",
    "        }\n",
    "        for option in item:\n",
    "            dict_element[option.tag] = option.get(\"value\")\n",
    "        hot_array.append(dict_element)\n",
    "    return hot_array"
   ]
  },
  {
   "cell_type": "code",
   "execution_count": 9,
   "metadata": {},
   "outputs": [],
   "source": [
    "def get_comments(id_array, verbose=1):\n",
    "    max_comments_per_page = 1\n",
    "    array_ids = [h['id'] for h in id_array]\n",
    "    ids = ','.join(array_ids)\n",
    "    page_size = 100\n",
    "    page_number = 0\n",
    "    comments_array = []\n",
    "\n",
    "    while max_comments_per_page > 0 and len(array_ids) > 0:\n",
    "        page_number += 1\n",
    "        if verbose>0 and page_number%verbose==0:\n",
    "            print(f\"page number = {page_number}\", end=\" \")\n",
    "        comments = requests.get(f\"https://www.boardgamegeek.com/xmlapi2/thing?id={ids}&comments=1&pagesize={page_size}&page={page_number}\").content.decode()\n",
    "\n",
    "        # Parsing the XML file\n",
    "        xmlparse = Xet.fromstring(comments)\n",
    "        comments_per_item = []\n",
    "        for item in xmlparse:        \n",
    "            for option in item:\n",
    "                if option.tag == 'comments':\n",
    "                    comments_per_page = 0\n",
    "                    for comment in option:\n",
    "                        comments_per_page += 1\n",
    "                        dict_element = {\n",
    "                            \"id\": item.get(\"id\"),\n",
    "                            \"username\": comment.get(\"username\"),\n",
    "                            \"rating\": comment.get(\"rating\"),\n",
    "                            \"value\": comment.get(\"value\")\n",
    "                        }\n",
    "                        comments_array.append(dict_element)\n",
    "                    if comments_per_page==0:\n",
    "                        array_ids.remove(item.get(\"id\"))\n",
    "                        ids = ','.join(array_ids)\n",
    "                    comments_per_item.append(comments_per_page)\n",
    "        max_comments_per_page = max(comments_per_item)\n",
    "        if verbose>0 and page_number%verbose==0:\n",
    "            print(f\"(max: {max(comments_per_item)}, len: {len(comments_per_item)})\")\n",
    "    comments_df = pd.DataFrame(comments_array)\n",
    "    print(f\"comments_df shape: {comments_df.shape}\")\n",
    "    return comments_df"
   ]
  },
  {
   "cell_type": "code",
   "execution_count": 10,
   "metadata": {},
   "outputs": [
    {
     "data": {
      "text/plain": [
       "[{'id': '337627',\n",
       "  'rank': '1',\n",
       "  'thumbnail': 'https://cf.geekdo-images.com/hItZjdDTNuaCZ7fEztwcUQ__thumb/img/Ov6eWR87PZ2O1XYQtXMO6KvfzOg=/fit-in/200x150/filters:strip_icc()/pic6153324.jpg',\n",
       "  'name': 'Voidfall',\n",
       "  'yearpublished': '2022'},\n",
       " {'id': '312484',\n",
       "  'rank': '2',\n",
       "  'thumbnail': 'https://cf.geekdo-images.com/6GqH14TJJhza86BX5HCLEQ__thumb/img/J8SVmGOJXZGxNjkT3xYNQU7Haxg=/fit-in/200x150/filters:strip_icc()/pic5674958.jpg',\n",
       "  'name': 'Lost Ruins of Arnak',\n",
       "  'yearpublished': '2020'}]"
      ]
     },
     "execution_count": 10,
     "metadata": {},
     "output_type": "execute_result"
    }
   ],
   "source": [
    "hot_array = get_hot_data()\n",
    "hot_array[:2]"
   ]
  },
  {
   "cell_type": "code",
   "execution_count": 11,
   "metadata": {},
   "outputs": [
    {
     "name": "stderr",
     "output_type": "stream",
     "text": [
      "<ipython-input-11-3c366f14faf3>:2: FutureWarning: The pandas.datetime class is deprecated and will be removed from pandas in a future version. Import from datetime module instead.\n",
      "  comments_df = pd.read_csv(f\"comments_{pd.datetime.now().strftime('%Y%m%d')}.csv\")\n"
     ]
    },
    {
     "name": "stdout",
     "output_type": "stream",
     "text": [
      "missing csv file, getting new data using API...\n",
      "page number = 10 (max: 100, len: 26)\n",
      "page number = 20 (max: 100, len: 17)\n",
      "page number = 30 (max: 100, len: 11)\n",
      "page number = 40 (max: 100, len: 8)\n",
      "page number = 50 (max: 100, len: 4)\n",
      "page number = 60 (max: 100, len: 4)\n",
      "page number = 70 (max: 100, len: 3)\n",
      "page number = 80 (max: 100, len: 3)\n",
      "page number = 90 (max: 100, len: 2)\n",
      "page number = 100 (max: 0, len: 1)\n",
      "comments_df shape: (91657, 4)\n"
     ]
    },
    {
     "name": "stderr",
     "output_type": "stream",
     "text": [
      "<ipython-input-11-3c366f14faf3>:8: FutureWarning: The pandas.datetime class is deprecated and will be removed from pandas in a future version. Import from datetime module instead.\n",
      "  comments_df.to_csv(f\"comments_{pd.datetime.now().strftime('%Y%m%d')}.csv\", index=False)\n"
     ]
    },
    {
     "data": {
      "text/html": [
       "<div>\n",
       "<style scoped>\n",
       "    .dataframe tbody tr th:only-of-type {\n",
       "        vertical-align: middle;\n",
       "    }\n",
       "\n",
       "    .dataframe tbody tr th {\n",
       "        vertical-align: top;\n",
       "    }\n",
       "\n",
       "    .dataframe thead th {\n",
       "        text-align: right;\n",
       "    }\n",
       "</style>\n",
       "<table border=\"1\" class=\"dataframe\">\n",
       "  <thead>\n",
       "    <tr style=\"text-align: right;\">\n",
       "      <th></th>\n",
       "      <th>id</th>\n",
       "      <th>username</th>\n",
       "      <th>rating</th>\n",
       "      <th>value</th>\n",
       "    </tr>\n",
       "  </thead>\n",
       "  <tbody>\n",
       "    <tr>\n",
       "      <th>0</th>\n",
       "      <td>337627</td>\n",
       "      <td>BGFreakDag2PT</td>\n",
       "      <td>N/A</td>\n",
       "      <td>On Radar</td>\n",
       "    </tr>\n",
       "    <tr>\n",
       "      <th>1</th>\n",
       "      <td>337627</td>\n",
       "      <td>Bstalf21</td>\n",
       "      <td>N/A</td>\n",
       "      <td>KS fall?</td>\n",
       "    </tr>\n",
       "    <tr>\n",
       "      <th>2</th>\n",
       "      <td>337627</td>\n",
       "      <td>bucklen_uk</td>\n",
       "      <td>N/A</td>\n",
       "      <td>I don't rate my own games (doesn't seem approp...</td>\n",
       "    </tr>\n",
       "    <tr>\n",
       "      <th>3</th>\n",
       "      <td>337627</td>\n",
       "      <td>carlcorey</td>\n",
       "      <td>N/A</td>\n",
       "      <td>Turczi / Mindclash with O'Toole design, intere...</td>\n",
       "    </tr>\n",
       "    <tr>\n",
       "      <th>4</th>\n",
       "      <td>337627</td>\n",
       "      <td>Dahanil</td>\n",
       "      <td>N/A</td>\n",
       "      <td>David Turczi + Ian O'Toole - tasty combination!</td>\n",
       "    </tr>\n",
       "    <tr>\n",
       "      <th>...</th>\n",
       "      <td>...</td>\n",
       "      <td>...</td>\n",
       "      <td>...</td>\n",
       "      <td>...</td>\n",
       "    </tr>\n",
       "    <tr>\n",
       "      <th>91652</th>\n",
       "      <td>167791</td>\n",
       "      <td>z_zadar</td>\n",
       "      <td>9</td>\n",
       "      <td>Some games are so much fun. Others can be a li...</td>\n",
       "    </tr>\n",
       "    <tr>\n",
       "      <th>91653</th>\n",
       "      <td>167791</td>\n",
       "      <td>_Czid_</td>\n",
       "      <td>8</td>\n",
       "      <td>Have played with Elysium and Prelude expansion...</td>\n",
       "    </tr>\n",
       "    <tr>\n",
       "      <th>91654</th>\n",
       "      <td>167791</td>\n",
       "      <td>_Marty_</td>\n",
       "      <td>9.5</td>\n",
       "      <td>Fantastic game. With so many cards that can ch...</td>\n",
       "    </tr>\n",
       "    <tr>\n",
       "      <th>91655</th>\n",
       "      <td>167791</td>\n",
       "      <td>_mun_</td>\n",
       "      <td>10</td>\n",
       "      <td>Nagyon izgalmas játék, jó a mechanizmusa. A sz...</td>\n",
       "    </tr>\n",
       "    <tr>\n",
       "      <th>91656</th>\n",
       "      <td>167791</td>\n",
       "      <td>_The_Inquiry_</td>\n",
       "      <td>5</td>\n",
       "      <td>Prior to 2020: 2 plays  TM is one of those gam...</td>\n",
       "    </tr>\n",
       "  </tbody>\n",
       "</table>\n",
       "<p>91657 rows × 4 columns</p>\n",
       "</div>"
      ],
      "text/plain": [
       "           id       username rating  \\\n",
       "0      337627  BGFreakDag2PT    N/A   \n",
       "1      337627       Bstalf21    N/A   \n",
       "2      337627     bucklen_uk    N/A   \n",
       "3      337627      carlcorey    N/A   \n",
       "4      337627        Dahanil    N/A   \n",
       "...       ...            ...    ...   \n",
       "91652  167791        z_zadar      9   \n",
       "91653  167791         _Czid_      8   \n",
       "91654  167791        _Marty_    9.5   \n",
       "91655  167791          _mun_     10   \n",
       "91656  167791  _The_Inquiry_      5   \n",
       "\n",
       "                                                   value  \n",
       "0                                               On Radar  \n",
       "1                                               KS fall?  \n",
       "2      I don't rate my own games (doesn't seem approp...  \n",
       "3      Turczi / Mindclash with O'Toole design, intere...  \n",
       "4        David Turczi + Ian O'Toole - tasty combination!  \n",
       "...                                                  ...  \n",
       "91652  Some games are so much fun. Others can be a li...  \n",
       "91653  Have played with Elysium and Prelude expansion...  \n",
       "91654  Fantastic game. With so many cards that can ch...  \n",
       "91655  Nagyon izgalmas játék, jó a mechanizmusa. A sz...  \n",
       "91656  Prior to 2020: 2 plays  TM is one of those gam...  \n",
       "\n",
       "[91657 rows x 4 columns]"
      ]
     },
     "execution_count": 11,
     "metadata": {},
     "output_type": "execute_result"
    }
   ],
   "source": [
    "try:\n",
    "    comments_df = pd.read_csv(f\"comments_{pd.datetime.now().strftime('%Y%m%d')}.csv\")\n",
    "    comments_df['rating'] = comments_df.rating.fillna('N/A')\n",
    "    print(\"reading dataframe from csv file...\")\n",
    "except:\n",
    "    print(\"missing csv file, getting new data using API...\")\n",
    "    comments_df = get_comments(hot_array, verbose=10)\n",
    "    comments_df.to_csv(f\"comments_{pd.datetime.now().strftime('%Y%m%d')}.csv\", index=False)\n",
    "comments_df"
   ]
  },
  {
   "cell_type": "markdown",
   "metadata": {},
   "source": [
    "## DATA CLEANING"
   ]
  },
  {
   "cell_type": "code",
   "execution_count": 12,
   "metadata": {},
   "outputs": [],
   "source": [
    "# probably we should keep all the ratings (no matters the len) and remove only the simple comments under a certain len  "
   ]
  },
  {
   "cell_type": "code",
   "execution_count": 13,
   "metadata": {},
   "outputs": [],
   "source": [
    "comments_df[\"value\"] = comments_df[\"value\"].astype(str)"
   ]
  },
  {
   "cell_type": "code",
   "execution_count": 14,
   "metadata": {},
   "outputs": [],
   "source": [
    "# REMOVE URLs FROM COMMENTS"
   ]
  },
  {
   "cell_type": "code",
   "execution_count": 15,
   "metadata": {},
   "outputs": [],
   "source": [
    "comments_df['value'] = [re.sub(r\"http\\S+\", \"\", v) for v in comments_df.value.values]"
   ]
  },
  {
   "cell_type": "code",
   "execution_count": 16,
   "metadata": {},
   "outputs": [],
   "source": [
    "# REMOVE SHORT COMMENTS\n",
    "def remove_short_comments(df: pd.DataFrame, min_len=25, method='unrated'):\n",
    "    if method not in ['unrated', 'rated', 'both']:\n",
    "        raise AttributeError(f\"method {method} not allowed\")\n",
    "    df_local = df.copy()    \n",
    "    df_local['comment_len'] = [len(re.findall(\"[A-Za-z]\", v)) for v in df_local['value'].values]\n",
    "    if method == 'rated':\n",
    "        df_local = df_local.query('(comment_len>@min_len and rating != \"N/A\") or rating == \"N/A\"')\n",
    "    elif method == 'unrated':\n",
    "        df_local = df_local.query('(comment_len>@min_len and rating == \"N/A\") or rating != \"N/A\"')\n",
    "    else:\n",
    "        df_local = df_local.query('comment_len>@min_len')\n",
    "    print(f\"removed {len(df)-len(df_local)} for 'remove_short_comments' - min len: {min_len} - method: {method}\")\n",
    "    return df_local.reset_index(drop=True)"
   ]
  },
  {
   "cell_type": "code",
   "execution_count": 17,
   "metadata": {},
   "outputs": [
    {
     "name": "stdout",
     "output_type": "stream",
     "text": [
      "removed 15883 for 'remove_short_comments' - min len: 25 - method: unrated\n"
     ]
    }
   ],
   "source": [
    "comments_df = remove_short_comments(comments_df, MIN_COMMENT_LEN)"
   ]
  },
  {
   "cell_type": "code",
   "execution_count": 18,
   "metadata": {},
   "outputs": [],
   "source": [
    "# REMOVE NON ENGLISH COMMENTS"
   ]
  },
  {
   "cell_type": "code",
   "execution_count": 19,
   "metadata": {},
   "outputs": [],
   "source": [
    "# !conda install -c conda-forge langdetect"
   ]
  },
  {
   "cell_type": "code",
   "execution_count": 20,
   "metadata": {},
   "outputs": [],
   "source": [
    "# def add_comments_lang(df: pd.DataFrame):\n",
    "#     df_local = df.copy()\n",
    "#     df_local['lang'] = df['value'].apply(detect)\n",
    "#     return df_local.reset_index(drop=True)"
   ]
  },
  {
   "cell_type": "code",
   "execution_count": 21,
   "metadata": {},
   "outputs": [],
   "source": [
    "# comments_df = add_comments_lang(comments_df)"
   ]
  },
  {
   "cell_type": "code",
   "execution_count": 22,
   "metadata": {},
   "outputs": [],
   "source": [
    "# comments_df = comments_df.query('lang == \"en\"')"
   ]
  },
  {
   "cell_type": "markdown",
   "metadata": {},
   "source": [
    "## SPLIT RATED AND NON-RATED COMMENTS"
   ]
  },
  {
   "cell_type": "code",
   "execution_count": 23,
   "metadata": {},
   "outputs": [
    {
     "data": {
      "text/plain": [
       "10         14867\n",
       "9          14272\n",
       "8          11938\n",
       "N/A         6584\n",
       "7           6460\n",
       "           ...  \n",
       "9.60975        1\n",
       "6.681          1\n",
       "8.17           1\n",
       "8.12           1\n",
       "6.95           1\n",
       "Name: rating, Length: 520, dtype: int64"
      ]
     },
     "execution_count": 23,
     "metadata": {},
     "output_type": "execute_result"
    }
   ],
   "source": [
    "# count number of comments per rating (N/A included)\n",
    "comments_df.rating.value_counts()"
   ]
  },
  {
   "cell_type": "code",
   "execution_count": 24,
   "metadata": {},
   "outputs": [
    {
     "data": {
      "text/plain": [
       "(69190, 5)"
      ]
     },
     "execution_count": 24,
     "metadata": {},
     "output_type": "execute_result"
    }
   ],
   "source": [
    "# get rated comments only\n",
    "rated_comments = comments_df.query('rating != \"N/A\"')\n",
    "rated_comments.shape"
   ]
  },
  {
   "cell_type": "code",
   "execution_count": 25,
   "metadata": {},
   "outputs": [
    {
     "data": {
      "text/plain": [
       "(6584, 5)"
      ]
     },
     "execution_count": 25,
     "metadata": {},
     "output_type": "execute_result"
    }
   ],
   "source": [
    "# get non rated comments only\n",
    "not_rated_comments = comments_df.query('rating == \"N/A\"').reset_index(drop=True)\n",
    "not_rated_comments.shape"
   ]
  },
  {
   "cell_type": "markdown",
   "metadata": {},
   "source": [
    "## CREATE TRAINING AND VALIDATION DATA"
   ]
  },
  {
   "cell_type": "code",
   "execution_count": 26,
   "metadata": {},
   "outputs": [],
   "source": [
    "# use rated comments (reviews) to train the model"
   ]
  },
  {
   "cell_type": "code",
   "execution_count": 27,
   "metadata": {},
   "outputs": [],
   "source": [
    "rated_comments = rated_comments.sample(frac=1)"
   ]
  },
  {
   "cell_type": "code",
   "execution_count": 28,
   "metadata": {},
   "outputs": [],
   "source": [
    "# create training X and y\n",
    "train_examples = list(rated_comments.value)\n",
    "train_labels = list((rated_comments.rating.astype(float)>=GOOD_REVIEW_THRESHOLD).astype(int))"
   ]
  },
  {
   "cell_type": "code",
   "execution_count": 29,
   "metadata": {},
   "outputs": [
    {
     "name": "stdout",
     "output_type": "stream",
     "text": [
      "example of positive rating:\n"
     ]
    },
    {
     "data": {
      "text/plain": [
       "\"Twilight Imperium is always a joy to play, until you realize you can't win. Deciding the winner of a 6 hour game on initiative order is just downright stupid. There are too many overly simple mechanisms in this game to merit its play length IMO. There's also a MASSIVE opportunity for kingmaking. Is it good design when the majority of players just straight up remove a part of the game? (support for the throne)  Anyway, it definitely scratches that 4x itch very well. \""
      ]
     },
     "execution_count": 29,
     "metadata": {},
     "output_type": "execute_result"
    }
   ],
   "source": [
    "print(\"example of positive rating:\")\n",
    "train_examples[train_labels.index(1)]"
   ]
  },
  {
   "cell_type": "code",
   "execution_count": 30,
   "metadata": {},
   "outputs": [
    {
     "name": "stdout",
     "output_type": "stream",
     "text": [
      "example of negative rating:\n"
     ]
    },
    {
     "data": {
      "text/plain": [
       "\"Totally don't understand the hype on this one.  It's a fine game, but I don't understand what wow factor it has.  Don't get me wrong, I would play it if someone asked, but I didn't see anything new or innovative about it.\""
      ]
     },
     "execution_count": 30,
     "metadata": {},
     "output_type": "execute_result"
    }
   ],
   "source": [
    "print(\"example of negative rating:\")\n",
    "train_examples[train_labels.index(0)]"
   ]
  },
  {
   "cell_type": "code",
   "execution_count": 31,
   "metadata": {},
   "outputs": [],
   "source": [
    "# create validation dataset from training\n",
    "validation_len = int(len(train_examples)*VAL_FRACTION)\n",
    "validation_len\n",
    "\n",
    "x_val = train_examples[:validation_len]\n",
    "x_train = train_examples[validation_len:]\n",
    "\n",
    "y_val = train_labels[:validation_len]\n",
    "y_train = train_labels[validation_len:]"
   ]
  },
  {
   "cell_type": "markdown",
   "metadata": {},
   "source": [
    "## COMPOSE MODEL"
   ]
  },
  {
   "cell_type": "code",
   "execution_count": 32,
   "metadata": {},
   "outputs": [
    {
     "data": {
      "text/plain": [
       "<tf.Tensor: shape=(2, 50), dtype=float32, numpy=\n",
       "array([[ 0.43542534,  0.05541924, -0.03861873,  0.33252874,  0.03041599,\n",
       "        -0.0903388 ,  0.05108023,  0.12498631, -0.51236284,  0.48238304,\n",
       "        -0.06613763,  0.3817385 , -0.01009431, -0.05419247,  0.03728453,\n",
       "         0.03116208, -0.20826414,  0.23696436,  0.20181282, -0.66726255,\n",
       "         0.02363588, -0.2040986 ,  0.25106427,  0.1256224 ,  0.03082054,\n",
       "         0.24718696, -0.88173664,  0.21733554,  0.02857121, -0.3444842 ,\n",
       "        -0.2838907 ,  0.1338242 ,  0.01708944, -0.35131386,  0.05942433,\n",
       "         0.10945774,  0.25329033, -0.25722507,  0.22151577, -0.79002357,\n",
       "         0.11103141,  0.14340407, -0.03969017,  0.20914635, -0.11155718,\n",
       "        -0.16889714, -0.2838904 , -0.2691303 ,  0.14834376,  0.10781826],\n",
       "       [ 1.3167497 , -0.35126063, -0.26831505, -0.0789597 ,  0.34462166,\n",
       "         0.0521491 , -0.721109  ,  0.11815029, -0.38752797,  0.07061311,\n",
       "        -0.41714525, -0.06355918,  0.01112169,  0.10016744,  0.24356103,\n",
       "         0.5483576 ,  0.42825806,  0.39787924, -0.2740052 ,  0.39284018,\n",
       "         0.03712885, -0.16523775,  0.01648183, -0.01176287,  0.0613212 ,\n",
       "        -0.50764734,  0.41633916, -0.01287866, -0.3477507 ,  0.26418647,\n",
       "         0.00379705,  0.4735246 , -0.45414144,  0.13451445,  0.15393741,\n",
       "        -0.19903374, -0.11647069, -0.0873279 , -0.23989402,  0.39560044,\n",
       "        -0.03209684, -0.07328825, -0.5354833 , -0.42439803, -0.27385822,\n",
       "         0.24268657, -0.09962371,  0.11911912, -0.38720015,  0.15103039]],\n",
       "      dtype=float32)>"
      ]
     },
     "execution_count": 32,
     "metadata": {},
     "output_type": "execute_result"
    }
   ],
   "source": [
    "model = \"https://tfhub.dev/google/nnlm-en-dim50/2\"\n",
    "hub_layer = hub.KerasLayer(model, input_shape=[], dtype=tf.string, trainable=True)\n",
    "hub_layer(train_examples[:2])"
   ]
  },
  {
   "cell_type": "code",
   "execution_count": 33,
   "metadata": {},
   "outputs": [
    {
     "name": "stdout",
     "output_type": "stream",
     "text": [
      "Model: \"sequential\"\n",
      "_________________________________________________________________\n",
      "Layer (type)                 Output Shape              Param #   \n",
      "=================================================================\n",
      "keras_layer (KerasLayer)     (None, 50)                48190600  \n",
      "_________________________________________________________________\n",
      "dense (Dense)                (None, 16)                816       \n",
      "_________________________________________________________________\n",
      "dense_1 (Dense)              (None, 1)                 17        \n",
      "=================================================================\n",
      "Total params: 48,191,433\n",
      "Trainable params: 48,191,433\n",
      "Non-trainable params: 0\n",
      "_________________________________________________________________\n"
     ]
    }
   ],
   "source": [
    "model = tf.keras.Sequential()\n",
    "model.add(hub_layer)\n",
    "model.add(tf.keras.layers.Dense(16, activation='relu'))\n",
    "model.add(tf.keras.layers.Dense(1))\n",
    "\n",
    "model.summary()"
   ]
  },
  {
   "cell_type": "code",
   "execution_count": 34,
   "metadata": {},
   "outputs": [],
   "source": [
    "model.compile(\n",
    "    optimizer='adam',\n",
    "    loss=tf.losses.BinaryCrossentropy(from_logits=True),\n",
    "    metrics=[tf.metrics.BinaryAccuracy(threshold=0.0, name='accuracy')]\n",
    ")"
   ]
  },
  {
   "cell_type": "markdown",
   "metadata": {},
   "source": [
    "## TRAINING MODEL "
   ]
  },
  {
   "cell_type": "code",
   "execution_count": 35,
   "metadata": {},
   "outputs": [
    {
     "name": "stdout",
     "output_type": "stream",
     "text": [
      "Epoch 1/40\n",
      "102/102 - 8s - loss: 0.6428 - accuracy: 0.6323 - val_loss: 0.4844 - val_accuracy: 0.8526\n",
      "Epoch 2/40\n",
      "102/102 - 5s - loss: 0.4093 - accuracy: 0.8551 - val_loss: 0.3516 - val_accuracy: 0.8670\n",
      "Epoch 3/40\n",
      "102/102 - 5s - loss: 0.3076 - accuracy: 0.8784 - val_loss: 0.3105 - val_accuracy: 0.8788\n",
      "Epoch 4/40\n",
      "102/102 - 5s - loss: 0.2593 - accuracy: 0.8994 - val_loss: 0.3012 - val_accuracy: 0.8800\n",
      "Epoch 5/40\n",
      "102/102 - 5s - loss: 0.2275 - accuracy: 0.9118 - val_loss: 0.3028 - val_accuracy: 0.8786\n",
      "Epoch 6/40\n",
      "102/102 - 5s - loss: 0.2029 - accuracy: 0.9225 - val_loss: 0.3143 - val_accuracy: 0.8755\n",
      "Epoch 7/40\n",
      "102/102 - 5s - loss: 0.1837 - accuracy: 0.9309 - val_loss: 0.3271 - val_accuracy: 0.8728\n",
      "Epoch 8/40\n",
      "102/102 - 5s - loss: 0.1669 - accuracy: 0.9383 - val_loss: 0.3439 - val_accuracy: 0.8702\n",
      "Epoch 9/40\n",
      "102/102 - 5s - loss: 0.1531 - accuracy: 0.9438 - val_loss: 0.3623 - val_accuracy: 0.8660\n"
     ]
    }
   ],
   "source": [
    "history = model.fit(\n",
    "    x_train,\n",
    "    y_train,\n",
    "    epochs=40,\n",
    "    batch_size=512,\n",
    "    validation_data=(x_val, y_val),\n",
    "    verbose=2,\n",
    "    callbacks=[\n",
    "        tf.keras.callbacks.EarlyStopping(monitor='val_accuracy', patience=5, min_delta=0.001)\n",
    "    ]\n",
    ")"
   ]
  },
  {
   "cell_type": "code",
   "execution_count": 36,
   "metadata": {},
   "outputs": [
    {
     "data": {
      "text/plain": [
       "dict_keys(['loss', 'accuracy', 'val_loss', 'val_accuracy'])"
      ]
     },
     "execution_count": 36,
     "metadata": {},
     "output_type": "execute_result"
    }
   ],
   "source": [
    "history_dict = history.history\n",
    "history_dict.keys()"
   ]
  },
  {
   "cell_type": "code",
   "execution_count": 37,
   "metadata": {},
   "outputs": [],
   "source": [
    "acc = history_dict['accuracy']\n",
    "val_acc = history_dict['val_accuracy']\n",
    "loss = history_dict['loss']\n",
    "val_loss = history_dict['val_loss']"
   ]
  },
  {
   "cell_type": "code",
   "execution_count": 38,
   "metadata": {},
   "outputs": [],
   "source": [
    "epochs = range(1, len(acc) + 1) "
   ]
  },
  {
   "cell_type": "code",
   "execution_count": 39,
   "metadata": {},
   "outputs": [
    {
     "data": {
      "image/png": "[encoded data removed]",
      "text/plain": [
       "<Figure size 648x360 with 1 Axes>"
      ]
     },
     "metadata": {
      "needs_background": "light"
     },
     "output_type": "display_data"
    }
   ],
   "source": [
    "# \"bo\" is for \"blue dot\"\n",
    "plt.figure(figsize=(9, 5))\n",
    "plt.plot(epochs, loss, 'bo', label='Training loss')\n",
    "# b is for \"solid blue line\"\n",
    "plt.plot(epochs, val_loss, 'b', label='Validation loss')\n",
    "plt.title('Training and validation loss')\n",
    "plt.xlabel('Epochs')\n",
    "plt.ylabel('Loss')\n",
    "plt.grid(True)\n",
    "plt.legend()\n",
    "\n",
    "plt.show()"
   ]
  },
  {
   "cell_type": "code",
   "execution_count": 40,
   "metadata": {},
   "outputs": [
    {
     "data": {
      "image/png": "[encoded data removed]",
      "text/plain": [
       "<Figure size 648x360 with 1 Axes>"
      ]
     },
     "metadata": {
      "needs_background": "light"
     },
     "output_type": "display_data"
    }
   ],
   "source": [
    "plt.figure(figsize=(9, 5))\n",
    "plt.plot(epochs, acc, 'bo', label='Training acc')\n",
    "plt.plot(epochs, val_acc, 'b', label='Validation acc')\n",
    "plt.title('Training and validation accuracy')\n",
    "plt.xlabel('Epochs')\n",
    "plt.ylabel('Accuracy')\n",
    "plt.grid(True)\n",
    "plt.legend()\n",
    "\n",
    "plt.show()"
   ]
  },
  {
   "cell_type": "code",
   "execution_count": 41,
   "metadata": {},
   "outputs": [],
   "source": [
    "def print_my_examples(inputs, results, actual_values=None, limit=None):\n",
    "    if actual_values is None:\n",
    "        result_for_printing = [f'input:\\n\"{inputs[i]}\"\\nscore: {results[i][0]:.6f}' for i in range(len(inputs))]\n",
    "    else:\n",
    "        result_for_printing = [f'input:\\n\"{inputs[i]}\"\\nscore: {results[i][0]:.6f}\\nactual value:{actual_values[i]}' for i in range(len(inputs))]\n",
    "    if limit:\n",
    "        result_for_printing = result_for_printing[:limit]\n",
    "    print(*result_for_printing, sep='\\n\\n')"
   ]
  },
  {
   "cell_type": "code",
   "execution_count": 42,
   "metadata": {},
   "outputs": [
    {
     "name": "stdout",
     "output_type": "stream",
     "text": [
      "input:\n",
      "\"Fun little push your luck game with enough variability in it to keep it interesting. This should be a hit for a long time.\"\n",
      "score: 0.968498\n",
      "actual value:1\n",
      "\n",
      "input:\n",
      "\"1-4 player Co-op Legacy campaign  Character/Deck management \"\n",
      "score: 0.970952\n",
      "actual value:1\n",
      "\n",
      "input:\n",
      "\"1–2+ Players, 60-120 Min Purchased: July '18, Gamestop, $20\"\n",
      "score: 0.999705\n",
      "actual value:1\n",
      "\n",
      "input:\n",
      "\"Update: Drafting and adding corporations to the mix significantly improved this game. It's now a solid 10 in my book, and the components do not even matter.  Great game, but man those components are horrible. Overpriced for what you get in the box. However, it is so good that I cannot rate it under 9!\"\n",
      "score: 0.999324\n",
      "actual value:1\n",
      "\n",
      "input:\n",
      "\"Min. Player - 1 Max Player - 5 Best Player - 3\"\n",
      "score: 0.938351\n",
      "actual value:1\n",
      "\n",
      "input:\n",
      "\"1 a 5 jugadores - 1 hora y media\"\n",
      "score: 0.977303\n",
      "actual value:1\n",
      "\n",
      "input:\n",
      "\"Amazing Game which i never get tired of. The theme draws you in but the Game is simply excellent. Takes a Long Time but Never fehlt that it overstays its welcome.\"\n",
      "score: 0.795452\n",
      "actual value:1\n",
      "\n",
      "input:\n",
      "\"Android App version. Cool concept that plays well aside from some app bugs. All the excitement really comes from the cards. I'm not a huge fan of \"take that\" mechanics, but they are fairly sparse and never feel overly damaging in this. The different corporations really encourage differing play styles, which are fun to explore.\"\n",
      "score: 0.761411\n",
      "actual value:1\n",
      "\n",
      "input:\n",
      "\"Solo. Well written story. Characters expansion and gameplay. -1 for part of the game which stops dynamic of game flow - like travelling across the maps back and forth.\"\n",
      "score: 0.972471\n",
      "actual value:1\n",
      "\n",
      "input:\n",
      "\"Fun Factor - 18/20 Replay-ability - 20/20 Solo Play - 20/20 Depth to Complexity - 8/10 Player Count and Scalability - 6/10 Balance and Luck - 7/10 Rules (clarity/confusion/teach-ability) - 7/10 Art & Theme - 10/10 Component Quality - 4/5 Game Length - 5/5 Value - 5/5  Rating = 8.72 (109/125)\"\n",
      "score: 0.999315\n",
      "actual value:1\n"
     ]
    }
   ],
   "source": [
    "inputs = x_train[:10]\n",
    "outputs = y_train[:10]\n",
    "results = tf.sigmoid(model.predict(tf.constant(inputs)))\n",
    "print_my_examples(inputs, results, outputs)"
   ]
  },
  {
   "cell_type": "code",
   "execution_count": 43,
   "metadata": {},
   "outputs": [],
   "source": [
    "## APPLY MODEL ON NON-RATED COMMENTS"
   ]
  },
  {
   "cell_type": "code",
   "execution_count": 44,
   "metadata": {},
   "outputs": [
    {
     "name": "stdout",
     "output_type": "stream",
     "text": [
      "input:\n",
      "\"Christmas 2019 present from  [user=hauntedgamecafe]\"\n",
      "score: 0.902667\n",
      "\n",
      "input:\n",
      "\"t18p98 reimplements Terra Mystica\"\n",
      "score: 0.989532\n",
      "\n",
      "input:\n",
      "\"Looks like a lot to multi task and have fun\"\n",
      "score: 0.988608\n",
      "\n",
      "input:\n",
      "\"With Kickstarter stretch goals and Medic.\"\n",
      "score: 0.993149\n",
      "\n",
      "input:\n",
      "\"Loved the third edition, so bought the fourth.  But this game goes onto the table perhaps once per year because of the time it takes to finish a game.\"\n",
      "score: 0.961884\n",
      "\n",
      "input:\n",
      "\"Punched out all of the pieces.  The insert is great.  Won't really have space to sleeve cards though -- though that's the thicker \"not-penny\" sleeves.  Penny sleeves may fit around the cards into the provided inserts.\"\n",
      "score: 0.995839\n",
      "\n",
      "input:\n",
      "\"Similar to Caylus in regard to expanding board which can be used by all players\"\n",
      "score: 0.906462\n",
      "\n",
      "input:\n",
      "\"Widely praised 'where's waldo for adults'. Sounds like a potential couples activity (GM gift?).\"\n",
      "score: 0.369749\n",
      "\n",
      "input:\n",
      "\"Zajimavy koncept, hraje se jen jednou. Jako \"where is waldo\".\"\n",
      "score: 0.986512\n",
      "\n",
      "input:\n",
      "\"Dumped it because of setup time.\"\n",
      "score: 0.806400\n",
      "\n",
      "input:\n",
      "\"Kickstarter collector's edition\"\n",
      "score: 0.981398\n",
      "\n",
      "input:\n",
      "\"A lot of hype (sorry Rodney) on this one that I bought into for the reprint Kickstarter. Here are some thoughts on it for me.  I often say games are complex in one of two ways. Either by volume of choice (aka, A Feast for Odin), or in comprehension of mechanics (aka Vital Lacerda). This falls in the latter camp.  There are similar concepts and interwoven mechanics that make for a rich experience... once you understand what you're doing. More than most, I think this game would benefit from a teacher who's very familiar with the game.  Once you're past that initial hurdle, there's a good chunk of fun to be had. You'll be trying to progress your goals, all while trying to stay nimble as alliances and powers shift. There's a fun bit of tension leading up to the dominance checks, knowing that red card could trigger at about any time.  I don't know if this is for the casual player, or those who don't spend a lot of time on one game. But if you've got the right group and want one with some real tactical and strategic depth, give this one a look.\"\n",
      "score: 0.980637\n",
      "\n",
      "input:\n",
      "\"Looking for a copy with the upgraded components and expansion.\"\n",
      "score: 0.877115\n",
      "\n",
      "input:\n",
      "\"Sleeves 45x Gamegenic PRIME Standard American Sleeves 36x Mayday Mini Euro Premium\"\n",
      "score: 0.994223\n",
      "\n",
      "input:\n",
      "\"Action Queue Campaign / Battle Card Driven Communication Limits Cooperative Game Critical Hits and Failures Deck Construction Grid Movement Hand Management Hexagon Grid Legacy Game Line of Sight Once-Per-Game Abilities Scenario / Mission / Campaign Game Simultaneous Action Selection Solo / Solitaire Game Variable Player Powers\"\n",
      "score: 0.999581\n",
      "\n",
      "input:\n",
      "\"Comes with Broken Token organizing insert!\"\n",
      "score: 0.998508\n",
      "\n",
      "input:\n",
      "\"Kickstarter backed: including 5-6 player expansion\"\n",
      "score: 0.879343\n",
      "\n",
      "input:\n",
      "\"Except for the difficulty and investment of teaching 4 separate factions, this is a perfect filler.  Too clever for its own good I think.  Not as tight as the CW designs I have played, which is a relief.  They always promise this very rich negotiation experience with temporary alliances and quid pro quo but I don't ever seem to find this when I play them.\"\n",
      "score: 0.848645\n",
      "\n",
      "input:\n",
      "\"Sleeved. Mayday Games 56mm x 87mm (purple)\"\n",
      "score: 0.988920\n",
      "\n",
      "input:\n",
      "\"Solid worker placement game with an awesome theme.\"\n",
      "score: 0.986284\n",
      "\n",
      "input:\n",
      "\"Faltan: -1 partidas mas -Probar modulos\"\n",
      "score: 0.983778\n",
      "\n",
      "input:\n",
      "\"Kickstarted and I finally got my copy this evening. As an aside, I will never trust FedEx to deliver anything again! However, there is a TON of stuff in the core box. I also got the Monsters of Avalon but I am realizing that I doubt if I will use the figs. Looking forward to playing this soon.  One of the better KS that I have supported. There is a lot to enjoy here and the replayability is off the charts. This game seems to play best with one other player although three players might work for a one-off adventure. No way would I play this with four players. Way too much down time! Not at good as the fanboys sold it as but not as bad as the naysayers claim either. If you love narrative, you will enjoy this one.\"\n",
      "score: 0.412377\n",
      "\n",
      "input:\n",
      "\"Dice Tower, Melody Vasel's Top 100 Games of All Time 2018, #33;  3 Minutes Board Game, Top 100 Games of All Time, #7;\"\n",
      "score: 0.760120\n",
      "\n",
      "input:\n",
      "\"From second printing Kickstarter. Plus solo scenario book and cards.\"\n",
      "score: 0.989647\n",
      "\n",
      "input:\n",
      "\"Includes a metal coin set for Architects of the West Kingdom.\"\n",
      "score: 0.566836\n"
     ]
    }
   ],
   "source": [
    "not_rated_comments = not_rated_comments.sample(frac=1)\n",
    "results = tf.sigmoid(model.predict(tf.constant(list(not_rated_comments.value.astype(str)))))\n",
    "print_my_examples(list(not_rated_comments.value), results, limit=25)"
   ]
  },
  {
   "cell_type": "markdown",
   "metadata": {},
   "source": [
    "## COMBINE RATED COMMENTS AND NOT-RATED COMMENTS WITH PREDICTED RATING"
   ]
  },
  {
   "cell_type": "code",
   "execution_count": 45,
   "metadata": {},
   "outputs": [
    {
     "name": "stdout",
     "output_type": "stream",
     "text": [
      "rated_comments_grouped: \n",
      "|     id |   rating_mean |   rating_count |\n",
      "|--------|---------------|----------------|\n",
      "| 162886 |          8.35 |           3495 |\n",
      "| 167355 |          8.41 |           1782 |\n",
      "| 167791 |          8.21 |           8207 |\n",
      "| 169427 |          8.60 |            214 |\n",
      "| 169786 |          8.10 |           7319 |\n"
     ]
    }
   ],
   "source": [
    "rated_comments['rating'] = rated_comments.rating.astype(float)\n",
    "rated_comments_grouped = rated_comments.groupby('id').agg({'rating': ['mean', 'count']})\n",
    "rated_comments_grouped.columns = list(rated_comments_grouped.columns.map('_'.join))\n",
    "rated_comments_grouped = rated_comments_grouped.reset_index()\n",
    "print(\"rated_comments_grouped: \")\n",
    "print(rated_comments_grouped.head().to_markdown(index=False, floatfmt='.2f', tablefmt='github'))"
   ]
  },
  {
   "cell_type": "code",
   "execution_count": 46,
   "metadata": {},
   "outputs": [],
   "source": [
    "not_rated_comments['rating'] = [round(float(r[0])*10, 1) for r in results]"
   ]
  },
  {
   "cell_type": "code",
   "execution_count": 47,
   "metadata": {},
   "outputs": [
    {
     "name": "stdout",
     "output_type": "stream",
     "text": [
      "not_rated_comments_grouped: \n",
      "|     id |   rating_mean |   rating_count |\n",
      "|--------|---------------|----------------|\n",
      "| 162886 |          8.73 |            309 |\n",
      "| 167355 |          8.89 |            213 |\n",
      "| 167791 |          8.89 |            437 |\n",
      "| 169427 |          9.05 |             72 |\n",
      "| 169786 |          8.65 |            588 |\n"
     ]
    }
   ],
   "source": [
    "not_rated_comments['rating'] = not_rated_comments.rating.astype(float)\n",
    "not_rated_comments_grouped = not_rated_comments.groupby('id').agg({'rating': ['mean', 'count']})\n",
    "not_rated_comments_grouped.columns = list(not_rated_comments_grouped.columns.map('_'.join))\n",
    "not_rated_comments_grouped = not_rated_comments_grouped.reset_index()\n",
    "print(\"not_rated_comments_grouped: \")\n",
    "print(not_rated_comments_grouped.head().to_markdown(index=False, floatfmt='.2f', tablefmt='github'))"
   ]
  },
  {
   "cell_type": "code",
   "execution_count": 48,
   "metadata": {},
   "outputs": [],
   "source": [
    "grouped = rated_comments_grouped.merge(not_rated_comments_grouped, on='id', suffixes=('_review', '_comments'), how='outer')\n",
    "grouped['id'] = grouped.id.astype(str)\n",
    "grouped = grouped.merge(pd.DataFrame(hot_array), on='id', how='right')\n",
    "grouped['rank'] = grouped['rank'].astype(int)\n",
    "grouped['url'] = grouped['id'].apply(lambda x: f\"https://boardgamegeek.com/boardgame/{x}\")\n",
    "grouped['fixed_rating'] = (grouped['rating_mean_review']*grouped['rating_count_review']+grouped['rating_mean_comments']*grouped['rating_count_comments']) /\\\n",
    "                            (grouped['rating_count_review']+grouped['rating_count_comments'])\n",
    "grouped['thumbnail'] = grouped['thumbnail'].apply(lambda x: f'<img src=\"{x}\" width=\"124\" />')\n",
    "grouped['name'] = grouped.apply(lambda x: f'<a href=\"{x[\"url\"]}\">{x[\"name\"]}</a>', axis=1)\n",
    "\n",
    "grouped = grouped[['thumbnail', 'name', 'rating_mean_review', 'rating_mean_comments', 'fixed_rating', 'rank', 'yearpublished']]"
   ]
  },
  {
   "cell_type": "code",
   "execution_count": 49,
   "metadata": {},
   "outputs": [
    {
     "data": {
      "text/html": [
       "<div>\n",
       "<style scoped>\n",
       "    .dataframe tbody tr th:only-of-type {\n",
       "        vertical-align: middle;\n",
       "    }\n",
       "\n",
       "    .dataframe tbody tr th {\n",
       "        vertical-align: top;\n",
       "    }\n",
       "\n",
       "    .dataframe thead th {\n",
       "        text-align: right;\n",
       "    }\n",
       "</style>\n",
       "<table border=\"1\" class=\"dataframe\">\n",
       "  <thead>\n",
       "    <tr style=\"text-align: right;\">\n",
       "      <th></th>\n",
       "      <th>thumbnail</th>\n",
       "      <th>name</th>\n",
       "      <th>rating_mean_review</th>\n",
       "      <th>rating_mean_comments</th>\n",
       "      <th>fixed_rating</th>\n",
       "      <th>rank</th>\n",
       "      <th>yearpublished</th>\n",
       "    </tr>\n",
       "  </thead>\n",
       "  <tbody>\n",
       "    <tr>\n",
       "      <th>0</th>\n",
       "      <td>&lt;img src=\"https://cf.geekdo-images.com/hItZjdD...</td>\n",
       "      <td>&lt;a href=\"https://boardgamegeek.com/boardgame/3...</td>\n",
       "      <td>10.000000</td>\n",
       "      <td>8.020000</td>\n",
       "      <td>8.350000</td>\n",
       "      <td>1</td>\n",
       "      <td>2022</td>\n",
       "    </tr>\n",
       "    <tr>\n",
       "      <th>1</th>\n",
       "      <td>&lt;img src=\"https://cf.geekdo-images.com/6GqH14T...</td>\n",
       "      <td>&lt;a href=\"https://boardgamegeek.com/boardgame/3...</td>\n",
       "      <td>7.918131</td>\n",
       "      <td>8.769697</td>\n",
       "      <td>7.995975</td>\n",
       "      <td>2</td>\n",
       "      <td>2020</td>\n",
       "    </tr>\n",
       "    <tr>\n",
       "      <th>2</th>\n",
       "      <td>&lt;img src=\"https://cf.geekdo-images.com/PhjygpW...</td>\n",
       "      <td>&lt;a href=\"https://boardgamegeek.com/boardgame/3...</td>\n",
       "      <td>8.120527</td>\n",
       "      <td>8.554167</td>\n",
       "      <td>8.164073</td>\n",
       "      <td>3</td>\n",
       "      <td>2020</td>\n",
       "    </tr>\n",
       "    <tr>\n",
       "      <th>3</th>\n",
       "      <td>&lt;img src=\"https://cf.geekdo-images.com/eUiju5S...</td>\n",
       "      <td>&lt;a href=\"https://boardgamegeek.com/boardgame/3...</td>\n",
       "      <td>8.583333</td>\n",
       "      <td>9.070000</td>\n",
       "      <td>8.757143</td>\n",
       "      <td>4</td>\n",
       "      <td>2021</td>\n",
       "    </tr>\n",
       "    <tr>\n",
       "      <th>4</th>\n",
       "      <td>&lt;img src=\"https://cf.geekdo-images.com/-JD8JLn...</td>\n",
       "      <td>&lt;a href=\"https://boardgamegeek.com/boardgame/2...</td>\n",
       "      <td>8.391837</td>\n",
       "      <td>9.147619</td>\n",
       "      <td>8.740659</td>\n",
       "      <td>5</td>\n",
       "      <td>2021</td>\n",
       "    </tr>\n",
       "  </tbody>\n",
       "</table>\n",
       "</div>"
      ],
      "text/plain": [
       "                                           thumbnail  \\\n",
       "0  <img src=\"https://cf.geekdo-images.com/hItZjdD...   \n",
       "1  <img src=\"https://cf.geekdo-images.com/6GqH14T...   \n",
       "2  <img src=\"https://cf.geekdo-images.com/PhjygpW...   \n",
       "3  <img src=\"https://cf.geekdo-images.com/eUiju5S...   \n",
       "4  <img src=\"https://cf.geekdo-images.com/-JD8JLn...   \n",
       "\n",
       "                                                name  rating_mean_review  \\\n",
       "0  <a href=\"https://boardgamegeek.com/boardgame/3...           10.000000   \n",
       "1  <a href=\"https://boardgamegeek.com/boardgame/3...            7.918131   \n",
       "2  <a href=\"https://boardgamegeek.com/boardgame/3...            8.120527   \n",
       "3  <a href=\"https://boardgamegeek.com/boardgame/3...            8.583333   \n",
       "4  <a href=\"https://boardgamegeek.com/boardgame/2...            8.391837   \n",
       "\n",
       "   rating_mean_comments  fixed_rating  rank yearpublished  \n",
       "0              8.020000      8.350000     1          2022  \n",
       "1              8.769697      7.995975     2          2020  \n",
       "2              8.554167      8.164073     3          2020  \n",
       "3              9.070000      8.757143     4          2021  \n",
       "4              9.147619      8.740659     5          2021  "
      ]
     },
     "execution_count": 49,
     "metadata": {},
     "output_type": "execute_result"
    }
   ],
   "source": [
    "grouped.head()"
   ]
  },
  {
   "cell_type": "code",
   "execution_count": 50,
   "metadata": {},
   "outputs": [],
   "source": [
    "def display_topn(by, n=5, ascending=True):\n",
    "    temp_df = grouped.sort_values(by, ascending=ascending).head(n)\n",
    "    temp_df.index=list(range(1, n+1))\n",
    "    return HTML(temp_df.to_html(escape=False, classes='table table-striped'))"
   ]
  },
  {
   "cell_type": "code",
   "execution_count": 51,
   "metadata": {},
   "outputs": [
    {
     "data": {
      "text/html": [
       "<table border=\"1\" class=\"dataframe table table-striped\">\n",
       "  <thead>\n",
       "    <tr style=\"text-align: right;\">\n",
       "      <th></th>\n",
       "      <th>thumbnail</th>\n",
       "      <th>name</th>\n",
       "      <th>rating_mean_review</th>\n",
       "      <th>rating_mean_comments</th>\n",
       "      <th>fixed_rating</th>\n",
       "      <th>rank</th>\n",
       "      <th>yearpublished</th>\n",
       "    </tr>\n",
       "  </thead>\n",
       "  <tbody>\n",
       "    <tr>\n",
       "      <th>1</th>\n",
       "      <td><img src=\"https://cf.geekdo-images.com/hItZjdDTNuaCZ7fEztwcUQ__thumb/img/Ov6eWR87PZ2O1XYQtXMO6KvfzOg=/fit-in/200x150/filters:strip_icc()/pic6153324.jpg\" width=\"124\" /></td>\n",
       "      <td><a href=\"https://boardgamegeek.com/boardgame/337627\">Voidfall</a></td>\n",
       "      <td>10.000000</td>\n",
       "      <td>8.020000</td>\n",
       "      <td>8.350000</td>\n",
       "      <td>1</td>\n",
       "      <td>2022</td>\n",
       "    </tr>\n",
       "    <tr>\n",
       "      <th>2</th>\n",
       "      <td><img src=\"https://cf.geekdo-images.com/6GqH14TJJhza86BX5HCLEQ__thumb/img/J8SVmGOJXZGxNjkT3xYNQU7Haxg=/fit-in/200x150/filters:strip_icc()/pic5674958.jpg\" width=\"124\" /></td>\n",
       "      <td><a href=\"https://boardgamegeek.com/boardgame/312484\">Lost Ruins of Arnak</a></td>\n",
       "      <td>7.918131</td>\n",
       "      <td>8.769697</td>\n",
       "      <td>7.995975</td>\n",
       "      <td>2</td>\n",
       "      <td>2020</td>\n",
       "    </tr>\n",
       "    <tr>\n",
       "      <th>3</th>\n",
       "      <td><img src=\"https://cf.geekdo-images.com/PhjygpWSo-0labGrPBMyyg__thumb/img/JGgY-nBmkyB8WRp8vcoBLlNMQ5U=/fit-in/200x150/filters:strip_icc()/pic5666597.jpg\" width=\"124\" /></td>\n",
       "      <td><a href=\"https://boardgamegeek.com/boardgame/316554\">Dune: Imperium</a></td>\n",
       "      <td>8.120527</td>\n",
       "      <td>8.554167</td>\n",
       "      <td>8.164073</td>\n",
       "      <td>3</td>\n",
       "      <td>2020</td>\n",
       "    </tr>\n",
       "    <tr>\n",
       "      <th>4</th>\n",
       "      <td><img src=\"https://cf.geekdo-images.com/eUiju5SqZbkNt8gnEofrTw__thumb/img/zNkmLNyeXJGOY24FeAAf4U67ejU=/fit-in/200x150/filters:strip_icc()/pic6035127.png\" width=\"124\" /></td>\n",
       "      <td><a href=\"https://boardgamegeek.com/boardgame/316624\">Stationfall</a></td>\n",
       "      <td>8.583333</td>\n",
       "      <td>9.070000</td>\n",
       "      <td>8.757143</td>\n",
       "      <td>4</td>\n",
       "      <td>2021</td>\n",
       "    </tr>\n",
       "    <tr>\n",
       "      <th>5</th>\n",
       "      <td><img src=\"https://cf.geekdo-images.com/-JD8JLncWYMes9Q6YIgorg__thumb/img/Ce6a64m5DxVae_ZXnAsrgdEnqBQ=/fit-in/200x150/filters:strip_icc()/pic6136538.jpg\" width=\"124\" /></td>\n",
       "      <td><a href=\"https://boardgamegeek.com/boardgame/277700\">Merchants Cove</a></td>\n",
       "      <td>8.391837</td>\n",
       "      <td>9.147619</td>\n",
       "      <td>8.740659</td>\n",
       "      <td>5</td>\n",
       "      <td>2021</td>\n",
       "    </tr>\n",
       "  </tbody>\n",
       "</table>"
      ],
      "text/plain": [
       "<IPython.core.display.HTML object>"
      ]
     },
     "execution_count": 51,
     "metadata": {},
     "output_type": "execute_result"
    }
   ],
   "source": [
    "# TOP N RANK\n",
    "display_topn(by='rank', n=TOP_N)"
   ]
  },
  {
   "cell_type": "code",
   "execution_count": 52,
   "metadata": {},
   "outputs": [
    {
     "data": {
      "text/html": [
       "<table border=\"1\" class=\"dataframe table table-striped\">\n",
       "  <thead>\n",
       "    <tr style=\"text-align: right;\">\n",
       "      <th></th>\n",
       "      <th>thumbnail</th>\n",
       "      <th>name</th>\n",
       "      <th>rating_mean_review</th>\n",
       "      <th>rating_mean_comments</th>\n",
       "      <th>fixed_rating</th>\n",
       "      <th>rank</th>\n",
       "      <th>yearpublished</th>\n",
       "    </tr>\n",
       "  </thead>\n",
       "  <tbody>\n",
       "    <tr>\n",
       "      <th>1</th>\n",
       "      <td><img src=\"https://cf.geekdo-images.com/hItZjdDTNuaCZ7fEztwcUQ__thumb/img/Ov6eWR87PZ2O1XYQtXMO6KvfzOg=/fit-in/200x150/filters:strip_icc()/pic6153324.jpg\" width=\"124\" /></td>\n",
       "      <td><a href=\"https://boardgamegeek.com/boardgame/337627\">Voidfall</a></td>\n",
       "      <td>10.000000</td>\n",
       "      <td>8.020000</td>\n",
       "      <td>8.350000</td>\n",
       "      <td>1</td>\n",
       "      <td>2022</td>\n",
       "    </tr>\n",
       "    <tr>\n",
       "      <th>2</th>\n",
       "      <td><img src=\"https://cf.geekdo-images.com/nhWSmNJSTBAye6bxLa9x-Q__thumb/img/B4r1iyRl2Z2CcMrtBRQOKYwwngw=/fit-in/200x150/filters:strip_icc()/pic4779069.jpg\" width=\"124\" /></td>\n",
       "      <td><a href=\"https://boardgamegeek.com/boardgame/268012\">Chronicles of Drunagor: Age of Darkness</a></td>\n",
       "      <td>9.534483</td>\n",
       "      <td>8.454545</td>\n",
       "      <td>9.237500</td>\n",
       "      <td>18</td>\n",
       "      <td>2021</td>\n",
       "    </tr>\n",
       "    <tr>\n",
       "      <th>3</th>\n",
       "      <td><img src=\"https://cf.geekdo-images.com/Oh3kHw6lweg6ru71Q16h2Q__thumb/img/e9XZdQe1ZcPpaq4Gy31OoWBB_V0=/fit-in/200x150/filters:strip_icc()/pic5235277.jpg\" width=\"124\" /></td>\n",
       "      <td><a href=\"https://boardgamegeek.com/boardgame/246900\">Eclipse: Second Dawn for the Galaxy</a></td>\n",
       "      <td>8.744153</td>\n",
       "      <td>8.718072</td>\n",
       "      <td>8.739974</td>\n",
       "      <td>35</td>\n",
       "      <td>2020</td>\n",
       "    </tr>\n",
       "    <tr>\n",
       "      <th>4</th>\n",
       "      <td><img src=\"https://cf.geekdo-images.com/x3zxjr-Vw5iU4yDPg70Jgw__thumb/img/o18rjEemoWaVru9Y2TyPwuIaRfE=/fit-in/200x150/filters:strip_icc()/pic3490053.jpg\" width=\"124\" /></td>\n",
       "      <td><a href=\"https://boardgamegeek.com/boardgame/224517\">Brass: Birmingham</a></td>\n",
       "      <td>8.688725</td>\n",
       "      <td>8.801732</td>\n",
       "      <td>8.699192</td>\n",
       "      <td>26</td>\n",
       "      <td>2018</td>\n",
       "    </tr>\n",
       "    <tr>\n",
       "      <th>5</th>\n",
       "      <td><img src=\"https://cf.geekdo-images.com/_HhIdavYW-hid20Iq3hhmg__thumb/img/OMkN_E5eyWrkID_cHCnQEbIixGM=/fit-in/200x150/filters:strip_icc()/pic5055631.jpg\" width=\"124\" /></td>\n",
       "      <td><a href=\"https://boardgamegeek.com/boardgame/291457\">Gloomhaven: Jaws of the Lion</a></td>\n",
       "      <td>8.624808</td>\n",
       "      <td>8.437879</td>\n",
       "      <td>8.606001</td>\n",
       "      <td>16</td>\n",
       "      <td>2020</td>\n",
       "    </tr>\n",
       "  </tbody>\n",
       "</table>"
      ],
      "text/plain": [
       "<IPython.core.display.HTML object>"
      ]
     },
     "execution_count": 52,
     "metadata": {},
     "output_type": "execute_result"
    }
   ],
   "source": [
    "# TOP N REVIEW RANK\n",
    "display_topn(by='rating_mean_review', n=TOP_N, ascending=False)"
   ]
  },
  {
   "cell_type": "code",
   "execution_count": 53,
   "metadata": {},
   "outputs": [
    {
     "data": {
      "text/html": [
       "<table border=\"1\" class=\"dataframe table table-striped\">\n",
       "  <thead>\n",
       "    <tr style=\"text-align: right;\">\n",
       "      <th></th>\n",
       "      <th>thumbnail</th>\n",
       "      <th>name</th>\n",
       "      <th>rating_mean_review</th>\n",
       "      <th>rating_mean_comments</th>\n",
       "      <th>fixed_rating</th>\n",
       "      <th>rank</th>\n",
       "      <th>yearpublished</th>\n",
       "    </tr>\n",
       "  </thead>\n",
       "  <tbody>\n",
       "    <tr>\n",
       "      <th>1</th>\n",
       "      <td><img src=\"https://cf.geekdo-images.com/nhWSmNJSTBAye6bxLa9x-Q__thumb/img/B4r1iyRl2Z2CcMrtBRQOKYwwngw=/fit-in/200x150/filters:strip_icc()/pic4779069.jpg\" width=\"124\" /></td>\n",
       "      <td><a href=\"https://boardgamegeek.com/boardgame/268012\">Chronicles of Drunagor: Age of Darkness</a></td>\n",
       "      <td>9.534483</td>\n",
       "      <td>8.454545</td>\n",
       "      <td>9.237500</td>\n",
       "      <td>18</td>\n",
       "      <td>2021</td>\n",
       "    </tr>\n",
       "    <tr>\n",
       "      <th>2</th>\n",
       "      <td><img src=\"https://cf.geekdo-images.com/eUiju5SqZbkNt8gnEofrTw__thumb/img/zNkmLNyeXJGOY24FeAAf4U67ejU=/fit-in/200x150/filters:strip_icc()/pic6035127.png\" width=\"124\" /></td>\n",
       "      <td><a href=\"https://boardgamegeek.com/boardgame/316624\">Stationfall</a></td>\n",
       "      <td>8.583333</td>\n",
       "      <td>9.070000</td>\n",
       "      <td>8.757143</td>\n",
       "      <td>4</td>\n",
       "      <td>2021</td>\n",
       "    </tr>\n",
       "    <tr>\n",
       "      <th>3</th>\n",
       "      <td><img src=\"https://cf.geekdo-images.com/-JD8JLncWYMes9Q6YIgorg__thumb/img/Ce6a64m5DxVae_ZXnAsrgdEnqBQ=/fit-in/200x150/filters:strip_icc()/pic6136538.jpg\" width=\"124\" /></td>\n",
       "      <td><a href=\"https://boardgamegeek.com/boardgame/277700\">Merchants Cove</a></td>\n",
       "      <td>8.391837</td>\n",
       "      <td>9.147619</td>\n",
       "      <td>8.740659</td>\n",
       "      <td>5</td>\n",
       "      <td>2021</td>\n",
       "    </tr>\n",
       "    <tr>\n",
       "      <th>4</th>\n",
       "      <td><img src=\"https://cf.geekdo-images.com/Oh3kHw6lweg6ru71Q16h2Q__thumb/img/e9XZdQe1ZcPpaq4Gy31OoWBB_V0=/fit-in/200x150/filters:strip_icc()/pic5235277.jpg\" width=\"124\" /></td>\n",
       "      <td><a href=\"https://boardgamegeek.com/boardgame/246900\">Eclipse: Second Dawn for the Galaxy</a></td>\n",
       "      <td>8.744153</td>\n",
       "      <td>8.718072</td>\n",
       "      <td>8.739974</td>\n",
       "      <td>35</td>\n",
       "      <td>2020</td>\n",
       "    </tr>\n",
       "    <tr>\n",
       "      <th>5</th>\n",
       "      <td><img src=\"https://cf.geekdo-images.com/hRuD1y5BxdNpssgBqamS0A__thumb/img/fpUu1t2YLjJ4EvEzBGTKtZasNv4=/fit-in/200x150/filters:strip_icc()/pic4595897.jpg\" width=\"124\" /></td>\n",
       "      <td><a href=\"https://boardgamegeek.com/boardgame/169427\">Middara: Unintentional Malum – Act 1</a></td>\n",
       "      <td>8.601543</td>\n",
       "      <td>9.054167</td>\n",
       "      <td>8.715490</td>\n",
       "      <td>40</td>\n",
       "      <td>2019</td>\n",
       "    </tr>\n",
       "  </tbody>\n",
       "</table>"
      ],
      "text/plain": [
       "<IPython.core.display.HTML object>"
      ]
     },
     "execution_count": 53,
     "metadata": {},
     "output_type": "execute_result"
    }
   ],
   "source": [
    "# TOP N FIXED RANK\n",
    "display_topn(by='fixed_rating', n=TOP_N, ascending=False)"
   ]
  },
  {
   "cell_type": "code",
   "execution_count": 54,
   "metadata": {},
   "outputs": [],
   "source": [
    "# model.save('saved_model\\my_model')"
   ]
  },
  {
   "cell_type": "code",
   "execution_count": 55,
   "metadata": {},
   "outputs": [],
   "source": [
    "# saved_model = tf.keras.models.load_model('saved_model\\my_model')"
   ]
  },
  {
   "cell_type": "code",
   "execution_count": 56,
   "metadata": {},
   "outputs": [],
   "source": [
    "# some examples on \"long\" comments vs short comments"
   ]
  },
  {
   "cell_type": "code",
   "execution_count": 57,
   "metadata": {},
   "outputs": [
    {
     "name": "stdout",
     "output_type": "stream",
     "text": [
      "input:\n",
      "\"not interested much I DO NOT GET THE SET UP!  some evil is coming to destroy the island killing all cats, why should I be concerned with anything but nabbing cats? that said this seems like a game where if I could get over that I would enjoy it.\"\n",
      "score: 0.963676\n",
      "\n",
      "input:\n",
      "\"+ Legendary box, board extension, metal coins, custom dials, extra resource containers, wood tokens and custom deluxe resources.\"\n",
      "score: 0.939318\n",
      "\n",
      "input:\n",
      "\"2.1 - Might be some fast fun. Not my favourite subject matter or gameplay, but my oldest daughter quilts (she said she'd love to try this) and my son and daughter-in-law have cats. I think they'd all play this. Plus, reasonable price.\"\n",
      "score: 0.998391\n",
      "\n",
      "input:\n",
      "\"Got this to play solo, have yet to make it past the setup, the game is so daunting but I will keep trying until I'm able to play it. Love the theme and artwork, and the mechanics all make so much sense it's just so much to grock.\"\n",
      "score: 0.999692\n",
      "\n",
      "input:\n",
      "\"Seems to be very popular but does not appeal to me at all. I guess that mainly I am not that keen on cooperative games.\"\n",
      "score: 0.142637\n",
      "\n",
      "input:\n",
      "\"Some game mechanics are an inferior rip-off of 7th continent.  P.S. Good luck getting this game shipped to you before you grow a huge f*cking beard.\"\n",
      "score: 0.990450\n",
      "\n",
      "input:\n",
      "\"The Darkness, Discovery, Event and Virtue cards are all a standard card size of 66mm x 91mm while the Chapter Cards (Story/Scenes) are 70mm x 120mm\"\n",
      "score: 0.981754\n",
      "\n",
      "input:\n",
      "\"[color=blue][i]*** Looks like an somewhat interesting take on worker placement. Not sure if I like the theme or not... Plus it looks very fiddly. ***[/i][/color]\"\n",
      "score: 0.146778\n",
      "\n",
      "input:\n",
      "\"with metal coins and holder, realistic pieces, and expansions Invaders from Afar, Encounters, and Wind Gambit\"\n",
      "score: 0.999418\n",
      "\n",
      "input:\n",
      "\"Only played solo, very enjoyable, love the art, game play easy to recall, not stuck rereading rules every time I game\"\n",
      "score: 0.997976\n",
      "\n",
      "input:\n",
      "\"Card Game $48 Coolstuffinc.com Wait for second edition to come out in 2019? Worker placement  Fantasy animals 2 player:  \"\n",
      "score: 0.882565\n",
      "\n",
      "input:\n",
      "\"Nyersanyagokat gyűjtesz amelyekből kártyákat veszel és ezáltal pontokra teszel szert a 4 fordulóból álló játékban, amelyben minden fordulóban egyre több bábuval cselekedhetsz. Nagyjából ennyi. Nincs benne semmi extra. Azonban a játék kinézete és témája szuper és gyönyörű. Ezzel meg is fogott.\"\n",
      "score: 0.995683\n",
      "\n",
      "input:\n",
      "\"This is a light Family Filler game, but it is SO popular!  Should really try it out... and it seems to have a super-popular expansion too.\"\n",
      "score: 0.990932\n",
      "\n",
      "input:\n",
      "\"+ Enter the Spider-verse (KS Edition) + Guardians of the Galaxy Remix (KS Edition) + Return of the Sinister Six + Rise of the Black Panther + Tales of Asgard (KS Edition) + The Infinity Gauntlet   + Adam Warlock + Yondu + Promos box (KS1)  + Cardboard locations + Playmat\"\n",
      "score: 0.999686\n",
      "\n",
      "input:\n",
      "\"Bundled with Prelude, Colonies, Hellas and Elysium, Venus Next, and Turmoil.  3D printed organizer - all contained in Main box  3D printed tiles - organized in 2 Plano boxes\"\n",
      "score: 0.999736\n",
      "\n",
      "input:\n",
      "\"[b] AMERITRASH [/b] Open, Unplayed  *Own: KS 1st Edition w/promo box  [b]Summary:[/b] :city: [b] Unplayed[/b] \"\n",
      "score: 0.982573\n",
      "\n",
      "input:\n",
      "\"Designer: D. Turczi, R. Amann, V. Peter Artist: Villő Farkas, László Fejes, Laslo Forgach, Márton Gyula Kiss, Péter Meszlényi Publisher: Mindclash Games Weight: 3.99 / 5 3 Giocatori (1-4) 30-120 min  42.0 cm 29.5 cm 10.0 cm Posizione: UP1\"\n",
      "score: 0.990837\n",
      "\n",
      "input:\n",
      "\"Played once in a two player game, and found it lacking for 2 players. I think this one needs to have 4 players to be fully enjoyed. I like flexibility in my games, so that they can be enjoyed with all numbers of players that it lists. I felt too constricted to have 4 players to really enjoy it. \"\n",
      "score: 0.769677\n",
      "\n",
      "input:\n",
      "\"A good idea, an easier to setup and store version of 1/3 the Gloomhaven content at 1/2 the price.  Provides a much easier entry point for new or unsure players.\"\n",
      "score: 0.997233\n",
      "\n",
      "input:\n",
      "\"Inklusive: - Basisspiel. - Ast und Tatze (1. Erweiterung). - VORBESTELLT: Zerklüftete Erde (2. Erweiterung). - Promo „Schlummernde Schlange“ (PRO 564). - Premium Holz-Token-Pack (SISL-TOK1).\"\n",
      "score: 0.995114\n",
      "\n",
      "input:\n",
      "\"Coop Trick taking game. Each person has goals, such as \"this person has to get all green 7s\" and you need to make sure everyone fulfills them without communications.\"\n",
      "score: 0.899819\n",
      "\n",
      "input:\n",
      "\"This is a really fun game to have on your shelf. Opening it and learning it is intimidating. I have an insert and removable stickers at the ready for whenever I invest in playing Gloomhaven.\"\n",
      "score: 0.955216\n",
      "\n",
      "input:\n",
      "\"Terramystica in space with a wide variety of aliens to choose from and thankfully replaced faith tracks with more interesting upgrade tracks.\"\n",
      "score: 0.998983\n",
      "\n",
      "input:\n",
      "\"heavy euro game not too diffficult to learn for most for how heavy it is. can hamstring your self early and ruin the rest of the game. not long for how heavy it is. lots of long term thinking.\"\n",
      "score: 0.101463\n",
      "\n",
      "input:\n",
      "\"I’ve mucked around with the digital version trial. I love the digital experience with the sights and sound on my iPad, but way too much for the digital copy in my mind for the full game at $20.\"\n",
      "score: 0.780514\n"
     ]
    }
   ],
   "source": [
    "# some long comments\n",
    "not_rated_comments['comment_len'] = not_rated_comments['value'].str.len()\n",
    "some_long_comments = not_rated_comments.query(\"comment_len>100 and comment_len<300\").sample(frac=1)\n",
    "results = tf.sigmoid(model.predict(tf.constant(list(some_long_comments.value))))\n",
    "print_my_examples(list(some_long_comments.value), results, limit=25)"
   ]
  },
  {
   "cell_type": "code",
   "execution_count": null,
   "metadata": {},
   "outputs": [],
   "source": []
  }
 ],
 "metadata": {
  "kernelspec": {
   "display_name": "tensorflow2",
   "language": "python",
   "name": "tensorflow2"
  },
  "language_info": {
   "codemirror_mode": {
    "name": "ipython",
    "version": 3
   },
   "file_extension": ".py",
   "mimetype": "text/x-python",
   "name": "python",
   "nbconvert_exporter": "python",
   "pygments_lexer": "ipython3",
   "version": "3.8.8"
  }
 },
 "nbformat": 4,
 "nbformat_minor": 4
}
