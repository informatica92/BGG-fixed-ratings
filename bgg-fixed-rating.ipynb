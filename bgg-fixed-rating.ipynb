{
 "cells": [
  {
   "cell_type": "code",
   "execution_count": 150,
   "metadata": {},
   "outputs": [],
   "source": [
    "# ## BGG API\n",
    "# https://www.boardgamegeek.com/xmlapi2/thing?id=161599&comments=1\n",
    "# https://www.boardgamegeek.com/xmlapi2/hot?type=boardgame\n",
    "# ## NLP WITH TF\n",
    "# https://www.tensorflow.org/hub/tutorials/tf2_text_classification"
   ]
  },
  {
   "cell_type": "code",
   "execution_count": 1,
   "metadata": {},
   "outputs": [
    {
     "name": "stdout",
     "output_type": "stream",
     "text": [
      "Version:  2.1.0\n",
      "Eager mode:  True\n",
      "Hub version:  0.12.0\n",
      "GPU is NOT AVAILABLE\n"
     ]
    }
   ],
   "source": [
    "import tensorflow as tf\n",
    "import tensorflow_hub as hub\n",
    "import tensorflow_datasets as tfds\n",
    "\n",
    "import xml.etree.ElementTree as Xet\n",
    "import matplotlib.pyplot as plt\n",
    "import pandas as pd\n",
    "import numpy as np\n",
    "import requests\n",
    "from IPython.display import Image, HTML\n",
    "\n",
    "print(\"Version: \", tf.__version__)\n",
    "print(\"Eager mode: \", tf.executing_eagerly())\n",
    "print(\"Hub version: \", hub.__version__)\n",
    "print(\"GPU is\", \"available\" if tf.config.list_physical_devices('GPU') else \"NOT AVAILABLE\")"
   ]
  },
  {
   "cell_type": "code",
   "execution_count": 20,
   "metadata": {},
   "outputs": [],
   "source": [
    "GOOD_REVIEW_THRESHOLD = 7"
   ]
  },
  {
   "cell_type": "code",
   "execution_count": 21,
   "metadata": {},
   "outputs": [],
   "source": [
    "VAL_FRACTION = 0.25"
   ]
  },
  {
   "cell_type": "markdown",
   "metadata": {},
   "source": [
    "## GET DATA"
   ]
  },
  {
   "cell_type": "code",
   "execution_count": 2,
   "metadata": {},
   "outputs": [],
   "source": [
    "hot = requests.get(\"https://www.boardgamegeek.com/xmlapi2/hot?type=boardgame\").content.decode()\n",
    "  \n",
    "# Parsing the XML file\n",
    "xmlparse = Xet.fromstring(hot)\n",
    "\n",
    "hot_array = []\n",
    "for item in xmlparse:\n",
    "    dict_element = {\n",
    "        \"id\": item.get(\"id\"),\n",
    "        \"rank\": item.get(\"rank\")\n",
    "    }\n",
    "    for option in item:\n",
    "        dict_element[option.tag] = option.get(\"value\")\n",
    "    hot_array.append(dict_element)"
   ]
  },
  {
   "cell_type": "code",
   "execution_count": 3,
   "metadata": {},
   "outputs": [
    {
     "data": {
      "text/plain": [
       "[{'id': '328866',\n",
       "  'rank': '1',\n",
       "  'thumbnail': 'https://cf.geekdo-images.com/N0hCcxXw8d7vUjKfsYO6vg__thumb/img/K4DDlRzl6qlQf9L_oMLb7g9WUYo=/fit-in/200x150/filters:strip_icc()/pic6121929.png',\n",
       "  'name': \"My Father's Work\",\n",
       "  'yearpublished': '2021'},\n",
       " {'id': '336794',\n",
       "  'rank': '2',\n",
       "  'thumbnail': 'https://cf.geekdo-images.com/1gQABuftAVgk1qshkMyDEw__thumb/img/Ovni6sWuvyfj9LWn-hnHzpCELF8=/fit-in/200x150/filters:strip_icc()/pic6125184.jpg',\n",
       "  'name': 'Galaxy Trucker',\n",
       "  'yearpublished': '2021'}]"
      ]
     },
     "execution_count": 3,
     "metadata": {},
     "output_type": "execute_result"
    }
   ],
   "source": [
    "hot_array[:2]"
   ]
  },
  {
   "cell_type": "code",
   "execution_count": 4,
   "metadata": {},
   "outputs": [
    {
     "name": "stdout",
     "output_type": "stream",
     "text": [
      "page number = 1 max = 100 len = 50\n",
      "\n",
      "page number = 2 max = 100 len = 50\n",
      "\n",
      "page number = 3 max = 100 len = 50\n",
      "\n",
      "page number = 4 max = 100 len = 50\n",
      "\n",
      "page number = 5 max = 100 len = 50\n",
      "\n",
      "page number = 6 max = 100 len = 50\n",
      "\n",
      "page number = 7 max = 100 len = 50\n",
      "\n",
      "page number = 8 max = 100 len = 50\n",
      "\n",
      "page number = 9 max = 100 len = 50\n",
      "\n",
      "page number = 10 max = 100 len = 50\n",
      "\n",
      "page number = 11 max = 100 len = 50\n",
      "\n",
      "page number = 12 max = 100 len = 50\n",
      "\n",
      "page number = 13 max = 100 len = 50\n",
      "\n",
      "page number = 14 max = 100 len = 50\n",
      "\n",
      "page number = 15 max = 100 len = 50\n",
      "\n",
      "page number = 16 max = 100 len = 50\n",
      "\n",
      "page number = 17 max = 100 len = 50\n",
      "\n",
      "page number = 18 max = 100 len = 50\n",
      "\n",
      "page number = 19 max = 100 len = 50\n",
      "\n",
      "page number = 20 max = 100 len = 50\n",
      "\n",
      "page number = 21 max = 100 len = 50\n",
      "\n",
      "page number = 22 max = 100 len = 50\n",
      "\n",
      "page number = 23 max = 100 len = 50\n",
      "\n",
      "page number = 24 max = 100 len = 50\n",
      "\n",
      "page number = 25 max = 100 len = 50\n",
      "\n",
      "page number = 26 max = 100 len = 50\n",
      "\n",
      "page number = 27 max = 100 len = 50\n",
      "\n",
      "page number = 28 max = 100 len = 50\n",
      "\n",
      "page number = 29 max = 100 len = 50\n",
      "\n",
      "page number = 30 max = 100 len = 50\n",
      "\n",
      "page number = 31 max = 100 len = 50\n",
      "\n",
      "page number = 32 max = 100 len = 50\n",
      "\n",
      "page number = 33 max = 100 len = 50\n",
      "\n",
      "page number = 34 max = 100 len = 50\n",
      "\n",
      "page number = 35 max = 100 len = 50\n",
      "\n",
      "page number = 36 max = 100 len = 50\n",
      "\n",
      "page number = 37 max = 100 len = 50\n",
      "\n",
      "page number = 38 max = 100 len = 50\n",
      "\n",
      "page number = 39 max = 100 len = 50\n",
      "\n",
      "page number = 40 max = 100 len = 50\n",
      "\n",
      "page number = 41 max = 100 len = 50\n",
      "\n",
      "page number = 42 max = 100 len = 50\n",
      "\n",
      "page number = 43 max = 100 len = 50\n",
      "\n",
      "page number = 44 max = 100 len = 50\n",
      "\n",
      "page number = 45 max = 100 len = 50\n",
      "\n",
      "page number = 46 max = 100 len = 50\n",
      "\n",
      "page number = 47 max = 100 len = 50\n",
      "\n",
      "page number = 48 max = 100 len = 50\n",
      "\n",
      "page number = 49 max = 100 len = 50\n",
      "\n",
      "page number = 50 max = 100 len = 50\n",
      "\n",
      "page number = 51 max = 100 len = 50\n",
      "\n",
      "page number = 52 max = 100 len = 50\n",
      "\n",
      "page number = 53 max = 100 len = 50\n",
      "\n",
      "page number = 54 max = 100 len = 50\n",
      "\n",
      "page number = 55 max = 100 len = 50\n",
      "\n",
      "page number = 56 max = 100 len = 50\n",
      "\n",
      "page number = 57 max = 100 len = 50\n",
      "\n",
      "page number = 58 max = 100 len = 50\n",
      "\n",
      "page number = 59 max = 100 len = 50\n",
      "\n",
      "page number = 60 max = 100 len = 50\n",
      "\n",
      "page number = 61 max = 100 len = 50\n",
      "\n",
      "page number = 62 max = 100 len = 50\n",
      "\n",
      "page number = 63 max = 100 len = 50\n",
      "\n",
      "page number = 64 max = 100 len = 50\n",
      "\n",
      "page number = 65 max = 100 len = 50\n",
      "\n",
      "page number = 66 max = 100 len = 50\n",
      "\n",
      "page number = 67 max = 100 len = 50\n",
      "\n",
      "page number = 68 max = 100 len = 50\n",
      "\n",
      "page number = 69 max = 100 len = 50\n",
      "\n",
      "page number = 70 max = 100 len = 50\n",
      "\n",
      "page number = 71 max = 100 len = 50\n",
      "\n",
      "page number = 72 max = 100 len = 50\n",
      "\n",
      "page number = 73 max = 100 len = 50\n",
      "\n",
      "page number = 74 max = 100 len = 50\n",
      "\n",
      "page number = 75 max = 100 len = 50\n",
      "\n",
      "page number = 76 max = 100 len = 50\n",
      "\n",
      "page number = 77 max = 100 len = 50\n",
      "\n",
      "page number = 78 max = 100 len = 50\n",
      "\n",
      "page number = 79 max = 100 len = 50\n",
      "\n",
      "page number = 80 max = 100 len = 50\n",
      "\n",
      "page number = 81 max = 100 len = 50\n",
      "\n",
      "page number = 82 max = 100 len = 50\n",
      "\n",
      "page number = 83 max = 100 len = 50\n",
      "\n",
      "page number = 84 max = 100 len = 50\n",
      "\n",
      "page number = 85 max = 100 len = 50\n",
      "\n",
      "page number = 86 max = 100 len = 50\n",
      "\n",
      "page number = 87 max = 100 len = 50\n",
      "\n",
      "page number = 88 max = 100 len = 50\n",
      "\n",
      "page number = 89 max = 100 len = 50\n",
      "\n",
      "page number = 90 max = 100 len = 50\n",
      "\n",
      "page number = 91 max = 100 len = 50\n",
      "\n",
      "page number = 92 max = 100 len = 50\n",
      "\n",
      "page number = 93 max = 100 len = 50\n",
      "\n",
      "page number = 94 max = 100 len = 50\n",
      "\n",
      "page number = 95 max = 100 len = 50\n",
      "\n",
      "page number = 96 max = 100 len = 50\n",
      "\n",
      "page number = 97 max = 100 len = 50\n",
      "\n",
      "page number = 98 max = 100 len = 50\n",
      "\n",
      "page number = 99 max = 3 len = 50\n",
      "\n",
      "page number = 100 max = 0 len = 50\n",
      "\n"
     ]
    }
   ],
   "source": [
    "max_comments_per_page = 1\n",
    "hot_array_ids = [h['id'] for h in hot_array]\n",
    "ids = ','.join(hot_array_ids)\n",
    "page_size = 100\n",
    "page_number = 0\n",
    "comments_array = []\n",
    "\n",
    "while max_comments_per_page > 0:\n",
    "    page_number += 1\n",
    "    print(f\"page number = {page_number}\", end=\" \")\n",
    "    comments = requests.get(f\"https://www.boardgamegeek.com/xmlapi2/thing?id={ids}&comments=1&pagesize={page_size}&page={page_number}\").content.decode()\n",
    "\n",
    "    # Parsing the XML file\n",
    "    xmlparse = Xet.fromstring(comments)\n",
    "    comments_per_item = []\n",
    "    for item in xmlparse:        \n",
    "        for option in item:\n",
    "            if option.tag == 'comments':\n",
    "                comments_per_page = 0\n",
    "                for comment in option:\n",
    "                    comments_per_page += 1\n",
    "                    dict_element = {\n",
    "                        \"id\": item.get(\"id\"),\n",
    "                        \"username\": comment.get(\"username\"),\n",
    "                        \"rating\": comment.get(\"rating\"),\n",
    "                        \"value\": comment.get(\"value\")\n",
    "                    }\n",
    "                    comments_array.append(dict_element)\n",
    "                if comments_per_page==0:\n",
    "                    hot_array_ids.pop(item.get(\"id\"))\n",
    "                    ids = ','.join(hot_array_ids)\n",
    "                comments_per_item.append(comments_per_page)\n",
    "    max_comments_per_page = max(comments_per_item)\n",
    "    print(f\"(max: {max(comments_per_item)}, len = {len(comments_per_item)})\")"
   ]
  },
  {
   "cell_type": "code",
   "execution_count": 6,
   "metadata": {},
   "outputs": [
    {
     "data": {
      "text/plain": [
       "[{'id': '328866',\n",
       "  'username': '4tsawicki',\n",
       "  'rating': 'N/A',\n",
       "  'value': 'Feb 2022'},\n",
       " {'id': '328866', 'username': 'alexbatbee', 'rating': 'N/A', 'value': 'KS'}]"
      ]
     },
     "execution_count": 6,
     "metadata": {},
     "output_type": "execute_result"
    }
   ],
   "source": [
    "comments_array[:2]"
   ]
  },
  {
   "cell_type": "code",
   "execution_count": 7,
   "metadata": {},
   "outputs": [],
   "source": [
    "comments_df = pd.DataFrame(comments_array)"
   ]
  },
  {
   "cell_type": "code",
   "execution_count": 8,
   "metadata": {},
   "outputs": [
    {
     "data": {
      "text/html": [
       "<div>\n",
       "<style scoped>\n",
       "    .dataframe tbody tr th:only-of-type {\n",
       "        vertical-align: middle;\n",
       "    }\n",
       "\n",
       "    .dataframe tbody tr th {\n",
       "        vertical-align: top;\n",
       "    }\n",
       "\n",
       "    .dataframe thead th {\n",
       "        text-align: right;\n",
       "    }\n",
       "</style>\n",
       "<table border=\"1\" class=\"dataframe\">\n",
       "  <thead>\n",
       "    <tr style=\"text-align: right;\">\n",
       "      <th></th>\n",
       "      <th>id</th>\n",
       "      <th>username</th>\n",
       "      <th>rating</th>\n",
       "      <th>value</th>\n",
       "    </tr>\n",
       "  </thead>\n",
       "  <tbody>\n",
       "    <tr>\n",
       "      <th>0</th>\n",
       "      <td>328866</td>\n",
       "      <td>4tsawicki</td>\n",
       "      <td>N/A</td>\n",
       "      <td>Feb 2022</td>\n",
       "    </tr>\n",
       "    <tr>\n",
       "      <th>1</th>\n",
       "      <td>328866</td>\n",
       "      <td>alexbatbee</td>\n",
       "      <td>N/A</td>\n",
       "      <td>KS</td>\n",
       "    </tr>\n",
       "    <tr>\n",
       "      <th>2</th>\n",
       "      <td>328866</td>\n",
       "      <td>Amekins</td>\n",
       "      <td>N/A</td>\n",
       "      <td>Backer # 1267 on Kickstarter 4/27/2021 Funded ...</td>\n",
       "    </tr>\n",
       "    <tr>\n",
       "      <th>3</th>\n",
       "      <td>328866</td>\n",
       "      <td>BlueFoxMoon</td>\n",
       "      <td>N/A</td>\n",
       "      <td>Pre-release - Kickstarter</td>\n",
       "    </tr>\n",
       "    <tr>\n",
       "      <th>4</th>\n",
       "      <td>328866</td>\n",
       "      <td>DadouXIII</td>\n",
       "      <td>N/A</td>\n",
       "      <td>February - 2022 Campaign still running</td>\n",
       "    </tr>\n",
       "    <tr>\n",
       "      <th>...</th>\n",
       "      <td>...</td>\n",
       "      <td>...</td>\n",
       "      <td>...</td>\n",
       "      <td>...</td>\n",
       "    </tr>\n",
       "    <tr>\n",
       "      <th>84778</th>\n",
       "      <td>167791</td>\n",
       "      <td>z_zadar</td>\n",
       "      <td>9</td>\n",
       "      <td>Some games are so much fun. Others can be a li...</td>\n",
       "    </tr>\n",
       "    <tr>\n",
       "      <th>84779</th>\n",
       "      <td>167791</td>\n",
       "      <td>_Czid_</td>\n",
       "      <td>8</td>\n",
       "      <td>Have played with Elysium and Prelude expansion...</td>\n",
       "    </tr>\n",
       "    <tr>\n",
       "      <th>84780</th>\n",
       "      <td>167791</td>\n",
       "      <td>_Marty_</td>\n",
       "      <td>9.5</td>\n",
       "      <td>Fantastic game. With so many cards that can ch...</td>\n",
       "    </tr>\n",
       "    <tr>\n",
       "      <th>84781</th>\n",
       "      <td>167791</td>\n",
       "      <td>_mun_</td>\n",
       "      <td>10</td>\n",
       "      <td>Nagyon izgalmas játék, jó a mechanizmusa. A sz...</td>\n",
       "    </tr>\n",
       "    <tr>\n",
       "      <th>84782</th>\n",
       "      <td>167791</td>\n",
       "      <td>_The_Inquiry_</td>\n",
       "      <td>5</td>\n",
       "      <td>Prior to 2020: 2 plays  TM is one of those gam...</td>\n",
       "    </tr>\n",
       "  </tbody>\n",
       "</table>\n",
       "<p>84783 rows × 4 columns</p>\n",
       "</div>"
      ],
      "text/plain": [
       "           id       username rating  \\\n",
       "0      328866      4tsawicki    N/A   \n",
       "1      328866     alexbatbee    N/A   \n",
       "2      328866        Amekins    N/A   \n",
       "3      328866    BlueFoxMoon    N/A   \n",
       "4      328866      DadouXIII    N/A   \n",
       "...       ...            ...    ...   \n",
       "84778  167791        z_zadar      9   \n",
       "84779  167791         _Czid_      8   \n",
       "84780  167791        _Marty_    9.5   \n",
       "84781  167791          _mun_     10   \n",
       "84782  167791  _The_Inquiry_      5   \n",
       "\n",
       "                                                   value  \n",
       "0                                               Feb 2022  \n",
       "1                                                     KS  \n",
       "2      Backer # 1267 on Kickstarter 4/27/2021 Funded ...  \n",
       "3                              Pre-release - Kickstarter  \n",
       "4                 February - 2022 Campaign still running  \n",
       "...                                                  ...  \n",
       "84778  Some games are so much fun. Others can be a li...  \n",
       "84779  Have played with Elysium and Prelude expansion...  \n",
       "84780  Fantastic game. With so many cards that can ch...  \n",
       "84781  Nagyon izgalmas játék, jó a mechanizmusa. A sz...  \n",
       "84782  Prior to 2020: 2 plays  TM is one of those gam...  \n",
       "\n",
       "[84783 rows x 4 columns]"
      ]
     },
     "execution_count": 8,
     "metadata": {},
     "output_type": "execute_result"
    }
   ],
   "source": [
    "comments_df"
   ]
  },
  {
   "cell_type": "code",
   "execution_count": 9,
   "metadata": {},
   "outputs": [],
   "source": [
    "comments_df.to_csv(\"comments_20210428.csv\", index=False)"
   ]
  },
  {
   "cell_type": "code",
   "execution_count": 151,
   "metadata": {},
   "outputs": [],
   "source": [
    "# comments_df = pd.read_csv(\"comments_20210428.csv\")"
   ]
  },
  {
   "cell_type": "markdown",
   "metadata": {},
   "source": [
    "## SPLIT RATED AND NON-RATED COMMENTS"
   ]
  },
  {
   "cell_type": "code",
   "execution_count": 11,
   "metadata": {},
   "outputs": [
    {
     "data": {
      "text/plain": [
       "N/A        20157\n",
       "10         13324\n",
       "9          12900\n",
       "8          11190\n",
       "7           6464\n",
       "           ...  \n",
       "1.12           1\n",
       "7.23333        1\n",
       "7.0992         1\n",
       "6.52           1\n",
       "7.63           1\n",
       "Name: rating, Length: 513, dtype: int64"
      ]
     },
     "execution_count": 11,
     "metadata": {},
     "output_type": "execute_result"
    }
   ],
   "source": [
    "comments_df.rating.value_counts()"
   ]
  },
  {
   "cell_type": "code",
   "execution_count": 12,
   "metadata": {},
   "outputs": [],
   "source": [
    "rated_comments = comments_df.query('rating != \"N/A\"')"
   ]
  },
  {
   "cell_type": "code",
   "execution_count": 76,
   "metadata": {},
   "outputs": [],
   "source": [
    "not_rated_comments = comments_df.query('rating == \"N/A\"').reset_index(drop=True)"
   ]
  },
  {
   "cell_type": "code",
   "execution_count": 14,
   "metadata": {},
   "outputs": [
    {
     "data": {
      "text/plain": [
       "(64626, 4)"
      ]
     },
     "execution_count": 14,
     "metadata": {},
     "output_type": "execute_result"
    }
   ],
   "source": [
    "rated_comments.shape"
   ]
  },
  {
   "cell_type": "code",
   "execution_count": 15,
   "metadata": {},
   "outputs": [
    {
     "data": {
      "text/plain": [
       "(20157, 4)"
      ]
     },
     "execution_count": 15,
     "metadata": {},
     "output_type": "execute_result"
    }
   ],
   "source": [
    "not_rated_comments.shape"
   ]
  },
  {
   "cell_type": "code",
   "execution_count": 16,
   "metadata": {},
   "outputs": [],
   "source": [
    "# usare i commenti con rating per addestrare e testare modello"
   ]
  },
  {
   "cell_type": "code",
   "execution_count": 18,
   "metadata": {},
   "outputs": [],
   "source": [
    "rated_comments = rated_comments.sample(frac=1)"
   ]
  },
  {
   "cell_type": "code",
   "execution_count": 22,
   "metadata": {},
   "outputs": [],
   "source": [
    "train_examples = list(rated_comments.value)\n",
    "train_labels = list((rated_comments.rating.astype(float)>=GOOD_REVIEW_THRESHOLD).astype(int))"
   ]
  },
  {
   "cell_type": "code",
   "execution_count": 23,
   "metadata": {},
   "outputs": [
    {
     "data": {
      "text/plain": [
       "['Bought new from Miniature Market.  Really enjoyed this game.  Great presentation and artwork.  Felt a little like 7 Wonders Duel with the card drafting, which I enjoy.  Look forward to playing again and adding in the different family of cards that add more complexity to the game.',\n",
       " 'Played this a few times, pretty solid strategy / area of control game with too little interaction for me.',\n",
       " 'Want to play more to be able to judge',\n",
       " 'Solo']"
      ]
     },
     "execution_count": 23,
     "metadata": {},
     "output_type": "execute_result"
    }
   ],
   "source": [
    "train_examples[:4]"
   ]
  },
  {
   "cell_type": "code",
   "execution_count": 24,
   "metadata": {},
   "outputs": [
    {
     "data": {
      "text/plain": [
       "[1, 1, 0, 1]"
      ]
     },
     "execution_count": 24,
     "metadata": {},
     "output_type": "execute_result"
    }
   ],
   "source": [
    "train_labels[:4]"
   ]
  },
  {
   "cell_type": "markdown",
   "metadata": {},
   "source": [
    "## COMPOSE MODEL"
   ]
  },
  {
   "cell_type": "code",
   "execution_count": 25,
   "metadata": {},
   "outputs": [
    {
     "data": {
      "text/plain": [
       "<tf.Tensor: shape=(2, 50), dtype=float32, numpy=\n",
       "array([[ 1.23638675e-01, -9.46443602e-02,  4.59179133e-02,\n",
       "         6.32842124e-01, -2.27451414e-01, -1.80559322e-01,\n",
       "        -1.51872560e-01, -2.69909780e-02, -2.04914123e-01,\n",
       "         1.69491008e-01,  7.94355273e-02,  3.48725349e-01,\n",
       "        -1.18448123e-01,  7.05779344e-02,  1.54962018e-01,\n",
       "        -2.29443356e-01,  1.46048695e-01,  2.32657582e-01,\n",
       "         1.35825932e-01, -3.89798164e-01, -1.85039148e-01,\n",
       "        -3.28751475e-01,  1.37741268e-01,  1.45023596e-02,\n",
       "        -2.07724959e-01,  1.11409456e-01, -5.06411672e-01,\n",
       "         2.67550536e-02,  1.25106769e-02, -8.72540548e-02,\n",
       "        -9.28421021e-02, -8.13109353e-02,  1.13952190e-01,\n",
       "        -7.88327307e-02, -9.36294906e-03,  4.33735698e-01,\n",
       "        -5.92677016e-03, -1.35490552e-01, -8.75878893e-03,\n",
       "        -6.03785098e-01,  7.50158681e-03,  4.95278277e-02,\n",
       "        -3.87958199e-01,  1.12729117e-01,  1.76059660e-02,\n",
       "        -1.46653242e-02, -1.26522571e-01, -2.88571835e-01,\n",
       "        -5.47573082e-02,  2.55984277e-01],\n",
       "       [ 3.96253169e-01,  1.20722808e-01,  6.16723374e-02,\n",
       "         6.30549118e-02, -2.03046069e-01, -1.43285528e-01,\n",
       "         1.82392165e-01,  1.61642626e-01, -2.64500380e-01,\n",
       "         2.46241167e-01, -6.50399551e-02,  9.74403992e-02,\n",
       "         9.52941850e-02,  1.34663194e-01, -4.36460301e-02,\n",
       "        -1.14684775e-01, -7.41460621e-02,  1.48991212e-01,\n",
       "         5.54605387e-03, -4.28363562e-01, -1.42321274e-01,\n",
       "         5.21682017e-02,  1.61326304e-01, -1.02356896e-01,\n",
       "         8.07263628e-02, -1.95507526e-01, -4.72888619e-01,\n",
       "         1.63140938e-01,  2.25517303e-01, -2.02535048e-01,\n",
       "        -1.00865379e-01, -1.77529231e-01, -9.23273899e-03,\n",
       "         9.89397168e-02, -2.09647808e-02,  2.24041864e-02,\n",
       "        -9.50541943e-02, -1.95470694e-02,  9.80106145e-02,\n",
       "        -6.04355574e-01, -3.92118767e-02, -3.67864706e-02,\n",
       "         3.80966477e-02,  1.80484354e-01,  1.45702660e-01,\n",
       "        -9.59955379e-02, -5.49397580e-02, -9.11883861e-02,\n",
       "         3.97906784e-04,  2.66786050e-02]], dtype=float32)>"
      ]
     },
     "execution_count": 25,
     "metadata": {},
     "output_type": "execute_result"
    }
   ],
   "source": [
    "model = \"https://tfhub.dev/google/nnlm-en-dim50/2\"\n",
    "hub_layer = hub.KerasLayer(model, input_shape=[], dtype=tf.string, trainable=True)\n",
    "hub_layer(train_examples[:2])"
   ]
  },
  {
   "cell_type": "code",
   "execution_count": 26,
   "metadata": {},
   "outputs": [
    {
     "name": "stdout",
     "output_type": "stream",
     "text": [
      "Model: \"sequential\"\n",
      "_________________________________________________________________\n",
      "Layer (type)                 Output Shape              Param #   \n",
      "=================================================================\n",
      "keras_layer (KerasLayer)     (None, 50)                48190600  \n",
      "_________________________________________________________________\n",
      "dense (Dense)                (None, 16)                816       \n",
      "_________________________________________________________________\n",
      "dense_1 (Dense)              (None, 1)                 17        \n",
      "=================================================================\n",
      "Total params: 48,191,433\n",
      "Trainable params: 48,191,433\n",
      "Non-trainable params: 0\n",
      "_________________________________________________________________\n"
     ]
    }
   ],
   "source": [
    "model = tf.keras.Sequential()\n",
    "model.add(hub_layer)\n",
    "model.add(tf.keras.layers.Dense(16, activation='relu'))\n",
    "model.add(tf.keras.layers.Dense(1))\n",
    "\n",
    "model.summary()"
   ]
  },
  {
   "cell_type": "code",
   "execution_count": 27,
   "metadata": {},
   "outputs": [],
   "source": [
    "model.compile(\n",
    "    optimizer='adam',\n",
    "    loss=tf.losses.BinaryCrossentropy(from_logits=True),\n",
    "    metrics=[tf.metrics.BinaryAccuracy(threshold=0.0, name='accuracy')]\n",
    ")"
   ]
  },
  {
   "cell_type": "code",
   "execution_count": 28,
   "metadata": {},
   "outputs": [
    {
     "data": {
      "text/plain": [
       "16156"
      ]
     },
     "execution_count": 28,
     "metadata": {},
     "output_type": "execute_result"
    }
   ],
   "source": [
    "validation_len = int(len(train_examples)*VAL_FRACTION)\n",
    "validation_len"
   ]
  },
  {
   "cell_type": "markdown",
   "metadata": {},
   "source": [
    "## TRAINING MODEL "
   ]
  },
  {
   "cell_type": "code",
   "execution_count": 29,
   "metadata": {},
   "outputs": [],
   "source": [
    "x_val = train_examples[:validation_len]\n",
    "x_train = train_examples[validation_len:]\n",
    "\n",
    "y_val = train_labels[:validation_len]\n",
    "y_train = train_labels[validation_len:]"
   ]
  },
  {
   "cell_type": "code",
   "execution_count": 30,
   "metadata": {},
   "outputs": [
    {
     "name": "stdout",
     "output_type": "stream",
     "text": [
      "Train on 48470 samples, validate on 16156 samples\n",
      "Epoch 1/40\n",
      "48470/48470 [==============================] - 32s 651us/sample - loss: 0.5129 - accuracy: 0.8166 - val_loss: 0.4089 - val_accuracy: 0.8458\n",
      "Epoch 2/40\n",
      "48470/48470 [==============================] - 31s 631us/sample - loss: 0.3429 - accuracy: 0.8669 - val_loss: 0.3279 - val_accuracy: 0.8697\n",
      "Epoch 3/40\n",
      "48470/48470 [==============================] - 30s 624us/sample - loss: 0.2761 - accuracy: 0.8921 - val_loss: 0.3107 - val_accuracy: 0.8752\n",
      "Epoch 4/40\n",
      "48470/48470 [==============================] - 31s 637us/sample - loss: 0.2380 - accuracy: 0.9069 - val_loss: 0.3147 - val_accuracy: 0.8747\n",
      "Epoch 5/40\n",
      "48470/48470 [==============================] - 30s 624us/sample - loss: 0.2095 - accuracy: 0.9187 - val_loss: 0.3249 - val_accuracy: 0.8716\n",
      "Epoch 6/40\n",
      "48470/48470 [==============================] - 30s 624us/sample - loss: 0.1871 - accuracy: 0.9286 - val_loss: 0.3406 - val_accuracy: 0.8667\n",
      "Epoch 7/40\n",
      "48470/48470 [==============================] - 30s 627us/sample - loss: 0.1693 - accuracy: 0.9367 - val_loss: 0.3615 - val_accuracy: 0.8600\n",
      "Epoch 8/40\n",
      "48470/48470 [==============================] - 30s 622us/sample - loss: 0.1549 - accuracy: 0.9422 - val_loss: 0.3832 - val_accuracy: 0.8587\n",
      "Epoch 9/40\n",
      "48470/48470 [==============================] - 30s 622us/sample - loss: 0.1425 - accuracy: 0.9481 - val_loss: 0.4134 - val_accuracy: 0.8601\n",
      "Epoch 10/40\n",
      "48470/48470 [==============================] - 30s 624us/sample - loss: 0.1318 - accuracy: 0.9524 - val_loss: 0.4329 - val_accuracy: 0.8531\n",
      "Epoch 11/40\n",
      "48470/48470 [==============================] - 30s 628us/sample - loss: 0.1225 - accuracy: 0.9560 - val_loss: 0.4631 - val_accuracy: 0.8519\n",
      "Epoch 12/40\n",
      "48470/48470 [==============================] - 30s 624us/sample - loss: 0.1144 - accuracy: 0.9602 - val_loss: 0.4877 - val_accuracy: 0.8485\n",
      "Epoch 13/40\n",
      "48470/48470 [==============================] - 30s 623us/sample - loss: 0.1073 - accuracy: 0.9627 - val_loss: 0.5210 - val_accuracy: 0.8492\n",
      "Epoch 14/40\n",
      "48470/48470 [==============================] - 30s 623us/sample - loss: 0.1011 - accuracy: 0.9655 - val_loss: 0.5490 - val_accuracy: 0.8465\n",
      "Epoch 15/40\n",
      "48470/48470 [==============================] - 31s 631us/sample - loss: 0.0952 - accuracy: 0.9669 - val_loss: 0.5842 - val_accuracy: 0.8454\n",
      "Epoch 16/40\n",
      "48470/48470 [==============================] - 30s 628us/sample - loss: 0.0899 - accuracy: 0.9694 - val_loss: 0.6142 - val_accuracy: 0.8430\n",
      "Epoch 17/40\n",
      "48470/48470 [==============================] - 30s 627us/sample - loss: 0.0847 - accuracy: 0.9713 - val_loss: 0.6419 - val_accuracy: 0.8385\n",
      "Epoch 18/40\n",
      "48470/48470 [==============================] - 30s 623us/sample - loss: 0.0804 - accuracy: 0.9723 - val_loss: 0.6839 - val_accuracy: 0.8409\n",
      "Epoch 19/40\n",
      "48470/48470 [==============================] - 30s 628us/sample - loss: 0.0759 - accuracy: 0.9741 - val_loss: 0.7103 - val_accuracy: 0.8353\n",
      "Epoch 20/40\n",
      "48470/48470 [==============================] - 31s 633us/sample - loss: 0.0722 - accuracy: 0.9756 - val_loss: 0.7477 - val_accuracy: 0.8365\n",
      "Epoch 21/40\n",
      "48470/48470 [==============================] - 30s 624us/sample - loss: 0.0680 - accuracy: 0.9767 - val_loss: 0.7860 - val_accuracy: 0.8352\n",
      "Epoch 22/40\n",
      "48470/48470 [==============================] - 30s 624us/sample - loss: 0.0639 - accuracy: 0.9784 - val_loss: 0.8315 - val_accuracy: 0.8360\n",
      "Epoch 23/40\n",
      "48470/48470 [==============================] - 31s 630us/sample - loss: 0.0609 - accuracy: 0.9799 - val_loss: 0.8742 - val_accuracy: 0.8343\n",
      "Epoch 24/40\n",
      "48470/48470 [==============================] - 30s 625us/sample - loss: 0.0577 - accuracy: 0.9809 - val_loss: 0.9077 - val_accuracy: 0.8315\n",
      "Epoch 25/40\n",
      "48470/48470 [==============================] - 30s 622us/sample - loss: 0.0543 - accuracy: 0.9817 - val_loss: 0.9507 - val_accuracy: 0.8316\n",
      "Epoch 26/40\n",
      "48470/48470 [==============================] - 30s 627us/sample - loss: 0.0517 - accuracy: 0.9828 - val_loss: 0.9945 - val_accuracy: 0.8324\n",
      "Epoch 27/40\n",
      "48470/48470 [==============================] - 30s 626us/sample - loss: 0.0492 - accuracy: 0.9837 - val_loss: 1.0327 - val_accuracy: 0.8298\n",
      "Epoch 28/40\n",
      "48470/48470 [==============================] - 31s 630us/sample - loss: 0.0463 - accuracy: 0.9850 - val_loss: 1.0865 - val_accuracy: 0.8307\n",
      "Epoch 29/40\n",
      "48470/48470 [==============================] - 30s 628us/sample - loss: 0.0432 - accuracy: 0.9861 - val_loss: 1.1279 - val_accuracy: 0.8285\n",
      "Epoch 30/40\n",
      "48470/48470 [==============================] - 30s 623us/sample - loss: 0.0411 - accuracy: 0.9864 - val_loss: 1.1723 - val_accuracy: 0.8277\n",
      "Epoch 31/40\n",
      "48470/48470 [==============================] - 31s 637us/sample - loss: 0.0392 - accuracy: 0.9869 - val_loss: 1.2228 - val_accuracy: 0.8272\n",
      "Epoch 32/40\n",
      "48470/48470 [==============================] - 30s 626us/sample - loss: 0.0375 - accuracy: 0.9877 - val_loss: 1.2597 - val_accuracy: 0.8254\n",
      "Epoch 33/40\n",
      "48470/48470 [==============================] - 30s 627us/sample - loss: 0.0353 - accuracy: 0.9883 - val_loss: 1.3204 - val_accuracy: 0.8266\n",
      "Epoch 34/40\n",
      "48470/48470 [==============================] - 31s 632us/sample - loss: 0.0337 - accuracy: 0.9885 - val_loss: 1.3573 - val_accuracy: 0.8245\n",
      "Epoch 35/40\n",
      "48470/48470 [==============================] - 31s 633us/sample - loss: 0.0318 - accuracy: 0.9893 - val_loss: 1.4089 - val_accuracy: 0.8256\n",
      "Epoch 36/40\n",
      "48470/48470 [==============================] - 30s 628us/sample - loss: 0.0302 - accuracy: 0.9895 - val_loss: 1.4592 - val_accuracy: 0.8257\n",
      "Epoch 37/40\n",
      "48470/48470 [==============================] - 30s 626us/sample - loss: 0.0289 - accuracy: 0.9901 - val_loss: 1.5062 - val_accuracy: 0.8247\n",
      "Epoch 38/40\n",
      "48470/48470 [==============================] - 31s 649us/sample - loss: 0.0276 - accuracy: 0.9902 - val_loss: 1.5458 - val_accuracy: 0.8256\n",
      "Epoch 39/40\n",
      "48470/48470 [==============================] - 30s 629us/sample - loss: 0.0265 - accuracy: 0.9906 - val_loss: 1.5938 - val_accuracy: 0.8245\n",
      "Epoch 40/40\n",
      "48470/48470 [==============================] - 31s 630us/sample - loss: 0.0254 - accuracy: 0.9909 - val_loss: 1.6397 - val_accuracy: 0.8219\n"
     ]
    }
   ],
   "source": [
    "history = model.fit(\n",
    "    x_train,\n",
    "    y_train,\n",
    "    epochs=40,\n",
    "    batch_size=512,\n",
    "    validation_data=(x_val, y_val),\n",
    "    verbose=1\n",
    ")"
   ]
  },
  {
   "cell_type": "code",
   "execution_count": 31,
   "metadata": {},
   "outputs": [
    {
     "data": {
      "text/plain": [
       "dict_keys(['loss', 'accuracy', 'val_loss', 'val_accuracy'])"
      ]
     },
     "execution_count": 31,
     "metadata": {},
     "output_type": "execute_result"
    }
   ],
   "source": [
    "history_dict = history.history\n",
    "history_dict.keys()"
   ]
  },
  {
   "cell_type": "code",
   "execution_count": 32,
   "metadata": {},
   "outputs": [],
   "source": [
    "acc = history_dict['accuracy']\n",
    "val_acc = history_dict['val_accuracy']\n",
    "loss = history_dict['loss']\n",
    "val_loss = history_dict['val_loss']"
   ]
  },
  {
   "cell_type": "code",
   "execution_count": 33,
   "metadata": {},
   "outputs": [],
   "source": [
    "epochs = range(1, len(acc) + 1) "
   ]
  },
  {
   "cell_type": "code",
   "execution_count": 34,
   "metadata": {},
   "outputs": [
    {
     "data": {
      "image/png": "[encoded data removed]",
      "text/plain": [
       "<Figure size 1296x720 with 1 Axes>"
      ]
     },
     "metadata": {
      "needs_background": "light"
     },
     "output_type": "display_data"
    }
   ],
   "source": [
    "# \"bo\" is for \"blue dot\"\n",
    "plt.figure(figsize=(18, 10))\n",
    "plt.plot(epochs, loss, 'bo', label='Training loss')\n",
    "# b is for \"solid blue line\"\n",
    "plt.plot(epochs, val_loss, 'b', label='Validation loss')\n",
    "plt.title('Training and validation loss')\n",
    "plt.xlabel('Epochs')\n",
    "plt.ylabel('Loss')\n",
    "plt.grid(True)\n",
    "plt.legend()\n",
    "\n",
    "plt.show()"
   ]
  },
  {
   "cell_type": "code",
   "execution_count": 35,
   "metadata": {},
   "outputs": [
    {
     "data": {
      "image/png": "[encoded data removed]",
      "text/plain": [
       "<Figure size 1296x720 with 1 Axes>"
      ]
     },
     "metadata": {
      "needs_background": "light"
     },
     "output_type": "display_data"
    }
   ],
   "source": [
    "plt.figure(figsize=(18, 10))\n",
    "plt.plot(epochs, acc, 'bo', label='Training acc')\n",
    "plt.plot(epochs, val_acc, 'b', label='Validation acc')\n",
    "plt.title('Training and validation accuracy')\n",
    "plt.xlabel('Epochs')\n",
    "plt.ylabel('Accuracy')\n",
    "plt.grid(True)\n",
    "plt.legend()\n",
    "\n",
    "plt.show()"
   ]
  },
  {
   "cell_type": "code",
   "execution_count": 36,
   "metadata": {},
   "outputs": [],
   "source": [
    "def print_my_examples(inputs, results, limit=None):\n",
    "    result_for_printing = [f'input:\\n\"{inputs[i]}\"\\nscore: {results[i][0]:.6f}' for i in range(len(inputs))]\n",
    "    if limit:\n",
    "        result_for_printing = result_for_printing[:limit]\n",
    "    print(*result_for_printing, sep='\\n\\n')"
   ]
  },
  {
   "cell_type": "code",
   "execution_count": 44,
   "metadata": {},
   "outputs": [
    {
     "name": "stdout",
     "output_type": "stream",
     "text": [
      "input:\n",
      "\"Played a friend's copy and immediately had to get one myself to add to my collection. Fantastic co-op game!\"\n",
      "score: 0.999998\n",
      "\n",
      "input:\n",
      "\"missed Kickstarter twice...\"\n",
      "score: 0.989256\n",
      "\n",
      "input:\n",
      "\"Tucatjáték. Bocsánat. De működik.\"\n",
      "score: 1.000000\n",
      "\n",
      "input:\n",
      "\"I love games like scythe and terraforming mars, but i also like variety. And though you can get that from a million expansions, right out of the box Gloomhaven has six super distinct classes to play, and like a hundred scenarios. Variety is it’s middle name. Every game I’ve played of the 20-30 games so far has been different, and thats all i really ever wanted.\"\n",
      "score: 0.999934\n",
      "\n",
      "input:\n",
      "\"I’ve tried it a couple of times now and my first impression is that this is the ultimate iteration of engine-building. It’s the distillation of the precise joy of turning one resource into two of another which can then be swapped for points and victory. The components are also gorgeous and thematic: unholy, violent artifacts yield death essence, plants and creatures yield life. This game about essences is essential.  TABLEAU / ALCHEMY\"\n",
      "score: 1.000000\n",
      "\n",
      "input:\n",
      "\"One of the best medium weight board games of the last few years. I think I need a new gaming group. All of my players want lighter fare. Terraforming Mars does not get enough desk time at my house.\"\n",
      "score: 1.000000\n",
      "\n",
      "input:\n",
      "\"Interesting story, but bad game\"\n",
      "score: 0.293712\n",
      "\n",
      "input:\n",
      "\"The best co-op board game on the market! I have played Robinson and that is a good game but Spirit Island is for me a much better game. I really like that you need to discuss strategy in this game to be able to survive the threat from the didfferent opponents. I love the different spirits and can't wait for the next expansion to arrive\"\n",
      "score: 1.000000\n",
      "\n",
      "input:\n",
      "\"Gloomhaven...again.  Same great system, but little has changed.  Love the map books instead of tiles.  Not quite as enthused about these character classes compared to the original game (other than Hatchet, who is cool).  If you haven't played Gloomhaven, this is definitely a better place to start.  If you have, I would skip this unless you are eager for \"more of the same\".\"\n",
      "score: 0.999246\n",
      "\n",
      "input:\n",
      "\"Mit 3 Spielern mein Lieblings-Euro, aber auch mit 2 oder 4 sehr stark. Macht Spaß, große Spieltiefe, ohne dabei zu überfordern. Das Thema wirkt nicht nur austauschbar/beliebig, sondern man fühlt sich auch etwas wie im Wilden Westen. Top\"\n",
      "score: 1.000000\n"
     ]
    }
   ],
   "source": [
    "inputs = x_train[-10:]\n",
    "results = tf.sigmoid(model.predict(tf.constant(inputs)))\n",
    "print_my_examples(inputs, results)"
   ]
  },
  {
   "cell_type": "code",
   "execution_count": 45,
   "metadata": {},
   "outputs": [
    {
     "data": {
      "text/plain": [
       "[1, 1, 1, 1, 1, 1, 0, 1, 1, 1]"
      ]
     },
     "execution_count": 45,
     "metadata": {},
     "output_type": "execute_result"
    }
   ],
   "source": [
    "y_train[-10:]"
   ]
  },
  {
   "cell_type": "code",
   "execution_count": 152,
   "metadata": {},
   "outputs": [],
   "source": [
    "## APPLY MODEL ON NON-RATED COMMENTS"
   ]
  },
  {
   "cell_type": "code",
   "execution_count": 47,
   "metadata": {},
   "outputs": [
    {
     "name": "stdout",
     "output_type": "stream",
     "text": [
      "input:\n",
      "\"Feb 2022\"\n",
      "score: 1.000000\n",
      "\n",
      "input:\n",
      "\"KS\"\n",
      "score: 0.999893\n",
      "\n",
      "input:\n",
      "\"Backer # 1267 on Kickstarter 4/27/2021 Funded May 14 2021 Pledge level: New Generation $99 Anticipated delivery date Feburary 2022\"\n",
      "score: 1.000000\n",
      "\n",
      "input:\n",
      "\"Pre-release - Kickstarter\"\n",
      "score: 0.598800\n",
      "\n",
      "input:\n",
      "\"February - 2022 Campaign still running\"\n",
      "score: 1.000000\n",
      "\n",
      "input:\n",
      "\"Preordered with Sentry Box for Feb 2022 delivery (90USD/120CAD owing)\"\n",
      "score: 1.000000\n",
      "\n",
      "input:\n",
      "\"I was hyped for this but playthroughs revealed that it is more so an Ameritrash style game (I hate the terms but use them colloquially at least) fastened onto rather basic resource gathering, worker placement mechanisms with shifting goals and mini-objectives. Very exciting on paper, and a I do like the implementation of 'maladjustments' but wanted a richer euro-style tapestry and/or engine to run the game.  The app, flipbook town and scenarios are painted as innovative and exciting concepts but to the contrary, without them, you would be left with a very rudimentary, surprisingly unthematic game where resources do not match up to the inventions you craft and the inventions you craft provide very little other than VP. This is to say that these high concept aspects are a necessity for the game to function and not rather additions and elaborations upon an already fleshed out game.  A wonderful concept that doesn't deliver on what I would want from it.\"\n",
      "score: 0.000026\n",
      "\n",
      "input:\n",
      "\"Kickstarter started 4/27/2021 - It's due February 2022 (I wish it were sooner, but it looks amazing).\"\n",
      "score: 1.000000\n",
      "\n",
      "input:\n",
      "\"February 22\"\n",
      "score: 1.000000\n",
      "\n",
      "input:\n",
      "\"Top 10 MvM Most Anticipated 2021 #1\"\n",
      "score: 1.000000\n"
     ]
    }
   ],
   "source": [
    "results = tf.sigmoid(model.predict(tf.constant(list(not_rated_comments.value))))\n",
    "print_my_examples(list(not_rated_comments.value), results, limit=10)"
   ]
  },
  {
   "cell_type": "markdown",
   "metadata": {},
   "source": [
    "## COMBINE RATED COMMENTS AND NOT-RATED COMMENTS WITH PREDICTED RATING"
   ]
  },
  {
   "cell_type": "code",
   "execution_count": 153,
   "metadata": {},
   "outputs": [
    {
     "data": {
      "text/html": [
       "<div>\n",
       "<style scoped>\n",
       "    .dataframe tbody tr th:only-of-type {\n",
       "        vertical-align: middle;\n",
       "    }\n",
       "\n",
       "    .dataframe tbody tr th {\n",
       "        vertical-align: top;\n",
       "    }\n",
       "\n",
       "    .dataframe thead th {\n",
       "        text-align: right;\n",
       "    }\n",
       "</style>\n",
       "<table border=\"1\" class=\"dataframe\">\n",
       "  <thead>\n",
       "    <tr style=\"text-align: right;\">\n",
       "      <th></th>\n",
       "      <th>id</th>\n",
       "      <th>username</th>\n",
       "      <th>rating</th>\n",
       "      <th>value</th>\n",
       "    </tr>\n",
       "  </thead>\n",
       "  <tbody>\n",
       "    <tr>\n",
       "      <th>35321</th>\n",
       "      <td>163968</td>\n",
       "      <td>Scottyglc</td>\n",
       "      <td>7.5</td>\n",
       "      <td>Bought new from Miniature Market.  Really enjo...</td>\n",
       "    </tr>\n",
       "    <tr>\n",
       "      <th>77200</th>\n",
       "      <td>169786</td>\n",
       "      <td>philsurette</td>\n",
       "      <td>7.0</td>\n",
       "      <td>Played this a few times, pretty solid strategy...</td>\n",
       "    </tr>\n",
       "    <tr>\n",
       "      <th>58535</th>\n",
       "      <td>244521</td>\n",
       "      <td>tobytoast</td>\n",
       "      <td>6.0</td>\n",
       "      <td>Want to play more to be able to judge</td>\n",
       "    </tr>\n",
       "    <tr>\n",
       "      <th>24722</th>\n",
       "      <td>256960</td>\n",
       "      <td>origamifan</td>\n",
       "      <td>10.0</td>\n",
       "      <td>Solo</td>\n",
       "    </tr>\n",
       "    <tr>\n",
       "      <th>52479</th>\n",
       "      <td>162886</td>\n",
       "      <td>mbascom</td>\n",
       "      <td>9.0</td>\n",
       "      <td>Fun challenge and puzzle. Only negative is tha...</td>\n",
       "    </tr>\n",
       "  </tbody>\n",
       "</table>\n",
       "</div>"
      ],
      "text/plain": [
       "           id     username  rating  \\\n",
       "35321  163968    Scottyglc     7.5   \n",
       "77200  169786  philsurette     7.0   \n",
       "58535  244521    tobytoast     6.0   \n",
       "24722  256960   origamifan    10.0   \n",
       "52479  162886      mbascom     9.0   \n",
       "\n",
       "                                                   value  \n",
       "35321  Bought new from Miniature Market.  Really enjo...  \n",
       "77200  Played this a few times, pretty solid strategy...  \n",
       "58535              Want to play more to be able to judge  \n",
       "24722                                               Solo  \n",
       "52479  Fun challenge and puzzle. Only negative is tha...  "
      ]
     },
     "execution_count": 153,
     "metadata": {},
     "output_type": "execute_result"
    }
   ],
   "source": [
    "rated_comments.head()"
   ]
  },
  {
   "cell_type": "code",
   "execution_count": 63,
   "metadata": {},
   "outputs": [
    {
     "data": {
      "text/html": [
       "<div>\n",
       "<style scoped>\n",
       "    .dataframe tbody tr th:only-of-type {\n",
       "        vertical-align: middle;\n",
       "    }\n",
       "\n",
       "    .dataframe tbody tr th {\n",
       "        vertical-align: top;\n",
       "    }\n",
       "\n",
       "    .dataframe thead th {\n",
       "        text-align: right;\n",
       "    }\n",
       "</style>\n",
       "<table border=\"1\" class=\"dataframe\">\n",
       "  <thead>\n",
       "    <tr style=\"text-align: right;\">\n",
       "      <th></th>\n",
       "      <th>id</th>\n",
       "      <th>rating_mean</th>\n",
       "      <th>rating_count</th>\n",
       "    </tr>\n",
       "  </thead>\n",
       "  <tbody>\n",
       "    <tr>\n",
       "      <th>0</th>\n",
       "      <td>111105</td>\n",
       "      <td>6.881935</td>\n",
       "      <td>403</td>\n",
       "    </tr>\n",
       "    <tr>\n",
       "      <th>1</th>\n",
       "      <td>162886</td>\n",
       "      <td>8.350475</td>\n",
       "      <td>3465</td>\n",
       "    </tr>\n",
       "    <tr>\n",
       "      <th>2</th>\n",
       "      <td>163068</td>\n",
       "      <td>7.766059</td>\n",
       "      <td>938</td>\n",
       "    </tr>\n",
       "    <tr>\n",
       "      <th>3</th>\n",
       "      <td>163968</td>\n",
       "      <td>7.181820</td>\n",
       "      <td>1167</td>\n",
       "    </tr>\n",
       "    <tr>\n",
       "      <th>4</th>\n",
       "      <td>167355</td>\n",
       "      <td>8.418033</td>\n",
       "      <td>1768</td>\n",
       "    </tr>\n",
       "  </tbody>\n",
       "</table>\n",
       "</div>"
      ],
      "text/plain": [
       "       id  rating_mean  rating_count\n",
       "0  111105     6.881935           403\n",
       "1  162886     8.350475          3465\n",
       "2  163068     7.766059           938\n",
       "3  163968     7.181820          1167\n",
       "4  167355     8.418033          1768"
      ]
     },
     "execution_count": 63,
     "metadata": {},
     "output_type": "execute_result"
    }
   ],
   "source": [
    "rated_comments['rating'] = rated_comments.rating.astype(float)\n",
    "rated_comments_grouped = rated_comments.groupby('id').agg({'rating': ['mean', 'count']})\n",
    "rated_comments_grouped.columns = list(rated_comments_grouped.columns.map('_'.join))\n",
    "rated_comments_grouped = rated_comments_grouped.reset_index()\n",
    "rated_comments_grouped.head()"
   ]
  },
  {
   "cell_type": "code",
   "execution_count": 77,
   "metadata": {},
   "outputs": [],
   "source": [
    "not_rated_comments['rating'] = [round(float(r[0])*10, 1) for r in results]"
   ]
  },
  {
   "cell_type": "code",
   "execution_count": 81,
   "metadata": {},
   "outputs": [
    {
     "data": {
      "text/html": [
       "<div>\n",
       "<style scoped>\n",
       "    .dataframe tbody tr th:only-of-type {\n",
       "        vertical-align: middle;\n",
       "    }\n",
       "\n",
       "    .dataframe tbody tr th {\n",
       "        vertical-align: top;\n",
       "    }\n",
       "\n",
       "    .dataframe thead th {\n",
       "        text-align: right;\n",
       "    }\n",
       "</style>\n",
       "<table border=\"1\" class=\"dataframe\">\n",
       "  <thead>\n",
       "    <tr style=\"text-align: right;\">\n",
       "      <th></th>\n",
       "      <th>id</th>\n",
       "      <th>rating_mean</th>\n",
       "      <th>rating_count</th>\n",
       "    </tr>\n",
       "  </thead>\n",
       "  <tbody>\n",
       "    <tr>\n",
       "      <th>0</th>\n",
       "      <td>111105</td>\n",
       "      <td>7.450000</td>\n",
       "      <td>184</td>\n",
       "    </tr>\n",
       "    <tr>\n",
       "      <th>1</th>\n",
       "      <td>162886</td>\n",
       "      <td>8.616243</td>\n",
       "      <td>1022</td>\n",
       "    </tr>\n",
       "    <tr>\n",
       "      <th>2</th>\n",
       "      <td>163068</td>\n",
       "      <td>8.664252</td>\n",
       "      <td>428</td>\n",
       "    </tr>\n",
       "    <tr>\n",
       "      <th>3</th>\n",
       "      <td>163968</td>\n",
       "      <td>8.247442</td>\n",
       "      <td>430</td>\n",
       "    </tr>\n",
       "    <tr>\n",
       "      <th>4</th>\n",
       "      <td>167355</td>\n",
       "      <td>8.541124</td>\n",
       "      <td>676</td>\n",
       "    </tr>\n",
       "  </tbody>\n",
       "</table>\n",
       "</div>"
      ],
      "text/plain": [
       "       id  rating_mean  rating_count\n",
       "0  111105     7.450000           184\n",
       "1  162886     8.616243          1022\n",
       "2  163068     8.664252           428\n",
       "3  163968     8.247442           430\n",
       "4  167355     8.541124           676"
      ]
     },
     "execution_count": 81,
     "metadata": {},
     "output_type": "execute_result"
    }
   ],
   "source": [
    "not_rated_comments['rating'] = not_rated_comments.rating.astype(float)\n",
    "not_rated_comments_grouped = not_rated_comments.groupby('id').agg({'rating': ['mean', 'count']})\n",
    "not_rated_comments_grouped.columns = list(not_rated_comments_grouped.columns.map('_'.join))\n",
    "not_rated_comments_grouped = not_rated_comments_grouped.reset_index()\n",
    "not_rated_comments_grouped.head()"
   ]
  },
  {
   "cell_type": "code",
   "execution_count": 123,
   "metadata": {},
   "outputs": [],
   "source": [
    "grouped = rated_comments_grouped.merge(not_rated_comments_grouped, on='id', suffixes=('_review', '_comments'))\n",
    "grouped = grouped.merge(pd.DataFrame(hot_array), on='id')\n",
    "grouped['rank'] = grouped['rank'].astype(int)"
   ]
  },
  {
   "cell_type": "code",
   "execution_count": 124,
   "metadata": {},
   "outputs": [
    {
     "data": {
      "text/html": [
       "<div>\n",
       "<style scoped>\n",
       "    .dataframe tbody tr th:only-of-type {\n",
       "        vertical-align: middle;\n",
       "    }\n",
       "\n",
       "    .dataframe tbody tr th {\n",
       "        vertical-align: top;\n",
       "    }\n",
       "\n",
       "    .dataframe thead th {\n",
       "        text-align: right;\n",
       "    }\n",
       "</style>\n",
       "<table border=\"1\" class=\"dataframe\">\n",
       "  <thead>\n",
       "    <tr style=\"text-align: right;\">\n",
       "      <th></th>\n",
       "      <th>id</th>\n",
       "      <th>rating_mean_review</th>\n",
       "      <th>rating_count_review</th>\n",
       "      <th>rating_mean_comments</th>\n",
       "      <th>rating_count_comments</th>\n",
       "      <th>rank</th>\n",
       "      <th>thumbnail</th>\n",
       "      <th>name</th>\n",
       "      <th>yearpublished</th>\n",
       "    </tr>\n",
       "  </thead>\n",
       "  <tbody>\n",
       "    <tr>\n",
       "      <th>0</th>\n",
       "      <td>111105</td>\n",
       "      <td>6.881935</td>\n",
       "      <td>403</td>\n",
       "      <td>7.450000</td>\n",
       "      <td>184</td>\n",
       "      <td>45</td>\n",
       "      <td>https://cf.geekdo-images.com/KSrotdESv2kphKZGb...</td>\n",
       "      <td>Agents of SMERSH</td>\n",
       "      <td>2012</td>\n",
       "    </tr>\n",
       "    <tr>\n",
       "      <th>1</th>\n",
       "      <td>162886</td>\n",
       "      <td>8.350475</td>\n",
       "      <td>3465</td>\n",
       "      <td>8.616243</td>\n",
       "      <td>1022</td>\n",
       "      <td>18</td>\n",
       "      <td>https://cf.geekdo-images.com/a13ieMPP2s0KEaKNY...</td>\n",
       "      <td>Spirit Island</td>\n",
       "      <td>2017</td>\n",
       "    </tr>\n",
       "    <tr>\n",
       "      <th>2</th>\n",
       "      <td>163068</td>\n",
       "      <td>7.766059</td>\n",
       "      <td>938</td>\n",
       "      <td>8.664252</td>\n",
       "      <td>428</td>\n",
       "      <td>29</td>\n",
       "      <td>https://cf.geekdo-images.com/9gob752VqEklQFV_g...</td>\n",
       "      <td>Trickerion: Legends of Illusion</td>\n",
       "      <td>2015</td>\n",
       "    </tr>\n",
       "    <tr>\n",
       "      <th>3</th>\n",
       "      <td>163968</td>\n",
       "      <td>7.181820</td>\n",
       "      <td>1167</td>\n",
       "      <td>8.247442</td>\n",
       "      <td>430</td>\n",
       "      <td>36</td>\n",
       "      <td>https://cf.geekdo-images.com/hNyO7u1pR3oSxKTEL...</td>\n",
       "      <td>Elysium</td>\n",
       "      <td>2015</td>\n",
       "    </tr>\n",
       "    <tr>\n",
       "      <th>4</th>\n",
       "      <td>167355</td>\n",
       "      <td>8.418033</td>\n",
       "      <td>1768</td>\n",
       "      <td>8.541124</td>\n",
       "      <td>676</td>\n",
       "      <td>32</td>\n",
       "      <td>https://cf.geekdo-images.com/tAqLpWxQ0Oo3GaPP3...</td>\n",
       "      <td>Nemesis</td>\n",
       "      <td>2018</td>\n",
       "    </tr>\n",
       "  </tbody>\n",
       "</table>\n",
       "</div>"
      ],
      "text/plain": [
       "       id  rating_mean_review  rating_count_review  rating_mean_comments  \\\n",
       "0  111105            6.881935                  403              7.450000   \n",
       "1  162886            8.350475                 3465              8.616243   \n",
       "2  163068            7.766059                  938              8.664252   \n",
       "3  163968            7.181820                 1167              8.247442   \n",
       "4  167355            8.418033                 1768              8.541124   \n",
       "\n",
       "   rating_count_comments  rank  \\\n",
       "0                    184    45   \n",
       "1                   1022    18   \n",
       "2                    428    29   \n",
       "3                    430    36   \n",
       "4                    676    32   \n",
       "\n",
       "                                           thumbnail  \\\n",
       "0  https://cf.geekdo-images.com/KSrotdESv2kphKZGb...   \n",
       "1  https://cf.geekdo-images.com/a13ieMPP2s0KEaKNY...   \n",
       "2  https://cf.geekdo-images.com/9gob752VqEklQFV_g...   \n",
       "3  https://cf.geekdo-images.com/hNyO7u1pR3oSxKTEL...   \n",
       "4  https://cf.geekdo-images.com/tAqLpWxQ0Oo3GaPP3...   \n",
       "\n",
       "                              name yearpublished  \n",
       "0                 Agents of SMERSH          2012  \n",
       "1                    Spirit Island          2017  \n",
       "2  Trickerion: Legends of Illusion          2015  \n",
       "3                          Elysium          2015  \n",
       "4                          Nemesis          2018  "
      ]
     },
     "execution_count": 124,
     "metadata": {},
     "output_type": "execute_result"
    }
   ],
   "source": [
    "grouped.head()"
   ]
  },
  {
   "cell_type": "code",
   "execution_count": 125,
   "metadata": {},
   "outputs": [],
   "source": [
    "grouped['fixed_rating'] = (grouped['rating_mean_review']*grouped['rating_count_review']+grouped['rating_mean_comments']*grouped['rating_count_comments']) / (grouped['rating_count_review']+grouped['rating_count_comments'])"
   ]
  },
  {
   "cell_type": "code",
   "execution_count": 126,
   "metadata": {},
   "outputs": [
    {
     "data": {
      "text/html": [
       "<div>\n",
       "<style scoped>\n",
       "    .dataframe tbody tr th:only-of-type {\n",
       "        vertical-align: middle;\n",
       "    }\n",
       "\n",
       "    .dataframe tbody tr th {\n",
       "        vertical-align: top;\n",
       "    }\n",
       "\n",
       "    .dataframe thead th {\n",
       "        text-align: right;\n",
       "    }\n",
       "</style>\n",
       "<table border=\"1\" class=\"dataframe\">\n",
       "  <thead>\n",
       "    <tr style=\"text-align: right;\">\n",
       "      <th></th>\n",
       "      <th>id</th>\n",
       "      <th>rating_mean_review</th>\n",
       "      <th>rating_count_review</th>\n",
       "      <th>rating_mean_comments</th>\n",
       "      <th>rating_count_comments</th>\n",
       "      <th>rank</th>\n",
       "      <th>thumbnail</th>\n",
       "      <th>name</th>\n",
       "      <th>yearpublished</th>\n",
       "      <th>fixed_rating</th>\n",
       "    </tr>\n",
       "  </thead>\n",
       "  <tbody>\n",
       "    <tr>\n",
       "      <th>0</th>\n",
       "      <td>111105</td>\n",
       "      <td>6.881935</td>\n",
       "      <td>403</td>\n",
       "      <td>7.450000</td>\n",
       "      <td>184</td>\n",
       "      <td>45</td>\n",
       "      <td>https://cf.geekdo-images.com/KSrotdESv2kphKZGb...</td>\n",
       "      <td>Agents of SMERSH</td>\n",
       "      <td>2012</td>\n",
       "      <td>7.060000</td>\n",
       "    </tr>\n",
       "    <tr>\n",
       "      <th>1</th>\n",
       "      <td>162886</td>\n",
       "      <td>8.350475</td>\n",
       "      <td>3465</td>\n",
       "      <td>8.616243</td>\n",
       "      <td>1022</td>\n",
       "      <td>18</td>\n",
       "      <td>https://cf.geekdo-images.com/a13ieMPP2s0KEaKNY...</td>\n",
       "      <td>Spirit Island</td>\n",
       "      <td>2017</td>\n",
       "      <td>8.411009</td>\n",
       "    </tr>\n",
       "    <tr>\n",
       "      <th>2</th>\n",
       "      <td>163068</td>\n",
       "      <td>7.766059</td>\n",
       "      <td>938</td>\n",
       "      <td>8.664252</td>\n",
       "      <td>428</td>\n",
       "      <td>29</td>\n",
       "      <td>https://cf.geekdo-images.com/9gob752VqEklQFV_g...</td>\n",
       "      <td>Trickerion: Legends of Illusion</td>\n",
       "      <td>2015</td>\n",
       "      <td>8.047484</td>\n",
       "    </tr>\n",
       "    <tr>\n",
       "      <th>3</th>\n",
       "      <td>163968</td>\n",
       "      <td>7.181820</td>\n",
       "      <td>1167</td>\n",
       "      <td>8.247442</td>\n",
       "      <td>430</td>\n",
       "      <td>36</td>\n",
       "      <td>https://cf.geekdo-images.com/hNyO7u1pR3oSxKTEL...</td>\n",
       "      <td>Elysium</td>\n",
       "      <td>2015</td>\n",
       "      <td>7.468744</td>\n",
       "    </tr>\n",
       "    <tr>\n",
       "      <th>4</th>\n",
       "      <td>167355</td>\n",
       "      <td>8.418033</td>\n",
       "      <td>1768</td>\n",
       "      <td>8.541124</td>\n",
       "      <td>676</td>\n",
       "      <td>32</td>\n",
       "      <td>https://cf.geekdo-images.com/tAqLpWxQ0Oo3GaPP3...</td>\n",
       "      <td>Nemesis</td>\n",
       "      <td>2018</td>\n",
       "      <td>8.452079</td>\n",
       "    </tr>\n",
       "  </tbody>\n",
       "</table>\n",
       "</div>"
      ],
      "text/plain": [
       "       id  rating_mean_review  rating_count_review  rating_mean_comments  \\\n",
       "0  111105            6.881935                  403              7.450000   \n",
       "1  162886            8.350475                 3465              8.616243   \n",
       "2  163068            7.766059                  938              8.664252   \n",
       "3  163968            7.181820                 1167              8.247442   \n",
       "4  167355            8.418033                 1768              8.541124   \n",
       "\n",
       "   rating_count_comments  rank  \\\n",
       "0                    184    45   \n",
       "1                   1022    18   \n",
       "2                    428    29   \n",
       "3                    430    36   \n",
       "4                    676    32   \n",
       "\n",
       "                                           thumbnail  \\\n",
       "0  https://cf.geekdo-images.com/KSrotdESv2kphKZGb...   \n",
       "1  https://cf.geekdo-images.com/a13ieMPP2s0KEaKNY...   \n",
       "2  https://cf.geekdo-images.com/9gob752VqEklQFV_g...   \n",
       "3  https://cf.geekdo-images.com/hNyO7u1pR3oSxKTEL...   \n",
       "4  https://cf.geekdo-images.com/tAqLpWxQ0Oo3GaPP3...   \n",
       "\n",
       "                              name yearpublished  fixed_rating  \n",
       "0                 Agents of SMERSH          2012      7.060000  \n",
       "1                    Spirit Island          2017      8.411009  \n",
       "2  Trickerion: Legends of Illusion          2015      8.047484  \n",
       "3                          Elysium          2015      7.468744  \n",
       "4                          Nemesis          2018      8.452079  "
      ]
     },
     "execution_count": 126,
     "metadata": {},
     "output_type": "execute_result"
    }
   ],
   "source": [
    "grouped.head()"
   ]
  },
  {
   "cell_type": "code",
   "execution_count": 127,
   "metadata": {},
   "outputs": [],
   "source": [
    "grouped = grouped[['thumbnail', 'name', 'rating_mean_review', 'rating_mean_comments', 'fixed_rating', 'rank', 'yearpublished']]"
   ]
  },
  {
   "cell_type": "code",
   "execution_count": 146,
   "metadata": {},
   "outputs": [],
   "source": [
    "def path_to_image_html(path):\n",
    "    '''\n",
    "     This function essentially convert the image url to \n",
    "     '<img src=\"'+ path + '\"/>' format. And one can put any\n",
    "     formatting adjustments to control the height, aspect ratio, size etc.\n",
    "     within as in the below example. \n",
    "    '''\n",
    "\n",
    "    return '<center><img src=\"'+ path + '\" style=max-height:124px;\"/></center>'"
   ]
  },
  {
   "cell_type": "code",
   "execution_count": 147,
   "metadata": {},
   "outputs": [
    {
     "data": {
      "text/html": [
       "<table border=\"1\" class=\"dataframe\">\n",
       "  <thead>\n",
       "    <tr style=\"text-align: right;\">\n",
       "      <th></th>\n",
       "      <th>thumbnail</th>\n",
       "      <th>name</th>\n",
       "      <th>rating_mean_review</th>\n",
       "      <th>rating_mean_comments</th>\n",
       "      <th>fixed_rating</th>\n",
       "      <th>rank</th>\n",
       "      <th>yearpublished</th>\n",
       "    </tr>\n",
       "  </thead>\n",
       "  <tbody>\n",
       "    <tr>\n",
       "      <th>42</th>\n",
       "      <td><center><img src=\"https://cf.geekdo-images.com/N0hCcxXw8d7vUjKfsYO6vg__thumb/img/K4DDlRzl6qlQf9L_oMLb7g9WUYo=/fit-in/200x150/filters:strip_icc()/pic6121929.png\" style=max-height:124px;\"/></center></td>\n",
       "      <td>My Father's Work</td>\n",
       "      <td>5.500000</td>\n",
       "      <td>8.923077</td>\n",
       "      <td>8.466667</td>\n",
       "      <td>1</td>\n",
       "      <td>2021</td>\n",
       "    </tr>\n",
       "    <tr>\n",
       "      <th>30</th>\n",
       "      <td><center><img src=\"https://cf.geekdo-images.com/gTxav_KKQK1rDg-XuCjCSA__thumb/img/tFTOAKG5aDXxYfNRmJNmfyxH83M=/fit-in/200x150/filters:strip_icc()/pic5164812.jpg\" style=max-height:124px;\"/></center></td>\n",
       "      <td>Oath: Chronicles of Empire and Exile</td>\n",
       "      <td>8.031238</td>\n",
       "      <td>8.800392</td>\n",
       "      <td>8.576056</td>\n",
       "      <td>3</td>\n",
       "      <td>2021</td>\n",
       "    </tr>\n",
       "    <tr>\n",
       "      <th>35</th>\n",
       "      <td><center><img src=\"https://cf.geekdo-images.com/6GqH14TJJhza86BX5HCLEQ__thumb/img/J8SVmGOJXZGxNjkT3xYNQU7Haxg=/fit-in/200x150/filters:strip_icc()/pic5674958.jpg\" style=max-height:124px;\"/></center></td>\n",
       "      <td>Lost Ruins of Arnak</td>\n",
       "      <td>7.955494</td>\n",
       "      <td>8.440650</td>\n",
       "      <td>8.097406</td>\n",
       "      <td>4</td>\n",
       "      <td>2020</td>\n",
       "    </tr>\n",
       "    <tr>\n",
       "      <th>37</th>\n",
       "      <td><center><img src=\"https://cf.geekdo-images.com/PhjygpWSo-0labGrPBMyyg__thumb/img/JGgY-nBmkyB8WRp8vcoBLlNMQ5U=/fit-in/200x150/filters:strip_icc()/pic5666597.jpg\" style=max-height:124px;\"/></center></td>\n",
       "      <td>Dune: Imperium</td>\n",
       "      <td>8.122007</td>\n",
       "      <td>8.456682</td>\n",
       "      <td>8.209506</td>\n",
       "      <td>5</td>\n",
       "      <td>2020</td>\n",
       "    </tr>\n",
       "    <tr>\n",
       "      <th>44</th>\n",
       "      <td><center><img src=\"https://cf.geekdo-images.com/8eN5t1p4ncee-eVN9NswDA__thumb/img/EI64n63DbQ9DHhTf72s7UpUFMBY=/fit-in/200x150/filters:strip_icc()/pic6007253.png\" style=max-height:124px;\"/></center></td>\n",
       "      <td>Brew</td>\n",
       "      <td>6.250000</td>\n",
       "      <td>8.875000</td>\n",
       "      <td>8.000000</td>\n",
       "      <td>6</td>\n",
       "      <td>2021</td>\n",
       "    </tr>\n",
       "  </tbody>\n",
       "</table>"
      ],
      "text/plain": [
       "<IPython.core.display.HTML object>"
      ]
     },
     "execution_count": 147,
     "metadata": {},
     "output_type": "execute_result"
    }
   ],
   "source": [
    "# TOP 5 RANK\n",
    "HTML(grouped.sort_values('rank').head(5).to_html(escape=False, formatters={'thumbnail': path_to_image_html}))"
   ]
  },
  {
   "cell_type": "code",
   "execution_count": 148,
   "metadata": {},
   "outputs": [
    {
     "data": {
      "text/html": [
       "<table border=\"1\" class=\"dataframe\">\n",
       "  <thead>\n",
       "    <tr style=\"text-align: right;\">\n",
       "      <th></th>\n",
       "      <th>thumbnail</th>\n",
       "      <th>name</th>\n",
       "      <th>rating_mean_review</th>\n",
       "      <th>rating_mean_comments</th>\n",
       "      <th>fixed_rating</th>\n",
       "      <th>rank</th>\n",
       "      <th>yearpublished</th>\n",
       "    </tr>\n",
       "  </thead>\n",
       "  <tbody>\n",
       "    <tr>\n",
       "      <th>38</th>\n",
       "      <td><center><img src=\"https://cf.geekdo-images.com/eUiju5SqZbkNt8gnEofrTw__thumb/img/zNkmLNyeXJGOY24FeAAf4U67ejU=/fit-in/200x150/filters:strip_icc()/pic6035127.png\" style=max-height:124px;\"/></center></td>\n",
       "      <td>Stationfall</td>\n",
       "      <td>9.428571</td>\n",
       "      <td>9.100000</td>\n",
       "      <td>9.291667</td>\n",
       "      <td>41</td>\n",
       "      <td>2021</td>\n",
       "    </tr>\n",
       "    <tr>\n",
       "      <th>32</th>\n",
       "      <td><center><img src=\"https://cf.geekdo-images.com/dNXxWWcLHd67zOCz1_DV5g__thumb/img/LKLbu76Lt9XTRsSv1TC66uaSN40=/fit-in/200x150/filters:strip_icc()/pic5415822.png\" style=max-height:124px;\"/></center></td>\n",
       "      <td>Kemet: Blood and Sand</td>\n",
       "      <td>8.988235</td>\n",
       "      <td>8.763388</td>\n",
       "      <td>8.782500</td>\n",
       "      <td>39</td>\n",
       "      <td>2021</td>\n",
       "    </tr>\n",
       "    <tr>\n",
       "      <th>18</th>\n",
       "      <td><center><img src=\"https://cf.geekdo-images.com/Oh3kHw6lweg6ru71Q16h2Q__thumb/img/e9XZdQe1ZcPpaq4Gy31OoWBB_V0=/fit-in/200x150/filters:strip_icc()/pic5235277.jpg\" style=max-height:124px;\"/></center></td>\n",
       "      <td>Eclipse: Second Dawn for the Galaxy</td>\n",
       "      <td>8.734295</td>\n",
       "      <td>8.834632</td>\n",
       "      <td>8.769735</td>\n",
       "      <td>42</td>\n",
       "      <td>2020</td>\n",
       "    </tr>\n",
       "    <tr>\n",
       "      <th>14</th>\n",
       "      <td><center><img src=\"https://cf.geekdo-images.com/x3zxjr-Vw5iU4yDPg70Jgw__thumb/img/o18rjEemoWaVru9Y2TyPwuIaRfE=/fit-in/200x150/filters:strip_icc()/pic3490053.jpg\" style=max-height:124px;\"/></center></td>\n",
       "      <td>Brass: Birmingham</td>\n",
       "      <td>8.689090</td>\n",
       "      <td>8.582346</td>\n",
       "      <td>8.658587</td>\n",
       "      <td>26</td>\n",
       "      <td>2018</td>\n",
       "    </tr>\n",
       "    <tr>\n",
       "      <th>29</th>\n",
       "      <td><center><img src=\"https://cf.geekdo-images.com/_HhIdavYW-hid20Iq3hhmg__thumb/img/OMkN_E5eyWrkID_cHCnQEbIixGM=/fit-in/200x150/filters:strip_icc()/pic5055631.jpg\" style=max-height:124px;\"/></center></td>\n",
       "      <td>Gloomhaven: Jaws of the Lion</td>\n",
       "      <td>8.622822</td>\n",
       "      <td>8.692255</td>\n",
       "      <td>8.641885</td>\n",
       "      <td>20</td>\n",
       "      <td>2020</td>\n",
       "    </tr>\n",
       "  </tbody>\n",
       "</table>"
      ],
      "text/plain": [
       "<IPython.core.display.HTML object>"
      ]
     },
     "execution_count": 148,
     "metadata": {},
     "output_type": "execute_result"
    }
   ],
   "source": [
    "# TOP 5 REVIEW RANK\n",
    "HTML(grouped.sort_values('rating_mean_review', ascending=False).head(5).to_html(escape=False, formatters={'thumbnail': path_to_image_html}))"
   ]
  },
  {
   "cell_type": "code",
   "execution_count": 149,
   "metadata": {},
   "outputs": [
    {
     "data": {
      "text/html": [
       "<table border=\"1\" class=\"dataframe\">\n",
       "  <thead>\n",
       "    <tr style=\"text-align: right;\">\n",
       "      <th></th>\n",
       "      <th>thumbnail</th>\n",
       "      <th>name</th>\n",
       "      <th>rating_mean_review</th>\n",
       "      <th>rating_mean_comments</th>\n",
       "      <th>fixed_rating</th>\n",
       "      <th>rank</th>\n",
       "      <th>yearpublished</th>\n",
       "    </tr>\n",
       "  </thead>\n",
       "  <tbody>\n",
       "    <tr>\n",
       "      <th>38</th>\n",
       "      <td><center><img src=\"https://cf.geekdo-images.com/eUiju5SqZbkNt8gnEofrTw__thumb/img/zNkmLNyeXJGOY24FeAAf4U67ejU=/fit-in/200x150/filters:strip_icc()/pic6035127.png\" style=max-height:124px;\"/></center></td>\n",
       "      <td>Stationfall</td>\n",
       "      <td>9.428571</td>\n",
       "      <td>9.100000</td>\n",
       "      <td>9.291667</td>\n",
       "      <td>41</td>\n",
       "      <td>2021</td>\n",
       "    </tr>\n",
       "    <tr>\n",
       "      <th>32</th>\n",
       "      <td><center><img src=\"https://cf.geekdo-images.com/dNXxWWcLHd67zOCz1_DV5g__thumb/img/LKLbu76Lt9XTRsSv1TC66uaSN40=/fit-in/200x150/filters:strip_icc()/pic5415822.png\" style=max-height:124px;\"/></center></td>\n",
       "      <td>Kemet: Blood and Sand</td>\n",
       "      <td>8.988235</td>\n",
       "      <td>8.763388</td>\n",
       "      <td>8.782500</td>\n",
       "      <td>39</td>\n",
       "      <td>2021</td>\n",
       "    </tr>\n",
       "    <tr>\n",
       "      <th>18</th>\n",
       "      <td><center><img src=\"https://cf.geekdo-images.com/Oh3kHw6lweg6ru71Q16h2Q__thumb/img/e9XZdQe1ZcPpaq4Gy31OoWBB_V0=/fit-in/200x150/filters:strip_icc()/pic5235277.jpg\" style=max-height:124px;\"/></center></td>\n",
       "      <td>Eclipse: Second Dawn for the Galaxy</td>\n",
       "      <td>8.734295</td>\n",
       "      <td>8.834632</td>\n",
       "      <td>8.769735</td>\n",
       "      <td>42</td>\n",
       "      <td>2020</td>\n",
       "    </tr>\n",
       "    <tr>\n",
       "      <th>41</th>\n",
       "      <td><center><img src=\"https://cf.geekdo-images.com/vDu0Zb4ooGEOF29ZaRQ3EQ__thumb/img/3AcQZQ_MB1dJiQlQzcJMjDK637M=/fit-in/200x150/filters:strip_icc()/pic5845169.jpg\" style=max-height:124px;\"/></center></td>\n",
       "      <td>Hidden Leaders</td>\n",
       "      <td>8.192308</td>\n",
       "      <td>9.247826</td>\n",
       "      <td>8.687755</td>\n",
       "      <td>13</td>\n",
       "      <td>2022</td>\n",
       "    </tr>\n",
       "    <tr>\n",
       "      <th>28</th>\n",
       "      <td><center><img src=\"https://cf.geekdo-images.com/81AiTz4hp4TlnzeCMqQMAw__thumb/img/4i2gR6ZpAY3pCBJ-n4681BGhrUU=/fit-in/200x150/filters:strip_icc()/pic6091316.jpg\" style=max-height:124px;\"/></center></td>\n",
       "      <td>Zombicide (2nd Edition)</td>\n",
       "      <td>7.608696</td>\n",
       "      <td>9.098305</td>\n",
       "      <td>8.680488</td>\n",
       "      <td>46</td>\n",
       "      <td>2021</td>\n",
       "    </tr>\n",
       "  </tbody>\n",
       "</table>"
      ],
      "text/plain": [
       "<IPython.core.display.HTML object>"
      ]
     },
     "execution_count": 149,
     "metadata": {},
     "output_type": "execute_result"
    }
   ],
   "source": [
    "# TOP 5 FIXED RANK\n",
    "HTML(grouped.sort_values('fixed_rating', ascending=False).head(5).to_html(escape=False, formatters={'thumbnail': path_to_image_html}))"
   ]
  },
  {
   "cell_type": "code",
   "execution_count": null,
   "metadata": {},
   "outputs": [],
   "source": []
  }
 ],
 "metadata": {
  "kernelspec": {
   "display_name": "tensorflow",
   "language": "python",
   "name": "tensorflow"
  },
  "language_info": {
   "codemirror_mode": {
    "name": "ipython",
    "version": 3
   },
   "file_extension": ".py",
   "mimetype": "text/x-python",
   "name": "python",
   "nbconvert_exporter": "python",
   "pygments_lexer": "ipython3",
   "version": "3.7.3"
  }
 },
 "nbformat": 4,
 "nbformat_minor": 4
}
