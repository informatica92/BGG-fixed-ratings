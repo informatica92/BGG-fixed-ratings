{
 "cells": [
  {
   "cell_type": "code",
   "execution_count": 1,
   "metadata": {},
   "outputs": [],
   "source": [
    "# ## BGG API\n",
    "# https://www.boardgamegeek.com/xmlapi2/thing?id=161599&comments=1\n",
    "# https://www.boardgamegeek.com/xmlapi2/hot?type=boardgame\n",
    "# ## NLP WITH TF\n",
    "# https://www.tensorflow.org/hub/tutorials/tf2_text_classification"
   ]
  },
  {
   "cell_type": "code",
   "execution_count": 2,
   "metadata": {},
   "outputs": [
    {
     "name": "stdout",
     "output_type": "stream",
     "text": [
      "Version:      2.5.0\n",
      "Eager mode:   True\n",
      "Hub version:  0.12.0\n",
      "GPU:          available\n"
     ]
    }
   ],
   "source": [
    "import tensorflow as tf\n",
    "import tensorflow_hub as hub\n",
    "from tensorflow.keras.wrappers.scikit_learn import KerasRegressor, KerasClassifier\n",
    "from sklearn.model_selection import GridSearchCV\n",
    "\n",
    "from IPython.display import HTML\n",
    "from datetime import datetime\n",
    "import matplotlib.pyplot as plt\n",
    "import pandas as pd\n",
    "import numpy as np\n",
    "import re\n",
    "\n",
    "from utilities import get_hot_data, get_comments, remove_short_comments, build_model, print_my_examples\n",
    "\n",
    "print(\"Version:     \", tf.__version__)\n",
    "print(\"Eager mode:  \", tf.executing_eagerly())\n",
    "print(\"Hub version: \", hub.__version__)\n",
    "print(\"GPU:         \", \"available\" if tf.config.list_physical_devices('GPU') else \"NOT available\")\n",
    "\n",
    "tf.get_logger().setLevel('ERROR')"
   ]
  },
  {
   "cell_type": "code",
   "execution_count": 3,
   "metadata": {},
   "outputs": [],
   "source": [
    "# tf.debugging.set_log_device_placement(True)"
   ]
  },
  {
   "cell_type": "code",
   "execution_count": 4,
   "metadata": {},
   "outputs": [],
   "source": [
    "GOOD_REVIEW_THRESHOLD = 7\n",
    "VAL_FRACTION = 0.25\n",
    "MIN_COMMENT_LEN = 25\n",
    "TOP_N = 5\n",
    "MODEL_NAME = \"https://tfhub.dev/google/tf2-preview/nnlm-en-dim50/1\"\n",
    "# MORE ABOUT MODEL NAMES: \n",
    "# \"https://tfhub.dev/google/tf2-preview/nnlm-en-dim128/1\"\n",
    "# \"https://tfhub.dev/google/tf2-preview/nnlm-en-dim128-with-normalization/1\"\n",
    "# we also tested these solutions with dimension equals to 128 but accuracy \n",
    "# is a bit lower (0.85 for 128 vs 0.86 for 50) and training sometimes stops \n",
    "# unexpectedly for memory limit\n",
    "#\n",
    "# \"https://tfhub.dev/google/tf2-preview/nnlm-en-dim50/1\"\n",
    "# \"https://tfhub.dev/google/tf2-preview/nnlm-en-dim50-with-normalization/1\"\n",
    "# there is no difference between normalization and not so we use the one \n",
    "# without normalization"
   ]
  },
  {
   "cell_type": "markdown",
   "metadata": {},
   "source": [
    "## GET DATA"
   ]
  },
  {
   "cell_type": "code",
   "execution_count": 5,
   "metadata": {},
   "outputs": [
    {
     "data": {
      "text/plain": [
       "[{'id': '285967',\n",
       "  'rank': '1',\n",
       "  'thumbnail': 'https://cf.geekdo-images.com/_al0scMG_pQfGVM31Scf1Q__thumb/img/OMVAMJX95HNO-vSRdk-kGjAzzBY=/fit-in/200x150/filters:strip_icc()/pic6107853.jpg',\n",
       "  'name': 'Ankh: Gods of Egypt',\n",
       "  'yearpublished': '2021'},\n",
       " {'id': '337627',\n",
       "  'rank': '2',\n",
       "  'thumbnail': 'https://cf.geekdo-images.com/hItZjdDTNuaCZ7fEztwcUQ__thumb/img/Ov6eWR87PZ2O1XYQtXMO6KvfzOg=/fit-in/200x150/filters:strip_icc()/pic6153324.jpg',\n",
       "  'name': 'Voidfall',\n",
       "  'yearpublished': '2022'}]"
      ]
     },
     "execution_count": 5,
     "metadata": {},
     "output_type": "execute_result"
    }
   ],
   "source": [
    "hot_array = get_hot_data()\n",
    "hot_array[:2]"
   ]
  },
  {
   "cell_type": "code",
   "execution_count": 6,
   "metadata": {},
   "outputs": [
    {
     "name": "stdout",
     "output_type": "stream",
     "text": [
      "missing csv file, getting new data using API...\n",
      "page number = 10 (max: 100, len: 23)\n",
      "page number = 20 (max: 100, len: 16)\n",
      "page number = 30 (max: 100, len: 12)\n",
      "page number = 40 (max: 100, len: 9)\n",
      "page number = 50 (max: 100, len: 5)\n",
      "page number = 60 (max: 100, len: 4)\n",
      "page number = 70 (max: 100, len: 4)\n",
      "page number = 80 (max: 100, len: 3)\n",
      "page number = 90 (max: 100, len: 2)\n",
      "page number = 100 (max: 100, len: 1)\n",
      "comments_df shape: (92436, 4)\n"
     ]
    },
    {
     "data": {
      "text/html": [
       "<div>\n",
       "<style scoped>\n",
       "    .dataframe tbody tr th:only-of-type {\n",
       "        vertical-align: middle;\n",
       "    }\n",
       "\n",
       "    .dataframe tbody tr th {\n",
       "        vertical-align: top;\n",
       "    }\n",
       "\n",
       "    .dataframe thead th {\n",
       "        text-align: right;\n",
       "    }\n",
       "</style>\n",
       "<table border=\"1\" class=\"dataframe\">\n",
       "  <thead>\n",
       "    <tr style=\"text-align: right;\">\n",
       "      <th></th>\n",
       "      <th>id</th>\n",
       "      <th>username</th>\n",
       "      <th>rating</th>\n",
       "      <th>value</th>\n",
       "    </tr>\n",
       "  </thead>\n",
       "  <tbody>\n",
       "    <tr>\n",
       "      <th>0</th>\n",
       "      <td>285967</td>\n",
       "      <td>07734</td>\n",
       "      <td>N/A</td>\n",
       "      <td>GG - NOT Paid</td>\n",
       "    </tr>\n",
       "    <tr>\n",
       "      <th>1</th>\n",
       "      <td>285967</td>\n",
       "      <td>8janek8</td>\n",
       "      <td>N/A</td>\n",
       "      <td>$(revolut-253,53USD), 2021 05, Eternal Pledge,...</td>\n",
       "    </tr>\n",
       "    <tr>\n",
       "      <th>2</th>\n",
       "      <td>285967</td>\n",
       "      <td>abraxasdf</td>\n",
       "      <td>10</td>\n",
       "      <td>Should not let you rate a game before it even ...</td>\n",
       "    </tr>\n",
       "    <tr>\n",
       "      <th>3</th>\n",
       "      <td>285967</td>\n",
       "      <td>AcquisitionDisorder</td>\n",
       "      <td>N/A</td>\n",
       "      <td>Kickstarter all in edition</td>\n",
       "    </tr>\n",
       "    <tr>\n",
       "      <th>4</th>\n",
       "      <td>285967</td>\n",
       "      <td>aeonphreak</td>\n",
       "      <td>N/A</td>\n",
       "      <td>paid and awaiting via kickstarter</td>\n",
       "    </tr>\n",
       "    <tr>\n",
       "      <th>...</th>\n",
       "      <td>...</td>\n",
       "      <td>...</td>\n",
       "      <td>...</td>\n",
       "      <td>...</td>\n",
       "    </tr>\n",
       "    <tr>\n",
       "      <th>92431</th>\n",
       "      <td>167791</td>\n",
       "      <td>z_zadar</td>\n",
       "      <td>9</td>\n",
       "      <td>Some games are so much fun. Others can be a li...</td>\n",
       "    </tr>\n",
       "    <tr>\n",
       "      <th>92432</th>\n",
       "      <td>167791</td>\n",
       "      <td>_Czid_</td>\n",
       "      <td>8</td>\n",
       "      <td>Have played with Elysium and Prelude expansion...</td>\n",
       "    </tr>\n",
       "    <tr>\n",
       "      <th>92433</th>\n",
       "      <td>167791</td>\n",
       "      <td>_Marty_</td>\n",
       "      <td>9.5</td>\n",
       "      <td>Fantastic game. With so many cards that can ch...</td>\n",
       "    </tr>\n",
       "    <tr>\n",
       "      <th>92434</th>\n",
       "      <td>167791</td>\n",
       "      <td>_mun_</td>\n",
       "      <td>10</td>\n",
       "      <td>Nagyon izgalmas játék, jó a mechanizmusa. A sz...</td>\n",
       "    </tr>\n",
       "    <tr>\n",
       "      <th>92435</th>\n",
       "      <td>167791</td>\n",
       "      <td>_The_Inquiry_</td>\n",
       "      <td>5</td>\n",
       "      <td>Prior to 2020: 2 plays  TM is one of those gam...</td>\n",
       "    </tr>\n",
       "  </tbody>\n",
       "</table>\n",
       "<p>92436 rows × 4 columns</p>\n",
       "</div>"
      ],
      "text/plain": [
       "           id             username rating  \\\n",
       "0      285967                07734    N/A   \n",
       "1      285967              8janek8    N/A   \n",
       "2      285967            abraxasdf     10   \n",
       "3      285967  AcquisitionDisorder    N/A   \n",
       "4      285967           aeonphreak    N/A   \n",
       "...       ...                  ...    ...   \n",
       "92431  167791              z_zadar      9   \n",
       "92432  167791               _Czid_      8   \n",
       "92433  167791              _Marty_    9.5   \n",
       "92434  167791                _mun_     10   \n",
       "92435  167791        _The_Inquiry_      5   \n",
       "\n",
       "                                                   value  \n",
       "0                                          GG - NOT Paid  \n",
       "1      $(revolut-253,53USD), 2021 05, Eternal Pledge,...  \n",
       "2      Should not let you rate a game before it even ...  \n",
       "3                             Kickstarter all in edition  \n",
       "4                      paid and awaiting via kickstarter  \n",
       "...                                                  ...  \n",
       "92431  Some games are so much fun. Others can be a li...  \n",
       "92432  Have played with Elysium and Prelude expansion...  \n",
       "92433  Fantastic game. With so many cards that can ch...  \n",
       "92434  Nagyon izgalmas játék, jó a mechanizmusa. A sz...  \n",
       "92435  Prior to 2020: 2 plays  TM is one of those gam...  \n",
       "\n",
       "[92436 rows x 4 columns]"
      ]
     },
     "execution_count": 6,
     "metadata": {},
     "output_type": "execute_result"
    }
   ],
   "source": [
    "try:\n",
    "    comments_df = pd.read_csv(f\"comments_{datetime.now().strftime('%Y%m%d')}.csv\")\n",
    "    comments_df['rating'] = comments_df.rating.fillna('N/A')\n",
    "    print(\"reading dataframe from csv file...\")\n",
    "except:\n",
    "    print(\"missing csv file, getting new data using API...\")\n",
    "    comments_df = get_comments(hot_array, verbose=10)\n",
    "    comments_df.to_csv(f\"comments_{datetime.now().strftime('%Y%m%d')}.csv\", index=False)\n",
    "comments_df"
   ]
  },
  {
   "cell_type": "markdown",
   "metadata": {},
   "source": [
    "## DATA CLEANING"
   ]
  },
  {
   "cell_type": "code",
   "execution_count": 7,
   "metadata": {},
   "outputs": [],
   "source": [
    "# probably we should keep all the ratings (no matters the len) and remove only the simple comments under a certain len  \n",
    "comments_df[\"value\"] = comments_df[\"value\"].astype(str)"
   ]
  },
  {
   "cell_type": "code",
   "execution_count": 8,
   "metadata": {},
   "outputs": [
    {
     "name": "stdout",
     "output_type": "stream",
     "text": [
      "removed 15211 for 'remove_short_comments' - min len: 25 - method: unrated\n"
     ]
    }
   ],
   "source": [
    "# REMOVE URLs FROM COMMENTS\n",
    "comments_df['value'] = [re.sub(r\"http\\S+\", \"\", v) for v in comments_df.value.values]\n",
    "comments_df = remove_short_comments(comments_df, MIN_COMMENT_LEN)"
   ]
  },
  {
   "cell_type": "code",
   "execution_count": 9,
   "metadata": {},
   "outputs": [],
   "source": [
    "# REMOVE NON ENGLISH COMMENTS\n",
    "# !conda install -c conda-forge langdetect\n",
    "# def add_comments_lang(df: pd.DataFrame):\n",
    "#     df_local = df.copy()\n",
    "#     df_local['lang'] = df['value'].apply(detect)\n",
    "#     return df_local.reset_index(drop=True)\n",
    "# comments_df = add_comments_lang(comments_df)\n",
    "# comments_df = comments_df.query('lang == \"en\"')"
   ]
  },
  {
   "cell_type": "markdown",
   "metadata": {},
   "source": [
    "## SPLIT RATED AND NON-RATED COMMENTS"
   ]
  },
  {
   "cell_type": "code",
   "execution_count": 10,
   "metadata": {},
   "outputs": [
    {
     "data": {
      "text/plain": [
       "9         14206\n",
       "10        14111\n",
       "8         12581\n",
       "7          6953\n",
       "N/A        6253\n",
       "          ...  \n",
       "9.975         1\n",
       "9.9149        1\n",
       "4.25          1\n",
       "4.24          1\n",
       "6.65          1\n",
       "Name: rating, Length: 531, dtype: int64"
      ]
     },
     "execution_count": 10,
     "metadata": {},
     "output_type": "execute_result"
    }
   ],
   "source": [
    "# count number of comments per rating (N/A included)\n",
    "comments_df.rating.value_counts()"
   ]
  },
  {
   "cell_type": "code",
   "execution_count": 11,
   "metadata": {},
   "outputs": [
    {
     "data": {
      "text/plain": [
       "(70972, 5)"
      ]
     },
     "execution_count": 11,
     "metadata": {},
     "output_type": "execute_result"
    }
   ],
   "source": [
    "# get rated comments only\n",
    "rated_comments = comments_df.query('rating != \"N/A\"')\n",
    "rated_comments.shape"
   ]
  },
  {
   "cell_type": "code",
   "execution_count": 12,
   "metadata": {},
   "outputs": [
    {
     "data": {
      "text/plain": [
       "(6253, 5)"
      ]
     },
     "execution_count": 12,
     "metadata": {},
     "output_type": "execute_result"
    }
   ],
   "source": [
    "# get non rated comments only\n",
    "not_rated_comments = comments_df.query('rating == \"N/A\"').reset_index(drop=True)\n",
    "not_rated_comments.shape"
   ]
  },
  {
   "cell_type": "markdown",
   "metadata": {},
   "source": [
    "## CREATE TRAINING AND VALIDATION DATA"
   ]
  },
  {
   "cell_type": "code",
   "execution_count": 13,
   "metadata": {},
   "outputs": [],
   "source": [
    "# use rated comments (reviews) to train the model"
   ]
  },
  {
   "cell_type": "code",
   "execution_count": 14,
   "metadata": {},
   "outputs": [],
   "source": [
    "rated_comments = rated_comments.sample(frac=1)"
   ]
  },
  {
   "cell_type": "code",
   "execution_count": 15,
   "metadata": {},
   "outputs": [],
   "source": [
    "# create training X and y\n",
    "train_examples = list(rated_comments.value)\n",
    "train_labels = list((rated_comments.rating.astype(float)>=GOOD_REVIEW_THRESHOLD).astype(int))"
   ]
  },
  {
   "cell_type": "code",
   "execution_count": 16,
   "metadata": {},
   "outputs": [
    {
     "name": "stdout",
     "output_type": "stream",
     "text": [
      "example of positive rating:\n"
     ]
    },
    {
     "data": {
      "text/plain": [
       "'Only five plays in, future plays will determine where this game settles. I am learning more about this game each time I play it. It might be a Terra Mystica killer for me.'"
      ]
     },
     "execution_count": 16,
     "metadata": {},
     "output_type": "execute_result"
    }
   ],
   "source": [
    "print(\"example of positive rating:\")\n",
    "train_examples[train_labels.index(1)]"
   ]
  },
  {
   "cell_type": "code",
   "execution_count": 17,
   "metadata": {},
   "outputs": [
    {
     "name": "stdout",
     "output_type": "stream",
     "text": [
      "example of negative rating:\n"
     ]
    },
    {
     "data": {
      "text/plain": [
       "\"It is possible that I don't understand this game very well yet, but it is not an easy one to play nor did I find it very enjoyable  2021-05-03   digital\""
      ]
     },
     "execution_count": 17,
     "metadata": {},
     "output_type": "execute_result"
    }
   ],
   "source": [
    "print(\"example of negative rating:\")\n",
    "train_examples[train_labels.index(0)]"
   ]
  },
  {
   "cell_type": "markdown",
   "metadata": {},
   "source": [
    "## COMPOSE MODEL"
   ]
  },
  {
   "cell_type": "code",
   "execution_count": 19,
   "metadata": {},
   "outputs": [],
   "source": [
    "hub_layer = hub.KerasLayer(MODEL_NAME, input_shape=[], dtype=tf.string, trainable=True)"
   ]
  },
  {
   "cell_type": "markdown",
   "metadata": {},
   "source": [
    "## CLASSIFIER"
   ]
  },
  {
   "cell_type": "code",
   "execution_count": 20,
   "metadata": {},
   "outputs": [
    {
     "name": "stdout",
     "output_type": "stream",
     "text": [
      "Epoch 1/100\n",
      "35/35 - 4s - loss: 0.6142 - accuracy: 0.7143 - val_loss: 0.5372 - val_accuracy: 0.8335\n",
      "Epoch 2/100\n",
      "35/35 - 2s - loss: 0.5033 - accuracy: 0.8420 - val_loss: 0.4686 - val_accuracy: 0.8452\n",
      "Epoch 3/100\n",
      "35/35 - 2s - loss: 0.4276 - accuracy: 0.8465 - val_loss: 0.4056 - val_accuracy: 0.8477\n",
      "Epoch 4/100\n",
      "35/35 - 2s - loss: 0.3610 - accuracy: 0.8579 - val_loss: 0.3617 - val_accuracy: 0.8598\n",
      "Epoch 5/100\n",
      "35/35 - 2s - loss: 0.3127 - accuracy: 0.8787 - val_loss: 0.3383 - val_accuracy: 0.8685\n",
      "Epoch 6/100\n",
      "35/35 - 2s - loss: 0.2780 - accuracy: 0.8907 - val_loss: 0.3263 - val_accuracy: 0.8705\n",
      "Epoch 7/100\n",
      "35/35 - 2s - loss: 0.2506 - accuracy: 0.9029 - val_loss: 0.3222 - val_accuracy: 0.8721\n",
      "Epoch 8/100\n",
      "35/35 - 2s - loss: 0.2268 - accuracy: 0.9144 - val_loss: 0.3265 - val_accuracy: 0.8720\n",
      "Epoch 9/100\n",
      "35/35 - 2s - loss: 0.2060 - accuracy: 0.9224 - val_loss: 0.3303 - val_accuracy: 0.8697\n",
      "Epoch 10/100\n",
      "35/35 - 2s - loss: 0.1869 - accuracy: 0.9310 - val_loss: 0.3397 - val_accuracy: 0.8685\n",
      "Epoch 11/100\n",
      "35/35 - 2s - loss: 0.1706 - accuracy: 0.9382 - val_loss: 0.3539 - val_accuracy: 0.8632\n",
      "Epoch 12/100\n",
      "35/35 - 2s - loss: 0.1562 - accuracy: 0.9443 - val_loss: 0.3689 - val_accuracy: 0.8593\n",
      "24/24 - 0s - loss: 0.3635 - accuracy: 0.8633\n",
      "Epoch 1/100\n",
      "35/35 - 3s - loss: 0.5612 - accuracy: 0.8106 - val_loss: 0.4912 - val_accuracy: 0.8441\n",
      "Epoch 2/100\n",
      "35/35 - 2s - loss: 0.4521 - accuracy: 0.8425 - val_loss: 0.4153 - val_accuracy: 0.8464\n",
      "Epoch 3/100\n",
      "35/35 - 2s - loss: 0.3747 - accuracy: 0.8513 - val_loss: 0.3622 - val_accuracy: 0.8566\n",
      "Epoch 4/100\n",
      "35/35 - 2s - loss: 0.3205 - accuracy: 0.8713 - val_loss: 0.3368 - val_accuracy: 0.8660\n",
      "Epoch 5/100\n",
      "35/35 - 2s - loss: 0.2829 - accuracy: 0.8861 - val_loss: 0.3250 - val_accuracy: 0.8690\n",
      "Epoch 6/100\n",
      "35/35 - 2s - loss: 0.2531 - accuracy: 0.8997 - val_loss: 0.3215 - val_accuracy: 0.8699\n",
      "Epoch 7/100\n",
      "35/35 - 2s - loss: 0.2280 - accuracy: 0.9113 - val_loss: 0.3247 - val_accuracy: 0.8693\n",
      "Epoch 8/100\n",
      "35/35 - 2s - loss: 0.2058 - accuracy: 0.9213 - val_loss: 0.3304 - val_accuracy: 0.8676\n",
      "Epoch 9/100\n",
      "35/35 - 2s - loss: 0.1864 - accuracy: 0.9306 - val_loss: 0.3414 - val_accuracy: 0.8650\n",
      "Epoch 10/100\n",
      "35/35 - 2s - loss: 0.1688 - accuracy: 0.9382 - val_loss: 0.3559 - val_accuracy: 0.8630\n",
      "24/24 - 0s - loss: 0.3511 - accuracy: 0.8659\n",
      "Epoch 1/100\n",
      "35/35 - 3s - loss: 0.5331 - accuracy: 0.8412 - val_loss: 0.4714 - val_accuracy: 0.8512\n",
      "Epoch 2/100\n",
      "35/35 - 2s - loss: 0.4296 - accuracy: 0.8455 - val_loss: 0.3874 - val_accuracy: 0.8527\n",
      "Epoch 3/100\n",
      "35/35 - 2s - loss: 0.3513 - accuracy: 0.8599 - val_loss: 0.3404 - val_accuracy: 0.8646\n",
      "Epoch 4/100\n",
      "35/35 - 2s - loss: 0.3015 - accuracy: 0.8791 - val_loss: 0.3200 - val_accuracy: 0.8733\n",
      "Epoch 5/100\n",
      "35/35 - 2s - loss: 0.2661 - accuracy: 0.8957 - val_loss: 0.3113 - val_accuracy: 0.8773\n",
      "Epoch 6/100\n",
      "35/35 - 2s - loss: 0.2380 - accuracy: 0.9068 - val_loss: 0.3101 - val_accuracy: 0.8767\n",
      "Epoch 7/100\n",
      "35/35 - 2s - loss: 0.2144 - accuracy: 0.9162 - val_loss: 0.3146 - val_accuracy: 0.8740\n",
      "Epoch 8/100\n",
      "35/35 - 2s - loss: 0.1937 - accuracy: 0.9264 - val_loss: 0.3236 - val_accuracy: 0.8736\n",
      "Epoch 9/100\n",
      "35/35 - 2s - loss: 0.1763 - accuracy: 0.9350 - val_loss: 0.3345 - val_accuracy: 0.8703\n",
      "Epoch 10/100\n",
      "35/35 - 2s - loss: 0.1606 - accuracy: 0.9419 - val_loss: 0.3486 - val_accuracy: 0.8667\n",
      "24/24 - 0s - loss: 0.3648 - accuracy: 0.8601\n",
      "Epoch 1/100\n",
      "52/52 - 4s - loss: 0.5611 - accuracy: 0.7813 - val_loss: 0.4868 - val_accuracy: 0.8421\n",
      "Epoch 2/100\n",
      "52/52 - 3s - loss: 0.4175 - accuracy: 0.8508 - val_loss: 0.3773 - val_accuracy: 0.8572\n",
      "Epoch 3/100\n",
      "52/52 - 3s - loss: 0.3287 - accuracy: 0.8728 - val_loss: 0.3353 - val_accuracy: 0.8688\n",
      "Epoch 4/100\n",
      "52/52 - 3s - loss: 0.2826 - accuracy: 0.8909 - val_loss: 0.3199 - val_accuracy: 0.8734\n",
      "Epoch 5/100\n",
      "52/52 - 3s - loss: 0.2521 - accuracy: 0.9031 - val_loss: 0.3161 - val_accuracy: 0.8734\n",
      "Epoch 6/100\n",
      "52/52 - 3s - loss: 0.2281 - accuracy: 0.9130 - val_loss: 0.3207 - val_accuracy: 0.8717\n",
      "Epoch 7/100\n",
      "52/52 - 3s - loss: 0.2085 - accuracy: 0.9212 - val_loss: 0.3303 - val_accuracy: 0.8696\n",
      "Epoch 8/100\n",
      "52/52 - 3s - loss: 0.1919 - accuracy: 0.9285 - val_loss: 0.3399 - val_accuracy: 0.8663\n",
      "Epoch 9/100\n",
      "52/52 - 3s - loss: 0.1780 - accuracy: 0.9339 - val_loss: 0.3534 - val_accuracy: 0.8627\n"
     ]
    },
    {
     "data": {
      "text/plain": [
       "GridSearchCV(cv=3,\n",
       "             estimator=<tensorflow.python.keras.wrappers.scikit_learn.KerasClassifier object at 0x0000023490DC3B80>,\n",
       "             param_grid={})"
      ]
     },
     "execution_count": 20,
     "metadata": {},
     "output_type": "execute_result"
    }
   ],
   "source": [
    "def build_classifier():\n",
    "    return build_model(hub_layer=None, pre_trained_model_name=MODEL_NAME, model_type='classifier', verbose=0)\n",
    "\n",
    "\n",
    "estimator = KerasClassifier(build_fn=build_classifier, epochs=100, batch_size=1024, verbose=2, validation_split=VAL_FRACTION)\n",
    "x_train_clf = np.array(list(rated_comments.value))\n",
    "y_train_clf = np.array(list((rated_comments.rating.astype(float)>=GOOD_REVIEW_THRESHOLD).astype(int)))\n",
    "\n",
    "clf = GridSearchCV(\n",
    "    estimator, \n",
    "    cv=3, \n",
    "    param_grid={}\n",
    ")\n",
    "clf.fit(x_train_clf, y_train_clf, callbacks=[tf.keras.callbacks.EarlyStopping(monitor='val_accuracy', patience=5, min_delta=0.001)])"
   ]
  },
  {
   "cell_type": "code",
   "execution_count": 21,
   "metadata": {},
   "outputs": [],
   "source": [
    "classifier = clf.best_estimator_\n",
    "classifier_history_dict = classifier.model.history.history"
   ]
  },
  {
   "cell_type": "code",
   "execution_count": 22,
   "metadata": {},
   "outputs": [
    {
     "data": {
      "text/plain": [
       "dict_keys(['loss', 'accuracy', 'val_loss', 'val_accuracy'])"
      ]
     },
     "execution_count": 22,
     "metadata": {},
     "output_type": "execute_result"
    }
   ],
   "source": [
    "classifier_history_dict.keys()"
   ]
  },
  {
   "cell_type": "code",
   "execution_count": 23,
   "metadata": {},
   "outputs": [],
   "source": [
    "acc = classifier_history_dict['accuracy']\n",
    "val_acc = classifier_history_dict['val_accuracy']\n",
    "loss = classifier_history_dict['loss']\n",
    "val_loss = classifier_history_dict['val_loss']"
   ]
  },
  {
   "cell_type": "code",
   "execution_count": 24,
   "metadata": {},
   "outputs": [],
   "source": [
    "epochs = range(1, len(acc) + 1) "
   ]
  },
  {
   "cell_type": "code",
   "execution_count": 25,
   "metadata": {},
   "outputs": [
    {
     "data": {
      "image/png": "[encoded data removed]",
      "text/plain": [
       "<Figure size 648x360 with 1 Axes>"
      ]
     },
     "metadata": {
      "needs_background": "light"
     },
     "output_type": "display_data"
    }
   ],
   "source": [
    "# \"bo\" is for \"blue dot\"\n",
    "plt.figure(figsize=(9, 5))\n",
    "plt.plot(epochs, loss, 'bo', label='Training loss')\n",
    "# b is for \"solid blue line\"\n",
    "plt.plot(epochs, val_loss, 'b', label='Validation loss')\n",
    "plt.title('Training and validation loss')\n",
    "plt.xlabel('Epochs')\n",
    "plt.ylabel('Loss')\n",
    "plt.grid(True)\n",
    "plt.legend()\n",
    "\n",
    "plt.show()"
   ]
  },
  {
   "cell_type": "code",
   "execution_count": 26,
   "metadata": {},
   "outputs": [
    {
     "data": {
      "image/png": "[encoded data removed]",
      "text/plain": [
       "<Figure size 648x360 with 1 Axes>"
      ]
     },
     "metadata": {
      "needs_background": "light"
     },
     "output_type": "display_data"
    }
   ],
   "source": [
    "plt.figure(figsize=(9, 5))\n",
    "plt.plot(epochs, acc, 'bo', label='Training acc')\n",
    "plt.plot(epochs, val_acc, 'b', label='Validation acc')\n",
    "plt.title('Training and validation accuracy')\n",
    "plt.xlabel('Epochs')\n",
    "plt.ylabel('Accuracy')\n",
    "plt.grid(True)\n",
    "plt.legend()\n",
    "\n",
    "plt.show()"
   ]
  },
  {
   "cell_type": "code",
   "execution_count": 27,
   "metadata": {},
   "outputs": [
    {
     "name": "stdout",
     "output_type": "stream",
     "text": [
      "input:\n",
      "\"Only five plays in, future plays will determine where this game settles. I am learning more about this game each time I play it. It might be a Terra Mystica killer for me.\"\n",
      "score: 1.000000\n",
      "actual: 1\n",
      "\n",
      "input:\n",
      "\"It is possible that I don't understand this game very well yet, but it is not an easy one to play nor did I find it very enjoyable  2021-05-03   digital\"\n",
      "score: 0.000000\n",
      "actual: 0\n",
      "\n",
      "input:\n",
      "\"After 25 games - this is keeping better and better :O After playing all possible scenarios that have come to us and following through the full storyline - it didn't keep as brilliant as it was in the midpoint of the game, but still very good.  Crazy good package of Dungeon crawling!\"\n",
      "score: 1.000000\n",
      "actual: 1\n",
      "\n",
      "input:\n",
      "\"German KS Edition\"\n",
      "score: 1.000000\n",
      "actual: 1\n",
      "\n",
      "input:\n",
      "\"Just... Incredibile... 10 stars!\"\n",
      "score: 1.000000\n",
      "actual: 1\n",
      "\n",
      "input:\n",
      "\"- The rulebook is quite clear (there are only a few open questions left, with official answers on BGG), but important information is a bit buried in it (like the fact that blue card effects can be activated only once per generation).  - The design is quite ugly. But it is functional.  o There is nothing Earth shattering in this game, but the huge number of cards makes it a bit special nonetheless, and in any case it's a very solid game.  + The resource cubes are very functional, with their different colors and sizes.  + The gameplay is smooth, with quick turns.  + The effects match the card theme well. + Combos are plenty, and this is satisfying.  + It is possible to have strategies, in addition to the tactical considerations coming from having to pay for cards.\"\n",
      "score: 1.000000\n",
      "actual: 1\n",
      "\n",
      "input:\n",
      "\"This game has seen more play than most of the older games in my collection already. It's one of my all time favorites!\"\n",
      "score: 0.000000\n",
      "actual: 1\n",
      "\n",
      "input:\n",
      "\"Very nice cardgame. But boy what went FFG on the cheap with the components: no chaos bag, not enough cards to play all characters from a single box.\"\n",
      "score: 0.000000\n",
      "actual: 1\n",
      "\n",
      "input:\n",
      "\"We absolutely love it - we're currently 60+ hours in and still looking forward to every single play.  If you're not into the core loop of tactical dungeon crawling then you might bounce off it, but if you've ever enjoyed a dungeon crawl then this is hands down the best there is\"\n",
      "score: 1.000000\n",
      "actual: 1\n",
      "\n",
      "input:\n",
      "\"I'm absolutely not a fan of cooperative \"a bunch of semi-random stuff happens, react to it or loose\" type games... But unlike Pandemic or Arkham, I enjoyed my time with Spirit Island.  The theme is beautiful and very morbid if you stop to think about it, there's just enough complication to prevent quarter-backing, and just enough mechanical meat for each player to really sink their teeth into.  I would happily recommend this for anyone exploring their interest in co-op games, even if it's not directly in my taste range.\"\n",
      "score: 0.000000\n",
      "actual: 0\n"
     ]
    },
    {
     "name": "stderr",
     "output_type": "stream",
     "text": [
      "C:\\Users\\dev999\\.conda\\envs\\tensorflow2\\lib\\site-packages\\tensorflow\\python\\keras\\engine\\sequential.py:455: UserWarning: `model.predict_classes()` is deprecated and will be removed after 2021-01-01. Please use instead:* `np.argmax(model.predict(x), axis=-1)`,   if your model does multi-class classification   (e.g. if it uses a `softmax` last-layer activation).* `(model.predict(x) > 0.5).astype(\"int32\")`,   if your model does binary classification   (e.g. if it uses a `sigmoid` last-layer activation).\n",
      "  warnings.warn('`model.predict_classes()` is deprecated and '\n"
     ]
    }
   ],
   "source": [
    "inputs = x_train_clf[:10]\n",
    "outputs = y_train_clf[:10]\n",
    "results = classifier.predict(tf.constant(inputs), verbose=0)\n",
    "print_my_examples(inputs, results, outputs)"
   ]
  },
  {
   "cell_type": "code",
   "execution_count": 28,
   "metadata": {},
   "outputs": [],
   "source": [
    "## APPLY MODEL ON NON-RATED COMMENTS"
   ]
  },
  {
   "cell_type": "code",
   "execution_count": 29,
   "metadata": {},
   "outputs": [
    {
     "name": "stdout",
     "output_type": "stream",
     "text": [
      "7/7 - 0s\n",
      "input:\n",
      "\"Nice cooperative Marvel champion games, worth to get one copy for 1-4 players\"\n",
      "score: 1.000000\n",
      "\n",
      "input:\n",
      "\"Wife got this for me for Valentine's day 2021\"\n",
      "score: 1.000000\n",
      "\n",
      "input:\n",
      "\"Played a friend's copy and really enjoyed it. It's difficult and has a large learning curve but we felt we got close enough that we might win next time.\"\n",
      "score: 1.000000\n",
      "\n",
      "input:\n",
      "\"I want the release of the characters and ?? whatever few things blend with the other games in this series (Gloomhaven: Jaws of the Lion, Frosthaven, anything made later...), from each game to use in each without having to buy them all (especially this overbloated one with the most difficult setup/takedown and rules...) Please Please Please.\"\n",
      "score: 1.000000\n",
      "\n",
      "input:\n",
      "\"Base Game - Return to Night at the Zealots  Dunwich Legacy - Miskatonic Museum, Essex County Express, Blood on the Alter, Undimensioned and Unseen, Where Doom Awaits, Lost in Time and Space, Return to Dunwich Legacy  Path to Carcossa  Carnevale of Horrors Curse of Rougarou \"\n",
      "score: 1.000000\n",
      "\n",
      "input:\n",
      "\"Copy won at Geekway to the West 2017 library play. Added Broken Token organizer and off-brand upgraded resources.\"\n",
      "score: 1.000000\n",
      "\n",
      "input:\n",
      "\"WTP High, tableau building and seasons reminiscent mechanics. worried about targeted attacking/gifting being overdone.\"\n",
      "score: 1.000000\n",
      "\n",
      "input:\n",
      "\"Seems really well designed. A nice challenge learning how to be tactical with the character cards. So far, enjoying it more each time. \"\n",
      "score: 1.000000\n",
      "\n",
      "input:\n",
      "\"Lots of these games coming out lately (Ecosystem, Renature, Canopy, Floriferous), including with tile-laying (Gods Love Dinosaurs, Ecos: First Continent, etc).\"\n",
      "score: 1.000000\n",
      "\n",
      "input:\n",
      "\"hearing good things. set collect, work placement, city build. card text small. complex final scoring?\"\n",
      "score: 0.000000\n"
     ]
    }
   ],
   "source": [
    "not_rated_comments = not_rated_comments.sample(frac=1)\n",
    "results = classifier.predict(tf.constant(list(not_rated_comments.value.astype(str))))\n",
    "print_my_examples(list(not_rated_comments.value), results, limit=10)"
   ]
  },
  {
   "cell_type": "markdown",
   "metadata": {},
   "source": [
    "## REGRESSOR"
   ]
  },
  {
   "cell_type": "code",
   "execution_count": 30,
   "metadata": {},
   "outputs": [
    {
     "data": {
      "text/plain": [
       "GridSearchCV(cv=3,\n",
       "             estimator=<tensorflow.python.keras.wrappers.scikit_learn.KerasRegressor object at 0x000002380ECF25B0>,\n",
       "             param_grid={})"
      ]
     },
     "execution_count": 30,
     "metadata": {},
     "output_type": "execute_result"
    }
   ],
   "source": [
    "def build_regressor():\n",
    "    return build_model(hub_layer, pre_trained_model_name=MODEL_NAME, model_type='regressor', verbose=0)\n",
    "\n",
    "\n",
    "estimator = KerasRegressor(build_fn=build_regressor, epochs=100, batch_size=512, verbose=0, validation_split=VAL_FRACTION)\n",
    "x_train_reg = np.array(list(rated_comments.value))\n",
    "y_train_reg = np.array(list(rated_comments.rating.astype(float)))\n",
    "\n",
    "clf = GridSearchCV(\n",
    "    estimator, \n",
    "    cv=3, \n",
    "    param_grid={}\n",
    ")\n",
    "clf.fit(x_train_reg, y_train_reg, callbacks=[tf.keras.callbacks.EarlyStopping(monitor='val_mean_squared_error', patience=5, min_delta=0.001)])"
   ]
  },
  {
   "cell_type": "code",
   "execution_count": 31,
   "metadata": {},
   "outputs": [],
   "source": [
    "regressor = clf.best_estimator_\n",
    "regressor_history_dict = regressor.model.history.history"
   ]
  },
  {
   "cell_type": "code",
   "execution_count": 32,
   "metadata": {},
   "outputs": [
    {
     "data": {
      "text/plain": [
       "dict_keys(['loss', 'mean_squared_error', 'val_loss', 'val_mean_squared_error'])"
      ]
     },
     "execution_count": 32,
     "metadata": {},
     "output_type": "execute_result"
    }
   ],
   "source": [
    "regressor_history_dict.keys()"
   ]
  },
  {
   "cell_type": "code",
   "execution_count": 33,
   "metadata": {},
   "outputs": [],
   "source": [
    "mean_squared_error = regressor_history_dict['mean_squared_error']\n",
    "val_mean_squared_error = regressor_history_dict['val_mean_squared_error']\n",
    "loss = regressor_history_dict['loss']\n",
    "val_loss = regressor_history_dict['val_loss']"
   ]
  },
  {
   "cell_type": "code",
   "execution_count": 34,
   "metadata": {},
   "outputs": [],
   "source": [
    "epochs = range(1, len(mean_squared_error) + 1) "
   ]
  },
  {
   "cell_type": "code",
   "execution_count": 35,
   "metadata": {},
   "outputs": [
    {
     "name": "stdout",
     "output_type": "stream",
     "text": [
      "MEAN SQUARED ERROR (VALIDATION SET): 2.55\n"
     ]
    }
   ],
   "source": [
    "print(f\"MEAN SQUARED ERROR (VALIDATION SET): {val_mean_squared_error[-1]:.2f}\")"
   ]
  },
  {
   "cell_type": "code",
   "execution_count": 36,
   "metadata": {},
   "outputs": [
    {
     "name": "stdout",
     "output_type": "stream",
     "text": [
      "MEAN SQUARED ERROR (TRAINING SET): 0.99\n"
     ]
    }
   ],
   "source": [
    "print(f\"MEAN SQUARED ERROR (TRAINING SET): {mean_squared_error[-1]:.2f}\")"
   ]
  },
  {
   "cell_type": "code",
   "execution_count": 37,
   "metadata": {},
   "outputs": [
    {
     "data": {
      "image/png": "[encoded data removed]",
      "text/plain": [
       "<Figure size 648x360 with 1 Axes>"
      ]
     },
     "metadata": {
      "needs_background": "light"
     },
     "output_type": "display_data"
    }
   ],
   "source": [
    "# \"bo\" is for \"blue dot\"\n",
    "plt.figure(figsize=(9, 5))\n",
    "plt.plot(epochs, loss, 'bo', label='Training loss')\n",
    "# b is for \"solid blue line\"\n",
    "plt.plot(epochs, val_loss, 'b', label='Validation loss')\n",
    "plt.title('Training and validation loss')\n",
    "plt.xlabel('Epochs')\n",
    "plt.ylabel('Loss')\n",
    "plt.grid(True)\n",
    "plt.legend()\n",
    "\n",
    "plt.show()"
   ]
  },
  {
   "cell_type": "code",
   "execution_count": 38,
   "metadata": {},
   "outputs": [
    {
     "data": {
      "image/png": "[encoded data removed]",
      "text/plain": [
       "<Figure size 648x360 with 1 Axes>"
      ]
     },
     "metadata": {
      "needs_background": "light"
     },
     "output_type": "display_data"
    }
   ],
   "source": [
    "plt.figure(figsize=(9, 5))\n",
    "plt.plot(epochs, mean_squared_error, 'bo', label='Training mean squared error')\n",
    "plt.plot(epochs, val_mean_squared_error, 'b', label='Validation mean squared error')\n",
    "plt.title('Training and validation accuracy')\n",
    "plt.xlabel('Epochs')\n",
    "plt.ylabel('Mean squared error')\n",
    "plt.grid(True)\n",
    "plt.legend()\n",
    "\n",
    "plt.show()"
   ]
  },
  {
   "cell_type": "code",
   "execution_count": 39,
   "metadata": {},
   "outputs": [
    {
     "name": "stdout",
     "output_type": "stream",
     "text": [
      "input: \n",
      "\"Only five plays in, future plays will determine where this game settles. I am learning more about this game each time I play it. It might be a Terra Mystica killer for me.\"\n",
      "score: 7.94\n",
      "actual: 8.00 \n",
      "\n",
      "input: \n",
      "\"It is possible that I don't understand this game very well yet, but it is not an easy one to play nor did I find it very enjoyable  2021-05-03   digital\"\n",
      "score: 7.24\n",
      "actual: 6.00 \n",
      "\n",
      "input: \n",
      "\"After 25 games - this is keeping better and better :O After playing all possible scenarios that have come to us and following through the full storyline - it didn't keep as brilliant as it was in the midpoint of the game, but still very good.  Crazy good package of Dungeon crawling!\"\n",
      "score: 7.94\n",
      "actual: 8.00 \n",
      "\n",
      "input: \n",
      "\"German KS Edition\"\n",
      "score: 8.28\n",
      "actual: 9.00 \n",
      "\n",
      "input: \n",
      "\"Just... Incredibile... 10 stars!\"\n",
      "score: 9.81\n",
      "actual: 10.00 \n",
      "\n",
      "input: \n",
      "\"- The rulebook is quite clear (there are only a few open questions left, with official answers on BGG), but important information is a bit buried in it (like the fact that blue card effects can be activated only once per generation).  - The design is quite ugly. But it is functional.  o There is nothing Earth shattering in this game, but the huge number of cards makes it a bit special nonetheless, and in any case it's a very solid game.  + The resource cubes are very functional, with their different colors and sizes.  + The gameplay is smooth, with quick turns.  + The effects match the card theme well. + Combos are plenty, and this is satisfying.  + It is possible to have strategies, in addition to the tactical considerations coming from having to pay for cards.\"\n",
      "score: 9.67\n",
      "actual: 9.00 \n",
      "\n",
      "input: \n",
      "\"This game has seen more play than most of the older games in my collection already. It's one of my all time favorites!\"\n",
      "score: 8.09\n",
      "actual: 10.00 \n",
      "\n",
      "input: \n",
      "\"Very nice cardgame. But boy what went FFG on the cheap with the components: no chaos bag, not enough cards to play all characters from a single box.\"\n",
      "score: 7.58\n",
      "actual: 8.00 \n",
      "\n",
      "input: \n",
      "\"We absolutely love it - we're currently 60+ hours in and still looking forward to every single play.  If you're not into the core loop of tactical dungeon crawling then you might bounce off it, but if you've ever enjoyed a dungeon crawl then this is hands down the best there is\"\n",
      "score: 8.66\n",
      "actual: 10.00 \n",
      "\n",
      "input: \n",
      "\"I'm absolutely not a fan of cooperative \"a bunch of semi-random stuff happens, react to it or loose\" type games... But unlike Pandemic or Arkham, I enjoyed my time with Spirit Island.  The theme is beautiful and very morbid if you stop to think about it, there's just enough complication to prevent quarter-backing, and just enough mechanical meat for each player to really sink their teeth into.  I would happily recommend this for anyone exploring their interest in co-op games, even if it's not directly in my taste range.\"\n",
      "score: 6.63\n",
      "actual: 6.50 \n",
      "\n"
     ]
    }
   ],
   "source": [
    "inputs = x_train_reg[:10]\n",
    "outputs = y_train_reg[:10]\n",
    "results = clf.best_estimator_.predict(tf.constant(inputs), verbose=0)\n",
    "for i in range(len(inputs)):\n",
    "    print(f\"input: \\n\\\"{inputs[i]}\\\"\\nscore: {results[i]:.2f}\\nactual: {outputs[i]:.2f} \\n\")"
   ]
  },
  {
   "cell_type": "markdown",
   "metadata": {},
   "source": [
    "## COMPARE CLASSIFIER VS REGRESSOR"
   ]
  },
  {
   "cell_type": "code",
   "execution_count": 40,
   "metadata": {},
   "outputs": [
    {
     "name": "stdout",
     "output_type": "stream",
     "text": [
      "\"I love games where you lvl up! This looks soo amazing.  Prob my #1 wanted game!\"\n",
      "    reg score: 10.05\n",
      "    clf score: 1\n",
      "\n",
      "\"1-4 Players Worker placement Deck building\"\n",
      "    reg score: 8.64\n",
      "    clf score: 1\n",
      "\n",
      "\"Picked up online: Boardgamebliss.\"\n",
      "    reg score: 7.48\n",
      "    clf score: 1\n",
      "\n",
      "\"Insert BeastProductions + Coins + Gamefit & Laserland Whinebottles\"\n",
      "    reg score: 8.43\n",
      "    clf score: 1\n",
      "\n",
      "\"Looks interesting but I will wait. I'm not paying scalper prices for it\"\n",
      "    reg score: 6.89\n",
      "    clf score: 0\n",
      "\n",
      "\"Includes TM: Prelude expansion in base game.\"\n",
      "    reg score: 8.31\n",
      "    clf score: 1\n",
      "\n",
      "\"Insert Here insert Premium sleeves\"\n",
      "    reg score: 10.21\n",
      "    clf score: 1\n",
      "\n",
      "\"Why „want to play”? It was on Spiel2019 “must play” list.\"\n",
      "    reg score: 8.52\n",
      "    clf score: 0\n",
      "\n",
      "\"VG condition. Played three times.\"\n",
      "    reg score: 6.61\n",
      "    clf score: 0\n",
      "\n",
      "\"(Kickstarted, premium pledge) + exp Invasores de Tierras Lejanas + exp Vientos de Guerra y Paz + exp Encuentros + exp El Auge de Fenris\"\n",
      "    reg score: 7.98\n",
      "    clf score: 1\n",
      "\n"
     ]
    },
    {
     "name": "stderr",
     "output_type": "stream",
     "text": [
      "C:\\Users\\dev999\\.conda\\envs\\tensorflow2\\lib\\site-packages\\tensorflow\\python\\keras\\engine\\sequential.py:455: UserWarning: `model.predict_classes()` is deprecated and will be removed after 2021-01-01. Please use instead:* `np.argmax(model.predict(x), axis=-1)`,   if your model does multi-class classification   (e.g. if it uses a `softmax` last-layer activation).* `(model.predict(x) > 0.5).astype(\"int32\")`,   if your model does binary classification   (e.g. if it uses a `sigmoid` last-layer activation).\n",
      "  warnings.warn('`model.predict_classes()` is deprecated and '\n"
     ]
    }
   ],
   "source": [
    "not_rated_comments = not_rated_comments.sample(frac=1)\n",
    "inputs = list(not_rated_comments.value.astype(str))[:10]\n",
    "\n",
    "clf_results = classifier.predict(inputs, verbose=0)\n",
    "reg_results = regressor.predict(inputs, verbose=0)\n",
    "for i in range(len(inputs)):\n",
    "    print(f\"\"\"\\\"{inputs[i]}\\\"\n",
    "    reg score: {reg_results[i]:.2f}\n",
    "    clf score: {clf_results[i][0]}\n",
    "\"\"\")"
   ]
  },
  {
   "cell_type": "markdown",
   "metadata": {},
   "source": [
    "### RESULTS\n",
    "It seems that the regressor is much more accurate compared to the binary classifier => **let's use the regressors results to fix the BGG rating**"
   ]
  },
  {
   "cell_type": "markdown",
   "metadata": {},
   "source": [
    "## COMBINE RATED COMMENTS AND NOT-RATED COMMENTS WITH PREDICTED RATING"
   ]
  },
  {
   "cell_type": "code",
   "execution_count": 41,
   "metadata": {},
   "outputs": [
    {
     "name": "stdout",
     "output_type": "stream",
     "text": [
      "rated_comments_grouped: \n",
      "|     id |   rating_mean |   rating_count |\n",
      "|--------|---------------|----------------|\n",
      "| 162886 |          8.37 |           3657 |\n",
      "| 167355 |          8.41 |           1960 |\n",
      "| 167791 |          8.21 |           8457 |\n",
      "| 169786 |          8.10 |           7475 |\n",
      "| 174430 |          8.52 |           6482 |\n"
     ]
    }
   ],
   "source": [
    "rated_comments['rating'] = rated_comments.rating.astype(float)\n",
    "rated_comments_grouped = rated_comments.groupby('id').agg({'rating': ['mean', 'count']})\n",
    "rated_comments_grouped.columns = list(rated_comments_grouped.columns.map('_'.join))\n",
    "rated_comments_grouped = rated_comments_grouped.reset_index()\n",
    "print(\"rated_comments_grouped: \")\n",
    "print(rated_comments_grouped.head().to_markdown(index=False, floatfmt='.2f', tablefmt='github'))"
   ]
  },
  {
   "cell_type": "code",
   "execution_count": 42,
   "metadata": {},
   "outputs": [],
   "source": [
    "not_rated_comments['rating'] = regressor.predict(list(not_rated_comments.value.astype(str)))"
   ]
  },
  {
   "cell_type": "code",
   "execution_count": 43,
   "metadata": {},
   "outputs": [
    {
     "name": "stdout",
     "output_type": "stream",
     "text": [
      "not_rated_comments_grouped: \n",
      "|     id |   rating_mean |   rating_count |\n",
      "|--------|---------------|----------------|\n",
      "| 162886 |          8.12 |            323 |\n",
      "| 167355 |          8.03 |            215 |\n",
      "| 167791 |          8.11 |            450 |\n",
      "| 169786 |          8.06 |            602 |\n",
      "| 174430 |          8.07 |            567 |\n"
     ]
    }
   ],
   "source": [
    "not_rated_comments['rating'] = not_rated_comments.rating.astype(float)\n",
    "not_rated_comments['rating'] = not_rated_comments['rating'].clip(0, 10)\n",
    "not_rated_comments_grouped = not_rated_comments.groupby('id').agg({'rating': ['mean', 'count']})\n",
    "not_rated_comments_grouped.columns = list(not_rated_comments_grouped.columns.map('_'.join))\n",
    "not_rated_comments_grouped = not_rated_comments_grouped.reset_index()\n",
    "print(\"not_rated_comments_grouped: \")\n",
    "print(not_rated_comments_grouped.head().to_markdown(index=False, floatfmt='.2f', tablefmt='github'))"
   ]
  },
  {
   "cell_type": "code",
   "execution_count": 44,
   "metadata": {},
   "outputs": [],
   "source": [
    "grouped = rated_comments_grouped.merge(not_rated_comments_grouped, on='id', suffixes=('_review', '_comments'), how='outer')\n",
    "grouped['id'] = grouped.id.astype(str)\n",
    "grouped = grouped.merge(pd.DataFrame(hot_array), on='id', how='right')\n",
    "grouped['rank'] = grouped['rank'].astype(int)\n",
    "grouped['url'] = grouped['id'].apply(lambda x: f\"https://boardgamegeek.com/boardgame/{x}\")\n",
    "grouped['fixed_rating'] = (grouped['rating_mean_review']*grouped['rating_count_review']+grouped['rating_mean_comments']*grouped['rating_count_comments']) /\\\n",
    "                            (grouped['rating_count_review']+grouped['rating_count_comments'])\n",
    "grouped['thumbnail'] = grouped['thumbnail'].apply(lambda x: f'<img src=\"{x}\" width=\"124\" />')\n",
    "grouped['name'] = grouped.apply(lambda x: f'<a href=\"{x[\"url\"]}\">{x[\"name\"]}</a>', axis=1)\n",
    "\n",
    "grouped = grouped[['thumbnail', 'name', 'rating_mean_review', 'rating_mean_comments', 'fixed_rating', 'rank', 'yearpublished']]"
   ]
  },
  {
   "cell_type": "code",
   "execution_count": 45,
   "metadata": {},
   "outputs": [
    {
     "data": {
      "text/html": [
       "<div>\n",
       "<style scoped>\n",
       "    .dataframe tbody tr th:only-of-type {\n",
       "        vertical-align: middle;\n",
       "    }\n",
       "\n",
       "    .dataframe tbody tr th {\n",
       "        vertical-align: top;\n",
       "    }\n",
       "\n",
       "    .dataframe thead th {\n",
       "        text-align: right;\n",
       "    }\n",
       "</style>\n",
       "<table border=\"1\" class=\"dataframe\">\n",
       "  <thead>\n",
       "    <tr style=\"text-align: right;\">\n",
       "      <th></th>\n",
       "      <th>thumbnail</th>\n",
       "      <th>name</th>\n",
       "      <th>rating_mean_review</th>\n",
       "      <th>rating_mean_comments</th>\n",
       "      <th>fixed_rating</th>\n",
       "      <th>rank</th>\n",
       "      <th>yearpublished</th>\n",
       "    </tr>\n",
       "  </thead>\n",
       "  <tbody>\n",
       "    <tr>\n",
       "      <th>0</th>\n",
       "      <td>&lt;img src=\"https://cf.geekdo-images.com/_al0scM...</td>\n",
       "      <td>&lt;a href=\"https://boardgamegeek.com/boardgame/2...</td>\n",
       "      <td>7.311441</td>\n",
       "      <td>7.403551</td>\n",
       "      <td>7.344800</td>\n",
       "      <td>1</td>\n",
       "      <td>2021</td>\n",
       "    </tr>\n",
       "    <tr>\n",
       "      <th>1</th>\n",
       "      <td>&lt;img src=\"https://cf.geekdo-images.com/hItZjdD...</td>\n",
       "      <td>&lt;a href=\"https://boardgamegeek.com/boardgame/3...</td>\n",
       "      <td>10.000000</td>\n",
       "      <td>7.319732</td>\n",
       "      <td>7.587759</td>\n",
       "      <td>2</td>\n",
       "      <td>2022</td>\n",
       "    </tr>\n",
       "    <tr>\n",
       "      <th>2</th>\n",
       "      <td>&lt;img src=\"https://cf.geekdo-images.com/gc5ZZ_X...</td>\n",
       "      <td>&lt;a href=\"https://boardgamegeek.com/boardgame/3...</td>\n",
       "      <td>3.500000</td>\n",
       "      <td>6.598234</td>\n",
       "      <td>4.119647</td>\n",
       "      <td>3</td>\n",
       "      <td>2022</td>\n",
       "    </tr>\n",
       "    <tr>\n",
       "      <th>3</th>\n",
       "      <td>&lt;img src=\"https://cf.geekdo-images.com/6GqH14T...</td>\n",
       "      <td>&lt;a href=\"https://boardgamegeek.com/boardgame/3...</td>\n",
       "      <td>7.759297</td>\n",
       "      <td>7.804628</td>\n",
       "      <td>7.762441</td>\n",
       "      <td>4</td>\n",
       "      <td>2020</td>\n",
       "    </tr>\n",
       "    <tr>\n",
       "      <th>4</th>\n",
       "      <td>&lt;img src=\"https://cf.geekdo-images.com/FCz9Iu2...</td>\n",
       "      <td>&lt;a href=\"https://boardgamegeek.com/boardgame/3...</td>\n",
       "      <td>5.000000</td>\n",
       "      <td>7.951954</td>\n",
       "      <td>6.967969</td>\n",
       "      <td>5</td>\n",
       "      <td>2022</td>\n",
       "    </tr>\n",
       "  </tbody>\n",
       "</table>\n",
       "</div>"
      ],
      "text/plain": [
       "                                           thumbnail  \\\n",
       "0  <img src=\"https://cf.geekdo-images.com/_al0scM...   \n",
       "1  <img src=\"https://cf.geekdo-images.com/hItZjdD...   \n",
       "2  <img src=\"https://cf.geekdo-images.com/gc5ZZ_X...   \n",
       "3  <img src=\"https://cf.geekdo-images.com/6GqH14T...   \n",
       "4  <img src=\"https://cf.geekdo-images.com/FCz9Iu2...   \n",
       "\n",
       "                                                name  rating_mean_review  \\\n",
       "0  <a href=\"https://boardgamegeek.com/boardgame/2...            7.311441   \n",
       "1  <a href=\"https://boardgamegeek.com/boardgame/3...           10.000000   \n",
       "2  <a href=\"https://boardgamegeek.com/boardgame/3...            3.500000   \n",
       "3  <a href=\"https://boardgamegeek.com/boardgame/3...            7.759297   \n",
       "4  <a href=\"https://boardgamegeek.com/boardgame/3...            5.000000   \n",
       "\n",
       "   rating_mean_comments  fixed_rating  rank yearpublished  \n",
       "0              7.403551      7.344800     1          2021  \n",
       "1              7.319732      7.587759     2          2022  \n",
       "2              6.598234      4.119647     3          2022  \n",
       "3              7.804628      7.762441     4          2020  \n",
       "4              7.951954      6.967969     5          2022  "
      ]
     },
     "execution_count": 45,
     "metadata": {},
     "output_type": "execute_result"
    }
   ],
   "source": [
    "grouped.head()"
   ]
  },
  {
   "cell_type": "code",
   "execution_count": 46,
   "metadata": {},
   "outputs": [],
   "source": [
    "def display_topn(by, n=5, ascending=True):\n",
    "    temp_df = grouped.sort_values(by, ascending=ascending).head(n)\n",
    "    temp_df.index=list(range(1, n+1))\n",
    "    return HTML(temp_df.to_html(escape=False, classes='table table-striped'))"
   ]
  },
  {
   "cell_type": "code",
   "execution_count": 47,
   "metadata": {},
   "outputs": [
    {
     "data": {
      "text/html": [
       "<table border=\"1\" class=\"dataframe table table-striped\">\n",
       "  <thead>\n",
       "    <tr style=\"text-align: right;\">\n",
       "      <th></th>\n",
       "      <th>thumbnail</th>\n",
       "      <th>name</th>\n",
       "      <th>rating_mean_review</th>\n",
       "      <th>rating_mean_comments</th>\n",
       "      <th>fixed_rating</th>\n",
       "      <th>rank</th>\n",
       "      <th>yearpublished</th>\n",
       "    </tr>\n",
       "  </thead>\n",
       "  <tbody>\n",
       "    <tr>\n",
       "      <th>1</th>\n",
       "      <td><img src=\"https://cf.geekdo-images.com/_al0scMG_pQfGVM31Scf1Q__thumb/img/OMVAMJX95HNO-vSRdk-kGjAzzBY=/fit-in/200x150/filters:strip_icc()/pic6107853.jpg\" width=\"124\" /></td>\n",
       "      <td><a href=\"https://boardgamegeek.com/boardgame/285967\">Ankh: Gods of Egypt</a></td>\n",
       "      <td>7.311441</td>\n",
       "      <td>7.403551</td>\n",
       "      <td>7.344800</td>\n",
       "      <td>1</td>\n",
       "      <td>2021</td>\n",
       "    </tr>\n",
       "    <tr>\n",
       "      <th>2</th>\n",
       "      <td><img src=\"https://cf.geekdo-images.com/hItZjdDTNuaCZ7fEztwcUQ__thumb/img/Ov6eWR87PZ2O1XYQtXMO6KvfzOg=/fit-in/200x150/filters:strip_icc()/pic6153324.jpg\" width=\"124\" /></td>\n",
       "      <td><a href=\"https://boardgamegeek.com/boardgame/337627\">Voidfall</a></td>\n",
       "      <td>10.000000</td>\n",
       "      <td>7.319732</td>\n",
       "      <td>7.587759</td>\n",
       "      <td>2</td>\n",
       "      <td>2022</td>\n",
       "    </tr>\n",
       "    <tr>\n",
       "      <th>3</th>\n",
       "      <td><img src=\"https://cf.geekdo-images.com/gc5ZZ_Xs02wzCG6SOqvlEg__thumb/img/GgIadKicH-9Ypo2Cbxj_tnOZxR8=/fit-in/200x150/filters:strip_icc()/pic6197944.png\" width=\"124\" /></td>\n",
       "      <td><a href=\"https://boardgamegeek.com/boardgame/339598\">Divinus</a></td>\n",
       "      <td>3.500000</td>\n",
       "      <td>6.598234</td>\n",
       "      <td>4.119647</td>\n",
       "      <td>3</td>\n",
       "      <td>2022</td>\n",
       "    </tr>\n",
       "    <tr>\n",
       "      <th>4</th>\n",
       "      <td><img src=\"https://cf.geekdo-images.com/6GqH14TJJhza86BX5HCLEQ__thumb/img/J8SVmGOJXZGxNjkT3xYNQU7Haxg=/fit-in/200x150/filters:strip_icc()/pic5674958.jpg\" width=\"124\" /></td>\n",
       "      <td><a href=\"https://boardgamegeek.com/boardgame/312484\">Lost Ruins of Arnak</a></td>\n",
       "      <td>7.759297</td>\n",
       "      <td>7.804628</td>\n",
       "      <td>7.762441</td>\n",
       "      <td>4</td>\n",
       "      <td>2020</td>\n",
       "    </tr>\n",
       "    <tr>\n",
       "      <th>5</th>\n",
       "      <td><img src=\"https://cf.geekdo-images.com/FCz9Iu2kG-5-XLtWAeymwQ__thumb/img/UBlQecoQUBAhwfUdXA6AqGMSGcA=/fit-in/200x150/filters:strip_icc()/pic6293682.jpg\" width=\"124\" /></td>\n",
       "      <td><a href=\"https://boardgamegeek.com/boardgame/342900\">Earthborne Rangers</a></td>\n",
       "      <td>5.000000</td>\n",
       "      <td>7.951954</td>\n",
       "      <td>6.967969</td>\n",
       "      <td>5</td>\n",
       "      <td>2022</td>\n",
       "    </tr>\n",
       "  </tbody>\n",
       "</table>"
      ],
      "text/plain": [
       "<IPython.core.display.HTML object>"
      ]
     },
     "execution_count": 47,
     "metadata": {},
     "output_type": "execute_result"
    }
   ],
   "source": [
    "# TOP N RANK\n",
    "display_topn(by='rank', n=TOP_N)"
   ]
  },
  {
   "cell_type": "code",
   "execution_count": 48,
   "metadata": {},
   "outputs": [
    {
     "data": {
      "text/html": [
       "<table border=\"1\" class=\"dataframe table table-striped\">\n",
       "  <thead>\n",
       "    <tr style=\"text-align: right;\">\n",
       "      <th></th>\n",
       "      <th>thumbnail</th>\n",
       "      <th>name</th>\n",
       "      <th>rating_mean_review</th>\n",
       "      <th>rating_mean_comments</th>\n",
       "      <th>fixed_rating</th>\n",
       "      <th>rank</th>\n",
       "      <th>yearpublished</th>\n",
       "    </tr>\n",
       "  </thead>\n",
       "  <tbody>\n",
       "    <tr>\n",
       "      <th>1</th>\n",
       "      <td><img src=\"https://cf.geekdo-images.com/hItZjdDTNuaCZ7fEztwcUQ__thumb/img/Ov6eWR87PZ2O1XYQtXMO6KvfzOg=/fit-in/200x150/filters:strip_icc()/pic6153324.jpg\" width=\"124\" /></td>\n",
       "      <td><a href=\"https://boardgamegeek.com/boardgame/337627\">Voidfall</a></td>\n",
       "      <td>10.000000</td>\n",
       "      <td>7.319732</td>\n",
       "      <td>7.587759</td>\n",
       "      <td>2</td>\n",
       "      <td>2022</td>\n",
       "    </tr>\n",
       "    <tr>\n",
       "      <th>2</th>\n",
       "      <td><img src=\"https://cf.geekdo-images.com/uPTmPhITLCudIujyEwqkzg__thumb/img/AbWPDhWHyxEwDJIcWzn5lnZv7qA=/fit-in/200x150/filters:strip_icc()/pic6303509.jpg\" width=\"124\" /></td>\n",
       "      <td><a href=\"https://boardgamegeek.com/boardgame/342848\">World of Warcraft: Wrath of the Lich King</a></td>\n",
       "      <td>9.333333</td>\n",
       "      <td>8.047443</td>\n",
       "      <td>9.011861</td>\n",
       "      <td>13</td>\n",
       "      <td>2021</td>\n",
       "    </tr>\n",
       "    <tr>\n",
       "      <th>3</th>\n",
       "      <td><img src=\"https://cf.geekdo-images.com/Hi0a4HxXraufE2OYYPlw2Q__thumb/img/4x1QeEooZ5n1gnODT0zBqQ2b_Dg=/fit-in/200x150/filters:strip_icc()/pic5865399.png\" width=\"124\" /></td>\n",
       "      <td><a href=\"https://boardgamegeek.com/boardgame/327245\">Architects of the West Kingdom: Works of Wonder</a></td>\n",
       "      <td>9.100000</td>\n",
       "      <td>8.298414</td>\n",
       "      <td>8.355671</td>\n",
       "      <td>21</td>\n",
       "      <td>2022</td>\n",
       "    </tr>\n",
       "    <tr>\n",
       "      <th>4</th>\n",
       "      <td><img src=\"https://cf.geekdo-images.com/nhWSmNJSTBAye6bxLa9x-Q__thumb/img/B4r1iyRl2Z2CcMrtBRQOKYwwngw=/fit-in/200x150/filters:strip_icc()/pic4779069.jpg\" width=\"124\" /></td>\n",
       "      <td><a href=\"https://boardgamegeek.com/boardgame/268012\">Chronicles of Drunagor: Age of Darkness</a></td>\n",
       "      <td>8.890459</td>\n",
       "      <td>8.102375</td>\n",
       "      <td>8.795126</td>\n",
       "      <td>29</td>\n",
       "      <td>2021</td>\n",
       "    </tr>\n",
       "    <tr>\n",
       "      <th>5</th>\n",
       "      <td><img src=\"https://cf.geekdo-images.com/HDPEZ_KvztEkzYI8YQDtCg__thumb/img/RG1MeHbXBXhWnE3wTZ_g7dDu0LQ=/fit-in/200x150/filters:strip_icc()/pic6019321.jpg\" width=\"124\" /></td>\n",
       "      <td><a href=\"https://boardgamegeek.com/boardgame/332800\">Summoner Wars (Second Edition)</a></td>\n",
       "      <td>8.783731</td>\n",
       "      <td>7.037440</td>\n",
       "      <td>8.556940</td>\n",
       "      <td>45</td>\n",
       "      <td>2021</td>\n",
       "    </tr>\n",
       "  </tbody>\n",
       "</table>"
      ],
      "text/plain": [
       "<IPython.core.display.HTML object>"
      ]
     },
     "execution_count": 48,
     "metadata": {},
     "output_type": "execute_result"
    }
   ],
   "source": [
    "# TOP N REVIEW RANK\n",
    "display_topn(by='rating_mean_review', n=TOP_N, ascending=False)"
   ]
  },
  {
   "cell_type": "code",
   "execution_count": 49,
   "metadata": {},
   "outputs": [
    {
     "data": {
      "text/html": [
       "<table border=\"1\" class=\"dataframe table table-striped\">\n",
       "  <thead>\n",
       "    <tr style=\"text-align: right;\">\n",
       "      <th></th>\n",
       "      <th>thumbnail</th>\n",
       "      <th>name</th>\n",
       "      <th>rating_mean_review</th>\n",
       "      <th>rating_mean_comments</th>\n",
       "      <th>fixed_rating</th>\n",
       "      <th>rank</th>\n",
       "      <th>yearpublished</th>\n",
       "    </tr>\n",
       "  </thead>\n",
       "  <tbody>\n",
       "    <tr>\n",
       "      <th>1</th>\n",
       "      <td><img src=\"https://cf.geekdo-images.com/uPTmPhITLCudIujyEwqkzg__thumb/img/AbWPDhWHyxEwDJIcWzn5lnZv7qA=/fit-in/200x150/filters:strip_icc()/pic6303509.jpg\" width=\"124\" /></td>\n",
       "      <td><a href=\"https://boardgamegeek.com/boardgame/342848\">World of Warcraft: Wrath of the Lich King</a></td>\n",
       "      <td>9.333333</td>\n",
       "      <td>8.047443</td>\n",
       "      <td>9.011861</td>\n",
       "      <td>13</td>\n",
       "      <td>2021</td>\n",
       "    </tr>\n",
       "    <tr>\n",
       "      <th>2</th>\n",
       "      <td><img src=\"https://cf.geekdo-images.com/nhWSmNJSTBAye6bxLa9x-Q__thumb/img/B4r1iyRl2Z2CcMrtBRQOKYwwngw=/fit-in/200x150/filters:strip_icc()/pic4779069.jpg\" width=\"124\" /></td>\n",
       "      <td><a href=\"https://boardgamegeek.com/boardgame/268012\">Chronicles of Drunagor: Age of Darkness</a></td>\n",
       "      <td>8.890459</td>\n",
       "      <td>8.102375</td>\n",
       "      <td>8.795126</td>\n",
       "      <td>29</td>\n",
       "      <td>2021</td>\n",
       "    </tr>\n",
       "    <tr>\n",
       "      <th>3</th>\n",
       "      <td><img src=\"https://cf.geekdo-images.com/x3zxjr-Vw5iU4yDPg70Jgw__thumb/img/o18rjEemoWaVru9Y2TyPwuIaRfE=/fit-in/200x150/filters:strip_icc()/pic3490053.jpg\" width=\"124\" /></td>\n",
       "      <td><a href=\"https://boardgamegeek.com/boardgame/224517\">Brass: Birmingham</a></td>\n",
       "      <td>8.674275</td>\n",
       "      <td>8.148285</td>\n",
       "      <td>8.627755</td>\n",
       "      <td>30</td>\n",
       "      <td>2018</td>\n",
       "    </tr>\n",
       "    <tr>\n",
       "      <th>4</th>\n",
       "      <td><img src=\"https://cf.geekdo-images.com/HDPEZ_KvztEkzYI8YQDtCg__thumb/img/RG1MeHbXBXhWnE3wTZ_g7dDu0LQ=/fit-in/200x150/filters:strip_icc()/pic6019321.jpg\" width=\"124\" /></td>\n",
       "      <td><a href=\"https://boardgamegeek.com/boardgame/332800\">Summoner Wars (Second Edition)</a></td>\n",
       "      <td>8.783731</td>\n",
       "      <td>7.037440</td>\n",
       "      <td>8.556940</td>\n",
       "      <td>45</td>\n",
       "      <td>2021</td>\n",
       "    </tr>\n",
       "    <tr>\n",
       "      <th>5</th>\n",
       "      <td><img src=\"https://cf.geekdo-images.com/_HhIdavYW-hid20Iq3hhmg__thumb/img/OMkN_E5eyWrkID_cHCnQEbIixGM=/fit-in/200x150/filters:strip_icc()/pic5055631.jpg\" width=\"124\" /></td>\n",
       "      <td><a href=\"https://boardgamegeek.com/boardgame/291457\">Gloomhaven: Jaws of the Lion</a></td>\n",
       "      <td>8.558327</td>\n",
       "      <td>7.990787</td>\n",
       "      <td>8.504222</td>\n",
       "      <td>28</td>\n",
       "      <td>2020</td>\n",
       "    </tr>\n",
       "  </tbody>\n",
       "</table>"
      ],
      "text/plain": [
       "<IPython.core.display.HTML object>"
      ]
     },
     "execution_count": 49,
     "metadata": {},
     "output_type": "execute_result"
    }
   ],
   "source": [
    "# TOP N FIXED RANK\n",
    "display_topn(by='fixed_rating', n=TOP_N, ascending=False)"
   ]
  },
  {
   "cell_type": "code",
   "execution_count": 50,
   "metadata": {},
   "outputs": [],
   "source": [
    "# model.save('saved_model\\my_model')"
   ]
  },
  {
   "cell_type": "code",
   "execution_count": 51,
   "metadata": {},
   "outputs": [],
   "source": [
    "# saved_model = tf.keras.models.load_model('saved_model\\my_model')"
   ]
  },
  {
   "cell_type": "code",
   "execution_count": 52,
   "metadata": {},
   "outputs": [],
   "source": [
    "# some examples on \"long\" comments vs short comments"
   ]
  },
  {
   "cell_type": "code",
   "execution_count": 53,
   "metadata": {},
   "outputs": [],
   "source": [
    "not_rated_comments['comment_len'] = not_rated_comments['value'].str.len()\n",
    "some_long_comments = not_rated_comments.query(\"comment_len>100 and comment_len<300\").sample(frac=1).head(25).sort_values('rating')"
   ]
  },
  {
   "cell_type": "code",
   "execution_count": 54,
   "metadata": {},
   "outputs": [
    {
     "name": "stdout",
     "output_type": "stream",
     "text": [
      "\"Very Good- all bags and components in box. Tokens all punched, and all components sorted into small plastic boxes. Boxes and bags will come with game. Feel free to message me with any additional inquiries.\"\n",
      "score: 6.90\n",
      "\n",
      "\"This looks neat.  I was really excited about it.  However, as I read the rules, I can’t help but think about how tedious asymmetry is in games,  and the more asymmetric, the more tedious.  The art is mediocre.  The game looks like it will be good.\"\n",
      "score: 7.04\n",
      "\n",
      "\"Kickstarter edition with extra player boards, apprentices, buildings promos and tax stand frame.  NIS\"\n",
      "score: 7.22\n",
      "\n",
      "\"P: 1-4, T: 90-150 min Co-op Legacy/campaign style character progression. Dungeon crawl scenarios w/ streamlined card play combat system. A faithful conversion of an MMORPG to tabletop form; be prepared to sink a lot of time into this one. Headed for the \"Pedestal of Longing\"\"\n",
      "score: 7.27\n",
      "\n",
      "\"More complex than Catan (2.93). Very highly rated game (rank 18 overall). I think it looks very fun, but might have more steps than suitable for a casual game night.\"\n",
      "score: 7.59\n",
      "\n",
      "\"Good game.  In my one play, I enjoyed it and liked how the game developed over the course of play.  I'd like to try it again sometime, though I'm not sure it's a game I will request myself.\"\n",
      "score: 7.67\n",
      "\n",
      "\"I've played this with friends a few times. Fantastic game for a Lazy Sunday. Love the mechanics and story behind it. It's not too simple that you get bored \"\n",
      "score: 7.78\n",
      "\n",
      "\"[b]Expansions:[/b] [url= European Expansion[/url]  [b]Accessories:[/b] [url= Flight [color=#74C73E](Standard American)[/color][/url]\"\n",
      "score: 7.79\n",
      "\n",
      "\"Nicely rated game that gets favorable reviews based on very well defined criteria (gameplay, pieces, etc). BUT when it all comes down to FUN, it doesn't seem to get too much accolades. As well, it is prone to high AP and that doesn't help very much.\"\n",
      "score: 7.80\n",
      "\n",
      "\"Love the world building, art, characters and quality of Ryan’s games. But I’m just not hooked by the gameplay. I hope this one changes my feelings. Sounds great!\"\n",
      "score: 7.97\n",
      "\n",
      "\"As much as i want to love this game, the logistics of managing the enemy sucks you out of other wise great dungeon crawler type game.\"\n",
      "score: 7.98\n",
      "\n",
      "\"(watched only how to play video)Looks like a fun family card game. Not the game i want to play when playing with friends.\"\n",
      "score: 8.05\n",
      "\n",
      "\"Wingspan. Very highly reviewed. I thought it was a little meh, but it is beautiful and plays well at 2-4.\"\n",
      "score: 8.07\n",
      "\n",
      "\"Insert:  out of the Box (Insert muss noch organisiert werden Sleeves: 44 x 68 ca. 58 - AT Small Sleeves: 63.5 x 88 ca. 162 - AT Standard\"\n",
      "score: 8.13\n",
      "\n",
      "\"I adore the concept of the horror/aline theme. I love the look when watching play through and think it'll be a great game to play with the group and solo! \"\n",
      "score: 8.19\n",
      "\n",
      "\"limited Art Connoisseur's Edition with first two expansions and lots of promos (cards, coins, wheels)\"\n",
      "score: 8.29\n",
      "\n",
      "\"Couple cool mechanics, very thematic, cool interplay between various abilities. Cool player powers. Hard to win. Bit long and complex for a coop game.\"\n",
      "score: 8.41\n",
      "\n",
      "\"Includes Extra apprentices, extra buildings, extra player boards, and a 3D printed insert.  Also has the components required to play as a co-op from the Tomesaga expansion. The shared meeples from the expansion have been replaced with cubes, and the rules have been copied from the rulebook.\"\n",
      "score: 8.52\n",
      "\n",
      "\"[b]Expansions:[/b] Forgotten Circles Solo Scenarios The End of the World Scenario Tower of Misfortune Scenario\"\n",
      "score: 8.55\n",
      "\n",
      "\"Nice fast euro, but I'm getting tired of the games where all you do is exchanging resources back and forth, hence no rating here.\"\n",
      "score: 8.63\n",
      "\n",
      "\"Amazing game that we picked up at the end of last year. Love the mechanics, the artwork and the theme of the game. Definitely one of my favourite games\"\n",
      "score: 9.56\n",
      "\n",
      "\"Collector's Edition  Expansions:  Pearlbrook Collector's Edition Spirecrest Collector's Edition Bellfaire\"\n",
      "score: 9.64\n",
      "\n",
      "\"8-3-2019 via Gaatske doe ik mee aan groepspledge op Kickstarter. Estimated delivery december 2019 Gekregen via Gaatske 27 december 2019\"\n",
      "score: 9.96\n",
      "\n",
      "\"Webhallen 699kr; spelexperten metal coins (265kr); fb grupp folded space insert (270kr), realistic resources (220kr), faction bags (160kr), power dials (150kr)\"\n",
      "score: 10.00\n",
      "\n",
      "\"P: 1-4, T: ++  Watchlist 2020. Gloomhaven light; this may be the opportunity to get into the series. 25 scenario campaign, including 5 tutorial quests (reports are you only play ~20 of the quests). Spiral booklet used for maps/locations greatly simplifying setup.\"\n",
      "score: 10.00\n",
      "\n"
     ]
    }
   ],
   "source": [
    "some_long_comments.apply(lambda c: print(f\"\\\"{c['value']}\\\"\\nscore: {c['rating']:.2f}\\n\"), axis=1);"
   ]
  },
  {
   "cell_type": "markdown",
   "metadata": {},
   "source": [
    "## RANDOM FOREST - TEST"
   ]
  },
  {
   "cell_type": "code",
   "execution_count": 55,
   "metadata": {},
   "outputs": [],
   "source": [
    "# no support for Windows at the moment - waiting for it to test"
   ]
  },
  {
   "cell_type": "code",
   "execution_count": null,
   "metadata": {},
   "outputs": [],
   "source": []
  }
 ],
 "metadata": {
  "kernelspec": {
   "display_name": "tensorflow2",
   "language": "python",
   "name": "tensorflow2"
  },
  "language_info": {
   "codemirror_mode": {
    "name": "ipython",
    "version": 3
   },
   "file_extension": ".py",
   "mimetype": "text/x-python",
   "name": "python",
   "nbconvert_exporter": "python",
   "pygments_lexer": "ipython3",
   "version": "3.8.8"
  }
 },
 "nbformat": 4,
 "nbformat_minor": 4
}
