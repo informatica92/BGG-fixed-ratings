{
 "cells": [
  {
   "cell_type": "code",
   "execution_count": 1,
   "metadata": {},
   "outputs": [],
   "source": [
    "# ## BGG API\n",
    "# https://www.boardgamegeek.com/xmlapi2/thing?id=161599&comments=1\n",
    "# https://www.boardgamegeek.com/xmlapi2/hot?type=boardgame\n",
    "# ## NLP WITH TF\n",
    "# https://www.tensorflow.org/hub/tutorials/tf2_text_classification"
   ]
  },
  {
   "cell_type": "code",
   "execution_count": 2,
   "metadata": {},
   "outputs": [
    {
     "name": "stdout",
     "output_type": "stream",
     "text": [
      "Version:      2.5.0\n",
      "Eager mode:   True\n",
      "Hub version:  0.12.0\n",
      "GPU:          available\n"
     ]
    }
   ],
   "source": [
    "import tensorflow as tf\n",
    "import tensorflow_hub as hub\n",
    "from tensorflow.keras.wrappers.scikit_learn import KerasRegressor, KerasClassifier\n",
    "from sklearn.model_selection import GridSearchCV\n",
    "\n",
    "from IPython.display import HTML\n",
    "from datetime import datetime\n",
    "import matplotlib.pyplot as plt\n",
    "import pandas as pd\n",
    "import numpy as np\n",
    "import re\n",
    "\n",
    "from utilities import get_hot_data, get_comments, remove_short_comments, build_model, print_my_examples\n",
    "\n",
    "print(\"Version:     \", tf.__version__)\n",
    "print(\"Eager mode:  \", tf.executing_eagerly())\n",
    "print(\"Hub version: \", hub.__version__)\n",
    "print(\"GPU:         \", \"available\" if tf.config.list_physical_devices('GPU') else \"NOT available\")\n",
    "\n",
    "tf.get_logger().setLevel('ERROR')"
   ]
  },
  {
   "cell_type": "code",
   "execution_count": 3,
   "metadata": {},
   "outputs": [],
   "source": [
    "# tf.debugging.set_log_device_placement(True)"
   ]
  },
  {
   "cell_type": "code",
   "execution_count": 4,
   "metadata": {},
   "outputs": [],
   "source": [
    "GOOD_REVIEW_THRESHOLD = 7\n",
    "VAL_FRACTION = 0.25\n",
    "MIN_COMMENT_LEN = 25\n",
    "TOP_N = 5\n",
    "MODEL_NAME = \"https://tfhub.dev/google/tf2-preview/nnlm-en-dim50/1\"\n",
    "# MORE ABOUT MODEL NAMES: \n",
    "# \"https://tfhub.dev/google/tf2-preview/nnlm-en-dim128/1\"\n",
    "# \"https://tfhub.dev/google/tf2-preview/nnlm-en-dim128-with-normalization/1\"\n",
    "# we also tested these solutions with dimension equals to 128 but accuracy \n",
    "# is a bit lower (0.85 for 128 vs 0.86 for 50) and training sometimes stops \n",
    "# unexpectedly for memory limit\n",
    "#\n",
    "# \"https://tfhub.dev/google/tf2-preview/nnlm-en-dim50/1\"\n",
    "# \"https://tfhub.dev/google/tf2-preview/nnlm-en-dim50-with-normalization/1\"\n",
    "# there is no difference between normalization and not so we use the one \n",
    "# without normalization"
   ]
  },
  {
   "cell_type": "markdown",
   "metadata": {},
   "source": [
    "## GET DATA"
   ]
  },
  {
   "cell_type": "code",
   "execution_count": 5,
   "metadata": {},
   "outputs": [
    {
     "data": {
      "text/plain": [
       "[{'id': '340466',\n",
       "  'rank': '1',\n",
       "  'thumbnail': 'https://cf.geekdo-images.com/1N4DBN9ggYo7didRPyL2bg__thumb/img/diJqM9kyGQQPAybVCYd6B5UEv1A=/fit-in/200x150/filters:strip_icc()/pic6230642.jpg',\n",
       "  'name': 'Unfathomable',\n",
       "  'yearpublished': '2021'},\n",
       " {'id': '337324',\n",
       "  'rank': '2',\n",
       "  'thumbnail': 'https://cf.geekdo-images.com/sZxxoD_yC3UWr-cLn9mCCw__thumb/img/mUovP7_BK-0E9JjUYlaea9I9Hd8=/fit-in/200x150/filters:strip_icc()/pic6148517.jpg',\n",
       "  'name': 'ADELE',\n",
       "  'yearpublished': '2021'}]"
      ]
     },
     "execution_count": 5,
     "metadata": {},
     "output_type": "execute_result"
    }
   ],
   "source": [
    "hot_array = get_hot_data()\n",
    "hot_array[:2]"
   ]
  },
  {
   "cell_type": "code",
   "execution_count": 6,
   "metadata": {},
   "outputs": [
    {
     "name": "stdout",
     "output_type": "stream",
     "text": [
      "missing csv file, getting new data using API...\n",
      "page number = 10 (max: 100, len: 27)\n",
      "page number = 20 (max: 100, len: 18)\n",
      "page number = 30 (max: 100, len: 14)\n",
      "page number = 40 (max: 100, len: 11)\n",
      "page number = 50 (max: 100, len: 5)\n",
      "page number = 60 (max: 100, len: 5)\n",
      "page number = 70 (max: 100, len: 3)\n",
      "page number = 80 (max: 100, len: 3)\n",
      "page number = 90 (max: 100, len: 2)\n",
      "page number = 100 (max: 74, len: 1)\n",
      "comments_df shape: (104780, 4)\n"
     ]
    },
    {
     "data": {
      "text/html": [
       "<div>\n",
       "<style scoped>\n",
       "    .dataframe tbody tr th:only-of-type {\n",
       "        vertical-align: middle;\n",
       "    }\n",
       "\n",
       "    .dataframe tbody tr th {\n",
       "        vertical-align: top;\n",
       "    }\n",
       "\n",
       "    .dataframe thead th {\n",
       "        text-align: right;\n",
       "    }\n",
       "</style>\n",
       "<table border=\"1\" class=\"dataframe\">\n",
       "  <thead>\n",
       "    <tr style=\"text-align: right;\">\n",
       "      <th></th>\n",
       "      <th>id</th>\n",
       "      <th>username</th>\n",
       "      <th>rating</th>\n",
       "      <th>value</th>\n",
       "    </tr>\n",
       "  </thead>\n",
       "  <tbody>\n",
       "    <tr>\n",
       "      <th>0</th>\n",
       "      <td>340466</td>\n",
       "      <td>Arcanum_Game_Studio</td>\n",
       "      <td>9</td>\n",
       "      <td>Wishlist</td>\n",
       "    </tr>\n",
       "    <tr>\n",
       "      <th>1</th>\n",
       "      <td>340466</td>\n",
       "      <td>atraangelis</td>\n",
       "      <td>N/A</td>\n",
       "      <td>Oh boy! day one buy.</td>\n",
       "    </tr>\n",
       "    <tr>\n",
       "      <th>2</th>\n",
       "      <td>340466</td>\n",
       "      <td>Barry Kendall</td>\n",
       "      <td>N/A</td>\n",
       "      <td>Intriguing.  Look forward to learning more.</td>\n",
       "    </tr>\n",
       "    <tr>\n",
       "      <th>3</th>\n",
       "      <td>340466</td>\n",
       "      <td>Benwax123</td>\n",
       "      <td>9</td>\n",
       "      <td>Played as play tester</td>\n",
       "    </tr>\n",
       "    <tr>\n",
       "      <th>4</th>\n",
       "      <td>340466</td>\n",
       "      <td>bradray</td>\n",
       "      <td>N/A</td>\n",
       "      <td>21/09</td>\n",
       "    </tr>\n",
       "    <tr>\n",
       "      <th>...</th>\n",
       "      <td>...</td>\n",
       "      <td>...</td>\n",
       "      <td>...</td>\n",
       "      <td>...</td>\n",
       "    </tr>\n",
       "    <tr>\n",
       "      <th>104775</th>\n",
       "      <td>167791</td>\n",
       "      <td>z_zadar</td>\n",
       "      <td>9</td>\n",
       "      <td>Some games are so much fun. Others can be a li...</td>\n",
       "    </tr>\n",
       "    <tr>\n",
       "      <th>104776</th>\n",
       "      <td>167791</td>\n",
       "      <td>_Czid_</td>\n",
       "      <td>8</td>\n",
       "      <td>Have played with Elysium and Prelude expansion...</td>\n",
       "    </tr>\n",
       "    <tr>\n",
       "      <th>104777</th>\n",
       "      <td>167791</td>\n",
       "      <td>_Marty_</td>\n",
       "      <td>9.5</td>\n",
       "      <td>Fantastic game. With so many cards that can ch...</td>\n",
       "    </tr>\n",
       "    <tr>\n",
       "      <th>104778</th>\n",
       "      <td>167791</td>\n",
       "      <td>_mun_</td>\n",
       "      <td>10</td>\n",
       "      <td>Nagyon izgalmas játék, jó a mechanizmusa. A sz...</td>\n",
       "    </tr>\n",
       "    <tr>\n",
       "      <th>104779</th>\n",
       "      <td>167791</td>\n",
       "      <td>_The_Inquiry_</td>\n",
       "      <td>5</td>\n",
       "      <td>Prior to 2020: 2 plays  TM is one of those gam...</td>\n",
       "    </tr>\n",
       "  </tbody>\n",
       "</table>\n",
       "<p>104780 rows × 4 columns</p>\n",
       "</div>"
      ],
      "text/plain": [
       "            id             username rating  \\\n",
       "0       340466  Arcanum_Game_Studio      9   \n",
       "1       340466          atraangelis    N/A   \n",
       "2       340466        Barry Kendall    N/A   \n",
       "3       340466            Benwax123      9   \n",
       "4       340466              bradray    N/A   \n",
       "...        ...                  ...    ...   \n",
       "104775  167791              z_zadar      9   \n",
       "104776  167791               _Czid_      8   \n",
       "104777  167791              _Marty_    9.5   \n",
       "104778  167791                _mun_     10   \n",
       "104779  167791        _The_Inquiry_      5   \n",
       "\n",
       "                                                    value  \n",
       "0                                                Wishlist  \n",
       "1                                    Oh boy! day one buy.  \n",
       "2             Intriguing.  Look forward to learning more.  \n",
       "3                                   Played as play tester  \n",
       "4                                                   21/09  \n",
       "...                                                   ...  \n",
       "104775  Some games are so much fun. Others can be a li...  \n",
       "104776  Have played with Elysium and Prelude expansion...  \n",
       "104777  Fantastic game. With so many cards that can ch...  \n",
       "104778  Nagyon izgalmas játék, jó a mechanizmusa. A sz...  \n",
       "104779  Prior to 2020: 2 plays  TM is one of those gam...  \n",
       "\n",
       "[104780 rows x 4 columns]"
      ]
     },
     "execution_count": 6,
     "metadata": {},
     "output_type": "execute_result"
    }
   ],
   "source": [
    "try:\n",
    "    comments_df = pd.read_csv(f\"comments_{datetime.now().strftime('%Y%m%d')}.csv\")\n",
    "    comments_df['rating'] = comments_df.rating.fillna('N/A')\n",
    "    print(\"reading dataframe from csv file...\")\n",
    "except:\n",
    "    print(\"missing csv file, getting new data using API...\")\n",
    "    comments_df = get_comments(hot_array, verbose=10)\n",
    "    comments_df.to_csv(f\"comments_{datetime.now().strftime('%Y%m%d')}.csv\", index=False)\n",
    "comments_df"
   ]
  },
  {
   "cell_type": "markdown",
   "metadata": {},
   "source": [
    "## DATA CLEANING"
   ]
  },
  {
   "cell_type": "code",
   "execution_count": 7,
   "metadata": {},
   "outputs": [],
   "source": [
    "# probably we should keep all the ratings (no matters the len) and remove only the simple comments under a certain len  \n",
    "comments_df[\"value\"] = comments_df[\"value\"].astype(str)"
   ]
  },
  {
   "cell_type": "code",
   "execution_count": 8,
   "metadata": {},
   "outputs": [
    {
     "name": "stdout",
     "output_type": "stream",
     "text": [
      "removed 16513 for 'remove_short_comments' - min len: 25 - method: unrated\n"
     ]
    }
   ],
   "source": [
    "# REMOVE URLs FROM COMMENTS\n",
    "comments_df['value'] = [re.sub(r\"http\\S+\", \"\", v) for v in comments_df.value.values]\n",
    "comments_df = remove_short_comments(comments_df, MIN_COMMENT_LEN)"
   ]
  },
  {
   "cell_type": "code",
   "execution_count": 9,
   "metadata": {},
   "outputs": [],
   "source": [
    "# REMOVE NON ENGLISH COMMENTS\n",
    "# !conda install -c conda-forge langdetect\n",
    "# def add_comments_lang(df: pd.DataFrame):\n",
    "#     df_local = df.copy()\n",
    "#     df_local['lang'] = df['value'].apply(detect)\n",
    "#     return df_local.reset_index(drop=True)\n",
    "# comments_df = add_comments_lang(comments_df)\n",
    "# comments_df = comments_df.query('lang == \"en\"')"
   ]
  },
  {
   "cell_type": "markdown",
   "metadata": {},
   "source": [
    "## SPLIT RATED AND NON-RATED COMMENTS"
   ]
  },
  {
   "cell_type": "code",
   "execution_count": 10,
   "metadata": {},
   "outputs": [
    {
     "data": {
      "text/plain": [
       "9          16347\n",
       "10         16342\n",
       "8          14437\n",
       "7           7933\n",
       "N/A         7212\n",
       "           ...  \n",
       "6.23           1\n",
       "9.138          1\n",
       "9.53333        1\n",
       "3.92           1\n",
       "7.93           1\n",
       "Name: rating, Length: 544, dtype: int64"
      ]
     },
     "execution_count": 10,
     "metadata": {},
     "output_type": "execute_result"
    }
   ],
   "source": [
    "# count number of comments per rating (N/A included)\n",
    "comments_df.rating.value_counts()"
   ]
  },
  {
   "cell_type": "code",
   "execution_count": 11,
   "metadata": {},
   "outputs": [
    {
     "data": {
      "text/plain": [
       "(81055, 5)"
      ]
     },
     "execution_count": 11,
     "metadata": {},
     "output_type": "execute_result"
    }
   ],
   "source": [
    "# get rated comments only\n",
    "rated_comments = comments_df.query('rating != \"N/A\"')\n",
    "rated_comments.shape"
   ]
  },
  {
   "cell_type": "code",
   "execution_count": 12,
   "metadata": {},
   "outputs": [
    {
     "data": {
      "text/plain": [
       "(7212, 5)"
      ]
     },
     "execution_count": 12,
     "metadata": {},
     "output_type": "execute_result"
    }
   ],
   "source": [
    "# get non rated comments only\n",
    "not_rated_comments = comments_df.query('rating == \"N/A\"').reset_index(drop=True)\n",
    "not_rated_comments.shape"
   ]
  },
  {
   "cell_type": "markdown",
   "metadata": {},
   "source": [
    "## CREATE TRAINING AND VALIDATION DATA"
   ]
  },
  {
   "cell_type": "code",
   "execution_count": 13,
   "metadata": {},
   "outputs": [],
   "source": [
    "# use rated comments (reviews) to train the model"
   ]
  },
  {
   "cell_type": "code",
   "execution_count": 14,
   "metadata": {},
   "outputs": [],
   "source": [
    "rated_comments = rated_comments.sample(frac=1)"
   ]
  },
  {
   "cell_type": "code",
   "execution_count": 15,
   "metadata": {},
   "outputs": [],
   "source": [
    "# create training X and y\n",
    "train_examples = list(rated_comments.value)\n",
    "train_labels = list((rated_comments.rating.astype(float)>=GOOD_REVIEW_THRESHOLD).astype(int))"
   ]
  },
  {
   "cell_type": "code",
   "execution_count": 16,
   "metadata": {},
   "outputs": [
    {
     "name": "stdout",
     "output_type": "stream",
     "text": [
      "example of positive rating:\n"
     ]
    },
    {
     "data": {
      "text/plain": [
       "'Great Game, super components.'"
      ]
     },
     "execution_count": 16,
     "metadata": {},
     "output_type": "execute_result"
    }
   ],
   "source": [
    "print(\"example of positive rating:\")\n",
    "train_examples[train_labels.index(1)]"
   ]
  },
  {
   "cell_type": "code",
   "execution_count": 17,
   "metadata": {},
   "outputs": [
    {
     "name": "stdout",
     "output_type": "stream",
     "text": [
      "example of negative rating:\n"
     ]
    },
    {
     "data": {
      "text/plain": [
       "'optimizing game, no topic available, only for optimizers...'"
      ]
     },
     "execution_count": 17,
     "metadata": {},
     "output_type": "execute_result"
    }
   ],
   "source": [
    "print(\"example of negative rating:\")\n",
    "train_examples[train_labels.index(0)]"
   ]
  },
  {
   "cell_type": "markdown",
   "metadata": {},
   "source": [
    "## COMPOSE MODEL"
   ]
  },
  {
   "cell_type": "code",
   "execution_count": 18,
   "metadata": {},
   "outputs": [],
   "source": [
    "hub_layer = hub.KerasLayer(MODEL_NAME, input_shape=[], dtype=tf.string, trainable=True)"
   ]
  },
  {
   "cell_type": "markdown",
   "metadata": {},
   "source": [
    "## CLASSIFIER"
   ]
  },
  {
   "cell_type": "code",
   "execution_count": 19,
   "metadata": {},
   "outputs": [
    {
     "name": "stdout",
     "output_type": "stream",
     "text": [
      "Epoch 1/100\n",
      "40/40 - 4s - loss: 0.5934 - accuracy: 0.7342 - val_loss: 0.5189 - val_accuracy: 0.8360\n",
      "Epoch 2/100\n",
      "40/40 - 2s - loss: 0.4757 - accuracy: 0.8450 - val_loss: 0.4337 - val_accuracy: 0.8515\n",
      "Epoch 3/100\n",
      "40/40 - 2s - loss: 0.3890 - accuracy: 0.8576 - val_loss: 0.3655 - val_accuracy: 0.8627\n",
      "Epoch 4/100\n",
      "40/40 - 2s - loss: 0.3243 - accuracy: 0.8788 - val_loss: 0.3314 - val_accuracy: 0.8717\n",
      "Epoch 5/100\n",
      "40/40 - 2s - loss: 0.2829 - accuracy: 0.8935 - val_loss: 0.3176 - val_accuracy: 0.8770\n",
      "Epoch 6/100\n",
      "40/40 - 2s - loss: 0.2524 - accuracy: 0.9056 - val_loss: 0.3137 - val_accuracy: 0.8774\n",
      "Epoch 7/100\n",
      "40/40 - 2s - loss: 0.2277 - accuracy: 0.9154 - val_loss: 0.3163 - val_accuracy: 0.8769\n",
      "Epoch 8/100\n",
      "40/40 - 2s - loss: 0.2067 - accuracy: 0.9240 - val_loss: 0.3239 - val_accuracy: 0.8734\n",
      "Epoch 9/100\n",
      "40/40 - 2s - loss: 0.1883 - accuracy: 0.9328 - val_loss: 0.3345 - val_accuracy: 0.8708\n",
      "Epoch 10/100\n",
      "40/40 - 2s - loss: 0.1730 - accuracy: 0.9392 - val_loss: 0.3473 - val_accuracy: 0.8685\n",
      "27/27 - 0s - loss: 0.3488 - accuracy: 0.8659\n",
      "Epoch 1/100\n",
      "40/40 - 3s - loss: 0.5258 - accuracy: 0.8432 - val_loss: 0.4644 - val_accuracy: 0.8541\n",
      "Epoch 2/100\n",
      "40/40 - 2s - loss: 0.4148 - accuracy: 0.8524 - val_loss: 0.3760 - val_accuracy: 0.8601\n",
      "Epoch 3/100\n",
      "40/40 - 2s - loss: 0.3369 - accuracy: 0.8690 - val_loss: 0.3317 - val_accuracy: 0.8708\n",
      "Epoch 4/100\n",
      "40/40 - 2s - loss: 0.2899 - accuracy: 0.8865 - val_loss: 0.3137 - val_accuracy: 0.8775\n",
      "Epoch 5/100\n",
      "40/40 - 2s - loss: 0.2564 - accuracy: 0.8992 - val_loss: 0.3086 - val_accuracy: 0.8819\n",
      "Epoch 6/100\n",
      "40/40 - 2s - loss: 0.2304 - accuracy: 0.9099 - val_loss: 0.3105 - val_accuracy: 0.8833\n",
      "Epoch 7/100\n",
      "40/40 - 2s - loss: 0.2079 - accuracy: 0.9192 - val_loss: 0.3148 - val_accuracy: 0.8808\n",
      "Epoch 8/100\n",
      "40/40 - 2s - loss: 0.1883 - accuracy: 0.9284 - val_loss: 0.3254 - val_accuracy: 0.8771\n",
      "Epoch 9/100\n",
      "40/40 - 2s - loss: 0.1717 - accuracy: 0.9352 - val_loss: 0.3396 - val_accuracy: 0.8759\n",
      "Epoch 10/100\n",
      "40/40 - 2s - loss: 0.1572 - accuracy: 0.9421 - val_loss: 0.3571 - val_accuracy: 0.8728\n",
      "Epoch 11/100\n",
      "40/40 - 2s - loss: 0.1450 - accuracy: 0.9477 - val_loss: 0.3753 - val_accuracy: 0.8699\n",
      "27/27 - 0s - loss: 0.3859 - accuracy: 0.8644\n",
      "Epoch 1/100\n",
      "40/40 - 3s - loss: 0.6772 - accuracy: 0.5700 - val_loss: 0.5601 - val_accuracy: 0.8286\n",
      "Epoch 2/100\n",
      "40/40 - 2s - loss: 0.5234 - accuracy: 0.8423 - val_loss: 0.4814 - val_accuracy: 0.8521\n",
      "Epoch 3/100\n",
      "40/40 - 2s - loss: 0.4453 - accuracy: 0.8507 - val_loss: 0.4098 - val_accuracy: 0.8567\n",
      "Epoch 4/100\n",
      "40/40 - 2s - loss: 0.3656 - accuracy: 0.8633 - val_loss: 0.3533 - val_accuracy: 0.8693\n",
      "Epoch 5/100\n",
      "40/40 - 2s - loss: 0.3068 - accuracy: 0.8820 - val_loss: 0.3282 - val_accuracy: 0.8748\n",
      "Epoch 6/100\n",
      "40/40 - 2s - loss: 0.2688 - accuracy: 0.8954 - val_loss: 0.3182 - val_accuracy: 0.8751\n",
      "Epoch 7/100\n",
      "40/40 - 2s - loss: 0.2403 - accuracy: 0.9075 - val_loss: 0.3154 - val_accuracy: 0.8750\n",
      "Epoch 8/100\n",
      "40/40 - 2s - loss: 0.2170 - accuracy: 0.9176 - val_loss: 0.3182 - val_accuracy: 0.8723\n",
      "Epoch 9/100\n",
      "40/40 - 2s - loss: 0.1977 - accuracy: 0.9259 - val_loss: 0.3261 - val_accuracy: 0.8672\n",
      "Epoch 10/100\n",
      "40/40 - 2s - loss: 0.1806 - accuracy: 0.9330 - val_loss: 0.3355 - val_accuracy: 0.8671\n",
      "27/27 - 0s - loss: 0.3321 - accuracy: 0.8711\n",
      "Epoch 1/100\n",
      "60/60 - 4s - loss: 0.4919 - accuracy: 0.8411 - val_loss: 0.4049 - val_accuracy: 0.8535\n",
      "Epoch 2/100\n",
      "60/60 - 3s - loss: 0.3571 - accuracy: 0.8560 - val_loss: 0.3342 - val_accuracy: 0.8664\n",
      "Epoch 3/100\n",
      "60/60 - 3s - loss: 0.2970 - accuracy: 0.8806 - val_loss: 0.3094 - val_accuracy: 0.8803\n",
      "Epoch 4/100\n",
      "60/60 - 3s - loss: 0.2600 - accuracy: 0.8951 - val_loss: 0.3018 - val_accuracy: 0.8848\n",
      "Epoch 5/100\n",
      "60/60 - 3s - loss: 0.2315 - accuracy: 0.9072 - val_loss: 0.3058 - val_accuracy: 0.8835\n",
      "Epoch 6/100\n",
      "60/60 - 3s - loss: 0.2093 - accuracy: 0.9171 - val_loss: 0.3137 - val_accuracy: 0.8791\n",
      "Epoch 7/100\n",
      "60/60 - 3s - loss: 0.1916 - accuracy: 0.9247 - val_loss: 0.3272 - val_accuracy: 0.8770\n",
      "Epoch 8/100\n",
      "60/60 - 3s - loss: 0.1768 - accuracy: 0.9319 - val_loss: 0.3455 - val_accuracy: 0.8742\n",
      "Epoch 9/100\n",
      "60/60 - 3s - loss: 0.1645 - accuracy: 0.9375 - val_loss: 0.3611 - val_accuracy: 0.8693\n"
     ]
    },
    {
     "data": {
      "text/plain": [
       "GridSearchCV(cv=3,\n",
       "             estimator=<tensorflow.python.keras.wrappers.scikit_learn.KerasClassifier object at 0x000001FC87642640>,\n",
       "             param_grid={})"
      ]
     },
     "execution_count": 19,
     "metadata": {},
     "output_type": "execute_result"
    }
   ],
   "source": [
    "def build_classifier():\n",
    "    return build_model(hub_layer=None, pre_trained_model_name=MODEL_NAME, model_type='classifier', verbose=0)\n",
    "\n",
    "\n",
    "estimator = KerasClassifier(build_fn=build_classifier, epochs=100, batch_size=1024, verbose=2, validation_split=VAL_FRACTION)\n",
    "x_train_clf = np.array(list(rated_comments.value))\n",
    "y_train_clf = np.array(list((rated_comments.rating.astype(float)>=GOOD_REVIEW_THRESHOLD).astype(int)))\n",
    "\n",
    "clf = GridSearchCV(\n",
    "    estimator, \n",
    "    cv=3, \n",
    "    param_grid={}\n",
    ")\n",
    "clf.fit(x_train_clf, y_train_clf, callbacks=[tf.keras.callbacks.EarlyStopping(monitor='val_accuracy', patience=5, min_delta=0.001)])"
   ]
  },
  {
   "cell_type": "code",
   "execution_count": 20,
   "metadata": {},
   "outputs": [],
   "source": [
    "classifier = clf.best_estimator_\n",
    "classifier_history_dict = classifier.model.history.history"
   ]
  },
  {
   "cell_type": "code",
   "execution_count": 21,
   "metadata": {},
   "outputs": [
    {
     "data": {
      "text/plain": [
       "dict_keys(['loss', 'accuracy', 'val_loss', 'val_accuracy'])"
      ]
     },
     "execution_count": 21,
     "metadata": {},
     "output_type": "execute_result"
    }
   ],
   "source": [
    "classifier_history_dict.keys()"
   ]
  },
  {
   "cell_type": "code",
   "execution_count": 22,
   "metadata": {},
   "outputs": [],
   "source": [
    "acc = classifier_history_dict['accuracy']\n",
    "val_acc = classifier_history_dict['val_accuracy']\n",
    "loss = classifier_history_dict['loss']\n",
    "val_loss = classifier_history_dict['val_loss']"
   ]
  },
  {
   "cell_type": "code",
   "execution_count": 23,
   "metadata": {},
   "outputs": [],
   "source": [
    "epochs = range(1, len(acc) + 1) "
   ]
  },
  {
   "cell_type": "code",
   "execution_count": 24,
   "metadata": {},
   "outputs": [
    {
     "data": {
      "image/png": "[encoded data removed]",
      "text/plain": [
       "<Figure size 648x360 with 1 Axes>"
      ]
     },
     "metadata": {
      "needs_background": "light"
     },
     "output_type": "display_data"
    }
   ],
   "source": [
    "# \"bo\" is for \"blue dot\"\n",
    "plt.figure(figsize=(9, 5))\n",
    "plt.plot(epochs, loss, 'bo', label='Training loss')\n",
    "# b is for \"solid blue line\"\n",
    "plt.plot(epochs, val_loss, 'b', label='Validation loss')\n",
    "plt.title('Training and validation loss')\n",
    "plt.xlabel('Epochs')\n",
    "plt.ylabel('Loss')\n",
    "plt.grid(True)\n",
    "plt.legend()\n",
    "\n",
    "plt.show()"
   ]
  },
  {
   "cell_type": "code",
   "execution_count": 25,
   "metadata": {},
   "outputs": [
    {
     "data": {
      "image/png": "[encoded data removed]",
      "text/plain": [
       "<Figure size 648x360 with 1 Axes>"
      ]
     },
     "metadata": {
      "needs_background": "light"
     },
     "output_type": "display_data"
    }
   ],
   "source": [
    "plt.figure(figsize=(9, 5))\n",
    "plt.plot(epochs, acc, 'bo', label='Training acc')\n",
    "plt.plot(epochs, val_acc, 'b', label='Validation acc')\n",
    "plt.title('Training and validation accuracy')\n",
    "plt.xlabel('Epochs')\n",
    "plt.ylabel('Accuracy')\n",
    "plt.grid(True)\n",
    "plt.legend()\n",
    "\n",
    "plt.show()"
   ]
  },
  {
   "cell_type": "code",
   "execution_count": 26,
   "metadata": {},
   "outputs": [
    {
     "name": "stdout",
     "output_type": "stream",
     "text": [
      "input:\n",
      "\"Great Game, super components.\"\n",
      "score: 1.000000\n",
      "actual: 1\n",
      "\n",
      "input:\n",
      "\"One of my favorite games. A worker placement game that focuses on the production of wine. The wine tokens have a nice touch. The theme is well implemented in the way the game works. A game that I will keep in my collection.\"\n",
      "score: 1.000000\n",
      "actual: 1\n",
      "\n",
      "input:\n",
      "\"[b] HYBRID [/b] Subtype: Miniature's Game / Legacy / Campaign  - Cooperative Euro Role Playing Dungeon Crawler Game (1-4 Players) [Best:2] - Fantasy Adventures - Legacy - Complexity:3.77  *Expansions: Forgotten Circles  [b]Summary:[/b] One of the Best Campaign games out there!\"\n",
      "score: 1.000000\n",
      "actual: 1\n",
      "\n",
      "input:\n",
      "\"A very interesting bag building game. The medieval theme is well done. Tempted to play it like the designer's other (newer) game Altiplano where, like in a deck builder, you must go through all of your resources before 'reshuffling'.\"\n",
      "score: 1.000000\n",
      "actual: 1\n",
      "\n",
      "input:\n",
      "\"Great game and scratches the old D&D itch pretty well.\"\n",
      "score: 1.000000\n",
      "actual: 1\n",
      "\n",
      "input:\n",
      "\"French review & video on Vin d'jeu: \"\n",
      "score: 1.000000\n",
      "actual: 1\n",
      "\n",
      "input:\n",
      "\"optimizing game, no topic available, only for optimizers...\"\n",
      "score: 0.000000\n",
      "actual: 0\n",
      "\n",
      "input:\n",
      "\"So far, I am really impressed by the simple elegance of this game.  On your turn, play a card, do what it says.  There is so much depth.  I would have liked a few more different cards to add variety.\"\n",
      "score: 1.000000\n",
      "actual: 1\n",
      "\n",
      "input:\n",
      "\"+ Invaders from Afar + The Wind Gambit + The Rise of Fenris + Encounters + promos\"\n",
      "score: 1.000000\n",
      "actual: 1\n",
      "\n",
      "input:\n",
      "\"This monster of a game is truly epic.  Kudos to the designer, as he managed to fit so much of game and innovation in a box. This could be a turning point for campaign games in general.  Have been playing ONLY this for about 5-6 months.  It is not that the game is flawless, but it is excellent in many aspects.\"\n",
      "score: 1.000000\n",
      "actual: 1\n"
     ]
    },
    {
     "name": "stderr",
     "output_type": "stream",
     "text": [
      "C:\\Users\\dev999\\.conda\\envs\\tensorflow2\\lib\\site-packages\\tensorflow\\python\\keras\\engine\\sequential.py:455: UserWarning: `model.predict_classes()` is deprecated and will be removed after 2021-01-01. Please use instead:* `np.argmax(model.predict(x), axis=-1)`,   if your model does multi-class classification   (e.g. if it uses a `softmax` last-layer activation).* `(model.predict(x) > 0.5).astype(\"int32\")`,   if your model does binary classification   (e.g. if it uses a `sigmoid` last-layer activation).\n",
      "  warnings.warn('`model.predict_classes()` is deprecated and '\n"
     ]
    }
   ],
   "source": [
    "inputs = x_train_clf[:10]\n",
    "outputs = y_train_clf[:10]\n",
    "results = classifier.predict(tf.constant(inputs), verbose=0)\n",
    "print_my_examples(inputs, results, outputs)"
   ]
  },
  {
   "cell_type": "code",
   "execution_count": 27,
   "metadata": {},
   "outputs": [],
   "source": [
    "## APPLY MODEL ON NON-RATED COMMENTS"
   ]
  },
  {
   "cell_type": "code",
   "execution_count": 28,
   "metadata": {},
   "outputs": [
    {
     "name": "stdout",
     "output_type": "stream",
     "text": [
      "8/8 - 0s\n",
      "input:\n",
      "\"Notes: Played (Tabletop Simulator)\"\n",
      "score: 1.000000\n",
      "\n",
      "input:\n",
      "\"In FL  Cannot believe my redditgifts Santa got me this!  Thanks so much!\"\n",
      "score: 1.000000\n",
      "\n",
      "input:\n",
      "\"Deck building: interested. Cute art and unique board: intrigued. Likelihood of playing with my group: high. Likelihood of playing with my family: low. So probably a pipe dream for now. :/\"\n",
      "score: 1.000000\n",
      "\n",
      "input:\n",
      "\"Playing Time: 1.25-2.5 hours Best with 3-4 players (4 max)\"\n",
      "score: 1.000000\n",
      "\n",
      "input:\n",
      "\"Here because it sounds like Gloomhaven-lite, but not sure about constant battles.\"\n",
      "score: 0.000000\n",
      "\n",
      "input:\n",
      "\"Contains every content release so far.\"\n",
      "score: 1.000000\n",
      "\n",
      "input:\n",
      "\"+ Ks Stretch Goals + City of steel + Lord of the sun + Terrain expansion\"\n",
      "score: 1.000000\n",
      "\n",
      "input:\n",
      "\"Played a prototype version. Gameplay is very fluid and fast. Short turns with few rules to think about. The game is simple to get into and it engages all players very well, all the time. The circuit production, trade, buy is very well designed, especially because of the production mechanism, which simplifies the rules complicating the decision. With some aspects changed this game could easilly be one of the best Games for 2013!  Played the final version now and the game improved making it even better. A very good addition to any collection.  (G)\"\n",
      "score: 1.000000\n",
      "\n",
      "input:\n",
      "\"If you put this side-by-side with Fantasy Flight's Descent, it'd be hard to tell them apart.   There's oddly shaped chipboard dungeon halls.  There's maps telling you where to lay all the monsters and treasures.  The main difference is in the combat.  Every character has a set of unique cards... that mostly come down to D&D style move+attack actions.  But everybody has to stick to what their cards do, so in a very simple way, it's got programming mechanics.  Your characters also advance through 9 levels of cards, loot, and \"checkmarks\" that improve your \"luck.\"    In addition, instead of a GM, monsters move & attack.  However, each monster has a special deck, which sometimes has the monster do something else, like only move, or \"activate special ability A.\"  Like a GM, though, all the players sit by idly while whoever the player who controls the monsters does it.      I was thoroughly unimpressed by the storytelling, the road cards, and the city cards.  I'm sure Gloomhaven tried to replicated Kingdom Death in several ways, but it felt like disjointed tidbits.  Unlike KD:M's events that have the players make decisions and have random results, Gloomhaven's version has no replay-ability.  If you've seen a card before, you know which answer to give so you can get rewards and avoid penalties.    The book is bound in an open-comb binder, which causes pages to fall out if you rotate them to the back.   The text is also TINY.  Like 5 pt font for all cards.  The images were also TINY on the standees.    In short, if you like dungeon crawlers, you'll probably like this one too.  But it is still a dungeon crawler at heart, just a better version of one.\"\n",
      "score: 1.000000\n",
      "\n",
      "input:\n",
      "\"With Hellas expansion, custom insert.\"\n",
      "score: 1.000000\n"
     ]
    }
   ],
   "source": [
    "not_rated_comments = not_rated_comments.sample(frac=1)\n",
    "results = classifier.predict(tf.constant(list(not_rated_comments.value.astype(str))))\n",
    "print_my_examples(list(not_rated_comments.value), results, limit=10)"
   ]
  },
  {
   "cell_type": "markdown",
   "metadata": {},
   "source": [
    "## REGRESSOR"
   ]
  },
  {
   "cell_type": "code",
   "execution_count": 29,
   "metadata": {},
   "outputs": [
    {
     "data": {
      "text/plain": [
       "GridSearchCV(cv=3,\n",
       "             estimator=<tensorflow.python.keras.wrappers.scikit_learn.KerasRegressor object at 0x000001FF78819070>,\n",
       "             param_grid={})"
      ]
     },
     "execution_count": 29,
     "metadata": {},
     "output_type": "execute_result"
    }
   ],
   "source": [
    "def build_regressor():\n",
    "    return build_model(hub_layer, pre_trained_model_name=MODEL_NAME, model_type='regressor', verbose=0)\n",
    "\n",
    "\n",
    "estimator = KerasRegressor(build_fn=build_regressor, epochs=100, batch_size=512, verbose=0, validation_split=VAL_FRACTION)\n",
    "x_train_reg = np.array(list(rated_comments.value))\n",
    "y_train_reg = np.array(list(rated_comments.rating.astype(float)))\n",
    "\n",
    "clf = GridSearchCV(\n",
    "    estimator, \n",
    "    cv=3, \n",
    "    param_grid={}\n",
    ")\n",
    "clf.fit(x_train_reg, y_train_reg, callbacks=[tf.keras.callbacks.EarlyStopping(monitor='val_mean_squared_error', patience=5, min_delta=0.001)])"
   ]
  },
  {
   "cell_type": "code",
   "execution_count": 30,
   "metadata": {},
   "outputs": [],
   "source": [
    "regressor = clf.best_estimator_\n",
    "regressor_history_dict = regressor.model.history.history"
   ]
  },
  {
   "cell_type": "code",
   "execution_count": 31,
   "metadata": {},
   "outputs": [
    {
     "data": {
      "text/plain": [
       "dict_keys(['loss', 'mean_squared_error', 'val_loss', 'val_mean_squared_error'])"
      ]
     },
     "execution_count": 31,
     "metadata": {},
     "output_type": "execute_result"
    }
   ],
   "source": [
    "regressor_history_dict.keys()"
   ]
  },
  {
   "cell_type": "code",
   "execution_count": 32,
   "metadata": {},
   "outputs": [],
   "source": [
    "mean_squared_error = regressor_history_dict['mean_squared_error']\n",
    "val_mean_squared_error = regressor_history_dict['val_mean_squared_error']\n",
    "loss = regressor_history_dict['loss']\n",
    "val_loss = regressor_history_dict['val_loss']"
   ]
  },
  {
   "cell_type": "code",
   "execution_count": 33,
   "metadata": {},
   "outputs": [],
   "source": [
    "epochs = range(1, len(mean_squared_error) + 1) "
   ]
  },
  {
   "cell_type": "code",
   "execution_count": 34,
   "metadata": {},
   "outputs": [
    {
     "name": "stdout",
     "output_type": "stream",
     "text": [
      "MEAN SQUARED ERROR (VALIDATION SET): 2.47\n"
     ]
    }
   ],
   "source": [
    "print(f\"MEAN SQUARED ERROR (VALIDATION SET): {val_mean_squared_error[-1]:.2f}\")"
   ]
  },
  {
   "cell_type": "code",
   "execution_count": 35,
   "metadata": {},
   "outputs": [
    {
     "name": "stdout",
     "output_type": "stream",
     "text": [
      "MEAN SQUARED ERROR (TRAINING SET): 1.02\n"
     ]
    }
   ],
   "source": [
    "print(f\"MEAN SQUARED ERROR (TRAINING SET): {mean_squared_error[-1]:.2f}\")"
   ]
  },
  {
   "cell_type": "code",
   "execution_count": 36,
   "metadata": {},
   "outputs": [
    {
     "data": {
      "image/png": "[encoded data removed]",
      "text/plain": [
       "<Figure size 648x360 with 1 Axes>"
      ]
     },
     "metadata": {
      "needs_background": "light"
     },
     "output_type": "display_data"
    }
   ],
   "source": [
    "# \"bo\" is for \"blue dot\"\n",
    "plt.figure(figsize=(9, 5))\n",
    "plt.plot(epochs, loss, 'bo', label='Training loss')\n",
    "# b is for \"solid blue line\"\n",
    "plt.plot(epochs, val_loss, 'b', label='Validation loss')\n",
    "plt.title('Training and validation loss')\n",
    "plt.xlabel('Epochs')\n",
    "plt.ylabel('Loss')\n",
    "plt.grid(True)\n",
    "plt.legend()\n",
    "\n",
    "plt.show()"
   ]
  },
  {
   "cell_type": "code",
   "execution_count": 37,
   "metadata": {},
   "outputs": [
    {
     "data": {
      "image/png": "[encoded data removed]",
      "text/plain": [
       "<Figure size 648x360 with 1 Axes>"
      ]
     },
     "metadata": {
      "needs_background": "light"
     },
     "output_type": "display_data"
    }
   ],
   "source": [
    "plt.figure(figsize=(9, 5))\n",
    "plt.plot(epochs, mean_squared_error, 'bo', label='Training mean squared error')\n",
    "plt.plot(epochs, val_mean_squared_error, 'b', label='Validation mean squared error')\n",
    "plt.title('Training and validation accuracy')\n",
    "plt.xlabel('Epochs')\n",
    "plt.ylabel('Mean squared error')\n",
    "plt.grid(True)\n",
    "plt.legend()\n",
    "\n",
    "plt.show()"
   ]
  },
  {
   "cell_type": "code",
   "execution_count": 38,
   "metadata": {},
   "outputs": [
    {
     "name": "stdout",
     "output_type": "stream",
     "text": [
      "input: \n",
      "\"Great Game, super components.\"\n",
      "score: 8.66\n",
      "actual: 8.00 \n",
      "\n",
      "input: \n",
      "\"One of my favorite games. A worker placement game that focuses on the production of wine. The wine tokens have a nice touch. The theme is well implemented in the way the game works. A game that I will keep in my collection.\"\n",
      "score: 8.57\n",
      "actual: 9.00 \n",
      "\n",
      "input: \n",
      "\"[b] HYBRID [/b] Subtype: Miniature's Game / Legacy / Campaign  - Cooperative Euro Role Playing Dungeon Crawler Game (1-4 Players) [Best:2] - Fantasy Adventures - Legacy - Complexity:3.77  *Expansions: Forgotten Circles  [b]Summary:[/b] One of the Best Campaign games out there!\"\n",
      "score: 8.45\n",
      "actual: 8.60 \n",
      "\n",
      "input: \n",
      "\"A very interesting bag building game. The medieval theme is well done. Tempted to play it like the designer's other (newer) game Altiplano where, like in a deck builder, you must go through all of your resources before 'reshuffling'.\"\n",
      "score: 7.97\n",
      "actual: 8.00 \n",
      "\n",
      "input: \n",
      "\"Great game and scratches the old D&D itch pretty well.\"\n",
      "score: 8.47\n",
      "actual: 9.00 \n",
      "\n",
      "input: \n",
      "\"French review & video on Vin d'jeu: \"\n",
      "score: 8.62\n",
      "actual: 10.00 \n",
      "\n",
      "input: \n",
      "\"optimizing game, no topic available, only for optimizers...\"\n",
      "score: 6.43\n",
      "actual: 6.00 \n",
      "\n",
      "input: \n",
      "\"So far, I am really impressed by the simple elegance of this game.  On your turn, play a card, do what it says.  There is so much depth.  I would have liked a few more different cards to add variety.\"\n",
      "score: 8.34\n",
      "actual: 8.00 \n",
      "\n",
      "input: \n",
      "\"+ Invaders from Afar + The Wind Gambit + The Rise of Fenris + Encounters + promos\"\n",
      "score: 9.00\n",
      "actual: 8.50 \n",
      "\n",
      "input: \n",
      "\"This monster of a game is truly epic.  Kudos to the designer, as he managed to fit so much of game and innovation in a box. This could be a turning point for campaign games in general.  Have been playing ONLY this for about 5-6 months.  It is not that the game is flawless, but it is excellent in many aspects.\"\n",
      "score: 10.09\n",
      "actual: 10.00 \n",
      "\n"
     ]
    }
   ],
   "source": [
    "inputs = x_train_reg[:10]\n",
    "outputs = y_train_reg[:10]\n",
    "results = clf.best_estimator_.predict(tf.constant(inputs), verbose=0)\n",
    "for i in range(len(inputs)):\n",
    "    print(f\"input: \\n\\\"{inputs[i]}\\\"\\nscore: {results[i]:.2f}\\nactual: {outputs[i]:.2f} \\n\")"
   ]
  },
  {
   "cell_type": "markdown",
   "metadata": {},
   "source": [
    "## COMPARE CLASSIFIER VS REGRESSOR"
   ]
  },
  {
   "cell_type": "code",
   "execution_count": 39,
   "metadata": {},
   "outputs": [
    {
     "name": "stdout",
     "output_type": "stream",
     "text": [
      "\"Pre-ordered after playing the original. The original is great, rules aren't that complicated. You always have interesting choices to make.  It is a big and long game, so claim a whole evening for it.\"\n",
      "    reg score: 8.24\n",
      "    clf score: 1\n",
      "\n",
      "\"Sounds like a game that we would enjoy that can be won by different mechanisms. Theme a little thin, but ok. Build an engine and watch it run. Use bag to pull chits to use to get stuff. Many different ways to score points.\"\n",
      "    reg score: 7.64\n",
      "    clf score: 1\n",
      "\n",
      "\"SOLO GAME Recomendado entre los mejores juegos solitarios\"\n",
      "    reg score: 8.58\n",
      "    clf score: 1\n",
      "\n",
      "\"I wish I could play this one with my friends more than I do.\"\n",
      "    reg score: 8.81\n",
      "    clf score: 1\n",
      "\n",
      "\"Haven't yet been able to find a group to play this with.  The show's popularity/awareness is waning I'm afraid.\"\n",
      "    reg score: 6.47\n",
      "    clf score: 1\n",
      "\n",
      "\"2200+950(upgrade token)+updated board250+upgrade vagabond (800)+insert 600\"\n",
      "    reg score: 7.02\n",
      "    clf score: 0\n",
      "\n",
      "\"Waiting for Kickstarter - December 2019\"\n",
      "    reg score: 8.55\n",
      "    clf score: 1\n",
      "\n",
      "\"New, opened but never played(tokens still unpunched and cards still NIS)\"\n",
      "    reg score: 7.14\n",
      "    clf score: 0\n",
      "\n",
      "\"Saw this are BGG Con 2016, looked like a very interesting game.\"\n",
      "    reg score: 9.63\n",
      "    clf score: 1\n",
      "\n",
      "\"inkl. Insert von Folded Space und sleeves 130€ inkl. Versand  playerboards drucken - check\"\n",
      "    reg score: 9.66\n",
      "    clf score: 1\n",
      "\n"
     ]
    },
    {
     "name": "stderr",
     "output_type": "stream",
     "text": [
      "C:\\Users\\dev999\\.conda\\envs\\tensorflow2\\lib\\site-packages\\tensorflow\\python\\keras\\engine\\sequential.py:455: UserWarning: `model.predict_classes()` is deprecated and will be removed after 2021-01-01. Please use instead:* `np.argmax(model.predict(x), axis=-1)`,   if your model does multi-class classification   (e.g. if it uses a `softmax` last-layer activation).* `(model.predict(x) > 0.5).astype(\"int32\")`,   if your model does binary classification   (e.g. if it uses a `sigmoid` last-layer activation).\n",
      "  warnings.warn('`model.predict_classes()` is deprecated and '\n"
     ]
    }
   ],
   "source": [
    "not_rated_comments = not_rated_comments.sample(frac=1)\n",
    "inputs = list(not_rated_comments.value.astype(str))[:10]\n",
    "\n",
    "clf_results = classifier.predict(inputs, verbose=0)\n",
    "reg_results = regressor.predict(inputs, verbose=0)\n",
    "for i in range(len(inputs)):\n",
    "    print(f\"\"\"\\\"{inputs[i]}\\\"\n",
    "    reg score: {reg_results[i]:.2f}\n",
    "    clf score: {clf_results[i][0]}\n",
    "\"\"\")"
   ]
  },
  {
   "cell_type": "markdown",
   "metadata": {},
   "source": [
    "### RESULTS\n",
    "It seems that the regressor is much more accurate compared to the binary classifier => **let's use the regressors results to fix the BGG rating**"
   ]
  },
  {
   "cell_type": "markdown",
   "metadata": {},
   "source": [
    "## COMBINE RATED COMMENTS AND NOT-RATED COMMENTS WITH PREDICTED RATING"
   ]
  },
  {
   "cell_type": "code",
   "execution_count": 40,
   "metadata": {},
   "outputs": [
    {
     "name": "stdout",
     "output_type": "stream",
     "text": [
      "rated_comments_grouped: \n",
      "|     id |   rating_mean |   rating_count |\n",
      "|--------|---------------|----------------|\n",
      "| 124361 |          8.18 |           3870 |\n",
      "| 162886 |          8.36 |           3568 |\n",
      "| 164928 |          7.99 |           2687 |\n",
      "| 167355 |          8.42 |           1865 |\n",
      "| 167791 |          8.21 |           8330 |\n"
     ]
    }
   ],
   "source": [
    "rated_comments['rating'] = rated_comments.rating.astype(float)\n",
    "rated_comments_grouped = rated_comments.groupby('id').agg({'rating': ['mean', 'count']})\n",
    "rated_comments_grouped.columns = list(rated_comments_grouped.columns.map('_'.join))\n",
    "rated_comments_grouped = rated_comments_grouped.reset_index()\n",
    "print(\"rated_comments_grouped: \")\n",
    "print(rated_comments_grouped.head().to_markdown(index=False, floatfmt='.2f', tablefmt='github'))"
   ]
  },
  {
   "cell_type": "code",
   "execution_count": 41,
   "metadata": {},
   "outputs": [],
   "source": [
    "not_rated_comments['rating'] = regressor.predict(list(not_rated_comments.value.astype(str)))"
   ]
  },
  {
   "cell_type": "code",
   "execution_count": 42,
   "metadata": {},
   "outputs": [
    {
     "name": "stdout",
     "output_type": "stream",
     "text": [
      "not_rated_comments_grouped: \n",
      "|     id |   rating_mean |   rating_count |\n",
      "|--------|---------------|----------------|\n",
      "| 124361 |          8.03 |            253 |\n",
      "| 162886 |          8.18 |            320 |\n",
      "| 164928 |          8.15 |            247 |\n",
      "| 167355 |          8.29 |            214 |\n",
      "| 167791 |          8.35 |            443 |\n"
     ]
    }
   ],
   "source": [
    "not_rated_comments['rating'] = not_rated_comments.rating.astype(float)\n",
    "not_rated_comments['rating'] = not_rated_comments['rating'].clip(0, 10)\n",
    "not_rated_comments_grouped = not_rated_comments.groupby('id').agg({'rating': ['mean', 'count']})\n",
    "not_rated_comments_grouped.columns = list(not_rated_comments_grouped.columns.map('_'.join))\n",
    "not_rated_comments_grouped = not_rated_comments_grouped.reset_index()\n",
    "print(\"not_rated_comments_grouped: \")\n",
    "print(not_rated_comments_grouped.head().to_markdown(index=False, floatfmt='.2f', tablefmt='github'))"
   ]
  },
  {
   "cell_type": "code",
   "execution_count": 43,
   "metadata": {},
   "outputs": [],
   "source": [
    "grouped = rated_comments_grouped.merge(not_rated_comments_grouped, on='id', suffixes=('_review', '_comments'), how='outer')\n",
    "grouped['id'] = grouped.id.astype(str)\n",
    "grouped = grouped.merge(pd.DataFrame(hot_array), on='id', how='right')\n",
    "grouped['rank'] = grouped['rank'].astype(int)\n",
    "grouped['url'] = grouped['id'].apply(lambda x: f\"https://boardgamegeek.com/boardgame/{x}\")\n",
    "grouped['fixed_rating'] = (grouped['rating_mean_review']*grouped['rating_count_review']+grouped['rating_mean_comments']*grouped['rating_count_comments']) /\\\n",
    "                            (grouped['rating_count_review']+grouped['rating_count_comments'])\n",
    "grouped['thumbnail'] = grouped['thumbnail'].apply(lambda x: f'<img src=\"{x}\" width=\"124\" />')\n",
    "grouped['name'] = grouped.apply(lambda x: f'<a href=\"{x[\"url\"]}\">{x[\"name\"]}</a>', axis=1)\n",
    "\n",
    "grouped = grouped[['thumbnail', 'name', 'rating_mean_review', 'rating_mean_comments', 'fixed_rating', 'rank', 'yearpublished']]"
   ]
  },
  {
   "cell_type": "code",
   "execution_count": 44,
   "metadata": {},
   "outputs": [
    {
     "data": {
      "text/html": [
       "<div>\n",
       "<style scoped>\n",
       "    .dataframe tbody tr th:only-of-type {\n",
       "        vertical-align: middle;\n",
       "    }\n",
       "\n",
       "    .dataframe tbody tr th {\n",
       "        vertical-align: top;\n",
       "    }\n",
       "\n",
       "    .dataframe thead th {\n",
       "        text-align: right;\n",
       "    }\n",
       "</style>\n",
       "<table border=\"1\" class=\"dataframe\">\n",
       "  <thead>\n",
       "    <tr style=\"text-align: right;\">\n",
       "      <th></th>\n",
       "      <th>thumbnail</th>\n",
       "      <th>name</th>\n",
       "      <th>rating_mean_review</th>\n",
       "      <th>rating_mean_comments</th>\n",
       "      <th>fixed_rating</th>\n",
       "      <th>rank</th>\n",
       "      <th>yearpublished</th>\n",
       "    </tr>\n",
       "  </thead>\n",
       "  <tbody>\n",
       "    <tr>\n",
       "      <th>0</th>\n",
       "      <td>&lt;img src=\"https://cf.geekdo-images.com/1N4DBN9...</td>\n",
       "      <td>&lt;a href=\"https://boardgamegeek.com/boardgame/3...</td>\n",
       "      <td>9.000000</td>\n",
       "      <td>7.135943</td>\n",
       "      <td>7.644322</td>\n",
       "      <td>1</td>\n",
       "      <td>2021</td>\n",
       "    </tr>\n",
       "    <tr>\n",
       "      <th>1</th>\n",
       "      <td>&lt;img src=\"https://cf.geekdo-images.com/sZxxoD_...</td>\n",
       "      <td>&lt;a href=\"https://boardgamegeek.com/boardgame/3...</td>\n",
       "      <td>9.000000</td>\n",
       "      <td>9.460675</td>\n",
       "      <td>9.276405</td>\n",
       "      <td>2</td>\n",
       "      <td>2021</td>\n",
       "    </tr>\n",
       "    <tr>\n",
       "      <th>2</th>\n",
       "      <td>&lt;img src=\"https://cf.geekdo-images.com/By59lVy...</td>\n",
       "      <td>&lt;a href=\"https://boardgamegeek.com/boardgame/3...</td>\n",
       "      <td>9.500000</td>\n",
       "      <td>8.133779</td>\n",
       "      <td>8.437383</td>\n",
       "      <td>3</td>\n",
       "      <td>2021</td>\n",
       "    </tr>\n",
       "    <tr>\n",
       "      <th>3</th>\n",
       "      <td>&lt;img src=\"https://cf.geekdo-images.com/MN0OvKe...</td>\n",
       "      <td>&lt;a href=\"https://boardgamegeek.com/boardgame/3...</td>\n",
       "      <td>7.603448</td>\n",
       "      <td>7.521173</td>\n",
       "      <td>7.589344</td>\n",
       "      <td>4</td>\n",
       "      <td>2021</td>\n",
       "    </tr>\n",
       "    <tr>\n",
       "      <th>4</th>\n",
       "      <td>&lt;img src=\"https://cf.geekdo-images.com/6GqH14T...</td>\n",
       "      <td>&lt;a href=\"https://boardgamegeek.com/boardgame/3...</td>\n",
       "      <td>7.796499</td>\n",
       "      <td>8.097459</td>\n",
       "      <td>7.821035</td>\n",
       "      <td>5</td>\n",
       "      <td>2020</td>\n",
       "    </tr>\n",
       "  </tbody>\n",
       "</table>\n",
       "</div>"
      ],
      "text/plain": [
       "                                           thumbnail  \\\n",
       "0  <img src=\"https://cf.geekdo-images.com/1N4DBN9...   \n",
       "1  <img src=\"https://cf.geekdo-images.com/sZxxoD_...   \n",
       "2  <img src=\"https://cf.geekdo-images.com/By59lVy...   \n",
       "3  <img src=\"https://cf.geekdo-images.com/MN0OvKe...   \n",
       "4  <img src=\"https://cf.geekdo-images.com/6GqH14T...   \n",
       "\n",
       "                                                name  rating_mean_review  \\\n",
       "0  <a href=\"https://boardgamegeek.com/boardgame/3...            9.000000   \n",
       "1  <a href=\"https://boardgamegeek.com/boardgame/3...            9.000000   \n",
       "2  <a href=\"https://boardgamegeek.com/boardgame/3...            9.500000   \n",
       "3  <a href=\"https://boardgamegeek.com/boardgame/3...            7.603448   \n",
       "4  <a href=\"https://boardgamegeek.com/boardgame/3...            7.796499   \n",
       "\n",
       "   rating_mean_comments  fixed_rating  rank yearpublished  \n",
       "0              7.135943      7.644322     1          2021  \n",
       "1              9.460675      9.276405     2          2021  \n",
       "2              8.133779      8.437383     3          2021  \n",
       "3              7.521173      7.589344     4          2021  \n",
       "4              8.097459      7.821035     5          2020  "
      ]
     },
     "execution_count": 44,
     "metadata": {},
     "output_type": "execute_result"
    }
   ],
   "source": [
    "grouped.head()"
   ]
  },
  {
   "cell_type": "code",
   "execution_count": 45,
   "metadata": {},
   "outputs": [],
   "source": [
    "def display_topn(by, n=5, ascending=True):\n",
    "    temp_df = grouped.sort_values(by, ascending=ascending).head(n)\n",
    "    temp_df.index=list(range(1, n+1))\n",
    "    return HTML(temp_df.to_html(escape=False, classes='table table-striped'))"
   ]
  },
  {
   "cell_type": "code",
   "execution_count": 46,
   "metadata": {},
   "outputs": [
    {
     "data": {
      "text/html": [
       "<table border=\"1\" class=\"dataframe table table-striped\">\n",
       "  <thead>\n",
       "    <tr style=\"text-align: right;\">\n",
       "      <th></th>\n",
       "      <th>thumbnail</th>\n",
       "      <th>name</th>\n",
       "      <th>rating_mean_review</th>\n",
       "      <th>rating_mean_comments</th>\n",
       "      <th>fixed_rating</th>\n",
       "      <th>rank</th>\n",
       "      <th>yearpublished</th>\n",
       "    </tr>\n",
       "  </thead>\n",
       "  <tbody>\n",
       "    <tr>\n",
       "      <th>1</th>\n",
       "      <td><img src=\"https://cf.geekdo-images.com/1N4DBN9ggYo7didRPyL2bg__thumb/img/diJqM9kyGQQPAybVCYd6B5UEv1A=/fit-in/200x150/filters:strip_icc()/pic6230642.jpg\" width=\"124\" /></td>\n",
       "      <td><a href=\"https://boardgamegeek.com/boardgame/340466\">Unfathomable</a></td>\n",
       "      <td>9.000000</td>\n",
       "      <td>7.135943</td>\n",
       "      <td>7.644322</td>\n",
       "      <td>1</td>\n",
       "      <td>2021</td>\n",
       "    </tr>\n",
       "    <tr>\n",
       "      <th>2</th>\n",
       "      <td><img src=\"https://cf.geekdo-images.com/sZxxoD_yC3UWr-cLn9mCCw__thumb/img/mUovP7_BK-0E9JjUYlaea9I9Hd8=/fit-in/200x150/filters:strip_icc()/pic6148517.jpg\" width=\"124\" /></td>\n",
       "      <td><a href=\"https://boardgamegeek.com/boardgame/337324\">ADELE</a></td>\n",
       "      <td>9.000000</td>\n",
       "      <td>9.460675</td>\n",
       "      <td>9.276405</td>\n",
       "      <td>2</td>\n",
       "      <td>2021</td>\n",
       "    </tr>\n",
       "    <tr>\n",
       "      <th>3</th>\n",
       "      <td><img src=\"https://cf.geekdo-images.com/By59lVylKiQh_ICJUgK5Tg__thumb/img/a-AYlm8qtSbpqeqydP09w1Aorfw=/fit-in/200x150/filters:strip_icc()/pic6209785.jpg\" width=\"124\" /></td>\n",
       "      <td><a href=\"https://boardgamegeek.com/boardgame/314745\">Now or Never</a></td>\n",
       "      <td>9.500000</td>\n",
       "      <td>8.133779</td>\n",
       "      <td>8.437383</td>\n",
       "      <td>3</td>\n",
       "      <td>2021</td>\n",
       "    </tr>\n",
       "    <tr>\n",
       "      <th>4</th>\n",
       "      <td><img src=\"https://cf.geekdo-images.com/MN0OvKejfrfwD6bupQHp4g__thumb/img/MVh7xtQ4l17hprI4mFIk9Kswk6s=/fit-in/200x150/filters:strip_icc()/pic5623566.jpg\" width=\"124\" /></td>\n",
       "      <td><a href=\"https://boardgamegeek.com/boardgame/318184\">Imperium: Classics</a></td>\n",
       "      <td>7.603448</td>\n",
       "      <td>7.521173</td>\n",
       "      <td>7.589344</td>\n",
       "      <td>4</td>\n",
       "      <td>2021</td>\n",
       "    </tr>\n",
       "    <tr>\n",
       "      <th>5</th>\n",
       "      <td><img src=\"https://cf.geekdo-images.com/6GqH14TJJhza86BX5HCLEQ__thumb/img/J8SVmGOJXZGxNjkT3xYNQU7Haxg=/fit-in/200x150/filters:strip_icc()/pic5674958.jpg\" width=\"124\" /></td>\n",
       "      <td><a href=\"https://boardgamegeek.com/boardgame/312484\">Lost Ruins of Arnak</a></td>\n",
       "      <td>7.796499</td>\n",
       "      <td>8.097459</td>\n",
       "      <td>7.821035</td>\n",
       "      <td>5</td>\n",
       "      <td>2020</td>\n",
       "    </tr>\n",
       "  </tbody>\n",
       "</table>"
      ],
      "text/plain": [
       "<IPython.core.display.HTML object>"
      ]
     },
     "execution_count": 46,
     "metadata": {},
     "output_type": "execute_result"
    }
   ],
   "source": [
    "# TOP N RANK\n",
    "display_topn(by='rank', n=TOP_N)"
   ]
  },
  {
   "cell_type": "code",
   "execution_count": 47,
   "metadata": {},
   "outputs": [
    {
     "data": {
      "text/html": [
       "<table border=\"1\" class=\"dataframe table table-striped\">\n",
       "  <thead>\n",
       "    <tr style=\"text-align: right;\">\n",
       "      <th></th>\n",
       "      <th>thumbnail</th>\n",
       "      <th>name</th>\n",
       "      <th>rating_mean_review</th>\n",
       "      <th>rating_mean_comments</th>\n",
       "      <th>fixed_rating</th>\n",
       "      <th>rank</th>\n",
       "      <th>yearpublished</th>\n",
       "    </tr>\n",
       "  </thead>\n",
       "  <tbody>\n",
       "    <tr>\n",
       "      <th>1</th>\n",
       "      <td><img src=\"https://cf.geekdo-images.com/By59lVylKiQh_ICJUgK5Tg__thumb/img/a-AYlm8qtSbpqeqydP09w1Aorfw=/fit-in/200x150/filters:strip_icc()/pic6209785.jpg\" width=\"124\" /></td>\n",
       "      <td><a href=\"https://boardgamegeek.com/boardgame/314745\">Now or Never</a></td>\n",
       "      <td>9.500000</td>\n",
       "      <td>8.133779</td>\n",
       "      <td>8.437383</td>\n",
       "      <td>3</td>\n",
       "      <td>2021</td>\n",
       "    </tr>\n",
       "    <tr>\n",
       "      <th>2</th>\n",
       "      <td><img src=\"https://cf.geekdo-images.com/ELxnlSjxcglPHIowrQPsPQ__thumb/img/sOZ7gE6nCoDdQ1EThPDThvdT498=/fit-in/200x150/filters:strip_icc()/pic6180357.png\" width=\"124\" /></td>\n",
       "      <td><a href=\"https://boardgamegeek.com/boardgame/273814\">Deliverance</a></td>\n",
       "      <td>9.352381</td>\n",
       "      <td>8.612567</td>\n",
       "      <td>9.251037</td>\n",
       "      <td>12</td>\n",
       "      <td>2021</td>\n",
       "    </tr>\n",
       "    <tr>\n",
       "      <th>3</th>\n",
       "      <td><img src=\"https://cf.geekdo-images.com/1N4DBN9ggYo7didRPyL2bg__thumb/img/diJqM9kyGQQPAybVCYd6B5UEv1A=/fit-in/200x150/filters:strip_icc()/pic6230642.jpg\" width=\"124\" /></td>\n",
       "      <td><a href=\"https://boardgamegeek.com/boardgame/340466\">Unfathomable</a></td>\n",
       "      <td>9.000000</td>\n",
       "      <td>7.135943</td>\n",
       "      <td>7.644322</td>\n",
       "      <td>1</td>\n",
       "      <td>2021</td>\n",
       "    </tr>\n",
       "    <tr>\n",
       "      <th>4</th>\n",
       "      <td><img src=\"https://cf.geekdo-images.com/sZxxoD_yC3UWr-cLn9mCCw__thumb/img/mUovP7_BK-0E9JjUYlaea9I9Hd8=/fit-in/200x150/filters:strip_icc()/pic6148517.jpg\" width=\"124\" /></td>\n",
       "      <td><a href=\"https://boardgamegeek.com/boardgame/337324\">ADELE</a></td>\n",
       "      <td>9.000000</td>\n",
       "      <td>9.460675</td>\n",
       "      <td>9.276405</td>\n",
       "      <td>2</td>\n",
       "      <td>2021</td>\n",
       "    </tr>\n",
       "    <tr>\n",
       "      <th>5</th>\n",
       "      <td><img src=\"https://cf.geekdo-images.com/-6AnQ0BuCM8u1lqAwTe8Rw__thumb/img/da5eYCvhYSmPb03hEhNwxR8-s6g=/fit-in/200x150/filters:strip_icc()/pic5623567.jpg\" width=\"124\" /></td>\n",
       "      <td><a href=\"https://boardgamegeek.com/boardgame/318182\">Imperium: Legends</a></td>\n",
       "      <td>9.000000</td>\n",
       "      <td>7.669409</td>\n",
       "      <td>8.778235</td>\n",
       "      <td>50</td>\n",
       "      <td>2021</td>\n",
       "    </tr>\n",
       "  </tbody>\n",
       "</table>"
      ],
      "text/plain": [
       "<IPython.core.display.HTML object>"
      ]
     },
     "execution_count": 47,
     "metadata": {},
     "output_type": "execute_result"
    }
   ],
   "source": [
    "# TOP N REVIEW RANK\n",
    "display_topn(by='rating_mean_review', n=TOP_N, ascending=False)"
   ]
  },
  {
   "cell_type": "code",
   "execution_count": 48,
   "metadata": {},
   "outputs": [
    {
     "data": {
      "text/html": [
       "<table border=\"1\" class=\"dataframe table table-striped\">\n",
       "  <thead>\n",
       "    <tr style=\"text-align: right;\">\n",
       "      <th></th>\n",
       "      <th>thumbnail</th>\n",
       "      <th>name</th>\n",
       "      <th>rating_mean_review</th>\n",
       "      <th>rating_mean_comments</th>\n",
       "      <th>fixed_rating</th>\n",
       "      <th>rank</th>\n",
       "      <th>yearpublished</th>\n",
       "    </tr>\n",
       "  </thead>\n",
       "  <tbody>\n",
       "    <tr>\n",
       "      <th>1</th>\n",
       "      <td><img src=\"https://cf.geekdo-images.com/sZxxoD_yC3UWr-cLn9mCCw__thumb/img/mUovP7_BK-0E9JjUYlaea9I9Hd8=/fit-in/200x150/filters:strip_icc()/pic6148517.jpg\" width=\"124\" /></td>\n",
       "      <td><a href=\"https://boardgamegeek.com/boardgame/337324\">ADELE</a></td>\n",
       "      <td>9.000000</td>\n",
       "      <td>9.460675</td>\n",
       "      <td>9.276405</td>\n",
       "      <td>2</td>\n",
       "      <td>2021</td>\n",
       "    </tr>\n",
       "    <tr>\n",
       "      <th>2</th>\n",
       "      <td><img src=\"https://cf.geekdo-images.com/ELxnlSjxcglPHIowrQPsPQ__thumb/img/sOZ7gE6nCoDdQ1EThPDThvdT498=/fit-in/200x150/filters:strip_icc()/pic6180357.png\" width=\"124\" /></td>\n",
       "      <td><a href=\"https://boardgamegeek.com/boardgame/273814\">Deliverance</a></td>\n",
       "      <td>9.352381</td>\n",
       "      <td>8.612567</td>\n",
       "      <td>9.251037</td>\n",
       "      <td>12</td>\n",
       "      <td>2021</td>\n",
       "    </tr>\n",
       "    <tr>\n",
       "      <th>3</th>\n",
       "      <td><img src=\"https://cf.geekdo-images.com/-6AnQ0BuCM8u1lqAwTe8Rw__thumb/img/da5eYCvhYSmPb03hEhNwxR8-s6g=/fit-in/200x150/filters:strip_icc()/pic5623567.jpg\" width=\"124\" /></td>\n",
       "      <td><a href=\"https://boardgamegeek.com/boardgame/318182\">Imperium: Legends</a></td>\n",
       "      <td>9.000000</td>\n",
       "      <td>7.669409</td>\n",
       "      <td>8.778235</td>\n",
       "      <td>50</td>\n",
       "      <td>2021</td>\n",
       "    </tr>\n",
       "    <tr>\n",
       "      <th>4</th>\n",
       "      <td><img src=\"https://cf.geekdo-images.com/Oh3kHw6lweg6ru71Q16h2Q__thumb/img/e9XZdQe1ZcPpaq4Gy31OoWBB_V0=/fit-in/200x150/filters:strip_icc()/pic5235277.jpg\" width=\"124\" /></td>\n",
       "      <td><a href=\"https://boardgamegeek.com/boardgame/246900\">Eclipse: Second Dawn for the Galaxy</a></td>\n",
       "      <td>8.721971</td>\n",
       "      <td>8.345028</td>\n",
       "      <td>8.664943</td>\n",
       "      <td>45</td>\n",
       "      <td>2020</td>\n",
       "    </tr>\n",
       "    <tr>\n",
       "      <th>5</th>\n",
       "      <td><img src=\"https://cf.geekdo-images.com/hRuD1y5BxdNpssgBqamS0A__thumb/img/fpUu1t2YLjJ4EvEzBGTKtZasNv4=/fit-in/200x150/filters:strip_icc()/pic4595897.jpg\" width=\"124\" /></td>\n",
       "      <td><a href=\"https://boardgamegeek.com/boardgame/169427\">Middara: Unintentional Malum – Act 1</a></td>\n",
       "      <td>8.657721</td>\n",
       "      <td>8.602293</td>\n",
       "      <td>8.644930</td>\n",
       "      <td>41</td>\n",
       "      <td>2019</td>\n",
       "    </tr>\n",
       "  </tbody>\n",
       "</table>"
      ],
      "text/plain": [
       "<IPython.core.display.HTML object>"
      ]
     },
     "execution_count": 48,
     "metadata": {},
     "output_type": "execute_result"
    }
   ],
   "source": [
    "# TOP N FIXED RANK\n",
    "display_topn(by='fixed_rating', n=TOP_N, ascending=False)"
   ]
  },
  {
   "cell_type": "code",
   "execution_count": 49,
   "metadata": {},
   "outputs": [],
   "source": [
    "# model.save('saved_model\\my_model')"
   ]
  },
  {
   "cell_type": "code",
   "execution_count": 50,
   "metadata": {},
   "outputs": [],
   "source": [
    "# saved_model = tf.keras.models.load_model('saved_model\\my_model')"
   ]
  },
  {
   "cell_type": "code",
   "execution_count": 51,
   "metadata": {},
   "outputs": [],
   "source": [
    "# some examples on \"long\" comments vs short comments"
   ]
  },
  {
   "cell_type": "code",
   "execution_count": 52,
   "metadata": {},
   "outputs": [],
   "source": [
    "not_rated_comments['comment_len'] = not_rated_comments['value'].str.len()\n",
    "some_long_comments = not_rated_comments.query(\"comment_len>100 and comment_len<300\").sample(frac=1).head(25).sort_values('rating')"
   ]
  },
  {
   "cell_type": "code",
   "execution_count": 53,
   "metadata": {},
   "outputs": [
    {
     "name": "stdout",
     "output_type": "stream",
     "text": [
      "\"Played once with the Eyre (my name means falcon, so that was pretty much obvious) together with my wife as Marquise against a stranger pair we met at a con. Pretty much helped her to win with domination. I am very interested in owning Root, but not sure about whom to play with. \"\n",
      "score: 5.96\n",
      "\n",
      "\"10.12.19 Dustin received this game as a birthday gift and I got to play it with him. I liked it, but I felt bad whenever the Dahan died. The relentless struggle of colonialist explorers vs. original people was heartbreaking. I would like to play again.\"\n",
      "score: 6.08\n",
      "\n",
      "\"Base Game - Return to Night at the Zealots  Dunwich Legacy - Miskatonic Museum, Essex County Express, Blood on the Alter, Undimensioned and Unseen, Where Doom Awaits, Lost in Time and Space, Return to Dunwich Legacy  Path to Carcossa  Carnevale of Horrors Curse of Rougarou \"\n",
      "score: 6.22\n",
      "\n",
      "\"Heard great things and trying to get into the hobby through coop games. Ideally, they would scale with 2p  and +\"\n",
      "score: 6.78\n",
      "\n",
      "\"I am very interested in this one for solo and co-op with my wife. However, I have not had the time to invest in learning it via Tabletop Simulator. I don't want to buy before trying.\"\n",
      "score: 7.09\n",
      "\n",
      "\"Meeps 25/12/20 decided to take the plunge on the Gloomhaven bandwagon, and Jaws is apparently the easier option for noobs\"\n",
      "score: 7.19\n",
      "\n",
      "\"very innovative and interesting adventure game (dungeon crawler) card driven - tactical story - coop - legacy retail 2017\"\n",
      "score: 7.29\n",
      "\n",
      "\"Loc: Popular  James: \"A great cooperative game with constructed decks.  This intro set will get you started but there are a loads of expansions; intermediate.\"\"\n",
      "score: 7.36\n",
      "\n",
      "\"If \"It is a time of farming and war\" doesn't get you stoked to play...then possibly you have good taste. It simply should not be possible for fighting with mechs to be boring...and yet this game exists.\"\n",
      "score: 7.45\n",
      "\n",
      "\"kickstarter  Nemesis Gameplay All-In Pledge + Nemesis: Dice Tower 2019 Promo Cards  Estimate Delivery - September'21\"\n",
      "score: 8.51\n",
      "\n",
      "\"ordered from funagain games online on Tuesday 29 DEC 2020 for $44.99 + $10 shipping  arrived Thursday 7 JAN 2021\"\n",
      "score: 8.54\n",
      "\n",
      "\"Love the so many different ways to win the game and that so much stuff going on. Like it better than Kemet. Maybe over Root.\"\n",
      "score: 8.55\n",
      "\n",
      "\"I have played this twice this year and it is a blast!  My fear is that I won't play it without my buddy who also owns it and ran the two games I played in this year.\"\n",
      "score: 8.57\n",
      "\n",
      "\"One of the best games of 2016, nominated for Jogo do Ano (lost to GW Trail).  It's a bit solitaire but the game works pretty well either way.  (G)\"\n",
      "score: 8.58\n",
      "\n",
      "\"such a big improvement on terra mystica for 2 players! really shines. but for us, we still prefer caledonia as it's smaller and faster\"\n",
      "score: 8.68\n",
      "\n",
      "\"Gah! Can never get my game group to settle on this one. Sounds awesome, but I fear this one may remain ever on the shelf.\"\n",
      "score: 8.77\n",
      "\n",
      "\"+Expansions  - The Riverfolk Expansion  - The Underworld Expansion  - The Marauder Expansion (Kickstarter: 01/2022)  +The Vagabond Pack +Exiles and Partisans Deck +Resin Clearing Markers +Hirelings Pack (Kickstarter: 01/2022) +Landmarks Pack (Kickstarter: 01/2022)\"\n",
      "score: 9.02\n",
      "\n",
      "\"Includes Hellas & Elysium, Venus Next, Colonies, Turmoil and Prelude expansions and Snow Algae, Small Asteroid, Penguins and Self-Replicating Robots and BGG User Created corporations promo cards, Turmoil Promo Cards\"\n",
      "score: 9.11\n",
      "\n",
      "\"+ Dark Ages + Atlas Overload + City of Steel + Lord of the Sun + Adresteia + Leonidas + Determination Cards  + Paladin Sleeves\"\n",
      "score: 9.64\n",
      "\n",
      "\"Sleeved -FFG Grey.  Own: The Riverfolk Expansion The Underworld Expansion Vagabond Pack Exiles and Partisans Deck Resin Clearing Markers \"\n",
      "score: 9.72\n",
      "\n",
      "\"Upgraded first player marker (rover) City domes (25) Trade fleets + chairman seat miniatures Metal resource cubes\"\n",
      "score: 9.73\n",
      "\n",
      "\"02.04.17 Action selection game where you upgrade your farming engine to get as many resources/upgrades as possible while exploring the map.  Also Kate loves to steal oil.\"\n",
      "score: 10.00\n",
      "\n",
      "\"Backed Kickstarter: Was Suppose to Arrive Jan 2018. Still waiting as of May 2018. Arrived August 2018. Sold in BGG VFM 2018\"\n",
      "score: 10.00\n",
      "\n",
      "\"Sleeved, together with Branch and Claw expansion and promo packs in Folded Space insert. With Deluxe Wooden Token Pack\"\n",
      "score: 10.00\n",
      "\n",
      "\"1-4, 3p. 60-90m. 8+ 2.32 ---Categories Animals Fantasy Puzzle ---Mechanisms Card Drafting Drafting Grid Coverage Hidden Victory Points Income Pattern Building Set Collection Solo / Solitaire Game Square Grid Tile Placement Turn Order: Stat-Based\"\n",
      "score: 10.00\n",
      "\n"
     ]
    }
   ],
   "source": [
    "some_long_comments.apply(lambda c: print(f\"\\\"{c['value']}\\\"\\nscore: {c['rating']:.2f}\\n\"), axis=1);"
   ]
  },
  {
   "cell_type": "markdown",
   "metadata": {},
   "source": [
    "## RANDOM FOREST - TEST"
   ]
  },
  {
   "cell_type": "code",
   "execution_count": 54,
   "metadata": {},
   "outputs": [],
   "source": [
    "# no support for Windows at the moment - waiting for it to test"
   ]
  },
  {
   "cell_type": "code",
   "execution_count": null,
   "metadata": {},
   "outputs": [],
   "source": []
  }
 ],
 "metadata": {
  "kernelspec": {
   "display_name": "tensorflow2",
   "language": "python",
   "name": "tensorflow2"
  },
  "language_info": {
   "codemirror_mode": {
    "name": "ipython",
    "version": 3
   },
   "file_extension": ".py",
   "mimetype": "text/x-python",
   "name": "python",
   "nbconvert_exporter": "python",
   "pygments_lexer": "ipython3",
   "version": "3.8.8"
  }
 },
 "nbformat": 4,
 "nbformat_minor": 4
}
