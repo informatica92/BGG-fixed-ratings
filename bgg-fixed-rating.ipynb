{
 "cells": [
  {
   "cell_type": "code",
   "execution_count": 1,
   "metadata": {},
   "outputs": [],
   "source": [
    "# ## BGG API\n",
    "# https://www.boardgamegeek.com/xmlapi2/thing?id=161599&comments=1\n",
    "# https://www.boardgamegeek.com/xmlapi2/hot?type=boardgame\n",
    "# ## NLP WITH TF\n",
    "# https://www.tensorflow.org/hub/tutorials/tf2_text_classification"
   ]
  },
  {
   "cell_type": "code",
   "execution_count": 2,
   "metadata": {},
   "outputs": [
    {
     "name": "stdout",
     "output_type": "stream",
     "text": [
      "Version:      2.5.0\n",
      "Eager mode:   True\n",
      "Hub version:  0.12.0\n",
      "GPU:          available\n"
     ]
    }
   ],
   "source": [
    "import tensorflow as tf\n",
    "import tensorflow_hub as hub\n",
    "from tensorflow.keras.wrappers.scikit_learn import KerasRegressor, KerasClassifier\n",
    "from sklearn.model_selection import GridSearchCV\n",
    "\n",
    "from IPython.display import HTML\n",
    "from datetime import datetime\n",
    "import matplotlib.pyplot as plt\n",
    "import pandas as pd\n",
    "import numpy as np\n",
    "import re\n",
    "\n",
    "from utilities import get_hot_data, get_comments, remove_short_comments, build_model, print_my_examples\n",
    "\n",
    "print(\"Version:     \", tf.__version__)\n",
    "print(\"Eager mode:  \", tf.executing_eagerly())\n",
    "print(\"Hub version: \", hub.__version__)\n",
    "print(\"GPU:         \", \"available\" if tf.config.list_physical_devices('GPU') else \"NOT available\")\n",
    "\n",
    "tf.get_logger().setLevel('ERROR')"
   ]
  },
  {
   "cell_type": "code",
   "execution_count": 3,
   "metadata": {},
   "outputs": [],
   "source": [
    "# tf.debugging.set_log_device_placement(True)"
   ]
  },
  {
   "cell_type": "code",
   "execution_count": 4,
   "metadata": {},
   "outputs": [],
   "source": [
    "GOOD_REVIEW_THRESHOLD = 7\n",
    "VAL_FRACTION = 0.25\n",
    "MIN_COMMENT_LEN = 25\n",
    "TOP_N = 5\n",
    "MODEL_NAME = \"https://tfhub.dev/google/tf2-preview/nnlm-en-dim50/1\"\n",
    "# MORE ABOUT MODEL NAMES: \n",
    "# \"https://tfhub.dev/google/tf2-preview/nnlm-en-dim128/1\"\n",
    "# \"https://tfhub.dev/google/tf2-preview/nnlm-en-dim128-with-normalization/1\"\n",
    "# we also tested these solutions with dimension equals to 128 but accuracy \n",
    "# is a bit lower (0.85 for 128 vs 0.86 for 50) and training sometimes stops \n",
    "# unexpectedly for memory limit\n",
    "#\n",
    "# \"https://tfhub.dev/google/tf2-preview/nnlm-en-dim50/1\"\n",
    "# \"https://tfhub.dev/google/tf2-preview/nnlm-en-dim50-with-normalization/1\"\n",
    "# there is no difference between normalization and not so we use the one \n",
    "# without normalization"
   ]
  },
  {
   "cell_type": "markdown",
   "metadata": {},
   "source": [
    "## GET DATA"
   ]
  },
  {
   "cell_type": "code",
   "execution_count": 5,
   "metadata": {},
   "outputs": [
    {
     "data": {
      "text/plain": [
       "[{'id': '258135',\n",
       "  'rank': '1',\n",
       "  'thumbnail': 'https://cf.geekdo-images.com/kVOp7X5NItdLGNLUgWfl9A__thumb/img/y4kaHfBXho8z0hnpxDHDagr2lGo=/fit-in/200x150/filters:strip_icc()/pic6266685.jpg',\n",
       "  'name': 'Wild Assent',\n",
       "  'yearpublished': '2021'},\n",
       " {'id': '316554',\n",
       "  'rank': '2',\n",
       "  'thumbnail': 'https://cf.geekdo-images.com/PhjygpWSo-0labGrPBMyyg__thumb/img/JGgY-nBmkyB8WRp8vcoBLlNMQ5U=/fit-in/200x150/filters:strip_icc()/pic5666597.jpg',\n",
       "  'name': 'Dune: Imperium',\n",
       "  'yearpublished': '2020'}]"
      ]
     },
     "execution_count": 5,
     "metadata": {},
     "output_type": "execute_result"
    }
   ],
   "source": [
    "hot_array = get_hot_data()\n",
    "hot_array[:2]"
   ]
  },
  {
   "cell_type": "code",
   "execution_count": 6,
   "metadata": {},
   "outputs": [
    {
     "name": "stdout",
     "output_type": "stream",
     "text": [
      "reading dataframe from csv file...\n"
     ]
    },
    {
     "data": {
      "text/html": [
       "<div>\n",
       "<style scoped>\n",
       "    .dataframe tbody tr th:only-of-type {\n",
       "        vertical-align: middle;\n",
       "    }\n",
       "\n",
       "    .dataframe tbody tr th {\n",
       "        vertical-align: top;\n",
       "    }\n",
       "\n",
       "    .dataframe thead th {\n",
       "        text-align: right;\n",
       "    }\n",
       "</style>\n",
       "<table border=\"1\" class=\"dataframe\">\n",
       "  <thead>\n",
       "    <tr style=\"text-align: right;\">\n",
       "      <th></th>\n",
       "      <th>id</th>\n",
       "      <th>username</th>\n",
       "      <th>rating</th>\n",
       "      <th>value</th>\n",
       "    </tr>\n",
       "  </thead>\n",
       "  <tbody>\n",
       "    <tr>\n",
       "      <th>0</th>\n",
       "      <td>258135</td>\n",
       "      <td>Atvar</td>\n",
       "      <td>10.0</td>\n",
       "      <td>This is a  brilliant game, in both Arena and H...</td>\n",
       "    </tr>\n",
       "    <tr>\n",
       "      <th>1</th>\n",
       "      <td>258135</td>\n",
       "      <td>Axelay</td>\n",
       "      <td>4.0</td>\n",
       "      <td>I am very disappointed about Coop. This is not...</td>\n",
       "    </tr>\n",
       "    <tr>\n",
       "      <th>2</th>\n",
       "      <td>258135</td>\n",
       "      <td>BaneStar007</td>\n",
       "      <td>N/A</td>\n",
       "      <td>Waiting to Arrive</td>\n",
       "    </tr>\n",
       "    <tr>\n",
       "      <th>3</th>\n",
       "      <td>258135</td>\n",
       "      <td>batman14</td>\n",
       "      <td>5.0</td>\n",
       "      <td>Played the pnp. Acitvation system and unit ori...</td>\n",
       "    </tr>\n",
       "    <tr>\n",
       "      <th>4</th>\n",
       "      <td>258135</td>\n",
       "      <td>Beckikaze</td>\n",
       "      <td>6.0</td>\n",
       "      <td>The skirmish module itself is good. Positionin...</td>\n",
       "    </tr>\n",
       "    <tr>\n",
       "      <th>...</th>\n",
       "      <td>...</td>\n",
       "      <td>...</td>\n",
       "      <td>...</td>\n",
       "      <td>...</td>\n",
       "    </tr>\n",
       "    <tr>\n",
       "      <th>95548</th>\n",
       "      <td>167791</td>\n",
       "      <td>z_zadar</td>\n",
       "      <td>9.0</td>\n",
       "      <td>Some games are so much fun. Others can be a li...</td>\n",
       "    </tr>\n",
       "    <tr>\n",
       "      <th>95549</th>\n",
       "      <td>167791</td>\n",
       "      <td>_Czid_</td>\n",
       "      <td>8.0</td>\n",
       "      <td>Have played with Elysium and Prelude expansion...</td>\n",
       "    </tr>\n",
       "    <tr>\n",
       "      <th>95550</th>\n",
       "      <td>167791</td>\n",
       "      <td>_Marty_</td>\n",
       "      <td>9.5</td>\n",
       "      <td>Fantastic game. With so many cards that can ch...</td>\n",
       "    </tr>\n",
       "    <tr>\n",
       "      <th>95551</th>\n",
       "      <td>167791</td>\n",
       "      <td>_mun_</td>\n",
       "      <td>10.0</td>\n",
       "      <td>Nagyon izgalmas játék, jó a mechanizmusa. A sz...</td>\n",
       "    </tr>\n",
       "    <tr>\n",
       "      <th>95552</th>\n",
       "      <td>167791</td>\n",
       "      <td>_The_Inquiry_</td>\n",
       "      <td>5.0</td>\n",
       "      <td>Prior to 2020: 2 plays  TM is one of those gam...</td>\n",
       "    </tr>\n",
       "  </tbody>\n",
       "</table>\n",
       "<p>95553 rows × 4 columns</p>\n",
       "</div>"
      ],
      "text/plain": [
       "           id       username rating  \\\n",
       "0      258135          Atvar   10.0   \n",
       "1      258135         Axelay    4.0   \n",
       "2      258135    BaneStar007    N/A   \n",
       "3      258135       batman14    5.0   \n",
       "4      258135      Beckikaze    6.0   \n",
       "...       ...            ...    ...   \n",
       "95548  167791        z_zadar    9.0   \n",
       "95549  167791         _Czid_    8.0   \n",
       "95550  167791        _Marty_    9.5   \n",
       "95551  167791          _mun_   10.0   \n",
       "95552  167791  _The_Inquiry_    5.0   \n",
       "\n",
       "                                                   value  \n",
       "0      This is a  brilliant game, in both Arena and H...  \n",
       "1      I am very disappointed about Coop. This is not...  \n",
       "2                                      Waiting to Arrive  \n",
       "3      Played the pnp. Acitvation system and unit ori...  \n",
       "4      The skirmish module itself is good. Positionin...  \n",
       "...                                                  ...  \n",
       "95548  Some games are so much fun. Others can be a li...  \n",
       "95549  Have played with Elysium and Prelude expansion...  \n",
       "95550  Fantastic game. With so many cards that can ch...  \n",
       "95551  Nagyon izgalmas játék, jó a mechanizmusa. A sz...  \n",
       "95552  Prior to 2020: 2 plays  TM is one of those gam...  \n",
       "\n",
       "[95553 rows x 4 columns]"
      ]
     },
     "execution_count": 6,
     "metadata": {},
     "output_type": "execute_result"
    }
   ],
   "source": [
    "try:\n",
    "    comments_df = pd.read_csv(f\"comments_{datetime.now().strftime('%Y%m%d')}.csv\")\n",
    "    comments_df['rating'] = comments_df.rating.fillna('N/A')\n",
    "    print(\"reading dataframe from csv file...\")\n",
    "except:\n",
    "    print(\"missing csv file, getting new data using API...\")\n",
    "    comments_df = get_comments(hot_array, verbose=10)\n",
    "    comments_df.to_csv(f\"comments_{datetime.now().strftime('%Y%m%d')}.csv\", index=False)\n",
    "comments_df"
   ]
  },
  {
   "cell_type": "markdown",
   "metadata": {},
   "source": [
    "## DATA CLEANING"
   ]
  },
  {
   "cell_type": "code",
   "execution_count": 7,
   "metadata": {},
   "outputs": [],
   "source": [
    "# probably we should keep all the ratings (no matters the len) and remove only the simple comments under a certain len  \n",
    "comments_df[\"value\"] = comments_df[\"value\"].astype(str)"
   ]
  },
  {
   "cell_type": "code",
   "execution_count": 8,
   "metadata": {},
   "outputs": [
    {
     "name": "stdout",
     "output_type": "stream",
     "text": [
      "removed 15654 for 'remove_short_comments' - min len: 25 - method: unrated\n"
     ]
    }
   ],
   "source": [
    "# REMOVE URLs FROM COMMENTS\n",
    "comments_df['value'] = [re.sub(r\"http\\S+\", \"\", v) for v in comments_df.value.values]\n",
    "comments_df = remove_short_comments(comments_df, MIN_COMMENT_LEN)"
   ]
  },
  {
   "cell_type": "code",
   "execution_count": 9,
   "metadata": {},
   "outputs": [],
   "source": [
    "# REMOVE NON ENGLISH COMMENTS\n",
    "# !conda install -c conda-forge langdetect\n",
    "# def add_comments_lang(df: pd.DataFrame):\n",
    "#     df_local = df.copy()\n",
    "#     df_local['lang'] = df['value'].apply(detect)\n",
    "#     return df_local.reset_index(drop=True)\n",
    "# comments_df = add_comments_lang(comments_df)\n",
    "# comments_df = comments_df.query('lang == \"en\"')"
   ]
  },
  {
   "cell_type": "markdown",
   "metadata": {},
   "source": [
    "## SPLIT RATED AND NON-RATED COMMENTS"
   ]
  },
  {
   "cell_type": "code",
   "execution_count": 10,
   "metadata": {},
   "outputs": [
    {
     "data": {
      "text/plain": [
       "10.0       15983\n",
       "9.0        15058\n",
       "8.0        12559\n",
       "7.0         6743\n",
       "N/A         6618\n",
       "           ...  \n",
       "4.24           1\n",
       "6.43333        1\n",
       "8.54667        1\n",
       "9.006          1\n",
       "8.26667        1\n",
       "Name: rating, Length: 509, dtype: int64"
      ]
     },
     "execution_count": 10,
     "metadata": {},
     "output_type": "execute_result"
    }
   ],
   "source": [
    "# count number of comments per rating (N/A included)\n",
    "comments_df.rating.value_counts()"
   ]
  },
  {
   "cell_type": "code",
   "execution_count": 11,
   "metadata": {},
   "outputs": [
    {
     "data": {
      "text/plain": [
       "(73281, 5)"
      ]
     },
     "execution_count": 11,
     "metadata": {},
     "output_type": "execute_result"
    }
   ],
   "source": [
    "# get rated comments only\n",
    "rated_comments = comments_df.query('rating != \"N/A\"')\n",
    "rated_comments.shape"
   ]
  },
  {
   "cell_type": "code",
   "execution_count": 12,
   "metadata": {},
   "outputs": [
    {
     "data": {
      "text/plain": [
       "(6618, 5)"
      ]
     },
     "execution_count": 12,
     "metadata": {},
     "output_type": "execute_result"
    }
   ],
   "source": [
    "# get non rated comments only\n",
    "not_rated_comments = comments_df.query('rating == \"N/A\"').reset_index(drop=True)\n",
    "not_rated_comments.shape"
   ]
  },
  {
   "cell_type": "markdown",
   "metadata": {},
   "source": [
    "## CREATE TRAINING AND VALIDATION DATA"
   ]
  },
  {
   "cell_type": "code",
   "execution_count": 13,
   "metadata": {},
   "outputs": [],
   "source": [
    "# use rated comments (reviews) to train the model"
   ]
  },
  {
   "cell_type": "code",
   "execution_count": 14,
   "metadata": {},
   "outputs": [],
   "source": [
    "rated_comments = rated_comments.sample(frac=1)"
   ]
  },
  {
   "cell_type": "code",
   "execution_count": 15,
   "metadata": {},
   "outputs": [],
   "source": [
    "# create training X and y\n",
    "train_examples = list(rated_comments.value)\n",
    "train_labels = list((rated_comments.rating.astype(float)>=GOOD_REVIEW_THRESHOLD).astype(int))"
   ]
  },
  {
   "cell_type": "code",
   "execution_count": 16,
   "metadata": {},
   "outputs": [
    {
     "name": "stdout",
     "output_type": "stream",
     "text": [
      "example of positive rating:\n"
     ]
    },
    {
     "data": {
      "text/plain": [
       "'Sleeved: All Cards 63.5x88 (Standard) Game Cards - 142 - FFS05  BGG Sleeve Link:  '"
      ]
     },
     "execution_count": 16,
     "metadata": {},
     "output_type": "execute_result"
    }
   ],
   "source": [
    "print(\"example of positive rating:\")\n",
    "train_examples[train_labels.index(1)]"
   ]
  },
  {
   "cell_type": "code",
   "execution_count": 17,
   "metadata": {},
   "outputs": [
    {
     "name": "stdout",
     "output_type": "stream",
     "text": [
      "example of negative rating:\n"
     ]
    },
    {
     "data": {
      "text/plain": [
       "'There\\'s some really good stuff here, all of which come with a \"but...\".  I like the mashup of worker placement and deck building, but limiting the available worker placement spots with the cards in your hand creates a situation where the two mechanisms are at odds with each other instead of enhancing each other. You are either blocked from some spots that you need because you had a bad draw, or you have to focus on building a deck of symbol variety and put less thought into the actual card effects and your deck engine.  Having the Signet Ring symbol trigger your asymmetric special ability is a cool idea, but there\\'s no way to get more Signet Ring symbols into your deck, so your special ability becomes less and less powerful as you build your deck. And since every special ability isn\\'t created equal, luck of the draw can make some special abilities feel very over powered.  I like the idea of the conflict round, but aside from the sword icon on some cards, conflict has no thematic feeling. The exact same mechanisms could\\'ve represented High Council influence, spice production, or any other \"I have more than you\" event. Simply replacing the cubes with small meeples to represent combatants would\\'ve helped a lot, as would something more than just brown circles and a brown rectangle to represent the combat area. Also, many games will have most of the points come from winning conflicts, so it can become the major focus of gameplay, and if you can\\'t get recruits into the conflict because of a bad card draw (or the swingy nature of Intrigue cards), there\\'s very little you can do to offset those lost points, and you spent most of the round investing in something to get absolutely nothing for it. This is a huge problem for a game with so few points.  The Intrigue cards are almost always useful (much better than the Lords of Waterdeep Intrigue cards), but they don\\'t feel balanced and, as mentioned above, can create a swingy feeling to the game. This is not fun in a 2-hour game where you\\'ve spent the last half hour setting something up and another player\\'s random draw destroys your plans.  Removing the cards already played this round from the deck building purchase power of your hand creates interesting decisions and breaks the deck building trope of dumping your cards onto the table to do a bunch of auto-play stuff, but it only adds more issue to the worker placement symbol limitation, so an inspired new mechanism falls apart for me in this implementation.  I like when worker placement games allow you to get extra workers or a temporary worker, but in this game it doesn\\'t feel worth it. The problem is that placing workers takes cards from your hand, so gaining the extra worker permanently reduces your buying power for deck building. Getting the temporary worker replaces the card that you played but also costs $2, so you\\'ve made yourself poorer to have essentially the same number of workers and the same number of cards but give your opponents more opportunity to block worker placement spots (with the real benefit of the Mentat being that you can wait to see what other players will do with combat, but that is only desirable because combat is so important and you\\'re going through a lot of motions to put a few cubes in a box in hopes that nobody plays a take-that card on you and your entire round becomes meaningless).  I like when an end-game condition is a race to the end of a score track, but there are so few ways to gain points in this game that it really limits strategy options. Go heavy combat or go heavy influence, and maybe buy a Spice Must Flow or two (but those are so expensive that they will likely force you to skip worker placement to save cards in hand, making for a very anticlimactic round for you). I feel like the score track should\\'ve gone to 15 or 20 with a couple more options for gaining points (perhaps a space to trade spice for points and/or cards that gave scoring options). And with such low scores, the endgame Intrigue cards can again add a swingy surprise due to a random card draw.  The graphic design and iconography are very clear and the game mechanisms are very easy to learn as a result, but the board is bland and the components so generic that I never felt the theme while playing. I felt like I was merely executing mechanisms in a repetitive manner and that made the game boring for me.  This was one of my most anticipated games on my Christmas list this year, and when I didn\\'t get it under the tree, I went out and bought it myself.  It feels like the intention was solely to design a worker placement and deck building mashup, but development was skipped once the mashup was achieved. To win you have to either constantly be reacting to other players or depend on random draws. Playing this game was a fitting end to 2020, unfortunately.'"
      ]
     },
     "execution_count": 17,
     "metadata": {},
     "output_type": "execute_result"
    }
   ],
   "source": [
    "print(\"example of negative rating:\")\n",
    "train_examples[train_labels.index(0)]"
   ]
  },
  {
   "cell_type": "markdown",
   "metadata": {},
   "source": [
    "## COMPOSE MODEL"
   ]
  },
  {
   "cell_type": "code",
   "execution_count": 18,
   "metadata": {},
   "outputs": [],
   "source": [
    "hub_layer = hub.KerasLayer(MODEL_NAME, input_shape=[], dtype=tf.string, trainable=True)"
   ]
  },
  {
   "cell_type": "markdown",
   "metadata": {},
   "source": [
    "## CLASSIFIER"
   ]
  },
  {
   "cell_type": "code",
   "execution_count": 19,
   "metadata": {},
   "outputs": [
    {
     "name": "stdout",
     "output_type": "stream",
     "text": [
      "Epoch 1/100\n",
      "36/36 - 4s - loss: 0.6258 - accuracy: 0.6769 - val_loss: 0.5277 - val_accuracy: 0.8457\n",
      "Epoch 2/100\n",
      "36/36 - 2s - loss: 0.4879 - accuracy: 0.8498 - val_loss: 0.4469 - val_accuracy: 0.8552\n",
      "Epoch 3/100\n",
      "36/36 - 2s - loss: 0.4039 - accuracy: 0.8549 - val_loss: 0.3779 - val_accuracy: 0.8598\n",
      "Epoch 4/100\n",
      "36/36 - 2s - loss: 0.3369 - accuracy: 0.8702 - val_loss: 0.3389 - val_accuracy: 0.8686\n",
      "Epoch 5/100\n",
      "36/36 - 2s - loss: 0.2917 - accuracy: 0.8871 - val_loss: 0.3198 - val_accuracy: 0.8742\n",
      "Epoch 6/100\n",
      "36/36 - 2s - loss: 0.2585 - accuracy: 0.8998 - val_loss: 0.3112 - val_accuracy: 0.8769\n",
      "Epoch 7/100\n",
      "36/36 - 2s - loss: 0.2313 - accuracy: 0.9114 - val_loss: 0.3099 - val_accuracy: 0.8787\n",
      "Epoch 8/100\n",
      "36/36 - 2s - loss: 0.2085 - accuracy: 0.9212 - val_loss: 0.3125 - val_accuracy: 0.8784\n",
      "Epoch 9/100\n",
      "36/36 - 2s - loss: 0.1893 - accuracy: 0.9300 - val_loss: 0.3196 - val_accuracy: 0.8764\n",
      "Epoch 10/100\n",
      "36/36 - 2s - loss: 0.1728 - accuracy: 0.9377 - val_loss: 0.3311 - val_accuracy: 0.8748\n",
      "Epoch 11/100\n",
      "36/36 - 2s - loss: 0.1586 - accuracy: 0.9436 - val_loss: 0.3424 - val_accuracy: 0.8704\n",
      "Epoch 12/100\n",
      "36/36 - 2s - loss: 0.1456 - accuracy: 0.9497 - val_loss: 0.3552 - val_accuracy: 0.8688\n",
      "24/24 - 0s - loss: 0.3601 - accuracy: 0.8658\n",
      "Epoch 1/100\n",
      "36/36 - 3s - loss: 0.5902 - accuracy: 0.7673 - val_loss: 0.5095 - val_accuracy: 0.8530\n",
      "Epoch 2/100\n",
      "36/36 - 2s - loss: 0.4714 - accuracy: 0.8533 - val_loss: 0.4366 - val_accuracy: 0.8552\n",
      "Epoch 3/100\n",
      "36/36 - 2s - loss: 0.3928 - accuracy: 0.8556 - val_loss: 0.3721 - val_accuracy: 0.8581\n",
      "Epoch 4/100\n",
      "36/36 - 2s - loss: 0.3288 - accuracy: 0.8683 - val_loss: 0.3360 - val_accuracy: 0.8706\n",
      "Epoch 5/100\n",
      "36/36 - 2s - loss: 0.2867 - accuracy: 0.8862 - val_loss: 0.3203 - val_accuracy: 0.8777\n",
      "Epoch 6/100\n",
      "36/36 - 2s - loss: 0.2570 - accuracy: 0.8998 - val_loss: 0.3139 - val_accuracy: 0.8780\n",
      "Epoch 7/100\n",
      "36/36 - 2s - loss: 0.2321 - accuracy: 0.9105 - val_loss: 0.3133 - val_accuracy: 0.8786\n",
      "Epoch 8/100\n",
      "36/36 - 2s - loss: 0.2107 - accuracy: 0.9200 - val_loss: 0.3176 - val_accuracy: 0.8751\n",
      "Epoch 9/100\n",
      "36/36 - 2s - loss: 0.1924 - accuracy: 0.9280 - val_loss: 0.3253 - val_accuracy: 0.8749\n",
      "Epoch 10/100\n",
      "36/36 - 2s - loss: 0.1757 - accuracy: 0.9357 - val_loss: 0.3361 - val_accuracy: 0.8730\n",
      "24/24 - 0s - loss: 0.3374 - accuracy: 0.8703\n",
      "Epoch 1/100\n",
      "36/36 - 3s - loss: 0.5583 - accuracy: 0.8050 - val_loss: 0.4886 - val_accuracy: 0.8509\n",
      "Epoch 2/100\n",
      "36/36 - 2s - loss: 0.4480 - accuracy: 0.8525 - val_loss: 0.4104 - val_accuracy: 0.8546\n",
      "Epoch 3/100\n",
      "36/36 - 2s - loss: 0.3662 - accuracy: 0.8629 - val_loss: 0.3499 - val_accuracy: 0.8689\n",
      "Epoch 4/100\n",
      "36/36 - 2s - loss: 0.3084 - accuracy: 0.8804 - val_loss: 0.3206 - val_accuracy: 0.8773\n",
      "Epoch 5/100\n",
      "36/36 - 2s - loss: 0.2696 - accuracy: 0.8959 - val_loss: 0.3070 - val_accuracy: 0.8828\n",
      "Epoch 6/100\n",
      "36/36 - 2s - loss: 0.2394 - accuracy: 0.9090 - val_loss: 0.3031 - val_accuracy: 0.8837\n",
      "Epoch 7/100\n",
      "36/36 - 2s - loss: 0.2147 - accuracy: 0.9192 - val_loss: 0.3051 - val_accuracy: 0.8806\n",
      "Epoch 8/100\n",
      "36/36 - 2s - loss: 0.1938 - accuracy: 0.9283 - val_loss: 0.3122 - val_accuracy: 0.8788\n",
      "Epoch 9/100\n",
      "36/36 - 2s - loss: 0.1761 - accuracy: 0.9355 - val_loss: 0.3235 - val_accuracy: 0.8769\n",
      "Epoch 10/100\n",
      "36/36 - 2s - loss: 0.1602 - accuracy: 0.9422 - val_loss: 0.3384 - val_accuracy: 0.8740\n",
      "24/24 - 0s - loss: 0.3477 - accuracy: 0.8689\n",
      "Epoch 1/100\n",
      "54/54 - 4s - loss: 0.5417 - accuracy: 0.8070 - val_loss: 0.4478 - val_accuracy: 0.8557\n",
      "Epoch 2/100\n",
      "54/54 - 3s - loss: 0.4038 - accuracy: 0.8528 - val_loss: 0.3542 - val_accuracy: 0.8615\n",
      "Epoch 3/100\n",
      "54/54 - 3s - loss: 0.3261 - accuracy: 0.8708 - val_loss: 0.3154 - val_accuracy: 0.8775\n",
      "Epoch 4/100\n",
      "54/54 - 3s - loss: 0.2816 - accuracy: 0.8886 - val_loss: 0.2997 - val_accuracy: 0.8844\n",
      "Epoch 5/100\n",
      "54/54 - 3s - loss: 0.2501 - accuracy: 0.9007 - val_loss: 0.2960 - val_accuracy: 0.8864\n",
      "Epoch 6/100\n",
      "54/54 - 3s - loss: 0.2254 - accuracy: 0.9122 - val_loss: 0.2983 - val_accuracy: 0.8840\n",
      "Epoch 7/100\n",
      "54/54 - 3s - loss: 0.2060 - accuracy: 0.9207 - val_loss: 0.3075 - val_accuracy: 0.8839\n",
      "Epoch 8/100\n",
      "54/54 - 3s - loss: 0.1884 - accuracy: 0.9285 - val_loss: 0.3159 - val_accuracy: 0.8802\n",
      "Epoch 9/100\n",
      "54/54 - 3s - loss: 0.1739 - accuracy: 0.9350 - val_loss: 0.3293 - val_accuracy: 0.8760\n",
      "Epoch 10/100\n",
      "54/54 - 3s - loss: 0.1615 - accuracy: 0.9406 - val_loss: 0.3429 - val_accuracy: 0.8715\n"
     ]
    },
    {
     "data": {
      "text/plain": [
       "GridSearchCV(cv=3,\n",
       "             estimator=<tensorflow.python.keras.wrappers.scikit_learn.KerasClassifier object at 0x000002620F44C160>,\n",
       "             param_grid={})"
      ]
     },
     "execution_count": 19,
     "metadata": {},
     "output_type": "execute_result"
    }
   ],
   "source": [
    "def build_classifier():\n",
    "    return build_model(hub_layer=None, pre_trained_model_name=MODEL_NAME, model_type='classifier', verbose=0)\n",
    "\n",
    "\n",
    "estimator = KerasClassifier(build_fn=build_classifier, epochs=100, batch_size=1024, verbose=2, validation_split=VAL_FRACTION)\n",
    "x_train_clf = np.array(list(rated_comments.value))\n",
    "y_train_clf = np.array(list((rated_comments.rating.astype(float)>=GOOD_REVIEW_THRESHOLD).astype(int)))\n",
    "\n",
    "clf = GridSearchCV(\n",
    "    estimator, \n",
    "    cv=3, \n",
    "    param_grid={}\n",
    ")\n",
    "clf.fit(x_train_clf, y_train_clf, callbacks=[tf.keras.callbacks.EarlyStopping(monitor='val_accuracy', patience=5, min_delta=0.001)])"
   ]
  },
  {
   "cell_type": "code",
   "execution_count": 20,
   "metadata": {},
   "outputs": [],
   "source": [
    "classifier = clf.best_estimator_\n",
    "classifier_history_dict = classifier.model.history.history"
   ]
  },
  {
   "cell_type": "code",
   "execution_count": 21,
   "metadata": {},
   "outputs": [
    {
     "data": {
      "text/plain": [
       "dict_keys(['loss', 'accuracy', 'val_loss', 'val_accuracy'])"
      ]
     },
     "execution_count": 21,
     "metadata": {},
     "output_type": "execute_result"
    }
   ],
   "source": [
    "classifier_history_dict.keys()"
   ]
  },
  {
   "cell_type": "code",
   "execution_count": 22,
   "metadata": {},
   "outputs": [],
   "source": [
    "acc = classifier_history_dict['accuracy']\n",
    "val_acc = classifier_history_dict['val_accuracy']\n",
    "loss = classifier_history_dict['loss']\n",
    "val_loss = classifier_history_dict['val_loss']"
   ]
  },
  {
   "cell_type": "code",
   "execution_count": 23,
   "metadata": {},
   "outputs": [],
   "source": [
    "epochs = range(1, len(acc) + 1) "
   ]
  },
  {
   "cell_type": "code",
   "execution_count": 24,
   "metadata": {},
   "outputs": [
    {
     "data": {
      "image/png": "[encoded data removed]",
      "text/plain": [
       "<Figure size 648x360 with 1 Axes>"
      ]
     },
     "metadata": {
      "needs_background": "light"
     },
     "output_type": "display_data"
    }
   ],
   "source": [
    "# \"bo\" is for \"blue dot\"\n",
    "plt.figure(figsize=(9, 5))\n",
    "plt.plot(epochs, loss, 'bo', label='Training loss')\n",
    "# b is for \"solid blue line\"\n",
    "plt.plot(epochs, val_loss, 'b', label='Validation loss')\n",
    "plt.title('Training and validation loss')\n",
    "plt.xlabel('Epochs')\n",
    "plt.ylabel('Loss')\n",
    "plt.grid(True)\n",
    "plt.legend()\n",
    "\n",
    "plt.show()"
   ]
  },
  {
   "cell_type": "code",
   "execution_count": 25,
   "metadata": {},
   "outputs": [
    {
     "data": {
      "image/png": "[encoded data removed]",
      "text/plain": [
       "<Figure size 648x360 with 1 Axes>"
      ]
     },
     "metadata": {
      "needs_background": "light"
     },
     "output_type": "display_data"
    }
   ],
   "source": [
    "plt.figure(figsize=(9, 5))\n",
    "plt.plot(epochs, acc, 'bo', label='Training acc')\n",
    "plt.plot(epochs, val_acc, 'b', label='Validation acc')\n",
    "plt.title('Training and validation accuracy')\n",
    "plt.xlabel('Epochs')\n",
    "plt.ylabel('Accuracy')\n",
    "plt.grid(True)\n",
    "plt.legend()\n",
    "\n",
    "plt.show()"
   ]
  },
  {
   "cell_type": "code",
   "execution_count": 26,
   "metadata": {},
   "outputs": [
    {
     "name": "stdout",
     "output_type": "stream",
     "text": [
      "input:\n",
      "\"Sleeved: All Cards 63.5x88 (Standard) Game Cards - 142 - FFS05  BGG Sleeve Link:  \"\n",
      "score: 1.000000\n",
      "actual: 1\n",
      "\n",
      "input:\n",
      "\"One of the best mechanisms to reduce the impact luck in any eurogame out there.\"\n",
      "score: 1.000000\n",
      "actual: 1\n",
      "\n",
      "input:\n",
      "\"2020年我的个人最佳\"\n",
      "score: 0.000000\n",
      "actual: 1\n",
      "\n",
      "input:\n",
      "\"There's some really good stuff here, all of which come with a \"but...\".  I like the mashup of worker placement and deck building, but limiting the available worker placement spots with the cards in your hand creates a situation where the two mechanisms are at odds with each other instead of enhancing each other. You are either blocked from some spots that you need because you had a bad draw, or you have to focus on building a deck of symbol variety and put less thought into the actual card effects and your deck engine.  Having the Signet Ring symbol trigger your asymmetric special ability is a cool idea, but there's no way to get more Signet Ring symbols into your deck, so your special ability becomes less and less powerful as you build your deck. And since every special ability isn't created equal, luck of the draw can make some special abilities feel very over powered.  I like the idea of the conflict round, but aside from the sword icon on some cards, conflict has no thematic feeling. The exact same mechanisms could've represented High Council influence, spice production, or any other \"I have more than you\" event. Simply replacing the cubes with small meeples to represent combatants would've helped a lot, as would something more than just brown circles and a brown rectangle to represent the combat area. Also, many games will have most of the points come from winning conflicts, so it can become the major focus of gameplay, and if you can't get recruits into the conflict because of a bad card draw (or the swingy nature of Intrigue cards), there's very little you can do to offset those lost points, and you spent most of the round investing in something to get absolutely nothing for it. This is a huge problem for a game with so few points.  The Intrigue cards are almost always useful (much better than the Lords of Waterdeep Intrigue cards), but they don't feel balanced and, as mentioned above, can create a swingy feeling to the game. This is not fun in a 2-hour game where you've spent the last half hour setting something up and another player's random draw destroys your plans.  Removing the cards already played this round from the deck building purchase power of your hand creates interesting decisions and breaks the deck building trope of dumping your cards onto the table to do a bunch of auto-play stuff, but it only adds more issue to the worker placement symbol limitation, so an inspired new mechanism falls apart for me in this implementation.  I like when worker placement games allow you to get extra workers or a temporary worker, but in this game it doesn't feel worth it. The problem is that placing workers takes cards from your hand, so gaining the extra worker permanently reduces your buying power for deck building. Getting the temporary worker replaces the card that you played but also costs $2, so you've made yourself poorer to have essentially the same number of workers and the same number of cards but give your opponents more opportunity to block worker placement spots (with the real benefit of the Mentat being that you can wait to see what other players will do with combat, but that is only desirable because combat is so important and you're going through a lot of motions to put a few cubes in a box in hopes that nobody plays a take-that card on you and your entire round becomes meaningless).  I like when an end-game condition is a race to the end of a score track, but there are so few ways to gain points in this game that it really limits strategy options. Go heavy combat or go heavy influence, and maybe buy a Spice Must Flow or two (but those are so expensive that they will likely force you to skip worker placement to save cards in hand, making for a very anticlimactic round for you). I feel like the score track should've gone to 15 or 20 with a couple more options for gaining points (perhaps a space to trade spice for points and/or cards that gave scoring options). And with such low scores, the endgame Intrigue cards can again add a swingy surprise due to a random card draw.  The graphic design and iconography are very clear and the game mechanisms are very easy to learn as a result, but the board is bland and the components so generic that I never felt the theme while playing. I felt like I was merely executing mechanisms in a repetitive manner and that made the game boring for me.  This was one of my most anticipated games on my Christmas list this year, and when I didn't get it under the tree, I went out and bought it myself.  It feels like the intention was solely to design a worker placement and deck building mashup, but development was skipped once the mashup was achieved. To win you have to either constantly be reacting to other players or depend on random draws. Playing this game was a fitting end to 2020, unfortunately.\"\n",
      "score: 0.000000\n",
      "actual: 0\n",
      "\n",
      "input:\n",
      "\"This game feels overrated, but I'm also not playing with the \"essential\" tuscany expansion \"\n",
      "score: 1.000000\n",
      "actual: 1\n",
      "\n",
      "input:\n",
      "\"A simple game with tons of strategy and mechanics.  Definitely needed an expansion though.  The cards can become boring and dull after a few dozen plays.\"\n",
      "score: 1.000000\n",
      "actual: 1\n",
      "\n",
      "input:\n",
      "\"(95)\"\n",
      "score: 1.000000\n",
      "actual: 1\n",
      "\n",
      "input:\n",
      "\"Ich liebe dieses wundervolle Spiel. 1/2 Punkt Abzug, weil das Anlaufen der Resourcenproduktion ja hauptsächlich durch die Karten beeinflußt wird und man durch das zufällige Kartenziehen dem Glück ausgeliefert ist. Im späteren Spielverlauf, wenn man schon etwas \"Einkommen\" hat, relativiert sich dies bzw. kann man das besser handhaben.\"\n",
      "score: 1.000000\n",
      "actual: 1\n",
      "\n",
      "input:\n",
      "\"Amazing Game! Can highly recommend! But players need to have at least some experience with more coplex games.\"\n",
      "score: 1.000000\n",
      "actual: 1\n",
      "\n",
      "input:\n",
      "\"With all expansions, most importantly Rise of Fenris.\"\n",
      "score: 1.000000\n",
      "actual: 1\n"
     ]
    },
    {
     "name": "stderr",
     "output_type": "stream",
     "text": [
      "C:\\Users\\dev999\\.conda\\envs\\tensorflow2\\lib\\site-packages\\tensorflow\\python\\keras\\engine\\sequential.py:455: UserWarning: `model.predict_classes()` is deprecated and will be removed after 2021-01-01. Please use instead:* `np.argmax(model.predict(x), axis=-1)`,   if your model does multi-class classification   (e.g. if it uses a `softmax` last-layer activation).* `(model.predict(x) > 0.5).astype(\"int32\")`,   if your model does binary classification   (e.g. if it uses a `sigmoid` last-layer activation).\n",
      "  warnings.warn('`model.predict_classes()` is deprecated and '\n"
     ]
    }
   ],
   "source": [
    "inputs = x_train_clf[:10]\n",
    "outputs = y_train_clf[:10]\n",
    "results = classifier.predict(tf.constant(inputs), verbose=0)\n",
    "print_my_examples(inputs, results, outputs)"
   ]
  },
  {
   "cell_type": "code",
   "execution_count": 27,
   "metadata": {},
   "outputs": [],
   "source": [
    "## APPLY MODEL ON NON-RATED COMMENTS"
   ]
  },
  {
   "cell_type": "code",
   "execution_count": 28,
   "metadata": {},
   "outputs": [
    {
     "name": "stdout",
     "output_type": "stream",
     "text": [
      "7/7 - 0s\n",
      "input:\n",
      "\"Currently with Russ. No plays throughs have been completed.\"\n",
      "score: 1.000000\n",
      "\n",
      "input:\n",
      "\"Living Room. Third Cupboard. Fourth Shelf. Outside   \"\n",
      "score: 1.000000\n",
      "\n",
      "input:\n",
      "\"Thematic  Comparison: • Star Wars: Rebellion • Twilight Struggle • Lord of the Rings • Middle-earth • Lord of the Rings: The Confrontation\"\n",
      "score: 1.000000\n",
      "\n",
      "input:\n",
      "\"Semi-cooperative survival sci-fi game. Wake up on a space ship, like the movie Alien. Hard to find, can only really buy as a late pledge on kickstarter. $120 9/20/20\"\n",
      "score: 1.000000\n",
      "\n",
      "input:\n",
      "\"Idioma: Castellano. Estado Caja: Bien salvo esquinas. Estado Material: Perfecto, falta 1 Nazgul de 8 Enfundado: SI (Estandard) PVP: 75€ (72€ +3€ Fundas Swan Standard) Coste: 17.5€ Ahorrado: 57.5€\"\n",
      "score: 1.000000\n",
      "\n",
      "input:\n",
      "\"1-4 p, complex, nice fairy-like theme with animals, 40-80 min\"\n",
      "score: 1.000000\n",
      "\n",
      "input:\n",
      "\"These impressions are based off a finished campaign. Gloomhaven is a colossal box and campaign that is awe-inspiring at first, but may become exhausting as you progress through it. At its core is a brilliant card management system that is both time limit and health, the true heart of the game. However, even with proper time-consuming organization, the tedious setup and fiddly bookkeeping can be quite tiring, and prevent the game from reaching its full potential.   Ultimately, the campaign elements added a lot of cumbersome busywork in exchange for an unsatisfying payoff. Unlocking new classes was exciting and rewarding (specifically the act of unlocking them, not the way of unlocking them; personal goals in particular felt like they could have used an extra balance pass, and were houseruled in our group), but everything else (story, envelopes, city/road events, town records, puzzles) felt like they added very little.   None of these complaints take away from the truly stellar card-based combat that really helps elevate this game.\"\n",
      "score: 1.000000\n",
      "\n",
      "input:\n",
      "\"Designed by Jamey Stegmaier and Alan Stone (2-5 players).\"\n",
      "score: 1.000000\n",
      "\n",
      "input:\n",
      "\"I also have the Lords of Middle Earth expansion\"\n",
      "score: 1.000000\n",
      "\n",
      "input:\n",
      "\"KS German Deluxe +Würfel +Sleeves KS 22.10.2020 - Juli 2021\"\n",
      "score: 1.000000\n"
     ]
    }
   ],
   "source": [
    "not_rated_comments = not_rated_comments.sample(frac=1)\n",
    "results = classifier.predict(tf.constant(list(not_rated_comments.value.astype(str))))\n",
    "print_my_examples(list(not_rated_comments.value), results, limit=10)"
   ]
  },
  {
   "cell_type": "markdown",
   "metadata": {},
   "source": [
    "## REGRESSOR"
   ]
  },
  {
   "cell_type": "code",
   "execution_count": 29,
   "metadata": {},
   "outputs": [
    {
     "data": {
      "text/plain": [
       "GridSearchCV(cv=3,\n",
       "             estimator=<tensorflow.python.keras.wrappers.scikit_learn.KerasRegressor object at 0x00000264D5927D60>,\n",
       "             param_grid={})"
      ]
     },
     "execution_count": 29,
     "metadata": {},
     "output_type": "execute_result"
    }
   ],
   "source": [
    "def build_regressor():\n",
    "    return build_model(hub_layer, pre_trained_model_name=MODEL_NAME, model_type='regressor', verbose=0)\n",
    "\n",
    "\n",
    "estimator = KerasRegressor(build_fn=build_regressor, epochs=100, batch_size=512, verbose=0, validation_split=VAL_FRACTION)\n",
    "x_train_reg = np.array(list(rated_comments.value))\n",
    "y_train_reg = np.array(list(rated_comments.rating.astype(float)))\n",
    "\n",
    "clf = GridSearchCV(\n",
    "    estimator, \n",
    "    cv=3, \n",
    "    param_grid={}\n",
    ")\n",
    "clf.fit(x_train_reg, y_train_reg, callbacks=[tf.keras.callbacks.EarlyStopping(monitor='val_mean_squared_error', patience=5, min_delta=0.001)])"
   ]
  },
  {
   "cell_type": "code",
   "execution_count": 30,
   "metadata": {},
   "outputs": [],
   "source": [
    "regressor = clf.best_estimator_\n",
    "regressor_history_dict = regressor.model.history.history"
   ]
  },
  {
   "cell_type": "code",
   "execution_count": 31,
   "metadata": {},
   "outputs": [
    {
     "data": {
      "text/plain": [
       "dict_keys(['loss', 'mean_squared_error', 'val_loss', 'val_mean_squared_error'])"
      ]
     },
     "execution_count": 31,
     "metadata": {},
     "output_type": "execute_result"
    }
   ],
   "source": [
    "regressor_history_dict.keys()"
   ]
  },
  {
   "cell_type": "code",
   "execution_count": 32,
   "metadata": {},
   "outputs": [],
   "source": [
    "mean_squared_error = regressor_history_dict['mean_squared_error']\n",
    "val_mean_squared_error = regressor_history_dict['val_mean_squared_error']\n",
    "loss = regressor_history_dict['loss']\n",
    "val_loss = regressor_history_dict['val_loss']"
   ]
  },
  {
   "cell_type": "code",
   "execution_count": 33,
   "metadata": {},
   "outputs": [],
   "source": [
    "epochs = range(1, len(mean_squared_error) + 1) "
   ]
  },
  {
   "cell_type": "code",
   "execution_count": 34,
   "metadata": {},
   "outputs": [
    {
     "name": "stdout",
     "output_type": "stream",
     "text": [
      "MEAN SQUARED ERROR (VALIDATION SET): 2.55\n"
     ]
    }
   ],
   "source": [
    "print(f\"MEAN SQUARED ERROR (VALIDATION SET): {val_mean_squared_error[-1]:.2f}\")"
   ]
  },
  {
   "cell_type": "code",
   "execution_count": 35,
   "metadata": {},
   "outputs": [
    {
     "name": "stdout",
     "output_type": "stream",
     "text": [
      "MEAN SQUARED ERROR (TRAINING SET): 0.99\n"
     ]
    }
   ],
   "source": [
    "print(f\"MEAN SQUARED ERROR (TRAINING SET): {mean_squared_error[-1]:.2f}\")"
   ]
  },
  {
   "cell_type": "code",
   "execution_count": 36,
   "metadata": {},
   "outputs": [
    {
     "data": {
      "image/png": "[encoded data removed]",
      "text/plain": [
       "<Figure size 648x360 with 1 Axes>"
      ]
     },
     "metadata": {
      "needs_background": "light"
     },
     "output_type": "display_data"
    }
   ],
   "source": [
    "# \"bo\" is for \"blue dot\"\n",
    "plt.figure(figsize=(9, 5))\n",
    "plt.plot(epochs, loss, 'bo', label='Training loss')\n",
    "# b is for \"solid blue line\"\n",
    "plt.plot(epochs, val_loss, 'b', label='Validation loss')\n",
    "plt.title('Training and validation loss')\n",
    "plt.xlabel('Epochs')\n",
    "plt.ylabel('Loss')\n",
    "plt.grid(True)\n",
    "plt.legend()\n",
    "\n",
    "plt.show()"
   ]
  },
  {
   "cell_type": "code",
   "execution_count": 37,
   "metadata": {},
   "outputs": [
    {
     "data": {
      "image/png": "[encoded data removed]",
      "text/plain": [
       "<Figure size 648x360 with 1 Axes>"
      ]
     },
     "metadata": {
      "needs_background": "light"
     },
     "output_type": "display_data"
    }
   ],
   "source": [
    "plt.figure(figsize=(9, 5))\n",
    "plt.plot(epochs, mean_squared_error, 'bo', label='Training mean squared error')\n",
    "plt.plot(epochs, val_mean_squared_error, 'b', label='Validation mean squared error')\n",
    "plt.title('Training and validation accuracy')\n",
    "plt.xlabel('Epochs')\n",
    "plt.ylabel('Mean squared error')\n",
    "plt.grid(True)\n",
    "plt.legend()\n",
    "\n",
    "plt.show()"
   ]
  },
  {
   "cell_type": "code",
   "execution_count": 38,
   "metadata": {},
   "outputs": [
    {
     "name": "stdout",
     "output_type": "stream",
     "text": [
      "input: \n",
      "\"Sleeved: All Cards 63.5x88 (Standard) Game Cards - 142 - FFS05  BGG Sleeve Link:  \"\n",
      "score: 7.65\n",
      "actual: 8.50 \n",
      "\n",
      "input: \n",
      "\"One of the best mechanisms to reduce the impact luck in any eurogame out there.\"\n",
      "score: 7.90\n",
      "actual: 10.00 \n",
      "\n",
      "input: \n",
      "\"2020年我的个人最佳\"\n",
      "score: 7.42\n",
      "actual: 10.00 \n",
      "\n",
      "input: \n",
      "\"There's some really good stuff here, all of which come with a \"but...\".  I like the mashup of worker placement and deck building, but limiting the available worker placement spots with the cards in your hand creates a situation where the two mechanisms are at odds with each other instead of enhancing each other. You are either blocked from some spots that you need because you had a bad draw, or you have to focus on building a deck of symbol variety and put less thought into the actual card effects and your deck engine.  Having the Signet Ring symbol trigger your asymmetric special ability is a cool idea, but there's no way to get more Signet Ring symbols into your deck, so your special ability becomes less and less powerful as you build your deck. And since every special ability isn't created equal, luck of the draw can make some special abilities feel very over powered.  I like the idea of the conflict round, but aside from the sword icon on some cards, conflict has no thematic feeling. The exact same mechanisms could've represented High Council influence, spice production, or any other \"I have more than you\" event. Simply replacing the cubes with small meeples to represent combatants would've helped a lot, as would something more than just brown circles and a brown rectangle to represent the combat area. Also, many games will have most of the points come from winning conflicts, so it can become the major focus of gameplay, and if you can't get recruits into the conflict because of a bad card draw (or the swingy nature of Intrigue cards), there's very little you can do to offset those lost points, and you spent most of the round investing in something to get absolutely nothing for it. This is a huge problem for a game with so few points.  The Intrigue cards are almost always useful (much better than the Lords of Waterdeep Intrigue cards), but they don't feel balanced and, as mentioned above, can create a swingy feeling to the game. This is not fun in a 2-hour game where you've spent the last half hour setting something up and another player's random draw destroys your plans.  Removing the cards already played this round from the deck building purchase power of your hand creates interesting decisions and breaks the deck building trope of dumping your cards onto the table to do a bunch of auto-play stuff, but it only adds more issue to the worker placement symbol limitation, so an inspired new mechanism falls apart for me in this implementation.  I like when worker placement games allow you to get extra workers or a temporary worker, but in this game it doesn't feel worth it. The problem is that placing workers takes cards from your hand, so gaining the extra worker permanently reduces your buying power for deck building. Getting the temporary worker replaces the card that you played but also costs $2, so you've made yourself poorer to have essentially the same number of workers and the same number of cards but give your opponents more opportunity to block worker placement spots (with the real benefit of the Mentat being that you can wait to see what other players will do with combat, but that is only desirable because combat is so important and you're going through a lot of motions to put a few cubes in a box in hopes that nobody plays a take-that card on you and your entire round becomes meaningless).  I like when an end-game condition is a race to the end of a score track, but there are so few ways to gain points in this game that it really limits strategy options. Go heavy combat or go heavy influence, and maybe buy a Spice Must Flow or two (but those are so expensive that they will likely force you to skip worker placement to save cards in hand, making for a very anticlimactic round for you). I feel like the score track should've gone to 15 or 20 with a couple more options for gaining points (perhaps a space to trade spice for points and/or cards that gave scoring options). And with such low scores, the endgame Intrigue cards can again add a swingy surprise due to a random card draw.  The graphic design and iconography are very clear and the game mechanisms are very easy to learn as a result, but the board is bland and the components so generic that I never felt the theme while playing. I felt like I was merely executing mechanisms in a repetitive manner and that made the game boring for me.  This was one of my most anticipated games on my Christmas list this year, and when I didn't get it under the tree, I went out and bought it myself.  It feels like the intention was solely to design a worker placement and deck building mashup, but development was skipped once the mashup was achieved. To win you have to either constantly be reacting to other players or depend on random draws. Playing this game was a fitting end to 2020, unfortunately.\"\n",
      "score: 2.81\n",
      "actual: 3.00 \n",
      "\n",
      "input: \n",
      "\"This game feels overrated, but I'm also not playing with the \"essential\" tuscany expansion \"\n",
      "score: 6.76\n",
      "actual: 7.00 \n",
      "\n",
      "input: \n",
      "\"A simple game with tons of strategy and mechanics.  Definitely needed an expansion though.  The cards can become boring and dull after a few dozen plays.\"\n",
      "score: 6.21\n",
      "actual: 8.00 \n",
      "\n",
      "input: \n",
      "\"(95)\"\n",
      "score: 8.58\n",
      "actual: 9.00 \n",
      "\n",
      "input: \n",
      "\"Ich liebe dieses wundervolle Spiel. 1/2 Punkt Abzug, weil das Anlaufen der Resourcenproduktion ja hauptsächlich durch die Karten beeinflußt wird und man durch das zufällige Kartenziehen dem Glück ausgeliefert ist. Im späteren Spielverlauf, wenn man schon etwas \"Einkommen\" hat, relativiert sich dies bzw. kann man das besser handhaben.\"\n",
      "score: 9.87\n",
      "actual: 10.00 \n",
      "\n",
      "input: \n",
      "\"Amazing Game! Can highly recommend! But players need to have at least some experience with more coplex games.\"\n",
      "score: 8.75\n",
      "actual: 10.00 \n",
      "\n",
      "input: \n",
      "\"With all expansions, most importantly Rise of Fenris.\"\n",
      "score: 8.04\n",
      "actual: 8.50 \n",
      "\n"
     ]
    }
   ],
   "source": [
    "inputs = x_train_reg[:10]\n",
    "outputs = y_train_reg[:10]\n",
    "results = clf.best_estimator_.predict(tf.constant(inputs), verbose=0)\n",
    "for i in range(len(inputs)):\n",
    "    print(f\"input: \\n\\\"{inputs[i]}\\\"\\nscore: {results[i]:.2f}\\nactual: {outputs[i]:.2f} \\n\")"
   ]
  },
  {
   "cell_type": "markdown",
   "metadata": {},
   "source": [
    "## COMPARE CLASSIFIER VS REGRESSOR"
   ]
  },
  {
   "cell_type": "code",
   "execution_count": 39,
   "metadata": {},
   "outputs": [
    {
     "name": "stdout",
     "output_type": "stream",
     "text": [
      "\"Best with 3to4 Zee says best with 2 21-69-10  W2.92......R8.1\"\n",
      "    reg score: 9.07\n",
      "    clf score: 1\n",
      "\n",
      "\"-\"Gozuzone\" 3D printed insert -From a kind Santa in the 2017 BGG exchange :)\"\n",
      "    reg score: 6.11\n",
      "    clf score: 1\n",
      "\n",
      "\"Here because it sounds like Gloomhaven-lite, but not sure about constant battles.\"\n",
      "    reg score: 6.29\n",
      "    clf score: 0\n",
      "\n",
      "\"+ Too Many Bones: Undertow + Too Many Bones: Tink (2017) + Too Many Bones: Nugget (2017) + Too Many Bones: Gasket (2018) + Too Many Bones: Ghillie (2017) + Too Many Bones: 40 Days in Daelore + Too Many Bones: Age of Tyranny + Too Many Bones: Premium Health + Too Many Bones: Adventure Map 2.0 + Too Many Bones: Ally Pack\"\n",
      "    reg score: 10.04\n",
      "    clf score: 0\n",
      "\n",
      "\"Curious what all the hype is about. Would love to play sometime\"\n",
      "    reg score: 8.03\n",
      "    clf score: 1\n",
      "\n",
      "\"Lmk how much you want, maybe we can work a price?\"\n",
      "    reg score: 7.85\n",
      "    clf score: 1\n",
      "\n",
      "\"1-6 Players // Best 3 // 40-80 min // All Expansions\"\n",
      "    reg score: 9.01\n",
      "    clf score: 1\n",
      "\n",
      "\"Kickstarter with Lancashire 5/11/2017. CA$ 132 ($100). Arrived 8/7/18.\"\n",
      "    reg score: 10.77\n",
      "    clf score: 1\n",
      "\n",
      "\"I know this is a persistent game ... would 1 session even be possible? Or make any sense?\"\n",
      "    reg score: 8.14\n",
      "    clf score: 0\n",
      "\n",
      "\"1–4 players  Best with 3 players Playing Time_60-120 Min  Subdomain_Strategy Games, Thematic  Category_Adventure, Exploration, Fantasy, Fighting, Miniatures   Aivja kolekcijā\"\n",
      "    reg score: 7.01\n",
      "    clf score: 1\n",
      "\n"
     ]
    },
    {
     "name": "stderr",
     "output_type": "stream",
     "text": [
      "C:\\Users\\dev999\\.conda\\envs\\tensorflow2\\lib\\site-packages\\tensorflow\\python\\keras\\engine\\sequential.py:455: UserWarning: `model.predict_classes()` is deprecated and will be removed after 2021-01-01. Please use instead:* `np.argmax(model.predict(x), axis=-1)`,   if your model does multi-class classification   (e.g. if it uses a `softmax` last-layer activation).* `(model.predict(x) > 0.5).astype(\"int32\")`,   if your model does binary classification   (e.g. if it uses a `sigmoid` last-layer activation).\n",
      "  warnings.warn('`model.predict_classes()` is deprecated and '\n"
     ]
    }
   ],
   "source": [
    "not_rated_comments = not_rated_comments.sample(frac=1)\n",
    "inputs = list(not_rated_comments.value.astype(str))[:10]\n",
    "\n",
    "clf_results = classifier.predict(inputs, verbose=0)\n",
    "reg_results = regressor.predict(inputs, verbose=0)\n",
    "for i in range(len(inputs)):\n",
    "    print(f\"\"\"\\\"{inputs[i]}\\\"\n",
    "    reg score: {reg_results[i]:.2f}\n",
    "    clf score: {clf_results[i][0]}\n",
    "\"\"\")"
   ]
  },
  {
   "cell_type": "markdown",
   "metadata": {},
   "source": [
    "### RESULTS\n",
    "It seems that the regressor is much more accurate compared to the binary classifier => **let's use the regressors results to fix the BGG rating**"
   ]
  },
  {
   "cell_type": "markdown",
   "metadata": {},
   "source": [
    "## COMBINE RATED COMMENTS AND NOT-RATED COMMENTS WITH PREDICTED RATING"
   ]
  },
  {
   "cell_type": "code",
   "execution_count": 40,
   "metadata": {},
   "outputs": [
    {
     "name": "stdout",
     "output_type": "stream",
     "text": [
      "rated_comments_grouped: \n",
      "|        id |   rating_mean |   rating_count |\n",
      "|-----------|---------------|----------------|\n",
      "| 115746.00 |          8.73 |        1921.00 |\n",
      "| 162886.00 |          8.36 |        3610.00 |\n",
      "| 167355.00 |          8.41 |        1920.00 |\n",
      "| 167791.00 |          8.20 |        8397.00 |\n",
      "| 169427.00 |          8.64 |         265.00 |\n"
     ]
    }
   ],
   "source": [
    "rated_comments['rating'] = rated_comments.rating.astype(float)\n",
    "rated_comments_grouped = rated_comments.groupby('id').agg({'rating': ['mean', 'count']})\n",
    "rated_comments_grouped.columns = list(rated_comments_grouped.columns.map('_'.join))\n",
    "rated_comments_grouped = rated_comments_grouped.reset_index()\n",
    "print(\"rated_comments_grouped: \")\n",
    "print(rated_comments_grouped.head().to_markdown(index=False, floatfmt='.2f', tablefmt='github'))"
   ]
  },
  {
   "cell_type": "code",
   "execution_count": 41,
   "metadata": {},
   "outputs": [],
   "source": [
    "not_rated_comments['rating'] = regressor.predict(list(not_rated_comments.value.astype(str)))"
   ]
  },
  {
   "cell_type": "code",
   "execution_count": 42,
   "metadata": {},
   "outputs": [
    {
     "name": "stdout",
     "output_type": "stream",
     "text": [
      "not_rated_comments_grouped: \n",
      "|        id |   rating_mean |   rating_count |\n",
      "|-----------|---------------|----------------|\n",
      "| 115746.00 |          8.30 |         271.00 |\n",
      "| 162886.00 |          8.15 |         321.00 |\n",
      "| 167355.00 |          8.25 |         211.00 |\n",
      "| 167791.00 |          8.18 |         446.00 |\n",
      "| 169427.00 |          8.59 |          74.00 |\n"
     ]
    }
   ],
   "source": [
    "not_rated_comments['rating'] = not_rated_comments.rating.astype(float)\n",
    "not_rated_comments['rating'] = not_rated_comments['rating'].clip(0, 10)\n",
    "not_rated_comments_grouped = not_rated_comments.groupby('id').agg({'rating': ['mean', 'count']})\n",
    "not_rated_comments_grouped.columns = list(not_rated_comments_grouped.columns.map('_'.join))\n",
    "not_rated_comments_grouped = not_rated_comments_grouped.reset_index()\n",
    "print(\"not_rated_comments_grouped: \")\n",
    "print(not_rated_comments_grouped.head().to_markdown(index=False, floatfmt='.2f', tablefmt='github'))"
   ]
  },
  {
   "cell_type": "code",
   "execution_count": 43,
   "metadata": {},
   "outputs": [],
   "source": [
    "grouped = rated_comments_grouped.merge(not_rated_comments_grouped, on='id', suffixes=('_review', '_comments'), how='outer')\n",
    "grouped['id'] = grouped.id.astype(str)\n",
    "grouped = grouped.merge(pd.DataFrame(hot_array), on='id', how='right')\n",
    "grouped['rank'] = grouped['rank'].astype(int)\n",
    "grouped['url'] = grouped['id'].apply(lambda x: f\"https://boardgamegeek.com/boardgame/{x}\")\n",
    "grouped['fixed_rating'] = (grouped['rating_mean_review']*grouped['rating_count_review']+grouped['rating_mean_comments']*grouped['rating_count_comments']) /\\\n",
    "                            (grouped['rating_count_review']+grouped['rating_count_comments'])\n",
    "grouped['thumbnail'] = grouped['thumbnail'].apply(lambda x: f'<img src=\"{x}\" width=\"124\" />')\n",
    "grouped['name'] = grouped.apply(lambda x: f'<a href=\"{x[\"url\"]}\">{x[\"name\"]}</a>', axis=1)\n",
    "\n",
    "grouped = grouped[['thumbnail', 'name', 'rating_mean_review', 'rating_mean_comments', 'fixed_rating', 'rank', 'yearpublished']]"
   ]
  },
  {
   "cell_type": "code",
   "execution_count": 44,
   "metadata": {},
   "outputs": [
    {
     "data": {
      "text/html": [
       "<div>\n",
       "<style scoped>\n",
       "    .dataframe tbody tr th:only-of-type {\n",
       "        vertical-align: middle;\n",
       "    }\n",
       "\n",
       "    .dataframe tbody tr th {\n",
       "        vertical-align: top;\n",
       "    }\n",
       "\n",
       "    .dataframe thead th {\n",
       "        text-align: right;\n",
       "    }\n",
       "</style>\n",
       "<table border=\"1\" class=\"dataframe\">\n",
       "  <thead>\n",
       "    <tr style=\"text-align: right;\">\n",
       "      <th></th>\n",
       "      <th>thumbnail</th>\n",
       "      <th>name</th>\n",
       "      <th>rating_mean_review</th>\n",
       "      <th>rating_mean_comments</th>\n",
       "      <th>fixed_rating</th>\n",
       "      <th>rank</th>\n",
       "      <th>yearpublished</th>\n",
       "    </tr>\n",
       "  </thead>\n",
       "  <tbody>\n",
       "    <tr>\n",
       "      <th>0</th>\n",
       "      <td>&lt;img src=\"https://cf.geekdo-images.com/kVOp7X5...</td>\n",
       "      <td>&lt;a href=\"https://boardgamegeek.com/boardgame/2...</td>\n",
       "      <td>6.000000</td>\n",
       "      <td>7.733252</td>\n",
       "      <td>6.239069</td>\n",
       "      <td>1</td>\n",
       "      <td>2021</td>\n",
       "    </tr>\n",
       "    <tr>\n",
       "      <th>1</th>\n",
       "      <td>&lt;img src=\"https://cf.geekdo-images.com/PhjygpW...</td>\n",
       "      <td>&lt;a href=\"https://boardgamegeek.com/boardgame/3...</td>\n",
       "      <td>8.080258</td>\n",
       "      <td>7.800599</td>\n",
       "      <td>8.056977</td>\n",
       "      <td>2</td>\n",
       "      <td>2020</td>\n",
       "    </tr>\n",
       "    <tr>\n",
       "      <th>2</th>\n",
       "      <td>&lt;img src=\"https://cf.geekdo-images.com/YWHB6f-...</td>\n",
       "      <td>&lt;a href=\"https://boardgamegeek.com/boardgame/3...</td>\n",
       "      <td>NaN</td>\n",
       "      <td>7.215622</td>\n",
       "      <td>NaN</td>\n",
       "      <td>3</td>\n",
       "      <td>2021</td>\n",
       "    </tr>\n",
       "    <tr>\n",
       "      <th>3</th>\n",
       "      <td>&lt;img src=\"https://cf.geekdo-images.com/gTxav_K...</td>\n",
       "      <td>&lt;a href=\"https://boardgamegeek.com/boardgame/2...</td>\n",
       "      <td>7.760125</td>\n",
       "      <td>8.252514</td>\n",
       "      <td>7.886908</td>\n",
       "      <td>4</td>\n",
       "      <td>2021</td>\n",
       "    </tr>\n",
       "    <tr>\n",
       "      <th>4</th>\n",
       "      <td>&lt;img src=\"https://cf.geekdo-images.com/NPWdxDD...</td>\n",
       "      <td>&lt;a href=\"https://boardgamegeek.com/boardgame/3...</td>\n",
       "      <td>8.192258</td>\n",
       "      <td>7.361513</td>\n",
       "      <td>7.909451</td>\n",
       "      <td>5</td>\n",
       "      <td>2020</td>\n",
       "    </tr>\n",
       "  </tbody>\n",
       "</table>\n",
       "</div>"
      ],
      "text/plain": [
       "                                           thumbnail  \\\n",
       "0  <img src=\"https://cf.geekdo-images.com/kVOp7X5...   \n",
       "1  <img src=\"https://cf.geekdo-images.com/PhjygpW...   \n",
       "2  <img src=\"https://cf.geekdo-images.com/YWHB6f-...   \n",
       "3  <img src=\"https://cf.geekdo-images.com/gTxav_K...   \n",
       "4  <img src=\"https://cf.geekdo-images.com/NPWdxDD...   \n",
       "\n",
       "                                                name  rating_mean_review  \\\n",
       "0  <a href=\"https://boardgamegeek.com/boardgame/2...            6.000000   \n",
       "1  <a href=\"https://boardgamegeek.com/boardgame/3...            8.080258   \n",
       "2  <a href=\"https://boardgamegeek.com/boardgame/3...                 NaN   \n",
       "3  <a href=\"https://boardgamegeek.com/boardgame/2...            7.760125   \n",
       "4  <a href=\"https://boardgamegeek.com/boardgame/3...            8.192258   \n",
       "\n",
       "   rating_mean_comments  fixed_rating  rank yearpublished  \n",
       "0              7.733252      6.239069     1          2021  \n",
       "1              7.800599      8.056977     2          2020  \n",
       "2              7.215622           NaN     3          2021  \n",
       "3              8.252514      7.886908     4          2021  \n",
       "4              7.361513      7.909451     5          2020  "
      ]
     },
     "execution_count": 44,
     "metadata": {},
     "output_type": "execute_result"
    }
   ],
   "source": [
    "grouped.head()"
   ]
  },
  {
   "cell_type": "code",
   "execution_count": 45,
   "metadata": {},
   "outputs": [],
   "source": [
    "def display_topn(by, n=5, ascending=True):\n",
    "    temp_df = grouped.sort_values(by, ascending=ascending).head(n)\n",
    "    temp_df.index=list(range(1, n+1))\n",
    "    return HTML(temp_df.to_html(escape=False, classes='table table-striped'))"
   ]
  },
  {
   "cell_type": "code",
   "execution_count": 46,
   "metadata": {},
   "outputs": [
    {
     "data": {
      "text/html": [
       "<table border=\"1\" class=\"dataframe table table-striped\">\n",
       "  <thead>\n",
       "    <tr style=\"text-align: right;\">\n",
       "      <th></th>\n",
       "      <th>thumbnail</th>\n",
       "      <th>name</th>\n",
       "      <th>rating_mean_review</th>\n",
       "      <th>rating_mean_comments</th>\n",
       "      <th>fixed_rating</th>\n",
       "      <th>rank</th>\n",
       "      <th>yearpublished</th>\n",
       "    </tr>\n",
       "  </thead>\n",
       "  <tbody>\n",
       "    <tr>\n",
       "      <th>1</th>\n",
       "      <td><img src=\"https://cf.geekdo-images.com/kVOp7X5NItdLGNLUgWfl9A__thumb/img/y4kaHfBXho8z0hnpxDHDagr2lGo=/fit-in/200x150/filters:strip_icc()/pic6266685.jpg\" width=\"124\" /></td>\n",
       "      <td><a href=\"https://boardgamegeek.com/boardgame/258135\">Wild Assent</a></td>\n",
       "      <td>6.000000</td>\n",
       "      <td>7.733252</td>\n",
       "      <td>6.239069</td>\n",
       "      <td>1</td>\n",
       "      <td>2021</td>\n",
       "    </tr>\n",
       "    <tr>\n",
       "      <th>2</th>\n",
       "      <td><img src=\"https://cf.geekdo-images.com/PhjygpWSo-0labGrPBMyyg__thumb/img/JGgY-nBmkyB8WRp8vcoBLlNMQ5U=/fit-in/200x150/filters:strip_icc()/pic5666597.jpg\" width=\"124\" /></td>\n",
       "      <td><a href=\"https://boardgamegeek.com/boardgame/316554\">Dune: Imperium</a></td>\n",
       "      <td>8.080258</td>\n",
       "      <td>7.800599</td>\n",
       "      <td>8.056977</td>\n",
       "      <td>2</td>\n",
       "      <td>2020</td>\n",
       "    </tr>\n",
       "    <tr>\n",
       "      <th>3</th>\n",
       "      <td><img src=\"https://cf.geekdo-images.com/YWHB6f-fyVwjSyXh5nK2Xw__thumb/img/FX-Sz6kFreAzXsB0L4W2EZtnWrs=/fit-in/200x150/filters:strip_icc()/pic6267299.png\" width=\"124\" /></td>\n",
       "      <td><a href=\"https://boardgamegeek.com/boardgame/342031\">Dune: Imperium – Rise of Ix</a></td>\n",
       "      <td>NaN</td>\n",
       "      <td>7.215622</td>\n",
       "      <td>NaN</td>\n",
       "      <td>3</td>\n",
       "      <td>2021</td>\n",
       "    </tr>\n",
       "    <tr>\n",
       "      <th>4</th>\n",
       "      <td><img src=\"https://cf.geekdo-images.com/gTxav_KKQK1rDg-XuCjCSA__thumb/img/tFTOAKG5aDXxYfNRmJNmfyxH83M=/fit-in/200x150/filters:strip_icc()/pic5164812.jpg\" width=\"124\" /></td>\n",
       "      <td><a href=\"https://boardgamegeek.com/boardgame/291572\">Oath: Chronicles of Empire and Exile</a></td>\n",
       "      <td>7.760125</td>\n",
       "      <td>8.252514</td>\n",
       "      <td>7.886908</td>\n",
       "      <td>4</td>\n",
       "      <td>2021</td>\n",
       "    </tr>\n",
       "    <tr>\n",
       "      <th>5</th>\n",
       "      <td><img src=\"https://cf.geekdo-images.com/NPWdxDD5uLOBLBDdVgdLvA__thumb/img/7464PJPFWWPzsOUMvf8t860zct0=/fit-in/200x150/filters:strip_icc()/pic6034093.png\" width=\"124\" /></td>\n",
       "      <td><a href=\"https://boardgamegeek.com/boardgame/316412\">The LOOP</a></td>\n",
       "      <td>8.192258</td>\n",
       "      <td>7.361513</td>\n",
       "      <td>7.909451</td>\n",
       "      <td>5</td>\n",
       "      <td>2020</td>\n",
       "    </tr>\n",
       "  </tbody>\n",
       "</table>"
      ],
      "text/plain": [
       "<IPython.core.display.HTML object>"
      ]
     },
     "execution_count": 46,
     "metadata": {},
     "output_type": "execute_result"
    }
   ],
   "source": [
    "# TOP N RANK\n",
    "display_topn(by='rank', n=TOP_N)"
   ]
  },
  {
   "cell_type": "code",
   "execution_count": 47,
   "metadata": {},
   "outputs": [
    {
     "data": {
      "text/html": [
       "<table border=\"1\" class=\"dataframe table table-striped\">\n",
       "  <thead>\n",
       "    <tr style=\"text-align: right;\">\n",
       "      <th></th>\n",
       "      <th>thumbnail</th>\n",
       "      <th>name</th>\n",
       "      <th>rating_mean_review</th>\n",
       "      <th>rating_mean_comments</th>\n",
       "      <th>fixed_rating</th>\n",
       "      <th>rank</th>\n",
       "      <th>yearpublished</th>\n",
       "    </tr>\n",
       "  </thead>\n",
       "  <tbody>\n",
       "    <tr>\n",
       "      <th>1</th>\n",
       "      <td><img src=\"https://cf.geekdo-images.com/bwABghR3MhsmGJqyh42WXQ__thumb/img/is-GKWwws4rDrIe-B9fbuM_oBYA=/fit-in/200x150/filters:strip_icc()/pic6235824.png\" width=\"124\" /></td>\n",
       "      <td><a href=\"https://boardgamegeek.com/boardgame/340909\">Gloomholdin'</a></td>\n",
       "      <td>9.500000</td>\n",
       "      <td>8.178806</td>\n",
       "      <td>9.059602</td>\n",
       "      <td>30</td>\n",
       "      <td>2021</td>\n",
       "    </tr>\n",
       "    <tr>\n",
       "      <th>2</th>\n",
       "      <td><img src=\"https://cf.geekdo-images.com/nhWSmNJSTBAye6bxLa9x-Q__thumb/img/B4r1iyRl2Z2CcMrtBRQOKYwwngw=/fit-in/200x150/filters:strip_icc()/pic4779069.jpg\" width=\"124\" /></td>\n",
       "      <td><a href=\"https://boardgamegeek.com/boardgame/268012\">Chronicles of Drunagor: Age of Darkness</a></td>\n",
       "      <td>9.010495</td>\n",
       "      <td>8.919979</td>\n",
       "      <td>9.002340</td>\n",
       "      <td>32</td>\n",
       "      <td>2021</td>\n",
       "    </tr>\n",
       "    <tr>\n",
       "      <th>3</th>\n",
       "      <td><img src=\"https://cf.geekdo-images.com/i8Fb6krnpJsScTzb0NKDmA__thumb/img/J_da96bAh6tjYBwK1zXy5prIDdQ=/fit-in/200x150/filters:strip_icc()/pic6205128.jpg\" width=\"124\" /></td>\n",
       "      <td><a href=\"https://boardgamegeek.com/boardgame/331317\">Coalitions</a></td>\n",
       "      <td>9.000000</td>\n",
       "      <td>9.942127</td>\n",
       "      <td>9.471063</td>\n",
       "      <td>22</td>\n",
       "      <td>2022</td>\n",
       "    </tr>\n",
       "    <tr>\n",
       "      <th>4</th>\n",
       "      <td><img src=\"https://cf.geekdo-images.com/ImPgGag98W6gpV1KV812aA__thumb/img/X-lBBdG4uO6LT0y1vXxCN4jdR4M=/fit-in/200x150/filters:strip_icc()/pic1215633.jpg\" width=\"124\" /></td>\n",
       "      <td><a href=\"https://boardgamegeek.com/boardgame/115746\">War of the Ring: Second Edition</a></td>\n",
       "      <td>8.729974</td>\n",
       "      <td>8.296968</td>\n",
       "      <td>8.676441</td>\n",
       "      <td>41</td>\n",
       "      <td>2012</td>\n",
       "    </tr>\n",
       "    <tr>\n",
       "      <th>5</th>\n",
       "      <td><img src=\"https://cf.geekdo-images.com/Oh3kHw6lweg6ru71Q16h2Q__thumb/img/e9XZdQe1ZcPpaq4Gy31OoWBB_V0=/fit-in/200x150/filters:strip_icc()/pic5235277.jpg\" width=\"124\" /></td>\n",
       "      <td><a href=\"https://boardgamegeek.com/boardgame/246900\">Eclipse: Second Dawn for the Galaxy</a></td>\n",
       "      <td>8.706171</td>\n",
       "      <td>8.217306</td>\n",
       "      <td>8.631435</td>\n",
       "      <td>33</td>\n",
       "      <td>2020</td>\n",
       "    </tr>\n",
       "  </tbody>\n",
       "</table>"
      ],
      "text/plain": [
       "<IPython.core.display.HTML object>"
      ]
     },
     "execution_count": 47,
     "metadata": {},
     "output_type": "execute_result"
    }
   ],
   "source": [
    "# TOP N REVIEW RANK\n",
    "display_topn(by='rating_mean_review', n=TOP_N, ascending=False)"
   ]
  },
  {
   "cell_type": "code",
   "execution_count": 48,
   "metadata": {},
   "outputs": [
    {
     "data": {
      "text/html": [
       "<table border=\"1\" class=\"dataframe table table-striped\">\n",
       "  <thead>\n",
       "    <tr style=\"text-align: right;\">\n",
       "      <th></th>\n",
       "      <th>thumbnail</th>\n",
       "      <th>name</th>\n",
       "      <th>rating_mean_review</th>\n",
       "      <th>rating_mean_comments</th>\n",
       "      <th>fixed_rating</th>\n",
       "      <th>rank</th>\n",
       "      <th>yearpublished</th>\n",
       "    </tr>\n",
       "  </thead>\n",
       "  <tbody>\n",
       "    <tr>\n",
       "      <th>1</th>\n",
       "      <td><img src=\"https://cf.geekdo-images.com/i8Fb6krnpJsScTzb0NKDmA__thumb/img/J_da96bAh6tjYBwK1zXy5prIDdQ=/fit-in/200x150/filters:strip_icc()/pic6205128.jpg\" width=\"124\" /></td>\n",
       "      <td><a href=\"https://boardgamegeek.com/boardgame/331317\">Coalitions</a></td>\n",
       "      <td>9.000000</td>\n",
       "      <td>9.942127</td>\n",
       "      <td>9.471063</td>\n",
       "      <td>22</td>\n",
       "      <td>2022</td>\n",
       "    </tr>\n",
       "    <tr>\n",
       "      <th>2</th>\n",
       "      <td><img src=\"https://cf.geekdo-images.com/bwABghR3MhsmGJqyh42WXQ__thumb/img/is-GKWwws4rDrIe-B9fbuM_oBYA=/fit-in/200x150/filters:strip_icc()/pic6235824.png\" width=\"124\" /></td>\n",
       "      <td><a href=\"https://boardgamegeek.com/boardgame/340909\">Gloomholdin'</a></td>\n",
       "      <td>9.500000</td>\n",
       "      <td>8.178806</td>\n",
       "      <td>9.059602</td>\n",
       "      <td>30</td>\n",
       "      <td>2021</td>\n",
       "    </tr>\n",
       "    <tr>\n",
       "      <th>3</th>\n",
       "      <td><img src=\"https://cf.geekdo-images.com/nhWSmNJSTBAye6bxLa9x-Q__thumb/img/B4r1iyRl2Z2CcMrtBRQOKYwwngw=/fit-in/200x150/filters:strip_icc()/pic4779069.jpg\" width=\"124\" /></td>\n",
       "      <td><a href=\"https://boardgamegeek.com/boardgame/268012\">Chronicles of Drunagor: Age of Darkness</a></td>\n",
       "      <td>9.010495</td>\n",
       "      <td>8.919979</td>\n",
       "      <td>9.002340</td>\n",
       "      <td>32</td>\n",
       "      <td>2021</td>\n",
       "    </tr>\n",
       "    <tr>\n",
       "      <th>4</th>\n",
       "      <td><img src=\"https://cf.geekdo-images.com/ImPgGag98W6gpV1KV812aA__thumb/img/X-lBBdG4uO6LT0y1vXxCN4jdR4M=/fit-in/200x150/filters:strip_icc()/pic1215633.jpg\" width=\"124\" /></td>\n",
       "      <td><a href=\"https://boardgamegeek.com/boardgame/115746\">War of the Ring: Second Edition</a></td>\n",
       "      <td>8.729974</td>\n",
       "      <td>8.296968</td>\n",
       "      <td>8.676441</td>\n",
       "      <td>41</td>\n",
       "      <td>2012</td>\n",
       "    </tr>\n",
       "    <tr>\n",
       "      <th>5</th>\n",
       "      <td><img src=\"https://cf.geekdo-images.com/x3zxjr-Vw5iU4yDPg70Jgw__thumb/img/o18rjEemoWaVru9Y2TyPwuIaRfE=/fit-in/200x150/filters:strip_icc()/pic3490053.jpg\" width=\"124\" /></td>\n",
       "      <td><a href=\"https://boardgamegeek.com/boardgame/224517\">Brass: Birmingham</a></td>\n",
       "      <td>8.675002</td>\n",
       "      <td>8.222929</td>\n",
       "      <td>8.634590</td>\n",
       "      <td>29</td>\n",
       "      <td>2018</td>\n",
       "    </tr>\n",
       "  </tbody>\n",
       "</table>"
      ],
      "text/plain": [
       "<IPython.core.display.HTML object>"
      ]
     },
     "execution_count": 48,
     "metadata": {},
     "output_type": "execute_result"
    }
   ],
   "source": [
    "# TOP N FIXED RANK\n",
    "display_topn(by='fixed_rating', n=TOP_N, ascending=False)"
   ]
  },
  {
   "cell_type": "code",
   "execution_count": 49,
   "metadata": {},
   "outputs": [],
   "source": [
    "# model.save('saved_model\\my_model')"
   ]
  },
  {
   "cell_type": "code",
   "execution_count": 50,
   "metadata": {},
   "outputs": [],
   "source": [
    "# saved_model = tf.keras.models.load_model('saved_model\\my_model')"
   ]
  },
  {
   "cell_type": "code",
   "execution_count": 51,
   "metadata": {},
   "outputs": [],
   "source": [
    "# some examples on \"long\" comments vs short comments"
   ]
  },
  {
   "cell_type": "code",
   "execution_count": 52,
   "metadata": {},
   "outputs": [],
   "source": [
    "not_rated_comments['comment_len'] = not_rated_comments['value'].str.len()\n",
    "some_long_comments = not_rated_comments.query(\"comment_len>100 and comment_len<300\").sample(frac=1).head(25).sort_values('rating')"
   ]
  },
  {
   "cell_type": "code",
   "execution_count": 53,
   "metadata": {},
   "outputs": [
    {
     "name": "stdout",
     "output_type": "stream",
     "text": [
      "\"Don't buy this. Engine building. Too mathematical? Dry (quoting SU&SD). Little player interaction? Bad with two. Too slow with five players. Race for the Galaxy is better as an engine builder.  Has a good solo mode though? Probably too complex for me.\"\n",
      "score: 4.77\n",
      "\n",
      "\"2 jugadores (?). Me interesa saber si mola por si solo o si necesita expansiones. Quiero jugar antes de comprarlo. :star::star::nostar:\"\n",
      "score: 5.12\n",
      "\n",
      "\"Surprise gift for hubby. Received an extra Summoner in place of the Scoundrel, though, and hubby insists on waiting for the replacement mini to arrive, since that's the one I want to be playing.\"\n",
      "score: 6.11\n",
      "\n",
      "\"Also:  Arkham Horror LCG: Blood on the Altar Mythos Pack Arkham Horror LCG: Carnevale of Horrors Arkham Horror LCG: Curse of the Rougarou... Arkham Horror LCG: The Essex County Expr... Arkham Horror LCG: Undimensioned and Unseen Arkham Horror LCG: Where Doom Awaits Mythos Pack \"\n",
      "score: 6.36\n",
      "\n",
      "\"Yet again does this company f*** the backers of KS project - folks that helped fund and publish the game in the first place. Yet again they are treated worse than retail buyers - the ones who did not help the game to become a reality. And it is not the first time for this company.\"\n",
      "score: 6.39\n",
      "\n",
      "\"At its core it is elegant and simple game - but it is surrounded with lot of exceptions and small sub-systems. Need more games to give rating.  Physical components are top-notch, and whole experience is stunningly thematic.\"\n",
      "score: 6.87\n",
      "\n",
      "\"Includes Invaders From Afar expansion and Promo Packs #1-5 Red monument and one red star missing, only plays six players rather than seven.\"\n",
      "score: 6.95\n",
      "\n",
      "\"Supposedly better, good balance and more forgiving than other worker placement games. Plays well various numbers of players.\"\n",
      "score: 7.15\n",
      "\n",
      "\"450k. rules are lengthy and gameplay are long. at least 3 hours of playing and 3 more hours to explain rules to newcomers. not recommend if you don't have a lot of time. \"\n",
      "score: 7.69\n",
      "\n",
      "\"This sounds really interesting and replayable. Best of all, I can play solo when I just want to entertain myself. (One of the reasons I like Tiny Epic Galaxies so much)\"\n",
      "score: 7.79\n",
      "\n",
      "\"King Pledge 1 copy of Time of Legends: Destinies - Core Box including the Sea of Sand expansion and the free Myth and Folklore expansion. Sept 2020\"\n",
      "score: 7.88\n",
      "\n",
      "\"FFG 4x space opera. I doubt I'd ever have a dedicated group of players to play this for 4-8 hours straight. Would like to try though.\"\n",
      "score: 8.17\n",
      "\n",
      "\"Spirit Island seems like a game I might play with my friends for fun. I have not played it so I cannot rate it out of 10.\"\n",
      "score: 8.23\n",
      "\n",
      "\"LI. Some interesting mechanics, points salad with multiple ways to victory. Theme feels completely pasted on. This should have been made with some fction theme, like fantasy/magic probably. PnP redesign? 2nd edition coming in Summer 2021.\"\n",
      "score: 8.50\n",
      "\n",
      "\"'Civ' type game. 4x: \"explore, expand, exploit, and exterminate\".  Play for strategic thinking of how to win over your opponents in political and economical decisions.  Typically played in 2-3hr sessions.\"\n",
      "score: 8.53\n",
      "\n",
      "\"UPDATE: [10.2019] Solo play.  Immersive.  The Rat King dude is hard to beat.  Every time you buy a card, he gets a card and ever card is worth 2 points for him.  Any \"events\" that are not claimed by you are points for him.  \"\n",
      "score: 8.85\n",
      "\n",
      "\"Played 8 Times - This includes a New Removable sticker set, One of the character cards was damaged out of the box. - $67\"\n",
      "score: 8.95\n",
      "\n",
      "\"Premium health chips + heads/tails chip + alt art Gearloc chips [Boomer- fireworks, Picket- Freddie, Patches- Jason, Tantrum- Flower]\"\n",
      "score: 8.99\n",
      "\n",
      "\"+ War of the Ring: Lords of Middle-earth  + War of the Ring: Lords of Middle-earth – Treebeard Mini-Expansion\"\n",
      "score: 9.04\n",
      "\n",
      "\"In addition to the extra three characters, I also have the premium health tokens, dice tray and map. I also now have the component updates and stitched mats that were part of the Undertow expansion campaign on KS. And I now have the Trove Chest, designed to fit snugly into a Kallax section.\"\n",
      "score: 9.10\n",
      "\n",
      "\"1st play Scythe 2/16/20 We both liked it and looking forward to future plays now that we kinda know how to play. C D 63 59\"\n",
      "score: 9.36\n",
      "\n",
      "\"Sleeved: Swan Panasia Thin 44mm x 68mm - Paladin Percival 63.5mm x 89mm - Paladin Morgana 101.5mm x 153mm Cards: (15) 44mm x 67mm - (251) 63mm x 88mm - (15) 102.5mm x 153mm  Including Branch & Claw expansion and Promo Packs 1 & 2. \"\n",
      "score: 10.00\n",
      "\n",
      "\"+Cobble & Fog +Robin Hood vs. Bigfoot +Jurassic Park – InGen vs Raptors +Little Red Riding Hood vs. Beowulf Punched and CC +Bruce Lee\"\n",
      "score: 10.00\n",
      "\n",
      "\"Cull candidate:   Need to try to see if mechanics can compensate for alienating nerdy theme which I hate.\"\n",
      "score: 10.00\n",
      "\n",
      "\"Pre-ordered with Steampunk Rally: Fusion kickstarter  Original delivery date: Sept 2020 Expected mid March 2021 Arrived Feb 25 2021\"\n",
      "score: 10.00\n",
      "\n"
     ]
    }
   ],
   "source": [
    "some_long_comments.apply(lambda c: print(f\"\\\"{c['value']}\\\"\\nscore: {c['rating']:.2f}\\n\"), axis=1);"
   ]
  },
  {
   "cell_type": "markdown",
   "metadata": {},
   "source": [
    "## RANDOM FOREST - TEST"
   ]
  },
  {
   "cell_type": "code",
   "execution_count": 54,
   "metadata": {},
   "outputs": [],
   "source": [
    "# no support for Windows at the moment - waiting for it to test"
   ]
  },
  {
   "cell_type": "code",
   "execution_count": null,
   "metadata": {},
   "outputs": [],
   "source": []
  }
 ],
 "metadata": {
  "kernelspec": {
   "display_name": "tensorflow2",
   "language": "python",
   "name": "tensorflow2"
  },
  "language_info": {
   "codemirror_mode": {
    "name": "ipython",
    "version": 3
   },
   "file_extension": ".py",
   "mimetype": "text/x-python",
   "name": "python",
   "nbconvert_exporter": "python",
   "pygments_lexer": "ipython3",
   "version": "3.8.8"
  }
 },
 "nbformat": 4,
 "nbformat_minor": 4
}
