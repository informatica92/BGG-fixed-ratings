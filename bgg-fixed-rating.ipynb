{
 "cells": [
  {
   "cell_type": "code",
   "execution_count": 1,
   "metadata": {},
   "outputs": [],
   "source": [
    "# ## BGG API\n",
    "# https://www.boardgamegeek.com/xmlapi2/thing?id=161599&comments=1\n",
    "# https://www.boardgamegeek.com/xmlapi2/hot?type=boardgame\n",
    "# ## NLP WITH TF\n",
    "# https://www.tensorflow.org/hub/tutorials/tf2_text_classification"
   ]
  },
  {
   "cell_type": "code",
   "execution_count": 2,
   "metadata": {},
   "outputs": [
    {
     "name": "stdout",
     "output_type": "stream",
     "text": [
      "Version:      2.5.0\n",
      "Eager mode:   True\n",
      "Hub version:  0.12.0\n",
      "GPU:          available\n"
     ]
    }
   ],
   "source": [
    "import tensorflow as tf\n",
    "import tensorflow_hub as hub\n",
    "from tensorflow.keras.wrappers.scikit_learn import KerasRegressor, KerasClassifier\n",
    "from sklearn.model_selection import GridSearchCV\n",
    "\n",
    "from IPython.display import HTML\n",
    "from datetime import datetime\n",
    "import matplotlib.pyplot as plt\n",
    "import pandas as pd\n",
    "import numpy as np\n",
    "import re\n",
    "\n",
    "from utilities import get_hot_data, get_comments, remove_short_comments, build_model, print_my_examples\n",
    "\n",
    "print(\"Version:     \", tf.__version__)\n",
    "print(\"Eager mode:  \", tf.executing_eagerly())\n",
    "print(\"Hub version: \", hub.__version__)\n",
    "print(\"GPU:         \", \"available\" if tf.config.list_physical_devices('GPU') else \"NOT available\")\n",
    "\n",
    "tf.get_logger().setLevel('ERROR')"
   ]
  },
  {
   "cell_type": "code",
   "execution_count": 3,
   "metadata": {},
   "outputs": [],
   "source": [
    "# tf.debugging.set_log_device_placement(True)"
   ]
  },
  {
   "cell_type": "code",
   "execution_count": 4,
   "metadata": {},
   "outputs": [],
   "source": [
    "GOOD_REVIEW_THRESHOLD = 7"
   ]
  },
  {
   "cell_type": "code",
   "execution_count": 5,
   "metadata": {},
   "outputs": [],
   "source": [
    "VAL_FRACTION = 0.25"
   ]
  },
  {
   "cell_type": "code",
   "execution_count": 6,
   "metadata": {},
   "outputs": [],
   "source": [
    "MIN_COMMENT_LEN = 25"
   ]
  },
  {
   "cell_type": "code",
   "execution_count": 7,
   "metadata": {},
   "outputs": [],
   "source": [
    "TOP_N = 5"
   ]
  },
  {
   "cell_type": "code",
   "execution_count": 8,
   "metadata": {},
   "outputs": [],
   "source": [
    "# \"https://tfhub.dev/google/tf2-preview/nnlm-en-dim128/1\"\n",
    "# \"https://tfhub.dev/google/tf2-preview/nnlm-en-dim128-with-normalization/1\"\n",
    "# we also tested these solutions with dimension equals to 128 but accuracy \n",
    "# is a bit lower (0.85 for 128 vs 0.86 for 50) and training sometimes stops \n",
    "# unexpectedly for memory limit\n",
    "#\n",
    "# \"https://tfhub.dev/google/tf2-preview/nnlm-en-dim50/1\"\n",
    "# \"https://tfhub.dev/google/tf2-preview/nnlm-en-dim50-with-normalization/1\"\n",
    "# there is no difference between normalization and not so we use the one \n",
    "# without normalization\n",
    "MODEL_NAME = \"https://tfhub.dev/google/tf2-preview/nnlm-en-dim50/1\""
   ]
  },
  {
   "cell_type": "markdown",
   "metadata": {},
   "source": [
    "## GET DATA"
   ]
  },
  {
   "cell_type": "code",
   "execution_count": 9,
   "metadata": {},
   "outputs": [
    {
     "data": {
      "text/plain": [
       "[{'id': '331106',\n",
       "  'rank': '1',\n",
       "  'thumbnail': 'https://cf.geekdo-images.com/tQVVSXcmYLvAoI28cp-2Tg__thumb/img/ahKWaUSws5zja4feB4VexkNV3Mc=/fit-in/200x150/filters:strip_icc()/pic5974859.jpg',\n",
       "  'name': 'The Witcher: Old World',\n",
       "  'yearpublished': '2022'},\n",
       " {'id': '312484',\n",
       "  'rank': '2',\n",
       "  'thumbnail': 'https://cf.geekdo-images.com/6GqH14TJJhza86BX5HCLEQ__thumb/img/J8SVmGOJXZGxNjkT3xYNQU7Haxg=/fit-in/200x150/filters:strip_icc()/pic5674958.jpg',\n",
       "  'name': 'Lost Ruins of Arnak',\n",
       "  'yearpublished': '2020'}]"
      ]
     },
     "execution_count": 9,
     "metadata": {},
     "output_type": "execute_result"
    }
   ],
   "source": [
    "hot_array = get_hot_data()\n",
    "hot_array[:2]"
   ]
  },
  {
   "cell_type": "code",
   "execution_count": 10,
   "metadata": {},
   "outputs": [
    {
     "name": "stdout",
     "output_type": "stream",
     "text": [
      "missing csv file, getting new data using API...\n",
      "page number = 10 (max: 100, len: 28)\n",
      "page number = 20 (max: 100, len: 18)\n",
      "page number = 30 (max: 100, len: 13)\n",
      "page number = 40 (max: 100, len: 10)\n",
      "page number = 50 (max: 100, len: 5)\n",
      "page number = 60 (max: 100, len: 5)\n",
      "page number = 70 (max: 100, len: 4)\n",
      "page number = 80 (max: 100, len: 4)\n",
      "page number = 90 (max: 100, len: 2)\n",
      "page number = 100 (max: 0, len: 1)\n",
      "comments_df shape: (105522, 4)\n"
     ]
    },
    {
     "data": {
      "text/html": [
       "<div>\n",
       "<style scoped>\n",
       "    .dataframe tbody tr th:only-of-type {\n",
       "        vertical-align: middle;\n",
       "    }\n",
       "\n",
       "    .dataframe tbody tr th {\n",
       "        vertical-align: top;\n",
       "    }\n",
       "\n",
       "    .dataframe thead th {\n",
       "        text-align: right;\n",
       "    }\n",
       "</style>\n",
       "<table border=\"1\" class=\"dataframe\">\n",
       "  <thead>\n",
       "    <tr style=\"text-align: right;\">\n",
       "      <th></th>\n",
       "      <th>id</th>\n",
       "      <th>username</th>\n",
       "      <th>rating</th>\n",
       "      <th>value</th>\n",
       "    </tr>\n",
       "  </thead>\n",
       "  <tbody>\n",
       "    <tr>\n",
       "      <th>0</th>\n",
       "      <td>331106</td>\n",
       "      <td>aggers</td>\n",
       "      <td>N/A</td>\n",
       "      <td>Kickstarter</td>\n",
       "    </tr>\n",
       "    <tr>\n",
       "      <th>1</th>\n",
       "      <td>331106</td>\n",
       "      <td>Allethar</td>\n",
       "      <td>N/A</td>\n",
       "      <td>I played twice during testing phase - the vani...</td>\n",
       "    </tr>\n",
       "    <tr>\n",
       "      <th>2</th>\n",
       "      <td>331106</td>\n",
       "      <td>Angela_fba</td>\n",
       "      <td>N/A</td>\n",
       "      <td>Ks 2021 -&gt; Jun 2022</td>\n",
       "    </tr>\n",
       "    <tr>\n",
       "      <th>3</th>\n",
       "      <td>331106</td>\n",
       "      <td>arnaud4matagot</td>\n",
       "      <td>9</td>\n",
       "      <td>tested online</td>\n",
       "    </tr>\n",
       "    <tr>\n",
       "      <th>4</th>\n",
       "      <td>331106</td>\n",
       "      <td>arsaghar</td>\n",
       "      <td>3</td>\n",
       "      <td>The game, apart from really nice figures and g...</td>\n",
       "    </tr>\n",
       "    <tr>\n",
       "      <th>...</th>\n",
       "      <td>...</td>\n",
       "      <td>...</td>\n",
       "      <td>...</td>\n",
       "      <td>...</td>\n",
       "    </tr>\n",
       "    <tr>\n",
       "      <th>105517</th>\n",
       "      <td>167791</td>\n",
       "      <td>z_zadar</td>\n",
       "      <td>9</td>\n",
       "      <td>Some games are so much fun. Others can be a li...</td>\n",
       "    </tr>\n",
       "    <tr>\n",
       "      <th>105518</th>\n",
       "      <td>167791</td>\n",
       "      <td>_Czid_</td>\n",
       "      <td>8</td>\n",
       "      <td>Have played with Elysium and Prelude expansion...</td>\n",
       "    </tr>\n",
       "    <tr>\n",
       "      <th>105519</th>\n",
       "      <td>167791</td>\n",
       "      <td>_Marty_</td>\n",
       "      <td>9.5</td>\n",
       "      <td>Fantastic game. With so many cards that can ch...</td>\n",
       "    </tr>\n",
       "    <tr>\n",
       "      <th>105520</th>\n",
       "      <td>167791</td>\n",
       "      <td>_mun_</td>\n",
       "      <td>10</td>\n",
       "      <td>Nagyon izgalmas játék, jó a mechanizmusa. A sz...</td>\n",
       "    </tr>\n",
       "    <tr>\n",
       "      <th>105521</th>\n",
       "      <td>167791</td>\n",
       "      <td>_The_Inquiry_</td>\n",
       "      <td>5</td>\n",
       "      <td>Prior to 2020: 2 plays  TM is one of those gam...</td>\n",
       "    </tr>\n",
       "  </tbody>\n",
       "</table>\n",
       "<p>105522 rows × 4 columns</p>\n",
       "</div>"
      ],
      "text/plain": [
       "            id        username rating  \\\n",
       "0       331106          aggers    N/A   \n",
       "1       331106        Allethar    N/A   \n",
       "2       331106      Angela_fba    N/A   \n",
       "3       331106  arnaud4matagot      9   \n",
       "4       331106        arsaghar      3   \n",
       "...        ...             ...    ...   \n",
       "105517  167791         z_zadar      9   \n",
       "105518  167791          _Czid_      8   \n",
       "105519  167791         _Marty_    9.5   \n",
       "105520  167791           _mun_     10   \n",
       "105521  167791   _The_Inquiry_      5   \n",
       "\n",
       "                                                    value  \n",
       "0                                             Kickstarter  \n",
       "1       I played twice during testing phase - the vani...  \n",
       "2                                     Ks 2021 -> Jun 2022  \n",
       "3                                           tested online  \n",
       "4       The game, apart from really nice figures and g...  \n",
       "...                                                   ...  \n",
       "105517  Some games are so much fun. Others can be a li...  \n",
       "105518  Have played with Elysium and Prelude expansion...  \n",
       "105519  Fantastic game. With so many cards that can ch...  \n",
       "105520  Nagyon izgalmas játék, jó a mechanizmusa. A sz...  \n",
       "105521  Prior to 2020: 2 plays  TM is one of those gam...  \n",
       "\n",
       "[105522 rows x 4 columns]"
      ]
     },
     "execution_count": 10,
     "metadata": {},
     "output_type": "execute_result"
    }
   ],
   "source": [
    "try:\n",
    "    comments_df = pd.read_csv(f\"comments_{datetime.now().strftime('%Y%m%d')}.csv\")\n",
    "    comments_df['rating'] = comments_df.rating.fillna('N/A')\n",
    "    print(\"reading dataframe from csv file...\")\n",
    "except:\n",
    "    print(\"missing csv file, getting new data using API...\")\n",
    "    comments_df = get_comments(hot_array, verbose=10)\n",
    "    comments_df.to_csv(f\"comments_{datetime.now().strftime('%Y%m%d')}.csv\", index=False)\n",
    "comments_df"
   ]
  },
  {
   "cell_type": "markdown",
   "metadata": {},
   "source": [
    "## DATA CLEANING"
   ]
  },
  {
   "cell_type": "code",
   "execution_count": 11,
   "metadata": {},
   "outputs": [],
   "source": [
    "# probably we should keep all the ratings (no matters the len) and remove only the simple comments under a certain len  \n",
    "comments_df[\"value\"] = comments_df[\"value\"].astype(str)"
   ]
  },
  {
   "cell_type": "code",
   "execution_count": 12,
   "metadata": {},
   "outputs": [
    {
     "name": "stdout",
     "output_type": "stream",
     "text": [
      "removed 17460 for 'remove_short_comments' - min len: 25 - method: unrated\n"
     ]
    }
   ],
   "source": [
    "# REMOVE URLs FROM COMMENTS\n",
    "comments_df['value'] = [re.sub(r\"http\\S+\", \"\", v) for v in comments_df.value.values]\n",
    "comments_df = remove_short_comments(comments_df, MIN_COMMENT_LEN)"
   ]
  },
  {
   "cell_type": "code",
   "execution_count": 13,
   "metadata": {},
   "outputs": [],
   "source": [
    "# REMOVE NON ENGLISH COMMENTS\n",
    "# !conda install -c conda-forge langdetect\n",
    "# def add_comments_lang(df: pd.DataFrame):\n",
    "#     df_local = df.copy()\n",
    "#     df_local['lang'] = df['value'].apply(detect)\n",
    "#     return df_local.reset_index(drop=True)\n",
    "# comments_df = add_comments_lang(comments_df)\n",
    "# comments_df = comments_df.query('lang == \"en\"')"
   ]
  },
  {
   "cell_type": "markdown",
   "metadata": {},
   "source": [
    "## SPLIT RATED AND NON-RATED COMMENTS"
   ]
  },
  {
   "cell_type": "code",
   "execution_count": 14,
   "metadata": {},
   "outputs": [
    {
     "data": {
      "text/plain": [
       "9          16608\n",
       "10         16320\n",
       "8          14693\n",
       "7           7851\n",
       "N/A         7246\n",
       "           ...  \n",
       "8.357          1\n",
       "9.44635        1\n",
       "7.72667        1\n",
       "8.0974         1\n",
       "9.33333        1\n",
       "Name: rating, Length: 560, dtype: int64"
      ]
     },
     "execution_count": 14,
     "metadata": {},
     "output_type": "execute_result"
    }
   ],
   "source": [
    "# count number of comments per rating (N/A included)\n",
    "comments_df.rating.value_counts()"
   ]
  },
  {
   "cell_type": "code",
   "execution_count": 15,
   "metadata": {},
   "outputs": [
    {
     "data": {
      "text/plain": [
       "(80816, 5)"
      ]
     },
     "execution_count": 15,
     "metadata": {},
     "output_type": "execute_result"
    }
   ],
   "source": [
    "# get rated comments only\n",
    "rated_comments = comments_df.query('rating != \"N/A\"')\n",
    "rated_comments.shape"
   ]
  },
  {
   "cell_type": "code",
   "execution_count": 16,
   "metadata": {},
   "outputs": [
    {
     "data": {
      "text/plain": [
       "(7246, 5)"
      ]
     },
     "execution_count": 16,
     "metadata": {},
     "output_type": "execute_result"
    }
   ],
   "source": [
    "# get non rated comments only\n",
    "not_rated_comments = comments_df.query('rating == \"N/A\"').reset_index(drop=True)\n",
    "not_rated_comments.shape"
   ]
  },
  {
   "cell_type": "markdown",
   "metadata": {},
   "source": [
    "## CREATE TRAINING AND VALIDATION DATA"
   ]
  },
  {
   "cell_type": "code",
   "execution_count": 17,
   "metadata": {},
   "outputs": [],
   "source": [
    "# use rated comments (reviews) to train the model"
   ]
  },
  {
   "cell_type": "code",
   "execution_count": 18,
   "metadata": {},
   "outputs": [],
   "source": [
    "rated_comments = rated_comments.sample(frac=1)"
   ]
  },
  {
   "cell_type": "code",
   "execution_count": 19,
   "metadata": {},
   "outputs": [],
   "source": [
    "# create training X and y\n",
    "train_examples = list(rated_comments.value)\n",
    "train_labels = list((rated_comments.rating.astype(float)>=GOOD_REVIEW_THRESHOLD).astype(int))"
   ]
  },
  {
   "cell_type": "code",
   "execution_count": 20,
   "metadata": {},
   "outputs": [
    {
     "name": "stdout",
     "output_type": "stream",
     "text": [
      "example of positive rating:\n"
     ]
    },
    {
     "data": {
      "text/plain": [
       "'Juego de bazas cooperativo. Con una mecánica que puede recordar a los juegos de baraja españoles típicos, como el tute, el arrastrado, guiñote etc ... consigue un puntito diferente al ser cooperativo. Al inicio de cada misión se reparte toda la baraja y se establecen unos criterios a cumplir, normalmente consistirá en que determinadas personas se tienen que llevar una o varias bazas con determinadas cartas, pero puede venir aderezado con un orden absoluto, o relativo entre bazas o varias consideraciones más que van aumentando la dificultad del reto. Entre los jugadores no se pueden dar indicaciones libremente de qué cartas tienen o qué cartas quieren que se jueguen por lo que acaba siendo un puzzle a resolver entre todos bastante entretenido Con la posibilidad jugar a dos (aunque lo suyo es ser más), yo lo juego con mi hijo pequeño de 6 años siendo un reto muy estimulante para el. Es un ejercicio bastante interesante para el ya que le dejo \"tomar las decisiones\" que llevan a resolver el puzzle'"
      ]
     },
     "execution_count": 20,
     "metadata": {},
     "output_type": "execute_result"
    }
   ],
   "source": [
    "print(\"example of positive rating:\")\n",
    "train_examples[train_labels.index(1)]"
   ]
  },
  {
   "cell_type": "code",
   "execution_count": 21,
   "metadata": {},
   "outputs": [
    {
     "name": "stdout",
     "output_type": "stream",
     "text": [
      "example of negative rating:\n"
     ]
    },
    {
     "data": {
      "text/plain": [
       "'Player M'"
      ]
     },
     "execution_count": 21,
     "metadata": {},
     "output_type": "execute_result"
    }
   ],
   "source": [
    "print(\"example of negative rating:\")\n",
    "train_examples[train_labels.index(0)]"
   ]
  },
  {
   "cell_type": "markdown",
   "metadata": {},
   "source": [
    "## COMPOSE MODEL"
   ]
  },
  {
   "cell_type": "code",
   "execution_count": 22,
   "metadata": {},
   "outputs": [],
   "source": [
    "hub_layer = hub.KerasLayer(MODEL_NAME, input_shape=[], dtype=tf.string, trainable=True)"
   ]
  },
  {
   "cell_type": "markdown",
   "metadata": {},
   "source": [
    "## CLASSIFIER"
   ]
  },
  {
   "cell_type": "code",
   "execution_count": 23,
   "metadata": {},
   "outputs": [
    {
     "name": "stdout",
     "output_type": "stream",
     "text": [
      "Epoch 1/100\n",
      "40/40 - 4s - loss: 0.5820 - accuracy: 0.7892 - val_loss: 0.4988 - val_accuracy: 0.8552\n",
      "Epoch 2/100\n",
      "40/40 - 2s - loss: 0.4533 - accuracy: 0.8583 - val_loss: 0.4261 - val_accuracy: 0.8566\n",
      "Epoch 3/100\n",
      "40/40 - 2s - loss: 0.3786 - accuracy: 0.8593 - val_loss: 0.3681 - val_accuracy: 0.8572\n",
      "Epoch 4/100\n",
      "40/40 - 2s - loss: 0.3216 - accuracy: 0.8626 - val_loss: 0.3362 - val_accuracy: 0.8645\n",
      "Epoch 5/100\n",
      "40/40 - 2s - loss: 0.2828 - accuracy: 0.8849 - val_loss: 0.3208 - val_accuracy: 0.8739\n",
      "Epoch 6/100\n",
      "40/40 - 2s - loss: 0.2523 - accuracy: 0.9007 - val_loss: 0.3153 - val_accuracy: 0.8754\n",
      "Epoch 7/100\n",
      "40/40 - 2s - loss: 0.2259 - accuracy: 0.9111 - val_loss: 0.3188 - val_accuracy: 0.8739\n",
      "Epoch 8/100\n",
      "40/40 - 2s - loss: 0.2042 - accuracy: 0.9208 - val_loss: 0.3208 - val_accuracy: 0.8725\n",
      "Epoch 9/100\n",
      "40/40 - 2s - loss: 0.1852 - accuracy: 0.9298 - val_loss: 0.3342 - val_accuracy: 0.8699\n",
      "Epoch 10/100\n",
      "40/40 - 2s - loss: 0.1690 - accuracy: 0.9379 - val_loss: 0.3464 - val_accuracy: 0.8683\n",
      "Epoch 11/100\n",
      "40/40 - 2s - loss: 0.1551 - accuracy: 0.9443 - val_loss: 0.3620 - val_accuracy: 0.8664\n",
      "27/27 - 0s - loss: 0.3547 - accuracy: 0.8710\n",
      "Epoch 1/100\n",
      "40/40 - 3s - loss: 0.6000 - accuracy: 0.7201 - val_loss: 0.5300 - val_accuracy: 0.8415\n",
      "Epoch 2/100\n",
      "40/40 - 2s - loss: 0.4858 - accuracy: 0.8535 - val_loss: 0.4582 - val_accuracy: 0.8556\n",
      "Epoch 3/100\n",
      "40/40 - 2s - loss: 0.4091 - accuracy: 0.8596 - val_loss: 0.3863 - val_accuracy: 0.8593\n",
      "Epoch 4/100\n",
      "40/40 - 2s - loss: 0.3372 - accuracy: 0.8735 - val_loss: 0.3385 - val_accuracy: 0.8713\n",
      "Epoch 5/100\n",
      "40/40 - 2s - loss: 0.2882 - accuracy: 0.8907 - val_loss: 0.3215 - val_accuracy: 0.8768\n",
      "Epoch 6/100\n",
      "40/40 - 2s - loss: 0.2562 - accuracy: 0.9030 - val_loss: 0.3154 - val_accuracy: 0.8780\n",
      "Epoch 7/100\n",
      "40/40 - 2s - loss: 0.2310 - accuracy: 0.9132 - val_loss: 0.3137 - val_accuracy: 0.8786\n",
      "Epoch 8/100\n",
      "40/40 - 2s - loss: 0.2098 - accuracy: 0.9213 - val_loss: 0.3205 - val_accuracy: 0.8771\n",
      "Epoch 9/100\n",
      "40/40 - 2s - loss: 0.1912 - accuracy: 0.9287 - val_loss: 0.3298 - val_accuracy: 0.8754\n",
      "Epoch 10/100\n",
      "40/40 - 2s - loss: 0.1749 - accuracy: 0.9364 - val_loss: 0.3388 - val_accuracy: 0.8718\n",
      "Epoch 11/100\n",
      "40/40 - 2s - loss: 0.1609 - accuracy: 0.9427 - val_loss: 0.3532 - val_accuracy: 0.8682\n",
      "27/27 - 0s - loss: 0.3433 - accuracy: 0.8713\n",
      "Epoch 1/100\n",
      "40/40 - 3s - loss: 0.5173 - accuracy: 0.8355 - val_loss: 0.4500 - val_accuracy: 0.8567\n",
      "Epoch 2/100\n",
      "40/40 - 2s - loss: 0.4069 - accuracy: 0.8585 - val_loss: 0.3742 - val_accuracy: 0.8620\n",
      "Epoch 3/100\n",
      "40/40 - 2s - loss: 0.3338 - accuracy: 0.8725 - val_loss: 0.3302 - val_accuracy: 0.8742\n",
      "Epoch 4/100\n",
      "40/40 - 2s - loss: 0.2860 - accuracy: 0.8894 - val_loss: 0.3104 - val_accuracy: 0.8788\n",
      "Epoch 5/100\n",
      "40/40 - 2s - loss: 0.2518 - accuracy: 0.9031 - val_loss: 0.3035 - val_accuracy: 0.8813\n",
      "Epoch 6/100\n",
      "40/40 - 2s - loss: 0.2241 - accuracy: 0.9147 - val_loss: 0.3044 - val_accuracy: 0.8800\n",
      "Epoch 7/100\n",
      "40/40 - 2s - loss: 0.2013 - accuracy: 0.9241 - val_loss: 0.3102 - val_accuracy: 0.8779\n",
      "Epoch 8/100\n",
      "40/40 - 2s - loss: 0.1822 - accuracy: 0.9327 - val_loss: 0.3208 - val_accuracy: 0.8747\n",
      "Epoch 9/100\n",
      "40/40 - 2s - loss: 0.1655 - accuracy: 0.9391 - val_loss: 0.3352 - val_accuracy: 0.8728\n",
      "Epoch 10/100\n",
      "40/40 - 2s - loss: 0.1510 - accuracy: 0.9458 - val_loss: 0.3506 - val_accuracy: 0.8700\n",
      "27/27 - 0s - loss: 0.3566 - accuracy: 0.8678\n",
      "Epoch 1/100\n",
      "60/60 - 4s - loss: 0.5066 - accuracy: 0.8484 - val_loss: 0.4243 - val_accuracy: 0.8562\n",
      "Epoch 2/100\n",
      "60/60 - 3s - loss: 0.3687 - accuracy: 0.8587 - val_loss: 0.3418 - val_accuracy: 0.8593\n",
      "Epoch 3/100\n",
      "60/60 - 3s - loss: 0.3036 - accuracy: 0.8740 - val_loss: 0.3135 - val_accuracy: 0.8776\n",
      "Epoch 4/100\n",
      "60/60 - 3s - loss: 0.2670 - accuracy: 0.8934 - val_loss: 0.3031 - val_accuracy: 0.8834\n",
      "Epoch 5/100\n",
      "60/60 - 3s - loss: 0.2390 - accuracy: 0.9046 - val_loss: 0.3013 - val_accuracy: 0.8840\n",
      "Epoch 6/100\n",
      "60/60 - 3s - loss: 0.2173 - accuracy: 0.9134 - val_loss: 0.3089 - val_accuracy: 0.8829\n",
      "Epoch 7/100\n",
      "60/60 - 3s - loss: 0.1995 - accuracy: 0.9217 - val_loss: 0.3157 - val_accuracy: 0.8792\n",
      "Epoch 8/100\n",
      "60/60 - 3s - loss: 0.1851 - accuracy: 0.9283 - val_loss: 0.3283 - val_accuracy: 0.8759\n",
      "Epoch 9/100\n",
      "60/60 - 3s - loss: 0.1721 - accuracy: 0.9347 - val_loss: 0.3407 - val_accuracy: 0.8714\n"
     ]
    },
    {
     "data": {
      "text/plain": [
       "GridSearchCV(cv=3,\n",
       "             estimator=<tensorflow.python.keras.wrappers.scikit_learn.KerasClassifier object at 0x000002B20758E940>,\n",
       "             param_grid={})"
      ]
     },
     "execution_count": 23,
     "metadata": {},
     "output_type": "execute_result"
    }
   ],
   "source": [
    "def build_classifier():\n",
    "    return build_model(hub_layer=None, pre_trained_model_name=MODEL_NAME, model_type='classifier', verbose=0)\n",
    "\n",
    "\n",
    "estimator = KerasClassifier(build_fn=build_classifier, epochs=100, batch_size=1024, verbose=2, validation_split=VAL_FRACTION)\n",
    "x_train_clf = np.array(list(rated_comments.value))\n",
    "y_train_clf = np.array(list((rated_comments.rating.astype(float)>=GOOD_REVIEW_THRESHOLD).astype(int)))\n",
    "\n",
    "clf = GridSearchCV(\n",
    "    estimator, \n",
    "    cv=3, \n",
    "    param_grid={}\n",
    ")\n",
    "clf.fit(x_train_clf, y_train_clf, callbacks=[tf.keras.callbacks.EarlyStopping(monitor='val_accuracy', patience=5, min_delta=0.001)])"
   ]
  },
  {
   "cell_type": "code",
   "execution_count": 24,
   "metadata": {},
   "outputs": [],
   "source": [
    "classifier = clf.best_estimator_\n",
    "classifier_history_dict = classifier.model.history.history"
   ]
  },
  {
   "cell_type": "code",
   "execution_count": 25,
   "metadata": {},
   "outputs": [
    {
     "data": {
      "text/plain": [
       "dict_keys(['loss', 'accuracy', 'val_loss', 'val_accuracy'])"
      ]
     },
     "execution_count": 25,
     "metadata": {},
     "output_type": "execute_result"
    }
   ],
   "source": [
    "classifier_history_dict.keys()"
   ]
  },
  {
   "cell_type": "code",
   "execution_count": 26,
   "metadata": {},
   "outputs": [],
   "source": [
    "acc = classifier_history_dict['accuracy']\n",
    "val_acc = classifier_history_dict['val_accuracy']\n",
    "loss = classifier_history_dict['loss']\n",
    "val_loss = classifier_history_dict['val_loss']"
   ]
  },
  {
   "cell_type": "code",
   "execution_count": 27,
   "metadata": {},
   "outputs": [],
   "source": [
    "epochs = range(1, len(acc) + 1) "
   ]
  },
  {
   "cell_type": "code",
   "execution_count": 28,
   "metadata": {},
   "outputs": [
    {
     "data": {
      "image/png": "[encoded data removed]",
      "text/plain": [
       "<Figure size 648x360 with 1 Axes>"
      ]
     },
     "metadata": {
      "needs_background": "light"
     },
     "output_type": "display_data"
    }
   ],
   "source": [
    "# \"bo\" is for \"blue dot\"\n",
    "plt.figure(figsize=(9, 5))\n",
    "plt.plot(epochs, loss, 'bo', label='Training loss')\n",
    "# b is for \"solid blue line\"\n",
    "plt.plot(epochs, val_loss, 'b', label='Validation loss')\n",
    "plt.title('Training and validation loss')\n",
    "plt.xlabel('Epochs')\n",
    "plt.ylabel('Loss')\n",
    "plt.grid(True)\n",
    "plt.legend()\n",
    "\n",
    "plt.show()"
   ]
  },
  {
   "cell_type": "code",
   "execution_count": 29,
   "metadata": {},
   "outputs": [
    {
     "data": {
      "image/png": "[encoded data removed]",
      "text/plain": [
       "<Figure size 648x360 with 1 Axes>"
      ]
     },
     "metadata": {
      "needs_background": "light"
     },
     "output_type": "display_data"
    }
   ],
   "source": [
    "plt.figure(figsize=(9, 5))\n",
    "plt.plot(epochs, acc, 'bo', label='Training acc')\n",
    "plt.plot(epochs, val_acc, 'b', label='Validation acc')\n",
    "plt.title('Training and validation accuracy')\n",
    "plt.xlabel('Epochs')\n",
    "plt.ylabel('Accuracy')\n",
    "plt.grid(True)\n",
    "plt.legend()\n",
    "\n",
    "plt.show()"
   ]
  },
  {
   "cell_type": "code",
   "execution_count": 30,
   "metadata": {},
   "outputs": [
    {
     "name": "stdout",
     "output_type": "stream",
     "text": [
      "input:\n",
      "\"Juego de bazas cooperativo. Con una mecánica que puede recordar a los juegos de baraja españoles típicos, como el tute, el arrastrado, guiñote etc ... consigue un puntito diferente al ser cooperativo. Al inicio de cada misión se reparte toda la baraja y se establecen unos criterios a cumplir, normalmente consistirá en que determinadas personas se tienen que llevar una o varias bazas con determinadas cartas, pero puede venir aderezado con un orden absoluto, o relativo entre bazas o varias consideraciones más que van aumentando la dificultad del reto. Entre los jugadores no se pueden dar indicaciones libremente de qué cartas tienen o qué cartas quieren que se jueguen por lo que acaba siendo un puzzle a resolver entre todos bastante entretenido Con la posibilidad jugar a dos (aunque lo suyo es ser más), yo lo juego con mi hijo pequeño de 6 años siendo un reto muy estimulante para el. Es un ejercicio bastante interesante para el ya que le dejo \"tomar las decisiones\" que llevan a resolver el puzzle\"\n",
      "score: 1.000000\n",
      "actual: 1\n",
      "\n",
      "input:\n",
      "\"One of the best games I've ever played - Elements of strategy, diplomacy and more make for an extremely fun, albeit long game.  Variability in maps, mixed in with races, agendas and more, will have me and friends coming back for more when we can spare 6+ hours.  My main gripe with the game is lack of variety in objectives (both public and secret). The agenda deck is huge yet there are only 20 secret objectives and a similar number of public objectives.\"\n",
      "score: 1.000000\n",
      "actual: 1\n",
      "\n",
      "input:\n",
      "\"Extremely deep and varied gameplay. Interesting faction powers that together explore every little corner of the games body. You'll have fun, and a small headache from all the thinking wether you win or not.\"\n",
      "score: 1.000000\n",
      "actual: 1\n",
      "\n",
      "input:\n",
      "\"Player M\"\n",
      "score: 1.000000\n",
      "actual: 0\n",
      "\n",
      "input:\n",
      "\"one of the best game i own and play regulary Damned what a fantastic game Thankx M. Reuss\"\n",
      "score: 1.000000\n",
      "actual: 1\n",
      "\n",
      "input:\n",
      "\"Nothing short of amazing. Puzzley for those who like that, action-packed with interesting scenarios, great writing that always intrigues. All-time champ for \"time spent still set up on gaming table.\" Good with 4 players, Great with 2!\"\n",
      "score: 1.000000\n",
      "actual: 1\n",
      "\n",
      "input:\n",
      "\"It's a bag building or engine building game that relies on luck to balance out chances of winning. I like the theme (thin but OK), the colors, the excitement and the accessibility. The mechanics and components fit to the theme. It's also very tactile to reach into your bag and place the ingredients in your cauldron.  The game has a fast pacing. There are some light decions, like what ingredients to add and deciding when it's time to stop. Mainly, you are pushing your luck and manipulating the odds.    The main activity is always the same: you draw tokens at short intervals and place them on your board. It feels repetitive fast. Of course, the game also lacks player interaction. The different combinations of ingredients make up for some variation. Fair enough from time to time.\"\n",
      "score: 0.000000\n",
      "actual: 0\n",
      "\n",
      "input:\n",
      "\" This card based game is basically a choose your own adventure book with skilled tests. It's a wonder why somebody hasn't put something like this out before. There has been pathfinder but it didn't really worked. Arkham horror of the card game really does work.  It draws you in to its stories. You can also  replay  stories over again and still have fun. I'm excited to see all the new  packs coming out \"\n",
      "score: 1.000000\n",
      "actual: 1\n",
      "\n",
      "input:\n",
      "\"Its an really great game\"\n",
      "score: 1.000000\n",
      "actual: 1\n",
      "\n",
      "input:\n",
      "\"the artwork is kinda awkward with its unique cats race, but the gameplay is super-fun!\"\n",
      "score: 0.000000\n",
      "actual: 1\n"
     ]
    },
    {
     "name": "stderr",
     "output_type": "stream",
     "text": [
      "C:\\Users\\dev999\\.conda\\envs\\tensorflow2\\lib\\site-packages\\tensorflow\\python\\keras\\engine\\sequential.py:455: UserWarning: `model.predict_classes()` is deprecated and will be removed after 2021-01-01. Please use instead:* `np.argmax(model.predict(x), axis=-1)`,   if your model does multi-class classification   (e.g. if it uses a `softmax` last-layer activation).* `(model.predict(x) > 0.5).astype(\"int32\")`,   if your model does binary classification   (e.g. if it uses a `sigmoid` last-layer activation).\n",
      "  warnings.warn('`model.predict_classes()` is deprecated and '\n"
     ]
    }
   ],
   "source": [
    "inputs = x_train_clf[:10]\n",
    "outputs = y_train_clf[:10]\n",
    "results = classifier.predict(tf.constant(inputs), verbose=0)\n",
    "print_my_examples(inputs, results, outputs)"
   ]
  },
  {
   "cell_type": "code",
   "execution_count": 31,
   "metadata": {},
   "outputs": [],
   "source": [
    "## APPLY MODEL ON NON-RATED COMMENTS"
   ]
  },
  {
   "cell_type": "code",
   "execution_count": 32,
   "metadata": {},
   "outputs": [
    {
     "name": "stdout",
     "output_type": "stream",
     "text": [
      "8/8 - 0s\n",
      "input:\n",
      "\"Wingspan is a decent game, nice mechanics, interesting theme and it looks good (I will never forget those colored eggs or the dice tower).  But for me it was just another euro that I played for a couple of times and then it sat on my shelf.  So I have ended up selling it.\"\n",
      "score: 0.000000\n",
      "\n",
      "input:\n",
      "\"players: 1-4 weight: 3.0 time: 60-840  cooperative campaign  Feb. 2021\"\n",
      "score: 1.000000\n",
      "\n",
      "input:\n",
      "\"too expensive price in south korea.\"\n",
      "score: 0.000000\n",
      "\n",
      "input:\n",
      "\"A co-op game that was sold at Kickstarter only.\"\n",
      "score: 0.000000\n",
      "\n",
      "input:\n",
      "\"Sundrop Edition, with Artbook and Untold Stories # 2.\"\n",
      "score: 1.000000\n",
      "\n",
      "input:\n",
      "\"With Branch&Claw, Jagged Earth, and 1st & 2nd promo spirits \"\n",
      "score: 1.000000\n",
      "\n",
      "input:\n",
      "\"This is Terra Mystica sequal in space - Very EuroGame\"\n",
      "score: 1.000000\n",
      "\n",
      "input:\n",
      "\"Also: Spirit Island: Branch & Claw (2017) exp.\"\n",
      "score: 1.000000\n",
      "\n",
      "input:\n",
      "\"everdell complete collection\"\n",
      "score: 1.000000\n",
      "\n",
      "input:\n",
      "\"Gorgeous production - looking forward to playing it!\"\n",
      "score: 1.000000\n"
     ]
    }
   ],
   "source": [
    "not_rated_comments = not_rated_comments.sample(frac=1)\n",
    "results = classifier.predict(tf.constant(list(not_rated_comments.value.astype(str))))\n",
    "print_my_examples(list(not_rated_comments.value), results, limit=10)"
   ]
  },
  {
   "cell_type": "markdown",
   "metadata": {},
   "source": [
    "## REGRESSOR"
   ]
  },
  {
   "cell_type": "code",
   "execution_count": 33,
   "metadata": {},
   "outputs": [
    {
     "data": {
      "text/plain": [
       "GridSearchCV(cv=3,\n",
       "             estimator=<tensorflow.python.keras.wrappers.scikit_learn.KerasRegressor object at 0x000002B19C5949D0>,\n",
       "             param_grid={})"
      ]
     },
     "execution_count": 33,
     "metadata": {},
     "output_type": "execute_result"
    }
   ],
   "source": [
    "def build_regressor():\n",
    "    return build_model(hub_layer, pre_trained_model_name=MODEL_NAME, model_type='regressor', verbose=0)\n",
    "\n",
    "\n",
    "estimator = KerasRegressor(build_fn=build_regressor, epochs=100, batch_size=512, verbose=0, validation_split=VAL_FRACTION)\n",
    "x_train_reg = np.array(list(rated_comments.value))\n",
    "y_train_reg = np.array(list(rated_comments.rating.astype(float)))\n",
    "\n",
    "clf = GridSearchCV(\n",
    "    estimator, \n",
    "    cv=3, \n",
    "    param_grid={}\n",
    ")\n",
    "clf.fit(x_train_reg, y_train_reg, callbacks=[tf.keras.callbacks.EarlyStopping(monitor='val_mean_squared_error', patience=5, min_delta=0.001)])"
   ]
  },
  {
   "cell_type": "code",
   "execution_count": 34,
   "metadata": {},
   "outputs": [],
   "source": [
    "regressor = clf.best_estimator_\n",
    "regressor_history_dict = regressor.model.history.history"
   ]
  },
  {
   "cell_type": "code",
   "execution_count": 35,
   "metadata": {},
   "outputs": [
    {
     "data": {
      "text/plain": [
       "dict_keys(['loss', 'mean_squared_error', 'val_loss', 'val_mean_squared_error'])"
      ]
     },
     "execution_count": 35,
     "metadata": {},
     "output_type": "execute_result"
    }
   ],
   "source": [
    "regressor_history_dict.keys()"
   ]
  },
  {
   "cell_type": "code",
   "execution_count": 36,
   "metadata": {},
   "outputs": [],
   "source": [
    "mean_squared_error = regressor_history_dict['mean_squared_error']\n",
    "val_mean_squared_error = regressor_history_dict['val_mean_squared_error']\n",
    "loss = regressor_history_dict['loss']\n",
    "val_loss = regressor_history_dict['val_loss']"
   ]
  },
  {
   "cell_type": "code",
   "execution_count": 37,
   "metadata": {},
   "outputs": [],
   "source": [
    "epochs = range(1, len(mean_squared_error) + 1) "
   ]
  },
  {
   "cell_type": "code",
   "execution_count": 38,
   "metadata": {},
   "outputs": [
    {
     "name": "stdout",
     "output_type": "stream",
     "text": [
      "MEAN SQUARED ERROR (VALIDATION SET): 2.46\n"
     ]
    }
   ],
   "source": [
    "print(f\"MEAN SQUARED ERROR (VALIDATION SET): {val_mean_squared_error[-1]:.2f}\")"
   ]
  },
  {
   "cell_type": "code",
   "execution_count": 39,
   "metadata": {},
   "outputs": [
    {
     "name": "stdout",
     "output_type": "stream",
     "text": [
      "MEAN SQUARED ERROR (TRAINING SET): 1.02\n"
     ]
    }
   ],
   "source": [
    "print(f\"MEAN SQUARED ERROR (TRAINING SET): {mean_squared_error[-1]:.2f}\")"
   ]
  },
  {
   "cell_type": "code",
   "execution_count": 40,
   "metadata": {},
   "outputs": [
    {
     "data": {
      "image/png": "[encoded data removed]",
      "text/plain": [
       "<Figure size 648x360 with 1 Axes>"
      ]
     },
     "metadata": {
      "needs_background": "light"
     },
     "output_type": "display_data"
    }
   ],
   "source": [
    "# \"bo\" is for \"blue dot\"\n",
    "plt.figure(figsize=(9, 5))\n",
    "plt.plot(epochs, loss, 'bo', label='Training loss')\n",
    "# b is for \"solid blue line\"\n",
    "plt.plot(epochs, val_loss, 'b', label='Validation loss')\n",
    "plt.title('Training and validation loss')\n",
    "plt.xlabel('Epochs')\n",
    "plt.ylabel('Loss')\n",
    "plt.grid(True)\n",
    "plt.legend()\n",
    "\n",
    "plt.show()"
   ]
  },
  {
   "cell_type": "code",
   "execution_count": 41,
   "metadata": {},
   "outputs": [
    {
     "data": {
      "image/png": "[encoded data removed]",
      "text/plain": [
       "<Figure size 648x360 with 1 Axes>"
      ]
     },
     "metadata": {
      "needs_background": "light"
     },
     "output_type": "display_data"
    }
   ],
   "source": [
    "plt.figure(figsize=(9, 5))\n",
    "plt.plot(epochs, mean_squared_error, 'bo', label='Training mean squared error')\n",
    "plt.plot(epochs, val_mean_squared_error, 'b', label='Validation mean squared error')\n",
    "plt.title('Training and validation accuracy')\n",
    "plt.xlabel('Epochs')\n",
    "plt.ylabel('Mean squared error')\n",
    "plt.grid(True)\n",
    "plt.legend()\n",
    "\n",
    "plt.show()"
   ]
  },
  {
   "cell_type": "code",
   "execution_count": 42,
   "metadata": {},
   "outputs": [
    {
     "name": "stdout",
     "output_type": "stream",
     "text": [
      "input: \n",
      "\"Juego de bazas cooperativo. Con una mecánica que puede recordar a los juegos de baraja españoles típicos, como el tute, el arrastrado, guiñote etc ... consigue un puntito diferente al ser cooperativo. Al inicio de cada misión se reparte toda la baraja y se establecen unos criterios a cumplir, normalmente consistirá en que determinadas personas se tienen que llevar una o varias bazas con determinadas cartas, pero puede venir aderezado con un orden absoluto, o relativo entre bazas o varias consideraciones más que van aumentando la dificultad del reto. Entre los jugadores no se pueden dar indicaciones libremente de qué cartas tienen o qué cartas quieren que se jueguen por lo que acaba siendo un puzzle a resolver entre todos bastante entretenido Con la posibilidad jugar a dos (aunque lo suyo es ser más), yo lo juego con mi hijo pequeño de 6 años siendo un reto muy estimulante para el. Es un ejercicio bastante interesante para el ya que le dejo \"tomar las decisiones\" que llevan a resolver el puzzle\"\n",
      "score: 7.14\n",
      "actual: 7.00 \n",
      "\n",
      "input: \n",
      "\"One of the best games I've ever played - Elements of strategy, diplomacy and more make for an extremely fun, albeit long game.  Variability in maps, mixed in with races, agendas and more, will have me and friends coming back for more when we can spare 6+ hours.  My main gripe with the game is lack of variety in objectives (both public and secret). The agenda deck is huge yet there are only 20 secret objectives and a similar number of public objectives.\"\n",
      "score: 9.63\n",
      "actual: 9.50 \n",
      "\n",
      "input: \n",
      "\"Extremely deep and varied gameplay. Interesting faction powers that together explore every little corner of the games body. You'll have fun, and a small headache from all the thinking wether you win or not.\"\n",
      "score: 9.83\n",
      "actual: 10.00 \n",
      "\n",
      "input: \n",
      "\"Player M\"\n",
      "score: 7.78\n",
      "actual: 6.00 \n",
      "\n",
      "input: \n",
      "\"one of the best game i own and play regulary Damned what a fantastic game Thankx M. Reuss\"\n",
      "score: 10.15\n",
      "actual: 10.00 \n",
      "\n",
      "input: \n",
      "\"Nothing short of amazing. Puzzley for those who like that, action-packed with interesting scenarios, great writing that always intrigues. All-time champ for \"time spent still set up on gaming table.\" Good with 4 players, Great with 2!\"\n",
      "score: 9.34\n",
      "actual: 10.00 \n",
      "\n",
      "input: \n",
      "\"It's a bag building or engine building game that relies on luck to balance out chances of winning. I like the theme (thin but OK), the colors, the excitement and the accessibility. The mechanics and components fit to the theme. It's also very tactile to reach into your bag and place the ingredients in your cauldron.  The game has a fast pacing. There are some light decions, like what ingredients to add and deciding when it's time to stop. Mainly, you are pushing your luck and manipulating the odds.    The main activity is always the same: you draw tokens at short intervals and place them on your board. It feels repetitive fast. Of course, the game also lacks player interaction. The different combinations of ingredients make up for some variation. Fair enough from time to time.\"\n",
      "score: 6.25\n",
      "actual: 6.00 \n",
      "\n",
      "input: \n",
      "\" This card based game is basically a choose your own adventure book with skilled tests. It's a wonder why somebody hasn't put something like this out before. There has been pathfinder but it didn't really worked. Arkham horror of the card game really does work.  It draws you in to its stories. You can also  replay  stories over again and still have fun. I'm excited to see all the new  packs coming out \"\n",
      "score: 8.73\n",
      "actual: 9.60 \n",
      "\n",
      "input: \n",
      "\"Its an really great game\"\n",
      "score: 9.03\n",
      "actual: 9.00 \n",
      "\n",
      "input: \n",
      "\"the artwork is kinda awkward with its unique cats race, but the gameplay is super-fun!\"\n",
      "score: 7.29\n",
      "actual: 8.00 \n",
      "\n"
     ]
    }
   ],
   "source": [
    "inputs = x_train_reg[:10]\n",
    "outputs = y_train_reg[:10]\n",
    "results = clf.best_estimator_.predict(tf.constant(inputs), verbose=0)\n",
    "for i in range(len(inputs)):\n",
    "    print(f\"input: \\n\\\"{inputs[i]}\\\"\\nscore: {results[i]:.2f}\\nactual: {outputs[i]:.2f} \\n\")"
   ]
  },
  {
   "cell_type": "markdown",
   "metadata": {},
   "source": [
    "## COMPARE CLASSIFIER VS REGRESSOR"
   ]
  },
  {
   "cell_type": "code",
   "execution_count": 43,
   "metadata": {},
   "outputs": [
    {
     "name": "stdout",
     "output_type": "stream",
     "text": [
      "\"Area Control / Area Influence Grid Movement Variable Player Powers  W3.36 No.1-5 90-115min\"\n",
      "    reg score: 8.68\n",
      "    clf score: 1\n",
      "\n",
      "\"Best game I have played, everything I am looking for in a good euro game.\"\n",
      "    reg score: 9.16\n",
      "    clf score: 1\n",
      "\n",
      "\"It's nothing more than Dungeons & Dragons all over again with a makeover for today. Was dragged into playing this mess- painful. PERFECT example of a board game that is better off played on a computer/PC game (Baldur's Gate, or any other RPG). Boring beyond belief and tons of work just to get characters/creatures simply moving around. Playing this is like stepping backwards in time, which I suppose explains it's popularity. Lots of adults getting a chance at revisiting their happy childhood days of D&D. Also, ugly cardboard standees in an era of miniatures... Bah. There are just too many other games to play.\"\n",
      "    reg score: 7.64\n",
      "    clf score: 0\n",
      "\n",
      "\"I really need to try a Vital Lacerda game. They all have such lovely artwork and are deep, meaty games (which I love).\"\n",
      "    reg score: 9.21\n",
      "    clf score: 1\n",
      "\n",
      "\"Beszerzési ár: 6.072 HUF  Állapot a beszerzéskor: bontatlan  Beszerzés éve: 2016.\"\n",
      "    reg score: 9.03\n",
      "    clf score: 1\n",
      "\n",
      "\"LI. Nice looking components, but theme is pasted-on. Doesn't seem to bring anything new gameplay wise, regular engine building game. A lot of luck with card draws for an over hour game.  Almost 0 interaction, so feels like solitaire with a lot of downtime. Not my cup of tea. But why the hype???\"\n",
      "    reg score: 5.82\n",
      "    clf score: 0\n",
      "\n",
      "\"Use bingo (Letter from whitechapel) discs to track movement\"\n",
      "    reg score: 10.29\n",
      "    clf score: 1\n",
      "\n",
      "\"A promising premise. But better than DUNE (original)? Doubtful. Plays pending.\"\n",
      "    reg score: 7.02\n",
      "    clf score: 1\n",
      "\n",
      "\"Enjoy this one as much as 7 Wonders. We find that turn order can have an impact on the game outcome.\"\n",
      "    reg score: 8.25\n",
      "    clf score: 1\n",
      "\n",
      "\"Kemet was on my wishlist so signing up for the reprint was a slam dunk.\"\n",
      "    reg score: 13.29\n",
      "    clf score: 1\n",
      "\n"
     ]
    },
    {
     "name": "stderr",
     "output_type": "stream",
     "text": [
      "C:\\Users\\dev999\\.conda\\envs\\tensorflow2\\lib\\site-packages\\tensorflow\\python\\keras\\engine\\sequential.py:455: UserWarning: `model.predict_classes()` is deprecated and will be removed after 2021-01-01. Please use instead:* `np.argmax(model.predict(x), axis=-1)`,   if your model does multi-class classification   (e.g. if it uses a `softmax` last-layer activation).* `(model.predict(x) > 0.5).astype(\"int32\")`,   if your model does binary classification   (e.g. if it uses a `sigmoid` last-layer activation).\n",
      "  warnings.warn('`model.predict_classes()` is deprecated and '\n"
     ]
    }
   ],
   "source": [
    "not_rated_comments = not_rated_comments.sample(frac=1)\n",
    "inputs = list(not_rated_comments.value.astype(str))[:10]\n",
    "\n",
    "clf_results = classifier.predict(inputs, verbose=0)\n",
    "reg_results = regressor.predict(inputs, verbose=0)\n",
    "for i in range(len(inputs)):\n",
    "    print(f\"\"\"\\\"{inputs[i]}\\\"\n",
    "    reg score: {reg_results[i]:.2f}\n",
    "    clf score: {clf_results[i][0]}\n",
    "\"\"\")"
   ]
  },
  {
   "cell_type": "markdown",
   "metadata": {},
   "source": [
    "### RESULTS\n",
    "It seems that the regressor is much more accurate compared to the binary classifier => **let's use the regressors results to fix the BGG rating**"
   ]
  },
  {
   "cell_type": "markdown",
   "metadata": {},
   "source": [
    "## COMBINE RATED COMMENTS AND NOT-RATED COMMENTS WITH PREDICTED RATING"
   ]
  },
  {
   "cell_type": "code",
   "execution_count": 44,
   "metadata": {},
   "outputs": [
    {
     "name": "stdout",
     "output_type": "stream",
     "text": [
      "rated_comments_grouped: \n",
      "|     id |   rating_mean |   rating_count |\n",
      "|--------|---------------|----------------|\n",
      "| 124361 |          8.19 |           3854 |\n",
      "| 162886 |          8.36 |           3531 |\n",
      "| 167355 |          8.42 |           1822 |\n",
      "| 167791 |          8.21 |           8270 |\n",
      "| 169427 |          8.65 |            234 |\n"
     ]
    }
   ],
   "source": [
    "rated_comments['rating'] = rated_comments.rating.astype(float)\n",
    "rated_comments_grouped = rated_comments.groupby('id').agg({'rating': ['mean', 'count']})\n",
    "rated_comments_grouped.columns = list(rated_comments_grouped.columns.map('_'.join))\n",
    "rated_comments_grouped = rated_comments_grouped.reset_index()\n",
    "print(\"rated_comments_grouped: \")\n",
    "print(rated_comments_grouped.head().to_markdown(index=False, floatfmt='.2f', tablefmt='github'))"
   ]
  },
  {
   "cell_type": "code",
   "execution_count": 45,
   "metadata": {},
   "outputs": [],
   "source": [
    "not_rated_comments['rating'] = regressor.predict(list(not_rated_comments.value.astype(str)))"
   ]
  },
  {
   "cell_type": "code",
   "execution_count": 46,
   "metadata": {},
   "outputs": [
    {
     "name": "stdout",
     "output_type": "stream",
     "text": [
      "not_rated_comments_grouped: \n",
      "|     id |   rating_mean |   rating_count |\n",
      "|--------|---------------|----------------|\n",
      "| 124361 |          8.05 |            255 |\n",
      "| 162886 |          8.15 |            317 |\n",
      "| 167355 |          8.31 |            214 |\n",
      "| 167791 |          8.29 |            439 |\n",
      "| 169427 |          8.49 |             71 |\n"
     ]
    }
   ],
   "source": [
    "not_rated_comments['rating'] = not_rated_comments.rating.astype(float)\n",
    "not_rated_comments['rating'] = not_rated_comments['rating'].clip(0, 10)\n",
    "not_rated_comments_grouped = not_rated_comments.groupby('id').agg({'rating': ['mean', 'count']})\n",
    "not_rated_comments_grouped.columns = list(not_rated_comments_grouped.columns.map('_'.join))\n",
    "not_rated_comments_grouped = not_rated_comments_grouped.reset_index()\n",
    "print(\"not_rated_comments_grouped: \")\n",
    "print(not_rated_comments_grouped.head().to_markdown(index=False, floatfmt='.2f', tablefmt='github'))"
   ]
  },
  {
   "cell_type": "code",
   "execution_count": 47,
   "metadata": {},
   "outputs": [],
   "source": [
    "grouped = rated_comments_grouped.merge(not_rated_comments_grouped, on='id', suffixes=('_review', '_comments'), how='outer')\n",
    "grouped['id'] = grouped.id.astype(str)\n",
    "grouped = grouped.merge(pd.DataFrame(hot_array), on='id', how='right')\n",
    "grouped['rank'] = grouped['rank'].astype(int)\n",
    "grouped['url'] = grouped['id'].apply(lambda x: f\"https://boardgamegeek.com/boardgame/{x}\")\n",
    "grouped['fixed_rating'] = (grouped['rating_mean_review']*grouped['rating_count_review']+grouped['rating_mean_comments']*grouped['rating_count_comments']) /\\\n",
    "                            (grouped['rating_count_review']+grouped['rating_count_comments'])\n",
    "grouped['thumbnail'] = grouped['thumbnail'].apply(lambda x: f'<img src=\"{x}\" width=\"124\" />')\n",
    "grouped['name'] = grouped.apply(lambda x: f'<a href=\"{x[\"url\"]}\">{x[\"name\"]}</a>', axis=1)\n",
    "\n",
    "grouped = grouped[['thumbnail', 'name', 'rating_mean_review', 'rating_mean_comments', 'fixed_rating', 'rank', 'yearpublished']]"
   ]
  },
  {
   "cell_type": "code",
   "execution_count": 48,
   "metadata": {},
   "outputs": [
    {
     "data": {
      "text/html": [
       "<div>\n",
       "<style scoped>\n",
       "    .dataframe tbody tr th:only-of-type {\n",
       "        vertical-align: middle;\n",
       "    }\n",
       "\n",
       "    .dataframe tbody tr th {\n",
       "        vertical-align: top;\n",
       "    }\n",
       "\n",
       "    .dataframe thead th {\n",
       "        text-align: right;\n",
       "    }\n",
       "</style>\n",
       "<table border=\"1\" class=\"dataframe\">\n",
       "  <thead>\n",
       "    <tr style=\"text-align: right;\">\n",
       "      <th></th>\n",
       "      <th>thumbnail</th>\n",
       "      <th>name</th>\n",
       "      <th>rating_mean_review</th>\n",
       "      <th>rating_mean_comments</th>\n",
       "      <th>fixed_rating</th>\n",
       "      <th>rank</th>\n",
       "      <th>yearpublished</th>\n",
       "    </tr>\n",
       "  </thead>\n",
       "  <tbody>\n",
       "    <tr>\n",
       "      <th>0</th>\n",
       "      <td>&lt;img src=\"https://cf.geekdo-images.com/tQVVSXc...</td>\n",
       "      <td>&lt;a href=\"https://boardgamegeek.com/boardgame/3...</td>\n",
       "      <td>6.211667</td>\n",
       "      <td>8.655545</td>\n",
       "      <td>7.297835</td>\n",
       "      <td>1</td>\n",
       "      <td>2022</td>\n",
       "    </tr>\n",
       "    <tr>\n",
       "      <th>1</th>\n",
       "      <td>&lt;img src=\"https://cf.geekdo-images.com/6GqH14T...</td>\n",
       "      <td>&lt;a href=\"https://boardgamegeek.com/boardgame/3...</td>\n",
       "      <td>7.819167</td>\n",
       "      <td>7.742085</td>\n",
       "      <td>7.812884</td>\n",
       "      <td>2</td>\n",
       "      <td>2020</td>\n",
       "    </tr>\n",
       "    <tr>\n",
       "      <th>2</th>\n",
       "      <td>&lt;img src=\"https://cf.geekdo-images.com/OodUXfX...</td>\n",
       "      <td>&lt;a href=\"https://boardgamegeek.com/boardgame/2...</td>\n",
       "      <td>7.500000</td>\n",
       "      <td>7.762750</td>\n",
       "      <td>7.687679</td>\n",
       "      <td>3</td>\n",
       "      <td>NaN</td>\n",
       "    </tr>\n",
       "    <tr>\n",
       "      <th>3</th>\n",
       "      <td>&lt;img src=\"https://cf.geekdo-images.com/gTxav_K...</td>\n",
       "      <td>&lt;a href=\"https://boardgamegeek.com/boardgame/2...</td>\n",
       "      <td>7.827914</td>\n",
       "      <td>8.216048</td>\n",
       "      <td>7.962758</td>\n",
       "      <td>4</td>\n",
       "      <td>2021</td>\n",
       "    </tr>\n",
       "    <tr>\n",
       "      <th>4</th>\n",
       "      <td>&lt;img src=\"https://cf.geekdo-images.com/PhjygpW...</td>\n",
       "      <td>&lt;a href=\"https://boardgamegeek.com/boardgame/3...</td>\n",
       "      <td>8.101912</td>\n",
       "      <td>7.930989</td>\n",
       "      <td>8.085498</td>\n",
       "      <td>5</td>\n",
       "      <td>2020</td>\n",
       "    </tr>\n",
       "  </tbody>\n",
       "</table>\n",
       "</div>"
      ],
      "text/plain": [
       "                                           thumbnail  \\\n",
       "0  <img src=\"https://cf.geekdo-images.com/tQVVSXc...   \n",
       "1  <img src=\"https://cf.geekdo-images.com/6GqH14T...   \n",
       "2  <img src=\"https://cf.geekdo-images.com/OodUXfX...   \n",
       "3  <img src=\"https://cf.geekdo-images.com/gTxav_K...   \n",
       "4  <img src=\"https://cf.geekdo-images.com/PhjygpW...   \n",
       "\n",
       "                                                name  rating_mean_review  \\\n",
       "0  <a href=\"https://boardgamegeek.com/boardgame/3...            6.211667   \n",
       "1  <a href=\"https://boardgamegeek.com/boardgame/3...            7.819167   \n",
       "2  <a href=\"https://boardgamegeek.com/boardgame/2...            7.500000   \n",
       "3  <a href=\"https://boardgamegeek.com/boardgame/2...            7.827914   \n",
       "4  <a href=\"https://boardgamegeek.com/boardgame/3...            8.101912   \n",
       "\n",
       "   rating_mean_comments  fixed_rating  rank yearpublished  \n",
       "0              8.655545      7.297835     1          2022  \n",
       "1              7.742085      7.812884     2          2020  \n",
       "2              7.762750      7.687679     3           NaN  \n",
       "3              8.216048      7.962758     4          2021  \n",
       "4              7.930989      8.085498     5          2020  "
      ]
     },
     "execution_count": 48,
     "metadata": {},
     "output_type": "execute_result"
    }
   ],
   "source": [
    "grouped.head()"
   ]
  },
  {
   "cell_type": "code",
   "execution_count": 49,
   "metadata": {},
   "outputs": [],
   "source": [
    "def display_topn(by, n=5, ascending=True):\n",
    "    temp_df = grouped.sort_values(by, ascending=ascending).head(n)\n",
    "    temp_df.index=list(range(1, n+1))\n",
    "    return HTML(temp_df.to_html(escape=False, classes='table table-striped'))"
   ]
  },
  {
   "cell_type": "code",
   "execution_count": 50,
   "metadata": {},
   "outputs": [
    {
     "data": {
      "text/html": [
       "<table border=\"1\" class=\"dataframe table table-striped\">\n",
       "  <thead>\n",
       "    <tr style=\"text-align: right;\">\n",
       "      <th></th>\n",
       "      <th>thumbnail</th>\n",
       "      <th>name</th>\n",
       "      <th>rating_mean_review</th>\n",
       "      <th>rating_mean_comments</th>\n",
       "      <th>fixed_rating</th>\n",
       "      <th>rank</th>\n",
       "      <th>yearpublished</th>\n",
       "    </tr>\n",
       "  </thead>\n",
       "  <tbody>\n",
       "    <tr>\n",
       "      <th>1</th>\n",
       "      <td><img src=\"https://cf.geekdo-images.com/tQVVSXcmYLvAoI28cp-2Tg__thumb/img/ahKWaUSws5zja4feB4VexkNV3Mc=/fit-in/200x150/filters:strip_icc()/pic5974859.jpg\" width=\"124\" /></td>\n",
       "      <td><a href=\"https://boardgamegeek.com/boardgame/331106\">The Witcher: Old World</a></td>\n",
       "      <td>6.211667</td>\n",
       "      <td>8.655545</td>\n",
       "      <td>7.297835</td>\n",
       "      <td>1</td>\n",
       "      <td>2022</td>\n",
       "    </tr>\n",
       "    <tr>\n",
       "      <th>2</th>\n",
       "      <td><img src=\"https://cf.geekdo-images.com/6GqH14TJJhza86BX5HCLEQ__thumb/img/J8SVmGOJXZGxNjkT3xYNQU7Haxg=/fit-in/200x150/filters:strip_icc()/pic5674958.jpg\" width=\"124\" /></td>\n",
       "      <td><a href=\"https://boardgamegeek.com/boardgame/312484\">Lost Ruins of Arnak</a></td>\n",
       "      <td>7.819167</td>\n",
       "      <td>7.742085</td>\n",
       "      <td>7.812884</td>\n",
       "      <td>2</td>\n",
       "      <td>2020</td>\n",
       "    </tr>\n",
       "    <tr>\n",
       "      <th>3</th>\n",
       "      <td><img src=\"https://cf.geekdo-images.com/OodUXfXjkiwGsHKRLjsloA__thumb/img/9UMSP_2fjLQzEQRsDPH_brSiVzY=/fit-in/200x150/filters:strip_icc()/pic3630071.jpg\" width=\"124\" /></td>\n",
       "      <td><a href=\"https://boardgamegeek.com/boardgame/219650\">Arydia: The Paths We Dare Tread</a></td>\n",
       "      <td>7.500000</td>\n",
       "      <td>7.762750</td>\n",
       "      <td>7.687679</td>\n",
       "      <td>3</td>\n",
       "      <td>NaN</td>\n",
       "    </tr>\n",
       "    <tr>\n",
       "      <th>4</th>\n",
       "      <td><img src=\"https://cf.geekdo-images.com/gTxav_KKQK1rDg-XuCjCSA__thumb/img/tFTOAKG5aDXxYfNRmJNmfyxH83M=/fit-in/200x150/filters:strip_icc()/pic5164812.jpg\" width=\"124\" /></td>\n",
       "      <td><a href=\"https://boardgamegeek.com/boardgame/291572\">Oath: Chronicles of Empire and Exile</a></td>\n",
       "      <td>7.827914</td>\n",
       "      <td>8.216048</td>\n",
       "      <td>7.962758</td>\n",
       "      <td>4</td>\n",
       "      <td>2021</td>\n",
       "    </tr>\n",
       "    <tr>\n",
       "      <th>5</th>\n",
       "      <td><img src=\"https://cf.geekdo-images.com/PhjygpWSo-0labGrPBMyyg__thumb/img/JGgY-nBmkyB8WRp8vcoBLlNMQ5U=/fit-in/200x150/filters:strip_icc()/pic5666597.jpg\" width=\"124\" /></td>\n",
       "      <td><a href=\"https://boardgamegeek.com/boardgame/316554\">Dune: Imperium</a></td>\n",
       "      <td>8.101912</td>\n",
       "      <td>7.930989</td>\n",
       "      <td>8.085498</td>\n",
       "      <td>5</td>\n",
       "      <td>2020</td>\n",
       "    </tr>\n",
       "  </tbody>\n",
       "</table>"
      ],
      "text/plain": [
       "<IPython.core.display.HTML object>"
      ]
     },
     "execution_count": 50,
     "metadata": {},
     "output_type": "execute_result"
    }
   ],
   "source": [
    "# TOP N RANK\n",
    "display_topn(by='rank', n=TOP_N)"
   ]
  },
  {
   "cell_type": "code",
   "execution_count": 51,
   "metadata": {},
   "outputs": [
    {
     "data": {
      "text/html": [
       "<table border=\"1\" class=\"dataframe table table-striped\">\n",
       "  <thead>\n",
       "    <tr style=\"text-align: right;\">\n",
       "      <th></th>\n",
       "      <th>thumbnail</th>\n",
       "      <th>name</th>\n",
       "      <th>rating_mean_review</th>\n",
       "      <th>rating_mean_comments</th>\n",
       "      <th>fixed_rating</th>\n",
       "      <th>rank</th>\n",
       "      <th>yearpublished</th>\n",
       "    </tr>\n",
       "  </thead>\n",
       "  <tbody>\n",
       "    <tr>\n",
       "      <th>1</th>\n",
       "      <td><img src=\"https://cf.geekdo-images.com/MN0OvKejfrfwD6bupQHp4g__thumb/img/MVh7xtQ4l17hprI4mFIk9Kswk6s=/fit-in/200x150/filters:strip_icc()/pic5623566.jpg\" width=\"124\" /></td>\n",
       "      <td><a href=\"https://boardgamegeek.com/boardgame/318184\">Imperium: Classics</a></td>\n",
       "      <td>9.083333</td>\n",
       "      <td>6.421703</td>\n",
       "      <td>8.417926</td>\n",
       "      <td>28</td>\n",
       "      <td>2021</td>\n",
       "    </tr>\n",
       "    <tr>\n",
       "      <th>2</th>\n",
       "      <td><img src=\"https://cf.geekdo-images.com/z4QtTBaabg2OCJfGNQ1x6g__thumb/img/pCv-Ojnr07dqZRdst7KtZDiOkGU=/fit-in/200x150/filters:strip_icc()/pic6177915.png\" width=\"124\" /></td>\n",
       "      <td><a href=\"https://boardgamegeek.com/boardgame/338841\">Lost Ruins of Arnak: The Search for Professor Kutil</a></td>\n",
       "      <td>8.888889</td>\n",
       "      <td>8.468787</td>\n",
       "      <td>8.812507</td>\n",
       "      <td>19</td>\n",
       "      <td>2021</td>\n",
       "    </tr>\n",
       "    <tr>\n",
       "      <th>3</th>\n",
       "      <td><img src=\"https://cf.geekdo-images.com/Oh3kHw6lweg6ru71Q16h2Q__thumb/img/e9XZdQe1ZcPpaq4Gy31OoWBB_V0=/fit-in/200x150/filters:strip_icc()/pic5235277.jpg\" width=\"124\" /></td>\n",
       "      <td><a href=\"https://boardgamegeek.com/boardgame/246900\">Eclipse: Second Dawn for the Galaxy</a></td>\n",
       "      <td>8.722904</td>\n",
       "      <td>8.016900</td>\n",
       "      <td>8.614084</td>\n",
       "      <td>41</td>\n",
       "      <td>2020</td>\n",
       "    </tr>\n",
       "    <tr>\n",
       "      <th>4</th>\n",
       "      <td><img src=\"https://cf.geekdo-images.com/x3zxjr-Vw5iU4yDPg70Jgw__thumb/img/o18rjEemoWaVru9Y2TyPwuIaRfE=/fit-in/200x150/filters:strip_icc()/pic3490053.jpg\" width=\"124\" /></td>\n",
       "      <td><a href=\"https://boardgamegeek.com/boardgame/224517\">Brass: Birmingham</a></td>\n",
       "      <td>8.681239</td>\n",
       "      <td>8.286737</td>\n",
       "      <td>8.645699</td>\n",
       "      <td>23</td>\n",
       "      <td>2018</td>\n",
       "    </tr>\n",
       "    <tr>\n",
       "      <th>5</th>\n",
       "      <td><img src=\"https://cf.geekdo-images.com/hRuD1y5BxdNpssgBqamS0A__thumb/img/fpUu1t2YLjJ4EvEzBGTKtZasNv4=/fit-in/200x150/filters:strip_icc()/pic4595897.jpg\" width=\"124\" /></td>\n",
       "      <td><a href=\"https://boardgamegeek.com/boardgame/169427\">Middara: Unintentional Malum – Act 1</a></td>\n",
       "      <td>8.647992</td>\n",
       "      <td>8.488753</td>\n",
       "      <td>8.610924</td>\n",
       "      <td>42</td>\n",
       "      <td>2019</td>\n",
       "    </tr>\n",
       "  </tbody>\n",
       "</table>"
      ],
      "text/plain": [
       "<IPython.core.display.HTML object>"
      ]
     },
     "execution_count": 51,
     "metadata": {},
     "output_type": "execute_result"
    }
   ],
   "source": [
    "# TOP N REVIEW RANK\n",
    "display_topn(by='rating_mean_review', n=TOP_N, ascending=False)"
   ]
  },
  {
   "cell_type": "code",
   "execution_count": 52,
   "metadata": {},
   "outputs": [
    {
     "data": {
      "text/html": [
       "<table border=\"1\" class=\"dataframe table table-striped\">\n",
       "  <thead>\n",
       "    <tr style=\"text-align: right;\">\n",
       "      <th></th>\n",
       "      <th>thumbnail</th>\n",
       "      <th>name</th>\n",
       "      <th>rating_mean_review</th>\n",
       "      <th>rating_mean_comments</th>\n",
       "      <th>fixed_rating</th>\n",
       "      <th>rank</th>\n",
       "      <th>yearpublished</th>\n",
       "    </tr>\n",
       "  </thead>\n",
       "  <tbody>\n",
       "    <tr>\n",
       "      <th>1</th>\n",
       "      <td><img src=\"https://cf.geekdo-images.com/z4QtTBaabg2OCJfGNQ1x6g__thumb/img/pCv-Ojnr07dqZRdst7KtZDiOkGU=/fit-in/200x150/filters:strip_icc()/pic6177915.png\" width=\"124\" /></td>\n",
       "      <td><a href=\"https://boardgamegeek.com/boardgame/338841\">Lost Ruins of Arnak: The Search for Professor Kutil</a></td>\n",
       "      <td>8.888889</td>\n",
       "      <td>8.468787</td>\n",
       "      <td>8.812507</td>\n",
       "      <td>19</td>\n",
       "      <td>2021</td>\n",
       "    </tr>\n",
       "    <tr>\n",
       "      <th>2</th>\n",
       "      <td><img src=\"https://cf.geekdo-images.com/x3zxjr-Vw5iU4yDPg70Jgw__thumb/img/o18rjEemoWaVru9Y2TyPwuIaRfE=/fit-in/200x150/filters:strip_icc()/pic3490053.jpg\" width=\"124\" /></td>\n",
       "      <td><a href=\"https://boardgamegeek.com/boardgame/224517\">Brass: Birmingham</a></td>\n",
       "      <td>8.681239</td>\n",
       "      <td>8.286737</td>\n",
       "      <td>8.645699</td>\n",
       "      <td>23</td>\n",
       "      <td>2018</td>\n",
       "    </tr>\n",
       "    <tr>\n",
       "      <th>3</th>\n",
       "      <td><img src=\"https://cf.geekdo-images.com/Oh3kHw6lweg6ru71Q16h2Q__thumb/img/e9XZdQe1ZcPpaq4Gy31OoWBB_V0=/fit-in/200x150/filters:strip_icc()/pic5235277.jpg\" width=\"124\" /></td>\n",
       "      <td><a href=\"https://boardgamegeek.com/boardgame/246900\">Eclipse: Second Dawn for the Galaxy</a></td>\n",
       "      <td>8.722904</td>\n",
       "      <td>8.016900</td>\n",
       "      <td>8.614084</td>\n",
       "      <td>41</td>\n",
       "      <td>2020</td>\n",
       "    </tr>\n",
       "    <tr>\n",
       "      <th>4</th>\n",
       "      <td><img src=\"https://cf.geekdo-images.com/hRuD1y5BxdNpssgBqamS0A__thumb/img/fpUu1t2YLjJ4EvEzBGTKtZasNv4=/fit-in/200x150/filters:strip_icc()/pic4595897.jpg\" width=\"124\" /></td>\n",
       "      <td><a href=\"https://boardgamegeek.com/boardgame/169427\">Middara: Unintentional Malum – Act 1</a></td>\n",
       "      <td>8.647992</td>\n",
       "      <td>8.488753</td>\n",
       "      <td>8.610924</td>\n",
       "      <td>42</td>\n",
       "      <td>2019</td>\n",
       "    </tr>\n",
       "    <tr>\n",
       "      <th>5</th>\n",
       "      <td><img src=\"https://cf.geekdo-images.com/_HhIdavYW-hid20Iq3hhmg__thumb/img/OMkN_E5eyWrkID_cHCnQEbIixGM=/fit-in/200x150/filters:strip_icc()/pic5055631.jpg\" width=\"124\" /></td>\n",
       "      <td><a href=\"https://boardgamegeek.com/boardgame/291457\">Gloomhaven: Jaws of the Lion</a></td>\n",
       "      <td>8.595662</td>\n",
       "      <td>8.143885</td>\n",
       "      <td>8.550912</td>\n",
       "      <td>22</td>\n",
       "      <td>2020</td>\n",
       "    </tr>\n",
       "  </tbody>\n",
       "</table>"
      ],
      "text/plain": [
       "<IPython.core.display.HTML object>"
      ]
     },
     "execution_count": 52,
     "metadata": {},
     "output_type": "execute_result"
    }
   ],
   "source": [
    "# TOP N FIXED RANK\n",
    "display_topn(by='fixed_rating', n=TOP_N, ascending=False)"
   ]
  },
  {
   "cell_type": "code",
   "execution_count": 53,
   "metadata": {},
   "outputs": [],
   "source": [
    "# model.save('saved_model\\my_model')"
   ]
  },
  {
   "cell_type": "code",
   "execution_count": 54,
   "metadata": {},
   "outputs": [],
   "source": [
    "# saved_model = tf.keras.models.load_model('saved_model\\my_model')"
   ]
  },
  {
   "cell_type": "code",
   "execution_count": 55,
   "metadata": {},
   "outputs": [],
   "source": [
    "# some examples on \"long\" comments vs short comments"
   ]
  },
  {
   "cell_type": "code",
   "execution_count": 56,
   "metadata": {},
   "outputs": [],
   "source": [
    "not_rated_comments['comment_len'] = not_rated_comments['value'].str.len()\n",
    "some_long_comments = not_rated_comments.query(\"comment_len>100 and comment_len<300\").sample(frac=1).head(25).sort_values('rating')"
   ]
  },
  {
   "cell_type": "code",
   "execution_count": 57,
   "metadata": {},
   "outputs": [
    {
     "name": "stdout",
     "output_type": "stream",
     "text": [
      "\"Probado con Automa, es un juego de combos entretenido y ni mucho menos tan sencillo como parece. No me gusta el tema, ni la iconografía, ni los cubitos. Veremos a más jugadores...\"\n",
      "score: 5.00\n",
      "\n",
      "\"This is the worst hype of all time boardgame industry, even more so when digitized by Asmodee, no flame, bare truth.\"\n",
      "score: 5.07\n",
      "\n",
      "\"Includes: Countless Terror 1-4 player game mat, cards sleeved and coin protectors on tokens. Played 3 times.\"\n",
      "score: 5.84\n",
      "\n",
      "\"2 players  I played a partial game with Suzy but she disliked it so much that we stopped.  I would like to give it more of a try but Suzy is not interested.\"\n",
      "score: 6.15\n",
      "\n",
      "\"The transformation from a rectangular field to a flat circle made the appearance very pleasant. But its size takes up a lot of space.\"\n",
      "score: 6.99\n",
      "\n",
      "\"Distilled version of 7 Wonders in a 2-player package.  I like this quite a bit.  I think this checks the boxes I care about for a \"quick\" two player strategic experience.\"\n",
      "score: 7.27\n",
      "\n",
      "\"Best 3-4 players? Limited replayability? Great WP, lot of 'machines' to build, Renaissance very good expansion,  no-luck game, multiple ways to win, need a few games to get the hang of it, mistakes harshly punnished, not good with 2 players\"\n",
      "score: 7.60\n",
      "\n",
      "\"Fun and beautiful game, even though sometimes your game is kind of locked when there's no synergy between your cards.\"\n",
      "score: 7.62\n",
      "\n",
      "\"I'm really interested in Spirit Island for being an anticolonialist, cooperative game with variable player powers.\"\n",
      "score: 7.93\n",
      "\n",
      "\"Scythe: Promo Pack #1 (2016) Scythe: Promo Pack #2 (2016) Scythe: Promo Pack #3 (2016) Scythe: Promo Pack #4 (2016)\"\n",
      "score: 8.02\n",
      "\n",
      "\"Really has grabbed my attention.  Considering an aftermarket purchase.  Any word on when the next Kickstarter campaign for this creature will start?\"\n",
      "score: 8.10\n",
      "\n",
      "\"great solo by Ricky Royal. Liz loves this solo. Game is deep & complex. Topping lists for best of 2019. Learning game via solo is difficult. Hard to find?\"\n",
      "score: 8.49\n",
      "\n",
      "\"LI. Some interesting mechanics, points salad with multiple ways to victory. Theme feels completely pasted on. This should have been made with some fction theme, like fantasy/magic probably. PnP redesign? 2nd edition coming in Summer 2021.\"\n",
      "score: 8.51\n",
      "\n",
      "\"2-4P (best 4) - 60/120mn  with insert and Houses of the Renaissance expansion  Worker placement/draft/variable player powers  FR\"\n",
      "score: 8.90\n",
      "\n",
      "\"First engine builder I've played. Good so far, but definitely need a replay or two now that I'm more comfortable with the mechanics.\"\n",
      "score: 9.11\n",
      "\n",
      "\"+ thematisch und spannend + runde, durchdachte Mechanismen + Abwechslung durch Modularität und Kampagne + Qualität und Artwork\"\n",
      "score: 9.12\n",
      "\n",
      "\"+Terraforming Mars: Hellas & Elysium (2017) +Terraforming Mars: Venus Next (2017) +Terraforming Mars: Self Replicating Robots Promo Card (2017) + Terraforming Mars: Snow Algae Promo Card (2017) \"\n",
      "score: 9.14\n",
      "\n",
      "\"STATUS: To Play Designer: Krzysztof Piskorski, Marcin Świerkot Publisher: Awaken Realms Player Count: 1-2 Best Notes: Kickstarter\"\n",
      "score: 9.30\n",
      "\n",
      "\"Da defustellare [sleeves]Fantasy Flight sleeve size: Standard Card Game - Gray (FFS05, 50/pack) - 63.5x88mm[/sleeves]\"\n",
      "score: 9.32\n",
      "\n",
      "\"[b]Expansions:[/b] [url= Bellfaire[/url] [url= Pearlbrook[/url] [url= Spirecrest[/url]  [b]Accessories:[/b] [url= Flight [color=#C6C6BE](Standard Card)[/color][/url][url= Everdell: Ever Tree (Wooden)[/url][url=  Everdell: Metal Token Set[/url]\"\n",
      "score: 9.39\n",
      "\n",
      "\"Have it sitting in my closet in shrink still. This will come out of the woodwork when I have a group to play with.\"\n",
      "score: 9.42\n",
      "\n",
      "\"2018 Origins Awards Best Board Game Nominee 2017 International Gamers Award - General Strategy: Multi-player Nominee\"\n",
      "score: 9.42\n",
      "\n",
      "\"Initial impressions...quick, snappy play with easy to grasp rules. Love maximizing your hand each turn. If you are a seasoned CCG or LCG player, standard is easy to win consistently. \"\n",
      "score: 9.45\n",
      "\n",
      "\"On aime y jouer à 2, à plus il devient long. Beau matériel et illustrations, ce qui participe au plaisir du jeu. Un jeu paisible, presque sans interaction, ou chacun collectionne des oiseaux et déclenche leurs actions. Bonne sensation de jeu qui devient de plus en plus puissant avec les manches.\"\n",
      "score: 10.00\n",
      "\n",
      "\"Kickstarter successfully funded on May 3 2019 Pledge Level: MARS COLONIST $89 One copy of Vital Lacerda's On Mars  (KS Edition) plus all unlocked Stretch Goals!  Backer number: 6,869 Estimated delivery: Oct 2019 Received: December 2019\"\n",
      "score: 10.00\n",
      "\n"
     ]
    }
   ],
   "source": [
    "some_long_comments.apply(lambda c: print(f\"\\\"{c['value']}\\\"\\nscore: {c['rating']:.2f}\\n\"), axis=1);"
   ]
  },
  {
   "cell_type": "code",
   "execution_count": null,
   "metadata": {},
   "outputs": [],
   "source": []
  }
 ],
 "metadata": {
  "kernelspec": {
   "display_name": "tensorflow2",
   "language": "python",
   "name": "tensorflow2"
  },
  "language_info": {
   "codemirror_mode": {
    "name": "ipython",
    "version": 3
   },
   "file_extension": ".py",
   "mimetype": "text/x-python",
   "name": "python",
   "nbconvert_exporter": "python",
   "pygments_lexer": "ipython3",
   "version": "3.8.8"
  }
 },
 "nbformat": 4,
 "nbformat_minor": 4
}
