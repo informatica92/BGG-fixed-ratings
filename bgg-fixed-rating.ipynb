{
 "cells": [
  {
   "cell_type": "code",
   "execution_count": null,
   "metadata": {},
   "outputs": [],
   "source": [
    "# ## BGG API\n",
    "# https://www.boardgamegeek.com/xmlapi2/thing?id=161599&comments=1\n",
    "# https://www.boardgamegeek.com/xmlapi2/hot?type=boardgame\n",
    "# ## NLP WITH TF\n",
    "# https://www.tensorflow.org/hub/tutorials/tf2_text_classification"
   ]
  },
  {
   "cell_type": "code",
   "execution_count": 2,
   "metadata": {},
   "outputs": [
    {
     "name": "stdout",
     "output_type": "stream",
     "text": [
      "Version:  2.4.0\n",
      "Eager mode:  True\n",
      "Hub version:  0.12.0\n",
      "GPU is available\n"
     ]
    }
   ],
   "source": [
    "import tensorflow as tf\n",
    "import tensorflow_hub as hub\n",
    "import tensorflow_datasets as tfds\n",
    "\n",
    "import xml.etree.ElementTree as Xet\n",
    "import matplotlib.pyplot as plt\n",
    "import pandas as pd\n",
    "import numpy as np\n",
    "import requests\n",
    "from IPython.display import Image, HTML\n",
    "\n",
    "from langdetect import detect\n",
    "import re\n",
    "\n",
    "print(\"Version: \", tf.__version__)\n",
    "print(\"Eager mode: \", tf.executing_eagerly())\n",
    "print(\"Hub version: \", hub.__version__)\n",
    "print(\"GPU is\", \"available\" if tf.config.list_physical_devices('GPU') else \"NOT AVAILABLE\")"
   ]
  },
  {
   "cell_type": "code",
   "execution_count": 3,
   "metadata": {},
   "outputs": [],
   "source": [
    "# tf.debugging.set_log_device_placement(True)"
   ]
  },
  {
   "cell_type": "code",
   "execution_count": 4,
   "metadata": {},
   "outputs": [],
   "source": [
    "GOOD_REVIEW_THRESHOLD = 7"
   ]
  },
  {
   "cell_type": "code",
   "execution_count": 5,
   "metadata": {},
   "outputs": [],
   "source": [
    "VAL_FRACTION = 0.25"
   ]
  },
  {
   "cell_type": "code",
   "execution_count": 6,
   "metadata": {},
   "outputs": [],
   "source": [
    "MIN_COMMENT_LEN = 25"
   ]
  },
  {
   "cell_type": "code",
   "execution_count": 7,
   "metadata": {},
   "outputs": [],
   "source": [
    "TOP_N = 5"
   ]
  },
  {
   "cell_type": "markdown",
   "metadata": {},
   "source": [
    "## GET DATA"
   ]
  },
  {
   "cell_type": "code",
   "execution_count": 8,
   "metadata": {},
   "outputs": [],
   "source": [
    "def get_hot_data():\n",
    "    hot = requests.get(\"https://www.boardgamegeek.com/xmlapi2/hot?type=boardgame\").content.decode()\n",
    "  \n",
    "    # Parsing the XML file\n",
    "    xmlparse = Xet.fromstring(hot)\n",
    "\n",
    "    hot_array = []\n",
    "    for item in xmlparse:\n",
    "        dict_element = {\n",
    "            \"id\": item.get(\"id\"),\n",
    "            \"rank\": item.get(\"rank\")\n",
    "        }\n",
    "        for option in item:\n",
    "            dict_element[option.tag] = option.get(\"value\")\n",
    "        hot_array.append(dict_element)\n",
    "    return hot_array"
   ]
  },
  {
   "cell_type": "code",
   "execution_count": 9,
   "metadata": {},
   "outputs": [],
   "source": [
    "def get_comments(id_array, verbose=1):\n",
    "    max_comments_per_page = 1\n",
    "    array_ids = [h['id'] for h in id_array]\n",
    "    ids = ','.join(array_ids)\n",
    "    page_size = 100\n",
    "    page_number = 0\n",
    "    comments_array = []\n",
    "\n",
    "    while max_comments_per_page > 0 and len(array_ids) > 0:\n",
    "        page_number += 1\n",
    "        if verbose>0 and page_number%verbose==0:\n",
    "            print(f\"page number = {page_number}\", end=\" \")\n",
    "        comments = requests.get(f\"https://www.boardgamegeek.com/xmlapi2/thing?id={ids}&comments=1&pagesize={page_size}&page={page_number}\").content.decode()\n",
    "\n",
    "        # Parsing the XML file\n",
    "        xmlparse = Xet.fromstring(comments)\n",
    "        comments_per_item = []\n",
    "        for item in xmlparse:        \n",
    "            for option in item:\n",
    "                if option.tag == 'comments':\n",
    "                    comments_per_page = 0\n",
    "                    for comment in option:\n",
    "                        comments_per_page += 1\n",
    "                        dict_element = {\n",
    "                            \"id\": item.get(\"id\"),\n",
    "                            \"username\": comment.get(\"username\"),\n",
    "                            \"rating\": comment.get(\"rating\"),\n",
    "                            \"value\": comment.get(\"value\")\n",
    "                        }\n",
    "                        comments_array.append(dict_element)\n",
    "                    if comments_per_page==0:\n",
    "                        array_ids.remove(item.get(\"id\"))\n",
    "                        ids = ','.join(array_ids)\n",
    "                    comments_per_item.append(comments_per_page)\n",
    "        max_comments_per_page = max(comments_per_item)\n",
    "        if verbose>0 and page_number%verbose==0:\n",
    "            print(f\"(max: {max(comments_per_item)}, len: {len(comments_per_item)})\")\n",
    "    comments_df = pd.DataFrame(comments_array)\n",
    "    print(f\"comments_df shape: {comments_df.shape}\")\n",
    "    return comments_df"
   ]
  },
  {
   "cell_type": "code",
   "execution_count": 10,
   "metadata": {},
   "outputs": [
    {
     "data": {
      "text/plain": [
       "[{'id': '337627',\n",
       "  'rank': '1',\n",
       "  'thumbnail': 'https://cf.geekdo-images.com/hItZjdDTNuaCZ7fEztwcUQ__thumb/img/Ov6eWR87PZ2O1XYQtXMO6KvfzOg=/fit-in/200x150/filters:strip_icc()/pic6153324.jpg',\n",
       "  'name': 'Voidfall',\n",
       "  'yearpublished': '2022'},\n",
       " {'id': '316624',\n",
       "  'rank': '2',\n",
       "  'thumbnail': 'https://cf.geekdo-images.com/eUiju5SqZbkNt8gnEofrTw__thumb/img/zNkmLNyeXJGOY24FeAAf4U67ejU=/fit-in/200x150/filters:strip_icc()/pic6035127.png',\n",
       "  'name': 'Stationfall',\n",
       "  'yearpublished': '2021'}]"
      ]
     },
     "execution_count": 10,
     "metadata": {},
     "output_type": "execute_result"
    }
   ],
   "source": [
    "hot_array = get_hot_data()\n",
    "hot_array[:2]"
   ]
  },
  {
   "cell_type": "code",
   "execution_count": 11,
   "metadata": {},
   "outputs": [
    {
     "name": "stderr",
     "output_type": "stream",
     "text": [
      "<ipython-input-11-3c366f14faf3>:2: FutureWarning: The pandas.datetime class is deprecated and will be removed from pandas in a future version. Import from datetime module instead.\n",
      "  comments_df = pd.read_csv(f\"comments_{pd.datetime.now().strftime('%Y%m%d')}.csv\")\n"
     ]
    },
    {
     "name": "stdout",
     "output_type": "stream",
     "text": [
      "missing csv file, getting new data using API...\n",
      "page number = 10 (max: 100, len: 23)\n",
      "page number = 20 (max: 100, len: 13)\n",
      "page number = 30 (max: 100, len: 10)\n",
      "page number = 40 (max: 100, len: 8)\n",
      "page number = 50 (max: 100, len: 4)\n",
      "page number = 60 (max: 100, len: 4)\n",
      "page number = 70 (max: 100, len: 3)\n",
      "page number = 80 (max: 100, len: 3)\n",
      "page number = 90 (max: 100, len: 2)\n",
      "page number = 100 (max: 0, len: 1)\n",
      "comments_df shape: (83027, 4)\n"
     ]
    },
    {
     "name": "stderr",
     "output_type": "stream",
     "text": [
      "<ipython-input-11-3c366f14faf3>:8: FutureWarning: The pandas.datetime class is deprecated and will be removed from pandas in a future version. Import from datetime module instead.\n",
      "  comments_df.to_csv(f\"comments_{pd.datetime.now().strftime('%Y%m%d')}.csv\", index=False)\n"
     ]
    },
    {
     "data": {
      "text/html": [
       "<div>\n",
       "<style scoped>\n",
       "    .dataframe tbody tr th:only-of-type {\n",
       "        vertical-align: middle;\n",
       "    }\n",
       "\n",
       "    .dataframe tbody tr th {\n",
       "        vertical-align: top;\n",
       "    }\n",
       "\n",
       "    .dataframe thead th {\n",
       "        text-align: right;\n",
       "    }\n",
       "</style>\n",
       "<table border=\"1\" class=\"dataframe\">\n",
       "  <thead>\n",
       "    <tr style=\"text-align: right;\">\n",
       "      <th></th>\n",
       "      <th>id</th>\n",
       "      <th>username</th>\n",
       "      <th>rating</th>\n",
       "      <th>value</th>\n",
       "    </tr>\n",
       "  </thead>\n",
       "  <tbody>\n",
       "    <tr>\n",
       "      <th>0</th>\n",
       "      <td>337627</td>\n",
       "      <td>BGFreakDag2PT</td>\n",
       "      <td>N/A</td>\n",
       "      <td>On Radar</td>\n",
       "    </tr>\n",
       "    <tr>\n",
       "      <th>1</th>\n",
       "      <td>337627</td>\n",
       "      <td>Bstalf21</td>\n",
       "      <td>N/A</td>\n",
       "      <td>KS fall?</td>\n",
       "    </tr>\n",
       "    <tr>\n",
       "      <th>2</th>\n",
       "      <td>337627</td>\n",
       "      <td>bucklen_uk</td>\n",
       "      <td>N/A</td>\n",
       "      <td>I don't rate my own games (doesn't seem approp...</td>\n",
       "    </tr>\n",
       "    <tr>\n",
       "      <th>3</th>\n",
       "      <td>337627</td>\n",
       "      <td>carlcorey</td>\n",
       "      <td>N/A</td>\n",
       "      <td>Turczi / Mindclash with O'Toole design, intere...</td>\n",
       "    </tr>\n",
       "    <tr>\n",
       "      <th>4</th>\n",
       "      <td>337627</td>\n",
       "      <td>Dark Herald</td>\n",
       "      <td>N/A</td>\n",
       "      <td>Notes: To Consider</td>\n",
       "    </tr>\n",
       "    <tr>\n",
       "      <th>...</th>\n",
       "      <td>...</td>\n",
       "      <td>...</td>\n",
       "      <td>...</td>\n",
       "      <td>...</td>\n",
       "    </tr>\n",
       "    <tr>\n",
       "      <th>83022</th>\n",
       "      <td>167791</td>\n",
       "      <td>z_zadar</td>\n",
       "      <td>9</td>\n",
       "      <td>Some games are so much fun. Others can be a li...</td>\n",
       "    </tr>\n",
       "    <tr>\n",
       "      <th>83023</th>\n",
       "      <td>167791</td>\n",
       "      <td>_Czid_</td>\n",
       "      <td>8</td>\n",
       "      <td>Have played with Elysium and Prelude expansion...</td>\n",
       "    </tr>\n",
       "    <tr>\n",
       "      <th>83024</th>\n",
       "      <td>167791</td>\n",
       "      <td>_Marty_</td>\n",
       "      <td>9.5</td>\n",
       "      <td>Fantastic game. With so many cards that can ch...</td>\n",
       "    </tr>\n",
       "    <tr>\n",
       "      <th>83025</th>\n",
       "      <td>167791</td>\n",
       "      <td>_mun_</td>\n",
       "      <td>10</td>\n",
       "      <td>Nagyon izgalmas játék, jó a mechanizmusa. A sz...</td>\n",
       "    </tr>\n",
       "    <tr>\n",
       "      <th>83026</th>\n",
       "      <td>167791</td>\n",
       "      <td>_The_Inquiry_</td>\n",
       "      <td>5</td>\n",
       "      <td>Prior to 2020: 2 plays  TM is one of those gam...</td>\n",
       "    </tr>\n",
       "  </tbody>\n",
       "</table>\n",
       "<p>83027 rows × 4 columns</p>\n",
       "</div>"
      ],
      "text/plain": [
       "           id       username rating  \\\n",
       "0      337627  BGFreakDag2PT    N/A   \n",
       "1      337627       Bstalf21    N/A   \n",
       "2      337627     bucklen_uk    N/A   \n",
       "3      337627      carlcorey    N/A   \n",
       "4      337627    Dark Herald    N/A   \n",
       "...       ...            ...    ...   \n",
       "83022  167791        z_zadar      9   \n",
       "83023  167791         _Czid_      8   \n",
       "83024  167791        _Marty_    9.5   \n",
       "83025  167791          _mun_     10   \n",
       "83026  167791  _The_Inquiry_      5   \n",
       "\n",
       "                                                   value  \n",
       "0                                               On Radar  \n",
       "1                                               KS fall?  \n",
       "2      I don't rate my own games (doesn't seem approp...  \n",
       "3      Turczi / Mindclash with O'Toole design, intere...  \n",
       "4                                     Notes: To Consider  \n",
       "...                                                  ...  \n",
       "83022  Some games are so much fun. Others can be a li...  \n",
       "83023  Have played with Elysium and Prelude expansion...  \n",
       "83024  Fantastic game. With so many cards that can ch...  \n",
       "83025  Nagyon izgalmas játék, jó a mechanizmusa. A sz...  \n",
       "83026  Prior to 2020: 2 plays  TM is one of those gam...  \n",
       "\n",
       "[83027 rows x 4 columns]"
      ]
     },
     "execution_count": 11,
     "metadata": {},
     "output_type": "execute_result"
    }
   ],
   "source": [
    "try:\n",
    "    comments_df = pd.read_csv(f\"comments_{pd.datetime.now().strftime('%Y%m%d')}.csv\")\n",
    "    comments_df['rating'] = comments_df.rating.fillna('N/A')\n",
    "    print(\"reading dataframe from csv file...\")\n",
    "except:\n",
    "    print(\"missing csv file, getting new data using API...\")\n",
    "    comments_df = get_comments(hot_array, verbose=10)\n",
    "    comments_df.to_csv(f\"comments_{pd.datetime.now().strftime('%Y%m%d')}.csv\", index=False)\n",
    "comments_df"
   ]
  },
  {
   "cell_type": "markdown",
   "metadata": {},
   "source": [
    "## DATA CLEANING"
   ]
  },
  {
   "cell_type": "code",
   "execution_count": 12,
   "metadata": {},
   "outputs": [],
   "source": [
    "# probably we should keep all the ratings (no matters the len) and remove only the simple comments under a certain len  "
   ]
  },
  {
   "cell_type": "code",
   "execution_count": 13,
   "metadata": {},
   "outputs": [],
   "source": [
    "comments_df[\"value\"] = comments_df[\"value\"].astype(str)"
   ]
  },
  {
   "cell_type": "code",
   "execution_count": 14,
   "metadata": {},
   "outputs": [],
   "source": [
    "# REMOVE URLs FROM COMMENTS"
   ]
  },
  {
   "cell_type": "code",
   "execution_count": 15,
   "metadata": {},
   "outputs": [],
   "source": [
    "comments_df['value'] = [re.sub(r\"http\\S+\", \"\", v) for v in comments_df.value.values]"
   ]
  },
  {
   "cell_type": "code",
   "execution_count": 16,
   "metadata": {},
   "outputs": [],
   "source": [
    "# REMOVE SHORT COMMENTS\n",
    "def remove_short_comments(df: pd.DataFrame, min_len=25, method='unrated'):\n",
    "    if method not in ['unrated', 'rated', 'both']:\n",
    "        raise AttributeError(f\"method {method} not allowed\")\n",
    "    df_local = df.copy()    \n",
    "    df_local['comment_len'] = [len(re.findall(\"[A-Za-z]\", v)) for v in df_local['value'].values]\n",
    "    if method == 'rated':\n",
    "        df_local = df_local.query('(comment_len>@min_len and rating != \"N/A\") or rating == \"N/A\"')\n",
    "    elif method == 'unrated':\n",
    "        df_local = df_local.query('(comment_len>@min_len and rating == \"N/A\") or rating != \"N/A\"')\n",
    "    else:\n",
    "        df_local = df_local.query('comment_len>@min_len')\n",
    "    print(f\"removed {len(df)-len(df_local)} for 'remove_short_comments' - min len: {min_len} - method: {method}\")\n",
    "    return df_local.reset_index(drop=True)"
   ]
  },
  {
   "cell_type": "code",
   "execution_count": 17,
   "metadata": {},
   "outputs": [
    {
     "name": "stdout",
     "output_type": "stream",
     "text": [
      "removed 14229 for 'remove_short_comments' - min len: 25 - method: unrated\n"
     ]
    }
   ],
   "source": [
    "comments_df = remove_short_comments(comments_df, MIN_COMMENT_LEN)"
   ]
  },
  {
   "cell_type": "code",
   "execution_count": 18,
   "metadata": {},
   "outputs": [],
   "source": [
    "# REMOVE NON ENGLISH COMMENTS"
   ]
  },
  {
   "cell_type": "code",
   "execution_count": 19,
   "metadata": {},
   "outputs": [],
   "source": [
    "# !conda install -c conda-forge langdetect"
   ]
  },
  {
   "cell_type": "code",
   "execution_count": 20,
   "metadata": {},
   "outputs": [],
   "source": [
    "# def add_comments_lang(df: pd.DataFrame):\n",
    "#     df_local = df.copy()\n",
    "#     df_local['lang'] = df['value'].apply(detect)\n",
    "#     return df_local.reset_index(drop=True)"
   ]
  },
  {
   "cell_type": "code",
   "execution_count": 21,
   "metadata": {},
   "outputs": [],
   "source": [
    "# comments_df = add_comments_lang(comments_df)"
   ]
  },
  {
   "cell_type": "code",
   "execution_count": 22,
   "metadata": {},
   "outputs": [],
   "source": [
    "# comments_df = comments_df.query('lang == \"en\"')"
   ]
  },
  {
   "cell_type": "markdown",
   "metadata": {},
   "source": [
    "## SPLIT RATED AND NON-RATED COMMENTS"
   ]
  },
  {
   "cell_type": "code",
   "execution_count": 23,
   "metadata": {},
   "outputs": [
    {
     "data": {
      "text/plain": [
       "10        13628\n",
       "9         12872\n",
       "8         10724\n",
       "7          5997\n",
       "N/A        5824\n",
       "          ...  \n",
       "9.849         1\n",
       "7.78          1\n",
       "9.17          1\n",
       "9.2333        1\n",
       "7.65          1\n",
       "Name: rating, Length: 498, dtype: int64"
      ]
     },
     "execution_count": 23,
     "metadata": {},
     "output_type": "execute_result"
    }
   ],
   "source": [
    "# count number of comments per rating (N/A included)\n",
    "comments_df.rating.value_counts()"
   ]
  },
  {
   "cell_type": "code",
   "execution_count": 24,
   "metadata": {},
   "outputs": [
    {
     "data": {
      "text/plain": [
       "(62974, 5)"
      ]
     },
     "execution_count": 24,
     "metadata": {},
     "output_type": "execute_result"
    }
   ],
   "source": [
    "# get rated comments only\n",
    "rated_comments = comments_df.query('rating != \"N/A\"')\n",
    "rated_comments.shape"
   ]
  },
  {
   "cell_type": "code",
   "execution_count": 25,
   "metadata": {},
   "outputs": [
    {
     "data": {
      "text/plain": [
       "(5824, 5)"
      ]
     },
     "execution_count": 25,
     "metadata": {},
     "output_type": "execute_result"
    }
   ],
   "source": [
    "# get non rated comments only\n",
    "not_rated_comments = comments_df.query('rating == \"N/A\"').reset_index(drop=True)\n",
    "not_rated_comments.shape"
   ]
  },
  {
   "cell_type": "markdown",
   "metadata": {},
   "source": [
    "## CREATE TRAINING AND VALIDATION DATA"
   ]
  },
  {
   "cell_type": "code",
   "execution_count": 26,
   "metadata": {},
   "outputs": [],
   "source": [
    "# use rated comments (reviews) to train the model"
   ]
  },
  {
   "cell_type": "code",
   "execution_count": 27,
   "metadata": {},
   "outputs": [],
   "source": [
    "rated_comments = rated_comments.sample(frac=1)"
   ]
  },
  {
   "cell_type": "code",
   "execution_count": 28,
   "metadata": {},
   "outputs": [],
   "source": [
    "# create training X and y\n",
    "train_examples = list(rated_comments.value)\n",
    "train_labels = list((rated_comments.rating.astype(float)>=GOOD_REVIEW_THRESHOLD).astype(int))"
   ]
  },
  {
   "cell_type": "code",
   "execution_count": 29,
   "metadata": {},
   "outputs": [
    {
     "name": "stdout",
     "output_type": "stream",
     "text": [
      "example of positive rating:\n"
     ]
    },
    {
     "data": {
      "text/plain": [
       "'LC 8'"
      ]
     },
     "execution_count": 29,
     "metadata": {},
     "output_type": "execute_result"
    }
   ],
   "source": [
    "print(\"example of positive rating:\")\n",
    "train_examples[train_labels.index(1)]"
   ]
  },
  {
   "cell_type": "code",
   "execution_count": 30,
   "metadata": {},
   "outputs": [
    {
     "name": "stdout",
     "output_type": "stream",
     "text": [
      "example of negative rating:\n"
     ]
    },
    {
     "data": {
      "text/plain": [
       "\"Don't really get the hype - Wingspan is a pretty standard tableau builder with nice artwork and near zero player interaction. After four games my wife and I didn't have any incentive to play again as the birds are all very similar and the actions themselves didn't feel meaningful at all. okayish game, nothing more.\""
      ]
     },
     "execution_count": 30,
     "metadata": {},
     "output_type": "execute_result"
    }
   ],
   "source": [
    "print(\"example of negative rating:\")\n",
    "train_examples[train_labels.index(0)]"
   ]
  },
  {
   "cell_type": "code",
   "execution_count": 31,
   "metadata": {},
   "outputs": [],
   "source": [
    "# create validation dataset from training\n",
    "validation_len = int(len(train_examples)*VAL_FRACTION)\n",
    "validation_len\n",
    "\n",
    "x_val = train_examples[:validation_len]\n",
    "x_train = train_examples[validation_len:]\n",
    "\n",
    "y_val = train_labels[:validation_len]\n",
    "y_train = train_labels[validation_len:]"
   ]
  },
  {
   "cell_type": "markdown",
   "metadata": {},
   "source": [
    "## COMPOSE MODEL"
   ]
  },
  {
   "cell_type": "code",
   "execution_count": 32,
   "metadata": {},
   "outputs": [
    {
     "data": {
      "text/plain": [
       "<tf.Tensor: shape=(2, 50), dtype=float32, numpy=\n",
       "array([[-0.16237031, -0.05009064, -0.15891637,  0.14687212,  0.2252068 ,\n",
       "         0.00730897, -0.08948039,  0.0214909 , -0.144932  ,  0.17174168,\n",
       "        -0.01367239, -0.09053041,  0.03496843,  0.06849875, -0.1391235 ,\n",
       "        -0.02027045,  0.17536227,  0.2974281 ,  0.03926269,  0.02313477,\n",
       "        -0.21256162,  0.09157778,  0.10012184,  0.28368488,  0.26099846,\n",
       "        -0.20716955,  0.05314457,  0.06847822, -0.20770219, -0.00608381,\n",
       "         0.11006093, -0.13822348, -0.1556432 , -0.01513675,  0.35322368,\n",
       "        -0.06797263,  0.0549089 , -0.13240843,  0.3866089 , -0.16971214,\n",
       "        -0.05505161, -0.16877115, -0.00526862, -0.10165185, -0.13603258,\n",
       "         0.07116205,  0.2489617 , -0.17128159, -0.0152873 , -0.00334361],\n",
       "       [ 0.0867168 , -0.05431235, -0.07459032, -0.05199797, -0.05090012,\n",
       "         0.08221781,  0.18178725,  0.02340135, -0.26069438,  0.11995125,\n",
       "         0.18247631, -0.03866523,  0.13961172,  0.03410188,  0.11638098,\n",
       "         0.13009465, -0.12486272,  0.03600658,  0.13358483,  0.21386407,\n",
       "         0.12367247,  0.00720045,  0.07198725,  0.05514002, -0.03222121,\n",
       "        -0.22229248, -0.1373628 , -0.00574208, -0.08143723,  0.04555017,\n",
       "        -0.10315633, -0.02093653,  0.21847174, -0.03807957,  0.17760311,\n",
       "        -0.24290387,  0.10866806,  0.07890287, -0.03074483, -0.09640653,\n",
       "         0.03090697,  0.07733913, -0.06046607,  0.00334297, -0.1827217 ,\n",
       "         0.32632217, -0.18320464,  0.05571125,  0.19099662,  0.26559517]],\n",
       "      dtype=float32)>"
      ]
     },
     "execution_count": 32,
     "metadata": {},
     "output_type": "execute_result"
    }
   ],
   "source": [
    "model = \"https://tfhub.dev/google/nnlm-en-dim50/2\"\n",
    "hub_layer = hub.KerasLayer(model, input_shape=[], dtype=tf.string, trainable=True)\n",
    "hub_layer(train_examples[:2])"
   ]
  },
  {
   "cell_type": "code",
   "execution_count": 33,
   "metadata": {},
   "outputs": [
    {
     "name": "stdout",
     "output_type": "stream",
     "text": [
      "Model: \"sequential\"\n",
      "_________________________________________________________________\n",
      "Layer (type)                 Output Shape              Param #   \n",
      "=================================================================\n",
      "keras_layer (KerasLayer)     (None, 50)                48190600  \n",
      "_________________________________________________________________\n",
      "dense (Dense)                (None, 16)                816       \n",
      "_________________________________________________________________\n",
      "dense_1 (Dense)              (None, 1)                 17        \n",
      "=================================================================\n",
      "Total params: 48,191,433\n",
      "Trainable params: 48,191,433\n",
      "Non-trainable params: 0\n",
      "_________________________________________________________________\n"
     ]
    }
   ],
   "source": [
    "model = tf.keras.Sequential()\n",
    "model.add(hub_layer)\n",
    "model.add(tf.keras.layers.Dense(16, activation='relu'))\n",
    "model.add(tf.keras.layers.Dense(1))\n",
    "\n",
    "model.summary()"
   ]
  },
  {
   "cell_type": "code",
   "execution_count": 34,
   "metadata": {},
   "outputs": [],
   "source": [
    "model.compile(\n",
    "    optimizer='adam',\n",
    "    loss=tf.losses.BinaryCrossentropy(from_logits=True),\n",
    "    metrics=[tf.metrics.BinaryAccuracy(threshold=0.0, name='accuracy')]\n",
    ")"
   ]
  },
  {
   "cell_type": "markdown",
   "metadata": {},
   "source": [
    "## TRAINING MODEL "
   ]
  },
  {
   "cell_type": "code",
   "execution_count": 35,
   "metadata": {},
   "outputs": [
    {
     "name": "stdout",
     "output_type": "stream",
     "text": [
      "Epoch 1/40\n",
      "93/93 - 8s - loss: 0.4595 - accuracy: 0.8445 - val_loss: 0.3660 - val_accuracy: 0.8617\n",
      "Epoch 2/40\n",
      "93/93 - 5s - loss: 0.3194 - accuracy: 0.8757 - val_loss: 0.3178 - val_accuracy: 0.8736\n",
      "Epoch 3/40\n",
      "93/93 - 5s - loss: 0.2637 - accuracy: 0.8961 - val_loss: 0.3077 - val_accuracy: 0.8794\n",
      "Epoch 4/40\n",
      "93/93 - 5s - loss: 0.2266 - accuracy: 0.9120 - val_loss: 0.3125 - val_accuracy: 0.8768\n",
      "Epoch 5/40\n",
      "93/93 - 5s - loss: 0.1988 - accuracy: 0.9234 - val_loss: 0.3259 - val_accuracy: 0.8723\n",
      "Epoch 6/40\n",
      "93/93 - 5s - loss: 0.1769 - accuracy: 0.9329 - val_loss: 0.3447 - val_accuracy: 0.8690\n",
      "Epoch 7/40\n",
      "93/93 - 5s - loss: 0.1589 - accuracy: 0.9413 - val_loss: 0.3676 - val_accuracy: 0.8642\n",
      "Epoch 8/40\n",
      "93/93 - 5s - loss: 0.1441 - accuracy: 0.9467 - val_loss: 0.3917 - val_accuracy: 0.8613\n"
     ]
    }
   ],
   "source": [
    "history = model.fit(\n",
    "    x_train,\n",
    "    y_train,\n",
    "    epochs=40,\n",
    "    batch_size=512,\n",
    "    validation_data=(x_val, y_val),\n",
    "    verbose=2,\n",
    "    callbacks=[\n",
    "        tf.keras.callbacks.EarlyStopping(monitor='val_accuracy', patience=5, min_delta=0.001)\n",
    "    ]\n",
    ")"
   ]
  },
  {
   "cell_type": "code",
   "execution_count": 36,
   "metadata": {},
   "outputs": [
    {
     "data": {
      "text/plain": [
       "dict_keys(['loss', 'accuracy', 'val_loss', 'val_accuracy'])"
      ]
     },
     "execution_count": 36,
     "metadata": {},
     "output_type": "execute_result"
    }
   ],
   "source": [
    "history_dict = history.history\n",
    "history_dict.keys()"
   ]
  },
  {
   "cell_type": "code",
   "execution_count": 37,
   "metadata": {},
   "outputs": [],
   "source": [
    "acc = history_dict['accuracy']\n",
    "val_acc = history_dict['val_accuracy']\n",
    "loss = history_dict['loss']\n",
    "val_loss = history_dict['val_loss']"
   ]
  },
  {
   "cell_type": "code",
   "execution_count": 38,
   "metadata": {},
   "outputs": [],
   "source": [
    "epochs = range(1, len(acc) + 1) "
   ]
  },
  {
   "cell_type": "code",
   "execution_count": 39,
   "metadata": {},
   "outputs": [
    {
     "data": {
      "image/png": "[encoded data removed]",
      "text/plain": [
       "<Figure size 648x360 with 1 Axes>"
      ]
     },
     "metadata": {
      "needs_background": "light"
     },
     "output_type": "display_data"
    }
   ],
   "source": [
    "# \"bo\" is for \"blue dot\"\n",
    "plt.figure(figsize=(9, 5))\n",
    "plt.plot(epochs, loss, 'bo', label='Training loss')\n",
    "# b is for \"solid blue line\"\n",
    "plt.plot(epochs, val_loss, 'b', label='Validation loss')\n",
    "plt.title('Training and validation loss')\n",
    "plt.xlabel('Epochs')\n",
    "plt.ylabel('Loss')\n",
    "plt.grid(True)\n",
    "plt.legend()\n",
    "\n",
    "plt.show()"
   ]
  },
  {
   "cell_type": "code",
   "execution_count": 40,
   "metadata": {},
   "outputs": [
    {
     "data": {
      "image/png": "[encoded data removed]",
      "text/plain": [
       "<Figure size 648x360 with 1 Axes>"
      ]
     },
     "metadata": {
      "needs_background": "light"
     },
     "output_type": "display_data"
    }
   ],
   "source": [
    "plt.figure(figsize=(9, 5))\n",
    "plt.plot(epochs, acc, 'bo', label='Training acc')\n",
    "plt.plot(epochs, val_acc, 'b', label='Validation acc')\n",
    "plt.title('Training and validation accuracy')\n",
    "plt.xlabel('Epochs')\n",
    "plt.ylabel('Accuracy')\n",
    "plt.grid(True)\n",
    "plt.legend()\n",
    "\n",
    "plt.show()"
   ]
  },
  {
   "cell_type": "code",
   "execution_count": 41,
   "metadata": {},
   "outputs": [],
   "source": [
    "def print_my_examples(inputs, results, actual_values=None, limit=None):\n",
    "    if actual_values is None:\n",
    "        result_for_printing = [f'input:\\n\"{inputs[i]}\"\\nscore: {results[i][0]:.6f}' for i in range(len(inputs))]\n",
    "    else:\n",
    "        result_for_printing = [f'input:\\n\"{inputs[i]}\"\\nscore: {results[i][0]:.6f}\\nactual value:{actual_values[i]}' for i in range(len(inputs))]\n",
    "    if limit:\n",
    "        result_for_printing = result_for_printing[:limit]\n",
    "    print(*result_for_printing, sep='\\n\\n')"
   ]
  },
  {
   "cell_type": "code",
   "execution_count": 42,
   "metadata": {},
   "outputs": [
    {
     "name": "stdout",
     "output_type": "stream",
     "text": [
      "input:\n",
      "\"Christmas 2019 gift from Punkyy.\"\n",
      "score: 0.995172\n",
      "actual value:1\n",
      "\n",
      "input:\n",
      "\"I've played this game maybe 65-70 times now and it's still engaging, still interesting, still challenging, and we're still unlocking new things. Couldn't recommend this game enough.\"\n",
      "score: 0.999163\n",
      "actual value:1\n",
      "\n",
      "input:\n",
      "\"An excellently executed game system which provides a variety of routes to victory and a tension lacking in many other games. Incredibly ambitious in what it seeks to achieve, and is successful in its application. In spite of the frankly tragic graphic design/'illustration', the game is visually intuitive(ish) and surprisingly feels somewhat thematically immersive.  With greater care in design of the thematic fluff, and a redo of the visuals, I could see this being one of the greatest games of the modern era.\"\n",
      "score: 0.990016\n",
      "actual value:1\n",
      "\n",
      "input:\n",
      "\"A friend owns this together with the Lizard expansion. Takes at least 2-3 games to understand the game fully, but is amazing afterwards. So don't expect too much on your first games, just learn how it works and you'll enjoy it later!\"\n",
      "score: 0.984893\n",
      "actual value:1\n",
      "\n",
      "input:\n",
      "\"So... I have this problem with coops and solo games. I just don't enjoy them. This game is an exception to the rule. Wow the way it plays is very puzzle-like and makes me want to get a group together. I've played the first dungeon 1.5 times and realized this is a journey I want to invest in. I am debating going solo or getting a group.\"\n",
      "score: 0.982579\n",
      "actual value:1\n",
      "\n",
      "input:\n",
      "\"When I first saw this game I was so drawn in by the artwork, and was worried that it was a pretty game with no substance. Quite the contrary! This is an excellent twist on bidding and set collection. My only gripe with the game is how it seems to grind to a halt on the first few times a player unlocks a hero (due to the sheer number of options). I was a bit worried that the game was too short, but it was just long enough to feel like you achieved something, without overstaying its welcome.\"\n",
      "score: 0.967477\n",
      "actual value:1\n",
      "\n",
      "input:\n",
      "\"The rules are smooth but the amount of choice can be overwhelming. Stick through it, for the final reward is a real gem of a game.\"\n",
      "score: 0.976341\n",
      "actual value:1\n",
      "\n",
      "input:\n",
      "\"Played once. One sticker has been placed on the board after the very first quest.\"\n",
      "score: 0.981445\n",
      "actual value:1\n",
      "\n",
      "input:\n",
      "\"This is an interesting one. I think the theming is great and the tension really builds throughout a session. When I played it solo, I came away with a positive view excited to play it again.   Then, I played it at 2 player and the game totally dragged. We didn't even do custom deckbuilding, just used the suggested decks, but the game itself just took so long to resolve. For the last 30 min of the game, the sense of wanting it to end was palpable.   Deckbuilding looks fun. My partner and I are going to give it one more session, and if it feels as dragging as the last session I will get rid of it. If it doesn't hook us after 2 session then it's not really worth it moving forward.  6 rating is temporary, after one 1p game and one 2p game. Could go up or down depending how the next session goes.  *Final Edit*: I think the game could be great but requires a very specific group as well as a dedication to the system. With just the base game, there simply isn't enough decision making in deckbuilding for 2 players. You definitely need at least 1 additional coreset (or preferably some expansion/new cards) to fully explore the deckbuilding.   Since the deckbuilding/deck progress probably represents a pretty large chunk of the fun of the game, the base game on its own isn't really too good. I think it's still fun, and would definitely play it if I had a dedicated group, but ultimately it's not for me and I am trading it.\"\n",
      "score: 0.394856\n",
      "actual value:0\n",
      "\n",
      "input:\n",
      "\"I enjoyed: - being able to select scoring conditions - looking at the pretty main board  I disliked: - how terrible the component quality is (One slight movement of the table, and we're all freaking out about where our cubes were on our tracks. Why are the player boards such thin, flimsy paper? Why not put the time and money into making thick boards with indentations for cubes to lay into and prevent movement? Why is the art so inconsistent in style on all the cards? Why not put in the time and money to come up with solid, consistent art on all the cards? Why would a publisher half-work SO MUCH of the game? Why do that to your customers?) - the kinda arbitrary placement of stuff on the map (Why can I only build this specific city only in this spot? Maybe I want it on the tile above? Or on the other side of the planet.) - the so very repetitive nature of it all (Buy cards. Maybe use them. Move a/some cubes. Get more cubes. Repeat.) - that for how \"scientific\" this game is, it's still not very realistic (Smashing a moon into the planet would wipe out pretty much everything that we have accomplished up to this point. Puppies? Warm temperature? Yeah, they're gone. Welcome to the Ice Age.) - the engine that I'm building with the cards is just not satisfying at the end of the game (\"I did it. There are cubes and tiles on the map. Huh.\" Just such a hollow feeling after so long a time spent looking at awful cards and rearranging my cubes because of table bumps.) - that the game does not reward more plays because it's so ridiculously balanced (I was just two points away from the winning player, who had played this game many more times than me. This doesn't feel right at all.) - there's not much strategy beyond \"Use the cards to build your engine\" (You avoid this, and you lose. The corporation you play as is just a trick to make you feel like you're playing a different game every time, but you're not.) - that the corporations are too simple in the asymmetry that it doesn't really matter what you choose to play as - that there were so many occasions that I actually DIDN'T want to advance the game because it would mean someone else would score something on a track, thereby prolonging the repetitive nature of the game even more (The game rewards you RESISTING playing the game. That's not right.) - that the game drags on for far too long, and if you play the game strategically, it drags on for EVEN LONGER  Final verdict: It baffles me that people are so blind to this game's ridiculous list of problems.\"\n",
      "score: 0.003869\n",
      "actual value:0\n"
     ]
    }
   ],
   "source": [
    "inputs = x_train[:10]\n",
    "outputs = y_train[:10]\n",
    "results = tf.sigmoid(model.predict(tf.constant(inputs)))\n",
    "print_my_examples(inputs, results, outputs)"
   ]
  },
  {
   "cell_type": "code",
   "execution_count": 43,
   "metadata": {},
   "outputs": [],
   "source": [
    "## APPLY MODEL ON NON-RATED COMMENTS"
   ]
  },
  {
   "cell_type": "code",
   "execution_count": 44,
   "metadata": {},
   "outputs": [
    {
     "name": "stdout",
     "output_type": "stream",
     "text": [
      "input:\n",
      "\"Regelheft gelesen. Würde ich gerne mal mitspielen.\"\n",
      "score: 0.754013\n",
      "\n",
      "input:\n",
      "\"Also not-shit Monopoly!   Caveat: complex af\"\n",
      "score: 0.193213\n",
      "\n",
      "input:\n",
      "\"Zweispielerspiel mit Cthulhu\"\n",
      "score: 0.996037\n",
      "\n",
      "input:\n",
      "\"I bought it for my mother as a Xmass gift and she love it.\"\n",
      "score: 0.995975\n",
      "\n",
      "input:\n",
      "\"Kinda meh actually. It's really good looking, but I find the game pretty bland, as if it's too simple and friendly. I've felt the same about Stegmaier's other games.\"\n",
      "score: 0.122948\n",
      "\n",
      "input:\n",
      "\"Has been so consistently recommended as a great euro (even years after publication) that i want it sight unseen.\"\n",
      "score: 0.999991\n",
      "\n",
      "input:\n",
      "\"MUY BUEN JUEGO, UN EURO AL 100%, EL MEJOR VAQUERO, CONSTRUCTOR E INGENIERO GANARA,  GESTIONAR BIEN TU MAZO DE GANADO TE DARÁ LA VICTORIA, CONCENTRADO EN LAS CARTAS DE OBJETIVO AHÍ ES DONDE HAY MAS PUNTOS. MUY RECOMENDADO\"\n",
      "score: 0.999999\n",
      "\n",
      "input:\n",
      "\"The Wind Gambit, Invaders from Afar and The Rise of Fenris expansions included. \"\n",
      "score: 0.993932\n",
      "\n",
      "input:\n",
      "\"Cooperative story-driven pirate game by Plaid Hat Games (Dead of Winter).  Related games: * 7th Continent\"\n",
      "score: 0.906649\n",
      "\n",
      "input:\n",
      "\"mit Erweiterung: Rails to the North\"\n",
      "score: 0.997190\n",
      "\n",
      "input:\n",
      "\"+ Deluxe Expansions, Mythos Packs\"\n",
      "score: 0.998375\n",
      "\n",
      "input:\n",
      "\"nejlepsi subjektivni hry v cestine za 2020 podle rexhry\"\n",
      "score: 0.983482\n",
      "\n",
      "input:\n",
      "\"Nice entry point into Gloomhaven. The characters are interesting too. I wouldn't recommend it as a standalone game, because the replayability will not be that high.\"\n",
      "score: 0.961661\n",
      "\n",
      "input:\n",
      "\"Not Played. Maybe my wife and I will try it together sometime. It seems popular with couples.\"\n",
      "score: 0.615530\n",
      "\n",
      "input:\n",
      "\"Watched a playthrough and this looks good, but I'm pretty sure it falls just short of being a game I would want to own.\"\n",
      "score: 0.904694\n",
      "\n",
      "input:\n",
      "\"Beautiful components but really complex.\"\n",
      "score: 0.883796\n",
      "\n",
      "input:\n",
      "\"2-4 best 4 Worker placement strictly a 4 player game\"\n",
      "score: 0.998490\n",
      "\n",
      "input:\n",
      "\"Retail (401 Games): June 2020 Delivered: August 2020\"\n",
      "score: 0.999438\n",
      "\n",
      "input:\n",
      "\"Tabletop Simulator DLC version. \"\n",
      "score: 0.635971\n",
      "\n",
      "input:\n",
      "\"Midweight Worker Placement/Deck builder hybrid\"\n",
      "score: 0.714087\n",
      "\n",
      "input:\n",
      "\"My favorite game at the moment. Incredibly tight gameplay. Very interactive for a euro game (although the interaction is subtle.)\"\n",
      "score: 0.997794\n",
      "\n",
      "input:\n",
      "\"Good for 2-6 players 3.36 weight  World's Afar expansion Ship Wash Play Mat\"\n",
      "score: 0.997356\n",
      "\n",
      "input:\n",
      "\"3-O105 FryxGames HB, Vellinge 3-M107 Stronghold Games LLC, Somerset\"\n",
      "score: 0.993039\n",
      "\n",
      "input:\n",
      "\"We played through a good chunk of a campaign with a friend using his copy but unfortunately he moved. But wow love this game.\"\n",
      "score: 0.638639\n",
      "\n",
      "input:\n",
      "\"1-4 Players // Best 2 // 90-120 min // All Expansions\"\n",
      "score: 0.985411\n"
     ]
    }
   ],
   "source": [
    "not_rated_comments = not_rated_comments.sample(frac=1)\n",
    "results = tf.sigmoid(model.predict(tf.constant(list(not_rated_comments.value.astype(str)))))\n",
    "print_my_examples(list(not_rated_comments.value), results, limit=25)"
   ]
  },
  {
   "cell_type": "markdown",
   "metadata": {},
   "source": [
    "## COMBINE RATED COMMENTS AND NOT-RATED COMMENTS WITH PREDICTED RATING"
   ]
  },
  {
   "cell_type": "code",
   "execution_count": 45,
   "metadata": {},
   "outputs": [
    {
     "data": {
      "text/html": [
       "<div>\n",
       "<style scoped>\n",
       "    .dataframe tbody tr th:only-of-type {\n",
       "        vertical-align: middle;\n",
       "    }\n",
       "\n",
       "    .dataframe tbody tr th {\n",
       "        vertical-align: top;\n",
       "    }\n",
       "\n",
       "    .dataframe thead th {\n",
       "        text-align: right;\n",
       "    }\n",
       "</style>\n",
       "<table border=\"1\" class=\"dataframe\">\n",
       "  <thead>\n",
       "    <tr style=\"text-align: right;\">\n",
       "      <th></th>\n",
       "      <th>id</th>\n",
       "      <th>username</th>\n",
       "      <th>rating</th>\n",
       "      <th>value</th>\n",
       "      <th>comment_len</th>\n",
       "    </tr>\n",
       "  </thead>\n",
       "  <tbody>\n",
       "    <tr>\n",
       "      <th>41844</th>\n",
       "      <td>169786</td>\n",
       "      <td>ericbad</td>\n",
       "      <td>10</td>\n",
       "      <td>LC 8</td>\n",
       "      <td>2</td>\n",
       "    </tr>\n",
       "    <tr>\n",
       "      <th>48116</th>\n",
       "      <td>205637</td>\n",
       "      <td>piett2k</td>\n",
       "      <td>10</td>\n",
       "      <td>Best (coop) card game ever, cant wait for expa...</td>\n",
       "      <td>41</td>\n",
       "    </tr>\n",
       "    <tr>\n",
       "      <th>18900</th>\n",
       "      <td>266192</td>\n",
       "      <td>brasov</td>\n",
       "      <td>6</td>\n",
       "      <td>Don't really get the hype - Wingspan is a pret...</td>\n",
       "      <td>254</td>\n",
       "    </tr>\n",
       "    <tr>\n",
       "      <th>11853</th>\n",
       "      <td>316554</td>\n",
       "      <td>kinkykone</td>\n",
       "      <td>5</td>\n",
       "      <td>Rated as would play it again but wouldn't sugg...</td>\n",
       "      <td>46</td>\n",
       "    </tr>\n",
       "    <tr>\n",
       "      <th>9527</th>\n",
       "      <td>298047</td>\n",
       "      <td>P.O.G.G.</td>\n",
       "      <td>4</td>\n",
       "      <td>Good family game, though younger people who ca...</td>\n",
       "      <td>152</td>\n",
       "    </tr>\n",
       "  </tbody>\n",
       "</table>\n",
       "</div>"
      ],
      "text/plain": [
       "           id   username rating  \\\n",
       "41844  169786    ericbad     10   \n",
       "48116  205637    piett2k     10   \n",
       "18900  266192     brasov      6   \n",
       "11853  316554  kinkykone      5   \n",
       "9527   298047   P.O.G.G.      4   \n",
       "\n",
       "                                                   value  comment_len  \n",
       "41844                                               LC 8            2  \n",
       "48116  Best (coop) card game ever, cant wait for expa...           41  \n",
       "18900  Don't really get the hype - Wingspan is a pret...          254  \n",
       "11853  Rated as would play it again but wouldn't sugg...           46  \n",
       "9527   Good family game, though younger people who ca...          152  "
      ]
     },
     "execution_count": 45,
     "metadata": {},
     "output_type": "execute_result"
    }
   ],
   "source": [
    "rated_comments.head()"
   ]
  },
  {
   "cell_type": "code",
   "execution_count": 46,
   "metadata": {},
   "outputs": [
    {
     "data": {
      "text/html": [
       "<div>\n",
       "<style scoped>\n",
       "    .dataframe tbody tr th:only-of-type {\n",
       "        vertical-align: middle;\n",
       "    }\n",
       "\n",
       "    .dataframe tbody tr th {\n",
       "        vertical-align: top;\n",
       "    }\n",
       "\n",
       "    .dataframe thead th {\n",
       "        text-align: right;\n",
       "    }\n",
       "</style>\n",
       "<table border=\"1\" class=\"dataframe\">\n",
       "  <thead>\n",
       "    <tr style=\"text-align: right;\">\n",
       "      <th></th>\n",
       "      <th>id</th>\n",
       "      <th>rating_mean</th>\n",
       "      <th>rating_count</th>\n",
       "    </tr>\n",
       "  </thead>\n",
       "  <tbody>\n",
       "    <tr>\n",
       "      <th>0</th>\n",
       "      <td>162886</td>\n",
       "      <td>8.351949</td>\n",
       "      <td>3487</td>\n",
       "    </tr>\n",
       "    <tr>\n",
       "      <th>1</th>\n",
       "      <td>167355</td>\n",
       "      <td>8.416431</td>\n",
       "      <td>1776</td>\n",
       "    </tr>\n",
       "    <tr>\n",
       "      <th>2</th>\n",
       "      <td>167791</td>\n",
       "      <td>8.210223</td>\n",
       "      <td>8206</td>\n",
       "    </tr>\n",
       "    <tr>\n",
       "      <th>3</th>\n",
       "      <td>169786</td>\n",
       "      <td>8.100806</td>\n",
       "      <td>7309</td>\n",
       "    </tr>\n",
       "    <tr>\n",
       "      <th>4</th>\n",
       "      <td>174430</td>\n",
       "      <td>8.549378</td>\n",
       "      <td>6304</td>\n",
       "    </tr>\n",
       "  </tbody>\n",
       "</table>\n",
       "</div>"
      ],
      "text/plain": [
       "       id  rating_mean  rating_count\n",
       "0  162886     8.351949          3487\n",
       "1  167355     8.416431          1776\n",
       "2  167791     8.210223          8206\n",
       "3  169786     8.100806          7309\n",
       "4  174430     8.549378          6304"
      ]
     },
     "execution_count": 46,
     "metadata": {},
     "output_type": "execute_result"
    }
   ],
   "source": [
    "rated_comments['rating'] = rated_comments.rating.astype(float)\n",
    "rated_comments_grouped = rated_comments.groupby('id').agg({'rating': ['mean', 'count']})\n",
    "rated_comments_grouped.columns = list(rated_comments_grouped.columns.map('_'.join))\n",
    "rated_comments_grouped = rated_comments_grouped.reset_index()\n",
    "rated_comments_grouped.head()"
   ]
  },
  {
   "cell_type": "code",
   "execution_count": 47,
   "metadata": {},
   "outputs": [],
   "source": [
    "not_rated_comments['rating'] = [round(float(r[0])*10, 1) for r in results]"
   ]
  },
  {
   "cell_type": "code",
   "execution_count": 48,
   "metadata": {},
   "outputs": [
    {
     "data": {
      "text/html": [
       "<div>\n",
       "<style scoped>\n",
       "    .dataframe tbody tr th:only-of-type {\n",
       "        vertical-align: middle;\n",
       "    }\n",
       "\n",
       "    .dataframe tbody tr th {\n",
       "        vertical-align: top;\n",
       "    }\n",
       "\n",
       "    .dataframe thead th {\n",
       "        text-align: right;\n",
       "    }\n",
       "</style>\n",
       "<table border=\"1\" class=\"dataframe\">\n",
       "  <thead>\n",
       "    <tr style=\"text-align: right;\">\n",
       "      <th></th>\n",
       "      <th>id</th>\n",
       "      <th>rating_mean</th>\n",
       "      <th>rating_count</th>\n",
       "    </tr>\n",
       "  </thead>\n",
       "  <tbody>\n",
       "    <tr>\n",
       "      <th>0</th>\n",
       "      <td>162886</td>\n",
       "      <td>8.699674</td>\n",
       "      <td>307</td>\n",
       "    </tr>\n",
       "    <tr>\n",
       "      <th>1</th>\n",
       "      <td>167355</td>\n",
       "      <td>9.010849</td>\n",
       "      <td>212</td>\n",
       "    </tr>\n",
       "    <tr>\n",
       "      <th>2</th>\n",
       "      <td>167791</td>\n",
       "      <td>8.849312</td>\n",
       "      <td>436</td>\n",
       "    </tr>\n",
       "    <tr>\n",
       "      <th>3</th>\n",
       "      <td>169786</td>\n",
       "      <td>8.718367</td>\n",
       "      <td>588</td>\n",
       "    </tr>\n",
       "    <tr>\n",
       "      <th>4</th>\n",
       "      <td>174430</td>\n",
       "      <td>8.661092</td>\n",
       "      <td>568</td>\n",
       "    </tr>\n",
       "  </tbody>\n",
       "</table>\n",
       "</div>"
      ],
      "text/plain": [
       "       id  rating_mean  rating_count\n",
       "0  162886     8.699674           307\n",
       "1  167355     9.010849           212\n",
       "2  167791     8.849312           436\n",
       "3  169786     8.718367           588\n",
       "4  174430     8.661092           568"
      ]
     },
     "execution_count": 48,
     "metadata": {},
     "output_type": "execute_result"
    }
   ],
   "source": [
    "not_rated_comments['rating'] = not_rated_comments.rating.astype(float)\n",
    "not_rated_comments_grouped = not_rated_comments.groupby('id').agg({'rating': ['mean', 'count']})\n",
    "not_rated_comments_grouped.columns = list(not_rated_comments_grouped.columns.map('_'.join))\n",
    "not_rated_comments_grouped = not_rated_comments_grouped.reset_index()\n",
    "not_rated_comments_grouped.head()"
   ]
  },
  {
   "cell_type": "code",
   "execution_count": 65,
   "metadata": {},
   "outputs": [],
   "source": [
    "grouped = rated_comments_grouped.merge(not_rated_comments_grouped, on='id', suffixes=('_review', '_comments'), how='outer')\n",
    "grouped['id'] = grouped.id.astype(str)\n",
    "grouped = grouped.merge(pd.DataFrame(hot_array), on='id', how='right')\n",
    "grouped['rank'] = grouped['rank'].astype(int)\n",
    "grouped['url'] = grouped['id'].apply(lambda x: f\"https://boardgamegeek.com/boardgame/{x}\")"
   ]
  },
  {
   "cell_type": "code",
   "execution_count": 66,
   "metadata": {},
   "outputs": [
    {
     "data": {
      "text/html": [
       "<div>\n",
       "<style scoped>\n",
       "    .dataframe tbody tr th:only-of-type {\n",
       "        vertical-align: middle;\n",
       "    }\n",
       "\n",
       "    .dataframe tbody tr th {\n",
       "        vertical-align: top;\n",
       "    }\n",
       "\n",
       "    .dataframe thead th {\n",
       "        text-align: right;\n",
       "    }\n",
       "</style>\n",
       "<table border=\"1\" class=\"dataframe\">\n",
       "  <thead>\n",
       "    <tr style=\"text-align: right;\">\n",
       "      <th></th>\n",
       "      <th>id</th>\n",
       "      <th>rating_mean_review</th>\n",
       "      <th>rating_count_review</th>\n",
       "      <th>rating_mean_comments</th>\n",
       "      <th>rating_count_comments</th>\n",
       "      <th>rank</th>\n",
       "      <th>thumbnail</th>\n",
       "      <th>name</th>\n",
       "      <th>yearpublished</th>\n",
       "      <th>url</th>\n",
       "    </tr>\n",
       "  </thead>\n",
       "  <tbody>\n",
       "    <tr>\n",
       "      <th>0</th>\n",
       "      <td>337627</td>\n",
       "      <td>NaN</td>\n",
       "      <td>NaN</td>\n",
       "      <td>6.766667</td>\n",
       "      <td>3</td>\n",
       "      <td>1</td>\n",
       "      <td>https://cf.geekdo-images.com/hItZjdDTNuaCZ7fEz...</td>\n",
       "      <td>Voidfall</td>\n",
       "      <td>2022</td>\n",
       "      <td>https://boardgamegeek.com/boardgame/337627</td>\n",
       "    </tr>\n",
       "    <tr>\n",
       "      <th>1</th>\n",
       "      <td>316624</td>\n",
       "      <td>9.307692</td>\n",
       "      <td>13.0</td>\n",
       "      <td>8.814286</td>\n",
       "      <td>7</td>\n",
       "      <td>2</td>\n",
       "      <td>https://cf.geekdo-images.com/eUiju5SqZbkNt8gnE...</td>\n",
       "      <td>Stationfall</td>\n",
       "      <td>2021</td>\n",
       "      <td>https://boardgamegeek.com/boardgame/316624</td>\n",
       "    </tr>\n",
       "    <tr>\n",
       "      <th>2</th>\n",
       "      <td>312484</td>\n",
       "      <td>7.924778</td>\n",
       "      <td>638.0</td>\n",
       "      <td>8.868254</td>\n",
       "      <td>63</td>\n",
       "      <td>3</td>\n",
       "      <td>https://cf.geekdo-images.com/6GqH14TJJhza86BX5...</td>\n",
       "      <td>Lost Ruins of Arnak</td>\n",
       "      <td>2020</td>\n",
       "      <td>https://boardgamegeek.com/boardgame/312484</td>\n",
       "    </tr>\n",
       "    <tr>\n",
       "      <th>3</th>\n",
       "      <td>318977</td>\n",
       "      <td>7.898900</td>\n",
       "      <td>209.0</td>\n",
       "      <td>8.950000</td>\n",
       "      <td>16</td>\n",
       "      <td>4</td>\n",
       "      <td>https://cf.geekdo-images.com/1M-1d6fr3U9t670MC...</td>\n",
       "      <td>MicroMacro: Crime City</td>\n",
       "      <td>2020</td>\n",
       "      <td>https://boardgamegeek.com/boardgame/318977</td>\n",
       "    </tr>\n",
       "    <tr>\n",
       "      <th>4</th>\n",
       "      <td>277700</td>\n",
       "      <td>8.568293</td>\n",
       "      <td>41.0</td>\n",
       "      <td>9.176744</td>\n",
       "      <td>43</td>\n",
       "      <td>5</td>\n",
       "      <td>https://cf.geekdo-images.com/-JD8JLncWYMes9Q6Y...</td>\n",
       "      <td>Merchants Cove</td>\n",
       "      <td>2021</td>\n",
       "      <td>https://boardgamegeek.com/boardgame/277700</td>\n",
       "    </tr>\n",
       "  </tbody>\n",
       "</table>\n",
       "</div>"
      ],
      "text/plain": [
       "       id  rating_mean_review  rating_count_review  rating_mean_comments  \\\n",
       "0  337627                 NaN                  NaN              6.766667   \n",
       "1  316624            9.307692                 13.0              8.814286   \n",
       "2  312484            7.924778                638.0              8.868254   \n",
       "3  318977            7.898900                209.0              8.950000   \n",
       "4  277700            8.568293                 41.0              9.176744   \n",
       "\n",
       "   rating_count_comments  rank  \\\n",
       "0                      3     1   \n",
       "1                      7     2   \n",
       "2                     63     3   \n",
       "3                     16     4   \n",
       "4                     43     5   \n",
       "\n",
       "                                           thumbnail                    name  \\\n",
       "0  https://cf.geekdo-images.com/hItZjdDTNuaCZ7fEz...                Voidfall   \n",
       "1  https://cf.geekdo-images.com/eUiju5SqZbkNt8gnE...             Stationfall   \n",
       "2  https://cf.geekdo-images.com/6GqH14TJJhza86BX5...     Lost Ruins of Arnak   \n",
       "3  https://cf.geekdo-images.com/1M-1d6fr3U9t670MC...  MicroMacro: Crime City   \n",
       "4  https://cf.geekdo-images.com/-JD8JLncWYMes9Q6Y...          Merchants Cove   \n",
       "\n",
       "  yearpublished                                         url  \n",
       "0          2022  https://boardgamegeek.com/boardgame/337627  \n",
       "1          2021  https://boardgamegeek.com/boardgame/316624  \n",
       "2          2020  https://boardgamegeek.com/boardgame/312484  \n",
       "3          2020  https://boardgamegeek.com/boardgame/318977  \n",
       "4          2021  https://boardgamegeek.com/boardgame/277700  "
      ]
     },
     "execution_count": 66,
     "metadata": {},
     "output_type": "execute_result"
    }
   ],
   "source": [
    "grouped.head()"
   ]
  },
  {
   "cell_type": "code",
   "execution_count": 67,
   "metadata": {},
   "outputs": [],
   "source": [
    "grouped['fixed_rating'] = (grouped['rating_mean_review']*grouped['rating_count_review']+grouped['rating_mean_comments']*grouped['rating_count_comments']) / (grouped['rating_count_review']+grouped['rating_count_comments'])"
   ]
  },
  {
   "cell_type": "code",
   "execution_count": 68,
   "metadata": {},
   "outputs": [
    {
     "data": {
      "text/html": [
       "<div>\n",
       "<style scoped>\n",
       "    .dataframe tbody tr th:only-of-type {\n",
       "        vertical-align: middle;\n",
       "    }\n",
       "\n",
       "    .dataframe tbody tr th {\n",
       "        vertical-align: top;\n",
       "    }\n",
       "\n",
       "    .dataframe thead th {\n",
       "        text-align: right;\n",
       "    }\n",
       "</style>\n",
       "<table border=\"1\" class=\"dataframe\">\n",
       "  <thead>\n",
       "    <tr style=\"text-align: right;\">\n",
       "      <th></th>\n",
       "      <th>id</th>\n",
       "      <th>rating_mean_review</th>\n",
       "      <th>rating_count_review</th>\n",
       "      <th>rating_mean_comments</th>\n",
       "      <th>rating_count_comments</th>\n",
       "      <th>rank</th>\n",
       "      <th>thumbnail</th>\n",
       "      <th>name</th>\n",
       "      <th>yearpublished</th>\n",
       "      <th>url</th>\n",
       "      <th>fixed_rating</th>\n",
       "    </tr>\n",
       "  </thead>\n",
       "  <tbody>\n",
       "    <tr>\n",
       "      <th>0</th>\n",
       "      <td>337627</td>\n",
       "      <td>NaN</td>\n",
       "      <td>NaN</td>\n",
       "      <td>6.766667</td>\n",
       "      <td>3</td>\n",
       "      <td>1</td>\n",
       "      <td>https://cf.geekdo-images.com/hItZjdDTNuaCZ7fEz...</td>\n",
       "      <td>Voidfall</td>\n",
       "      <td>2022</td>\n",
       "      <td>https://boardgamegeek.com/boardgame/337627</td>\n",
       "      <td>NaN</td>\n",
       "    </tr>\n",
       "    <tr>\n",
       "      <th>1</th>\n",
       "      <td>316624</td>\n",
       "      <td>9.307692</td>\n",
       "      <td>13.0</td>\n",
       "      <td>8.814286</td>\n",
       "      <td>7</td>\n",
       "      <td>2</td>\n",
       "      <td>https://cf.geekdo-images.com/eUiju5SqZbkNt8gnE...</td>\n",
       "      <td>Stationfall</td>\n",
       "      <td>2021</td>\n",
       "      <td>https://boardgamegeek.com/boardgame/316624</td>\n",
       "      <td>9.135000</td>\n",
       "    </tr>\n",
       "    <tr>\n",
       "      <th>2</th>\n",
       "      <td>312484</td>\n",
       "      <td>7.924778</td>\n",
       "      <td>638.0</td>\n",
       "      <td>8.868254</td>\n",
       "      <td>63</td>\n",
       "      <td>3</td>\n",
       "      <td>https://cf.geekdo-images.com/6GqH14TJJhza86BX5...</td>\n",
       "      <td>Lost Ruins of Arnak</td>\n",
       "      <td>2020</td>\n",
       "      <td>https://boardgamegeek.com/boardgame/312484</td>\n",
       "      <td>8.009570</td>\n",
       "    </tr>\n",
       "    <tr>\n",
       "      <th>3</th>\n",
       "      <td>318977</td>\n",
       "      <td>7.898900</td>\n",
       "      <td>209.0</td>\n",
       "      <td>8.950000</td>\n",
       "      <td>16</td>\n",
       "      <td>4</td>\n",
       "      <td>https://cf.geekdo-images.com/1M-1d6fr3U9t670MC...</td>\n",
       "      <td>MicroMacro: Crime City</td>\n",
       "      <td>2020</td>\n",
       "      <td>https://boardgamegeek.com/boardgame/318977</td>\n",
       "      <td>7.973644</td>\n",
       "    </tr>\n",
       "    <tr>\n",
       "      <th>4</th>\n",
       "      <td>277700</td>\n",
       "      <td>8.568293</td>\n",
       "      <td>41.0</td>\n",
       "      <td>9.176744</td>\n",
       "      <td>43</td>\n",
       "      <td>5</td>\n",
       "      <td>https://cf.geekdo-images.com/-JD8JLncWYMes9Q6Y...</td>\n",
       "      <td>Merchants Cove</td>\n",
       "      <td>2021</td>\n",
       "      <td>https://boardgamegeek.com/boardgame/277700</td>\n",
       "      <td>8.879762</td>\n",
       "    </tr>\n",
       "  </tbody>\n",
       "</table>\n",
       "</div>"
      ],
      "text/plain": [
       "       id  rating_mean_review  rating_count_review  rating_mean_comments  \\\n",
       "0  337627                 NaN                  NaN              6.766667   \n",
       "1  316624            9.307692                 13.0              8.814286   \n",
       "2  312484            7.924778                638.0              8.868254   \n",
       "3  318977            7.898900                209.0              8.950000   \n",
       "4  277700            8.568293                 41.0              9.176744   \n",
       "\n",
       "   rating_count_comments  rank  \\\n",
       "0                      3     1   \n",
       "1                      7     2   \n",
       "2                     63     3   \n",
       "3                     16     4   \n",
       "4                     43     5   \n",
       "\n",
       "                                           thumbnail                    name  \\\n",
       "0  https://cf.geekdo-images.com/hItZjdDTNuaCZ7fEz...                Voidfall   \n",
       "1  https://cf.geekdo-images.com/eUiju5SqZbkNt8gnE...             Stationfall   \n",
       "2  https://cf.geekdo-images.com/6GqH14TJJhza86BX5...     Lost Ruins of Arnak   \n",
       "3  https://cf.geekdo-images.com/1M-1d6fr3U9t670MC...  MicroMacro: Crime City   \n",
       "4  https://cf.geekdo-images.com/-JD8JLncWYMes9Q6Y...          Merchants Cove   \n",
       "\n",
       "  yearpublished                                         url  fixed_rating  \n",
       "0          2022  https://boardgamegeek.com/boardgame/337627           NaN  \n",
       "1          2021  https://boardgamegeek.com/boardgame/316624      9.135000  \n",
       "2          2020  https://boardgamegeek.com/boardgame/312484      8.009570  \n",
       "3          2020  https://boardgamegeek.com/boardgame/318977      7.973644  \n",
       "4          2021  https://boardgamegeek.com/boardgame/277700      8.879762  "
      ]
     },
     "execution_count": 68,
     "metadata": {},
     "output_type": "execute_result"
    }
   ],
   "source": [
    "grouped.head()"
   ]
  },
  {
   "cell_type": "code",
   "execution_count": 69,
   "metadata": {},
   "outputs": [],
   "source": [
    "grouped['thumbnail'] = grouped['thumbnail'].apply(lambda x: f'<img src=\"{x}\" width=\"124\" />')"
   ]
  },
  {
   "cell_type": "code",
   "execution_count": 70,
   "metadata": {},
   "outputs": [],
   "source": [
    "grouped['name'] = grouped.apply(lambda x: f'<a href=\"{x[\"url\"]}\">{x[\"name\"]}</a>', axis=1)"
   ]
  },
  {
   "cell_type": "code",
   "execution_count": 71,
   "metadata": {},
   "outputs": [],
   "source": [
    "grouped = grouped[['thumbnail', 'name', 'rating_mean_review', 'rating_mean_comments', 'fixed_rating', 'rank', 'yearpublished']]"
   ]
  },
  {
   "cell_type": "code",
   "execution_count": 72,
   "metadata": {},
   "outputs": [],
   "source": [
    "def display_topn(by, n=5, ascending=True):\n",
    "    temp_df = grouped.sort_values(by, ascending=ascending).head(n)\n",
    "    temp_df.index=list(range(1, n+1))\n",
    "    return HTML(temp_df.to_html(escape=False, classes='table table-striped'))"
   ]
  },
  {
   "cell_type": "code",
   "execution_count": 73,
   "metadata": {},
   "outputs": [
    {
     "data": {
      "text/html": [
       "<table border=\"1\" class=\"dataframe table table-striped\">\n",
       "  <thead>\n",
       "    <tr style=\"text-align: right;\">\n",
       "      <th></th>\n",
       "      <th>thumbnail</th>\n",
       "      <th>name</th>\n",
       "      <th>rating_mean_review</th>\n",
       "      <th>rating_mean_comments</th>\n",
       "      <th>fixed_rating</th>\n",
       "      <th>rank</th>\n",
       "      <th>yearpublished</th>\n",
       "    </tr>\n",
       "  </thead>\n",
       "  <tbody>\n",
       "    <tr>\n",
       "      <th>1</th>\n",
       "      <td><img src=\"https://cf.geekdo-images.com/hItZjdDTNuaCZ7fEztwcUQ__thumb/img/Ov6eWR87PZ2O1XYQtXMO6KvfzOg=/fit-in/200x150/filters:strip_icc()/pic6153324.jpg\" width=\"124\" /></td>\n",
       "      <td><a href=\"https://boardgamegeek.com/boardgame/337627\">Voidfall</a></td>\n",
       "      <td>NaN</td>\n",
       "      <td>6.766667</td>\n",
       "      <td>NaN</td>\n",
       "      <td>1</td>\n",
       "      <td>2022</td>\n",
       "    </tr>\n",
       "    <tr>\n",
       "      <th>2</th>\n",
       "      <td><img src=\"https://cf.geekdo-images.com/eUiju5SqZbkNt8gnEofrTw__thumb/img/zNkmLNyeXJGOY24FeAAf4U67ejU=/fit-in/200x150/filters:strip_icc()/pic6035127.png\" width=\"124\" /></td>\n",
       "      <td><a href=\"https://boardgamegeek.com/boardgame/316624\">Stationfall</a></td>\n",
       "      <td>9.307692</td>\n",
       "      <td>8.814286</td>\n",
       "      <td>9.135000</td>\n",
       "      <td>2</td>\n",
       "      <td>2021</td>\n",
       "    </tr>\n",
       "    <tr>\n",
       "      <th>3</th>\n",
       "      <td><img src=\"https://cf.geekdo-images.com/6GqH14TJJhza86BX5HCLEQ__thumb/img/J8SVmGOJXZGxNjkT3xYNQU7Haxg=/fit-in/200x150/filters:strip_icc()/pic5674958.jpg\" width=\"124\" /></td>\n",
       "      <td><a href=\"https://boardgamegeek.com/boardgame/312484\">Lost Ruins of Arnak</a></td>\n",
       "      <td>7.924778</td>\n",
       "      <td>8.868254</td>\n",
       "      <td>8.009570</td>\n",
       "      <td>3</td>\n",
       "      <td>2020</td>\n",
       "    </tr>\n",
       "    <tr>\n",
       "      <th>4</th>\n",
       "      <td><img src=\"https://cf.geekdo-images.com/1M-1d6fr3U9t670MCVOTeg__thumb/img/aR9LNVhRr_hnIIoYwxFUTb8rPMk=/fit-in/200x150/filters:strip_icc()/pic5896816.jpg\" width=\"124\" /></td>\n",
       "      <td><a href=\"https://boardgamegeek.com/boardgame/318977\">MicroMacro: Crime City</a></td>\n",
       "      <td>7.898900</td>\n",
       "      <td>8.950000</td>\n",
       "      <td>7.973644</td>\n",
       "      <td>4</td>\n",
       "      <td>2020</td>\n",
       "    </tr>\n",
       "    <tr>\n",
       "      <th>5</th>\n",
       "      <td><img src=\"https://cf.geekdo-images.com/-JD8JLncWYMes9Q6YIgorg__thumb/img/Ce6a64m5DxVae_ZXnAsrgdEnqBQ=/fit-in/200x150/filters:strip_icc()/pic6136538.jpg\" width=\"124\" /></td>\n",
       "      <td><a href=\"https://boardgamegeek.com/boardgame/277700\">Merchants Cove</a></td>\n",
       "      <td>8.568293</td>\n",
       "      <td>9.176744</td>\n",
       "      <td>8.879762</td>\n",
       "      <td>5</td>\n",
       "      <td>2021</td>\n",
       "    </tr>\n",
       "  </tbody>\n",
       "</table>"
      ],
      "text/plain": [
       "<IPython.core.display.HTML object>"
      ]
     },
     "execution_count": 73,
     "metadata": {},
     "output_type": "execute_result"
    }
   ],
   "source": [
    "# TOP N RANK\n",
    "display_topn(by='rank', n=TOP_N)"
   ]
  },
  {
   "cell_type": "code",
   "execution_count": 58,
   "metadata": {},
   "outputs": [
    {
     "data": {
      "text/html": [
       "<table border=\"1\" class=\"dataframe table table-striped\">\n",
       "  <thead>\n",
       "    <tr style=\"text-align: right;\">\n",
       "      <th></th>\n",
       "      <th>thumbnail</th>\n",
       "      <th>name</th>\n",
       "      <th>rating_mean_review</th>\n",
       "      <th>rating_mean_comments</th>\n",
       "      <th>fixed_rating</th>\n",
       "      <th>rank</th>\n",
       "      <th>yearpublished</th>\n",
       "    </tr>\n",
       "  </thead>\n",
       "  <tbody>\n",
       "    <tr>\n",
       "      <th>1</th>\n",
       "      <td><img src=\"https://cf.geekdo-images.com/eUiju5SqZbkNt8gnEofrTw__thumb/img/zNkmLNyeXJGOY24FeAAf4U67ejU=/fit-in/200x150/filters:strip_icc()/pic6035127.png\" width=\"124\" /></td>\n",
       "      <td><a href=\"https://boardgamegeek.com/boardgame/316624\">Stationfall</a></td>\n",
       "      <td>9.307692</td>\n",
       "      <td>8.814286</td>\n",
       "      <td>9.135000</td>\n",
       "      <td>2</td>\n",
       "      <td>2021</td>\n",
       "    </tr>\n",
       "    <tr>\n",
       "      <th>2</th>\n",
       "      <td><img src=\"https://cf.geekdo-images.com/Oh3kHw6lweg6ru71Q16h2Q__thumb/img/e9XZdQe1ZcPpaq4Gy31OoWBB_V0=/fit-in/200x150/filters:strip_icc()/pic5235277.jpg\" width=\"124\" /></td>\n",
       "      <td><a href=\"https://boardgamegeek.com/boardgame/246900\">Eclipse: Second Dawn for the Galaxy</a></td>\n",
       "      <td>8.732498</td>\n",
       "      <td>8.644706</td>\n",
       "      <td>8.718036</td>\n",
       "      <td>46</td>\n",
       "      <td>2020</td>\n",
       "    </tr>\n",
       "    <tr>\n",
       "      <th>3</th>\n",
       "      <td><img src=\"https://cf.geekdo-images.com/dNXxWWcLHd67zOCz1_DV5g__thumb/img/LKLbu76Lt9XTRsSv1TC66uaSN40=/fit-in/200x150/filters:strip_icc()/pic5415822.png\" width=\"124\" /></td>\n",
       "      <td><a href=\"https://boardgamegeek.com/boardgame/297562\">Kemet: Blood and Sand</a></td>\n",
       "      <td>8.700000</td>\n",
       "      <td>8.811111</td>\n",
       "      <td>8.775949</td>\n",
       "      <td>43</td>\n",
       "      <td>2021</td>\n",
       "    </tr>\n",
       "    <tr>\n",
       "      <th>4</th>\n",
       "      <td><img src=\"https://cf.geekdo-images.com/x3zxjr-Vw5iU4yDPg70Jgw__thumb/img/o18rjEemoWaVru9Y2TyPwuIaRfE=/fit-in/200x150/filters:strip_icc()/pic3490053.jpg\" width=\"124\" /></td>\n",
       "      <td><a href=\"https://boardgamegeek.com/boardgame/224517\">Brass: Birmingham</a></td>\n",
       "      <td>8.691747</td>\n",
       "      <td>8.850216</td>\n",
       "      <td>8.706490</td>\n",
       "      <td>31</td>\n",
       "      <td>2018</td>\n",
       "    </tr>\n",
       "    <tr>\n",
       "      <th>5</th>\n",
       "      <td><img src=\"https://cf.geekdo-images.com/_HhIdavYW-hid20Iq3hhmg__thumb/img/OMkN_E5eyWrkID_cHCnQEbIixGM=/fit-in/200x150/filters:strip_icc()/pic5055631.jpg\" width=\"124\" /></td>\n",
       "      <td><a href=\"https://boardgamegeek.com/boardgame/291457\">Gloomhaven: Jaws of the Lion</a></td>\n",
       "      <td>8.617467</td>\n",
       "      <td>8.445865</td>\n",
       "      <td>8.600018</td>\n",
       "      <td>18</td>\n",
       "      <td>2020</td>\n",
       "    </tr>\n",
       "  </tbody>\n",
       "</table>"
      ],
      "text/plain": [
       "<IPython.core.display.HTML object>"
      ]
     },
     "execution_count": 58,
     "metadata": {},
     "output_type": "execute_result"
    }
   ],
   "source": [
    "# TOP N REVIEW RANK\n",
    "display_topn(by='rating_mean_review', n=TOP_N, ascending=False)"
   ]
  },
  {
   "cell_type": "code",
   "execution_count": 59,
   "metadata": {},
   "outputs": [
    {
     "data": {
      "text/html": [
       "<table border=\"1\" class=\"dataframe table table-striped\">\n",
       "  <thead>\n",
       "    <tr style=\"text-align: right;\">\n",
       "      <th></th>\n",
       "      <th>thumbnail</th>\n",
       "      <th>name</th>\n",
       "      <th>rating_mean_review</th>\n",
       "      <th>rating_mean_comments</th>\n",
       "      <th>fixed_rating</th>\n",
       "      <th>rank</th>\n",
       "      <th>yearpublished</th>\n",
       "    </tr>\n",
       "  </thead>\n",
       "  <tbody>\n",
       "    <tr>\n",
       "      <th>1</th>\n",
       "      <td><img src=\"https://cf.geekdo-images.com/eUiju5SqZbkNt8gnEofrTw__thumb/img/zNkmLNyeXJGOY24FeAAf4U67ejU=/fit-in/200x150/filters:strip_icc()/pic6035127.png\" width=\"124\" /></td>\n",
       "      <td><a href=\"https://boardgamegeek.com/boardgame/316624\">Stationfall</a></td>\n",
       "      <td>9.307692</td>\n",
       "      <td>8.814286</td>\n",
       "      <td>9.135000</td>\n",
       "      <td>2</td>\n",
       "      <td>2021</td>\n",
       "    </tr>\n",
       "    <tr>\n",
       "      <th>2</th>\n",
       "      <td><img src=\"https://cf.geekdo-images.com/a4QfK2JilOgK5BtDgMqpfg__thumb/img/gMUzGCxA6pae7rkt9bZ1tg7s4vw=/fit-in/200x150/filters:strip_icc()/pic6112538.jpg\" width=\"124\" /></td>\n",
       "      <td><a href=\"https://boardgamegeek.com/boardgame/336382\">Marvel United: X-Men</a></td>\n",
       "      <td>1.000000</td>\n",
       "      <td>9.653846</td>\n",
       "      <td>9.035714</td>\n",
       "      <td>17</td>\n",
       "      <td>2022</td>\n",
       "    </tr>\n",
       "    <tr>\n",
       "      <th>3</th>\n",
       "      <td><img src=\"https://cf.geekdo-images.com/-JD8JLncWYMes9Q6YIgorg__thumb/img/Ce6a64m5DxVae_ZXnAsrgdEnqBQ=/fit-in/200x150/filters:strip_icc()/pic6136538.jpg\" width=\"124\" /></td>\n",
       "      <td><a href=\"https://boardgamegeek.com/boardgame/277700\">Merchants Cove</a></td>\n",
       "      <td>8.568293</td>\n",
       "      <td>9.176744</td>\n",
       "      <td>8.879762</td>\n",
       "      <td>5</td>\n",
       "      <td>2021</td>\n",
       "    </tr>\n",
       "    <tr>\n",
       "      <th>4</th>\n",
       "      <td><img src=\"https://cf.geekdo-images.com/dNXxWWcLHd67zOCz1_DV5g__thumb/img/LKLbu76Lt9XTRsSv1TC66uaSN40=/fit-in/200x150/filters:strip_icc()/pic5415822.png\" width=\"124\" /></td>\n",
       "      <td><a href=\"https://boardgamegeek.com/boardgame/297562\">Kemet: Blood and Sand</a></td>\n",
       "      <td>8.700000</td>\n",
       "      <td>8.811111</td>\n",
       "      <td>8.775949</td>\n",
       "      <td>43</td>\n",
       "      <td>2021</td>\n",
       "    </tr>\n",
       "    <tr>\n",
       "      <th>5</th>\n",
       "      <td><img src=\"https://cf.geekdo-images.com/Oh3kHw6lweg6ru71Q16h2Q__thumb/img/e9XZdQe1ZcPpaq4Gy31OoWBB_V0=/fit-in/200x150/filters:strip_icc()/pic5235277.jpg\" width=\"124\" /></td>\n",
       "      <td><a href=\"https://boardgamegeek.com/boardgame/246900\">Eclipse: Second Dawn for the Galaxy</a></td>\n",
       "      <td>8.732498</td>\n",
       "      <td>8.644706</td>\n",
       "      <td>8.718036</td>\n",
       "      <td>46</td>\n",
       "      <td>2020</td>\n",
       "    </tr>\n",
       "  </tbody>\n",
       "</table>"
      ],
      "text/plain": [
       "<IPython.core.display.HTML object>"
      ]
     },
     "execution_count": 59,
     "metadata": {},
     "output_type": "execute_result"
    }
   ],
   "source": [
    "# TOP N FIXED RANK\n",
    "display_topn(by='fixed_rating', n=TOP_N, ascending=False)"
   ]
  },
  {
   "cell_type": "code",
   "execution_count": 60,
   "metadata": {},
   "outputs": [],
   "source": [
    "# model.save('saved_model\\my_model')"
   ]
  },
  {
   "cell_type": "code",
   "execution_count": 61,
   "metadata": {},
   "outputs": [],
   "source": [
    "# saved_model = tf.keras.models.load_model('saved_model\\my_model')"
   ]
  },
  {
   "cell_type": "code",
   "execution_count": 62,
   "metadata": {},
   "outputs": [],
   "source": [
    "# some examples on \"long\" comments vs short comments"
   ]
  },
  {
   "cell_type": "code",
   "execution_count": 63,
   "metadata": {},
   "outputs": [],
   "source": [
    "not_rated_comments['comment_len'] = not_rated_comments['value'].str.len()"
   ]
  },
  {
   "cell_type": "code",
   "execution_count": 64,
   "metadata": {},
   "outputs": [
    {
     "name": "stdout",
     "output_type": "stream",
     "text": [
      "input:\n",
      "\"1018  late to the party as this is the 2nd print but just wanted to see for myself what a COIN game looked like\"\n",
      "score: 0.976500\n",
      "\n",
      "input:\n",
      "\"Card Drafting Dice Rolling Drafting End Game Bonuses Hand Management Set Collection Solo / Solitaire Game\"\n",
      "score: 0.838970\n",
      "\n",
      "input:\n",
      "\"Two Copies of Base Set (missing one set of token components) Scenario Pack: Curse of the Rougarou Scenario Pack: Carnevale of Horror Scenario Pack: The Meddling of Meowlathotep Arkham Horror Neoprene Game Mat\"\n",
      "score: 0.664452\n",
      "\n",
      "input:\n",
      "\"Played twice in person and loved it, I want to play again sometime. This game would probably be a 10/10 for me though. \"\n",
      "score: 0.934414\n",
      "\n",
      "input:\n",
      "\"The infinite beyond expedition Gas giants promo scenario 4 player mats with markers Standees Removable sticker set\"\n",
      "score: 0.999035\n",
      "\n",
      "input:\n",
      "\"Special thanks to Chris and all of team Tabletop Game Talk. Great podcast and great people. You are all a credit to the hobby. 1-4\"\n",
      "score: 0.999602\n",
      "\n",
      "input:\n",
      "\"+ Enter the Spider-verse (KS Edition) + Guardians of the Galaxy Remix (KS Edition) + Return of the Sinister Six + Rise of the Black Panther + Tales of Asgard (KS Edition) + The Infinity Gauntlet   + Adam Warlock + Yondu + Promos box (KS1)  + Cardboard locations + Playmat\"\n",
      "score: 0.999585\n",
      "\n",
      "input:\n",
      "\"I purchased two copies of the Arkham Horror core set to accommodate four players and allow for more diverse deck building.\"\n",
      "score: 0.996705\n",
      "\n",
      "input:\n",
      "\"Very positive impressions from the review crowd across the board (BGB, Thurot, SVWaG). Tech tree the board game - sign me up!\"\n",
      "score: 0.997912\n",
      "\n",
      "input:\n",
      "\"Action Drafting Area Majority / Influence Area-Impulse Dice Rolling Follow Grid Movement Hexagon Grid Modular Board Trading Variable Phase Order Variable Player Powers Voting\"\n",
      "score: 0.998873\n",
      "\n",
      "input:\n",
      "\"Gutes spiel sehr tiefgehen dauert 4h zu 3 ggf 3h.  Ist schon cool aber kein kauf ertmal da lothar es hat uns so oft spielt man es nicht  da es fast ein wenig anstengend ist uns trotzdem ganz cool.  Besser als kohle damals  auch von der Aufmachung. Regeln  sehr simpel  für das komplexe spiel\"\n",
      "score: 0.454268\n",
      "\n",
      "input:\n",
      "\"Kickstarter Collector's Edition Pledge level 25Jan2018. Edit: Received Tuesday, 24Jul2018 around 1500ish. Need to unbox. ShipNaked- packed, just wrapped in layers of butcher paper in a just-right-sized box, no exterior damage, thankfully.\"\n",
      "score: 0.612011\n",
      "\n",
      "input:\n",
      "\"Yeeeeeehaw, I think this would be a fun game to play. However, it would be the last one on my list to get as the game seems very enjoyable for me but I'm not really feeling like I want it but maybe in the future.\"\n",
      "score: 0.914988\n",
      "\n",
      "input:\n",
      "\"Bezwingen Sie Monster mit strategischem Kartenspiel in einer Gloomhaven-Kampagne mit 25 Szenarien.  1-4 Spieler / Solo-Storytelling\"\n",
      "score: 0.998619\n",
      "\n",
      "input:\n",
      "\"Players: 1-4 (3-4) Time: 60-120 Min Category: Movies / TV / Radio theme Novel-based Science Fiction  Mechanisms: Deck, Bag, and Pool Building Ratio / Combat Results Table Variable Player Powers Worker Placement\"\n",
      "score: 0.999985\n",
      "\n",
      "input:\n",
      "\"Eén van de hogere gewaardeerde co-op games. Maar zonder de verader element erin, weet ik niet of dit mensen echt zal grijpen.\"\n",
      "score: 0.983782\n",
      "\n",
      "input:\n",
      "\"Very interesting. I love the Theme but I fear it's not a game that my g/f will love to play since she's not into the Theme.\"\n",
      "score: 0.691697\n",
      "\n",
      "input:\n",
      "\"Need to compare this to the version I have, but on the surface it looks like I much prefer the aesthetic of this new edition. Shame the original King of Siam isn’t around.\"\n",
      "score: 0.998913\n",
      "\n",
      "input:\n",
      "\"Difficile sur la base d'une seule partie non terminée de se faire une idée précise mais il est clair qu'il y a un plaisir énorme à jouer à ce jeu\"\n",
      "score: 0.869415\n",
      "\n",
      "input:\n",
      "\"25/4-2017 Kickstarted deluxe edition along with Brass: Lancashire Estimated delivery January 2018 13/5-18 New estimated delivery July 2018 Received 14/8-2018\"\n",
      "score: 0.999873\n",
      "\n",
      "input:\n",
      "\"Designer: R. Eric Reuss Artist: Jason Behnke, Loïc Berger, Loïc Billiau, Cari Corene Publisher: Ghenos Games, Greater Than Games  Weight: 4.01 / 5 2 Giocatori (1-4) 90-120 min 29.0 cm 29.0 cm 8.0 cm Posizione: 9H\"\n",
      "score: 0.993411\n",
      "\n",
      "input:\n",
      "\"such a big improvement on terra mystica for 2 players! really shines. but for us, we still prefer caledonia as it's smaller and faster\"\n",
      "score: 0.999279\n",
      "\n",
      "input:\n",
      "\"I am interested in buying Core scenarios sets!  In case you have bought a second (or more) Core Sets only for players' cards and have no use for the extra scenario sets, I will get them off of your hand for a fair price!\"\n",
      "score: 0.961261\n",
      "\n",
      "input:\n",
      "\"Need to play with experienced opponents after playing multiple times with other newbies being taught by incompetent teacher.   Can't help but be concerned by number of aspects of game, and the stock photo card art doesn't reassure me.\"\n",
      "score: 0.842745\n",
      "\n",
      "input:\n",
      "\"The art caught me and now I'm hooked! It feels like a lot at first since each faction is so specific, but give it time.\"\n",
      "score: 0.933516\n"
     ]
    }
   ],
   "source": [
    "# some long comments\n",
    "some_long_comments = not_rated_comments.query(\"comment_len>100 and comment_len<300\").sample(frac=1)\n",
    "results = tf.sigmoid(model.predict(tf.constant(list(some_long_comments.value))))\n",
    "print_my_examples(list(some_long_comments.value), results, limit=25)"
   ]
  }
 ],
 "metadata": {
  "kernelspec": {
   "display_name": "tensorflow2",
   "language": "python",
   "name": "tensorflow2"
  },
  "language_info": {
   "codemirror_mode": {
    "name": "ipython",
    "version": 3
   },
   "file_extension": ".py",
   "mimetype": "text/x-python",
   "name": "python",
   "nbconvert_exporter": "python",
   "pygments_lexer": "ipython3",
   "version": "3.8.8"
  }
 },
 "nbformat": 4,
 "nbformat_minor": 4
}
