{
 "cells": [
  {
   "cell_type": "code",
   "execution_count": 1,
   "metadata": {},
   "outputs": [],
   "source": [
    "# ## BGG API\n",
    "# https://www.boardgamegeek.com/xmlapi2/thing?id=161599&comments=1\n",
    "# https://www.boardgamegeek.com/xmlapi2/hot?type=boardgame\n",
    "# ## NLP WITH TF\n",
    "# https://www.tensorflow.org/hub/tutorials/tf2_text_classification"
   ]
  },
  {
   "cell_type": "code",
   "execution_count": 2,
   "metadata": {},
   "outputs": [
    {
     "name": "stdout",
     "output_type": "stream",
     "text": [
      "Version:      2.5.0\n",
      "Eager mode:   True\n",
      "Hub version:  0.12.0\n",
      "GPU:          available\n"
     ]
    }
   ],
   "source": [
    "import tensorflow as tf\n",
    "import tensorflow_hub as hub\n",
    "from tensorflow.keras.wrappers.scikit_learn import KerasRegressor, KerasClassifier\n",
    "from sklearn.model_selection import GridSearchCV\n",
    "\n",
    "from IPython.display import HTML\n",
    "from datetime import datetime\n",
    "import matplotlib.pyplot as plt\n",
    "import pandas as pd\n",
    "import numpy as np\n",
    "import re\n",
    "\n",
    "from utilities import get_hot_data, get_comments, remove_short_comments, build_model, print_my_examples\n",
    "\n",
    "print(\"Version:     \", tf.__version__)\n",
    "print(\"Eager mode:  \", tf.executing_eagerly())\n",
    "print(\"Hub version: \", hub.__version__)\n",
    "print(\"GPU:         \", \"available\" if tf.config.list_physical_devices('GPU') else \"NOT available\")\n",
    "\n",
    "tf.get_logger().setLevel('ERROR')"
   ]
  },
  {
   "cell_type": "code",
   "execution_count": 3,
   "metadata": {},
   "outputs": [],
   "source": [
    "# tf.debugging.set_log_device_placement(True)"
   ]
  },
  {
   "cell_type": "code",
   "execution_count": 4,
   "metadata": {},
   "outputs": [],
   "source": [
    "GOOD_REVIEW_THRESHOLD = 7\n",
    "VAL_FRACTION = 0.25\n",
    "MIN_COMMENT_LEN = 25\n",
    "TOP_N = 5\n",
    "MODEL_NAME = \"https://tfhub.dev/google/tf2-preview/nnlm-en-dim50/1\"\n",
    "# MORE ABOUT MODEL NAMES: \n",
    "# \"https://tfhub.dev/google/tf2-preview/nnlm-en-dim128/1\"\n",
    "# \"https://tfhub.dev/google/tf2-preview/nnlm-en-dim128-with-normalization/1\"\n",
    "# we also tested these solutions with dimension equals to 128 but accuracy \n",
    "# is a bit lower (0.85 for 128 vs 0.86 for 50) and training sometimes stops \n",
    "# unexpectedly for memory limit\n",
    "#\n",
    "# \"https://tfhub.dev/google/tf2-preview/nnlm-en-dim50/1\"\n",
    "# \"https://tfhub.dev/google/tf2-preview/nnlm-en-dim50-with-normalization/1\"\n",
    "# there is no difference between normalization and not so we use the one \n",
    "# without normalization"
   ]
  },
  {
   "cell_type": "markdown",
   "metadata": {},
   "source": [
    "## GET DATA"
   ]
  },
  {
   "cell_type": "code",
   "execution_count": 5,
   "metadata": {},
   "outputs": [
    {
     "data": {
      "text/plain": [
       "[{'id': '340909',\n",
       "  'rank': '1',\n",
       "  'thumbnail': 'https://cf.geekdo-images.com/bwABghR3MhsmGJqyh42WXQ__thumb/img/is-GKWwws4rDrIe-B9fbuM_oBYA=/fit-in/200x150/filters:strip_icc()/pic6235824.png',\n",
       "  'name': \"Gloomholdin'\",\n",
       "  'yearpublished': '2021'},\n",
       " {'id': '328871',\n",
       "  'rank': '2',\n",
       "  'thumbnail': 'https://cf.geekdo-images.com/fW43z5XJG-DnzFChgZNM-Q__thumb/img/Ty23IY-kFu2Ho159ZgdDf2N8gwY=/fit-in/200x150/filters:strip_icc()/pic5909342.jpg',\n",
       "  'name': 'Terraforming Mars: Ares Expedition',\n",
       "  'yearpublished': '2021'}]"
      ]
     },
     "execution_count": 5,
     "metadata": {},
     "output_type": "execute_result"
    }
   ],
   "source": [
    "hot_array = get_hot_data()\n",
    "hot_array[:2]"
   ]
  },
  {
   "cell_type": "code",
   "execution_count": 6,
   "metadata": {},
   "outputs": [
    {
     "name": "stdout",
     "output_type": "stream",
     "text": [
      "missing csv file, getting new data using API...\n",
      "page number = 10 (max: 100, len: 25)\n",
      "page number = 20 (max: 100, len: 18)\n",
      "page number = 30 (max: 100, len: 12)\n",
      "page number = 40 (max: 100, len: 10)\n",
      "page number = 50 (max: 100, len: 6)\n",
      "page number = 60 (max: 100, len: 4)\n",
      "page number = 70 (max: 100, len: 3)\n",
      "page number = 80 (max: 100, len: 3)\n",
      "page number = 90 (max: 100, len: 2)\n",
      "page number = 100 (max: 100, len: 1)\n",
      "comments_df shape: (97748, 4)\n"
     ]
    },
    {
     "data": {
      "text/html": [
       "<div>\n",
       "<style scoped>\n",
       "    .dataframe tbody tr th:only-of-type {\n",
       "        vertical-align: middle;\n",
       "    }\n",
       "\n",
       "    .dataframe tbody tr th {\n",
       "        vertical-align: top;\n",
       "    }\n",
       "\n",
       "    .dataframe thead th {\n",
       "        text-align: right;\n",
       "    }\n",
       "</style>\n",
       "<table border=\"1\" class=\"dataframe\">\n",
       "  <thead>\n",
       "    <tr style=\"text-align: right;\">\n",
       "      <th></th>\n",
       "      <th>id</th>\n",
       "      <th>username</th>\n",
       "      <th>rating</th>\n",
       "      <th>value</th>\n",
       "    </tr>\n",
       "  </thead>\n",
       "  <tbody>\n",
       "    <tr>\n",
       "      <th>0</th>\n",
       "      <td>340909</td>\n",
       "      <td>051276</td>\n",
       "      <td>N/A</td>\n",
       "      <td>Print &amp; Play version</td>\n",
       "    </tr>\n",
       "    <tr>\n",
       "      <th>1</th>\n",
       "      <td>340909</td>\n",
       "      <td>archaiopaichnidi</td>\n",
       "      <td>N/A</td>\n",
       "      <td>Free PnP files: https://boardgamegeek.com/boar...</td>\n",
       "    </tr>\n",
       "    <tr>\n",
       "      <th>2</th>\n",
       "      <td>340909</td>\n",
       "      <td>CKHarlin</td>\n",
       "      <td>N/A</td>\n",
       "      <td>I am SUPER excited about this! Is there anyway...</td>\n",
       "    </tr>\n",
       "    <tr>\n",
       "      <th>3</th>\n",
       "      <td>340909</td>\n",
       "      <td>deagledryan</td>\n",
       "      <td>N/A</td>\n",
       "      <td>Printed</td>\n",
       "    </tr>\n",
       "    <tr>\n",
       "      <th>4</th>\n",
       "      <td>340909</td>\n",
       "      <td>derecksherrer</td>\n",
       "      <td>N/A</td>\n",
       "      <td>PnP</td>\n",
       "    </tr>\n",
       "    <tr>\n",
       "      <th>...</th>\n",
       "      <td>...</td>\n",
       "      <td>...</td>\n",
       "      <td>...</td>\n",
       "      <td>...</td>\n",
       "    </tr>\n",
       "    <tr>\n",
       "      <th>97743</th>\n",
       "      <td>167791</td>\n",
       "      <td>z_zadar</td>\n",
       "      <td>9</td>\n",
       "      <td>Some games are so much fun. Others can be a li...</td>\n",
       "    </tr>\n",
       "    <tr>\n",
       "      <th>97744</th>\n",
       "      <td>167791</td>\n",
       "      <td>_Czid_</td>\n",
       "      <td>8</td>\n",
       "      <td>Have played with Elysium and Prelude expansion...</td>\n",
       "    </tr>\n",
       "    <tr>\n",
       "      <th>97745</th>\n",
       "      <td>167791</td>\n",
       "      <td>_Marty_</td>\n",
       "      <td>9.5</td>\n",
       "      <td>Fantastic game. With so many cards that can ch...</td>\n",
       "    </tr>\n",
       "    <tr>\n",
       "      <th>97746</th>\n",
       "      <td>167791</td>\n",
       "      <td>_mun_</td>\n",
       "      <td>10</td>\n",
       "      <td>Nagyon izgalmas játék, jó a mechanizmusa. A sz...</td>\n",
       "    </tr>\n",
       "    <tr>\n",
       "      <th>97747</th>\n",
       "      <td>167791</td>\n",
       "      <td>_The_Inquiry_</td>\n",
       "      <td>5</td>\n",
       "      <td>Prior to 2020: 2 plays  TM is one of those gam...</td>\n",
       "    </tr>\n",
       "  </tbody>\n",
       "</table>\n",
       "<p>97748 rows × 4 columns</p>\n",
       "</div>"
      ],
      "text/plain": [
       "           id          username rating  \\\n",
       "0      340909            051276    N/A   \n",
       "1      340909  archaiopaichnidi    N/A   \n",
       "2      340909          CKHarlin    N/A   \n",
       "3      340909       deagledryan    N/A   \n",
       "4      340909     derecksherrer    N/A   \n",
       "...       ...               ...    ...   \n",
       "97743  167791           z_zadar      9   \n",
       "97744  167791            _Czid_      8   \n",
       "97745  167791           _Marty_    9.5   \n",
       "97746  167791             _mun_     10   \n",
       "97747  167791     _The_Inquiry_      5   \n",
       "\n",
       "                                                   value  \n",
       "0                                   Print & Play version  \n",
       "1      Free PnP files: https://boardgamegeek.com/boar...  \n",
       "2      I am SUPER excited about this! Is there anyway...  \n",
       "3                                                Printed  \n",
       "4                                                    PnP  \n",
       "...                                                  ...  \n",
       "97743  Some games are so much fun. Others can be a li...  \n",
       "97744  Have played with Elysium and Prelude expansion...  \n",
       "97745  Fantastic game. With so many cards that can ch...  \n",
       "97746  Nagyon izgalmas játék, jó a mechanizmusa. A sz...  \n",
       "97747  Prior to 2020: 2 plays  TM is one of those gam...  \n",
       "\n",
       "[97748 rows x 4 columns]"
      ]
     },
     "execution_count": 6,
     "metadata": {},
     "output_type": "execute_result"
    }
   ],
   "source": [
    "try:\n",
    "    comments_df = pd.read_csv(f\"comments_{datetime.now().strftime('%Y%m%d')}.csv\")\n",
    "    comments_df['rating'] = comments_df.rating.fillna('N/A')\n",
    "    print(\"reading dataframe from csv file...\")\n",
    "except:\n",
    "    print(\"missing csv file, getting new data using API...\")\n",
    "    comments_df = get_comments(hot_array, verbose=10)\n",
    "    comments_df.to_csv(f\"comments_{datetime.now().strftime('%Y%m%d')}.csv\", index=False)\n",
    "comments_df"
   ]
  },
  {
   "cell_type": "markdown",
   "metadata": {},
   "source": [
    "## DATA CLEANING"
   ]
  },
  {
   "cell_type": "code",
   "execution_count": 7,
   "metadata": {},
   "outputs": [],
   "source": [
    "# probably we should keep all the ratings (no matters the len) and remove only the simple comments under a certain len  \n",
    "comments_df[\"value\"] = comments_df[\"value\"].astype(str)"
   ]
  },
  {
   "cell_type": "code",
   "execution_count": 8,
   "metadata": {},
   "outputs": [
    {
     "name": "stdout",
     "output_type": "stream",
     "text": [
      "removed 15929 for 'remove_short_comments' - min len: 25 - method: unrated\n"
     ]
    }
   ],
   "source": [
    "# REMOVE URLs FROM COMMENTS\n",
    "comments_df['value'] = [re.sub(r\"http\\S+\", \"\", v) for v in comments_df.value.values]\n",
    "comments_df = remove_short_comments(comments_df, MIN_COMMENT_LEN)"
   ]
  },
  {
   "cell_type": "code",
   "execution_count": 9,
   "metadata": {},
   "outputs": [],
   "source": [
    "# REMOVE NON ENGLISH COMMENTS\n",
    "# !conda install -c conda-forge langdetect\n",
    "# def add_comments_lang(df: pd.DataFrame):\n",
    "#     df_local = df.copy()\n",
    "#     df_local['lang'] = df['value'].apply(detect)\n",
    "#     return df_local.reset_index(drop=True)\n",
    "# comments_df = add_comments_lang(comments_df)\n",
    "# comments_df = comments_df.query('lang == \"en\"')"
   ]
  },
  {
   "cell_type": "markdown",
   "metadata": {},
   "source": [
    "## SPLIT RATED AND NON-RATED COMMENTS"
   ]
  },
  {
   "cell_type": "code",
   "execution_count": 10,
   "metadata": {},
   "outputs": [
    {
     "data": {
      "text/plain": [
       "10         16474\n",
       "9          15381\n",
       "8          12730\n",
       "7           6928\n",
       "N/A         6864\n",
       "           ...  \n",
       "8.677          1\n",
       "7.72667        1\n",
       "7.895          1\n",
       "9.41333        1\n",
       "8.026          1\n",
       "Name: rating, Length: 513, dtype: int64"
      ]
     },
     "execution_count": 10,
     "metadata": {},
     "output_type": "execute_result"
    }
   ],
   "source": [
    "# count number of comments per rating (N/A included)\n",
    "comments_df.rating.value_counts()"
   ]
  },
  {
   "cell_type": "code",
   "execution_count": 11,
   "metadata": {},
   "outputs": [
    {
     "data": {
      "text/plain": [
       "(74955, 5)"
      ]
     },
     "execution_count": 11,
     "metadata": {},
     "output_type": "execute_result"
    }
   ],
   "source": [
    "# get rated comments only\n",
    "rated_comments = comments_df.query('rating != \"N/A\"')\n",
    "rated_comments.shape"
   ]
  },
  {
   "cell_type": "code",
   "execution_count": 12,
   "metadata": {},
   "outputs": [
    {
     "data": {
      "text/plain": [
       "(6864, 5)"
      ]
     },
     "execution_count": 12,
     "metadata": {},
     "output_type": "execute_result"
    }
   ],
   "source": [
    "# get non rated comments only\n",
    "not_rated_comments = comments_df.query('rating == \"N/A\"').reset_index(drop=True)\n",
    "not_rated_comments.shape"
   ]
  },
  {
   "cell_type": "markdown",
   "metadata": {},
   "source": [
    "## CREATE TRAINING AND VALIDATION DATA"
   ]
  },
  {
   "cell_type": "code",
   "execution_count": 13,
   "metadata": {},
   "outputs": [],
   "source": [
    "# use rated comments (reviews) to train the model"
   ]
  },
  {
   "cell_type": "code",
   "execution_count": 14,
   "metadata": {},
   "outputs": [],
   "source": [
    "rated_comments = rated_comments.sample(frac=1)"
   ]
  },
  {
   "cell_type": "code",
   "execution_count": 15,
   "metadata": {},
   "outputs": [],
   "source": [
    "# create training X and y\n",
    "train_examples = list(rated_comments.value)\n",
    "train_labels = list((rated_comments.rating.astype(float)>=GOOD_REVIEW_THRESHOLD).astype(int))"
   ]
  },
  {
   "cell_type": "code",
   "execution_count": 16,
   "metadata": {},
   "outputs": [
    {
     "name": "stdout",
     "output_type": "stream",
     "text": [
      "example of positive rating:\n"
     ]
    },
    {
     "data": {
      "text/plain": [
       "\"The game is a masterpiece. Pity I can't get it on to the table as much anymore. Would love to give it a 10, but play times, set up, and teardown takes just too much commitment and I find myself grabbing Aeons end or spirit island instead.\""
      ]
     },
     "execution_count": 16,
     "metadata": {},
     "output_type": "execute_result"
    }
   ],
   "source": [
    "print(\"example of positive rating:\")\n",
    "train_examples[train_labels.index(1)]"
   ]
  },
  {
   "cell_type": "code",
   "execution_count": 17,
   "metadata": {},
   "outputs": [
    {
     "name": "stdout",
     "output_type": "stream",
     "text": [
      "example of negative rating:\n"
     ]
    },
    {
     "data": {
      "text/plain": [
       "'Just \\'meh\" for our gaming group.  New version put a lot of bells and whistles on the original Brass but it\\'s still the same, somewhat dry, build your own machine with virtually no interaction between players game.  There\\'s just no room for \\'dull/drab\\' on my shelves these days.'"
      ]
     },
     "execution_count": 17,
     "metadata": {},
     "output_type": "execute_result"
    }
   ],
   "source": [
    "print(\"example of negative rating:\")\n",
    "train_examples[train_labels.index(0)]"
   ]
  },
  {
   "cell_type": "markdown",
   "metadata": {},
   "source": [
    "## COMPOSE MODEL"
   ]
  },
  {
   "cell_type": "code",
   "execution_count": 18,
   "metadata": {},
   "outputs": [],
   "source": [
    "hub_layer = hub.KerasLayer(MODEL_NAME, input_shape=[], dtype=tf.string, trainable=True)"
   ]
  },
  {
   "cell_type": "markdown",
   "metadata": {},
   "source": [
    "## CLASSIFIER"
   ]
  },
  {
   "cell_type": "code",
   "execution_count": 19,
   "metadata": {},
   "outputs": [
    {
     "name": "stdout",
     "output_type": "stream",
     "text": [
      "Epoch 1/100\n",
      "37/37 - 4s - loss: 0.5514 - accuracy: 0.8390 - val_loss: 0.4946 - val_accuracy: 0.8520\n",
      "Epoch 2/100\n",
      "37/37 - 2s - loss: 0.4476 - accuracy: 0.8516 - val_loss: 0.4103 - val_accuracy: 0.8526\n",
      "Epoch 3/100\n",
      "37/37 - 2s - loss: 0.3664 - accuracy: 0.8573 - val_loss: 0.3542 - val_accuracy: 0.8599\n",
      "Epoch 4/100\n",
      "37/37 - 2s - loss: 0.3147 - accuracy: 0.8746 - val_loss: 0.3282 - val_accuracy: 0.8716\n",
      "Epoch 5/100\n",
      "37/37 - 2s - loss: 0.2803 - accuracy: 0.8894 - val_loss: 0.3138 - val_accuracy: 0.8773\n",
      "Epoch 6/100\n",
      "37/37 - 2s - loss: 0.2523 - accuracy: 0.9011 - val_loss: 0.3093 - val_accuracy: 0.8811\n",
      "Epoch 7/100\n",
      "37/37 - 2s - loss: 0.2279 - accuracy: 0.9109 - val_loss: 0.3093 - val_accuracy: 0.8818\n",
      "Epoch 8/100\n",
      "37/37 - 2s - loss: 0.2070 - accuracy: 0.9204 - val_loss: 0.3165 - val_accuracy: 0.8789\n",
      "Epoch 9/100\n",
      "37/37 - 2s - loss: 0.1882 - accuracy: 0.9292 - val_loss: 0.3247 - val_accuracy: 0.8730\n",
      "Epoch 10/100\n",
      "37/37 - 2s - loss: 0.1716 - accuracy: 0.9372 - val_loss: 0.3392 - val_accuracy: 0.8719\n",
      "Epoch 11/100\n",
      "37/37 - 2s - loss: 0.1575 - accuracy: 0.9430 - val_loss: 0.3575 - val_accuracy: 0.8688\n",
      "25/25 - 0s - loss: 0.3651 - accuracy: 0.8691\n",
      "Epoch 1/100\n",
      "37/37 - 3s - loss: 0.5488 - accuracy: 0.8225 - val_loss: 0.4856 - val_accuracy: 0.8512\n",
      "Epoch 2/100\n",
      "37/37 - 2s - loss: 0.4405 - accuracy: 0.8529 - val_loss: 0.4037 - val_accuracy: 0.8526\n",
      "Epoch 3/100\n",
      "37/37 - 2s - loss: 0.3563 - accuracy: 0.8600 - val_loss: 0.3450 - val_accuracy: 0.8635\n",
      "Epoch 4/100\n",
      "37/37 - 2s - loss: 0.3028 - accuracy: 0.8788 - val_loss: 0.3189 - val_accuracy: 0.8763\n",
      "Epoch 5/100\n",
      "37/37 - 2s - loss: 0.2663 - accuracy: 0.8938 - val_loss: 0.3058 - val_accuracy: 0.8812\n",
      "Epoch 6/100\n",
      "37/37 - 2s - loss: 0.2373 - accuracy: 0.9070 - val_loss: 0.3047 - val_accuracy: 0.8819\n",
      "Epoch 7/100\n",
      "37/37 - 2s - loss: 0.2136 - accuracy: 0.9178 - val_loss: 0.3064 - val_accuracy: 0.8789\n",
      "Epoch 8/100\n",
      "37/37 - 2s - loss: 0.1933 - accuracy: 0.9273 - val_loss: 0.3140 - val_accuracy: 0.8745\n",
      "Epoch 9/100\n",
      "37/37 - 2s - loss: 0.1757 - accuracy: 0.9353 - val_loss: 0.3274 - val_accuracy: 0.8732\n",
      "Epoch 10/100\n",
      "37/37 - 2s - loss: 0.1614 - accuracy: 0.9419 - val_loss: 0.3390 - val_accuracy: 0.8690\n",
      "25/25 - 0s - loss: 0.3572 - accuracy: 0.8642\n",
      "Epoch 1/100\n",
      "37/37 - 3s - loss: 0.5819 - accuracy: 0.7455 - val_loss: 0.5110 - val_accuracy: 0.8410\n",
      "Epoch 2/100\n",
      "37/37 - 2s - loss: 0.4568 - accuracy: 0.8509 - val_loss: 0.4260 - val_accuracy: 0.8506\n",
      "Epoch 3/100\n",
      "37/37 - 2s - loss: 0.3756 - accuracy: 0.8600 - val_loss: 0.3688 - val_accuracy: 0.8628\n",
      "Epoch 4/100\n",
      "37/37 - 2s - loss: 0.3194 - accuracy: 0.8780 - val_loss: 0.3388 - val_accuracy: 0.8682\n",
      "Epoch 5/100\n",
      "37/37 - 2s - loss: 0.2808 - accuracy: 0.8906 - val_loss: 0.3230 - val_accuracy: 0.8742\n",
      "Epoch 6/100\n",
      "37/37 - 2s - loss: 0.2508 - accuracy: 0.9032 - val_loss: 0.3166 - val_accuracy: 0.8772\n",
      "Epoch 7/100\n",
      "37/37 - 2s - loss: 0.2263 - accuracy: 0.9143 - val_loss: 0.3164 - val_accuracy: 0.8762\n",
      "Epoch 8/100\n",
      "37/37 - 2s - loss: 0.2050 - accuracy: 0.9228 - val_loss: 0.3225 - val_accuracy: 0.8743\n",
      "Epoch 9/100\n",
      "37/37 - 2s - loss: 0.1866 - accuracy: 0.9303 - val_loss: 0.3297 - val_accuracy: 0.8729\n",
      "Epoch 10/100\n",
      "37/37 - 2s - loss: 0.1704 - accuracy: 0.9380 - val_loss: 0.3428 - val_accuracy: 0.8695\n",
      "Epoch 11/100\n",
      "37/37 - 2s - loss: 0.1561 - accuracy: 0.9449 - val_loss: 0.3537 - val_accuracy: 0.8657\n",
      "25/25 - 0s - loss: 0.3493 - accuracy: 0.8670\n",
      "Epoch 1/100\n",
      "55/55 - 4s - loss: 0.6190 - accuracy: 0.6685 - val_loss: 0.5111 - val_accuracy: 0.8405\n",
      "Epoch 2/100\n",
      "55/55 - 3s - loss: 0.4653 - accuracy: 0.8501 - val_loss: 0.4214 - val_accuracy: 0.8510\n",
      "Epoch 3/100\n",
      "55/55 - 3s - loss: 0.3722 - accuracy: 0.8621 - val_loss: 0.3495 - val_accuracy: 0.8691\n",
      "Epoch 4/100\n",
      "55/55 - 3s - loss: 0.3100 - accuracy: 0.8818 - val_loss: 0.3170 - val_accuracy: 0.8770\n",
      "Epoch 5/100\n",
      "55/55 - 3s - loss: 0.2723 - accuracy: 0.8949 - val_loss: 0.3032 - val_accuracy: 0.8812\n",
      "Epoch 6/100\n",
      "55/55 - 3s - loss: 0.2446 - accuracy: 0.9062 - val_loss: 0.2993 - val_accuracy: 0.8814\n",
      "Epoch 7/100\n",
      "55/55 - 3s - loss: 0.2225 - accuracy: 0.9146 - val_loss: 0.3031 - val_accuracy: 0.8784\n",
      "Epoch 8/100\n",
      "55/55 - 3s - loss: 0.2043 - accuracy: 0.9224 - val_loss: 0.3098 - val_accuracy: 0.8754\n",
      "Epoch 9/100\n",
      "55/55 - 3s - loss: 0.1889 - accuracy: 0.9288 - val_loss: 0.3226 - val_accuracy: 0.8753\n",
      "Epoch 10/100\n",
      "55/55 - 3s - loss: 0.1756 - accuracy: 0.9352 - val_loss: 0.3333 - val_accuracy: 0.8716\n"
     ]
    },
    {
     "data": {
      "text/plain": [
       "GridSearchCV(cv=3,\n",
       "             estimator=<tensorflow.python.keras.wrappers.scikit_learn.KerasClassifier object at 0x0000024588B9F9D0>,\n",
       "             param_grid={})"
      ]
     },
     "execution_count": 19,
     "metadata": {},
     "output_type": "execute_result"
    }
   ],
   "source": [
    "def build_classifier():\n",
    "    return build_model(hub_layer=None, pre_trained_model_name=MODEL_NAME, model_type='classifier', verbose=0)\n",
    "\n",
    "\n",
    "estimator = KerasClassifier(build_fn=build_classifier, epochs=100, batch_size=1024, verbose=2, validation_split=VAL_FRACTION)\n",
    "x_train_clf = np.array(list(rated_comments.value))\n",
    "y_train_clf = np.array(list((rated_comments.rating.astype(float)>=GOOD_REVIEW_THRESHOLD).astype(int)))\n",
    "\n",
    "clf = GridSearchCV(\n",
    "    estimator, \n",
    "    cv=3, \n",
    "    param_grid={}\n",
    ")\n",
    "clf.fit(x_train_clf, y_train_clf, callbacks=[tf.keras.callbacks.EarlyStopping(monitor='val_accuracy', patience=5, min_delta=0.001)])"
   ]
  },
  {
   "cell_type": "code",
   "execution_count": 20,
   "metadata": {},
   "outputs": [],
   "source": [
    "classifier = clf.best_estimator_\n",
    "classifier_history_dict = classifier.model.history.history"
   ]
  },
  {
   "cell_type": "code",
   "execution_count": 21,
   "metadata": {},
   "outputs": [
    {
     "data": {
      "text/plain": [
       "dict_keys(['loss', 'accuracy', 'val_loss', 'val_accuracy'])"
      ]
     },
     "execution_count": 21,
     "metadata": {},
     "output_type": "execute_result"
    }
   ],
   "source": [
    "classifier_history_dict.keys()"
   ]
  },
  {
   "cell_type": "code",
   "execution_count": 22,
   "metadata": {},
   "outputs": [],
   "source": [
    "acc = classifier_history_dict['accuracy']\n",
    "val_acc = classifier_history_dict['val_accuracy']\n",
    "loss = classifier_history_dict['loss']\n",
    "val_loss = classifier_history_dict['val_loss']"
   ]
  },
  {
   "cell_type": "code",
   "execution_count": 23,
   "metadata": {},
   "outputs": [],
   "source": [
    "epochs = range(1, len(acc) + 1) "
   ]
  },
  {
   "cell_type": "code",
   "execution_count": 24,
   "metadata": {},
   "outputs": [
    {
     "data": {
      "image/png": "[encoded data removed]",
      "text/plain": [
       "<Figure size 648x360 with 1 Axes>"
      ]
     },
     "metadata": {
      "needs_background": "light"
     },
     "output_type": "display_data"
    }
   ],
   "source": [
    "# \"bo\" is for \"blue dot\"\n",
    "plt.figure(figsize=(9, 5))\n",
    "plt.plot(epochs, loss, 'bo', label='Training loss')\n",
    "# b is for \"solid blue line\"\n",
    "plt.plot(epochs, val_loss, 'b', label='Validation loss')\n",
    "plt.title('Training and validation loss')\n",
    "plt.xlabel('Epochs')\n",
    "plt.ylabel('Loss')\n",
    "plt.grid(True)\n",
    "plt.legend()\n",
    "\n",
    "plt.show()"
   ]
  },
  {
   "cell_type": "code",
   "execution_count": 25,
   "metadata": {},
   "outputs": [
    {
     "data": {
      "image/png": "[encoded data removed]",
      "text/plain": [
       "<Figure size 648x360 with 1 Axes>"
      ]
     },
     "metadata": {
      "needs_background": "light"
     },
     "output_type": "display_data"
    }
   ],
   "source": [
    "plt.figure(figsize=(9, 5))\n",
    "plt.plot(epochs, acc, 'bo', label='Training acc')\n",
    "plt.plot(epochs, val_acc, 'b', label='Validation acc')\n",
    "plt.title('Training and validation accuracy')\n",
    "plt.xlabel('Epochs')\n",
    "plt.ylabel('Accuracy')\n",
    "plt.grid(True)\n",
    "plt.legend()\n",
    "\n",
    "plt.show()"
   ]
  },
  {
   "cell_type": "code",
   "execution_count": 26,
   "metadata": {},
   "outputs": [
    {
     "name": "stdout",
     "output_type": "stream",
     "text": [
      "input:\n",
      "\"Just 'meh\" for our gaming group.  New version put a lot of bells and whistles on the original Brass but it's still the same, somewhat dry, build your own machine with virtually no interaction between players game.  There's just no room for 'dull/drab' on my shelves these days.\"\n",
      "score: 0.000000\n",
      "actual: 0\n",
      "\n",
      "input:\n",
      "\"The game is a masterpiece. Pity I can't get it on to the table as much anymore. Would love to give it a 10, but play times, set up, and teardown takes just too much commitment and I find myself grabbing Aeons end or spirit island instead.\"\n",
      "score: 1.000000\n",
      "actual: 1\n",
      "\n",
      "input:\n",
      "\"1-5 115 minutes Best with 4\"\n",
      "score: 1.000000\n",
      "actual: 1\n",
      "\n",
      "input:\n",
      "\"This is so cool. Really simple rules, but nice and thematic mechanics. Starts easy, gets a bit more complex through the game, and end just at the right moment! Normally i am not really a scifi guy for games, but this is really a fun game. I did not know i would like like the looks of this game so much just bases on what you see, but it is really nice if you see it in front of you. Only played 2- player games.\"\n",
      "score: 1.000000\n",
      "actual: 1\n",
      "\n",
      "input:\n",
      "\"Oh wow... I am so glad to have bought this on a whim. Super theme, highly replayable, challenging and has a great look too.\"\n",
      "score: 1.000000\n",
      "actual: 1\n",
      "\n",
      "input:\n",
      "\"In a hobby saturated by Eurocentric and colonial games, this passion project from Eric Reuss is one helluva game-changer - but theme aside, it's also a masterpiece of design with incredible depth that I'll need many years to explore.\"\n",
      "score: 1.000000\n",
      "actual: 1\n",
      "\n",
      "input:\n",
      "\"This game is amazing as a solo game which is one of the main reasons I picked it up.  It stays engaging throughout and is a great challenge.  Doesnt feel overly large although the rules are complex its manageable and worth the investment.\"\n",
      "score: 1.000000\n",
      "actual: 1\n",
      "\n",
      "input:\n",
      "\"i loved this game!! , beautiful made it, i loved the theme, the quality and the huge amount of different bird cards,  well balanced game and the automa is hard and easy to manage, i loved the plastic container to keep the eggs and food tokens allowing less time consuming to setup and tear down process(winch bothering me a lot in game like architect of the west kingdom), my wife enjoyed as well and we both gave a 10/10 and i will wait to see what the expansion will bring to the table\"\n",
      "score: 1.000000\n",
      "actual: 1\n",
      "\n",
      "input:\n",
      "\"1st play: Excellent blend of route building (sortof), deck building, and engine building. Approaching each game you can focus on your deck, your workers, or your engineering, but it's hard to do all things at once. Deck building for cows is really unique and fits the theme well. The game runs a little long, but I'm not exactly sure how it would be shortened. The symbols are good and we didn't have to refer to the rules at all in our play which is a great sign. Nice to see a western themed game without high-noon shootouts.  2nd play: Great second play, I managed to get the flow of the game and placed my buildings a lot better to synch with my strategy. The goals each game are roughly the same, so I'm not sure how much variability there is. There's an interesting optimization goal with each play, but it would be easy to see more buildings in an expansion.\"\n",
      "score: 1.000000\n",
      "actual: 0\n",
      "\n",
      "input:\n",
      "\"einsteiger-freundliche Standalone-Variante, erschien 2020 bei Feuerland\"\n",
      "score: 1.000000\n",
      "actual: 1\n"
     ]
    },
    {
     "name": "stderr",
     "output_type": "stream",
     "text": [
      "C:\\Users\\dev999\\.conda\\envs\\tensorflow2\\lib\\site-packages\\tensorflow\\python\\keras\\engine\\sequential.py:455: UserWarning: `model.predict_classes()` is deprecated and will be removed after 2021-01-01. Please use instead:* `np.argmax(model.predict(x), axis=-1)`,   if your model does multi-class classification   (e.g. if it uses a `softmax` last-layer activation).* `(model.predict(x) > 0.5).astype(\"int32\")`,   if your model does binary classification   (e.g. if it uses a `sigmoid` last-layer activation).\n",
      "  warnings.warn('`model.predict_classes()` is deprecated and '\n"
     ]
    }
   ],
   "source": [
    "inputs = x_train_clf[:10]\n",
    "outputs = y_train_clf[:10]\n",
    "results = classifier.predict(tf.constant(inputs), verbose=0)\n",
    "print_my_examples(inputs, results, outputs)"
   ]
  },
  {
   "cell_type": "code",
   "execution_count": 27,
   "metadata": {},
   "outputs": [],
   "source": [
    "## APPLY MODEL ON NON-RATED COMMENTS"
   ]
  },
  {
   "cell_type": "code",
   "execution_count": 28,
   "metadata": {},
   "outputs": [
    {
     "name": "stdout",
     "output_type": "stream",
     "text": [
      "7/7 - 0s\n",
      "input:\n",
      "\"Borrowed. Not in our collection \"\n",
      "score: 1.000000\n",
      "\n",
      "input:\n",
      "\"Scythe Collector's Edition (Kickstarter)\"\n",
      "score: 1.000000\n",
      "\n",
      "input:\n",
      "\"1-4 Players Worker placemement Engine/Tableau building\"\n",
      "score: 1.000000\n",
      "\n",
      "input:\n",
      "\"BrokenToken Game Organizer -   BrokenToken Birdhouse Dicetower -   --  Meeple Source Winspan Upgrade Kit (105 pcs) -   Meeple Source 81-piece set of Deluxe North American Wingspan Birds -   Meeple Source 81-piece set of Deluxe European Wingspan Birds -   --  All cards sleeved - Arcane Tinmen Non-Glare  -- \"\n",
      "score: 1.000000\n",
      "\n",
      "input:\n",
      "\"Rules questions that have come up recently:  The STARTING ADVENTURE CARDS are actually in the market deck, and they do not say \"starting\" on the back like it says in the rule book. ANY player may use adventure cards at any time, even on another player's turn (as long as they pay the command cost, and there is not already command on the card). TIDES OF RUIN SETUP: Add all of the appropriate cards to their same type in the base game (keep them in order if they are numbered on the backs). Set aside the ARCADE MODE cards for now (you only use them when playing ARCADE MODE). ARCADE MODE rules are listed on the first page of the Tides of Ruin storybook. DUNGEONS: I recommend you do not play with this expansion until you have played through your first campaign, or that you've at least played through half of a campaign. There is so much content to explore in the base game, it will likely be a better experience if you spend some time getting used to the basic rules and the game world before diving into the dungeons.\"\n",
      "score: 1.000000\n",
      "\n",
      "input:\n",
      "\"Custom birdhouse action tokens.\"\n",
      "score: 1.000000\n",
      "\n",
      "input:\n",
      "\"Number of cards: 110 @ 63 x 88mm  Docsmagic sleeve size: 63.5x88 Standard Card - Light Gray: Standard (DMS03, 100/pack) or Premium (DMS13, 50/pack) - (66 x 91mm) or 64x89 Resealable - White (DMS60, 100/pack) - (64 x 89mm) or 64x89 Perfect Protection - Sage Green (DMS10, 100/pack) - (64 x 89mm)\"\n",
      "score: 1.000000\n",
      "\n",
      "input:\n",
      "\"Lot of buzz on this game, need to try it.\"\n",
      "score: 1.000000\n",
      "\n",
      "input:\n",
      "\"Both ProZD and Shut Up and Sit Down recomend this so It's a must have. I love space games and every aspect of this that I've heard about seems awesome to play.\"\n",
      "score: 1.000000\n",
      "\n",
      "input:\n",
      "\"the theme would make this very interesting to many in my family, but unclear if that's enough to make them want to play this with me!\"\n",
      "score: 1.000000\n"
     ]
    }
   ],
   "source": [
    "not_rated_comments = not_rated_comments.sample(frac=1)\n",
    "results = classifier.predict(tf.constant(list(not_rated_comments.value.astype(str))))\n",
    "print_my_examples(list(not_rated_comments.value), results, limit=10)"
   ]
  },
  {
   "cell_type": "markdown",
   "metadata": {},
   "source": [
    "## REGRESSOR"
   ]
  },
  {
   "cell_type": "code",
   "execution_count": 29,
   "metadata": {},
   "outputs": [
    {
     "data": {
      "text/plain": [
       "GridSearchCV(cv=3,\n",
       "             estimator=<tensorflow.python.keras.wrappers.scikit_learn.KerasRegressor object at 0x00000245A1B96760>,\n",
       "             param_grid={})"
      ]
     },
     "execution_count": 29,
     "metadata": {},
     "output_type": "execute_result"
    }
   ],
   "source": [
    "def build_regressor():\n",
    "    return build_model(hub_layer, pre_trained_model_name=MODEL_NAME, model_type='regressor', verbose=0)\n",
    "\n",
    "\n",
    "estimator = KerasRegressor(build_fn=build_regressor, epochs=100, batch_size=512, verbose=0, validation_split=VAL_FRACTION)\n",
    "x_train_reg = np.array(list(rated_comments.value))\n",
    "y_train_reg = np.array(list(rated_comments.rating.astype(float)))\n",
    "\n",
    "clf = GridSearchCV(\n",
    "    estimator, \n",
    "    cv=3, \n",
    "    param_grid={}\n",
    ")\n",
    "clf.fit(x_train_reg, y_train_reg, callbacks=[tf.keras.callbacks.EarlyStopping(monitor='val_mean_squared_error', patience=5, min_delta=0.001)])"
   ]
  },
  {
   "cell_type": "code",
   "execution_count": 30,
   "metadata": {},
   "outputs": [],
   "source": [
    "regressor = clf.best_estimator_\n",
    "regressor_history_dict = regressor.model.history.history"
   ]
  },
  {
   "cell_type": "code",
   "execution_count": 31,
   "metadata": {},
   "outputs": [
    {
     "data": {
      "text/plain": [
       "dict_keys(['loss', 'mean_squared_error', 'val_loss', 'val_mean_squared_error'])"
      ]
     },
     "execution_count": 31,
     "metadata": {},
     "output_type": "execute_result"
    }
   ],
   "source": [
    "regressor_history_dict.keys()"
   ]
  },
  {
   "cell_type": "code",
   "execution_count": 32,
   "metadata": {},
   "outputs": [],
   "source": [
    "mean_squared_error = regressor_history_dict['mean_squared_error']\n",
    "val_mean_squared_error = regressor_history_dict['val_mean_squared_error']\n",
    "loss = regressor_history_dict['loss']\n",
    "val_loss = regressor_history_dict['val_loss']"
   ]
  },
  {
   "cell_type": "code",
   "execution_count": 33,
   "metadata": {},
   "outputs": [],
   "source": [
    "epochs = range(1, len(mean_squared_error) + 1) "
   ]
  },
  {
   "cell_type": "code",
   "execution_count": 34,
   "metadata": {},
   "outputs": [
    {
     "name": "stdout",
     "output_type": "stream",
     "text": [
      "MEAN SQUARED ERROR (VALIDATION SET): 2.56\n"
     ]
    }
   ],
   "source": [
    "print(f\"MEAN SQUARED ERROR (VALIDATION SET): {val_mean_squared_error[-1]:.2f}\")"
   ]
  },
  {
   "cell_type": "code",
   "execution_count": 35,
   "metadata": {},
   "outputs": [
    {
     "name": "stdout",
     "output_type": "stream",
     "text": [
      "MEAN SQUARED ERROR (TRAINING SET): 1.01\n"
     ]
    }
   ],
   "source": [
    "print(f\"MEAN SQUARED ERROR (TRAINING SET): {mean_squared_error[-1]:.2f}\")"
   ]
  },
  {
   "cell_type": "code",
   "execution_count": 36,
   "metadata": {},
   "outputs": [
    {
     "data": {
      "image/png": "[encoded data removed]",
      "text/plain": [
       "<Figure size 648x360 with 1 Axes>"
      ]
     },
     "metadata": {
      "needs_background": "light"
     },
     "output_type": "display_data"
    }
   ],
   "source": [
    "# \"bo\" is for \"blue dot\"\n",
    "plt.figure(figsize=(9, 5))\n",
    "plt.plot(epochs, loss, 'bo', label='Training loss')\n",
    "# b is for \"solid blue line\"\n",
    "plt.plot(epochs, val_loss, 'b', label='Validation loss')\n",
    "plt.title('Training and validation loss')\n",
    "plt.xlabel('Epochs')\n",
    "plt.ylabel('Loss')\n",
    "plt.grid(True)\n",
    "plt.legend()\n",
    "\n",
    "plt.show()"
   ]
  },
  {
   "cell_type": "code",
   "execution_count": 37,
   "metadata": {},
   "outputs": [
    {
     "data": {
      "image/png": "[encoded data removed]",
      "text/plain": [
       "<Figure size 648x360 with 1 Axes>"
      ]
     },
     "metadata": {
      "needs_background": "light"
     },
     "output_type": "display_data"
    }
   ],
   "source": [
    "plt.figure(figsize=(9, 5))\n",
    "plt.plot(epochs, mean_squared_error, 'bo', label='Training mean squared error')\n",
    "plt.plot(epochs, val_mean_squared_error, 'b', label='Validation mean squared error')\n",
    "plt.title('Training and validation accuracy')\n",
    "plt.xlabel('Epochs')\n",
    "plt.ylabel('Mean squared error')\n",
    "plt.grid(True)\n",
    "plt.legend()\n",
    "\n",
    "plt.show()"
   ]
  },
  {
   "cell_type": "code",
   "execution_count": 38,
   "metadata": {},
   "outputs": [
    {
     "name": "stdout",
     "output_type": "stream",
     "text": [
      "input: \n",
      "\"Just 'meh\" for our gaming group.  New version put a lot of bells and whistles on the original Brass but it's still the same, somewhat dry, build your own machine with virtually no interaction between players game.  There's just no room for 'dull/drab' on my shelves these days.\"\n",
      "score: 6.23\n",
      "actual: 5.50 \n",
      "\n",
      "input: \n",
      "\"The game is a masterpiece. Pity I can't get it on to the table as much anymore. Would love to give it a 10, but play times, set up, and teardown takes just too much commitment and I find myself grabbing Aeons end or spirit island instead.\"\n",
      "score: 8.29\n",
      "actual: 9.00 \n",
      "\n",
      "input: \n",
      "\"1-5 115 minutes Best with 4\"\n",
      "score: 8.98\n",
      "actual: 9.00 \n",
      "\n",
      "input: \n",
      "\"This is so cool. Really simple rules, but nice and thematic mechanics. Starts easy, gets a bit more complex through the game, and end just at the right moment! Normally i am not really a scifi guy for games, but this is really a fun game. I did not know i would like like the looks of this game so much just bases on what you see, but it is really nice if you see it in front of you. Only played 2- player games.\"\n",
      "score: 8.59\n",
      "actual: 9.00 \n",
      "\n",
      "input: \n",
      "\"Oh wow... I am so glad to have bought this on a whim. Super theme, highly replayable, challenging and has a great look too.\"\n",
      "score: 9.27\n",
      "actual: 8.50 \n",
      "\n",
      "input: \n",
      "\"In a hobby saturated by Eurocentric and colonial games, this passion project from Eric Reuss is one helluva game-changer - but theme aside, it's also a masterpiece of design with incredible depth that I'll need many years to explore.\"\n",
      "score: 9.64\n",
      "actual: 9.50 \n",
      "\n",
      "input: \n",
      "\"This game is amazing as a solo game which is one of the main reasons I picked it up.  It stays engaging throughout and is a great challenge.  Doesnt feel overly large although the rules are complex its manageable and worth the investment.\"\n",
      "score: 9.25\n",
      "actual: 9.00 \n",
      "\n",
      "input: \n",
      "\"i loved this game!! , beautiful made it, i loved the theme, the quality and the huge amount of different bird cards,  well balanced game and the automa is hard and easy to manage, i loved the plastic container to keep the eggs and food tokens allowing less time consuming to setup and tear down process(winch bothering me a lot in game like architect of the west kingdom), my wife enjoyed as well and we both gave a 10/10 and i will wait to see what the expansion will bring to the table\"\n",
      "score: 9.97\n",
      "actual: 10.00 \n",
      "\n",
      "input: \n",
      "\"1st play: Excellent blend of route building (sortof), deck building, and engine building. Approaching each game you can focus on your deck, your workers, or your engineering, but it's hard to do all things at once. Deck building for cows is really unique and fits the theme well. The game runs a little long, but I'm not exactly sure how it would be shortened. The symbols are good and we didn't have to refer to the rules at all in our play which is a great sign. Nice to see a western themed game without high-noon shootouts.  2nd play: Great second play, I managed to get the flow of the game and placed my buildings a lot better to synch with my strategy. The goals each game are roughly the same, so I'm not sure how much variability there is. There's an interesting optimization goal with each play, but it would be easy to see more buildings in an expansion.\"\n",
      "score: 6.61\n",
      "actual: 6.00 \n",
      "\n",
      "input: \n",
      "\"einsteiger-freundliche Standalone-Variante, erschien 2020 bei Feuerland\"\n",
      "score: 7.82\n",
      "actual: 8.00 \n",
      "\n"
     ]
    }
   ],
   "source": [
    "inputs = x_train_reg[:10]\n",
    "outputs = y_train_reg[:10]\n",
    "results = clf.best_estimator_.predict(tf.constant(inputs), verbose=0)\n",
    "for i in range(len(inputs)):\n",
    "    print(f\"input: \\n\\\"{inputs[i]}\\\"\\nscore: {results[i]:.2f}\\nactual: {outputs[i]:.2f} \\n\")"
   ]
  },
  {
   "cell_type": "markdown",
   "metadata": {},
   "source": [
    "## COMPARE CLASSIFIER VS REGRESSOR"
   ]
  },
  {
   "cell_type": "code",
   "execution_count": 39,
   "metadata": {},
   "outputs": [
    {
     "name": "stdout",
     "output_type": "stream",
     "text": [
      "\"Received November 2019 Turmoil: $139, Shipping: $150\"\n",
      "    reg score: 8.20\n",
      "    clf score: 1\n",
      "\n",
      "\"Putování po Středozemi je kooperativní desková hra plná dobrodružství a fantazie pro jednoho až pět hráčů. Spolu s přáteli se vžijete do rolí hrdinných postav z J. R. R. Tolkienova Pána prstenů, budete putovat po Středozemi, čelit mocným protivníkům, činit odvážná rozhodnutí a bojovat proti zlu, které ohrožuje celou zemi.  \"\n",
      "    reg score: 8.71\n",
      "    clf score: 1\n",
      "\n",
      "\"Wird wahrscheinlich verkauft\"\n",
      "    reg score: 0.60\n",
      "    clf score: 0\n",
      "\n",
      "\"Obtained in a multi-game trade with BoardGameCo.  Really like the initiative system.  The combat system is okay.  Not sure about the leveling up yet.\"\n",
      "    reg score: 8.94\n",
      "    clf score: 1\n",
      "\n",
      "\"8.20.18 - (1 play, 3p) Games that look this good are hard to resist sitting down to play. I’m not a huge worker placement fan, but this wasn’t too bad. Would play again.\"\n",
      "    reg score: 5.69\n",
      "    clf score: 0\n",
      "\n",
      "\"Not my piece of cake. The card mechanism is great, but the very low speed of developing your character and the enormous amount of time the whole campaign would consume are things I strongly dislike. Also, it shouldn't be listed as STRATEGY game, it is a very tactical game with enough luck and surprises to prevent any long term planning as a strategy game would allow. (Unless you study the whole scenario setup beforehand, which would be anti-thematic  -  to know everything from the beginning).\"\n",
      "    reg score: 8.67\n",
      "    clf score: 1\n",
      "\n",
      "\"I have played Gloomhaven a nunmber of times with a friend (his copy), and think that this smaller version may be fun for me and my husband to play.\"\n",
      "    reg score: 8.44\n",
      "    clf score: 1\n",
      "\n",
      "\"Own the Barnes and Nobles edition, but haven't played it yet.\"\n",
      "    reg score: 8.94\n",
      "    clf score: 1\n",
      "\n",
      "\"# 20, 8.2, 1-2 pl, 60-120 min, 3.27/5 Great for solo Can be played as campaign with xp or as single senarios Deck building type\"\n",
      "    reg score: 9.76\n",
      "    clf score: 1\n",
      "\n",
      "\"First impression not much. Worth of trying lord of the rings card game. R.Marty\"\n",
      "    reg score: 8.19\n",
      "    clf score: 1\n",
      "\n"
     ]
    },
    {
     "name": "stderr",
     "output_type": "stream",
     "text": [
      "C:\\Users\\dev999\\.conda\\envs\\tensorflow2\\lib\\site-packages\\tensorflow\\python\\keras\\engine\\sequential.py:455: UserWarning: `model.predict_classes()` is deprecated and will be removed after 2021-01-01. Please use instead:* `np.argmax(model.predict(x), axis=-1)`,   if your model does multi-class classification   (e.g. if it uses a `softmax` last-layer activation).* `(model.predict(x) > 0.5).astype(\"int32\")`,   if your model does binary classification   (e.g. if it uses a `sigmoid` last-layer activation).\n",
      "  warnings.warn('`model.predict_classes()` is deprecated and '\n"
     ]
    }
   ],
   "source": [
    "not_rated_comments = not_rated_comments.sample(frac=1)\n",
    "inputs = list(not_rated_comments.value.astype(str))[:10]\n",
    "\n",
    "clf_results = classifier.predict(inputs, verbose=0)\n",
    "reg_results = regressor.predict(inputs, verbose=0)\n",
    "for i in range(len(inputs)):\n",
    "    print(f\"\"\"\\\"{inputs[i]}\\\"\n",
    "    reg score: {reg_results[i]:.2f}\n",
    "    clf score: {clf_results[i][0]}\n",
    "\"\"\")"
   ]
  },
  {
   "cell_type": "markdown",
   "metadata": {},
   "source": [
    "### RESULTS\n",
    "It seems that the regressor is much more accurate compared to the binary classifier => **let's use the regressors results to fix the BGG rating**"
   ]
  },
  {
   "cell_type": "markdown",
   "metadata": {},
   "source": [
    "## COMBINE RATED COMMENTS AND NOT-RATED COMMENTS WITH PREDICTED RATING"
   ]
  },
  {
   "cell_type": "code",
   "execution_count": 40,
   "metadata": {},
   "outputs": [
    {
     "name": "stdout",
     "output_type": "stream",
     "text": [
      "rated_comments_grouped: \n",
      "|     id |   rating_mean |   rating_count |\n",
      "|--------|---------------|----------------|\n",
      "| 115746 |          8.73 |           1920 |\n",
      "| 162886 |          8.36 |           3590 |\n",
      "| 167355 |          8.41 |           1893 |\n",
      "| 167791 |          8.21 |           8371 |\n",
      "| 169427 |          8.67 |            260 |\n"
     ]
    }
   ],
   "source": [
    "rated_comments['rating'] = rated_comments.rating.astype(float)\n",
    "rated_comments_grouped = rated_comments.groupby('id').agg({'rating': ['mean', 'count']})\n",
    "rated_comments_grouped.columns = list(rated_comments_grouped.columns.map('_'.join))\n",
    "rated_comments_grouped = rated_comments_grouped.reset_index()\n",
    "print(\"rated_comments_grouped: \")\n",
    "print(rated_comments_grouped.head().to_markdown(index=False, floatfmt='.2f', tablefmt='github'))"
   ]
  },
  {
   "cell_type": "code",
   "execution_count": 41,
   "metadata": {},
   "outputs": [],
   "source": [
    "not_rated_comments['rating'] = regressor.predict(list(not_rated_comments.value.astype(str)))"
   ]
  },
  {
   "cell_type": "code",
   "execution_count": 42,
   "metadata": {},
   "outputs": [
    {
     "name": "stdout",
     "output_type": "stream",
     "text": [
      "not_rated_comments_grouped: \n",
      "|     id |   rating_mean |   rating_count |\n",
      "|--------|---------------|----------------|\n",
      "| 115746 |          8.27 |            270 |\n",
      "| 162886 |          8.18 |            319 |\n",
      "| 167355 |          8.25 |            212 |\n",
      "| 167791 |          8.23 |            442 |\n",
      "| 169427 |          8.46 |             74 |\n"
     ]
    }
   ],
   "source": [
    "not_rated_comments['rating'] = not_rated_comments.rating.astype(float)\n",
    "not_rated_comments['rating'] = not_rated_comments['rating'].clip(0, 10)\n",
    "not_rated_comments_grouped = not_rated_comments.groupby('id').agg({'rating': ['mean', 'count']})\n",
    "not_rated_comments_grouped.columns = list(not_rated_comments_grouped.columns.map('_'.join))\n",
    "not_rated_comments_grouped = not_rated_comments_grouped.reset_index()\n",
    "print(\"not_rated_comments_grouped: \")\n",
    "print(not_rated_comments_grouped.head().to_markdown(index=False, floatfmt='.2f', tablefmt='github'))"
   ]
  },
  {
   "cell_type": "code",
   "execution_count": 43,
   "metadata": {},
   "outputs": [],
   "source": [
    "grouped = rated_comments_grouped.merge(not_rated_comments_grouped, on='id', suffixes=('_review', '_comments'), how='outer')\n",
    "grouped['id'] = grouped.id.astype(str)\n",
    "grouped = grouped.merge(pd.DataFrame(hot_array), on='id', how='right')\n",
    "grouped['rank'] = grouped['rank'].astype(int)\n",
    "grouped['url'] = grouped['id'].apply(lambda x: f\"https://boardgamegeek.com/boardgame/{x}\")\n",
    "grouped['fixed_rating'] = (grouped['rating_mean_review']*grouped['rating_count_review']+grouped['rating_mean_comments']*grouped['rating_count_comments']) /\\\n",
    "                            (grouped['rating_count_review']+grouped['rating_count_comments'])\n",
    "grouped['thumbnail'] = grouped['thumbnail'].apply(lambda x: f'<img src=\"{x}\" width=\"124\" />')\n",
    "grouped['name'] = grouped.apply(lambda x: f'<a href=\"{x[\"url\"]}\">{x[\"name\"]}</a>', axis=1)\n",
    "\n",
    "grouped = grouped[['thumbnail', 'name', 'rating_mean_review', 'rating_mean_comments', 'fixed_rating', 'rank', 'yearpublished']]"
   ]
  },
  {
   "cell_type": "code",
   "execution_count": 44,
   "metadata": {},
   "outputs": [
    {
     "data": {
      "text/html": [
       "<div>\n",
       "<style scoped>\n",
       "    .dataframe tbody tr th:only-of-type {\n",
       "        vertical-align: middle;\n",
       "    }\n",
       "\n",
       "    .dataframe tbody tr th {\n",
       "        vertical-align: top;\n",
       "    }\n",
       "\n",
       "    .dataframe thead th {\n",
       "        text-align: right;\n",
       "    }\n",
       "</style>\n",
       "<table border=\"1\" class=\"dataframe\">\n",
       "  <thead>\n",
       "    <tr style=\"text-align: right;\">\n",
       "      <th></th>\n",
       "      <th>thumbnail</th>\n",
       "      <th>name</th>\n",
       "      <th>rating_mean_review</th>\n",
       "      <th>rating_mean_comments</th>\n",
       "      <th>fixed_rating</th>\n",
       "      <th>rank</th>\n",
       "      <th>yearpublished</th>\n",
       "    </tr>\n",
       "  </thead>\n",
       "  <tbody>\n",
       "    <tr>\n",
       "      <th>0</th>\n",
       "      <td>&lt;img src=\"https://cf.geekdo-images.com/bwABghR...</td>\n",
       "      <td>&lt;a href=\"https://boardgamegeek.com/boardgame/3...</td>\n",
       "      <td>9.666667</td>\n",
       "      <td>8.861469</td>\n",
       "      <td>9.264068</td>\n",
       "      <td>1</td>\n",
       "      <td>2021</td>\n",
       "    </tr>\n",
       "    <tr>\n",
       "      <th>1</th>\n",
       "      <td>&lt;img src=\"https://cf.geekdo-images.com/fW43z5X...</td>\n",
       "      <td>&lt;a href=\"https://boardgamegeek.com/boardgame/3...</td>\n",
       "      <td>6.233766</td>\n",
       "      <td>7.795387</td>\n",
       "      <td>6.661002</td>\n",
       "      <td>2</td>\n",
       "      <td>2021</td>\n",
       "    </tr>\n",
       "    <tr>\n",
       "      <th>2</th>\n",
       "      <td>&lt;img src=\"https://cf.geekdo-images.com/U4aoXbK...</td>\n",
       "      <td>&lt;a href=\"https://boardgamegeek.com/boardgame/3...</td>\n",
       "      <td>NaN</td>\n",
       "      <td>8.183192</td>\n",
       "      <td>NaN</td>\n",
       "      <td>3</td>\n",
       "      <td>2021</td>\n",
       "    </tr>\n",
       "    <tr>\n",
       "      <th>3</th>\n",
       "      <td>&lt;img src=\"https://cf.geekdo-images.com/6GqH14T...</td>\n",
       "      <td>&lt;a href=\"https://boardgamegeek.com/boardgame/3...</td>\n",
       "      <td>7.778272</td>\n",
       "      <td>7.755228</td>\n",
       "      <td>7.776524</td>\n",
       "      <td>4</td>\n",
       "      <td>2020</td>\n",
       "    </tr>\n",
       "    <tr>\n",
       "      <th>4</th>\n",
       "      <td>&lt;img src=\"https://cf.geekdo-images.com/cs7Oby2...</td>\n",
       "      <td>&lt;a href=\"https://boardgamegeek.com/boardgame/3...</td>\n",
       "      <td>NaN</td>\n",
       "      <td>6.122986</td>\n",
       "      <td>NaN</td>\n",
       "      <td>5</td>\n",
       "      <td>2021</td>\n",
       "    </tr>\n",
       "  </tbody>\n",
       "</table>\n",
       "</div>"
      ],
      "text/plain": [
       "                                           thumbnail  \\\n",
       "0  <img src=\"https://cf.geekdo-images.com/bwABghR...   \n",
       "1  <img src=\"https://cf.geekdo-images.com/fW43z5X...   \n",
       "2  <img src=\"https://cf.geekdo-images.com/U4aoXbK...   \n",
       "3  <img src=\"https://cf.geekdo-images.com/6GqH14T...   \n",
       "4  <img src=\"https://cf.geekdo-images.com/cs7Oby2...   \n",
       "\n",
       "                                                name  rating_mean_review  \\\n",
       "0  <a href=\"https://boardgamegeek.com/boardgame/3...            9.666667   \n",
       "1  <a href=\"https://boardgamegeek.com/boardgame/3...            6.233766   \n",
       "2  <a href=\"https://boardgamegeek.com/boardgame/3...                 NaN   \n",
       "3  <a href=\"https://boardgamegeek.com/boardgame/3...            7.778272   \n",
       "4  <a href=\"https://boardgamegeek.com/boardgame/3...                 NaN   \n",
       "\n",
       "   rating_mean_comments  fixed_rating  rank yearpublished  \n",
       "0              8.861469      9.264068     1          2021  \n",
       "1              7.795387      6.661002     2          2021  \n",
       "2              8.183192           NaN     3          2021  \n",
       "3              7.755228      7.776524     4          2020  \n",
       "4              6.122986           NaN     5          2021  "
      ]
     },
     "execution_count": 44,
     "metadata": {},
     "output_type": "execute_result"
    }
   ],
   "source": [
    "grouped.head()"
   ]
  },
  {
   "cell_type": "code",
   "execution_count": 45,
   "metadata": {},
   "outputs": [],
   "source": [
    "def display_topn(by, n=5, ascending=True):\n",
    "    temp_df = grouped.sort_values(by, ascending=ascending).head(n)\n",
    "    temp_df.index=list(range(1, n+1))\n",
    "    return HTML(temp_df.to_html(escape=False, classes='table table-striped'))"
   ]
  },
  {
   "cell_type": "code",
   "execution_count": 46,
   "metadata": {},
   "outputs": [
    {
     "data": {
      "text/html": [
       "<table border=\"1\" class=\"dataframe table table-striped\">\n",
       "  <thead>\n",
       "    <tr style=\"text-align: right;\">\n",
       "      <th></th>\n",
       "      <th>thumbnail</th>\n",
       "      <th>name</th>\n",
       "      <th>rating_mean_review</th>\n",
       "      <th>rating_mean_comments</th>\n",
       "      <th>fixed_rating</th>\n",
       "      <th>rank</th>\n",
       "      <th>yearpublished</th>\n",
       "    </tr>\n",
       "  </thead>\n",
       "  <tbody>\n",
       "    <tr>\n",
       "      <th>1</th>\n",
       "      <td><img src=\"https://cf.geekdo-images.com/bwABghR3MhsmGJqyh42WXQ__thumb/img/is-GKWwws4rDrIe-B9fbuM_oBYA=/fit-in/200x150/filters:strip_icc()/pic6235824.png\" width=\"124\" /></td>\n",
       "      <td><a href=\"https://boardgamegeek.com/boardgame/340909\">Gloomholdin'</a></td>\n",
       "      <td>9.666667</td>\n",
       "      <td>8.861469</td>\n",
       "      <td>9.264068</td>\n",
       "      <td>1</td>\n",
       "      <td>2021</td>\n",
       "    </tr>\n",
       "    <tr>\n",
       "      <th>2</th>\n",
       "      <td><img src=\"https://cf.geekdo-images.com/fW43z5XJG-DnzFChgZNM-Q__thumb/img/Ty23IY-kFu2Ho159ZgdDf2N8gwY=/fit-in/200x150/filters:strip_icc()/pic5909342.jpg\" width=\"124\" /></td>\n",
       "      <td><a href=\"https://boardgamegeek.com/boardgame/328871\">Terraforming Mars: Ares Expedition</a></td>\n",
       "      <td>6.233766</td>\n",
       "      <td>7.795387</td>\n",
       "      <td>6.661002</td>\n",
       "      <td>2</td>\n",
       "      <td>2021</td>\n",
       "    </tr>\n",
       "    <tr>\n",
       "      <th>3</th>\n",
       "      <td><img src=\"https://cf.geekdo-images.com/U4aoXbKATU7YbA8bAT73FQ__thumb/img/g0aac2-OQvMbEPXv1vIvSumPmkA=/fit-in/200x150/filters:strip_icc()/pic6253876.png\" width=\"124\" /></td>\n",
       "      <td><a href=\"https://boardgamegeek.com/boardgame/341254\">Lost Ruins of Arnak: Expedition Leaders</a></td>\n",
       "      <td>NaN</td>\n",
       "      <td>8.183192</td>\n",
       "      <td>NaN</td>\n",
       "      <td>3</td>\n",
       "      <td>2021</td>\n",
       "    </tr>\n",
       "    <tr>\n",
       "      <th>4</th>\n",
       "      <td><img src=\"https://cf.geekdo-images.com/6GqH14TJJhza86BX5HCLEQ__thumb/img/J8SVmGOJXZGxNjkT3xYNQU7Haxg=/fit-in/200x150/filters:strip_icc()/pic5674958.jpg\" width=\"124\" /></td>\n",
       "      <td><a href=\"https://boardgamegeek.com/boardgame/312484\">Lost Ruins of Arnak</a></td>\n",
       "      <td>7.778272</td>\n",
       "      <td>7.755228</td>\n",
       "      <td>7.776524</td>\n",
       "      <td>4</td>\n",
       "      <td>2020</td>\n",
       "    </tr>\n",
       "    <tr>\n",
       "      <th>5</th>\n",
       "      <td><img src=\"https://cf.geekdo-images.com/cs7Oby2YsVe-lcP65FdXgQ__thumb/img/v2UqsOmM4S29dr5LGVNgvwnHJWc=/fit-in/200x150/filters:strip_icc()/pic6240235.jpg\" width=\"124\" /></td>\n",
       "      <td><a href=\"https://boardgamegeek.com/boardgame/341048\">Free Ride</a></td>\n",
       "      <td>NaN</td>\n",
       "      <td>6.122986</td>\n",
       "      <td>NaN</td>\n",
       "      <td>5</td>\n",
       "      <td>2021</td>\n",
       "    </tr>\n",
       "  </tbody>\n",
       "</table>"
      ],
      "text/plain": [
       "<IPython.core.display.HTML object>"
      ]
     },
     "execution_count": 46,
     "metadata": {},
     "output_type": "execute_result"
    }
   ],
   "source": [
    "# TOP N RANK\n",
    "display_topn(by='rank', n=TOP_N)"
   ]
  },
  {
   "cell_type": "code",
   "execution_count": 47,
   "metadata": {},
   "outputs": [
    {
     "data": {
      "text/html": [
       "<table border=\"1\" class=\"dataframe table table-striped\">\n",
       "  <thead>\n",
       "    <tr style=\"text-align: right;\">\n",
       "      <th></th>\n",
       "      <th>thumbnail</th>\n",
       "      <th>name</th>\n",
       "      <th>rating_mean_review</th>\n",
       "      <th>rating_mean_comments</th>\n",
       "      <th>fixed_rating</th>\n",
       "      <th>rank</th>\n",
       "      <th>yearpublished</th>\n",
       "    </tr>\n",
       "  </thead>\n",
       "  <tbody>\n",
       "    <tr>\n",
       "      <th>1</th>\n",
       "      <td><img src=\"https://cf.geekdo-images.com/bwABghR3MhsmGJqyh42WXQ__thumb/img/is-GKWwws4rDrIe-B9fbuM_oBYA=/fit-in/200x150/filters:strip_icc()/pic6235824.png\" width=\"124\" /></td>\n",
       "      <td><a href=\"https://boardgamegeek.com/boardgame/340909\">Gloomholdin'</a></td>\n",
       "      <td>9.666667</td>\n",
       "      <td>8.861469</td>\n",
       "      <td>9.264068</td>\n",
       "      <td>1</td>\n",
       "      <td>2021</td>\n",
       "    </tr>\n",
       "    <tr>\n",
       "      <th>2</th>\n",
       "      <td><img src=\"https://cf.geekdo-images.com/0v8tyScAL5gbO1pMxpa0pg__thumb/img/7yu87edMujjft3YKe_D_a4v9610=/fit-in/200x150/filters:strip_icc()/pic6157727.png\" width=\"124\" /></td>\n",
       "      <td><a href=\"https://boardgamegeek.com/boardgame/338067\">6: Siege – The Board Game</a></td>\n",
       "      <td>9.000000</td>\n",
       "      <td>7.970147</td>\n",
       "      <td>8.588059</td>\n",
       "      <td>35</td>\n",
       "      <td>2022</td>\n",
       "    </tr>\n",
       "    <tr>\n",
       "      <th>3</th>\n",
       "      <td><img src=\"https://cf.geekdo-images.com/-6AnQ0BuCM8u1lqAwTe8Rw__thumb/img/da5eYCvhYSmPb03hEhNwxR8-s6g=/fit-in/200x150/filters:strip_icc()/pic5623567.jpg\" width=\"124\" /></td>\n",
       "      <td><a href=\"https://boardgamegeek.com/boardgame/318182\">Imperium: Legends</a></td>\n",
       "      <td>8.800000</td>\n",
       "      <td>7.685668</td>\n",
       "      <td>8.668902</td>\n",
       "      <td>41</td>\n",
       "      <td>2021</td>\n",
       "    </tr>\n",
       "    <tr>\n",
       "      <th>4</th>\n",
       "      <td><img src=\"https://cf.geekdo-images.com/ImPgGag98W6gpV1KV812aA__thumb/img/X-lBBdG4uO6LT0y1vXxCN4jdR4M=/fit-in/200x150/filters:strip_icc()/pic1215633.jpg\" width=\"124\" /></td>\n",
       "      <td><a href=\"https://boardgamegeek.com/boardgame/115746\">War of the Ring: Second Edition</a></td>\n",
       "      <td>8.729755</td>\n",
       "      <td>8.270898</td>\n",
       "      <td>8.673184</td>\n",
       "      <td>46</td>\n",
       "      <td>2012</td>\n",
       "    </tr>\n",
       "    <tr>\n",
       "      <th>5</th>\n",
       "      <td><img src=\"https://cf.geekdo-images.com/Oh3kHw6lweg6ru71Q16h2Q__thumb/img/e9XZdQe1ZcPpaq4Gy31OoWBB_V0=/fit-in/200x150/filters:strip_icc()/pic5235277.jpg\" width=\"124\" /></td>\n",
       "      <td><a href=\"https://boardgamegeek.com/boardgame/246900\">Eclipse: Second Dawn for the Galaxy</a></td>\n",
       "      <td>8.720186</td>\n",
       "      <td>8.046643</td>\n",
       "      <td>8.619400</td>\n",
       "      <td>49</td>\n",
       "      <td>2020</td>\n",
       "    </tr>\n",
       "  </tbody>\n",
       "</table>"
      ],
      "text/plain": [
       "<IPython.core.display.HTML object>"
      ]
     },
     "execution_count": 47,
     "metadata": {},
     "output_type": "execute_result"
    }
   ],
   "source": [
    "# TOP N REVIEW RANK\n",
    "display_topn(by='rating_mean_review', n=TOP_N, ascending=False)"
   ]
  },
  {
   "cell_type": "code",
   "execution_count": 48,
   "metadata": {},
   "outputs": [
    {
     "data": {
      "text/html": [
       "<table border=\"1\" class=\"dataframe table table-striped\">\n",
       "  <thead>\n",
       "    <tr style=\"text-align: right;\">\n",
       "      <th></th>\n",
       "      <th>thumbnail</th>\n",
       "      <th>name</th>\n",
       "      <th>rating_mean_review</th>\n",
       "      <th>rating_mean_comments</th>\n",
       "      <th>fixed_rating</th>\n",
       "      <th>rank</th>\n",
       "      <th>yearpublished</th>\n",
       "    </tr>\n",
       "  </thead>\n",
       "  <tbody>\n",
       "    <tr>\n",
       "      <th>1</th>\n",
       "      <td><img src=\"https://cf.geekdo-images.com/bwABghR3MhsmGJqyh42WXQ__thumb/img/is-GKWwws4rDrIe-B9fbuM_oBYA=/fit-in/200x150/filters:strip_icc()/pic6235824.png\" width=\"124\" /></td>\n",
       "      <td><a href=\"https://boardgamegeek.com/boardgame/340909\">Gloomholdin'</a></td>\n",
       "      <td>9.666667</td>\n",
       "      <td>8.861469</td>\n",
       "      <td>9.264068</td>\n",
       "      <td>1</td>\n",
       "      <td>2021</td>\n",
       "    </tr>\n",
       "    <tr>\n",
       "      <th>2</th>\n",
       "      <td><img src=\"https://cf.geekdo-images.com/ImPgGag98W6gpV1KV812aA__thumb/img/X-lBBdG4uO6LT0y1vXxCN4jdR4M=/fit-in/200x150/filters:strip_icc()/pic1215633.jpg\" width=\"124\" /></td>\n",
       "      <td><a href=\"https://boardgamegeek.com/boardgame/115746\">War of the Ring: Second Edition</a></td>\n",
       "      <td>8.729755</td>\n",
       "      <td>8.270898</td>\n",
       "      <td>8.673184</td>\n",
       "      <td>46</td>\n",
       "      <td>2012</td>\n",
       "    </tr>\n",
       "    <tr>\n",
       "      <th>3</th>\n",
       "      <td><img src=\"https://cf.geekdo-images.com/-6AnQ0BuCM8u1lqAwTe8Rw__thumb/img/da5eYCvhYSmPb03hEhNwxR8-s6g=/fit-in/200x150/filters:strip_icc()/pic5623567.jpg\" width=\"124\" /></td>\n",
       "      <td><a href=\"https://boardgamegeek.com/boardgame/318182\">Imperium: Legends</a></td>\n",
       "      <td>8.800000</td>\n",
       "      <td>7.685668</td>\n",
       "      <td>8.668902</td>\n",
       "      <td>41</td>\n",
       "      <td>2021</td>\n",
       "    </tr>\n",
       "    <tr>\n",
       "      <th>4</th>\n",
       "      <td><img src=\"https://cf.geekdo-images.com/x3zxjr-Vw5iU4yDPg70Jgw__thumb/img/o18rjEemoWaVru9Y2TyPwuIaRfE=/fit-in/200x150/filters:strip_icc()/pic3490053.jpg\" width=\"124\" /></td>\n",
       "      <td><a href=\"https://boardgamegeek.com/boardgame/224517\">Brass: Birmingham</a></td>\n",
       "      <td>8.668901</td>\n",
       "      <td>8.248902</td>\n",
       "      <td>8.631258</td>\n",
       "      <td>22</td>\n",
       "      <td>2018</td>\n",
       "    </tr>\n",
       "    <tr>\n",
       "      <th>5</th>\n",
       "      <td><img src=\"https://cf.geekdo-images.com/hRuD1y5BxdNpssgBqamS0A__thumb/img/fpUu1t2YLjJ4EvEzBGTKtZasNv4=/fit-in/200x150/filters:strip_icc()/pic4595897.jpg\" width=\"124\" /></td>\n",
       "      <td><a href=\"https://boardgamegeek.com/boardgame/169427\">Middara: Unintentional Malum – Act 1</a></td>\n",
       "      <td>8.666078</td>\n",
       "      <td>8.459521</td>\n",
       "      <td>8.620314</td>\n",
       "      <td>42</td>\n",
       "      <td>2019</td>\n",
       "    </tr>\n",
       "  </tbody>\n",
       "</table>"
      ],
      "text/plain": [
       "<IPython.core.display.HTML object>"
      ]
     },
     "execution_count": 48,
     "metadata": {},
     "output_type": "execute_result"
    }
   ],
   "source": [
    "# TOP N FIXED RANK\n",
    "display_topn(by='fixed_rating', n=TOP_N, ascending=False)"
   ]
  },
  {
   "cell_type": "code",
   "execution_count": 49,
   "metadata": {},
   "outputs": [],
   "source": [
    "# model.save('saved_model\\my_model')"
   ]
  },
  {
   "cell_type": "code",
   "execution_count": 50,
   "metadata": {},
   "outputs": [],
   "source": [
    "# saved_model = tf.keras.models.load_model('saved_model\\my_model')"
   ]
  },
  {
   "cell_type": "code",
   "execution_count": 51,
   "metadata": {},
   "outputs": [],
   "source": [
    "# some examples on \"long\" comments vs short comments"
   ]
  },
  {
   "cell_type": "code",
   "execution_count": 52,
   "metadata": {},
   "outputs": [],
   "source": [
    "not_rated_comments['comment_len'] = not_rated_comments['value'].str.len()\n",
    "some_long_comments = not_rated_comments.query(\"comment_len>100 and comment_len<300\").sample(frac=1).head(25).sort_values('rating')"
   ]
  },
  {
   "cell_type": "code",
   "execution_count": 53,
   "metadata": {},
   "outputs": [
    {
     "name": "stdout",
     "output_type": "stream",
     "text": [
      "\"Way too long for what's in the game. Probably could do an accelerated start without really changing the game besides cutting an hour off of the playtime.\"\n",
      "score: 3.17\n",
      "\n",
      "\"Not sure, thinking that I'd be better off waiting for another kickstarter, and after seeing how the game wears over time. Pretty production!\"\n",
      "score: 5.25\n",
      "\n",
      "\"Like new condition, some of the small plastic bags are slightly ripped but still hold pieces. Many extra plastic bags as well.\"\n",
      "score: 5.97\n",
      "\n",
      "\"Seems to be very popular but does not appeal to me at all. I guess that mainly I am not that keen on cooperative games.\"\n",
      "score: 6.17\n",
      "\n",
      "\"Definitely pretty. Very boring though. Lacked something to grab hold me and my various play groups. 0/6 enjoyed this. (Played x5)\"\n",
      "score: 6.19\n",
      "\n",
      "\"Nice components and mechanisms resource management, upgrades, variability, but at the end of the game not fun for me and I don't enjoy playing it.\"\n",
      "score: 6.75\n",
      "\n",
      "\"Needs Sleeves + custom insert. With Shape Squad 3D printed Bird Houses and Food pack (misprints/corrected cards are replaced) .\"\n",
      "score: 7.01\n",
      "\n",
      "\"Just can't get into it. I LOVE Arkham games but this one...seems like its trying to fill a niche and its forced. Read through the rules and completely lost interest.\"\n",
      "score: 7.03\n",
      "\n",
      "\"Players: 2-6 (4,6) Time: 60–200 Min Categories: Civilization Fighting Science Fiction Space Exploration Wargame  Mechanisms: Area Control / Area Influence Dice Rolling Grid Movement Modular Board Player Elimination Tile Placement Variable Phase Order Variable Player Powers\"\n",
      "score: 7.08\n",
      "\n",
      "\"Root isn't worth getting solely for solo, solo gameplay seems iffy and largely random.  Better options: scythe, terraforming mars, spirit island, gloomhaven, mage knight, Arkham files, onirim games. (Many of which I already own and haven’t played yet...).\"\n",
      "score: 7.38\n",
      "\n",
      "\"Adds a political phase to eclipse. I would love to play but not sure I would buy it because it wouldn't get a lot of play. Epic 4x space game. \"\n",
      "score: 7.47\n",
      "\n",
      "\"Drafting mechanism, have to pay for every card you keep. Choose between have the best cards, or having all the good cards but not being able to play them as often as you want. Prelude expansion recommended.\"\n",
      "score: 7.48\n",
      "\n",
      "\"Why would I play a complex dungeon crawl when I can play a full RPG instead? Or Descent RTL? An impressive design does not mean a fun game. Will try it eventually, but until then I am very doubtful.\"\n",
      "score: 7.81\n",
      "\n",
      "\"Updated with player boards and 4th edition rules from the Kickstarter Update Kit.  Includes resin clearing markers, Exiles & Partisans deck and Vagabond pack from the Underworld Kickstarter campaign.\"\n",
      "score: 7.86\n",
      "\n",
      "\"This looks promising as I like that each animal has different abilities and skills.  I like the woodland creature theme.  My kids like competition, so it could be a winner.  Would like to try it out first.\"\n",
      "score: 8.47\n",
      "\n",
      "\"Kickstarter Edition / Sleeved / Broken Token inserts for Legendary Box / Legendary Box / Pro painted minis \"\n",
      "score: 8.52\n",
      "\n",
      "\"Erkunde, erforsche, verbessere und besiedele die Galaxie mit einer von 14 Fraktionen.  1-4 Spieler / Experten Spiel\"\n",
      "score: 8.95\n",
      "\n",
      "\"Great gameplay, but man - the component quality is disappointing. Really fun seeing your engine come together as you play different cards and terraform parts of Mars. ~2 hours  I've heard Prelude speeds it up.\"\n",
      "score: 9.10\n",
      "\n",
      "\"Interesting game.  Pretty good/deep deduction, but I don't find the solo game that rewarding.  I look forward to trying with 2-3 players because I think seeing what others put down in terms of theories adds a really interesting wrinkle and opens up opportunities for bluffing.\"\n",
      "score: 9.20\n",
      "\n",
      "\"I own this game. Love to play it. Would love to play it some more. Unfortunately, it's hard to get a steady, regular group of friends, to go with it. \"\n",
      "score: 9.21\n",
      "\n",
      "\"Area Majority / Influence Drafting Engine Building Hand Management Set Collection Solo Tile Placement\"\n",
      "score: 9.27\n",
      "\n",
      "\"Walker and I had a hard time getting through a game. We're still intrigued but this may be a good game that we never play.   I'm thinking about trading it away but there are so many people who want it, I'm thinking I should give it a new shot. \"\n",
      "score: 9.33\n",
      "\n",
      "\"Explore the world through a campaign play with friends. You will work together to fight monsters, solve puzzles, and collect loot. You will have to find all the items you need to escape these mysterious waters.\"\n",
      "score: 9.75\n",
      "\n",
      "\"12.29.2019 - (1st play, 4p) Great looking game. I enjoyed this more than Takaido. Be happy to play this some more.\"\n",
      "score: 9.82\n",
      "\n",
      "\"take every eurogame mechanic you can think of, vomit them out onto a board and slap on a cowboy theme  thats great western trail\"\n",
      "score: 10.00\n",
      "\n"
     ]
    }
   ],
   "source": [
    "some_long_comments.apply(lambda c: print(f\"\\\"{c['value']}\\\"\\nscore: {c['rating']:.2f}\\n\"), axis=1);"
   ]
  },
  {
   "cell_type": "markdown",
   "metadata": {},
   "source": [
    "## RANDOM FOREST - TEST"
   ]
  },
  {
   "cell_type": "code",
   "execution_count": 54,
   "metadata": {},
   "outputs": [],
   "source": [
    "# no support for Windows at the moment - waiting for it to test"
   ]
  },
  {
   "cell_type": "code",
   "execution_count": null,
   "metadata": {},
   "outputs": [],
   "source": []
  }
 ],
 "metadata": {
  "kernelspec": {
   "display_name": "tensorflow2",
   "language": "python",
   "name": "tensorflow2"
  },
  "language_info": {
   "codemirror_mode": {
    "name": "ipython",
    "version": 3
   },
   "file_extension": ".py",
   "mimetype": "text/x-python",
   "name": "python",
   "nbconvert_exporter": "python",
   "pygments_lexer": "ipython3",
   "version": "3.8.8"
  }
 },
 "nbformat": 4,
 "nbformat_minor": 4
}
