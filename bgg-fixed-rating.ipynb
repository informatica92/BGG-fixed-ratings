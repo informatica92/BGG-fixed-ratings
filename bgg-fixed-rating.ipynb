{
 "cells": [
  {
   "cell_type": "code",
   "execution_count": 1,
   "metadata": {},
   "outputs": [],
   "source": [
    "# ## BGG API\n",
    "# https://www.boardgamegeek.com/xmlapi2/thing?id=161599&comments=1\n",
    "# https://www.boardgamegeek.com/xmlapi2/hot?type=boardgame\n",
    "# ## NLP WITH TF\n",
    "# https://www.tensorflow.org/hub/tutorials/tf2_text_classification"
   ]
  },
  {
   "cell_type": "code",
   "execution_count": 2,
   "metadata": {},
   "outputs": [
    {
     "name": "stdout",
     "output_type": "stream",
     "text": [
      "Version:  2.1.0\n",
      "Eager mode:  True\n",
      "Hub version:  0.12.0\n",
      "GPU is NOT AVAILABLE\n"
     ]
    }
   ],
   "source": [
    "import tensorflow as tf\n",
    "import tensorflow_hub as hub\n",
    "import tensorflow_datasets as tfds\n",
    "\n",
    "import xml.etree.ElementTree as Xet\n",
    "import matplotlib.pyplot as plt\n",
    "import pandas as pd\n",
    "import numpy as np\n",
    "import requests\n",
    "from IPython.display import Image, HTML\n",
    "\n",
    "print(\"Version: \", tf.__version__)\n",
    "print(\"Eager mode: \", tf.executing_eagerly())\n",
    "print(\"Hub version: \", hub.__version__)\n",
    "print(\"GPU is\", \"available\" if tf.config.list_physical_devices('GPU') else \"NOT AVAILABLE\")"
   ]
  },
  {
   "cell_type": "code",
   "execution_count": 3,
   "metadata": {},
   "outputs": [],
   "source": [
    "GOOD_REVIEW_THRESHOLD = 7"
   ]
  },
  {
   "cell_type": "code",
   "execution_count": 4,
   "metadata": {},
   "outputs": [],
   "source": [
    "VAL_FRACTION = 0.25"
   ]
  },
  {
   "cell_type": "markdown",
   "metadata": {},
   "source": [
    "## GET DATA"
   ]
  },
  {
   "cell_type": "code",
   "execution_count": 5,
   "metadata": {},
   "outputs": [],
   "source": [
    "def get_hot_data():\n",
    "    hot = requests.get(\"https://www.boardgamegeek.com/xmlapi2/hot?type=boardgame\").content.decode()\n",
    "  \n",
    "    # Parsing the XML file\n",
    "    xmlparse = Xet.fromstring(hot)\n",
    "\n",
    "    hot_array = []\n",
    "    for item in xmlparse:\n",
    "        dict_element = {\n",
    "            \"id\": item.get(\"id\"),\n",
    "            \"rank\": item.get(\"rank\")\n",
    "        }\n",
    "        for option in item:\n",
    "            dict_element[option.tag] = option.get(\"value\")\n",
    "        hot_array.append(dict_element)\n",
    "    return hot_array"
   ]
  },
  {
   "cell_type": "code",
   "execution_count": 6,
   "metadata": {},
   "outputs": [],
   "source": [
    "def get_comments(id_array, verbose=1):\n",
    "    max_comments_per_page = 1\n",
    "    array_ids = [h['id'] for h in id_array]\n",
    "    ids = ','.join(array_ids)\n",
    "    page_size = 100\n",
    "    page_number = 0\n",
    "    comments_array = []\n",
    "\n",
    "    while max_comments_per_page > 0 and len(array_ids) > 0:\n",
    "        page_number += 1\n",
    "        if verbose>0 and page_number%verbose==0:\n",
    "            print(f\"page number = {page_number}\", end=\" \")\n",
    "        comments = requests.get(f\"https://www.boardgamegeek.com/xmlapi2/thing?id={ids}&comments=1&pagesize={page_size}&page={page_number}\").content.decode()\n",
    "\n",
    "        # Parsing the XML file\n",
    "        xmlparse = Xet.fromstring(comments)\n",
    "        comments_per_item = []\n",
    "        for item in xmlparse:        \n",
    "            for option in item:\n",
    "                if option.tag == 'comments':\n",
    "                    comments_per_page = 0\n",
    "                    for comment in option:\n",
    "                        comments_per_page += 1\n",
    "                        dict_element = {\n",
    "                            \"id\": item.get(\"id\"),\n",
    "                            \"username\": comment.get(\"username\"),\n",
    "                            \"rating\": comment.get(\"rating\"),\n",
    "                            \"value\": comment.get(\"value\")\n",
    "                        }\n",
    "                        comments_array.append(dict_element)\n",
    "                    if comments_per_page==0:\n",
    "                        array_ids.remove(item.get(\"id\"))\n",
    "                        ids = ','.join(array_ids)\n",
    "                    comments_per_item.append(comments_per_page)\n",
    "        max_comments_per_page = max(comments_per_item)\n",
    "        if verbose>0 and page_number%verbose==0:\n",
    "            print(f\"(max: {max(comments_per_item)}, len: {len(comments_per_item)})\")\n",
    "    comments_df = pd.DataFrame(comments_array)\n",
    "    print(f\"comments_df shape: {comments_df.shape}\")\n",
    "    return comments_df"
   ]
  },
  {
   "cell_type": "code",
   "execution_count": 7,
   "metadata": {},
   "outputs": [
    {
     "data": {
      "text/plain": [
       "[{'id': '328866',\n",
       "  'rank': '1',\n",
       "  'thumbnail': 'https://cf.geekdo-images.com/N0hCcxXw8d7vUjKfsYO6vg__thumb/img/K4DDlRzl6qlQf9L_oMLb7g9WUYo=/fit-in/200x150/filters:strip_icc()/pic6121929.png',\n",
       "  'name': \"My Father's Work\",\n",
       "  'yearpublished': '2021'},\n",
       " {'id': '316090',\n",
       "  'rank': '2',\n",
       "  'thumbnail': 'https://cf.geekdo-images.com/-KMXyStWyla5jh_BRO803w__thumb/img/3j7TG-J5bxigP1RaTbNnHcHnr6A=/fit-in/200x150/filters:strip_icc()/pic6074555.png',\n",
       "  'name': 'Vivid Memories',\n",
       "  'yearpublished': '2021'}]"
      ]
     },
     "execution_count": 7,
     "metadata": {},
     "output_type": "execute_result"
    }
   ],
   "source": [
    "hot_array = get_hot_data()\n",
    "hot_array[:2]"
   ]
  },
  {
   "cell_type": "code",
   "execution_count": 8,
   "metadata": {},
   "outputs": [
    {
     "name": "stdout",
     "output_type": "stream",
     "text": [
      "page number = 10 (max: 100, len: 25)\n",
      "page number = 20 (max: 100, len: 14)\n",
      "page number = 30 (max: 100, len: 12)\n",
      "page number = 40 (max: 100, len: 9)\n",
      "page number = 50 (max: 100, len: 5)\n",
      "page number = 60 (max: 100, len: 5)\n",
      "page number = 70 (max: 100, len: 4)\n",
      "page number = 80 (max: 100, len: 4)\n",
      "page number = 90 (max: 100, len: 2)\n",
      "page number = 100 (max: 0, len: 1)\n",
      "comments_df shape: (92523, 4)\n"
     ]
    }
   ],
   "source": [
    "comments_df = get_comments(hot_array, verbose=10)"
   ]
  },
  {
   "cell_type": "code",
   "execution_count": 9,
   "metadata": {},
   "outputs": [
    {
     "data": {
      "text/html": [
       "<div>\n",
       "<style scoped>\n",
       "    .dataframe tbody tr th:only-of-type {\n",
       "        vertical-align: middle;\n",
       "    }\n",
       "\n",
       "    .dataframe tbody tr th {\n",
       "        vertical-align: top;\n",
       "    }\n",
       "\n",
       "    .dataframe thead th {\n",
       "        text-align: right;\n",
       "    }\n",
       "</style>\n",
       "<table border=\"1\" class=\"dataframe\">\n",
       "  <thead>\n",
       "    <tr style=\"text-align: right;\">\n",
       "      <th></th>\n",
       "      <th>id</th>\n",
       "      <th>username</th>\n",
       "      <th>rating</th>\n",
       "      <th>value</th>\n",
       "    </tr>\n",
       "  </thead>\n",
       "  <tbody>\n",
       "    <tr>\n",
       "      <th>0</th>\n",
       "      <td>328866</td>\n",
       "      <td>4tsawicki</td>\n",
       "      <td>N/A</td>\n",
       "      <td>Feb 2022</td>\n",
       "    </tr>\n",
       "    <tr>\n",
       "      <th>1</th>\n",
       "      <td>328866</td>\n",
       "      <td>alexbatbee</td>\n",
       "      <td>N/A</td>\n",
       "      <td>KS</td>\n",
       "    </tr>\n",
       "    <tr>\n",
       "      <th>2</th>\n",
       "      <td>328866</td>\n",
       "      <td>Amekins</td>\n",
       "      <td>N/A</td>\n",
       "      <td>Backer # 1267 on Kickstarter 4/27/2021 Funded ...</td>\n",
       "    </tr>\n",
       "    <tr>\n",
       "      <th>3</th>\n",
       "      <td>328866</td>\n",
       "      <td>basstoneslap</td>\n",
       "      <td>N/A</td>\n",
       "      <td>Kickstarter (February 2022)</td>\n",
       "    </tr>\n",
       "    <tr>\n",
       "      <th>4</th>\n",
       "      <td>328866</td>\n",
       "      <td>bigduff</td>\n",
       "      <td>N/A</td>\n",
       "      <td>Pre-ordered on Origames web store</td>\n",
       "    </tr>\n",
       "    <tr>\n",
       "      <th>...</th>\n",
       "      <td>...</td>\n",
       "      <td>...</td>\n",
       "      <td>...</td>\n",
       "      <td>...</td>\n",
       "    </tr>\n",
       "    <tr>\n",
       "      <th>92518</th>\n",
       "      <td>167791</td>\n",
       "      <td>z_zadar</td>\n",
       "      <td>9</td>\n",
       "      <td>Some games are so much fun. Others can be a li...</td>\n",
       "    </tr>\n",
       "    <tr>\n",
       "      <th>92519</th>\n",
       "      <td>167791</td>\n",
       "      <td>_Czid_</td>\n",
       "      <td>8</td>\n",
       "      <td>Have played with Elysium and Prelude expansion...</td>\n",
       "    </tr>\n",
       "    <tr>\n",
       "      <th>92520</th>\n",
       "      <td>167791</td>\n",
       "      <td>_Marty_</td>\n",
       "      <td>9.5</td>\n",
       "      <td>Fantastic game. With so many cards that can ch...</td>\n",
       "    </tr>\n",
       "    <tr>\n",
       "      <th>92521</th>\n",
       "      <td>167791</td>\n",
       "      <td>_mun_</td>\n",
       "      <td>10</td>\n",
       "      <td>Nagyon izgalmas játék, jó a mechanizmusa. A sz...</td>\n",
       "    </tr>\n",
       "    <tr>\n",
       "      <th>92522</th>\n",
       "      <td>167791</td>\n",
       "      <td>_The_Inquiry_</td>\n",
       "      <td>5</td>\n",
       "      <td>Prior to 2020: 2 plays  TM is one of those gam...</td>\n",
       "    </tr>\n",
       "  </tbody>\n",
       "</table>\n",
       "<p>92523 rows × 4 columns</p>\n",
       "</div>"
      ],
      "text/plain": [
       "           id       username rating  \\\n",
       "0      328866      4tsawicki    N/A   \n",
       "1      328866     alexbatbee    N/A   \n",
       "2      328866        Amekins    N/A   \n",
       "3      328866   basstoneslap    N/A   \n",
       "4      328866        bigduff    N/A   \n",
       "...       ...            ...    ...   \n",
       "92518  167791        z_zadar      9   \n",
       "92519  167791         _Czid_      8   \n",
       "92520  167791        _Marty_    9.5   \n",
       "92521  167791          _mun_     10   \n",
       "92522  167791  _The_Inquiry_      5   \n",
       "\n",
       "                                                   value  \n",
       "0                                               Feb 2022  \n",
       "1                                                     KS  \n",
       "2      Backer # 1267 on Kickstarter 4/27/2021 Funded ...  \n",
       "3                            Kickstarter (February 2022)  \n",
       "4                      Pre-ordered on Origames web store  \n",
       "...                                                  ...  \n",
       "92518  Some games are so much fun. Others can be a li...  \n",
       "92519  Have played with Elysium and Prelude expansion...  \n",
       "92520  Fantastic game. With so many cards that can ch...  \n",
       "92521  Nagyon izgalmas játék, jó a mechanizmusa. A sz...  \n",
       "92522  Prior to 2020: 2 plays  TM is one of those gam...  \n",
       "\n",
       "[92523 rows x 4 columns]"
      ]
     },
     "execution_count": 9,
     "metadata": {},
     "output_type": "execute_result"
    }
   ],
   "source": [
    "comments_df"
   ]
  },
  {
   "cell_type": "code",
   "execution_count": 10,
   "metadata": {},
   "outputs": [],
   "source": [
    "comments_df.to_csv(\"comments_20210430.csv\", index=False)"
   ]
  },
  {
   "cell_type": "code",
   "execution_count": 11,
   "metadata": {},
   "outputs": [],
   "source": [
    "# comments_df = pd.read_csv(\"comments_20210430.csv\")"
   ]
  },
  {
   "cell_type": "markdown",
   "metadata": {},
   "source": [
    "## SPLIT RATED AND NON-RATED COMMENTS"
   ]
  },
  {
   "cell_type": "code",
   "execution_count": 12,
   "metadata": {},
   "outputs": [
    {
     "data": {
      "text/plain": [
       "N/A        21532\n",
       "10         14068\n",
       "9          13832\n",
       "8          12606\n",
       "7           7531\n",
       "           ...  \n",
       "9.62           1\n",
       "8.0981         1\n",
       "9.02667        1\n",
       "8.125          1\n",
       "2.3            1\n",
       "Name: rating, Length: 532, dtype: int64"
      ]
     },
     "execution_count": 12,
     "metadata": {},
     "output_type": "execute_result"
    }
   ],
   "source": [
    "# count number of comments per rating (N/A included)\n",
    "comments_df.rating.value_counts()"
   ]
  },
  {
   "cell_type": "code",
   "execution_count": 13,
   "metadata": {},
   "outputs": [
    {
     "data": {
      "text/plain": [
       "(70991, 4)"
      ]
     },
     "execution_count": 13,
     "metadata": {},
     "output_type": "execute_result"
    }
   ],
   "source": [
    "# get rated comments only\n",
    "rated_comments = comments_df.query('rating != \"N/A\"')\n",
    "rated_comments.shape"
   ]
  },
  {
   "cell_type": "code",
   "execution_count": 14,
   "metadata": {},
   "outputs": [
    {
     "data": {
      "text/plain": [
       "(21532, 4)"
      ]
     },
     "execution_count": 14,
     "metadata": {},
     "output_type": "execute_result"
    }
   ],
   "source": [
    "# get non rated comments only\n",
    "not_rated_comments = comments_df.query('rating == \"N/A\"').reset_index(drop=True)\n",
    "not_rated_comments.shape"
   ]
  },
  {
   "cell_type": "markdown",
   "metadata": {},
   "source": [
    "## CREATE TRAINING AND VALIDATION DATA"
   ]
  },
  {
   "cell_type": "code",
   "execution_count": 15,
   "metadata": {},
   "outputs": [],
   "source": [
    "# use rated comments (reviews) to train the model"
   ]
  },
  {
   "cell_type": "code",
   "execution_count": 16,
   "metadata": {},
   "outputs": [],
   "source": [
    "rated_comments = rated_comments.sample(frac=1)"
   ]
  },
  {
   "cell_type": "code",
   "execution_count": 17,
   "metadata": {},
   "outputs": [],
   "source": [
    "# create training X and y\n",
    "train_examples = list(rated_comments.value)\n",
    "train_labels = list((rated_comments.rating.astype(float)>=GOOD_REVIEW_THRESHOLD).astype(int))"
   ]
  },
  {
   "cell_type": "code",
   "execution_count": 18,
   "metadata": {},
   "outputs": [
    {
     "name": "stdout",
     "output_type": "stream",
     "text": [
      "example of positive rating:\n"
     ]
    },
    {
     "data": {
      "text/plain": [
       "'Est. Delivery: same as [url=https://boardgamegeek.com/boardgame/295947/cascadia]Cascadia[/url]'"
      ]
     },
     "execution_count": 18,
     "metadata": {},
     "output_type": "execute_result"
    }
   ],
   "source": [
    "print(\"example of positive rating:\")\n",
    "train_examples[train_labels.index(1)]"
   ]
  },
  {
   "cell_type": "code",
   "execution_count": 19,
   "metadata": {},
   "outputs": [
    {
     "name": "stdout",
     "output_type": "stream",
     "text": [
      "example of negative rating:\n"
     ]
    },
    {
     "data": {
      "text/plain": [
       "'Quite a good, fast and simple play. Usually taking 30 min for a 4 player or 45 min for a 5 player game. I feel 5 player games are even better than 4 player games, they have your brain breaking so much harder.'"
      ]
     },
     "execution_count": 19,
     "metadata": {},
     "output_type": "execute_result"
    }
   ],
   "source": [
    "print(\"example of negative rating:\")\n",
    "train_examples[train_labels.index(0)]"
   ]
  },
  {
   "cell_type": "code",
   "execution_count": 20,
   "metadata": {},
   "outputs": [],
   "source": [
    "# create validation dataset from training\n",
    "validation_len = int(len(train_examples)*VAL_FRACTION)\n",
    "validation_len\n",
    "\n",
    "x_val = train_examples[:validation_len]\n",
    "x_train = train_examples[validation_len:]\n",
    "\n",
    "y_val = train_labels[:validation_len]\n",
    "y_train = train_labels[validation_len:]"
   ]
  },
  {
   "cell_type": "markdown",
   "metadata": {},
   "source": [
    "## COMPOSE MODEL"
   ]
  },
  {
   "cell_type": "code",
   "execution_count": 21,
   "metadata": {},
   "outputs": [
    {
     "data": {
      "text/plain": [
       "<tf.Tensor: shape=(2, 50), dtype=float32, numpy=\n",
       "array([[ 0.09414469,  0.02249247,  0.11092555, -0.09579244,  0.08374991,\n",
       "        -0.17683713,  0.27141762,  0.11840045, -0.05403376,  0.21548723,\n",
       "        -0.10046981,  0.08748468,  0.24914587, -0.05109785, -0.0106999 ,\n",
       "        -0.04837707,  0.08669894,  0.30512282, -0.09751954, -0.04456562,\n",
       "        -0.17053202,  0.0156113 ,  0.08767512, -0.2575577 , -0.1055233 ,\n",
       "        -0.14089775, -0.16710137, -0.17266317,  0.10121128, -0.04590312,\n",
       "        -0.21882223, -0.01380192, -0.04548811, -0.04838876,  0.04670456,\n",
       "         0.19151159,  0.1770601 ,  0.01022145,  0.02043806, -0.19791529,\n",
       "         0.08778028, -0.14890468, -0.09357993, -0.07401755, -0.02985918,\n",
       "        -0.1673463 , -0.14861302,  0.0613607 , -0.20998506,  0.08609507],\n",
       "       [ 0.6169365 , -0.09345467, -0.18527608,  0.10304804,  0.23821594,\n",
       "         0.10421059, -0.07704309,  0.18209526, -0.28951797,  0.13467476,\n",
       "         0.36217448,  0.3342662 ,  0.25578237,  0.1311492 , -0.32087186,\n",
       "         0.02065263, -0.3301993 ,  0.31713942,  0.34102345, -0.3172643 ,\n",
       "        -0.01925145, -0.05360233,  0.4589402 ,  0.23772302, -0.11121261,\n",
       "        -0.09164201, -0.43806526,  0.1253408 , -0.0301737 , -0.23268959,\n",
       "        -0.0829325 ,  0.13501061, -0.0184377 , -0.36600658,  0.09156645,\n",
       "         0.27166924,  0.12530355, -0.29323584,  0.4282707 , -0.6246567 ,\n",
       "         0.19088346,  0.0048676 , -0.05780176,  0.24271502,  0.19124389,\n",
       "        -0.12677866, -0.2525593 , -0.15136054,  0.00686111,  0.41108757]],\n",
       "      dtype=float32)>"
      ]
     },
     "execution_count": 21,
     "metadata": {},
     "output_type": "execute_result"
    }
   ],
   "source": [
    "model = \"https://tfhub.dev/google/nnlm-en-dim50/2\"\n",
    "hub_layer = hub.KerasLayer(model, input_shape=[], dtype=tf.string, trainable=True)\n",
    "hub_layer(train_examples[:2])"
   ]
  },
  {
   "cell_type": "code",
   "execution_count": 22,
   "metadata": {},
   "outputs": [
    {
     "name": "stdout",
     "output_type": "stream",
     "text": [
      "Model: \"sequential\"\n",
      "_________________________________________________________________\n",
      "Layer (type)                 Output Shape              Param #   \n",
      "=================================================================\n",
      "keras_layer (KerasLayer)     (None, 50)                48190600  \n",
      "_________________________________________________________________\n",
      "dense (Dense)                (None, 16)                816       \n",
      "_________________________________________________________________\n",
      "dense_1 (Dense)              (None, 1)                 17        \n",
      "=================================================================\n",
      "Total params: 48,191,433\n",
      "Trainable params: 48,191,433\n",
      "Non-trainable params: 0\n",
      "_________________________________________________________________\n"
     ]
    }
   ],
   "source": [
    "model = tf.keras.Sequential()\n",
    "model.add(hub_layer)\n",
    "model.add(tf.keras.layers.Dense(16, activation='relu'))\n",
    "model.add(tf.keras.layers.Dense(1))\n",
    "\n",
    "model.summary()"
   ]
  },
  {
   "cell_type": "code",
   "execution_count": 23,
   "metadata": {},
   "outputs": [],
   "source": [
    "model.compile(\n",
    "    optimizer='adam',\n",
    "    loss=tf.losses.BinaryCrossentropy(from_logits=True),\n",
    "    metrics=[tf.metrics.BinaryAccuracy(threshold=0.0, name='accuracy')]\n",
    ")"
   ]
  },
  {
   "cell_type": "markdown",
   "metadata": {},
   "source": [
    "## TRAINING MODEL "
   ]
  },
  {
   "cell_type": "code",
   "execution_count": 24,
   "metadata": {},
   "outputs": [
    {
     "name": "stdout",
     "output_type": "stream",
     "text": [
      "Train on 53244 samples, validate on 17747 samples\n",
      "Epoch 1/40\n",
      "53244/53244 - 32s - loss: 0.4602 - accuracy: 0.8430 - val_loss: 0.3765 - val_accuracy: 0.8485\n",
      "Epoch 2/40\n",
      "53244/53244 - 32s - loss: 0.3274 - accuracy: 0.8692 - val_loss: 0.3266 - val_accuracy: 0.8697\n",
      "Epoch 3/40\n",
      "53244/53244 - 32s - loss: 0.2718 - accuracy: 0.8911 - val_loss: 0.3199 - val_accuracy: 0.8721\n",
      "Epoch 4/40\n",
      "53244/53244 - 31s - loss: 0.2361 - accuracy: 0.9064 - val_loss: 0.3282 - val_accuracy: 0.8692\n",
      "Epoch 5/40\n",
      "53244/53244 - 32s - loss: 0.2101 - accuracy: 0.9178 - val_loss: 0.3485 - val_accuracy: 0.8665\n",
      "Epoch 6/40\n",
      "53244/53244 - 32s - loss: 0.1896 - accuracy: 0.9277 - val_loss: 0.3715 - val_accuracy: 0.8623\n",
      "Epoch 7/40\n",
      "53244/53244 - 32s - loss: 0.1737 - accuracy: 0.9349 - val_loss: 0.3961 - val_accuracy: 0.8576\n",
      "Epoch 8/40\n",
      "53244/53244 - 32s - loss: 0.1598 - accuracy: 0.9401 - val_loss: 0.4252 - val_accuracy: 0.8546\n",
      "Epoch 9/40\n",
      "53244/53244 - 32s - loss: 0.1489 - accuracy: 0.9449 - val_loss: 0.4471 - val_accuracy: 0.8465\n",
      "Epoch 10/40\n",
      "53244/53244 - 32s - loss: 0.1382 - accuracy: 0.9492 - val_loss: 0.4779 - val_accuracy: 0.8458\n",
      "Epoch 11/40\n",
      "53244/53244 - 32s - loss: 0.1291 - accuracy: 0.9533 - val_loss: 0.5104 - val_accuracy: 0.8448\n",
      "Epoch 12/40\n",
      "53244/53244 - 32s - loss: 0.1211 - accuracy: 0.9571 - val_loss: 0.5357 - val_accuracy: 0.8418\n",
      "Epoch 13/40\n",
      "53244/53244 - 32s - loss: 0.1136 - accuracy: 0.9596 - val_loss: 0.5667 - val_accuracy: 0.8385\n",
      "Epoch 14/40\n",
      "53244/53244 - 32s - loss: 0.1072 - accuracy: 0.9622 - val_loss: 0.5994 - val_accuracy: 0.8386\n",
      "Epoch 15/40\n",
      "53244/53244 - 31s - loss: 0.1006 - accuracy: 0.9648 - val_loss: 0.6274 - val_accuracy: 0.8352\n",
      "Epoch 16/40\n",
      "53244/53244 - 31s - loss: 0.0947 - accuracy: 0.9670 - val_loss: 0.6666 - val_accuracy: 0.8383\n",
      "Epoch 17/40\n",
      "53244/53244 - 32s - loss: 0.0886 - accuracy: 0.9696 - val_loss: 0.6940 - val_accuracy: 0.8339\n",
      "Epoch 18/40\n",
      "53244/53244 - 32s - loss: 0.0829 - accuracy: 0.9721 - val_loss: 0.7319 - val_accuracy: 0.8359\n",
      "Epoch 19/40\n",
      "53244/53244 - 32s - loss: 0.0772 - accuracy: 0.9744 - val_loss: 0.7674 - val_accuracy: 0.8339\n",
      "Epoch 20/40\n",
      "53244/53244 - 32s - loss: 0.0725 - accuracy: 0.9762 - val_loss: 0.8039 - val_accuracy: 0.8340\n",
      "Epoch 21/40\n",
      "53244/53244 - 32s - loss: 0.0673 - accuracy: 0.9784 - val_loss: 0.8464 - val_accuracy: 0.8327\n",
      "Epoch 22/40\n",
      "53244/53244 - 32s - loss: 0.0628 - accuracy: 0.9799 - val_loss: 0.8875 - val_accuracy: 0.8326\n",
      "Epoch 23/40\n",
      "53244/53244 - 32s - loss: 0.0587 - accuracy: 0.9815 - val_loss: 0.9231 - val_accuracy: 0.8307\n",
      "Epoch 24/40\n",
      "53244/53244 - 31s - loss: 0.0552 - accuracy: 0.9826 - val_loss: 0.9566 - val_accuracy: 0.8284\n",
      "Epoch 25/40\n",
      "53244/53244 - 32s - loss: 0.0511 - accuracy: 0.9832 - val_loss: 0.9942 - val_accuracy: 0.8275\n",
      "Epoch 26/40\n",
      "53244/53244 - 32s - loss: 0.0474 - accuracy: 0.9850 - val_loss: 1.0333 - val_accuracy: 0.8271\n",
      "Epoch 27/40\n",
      "53244/53244 - 32s - loss: 0.0443 - accuracy: 0.9859 - val_loss: 1.0716 - val_accuracy: 0.8268\n",
      "Epoch 28/40\n",
      "53244/53244 - 32s - loss: 0.0412 - accuracy: 0.9869 - val_loss: 1.1125 - val_accuracy: 0.8249\n",
      "Epoch 29/40\n",
      "53244/53244 - 33s - loss: 0.0384 - accuracy: 0.9878 - val_loss: 1.1520 - val_accuracy: 0.8239\n",
      "Epoch 30/40\n",
      "53244/53244 - 32s - loss: 0.0366 - accuracy: 0.9882 - val_loss: 1.1865 - val_accuracy: 0.8232\n",
      "Epoch 31/40\n",
      "53244/53244 - 32s - loss: 0.0342 - accuracy: 0.9884 - val_loss: 1.2383 - val_accuracy: 0.8228\n",
      "Epoch 32/40\n",
      "53244/53244 - 31s - loss: 0.0321 - accuracy: 0.9888 - val_loss: 1.2730 - val_accuracy: 0.8234\n",
      "Epoch 33/40\n",
      "53244/53244 - 31s - loss: 0.0301 - accuracy: 0.9893 - val_loss: 1.3033 - val_accuracy: 0.8203\n",
      "Epoch 34/40\n",
      "53244/53244 - 31s - loss: 0.0287 - accuracy: 0.9901 - val_loss: 1.3581 - val_accuracy: 0.8214\n",
      "Epoch 35/40\n",
      "53244/53244 - 31s - loss: 0.0271 - accuracy: 0.9903 - val_loss: 1.3827 - val_accuracy: 0.8211\n",
      "Epoch 36/40\n",
      "53244/53244 - 32s - loss: 0.0257 - accuracy: 0.9908 - val_loss: 1.4308 - val_accuracy: 0.8213\n",
      "Epoch 37/40\n",
      "53244/53244 - 32s - loss: 0.0247 - accuracy: 0.9912 - val_loss: 1.4585 - val_accuracy: 0.8190\n",
      "Epoch 38/40\n",
      "53244/53244 - 32s - loss: 0.0236 - accuracy: 0.9916 - val_loss: 1.4968 - val_accuracy: 0.8188\n",
      "Epoch 39/40\n",
      "53244/53244 - 31s - loss: 0.0229 - accuracy: 0.9919 - val_loss: 1.5235 - val_accuracy: 0.8169\n",
      "Epoch 40/40\n",
      "53244/53244 - 32s - loss: 0.0220 - accuracy: 0.9921 - val_loss: 1.5714 - val_accuracy: 0.8174\n"
     ]
    }
   ],
   "source": [
    "history = model.fit(\n",
    "    x_train,\n",
    "    y_train,\n",
    "    epochs=40,\n",
    "    batch_size=512,\n",
    "    validation_data=(x_val, y_val),\n",
    "    verbose=2\n",
    ")"
   ]
  },
  {
   "cell_type": "code",
   "execution_count": 25,
   "metadata": {},
   "outputs": [
    {
     "data": {
      "text/plain": [
       "dict_keys(['loss', 'accuracy', 'val_loss', 'val_accuracy'])"
      ]
     },
     "execution_count": 25,
     "metadata": {},
     "output_type": "execute_result"
    }
   ],
   "source": [
    "history_dict = history.history\n",
    "history_dict.keys()"
   ]
  },
  {
   "cell_type": "code",
   "execution_count": 26,
   "metadata": {},
   "outputs": [],
   "source": [
    "acc = history_dict['accuracy']\n",
    "val_acc = history_dict['val_accuracy']\n",
    "loss = history_dict['loss']\n",
    "val_loss = history_dict['val_loss']"
   ]
  },
  {
   "cell_type": "code",
   "execution_count": 27,
   "metadata": {},
   "outputs": [],
   "source": [
    "epochs = range(1, len(acc) + 1) "
   ]
  },
  {
   "cell_type": "code",
   "execution_count": 28,
   "metadata": {},
   "outputs": [
    {
     "data": {
      "image/png": "[encoded data removed]",
      "text/plain": [
       "<Figure size 648x360 with 1 Axes>"
      ]
     },
     "metadata": {
      "needs_background": "light"
     },
     "output_type": "display_data"
    }
   ],
   "source": [
    "# \"bo\" is for \"blue dot\"\n",
    "plt.figure(figsize=(9, 5))\n",
    "plt.plot(epochs, loss, 'bo', label='Training loss')\n",
    "# b is for \"solid blue line\"\n",
    "plt.plot(epochs, val_loss, 'b', label='Validation loss')\n",
    "plt.title('Training and validation loss')\n",
    "plt.xlabel('Epochs')\n",
    "plt.ylabel('Loss')\n",
    "plt.grid(True)\n",
    "plt.legend()\n",
    "\n",
    "plt.show()"
   ]
  },
  {
   "cell_type": "code",
   "execution_count": 29,
   "metadata": {},
   "outputs": [
    {
     "data": {
      "image/png": "[encoded data removed]",
      "text/plain": [
       "<Figure size 648x360 with 1 Axes>"
      ]
     },
     "metadata": {
      "needs_background": "light"
     },
     "output_type": "display_data"
    }
   ],
   "source": [
    "plt.figure(figsize=(9, 5))\n",
    "plt.plot(epochs, acc, 'bo', label='Training acc')\n",
    "plt.plot(epochs, val_acc, 'b', label='Validation acc')\n",
    "plt.title('Training and validation accuracy')\n",
    "plt.xlabel('Epochs')\n",
    "plt.ylabel('Accuracy')\n",
    "plt.grid(True)\n",
    "plt.legend()\n",
    "\n",
    "plt.show()"
   ]
  },
  {
   "cell_type": "code",
   "execution_count": 30,
   "metadata": {},
   "outputs": [],
   "source": [
    "def print_my_examples(inputs, results, actual_values=None, limit=None):\n",
    "    if actual_values is None:\n",
    "        result_for_printing = [f'input:\\n\"{inputs[i]}\"\\nscore: {results[i][0]:.6f}' for i in range(len(inputs))]\n",
    "    else:\n",
    "        result_for_printing = [f'input:\\n\"{inputs[i]}\"\\nscore: {results[i][0]:.6f}\\nactual value:{actual_values[i]}' for i in range(len(inputs))]\n",
    "    if limit:\n",
    "        result_for_printing = result_for_printing[:limit]\n",
    "    print(*result_for_printing, sep='\\n\\n')"
   ]
  },
  {
   "cell_type": "code",
   "execution_count": 33,
   "metadata": {},
   "outputs": [
    {
     "name": "stdout",
     "output_type": "stream",
     "text": [
      "input:\n",
      "\"Outstanding. Always want to play and expect this will never change.   I now understand why people get addicted to gambling. Every round is exhilarating. Just one more time!  No one ever feels like they're losing and there is the constant feeling of instant gratification. Most games you build up to do an awesome turn, this one just gives it to you just for existing\"\n",
      "score: 1.000000\n",
      "actual value:1\n",
      "\n",
      "input:\n",
      "\"Liked it, but am not in love with it.\"\n",
      "score: 0.984914\n",
      "actual value:1\n",
      "\n",
      "input:\n",
      "\"Our family and EVERYONE we intro to this love this game.  I’ve played it over 100 times. Perfect for travel as packs really small\"\n",
      "score: 0.999999\n",
      "actual value:1\n",
      "\n",
      "input:\n",
      "\"Wingspan improves on the engine building model and makes a game full of strategy without any slog. It's also amazing to look at.\"\n",
      "score: 1.000000\n",
      "actual value:1\n",
      "\n",
      "input:\n",
      "\"First game was a bit rough.  Lots of little rules to remember, but after my 3rd play, I really started getting into it.  It is very combo-rific and you feel good when you get a good combo to swinging kick in the face of the villain.  I would not play this more than 2 players to prevent down time.  Can't wait for campaign play with the Red Skull.\"\n",
      "score: 0.997237\n",
      "actual value:1\n",
      "\n",
      "input:\n",
      "\"So finally I will have Terraforming Mars. I don't know wether that is good or not, but I must say it has intrigued me. Also being in danish can perhaps ease some plays with nongamers?  :d10-1::d10-3::d10-4::d10-5::d10-7: :d6-1: :star::star::star::star::nostar: :d6-2: :thumbsdown: :d6-4: On sale with transport for 255,- dkr :d6-5: In a few days I guess.\"\n",
      "score: 1.000000\n",
      "actual value:1\n",
      "\n",
      "input:\n",
      "\"+ zestaw naprawczy\"\n",
      "score: 1.000000\n",
      "actual value:1\n",
      "\n",
      "input:\n",
      "\"Was able to teach my mom, which is always great. \"\n",
      "score: 0.999955\n",
      "actual value:1\n",
      "\n",
      "input:\n",
      "\"I've heard people saying this is too dense for filler, but I disagree wholeheartedly. Splendor is the 'perfect' filler in that it is quick without sacrificing strategy. Highly recommended for a game day warm up or wind down.  Edit: 3/28/16 Best with 2. Any more and it is an absolute chore.\"\n",
      "score: 0.004757\n",
      "actual value:0\n",
      "\n",
      "input:\n",
      "\"My girlfriend's favorite game (by a mile, I think), and I can see why: beautiful artwork, easy rules but interesting gameplay, an engine builder that doesn't go out of control and enough ways to score points to ensure it's always a completely different game. It's probably 9.5 or even 10 on her scale. On my end, it's still a deserved 8.5.\"\n",
      "score: 1.000000\n",
      "actual value:1\n"
     ]
    }
   ],
   "source": [
    "inputs = x_train[:10]\n",
    "outputs = y_train[:10]\n",
    "results = tf.sigmoid(model.predict(tf.constant(inputs)))\n",
    "print_my_examples(inputs, results, outputs)"
   ]
  },
  {
   "cell_type": "code",
   "execution_count": 35,
   "metadata": {},
   "outputs": [],
   "source": [
    "## APPLY MODEL ON NON-RATED COMMENTS"
   ]
  },
  {
   "cell_type": "code",
   "execution_count": 36,
   "metadata": {},
   "outputs": [
    {
     "name": "stdout",
     "output_type": "stream",
     "text": [
      "input:\n",
      "\"Kickstarter\"\n",
      "score: 0.944020\n",
      "\n",
      "input:\n",
      "\"Plays 1-5\"\n",
      "score: 0.999864\n",
      "\n",
      "input:\n",
      "\"not the $130 they are asking....\"\n",
      "score: 0.999963\n",
      "\n",
      "input:\n",
      "\"KS during the expansion campaign.\"\n",
      "score: 0.904124\n",
      "\n",
      "input:\n",
      "\"✔️\"\n",
      "score: 0.439714\n",
      "\n",
      "input:\n",
      "\"Print and play version!  Would like a more permanent set eventually.\"\n",
      "score: 0.999802\n",
      "\n",
      "input:\n",
      "\"KS EDITION\"\n",
      "score: 0.894193\n",
      "\n",
      "input:\n",
      "\"Fighting alien monsters. You get to choose if you play nice or if you can betray each other.\"\n",
      "score: 1.000000\n",
      "\n",
      "input:\n",
      "\"KS\"\n",
      "score: 0.996206\n",
      "\n",
      "input:\n",
      "\"3/4\"\n",
      "score: 0.983456\n",
      "\n",
      "input:\n",
      "\"+ Book of the Dead + The Great Old Ones\"\n",
      "score: 0.007308\n",
      "\n",
      "input:\n",
      "\"80\"\n",
      "score: 0.855181\n",
      "\n",
      "input:\n",
      "\"Needs 1 more play.\"\n",
      "score: 0.999805\n",
      "\n",
      "input:\n",
      "\"[b]Expansiones[/b]  On Mars: Beacon Promo Card (Spanish edition) (2020)   On Mars: Upgrade Pack (2020)  \"\n",
      "score: 1.000000\n",
      "\n",
      "input:\n",
      "\"1-4 Players Worker placement Deck building\"\n",
      "score: 0.999998\n",
      "\n",
      "input:\n",
      "\"See\"\n",
      "score: 0.878356\n",
      "\n",
      "input:\n",
      "\"1-5 players\"\n",
      "score: 0.994348\n",
      "\n",
      "input:\n",
      "\"not played yet\"\n",
      "score: 0.957674\n",
      "\n",
      "input:\n",
      "\"Fantasywelt\"\n",
      "score: 1.000000\n",
      "\n",
      "input:\n",
      "\"1–4 Players\"\n",
      "score: 0.922759\n",
      "\n",
      "input:\n",
      "\"#65\"\n",
      "score: 0.991320\n",
      "\n",
      "input:\n",
      "\"Aanrader: hard, worker placement, 3-4 spelers, 3 uur\"\n",
      "score: 1.000000\n",
      "\n",
      "input:\n",
      "\"Strategy 1. Invaders from afar 2. The Wind Gambit 3. The Rise of Fenris 4. Various Add Ons\"\n",
      "score: 1.000000\n",
      "\n",
      "input:\n",
      "\"Koupit si v Q4 2021, vydá Fox in the box + Rexhry.\"\n",
      "score: 0.999996\n",
      "\n",
      "input:\n",
      "\"Kickstarter\"\n",
      "score: 0.944020\n"
     ]
    }
   ],
   "source": [
    "not_rated_comments = not_rated_comments.sample(frac=1)\n",
    "results = tf.sigmoid(model.predict(tf.constant(list(not_rated_comments.value))))\n",
    "print_my_examples(list(not_rated_comments.value), results, limit=25)"
   ]
  },
  {
   "cell_type": "markdown",
   "metadata": {},
   "source": [
    "## COMBINE RATED COMMENTS AND NOT-RATED COMMENTS WITH PREDICTED RATING"
   ]
  },
  {
   "cell_type": "code",
   "execution_count": 37,
   "metadata": {},
   "outputs": [
    {
     "data": {
      "text/html": [
       "<div>\n",
       "<style scoped>\n",
       "    .dataframe tbody tr th:only-of-type {\n",
       "        vertical-align: middle;\n",
       "    }\n",
       "\n",
       "    .dataframe tbody tr th {\n",
       "        vertical-align: top;\n",
       "    }\n",
       "\n",
       "    .dataframe thead th {\n",
       "        text-align: right;\n",
       "    }\n",
       "</style>\n",
       "<table border=\"1\" class=\"dataframe\">\n",
       "  <thead>\n",
       "    <tr style=\"text-align: right;\">\n",
       "      <th></th>\n",
       "      <th>id</th>\n",
       "      <th>username</th>\n",
       "      <th>rating</th>\n",
       "      <th>value</th>\n",
       "    </tr>\n",
       "  </thead>\n",
       "  <tbody>\n",
       "    <tr>\n",
       "      <th>19182</th>\n",
       "      <td>283155</td>\n",
       "      <td>nifdgad</td>\n",
       "      <td>8</td>\n",
       "      <td>Est. Delivery: same as [url=https://boardgameg...</td>\n",
       "    </tr>\n",
       "    <tr>\n",
       "      <th>65615</th>\n",
       "      <td>148228</td>\n",
       "      <td>Isaac_Llopis</td>\n",
       "      <td>6</td>\n",
       "      <td>Quite a good, fast and simple play. Usually ta...</td>\n",
       "    </tr>\n",
       "    <tr>\n",
       "      <th>26039</th>\n",
       "      <td>205637</td>\n",
       "      <td>couchoud</td>\n",
       "      <td>8</td>\n",
       "      <td>I like the game, but not nearly enough to buy ...</td>\n",
       "    </tr>\n",
       "    <tr>\n",
       "      <th>33648</th>\n",
       "      <td>193738</td>\n",
       "      <td>fifizi</td>\n",
       "      <td>9</td>\n",
       "      <td>Great game. Love the theme so much that it's a...</td>\n",
       "    </tr>\n",
       "    <tr>\n",
       "      <th>16221</th>\n",
       "      <td>256960</td>\n",
       "      <td>ibn_ul_khattab</td>\n",
       "      <td>9</td>\n",
       "      <td>This has been a real hit with my group. It is ...</td>\n",
       "    </tr>\n",
       "  </tbody>\n",
       "</table>\n",
       "</div>"
      ],
      "text/plain": [
       "           id        username rating  \\\n",
       "19182  283155         nifdgad      8   \n",
       "65615  148228    Isaac_Llopis      6   \n",
       "26039  205637        couchoud      8   \n",
       "33648  193738          fifizi      9   \n",
       "16221  256960  ibn_ul_khattab      9   \n",
       "\n",
       "                                                   value  \n",
       "19182  Est. Delivery: same as [url=https://boardgameg...  \n",
       "65615  Quite a good, fast and simple play. Usually ta...  \n",
       "26039  I like the game, but not nearly enough to buy ...  \n",
       "33648  Great game. Love the theme so much that it's a...  \n",
       "16221  This has been a real hit with my group. It is ...  "
      ]
     },
     "execution_count": 37,
     "metadata": {},
     "output_type": "execute_result"
    }
   ],
   "source": [
    "rated_comments.head()"
   ]
  },
  {
   "cell_type": "code",
   "execution_count": 38,
   "metadata": {},
   "outputs": [
    {
     "data": {
      "text/html": [
       "<div>\n",
       "<style scoped>\n",
       "    .dataframe tbody tr th:only-of-type {\n",
       "        vertical-align: middle;\n",
       "    }\n",
       "\n",
       "    .dataframe tbody tr th {\n",
       "        vertical-align: top;\n",
       "    }\n",
       "\n",
       "    .dataframe thead th {\n",
       "        text-align: right;\n",
       "    }\n",
       "</style>\n",
       "<table border=\"1\" class=\"dataframe\">\n",
       "  <thead>\n",
       "    <tr style=\"text-align: right;\">\n",
       "      <th></th>\n",
       "      <th>id</th>\n",
       "      <th>rating_mean</th>\n",
       "      <th>rating_count</th>\n",
       "    </tr>\n",
       "  </thead>\n",
       "  <tbody>\n",
       "    <tr>\n",
       "      <th>0</th>\n",
       "      <td>148228</td>\n",
       "      <td>7.382082</td>\n",
       "      <td>7283</td>\n",
       "    </tr>\n",
       "    <tr>\n",
       "      <th>1</th>\n",
       "      <td>162886</td>\n",
       "      <td>8.352335</td>\n",
       "      <td>3468</td>\n",
       "    </tr>\n",
       "    <tr>\n",
       "      <th>2</th>\n",
       "      <td>163068</td>\n",
       "      <td>7.764993</td>\n",
       "      <td>938</td>\n",
       "    </tr>\n",
       "    <tr>\n",
       "      <th>3</th>\n",
       "      <td>167355</td>\n",
       "      <td>8.419538</td>\n",
       "      <td>1770</td>\n",
       "    </tr>\n",
       "    <tr>\n",
       "      <th>4</th>\n",
       "      <td>167791</td>\n",
       "      <td>8.212217</td>\n",
       "      <td>8193</td>\n",
       "    </tr>\n",
       "  </tbody>\n",
       "</table>\n",
       "</div>"
      ],
      "text/plain": [
       "       id  rating_mean  rating_count\n",
       "0  148228     7.382082          7283\n",
       "1  162886     8.352335          3468\n",
       "2  163068     7.764993           938\n",
       "3  167355     8.419538          1770\n",
       "4  167791     8.212217          8193"
      ]
     },
     "execution_count": 38,
     "metadata": {},
     "output_type": "execute_result"
    }
   ],
   "source": [
    "rated_comments['rating'] = rated_comments.rating.astype(float)\n",
    "rated_comments_grouped = rated_comments.groupby('id').agg({'rating': ['mean', 'count']})\n",
    "rated_comments_grouped.columns = list(rated_comments_grouped.columns.map('_'.join))\n",
    "rated_comments_grouped = rated_comments_grouped.reset_index()\n",
    "rated_comments_grouped.head()"
   ]
  },
  {
   "cell_type": "code",
   "execution_count": 39,
   "metadata": {},
   "outputs": [],
   "source": [
    "not_rated_comments['rating'] = [round(float(r[0])*10, 1) for r in results]"
   ]
  },
  {
   "cell_type": "code",
   "execution_count": 40,
   "metadata": {},
   "outputs": [
    {
     "data": {
      "text/html": [
       "<div>\n",
       "<style scoped>\n",
       "    .dataframe tbody tr th:only-of-type {\n",
       "        vertical-align: middle;\n",
       "    }\n",
       "\n",
       "    .dataframe tbody tr th {\n",
       "        vertical-align: top;\n",
       "    }\n",
       "\n",
       "    .dataframe thead th {\n",
       "        text-align: right;\n",
       "    }\n",
       "</style>\n",
       "<table border=\"1\" class=\"dataframe\">\n",
       "  <thead>\n",
       "    <tr style=\"text-align: right;\">\n",
       "      <th></th>\n",
       "      <th>id</th>\n",
       "      <th>rating_mean</th>\n",
       "      <th>rating_count</th>\n",
       "    </tr>\n",
       "  </thead>\n",
       "  <tbody>\n",
       "    <tr>\n",
       "      <th>0</th>\n",
       "      <td>148228</td>\n",
       "      <td>8.483615</td>\n",
       "      <td>1477</td>\n",
       "    </tr>\n",
       "    <tr>\n",
       "      <th>1</th>\n",
       "      <td>162886</td>\n",
       "      <td>8.693542</td>\n",
       "      <td>1022</td>\n",
       "    </tr>\n",
       "    <tr>\n",
       "      <th>2</th>\n",
       "      <td>163068</td>\n",
       "      <td>8.964352</td>\n",
       "      <td>432</td>\n",
       "    </tr>\n",
       "    <tr>\n",
       "      <th>3</th>\n",
       "      <td>167355</td>\n",
       "      <td>8.656996</td>\n",
       "      <td>679</td>\n",
       "    </tr>\n",
       "    <tr>\n",
       "      <th>4</th>\n",
       "      <td>167791</td>\n",
       "      <td>8.591240</td>\n",
       "      <td>1621</td>\n",
       "    </tr>\n",
       "  </tbody>\n",
       "</table>\n",
       "</div>"
      ],
      "text/plain": [
       "       id  rating_mean  rating_count\n",
       "0  148228     8.483615          1477\n",
       "1  162886     8.693542          1022\n",
       "2  163068     8.964352           432\n",
       "3  167355     8.656996           679\n",
       "4  167791     8.591240          1621"
      ]
     },
     "execution_count": 40,
     "metadata": {},
     "output_type": "execute_result"
    }
   ],
   "source": [
    "not_rated_comments['rating'] = not_rated_comments.rating.astype(float)\n",
    "not_rated_comments_grouped = not_rated_comments.groupby('id').agg({'rating': ['mean', 'count']})\n",
    "not_rated_comments_grouped.columns = list(not_rated_comments_grouped.columns.map('_'.join))\n",
    "not_rated_comments_grouped = not_rated_comments_grouped.reset_index()\n",
    "not_rated_comments_grouped.head()"
   ]
  },
  {
   "cell_type": "code",
   "execution_count": 63,
   "metadata": {},
   "outputs": [],
   "source": [
    "grouped = rated_comments_grouped.merge(not_rated_comments_grouped, on='id', suffixes=('_review', '_comments'))\n",
    "grouped = grouped.merge(pd.DataFrame(hot_array), on='id')\n",
    "grouped['rank'] = grouped['rank'].astype(int)\n",
    "grouped['url'] = grouped['id'].apply(lambda x: f\"https://boardgamegeek.com/boardgame/{x}\")"
   ]
  },
  {
   "cell_type": "code",
   "execution_count": 64,
   "metadata": {},
   "outputs": [
    {
     "data": {
      "text/html": [
       "<div>\n",
       "<style scoped>\n",
       "    .dataframe tbody tr th:only-of-type {\n",
       "        vertical-align: middle;\n",
       "    }\n",
       "\n",
       "    .dataframe tbody tr th {\n",
       "        vertical-align: top;\n",
       "    }\n",
       "\n",
       "    .dataframe thead th {\n",
       "        text-align: right;\n",
       "    }\n",
       "</style>\n",
       "<table border=\"1\" class=\"dataframe\">\n",
       "  <thead>\n",
       "    <tr style=\"text-align: right;\">\n",
       "      <th></th>\n",
       "      <th>id</th>\n",
       "      <th>rating_mean_review</th>\n",
       "      <th>rating_count_review</th>\n",
       "      <th>rating_mean_comments</th>\n",
       "      <th>rating_count_comments</th>\n",
       "      <th>rank</th>\n",
       "      <th>thumbnail</th>\n",
       "      <th>name</th>\n",
       "      <th>yearpublished</th>\n",
       "      <th>url</th>\n",
       "    </tr>\n",
       "  </thead>\n",
       "  <tbody>\n",
       "    <tr>\n",
       "      <th>0</th>\n",
       "      <td>148228</td>\n",
       "      <td>7.382082</td>\n",
       "      <td>7283</td>\n",
       "      <td>8.483615</td>\n",
       "      <td>1477</td>\n",
       "      <td>31</td>\n",
       "      <td>https://cf.geekdo-images.com/rwOMxx4q5yuElIvo-...</td>\n",
       "      <td>Splendor</td>\n",
       "      <td>2014</td>\n",
       "      <td>https://boardgamegeek.com/boardgame/148228</td>\n",
       "    </tr>\n",
       "    <tr>\n",
       "      <th>1</th>\n",
       "      <td>162886</td>\n",
       "      <td>8.352335</td>\n",
       "      <td>3468</td>\n",
       "      <td>8.693542</td>\n",
       "      <td>1022</td>\n",
       "      <td>10</td>\n",
       "      <td>https://cf.geekdo-images.com/a13ieMPP2s0KEaKNY...</td>\n",
       "      <td>Spirit Island</td>\n",
       "      <td>2017</td>\n",
       "      <td>https://boardgamegeek.com/boardgame/162886</td>\n",
       "    </tr>\n",
       "    <tr>\n",
       "      <th>2</th>\n",
       "      <td>163068</td>\n",
       "      <td>7.764993</td>\n",
       "      <td>938</td>\n",
       "      <td>8.964352</td>\n",
       "      <td>432</td>\n",
       "      <td>37</td>\n",
       "      <td>https://cf.geekdo-images.com/9gob752VqEklQFV_g...</td>\n",
       "      <td>Trickerion: Legends of Illusion</td>\n",
       "      <td>2015</td>\n",
       "      <td>https://boardgamegeek.com/boardgame/163068</td>\n",
       "    </tr>\n",
       "    <tr>\n",
       "      <th>3</th>\n",
       "      <td>167355</td>\n",
       "      <td>8.419538</td>\n",
       "      <td>1770</td>\n",
       "      <td>8.656996</td>\n",
       "      <td>679</td>\n",
       "      <td>24</td>\n",
       "      <td>https://cf.geekdo-images.com/tAqLpWxQ0Oo3GaPP3...</td>\n",
       "      <td>Nemesis</td>\n",
       "      <td>2018</td>\n",
       "      <td>https://boardgamegeek.com/boardgame/167355</td>\n",
       "    </tr>\n",
       "    <tr>\n",
       "      <th>4</th>\n",
       "      <td>167791</td>\n",
       "      <td>8.212217</td>\n",
       "      <td>8193</td>\n",
       "      <td>8.591240</td>\n",
       "      <td>1621</td>\n",
       "      <td>13</td>\n",
       "      <td>https://cf.geekdo-images.com/wg9oOLcsKvDesSUdZ...</td>\n",
       "      <td>Terraforming Mars</td>\n",
       "      <td>2016</td>\n",
       "      <td>https://boardgamegeek.com/boardgame/167791</td>\n",
       "    </tr>\n",
       "  </tbody>\n",
       "</table>\n",
       "</div>"
      ],
      "text/plain": [
       "       id  rating_mean_review  rating_count_review  rating_mean_comments  \\\n",
       "0  148228            7.382082                 7283              8.483615   \n",
       "1  162886            8.352335                 3468              8.693542   \n",
       "2  163068            7.764993                  938              8.964352   \n",
       "3  167355            8.419538                 1770              8.656996   \n",
       "4  167791            8.212217                 8193              8.591240   \n",
       "\n",
       "   rating_count_comments  rank  \\\n",
       "0                   1477    31   \n",
       "1                   1022    10   \n",
       "2                    432    37   \n",
       "3                    679    24   \n",
       "4                   1621    13   \n",
       "\n",
       "                                           thumbnail  \\\n",
       "0  https://cf.geekdo-images.com/rwOMxx4q5yuElIvo-...   \n",
       "1  https://cf.geekdo-images.com/a13ieMPP2s0KEaKNY...   \n",
       "2  https://cf.geekdo-images.com/9gob752VqEklQFV_g...   \n",
       "3  https://cf.geekdo-images.com/tAqLpWxQ0Oo3GaPP3...   \n",
       "4  https://cf.geekdo-images.com/wg9oOLcsKvDesSUdZ...   \n",
       "\n",
       "                              name yearpublished  \\\n",
       "0                         Splendor          2014   \n",
       "1                    Spirit Island          2017   \n",
       "2  Trickerion: Legends of Illusion          2015   \n",
       "3                          Nemesis          2018   \n",
       "4                Terraforming Mars          2016   \n",
       "\n",
       "                                          url  \n",
       "0  https://boardgamegeek.com/boardgame/148228  \n",
       "1  https://boardgamegeek.com/boardgame/162886  \n",
       "2  https://boardgamegeek.com/boardgame/163068  \n",
       "3  https://boardgamegeek.com/boardgame/167355  \n",
       "4  https://boardgamegeek.com/boardgame/167791  "
      ]
     },
     "execution_count": 64,
     "metadata": {},
     "output_type": "execute_result"
    }
   ],
   "source": [
    "grouped.head()"
   ]
  },
  {
   "cell_type": "code",
   "execution_count": 66,
   "metadata": {},
   "outputs": [],
   "source": [
    "grouped['fixed_rating'] = (grouped['rating_mean_review']*grouped['rating_count_review']+grouped['rating_mean_comments']*grouped['rating_count_comments']) / (grouped['rating_count_review']+grouped['rating_count_comments'])"
   ]
  },
  {
   "cell_type": "code",
   "execution_count": 67,
   "metadata": {},
   "outputs": [
    {
     "data": {
      "text/html": [
       "<div>\n",
       "<style scoped>\n",
       "    .dataframe tbody tr th:only-of-type {\n",
       "        vertical-align: middle;\n",
       "    }\n",
       "\n",
       "    .dataframe tbody tr th {\n",
       "        vertical-align: top;\n",
       "    }\n",
       "\n",
       "    .dataframe thead th {\n",
       "        text-align: right;\n",
       "    }\n",
       "</style>\n",
       "<table border=\"1\" class=\"dataframe\">\n",
       "  <thead>\n",
       "    <tr style=\"text-align: right;\">\n",
       "      <th></th>\n",
       "      <th>id</th>\n",
       "      <th>rating_mean_review</th>\n",
       "      <th>rating_count_review</th>\n",
       "      <th>rating_mean_comments</th>\n",
       "      <th>rating_count_comments</th>\n",
       "      <th>rank</th>\n",
       "      <th>thumbnail</th>\n",
       "      <th>name</th>\n",
       "      <th>yearpublished</th>\n",
       "      <th>url</th>\n",
       "      <th>fixed_rating</th>\n",
       "    </tr>\n",
       "  </thead>\n",
       "  <tbody>\n",
       "    <tr>\n",
       "      <th>0</th>\n",
       "      <td>148228</td>\n",
       "      <td>7.382082</td>\n",
       "      <td>7283</td>\n",
       "      <td>8.483615</td>\n",
       "      <td>1477</td>\n",
       "      <td>31</td>\n",
       "      <td>https://cf.geekdo-images.com/rwOMxx4q5yuElIvo-...</td>\n",
       "      <td>Splendor</td>\n",
       "      <td>2014</td>\n",
       "      <td>https://boardgamegeek.com/boardgame/148228</td>\n",
       "      <td>7.567809</td>\n",
       "    </tr>\n",
       "    <tr>\n",
       "      <th>1</th>\n",
       "      <td>162886</td>\n",
       "      <td>8.352335</td>\n",
       "      <td>3468</td>\n",
       "      <td>8.693542</td>\n",
       "      <td>1022</td>\n",
       "      <td>10</td>\n",
       "      <td>https://cf.geekdo-images.com/a13ieMPP2s0KEaKNY...</td>\n",
       "      <td>Spirit Island</td>\n",
       "      <td>2017</td>\n",
       "      <td>https://boardgamegeek.com/boardgame/162886</td>\n",
       "      <td>8.429999</td>\n",
       "    </tr>\n",
       "    <tr>\n",
       "      <th>2</th>\n",
       "      <td>163068</td>\n",
       "      <td>7.764993</td>\n",
       "      <td>938</td>\n",
       "      <td>8.964352</td>\n",
       "      <td>432</td>\n",
       "      <td>37</td>\n",
       "      <td>https://cf.geekdo-images.com/9gob752VqEklQFV_g...</td>\n",
       "      <td>Trickerion: Legends of Illusion</td>\n",
       "      <td>2015</td>\n",
       "      <td>https://boardgamegeek.com/boardgame/163068</td>\n",
       "      <td>8.143185</td>\n",
       "    </tr>\n",
       "    <tr>\n",
       "      <th>3</th>\n",
       "      <td>167355</td>\n",
       "      <td>8.419538</td>\n",
       "      <td>1770</td>\n",
       "      <td>8.656996</td>\n",
       "      <td>679</td>\n",
       "      <td>24</td>\n",
       "      <td>https://cf.geekdo-images.com/tAqLpWxQ0Oo3GaPP3...</td>\n",
       "      <td>Nemesis</td>\n",
       "      <td>2018</td>\n",
       "      <td>https://boardgamegeek.com/boardgame/167355</td>\n",
       "      <td>8.485374</td>\n",
       "    </tr>\n",
       "    <tr>\n",
       "      <th>4</th>\n",
       "      <td>167791</td>\n",
       "      <td>8.212217</td>\n",
       "      <td>8193</td>\n",
       "      <td>8.591240</td>\n",
       "      <td>1621</td>\n",
       "      <td>13</td>\n",
       "      <td>https://cf.geekdo-images.com/wg9oOLcsKvDesSUdZ...</td>\n",
       "      <td>Terraforming Mars</td>\n",
       "      <td>2016</td>\n",
       "      <td>https://boardgamegeek.com/boardgame/167791</td>\n",
       "      <td>8.274821</td>\n",
       "    </tr>\n",
       "  </tbody>\n",
       "</table>\n",
       "</div>"
      ],
      "text/plain": [
       "       id  rating_mean_review  rating_count_review  rating_mean_comments  \\\n",
       "0  148228            7.382082                 7283              8.483615   \n",
       "1  162886            8.352335                 3468              8.693542   \n",
       "2  163068            7.764993                  938              8.964352   \n",
       "3  167355            8.419538                 1770              8.656996   \n",
       "4  167791            8.212217                 8193              8.591240   \n",
       "\n",
       "   rating_count_comments  rank  \\\n",
       "0                   1477    31   \n",
       "1                   1022    10   \n",
       "2                    432    37   \n",
       "3                    679    24   \n",
       "4                   1621    13   \n",
       "\n",
       "                                           thumbnail  \\\n",
       "0  https://cf.geekdo-images.com/rwOMxx4q5yuElIvo-...   \n",
       "1  https://cf.geekdo-images.com/a13ieMPP2s0KEaKNY...   \n",
       "2  https://cf.geekdo-images.com/9gob752VqEklQFV_g...   \n",
       "3  https://cf.geekdo-images.com/tAqLpWxQ0Oo3GaPP3...   \n",
       "4  https://cf.geekdo-images.com/wg9oOLcsKvDesSUdZ...   \n",
       "\n",
       "                              name yearpublished  \\\n",
       "0                         Splendor          2014   \n",
       "1                    Spirit Island          2017   \n",
       "2  Trickerion: Legends of Illusion          2015   \n",
       "3                          Nemesis          2018   \n",
       "4                Terraforming Mars          2016   \n",
       "\n",
       "                                          url  fixed_rating  \n",
       "0  https://boardgamegeek.com/boardgame/148228      7.567809  \n",
       "1  https://boardgamegeek.com/boardgame/162886      8.429999  \n",
       "2  https://boardgamegeek.com/boardgame/163068      8.143185  \n",
       "3  https://boardgamegeek.com/boardgame/167355      8.485374  \n",
       "4  https://boardgamegeek.com/boardgame/167791      8.274821  "
      ]
     },
     "execution_count": 67,
     "metadata": {},
     "output_type": "execute_result"
    }
   ],
   "source": [
    "grouped.head()"
   ]
  },
  {
   "cell_type": "code",
   "execution_count": 68,
   "metadata": {},
   "outputs": [],
   "source": [
    "grouped = grouped[['thumbnail', 'name', 'rating_mean_review', 'rating_mean_comments', 'fixed_rating', 'rank', 'yearpublished', 'url']]"
   ]
  },
  {
   "cell_type": "code",
   "execution_count": 90,
   "metadata": {},
   "outputs": [],
   "source": [
    "def path_to_image_html(path):\n",
    "    return f'<img src=\"{path}\" width=\"124\" />'\n",
    "\n",
    "def path_to_url_html(url):\n",
    "    return f'<a href=\"{url}\">link</a>'"
   ]
  },
  {
   "cell_type": "code",
   "execution_count": 91,
   "metadata": {},
   "outputs": [
    {
     "data": {
      "text/html": [
       "<table border=\"1\" class=\"dataframe\">\n",
       "  <thead>\n",
       "    <tr style=\"text-align: right;\">\n",
       "      <th></th>\n",
       "      <th>thumbnail</th>\n",
       "      <th>name</th>\n",
       "      <th>rating_mean_review</th>\n",
       "      <th>rating_mean_comments</th>\n",
       "      <th>fixed_rating</th>\n",
       "      <th>rank</th>\n",
       "      <th>yearpublished</th>\n",
       "      <th>url</th>\n",
       "    </tr>\n",
       "  </thead>\n",
       "  <tbody>\n",
       "    <tr>\n",
       "      <th>45</th>\n",
       "      <td><img src=\"https://cf.geekdo-images.com/N0hCcxXw8d7vUjKfsYO6vg__thumb/img/K4DDlRzl6qlQf9L_oMLb7g9WUYo=/fit-in/200x150/filters:strip_icc()/pic6121929.png\" width=\"124\" /></td>\n",
       "      <td>My Father's Work</td>\n",
       "      <td>5.375000</td>\n",
       "      <td>8.650000</td>\n",
       "      <td>8.264706</td>\n",
       "      <td>1</td>\n",
       "      <td>2021</td>\n",
       "      <td><a href=\"https://boardgamegeek.com/boardgame/328866\">link</a></td>\n",
       "    </tr>\n",
       "    <tr>\n",
       "      <th>38</th>\n",
       "      <td><img src=\"https://cf.geekdo-images.com/-KMXyStWyla5jh_BRO803w__thumb/img/3j7TG-J5bxigP1RaTbNnHcHnr6A=/fit-in/200x150/filters:strip_icc()/pic6074555.png\" width=\"124\" /></td>\n",
       "      <td>Vivid Memories</td>\n",
       "      <td>7.500000</td>\n",
       "      <td>7.900000</td>\n",
       "      <td>7.785714</td>\n",
       "      <td>2</td>\n",
       "      <td>2021</td>\n",
       "      <td><a href=\"https://boardgamegeek.com/boardgame/316090\">link</a></td>\n",
       "    </tr>\n",
       "    <tr>\n",
       "      <th>37</th>\n",
       "      <td><img src=\"https://cf.geekdo-images.com/6GqH14TJJhza86BX5HCLEQ__thumb/img/J8SVmGOJXZGxNjkT3xYNQU7Haxg=/fit-in/200x150/filters:strip_icc()/pic5674958.jpg\" width=\"124\" /></td>\n",
       "      <td>Lost Ruins of Arnak</td>\n",
       "      <td>7.938240</td>\n",
       "      <td>8.811417</td>\n",
       "      <td>8.197035</td>\n",
       "      <td>3</td>\n",
       "      <td>2020</td>\n",
       "      <td><a href=\"https://boardgamegeek.com/boardgame/312484\">link</a></td>\n",
       "    </tr>\n",
       "    <tr>\n",
       "      <th>30</th>\n",
       "      <td><img src=\"https://cf.geekdo-images.com/gTxav_KKQK1rDg-XuCjCSA__thumb/img/tFTOAKG5aDXxYfNRmJNmfyxH83M=/fit-in/200x150/filters:strip_icc()/pic5164812.jpg\" width=\"124\" /></td>\n",
       "      <td>Oath: Chronicles of Empire and Exile</td>\n",
       "      <td>7.947037</td>\n",
       "      <td>9.039300</td>\n",
       "      <td>8.716110</td>\n",
       "      <td>4</td>\n",
       "      <td>2021</td>\n",
       "      <td><a href=\"https://boardgamegeek.com/boardgame/291572\">link</a></td>\n",
       "    </tr>\n",
       "    <tr>\n",
       "      <th>39</th>\n",
       "      <td><img src=\"https://cf.geekdo-images.com/PhjygpWSo-0labGrPBMyyg__thumb/img/JGgY-nBmkyB8WRp8vcoBLlNMQ5U=/fit-in/200x150/filters:strip_icc()/pic5666597.jpg\" width=\"124\" /></td>\n",
       "      <td>Dune: Imperium</td>\n",
       "      <td>8.119612</td>\n",
       "      <td>8.698174</td>\n",
       "      <td>8.270811</td>\n",
       "      <td>5</td>\n",
       "      <td>2020</td>\n",
       "      <td><a href=\"https://boardgamegeek.com/boardgame/316554\">link</a></td>\n",
       "    </tr>\n",
       "  </tbody>\n",
       "</table>"
      ],
      "text/plain": [
       "<IPython.core.display.HTML object>"
      ]
     },
     "execution_count": 91,
     "metadata": {},
     "output_type": "execute_result"
    }
   ],
   "source": [
    "# TOP 5 RANK\n",
    "HTML(grouped.sort_values('rank').head(5).to_html(escape=False, formatters={'thumbnail': path_to_image_html, 'url': path_to_url_html}))"
   ]
  },
  {
   "cell_type": "code",
   "execution_count": 92,
   "metadata": {},
   "outputs": [
    {
     "data": {
      "text/html": [
       "<table border=\"1\" class=\"dataframe\">\n",
       "  <thead>\n",
       "    <tr style=\"text-align: right;\">\n",
       "      <th></th>\n",
       "      <th>thumbnail</th>\n",
       "      <th>name</th>\n",
       "      <th>rating_mean_review</th>\n",
       "      <th>rating_mean_comments</th>\n",
       "      <th>fixed_rating</th>\n",
       "      <th>rank</th>\n",
       "      <th>yearpublished</th>\n",
       "      <th>url</th>\n",
       "    </tr>\n",
       "  </thead>\n",
       "  <tbody>\n",
       "    <tr>\n",
       "      <th>40</th>\n",
       "      <td><img src=\"https://cf.geekdo-images.com/eUiju5SqZbkNt8gnEofrTw__thumb/img/zNkmLNyeXJGOY24FeAAf4U67ejU=/fit-in/200x150/filters:strip_icc()/pic6035127.png\" width=\"124\" /></td>\n",
       "      <td>Stationfall</td>\n",
       "      <td>9.375000</td>\n",
       "      <td>9.962500</td>\n",
       "      <td>9.668750</td>\n",
       "      <td>17</td>\n",
       "      <td>2021</td>\n",
       "      <td><a href=\"https://boardgamegeek.com/boardgame/316624\">link</a></td>\n",
       "    </tr>\n",
       "    <tr>\n",
       "      <th>32</th>\n",
       "      <td><img src=\"https://cf.geekdo-images.com/dNXxWWcLHd67zOCz1_DV5g__thumb/img/LKLbu76Lt9XTRsSv1TC66uaSN40=/fit-in/200x150/filters:strip_icc()/pic5415822.png\" width=\"124\" /></td>\n",
       "      <td>Kemet: Blood and Sand</td>\n",
       "      <td>8.833333</td>\n",
       "      <td>8.882967</td>\n",
       "      <td>8.877833</td>\n",
       "      <td>35</td>\n",
       "      <td>2021</td>\n",
       "      <td><a href=\"https://boardgamegeek.com/boardgame/297562\">link</a></td>\n",
       "    </tr>\n",
       "    <tr>\n",
       "      <th>19</th>\n",
       "      <td><img src=\"https://cf.geekdo-images.com/Oh3kHw6lweg6ru71Q16h2Q__thumb/img/e9XZdQe1ZcPpaq4Gy31OoWBB_V0=/fit-in/200x150/filters:strip_icc()/pic5235277.jpg\" width=\"124\" /></td>\n",
       "      <td>Eclipse: Second Dawn for the Galaxy</td>\n",
       "      <td>8.737280</td>\n",
       "      <td>8.764807</td>\n",
       "      <td>8.747042</td>\n",
       "      <td>42</td>\n",
       "      <td>2020</td>\n",
       "      <td><a href=\"https://boardgamegeek.com/boardgame/246900\">link</a></td>\n",
       "    </tr>\n",
       "    <tr>\n",
       "      <th>15</th>\n",
       "      <td><img src=\"https://cf.geekdo-images.com/x3zxjr-Vw5iU4yDPg70Jgw__thumb/img/o18rjEemoWaVru9Y2TyPwuIaRfE=/fit-in/200x150/filters:strip_icc()/pic3490053.jpg\" width=\"124\" /></td>\n",
       "      <td>Brass: Birmingham</td>\n",
       "      <td>8.687554</td>\n",
       "      <td>8.623333</td>\n",
       "      <td>8.669158</td>\n",
       "      <td>21</td>\n",
       "      <td>2018</td>\n",
       "      <td><a href=\"https://boardgamegeek.com/boardgame/224517\">link</a></td>\n",
       "    </tr>\n",
       "    <tr>\n",
       "      <th>29</th>\n",
       "      <td><img src=\"https://cf.geekdo-images.com/_HhIdavYW-hid20Iq3hhmg__thumb/img/OMkN_E5eyWrkID_cHCnQEbIixGM=/fit-in/200x150/filters:strip_icc()/pic5055631.jpg\" width=\"124\" /></td>\n",
       "      <td>Gloomhaven: Jaws of the Lion</td>\n",
       "      <td>8.622333</td>\n",
       "      <td>8.588462</td>\n",
       "      <td>8.613005</td>\n",
       "      <td>19</td>\n",
       "      <td>2020</td>\n",
       "      <td><a href=\"https://boardgamegeek.com/boardgame/291457\">link</a></td>\n",
       "    </tr>\n",
       "  </tbody>\n",
       "</table>"
      ],
      "text/plain": [
       "<IPython.core.display.HTML object>"
      ]
     },
     "execution_count": 92,
     "metadata": {},
     "output_type": "execute_result"
    }
   ],
   "source": [
    "# TOP 5 REVIEW RANK\n",
    "HTML(grouped.sort_values('rating_mean_review', ascending=False).head(5).to_html(escape=False, formatters={'thumbnail': path_to_image_html, 'url': path_to_url_html}))"
   ]
  },
  {
   "cell_type": "code",
   "execution_count": 93,
   "metadata": {},
   "outputs": [
    {
     "data": {
      "text/html": [
       "<table border=\"1\" class=\"dataframe\">\n",
       "  <thead>\n",
       "    <tr style=\"text-align: right;\">\n",
       "      <th></th>\n",
       "      <th>thumbnail</th>\n",
       "      <th>name</th>\n",
       "      <th>rating_mean_review</th>\n",
       "      <th>rating_mean_comments</th>\n",
       "      <th>fixed_rating</th>\n",
       "      <th>rank</th>\n",
       "      <th>yearpublished</th>\n",
       "      <th>url</th>\n",
       "    </tr>\n",
       "  </thead>\n",
       "  <tbody>\n",
       "    <tr>\n",
       "      <th>40</th>\n",
       "      <td><img src=\"https://cf.geekdo-images.com/eUiju5SqZbkNt8gnEofrTw__thumb/img/zNkmLNyeXJGOY24FeAAf4U67ejU=/fit-in/200x150/filters:strip_icc()/pic6035127.png\" width=\"124\" /></td>\n",
       "      <td>Stationfall</td>\n",
       "      <td>9.375000</td>\n",
       "      <td>9.962500</td>\n",
       "      <td>9.668750</td>\n",
       "      <td>17</td>\n",
       "      <td>2021</td>\n",
       "      <td><a href=\"https://boardgamegeek.com/boardgame/316624\">link</a></td>\n",
       "    </tr>\n",
       "    <tr>\n",
       "      <th>32</th>\n",
       "      <td><img src=\"https://cf.geekdo-images.com/dNXxWWcLHd67zOCz1_DV5g__thumb/img/LKLbu76Lt9XTRsSv1TC66uaSN40=/fit-in/200x150/filters:strip_icc()/pic5415822.png\" width=\"124\" /></td>\n",
       "      <td>Kemet: Blood and Sand</td>\n",
       "      <td>8.833333</td>\n",
       "      <td>8.882967</td>\n",
       "      <td>8.877833</td>\n",
       "      <td>35</td>\n",
       "      <td>2021</td>\n",
       "      <td><a href=\"https://boardgamegeek.com/boardgame/297562\">link</a></td>\n",
       "    </tr>\n",
       "    <tr>\n",
       "      <th>28</th>\n",
       "      <td><img src=\"https://cf.geekdo-images.com/81AiTz4hp4TlnzeCMqQMAw__thumb/img/4i2gR6ZpAY3pCBJ-n4681BGhrUU=/fit-in/200x150/filters:strip_icc()/pic6091316.jpg\" width=\"124\" /></td>\n",
       "      <td>Zombicide (2nd Edition)</td>\n",
       "      <td>7.625000</td>\n",
       "      <td>9.357500</td>\n",
       "      <td>8.862500</td>\n",
       "      <td>36</td>\n",
       "      <td>2021</td>\n",
       "      <td><a href=\"https://boardgamegeek.com/boardgame/286751\">link</a></td>\n",
       "    </tr>\n",
       "    <tr>\n",
       "      <th>47</th>\n",
       "      <td><img src=\"https://cf.geekdo-images.com/8eN5t1p4ncee-eVN9NswDA__thumb/img/EI64n63DbQ9DHhTf72s7UpUFMBY=/fit-in/200x150/filters:strip_icc()/pic6007253.png\" width=\"124\" /></td>\n",
       "      <td>Brew</td>\n",
       "      <td>6.600000</td>\n",
       "      <td>10.000000</td>\n",
       "      <td>8.785714</td>\n",
       "      <td>27</td>\n",
       "      <td>2021</td>\n",
       "      <td><a href=\"https://boardgamegeek.com/boardgame/332386\">link</a></td>\n",
       "    </tr>\n",
       "    <tr>\n",
       "      <th>19</th>\n",
       "      <td><img src=\"https://cf.geekdo-images.com/Oh3kHw6lweg6ru71Q16h2Q__thumb/img/e9XZdQe1ZcPpaq4Gy31OoWBB_V0=/fit-in/200x150/filters:strip_icc()/pic5235277.jpg\" width=\"124\" /></td>\n",
       "      <td>Eclipse: Second Dawn for the Galaxy</td>\n",
       "      <td>8.737280</td>\n",
       "      <td>8.764807</td>\n",
       "      <td>8.747042</td>\n",
       "      <td>42</td>\n",
       "      <td>2020</td>\n",
       "      <td><a href=\"https://boardgamegeek.com/boardgame/246900\">link</a></td>\n",
       "    </tr>\n",
       "  </tbody>\n",
       "</table>"
      ],
      "text/plain": [
       "<IPython.core.display.HTML object>"
      ]
     },
     "execution_count": 93,
     "metadata": {},
     "output_type": "execute_result"
    }
   ],
   "source": [
    "# TOP 5 FIXED RANK\n",
    "HTML(grouped.sort_values('fixed_rating', ascending=False).head(5).to_html(escape=False, formatters={'thumbnail': path_to_image_html, 'url': path_to_url_html}))"
   ]
  },
  {
   "cell_type": "code",
   "execution_count": 85,
   "metadata": {},
   "outputs": [
    {
     "name": "stdout",
     "output_type": "stream",
     "text": [
      "INFO:tensorflow:Assets written to: saved_model\\my_model\\assets\n"
     ]
    },
    {
     "name": "stderr",
     "output_type": "stream",
     "text": [
      "INFO:tensorflow:Assets written to: saved_model\\my_model\\assets\n"
     ]
    }
   ],
   "source": [
    "model.save('saved_model\\my_model')"
   ]
  },
  {
   "cell_type": "code",
   "execution_count": 57,
   "metadata": {},
   "outputs": [],
   "source": [
    "# saved_model = tf.keras.models.load_model('saved_model\\my_model')"
   ]
  },
  {
   "cell_type": "code",
   "execution_count": 58,
   "metadata": {},
   "outputs": [],
   "source": [
    "# some examples on \"long\" comments vs short comments"
   ]
  },
  {
   "cell_type": "code",
   "execution_count": 59,
   "metadata": {},
   "outputs": [],
   "source": [
    "not_rated_comments['comment_len'] = not_rated_comments['value'].str.len()"
   ]
  },
  {
   "cell_type": "code",
   "execution_count": 60,
   "metadata": {},
   "outputs": [
    {
     "name": "stdout",
     "output_type": "stream",
     "text": [
      "input:\n",
      "\"Check it out (Monique and Naveen have a playthrough). Cards played through the game do things for you, but also the cards you have at the end matter, getting combinations and interactions between them. I think.\"\n",
      "score: 0.070860\n",
      "\n",
      "input:\n",
      "\"surprisingly elegant considering its pedigree. creates some great tension and deckbuilding is good if you buy two copies of base game. but it had to go because i didn't want to go down the rabbit hole of never ending expansions...\"\n",
      "score: 1.000000\n",
      "\n",
      "input:\n",
      "\"I like cooperative dungeon crawlers but I am not sure that Gloomhaven's combat will appeal to me. At $40, I am risking much less trying it.\"\n",
      "score: 0.000579\n",
      "\n",
      "input:\n",
      "\"Vollständig enthalten in Kickstarter-Edition.  Genauen Inhalt und vollständige Liste siehe Kickstarter-Edition!\"\n",
      "score: 1.000000\n",
      "\n",
      "input:\n",
      "\"KS, 1/22/18, with the Medic add-on.  Couldn't pass it up, sounds very well-developed, replayable and atmospheric.  Saw a movie something like this once.\"\n",
      "score: 1.000000\n",
      "\n",
      "input:\n",
      "\"P: 1-4, T: 90-150 min Co-op Legacy/campaign style character progression. Dungeon crawl scenarios w/ streamlined card play combat system. A faithful conversion of an MMORPG to tabletop form; be prepared to sink a lot of time into this one. Headed for the \"Pedestal of Longing\"\"\n",
      "score: 0.884350\n",
      "\n",
      "input:\n",
      "\"I picked up this game after hearing how great it was and was sure it would go well with my group, but wow did it fall flat. I think it took too long for what it was, and while I enjoyed it, it seemed others were ready for it to be over halfway through. \"\n",
      "score: 0.035298\n",
      "\n",
      "input:\n",
      "\"I don't think I'll ever get to play this. It's monstrous in size and playtime. Yet...I had to own it. It's so massive, epic, pretty. Who knows...one day I may have 5 or 6 friends who fancy playing a boardgame from 7am in the morning to 2am at night.\"\n",
      "score: 1.000000\n",
      "\n",
      "input:\n",
      "\"Players: 2-4 (Best: 2) Weight: 2.77 playtime: 20-60 style: competitive mechanics: drafting hand management\"\n",
      "score: 0.023361\n",
      "\n",
      "input:\n",
      "\"Due May 2020 - sold straight away in shrink. I’d like to play this still but it was worth too much to hold on to.\"\n",
      "score: 0.092714\n",
      "\n",
      "input:\n",
      "\"Alien is my favourite movie and I like to relive that in a dimmed kitchen with a few beers and get angry at my friends for trying to lock me in with a monster.\"\n",
      "score: 1.000000\n",
      "\n",
      "input:\n",
      "\"My first play of the game was fantastic. The art, the card play, resource gathering. It all works. Looking forward to more plays of the game. With the Pearlbrook expansion and wooden Ever tree. With Bellfaire and Spirecrest expansion.\"\n",
      "score: 1.000000\n",
      "\n",
      "input:\n",
      "\"(11/16/2016) - The LCG insanity continues, this time with a pair of core sets for Arkham Horrror: The Card Game!\"\n",
      "score: 0.999998\n",
      "\n",
      "input:\n",
      "\"The new lovercraft game, arkham + solitaire + no possibility of release in brazil. great choice for a gift\"\n",
      "score: 0.999998\n",
      "\n",
      "input:\n",
      "\"This was, I think, one of the first games I ever backed on KS. It finally arrived around 4 years after I backed it. I have the additional promo pack that was part of the KS and a box of neoprene mats.\"\n",
      "score: 1.000000\n",
      "\n",
      "input:\n",
      "\"Owned Expansions: [geekurl=/boardgameexpansion/290448/wingspan-european-expansion]Wingspan: European Expansion[/geekurl]\"\n",
      "score: 0.955994\n",
      "\n",
      "input:\n",
      "\"Kaina: 65eu http://www.stalozaidimas.lt/index.php?_route_=kosminis-vystymo-teritorinis-stalo-zaidimas-terraforming-mars\"\n",
      "score: 0.118603\n",
      "\n",
      "input:\n",
      "\"Bundle available at stonemaier's store; promos at meeplesource. Lots of expansions, big box, promos, etc. Inked Gaming has official neoprene mat.  Sleeves: Dragon Skin Japanese (clear, matte) Arcane Tinmen Tarot (clear, glossy) Swan PanAsia (premium, 44x68)\"\n",
      "score: 1.000000\n",
      "\n",
      "input:\n",
      "\"Bought for $34.99 ($38 with tax) as Amazon deal of the day, 4/23/2018. Not yet played. High priority to get this to the table ASAP. #3 top 100 solo games.\"\n",
      "score: 1.000000\n",
      "\n",
      "input:\n",
      "\"This game is awesome. They packed so much stuff into it and the value for all that you get is amazing. The artwork is awesome and they just relaunched their game. Check it out, seriously. It’s so good.   http://bit.ly/SuccubusKickstarter\"\n",
      "score: 1.000000\n",
      "\n",
      "input:\n",
      "\"Fun and beautiful game, even though sometimes your game is kind of locked when there's no synergy between your cards.\"\n",
      "score: 1.000000\n",
      "\n",
      "input:\n",
      "\"I keep hearing great things about this game. I don't think I have any other push your luck games, so I could see this being a hit with everyone.\"\n",
      "score: 0.058759\n",
      "\n",
      "input:\n",
      "\"LD. Area control game with a twist that all 4 factions are played completely different. Looks very intriguing. +++\"\n",
      "score: 0.995834\n",
      "\n",
      "input:\n",
      "\"one of the best games of the year, brilliant engine building card combo game. but way too much meanness woven into the spirit of the game unfortunately and way too long for our tastes\"\n",
      "score: 0.001715\n",
      "\n",
      "input:\n",
      "\"Initial impression: Amazing production.  Opaque and difficult to teach, but I get the sense that this game is well worth the effort.\"\n",
      "score: 0.999608\n"
     ]
    }
   ],
   "source": [
    "# some long comments\n",
    "some_long_comments = not_rated_comments.query(\"comment_len>100 and comment_len<300\").sample(frac=1)\n",
    "results = tf.sigmoid(model.predict(tf.constant(list(some_long_comments.value))))\n",
    "print_my_examples(list(some_long_comments.value), results, limit=25)"
   ]
  },
  {
   "cell_type": "code",
   "execution_count": null,
   "metadata": {},
   "outputs": [],
   "source": []
  }
 ],
 "metadata": {
  "kernelspec": {
   "display_name": "tensorflow",
   "language": "python",
   "name": "tensorflow"
  },
  "language_info": {
   "codemirror_mode": {
    "name": "ipython",
    "version": 3
   },
   "file_extension": ".py",
   "mimetype": "text/x-python",
   "name": "python",
   "nbconvert_exporter": "python",
   "pygments_lexer": "ipython3",
   "version": "3.7.3"
  }
 },
 "nbformat": 4,
 "nbformat_minor": 4
}
