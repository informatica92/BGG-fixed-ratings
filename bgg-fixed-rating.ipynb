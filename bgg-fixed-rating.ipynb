{
 "cells": [
  {
   "cell_type": "code",
   "execution_count": null,
   "metadata": {},
   "outputs": [],
   "source": [
    "# ## BGG API\n",
    "# https://www.boardgamegeek.com/xmlapi2/thing?id=161599&comments=1\n",
    "# https://www.boardgamegeek.com/xmlapi2/hot?type=boardgame\n",
    "# ## NLP WITH TF\n",
    "# https://www.tensorflow.org/hub/tutorials/tf2_text_classification"
   ]
  },
  {
   "cell_type": "code",
   "execution_count": 2,
   "metadata": {},
   "outputs": [
    {
     "name": "stdout",
     "output_type": "stream",
     "text": [
      "Version:  2.1.0\n",
      "Eager mode:  True\n",
      "Hub version:  0.12.0\n",
      "GPU is NOT AVAILABLE\n"
     ]
    }
   ],
   "source": [
    "import tensorflow as tf\n",
    "import tensorflow_hub as hub\n",
    "import tensorflow_datasets as tfds\n",
    "\n",
    "import xml.etree.ElementTree as Xet\n",
    "import matplotlib.pyplot as plt\n",
    "import pandas as pd\n",
    "import numpy as np\n",
    "import requests\n",
    "from IPython.display import Image, HTML\n",
    "\n",
    "print(\"Version: \", tf.__version__)\n",
    "print(\"Eager mode: \", tf.executing_eagerly())\n",
    "print(\"Hub version: \", hub.__version__)\n",
    "print(\"GPU is\", \"available\" if tf.config.list_physical_devices('GPU') else \"NOT AVAILABLE\")"
   ]
  },
  {
   "cell_type": "code",
   "execution_count": 3,
   "metadata": {},
   "outputs": [],
   "source": [
    "GOOD_REVIEW_THRESHOLD = 7"
   ]
  },
  {
   "cell_type": "code",
   "execution_count": 4,
   "metadata": {},
   "outputs": [],
   "source": [
    "VAL_FRACTION = 0.25"
   ]
  },
  {
   "cell_type": "markdown",
   "metadata": {},
   "source": [
    "## GET DATA"
   ]
  },
  {
   "cell_type": "code",
   "execution_count": 5,
   "metadata": {},
   "outputs": [],
   "source": [
    "def get_hot_data():\n",
    "    hot = requests.get(\"https://www.boardgamegeek.com/xmlapi2/hot?type=boardgame\").content.decode()\n",
    "  \n",
    "    # Parsing the XML file\n",
    "    xmlparse = Xet.fromstring(hot)\n",
    "\n",
    "    hot_array = []\n",
    "    for item in xmlparse:\n",
    "        dict_element = {\n",
    "            \"id\": item.get(\"id\"),\n",
    "            \"rank\": item.get(\"rank\")\n",
    "        }\n",
    "        for option in item:\n",
    "            dict_element[option.tag] = option.get(\"value\")\n",
    "        hot_array.append(dict_element)\n",
    "    return hot_array"
   ]
  },
  {
   "cell_type": "code",
   "execution_count": 6,
   "metadata": {},
   "outputs": [],
   "source": [
    "def get_comments(id_array, verbose=1):\n",
    "    max_comments_per_page = 1\n",
    "    array_ids = [h['id'] for h in id_array]\n",
    "    ids = ','.join(array_ids)\n",
    "    page_size = 100\n",
    "    page_number = 0\n",
    "    comments_array = []\n",
    "\n",
    "    while max_comments_per_page > 0 and len(array_ids) > 0:\n",
    "        page_number += 1\n",
    "        if verbose>0 and page_number%verbose==0:\n",
    "            print(f\"page number = {page_number}\", end=\" \")\n",
    "        comments = requests.get(f\"https://www.boardgamegeek.com/xmlapi2/thing?id={ids}&comments=1&pagesize={page_size}&page={page_number}\").content.decode()\n",
    "\n",
    "        # Parsing the XML file\n",
    "        xmlparse = Xet.fromstring(comments)\n",
    "        comments_per_item = []\n",
    "        for item in xmlparse:        \n",
    "            for option in item:\n",
    "                if option.tag == 'comments':\n",
    "                    comments_per_page = 0\n",
    "                    for comment in option:\n",
    "                        comments_per_page += 1\n",
    "                        dict_element = {\n",
    "                            \"id\": item.get(\"id\"),\n",
    "                            \"username\": comment.get(\"username\"),\n",
    "                            \"rating\": comment.get(\"rating\"),\n",
    "                            \"value\": comment.get(\"value\")\n",
    "                        }\n",
    "                        comments_array.append(dict_element)\n",
    "                    if comments_per_page==0:\n",
    "                        array_ids.remove(item.get(\"id\"))\n",
    "                        ids = ','.join(array_ids)\n",
    "                    comments_per_item.append(comments_per_page)\n",
    "        max_comments_per_page = max(comments_per_item)\n",
    "        if verbose>0 and page_number%verbose==0:\n",
    "            print(f\"(max: {max(comments_per_item)}, len: {len(comments_per_item)})\")\n",
    "    comments_df = pd.DataFrame(comments_array)\n",
    "    print(f\"comments_df shape: {comments_df.shape}\")\n",
    "    return comments_df"
   ]
  },
  {
   "cell_type": "code",
   "execution_count": 7,
   "metadata": {},
   "outputs": [
    {
     "data": {
      "text/plain": [
       "[{'id': '328866',\n",
       "  'rank': '1',\n",
       "  'thumbnail': 'https://cf.geekdo-images.com/N0hCcxXw8d7vUjKfsYO6vg__thumb/img/K4DDlRzl6qlQf9L_oMLb7g9WUYo=/fit-in/200x150/filters:strip_icc()/pic6121929.png',\n",
       "  'name': \"My Father's Work\",\n",
       "  'yearpublished': '2021'},\n",
       " {'id': '316624',\n",
       "  'rank': '2',\n",
       "  'thumbnail': 'https://cf.geekdo-images.com/eUiju5SqZbkNt8gnEofrTw__thumb/img/zNkmLNyeXJGOY24FeAAf4U67ejU=/fit-in/200x150/filters:strip_icc()/pic6035127.png',\n",
       "  'name': 'Stationfall',\n",
       "  'yearpublished': '2021'}]"
      ]
     },
     "execution_count": 7,
     "metadata": {},
     "output_type": "execute_result"
    }
   ],
   "source": [
    "hot_array = get_hot_data()\n",
    "hot_array[:2]"
   ]
  },
  {
   "cell_type": "code",
   "execution_count": 21,
   "metadata": {},
   "outputs": [
    {
     "name": "stdout",
     "output_type": "stream",
     "text": [
      "reading dataframe from csv file...\n"
     ]
    },
    {
     "data": {
      "text/html": [
       "<div>\n",
       "<style scoped>\n",
       "    .dataframe tbody tr th:only-of-type {\n",
       "        vertical-align: middle;\n",
       "    }\n",
       "\n",
       "    .dataframe tbody tr th {\n",
       "        vertical-align: top;\n",
       "    }\n",
       "\n",
       "    .dataframe thead th {\n",
       "        text-align: right;\n",
       "    }\n",
       "</style>\n",
       "<table border=\"1\" class=\"dataframe\">\n",
       "  <thead>\n",
       "    <tr style=\"text-align: right;\">\n",
       "      <th></th>\n",
       "      <th>id</th>\n",
       "      <th>username</th>\n",
       "      <th>rating</th>\n",
       "      <th>value</th>\n",
       "    </tr>\n",
       "  </thead>\n",
       "  <tbody>\n",
       "    <tr>\n",
       "      <th>0</th>\n",
       "      <td>328866</td>\n",
       "      <td>4tsawicki</td>\n",
       "      <td>N/A</td>\n",
       "      <td>Feb 2022</td>\n",
       "    </tr>\n",
       "    <tr>\n",
       "      <th>1</th>\n",
       "      <td>328866</td>\n",
       "      <td>alexbatbee</td>\n",
       "      <td>N/A</td>\n",
       "      <td>KS</td>\n",
       "    </tr>\n",
       "    <tr>\n",
       "      <th>2</th>\n",
       "      <td>328866</td>\n",
       "      <td>Amekins</td>\n",
       "      <td>N/A</td>\n",
       "      <td>Backer # 1267 on Kickstarter 4/27/2021 Funded ...</td>\n",
       "    </tr>\n",
       "    <tr>\n",
       "      <th>3</th>\n",
       "      <td>328866</td>\n",
       "      <td>basstoneslap</td>\n",
       "      <td>N/A</td>\n",
       "      <td>Kickstarter (February 2022)</td>\n",
       "    </tr>\n",
       "    <tr>\n",
       "      <th>4</th>\n",
       "      <td>328866</td>\n",
       "      <td>bigduff</td>\n",
       "      <td>N/A</td>\n",
       "      <td>Pre-ordered on Origames web store</td>\n",
       "    </tr>\n",
       "    <tr>\n",
       "      <th>...</th>\n",
       "      <td>...</td>\n",
       "      <td>...</td>\n",
       "      <td>...</td>\n",
       "      <td>...</td>\n",
       "    </tr>\n",
       "    <tr>\n",
       "      <th>116869</th>\n",
       "      <td>167791</td>\n",
       "      <td>z_zadar</td>\n",
       "      <td>9</td>\n",
       "      <td>Some games are so much fun. Others can be a li...</td>\n",
       "    </tr>\n",
       "    <tr>\n",
       "      <th>116870</th>\n",
       "      <td>167791</td>\n",
       "      <td>_Czid_</td>\n",
       "      <td>8</td>\n",
       "      <td>Have played with Elysium and Prelude expansion...</td>\n",
       "    </tr>\n",
       "    <tr>\n",
       "      <th>116871</th>\n",
       "      <td>167791</td>\n",
       "      <td>_Marty_</td>\n",
       "      <td>9.5</td>\n",
       "      <td>Fantastic game. With so many cards that can ch...</td>\n",
       "    </tr>\n",
       "    <tr>\n",
       "      <th>116872</th>\n",
       "      <td>167791</td>\n",
       "      <td>_mun_</td>\n",
       "      <td>10</td>\n",
       "      <td>Nagyon izgalmas játék, jó a mechanizmusa. A sz...</td>\n",
       "    </tr>\n",
       "    <tr>\n",
       "      <th>116873</th>\n",
       "      <td>167791</td>\n",
       "      <td>_The_Inquiry_</td>\n",
       "      <td>5</td>\n",
       "      <td>Prior to 2020: 2 plays  TM is one of those gam...</td>\n",
       "    </tr>\n",
       "  </tbody>\n",
       "</table>\n",
       "<p>116874 rows × 4 columns</p>\n",
       "</div>"
      ],
      "text/plain": [
       "            id       username rating  \\\n",
       "0       328866      4tsawicki    N/A   \n",
       "1       328866     alexbatbee    N/A   \n",
       "2       328866        Amekins    N/A   \n",
       "3       328866   basstoneslap    N/A   \n",
       "4       328866        bigduff    N/A   \n",
       "...        ...            ...    ...   \n",
       "116869  167791        z_zadar      9   \n",
       "116870  167791         _Czid_      8   \n",
       "116871  167791        _Marty_    9.5   \n",
       "116872  167791          _mun_     10   \n",
       "116873  167791  _The_Inquiry_      5   \n",
       "\n",
       "                                                    value  \n",
       "0                                                Feb 2022  \n",
       "1                                                      KS  \n",
       "2       Backer # 1267 on Kickstarter 4/27/2021 Funded ...  \n",
       "3                             Kickstarter (February 2022)  \n",
       "4                       Pre-ordered on Origames web store  \n",
       "...                                                   ...  \n",
       "116869  Some games are so much fun. Others can be a li...  \n",
       "116870  Have played with Elysium and Prelude expansion...  \n",
       "116871  Fantastic game. With so many cards that can ch...  \n",
       "116872  Nagyon izgalmas játék, jó a mechanizmusa. A sz...  \n",
       "116873  Prior to 2020: 2 plays  TM is one of those gam...  \n",
       "\n",
       "[116874 rows x 4 columns]"
      ]
     },
     "execution_count": 21,
     "metadata": {},
     "output_type": "execute_result"
    }
   ],
   "source": [
    "try:\n",
    "    comments_df = pd.read_csv(f\"comments_{pd.datetime.now().strftime('%Y%m%d')}.csv\")\n",
    "    comments_df['rating'] = comments_df.rating.fillna('N/A')\n",
    "    print(\"reading dataframe from csv file...\")\n",
    "except:\n",
    "    print(\"missing csv file, getting new data using API...\")\n",
    "    comments_df = get_comments(hot_array, verbose=10)\n",
    "    comments_df.to_csv(f\"comments_{pd.datetime.now().strftime('%Y%m%d')}.csv\", index=False)\n",
    "comments_df"
   ]
  },
  {
   "cell_type": "markdown",
   "metadata": {},
   "source": [
    "## SPLIT RATED AND NON-RATED COMMENTS"
   ]
  },
  {
   "cell_type": "code",
   "execution_count": 22,
   "metadata": {},
   "outputs": [
    {
     "data": {
      "text/plain": [
       "N/A                  26613\n",
       "9.0                  17937\n",
       "10.0                 17189\n",
       "8.0                  16658\n",
       "7.0                   9514\n",
       "                     ...  \n",
       "8.527999999999999        1\n",
       "8.5711                   1\n",
       "9.435                    1\n",
       "9.166                    1\n",
       "4.17                     1\n",
       "Name: rating, Length: 599, dtype: int64"
      ]
     },
     "execution_count": 22,
     "metadata": {},
     "output_type": "execute_result"
    }
   ],
   "source": [
    "# count number of comments per rating (N/A included)\n",
    "comments_df.rating.value_counts()"
   ]
  },
  {
   "cell_type": "code",
   "execution_count": 23,
   "metadata": {},
   "outputs": [
    {
     "data": {
      "text/plain": [
       "(90261, 4)"
      ]
     },
     "execution_count": 23,
     "metadata": {},
     "output_type": "execute_result"
    }
   ],
   "source": [
    "# get rated comments only\n",
    "rated_comments = comments_df.query('rating != \"N/A\"')\n",
    "rated_comments.shape"
   ]
  },
  {
   "cell_type": "code",
   "execution_count": 24,
   "metadata": {},
   "outputs": [
    {
     "data": {
      "text/plain": [
       "(26613, 4)"
      ]
     },
     "execution_count": 24,
     "metadata": {},
     "output_type": "execute_result"
    }
   ],
   "source": [
    "# get non rated comments only\n",
    "not_rated_comments = comments_df.query('rating == \"N/A\"').reset_index(drop=True)\n",
    "not_rated_comments.shape"
   ]
  },
  {
   "cell_type": "markdown",
   "metadata": {},
   "source": [
    "## CREATE TRAINING AND VALIDATION DATA"
   ]
  },
  {
   "cell_type": "code",
   "execution_count": 25,
   "metadata": {},
   "outputs": [],
   "source": [
    "# use rated comments (reviews) to train the model"
   ]
  },
  {
   "cell_type": "code",
   "execution_count": 26,
   "metadata": {},
   "outputs": [],
   "source": [
    "rated_comments = rated_comments.sample(frac=1)"
   ]
  },
  {
   "cell_type": "code",
   "execution_count": 27,
   "metadata": {},
   "outputs": [],
   "source": [
    "# create training X and y\n",
    "train_examples = list(rated_comments.value)\n",
    "train_labels = list((rated_comments.rating.astype(float)>=GOOD_REVIEW_THRESHOLD).astype(int))"
   ]
  },
  {
   "cell_type": "code",
   "execution_count": 28,
   "metadata": {},
   "outputs": [
    {
     "name": "stdout",
     "output_type": "stream",
     "text": [
      "example of positive rating:\n"
     ]
    },
    {
     "data": {
      "text/plain": [
       "'Simple, fun, very good game.'"
      ]
     },
     "execution_count": 28,
     "metadata": {},
     "output_type": "execute_result"
    }
   ],
   "source": [
    "print(\"example of positive rating:\")\n",
    "train_examples[train_labels.index(1)]"
   ]
  },
  {
   "cell_type": "code",
   "execution_count": 29,
   "metadata": {},
   "outputs": [
    {
     "name": "stdout",
     "output_type": "stream",
     "text": [
      "example of negative rating:\n"
     ]
    },
    {
     "data": {
      "text/plain": [
       "'No clue why people rave about this. Decidedly average and brings nothing new to the arena.'"
      ]
     },
     "execution_count": 29,
     "metadata": {},
     "output_type": "execute_result"
    }
   ],
   "source": [
    "print(\"example of negative rating:\")\n",
    "train_examples[train_labels.index(0)]"
   ]
  },
  {
   "cell_type": "code",
   "execution_count": 30,
   "metadata": {},
   "outputs": [],
   "source": [
    "# create validation dataset from training\n",
    "validation_len = int(len(train_examples)*VAL_FRACTION)\n",
    "validation_len\n",
    "\n",
    "x_val = train_examples[:validation_len]\n",
    "x_train = train_examples[validation_len:]\n",
    "\n",
    "y_val = train_labels[:validation_len]\n",
    "y_train = train_labels[validation_len:]"
   ]
  },
  {
   "cell_type": "markdown",
   "metadata": {},
   "source": [
    "## COMPOSE MODEL"
   ]
  },
  {
   "cell_type": "code",
   "execution_count": 31,
   "metadata": {},
   "outputs": [
    {
     "data": {
      "text/plain": [
       "<tf.Tensor: shape=(2, 50), dtype=float32, numpy=\n",
       "array([[ 0.46755072, -0.02320543,  0.22071896, -0.15638234, -0.06248093,\n",
       "        -0.16548505,  0.12768498,  0.07444887, -0.2733388 ,  0.0947848 ,\n",
       "         0.08273078, -0.1262087 ,  0.19443244, -0.11807169,  0.3041907 ,\n",
       "         0.37577832,  0.17393853,  0.24039814,  0.22214295,  0.02520681,\n",
       "        -0.00295041, -0.27314347, -0.06507327, -0.2407716 , -0.06604367,\n",
       "        -0.27780125,  0.00206299, -0.08527192,  0.03793108,  0.08759229,\n",
       "        -0.11574811,  0.21155566, -0.01900212, -0.1326804 , -0.02752361,\n",
       "         0.06245934,  0.01123472, -0.11676064, -0.05197624, -0.20400001,\n",
       "         0.04676122, -0.09984155, -0.00339163, -0.08538881,  0.16018741,\n",
       "        -0.18294655, -0.05511319, -0.07354705, -0.07645508,  0.02568765],\n",
       "       [ 0.58989614,  0.44516218, -0.18534064,  0.32290488, -0.03633055,\n",
       "         0.00314981,  0.16263133,  0.04787018, -0.6975449 ,  0.5575817 ,\n",
       "         0.3109313 ,  0.31570143, -0.08539514,  0.3128588 , -0.15841687,\n",
       "         0.03743917, -0.7853795 ,  0.00499173,  0.5164652 , -0.9640211 ,\n",
       "         0.17346755, -0.11289407,  0.40990287,  0.10375368, -0.26292092,\n",
       "         0.05995578, -0.9678066 ,  0.00998341,  0.12602888, -0.5252998 ,\n",
       "        -0.23907907,  0.27762038,  0.66949886, -0.565688  , -0.14154528,\n",
       "         0.15042654, -0.03425898, -0.3326998 ,  0.34459457, -0.63963217,\n",
       "         0.22611678,  0.1290062 ,  0.1597751 ,  0.26546234, -0.11521906,\n",
       "         0.12241737, -0.6374146 , -0.5074252 , -0.04997716,  0.24339859]],\n",
       "      dtype=float32)>"
      ]
     },
     "execution_count": 31,
     "metadata": {},
     "output_type": "execute_result"
    }
   ],
   "source": [
    "model = \"https://tfhub.dev/google/nnlm-en-dim50/2\"\n",
    "hub_layer = hub.KerasLayer(model, input_shape=[], dtype=tf.string, trainable=True)\n",
    "hub_layer(train_examples[:2])"
   ]
  },
  {
   "cell_type": "code",
   "execution_count": 32,
   "metadata": {},
   "outputs": [
    {
     "name": "stdout",
     "output_type": "stream",
     "text": [
      "Model: \"sequential\"\n",
      "_________________________________________________________________\n",
      "Layer (type)                 Output Shape              Param #   \n",
      "=================================================================\n",
      "keras_layer (KerasLayer)     (None, 50)                48190600  \n",
      "_________________________________________________________________\n",
      "dense (Dense)                (None, 16)                816       \n",
      "_________________________________________________________________\n",
      "dense_1 (Dense)              (None, 1)                 17        \n",
      "=================================================================\n",
      "Total params: 48,191,433\n",
      "Trainable params: 48,191,433\n",
      "Non-trainable params: 0\n",
      "_________________________________________________________________\n"
     ]
    }
   ],
   "source": [
    "model = tf.keras.Sequential()\n",
    "model.add(hub_layer)\n",
    "model.add(tf.keras.layers.Dense(16, activation='relu'))\n",
    "model.add(tf.keras.layers.Dense(1))\n",
    "\n",
    "model.summary()"
   ]
  },
  {
   "cell_type": "code",
   "execution_count": 33,
   "metadata": {},
   "outputs": [],
   "source": [
    "model.compile(\n",
    "    optimizer='adam',\n",
    "    loss=tf.losses.BinaryCrossentropy(from_logits=True),\n",
    "    metrics=[tf.metrics.BinaryAccuracy(threshold=0.0, name='accuracy')]\n",
    ")"
   ]
  },
  {
   "cell_type": "markdown",
   "metadata": {},
   "source": [
    "## TRAINING MODEL "
   ]
  },
  {
   "cell_type": "code",
   "execution_count": 34,
   "metadata": {},
   "outputs": [
    {
     "name": "stdout",
     "output_type": "stream",
     "text": [
      "Train on 67696 samples, validate on 22565 samples\n",
      "Epoch 1/40\n",
      "67696/67696 - 41s - loss: 0.4690 - accuracy: 0.8310 - val_loss: 0.3681 - val_accuracy: 0.8529\n",
      "Epoch 2/40\n",
      "67696/67696 - 40s - loss: 0.3213 - accuracy: 0.8714 - val_loss: 0.3207 - val_accuracy: 0.8748\n",
      "Epoch 3/40\n",
      "67696/67696 - 41s - loss: 0.2709 - accuracy: 0.8924 - val_loss: 0.3133 - val_accuracy: 0.8780\n",
      "Epoch 4/40\n",
      "67696/67696 - 41s - loss: 0.2400 - accuracy: 0.9043 - val_loss: 0.3187 - val_accuracy: 0.8759\n",
      "Epoch 5/40\n",
      "67696/67696 - 41s - loss: 0.2169 - accuracy: 0.9149 - val_loss: 0.3295 - val_accuracy: 0.8717\n",
      "Epoch 6/40\n",
      "67696/67696 - 40s - loss: 0.1982 - accuracy: 0.9235 - val_loss: 0.3477 - val_accuracy: 0.8686\n",
      "Epoch 7/40\n",
      "67696/67696 - 40s - loss: 0.1832 - accuracy: 0.9301 - val_loss: 0.3681 - val_accuracy: 0.8654\n",
      "Epoch 8/40\n",
      "67696/67696 - 40s - loss: 0.1704 - accuracy: 0.9347 - val_loss: 0.3883 - val_accuracy: 0.8558\n",
      "Epoch 9/40\n",
      "67696/67696 - 40s - loss: 0.1581 - accuracy: 0.9398 - val_loss: 0.4076 - val_accuracy: 0.8572\n",
      "Epoch 10/40\n",
      "67696/67696 - 41s - loss: 0.1480 - accuracy: 0.9445 - val_loss: 0.4329 - val_accuracy: 0.8564\n",
      "Epoch 11/40\n",
      "67696/67696 - 41s - loss: 0.1380 - accuracy: 0.9476 - val_loss: 0.4565 - val_accuracy: 0.8549\n",
      "Epoch 12/40\n",
      "67696/67696 - 41s - loss: 0.1292 - accuracy: 0.9512 - val_loss: 0.4835 - val_accuracy: 0.8533\n",
      "Epoch 13/40\n",
      "67696/67696 - 40s - loss: 0.1213 - accuracy: 0.9544 - val_loss: 0.5153 - val_accuracy: 0.8529\n",
      "Epoch 14/40\n",
      "67696/67696 - 40s - loss: 0.1132 - accuracy: 0.9576 - val_loss: 0.5464 - val_accuracy: 0.8479\n",
      "Epoch 15/40\n",
      "67696/67696 - 40s - loss: 0.1073 - accuracy: 0.9592 - val_loss: 0.5754 - val_accuracy: 0.8498\n",
      "Epoch 16/40\n",
      "67696/67696 - 41s - loss: 0.0996 - accuracy: 0.9627 - val_loss: 0.6231 - val_accuracy: 0.8490\n",
      "Epoch 17/40\n",
      "67696/67696 - 40s - loss: 0.0931 - accuracy: 0.9652 - val_loss: 0.6556 - val_accuracy: 0.8491\n",
      "Epoch 18/40\n",
      "67696/67696 - 40s - loss: 0.0874 - accuracy: 0.9672 - val_loss: 0.6959 - val_accuracy: 0.8447\n",
      "Epoch 19/40\n",
      "67696/67696 - 40s - loss: 0.0813 - accuracy: 0.9704 - val_loss: 0.7347 - val_accuracy: 0.8426\n",
      "Epoch 20/40\n",
      "67696/67696 - 40s - loss: 0.0770 - accuracy: 0.9715 - val_loss: 0.7740 - val_accuracy: 0.8424\n",
      "Epoch 21/40\n",
      "67696/67696 - 40s - loss: 0.0717 - accuracy: 0.9736 - val_loss: 0.8144 - val_accuracy: 0.8433\n",
      "Epoch 22/40\n",
      "67696/67696 - 40s - loss: 0.0668 - accuracy: 0.9757 - val_loss: 0.8585 - val_accuracy: 0.8401\n",
      "Epoch 23/40\n",
      "67696/67696 - 40s - loss: 0.0625 - accuracy: 0.9775 - val_loss: 0.9076 - val_accuracy: 0.8404\n",
      "Epoch 24/40\n",
      "67696/67696 - 41s - loss: 0.0586 - accuracy: 0.9787 - val_loss: 0.9489 - val_accuracy: 0.8421\n",
      "Epoch 25/40\n",
      "67696/67696 - 40s - loss: 0.0547 - accuracy: 0.9802 - val_loss: 1.0052 - val_accuracy: 0.8375\n",
      "Epoch 26/40\n",
      "67696/67696 - 40s - loss: 0.0510 - accuracy: 0.9814 - val_loss: 1.0439 - val_accuracy: 0.8391\n",
      "Epoch 27/40\n",
      "67696/67696 - 40s - loss: 0.0479 - accuracy: 0.9825 - val_loss: 1.0824 - val_accuracy: 0.8385\n",
      "Epoch 28/40\n",
      "67696/67696 - 41s - loss: 0.0448 - accuracy: 0.9837 - val_loss: 1.1362 - val_accuracy: 0.8371\n",
      "Epoch 29/40\n",
      "67696/67696 - 41s - loss: 0.0420 - accuracy: 0.9841 - val_loss: 1.1765 - val_accuracy: 0.8379\n",
      "Epoch 30/40\n",
      "67696/67696 - 41s - loss: 0.0394 - accuracy: 0.9849 - val_loss: 1.2115 - val_accuracy: 0.8377\n",
      "Epoch 31/40\n",
      "67696/67696 - 40s - loss: 0.0372 - accuracy: 0.9854 - val_loss: 1.2468 - val_accuracy: 0.8376\n",
      "Epoch 32/40\n",
      "67696/67696 - 40s - loss: 0.0356 - accuracy: 0.9858 - val_loss: 1.2992 - val_accuracy: 0.8379\n",
      "Epoch 33/40\n",
      "67696/67696 - 40s - loss: 0.0340 - accuracy: 0.9863 - val_loss: 1.3404 - val_accuracy: 0.8371\n",
      "Epoch 34/40\n",
      "67696/67696 - 40s - loss: 0.0319 - accuracy: 0.9864 - val_loss: 1.3733 - val_accuracy: 0.8365\n",
      "Epoch 35/40\n",
      "67696/67696 - 40s - loss: 0.0302 - accuracy: 0.9869 - val_loss: 1.4169 - val_accuracy: 0.8380\n",
      "Epoch 36/40\n",
      "67696/67696 - 40s - loss: 0.0285 - accuracy: 0.9875 - val_loss: 1.4612 - val_accuracy: 0.8360\n",
      "Epoch 37/40\n",
      "67696/67696 - 40s - loss: 0.0274 - accuracy: 0.9896 - val_loss: 1.5096 - val_accuracy: 0.8353\n",
      "Epoch 38/40\n",
      "67696/67696 - 40s - loss: 0.0262 - accuracy: 0.9904 - val_loss: 1.5397 - val_accuracy: 0.8339\n",
      "Epoch 39/40\n",
      "67696/67696 - 40s - loss: 0.0255 - accuracy: 0.9908 - val_loss: 1.5828 - val_accuracy: 0.8327\n",
      "Epoch 40/40\n",
      "67696/67696 - 40s - loss: 0.0244 - accuracy: 0.9916 - val_loss: 1.6199 - val_accuracy: 0.8335\n"
     ]
    }
   ],
   "source": [
    "history = model.fit(\n",
    "    x_train,\n",
    "    y_train,\n",
    "    epochs=40,\n",
    "    batch_size=512,\n",
    "    validation_data=(x_val, y_val),\n",
    "    verbose=2\n",
    ")"
   ]
  },
  {
   "cell_type": "code",
   "execution_count": 35,
   "metadata": {},
   "outputs": [
    {
     "data": {
      "text/plain": [
       "dict_keys(['loss', 'accuracy', 'val_loss', 'val_accuracy'])"
      ]
     },
     "execution_count": 35,
     "metadata": {},
     "output_type": "execute_result"
    }
   ],
   "source": [
    "history_dict = history.history\n",
    "history_dict.keys()"
   ]
  },
  {
   "cell_type": "code",
   "execution_count": 36,
   "metadata": {},
   "outputs": [],
   "source": [
    "acc = history_dict['accuracy']\n",
    "val_acc = history_dict['val_accuracy']\n",
    "loss = history_dict['loss']\n",
    "val_loss = history_dict['val_loss']"
   ]
  },
  {
   "cell_type": "code",
   "execution_count": 37,
   "metadata": {},
   "outputs": [],
   "source": [
    "epochs = range(1, len(acc) + 1) "
   ]
  },
  {
   "cell_type": "code",
   "execution_count": 38,
   "metadata": {},
   "outputs": [
    {
     "data": {
      "image/png": "[encoded data removed]",
      "text/plain": [
       "<Figure size 648x360 with 1 Axes>"
      ]
     },
     "metadata": {
      "needs_background": "light"
     },
     "output_type": "display_data"
    }
   ],
   "source": [
    "# \"bo\" is for \"blue dot\"\n",
    "plt.figure(figsize=(9, 5))\n",
    "plt.plot(epochs, loss, 'bo', label='Training loss')\n",
    "# b is for \"solid blue line\"\n",
    "plt.plot(epochs, val_loss, 'b', label='Validation loss')\n",
    "plt.title('Training and validation loss')\n",
    "plt.xlabel('Epochs')\n",
    "plt.ylabel('Loss')\n",
    "plt.grid(True)\n",
    "plt.legend()\n",
    "\n",
    "plt.show()"
   ]
  },
  {
   "cell_type": "code",
   "execution_count": 39,
   "metadata": {},
   "outputs": [
    {
     "data": {
      "image/png": "[encoded data removed]",
      "text/plain": [
       "<Figure size 648x360 with 1 Axes>"
      ]
     },
     "metadata": {
      "needs_background": "light"
     },
     "output_type": "display_data"
    }
   ],
   "source": [
    "plt.figure(figsize=(9, 5))\n",
    "plt.plot(epochs, acc, 'bo', label='Training acc')\n",
    "plt.plot(epochs, val_acc, 'b', label='Validation acc')\n",
    "plt.title('Training and validation accuracy')\n",
    "plt.xlabel('Epochs')\n",
    "plt.ylabel('Accuracy')\n",
    "plt.grid(True)\n",
    "plt.legend()\n",
    "\n",
    "plt.show()"
   ]
  },
  {
   "cell_type": "code",
   "execution_count": 40,
   "metadata": {},
   "outputs": [],
   "source": [
    "def print_my_examples(inputs, results, actual_values=None, limit=None):\n",
    "    if actual_values is None:\n",
    "        result_for_printing = [f'input:\\n\"{inputs[i]}\"\\nscore: {results[i][0]:.6f}' for i in range(len(inputs))]\n",
    "    else:\n",
    "        result_for_printing = [f'input:\\n\"{inputs[i]}\"\\nscore: {results[i][0]:.6f}\\nactual value:{actual_values[i]}' for i in range(len(inputs))]\n",
    "    if limit:\n",
    "        result_for_printing = result_for_printing[:limit]\n",
    "    print(*result_for_printing, sep='\\n\\n')"
   ]
  },
  {
   "cell_type": "code",
   "execution_count": 41,
   "metadata": {},
   "outputs": [
    {
     "name": "stdout",
     "output_type": "stream",
     "text": [
      "input:\n",
      "\"This is a racing game, perhaps in the abstract but none the less a racing game.  It is possible that one might beat the player who triggered the ending, but this is highly unlikely with experienced players.  The first half of the game is fun, but the second half seems to be over too quickly.  One player scored twenty points in one turn and bam the game was over.  The cards seem very swingy, with some very powerful no matter what and others being powerful only under certain conditions or with a few actions necessary to maximize results.  The variance in the cards I guess is fine because they are random draws but the cards can really break the game, which again is ok if they are all in the same league of breaking ability.  However, there were many cards that just seemed worthless or so specific in conditions as to rarely occur.    Ultimately, I don't hate the game but I think it really needs work for me to want to play it more than once in awhile.  For example, more locations would be good.  A place where you could trade cards for another card.  Or in a five player game, two bonuses per location for first and second player (first bonus better than the second).  Perhaps a way to make trading cards better with investment.  Perhaps even end points for buildings.  I don't know it just felt like the game was really building up and that was fun, and then bam, game is over.  The ending felt very premature and I am not sure I found it cleaver.\"\n",
      "score: 0.000000\n",
      "actual value:0\n",
      "\n",
      "input:\n",
      "\"Temporary rating, but can't wait to play again.  The biggest surprise was that it's not a hard teach at all!\"\n",
      "score: 0.999985\n",
      "actual value:1\n",
      "\n",
      "input:\n",
      "\"What I like:  the cards have two uses, and also are the game timer, and also are your health (sort of).  Very clever!  I like the idea of a campaign story ladder.  The different classes feel different.  Not the same old boring fantasy classes (wizard, warrior etc.) or races.  What I don't like:  the actual game doesn't blow me away.  It feels very same-y play after play.  Enter a dungeon, kill everything.  Maybe you need to throw something in a hole instead, but you're still more or less entering a dungeon to kill everything.  Again, and again, and again.  It's fine, but I feel there's something lacking.  Warhammer Quest, a much older game, felt like it varied things up more, somehow...I like Gloomhaven OK, but definitely not as much as everyone else seems to.\"\n",
      "score: 0.995282\n",
      "actual value:1\n",
      "\n",
      "input:\n",
      "\"One of my wife's and I's favorite game. The mechanisms match with the theme so well that it draws you in, and you sometimes forget about the victory points.\"\n",
      "score: 0.999956\n",
      "actual value:1\n",
      "\n",
      "input:\n",
      "\"SS13 the board game with good player actions, intrigue, and secret goals. Excellent flavor, very tense, one of the best theme games I've played. Very fun even being backstabbed sometimes!\"\n",
      "score: 1.000000\n",
      "actual value:1\n",
      "\n",
      "input:\n",
      "\"Initial Impression: 9 Lots of great decisions to make. Plays fast and fun!\"\n",
      "score: 0.999995\n",
      "actual value:1\n",
      "\n",
      "input:\n",
      "\"Only played solo but it’s quick smooth and very thinking. Score could still go up as I continue to play.\"\n",
      "score: 0.987066\n",
      "actual value:1\n",
      "\n",
      "input:\n",
      "\"Played two TTS games and really enjoyed it, more so than I had expected to. My score is based on that. The only reason I dont make it a ten is because its hard explain and teach. Its a complex game but it feels hard to follow for new players in the first rounds.\"\n",
      "score: 0.996322\n",
      "actual value:1\n",
      "\n",
      "input:\n",
      "\"So light, yet so good. This game is Spiel worthy, and it's success is a testimony to how approachable and fun it is.\"\n",
      "score: 1.000000\n",
      "actual value:1\n",
      "\n",
      "input:\n",
      "\"I gave Gloomhaven a 7/10 b/c of setup/teardown, and other issues. Jaws of the Lion is 7.5/10 for adjusting setup and teardown but still not phenomenal, unlike the hype train that departed. Instead of tons of cardboard tile maps we get a book. OK. Where is the justification for a 10/10 for this when you are not saving much time by searching a few minutes for a cardboard tile? My main gripe was setting up enemy boards, shuffling their cards, cards, and more cards, and setting out player boards, deciding scenario cards, and then shuffling more cards. Cut out/diminish this card aspect and then that is a time saver and possibly higher than a 7.5/10.\"\n",
      "score: 1.000000\n",
      "actual value:1\n"
     ]
    }
   ],
   "source": [
    "inputs = x_train[:10]\n",
    "outputs = y_train[:10]\n",
    "results = tf.sigmoid(model.predict(tf.constant(inputs)))\n",
    "print_my_examples(inputs, results, outputs)"
   ]
  },
  {
   "cell_type": "code",
   "execution_count": 42,
   "metadata": {},
   "outputs": [],
   "source": [
    "## APPLY MODEL ON NON-RATED COMMENTS"
   ]
  },
  {
   "cell_type": "code",
   "execution_count": 46,
   "metadata": {},
   "outputs": [
    {
     "name": "stdout",
     "output_type": "stream",
     "text": [
      "input:\n",
      "\"1–5 Players Best 4 90–115 Min \"\n",
      "score: 1.000000\n",
      "\n",
      "input:\n",
      "\"Intense game.  It's all about the hidden scoring, which is revealed at the end.  Kinds reminded me of the bonus cards at the end of Stone Age.  Seems it's best to specialize in one area.  In the game I played the winner (who wasn't me), got 7 scoring cards for areas and was able to build in all 12 areas for a 84 points in that one category.  Good healthy tension throughout the game as there is always more you want to do.\"\n",
      "score: 1.000000\n",
      "\n",
      "input:\n",
      "\"NIS  3.9\"\n",
      "score: 0.103566\n",
      "\n",
      "input:\n",
      "\"agost 2021  https://www.kickstarter.com/projects/matagot/kemet-blood-and-sand?ref=user_menu\"\n",
      "score: 0.253931\n",
      "\n",
      "input:\n",
      "\"Top of D\"\n",
      "score: 0.999224\n",
      "\n",
      "input:\n",
      "\"Individual Up for Sale \"\n",
      "score: 1.000000\n",
      "\n",
      "input:\n",
      "\"2020 - Purchased from 401 Games\"\n",
      "score: 0.987447\n",
      "\n",
      "input:\n",
      "\"inkl. Metallmünzen\"\n",
      "score: 0.613820\n",
      "\n",
      "input:\n",
      "\"Cull candidate:  Need to play to see if 2p is as loose as and solitaire/nonconfrontational it looks. (Which I don't like)  Still looks like fun so so far looks like a keeper but need to play before deciding.\"\n",
      "score: 0.999988\n",
      "\n",
      "input:\n",
      "\"3-7\"\n",
      "score: 0.962012\n",
      "\n",
      "input:\n",
      "\"***\"\n",
      "score: 1.000000\n",
      "\n",
      "input:\n",
      "\"6 Players\"\n",
      "score: 0.980692\n",
      "\n",
      "input:\n",
      "\"1–5 Players 90–115 Min Playing Time Age: 14+\"\n",
      "score: 1.000000\n",
      "\n",
      "input:\n",
      "\"5th edition (not printing)\"\n",
      "score: 0.999821\n",
      "\n",
      "input:\n",
      "\"Brand new and Sleeved.  Love this little game.\"\n",
      "score: 1.000000\n",
      "\n",
      "input:\n",
      "\"102\"\n",
      "score: 0.903685\n",
      "\n",
      "input:\n",
      "\"Nowy Wspaniały Świat\"\n",
      "score: 0.890685\n",
      "\n",
      "input:\n",
      "\"Keeping.\"\n",
      "score: 0.882574\n",
      "\n",
      "input:\n",
      "\"hand management tile placement\"\n",
      "score: 0.955180\n",
      "\n",
      "input:\n",
      "\"Got a used copy.... still unplayed...  :(\"\n",
      "score: 0.999998\n",
      "\n",
      "input:\n",
      "\"not sleeved\"\n",
      "score: 0.688017\n",
      "\n",
      "input:\n",
      "\"Candidato Goblin Magnifico\"\n",
      "score: 1.000000\n",
      "\n",
      "input:\n",
      "\"2-5 players\"\n",
      "score: 0.999999\n",
      "\n",
      "input:\n",
      "\"Kickstarter edition includes Branch & Claw and Jagged Island expansions, as well as Promo Packs 1 and 2, and Errata Pack, stored in a Folded Space insert\"\n",
      "score: 1.000000\n",
      "\n",
      "input:\n",
      "\"Brad\"\n",
      "score: 0.999991\n"
     ]
    }
   ],
   "source": [
    "not_rated_comments = not_rated_comments.sample(frac=1)\n",
    "results = tf.sigmoid(model.predict(tf.constant(list(not_rated_comments.value.astype(str)))))\n",
    "print_my_examples(list(not_rated_comments.value), results, limit=25)"
   ]
  },
  {
   "cell_type": "markdown",
   "metadata": {},
   "source": [
    "## COMBINE RATED COMMENTS AND NOT-RATED COMMENTS WITH PREDICTED RATING"
   ]
  },
  {
   "cell_type": "code",
   "execution_count": 47,
   "metadata": {},
   "outputs": [
    {
     "data": {
      "text/html": [
       "<div>\n",
       "<style scoped>\n",
       "    .dataframe tbody tr th:only-of-type {\n",
       "        vertical-align: middle;\n",
       "    }\n",
       "\n",
       "    .dataframe tbody tr th {\n",
       "        vertical-align: top;\n",
       "    }\n",
       "\n",
       "    .dataframe thead th {\n",
       "        text-align: right;\n",
       "    }\n",
       "</style>\n",
       "<table border=\"1\" class=\"dataframe\">\n",
       "  <thead>\n",
       "    <tr style=\"text-align: right;\">\n",
       "      <th></th>\n",
       "      <th>id</th>\n",
       "      <th>username</th>\n",
       "      <th>rating</th>\n",
       "      <th>value</th>\n",
       "    </tr>\n",
       "  </thead>\n",
       "  <tbody>\n",
       "    <tr>\n",
       "      <th>34199</th>\n",
       "      <td>284083</td>\n",
       "      <td>jacky123kai</td>\n",
       "      <td>10</td>\n",
       "      <td>Simple, fun, very good game.</td>\n",
       "    </tr>\n",
       "    <tr>\n",
       "      <th>85637</th>\n",
       "      <td>124361</td>\n",
       "      <td>skutsch</td>\n",
       "      <td>9</td>\n",
       "      <td>Elegant gameplay but with some depth (that I h...</td>\n",
       "    </tr>\n",
       "    <tr>\n",
       "      <th>116802</th>\n",
       "      <td>167791</td>\n",
       "      <td>zerstorer88</td>\n",
       "      <td>10</td>\n",
       "      <td>Very fine!  Excellenti Calienti!</td>\n",
       "    </tr>\n",
       "    <tr>\n",
       "      <th>32751</th>\n",
       "      <td>174430</td>\n",
       "      <td>brewgeek</td>\n",
       "      <td>9</td>\n",
       "      <td>KS this.</td>\n",
       "    </tr>\n",
       "    <tr>\n",
       "      <th>94903</th>\n",
       "      <td>266192</td>\n",
       "      <td>RippedFromTheCrypt</td>\n",
       "      <td>6.5</td>\n",
       "      <td>No clue why people rave about this. Decidedly ...</td>\n",
       "    </tr>\n",
       "  </tbody>\n",
       "</table>\n",
       "</div>"
      ],
      "text/plain": [
       "            id            username rating  \\\n",
       "34199   284083         jacky123kai     10   \n",
       "85637   124361             skutsch      9   \n",
       "116802  167791         zerstorer88     10   \n",
       "32751   174430            brewgeek      9   \n",
       "94903   266192  RippedFromTheCrypt    6.5   \n",
       "\n",
       "                                                    value  \n",
       "34199                        Simple, fun, very good game.  \n",
       "85637   Elegant gameplay but with some depth (that I h...  \n",
       "116802                   Very fine!  Excellenti Calienti!  \n",
       "32751                                            KS this.  \n",
       "94903   No clue why people rave about this. Decidedly ...  "
      ]
     },
     "execution_count": 47,
     "metadata": {},
     "output_type": "execute_result"
    }
   ],
   "source": [
    "rated_comments.head()"
   ]
  },
  {
   "cell_type": "code",
   "execution_count": 48,
   "metadata": {},
   "outputs": [
    {
     "data": {
      "text/html": [
       "<div>\n",
       "<style scoped>\n",
       "    .dataframe tbody tr th:only-of-type {\n",
       "        vertical-align: middle;\n",
       "    }\n",
       "\n",
       "    .dataframe tbody tr th {\n",
       "        vertical-align: top;\n",
       "    }\n",
       "\n",
       "    .dataframe thead th {\n",
       "        text-align: right;\n",
       "    }\n",
       "</style>\n",
       "<table border=\"1\" class=\"dataframe\">\n",
       "  <thead>\n",
       "    <tr style=\"text-align: right;\">\n",
       "      <th></th>\n",
       "      <th>id</th>\n",
       "      <th>rating_mean</th>\n",
       "      <th>rating_count</th>\n",
       "    </tr>\n",
       "  </thead>\n",
       "  <tbody>\n",
       "    <tr>\n",
       "      <th>0</th>\n",
       "      <td>115746</td>\n",
       "      <td>8.727459</td>\n",
       "      <td>1893</td>\n",
       "    </tr>\n",
       "    <tr>\n",
       "      <th>1</th>\n",
       "      <td>124361</td>\n",
       "      <td>8.183466</td>\n",
       "      <td>3828</td>\n",
       "    </tr>\n",
       "    <tr>\n",
       "      <th>2</th>\n",
       "      <td>148228</td>\n",
       "      <td>7.381163</td>\n",
       "      <td>7294</td>\n",
       "    </tr>\n",
       "    <tr>\n",
       "      <th>3</th>\n",
       "      <td>162886</td>\n",
       "      <td>8.349107</td>\n",
       "      <td>3474</td>\n",
       "    </tr>\n",
       "    <tr>\n",
       "      <th>4</th>\n",
       "      <td>167355</td>\n",
       "      <td>8.418500</td>\n",
       "      <td>1772</td>\n",
       "    </tr>\n",
       "  </tbody>\n",
       "</table>\n",
       "</div>"
      ],
      "text/plain": [
       "       id  rating_mean  rating_count\n",
       "0  115746     8.727459          1893\n",
       "1  124361     8.183466          3828\n",
       "2  148228     7.381163          7294\n",
       "3  162886     8.349107          3474\n",
       "4  167355     8.418500          1772"
      ]
     },
     "execution_count": 48,
     "metadata": {},
     "output_type": "execute_result"
    }
   ],
   "source": [
    "rated_comments['rating'] = rated_comments.rating.astype(float)\n",
    "rated_comments_grouped = rated_comments.groupby('id').agg({'rating': ['mean', 'count']})\n",
    "rated_comments_grouped.columns = list(rated_comments_grouped.columns.map('_'.join))\n",
    "rated_comments_grouped = rated_comments_grouped.reset_index()\n",
    "rated_comments_grouped.head()"
   ]
  },
  {
   "cell_type": "code",
   "execution_count": 49,
   "metadata": {},
   "outputs": [],
   "source": [
    "not_rated_comments['rating'] = [round(float(r[0])*10, 1) for r in results]"
   ]
  },
  {
   "cell_type": "code",
   "execution_count": 50,
   "metadata": {},
   "outputs": [
    {
     "data": {
      "text/html": [
       "<div>\n",
       "<style scoped>\n",
       "    .dataframe tbody tr th:only-of-type {\n",
       "        vertical-align: middle;\n",
       "    }\n",
       "\n",
       "    .dataframe tbody tr th {\n",
       "        vertical-align: top;\n",
       "    }\n",
       "\n",
       "    .dataframe thead th {\n",
       "        text-align: right;\n",
       "    }\n",
       "</style>\n",
       "<table border=\"1\" class=\"dataframe\">\n",
       "  <thead>\n",
       "    <tr style=\"text-align: right;\">\n",
       "      <th></th>\n",
       "      <th>id</th>\n",
       "      <th>rating_mean</th>\n",
       "      <th>rating_count</th>\n",
       "    </tr>\n",
       "  </thead>\n",
       "  <tbody>\n",
       "    <tr>\n",
       "      <th>0</th>\n",
       "      <td>115746</td>\n",
       "      <td>8.832006</td>\n",
       "      <td>703</td>\n",
       "    </tr>\n",
       "    <tr>\n",
       "      <th>1</th>\n",
       "      <td>124361</td>\n",
       "      <td>8.877467</td>\n",
       "      <td>821</td>\n",
       "    </tr>\n",
       "    <tr>\n",
       "      <th>2</th>\n",
       "      <td>148228</td>\n",
       "      <td>8.487179</td>\n",
       "      <td>1482</td>\n",
       "    </tr>\n",
       "    <tr>\n",
       "      <th>3</th>\n",
       "      <td>162886</td>\n",
       "      <td>8.792270</td>\n",
       "      <td>1022</td>\n",
       "    </tr>\n",
       "    <tr>\n",
       "      <th>4</th>\n",
       "      <td>167355</td>\n",
       "      <td>8.850812</td>\n",
       "      <td>677</td>\n",
       "    </tr>\n",
       "  </tbody>\n",
       "</table>\n",
       "</div>"
      ],
      "text/plain": [
       "       id  rating_mean  rating_count\n",
       "0  115746     8.832006           703\n",
       "1  124361     8.877467           821\n",
       "2  148228     8.487179          1482\n",
       "3  162886     8.792270          1022\n",
       "4  167355     8.850812           677"
      ]
     },
     "execution_count": 50,
     "metadata": {},
     "output_type": "execute_result"
    }
   ],
   "source": [
    "not_rated_comments['rating'] = not_rated_comments.rating.astype(float)\n",
    "not_rated_comments_grouped = not_rated_comments.groupby('id').agg({'rating': ['mean', 'count']})\n",
    "not_rated_comments_grouped.columns = list(not_rated_comments_grouped.columns.map('_'.join))\n",
    "not_rated_comments_grouped = not_rated_comments_grouped.reset_index()\n",
    "not_rated_comments_grouped.head()"
   ]
  },
  {
   "cell_type": "code",
   "execution_count": 55,
   "metadata": {},
   "outputs": [],
   "source": [
    "grouped = rated_comments_grouped.merge(not_rated_comments_grouped, on='id', suffixes=('_review', '_comments'))\n",
    "grouped['id'] = grouped.id.astype(str)\n",
    "grouped = grouped.merge(pd.DataFrame(hot_array), on='id')\n",
    "grouped['rank'] = grouped['rank'].astype(int)\n",
    "grouped['url'] = grouped['id'].apply(lambda x: f\"https://boardgamegeek.com/boardgame/{x}\")"
   ]
  },
  {
   "cell_type": "code",
   "execution_count": 56,
   "metadata": {},
   "outputs": [
    {
     "data": {
      "text/html": [
       "<div>\n",
       "<style scoped>\n",
       "    .dataframe tbody tr th:only-of-type {\n",
       "        vertical-align: middle;\n",
       "    }\n",
       "\n",
       "    .dataframe tbody tr th {\n",
       "        vertical-align: top;\n",
       "    }\n",
       "\n",
       "    .dataframe thead th {\n",
       "        text-align: right;\n",
       "    }\n",
       "</style>\n",
       "<table border=\"1\" class=\"dataframe\">\n",
       "  <thead>\n",
       "    <tr style=\"text-align: right;\">\n",
       "      <th></th>\n",
       "      <th>id</th>\n",
       "      <th>rating_mean_review</th>\n",
       "      <th>rating_count_review</th>\n",
       "      <th>rating_mean_comments</th>\n",
       "      <th>rating_count_comments</th>\n",
       "      <th>rank</th>\n",
       "      <th>thumbnail</th>\n",
       "      <th>name</th>\n",
       "      <th>yearpublished</th>\n",
       "      <th>url</th>\n",
       "    </tr>\n",
       "  </thead>\n",
       "  <tbody>\n",
       "    <tr>\n",
       "      <th>0</th>\n",
       "      <td>115746</td>\n",
       "      <td>8.727459</td>\n",
       "      <td>1893</td>\n",
       "      <td>8.832006</td>\n",
       "      <td>703</td>\n",
       "      <td>47</td>\n",
       "      <td>https://cf.geekdo-images.com/ImPgGag98W6gpV1KV...</td>\n",
       "      <td>War of the Ring: Second Edition</td>\n",
       "      <td>2012</td>\n",
       "      <td>https://boardgamegeek.com/boardgame/115746</td>\n",
       "    </tr>\n",
       "    <tr>\n",
       "      <th>1</th>\n",
       "      <td>124361</td>\n",
       "      <td>8.183466</td>\n",
       "      <td>3828</td>\n",
       "      <td>8.877467</td>\n",
       "      <td>821</td>\n",
       "      <td>45</td>\n",
       "      <td>https://cf.geekdo-images.com/CzwSm8i7tkLz6cBnr...</td>\n",
       "      <td>Concordia</td>\n",
       "      <td>2013</td>\n",
       "      <td>https://boardgamegeek.com/boardgame/124361</td>\n",
       "    </tr>\n",
       "    <tr>\n",
       "      <th>2</th>\n",
       "      <td>148228</td>\n",
       "      <td>7.381163</td>\n",
       "      <td>7294</td>\n",
       "      <td>8.487179</td>\n",
       "      <td>1482</td>\n",
       "      <td>46</td>\n",
       "      <td>https://cf.geekdo-images.com/rwOMxx4q5yuElIvo-...</td>\n",
       "      <td>Splendor</td>\n",
       "      <td>2014</td>\n",
       "      <td>https://boardgamegeek.com/boardgame/148228</td>\n",
       "    </tr>\n",
       "    <tr>\n",
       "      <th>3</th>\n",
       "      <td>162886</td>\n",
       "      <td>8.349107</td>\n",
       "      <td>3474</td>\n",
       "      <td>8.792270</td>\n",
       "      <td>1022</td>\n",
       "      <td>11</td>\n",
       "      <td>https://cf.geekdo-images.com/a13ieMPP2s0KEaKNY...</td>\n",
       "      <td>Spirit Island</td>\n",
       "      <td>2017</td>\n",
       "      <td>https://boardgamegeek.com/boardgame/162886</td>\n",
       "    </tr>\n",
       "    <tr>\n",
       "      <th>4</th>\n",
       "      <td>167355</td>\n",
       "      <td>8.418500</td>\n",
       "      <td>1772</td>\n",
       "      <td>8.850812</td>\n",
       "      <td>677</td>\n",
       "      <td>28</td>\n",
       "      <td>https://cf.geekdo-images.com/tAqLpWxQ0Oo3GaPP3...</td>\n",
       "      <td>Nemesis</td>\n",
       "      <td>2018</td>\n",
       "      <td>https://boardgamegeek.com/boardgame/167355</td>\n",
       "    </tr>\n",
       "  </tbody>\n",
       "</table>\n",
       "</div>"
      ],
      "text/plain": [
       "       id  rating_mean_review  rating_count_review  rating_mean_comments  \\\n",
       "0  115746            8.727459                 1893              8.832006   \n",
       "1  124361            8.183466                 3828              8.877467   \n",
       "2  148228            7.381163                 7294              8.487179   \n",
       "3  162886            8.349107                 3474              8.792270   \n",
       "4  167355            8.418500                 1772              8.850812   \n",
       "\n",
       "   rating_count_comments  rank  \\\n",
       "0                    703    47   \n",
       "1                    821    45   \n",
       "2                   1482    46   \n",
       "3                   1022    11   \n",
       "4                    677    28   \n",
       "\n",
       "                                           thumbnail  \\\n",
       "0  https://cf.geekdo-images.com/ImPgGag98W6gpV1KV...   \n",
       "1  https://cf.geekdo-images.com/CzwSm8i7tkLz6cBnr...   \n",
       "2  https://cf.geekdo-images.com/rwOMxx4q5yuElIvo-...   \n",
       "3  https://cf.geekdo-images.com/a13ieMPP2s0KEaKNY...   \n",
       "4  https://cf.geekdo-images.com/tAqLpWxQ0Oo3GaPP3...   \n",
       "\n",
       "                              name yearpublished  \\\n",
       "0  War of the Ring: Second Edition          2012   \n",
       "1                        Concordia          2013   \n",
       "2                         Splendor          2014   \n",
       "3                    Spirit Island          2017   \n",
       "4                          Nemesis          2018   \n",
       "\n",
       "                                          url  \n",
       "0  https://boardgamegeek.com/boardgame/115746  \n",
       "1  https://boardgamegeek.com/boardgame/124361  \n",
       "2  https://boardgamegeek.com/boardgame/148228  \n",
       "3  https://boardgamegeek.com/boardgame/162886  \n",
       "4  https://boardgamegeek.com/boardgame/167355  "
      ]
     },
     "execution_count": 56,
     "metadata": {},
     "output_type": "execute_result"
    }
   ],
   "source": [
    "grouped.head()"
   ]
  },
  {
   "cell_type": "code",
   "execution_count": 57,
   "metadata": {},
   "outputs": [],
   "source": [
    "grouped['fixed_rating'] = (grouped['rating_mean_review']*grouped['rating_count_review']+grouped['rating_mean_comments']*grouped['rating_count_comments']) / (grouped['rating_count_review']+grouped['rating_count_comments'])"
   ]
  },
  {
   "cell_type": "code",
   "execution_count": 58,
   "metadata": {},
   "outputs": [
    {
     "data": {
      "text/html": [
       "<div>\n",
       "<style scoped>\n",
       "    .dataframe tbody tr th:only-of-type {\n",
       "        vertical-align: middle;\n",
       "    }\n",
       "\n",
       "    .dataframe tbody tr th {\n",
       "        vertical-align: top;\n",
       "    }\n",
       "\n",
       "    .dataframe thead th {\n",
       "        text-align: right;\n",
       "    }\n",
       "</style>\n",
       "<table border=\"1\" class=\"dataframe\">\n",
       "  <thead>\n",
       "    <tr style=\"text-align: right;\">\n",
       "      <th></th>\n",
       "      <th>id</th>\n",
       "      <th>rating_mean_review</th>\n",
       "      <th>rating_count_review</th>\n",
       "      <th>rating_mean_comments</th>\n",
       "      <th>rating_count_comments</th>\n",
       "      <th>rank</th>\n",
       "      <th>thumbnail</th>\n",
       "      <th>name</th>\n",
       "      <th>yearpublished</th>\n",
       "      <th>url</th>\n",
       "      <th>fixed_rating</th>\n",
       "    </tr>\n",
       "  </thead>\n",
       "  <tbody>\n",
       "    <tr>\n",
       "      <th>0</th>\n",
       "      <td>115746</td>\n",
       "      <td>8.727459</td>\n",
       "      <td>1893</td>\n",
       "      <td>8.832006</td>\n",
       "      <td>703</td>\n",
       "      <td>47</td>\n",
       "      <td>https://cf.geekdo-images.com/ImPgGag98W6gpV1KV...</td>\n",
       "      <td>War of the Ring: Second Edition</td>\n",
       "      <td>2012</td>\n",
       "      <td>https://boardgamegeek.com/boardgame/115746</td>\n",
       "      <td>8.755770</td>\n",
       "    </tr>\n",
       "    <tr>\n",
       "      <th>1</th>\n",
       "      <td>124361</td>\n",
       "      <td>8.183466</td>\n",
       "      <td>3828</td>\n",
       "      <td>8.877467</td>\n",
       "      <td>821</td>\n",
       "      <td>45</td>\n",
       "      <td>https://cf.geekdo-images.com/CzwSm8i7tkLz6cBnr...</td>\n",
       "      <td>Concordia</td>\n",
       "      <td>2013</td>\n",
       "      <td>https://boardgamegeek.com/boardgame/124361</td>\n",
       "      <td>8.306025</td>\n",
       "    </tr>\n",
       "    <tr>\n",
       "      <th>2</th>\n",
       "      <td>148228</td>\n",
       "      <td>7.381163</td>\n",
       "      <td>7294</td>\n",
       "      <td>8.487179</td>\n",
       "      <td>1482</td>\n",
       "      <td>46</td>\n",
       "      <td>https://cf.geekdo-images.com/rwOMxx4q5yuElIvo-...</td>\n",
       "      <td>Splendor</td>\n",
       "      <td>2014</td>\n",
       "      <td>https://boardgamegeek.com/boardgame/148228</td>\n",
       "      <td>7.567936</td>\n",
       "    </tr>\n",
       "    <tr>\n",
       "      <th>3</th>\n",
       "      <td>162886</td>\n",
       "      <td>8.349107</td>\n",
       "      <td>3474</td>\n",
       "      <td>8.792270</td>\n",
       "      <td>1022</td>\n",
       "      <td>11</td>\n",
       "      <td>https://cf.geekdo-images.com/a13ieMPP2s0KEaKNY...</td>\n",
       "      <td>Spirit Island</td>\n",
       "      <td>2017</td>\n",
       "      <td>https://boardgamegeek.com/boardgame/162886</td>\n",
       "      <td>8.449844</td>\n",
       "    </tr>\n",
       "    <tr>\n",
       "      <th>4</th>\n",
       "      <td>167355</td>\n",
       "      <td>8.418500</td>\n",
       "      <td>1772</td>\n",
       "      <td>8.850812</td>\n",
       "      <td>677</td>\n",
       "      <td>28</td>\n",
       "      <td>https://cf.geekdo-images.com/tAqLpWxQ0Oo3GaPP3...</td>\n",
       "      <td>Nemesis</td>\n",
       "      <td>2018</td>\n",
       "      <td>https://boardgamegeek.com/boardgame/167355</td>\n",
       "      <td>8.538008</td>\n",
       "    </tr>\n",
       "  </tbody>\n",
       "</table>\n",
       "</div>"
      ],
      "text/plain": [
       "       id  rating_mean_review  rating_count_review  rating_mean_comments  \\\n",
       "0  115746            8.727459                 1893              8.832006   \n",
       "1  124361            8.183466                 3828              8.877467   \n",
       "2  148228            7.381163                 7294              8.487179   \n",
       "3  162886            8.349107                 3474              8.792270   \n",
       "4  167355            8.418500                 1772              8.850812   \n",
       "\n",
       "   rating_count_comments  rank  \\\n",
       "0                    703    47   \n",
       "1                    821    45   \n",
       "2                   1482    46   \n",
       "3                   1022    11   \n",
       "4                    677    28   \n",
       "\n",
       "                                           thumbnail  \\\n",
       "0  https://cf.geekdo-images.com/ImPgGag98W6gpV1KV...   \n",
       "1  https://cf.geekdo-images.com/CzwSm8i7tkLz6cBnr...   \n",
       "2  https://cf.geekdo-images.com/rwOMxx4q5yuElIvo-...   \n",
       "3  https://cf.geekdo-images.com/a13ieMPP2s0KEaKNY...   \n",
       "4  https://cf.geekdo-images.com/tAqLpWxQ0Oo3GaPP3...   \n",
       "\n",
       "                              name yearpublished  \\\n",
       "0  War of the Ring: Second Edition          2012   \n",
       "1                        Concordia          2013   \n",
       "2                         Splendor          2014   \n",
       "3                    Spirit Island          2017   \n",
       "4                          Nemesis          2018   \n",
       "\n",
       "                                          url  fixed_rating  \n",
       "0  https://boardgamegeek.com/boardgame/115746      8.755770  \n",
       "1  https://boardgamegeek.com/boardgame/124361      8.306025  \n",
       "2  https://boardgamegeek.com/boardgame/148228      7.567936  \n",
       "3  https://boardgamegeek.com/boardgame/162886      8.449844  \n",
       "4  https://boardgamegeek.com/boardgame/167355      8.538008  "
      ]
     },
     "execution_count": 58,
     "metadata": {},
     "output_type": "execute_result"
    }
   ],
   "source": [
    "grouped.head()"
   ]
  },
  {
   "cell_type": "code",
   "execution_count": 59,
   "metadata": {},
   "outputs": [],
   "source": [
    "grouped = grouped[['thumbnail', 'name', 'rating_mean_review', 'rating_mean_comments', 'fixed_rating', 'rank', 'yearpublished', 'url']]"
   ]
  },
  {
   "cell_type": "code",
   "execution_count": 60,
   "metadata": {},
   "outputs": [],
   "source": [
    "def path_to_image_html(path):\n",
    "    return f'<img src=\"{path}\" width=\"124\" />'\n",
    "\n",
    "def path_to_url_html(url):\n",
    "    return f'<a href=\"{url}\">link</a>'"
   ]
  },
  {
   "cell_type": "code",
   "execution_count": 61,
   "metadata": {},
   "outputs": [
    {
     "data": {
      "text/html": [
       "<table border=\"1\" class=\"dataframe\">\n",
       "  <thead>\n",
       "    <tr style=\"text-align: right;\">\n",
       "      <th></th>\n",
       "      <th>thumbnail</th>\n",
       "      <th>name</th>\n",
       "      <th>rating_mean_review</th>\n",
       "      <th>rating_mean_comments</th>\n",
       "      <th>fixed_rating</th>\n",
       "      <th>rank</th>\n",
       "      <th>yearpublished</th>\n",
       "      <th>url</th>\n",
       "    </tr>\n",
       "  </thead>\n",
       "  <tbody>\n",
       "    <tr>\n",
       "      <th>46</th>\n",
       "      <td><img src=\"https://cf.geekdo-images.com/N0hCcxXw8d7vUjKfsYO6vg__thumb/img/K4DDlRzl6qlQf9L_oMLb7g9WUYo=/fit-in/200x150/filters:strip_icc()/pic6121929.png\" width=\"124\" /></td>\n",
       "      <td>My Father's Work</td>\n",
       "      <td>6.125000</td>\n",
       "      <td>9.250000</td>\n",
       "      <td>8.654762</td>\n",
       "      <td>1</td>\n",
       "      <td>2021</td>\n",
       "      <td><a href=\"https://boardgamegeek.com/boardgame/328866\">link</a></td>\n",
       "    </tr>\n",
       "    <tr>\n",
       "      <th>44</th>\n",
       "      <td><img src=\"https://cf.geekdo-images.com/eUiju5SqZbkNt8gnEofrTw__thumb/img/zNkmLNyeXJGOY24FeAAf4U67ejU=/fit-in/200x150/filters:strip_icc()/pic6035127.png\" width=\"124\" /></td>\n",
       "      <td>Stationfall</td>\n",
       "      <td>9.500000</td>\n",
       "      <td>9.050000</td>\n",
       "      <td>9.275000</td>\n",
       "      <td>2</td>\n",
       "      <td>2021</td>\n",
       "      <td><a href=\"https://boardgamegeek.com/boardgame/316624\">link</a></td>\n",
       "    </tr>\n",
       "    <tr>\n",
       "      <th>41</th>\n",
       "      <td><img src=\"https://cf.geekdo-images.com/6GqH14TJJhza86BX5HCLEQ__thumb/img/J8SVmGOJXZGxNjkT3xYNQU7Haxg=/fit-in/200x150/filters:strip_icc()/pic5674958.jpg\" width=\"124\" /></td>\n",
       "      <td>Lost Ruins of Arnak</td>\n",
       "      <td>7.932996</td>\n",
       "      <td>8.650579</td>\n",
       "      <td>8.145158</td>\n",
       "      <td>3</td>\n",
       "      <td>2020</td>\n",
       "      <td><a href=\"https://boardgamegeek.com/boardgame/312484\">link</a></td>\n",
       "    </tr>\n",
       "    <tr>\n",
       "      <th>43</th>\n",
       "      <td><img src=\"https://cf.geekdo-images.com/PhjygpWSo-0labGrPBMyyg__thumb/img/JGgY-nBmkyB8WRp8vcoBLlNMQ5U=/fit-in/200x150/filters:strip_icc()/pic5666597.jpg\" width=\"124\" /></td>\n",
       "      <td>Dune: Imperium</td>\n",
       "      <td>8.120048</td>\n",
       "      <td>8.867568</td>\n",
       "      <td>8.316438</td>\n",
       "      <td>4</td>\n",
       "      <td>2020</td>\n",
       "      <td><a href=\"https://boardgamegeek.com/boardgame/316554\">link</a></td>\n",
       "    </tr>\n",
       "    <tr>\n",
       "      <th>42</th>\n",
       "      <td><img src=\"https://cf.geekdo-images.com/-KMXyStWyla5jh_BRO803w__thumb/img/3j7TG-J5bxigP1RaTbNnHcHnr6A=/fit-in/200x150/filters:strip_icc()/pic6074555.png\" width=\"124\" /></td>\n",
       "      <td>Vivid Memories</td>\n",
       "      <td>7.666667</td>\n",
       "      <td>7.840000</td>\n",
       "      <td>7.775000</td>\n",
       "      <td>5</td>\n",
       "      <td>2021</td>\n",
       "      <td><a href=\"https://boardgamegeek.com/boardgame/316090\">link</a></td>\n",
       "    </tr>\n",
       "  </tbody>\n",
       "</table>"
      ],
      "text/plain": [
       "<IPython.core.display.HTML object>"
      ]
     },
     "execution_count": 61,
     "metadata": {},
     "output_type": "execute_result"
    }
   ],
   "source": [
    "# TOP 5 RANK\n",
    "HTML(grouped.sort_values('rank').head(5).to_html(escape=False, formatters={'thumbnail': path_to_image_html, 'url': path_to_url_html}))"
   ]
  },
  {
   "cell_type": "code",
   "execution_count": 62,
   "metadata": {},
   "outputs": [
    {
     "data": {
      "text/html": [
       "<table border=\"1\" class=\"dataframe\">\n",
       "  <thead>\n",
       "    <tr style=\"text-align: right;\">\n",
       "      <th></th>\n",
       "      <th>thumbnail</th>\n",
       "      <th>name</th>\n",
       "      <th>rating_mean_review</th>\n",
       "      <th>rating_mean_comments</th>\n",
       "      <th>fixed_rating</th>\n",
       "      <th>rank</th>\n",
       "      <th>yearpublished</th>\n",
       "      <th>url</th>\n",
       "    </tr>\n",
       "  </thead>\n",
       "  <tbody>\n",
       "    <tr>\n",
       "      <th>44</th>\n",
       "      <td><img src=\"https://cf.geekdo-images.com/eUiju5SqZbkNt8gnEofrTw__thumb/img/zNkmLNyeXJGOY24FeAAf4U67ejU=/fit-in/200x150/filters:strip_icc()/pic6035127.png\" width=\"124\" /></td>\n",
       "      <td>Stationfall</td>\n",
       "      <td>9.500000</td>\n",
       "      <td>9.050000</td>\n",
       "      <td>9.275000</td>\n",
       "      <td>2</td>\n",
       "      <td>2021</td>\n",
       "      <td><a href=\"https://boardgamegeek.com/boardgame/316624\">link</a></td>\n",
       "    </tr>\n",
       "    <tr>\n",
       "      <th>48</th>\n",
       "      <td><img src=\"https://cf.geekdo-images.com/a4QfK2JilOgK5BtDgMqpfg__thumb/img/gMUzGCxA6pae7rkt9bZ1tg7s4vw=/fit-in/200x150/filters:strip_icc()/pic6112538.jpg\" width=\"124\" /></td>\n",
       "      <td>Marvel United: X-Men</td>\n",
       "      <td>9.000000</td>\n",
       "      <td>9.335135</td>\n",
       "      <td>9.326316</td>\n",
       "      <td>27</td>\n",
       "      <td>2022</td>\n",
       "      <td><a href=\"https://boardgamegeek.com/boardgame/336382\">link</a></td>\n",
       "    </tr>\n",
       "    <tr>\n",
       "      <th>22</th>\n",
       "      <td><img src=\"https://cf.geekdo-images.com/Oh3kHw6lweg6ru71Q16h2Q__thumb/img/e9XZdQe1ZcPpaq4Gy31OoWBB_V0=/fit-in/200x150/filters:strip_icc()/pic5235277.jpg\" width=\"124\" /></td>\n",
       "      <td>Eclipse: Second Dawn for the Galaxy</td>\n",
       "      <td>8.732016</td>\n",
       "      <td>8.819313</td>\n",
       "      <td>8.762928</td>\n",
       "      <td>37</td>\n",
       "      <td>2020</td>\n",
       "      <td><a href=\"https://boardgamegeek.com/boardgame/246900\">link</a></td>\n",
       "    </tr>\n",
       "    <tr>\n",
       "      <th>0</th>\n",
       "      <td><img src=\"https://cf.geekdo-images.com/ImPgGag98W6gpV1KV812aA__thumb/img/X-lBBdG4uO6LT0y1vXxCN4jdR4M=/fit-in/200x150/filters:strip_icc()/pic1215633.jpg\" width=\"124\" /></td>\n",
       "      <td>War of the Ring: Second Edition</td>\n",
       "      <td>8.727459</td>\n",
       "      <td>8.832006</td>\n",
       "      <td>8.755770</td>\n",
       "      <td>47</td>\n",
       "      <td>2012</td>\n",
       "      <td><a href=\"https://boardgamegeek.com/boardgame/115746\">link</a></td>\n",
       "    </tr>\n",
       "    <tr>\n",
       "      <th>17</th>\n",
       "      <td><img src=\"https://cf.geekdo-images.com/x3zxjr-Vw5iU4yDPg70Jgw__thumb/img/o18rjEemoWaVru9Y2TyPwuIaRfE=/fit-in/200x150/filters:strip_icc()/pic3490053.jpg\" width=\"124\" /></td>\n",
       "      <td>Brass: Birmingham</td>\n",
       "      <td>8.690429</td>\n",
       "      <td>8.718535</td>\n",
       "      <td>8.698474</td>\n",
       "      <td>18</td>\n",
       "      <td>2018</td>\n",
       "      <td><a href=\"https://boardgamegeek.com/boardgame/224517\">link</a></td>\n",
       "    </tr>\n",
       "  </tbody>\n",
       "</table>"
      ],
      "text/plain": [
       "<IPython.core.display.HTML object>"
      ]
     },
     "execution_count": 62,
     "metadata": {},
     "output_type": "execute_result"
    }
   ],
   "source": [
    "# TOP 5 REVIEW RANK\n",
    "HTML(grouped.sort_values('rating_mean_review', ascending=False).head(5).to_html(escape=False, formatters={'thumbnail': path_to_image_html, 'url': path_to_url_html}))"
   ]
  },
  {
   "cell_type": "code",
   "execution_count": 63,
   "metadata": {},
   "outputs": [
    {
     "data": {
      "text/html": [
       "<table border=\"1\" class=\"dataframe\">\n",
       "  <thead>\n",
       "    <tr style=\"text-align: right;\">\n",
       "      <th></th>\n",
       "      <th>thumbnail</th>\n",
       "      <th>name</th>\n",
       "      <th>rating_mean_review</th>\n",
       "      <th>rating_mean_comments</th>\n",
       "      <th>fixed_rating</th>\n",
       "      <th>rank</th>\n",
       "      <th>yearpublished</th>\n",
       "      <th>url</th>\n",
       "    </tr>\n",
       "  </thead>\n",
       "  <tbody>\n",
       "    <tr>\n",
       "      <th>48</th>\n",
       "      <td><img src=\"https://cf.geekdo-images.com/a4QfK2JilOgK5BtDgMqpfg__thumb/img/gMUzGCxA6pae7rkt9bZ1tg7s4vw=/fit-in/200x150/filters:strip_icc()/pic6112538.jpg\" width=\"124\" /></td>\n",
       "      <td>Marvel United: X-Men</td>\n",
       "      <td>9.000000</td>\n",
       "      <td>9.335135</td>\n",
       "      <td>9.326316</td>\n",
       "      <td>27</td>\n",
       "      <td>2022</td>\n",
       "      <td><a href=\"https://boardgamegeek.com/boardgame/336382\">link</a></td>\n",
       "    </tr>\n",
       "    <tr>\n",
       "      <th>44</th>\n",
       "      <td><img src=\"https://cf.geekdo-images.com/eUiju5SqZbkNt8gnEofrTw__thumb/img/zNkmLNyeXJGOY24FeAAf4U67ejU=/fit-in/200x150/filters:strip_icc()/pic6035127.png\" width=\"124\" /></td>\n",
       "      <td>Stationfall</td>\n",
       "      <td>9.500000</td>\n",
       "      <td>9.050000</td>\n",
       "      <td>9.275000</td>\n",
       "      <td>2</td>\n",
       "      <td>2021</td>\n",
       "      <td><a href=\"https://boardgamegeek.com/boardgame/316624\">link</a></td>\n",
       "    </tr>\n",
       "    <tr>\n",
       "      <th>38</th>\n",
       "      <td><img src=\"https://cf.geekdo-images.com/dNXxWWcLHd67zOCz1_DV5g__thumb/img/LKLbu76Lt9XTRsSv1TC66uaSN40=/fit-in/200x150/filters:strip_icc()/pic5415822.png\" width=\"124\" /></td>\n",
       "      <td>Kemet: Blood and Sand</td>\n",
       "      <td>8.687500</td>\n",
       "      <td>9.065922</td>\n",
       "      <td>9.021182</td>\n",
       "      <td>34</td>\n",
       "      <td>2021</td>\n",
       "      <td><a href=\"https://boardgamegeek.com/boardgame/297562\">link</a></td>\n",
       "    </tr>\n",
       "    <tr>\n",
       "      <th>31</th>\n",
       "      <td><img src=\"https://cf.geekdo-images.com/-JD8JLncWYMes9Q6YIgorg__thumb/img/Ce6a64m5DxVae_ZXnAsrgdEnqBQ=/fit-in/200x150/filters:strip_icc()/pic6136538.jpg\" width=\"124\" /></td>\n",
       "      <td>Merchants Cove</td>\n",
       "      <td>8.376667</td>\n",
       "      <td>9.010596</td>\n",
       "      <td>8.905525</td>\n",
       "      <td>8</td>\n",
       "      <td>2021</td>\n",
       "      <td><a href=\"https://boardgamegeek.com/boardgame/277700\">link</a></td>\n",
       "    </tr>\n",
       "    <tr>\n",
       "      <th>22</th>\n",
       "      <td><img src=\"https://cf.geekdo-images.com/Oh3kHw6lweg6ru71Q16h2Q__thumb/img/e9XZdQe1ZcPpaq4Gy31OoWBB_V0=/fit-in/200x150/filters:strip_icc()/pic5235277.jpg\" width=\"124\" /></td>\n",
       "      <td>Eclipse: Second Dawn for the Galaxy</td>\n",
       "      <td>8.732016</td>\n",
       "      <td>8.819313</td>\n",
       "      <td>8.762928</td>\n",
       "      <td>37</td>\n",
       "      <td>2020</td>\n",
       "      <td><a href=\"https://boardgamegeek.com/boardgame/246900\">link</a></td>\n",
       "    </tr>\n",
       "  </tbody>\n",
       "</table>"
      ],
      "text/plain": [
       "<IPython.core.display.HTML object>"
      ]
     },
     "execution_count": 63,
     "metadata": {},
     "output_type": "execute_result"
    }
   ],
   "source": [
    "# TOP 5 FIXED RANK\n",
    "HTML(grouped.sort_values('fixed_rating', ascending=False).head(5).to_html(escape=False, formatters={'thumbnail': path_to_image_html, 'url': path_to_url_html}))"
   ]
  },
  {
   "cell_type": "code",
   "execution_count": 64,
   "metadata": {},
   "outputs": [],
   "source": [
    "# model.save('saved_model\\my_model')"
   ]
  },
  {
   "cell_type": "code",
   "execution_count": 65,
   "metadata": {},
   "outputs": [],
   "source": [
    "# saved_model = tf.keras.models.load_model('saved_model\\my_model')"
   ]
  },
  {
   "cell_type": "code",
   "execution_count": 66,
   "metadata": {},
   "outputs": [],
   "source": [
    "# some examples on \"long\" comments vs short comments"
   ]
  },
  {
   "cell_type": "code",
   "execution_count": 67,
   "metadata": {},
   "outputs": [],
   "source": [
    "not_rated_comments['comment_len'] = not_rated_comments['value'].str.len()"
   ]
  },
  {
   "cell_type": "code",
   "execution_count": 68,
   "metadata": {},
   "outputs": [
    {
     "name": "stdout",
     "output_type": "stream",
     "text": [
      "input:\n",
      "\"Tried playing once, was way too complicated and fiddly for us. Also realized I'm not a huge fan of co-ops. The card powers were cool though.\"\n",
      "score: 0.000000\n",
      "\n",
      "input:\n",
      "\"Estimated Release Date is Feb 28th, 2021  https://www.cardhaus.com/account.php?action=view_order&order_id=94352\"\n",
      "score: 1.000000\n",
      "\n",
      "input:\n",
      "\"El pelotazo de 2017. A ver si veo en Youtube cómo es y me hago una idea. Creo que para mis habituales no encaja, así que tiene pinta de que nada...\"\n",
      "score: 0.065955\n",
      "\n",
      "input:\n",
      "\"Watched Rahdo's runthrough, looks like fun. In a way a more accessible and simpler version of Terraforming Mars with drafting and engine building over only 4 rounds. Also like the art / table presence. Definitely want to play, cool stuff!\"\n",
      "score: 0.924304\n",
      "\n",
      "input:\n",
      "\"Backer # 1267 on Kickstarter 4/27/2021 Funded May 14 2021 Pledge level: New Generation $99 Anticipated delivery date Feburary 2022\"\n",
      "score: 1.000000\n",
      "\n",
      "input:\n",
      "\"Kickstarted: Core Box Pledge Medic Character Pack Alien Kings set  Space Cats collection Carnomorph Expansion Terrain Expansion Dice Tower 2019 Promo Pack Nemesis - Blood Test Deck\"\n",
      "score: 1.000000\n",
      "\n",
      "input:\n",
      "\"ak som sa v tomto roku na niečo veľmi tešil, tak táto česká edícia hry Wingspan rozhodne patrila medzi to...  (čo ma mrzí, že niečo podobné nemáme i v slovenskom jazyku)\"\n",
      "score: 1.000000\n",
      "\n",
      "input:\n",
      "\"+ RPG +a lot of dices!!! SKILLS + quality : chips, holders, board holders +4x super different characters  -long 3h per combat\"\n",
      "score: 0.999949\n",
      "\n",
      "input:\n",
      "\"Tried to figure out the rules a few times.  Highly rated elsewhere but really, everything you do, every dice you pick up, just adds more rules. \"\n",
      "score: 0.061587\n",
      "\n",
      "input:\n",
      "\"Cull candidate:   Need to try first. Did not care for regular 7Wds.   Might want to try it with one of the expansions.\"\n",
      "score: 0.999710\n",
      "\n",
      "input:\n",
      "\"wachten met kopen totdat fenris uit is. geen campaign, engine builder game, uniek, uses automa deck for opponents, 90-115min\"\n",
      "score: 1.000000\n",
      "\n",
      "input:\n",
      "\"This massive beast sits in its shipping box in my room, teasing me, begging me to explore it. I will get there. Just calm your farm, Gloomhaven!\"\n",
      "score: 1.000000\n",
      "\n",
      "input:\n",
      "\"Lighter deckbuilding than LotR. Looks good, but I'll want to see expansions. Second choice for major purchase\"\n",
      "score: 1.000000\n",
      "\n",
      "input:\n",
      "\"Players: 2-5 Time: 90-120 Min Category: Ancient Fighting Miniatures Mythology  Mechanisms: Action Points Area Majority / Influence Area Movement Card Drafting Hand Management\"\n",
      "score: 0.999564\n",
      "\n",
      "input:\n",
      "\"Need more plays to rate, game just seemed a bit dull. Nothing really exciting or frustrating. Event cards were just choosing 1 of 2 resource bonuses.  Interesting scoring concept (1 stat determines the multiplier for all of your other stats). End game seems anti climactic though.\"\n",
      "score: 0.077038\n",
      "\n",
      "input:\n",
      "\"Connections Hand Management Income Loans Market Network and Route Building Tech Trees / Tech Tracks Turn Order: Stat-Based Variable Setup\"\n",
      "score: 1.000000\n",
      "\n",
      "input:\n",
      "\"Expansions: [thing=241386][/thing] [thing=272637][/thing] [thing=272638][/thing] [thing=287220][/thing]\"\n",
      "score: 0.892003\n",
      "\n",
      "input:\n",
      "\"Shelf 7 D - Includes Prelude Hellas & Elysium, Venus Next, Colonies and Turmoil Expansions in a separate box.\"\n",
      "score: 1.000000\n",
      "\n",
      "input:\n",
      "\"154:45x70, 88:65x90 Metal coins, insert niet echt nodig eigenlijk. Insert: https://www.etsy.com/nl/listing/575340431/wijnbouw-essential-edition-2 https://www.foldedspace.net/store/viticulture/\"\n",
      "score: 1.000000\n",
      "\n",
      "input:\n",
      "\"Kickstarter May 2020: - Nugget - Ghillie - Gasket - Age of Tyranny - 40 Days in Daelore - Adventure Maps 2.0 - Companions\"\n",
      "score: 1.000000\n",
      "\n",
      "input:\n",
      "\"This game is soooo close to the perfect war game except the fact that you have no control over if you get to win.... The only way to win is to not attract the attention of the other players. If they notice you, they will gang up and beat you, end of story. \"\n",
      "score: 0.999780\n",
      "\n",
      "input:\n",
      "\"Also own [thing=264019]Wolfgang's Exchange Office[/thing].  Sleeved - Mayday Standard American Premium 56x87mm\"\n",
      "score: 1.000000\n",
      "\n",
      "input:\n",
      "\"2.7? Pre-ordered from Zatu. Q4 release expected. Sold. I felt that while it was a pretty package that it wasn't bringing a great deal new to the genre.\"\n",
      "score: 1.000000\n",
      "\n",
      "input:\n",
      "\"12/3/2020 BGG Secret Santa comes through early this year. Looking forward to learning the #1 solo game according to the BGG community.\"\n",
      "score: 1.000000\n",
      "\n",
      "input:\n",
      "\"Deck building: interested. Cute art and unique board: intrigued. Likelihood of playing with my group: high. Likelihood of playing with my family: low. So probably a pipe dream for now. :/\"\n",
      "score: 0.999479\n"
     ]
    }
   ],
   "source": [
    "# some long comments\n",
    "some_long_comments = not_rated_comments.query(\"comment_len>100 and comment_len<300\").sample(frac=1)\n",
    "results = tf.sigmoid(model.predict(tf.constant(list(some_long_comments.value))))\n",
    "print_my_examples(list(some_long_comments.value), results, limit=25)"
   ]
  },
  {
   "cell_type": "code",
   "execution_count": null,
   "metadata": {},
   "outputs": [],
   "source": []
  }
 ],
 "metadata": {
  "kernelspec": {
   "display_name": "tensorflow",
   "language": "python",
   "name": "tensorflow"
  },
  "language_info": {
   "codemirror_mode": {
    "name": "ipython",
    "version": 3
   },
   "file_extension": ".py",
   "mimetype": "text/x-python",
   "name": "python",
   "nbconvert_exporter": "python",
   "pygments_lexer": "ipython3",
   "version": "3.7.3"
  }
 },
 "nbformat": 4,
 "nbformat_minor": 4
}
